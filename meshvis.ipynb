{
 "cells": [
  {
   "cell_type": "code",
   "execution_count": 32,
   "id": "e58fbad9-88c9-410f-9328-ce0aa9a5c13d",
   "metadata": {},
   "outputs": [],
   "source": [
    "import meshplot as mp\n",
    "import igl"
   ]
  },
  {
   "cell_type": "code",
   "execution_count": 40,
   "id": "9cfa4c65-000f-49e1-bb9b-74cd551f4253",
   "metadata": {},
   "outputs": [
    {
     "name": "stdout",
     "output_type": "stream",
     "text": [
      "model: data/meshes/radiator.stl\n"
     ]
    },
    {
     "data": {
      "application/vnd.jupyter.widget-view+json": {
       "model_id": "33e21c3b6484410b9d85ce266d64f35b",
       "version_major": 2,
       "version_minor": 0
      },
      "text/plain": [
       "Renderer(camera=PerspectiveCamera(children=(DirectionalLight(color='white', intensity=0.6, position=(0.2418379…"
      ]
     },
     "metadata": {},
     "output_type": "display_data"
    },
    {
     "name": "stdout",
     "output_type": "stream",
     "text": [
      "model: data/meshes/radiator.stl\n"
     ]
    },
    {
     "data": {
      "application/vnd.jupyter.widget-view+json": {
       "model_id": "8996c35b2edf49738a778ffbf3675d6c",
       "version_major": 2,
       "version_minor": 0
      },
      "text/plain": [
       "Renderer(camera=PerspectiveCamera(children=(DirectionalLight(color='white', intensity=0.6, position=(0.2418379…"
      ]
     },
     "metadata": {},
     "output_type": "display_data"
    }
   ],
   "source": [
    "model_file = 'testlist.txt'\n",
    "shading = {\"flat\":True, # Flat or smooth shading of triangles\n",
    "           \"wireframe\":True, \"wire_width\": 0.03, \"wire_color\": \"black\", # Wireframe rendering\n",
    "           \"width\": 400, \"height\": 400, # Size of the viewer canvas\n",
    "           \"antialias\": True, # Antialising, might not work on all GPUs\n",
    "           \"scale\": 2.0, # Scaling of the model\n",
    "           \"side\": \"DoubleSide\", # FrontSide, BackSide or DoubleSide rendering of the triangles\n",
    "           \"colormap\": \"viridis\", \"normalize\": [None, None], # Colormap and normalization for colors\n",
    "           \"background\": \"#ffffff\", # Background color of the canvas\n",
    "           \"line_width\": 1.0, \"line_color\": \"black\", # Line properties of overlay lines\n",
    "           \"bbox\": False, # Enable plotting of bounding box\n",
    "           \"point_color\": \"red\", \"point_size\": 0.01 # Point properties of overlay points\n",
    "          }\n",
    "with open(model_file,'r') as f:\n",
    "    model_list = [l.rstrip() for l in f.readlines()]\n",
    "\n",
    "for model in model_list:\n",
    "    V, F = igl.read_triangle_mesh(model)\n",
    "    print(f'model: {model}')\n",
    "    mp.plot(V, F, shading=shading)"
   ]
  },
  {
   "cell_type": "code",
   "execution_count": null,
   "id": "8ccd07a1-e0ca-435f-b55d-d89f067d340e",
   "metadata": {},
   "outputs": [],
   "source": []
  }
 ],
 "metadata": {
  "kernelspec": {
   "display_name": "Python 3 (ipykernel)",
   "language": "python",
   "name": "python3"
  },
  "language_info": {
   "codemirror_mode": {
    "name": "ipython",
    "version": 3
   },
   "file_extension": ".py",
   "mimetype": "text/x-python",
   "name": "python",
   "nbconvert_exporter": "python",
   "pygments_lexer": "ipython3",
   "version": "3.9.6"
  }
 },
 "nbformat": 4,
 "nbformat_minor": 5
}
