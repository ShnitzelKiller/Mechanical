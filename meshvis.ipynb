{
 "cells": [
  {
   "cell_type": "code",
   "execution_count": 11,
   "id": "e58fbad9-88c9-410f-9328-ce0aa9a5c13d",
   "metadata": {},
   "outputs": [],
   "source": [
    "import meshplot as mp\n",
    "import igl\n",
    "from stl import mesh"
   ]
  },
  {
   "cell_type": "code",
   "execution_count": 30,
   "id": "9cfa4c65-000f-49e1-bb9b-74cd551f4253",
   "metadata": {},
   "outputs": [
    {
     "data": {
      "application/vnd.jupyter.widget-view+json": {
       "model_id": "5cfd6eabadfb48bf84efc6e3f9d0aa52",
       "version_major": 2,
       "version_minor": 0
      },
      "text/plain": [
       "Renderer(camera=PerspectiveCamera(children=(DirectionalLight(color='white', intensity=0.6, position=(0.2418379…"
      ]
     },
     "metadata": {},
     "output_type": "display_data"
    },
    {
     "data": {
      "application/vnd.jupyter.widget-view+json": {
       "model_id": "5dc9676de2174b57aa86cb9a33fce2a4",
       "version_major": 2,
       "version_minor": 0
      },
      "text/plain": [
       "Renderer(camera=PerspectiveCamera(children=(DirectionalLight(color='white', intensity=0.6, position=(0.2418379…"
      ]
     },
     "metadata": {},
     "output_type": "display_data"
    }
   ],
   "source": [
    "model_file = 'testlist.txt'\n",
    "with open(model_file,'r') as f:\n",
    "    model_list = [l.rstrip() for l in f.readlines()]\n",
    "\n",
    "for model in model_list:\n",
    "    V, F = igl.read_triangle_mesh(model)\n",
    "    mp.plot(V, F)"
   ]
  },
  {
   "cell_type": "code",
   "execution_count": null,
   "id": "8ccd07a1-e0ca-435f-b55d-d89f067d340e",
   "metadata": {},
   "outputs": [],
   "source": []
  }
 ],
 "metadata": {
  "kernelspec": {
   "display_name": "Python 3 (ipykernel)",
   "language": "python",
   "name": "python3"
  },
  "language_info": {
   "codemirror_mode": {
    "name": "ipython",
    "version": 3
   },
   "file_extension": ".py",
   "mimetype": "text/x-python",
   "name": "python",
   "nbconvert_exporter": "python",
   "pygments_lexer": "ipython3",
   "version": "3.9.6"
  }
 },
 "nbformat": 4,
 "nbformat_minor": 5
}
