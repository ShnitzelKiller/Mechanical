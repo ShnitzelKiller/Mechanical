{
 "cells": [
  {
   "cell_type": "code",
   "execution_count": 1,
   "id": "cc9bd16a-213c-45d5-a12d-385991ca4b56",
   "metadata": {},
   "outputs": [],
   "source": [
    "from automate import part_to_graph, PartFeatures, HetData\n",
    "from torch_geometric.data import Batch\n",
    "import torch\n",
    "import os\n",
    "import h5py\n",
    "import pspy\n",
    "import pandas as ps"
   ]
  },
  {
   "cell_type": "code",
   "execution_count": 15,
   "id": "4604d2fe-ae59-4683-ab2b-eee245e6349f",
   "metadata": {},
   "outputs": [],
   "source": [
    "opts = pspy.PartOptions()"
   ]
  },
  {
   "cell_type": "code",
   "execution_count": 50,
   "id": "7bf31c3e-9617-4bb0-898c-e626550e2193",
   "metadata": {},
   "outputs": [
    {
     "data": {
      "text/plain": [
       "['__class__',\n",
       " '__delattr__',\n",
       " '__dir__',\n",
       " '__doc__',\n",
       " '__eq__',\n",
       " '__format__',\n",
       " '__ge__',\n",
       " '__getattribute__',\n",
       " '__gt__',\n",
       " '__hash__',\n",
       " '__init__',\n",
       " '__init_subclass__',\n",
       " '__le__',\n",
       " '__lt__',\n",
       " '__module__',\n",
       " '__ne__',\n",
       " '__new__',\n",
       " '__reduce__',\n",
       " '__reduce_ex__',\n",
       " '__repr__',\n",
       " '__setattr__',\n",
       " '__sizeof__',\n",
       " '__str__',\n",
       " '__subclasshook__',\n",
       " 'collect_inferences',\n",
       " 'default_mcfs',\n",
       " 'default_mcfs_only_face_axes',\n",
       " 'just_bb',\n",
       " 'normalize',\n",
       " 'num_uv_samples',\n",
       " 'onshape_style',\n",
       " 'sample_normals',\n",
       " 'sample_tangents',\n",
       " 'tesselate',\n",
       " 'transform',\n",
       " 'transform_matrix']"
      ]
     },
     "execution_count": 50,
     "metadata": {},
     "output_type": "execute_result"
    }
   ],
   "source": [
    "dir(opts)"
   ]
  },
  {
   "cell_type": "code",
   "execution_count": 51,
   "id": "5db203ab-bd53-493c-bd32-641bd133ed34",
   "metadata": {},
   "outputs": [
    {
     "data": {
      "text/plain": [
       "10"
      ]
     },
     "execution_count": 51,
     "metadata": {},
     "output_type": "execute_result"
    }
   ],
   "source": [
    "opts.num_uv_samples"
   ]
  },
  {
   "cell_type": "code",
   "execution_count": 53,
   "id": "08bed4cb-11ab-49cc-8293-ad59079d7bd6",
   "metadata": {},
   "outputs": [
    {
     "data": {
      "text/plain": [
       "False"
      ]
     },
     "execution_count": 53,
     "metadata": {},
     "output_type": "execute_result"
    }
   ],
   "source": [
    "opts.normalize"
   ]
  },
  {
   "cell_type": "code",
   "execution_count": 54,
   "id": "c314ad2c-8138-4086-bd6e-cb23b97380ce",
   "metadata": {},
   "outputs": [
    {
     "data": {
      "text/plain": [
       "True"
      ]
     },
     "execution_count": 54,
     "metadata": {},
     "output_type": "execute_result"
    }
   ],
   "source": [
    "opts.tesselate"
   ]
  },
  {
   "cell_type": "code",
   "execution_count": 55,
   "id": "01d1da9b-19de-4a41-a3b7-55192ccf4be1",
   "metadata": {},
   "outputs": [
    {
     "data": {
      "text/plain": [
       "True"
      ]
     },
     "execution_count": 55,
     "metadata": {},
     "output_type": "execute_result"
    }
   ],
   "source": [
    "opts.onshape_style"
   ]
  },
  {
   "cell_type": "code",
   "execution_count": 56,
   "id": "22a06114-e92e-4a0d-8fcd-097e067bdbbc",
   "metadata": {},
   "outputs": [
    {
     "data": {
      "text/plain": [
       "False"
      ]
     },
     "execution_count": 56,
     "metadata": {},
     "output_type": "execute_result"
    }
   ],
   "source": [
    "opts.transform"
   ]
  },
  {
   "cell_type": "code",
   "execution_count": 57,
   "id": "5e483b54-9aef-4331-bf2d-d0e2636773dc",
   "metadata": {},
   "outputs": [
    {
     "data": {
      "text/plain": [
       "array([[0., 0., 0., 0.],\n",
       "       [0., 0., 0., 0.],\n",
       "       [0., 0., 0., 0.],\n",
       "       [0., 0., 0., 0.]])"
      ]
     },
     "execution_count": 57,
     "metadata": {},
     "output_type": "execute_result"
    }
   ],
   "source": [
    "opts.transform_matrix"
   ]
  },
  {
   "cell_type": "code",
   "execution_count": 16,
   "id": "2b3f1947-8889-4ef2-b849-a52e38b8fb22",
   "metadata": {},
   "outputs": [],
   "source": [
    "path = '/projects/grail/benjones/cadlab/data/models/b6c979cf4e6660ff81e5a9c2/67d2f776871477086fbc37c5/1520c99d5029db1cafd9d6e5/default/JHD.xt'\n",
    "#path = '/projects/grail/benjones/cadlab/data/models/d8a598174bcbceaf7e2194e5/a54ba742eaa71cdd4dcefbaa/30babe4fe88353db54749ddc/default/JdD.xt'"
   ]
  },
  {
   "cell_type": "code",
   "execution_count": 17,
   "id": "505e390c-0735-4ffa-a742-11fdc9211764",
   "metadata": {},
   "outputs": [],
   "source": [
    "part = pspy.Part(path, opts)"
   ]
  },
  {
   "cell_type": "code",
   "execution_count": 60,
   "id": "27c3f725-635a-47c0-b048-1c3735468661",
   "metadata": {},
   "outputs": [],
   "source": [
    "opts = PartFeatures()"
   ]
  },
  {
   "cell_type": "code",
   "execution_count": 61,
   "id": "b3dedb25-7dfd-46fc-acc2-0c5bbfd48a92",
   "metadata": {},
   "outputs": [],
   "source": [
    "opts.mcfs=False"
   ]
  },
  {
   "cell_type": "code",
   "execution_count": 62,
   "id": "58374eee-3f08-4f72-bfeb-c376c6ce7f73",
   "metadata": {},
   "outputs": [],
   "source": [
    "pg = part_to_graph(part, opts)"
   ]
  },
  {
   "cell_type": "code",
   "execution_count": 63,
   "id": "0be993e6-ed7a-48bf-be94-7e5a0bfe69d6",
   "metadata": {},
   "outputs": [],
   "source": [
    "datalist = [pg, pg]\n",
    "batch = Batch.from_data_list(datalist)"
   ]
  },
  {
   "cell_type": "code",
   "execution_count": 64,
   "id": "d6a9e17e-c6f6-44b2-822a-e08530f9721c",
   "metadata": {},
   "outputs": [],
   "source": [
    "pg_dict = {key: type((getattr(pg, key))) for key in dir(pg) if not isinstance(getattr(pg, key), torch.Tensor) and not callable(getattr(pg, key))}"
   ]
  },
  {
   "cell_type": "code",
   "execution_count": 65,
   "id": "420ac9e3-b4f6-4b51-959e-0642ebce6aa2",
   "metadata": {},
   "outputs": [],
   "source": [
    "batch_dict = {key: type((getattr(batch, key))) for key in dir(batch) if not isinstance(getattr(batch, key), torch.Tensor) and not callable(getattr(batch, key))}"
   ]
  },
  {
   "cell_type": "code",
   "execution_count": 66,
   "id": "02201f9b-dab2-4e8a-9b9b-e19207a4de43",
   "metadata": {},
   "outputs": [
    {
     "data": {
      "text/plain": [
       "{'__edge_sets__', '__node_sets__', '__num_nodes__'}"
      ]
     },
     "execution_count": 66,
     "metadata": {},
     "output_type": "execute_result"
    }
   ],
   "source": [
    "set(pg_dict.keys()).difference(batch_dict.keys())"
   ]
  },
  {
   "cell_type": "code",
   "execution_count": 67,
   "id": "f892e43f-19c3-4c84-ba92-0e0e792c54ca",
   "metadata": {},
   "outputs": [
    {
     "data": {
      "text/plain": [
       "{'__cat_dims__',\n",
       " '__cumsum__',\n",
       " '__num_graphs__',\n",
       " '__num_nodes_list__',\n",
       " '__slices__',\n",
       " 'num_graphs'}"
      ]
     },
     "execution_count": 67,
     "metadata": {},
     "output_type": "execute_result"
    }
   ],
   "source": [
    "set(batch_dict.keys()).difference(pg_dict.keys())"
   ]
  },
  {
   "cell_type": "code",
   "execution_count": 68,
   "id": "fa6058ac-ef3a-402a-835b-834ba1c0fc2d",
   "metadata": {},
   "outputs": [
    {
     "data": {
      "text/plain": [
       "{'__cat_dims__',\n",
       " '__cumsum__',\n",
       " '__num_graphs__',\n",
       " '__num_nodes_list__',\n",
       " '__slices__',\n",
       " 'batch',\n",
       " 'num_graphs',\n",
       " 'ptr'}"
      ]
     },
     "execution_count": 68,
     "metadata": {},
     "output_type": "execute_result"
    }
   ],
   "source": [
    "set([key for key in dir(batch) if not callable(getattr(batch, key))]).difference(set(dir(pg)))"
   ]
  },
  {
   "cell_type": "code",
   "execution_count": 69,
   "id": "4af79e4a-94a0-4854-bdfc-7a3457939640",
   "metadata": {},
   "outputs": [
    {
     "data": {
      "text/plain": [
       "tensor([  0, 343, 686])"
      ]
     },
     "execution_count": 69,
     "metadata": {},
     "output_type": "execute_result"
    }
   ],
   "source": [
    "batch.ptr"
   ]
  },
  {
   "cell_type": "code",
   "execution_count": 70,
   "id": "f17ab677-986a-4208-b560-5abe44e26074",
   "metadata": {},
   "outputs": [
    {
     "data": {
      "text/plain": [
       "686"
      ]
     },
     "execution_count": 70,
     "metadata": {},
     "output_type": "execute_result"
    }
   ],
   "source": [
    "batch.num_nodes"
   ]
  },
  {
   "cell_type": "code",
   "execution_count": 71,
   "id": "649b9266-0095-43ce-9b8a-9f5fb57d665b",
   "metadata": {},
   "outputs": [
    {
     "data": {
      "text/plain": [
       "343"
      ]
     },
     "execution_count": 71,
     "metadata": {},
     "output_type": "execute_result"
    }
   ],
   "source": [
    "pg.__num_nodes__"
   ]
  },
  {
   "cell_type": "code",
   "execution_count": 72,
   "id": "d9cb1825-c21b-4f4c-8743-e336cfaab882",
   "metadata": {},
   "outputs": [
    {
     "data": {
      "text/plain": [
       "[343, 343]"
      ]
     },
     "execution_count": 72,
     "metadata": {},
     "output_type": "execute_result"
    }
   ],
   "source": [
    "batch.__num_nodes_list__"
   ]
  },
  {
   "cell_type": "code",
   "execution_count": 73,
   "id": "c6d3a06b-9d39-4de5-94dc-8475b9c47dbc",
   "metadata": {},
   "outputs": [
    {
     "data": {
      "text/plain": [
       "tensor([[0, 0, 0, 0, 0, 0, 0, 0, 0, 0, 0, 0, 0, 0, 0, 0, 0, 0, 0, 0, 0, 0, 0, 0,\n",
       "         0, 0, 0, 0, 0, 0, 0, 0, 0, 0, 0, 0, 0, 0, 0, 0, 0, 0, 0, 0, 0, 0, 0, 0,\n",
       "         0, 0, 0, 0, 0, 0, 0, 0, 0, 0, 0, 0, 0, 0, 0, 0, 0, 0, 0, 0, 0, 0, 0, 0,\n",
       "         0, 0, 0, 0, 0, 0, 0, 0, 0, 0, 0, 0, 0, 0, 0, 0, 0, 0, 0, 0, 0, 0, 0, 0,\n",
       "         0, 0, 0, 0, 0, 0, 0, 0, 0, 0, 0, 0, 0, 0, 0, 0, 0, 0, 0, 0, 0, 0, 0, 0,\n",
       "         0, 0, 0, 0, 0, 0, 0, 0, 0, 0, 0, 0, 0, 0, 0, 0, 0, 0, 0, 0, 0, 0, 0, 0,\n",
       "         0, 0, 0, 0, 0, 0, 0, 0, 0, 0, 0, 0, 0, 0, 0, 0, 0, 0, 0, 0, 0, 0, 0, 0,\n",
       "         0, 0, 0, 0, 0, 0, 0, 0, 0, 0, 0, 0, 0, 0, 0, 0, 0, 0, 0, 0, 0, 0, 0, 0,\n",
       "         0, 0, 0, 0, 0, 0, 0, 0, 0, 0, 0, 0, 0, 0, 0, 0, 0, 0, 0, 0, 0, 0, 0, 0,\n",
       "         0, 0, 0, 0, 0, 0, 0, 0, 0, 0, 0, 0, 0, 0, 0, 0, 0, 0, 0, 0, 0, 0, 0, 0,\n",
       "         0, 0, 0, 0, 0, 0, 0, 0, 0, 0, 0, 0, 0, 0, 0, 0, 0, 0, 0, 0, 0, 0, 0, 0,\n",
       "         0, 0, 0, 0, 0, 0, 0, 0, 0, 0, 0, 0, 0, 0, 0, 0, 0, 0, 0, 0, 0, 0, 0, 0,\n",
       "         0, 0, 0, 0, 0, 0, 0, 0, 0, 0, 0, 0, 0, 0, 0, 0, 0, 0, 0, 0, 0, 0, 0, 0,\n",
       "         0, 0, 0, 0, 0, 0, 0, 0, 0, 0, 0, 0, 0, 0, 0, 0, 0, 0, 0, 0, 0, 0, 0, 0,\n",
       "         0, 0, 0, 0, 0, 0, 0, 1, 1, 1, 1, 1, 1, 1, 1, 1, 1, 1, 1, 1, 1, 1, 1, 1,\n",
       "         1, 1, 1, 1, 1, 1, 1, 1, 1, 1, 1, 1, 1, 1, 1, 1, 1, 1, 1, 1, 1, 1, 1, 1,\n",
       "         1, 1, 1, 1, 1, 1, 1, 1, 1, 1, 1, 1, 1, 1, 1, 1, 1, 1, 1, 1, 1, 1, 1, 1,\n",
       "         1, 1, 1, 1, 1, 1, 1, 1, 1, 1, 1, 1, 1, 1, 1, 1, 1, 1, 1, 1, 1, 1, 1, 1,\n",
       "         1, 1, 1, 1, 1, 1, 1, 1, 1, 1, 1, 1, 1, 1, 1, 1, 1, 1, 1, 1, 1, 1, 1, 1,\n",
       "         1, 1, 1, 1, 1, 1, 1, 1, 1, 1, 1, 1, 1, 1, 1, 1, 1, 1, 1, 1, 1, 1, 1, 1,\n",
       "         1, 1, 1, 1, 1, 1, 1, 1, 1, 1, 1, 1, 1, 1, 1, 1, 1, 1, 1, 1, 1, 1, 1, 1,\n",
       "         1, 1, 1, 1, 1, 1, 1, 1, 1, 1, 1, 1, 1, 1, 1, 1, 1, 1, 1, 1, 1, 1, 1, 1,\n",
       "         1, 1, 1, 1, 1, 1, 1, 1, 1, 1, 1, 1, 1, 1, 1, 1, 1, 1, 1, 1, 1, 1, 1, 1,\n",
       "         1, 1, 1, 1, 1, 1, 1, 1, 1, 1, 1, 1, 1, 1, 1, 1, 1, 1, 1, 1, 1, 1, 1, 1,\n",
       "         1, 1, 1, 1, 1, 1, 1, 1, 1, 1, 1, 1, 1, 1, 1, 1, 1, 1, 1, 1, 1, 1, 1, 1,\n",
       "         1, 1, 1, 1, 1, 1, 1, 1, 1, 1, 1, 1, 1, 1, 1, 1, 1, 1, 1, 1, 1, 1, 1, 1,\n",
       "         1, 1, 1, 1, 1, 1, 1, 1, 1, 1, 1, 1, 1, 1, 1, 1, 1, 1, 1, 1, 1, 1, 1, 1,\n",
       "         1, 1, 1, 1, 1, 1, 1, 1, 1, 1, 1, 1, 1, 1, 1, 1, 1, 1, 1, 1, 1, 1, 1, 1,\n",
       "         1, 1, 1, 1, 1, 1, 1, 1, 1, 1, 1, 1, 1, 1]])"
      ]
     },
     "execution_count": 73,
     "metadata": {},
     "output_type": "execute_result"
    }
   ],
   "source": [
    "batch.flat_topos_to_graph_idx"
   ]
  },
  {
   "cell_type": "code",
   "execution_count": 74,
   "id": "f86e40e0-1fac-4eb0-9d31-46af0943c5df",
   "metadata": {},
   "outputs": [],
   "source": [
    "def flatbatch(datalist):\n",
    "    batch = Batch.from_data_list(datalist)\n",
    "    data = HetData()\n",
    "    for key in dir(batch):\n",
    "        if key != 'batch' and key != 'ptr':\n",
    "            val = getattr(batch, key)\n",
    "            if isinstance(val, torch.Tensor):\n",
    "                setattr(data, key, val)\n",
    "    data.__num_nodes__ = batch.num_nodes\n",
    "    data.__edge_sets__ = datalist[0].__edge_sets__\n",
    "    data.__node_sets__ = datalist[0].__node_sets__\n",
    "    data.__edge_sets__['flat_topos_to_graph_idx'] = len(datalist)\n",
    "    return data"
   ]
  },
  {
   "cell_type": "code",
   "execution_count": 75,
   "id": "5d70ecd1-0e52-4a78-a8c9-fc55492ada0c",
   "metadata": {},
   "outputs": [],
   "source": [
    "fbatch = flatbatch(datalist)"
   ]
  },
  {
   "cell_type": "code",
   "execution_count": 76,
   "id": "0e2e2993-1fe1-4ace-adb1-cf4b5dc34c97",
   "metadata": {},
   "outputs": [
    {
     "data": {
      "text/plain": [
       "set()"
      ]
     },
     "execution_count": 76,
     "metadata": {},
     "output_type": "execute_result"
    }
   ],
   "source": [
    "set(fbatch.keys).difference(set(pg.keys))"
   ]
  },
  {
   "cell_type": "code",
   "execution_count": 77,
   "id": "34f7a64f-5968-4213-b182-369287b33a37",
   "metadata": {},
   "outputs": [
    {
     "data": {
      "text/plain": [
       "tensor([[0, 0, 0, 0, 0, 0, 0, 0, 0, 0, 0, 0, 0, 0, 0, 0, 0, 0, 0, 0, 0, 0, 0, 0,\n",
       "         0, 0, 0, 0, 0, 0, 0, 0, 0, 0, 0, 0, 0, 0, 0, 0, 0, 0, 0, 0, 0, 0, 0, 0,\n",
       "         0, 0, 0, 0, 0, 0, 0, 0, 0, 0, 0, 0, 0, 0, 0, 0, 0, 0, 0, 0, 0, 0, 0, 0,\n",
       "         0, 0, 0, 0, 0, 0, 0, 0, 0, 0, 0, 0, 0, 0, 0, 0, 0, 0, 0, 0, 0, 0, 0, 0,\n",
       "         0, 0, 0, 0, 0, 0, 0, 0, 0, 0, 0, 0, 0, 0, 0, 0, 0, 0, 0, 0, 0, 0, 0, 0,\n",
       "         0, 0, 0, 0, 0, 0, 0, 0, 0, 0, 0, 0, 0, 0, 0, 0, 0, 0, 0, 0, 0, 0, 0, 0,\n",
       "         0, 0, 0, 0, 0, 0, 0, 0, 0, 0, 0, 0, 0, 0, 0, 0, 0, 0, 0, 0, 0, 0, 0, 0,\n",
       "         0, 0, 0, 0, 0, 0, 0, 0, 0, 0, 0, 0, 0, 0, 0, 0, 0, 0, 0, 0, 0, 0, 0, 0,\n",
       "         0, 0, 0, 0, 0, 0, 0, 0, 0, 0, 0, 0, 0, 0, 0, 0, 0, 0, 0, 0, 0, 0, 0, 0,\n",
       "         0, 0, 0, 0, 0, 0, 0, 0, 0, 0, 0, 0, 0, 0, 0, 0, 0, 0, 0, 0, 0, 0, 0, 0,\n",
       "         0, 0, 0, 0, 0, 0, 0, 0, 0, 0, 0, 0, 0, 0, 0, 0, 0, 0, 0, 0, 0, 0, 0, 0,\n",
       "         0, 0, 0, 0, 0, 0, 0, 0, 0, 0, 0, 0, 0, 0, 0, 0, 0, 0, 0, 0, 0, 0, 0, 0,\n",
       "         0, 0, 0, 0, 0, 0, 0, 0, 0, 0, 0, 0, 0, 0, 0, 0, 0, 0, 0, 0, 0, 0, 0, 0,\n",
       "         0, 0, 0, 0, 0, 0, 0, 0, 0, 0, 0, 0, 0, 0, 0, 0, 0, 0, 0, 0, 0, 0, 0, 0,\n",
       "         0, 0, 0, 0, 0, 0, 0]])"
      ]
     },
     "execution_count": 77,
     "metadata": {},
     "output_type": "execute_result"
    }
   ],
   "source": [
    "pg.flat_topos_to_graph_idx"
   ]
  },
  {
   "cell_type": "code",
   "execution_count": 78,
   "id": "4e70422a-6116-41b2-940f-7f0826a15986",
   "metadata": {},
   "outputs": [],
   "source": [
    "rebatch = Batch.from_data_list([fbatch, fbatch])"
   ]
  },
  {
   "cell_type": "code",
   "execution_count": 79,
   "id": "4d056b18-2cf7-4869-90ee-c00959c5aaf1",
   "metadata": {},
   "outputs": [
    {
     "data": {
      "text/plain": [
       "tensor([[0, 0, 0,  ..., 3, 3, 3]])"
      ]
     },
     "execution_count": 79,
     "metadata": {},
     "output_type": "execute_result"
    }
   ],
   "source": [
    "rebatch.flat_topos_to_graph_idx"
   ]
  },
  {
   "cell_type": "code",
   "execution_count": 80,
   "id": "497b1545-2d0d-40fe-9a13-e6afa20e7459",
   "metadata": {},
   "outputs": [
    {
     "data": {
      "text/plain": [
       "343"
      ]
     },
     "execution_count": 80,
     "metadata": {},
     "output_type": "execute_result"
    }
   ],
   "source": [
    "len(part.brep.nodes.faces) + len(part.brep.nodes.edges) + len(part.brep.nodes.loops) + len(part.brep.nodes.vertices)"
   ]
  },
  {
   "cell_type": "code",
   "execution_count": 81,
   "id": "972de3a2-8678-4c4f-bea3-e5bb009656c7",
   "metadata": {},
   "outputs": [
    {
     "data": {
      "text/plain": [
       "array([[-0.0085725, -0.016383 , -0.0035   ],\n",
       "       [ 0.0085725,  0.0085725,  0.0012   ]])"
      ]
     },
     "execution_count": 81,
     "metadata": {},
     "output_type": "execute_result"
    }
   ],
   "source": [
    "part.summary.bounding_box"
   ]
  },
  {
   "cell_type": "code",
   "execution_count": 82,
   "id": "8c9ac8cc-c352-4d69-b241-18cc607eb755",
   "metadata": {},
   "outputs": [],
   "source": [
    "import meshplot as mp"
   ]
  },
  {
   "cell_type": "code",
   "execution_count": 83,
   "id": "2a1081d6-b1df-423d-b95a-f902a00db3ee",
   "metadata": {},
   "outputs": [
    {
     "data": {
      "application/vnd.jupyter.widget-view+json": {
       "model_id": "bf7dfd58be8947ba98f975b0b2bf5fb0",
       "version_major": 2,
       "version_minor": 0
      },
      "text/plain": [
       "Renderer(camera=PerspectiveCamera(children=(DirectionalLight(color='white', intensity=0.6, position=(0.0, 0.00…"
      ]
     },
     "metadata": {},
     "output_type": "display_data"
    }
   ],
   "source": [
    "p = mp.plot(part.mesh.V, part.mesh.F)"
   ]
  },
  {
   "cell_type": "code",
   "execution_count": 84,
   "id": "c9ed2ee2-689a-4143-b3c7-bba65bffcd55",
   "metadata": {},
   "outputs": [
    {
     "data": {
      "text/plain": [
       "1"
      ]
     },
     "execution_count": 84,
     "metadata": {},
     "output_type": "execute_result"
    }
   ],
   "source": [
    "p.add_mesh(part.mesh.V + 0.001, part.mesh.F)"
   ]
  },
  {
   "cell_type": "code",
   "execution_count": 85,
   "id": "b582e019-532b-43ab-a289-36c1e66a64b3",
   "metadata": {},
   "outputs": [],
   "source": [
    "import wildmeshing as wm"
   ]
  },
  {
   "cell_type": "code",
   "execution_count": 86,
   "id": "3575a1ed-36d3-4d57-8060-c1e32ea8128a",
   "metadata": {},
   "outputs": [],
   "source": [
    "import igl"
   ]
  },
  {
   "cell_type": "code",
   "execution_count": 87,
   "id": "b276e16a-6bee-4238-865e-7bfb0284092d",
   "metadata": {},
   "outputs": [
    {
     "data": {
      "text/plain": [
       "True"
      ]
     },
     "execution_count": 87,
     "metadata": {},
     "output_type": "execute_result"
    }
   ],
   "source": [
    "igl.write_obj('testobj.obj', part.mesh.V, part.mesh.F)"
   ]
  },
  {
   "cell_type": "code",
   "execution_count": 88,
   "id": "afa5ed26-2c04-45d4-b0a4-dfdb782839e7",
   "metadata": {},
   "outputs": [
    {
     "data": {
      "text/plain": [
       "\u001b[0;31mDocstring:\u001b[0m      Wildmeshing tetrahedralizer\n",
       "\u001b[0;31mInit docstring:\u001b[0m __init__(self: wildmeshing.wildmeshing.Tetrahedralizer, stop_quality: float = 10, max_its: int = 80, stage: int = 2, stop_p: int = -1, epsilon: float = 0.001, edge_length_r: float = 0.05, skip_simplify: bool = False) -> None\n",
       "\u001b[0;31mFile:\u001b[0m           /fast/jamesn8/anaconda3/envs/torch3/lib/python3.9/site-packages/wildmeshing/wildmeshing.cpython-39-x86_64-linux-gnu.so\n",
       "\u001b[0;31mType:\u001b[0m           pybind11_type\n",
       "\u001b[0;31mSubclasses:\u001b[0m     \n"
      ]
     },
     "metadata": {},
     "output_type": "display_data"
    }
   ],
   "source": [
    "?wm.Tetrahedralizer"
   ]
  },
  {
   "cell_type": "code",
   "execution_count": 89,
   "id": "68c91bdb-5f99-4237-8ba4-417715395bf0",
   "metadata": {},
   "outputs": [
    {
     "name": "stdout",
     "output_type": "stream",
     "text": [
      "TBB threads 32\n"
     ]
    }
   ],
   "source": [
    "tet = wm.Tetrahedralizer()"
   ]
  },
  {
   "cell_type": "code",
   "execution_count": 90,
   "id": "d0bea3b0-4d41-4b7c-b8d5-8b2ae7a3677e",
   "metadata": {},
   "outputs": [
    {
     "data": {
      "text/plain": [
       "\u001b[0;31mDocstring:\u001b[0m\n",
       "set_mesh(self: wildmeshing.wildmeshing.Tetrahedralizer, V: numpy.ndarray[float64[m, n]], F: numpy.ndarray[int32[m, n]]) -> None\n",
       "\n",
       "sets a mesh\n",
       "\u001b[0;31mType:\u001b[0m      method\n"
      ]
     },
     "metadata": {},
     "output_type": "display_data"
    }
   ],
   "source": [
    "?tet.set_mesh"
   ]
  },
  {
   "cell_type": "code",
   "execution_count": 91,
   "id": "7f763c82-152a-47bc-bf4c-379b430ffc5c",
   "metadata": {},
   "outputs": [
    {
     "name": "stdout",
     "output_type": "stream",
     "text": [
      "bbox_diag_length = 3.77454\n",
      "ideal_edge_length = 0.188727\n",
      "stage = 2\n",
      "eps_input = 0.00377454\n",
      "eps = 0.00208955\n",
      "eps_simplification = 0.00167164\n",
      "eps_coplanar = 3.77454e-06\n",
      "dd = 0.00251636\n",
      "dd_simplification = 0.00201309\n"
     ]
    }
   ],
   "source": [
    "tet.set_mesh(part.mesh.V * 100, part.mesh.F)"
   ]
  },
  {
   "cell_type": "code",
   "execution_count": null,
   "id": "7b2916fc-d57a-4d58-a674-1c982fcb15bf",
   "metadata": {},
   "outputs": [],
   "source": [
    "V, T = tet.get_tet_mesh()"
   ]
  },
  {
   "cell_type": "code",
   "execution_count": null,
   "id": "2251d5c4-9ddd-40f1-9a1d-e46c1361fce0",
   "metadata": {},
   "outputs": [],
   "source": []
  },
  {
   "cell_type": "code",
   "execution_count": 68,
   "id": "895bdbff-4a5f-429e-b97c-a07cc1733fbb",
   "metadata": {},
   "outputs": [
    {
     "data": {
      "text/plain": [
       "array([0.0075725, 0.01524  , 0.       ])"
      ]
     },
     "execution_count": 68,
     "metadata": {},
     "output_type": "execute_result"
    }
   ],
   "source": [
    "part.default_mcfs[0].origin"
   ]
  },
  {
   "cell_type": "code",
   "execution_count": 58,
   "id": "b12e61e7-48e1-45d7-a8fc-c1413a38c22f",
   "metadata": {},
   "outputs": [],
   "source": [
    "data = torch.load('/fast/jamesn8/assembly_data/assembly_torch2_fixsize/pspy_batches/batches/22533.dat')"
   ]
  },
  {
   "cell_type": "code",
   "execution_count": 62,
   "id": "d35868fd-3506-4771-84f3-12a74bfecaf6",
   "metadata": {},
   "outputs": [
    {
     "data": {
      "text/plain": [
       "HetData(E_to_edges=[3, 7434], F=[3, 7168], F_to_faces=[1, 7168], V=[3572, 3], V_to_vertices=[2, 784], edge_to_flat_topos=[2, 1299], edge_to_vertex=[2, 2474], edges=[1299, 68], face_to_face=[3, 1299], face_to_flat_topos=[2, 529], face_to_loop=[2, 617], faces=[529, 60], flat_topos=[3229, 0], flat_topos_to_graph_idx=[1, 3229], graph_idx=[3, 1], loop_to_edge=[2, 2598], loop_to_flat_topos=[2, 617], loops=[617, 38], mcf_refs=[3, 10325], mcfs=[10325, 6], n_edges=[3], n_faces=[3], n_loops=[3], n_vertices=[3], part_feat=[3, 20], vertex_to_flat_topos=[2, 784], vertices=[784, 3])"
      ]
     },
     "execution_count": 62,
     "metadata": {},
     "output_type": "execute_result"
    }
   ],
   "source": [
    "data"
   ]
  },
  {
   "cell_type": "code",
   "execution_count": 63,
   "id": "a58587dc-f8b5-41fa-a69f-40773dd1cb34",
   "metadata": {},
   "outputs": [
    {
     "data": {
      "text/plain": [
       "tensor([[   0,    0,    0,  ..., 3204, 3205, 3206],\n",
       "        [   0, 1451,  302,  ..., 3204, 3205, 3206],\n",
       "        [   1,    7,    2,  ...,    3,    3,    3]])"
      ]
     },
     "execution_count": 63,
     "metadata": {},
     "output_type": "execute_result"
    }
   ],
   "source": [
    "data.mcf_refs"
   ]
  },
  {
   "cell_type": "code",
   "execution_count": 105,
   "id": "71079f27-16ce-4b6b-b262-eb643241a04e",
   "metadata": {},
   "outputs": [],
   "source": [
    "from mechanical.utils import load_concatenated"
   ]
  },
  {
   "cell_type": "code",
   "execution_count": 106,
   "id": "834424ba-08a4-42df-887a-a4198c8064bd",
   "metadata": {},
   "outputs": [
    {
     "data": {
      "text/plain": [
       "\u001b[0;31mSignature:\u001b[0m\n",
       "\u001b[0mload_concatenated\u001b[0m\u001b[0;34m(\u001b[0m\u001b[0;34m\u001b[0m\n",
       "\u001b[0;34m\u001b[0m    \u001b[0mstats_path\u001b[0m\u001b[0;34m,\u001b[0m\u001b[0;34m\u001b[0m\n",
       "\u001b[0;34m\u001b[0m    \u001b[0mext\u001b[0m\u001b[0;34m=\u001b[0m\u001b[0;34m'.parquet'\u001b[0m\u001b[0;34m,\u001b[0m\u001b[0;34m\u001b[0m\n",
       "\u001b[0;34m\u001b[0m    \u001b[0mkey\u001b[0m\u001b[0;34m=\u001b[0m\u001b[0;32mNone\u001b[0m\u001b[0;34m,\u001b[0m\u001b[0;34m\u001b[0m\n",
       "\u001b[0;34m\u001b[0m    \u001b[0mstart\u001b[0m\u001b[0;34m=\u001b[0m\u001b[0;34m'stats'\u001b[0m\u001b[0;34m,\u001b[0m\u001b[0;34m\u001b[0m\n",
       "\u001b[0;34m\u001b[0m    \u001b[0mdrop_duplicates\u001b[0m\u001b[0;34m=\u001b[0m\u001b[0;32mTrue\u001b[0m\u001b[0;34m,\u001b[0m\u001b[0;34m\u001b[0m\n",
       "\u001b[0;34m\u001b[0m\u001b[0;34m)\u001b[0m\u001b[0;34m\u001b[0m\u001b[0;34m\u001b[0m\u001b[0m\n",
       "\u001b[0;31mDocstring:\u001b[0m <no docstring>\n",
       "\u001b[0;31mFile:\u001b[0m      /projects/grail/jamesn8/projects/mechanical/Mechanical/mechanical/utils/utils.py\n",
       "\u001b[0;31mType:\u001b[0m      function\n"
      ]
     },
     "metadata": {},
     "output_type": "display_data"
    }
   ],
   "source": [
    "load_concatenated?"
   ]
  },
  {
   "cell_type": "code",
   "execution_count": 116,
   "id": "2e9b9ace-e6c4-4ed9-b2f0-64cc07d2bfdc",
   "metadata": {},
   "outputs": [],
   "source": [
    "batch_df = load_concatenated('/fast/jamesn8/assembly_data/assembly_torch2_fixsize/pspy_batches',start='assembly_stats')\n",
    "batch_df.fillna({'num_normalized_parts_with_discrepancies': 0,'num_invalid_transformed_parts':0}, inplace=True)"
   ]
  },
  {
   "cell_type": "code",
   "execution_count": 117,
   "id": "5dd67bc8-39d8-475b-9ed2-19872401afde",
   "metadata": {},
   "outputs": [
    {
     "data": {
      "text/html": [
       "<div>\n",
       "<style scoped>\n",
       "    .dataframe tbody tr th:only-of-type {\n",
       "        vertical-align: middle;\n",
       "    }\n",
       "\n",
       "    .dataframe tbody tr th {\n",
       "        vertical-align: top;\n",
       "    }\n",
       "\n",
       "    .dataframe thead th {\n",
       "        text-align: right;\n",
       "    }\n",
       "</style>\n",
       "<table border=\"1\" class=\"dataframe\">\n",
       "  <thead>\n",
       "    <tr style=\"text-align: right;\">\n",
       "      <th></th>\n",
       "      <th>num_total_parts</th>\n",
       "      <th>num_invalid_loaded_parts</th>\n",
       "      <th>num_topologies</th>\n",
       "      <th>too_big</th>\n",
       "      <th>invalid_bbox</th>\n",
       "      <th>maxdim</th>\n",
       "      <th>num_normalized_parts_with_discrepancies</th>\n",
       "      <th>num_invalid_transformed_parts</th>\n",
       "      <th>initialized</th>\n",
       "    </tr>\n",
       "    <tr>\n",
       "      <th>index</th>\n",
       "      <th></th>\n",
       "      <th></th>\n",
       "      <th></th>\n",
       "      <th></th>\n",
       "      <th></th>\n",
       "      <th></th>\n",
       "      <th></th>\n",
       "      <th></th>\n",
       "      <th></th>\n",
       "    </tr>\n",
       "  </thead>\n",
       "  <tbody>\n",
       "    <tr>\n",
       "      <th>45860</th>\n",
       "      <td>14</td>\n",
       "      <td>0</td>\n",
       "      <td>1082</td>\n",
       "      <td>False</td>\n",
       "      <td>False</td>\n",
       "      <td>0.217000</td>\n",
       "      <td>0.0</td>\n",
       "      <td>0.0</td>\n",
       "      <td>True</td>\n",
       "    </tr>\n",
       "    <tr>\n",
       "      <th>45863</th>\n",
       "      <td>4</td>\n",
       "      <td>0</td>\n",
       "      <td>613</td>\n",
       "      <td>False</td>\n",
       "      <td>False</td>\n",
       "      <td>0.598122</td>\n",
       "      <td>0.0</td>\n",
       "      <td>0.0</td>\n",
       "      <td>True</td>\n",
       "    </tr>\n",
       "    <tr>\n",
       "      <th>45872</th>\n",
       "      <td>11</td>\n",
       "      <td>0</td>\n",
       "      <td>2011</td>\n",
       "      <td>False</td>\n",
       "      <td>False</td>\n",
       "      <td>0.260000</td>\n",
       "      <td>0.0</td>\n",
       "      <td>0.0</td>\n",
       "      <td>True</td>\n",
       "    </tr>\n",
       "    <tr>\n",
       "      <th>45873</th>\n",
       "      <td>7</td>\n",
       "      <td>0</td>\n",
       "      <td>862</td>\n",
       "      <td>False</td>\n",
       "      <td>False</td>\n",
       "      <td>0.082000</td>\n",
       "      <td>0.0</td>\n",
       "      <td>0.0</td>\n",
       "      <td>True</td>\n",
       "    </tr>\n",
       "    <tr>\n",
       "      <th>45879</th>\n",
       "      <td>5</td>\n",
       "      <td>0</td>\n",
       "      <td>660</td>\n",
       "      <td>False</td>\n",
       "      <td>False</td>\n",
       "      <td>0.142187</td>\n",
       "      <td>0.0</td>\n",
       "      <td>0.0</td>\n",
       "      <td>True</td>\n",
       "    </tr>\n",
       "    <tr>\n",
       "      <th>...</th>\n",
       "      <td>...</td>\n",
       "      <td>...</td>\n",
       "      <td>...</td>\n",
       "      <td>...</td>\n",
       "      <td>...</td>\n",
       "      <td>...</td>\n",
       "      <td>...</td>\n",
       "      <td>...</td>\n",
       "      <td>...</td>\n",
       "    </tr>\n",
       "    <tr>\n",
       "      <th>19260</th>\n",
       "      <td>12</td>\n",
       "      <td>0</td>\n",
       "      <td>1476</td>\n",
       "      <td>False</td>\n",
       "      <td>False</td>\n",
       "      <td>1.539875</td>\n",
       "      <td>0.0</td>\n",
       "      <td>0.0</td>\n",
       "      <td>True</td>\n",
       "    </tr>\n",
       "    <tr>\n",
       "      <th>19264</th>\n",
       "      <td>2</td>\n",
       "      <td>0</td>\n",
       "      <td>628</td>\n",
       "      <td>False</td>\n",
       "      <td>False</td>\n",
       "      <td>0.103000</td>\n",
       "      <td>0.0</td>\n",
       "      <td>0.0</td>\n",
       "      <td>True</td>\n",
       "    </tr>\n",
       "    <tr>\n",
       "      <th>19289</th>\n",
       "      <td>2</td>\n",
       "      <td>0</td>\n",
       "      <td>1138</td>\n",
       "      <td>False</td>\n",
       "      <td>False</td>\n",
       "      <td>0.072000</td>\n",
       "      <td>0.0</td>\n",
       "      <td>0.0</td>\n",
       "      <td>True</td>\n",
       "    </tr>\n",
       "    <tr>\n",
       "      <th>19298</th>\n",
       "      <td>2</td>\n",
       "      <td>0</td>\n",
       "      <td>165</td>\n",
       "      <td>False</td>\n",
       "      <td>False</td>\n",
       "      <td>0.077250</td>\n",
       "      <td>0.0</td>\n",
       "      <td>0.0</td>\n",
       "      <td>True</td>\n",
       "    </tr>\n",
       "    <tr>\n",
       "      <th>19301</th>\n",
       "      <td>5</td>\n",
       "      <td>0</td>\n",
       "      <td>1166</td>\n",
       "      <td>False</td>\n",
       "      <td>False</td>\n",
       "      <td>0.109886</td>\n",
       "      <td>0.0</td>\n",
       "      <td>0.0</td>\n",
       "      <td>True</td>\n",
       "    </tr>\n",
       "  </tbody>\n",
       "</table>\n",
       "<p>13967 rows × 9 columns</p>\n",
       "</div>"
      ],
      "text/plain": [
       "       num_total_parts  num_invalid_loaded_parts  num_topologies  too_big  \\\n",
       "index                                                                       \n",
       "45860               14                         0            1082    False   \n",
       "45863                4                         0             613    False   \n",
       "45872               11                         0            2011    False   \n",
       "45873                7                         0             862    False   \n",
       "45879                5                         0             660    False   \n",
       "...                ...                       ...             ...      ...   \n",
       "19260               12                         0            1476    False   \n",
       "19264                2                         0             628    False   \n",
       "19289                2                         0            1138    False   \n",
       "19298                2                         0             165    False   \n",
       "19301                5                         0            1166    False   \n",
       "\n",
       "       invalid_bbox    maxdim  num_normalized_parts_with_discrepancies  \\\n",
       "index                                                                    \n",
       "45860         False  0.217000                                      0.0   \n",
       "45863         False  0.598122                                      0.0   \n",
       "45872         False  0.260000                                      0.0   \n",
       "45873         False  0.082000                                      0.0   \n",
       "45879         False  0.142187                                      0.0   \n",
       "...             ...       ...                                      ...   \n",
       "19260         False  1.539875                                      0.0   \n",
       "19264         False  0.103000                                      0.0   \n",
       "19289         False  0.072000                                      0.0   \n",
       "19298         False  0.077250                                      0.0   \n",
       "19301         False  0.109886                                      0.0   \n",
       "\n",
       "       num_invalid_transformed_parts  initialized  \n",
       "index                                              \n",
       "45860                            0.0         True  \n",
       "45863                            0.0         True  \n",
       "45872                            0.0         True  \n",
       "45873                            0.0         True  \n",
       "45879                            0.0         True  \n",
       "...                              ...          ...  \n",
       "19260                            0.0         True  \n",
       "19264                            0.0         True  \n",
       "19289                            0.0         True  \n",
       "19298                            0.0         True  \n",
       "19301                            0.0         True  \n",
       "\n",
       "[13967 rows x 9 columns]"
      ]
     },
     "execution_count": 117,
     "metadata": {},
     "output_type": "execute_result"
    }
   ],
   "source": [
    "batch_df[lambda df: (df['num_normalized_parts_with_discrepancies'] == 0) & (df['num_invalid_transformed_parts'] == 0) & (df['initialized']) & (~df['too_big'])]"
   ]
  },
  {
   "cell_type": "code",
   "execution_count": null,
   "id": "442121c1-acd9-4b59-80c3-2d9a803a3fc7",
   "metadata": {},
   "outputs": [],
   "source": []
  },
  {
   "cell_type": "code",
   "execution_count": 83,
   "id": "fb24a598-b0df-455d-8b16-97874e330832",
   "metadata": {},
   "outputs": [],
   "source": [
    "import numpy as np"
   ]
  },
  {
   "cell_type": "code",
   "execution_count": 174,
   "id": "dc7d6a26-f3a5-4b2f-b05d-6b7310fa785a",
   "metadata": {},
   "outputs": [],
   "source": [
    "f = h5py.File('/fast/jamesn8/assembly_data/assembly_torch2_fixsize/new_axes/axis_data/552.hdf5','r')"
   ]
  },
  {
   "cell_type": "code",
   "execution_count": 175,
   "id": "1ba31d97-f25e-42f0-8040-6e89bc87627d",
   "metadata": {},
   "outputs": [
    {
     "data": {
      "text/plain": [
       "array([0, 0, 0, ..., 6, 6, 6])"
      ]
     },
     "execution_count": 175,
     "metadata": {},
     "output_type": "execute_result"
    }
   ],
   "source": [
    "np.array(f['mc_part_labels'])"
   ]
  },
  {
   "cell_type": "code",
   "execution_count": 180,
   "id": "1f41d40d-c165-4665-91b5-d4682495e0d4",
   "metadata": {},
   "outputs": [
    {
     "data": {
      "text/plain": [
       "[]"
      ]
     },
     "execution_count": 180,
     "metadata": {},
     "output_type": "execute_result"
    }
   ],
   "source": [
    "list(f['pair_data']['3,4']['axes'])"
   ]
  },
  {
   "cell_type": "code",
   "execution_count": 97,
   "id": "a0d3f243-882c-4c57-acae-6f5390b7ed28",
   "metadata": {},
   "outputs": [
    {
     "data": {
      "text/plain": [
       "['indices']"
      ]
     },
     "execution_count": 97,
     "metadata": {},
     "output_type": "execute_result"
    }
   ],
   "source": [
    "list(f['pair_data']['0,1']['axes']['36'])"
   ]
  },
  {
   "cell_type": "code",
   "execution_count": 87,
   "id": "ca21f333-12d1-46a2-a97e-e23eb39f078f",
   "metadata": {},
   "outputs": [
    {
     "data": {
      "text/plain": [
       "[9, 9, 7]"
      ]
     },
     "execution_count": 87,
     "metadata": {},
     "output_type": "execute_result"
    }
   ],
   "source": [
    "[len(f['pair_data']['0,1']['axes'][ax]['indices']) for ax in f['pair_data']['0,1']['axes']]"
   ]
  },
  {
   "cell_type": "code",
   "execution_count": 99,
   "id": "58d8da65-d8dd-42b6-84ea-39305703c3b1",
   "metadata": {},
   "outputs": [],
   "source": [
    "f.close()"
   ]
  },
  {
   "cell_type": "code",
   "execution_count": 90,
   "id": "a58ba0d3-9d32-4df7-baaf-6fc91d1d3167",
   "metadata": {},
   "outputs": [],
   "source": [
    "import meshplot as mp"
   ]
  },
  {
   "cell_type": "code",
   "execution_count": 158,
   "id": "f53f1959-8f5a-4356-89ec-e780469fcae1",
   "metadata": {
    "tags": []
   },
   "outputs": [
    {
     "name": "stdout",
     "output_type": "stream",
     "text": [
      "<KeysViewHDF5 ['0,1', '0,10', '0,11', '0,14', '0,15', '0,16', '0,17', '0,18', '0,20', '0,4', '0,5', '0,6', '0,7', '0,9', '1,10', '1,11', '1,14', '1,15', '1,16', '1,17', '1,18', '1,20', '1,4', '1,5', '1,6', '1,7', '1,9', '10,11', '10,14', '10,15', '10,16', '10,17', '10,18', '10,20', '11,14', '11,15', '11,16', '11,17', '11,18', '11,20', '12,13', '12,15', '12,16', '12,17', '12,18', '12,19', '12,21', '13,15', '13,16', '13,17', '13,18', '13,19', '13,21', '14,15', '14,16', '14,17', '14,18', '14,20', '15,16', '15,17', '15,18', '15,19', '15,20', '15,21', '16,17', '16,18', '16,19', '16,20', '16,21', '17,18', '17,19', '17,20', '17,21', '18,19', '18,20', '18,21', '19,21', '2,12', '2,13', '2,15', '2,16', '2,17', '2,18', '2,19', '2,21', '2,3', '2,4', '2,5', '2,6', '2,7', '2,8', '3,12', '3,13', '3,15', '3,16', '3,17', '3,18', '3,19', '3,21', '3,4', '3,5', '3,6', '3,7', '3,8', '4,10', '4,11', '4,12', '4,13', '4,14', '4,15', '4,16', '4,17', '4,18', '4,19', '4,20', '4,21', '4,5', '4,6', '4,7', '4,8', '4,9', '5,10', '5,11', '5,12', '5,13', '5,14', '5,15', '5,16', '5,17', '5,18', '5,19', '5,20', '5,21', '5,6', '5,7', '5,8', '5,9', '6,10', '6,11', '6,12', '6,13', '6,14', '6,15', '6,16', '6,17', '6,18', '6,19', '6,20', '6,21', '6,7', '6,8', '6,9', '7,10', '7,11', '7,12', '7,13', '7,14', '7,15', '7,16', '7,17', '7,18', '7,19', '7,20', '7,21', '7,8', '7,9', '8,12', '8,13', '8,15', '8,16', '8,17', '8,18', '8,19', '8,21', '9,10', '9,11', '9,14', '9,15', '9,16', '9,17', '9,18', '9,20']>\n",
      "<KeysViewHDF5 ['0']>\n",
      "1487\n"
     ]
    },
    {
     "data": {
      "application/vnd.jupyter.widget-view+json": {
       "model_id": "92d31415d3c64d37b3e09b3608474457",
       "version_major": 2,
       "version_minor": 0
      },
      "text/plain": [
       "Renderer(camera=PerspectiveCamera(children=(DirectionalLight(color='white', intensity=0.6, position=(0.1005957…"
      ]
     },
     "metadata": {},
     "output_type": "display_data"
    }
   ],
   "source": [
    "dir_ind = 0\n",
    "pair='7,9'\n",
    "f = h5py.File('/fast/jamesn8/assembly_data/assembly_torch2_fixsize/test_axis/axis_data/22.hdf5','r')\n",
    "print(f['pair_data'].keys())\n",
    "print(f['pair_data'][pair]['axes'].keys())\n",
    "axis_cluster_indices = list(f['pair_data'][pair]['axes'][str(dir_ind)]['indices'])\n",
    "axis_clusters = [np.array(f['dir_clusters'][str(dir_ind)]['axial_clusters'][str(ax)]) for ax in axis_cluster_indices]\n",
    "axis_origins = np.vstack([np.array(f['mc_frames'][str(key)]['origins']) for key in range(len(f['mc_frames'].keys()))])\n",
    "cluster_origins = [axis_origins[clust] for clust in axis_clusters]\n",
    "for o, clust in zip(cluster_origins, axis_cluster_indices):\n",
    "    print(clust)\n",
    "    mp.plot(o, shading={\"point_size\": 0.125})\n",
    "f.close()"
   ]
  },
  {
   "cell_type": "code",
   "execution_count": 6,
   "id": "6bc3ef43-f58a-479f-b097-23cb8f943c68",
   "metadata": {},
   "outputs": [],
   "source": [
    "mate_check_df = ps.read_parquet('/fast/jamesn8/assembly_data/assembly_torch2_fixsize/new_axes_100groups_and_mate_check/mate_check_stats.parquet')"
   ]
  },
  {
   "cell_type": "code",
   "execution_count": 7,
   "id": "7fffc276-e2b8-4a48-a080-1b68e90b7f37",
   "metadata": {},
   "outputs": [],
   "source": [
    "mate_check_df_old = ps.read_hdf('/fast/jamesn8/assembly_data/assembly_torch2_fixsize/stats_check_mates_all_proposals_validate_rigidcomps_more_axis_stats/mate_stats_all.h5','mates')"
   ]
  },
  {
   "cell_type": "code",
   "execution_count": 9,
   "id": "82905932-2d2f-4f5c-94be-aca69c47c57c",
   "metadata": {},
   "outputs": [],
   "source": [
    "mc_df = ps.read_parquet('/fast/jamesn8/assembly_data/assembly_torch2_fixsize/new_axes_100groups_and_mate_check/mc_stats.parquet')"
   ]
  },
  {
   "cell_type": "code",
   "execution_count": 41,
   "id": "8c09b3fc-8fde-4e06-a519-742bfd608268",
   "metadata": {},
   "outputs": [
    {
     "data": {
      "text/plain": [
       "0.9766936977204521"
      ]
     },
     "execution_count": 41,
     "metadata": {},
     "output_type": "execute_result"
    }
   ],
   "source": [
    "mate_check_df['valid'].sum()/mate_check_df.shape[0]"
   ]
  },
  {
   "cell_type": "code",
   "execution_count": 45,
   "id": "a4b257a1-9a04-4c59-8e29-f21056afb246",
   "metadata": {},
   "outputs": [
    {
     "data": {
      "text/plain": [
       "0.9999040859389987"
      ]
     },
     "execution_count": 45,
     "metadata": {},
     "output_type": "execute_result"
    }
   ],
   "source": [
    "len(set(mate_check_df[lambda df: df['valid']]['Assembly']))/len(set(mate_check_df['Assembly']))"
   ]
  },
  {
   "cell_type": "code",
   "execution_count": 10,
   "id": "63361f62-fea4-4bb0-bca6-2dc8c23370e6",
   "metadata": {},
   "outputs": [
    {
     "data": {
      "text/html": [
       "<div>\n",
       "<style scoped>\n",
       "    .dataframe tbody tr th:only-of-type {\n",
       "        vertical-align: middle;\n",
       "    }\n",
       "\n",
       "    .dataframe tbody tr th {\n",
       "        vertical-align: top;\n",
       "    }\n",
       "\n",
       "    .dataframe thead th {\n",
       "        text-align: right;\n",
       "    }\n",
       "</style>\n",
       "<table border=\"1\" class=\"dataframe\">\n",
       "  <thead>\n",
       "    <tr style=\"text-align: right;\">\n",
       "      <th></th>\n",
       "      <th>dir_ind</th>\n",
       "      <th>axis_id</th>\n",
       "      <th>part1</th>\n",
       "      <th>part2</th>\n",
       "      <th>part1_occ</th>\n",
       "      <th>part2_occ</th>\n",
       "      <th>num_MCs_1</th>\n",
       "      <th>num_MCs_2</th>\n",
       "      <th>assembly</th>\n",
       "    </tr>\n",
       "  </thead>\n",
       "  <tbody>\n",
       "    <tr>\n",
       "      <th>6025</th>\n",
       "      <td>15</td>\n",
       "      <td>18</td>\n",
       "      <td>0</td>\n",
       "      <td>4</td>\n",
       "      <td>MRPqM9QevOxx309ic</td>\n",
       "      <td>MiEfLhvfBX5+WwTK1</td>\n",
       "      <td>93</td>\n",
       "      <td>162</td>\n",
       "      <td>552</td>\n",
       "    </tr>\n",
       "    <tr>\n",
       "      <th>6026</th>\n",
       "      <td>78</td>\n",
       "      <td>83</td>\n",
       "      <td>0</td>\n",
       "      <td>4</td>\n",
       "      <td>MRPqM9QevOxx309ic</td>\n",
       "      <td>MiEfLhvfBX5+WwTK1</td>\n",
       "      <td>18</td>\n",
       "      <td>2</td>\n",
       "      <td>552</td>\n",
       "    </tr>\n",
       "    <tr>\n",
       "      <th>6027</th>\n",
       "      <td>15</td>\n",
       "      <td>18</td>\n",
       "      <td>0</td>\n",
       "      <td>6</td>\n",
       "      <td>MRPqM9QevOxx309ic</td>\n",
       "      <td>MtEBUiiw8jvjVvQLI</td>\n",
       "      <td>93</td>\n",
       "      <td>48</td>\n",
       "      <td>552</td>\n",
       "    </tr>\n",
       "    <tr>\n",
       "      <th>6028</th>\n",
       "      <td>15</td>\n",
       "      <td>18</td>\n",
       "      <td>4</td>\n",
       "      <td>6</td>\n",
       "      <td>MiEfLhvfBX5+WwTK1</td>\n",
       "      <td>MtEBUiiw8jvjVvQLI</td>\n",
       "      <td>162</td>\n",
       "      <td>48</td>\n",
       "      <td>552</td>\n",
       "    </tr>\n",
       "    <tr>\n",
       "      <th>6029</th>\n",
       "      <td>15</td>\n",
       "      <td>25</td>\n",
       "      <td>0</td>\n",
       "      <td>2</td>\n",
       "      <td>MRPqM9QevOxx309ic</td>\n",
       "      <td>M59OywwaIElzsyE8k</td>\n",
       "      <td>4</td>\n",
       "      <td>4</td>\n",
       "      <td>552</td>\n",
       "    </tr>\n",
       "    <tr>\n",
       "      <th>...</th>\n",
       "      <td>...</td>\n",
       "      <td>...</td>\n",
       "      <td>...</td>\n",
       "      <td>...</td>\n",
       "      <td>...</td>\n",
       "      <td>...</td>\n",
       "      <td>...</td>\n",
       "      <td>...</td>\n",
       "      <td>...</td>\n",
       "    </tr>\n",
       "    <tr>\n",
       "      <th>6110</th>\n",
       "      <td>0</td>\n",
       "      <td>230</td>\n",
       "      <td>2</td>\n",
       "      <td>5</td>\n",
       "      <td>M59OywwaIElzsyE8k</td>\n",
       "      <td>Mwuf6NDWDinzVdlEU</td>\n",
       "      <td>5</td>\n",
       "      <td>2</td>\n",
       "      <td>552</td>\n",
       "    </tr>\n",
       "    <tr>\n",
       "      <th>6111</th>\n",
       "      <td>0</td>\n",
       "      <td>232</td>\n",
       "      <td>2</td>\n",
       "      <td>5</td>\n",
       "      <td>M59OywwaIElzsyE8k</td>\n",
       "      <td>Mwuf6NDWDinzVdlEU</td>\n",
       "      <td>5</td>\n",
       "      <td>1</td>\n",
       "      <td>552</td>\n",
       "    </tr>\n",
       "    <tr>\n",
       "      <th>6112</th>\n",
       "      <td>0</td>\n",
       "      <td>1847</td>\n",
       "      <td>2</td>\n",
       "      <td>5</td>\n",
       "      <td>M59OywwaIElzsyE8k</td>\n",
       "      <td>Mwuf6NDWDinzVdlEU</td>\n",
       "      <td>2</td>\n",
       "      <td>1</td>\n",
       "      <td>552</td>\n",
       "    </tr>\n",
       "    <tr>\n",
       "      <th>6113</th>\n",
       "      <td>0</td>\n",
       "      <td>1882</td>\n",
       "      <td>2</td>\n",
       "      <td>5</td>\n",
       "      <td>M59OywwaIElzsyE8k</td>\n",
       "      <td>Mwuf6NDWDinzVdlEU</td>\n",
       "      <td>2</td>\n",
       "      <td>2</td>\n",
       "      <td>552</td>\n",
       "    </tr>\n",
       "    <tr>\n",
       "      <th>6114</th>\n",
       "      <td>4690</td>\n",
       "      <td>4736</td>\n",
       "      <td>3</td>\n",
       "      <td>4</td>\n",
       "      <td>M1/dZMrxY1lIcRFnx</td>\n",
       "      <td>MiEfLhvfBX5+WwTK1</td>\n",
       "      <td>61</td>\n",
       "      <td>3</td>\n",
       "      <td>552</td>\n",
       "    </tr>\n",
       "  </tbody>\n",
       "</table>\n",
       "<p>90 rows × 9 columns</p>\n",
       "</div>"
      ],
      "text/plain": [
       "      dir_ind  axis_id  part1  part2          part1_occ          part2_occ  \\\n",
       "6025       15       18      0      4  MRPqM9QevOxx309ic  MiEfLhvfBX5+WwTK1   \n",
       "6026       78       83      0      4  MRPqM9QevOxx309ic  MiEfLhvfBX5+WwTK1   \n",
       "6027       15       18      0      6  MRPqM9QevOxx309ic  MtEBUiiw8jvjVvQLI   \n",
       "6028       15       18      4      6  MiEfLhvfBX5+WwTK1  MtEBUiiw8jvjVvQLI   \n",
       "6029       15       25      0      2  MRPqM9QevOxx309ic  M59OywwaIElzsyE8k   \n",
       "...       ...      ...    ...    ...                ...                ...   \n",
       "6110        0      230      2      5  M59OywwaIElzsyE8k  Mwuf6NDWDinzVdlEU   \n",
       "6111        0      232      2      5  M59OywwaIElzsyE8k  Mwuf6NDWDinzVdlEU   \n",
       "6112        0     1847      2      5  M59OywwaIElzsyE8k  Mwuf6NDWDinzVdlEU   \n",
       "6113        0     1882      2      5  M59OywwaIElzsyE8k  Mwuf6NDWDinzVdlEU   \n",
       "6114     4690     4736      3      4  M1/dZMrxY1lIcRFnx  MiEfLhvfBX5+WwTK1   \n",
       "\n",
       "      num_MCs_1  num_MCs_2  assembly  \n",
       "6025         93        162       552  \n",
       "6026         18          2       552  \n",
       "6027         93         48       552  \n",
       "6028        162         48       552  \n",
       "6029          4          4       552  \n",
       "...         ...        ...       ...  \n",
       "6110          5          2       552  \n",
       "6111          5          1       552  \n",
       "6112          2          1       552  \n",
       "6113          2          2       552  \n",
       "6114         61          3       552  \n",
       "\n",
       "[90 rows x 9 columns]"
      ]
     },
     "execution_count": 10,
     "metadata": {},
     "output_type": "execute_result"
    }
   ],
   "source": [
    "mc_df[lambda df: (df['assembly'] == 552)]"
   ]
  },
  {
   "cell_type": "code",
   "execution_count": 11,
   "id": "eb022d04-e4fe-4918-b4bf-11585adb0718",
   "metadata": {},
   "outputs": [
    {
     "data": {
      "text/html": [
       "<div>\n",
       "<style scoped>\n",
       "    .dataframe tbody tr th:only-of-type {\n",
       "        vertical-align: middle;\n",
       "    }\n",
       "\n",
       "    .dataframe tbody tr th {\n",
       "        vertical-align: top;\n",
       "    }\n",
       "\n",
       "    .dataframe thead th {\n",
       "        text-align: right;\n",
       "    }\n",
       "</style>\n",
       "<table border=\"1\" class=\"dataframe\">\n",
       "  <thead>\n",
       "    <tr style=\"text-align: right;\">\n",
       "      <th></th>\n",
       "      <th>dir_ind</th>\n",
       "      <th>axis_id</th>\n",
       "      <th>part1</th>\n",
       "      <th>part2</th>\n",
       "      <th>part1_occ</th>\n",
       "      <th>part2_occ</th>\n",
       "      <th>num_MCs_1</th>\n",
       "      <th>num_MCs_2</th>\n",
       "      <th>assembly</th>\n",
       "    </tr>\n",
       "  </thead>\n",
       "  <tbody>\n",
       "    <tr>\n",
       "      <th>6025</th>\n",
       "      <td>15</td>\n",
       "      <td>18</td>\n",
       "      <td>0</td>\n",
       "      <td>4</td>\n",
       "      <td>MRPqM9QevOxx309ic</td>\n",
       "      <td>MiEfLhvfBX5+WwTK1</td>\n",
       "      <td>93</td>\n",
       "      <td>162</td>\n",
       "      <td>552</td>\n",
       "    </tr>\n",
       "    <tr>\n",
       "      <th>6026</th>\n",
       "      <td>78</td>\n",
       "      <td>83</td>\n",
       "      <td>0</td>\n",
       "      <td>4</td>\n",
       "      <td>MRPqM9QevOxx309ic</td>\n",
       "      <td>MiEfLhvfBX5+WwTK1</td>\n",
       "      <td>18</td>\n",
       "      <td>2</td>\n",
       "      <td>552</td>\n",
       "    </tr>\n",
       "    <tr>\n",
       "      <th>6028</th>\n",
       "      <td>15</td>\n",
       "      <td>18</td>\n",
       "      <td>4</td>\n",
       "      <td>6</td>\n",
       "      <td>MiEfLhvfBX5+WwTK1</td>\n",
       "      <td>MtEBUiiw8jvjVvQLI</td>\n",
       "      <td>162</td>\n",
       "      <td>48</td>\n",
       "      <td>552</td>\n",
       "    </tr>\n",
       "    <tr>\n",
       "      <th>6070</th>\n",
       "      <td>15</td>\n",
       "      <td>8565</td>\n",
       "      <td>4</td>\n",
       "      <td>5</td>\n",
       "      <td>MiEfLhvfBX5+WwTK1</td>\n",
       "      <td>Mwuf6NDWDinzVdlEU</td>\n",
       "      <td>1</td>\n",
       "      <td>5</td>\n",
       "      <td>552</td>\n",
       "    </tr>\n",
       "    <tr>\n",
       "      <th>6071</th>\n",
       "      <td>15</td>\n",
       "      <td>4864</td>\n",
       "      <td>4</td>\n",
       "      <td>5</td>\n",
       "      <td>MiEfLhvfBX5+WwTK1</td>\n",
       "      <td>Mwuf6NDWDinzVdlEU</td>\n",
       "      <td>1</td>\n",
       "      <td>2</td>\n",
       "      <td>552</td>\n",
       "    </tr>\n",
       "    <tr>\n",
       "      <th>6072</th>\n",
       "      <td>15</td>\n",
       "      <td>4866</td>\n",
       "      <td>4</td>\n",
       "      <td>5</td>\n",
       "      <td>MiEfLhvfBX5+WwTK1</td>\n",
       "      <td>Mwuf6NDWDinzVdlEU</td>\n",
       "      <td>8</td>\n",
       "      <td>2</td>\n",
       "      <td>552</td>\n",
       "    </tr>\n",
       "    <tr>\n",
       "      <th>6114</th>\n",
       "      <td>4690</td>\n",
       "      <td>4736</td>\n",
       "      <td>3</td>\n",
       "      <td>4</td>\n",
       "      <td>M1/dZMrxY1lIcRFnx</td>\n",
       "      <td>MiEfLhvfBX5+WwTK1</td>\n",
       "      <td>61</td>\n",
       "      <td>3</td>\n",
       "      <td>552</td>\n",
       "    </tr>\n",
       "  </tbody>\n",
       "</table>\n",
       "</div>"
      ],
      "text/plain": [
       "      dir_ind  axis_id  part1  part2          part1_occ          part2_occ  \\\n",
       "6025       15       18      0      4  MRPqM9QevOxx309ic  MiEfLhvfBX5+WwTK1   \n",
       "6026       78       83      0      4  MRPqM9QevOxx309ic  MiEfLhvfBX5+WwTK1   \n",
       "6028       15       18      4      6  MiEfLhvfBX5+WwTK1  MtEBUiiw8jvjVvQLI   \n",
       "6070       15     8565      4      5  MiEfLhvfBX5+WwTK1  Mwuf6NDWDinzVdlEU   \n",
       "6071       15     4864      4      5  MiEfLhvfBX5+WwTK1  Mwuf6NDWDinzVdlEU   \n",
       "6072       15     4866      4      5  MiEfLhvfBX5+WwTK1  Mwuf6NDWDinzVdlEU   \n",
       "6114     4690     4736      3      4  M1/dZMrxY1lIcRFnx  MiEfLhvfBX5+WwTK1   \n",
       "\n",
       "      num_MCs_1  num_MCs_2  assembly  \n",
       "6025         93        162       552  \n",
       "6026         18          2       552  \n",
       "6028        162         48       552  \n",
       "6070          1          5       552  \n",
       "6071          1          2       552  \n",
       "6072          8          2       552  \n",
       "6114         61          3       552  "
      ]
     },
     "execution_count": 11,
     "metadata": {},
     "output_type": "execute_result"
    }
   ],
   "source": [
    "mc_df[lambda df: (df['assembly'] == 552) & ((df['part2_occ'] == 'MiEfLhvfBX5+WwTK1') | (df['part1_occ'] == 'MiEfLhvfBX5+WwTK1'))]"
   ]
  },
  {
   "cell_type": "code",
   "execution_count": 12,
   "id": "21a56b2c-eb05-4df8-a04e-764f38faa493",
   "metadata": {},
   "outputs": [
    {
     "data": {
      "text/html": [
       "<div>\n",
       "<style scoped>\n",
       "    .dataframe tbody tr th:only-of-type {\n",
       "        vertical-align: middle;\n",
       "    }\n",
       "\n",
       "    .dataframe tbody tr th {\n",
       "        vertical-align: top;\n",
       "    }\n",
       "\n",
       "    .dataframe thead th {\n",
       "        text-align: right;\n",
       "    }\n",
       "</style>\n",
       "<table border=\"1\" class=\"dataframe\">\n",
       "  <thead>\n",
       "    <tr style=\"text-align: right;\">\n",
       "      <th></th>\n",
       "      <th>Assembly</th>\n",
       "      <th>dir_index</th>\n",
       "      <th>axis_index</th>\n",
       "      <th>has_any_axis</th>\n",
       "      <th>has_same_dir_axis</th>\n",
       "      <th>type</th>\n",
       "      <th>dirs_agree</th>\n",
       "      <th>axes_agree</th>\n",
       "      <th>valid</th>\n",
       "    </tr>\n",
       "    <tr>\n",
       "      <th>index</th>\n",
       "      <th></th>\n",
       "      <th></th>\n",
       "      <th></th>\n",
       "      <th></th>\n",
       "      <th></th>\n",
       "      <th></th>\n",
       "      <th></th>\n",
       "      <th></th>\n",
       "      <th></th>\n",
       "    </tr>\n",
       "  </thead>\n",
       "  <tbody>\n",
       "    <tr>\n",
       "      <th>9484</th>\n",
       "      <td>552</td>\n",
       "      <td>4690</td>\n",
       "      <td>4736</td>\n",
       "      <td>True</td>\n",
       "      <td>True</td>\n",
       "      <td>REVOLUTE</td>\n",
       "      <td>True</td>\n",
       "      <td>True</td>\n",
       "      <td>True</td>\n",
       "    </tr>\n",
       "  </tbody>\n",
       "</table>\n",
       "</div>"
      ],
      "text/plain": [
       "       Assembly  dir_index  axis_index  has_any_axis  has_same_dir_axis  \\\n",
       "index                                                                     \n",
       "9484        552       4690        4736          True               True   \n",
       "\n",
       "           type  dirs_agree  axes_agree  valid  \n",
       "index                                           \n",
       "9484   REVOLUTE        True        True   True  "
      ]
     },
     "execution_count": 12,
     "metadata": {},
     "output_type": "execute_result"
    }
   ],
   "source": [
    "mate_check_df.loc[[9484]]"
   ]
  },
  {
   "cell_type": "code",
   "execution_count": 15,
   "id": "b18e3282-3dab-40f9-bd55-7b2b6f3b6f50",
   "metadata": {},
   "outputs": [
    {
     "data": {
      "text/plain": [
       "0.9766936977204521"
      ]
     },
     "execution_count": 15,
     "metadata": {},
     "output_type": "execute_result"
    }
   ],
   "source": [
    "mate_check_df['valid'].sum()/mate_check_df.shape[0]"
   ]
  },
  {
   "cell_type": "code",
   "execution_count": 16,
   "id": "dcd5c16b-6f9a-49ca-8762-aaf7181659b1",
   "metadata": {},
   "outputs": [
    {
     "data": {
      "text/plain": [
       "0.9836866866255269"
      ]
     },
     "execution_count": 16,
     "metadata": {},
     "output_type": "execute_result"
    }
   ],
   "source": [
    "mate_check_df_old['valid'].sum()/mate_check_df_old.shape[0]"
   ]
  },
  {
   "cell_type": "code",
   "execution_count": 164,
   "id": "69b772e2-9b5a-4fc1-af3a-f9f18057f4c7",
   "metadata": {},
   "outputs": [
    {
     "data": {
      "text/plain": [
       "Int64Index([  18440,   18441,   18443,   18445,   22104,   22338,   23826,\n",
       "              23835,   24933,   24934,\n",
       "            ...\n",
       "            1776653, 1779705, 1799958, 1808552, 1808553, 1811239, 1834292,\n",
       "            1834295, 1850879, 1871943],\n",
       "           dtype='int64', length=1055)"
      ]
     },
     "execution_count": 164,
     "metadata": {},
     "output_type": "execute_result"
    }
   ],
   "source": [
    "mate_check_df[lambda df: ~df['valid']].index.intersection(mate_check_df_old[lambda df: ~df['valid']].index)"
   ]
  },
  {
   "cell_type": "code",
   "execution_count": 21,
   "id": "96c671a1-3c89-4313-89b1-bfbef03e566a",
   "metadata": {},
   "outputs": [
    {
     "data": {
      "text/plain": [
       "False"
      ]
     },
     "execution_count": 21,
     "metadata": {},
     "output_type": "execute_result"
    }
   ],
   "source": [
    "mate_check_df.loc[mate_check_df[lambda df: ~df['valid']].index.difference(mate_check_df_old[lambda df: ~df['valid']].index)][lambda df: df['type'] == 'FASTENED']['has_any_axis'].any()"
   ]
  },
  {
   "cell_type": "code",
   "execution_count": 22,
   "id": "80f34ebe-8c7f-4c2c-b08b-e57f38c13eca",
   "metadata": {},
   "outputs": [
    {
     "data": {
      "text/plain": [
       "Int64Index([    411,   24933,   24934,   24935,   24936,  111518,  114497,\n",
       "             126606,  126607,  126609,\n",
       "            ...\n",
       "            1757158, 1765465, 1765468, 1788082, 1801535, 1816154, 1866974,\n",
       "            1866975, 1879714, 1881987],\n",
       "           dtype='int64', length=183)"
      ]
     },
     "execution_count": 22,
     "metadata": {},
     "output_type": "execute_result"
    }
   ],
   "source": [
    "mate_check_df_old[lambda df: ~df['valid']].index.difference(mate_check_df[lambda df: ~df['valid']].index)"
   ]
  },
  {
   "cell_type": "code",
   "execution_count": 31,
   "id": "40f2b9f0-9e32-49fb-853a-635b6fd2687e",
   "metadata": {},
   "outputs": [],
   "source": [
    "actuallyvalid_old = mate_check_df_old[lambda df: df['valid']  & df['has_any_axis'] & ((df['type'] != 'SLIDER') | df['has_same_dir_axis'])].index.intersection(mate_check_df.index)"
   ]
  },
  {
   "cell_type": "code",
   "execution_count": 38,
   "id": "d5f2ab63-a89a-4da2-ba1a-4004c464ba9c",
   "metadata": {},
   "outputs": [
    {
     "name": "stdout",
     "output_type": "stream",
     "text": [
      "old valid: 76252\n",
      "new valid: 76480\n"
     ]
    }
   ],
   "source": [
    "print('old valid:',len(actuallyvalid_old))\n",
    "print('new valid:',mate_check_df[lambda df: df['valid']].shape[0])"
   ]
  },
  {
   "cell_type": "code",
   "execution_count": 39,
   "id": "7b3c7fb8-2ab6-4d49-a506-55c8229553e9",
   "metadata": {},
   "outputs": [
    {
     "data": {
      "text/html": [
       "<div>\n",
       "<style scoped>\n",
       "    .dataframe tbody tr th:only-of-type {\n",
       "        vertical-align: middle;\n",
       "    }\n",
       "\n",
       "    .dataframe tbody tr th {\n",
       "        vertical-align: top;\n",
       "    }\n",
       "\n",
       "    .dataframe thead th {\n",
       "        text-align: right;\n",
       "    }\n",
       "</style>\n",
       "<table border=\"1\" class=\"dataframe\">\n",
       "  <thead>\n",
       "    <tr style=\"text-align: right;\">\n",
       "      <th></th>\n",
       "      <th>Assembly</th>\n",
       "      <th>dir_index</th>\n",
       "      <th>axis_index</th>\n",
       "      <th>has_any_axis</th>\n",
       "      <th>has_same_dir_axis</th>\n",
       "      <th>type</th>\n",
       "      <th>dirs_agree</th>\n",
       "      <th>axes_agree</th>\n",
       "      <th>rigid_comp_attempting_motion</th>\n",
       "      <th>valid</th>\n",
       "    </tr>\n",
       "  </thead>\n",
       "  <tbody>\n",
       "    <tr>\n",
       "      <th>1457202</th>\n",
       "      <td>97005</td>\n",
       "      <td>0</td>\n",
       "      <td>0</td>\n",
       "      <td>True</td>\n",
       "      <td>True</td>\n",
       "      <td>SLIDER</td>\n",
       "      <td>True</td>\n",
       "      <td>True</td>\n",
       "      <td>False</td>\n",
       "      <td>True</td>\n",
       "    </tr>\n",
       "    <tr>\n",
       "      <th>1457204</th>\n",
       "      <td>97005</td>\n",
       "      <td>0</td>\n",
       "      <td>0</td>\n",
       "      <td>True</td>\n",
       "      <td>True</td>\n",
       "      <td>SLIDER</td>\n",
       "      <td>True</td>\n",
       "      <td>True</td>\n",
       "      <td>False</td>\n",
       "      <td>True</td>\n",
       "    </tr>\n",
       "    <tr>\n",
       "      <th>1457205</th>\n",
       "      <td>97005</td>\n",
       "      <td>0</td>\n",
       "      <td>-1</td>\n",
       "      <td>True</td>\n",
       "      <td>True</td>\n",
       "      <td>SLIDER</td>\n",
       "      <td>True</td>\n",
       "      <td>True</td>\n",
       "      <td>False</td>\n",
       "      <td>True</td>\n",
       "    </tr>\n",
       "    <tr>\n",
       "      <th>1457206</th>\n",
       "      <td>97005</td>\n",
       "      <td>0</td>\n",
       "      <td>-1</td>\n",
       "      <td>True</td>\n",
       "      <td>True</td>\n",
       "      <td>SLIDER</td>\n",
       "      <td>True</td>\n",
       "      <td>True</td>\n",
       "      <td>False</td>\n",
       "      <td>True</td>\n",
       "    </tr>\n",
       "  </tbody>\n",
       "</table>\n",
       "</div>"
      ],
      "text/plain": [
       "         Assembly  dir_index  axis_index  has_any_axis  has_same_dir_axis  \\\n",
       "1457202     97005          0           0          True               True   \n",
       "1457204     97005          0           0          True               True   \n",
       "1457205     97005          0          -1          True               True   \n",
       "1457206     97005          0          -1          True               True   \n",
       "\n",
       "           type  dirs_agree  axes_agree  rigid_comp_attempting_motion  valid  \n",
       "1457202  SLIDER        True        True                         False   True  \n",
       "1457204  SLIDER        True        True                         False   True  \n",
       "1457205  SLIDER        True        True                         False   True  \n",
       "1457206  SLIDER        True        True                         False   True  "
      ]
     },
     "execution_count": 39,
     "metadata": {},
     "output_type": "execute_result"
    }
   ],
   "source": [
    "mate_check_df_old.loc[actuallyvalid_old.difference(mate_check_df[lambda df: df['valid']].index)]"
   ]
  },
  {
   "cell_type": "code",
   "execution_count": 37,
   "id": "09570e4d-70ca-4b6a-a6d7-f942f3c92634",
   "metadata": {},
   "outputs": [
    {
     "data": {
      "text/html": [
       "<div>\n",
       "<style scoped>\n",
       "    .dataframe tbody tr th:only-of-type {\n",
       "        vertical-align: middle;\n",
       "    }\n",
       "\n",
       "    .dataframe tbody tr th {\n",
       "        vertical-align: top;\n",
       "    }\n",
       "\n",
       "    .dataframe thead th {\n",
       "        text-align: right;\n",
       "    }\n",
       "</style>\n",
       "<table border=\"1\" class=\"dataframe\">\n",
       "  <thead>\n",
       "    <tr style=\"text-align: right;\">\n",
       "      <th></th>\n",
       "      <th>Assembly</th>\n",
       "      <th>dir_index</th>\n",
       "      <th>axis_index</th>\n",
       "      <th>has_any_axis</th>\n",
       "      <th>has_same_dir_axis</th>\n",
       "      <th>type</th>\n",
       "      <th>dirs_agree</th>\n",
       "      <th>axes_agree</th>\n",
       "      <th>valid</th>\n",
       "    </tr>\n",
       "  </thead>\n",
       "  <tbody>\n",
       "    <tr>\n",
       "      <th>1457202</th>\n",
       "      <td>97005</td>\n",
       "      <td>48</td>\n",
       "      <td>-1</td>\n",
       "      <td>False</td>\n",
       "      <td>False</td>\n",
       "      <td>SLIDER</td>\n",
       "      <td>True</td>\n",
       "      <td>True</td>\n",
       "      <td>False</td>\n",
       "    </tr>\n",
       "    <tr>\n",
       "      <th>1457204</th>\n",
       "      <td>97005</td>\n",
       "      <td>48</td>\n",
       "      <td>-1</td>\n",
       "      <td>False</td>\n",
       "      <td>False</td>\n",
       "      <td>SLIDER</td>\n",
       "      <td>True</td>\n",
       "      <td>True</td>\n",
       "      <td>False</td>\n",
       "    </tr>\n",
       "    <tr>\n",
       "      <th>1457205</th>\n",
       "      <td>97005</td>\n",
       "      <td>0</td>\n",
       "      <td>-1</td>\n",
       "      <td>False</td>\n",
       "      <td>False</td>\n",
       "      <td>SLIDER</td>\n",
       "      <td>True</td>\n",
       "      <td>True</td>\n",
       "      <td>False</td>\n",
       "    </tr>\n",
       "    <tr>\n",
       "      <th>1457206</th>\n",
       "      <td>97005</td>\n",
       "      <td>0</td>\n",
       "      <td>-1</td>\n",
       "      <td>False</td>\n",
       "      <td>False</td>\n",
       "      <td>SLIDER</td>\n",
       "      <td>True</td>\n",
       "      <td>True</td>\n",
       "      <td>False</td>\n",
       "    </tr>\n",
       "  </tbody>\n",
       "</table>\n",
       "</div>"
      ],
      "text/plain": [
       "         Assembly  dir_index  axis_index  has_any_axis  has_same_dir_axis  \\\n",
       "1457202     97005         48          -1         False              False   \n",
       "1457204     97005         48          -1         False              False   \n",
       "1457205     97005          0          -1         False              False   \n",
       "1457206     97005          0          -1         False              False   \n",
       "\n",
       "           type  dirs_agree  axes_agree  valid  \n",
       "1457202  SLIDER        True        True  False  \n",
       "1457204  SLIDER        True        True  False  \n",
       "1457205  SLIDER        True        True  False  \n",
       "1457206  SLIDER        True        True  False  "
      ]
     },
     "execution_count": 37,
     "metadata": {},
     "output_type": "execute_result"
    }
   ],
   "source": [
    "mate_check_df.loc[actuallyvalid_old.difference(mate_check_df[lambda df: df['valid']].index)]"
   ]
  },
  {
   "cell_type": "code",
   "execution_count": 36,
   "id": "5cc7b676-867c-4d37-a5c2-1b7c6e90e60b",
   "metadata": {},
   "outputs": [
    {
     "data": {
      "text/plain": [
       "Int64Index([   1030,    2033,    2361,    3263,    3420,    3588,    3973,\n",
       "               7335,    7346,    7385,\n",
       "            ...\n",
       "            1877946, 1878124, 1878166, 1878254, 1878620, 1880144, 1880869,\n",
       "            1881253, 1882294, 1882344],\n",
       "           dtype='int64', length=3530)"
      ]
     },
     "execution_count": 36,
     "metadata": {},
     "output_type": "execute_result"
    }
   ],
   "source": [
    "mate_check_df_old.index.difference(mate_check_df.index)"
   ]
  },
  {
   "cell_type": "code",
   "execution_count": null,
   "id": "a2c18d39-83ea-4e1f-bd23-6c52960e0f9d",
   "metadata": {},
   "outputs": [],
   "source": []
  }
 ],
 "metadata": {
  "kernelspec": {
   "display_name": "Python 3 (ipykernel)",
   "language": "python",
   "name": "python3"
  },
  "language_info": {
   "codemirror_mode": {
    "name": "ipython",
    "version": 3
   },
   "file_extension": ".py",
   "mimetype": "text/x-python",
   "name": "python",
   "nbconvert_exporter": "python",
   "pygments_lexer": "ipython3",
   "version": "3.9.6"
  }
 },
 "nbformat": 4,
 "nbformat_minor": 5
}
