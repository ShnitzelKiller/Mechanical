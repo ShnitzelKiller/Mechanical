{
 "cells": [
  {
   "cell_type": "code",
   "execution_count": 2,
   "id": "cc9bd16a-213c-45d5-a12d-385991ca4b56",
   "metadata": {},
   "outputs": [],
   "source": [
    "from automate import part_to_graph, PartFeatures, HetData\n",
    "from torch_geometric.data import Batch\n",
    "import torch\n",
    "import os\n",
    "import h5py\n",
    "import pspy\n",
    "import pandas as ps"
   ]
  },
  {
   "cell_type": "markdown",
   "id": "90985359-ccf4-4c45-b8cf-9c87fa84cab5",
   "metadata": {},
   "source": [
    "## Testing flat batching"
   ]
  },
  {
   "cell_type": "code",
   "execution_count": 297,
   "id": "4604d2fe-ae59-4683-ab2b-eee245e6349f",
   "metadata": {},
   "outputs": [],
   "source": [
    "opts = pspy.PartOptions()"
   ]
  },
  {
   "cell_type": "code",
   "execution_count": 298,
   "id": "2b3f1947-8889-4ef2-b849-a52e38b8fb22",
   "metadata": {},
   "outputs": [],
   "source": [
    "path = '/projects/grail/benjones/cadlab/data/models/b6c979cf4e6660ff81e5a9c2/67d2f776871477086fbc37c5/1520c99d5029db1cafd9d6e5/default/JHD.xt'\n",
    "#path = '/projects/grail/benjones/cadlab/data/models/d8a598174bcbceaf7e2194e5/a54ba742eaa71cdd4dcefbaa/30babe4fe88353db54749ddc/default/JdD.xt'"
   ]
  },
  {
   "cell_type": "code",
   "execution_count": 299,
   "id": "505e390c-0735-4ffa-a742-11fdc9211764",
   "metadata": {},
   "outputs": [],
   "source": [
    "part = pspy.Part(path, opts)"
   ]
  },
  {
   "cell_type": "code",
   "execution_count": 300,
   "id": "27c3f725-635a-47c0-b048-1c3735468661",
   "metadata": {},
   "outputs": [],
   "source": [
    "opts = PartFeatures()"
   ]
  },
  {
   "cell_type": "code",
   "execution_count": 301,
   "id": "58374eee-3f08-4f72-bfeb-c376c6ce7f73",
   "metadata": {},
   "outputs": [],
   "source": [
    "pg = part_to_graph(part, opts)"
   ]
  },
  {
   "cell_type": "code",
   "execution_count": 302,
   "id": "b118cb25-588a-42d8-923f-81a6a6606ee5",
   "metadata": {},
   "outputs": [
    {
     "data": {
      "text/plain": [
       "array([[-0.0085725, -0.016383 , -0.0035   ],\n",
       "       [ 0.0085725,  0.0085725,  0.0012   ]])"
      ]
     },
     "execution_count": 302,
     "metadata": {},
     "output_type": "execute_result"
    }
   ],
   "source": [
    "part.summary.bounding_box"
   ]
  },
  {
   "cell_type": "code",
   "execution_count": 194,
   "id": "0be993e6-ed7a-48bf-be94-7e5a0bfe69d6",
   "metadata": {},
   "outputs": [],
   "source": [
    "datalist = [pg, pg]\n",
    "batch = Batch.from_data_list(datalist, follow_batch=['mcfs'])"
   ]
  },
  {
   "cell_type": "code",
   "execution_count": 240,
   "id": "a9f824c5-c9ca-49bb-9478-6582787ff4ad",
   "metadata": {},
   "outputs": [
    {
     "data": {
      "text/plain": [
       "Batch(E_to_edges=[3, 4608], F=[3, 5296], F_to_faces=[1, 5296], V=[2528, 3], V_to_vertices=[2, 72], batch=[686], edge_samples=[228, 7, 10], edge_to_flat_topos=[2, 228], edge_to_vertex=[2, 224], edges=[228, 68], face_samples=[102, 9, 10, 10], face_to_face=[3, 228], face_to_flat_topos=[2, 102], face_to_loop=[2, 284], faces=[102, 60], flat_topos=[686, 0], flat_topos_to_graph_idx=[1, 686], graph_idx=[2, 1], loop_to_edge=[2, 456], loop_to_flat_topos=[2, 284], loops=[284, 38], mcf_refs=[3, 1486], mcfs=[1486, 6], mcfs_batch=[1486], n_edges=[2], n_faces=[2], n_loops=[2], n_vertices=[2], part_feat=[2, 20], ptr=[3], vertex_to_flat_topos=[2, 72], vertices=[72, 3])"
      ]
     },
     "execution_count": 240,
     "metadata": {},
     "output_type": "execute_result"
    }
   ],
   "source": [
    "batch"
   ]
  },
  {
   "cell_type": "code",
   "execution_count": 259,
   "id": "6c012c76-5b15-4dd6-b158-6f4f3d6eea31",
   "metadata": {},
   "outputs": [
    {
     "data": {
      "text/plain": [
       "tensor([[0],\n",
       "        [0]])"
      ]
     },
     "execution_count": 259,
     "metadata": {},
     "output_type": "execute_result"
    }
   ],
   "source": [
    "batch.graph_idx"
   ]
  },
  {
   "cell_type": "code",
   "execution_count": 196,
   "id": "5ed59d0c-d3a0-40f9-84c5-d8fbf1338b8d",
   "metadata": {},
   "outputs": [
    {
     "data": {
      "text/plain": [
       "['batch', 'mcfs_batch']"
      ]
     },
     "execution_count": 196,
     "metadata": {},
     "output_type": "execute_result"
    }
   ],
   "source": [
    "[name for name in dir(batch) if name.endswith('batch')]"
   ]
  },
  {
   "cell_type": "code",
   "execution_count": 197,
   "id": "d6a9e17e-c6f6-44b2-822a-e08530f9721c",
   "metadata": {},
   "outputs": [],
   "source": [
    "pg_dict = {key: type((getattr(pg, key))) for key in dir(pg) if not isinstance(getattr(pg, key), torch.Tensor) and not callable(getattr(pg, key))}"
   ]
  },
  {
   "cell_type": "code",
   "execution_count": 198,
   "id": "420ac9e3-b4f6-4b51-959e-0642ebce6aa2",
   "metadata": {},
   "outputs": [],
   "source": [
    "batch_dict = {key: type((getattr(batch, key))) for key in dir(batch) if not isinstance(getattr(batch, key), torch.Tensor) and not callable(getattr(batch, key))}"
   ]
  },
  {
   "cell_type": "code",
   "execution_count": 199,
   "id": "02201f9b-dab2-4e8a-9b9b-e19207a4de43",
   "metadata": {},
   "outputs": [
    {
     "data": {
      "text/plain": [
       "{'__edge_sets__', '__node_sets__', '__num_nodes__'}"
      ]
     },
     "execution_count": 199,
     "metadata": {},
     "output_type": "execute_result"
    }
   ],
   "source": [
    "set(pg_dict.keys()).difference(batch_dict.keys())"
   ]
  },
  {
   "cell_type": "code",
   "execution_count": 200,
   "id": "f892e43f-19c3-4c84-ba92-0e0e792c54ca",
   "metadata": {},
   "outputs": [
    {
     "data": {
      "text/plain": [
       "{'__cat_dims__',\n",
       " '__cumsum__',\n",
       " '__num_graphs__',\n",
       " '__num_nodes_list__',\n",
       " '__slices__',\n",
       " 'num_graphs'}"
      ]
     },
     "execution_count": 200,
     "metadata": {},
     "output_type": "execute_result"
    }
   ],
   "source": [
    "set(batch_dict.keys()).difference(pg_dict.keys())"
   ]
  },
  {
   "cell_type": "code",
   "execution_count": 201,
   "id": "fa6058ac-ef3a-402a-835b-834ba1c0fc2d",
   "metadata": {},
   "outputs": [
    {
     "data": {
      "text/plain": [
       "{'__cat_dims__',\n",
       " '__cumsum__',\n",
       " '__num_graphs__',\n",
       " '__num_nodes_list__',\n",
       " '__slices__',\n",
       " 'batch',\n",
       " 'mcfs_batch',\n",
       " 'num_graphs',\n",
       " 'ptr'}"
      ]
     },
     "execution_count": 201,
     "metadata": {},
     "output_type": "execute_result"
    }
   ],
   "source": [
    "set([key for key in dir(batch) if not callable(getattr(batch, key))]).difference(set(dir(pg)))"
   ]
  },
  {
   "cell_type": "code",
   "execution_count": 202,
   "id": "f17ab677-986a-4208-b560-5abe44e26074",
   "metadata": {},
   "outputs": [
    {
     "data": {
      "text/plain": [
       "686"
      ]
     },
     "execution_count": 202,
     "metadata": {},
     "output_type": "execute_result"
    }
   ],
   "source": [
    "batch.num_nodes"
   ]
  },
  {
   "cell_type": "code",
   "execution_count": 203,
   "id": "649b9266-0095-43ce-9b8a-9f5fb57d665b",
   "metadata": {},
   "outputs": [
    {
     "data": {
      "text/plain": [
       "343"
      ]
     },
     "execution_count": 203,
     "metadata": {},
     "output_type": "execute_result"
    }
   ],
   "source": [
    "pg.__num_nodes__"
   ]
  },
  {
   "cell_type": "code",
   "execution_count": 204,
   "id": "d9cb1825-c21b-4f4c-8743-e336cfaab882",
   "metadata": {},
   "outputs": [
    {
     "data": {
      "text/plain": [
       "[343, 343]"
      ]
     },
     "execution_count": 204,
     "metadata": {},
     "output_type": "execute_result"
    }
   ],
   "source": [
    "batch.__num_nodes_list__"
   ]
  },
  {
   "cell_type": "code",
   "execution_count": 205,
   "id": "c6d3a06b-9d39-4de5-94dc-8475b9c47dbc",
   "metadata": {},
   "outputs": [
    {
     "data": {
      "text/plain": [
       "tensor([[0, 0, 0, 0, 0, 0, 0, 0, 0, 0, 0, 0, 0, 0, 0, 0, 0, 0, 0, 0, 0, 0, 0, 0,\n",
       "         0, 0, 0, 0, 0, 0, 0, 0, 0, 0, 0, 0, 0, 0, 0, 0, 0, 0, 0, 0, 0, 0, 0, 0,\n",
       "         0, 0, 0, 0, 0, 0, 0, 0, 0, 0, 0, 0, 0, 0, 0, 0, 0, 0, 0, 0, 0, 0, 0, 0,\n",
       "         0, 0, 0, 0, 0, 0, 0, 0, 0, 0, 0, 0, 0, 0, 0, 0, 0, 0, 0, 0, 0, 0, 0, 0,\n",
       "         0, 0, 0, 0, 0, 0, 0, 0, 0, 0, 0, 0, 0, 0, 0, 0, 0, 0, 0, 0, 0, 0, 0, 0,\n",
       "         0, 0, 0, 0, 0, 0, 0, 0, 0, 0, 0, 0, 0, 0, 0, 0, 0, 0, 0, 0, 0, 0, 0, 0,\n",
       "         0, 0, 0, 0, 0, 0, 0, 0, 0, 0, 0, 0, 0, 0, 0, 0, 0, 0, 0, 0, 0, 0, 0, 0,\n",
       "         0, 0, 0, 0, 0, 0, 0, 0, 0, 0, 0, 0, 0, 0, 0, 0, 0, 0, 0, 0, 0, 0, 0, 0,\n",
       "         0, 0, 0, 0, 0, 0, 0, 0, 0, 0, 0, 0, 0, 0, 0, 0, 0, 0, 0, 0, 0, 0, 0, 0,\n",
       "         0, 0, 0, 0, 0, 0, 0, 0, 0, 0, 0, 0, 0, 0, 0, 0, 0, 0, 0, 0, 0, 0, 0, 0,\n",
       "         0, 0, 0, 0, 0, 0, 0, 0, 0, 0, 0, 0, 0, 0, 0, 0, 0, 0, 0, 0, 0, 0, 0, 0,\n",
       "         0, 0, 0, 0, 0, 0, 0, 0, 0, 0, 0, 0, 0, 0, 0, 0, 0, 0, 0, 0, 0, 0, 0, 0,\n",
       "         0, 0, 0, 0, 0, 0, 0, 0, 0, 0, 0, 0, 0, 0, 0, 0, 0, 0, 0, 0, 0, 0, 0, 0,\n",
       "         0, 0, 0, 0, 0, 0, 0, 0, 0, 0, 0, 0, 0, 0, 0, 0, 0, 0, 0, 0, 0, 0, 0, 0,\n",
       "         0, 0, 0, 0, 0, 0, 0, 1, 1, 1, 1, 1, 1, 1, 1, 1, 1, 1, 1, 1, 1, 1, 1, 1,\n",
       "         1, 1, 1, 1, 1, 1, 1, 1, 1, 1, 1, 1, 1, 1, 1, 1, 1, 1, 1, 1, 1, 1, 1, 1,\n",
       "         1, 1, 1, 1, 1, 1, 1, 1, 1, 1, 1, 1, 1, 1, 1, 1, 1, 1, 1, 1, 1, 1, 1, 1,\n",
       "         1, 1, 1, 1, 1, 1, 1, 1, 1, 1, 1, 1, 1, 1, 1, 1, 1, 1, 1, 1, 1, 1, 1, 1,\n",
       "         1, 1, 1, 1, 1, 1, 1, 1, 1, 1, 1, 1, 1, 1, 1, 1, 1, 1, 1, 1, 1, 1, 1, 1,\n",
       "         1, 1, 1, 1, 1, 1, 1, 1, 1, 1, 1, 1, 1, 1, 1, 1, 1, 1, 1, 1, 1, 1, 1, 1,\n",
       "         1, 1, 1, 1, 1, 1, 1, 1, 1, 1, 1, 1, 1, 1, 1, 1, 1, 1, 1, 1, 1, 1, 1, 1,\n",
       "         1, 1, 1, 1, 1, 1, 1, 1, 1, 1, 1, 1, 1, 1, 1, 1, 1, 1, 1, 1, 1, 1, 1, 1,\n",
       "         1, 1, 1, 1, 1, 1, 1, 1, 1, 1, 1, 1, 1, 1, 1, 1, 1, 1, 1, 1, 1, 1, 1, 1,\n",
       "         1, 1, 1, 1, 1, 1, 1, 1, 1, 1, 1, 1, 1, 1, 1, 1, 1, 1, 1, 1, 1, 1, 1, 1,\n",
       "         1, 1, 1, 1, 1, 1, 1, 1, 1, 1, 1, 1, 1, 1, 1, 1, 1, 1, 1, 1, 1, 1, 1, 1,\n",
       "         1, 1, 1, 1, 1, 1, 1, 1, 1, 1, 1, 1, 1, 1, 1, 1, 1, 1, 1, 1, 1, 1, 1, 1,\n",
       "         1, 1, 1, 1, 1, 1, 1, 1, 1, 1, 1, 1, 1, 1, 1, 1, 1, 1, 1, 1, 1, 1, 1, 1,\n",
       "         1, 1, 1, 1, 1, 1, 1, 1, 1, 1, 1, 1, 1, 1, 1, 1, 1, 1, 1, 1, 1, 1, 1, 1,\n",
       "         1, 1, 1, 1, 1, 1, 1, 1, 1, 1, 1, 1, 1, 1]])"
      ]
     },
     "execution_count": 205,
     "metadata": {},
     "output_type": "execute_result"
    }
   ],
   "source": [
    "batch.flat_topos_to_graph_idx"
   ]
  },
  {
   "cell_type": "code",
   "execution_count": 206,
   "id": "f86e40e0-1fac-4eb0-9d31-46af0943c5df",
   "metadata": {},
   "outputs": [],
   "source": [
    "def flatbatch(datalist):\n",
    "    follow_batch = []\n",
    "    if hasattr(datalist[0], 'mcfs'):\n",
    "        follow_batch .append('mcfs')\n",
    "    batch = Batch.from_data_list(datalist, follow_batch=follow_batch)\n",
    "    data = HetData()\n",
    "    for key in dir(batch):\n",
    "        if not key.endswith('batch') and key != 'ptr':\n",
    "            val = getattr(batch, key)\n",
    "            if isinstance(val, torch.Tensor):\n",
    "                setattr(data, key, val)\n",
    "    data.__edge_sets__ = datalist[0].__edge_sets__\n",
    "    if hasattr(batch, 'mcfs_batch'):\n",
    "        data.mcf_to_graph_idx = batch.mcfs_batch.expand((1, batch.mcfs.shape[0]))\n",
    "        data.__edge_sets__['mcf_to_graph_idx'] = len(datalist)\n",
    "    data.__num_nodes__ = batch.num_nodes\n",
    "    data.__node_sets__ = datalist[0].__node_sets__\n",
    "    data.__edge_sets__['flat_topos_to_graph_idx'] = len(datalist)\n",
    "    return data"
   ]
  },
  {
   "cell_type": "code",
   "execution_count": 207,
   "id": "5d70ecd1-0e52-4a78-a8c9-fc55492ada0c",
   "metadata": {},
   "outputs": [],
   "source": [
    "fbatch = flatbatch(datalist)"
   ]
  },
  {
   "cell_type": "code",
   "execution_count": 208,
   "id": "0e2e2993-1fe1-4ace-adb1-cf4b5dc34c97",
   "metadata": {},
   "outputs": [
    {
     "data": {
      "text/plain": [
       "{'mcf_to_graph_idx'}"
      ]
     },
     "execution_count": 208,
     "metadata": {},
     "output_type": "execute_result"
    }
   ],
   "source": [
    "set(fbatch.keys).difference(set(pg.keys))"
   ]
  },
  {
   "cell_type": "code",
   "execution_count": 209,
   "id": "eb3949d3-6806-44ea-a1e3-bfec0da85a1b",
   "metadata": {},
   "outputs": [
    {
     "data": {
      "text/plain": [
       "tensor([[0, 0, 0, 0, 0, 0, 0, 0, 0, 0, 0, 0, 0, 0, 0, 0, 0, 0, 0, 0, 0, 0, 0, 0,\n",
       "         0, 0, 0, 0, 0, 0, 0, 0, 0, 0, 0, 0, 0, 0, 0, 0, 0, 0, 0, 0, 0, 0, 0, 0,\n",
       "         0, 0, 0, 0, 0, 0, 0, 0, 0, 0, 0, 0, 0, 0, 0, 0, 0, 0, 0, 0, 0, 0, 0, 0,\n",
       "         0, 0, 0, 0, 0, 0, 0, 0, 0, 0, 0, 0, 0, 0, 0, 0, 0, 0, 0, 0, 0, 0, 0, 0,\n",
       "         0, 0, 0, 0, 0, 0, 0, 0, 0, 0, 0, 0, 0, 0, 0, 0, 0, 0, 0, 0, 0, 0, 0, 0,\n",
       "         0, 0, 0, 0, 0, 0, 0, 0, 0, 0, 0, 0, 0, 0, 0, 0, 0, 0, 0, 0, 0, 0, 0, 0,\n",
       "         0, 0, 0, 0, 0, 0, 0, 0, 0, 0, 0, 0, 0, 0, 0, 0, 0, 0, 0, 0, 0, 0, 0, 0,\n",
       "         0, 0, 0, 0, 0, 0, 0, 0, 0, 0, 0, 0, 0, 0, 0, 0, 0, 0, 0, 0, 0, 0, 0, 0,\n",
       "         0, 0, 0, 0, 0, 0, 0, 0, 0, 0, 0, 0, 0, 0, 0, 0, 0, 0, 0, 0, 0, 0, 0, 0,\n",
       "         0, 0, 0, 0, 0, 0, 0, 0, 0, 0, 0, 0, 0, 0, 0, 0, 0, 0, 0, 0, 0, 0, 0, 0,\n",
       "         0, 0, 0, 0, 0, 0, 0, 0, 0, 0, 0, 0, 0, 0, 0, 0, 0, 0, 0, 0, 0, 0, 0, 0,\n",
       "         0, 0, 0, 0, 0, 0, 0, 0, 0, 0, 0, 0, 0, 0, 0, 0, 0, 0, 0, 0, 0, 0, 0, 0,\n",
       "         0, 0, 0, 0, 0, 0, 0, 0, 0, 0, 0, 0, 0, 0, 0, 0, 0, 0, 0, 0, 0, 0, 0, 0,\n",
       "         0, 0, 0, 0, 0, 0, 0, 0, 0, 0, 0, 0, 0, 0, 0, 0, 0, 0, 0, 0, 0, 0, 0, 0,\n",
       "         0, 0, 0, 0, 0, 0, 0, 1, 1, 1, 1, 1, 1, 1, 1, 1, 1, 1, 1, 1, 1, 1, 1, 1,\n",
       "         1, 1, 1, 1, 1, 1, 1, 1, 1, 1, 1, 1, 1, 1, 1, 1, 1, 1, 1, 1, 1, 1, 1, 1,\n",
       "         1, 1, 1, 1, 1, 1, 1, 1, 1, 1, 1, 1, 1, 1, 1, 1, 1, 1, 1, 1, 1, 1, 1, 1,\n",
       "         1, 1, 1, 1, 1, 1, 1, 1, 1, 1, 1, 1, 1, 1, 1, 1, 1, 1, 1, 1, 1, 1, 1, 1,\n",
       "         1, 1, 1, 1, 1, 1, 1, 1, 1, 1, 1, 1, 1, 1, 1, 1, 1, 1, 1, 1, 1, 1, 1, 1,\n",
       "         1, 1, 1, 1, 1, 1, 1, 1, 1, 1, 1, 1, 1, 1, 1, 1, 1, 1, 1, 1, 1, 1, 1, 1,\n",
       "         1, 1, 1, 1, 1, 1, 1, 1, 1, 1, 1, 1, 1, 1, 1, 1, 1, 1, 1, 1, 1, 1, 1, 1,\n",
       "         1, 1, 1, 1, 1, 1, 1, 1, 1, 1, 1, 1, 1, 1, 1, 1, 1, 1, 1, 1, 1, 1, 1, 1,\n",
       "         1, 1, 1, 1, 1, 1, 1, 1, 1, 1, 1, 1, 1, 1, 1, 1, 1, 1, 1, 1, 1, 1, 1, 1,\n",
       "         1, 1, 1, 1, 1, 1, 1, 1, 1, 1, 1, 1, 1, 1, 1, 1, 1, 1, 1, 1, 1, 1, 1, 1,\n",
       "         1, 1, 1, 1, 1, 1, 1, 1, 1, 1, 1, 1, 1, 1, 1, 1, 1, 1, 1, 1, 1, 1, 1, 1,\n",
       "         1, 1, 1, 1, 1, 1, 1, 1, 1, 1, 1, 1, 1, 1, 1, 1, 1, 1, 1, 1, 1, 1, 1, 1,\n",
       "         1, 1, 1, 1, 1, 1, 1, 1, 1, 1, 1, 1, 1, 1, 1, 1, 1, 1, 1, 1, 1, 1, 1, 1,\n",
       "         1, 1, 1, 1, 1, 1, 1, 1, 1, 1, 1, 1, 1, 1, 1, 1, 1, 1, 1, 1, 1, 1, 1, 1,\n",
       "         1, 1, 1, 1, 1, 1, 1, 1, 1, 1, 1, 1, 1, 1]])"
      ]
     },
     "execution_count": 209,
     "metadata": {},
     "output_type": "execute_result"
    }
   ],
   "source": [
    "fbatch.flat_topos_to_graph_idx"
   ]
  },
  {
   "cell_type": "code",
   "execution_count": 210,
   "id": "34f7a64f-5968-4213-b182-369287b33a37",
   "metadata": {},
   "outputs": [
    {
     "data": {
      "text/plain": [
       "tensor([[0, 0, 0,  ..., 1, 1, 1]])"
      ]
     },
     "execution_count": 210,
     "metadata": {},
     "output_type": "execute_result"
    }
   ],
   "source": [
    "fbatch.mcf_to_graph_idx"
   ]
  },
  {
   "cell_type": "code",
   "execution_count": 211,
   "id": "4e70422a-6116-41b2-940f-7f0826a15986",
   "metadata": {},
   "outputs": [],
   "source": [
    "rebatch = Batch.from_data_list([fbatch, fbatch])"
   ]
  },
  {
   "cell_type": "code",
   "execution_count": 212,
   "id": "4d056b18-2cf7-4869-90ee-c00959c5aaf1",
   "metadata": {},
   "outputs": [
    {
     "data": {
      "text/plain": [
       "tensor([[0, 0, 0,  ..., 3, 3, 3]])"
      ]
     },
     "execution_count": 212,
     "metadata": {},
     "output_type": "execute_result"
    }
   ],
   "source": [
    "rebatch.flat_topos_to_graph_idx"
   ]
  },
  {
   "cell_type": "code",
   "execution_count": 213,
   "id": "3d75337f-d5c5-4604-a884-c972a3668fa8",
   "metadata": {},
   "outputs": [
    {
     "data": {
      "text/plain": [
       "array([[0, 0, 0, ..., 3, 3, 3]])"
      ]
     },
     "execution_count": 213,
     "metadata": {},
     "output_type": "execute_result"
    }
   ],
   "source": [
    "rebatch.mcf_to_graph_idx.numpy()"
   ]
  },
  {
   "cell_type": "code",
   "execution_count": 215,
   "id": "9d94cfea-2b03-4fbd-b5af-52f64223c155",
   "metadata": {},
   "outputs": [
    {
     "data": {
      "text/plain": [
       "torch.Size([1, 1372])"
      ]
     },
     "execution_count": 215,
     "metadata": {},
     "output_type": "execute_result"
    }
   ],
   "source": [
    "rebatch.flat_topos_to_graph_idx.shape"
   ]
  },
  {
   "cell_type": "code",
   "execution_count": 214,
   "id": "fe366fab-2c15-4cee-8a40-6ce59ef78aae",
   "metadata": {},
   "outputs": [
    {
     "data": {
      "text/plain": [
       "torch.Size([1, 2972])"
      ]
     },
     "execution_count": 214,
     "metadata": {},
     "output_type": "execute_result"
    }
   ],
   "source": [
    "rebatch.mcf_to_graph_idx.shape"
   ]
  },
  {
   "cell_type": "code",
   "execution_count": 80,
   "id": "497b1545-2d0d-40fe-9a13-e6afa20e7459",
   "metadata": {},
   "outputs": [
    {
     "data": {
      "text/plain": [
       "343"
      ]
     },
     "execution_count": 80,
     "metadata": {},
     "output_type": "execute_result"
    }
   ],
   "source": [
    "len(part.brep.nodes.faces) + len(part.brep.nodes.edges) + len(part.brep.nodes.loops) + len(part.brep.nodes.vertices)"
   ]
  },
  {
   "cell_type": "markdown",
   "id": "45249a76-9a4c-4df5-b8ec-70f9d3182490",
   "metadata": {},
   "source": [
    "## plotting"
   ]
  },
  {
   "cell_type": "code",
   "execution_count": 81,
   "id": "972de3a2-8678-4c4f-bea3-e5bb009656c7",
   "metadata": {},
   "outputs": [
    {
     "data": {
      "text/plain": [
       "array([[-0.0085725, -0.016383 , -0.0035   ],\n",
       "       [ 0.0085725,  0.0085725,  0.0012   ]])"
      ]
     },
     "execution_count": 81,
     "metadata": {},
     "output_type": "execute_result"
    }
   ],
   "source": [
    "part.summary.bounding_box"
   ]
  },
  {
   "cell_type": "code",
   "execution_count": 289,
   "id": "8c9ac8cc-c352-4d69-b241-18cc607eb755",
   "metadata": {},
   "outputs": [],
   "source": [
    "import meshplot as mp"
   ]
  },
  {
   "cell_type": "code",
   "execution_count": 304,
   "id": "3bca0a8a-8574-447f-904f-b84ea8475490",
   "metadata": {},
   "outputs": [
    {
     "data": {
      "text/plain": [
       "(3, 2648)"
      ]
     },
     "execution_count": 304,
     "metadata": {},
     "output_type": "execute_result"
    }
   ],
   "source": [
    "pg.F.numpy().shape"
   ]
  },
  {
   "cell_type": "code",
   "execution_count": 305,
   "id": "54b29557-8044-49b0-93f5-80daaaa06a68",
   "metadata": {},
   "outputs": [
    {
     "data": {
      "text/plain": [
       "(2648, 3)"
      ]
     },
     "execution_count": 305,
     "metadata": {},
     "output_type": "execute_result"
    }
   ],
   "source": [
    "part.mesh.F.shape"
   ]
  },
  {
   "cell_type": "code",
   "execution_count": 306,
   "id": "1660b247-20f9-4d86-950c-29dfa2a8cb9f",
   "metadata": {},
   "outputs": [
    {
     "data": {
      "application/vnd.jupyter.widget-view+json": {
       "model_id": "3fcc20ee034d48569c95617a07786983",
       "version_major": 2,
       "version_minor": 0
      },
      "text/plain": [
       "Renderer(camera=PerspectiveCamera(children=(DirectionalLight(color='white', intensity=0.6, position=(0.0, 0.00…"
      ]
     },
     "metadata": {},
     "output_type": "display_data"
    },
    {
     "data": {
      "text/plain": [
       "<meshplot.Viewer.Viewer at 0x7f01205b4c40>"
      ]
     },
     "execution_count": 306,
     "metadata": {},
     "output_type": "execute_result"
    }
   ],
   "source": [
    "mp.plot(pg.V.numpy(), pg.F.numpy().T)"
   ]
  },
  {
   "cell_type": "code",
   "execution_count": 290,
   "id": "2a1081d6-b1df-423d-b95a-f902a00db3ee",
   "metadata": {},
   "outputs": [
    {
     "data": {
      "application/vnd.jupyter.widget-view+json": {
       "model_id": "80ec5d4fec0d455da6492f37e49aed03",
       "version_major": 2,
       "version_minor": 0
      },
      "text/plain": [
       "Renderer(camera=PerspectiveCamera(children=(DirectionalLight(color='white', intensity=0.6, position=(0.0, 0.00…"
      ]
     },
     "metadata": {},
     "output_type": "display_data"
    }
   ],
   "source": [
    "p = mp.plot(part.mesh.V, part.mesh.F)"
   ]
  },
  {
   "cell_type": "code",
   "execution_count": 84,
   "id": "c9ed2ee2-689a-4143-b3c7-bba65bffcd55",
   "metadata": {},
   "outputs": [
    {
     "data": {
      "text/plain": [
       "1"
      ]
     },
     "execution_count": 84,
     "metadata": {},
     "output_type": "execute_result"
    }
   ],
   "source": [
    "p.add_mesh(part.mesh.V + 0.001, part.mesh.F)"
   ]
  },
  {
   "cell_type": "code",
   "execution_count": 85,
   "id": "b582e019-532b-43ab-a289-36c1e66a64b3",
   "metadata": {},
   "outputs": [],
   "source": [
    "import wildmeshing as wm"
   ]
  },
  {
   "cell_type": "code",
   "execution_count": 86,
   "id": "3575a1ed-36d3-4d57-8060-c1e32ea8128a",
   "metadata": {},
   "outputs": [],
   "source": [
    "import igl"
   ]
  },
  {
   "cell_type": "code",
   "execution_count": 87,
   "id": "b276e16a-6bee-4238-865e-7bfb0284092d",
   "metadata": {},
   "outputs": [
    {
     "data": {
      "text/plain": [
       "True"
      ]
     },
     "execution_count": 87,
     "metadata": {},
     "output_type": "execute_result"
    }
   ],
   "source": [
    "igl.write_obj('testobj.obj', part.mesh.V, part.mesh.F)"
   ]
  },
  {
   "cell_type": "code",
   "execution_count": 88,
   "id": "afa5ed26-2c04-45d4-b0a4-dfdb782839e7",
   "metadata": {},
   "outputs": [
    {
     "data": {
      "text/plain": [
       "\u001b[0;31mDocstring:\u001b[0m      Wildmeshing tetrahedralizer\n",
       "\u001b[0;31mInit docstring:\u001b[0m __init__(self: wildmeshing.wildmeshing.Tetrahedralizer, stop_quality: float = 10, max_its: int = 80, stage: int = 2, stop_p: int = -1, epsilon: float = 0.001, edge_length_r: float = 0.05, skip_simplify: bool = False) -> None\n",
       "\u001b[0;31mFile:\u001b[0m           /fast/jamesn8/anaconda3/envs/torch3/lib/python3.9/site-packages/wildmeshing/wildmeshing.cpython-39-x86_64-linux-gnu.so\n",
       "\u001b[0;31mType:\u001b[0m           pybind11_type\n",
       "\u001b[0;31mSubclasses:\u001b[0m     \n"
      ]
     },
     "metadata": {},
     "output_type": "display_data"
    }
   ],
   "source": [
    "?wm.Tetrahedralizer"
   ]
  },
  {
   "cell_type": "code",
   "execution_count": 89,
   "id": "68c91bdb-5f99-4237-8ba4-417715395bf0",
   "metadata": {},
   "outputs": [
    {
     "name": "stdout",
     "output_type": "stream",
     "text": [
      "TBB threads 32\n"
     ]
    }
   ],
   "source": [
    "tet = wm.Tetrahedralizer()"
   ]
  },
  {
   "cell_type": "code",
   "execution_count": 90,
   "id": "d0bea3b0-4d41-4b7c-b8d5-8b2ae7a3677e",
   "metadata": {},
   "outputs": [
    {
     "data": {
      "text/plain": [
       "\u001b[0;31mDocstring:\u001b[0m\n",
       "set_mesh(self: wildmeshing.wildmeshing.Tetrahedralizer, V: numpy.ndarray[float64[m, n]], F: numpy.ndarray[int32[m, n]]) -> None\n",
       "\n",
       "sets a mesh\n",
       "\u001b[0;31mType:\u001b[0m      method\n"
      ]
     },
     "metadata": {},
     "output_type": "display_data"
    }
   ],
   "source": [
    "?tet.set_mesh"
   ]
  },
  {
   "cell_type": "code",
   "execution_count": 91,
   "id": "7f763c82-152a-47bc-bf4c-379b430ffc5c",
   "metadata": {},
   "outputs": [
    {
     "name": "stdout",
     "output_type": "stream",
     "text": [
      "bbox_diag_length = 3.77454\n",
      "ideal_edge_length = 0.188727\n",
      "stage = 2\n",
      "eps_input = 0.00377454\n",
      "eps = 0.00208955\n",
      "eps_simplification = 0.00167164\n",
      "eps_coplanar = 3.77454e-06\n",
      "dd = 0.00251636\n",
      "dd_simplification = 0.00201309\n"
     ]
    }
   ],
   "source": [
    "tet.set_mesh(part.mesh.V * 100, part.mesh.F)"
   ]
  },
  {
   "cell_type": "code",
   "execution_count": null,
   "id": "7b2916fc-d57a-4d58-a674-1c982fcb15bf",
   "metadata": {},
   "outputs": [],
   "source": [
    "V, T = tet.get_tet_mesh()"
   ]
  },
  {
   "cell_type": "code",
   "execution_count": null,
   "id": "2251d5c4-9ddd-40f1-9a1d-e46c1361fce0",
   "metadata": {},
   "outputs": [],
   "source": []
  },
  {
   "cell_type": "code",
   "execution_count": 68,
   "id": "895bdbff-4a5f-429e-b97c-a07cc1733fbb",
   "metadata": {},
   "outputs": [
    {
     "data": {
      "text/plain": [
       "array([0.0075725, 0.01524  , 0.       ])"
      ]
     },
     "execution_count": 68,
     "metadata": {},
     "output_type": "execute_result"
    }
   ],
   "source": [
    "part.default_mcfs[0].origin"
   ]
  },
  {
   "cell_type": "code",
   "execution_count": 58,
   "id": "b12e61e7-48e1-45d7-a8fc-c1413a38c22f",
   "metadata": {},
   "outputs": [],
   "source": [
    "data = torch.load('/fast/jamesn8/assembly_data/assembly_torch2_fixsize/pspy_batches/batches/22533.dat')"
   ]
  },
  {
   "cell_type": "code",
   "execution_count": 62,
   "id": "d35868fd-3506-4771-84f3-12a74bfecaf6",
   "metadata": {},
   "outputs": [
    {
     "data": {
      "text/plain": [
       "HetData(E_to_edges=[3, 7434], F=[3, 7168], F_to_faces=[1, 7168], V=[3572, 3], V_to_vertices=[2, 784], edge_to_flat_topos=[2, 1299], edge_to_vertex=[2, 2474], edges=[1299, 68], face_to_face=[3, 1299], face_to_flat_topos=[2, 529], face_to_loop=[2, 617], faces=[529, 60], flat_topos=[3229, 0], flat_topos_to_graph_idx=[1, 3229], graph_idx=[3, 1], loop_to_edge=[2, 2598], loop_to_flat_topos=[2, 617], loops=[617, 38], mcf_refs=[3, 10325], mcfs=[10325, 6], n_edges=[3], n_faces=[3], n_loops=[3], n_vertices=[3], part_feat=[3, 20], vertex_to_flat_topos=[2, 784], vertices=[784, 3])"
      ]
     },
     "execution_count": 62,
     "metadata": {},
     "output_type": "execute_result"
    }
   ],
   "source": [
    "data"
   ]
  },
  {
   "cell_type": "code",
   "execution_count": 63,
   "id": "a58587dc-f8b5-41fa-a69f-40773dd1cb34",
   "metadata": {},
   "outputs": [
    {
     "data": {
      "text/plain": [
       "tensor([[   0,    0,    0,  ..., 3204, 3205, 3206],\n",
       "        [   0, 1451,  302,  ..., 3204, 3205, 3206],\n",
       "        [   1,    7,    2,  ...,    3,    3,    3]])"
      ]
     },
     "execution_count": 63,
     "metadata": {},
     "output_type": "execute_result"
    }
   ],
   "source": [
    "data.mcf_refs"
   ]
  },
  {
   "cell_type": "code",
   "execution_count": 105,
   "id": "71079f27-16ce-4b6b-b262-eb643241a04e",
   "metadata": {},
   "outputs": [],
   "source": [
    "from mechanical.utils import load_concatenated"
   ]
  },
  {
   "cell_type": "code",
   "execution_count": 106,
   "id": "834424ba-08a4-42df-887a-a4198c8064bd",
   "metadata": {},
   "outputs": [
    {
     "data": {
      "text/plain": [
       "\u001b[0;31mSignature:\u001b[0m\n",
       "\u001b[0mload_concatenated\u001b[0m\u001b[0;34m(\u001b[0m\u001b[0;34m\u001b[0m\n",
       "\u001b[0;34m\u001b[0m    \u001b[0mstats_path\u001b[0m\u001b[0;34m,\u001b[0m\u001b[0;34m\u001b[0m\n",
       "\u001b[0;34m\u001b[0m    \u001b[0mext\u001b[0m\u001b[0;34m=\u001b[0m\u001b[0;34m'.parquet'\u001b[0m\u001b[0;34m,\u001b[0m\u001b[0;34m\u001b[0m\n",
       "\u001b[0;34m\u001b[0m    \u001b[0mkey\u001b[0m\u001b[0;34m=\u001b[0m\u001b[0;32mNone\u001b[0m\u001b[0;34m,\u001b[0m\u001b[0;34m\u001b[0m\n",
       "\u001b[0;34m\u001b[0m    \u001b[0mstart\u001b[0m\u001b[0;34m=\u001b[0m\u001b[0;34m'stats'\u001b[0m\u001b[0;34m,\u001b[0m\u001b[0;34m\u001b[0m\n",
       "\u001b[0;34m\u001b[0m    \u001b[0mdrop_duplicates\u001b[0m\u001b[0;34m=\u001b[0m\u001b[0;32mTrue\u001b[0m\u001b[0;34m,\u001b[0m\u001b[0;34m\u001b[0m\n",
       "\u001b[0;34m\u001b[0m\u001b[0;34m)\u001b[0m\u001b[0;34m\u001b[0m\u001b[0;34m\u001b[0m\u001b[0m\n",
       "\u001b[0;31mDocstring:\u001b[0m <no docstring>\n",
       "\u001b[0;31mFile:\u001b[0m      /projects/grail/jamesn8/projects/mechanical/Mechanical/mechanical/utils/utils.py\n",
       "\u001b[0;31mType:\u001b[0m      function\n"
      ]
     },
     "metadata": {},
     "output_type": "display_data"
    }
   ],
   "source": [
    "load_concatenated?"
   ]
  },
  {
   "cell_type": "code",
   "execution_count": 116,
   "id": "2e9b9ace-e6c4-4ed9-b2f0-64cc07d2bfdc",
   "metadata": {},
   "outputs": [],
   "source": [
    "batch_df = load_concatenated('/fast/jamesn8/assembly_data/assembly_torch2_fixsize/pspy_batches',start='assembly_stats')\n",
    "batch_df.fillna({'num_normalized_parts_with_discrepancies': 0,'num_invalid_transformed_parts':0}, inplace=True)"
   ]
  },
  {
   "cell_type": "code",
   "execution_count": 117,
   "id": "5dd67bc8-39d8-475b-9ed2-19872401afde",
   "metadata": {},
   "outputs": [
    {
     "data": {
      "text/html": [
       "<div>\n",
       "<style scoped>\n",
       "    .dataframe tbody tr th:only-of-type {\n",
       "        vertical-align: middle;\n",
       "    }\n",
       "\n",
       "    .dataframe tbody tr th {\n",
       "        vertical-align: top;\n",
       "    }\n",
       "\n",
       "    .dataframe thead th {\n",
       "        text-align: right;\n",
       "    }\n",
       "</style>\n",
       "<table border=\"1\" class=\"dataframe\">\n",
       "  <thead>\n",
       "    <tr style=\"text-align: right;\">\n",
       "      <th></th>\n",
       "      <th>num_total_parts</th>\n",
       "      <th>num_invalid_loaded_parts</th>\n",
       "      <th>num_topologies</th>\n",
       "      <th>too_big</th>\n",
       "      <th>invalid_bbox</th>\n",
       "      <th>maxdim</th>\n",
       "      <th>num_normalized_parts_with_discrepancies</th>\n",
       "      <th>num_invalid_transformed_parts</th>\n",
       "      <th>initialized</th>\n",
       "    </tr>\n",
       "    <tr>\n",
       "      <th>index</th>\n",
       "      <th></th>\n",
       "      <th></th>\n",
       "      <th></th>\n",
       "      <th></th>\n",
       "      <th></th>\n",
       "      <th></th>\n",
       "      <th></th>\n",
       "      <th></th>\n",
       "      <th></th>\n",
       "    </tr>\n",
       "  </thead>\n",
       "  <tbody>\n",
       "    <tr>\n",
       "      <th>45860</th>\n",
       "      <td>14</td>\n",
       "      <td>0</td>\n",
       "      <td>1082</td>\n",
       "      <td>False</td>\n",
       "      <td>False</td>\n",
       "      <td>0.217000</td>\n",
       "      <td>0.0</td>\n",
       "      <td>0.0</td>\n",
       "      <td>True</td>\n",
       "    </tr>\n",
       "    <tr>\n",
       "      <th>45863</th>\n",
       "      <td>4</td>\n",
       "      <td>0</td>\n",
       "      <td>613</td>\n",
       "      <td>False</td>\n",
       "      <td>False</td>\n",
       "      <td>0.598122</td>\n",
       "      <td>0.0</td>\n",
       "      <td>0.0</td>\n",
       "      <td>True</td>\n",
       "    </tr>\n",
       "    <tr>\n",
       "      <th>45872</th>\n",
       "      <td>11</td>\n",
       "      <td>0</td>\n",
       "      <td>2011</td>\n",
       "      <td>False</td>\n",
       "      <td>False</td>\n",
       "      <td>0.260000</td>\n",
       "      <td>0.0</td>\n",
       "      <td>0.0</td>\n",
       "      <td>True</td>\n",
       "    </tr>\n",
       "    <tr>\n",
       "      <th>45873</th>\n",
       "      <td>7</td>\n",
       "      <td>0</td>\n",
       "      <td>862</td>\n",
       "      <td>False</td>\n",
       "      <td>False</td>\n",
       "      <td>0.082000</td>\n",
       "      <td>0.0</td>\n",
       "      <td>0.0</td>\n",
       "      <td>True</td>\n",
       "    </tr>\n",
       "    <tr>\n",
       "      <th>45879</th>\n",
       "      <td>5</td>\n",
       "      <td>0</td>\n",
       "      <td>660</td>\n",
       "      <td>False</td>\n",
       "      <td>False</td>\n",
       "      <td>0.142187</td>\n",
       "      <td>0.0</td>\n",
       "      <td>0.0</td>\n",
       "      <td>True</td>\n",
       "    </tr>\n",
       "    <tr>\n",
       "      <th>...</th>\n",
       "      <td>...</td>\n",
       "      <td>...</td>\n",
       "      <td>...</td>\n",
       "      <td>...</td>\n",
       "      <td>...</td>\n",
       "      <td>...</td>\n",
       "      <td>...</td>\n",
       "      <td>...</td>\n",
       "      <td>...</td>\n",
       "    </tr>\n",
       "    <tr>\n",
       "      <th>19260</th>\n",
       "      <td>12</td>\n",
       "      <td>0</td>\n",
       "      <td>1476</td>\n",
       "      <td>False</td>\n",
       "      <td>False</td>\n",
       "      <td>1.539875</td>\n",
       "      <td>0.0</td>\n",
       "      <td>0.0</td>\n",
       "      <td>True</td>\n",
       "    </tr>\n",
       "    <tr>\n",
       "      <th>19264</th>\n",
       "      <td>2</td>\n",
       "      <td>0</td>\n",
       "      <td>628</td>\n",
       "      <td>False</td>\n",
       "      <td>False</td>\n",
       "      <td>0.103000</td>\n",
       "      <td>0.0</td>\n",
       "      <td>0.0</td>\n",
       "      <td>True</td>\n",
       "    </tr>\n",
       "    <tr>\n",
       "      <th>19289</th>\n",
       "      <td>2</td>\n",
       "      <td>0</td>\n",
       "      <td>1138</td>\n",
       "      <td>False</td>\n",
       "      <td>False</td>\n",
       "      <td>0.072000</td>\n",
       "      <td>0.0</td>\n",
       "      <td>0.0</td>\n",
       "      <td>True</td>\n",
       "    </tr>\n",
       "    <tr>\n",
       "      <th>19298</th>\n",
       "      <td>2</td>\n",
       "      <td>0</td>\n",
       "      <td>165</td>\n",
       "      <td>False</td>\n",
       "      <td>False</td>\n",
       "      <td>0.077250</td>\n",
       "      <td>0.0</td>\n",
       "      <td>0.0</td>\n",
       "      <td>True</td>\n",
       "    </tr>\n",
       "    <tr>\n",
       "      <th>19301</th>\n",
       "      <td>5</td>\n",
       "      <td>0</td>\n",
       "      <td>1166</td>\n",
       "      <td>False</td>\n",
       "      <td>False</td>\n",
       "      <td>0.109886</td>\n",
       "      <td>0.0</td>\n",
       "      <td>0.0</td>\n",
       "      <td>True</td>\n",
       "    </tr>\n",
       "  </tbody>\n",
       "</table>\n",
       "<p>13967 rows × 9 columns</p>\n",
       "</div>"
      ],
      "text/plain": [
       "       num_total_parts  num_invalid_loaded_parts  num_topologies  too_big  \\\n",
       "index                                                                       \n",
       "45860               14                         0            1082    False   \n",
       "45863                4                         0             613    False   \n",
       "45872               11                         0            2011    False   \n",
       "45873                7                         0             862    False   \n",
       "45879                5                         0             660    False   \n",
       "...                ...                       ...             ...      ...   \n",
       "19260               12                         0            1476    False   \n",
       "19264                2                         0             628    False   \n",
       "19289                2                         0            1138    False   \n",
       "19298                2                         0             165    False   \n",
       "19301                5                         0            1166    False   \n",
       "\n",
       "       invalid_bbox    maxdim  num_normalized_parts_with_discrepancies  \\\n",
       "index                                                                    \n",
       "45860         False  0.217000                                      0.0   \n",
       "45863         False  0.598122                                      0.0   \n",
       "45872         False  0.260000                                      0.0   \n",
       "45873         False  0.082000                                      0.0   \n",
       "45879         False  0.142187                                      0.0   \n",
       "...             ...       ...                                      ...   \n",
       "19260         False  1.539875                                      0.0   \n",
       "19264         False  0.103000                                      0.0   \n",
       "19289         False  0.072000                                      0.0   \n",
       "19298         False  0.077250                                      0.0   \n",
       "19301         False  0.109886                                      0.0   \n",
       "\n",
       "       num_invalid_transformed_parts  initialized  \n",
       "index                                              \n",
       "45860                            0.0         True  \n",
       "45863                            0.0         True  \n",
       "45872                            0.0         True  \n",
       "45873                            0.0         True  \n",
       "45879                            0.0         True  \n",
       "...                              ...          ...  \n",
       "19260                            0.0         True  \n",
       "19264                            0.0         True  \n",
       "19289                            0.0         True  \n",
       "19298                            0.0         True  \n",
       "19301                            0.0         True  \n",
       "\n",
       "[13967 rows x 9 columns]"
      ]
     },
     "execution_count": 117,
     "metadata": {},
     "output_type": "execute_result"
    }
   ],
   "source": [
    "batch_df[lambda df: (df['num_normalized_parts_with_discrepancies'] == 0) & (df['num_invalid_transformed_parts'] == 0) & (df['initialized']) & (~df['too_big'])]"
   ]
  },
  {
   "cell_type": "code",
   "execution_count": null,
   "id": "442121c1-acd9-4b59-80c3-2d9a803a3fc7",
   "metadata": {},
   "outputs": [],
   "source": []
  },
  {
   "cell_type": "code",
   "execution_count": 83,
   "id": "fb24a598-b0df-455d-8b16-97874e330832",
   "metadata": {},
   "outputs": [],
   "source": [
    "import numpy as np"
   ]
  },
  {
   "cell_type": "code",
   "execution_count": 174,
   "id": "dc7d6a26-f3a5-4b2f-b05d-6b7310fa785a",
   "metadata": {},
   "outputs": [],
   "source": [
    "f = h5py.File('/fast/jamesn8/assembly_data/assembly_torch2_fixsize/new_axes/axis_data/552.hdf5','r')"
   ]
  },
  {
   "cell_type": "code",
   "execution_count": 175,
   "id": "1ba31d97-f25e-42f0-8040-6e89bc87627d",
   "metadata": {},
   "outputs": [
    {
     "data": {
      "text/plain": [
       "array([0, 0, 0, ..., 6, 6, 6])"
      ]
     },
     "execution_count": 175,
     "metadata": {},
     "output_type": "execute_result"
    }
   ],
   "source": [
    "np.array(f['mc_part_labels'])"
   ]
  },
  {
   "cell_type": "code",
   "execution_count": 180,
   "id": "1f41d40d-c165-4665-91b5-d4682495e0d4",
   "metadata": {},
   "outputs": [
    {
     "data": {
      "text/plain": [
       "[]"
      ]
     },
     "execution_count": 180,
     "metadata": {},
     "output_type": "execute_result"
    }
   ],
   "source": [
    "list(f['pair_data']['3,4']['axes'])"
   ]
  },
  {
   "cell_type": "code",
   "execution_count": 97,
   "id": "a0d3f243-882c-4c57-acae-6f5390b7ed28",
   "metadata": {},
   "outputs": [
    {
     "data": {
      "text/plain": [
       "['indices']"
      ]
     },
     "execution_count": 97,
     "metadata": {},
     "output_type": "execute_result"
    }
   ],
   "source": [
    "list(f['pair_data']['0,1']['axes']['36'])"
   ]
  },
  {
   "cell_type": "code",
   "execution_count": 87,
   "id": "ca21f333-12d1-46a2-a97e-e23eb39f078f",
   "metadata": {},
   "outputs": [
    {
     "data": {
      "text/plain": [
       "[9, 9, 7]"
      ]
     },
     "execution_count": 87,
     "metadata": {},
     "output_type": "execute_result"
    }
   ],
   "source": [
    "[len(f['pair_data']['0,1']['axes'][ax]['indices']) for ax in f['pair_data']['0,1']['axes']]"
   ]
  },
  {
   "cell_type": "code",
   "execution_count": 99,
   "id": "58d8da65-d8dd-42b6-84ea-39305703c3b1",
   "metadata": {},
   "outputs": [],
   "source": [
    "f.close()"
   ]
  },
  {
   "cell_type": "code",
   "execution_count": 90,
   "id": "a58ba0d3-9d32-4df7-baaf-6fc91d1d3167",
   "metadata": {},
   "outputs": [],
   "source": [
    "import meshplot as mp"
   ]
  },
  {
   "cell_type": "code",
   "execution_count": 158,
   "id": "f53f1959-8f5a-4356-89ec-e780469fcae1",
   "metadata": {
    "tags": []
   },
   "outputs": [
    {
     "name": "stdout",
     "output_type": "stream",
     "text": [
      "<KeysViewHDF5 ['0,1', '0,10', '0,11', '0,14', '0,15', '0,16', '0,17', '0,18', '0,20', '0,4', '0,5', '0,6', '0,7', '0,9', '1,10', '1,11', '1,14', '1,15', '1,16', '1,17', '1,18', '1,20', '1,4', '1,5', '1,6', '1,7', '1,9', '10,11', '10,14', '10,15', '10,16', '10,17', '10,18', '10,20', '11,14', '11,15', '11,16', '11,17', '11,18', '11,20', '12,13', '12,15', '12,16', '12,17', '12,18', '12,19', '12,21', '13,15', '13,16', '13,17', '13,18', '13,19', '13,21', '14,15', '14,16', '14,17', '14,18', '14,20', '15,16', '15,17', '15,18', '15,19', '15,20', '15,21', '16,17', '16,18', '16,19', '16,20', '16,21', '17,18', '17,19', '17,20', '17,21', '18,19', '18,20', '18,21', '19,21', '2,12', '2,13', '2,15', '2,16', '2,17', '2,18', '2,19', '2,21', '2,3', '2,4', '2,5', '2,6', '2,7', '2,8', '3,12', '3,13', '3,15', '3,16', '3,17', '3,18', '3,19', '3,21', '3,4', '3,5', '3,6', '3,7', '3,8', '4,10', '4,11', '4,12', '4,13', '4,14', '4,15', '4,16', '4,17', '4,18', '4,19', '4,20', '4,21', '4,5', '4,6', '4,7', '4,8', '4,9', '5,10', '5,11', '5,12', '5,13', '5,14', '5,15', '5,16', '5,17', '5,18', '5,19', '5,20', '5,21', '5,6', '5,7', '5,8', '5,9', '6,10', '6,11', '6,12', '6,13', '6,14', '6,15', '6,16', '6,17', '6,18', '6,19', '6,20', '6,21', '6,7', '6,8', '6,9', '7,10', '7,11', '7,12', '7,13', '7,14', '7,15', '7,16', '7,17', '7,18', '7,19', '7,20', '7,21', '7,8', '7,9', '8,12', '8,13', '8,15', '8,16', '8,17', '8,18', '8,19', '8,21', '9,10', '9,11', '9,14', '9,15', '9,16', '9,17', '9,18', '9,20']>\n",
      "<KeysViewHDF5 ['0']>\n",
      "1487\n"
     ]
    },
    {
     "data": {
      "application/vnd.jupyter.widget-view+json": {
       "model_id": "92d31415d3c64d37b3e09b3608474457",
       "version_major": 2,
       "version_minor": 0
      },
      "text/plain": [
       "Renderer(camera=PerspectiveCamera(children=(DirectionalLight(color='white', intensity=0.6, position=(0.1005957…"
      ]
     },
     "metadata": {},
     "output_type": "display_data"
    }
   ],
   "source": [
    "dir_ind = 0\n",
    "pair='7,9'\n",
    "f = h5py.File('/fast/jamesn8/assembly_data/assembly_torch2_fixsize/test_axis/axis_data/22.hdf5','r')\n",
    "print(f['pair_data'].keys())\n",
    "print(f['pair_data'][pair]['axes'].keys())\n",
    "axis_cluster_indices = list(f['pair_data'][pair]['axes'][str(dir_ind)]['indices'])\n",
    "axis_clusters = [np.array(f['dir_clusters'][str(dir_ind)]['axial_clusters'][str(ax)]) for ax in axis_cluster_indices]\n",
    "axis_origins = np.vstack([np.array(f['mc_frames'][str(key)]['origins']) for key in range(len(f['mc_frames'].keys()))])\n",
    "cluster_origins = [axis_origins[clust] for clust in axis_clusters]\n",
    "for o, clust in zip(cluster_origins, axis_cluster_indices):\n",
    "    print(clust)\n",
    "    mp.plot(o, shading={\"point_size\": 0.125})\n",
    "f.close()"
   ]
  },
  {
   "cell_type": "code",
   "execution_count": 6,
   "id": "6bc3ef43-f58a-479f-b097-23cb8f943c68",
   "metadata": {},
   "outputs": [],
   "source": [
    "mate_check_df = ps.read_parquet('/fast/jamesn8/assembly_data/assembly_torch2_fixsize/new_axes_100groups_and_mate_check/mate_check_stats.parquet')"
   ]
  },
  {
   "cell_type": "code",
   "execution_count": 7,
   "id": "7fffc276-e2b8-4a48-a080-1b68e90b7f37",
   "metadata": {},
   "outputs": [],
   "source": [
    "mate_check_df_old = ps.read_hdf('/fast/jamesn8/assembly_data/assembly_torch2_fixsize/stats_check_mates_all_proposals_validate_rigidcomps_more_axis_stats/mate_stats_all.h5','mates')"
   ]
  },
  {
   "cell_type": "code",
   "execution_count": 9,
   "id": "82905932-2d2f-4f5c-94be-aca69c47c57c",
   "metadata": {},
   "outputs": [],
   "source": [
    "mc_df = ps.read_parquet('/fast/jamesn8/assembly_data/assembly_torch2_fixsize/new_axes_100groups_and_mate_check/mc_stats.parquet')"
   ]
  },
  {
   "cell_type": "code",
   "execution_count": 41,
   "id": "8c09b3fc-8fde-4e06-a519-742bfd608268",
   "metadata": {},
   "outputs": [
    {
     "data": {
      "text/plain": [
       "0.9766936977204521"
      ]
     },
     "execution_count": 41,
     "metadata": {},
     "output_type": "execute_result"
    }
   ],
   "source": [
    "mate_check_df['valid'].sum()/mate_check_df.shape[0]"
   ]
  },
  {
   "cell_type": "code",
   "execution_count": 45,
   "id": "a4b257a1-9a04-4c59-8e29-f21056afb246",
   "metadata": {},
   "outputs": [
    {
     "data": {
      "text/plain": [
       "0.9999040859389987"
      ]
     },
     "execution_count": 45,
     "metadata": {},
     "output_type": "execute_result"
    }
   ],
   "source": [
    "len(set(mate_check_df[lambda df: df['valid']]['Assembly']))/len(set(mate_check_df['Assembly']))"
   ]
  },
  {
   "cell_type": "code",
   "execution_count": 10,
   "id": "63361f62-fea4-4bb0-bca6-2dc8c23370e6",
   "metadata": {},
   "outputs": [
    {
     "data": {
      "text/html": [
       "<div>\n",
       "<style scoped>\n",
       "    .dataframe tbody tr th:only-of-type {\n",
       "        vertical-align: middle;\n",
       "    }\n",
       "\n",
       "    .dataframe tbody tr th {\n",
       "        vertical-align: top;\n",
       "    }\n",
       "\n",
       "    .dataframe thead th {\n",
       "        text-align: right;\n",
       "    }\n",
       "</style>\n",
       "<table border=\"1\" class=\"dataframe\">\n",
       "  <thead>\n",
       "    <tr style=\"text-align: right;\">\n",
       "      <th></th>\n",
       "      <th>dir_ind</th>\n",
       "      <th>axis_id</th>\n",
       "      <th>part1</th>\n",
       "      <th>part2</th>\n",
       "      <th>part1_occ</th>\n",
       "      <th>part2_occ</th>\n",
       "      <th>num_MCs_1</th>\n",
       "      <th>num_MCs_2</th>\n",
       "      <th>assembly</th>\n",
       "    </tr>\n",
       "  </thead>\n",
       "  <tbody>\n",
       "    <tr>\n",
       "      <th>6025</th>\n",
       "      <td>15</td>\n",
       "      <td>18</td>\n",
       "      <td>0</td>\n",
       "      <td>4</td>\n",
       "      <td>MRPqM9QevOxx309ic</td>\n",
       "      <td>MiEfLhvfBX5+WwTK1</td>\n",
       "      <td>93</td>\n",
       "      <td>162</td>\n",
       "      <td>552</td>\n",
       "    </tr>\n",
       "    <tr>\n",
       "      <th>6026</th>\n",
       "      <td>78</td>\n",
       "      <td>83</td>\n",
       "      <td>0</td>\n",
       "      <td>4</td>\n",
       "      <td>MRPqM9QevOxx309ic</td>\n",
       "      <td>MiEfLhvfBX5+WwTK1</td>\n",
       "      <td>18</td>\n",
       "      <td>2</td>\n",
       "      <td>552</td>\n",
       "    </tr>\n",
       "    <tr>\n",
       "      <th>6027</th>\n",
       "      <td>15</td>\n",
       "      <td>18</td>\n",
       "      <td>0</td>\n",
       "      <td>6</td>\n",
       "      <td>MRPqM9QevOxx309ic</td>\n",
       "      <td>MtEBUiiw8jvjVvQLI</td>\n",
       "      <td>93</td>\n",
       "      <td>48</td>\n",
       "      <td>552</td>\n",
       "    </tr>\n",
       "    <tr>\n",
       "      <th>6028</th>\n",
       "      <td>15</td>\n",
       "      <td>18</td>\n",
       "      <td>4</td>\n",
       "      <td>6</td>\n",
       "      <td>MiEfLhvfBX5+WwTK1</td>\n",
       "      <td>MtEBUiiw8jvjVvQLI</td>\n",
       "      <td>162</td>\n",
       "      <td>48</td>\n",
       "      <td>552</td>\n",
       "    </tr>\n",
       "    <tr>\n",
       "      <th>6029</th>\n",
       "      <td>15</td>\n",
       "      <td>25</td>\n",
       "      <td>0</td>\n",
       "      <td>2</td>\n",
       "      <td>MRPqM9QevOxx309ic</td>\n",
       "      <td>M59OywwaIElzsyE8k</td>\n",
       "      <td>4</td>\n",
       "      <td>4</td>\n",
       "      <td>552</td>\n",
       "    </tr>\n",
       "    <tr>\n",
       "      <th>...</th>\n",
       "      <td>...</td>\n",
       "      <td>...</td>\n",
       "      <td>...</td>\n",
       "      <td>...</td>\n",
       "      <td>...</td>\n",
       "      <td>...</td>\n",
       "      <td>...</td>\n",
       "      <td>...</td>\n",
       "      <td>...</td>\n",
       "    </tr>\n",
       "    <tr>\n",
       "      <th>6110</th>\n",
       "      <td>0</td>\n",
       "      <td>230</td>\n",
       "      <td>2</td>\n",
       "      <td>5</td>\n",
       "      <td>M59OywwaIElzsyE8k</td>\n",
       "      <td>Mwuf6NDWDinzVdlEU</td>\n",
       "      <td>5</td>\n",
       "      <td>2</td>\n",
       "      <td>552</td>\n",
       "    </tr>\n",
       "    <tr>\n",
       "      <th>6111</th>\n",
       "      <td>0</td>\n",
       "      <td>232</td>\n",
       "      <td>2</td>\n",
       "      <td>5</td>\n",
       "      <td>M59OywwaIElzsyE8k</td>\n",
       "      <td>Mwuf6NDWDinzVdlEU</td>\n",
       "      <td>5</td>\n",
       "      <td>1</td>\n",
       "      <td>552</td>\n",
       "    </tr>\n",
       "    <tr>\n",
       "      <th>6112</th>\n",
       "      <td>0</td>\n",
       "      <td>1847</td>\n",
       "      <td>2</td>\n",
       "      <td>5</td>\n",
       "      <td>M59OywwaIElzsyE8k</td>\n",
       "      <td>Mwuf6NDWDinzVdlEU</td>\n",
       "      <td>2</td>\n",
       "      <td>1</td>\n",
       "      <td>552</td>\n",
       "    </tr>\n",
       "    <tr>\n",
       "      <th>6113</th>\n",
       "      <td>0</td>\n",
       "      <td>1882</td>\n",
       "      <td>2</td>\n",
       "      <td>5</td>\n",
       "      <td>M59OywwaIElzsyE8k</td>\n",
       "      <td>Mwuf6NDWDinzVdlEU</td>\n",
       "      <td>2</td>\n",
       "      <td>2</td>\n",
       "      <td>552</td>\n",
       "    </tr>\n",
       "    <tr>\n",
       "      <th>6114</th>\n",
       "      <td>4690</td>\n",
       "      <td>4736</td>\n",
       "      <td>3</td>\n",
       "      <td>4</td>\n",
       "      <td>M1/dZMrxY1lIcRFnx</td>\n",
       "      <td>MiEfLhvfBX5+WwTK1</td>\n",
       "      <td>61</td>\n",
       "      <td>3</td>\n",
       "      <td>552</td>\n",
       "    </tr>\n",
       "  </tbody>\n",
       "</table>\n",
       "<p>90 rows × 9 columns</p>\n",
       "</div>"
      ],
      "text/plain": [
       "      dir_ind  axis_id  part1  part2          part1_occ          part2_occ  \\\n",
       "6025       15       18      0      4  MRPqM9QevOxx309ic  MiEfLhvfBX5+WwTK1   \n",
       "6026       78       83      0      4  MRPqM9QevOxx309ic  MiEfLhvfBX5+WwTK1   \n",
       "6027       15       18      0      6  MRPqM9QevOxx309ic  MtEBUiiw8jvjVvQLI   \n",
       "6028       15       18      4      6  MiEfLhvfBX5+WwTK1  MtEBUiiw8jvjVvQLI   \n",
       "6029       15       25      0      2  MRPqM9QevOxx309ic  M59OywwaIElzsyE8k   \n",
       "...       ...      ...    ...    ...                ...                ...   \n",
       "6110        0      230      2      5  M59OywwaIElzsyE8k  Mwuf6NDWDinzVdlEU   \n",
       "6111        0      232      2      5  M59OywwaIElzsyE8k  Mwuf6NDWDinzVdlEU   \n",
       "6112        0     1847      2      5  M59OywwaIElzsyE8k  Mwuf6NDWDinzVdlEU   \n",
       "6113        0     1882      2      5  M59OywwaIElzsyE8k  Mwuf6NDWDinzVdlEU   \n",
       "6114     4690     4736      3      4  M1/dZMrxY1lIcRFnx  MiEfLhvfBX5+WwTK1   \n",
       "\n",
       "      num_MCs_1  num_MCs_2  assembly  \n",
       "6025         93        162       552  \n",
       "6026         18          2       552  \n",
       "6027         93         48       552  \n",
       "6028        162         48       552  \n",
       "6029          4          4       552  \n",
       "...         ...        ...       ...  \n",
       "6110          5          2       552  \n",
       "6111          5          1       552  \n",
       "6112          2          1       552  \n",
       "6113          2          2       552  \n",
       "6114         61          3       552  \n",
       "\n",
       "[90 rows x 9 columns]"
      ]
     },
     "execution_count": 10,
     "metadata": {},
     "output_type": "execute_result"
    }
   ],
   "source": [
    "mc_df[lambda df: (df['assembly'] == 552)]"
   ]
  },
  {
   "cell_type": "code",
   "execution_count": 11,
   "id": "eb022d04-e4fe-4918-b4bf-11585adb0718",
   "metadata": {},
   "outputs": [
    {
     "data": {
      "text/html": [
       "<div>\n",
       "<style scoped>\n",
       "    .dataframe tbody tr th:only-of-type {\n",
       "        vertical-align: middle;\n",
       "    }\n",
       "\n",
       "    .dataframe tbody tr th {\n",
       "        vertical-align: top;\n",
       "    }\n",
       "\n",
       "    .dataframe thead th {\n",
       "        text-align: right;\n",
       "    }\n",
       "</style>\n",
       "<table border=\"1\" class=\"dataframe\">\n",
       "  <thead>\n",
       "    <tr style=\"text-align: right;\">\n",
       "      <th></th>\n",
       "      <th>dir_ind</th>\n",
       "      <th>axis_id</th>\n",
       "      <th>part1</th>\n",
       "      <th>part2</th>\n",
       "      <th>part1_occ</th>\n",
       "      <th>part2_occ</th>\n",
       "      <th>num_MCs_1</th>\n",
       "      <th>num_MCs_2</th>\n",
       "      <th>assembly</th>\n",
       "    </tr>\n",
       "  </thead>\n",
       "  <tbody>\n",
       "    <tr>\n",
       "      <th>6025</th>\n",
       "      <td>15</td>\n",
       "      <td>18</td>\n",
       "      <td>0</td>\n",
       "      <td>4</td>\n",
       "      <td>MRPqM9QevOxx309ic</td>\n",
       "      <td>MiEfLhvfBX5+WwTK1</td>\n",
       "      <td>93</td>\n",
       "      <td>162</td>\n",
       "      <td>552</td>\n",
       "    </tr>\n",
       "    <tr>\n",
       "      <th>6026</th>\n",
       "      <td>78</td>\n",
       "      <td>83</td>\n",
       "      <td>0</td>\n",
       "      <td>4</td>\n",
       "      <td>MRPqM9QevOxx309ic</td>\n",
       "      <td>MiEfLhvfBX5+WwTK1</td>\n",
       "      <td>18</td>\n",
       "      <td>2</td>\n",
       "      <td>552</td>\n",
       "    </tr>\n",
       "    <tr>\n",
       "      <th>6028</th>\n",
       "      <td>15</td>\n",
       "      <td>18</td>\n",
       "      <td>4</td>\n",
       "      <td>6</td>\n",
       "      <td>MiEfLhvfBX5+WwTK1</td>\n",
       "      <td>MtEBUiiw8jvjVvQLI</td>\n",
       "      <td>162</td>\n",
       "      <td>48</td>\n",
       "      <td>552</td>\n",
       "    </tr>\n",
       "    <tr>\n",
       "      <th>6070</th>\n",
       "      <td>15</td>\n",
       "      <td>8565</td>\n",
       "      <td>4</td>\n",
       "      <td>5</td>\n",
       "      <td>MiEfLhvfBX5+WwTK1</td>\n",
       "      <td>Mwuf6NDWDinzVdlEU</td>\n",
       "      <td>1</td>\n",
       "      <td>5</td>\n",
       "      <td>552</td>\n",
       "    </tr>\n",
       "    <tr>\n",
       "      <th>6071</th>\n",
       "      <td>15</td>\n",
       "      <td>4864</td>\n",
       "      <td>4</td>\n",
       "      <td>5</td>\n",
       "      <td>MiEfLhvfBX5+WwTK1</td>\n",
       "      <td>Mwuf6NDWDinzVdlEU</td>\n",
       "      <td>1</td>\n",
       "      <td>2</td>\n",
       "      <td>552</td>\n",
       "    </tr>\n",
       "    <tr>\n",
       "      <th>6072</th>\n",
       "      <td>15</td>\n",
       "      <td>4866</td>\n",
       "      <td>4</td>\n",
       "      <td>5</td>\n",
       "      <td>MiEfLhvfBX5+WwTK1</td>\n",
       "      <td>Mwuf6NDWDinzVdlEU</td>\n",
       "      <td>8</td>\n",
       "      <td>2</td>\n",
       "      <td>552</td>\n",
       "    </tr>\n",
       "    <tr>\n",
       "      <th>6114</th>\n",
       "      <td>4690</td>\n",
       "      <td>4736</td>\n",
       "      <td>3</td>\n",
       "      <td>4</td>\n",
       "      <td>M1/dZMrxY1lIcRFnx</td>\n",
       "      <td>MiEfLhvfBX5+WwTK1</td>\n",
       "      <td>61</td>\n",
       "      <td>3</td>\n",
       "      <td>552</td>\n",
       "    </tr>\n",
       "  </tbody>\n",
       "</table>\n",
       "</div>"
      ],
      "text/plain": [
       "      dir_ind  axis_id  part1  part2          part1_occ          part2_occ  \\\n",
       "6025       15       18      0      4  MRPqM9QevOxx309ic  MiEfLhvfBX5+WwTK1   \n",
       "6026       78       83      0      4  MRPqM9QevOxx309ic  MiEfLhvfBX5+WwTK1   \n",
       "6028       15       18      4      6  MiEfLhvfBX5+WwTK1  MtEBUiiw8jvjVvQLI   \n",
       "6070       15     8565      4      5  MiEfLhvfBX5+WwTK1  Mwuf6NDWDinzVdlEU   \n",
       "6071       15     4864      4      5  MiEfLhvfBX5+WwTK1  Mwuf6NDWDinzVdlEU   \n",
       "6072       15     4866      4      5  MiEfLhvfBX5+WwTK1  Mwuf6NDWDinzVdlEU   \n",
       "6114     4690     4736      3      4  M1/dZMrxY1lIcRFnx  MiEfLhvfBX5+WwTK1   \n",
       "\n",
       "      num_MCs_1  num_MCs_2  assembly  \n",
       "6025         93        162       552  \n",
       "6026         18          2       552  \n",
       "6028        162         48       552  \n",
       "6070          1          5       552  \n",
       "6071          1          2       552  \n",
       "6072          8          2       552  \n",
       "6114         61          3       552  "
      ]
     },
     "execution_count": 11,
     "metadata": {},
     "output_type": "execute_result"
    }
   ],
   "source": [
    "mc_df[lambda df: (df['assembly'] == 552) & ((df['part2_occ'] == 'MiEfLhvfBX5+WwTK1') | (df['part1_occ'] == 'MiEfLhvfBX5+WwTK1'))]"
   ]
  },
  {
   "cell_type": "code",
   "execution_count": 12,
   "id": "21a56b2c-eb05-4df8-a04e-764f38faa493",
   "metadata": {},
   "outputs": [
    {
     "data": {
      "text/html": [
       "<div>\n",
       "<style scoped>\n",
       "    .dataframe tbody tr th:only-of-type {\n",
       "        vertical-align: middle;\n",
       "    }\n",
       "\n",
       "    .dataframe tbody tr th {\n",
       "        vertical-align: top;\n",
       "    }\n",
       "\n",
       "    .dataframe thead th {\n",
       "        text-align: right;\n",
       "    }\n",
       "</style>\n",
       "<table border=\"1\" class=\"dataframe\">\n",
       "  <thead>\n",
       "    <tr style=\"text-align: right;\">\n",
       "      <th></th>\n",
       "      <th>Assembly</th>\n",
       "      <th>dir_index</th>\n",
       "      <th>axis_index</th>\n",
       "      <th>has_any_axis</th>\n",
       "      <th>has_same_dir_axis</th>\n",
       "      <th>type</th>\n",
       "      <th>dirs_agree</th>\n",
       "      <th>axes_agree</th>\n",
       "      <th>valid</th>\n",
       "    </tr>\n",
       "    <tr>\n",
       "      <th>index</th>\n",
       "      <th></th>\n",
       "      <th></th>\n",
       "      <th></th>\n",
       "      <th></th>\n",
       "      <th></th>\n",
       "      <th></th>\n",
       "      <th></th>\n",
       "      <th></th>\n",
       "      <th></th>\n",
       "    </tr>\n",
       "  </thead>\n",
       "  <tbody>\n",
       "    <tr>\n",
       "      <th>9484</th>\n",
       "      <td>552</td>\n",
       "      <td>4690</td>\n",
       "      <td>4736</td>\n",
       "      <td>True</td>\n",
       "      <td>True</td>\n",
       "      <td>REVOLUTE</td>\n",
       "      <td>True</td>\n",
       "      <td>True</td>\n",
       "      <td>True</td>\n",
       "    </tr>\n",
       "  </tbody>\n",
       "</table>\n",
       "</div>"
      ],
      "text/plain": [
       "       Assembly  dir_index  axis_index  has_any_axis  has_same_dir_axis  \\\n",
       "index                                                                     \n",
       "9484        552       4690        4736          True               True   \n",
       "\n",
       "           type  dirs_agree  axes_agree  valid  \n",
       "index                                           \n",
       "9484   REVOLUTE        True        True   True  "
      ]
     },
     "execution_count": 12,
     "metadata": {},
     "output_type": "execute_result"
    }
   ],
   "source": [
    "mate_check_df.loc[[9484]]"
   ]
  },
  {
   "cell_type": "code",
   "execution_count": 15,
   "id": "b18e3282-3dab-40f9-bd55-7b2b6f3b6f50",
   "metadata": {},
   "outputs": [
    {
     "data": {
      "text/plain": [
       "0.9766936977204521"
      ]
     },
     "execution_count": 15,
     "metadata": {},
     "output_type": "execute_result"
    }
   ],
   "source": [
    "mate_check_df['valid'].sum()/mate_check_df.shape[0]"
   ]
  },
  {
   "cell_type": "code",
   "execution_count": 16,
   "id": "dcd5c16b-6f9a-49ca-8762-aaf7181659b1",
   "metadata": {},
   "outputs": [
    {
     "data": {
      "text/plain": [
       "0.9836866866255269"
      ]
     },
     "execution_count": 16,
     "metadata": {},
     "output_type": "execute_result"
    }
   ],
   "source": [
    "mate_check_df_old['valid'].sum()/mate_check_df_old.shape[0]"
   ]
  },
  {
   "cell_type": "code",
   "execution_count": 164,
   "id": "69b772e2-9b5a-4fc1-af3a-f9f18057f4c7",
   "metadata": {},
   "outputs": [
    {
     "data": {
      "text/plain": [
       "Int64Index([  18440,   18441,   18443,   18445,   22104,   22338,   23826,\n",
       "              23835,   24933,   24934,\n",
       "            ...\n",
       "            1776653, 1779705, 1799958, 1808552, 1808553, 1811239, 1834292,\n",
       "            1834295, 1850879, 1871943],\n",
       "           dtype='int64', length=1055)"
      ]
     },
     "execution_count": 164,
     "metadata": {},
     "output_type": "execute_result"
    }
   ],
   "source": [
    "mate_check_df[lambda df: ~df['valid']].index.intersection(mate_check_df_old[lambda df: ~df['valid']].index)"
   ]
  },
  {
   "cell_type": "code",
   "execution_count": 21,
   "id": "96c671a1-3c89-4313-89b1-bfbef03e566a",
   "metadata": {},
   "outputs": [
    {
     "data": {
      "text/plain": [
       "False"
      ]
     },
     "execution_count": 21,
     "metadata": {},
     "output_type": "execute_result"
    }
   ],
   "source": [
    "mate_check_df.loc[mate_check_df[lambda df: ~df['valid']].index.difference(mate_check_df_old[lambda df: ~df['valid']].index)][lambda df: df['type'] == 'FASTENED']['has_any_axis'].any()"
   ]
  },
  {
   "cell_type": "code",
   "execution_count": 22,
   "id": "80f34ebe-8c7f-4c2c-b08b-e57f38c13eca",
   "metadata": {},
   "outputs": [
    {
     "data": {
      "text/plain": [
       "Int64Index([    411,   24933,   24934,   24935,   24936,  111518,  114497,\n",
       "             126606,  126607,  126609,\n",
       "            ...\n",
       "            1757158, 1765465, 1765468, 1788082, 1801535, 1816154, 1866974,\n",
       "            1866975, 1879714, 1881987],\n",
       "           dtype='int64', length=183)"
      ]
     },
     "execution_count": 22,
     "metadata": {},
     "output_type": "execute_result"
    }
   ],
   "source": [
    "mate_check_df_old[lambda df: ~df['valid']].index.difference(mate_check_df[lambda df: ~df['valid']].index)"
   ]
  },
  {
   "cell_type": "code",
   "execution_count": 31,
   "id": "40f2b9f0-9e32-49fb-853a-635b6fd2687e",
   "metadata": {},
   "outputs": [],
   "source": [
    "actuallyvalid_old = mate_check_df_old[lambda df: df['valid']  & df['has_any_axis'] & ((df['type'] != 'SLIDER') | df['has_same_dir_axis'])].index.intersection(mate_check_df.index)"
   ]
  },
  {
   "cell_type": "code",
   "execution_count": 38,
   "id": "d5f2ab63-a89a-4da2-ba1a-4004c464ba9c",
   "metadata": {},
   "outputs": [
    {
     "name": "stdout",
     "output_type": "stream",
     "text": [
      "old valid: 76252\n",
      "new valid: 76480\n"
     ]
    }
   ],
   "source": [
    "print('old valid:',len(actuallyvalid_old))\n",
    "print('new valid:',mate_check_df[lambda df: df['valid']].shape[0])"
   ]
  },
  {
   "cell_type": "code",
   "execution_count": 39,
   "id": "7b3c7fb8-2ab6-4d49-a506-55c8229553e9",
   "metadata": {},
   "outputs": [
    {
     "data": {
      "text/html": [
       "<div>\n",
       "<style scoped>\n",
       "    .dataframe tbody tr th:only-of-type {\n",
       "        vertical-align: middle;\n",
       "    }\n",
       "\n",
       "    .dataframe tbody tr th {\n",
       "        vertical-align: top;\n",
       "    }\n",
       "\n",
       "    .dataframe thead th {\n",
       "        text-align: right;\n",
       "    }\n",
       "</style>\n",
       "<table border=\"1\" class=\"dataframe\">\n",
       "  <thead>\n",
       "    <tr style=\"text-align: right;\">\n",
       "      <th></th>\n",
       "      <th>Assembly</th>\n",
       "      <th>dir_index</th>\n",
       "      <th>axis_index</th>\n",
       "      <th>has_any_axis</th>\n",
       "      <th>has_same_dir_axis</th>\n",
       "      <th>type</th>\n",
       "      <th>dirs_agree</th>\n",
       "      <th>axes_agree</th>\n",
       "      <th>rigid_comp_attempting_motion</th>\n",
       "      <th>valid</th>\n",
       "    </tr>\n",
       "  </thead>\n",
       "  <tbody>\n",
       "    <tr>\n",
       "      <th>1457202</th>\n",
       "      <td>97005</td>\n",
       "      <td>0</td>\n",
       "      <td>0</td>\n",
       "      <td>True</td>\n",
       "      <td>True</td>\n",
       "      <td>SLIDER</td>\n",
       "      <td>True</td>\n",
       "      <td>True</td>\n",
       "      <td>False</td>\n",
       "      <td>True</td>\n",
       "    </tr>\n",
       "    <tr>\n",
       "      <th>1457204</th>\n",
       "      <td>97005</td>\n",
       "      <td>0</td>\n",
       "      <td>0</td>\n",
       "      <td>True</td>\n",
       "      <td>True</td>\n",
       "      <td>SLIDER</td>\n",
       "      <td>True</td>\n",
       "      <td>True</td>\n",
       "      <td>False</td>\n",
       "      <td>True</td>\n",
       "    </tr>\n",
       "    <tr>\n",
       "      <th>1457205</th>\n",
       "      <td>97005</td>\n",
       "      <td>0</td>\n",
       "      <td>-1</td>\n",
       "      <td>True</td>\n",
       "      <td>True</td>\n",
       "      <td>SLIDER</td>\n",
       "      <td>True</td>\n",
       "      <td>True</td>\n",
       "      <td>False</td>\n",
       "      <td>True</td>\n",
       "    </tr>\n",
       "    <tr>\n",
       "      <th>1457206</th>\n",
       "      <td>97005</td>\n",
       "      <td>0</td>\n",
       "      <td>-1</td>\n",
       "      <td>True</td>\n",
       "      <td>True</td>\n",
       "      <td>SLIDER</td>\n",
       "      <td>True</td>\n",
       "      <td>True</td>\n",
       "      <td>False</td>\n",
       "      <td>True</td>\n",
       "    </tr>\n",
       "  </tbody>\n",
       "</table>\n",
       "</div>"
      ],
      "text/plain": [
       "         Assembly  dir_index  axis_index  has_any_axis  has_same_dir_axis  \\\n",
       "1457202     97005          0           0          True               True   \n",
       "1457204     97005          0           0          True               True   \n",
       "1457205     97005          0          -1          True               True   \n",
       "1457206     97005          0          -1          True               True   \n",
       "\n",
       "           type  dirs_agree  axes_agree  rigid_comp_attempting_motion  valid  \n",
       "1457202  SLIDER        True        True                         False   True  \n",
       "1457204  SLIDER        True        True                         False   True  \n",
       "1457205  SLIDER        True        True                         False   True  \n",
       "1457206  SLIDER        True        True                         False   True  "
      ]
     },
     "execution_count": 39,
     "metadata": {},
     "output_type": "execute_result"
    }
   ],
   "source": [
    "mate_check_df_old.loc[actuallyvalid_old.difference(mate_check_df[lambda df: df['valid']].index)]"
   ]
  },
  {
   "cell_type": "code",
   "execution_count": 37,
   "id": "09570e4d-70ca-4b6a-a6d7-f942f3c92634",
   "metadata": {},
   "outputs": [
    {
     "data": {
      "text/html": [
       "<div>\n",
       "<style scoped>\n",
       "    .dataframe tbody tr th:only-of-type {\n",
       "        vertical-align: middle;\n",
       "    }\n",
       "\n",
       "    .dataframe tbody tr th {\n",
       "        vertical-align: top;\n",
       "    }\n",
       "\n",
       "    .dataframe thead th {\n",
       "        text-align: right;\n",
       "    }\n",
       "</style>\n",
       "<table border=\"1\" class=\"dataframe\">\n",
       "  <thead>\n",
       "    <tr style=\"text-align: right;\">\n",
       "      <th></th>\n",
       "      <th>Assembly</th>\n",
       "      <th>dir_index</th>\n",
       "      <th>axis_index</th>\n",
       "      <th>has_any_axis</th>\n",
       "      <th>has_same_dir_axis</th>\n",
       "      <th>type</th>\n",
       "      <th>dirs_agree</th>\n",
       "      <th>axes_agree</th>\n",
       "      <th>valid</th>\n",
       "    </tr>\n",
       "  </thead>\n",
       "  <tbody>\n",
       "    <tr>\n",
       "      <th>1457202</th>\n",
       "      <td>97005</td>\n",
       "      <td>48</td>\n",
       "      <td>-1</td>\n",
       "      <td>False</td>\n",
       "      <td>False</td>\n",
       "      <td>SLIDER</td>\n",
       "      <td>True</td>\n",
       "      <td>True</td>\n",
       "      <td>False</td>\n",
       "    </tr>\n",
       "    <tr>\n",
       "      <th>1457204</th>\n",
       "      <td>97005</td>\n",
       "      <td>48</td>\n",
       "      <td>-1</td>\n",
       "      <td>False</td>\n",
       "      <td>False</td>\n",
       "      <td>SLIDER</td>\n",
       "      <td>True</td>\n",
       "      <td>True</td>\n",
       "      <td>False</td>\n",
       "    </tr>\n",
       "    <tr>\n",
       "      <th>1457205</th>\n",
       "      <td>97005</td>\n",
       "      <td>0</td>\n",
       "      <td>-1</td>\n",
       "      <td>False</td>\n",
       "      <td>False</td>\n",
       "      <td>SLIDER</td>\n",
       "      <td>True</td>\n",
       "      <td>True</td>\n",
       "      <td>False</td>\n",
       "    </tr>\n",
       "    <tr>\n",
       "      <th>1457206</th>\n",
       "      <td>97005</td>\n",
       "      <td>0</td>\n",
       "      <td>-1</td>\n",
       "      <td>False</td>\n",
       "      <td>False</td>\n",
       "      <td>SLIDER</td>\n",
       "      <td>True</td>\n",
       "      <td>True</td>\n",
       "      <td>False</td>\n",
       "    </tr>\n",
       "  </tbody>\n",
       "</table>\n",
       "</div>"
      ],
      "text/plain": [
       "         Assembly  dir_index  axis_index  has_any_axis  has_same_dir_axis  \\\n",
       "1457202     97005         48          -1         False              False   \n",
       "1457204     97005         48          -1         False              False   \n",
       "1457205     97005          0          -1         False              False   \n",
       "1457206     97005          0          -1         False              False   \n",
       "\n",
       "           type  dirs_agree  axes_agree  valid  \n",
       "1457202  SLIDER        True        True  False  \n",
       "1457204  SLIDER        True        True  False  \n",
       "1457205  SLIDER        True        True  False  \n",
       "1457206  SLIDER        True        True  False  "
      ]
     },
     "execution_count": 37,
     "metadata": {},
     "output_type": "execute_result"
    }
   ],
   "source": [
    "mate_check_df.loc[actuallyvalid_old.difference(mate_check_df[lambda df: df['valid']].index)]"
   ]
  },
  {
   "cell_type": "code",
   "execution_count": 281,
   "id": "5cc7b676-867c-4d37-a5c2-1b7c6e90e60b",
   "metadata": {},
   "outputs": [
    {
     "data": {
      "text/plain": [
       "Int64Index([   1030,    2033,    2361,    3263,    3420,    3588,    3973,\n",
       "               7335,    7346,    7385,\n",
       "            ...\n",
       "            1877946, 1878124, 1878166, 1878254, 1878620, 1880144, 1880869,\n",
       "            1881253, 1882294, 1882344],\n",
       "           dtype='int64', length=3530)"
      ]
     },
     "execution_count": 281,
     "metadata": {},
     "output_type": "execute_result"
    }
   ],
   "source": [
    "mate_check_df_old.index.difference(mate_check_df.index)"
   ]
  },
  {
   "cell_type": "code",
   "execution_count": 242,
   "id": "4c5717ae-da1b-4679-b0c6-ff0e81ec3ab8",
   "metadata": {},
   "outputs": [],
   "source": [
    "newmate_df_new = ps.read_parquet('/fast/jamesn8/assembly_data/assembly_torch2_fixsize/new_augmented_mates/newmate_stats.parquet')"
   ]
  },
  {
   "cell_type": "code",
   "execution_count": 243,
   "id": "01382c48-efbb-482c-adcc-02994c583c4a",
   "metadata": {},
   "outputs": [],
   "source": [
    "newmate_assembly_df_new = ps.read_parquet('/fast/jamesn8/assembly_data/assembly_torch2_fixsize/new_augmented_mates/assembly_stats.parquet')"
   ]
  },
  {
   "cell_type": "code",
   "execution_count": 249,
   "id": "904960af-7ab3-40cd-ad9d-09cdf769c3f3",
   "metadata": {},
   "outputs": [],
   "source": [
    "bad_assemblies = newmate_assembly_df_new[lambda df: ~df['mc_counts_agree']].index\n",
    "with open('data/dataset/assemblies_with_discrepant_mcs','w') as f:\n",
    "    f.writelines([str(l) + '\\n' for l in bad_assemblies])"
   ]
  },
  {
   "cell_type": "code",
   "execution_count": 250,
   "id": "e5b519c3-f315-4ea9-a19a-a1d29e715b2c",
   "metadata": {},
   "outputs": [
    {
     "data": {
      "text/html": [
       "<div>\n",
       "<style scoped>\n",
       "    .dataframe tbody tr th:only-of-type {\n",
       "        vertical-align: middle;\n",
       "    }\n",
       "\n",
       "    .dataframe tbody tr th {\n",
       "        vertical-align: top;\n",
       "    }\n",
       "\n",
       "    .dataframe thead th {\n",
       "        text-align: right;\n",
       "    }\n",
       "</style>\n",
       "<table border=\"1\" class=\"dataframe\">\n",
       "  <thead>\n",
       "    <tr style=\"text-align: right;\">\n",
       "      <th></th>\n",
       "      <th>part1</th>\n",
       "      <th>part2</th>\n",
       "      <th>num_dir_proposals</th>\n",
       "      <th>num_axes_proposals</th>\n",
       "      <th>added_mate</th>\n",
       "      <th>PIN_SLOT</th>\n",
       "      <th>BALL</th>\n",
       "      <th>PARALLEL</th>\n",
       "      <th>SLIDER</th>\n",
       "      <th>REVOLUTE</th>\n",
       "      <th>CYLINDRICAL</th>\n",
       "      <th>PLANAR</th>\n",
       "      <th>FASTENED</th>\n",
       "      <th>chain_length</th>\n",
       "      <th>type</th>\n",
       "      <th>axis_index</th>\n",
       "      <th>dir_index</th>\n",
       "      <th>Assembly</th>\n",
       "    </tr>\n",
       "  </thead>\n",
       "  <tbody>\n",
       "    <tr>\n",
       "      <th>0</th>\n",
       "      <td>M6bbGpYeynYlaugVy</td>\n",
       "      <td>MOioj+bH21Zqkx+em</td>\n",
       "      <td>3</td>\n",
       "      <td>7</td>\n",
       "      <td>True</td>\n",
       "      <td>0</td>\n",
       "      <td>0</td>\n",
       "      <td>0</td>\n",
       "      <td>0</td>\n",
       "      <td>1</td>\n",
       "      <td>0</td>\n",
       "      <td>0</td>\n",
       "      <td>1</td>\n",
       "      <td>2</td>\n",
       "      <td>REVOLUTE</td>\n",
       "      <td>514</td>\n",
       "      <td>-1</td>\n",
       "      <td>19</td>\n",
       "    </tr>\n",
       "    <tr>\n",
       "      <th>1</th>\n",
       "      <td>MJrVskG4U/7iIpIVh</td>\n",
       "      <td>MtKznJtK5hTGijXbz</td>\n",
       "      <td>1</td>\n",
       "      <td>1</td>\n",
       "      <td>True</td>\n",
       "      <td>0</td>\n",
       "      <td>0</td>\n",
       "      <td>0</td>\n",
       "      <td>0</td>\n",
       "      <td>0</td>\n",
       "      <td>2</td>\n",
       "      <td>0</td>\n",
       "      <td>0</td>\n",
       "      <td>2</td>\n",
       "      <td>CYLINDRICAL</td>\n",
       "      <td>0</td>\n",
       "      <td>-1</td>\n",
       "      <td>22</td>\n",
       "    </tr>\n",
       "    <tr>\n",
       "      <th>2</th>\n",
       "      <td>MJrVskG4U/7iIpIVh</td>\n",
       "      <td>MFT/jqXmTBLnGPukT</td>\n",
       "      <td>1</td>\n",
       "      <td>1</td>\n",
       "      <td>True</td>\n",
       "      <td>0</td>\n",
       "      <td>0</td>\n",
       "      <td>0</td>\n",
       "      <td>0</td>\n",
       "      <td>0</td>\n",
       "      <td>2</td>\n",
       "      <td>0</td>\n",
       "      <td>0</td>\n",
       "      <td>2</td>\n",
       "      <td>CYLINDRICAL</td>\n",
       "      <td>0</td>\n",
       "      <td>-1</td>\n",
       "      <td>22</td>\n",
       "    </tr>\n",
       "    <tr>\n",
       "      <th>3</th>\n",
       "      <td>M1IfORHnFC+1ltuRO</td>\n",
       "      <td>Mo8s9oBgsM95bjDJi</td>\n",
       "      <td>1</td>\n",
       "      <td>1</td>\n",
       "      <td>True</td>\n",
       "      <td>0</td>\n",
       "      <td>0</td>\n",
       "      <td>0</td>\n",
       "      <td>0</td>\n",
       "      <td>0</td>\n",
       "      <td>2</td>\n",
       "      <td>0</td>\n",
       "      <td>0</td>\n",
       "      <td>2</td>\n",
       "      <td>CYLINDRICAL</td>\n",
       "      <td>0</td>\n",
       "      <td>-1</td>\n",
       "      <td>22</td>\n",
       "    </tr>\n",
       "    <tr>\n",
       "      <th>4</th>\n",
       "      <td>M1IfORHnFC+1ltuRO</td>\n",
       "      <td>M61XDXFjhE+/RwYYp</td>\n",
       "      <td>1</td>\n",
       "      <td>1</td>\n",
       "      <td>True</td>\n",
       "      <td>0</td>\n",
       "      <td>0</td>\n",
       "      <td>0</td>\n",
       "      <td>0</td>\n",
       "      <td>0</td>\n",
       "      <td>2</td>\n",
       "      <td>0</td>\n",
       "      <td>0</td>\n",
       "      <td>2</td>\n",
       "      <td>CYLINDRICAL</td>\n",
       "      <td>0</td>\n",
       "      <td>-1</td>\n",
       "      <td>22</td>\n",
       "    </tr>\n",
       "    <tr>\n",
       "      <th>...</th>\n",
       "      <td>...</td>\n",
       "      <td>...</td>\n",
       "      <td>...</td>\n",
       "      <td>...</td>\n",
       "      <td>...</td>\n",
       "      <td>...</td>\n",
       "      <td>...</td>\n",
       "      <td>...</td>\n",
       "      <td>...</td>\n",
       "      <td>...</td>\n",
       "      <td>...</td>\n",
       "      <td>...</td>\n",
       "      <td>...</td>\n",
       "      <td>...</td>\n",
       "      <td>...</td>\n",
       "      <td>...</td>\n",
       "      <td>...</td>\n",
       "      <td>...</td>\n",
       "    </tr>\n",
       "    <tr>\n",
       "      <th>57114</th>\n",
       "      <td>MumOodeUesvG5ES8Q</td>\n",
       "      <td>MVDWoZ5WBhkHUyX0e</td>\n",
       "      <td>2</td>\n",
       "      <td>1</td>\n",
       "      <td>True</td>\n",
       "      <td>0</td>\n",
       "      <td>0</td>\n",
       "      <td>0</td>\n",
       "      <td>0</td>\n",
       "      <td>2</td>\n",
       "      <td>0</td>\n",
       "      <td>0</td>\n",
       "      <td>0</td>\n",
       "      <td>2</td>\n",
       "      <td>REVOLUTE</td>\n",
       "      <td>1</td>\n",
       "      <td>-1</td>\n",
       "      <td>125128</td>\n",
       "    </tr>\n",
       "    <tr>\n",
       "      <th>57115</th>\n",
       "      <td>MIFLWHuw7y7uxl6jt</td>\n",
       "      <td>MhqE5OBynbluOvpzg:Mhjf40Kd9jo9diwzi</td>\n",
       "      <td>3</td>\n",
       "      <td>4</td>\n",
       "      <td>True</td>\n",
       "      <td>0</td>\n",
       "      <td>0</td>\n",
       "      <td>0</td>\n",
       "      <td>1</td>\n",
       "      <td>0</td>\n",
       "      <td>0</td>\n",
       "      <td>0</td>\n",
       "      <td>2</td>\n",
       "      <td>3</td>\n",
       "      <td>SLIDER</td>\n",
       "      <td>34</td>\n",
       "      <td>-1</td>\n",
       "      <td>125132</td>\n",
       "    </tr>\n",
       "    <tr>\n",
       "      <th>57116</th>\n",
       "      <td>MIFLWHuw7y7uxl6jt</td>\n",
       "      <td>MhqE5OBynbluOvpzg:Mrs4LkUzk6DVPBjqh</td>\n",
       "      <td>3</td>\n",
       "      <td>1</td>\n",
       "      <td>True</td>\n",
       "      <td>0</td>\n",
       "      <td>0</td>\n",
       "      <td>0</td>\n",
       "      <td>1</td>\n",
       "      <td>0</td>\n",
       "      <td>0</td>\n",
       "      <td>0</td>\n",
       "      <td>3</td>\n",
       "      <td>4</td>\n",
       "      <td>SLIDER</td>\n",
       "      <td>33</td>\n",
       "      <td>-1</td>\n",
       "      <td>125132</td>\n",
       "    </tr>\n",
       "    <tr>\n",
       "      <th>57117</th>\n",
       "      <td>MIFLWHuw7y7uxl6jt</td>\n",
       "      <td>MhqE5OBynbluOvpzg:M2SrYDEsAEbFpklGu</td>\n",
       "      <td>3</td>\n",
       "      <td>1</td>\n",
       "      <td>True</td>\n",
       "      <td>0</td>\n",
       "      <td>0</td>\n",
       "      <td>0</td>\n",
       "      <td>1</td>\n",
       "      <td>0</td>\n",
       "      <td>0</td>\n",
       "      <td>0</td>\n",
       "      <td>3</td>\n",
       "      <td>4</td>\n",
       "      <td>SLIDER</td>\n",
       "      <td>34</td>\n",
       "      <td>-1</td>\n",
       "      <td>125132</td>\n",
       "    </tr>\n",
       "    <tr>\n",
       "      <th>57118</th>\n",
       "      <td>MIFLWHuw7y7uxl6jt</td>\n",
       "      <td>MhqE5OBynbluOvpzg:MINKymPC4XmoUfv8z</td>\n",
       "      <td>3</td>\n",
       "      <td>1</td>\n",
       "      <td>True</td>\n",
       "      <td>0</td>\n",
       "      <td>0</td>\n",
       "      <td>0</td>\n",
       "      <td>1</td>\n",
       "      <td>0</td>\n",
       "      <td>0</td>\n",
       "      <td>0</td>\n",
       "      <td>3</td>\n",
       "      <td>4</td>\n",
       "      <td>SLIDER</td>\n",
       "      <td>27</td>\n",
       "      <td>-1</td>\n",
       "      <td>125132</td>\n",
       "    </tr>\n",
       "  </tbody>\n",
       "</table>\n",
       "<p>57119 rows × 18 columns</p>\n",
       "</div>"
      ],
      "text/plain": [
       "                   part1                                part2  \\\n",
       "0      M6bbGpYeynYlaugVy                    MOioj+bH21Zqkx+em   \n",
       "1      MJrVskG4U/7iIpIVh                    MtKznJtK5hTGijXbz   \n",
       "2      MJrVskG4U/7iIpIVh                    MFT/jqXmTBLnGPukT   \n",
       "3      M1IfORHnFC+1ltuRO                    Mo8s9oBgsM95bjDJi   \n",
       "4      M1IfORHnFC+1ltuRO                    M61XDXFjhE+/RwYYp   \n",
       "...                  ...                                  ...   \n",
       "57114  MumOodeUesvG5ES8Q                    MVDWoZ5WBhkHUyX0e   \n",
       "57115  MIFLWHuw7y7uxl6jt  MhqE5OBynbluOvpzg:Mhjf40Kd9jo9diwzi   \n",
       "57116  MIFLWHuw7y7uxl6jt  MhqE5OBynbluOvpzg:Mrs4LkUzk6DVPBjqh   \n",
       "57117  MIFLWHuw7y7uxl6jt  MhqE5OBynbluOvpzg:M2SrYDEsAEbFpklGu   \n",
       "57118  MIFLWHuw7y7uxl6jt  MhqE5OBynbluOvpzg:MINKymPC4XmoUfv8z   \n",
       "\n",
       "       num_dir_proposals  num_axes_proposals  added_mate  PIN_SLOT  BALL  \\\n",
       "0                      3                   7        True         0     0   \n",
       "1                      1                   1        True         0     0   \n",
       "2                      1                   1        True         0     0   \n",
       "3                      1                   1        True         0     0   \n",
       "4                      1                   1        True         0     0   \n",
       "...                  ...                 ...         ...       ...   ...   \n",
       "57114                  2                   1        True         0     0   \n",
       "57115                  3                   4        True         0     0   \n",
       "57116                  3                   1        True         0     0   \n",
       "57117                  3                   1        True         0     0   \n",
       "57118                  3                   1        True         0     0   \n",
       "\n",
       "       PARALLEL  SLIDER  REVOLUTE  CYLINDRICAL  PLANAR  FASTENED  \\\n",
       "0             0       0         1            0       0         1   \n",
       "1             0       0         0            2       0         0   \n",
       "2             0       0         0            2       0         0   \n",
       "3             0       0         0            2       0         0   \n",
       "4             0       0         0            2       0         0   \n",
       "...         ...     ...       ...          ...     ...       ...   \n",
       "57114         0       0         2            0       0         0   \n",
       "57115         0       1         0            0       0         2   \n",
       "57116         0       1         0            0       0         3   \n",
       "57117         0       1         0            0       0         3   \n",
       "57118         0       1         0            0       0         3   \n",
       "\n",
       "       chain_length         type  axis_index  dir_index  Assembly  \n",
       "0                 2     REVOLUTE         514         -1        19  \n",
       "1                 2  CYLINDRICAL           0         -1        22  \n",
       "2                 2  CYLINDRICAL           0         -1        22  \n",
       "3                 2  CYLINDRICAL           0         -1        22  \n",
       "4                 2  CYLINDRICAL           0         -1        22  \n",
       "...             ...          ...         ...        ...       ...  \n",
       "57114             2     REVOLUTE           1         -1    125128  \n",
       "57115             3       SLIDER          34         -1    125132  \n",
       "57116             4       SLIDER          33         -1    125132  \n",
       "57117             4       SLIDER          34         -1    125132  \n",
       "57118             4       SLIDER          27         -1    125132  \n",
       "\n",
       "[57119 rows x 18 columns]"
      ]
     },
     "execution_count": 250,
     "metadata": {},
     "output_type": "execute_result"
    }
   ],
   "source": [
    "newmate_df_new"
   ]
  },
  {
   "cell_type": "code",
   "execution_count": 256,
   "id": "6aa8c68b-3bfa-45c8-8f61-7cc16cf45dfc",
   "metadata": {},
   "outputs": [
    {
     "data": {
      "text/html": [
       "<div>\n",
       "<style scoped>\n",
       "    .dataframe tbody tr th:only-of-type {\n",
       "        vertical-align: middle;\n",
       "    }\n",
       "\n",
       "    .dataframe tbody tr th {\n",
       "        vertical-align: top;\n",
       "    }\n",
       "\n",
       "    .dataframe thead th {\n",
       "        text-align: right;\n",
       "    }\n",
       "</style>\n",
       "<table border=\"1\" class=\"dataframe\">\n",
       "  <thead>\n",
       "    <tr style=\"text-align: right;\">\n",
       "      <th></th>\n",
       "      <th>skipped</th>\n",
       "    </tr>\n",
       "    <tr>\n",
       "      <th>index</th>\n",
       "      <th></th>\n",
       "    </tr>\n",
       "  </thead>\n",
       "  <tbody>\n",
       "    <tr>\n",
       "      <th>40</th>\n",
       "      <td>True</td>\n",
       "    </tr>\n",
       "  </tbody>\n",
       "</table>\n",
       "</div>"
      ],
      "text/plain": [
       "       skipped\n",
       "index         \n",
       "40        True"
      ]
     },
     "execution_count": 256,
     "metadata": {},
     "output_type": "execute_result"
    }
   ],
   "source": [
    "labels_df = ps.read_parquet('/fast/jamesn8/assembly_data/assembly_torch2_fixsize/test_add_mate_labels/stats.parquet')\n",
    "labels_df"
   ]
  },
  {
   "cell_type": "code",
   "execution_count": 268,
   "id": "49f5fce1-18a7-44b5-9bd7-ec91f5bafb8f",
   "metadata": {},
   "outputs": [
    {
     "data": {
      "text/plain": [
       "Int64Index([   576,   1436,   2033,   4874,   6597,  11866,  13977,  16040,\n",
       "             24996,  26742,  33827,  35134,  38704,  43593,  46779,  50409,\n",
       "             53798,  55340,  56660,  61346,  61948,  69553,  74306,  74692,\n",
       "             75207,  83369,  85275,  87066,  93489,  96922,  98376, 107807,\n",
       "            110683, 112619, 113686, 118492, 120823, 121883, 122746],\n",
       "           dtype='int64', name='index')"
      ]
     },
     "execution_count": 268,
     "metadata": {},
     "output_type": "execute_result"
    }
   ],
   "source": [
    "newmate_assembly_df_new[lambda df: ~df.isnull()][lambda df: ~df['mc_counts_agree']].index"
   ]
  },
  {
   "cell_type": "code",
   "execution_count": 270,
   "id": "4c988545-93ee-4311-9d64-fb3ad913fc7c",
   "metadata": {},
   "outputs": [],
   "source": [
    "mate_check_assembly_df = ps.read_parquet('/fast/jamesn8/assembly_data/assembly_torch2_fixsize/new_axes_100groups_and_mate_check/assembly_stats.parquet')\n"
   ]
  },
  {
   "cell_type": "code",
   "execution_count": 271,
   "id": "426ef790-3eab-41e0-9bc3-a9f5a514e37a",
   "metadata": {},
   "outputs": [
    {
     "data": {
      "text/html": [
       "<div>\n",
       "<style scoped>\n",
       "    .dataframe tbody tr th:only-of-type {\n",
       "        vertical-align: middle;\n",
       "    }\n",
       "\n",
       "    .dataframe tbody tr th {\n",
       "        vertical-align: top;\n",
       "    }\n",
       "\n",
       "    .dataframe thead th {\n",
       "        text-align: right;\n",
       "    }\n",
       "</style>\n",
       "<table border=\"1\" class=\"dataframe\">\n",
       "  <thead>\n",
       "    <tr style=\"text-align: right;\">\n",
       "      <th></th>\n",
       "      <th>num_discrepant_mc_counts</th>\n",
       "    </tr>\n",
       "    <tr>\n",
       "      <th>index</th>\n",
       "      <th></th>\n",
       "    </tr>\n",
       "  </thead>\n",
       "  <tbody>\n",
       "    <tr>\n",
       "      <th>19</th>\n",
       "      <td>0</td>\n",
       "    </tr>\n",
       "    <tr>\n",
       "      <th>22</th>\n",
       "      <td>0</td>\n",
       "    </tr>\n",
       "    <tr>\n",
       "      <th>26</th>\n",
       "      <td>0</td>\n",
       "    </tr>\n",
       "    <tr>\n",
       "      <th>38</th>\n",
       "      <td>0</td>\n",
       "    </tr>\n",
       "    <tr>\n",
       "      <th>45</th>\n",
       "      <td>0</td>\n",
       "    </tr>\n",
       "    <tr>\n",
       "      <th>...</th>\n",
       "      <td>...</td>\n",
       "    </tr>\n",
       "    <tr>\n",
       "      <th>125098</th>\n",
       "      <td>0</td>\n",
       "    </tr>\n",
       "    <tr>\n",
       "      <th>125100</th>\n",
       "      <td>0</td>\n",
       "    </tr>\n",
       "    <tr>\n",
       "      <th>125126</th>\n",
       "      <td>0</td>\n",
       "    </tr>\n",
       "    <tr>\n",
       "      <th>125128</th>\n",
       "      <td>0</td>\n",
       "    </tr>\n",
       "    <tr>\n",
       "      <th>125132</th>\n",
       "      <td>0</td>\n",
       "    </tr>\n",
       "  </tbody>\n",
       "</table>\n",
       "<p>10426 rows × 1 columns</p>\n",
       "</div>"
      ],
      "text/plain": [
       "        num_discrepant_mc_counts\n",
       "index                           \n",
       "19                             0\n",
       "22                             0\n",
       "26                             0\n",
       "38                             0\n",
       "45                             0\n",
       "...                          ...\n",
       "125098                         0\n",
       "125100                         0\n",
       "125126                         0\n",
       "125128                         0\n",
       "125132                         0\n",
       "\n",
       "[10426 rows x 1 columns]"
      ]
     },
     "execution_count": 271,
     "metadata": {},
     "output_type": "execute_result"
    }
   ],
   "source": [
    "mate_check_assembly_df"
   ]
  },
  {
   "cell_type": "code",
   "execution_count": 272,
   "id": "6447bcd8-d748-4e0c-a34f-ea474318f248",
   "metadata": {},
   "outputs": [],
   "source": [
    "distance_df = ps.read_parquet('/fast/jamesn8/assembly_data/assembly_torch2_fixsize/new_distances/assembly_distance_stats.parquet')\n"
   ]
  },
  {
   "cell_type": "code",
   "execution_count": 274,
   "id": "69da0cf7-c7ce-4dbd-b24c-2e54b1c9fe16",
   "metadata": {},
   "outputs": [
    {
     "data": {
      "text/plain": [
       "num_total_parts                                   3\n",
       "num_invalid_loaded_parts                          0\n",
       "num_topologies                                   96\n",
       "too_big                                       False\n",
       "invalid_bbox                                  False\n",
       "maxdim                                     0.096483\n",
       "num_normalized_parts_with_discrepancies           0\n",
       "num_invalid_transformed_parts                     0\n",
       "initialized                                    True\n",
       "num_degenerate_bboxes                             0\n",
       "num_unconnected_close                             0\n",
       "num_unconnected_coincident                        0\n",
       "num_unconnected_close_and_coincident              0\n",
       "num_connected_far                                 2\n",
       "num_connected_not_coincident                      2\n",
       "num_connected_far_or_not_coincident               2\n",
       "Name: 47092, dtype: object"
      ]
     },
     "execution_count": 274,
     "metadata": {},
     "output_type": "execute_result"
    }
   ],
   "source": [
    "distance_df.loc[47092]"
   ]
  },
  {
   "cell_type": "code",
   "execution_count": 7,
   "id": "05e8bc0e-bd7d-423d-b61a-6994afda9312",
   "metadata": {},
   "outputs": [],
   "source": [
    "final_df = ps.read_parquet('/fast/jamesn8/assembly_data/assembly_torch2_fixsize/finalized_dataset_2/final_stat.parquet')"
   ]
  },
  {
   "cell_type": "code",
   "execution_count": 9,
   "id": "0d0a7ffd-30c1-45cf-9ef7-b993f8ba5d6f",
   "metadata": {},
   "outputs": [],
   "source": [
    "final_df_test = ps.read_parquet('/fast/jamesn8/assembly_data/assembly_torch2_fixsize/test_axis_and_check_and_augment/final_stat.parquet')"
   ]
  },
  {
   "cell_type": "code",
   "execution_count": 10,
   "id": "9edd58c3-30b6-4e86-abb3-d4a6e1324f04",
   "metadata": {},
   "outputs": [
    {
     "data": {
      "text/html": [
       "<div>\n",
       "<style scoped>\n",
       "    .dataframe tbody tr th:only-of-type {\n",
       "        vertical-align: middle;\n",
       "    }\n",
       "\n",
       "    .dataframe tbody tr th {\n",
       "        vertical-align: top;\n",
       "    }\n",
       "\n",
       "    .dataframe thead th {\n",
       "        text-align: right;\n",
       "    }\n",
       "</style>\n",
       "<table border=\"1\" class=\"dataframe\">\n",
       "  <thead>\n",
       "    <tr style=\"text-align: right;\">\n",
       "      <th></th>\n",
       "      <th>has_mate_check</th>\n",
       "      <th>attempted_augmentation</th>\n",
       "      <th>pspy_initialized</th>\n",
       "      <th>pspy_valid</th>\n",
       "      <th>all_mates_valid</th>\n",
       "      <th>has_torch_file</th>\n",
       "      <th>has_mc_file</th>\n",
       "      <th>has_all_distances</th>\n",
       "      <th>num_missing_mates</th>\n",
       "      <th>num_augmented_missing_mates</th>\n",
       "      <th>num_densified_fastens</th>\n",
       "      <th>has_all_type_labels</th>\n",
       "      <th>num_unconnected_close_with_axis</th>\n",
       "      <th>num_connected_coaxial_far</th>\n",
       "      <th>valid</th>\n",
       "    </tr>\n",
       "    <tr>\n",
       "      <th>index</th>\n",
       "      <th></th>\n",
       "      <th></th>\n",
       "      <th></th>\n",
       "      <th></th>\n",
       "      <th></th>\n",
       "      <th></th>\n",
       "      <th></th>\n",
       "      <th></th>\n",
       "      <th></th>\n",
       "      <th></th>\n",
       "      <th></th>\n",
       "      <th></th>\n",
       "      <th></th>\n",
       "      <th></th>\n",
       "      <th></th>\n",
       "    </tr>\n",
       "  </thead>\n",
       "  <tbody>\n",
       "    <tr>\n",
       "      <th>19</th>\n",
       "      <td>True</td>\n",
       "      <td>1</td>\n",
       "      <td>True</td>\n",
       "      <td>True</td>\n",
       "      <td>True</td>\n",
       "      <td>True</td>\n",
       "      <td>True</td>\n",
       "      <td>True</td>\n",
       "      <td>0</td>\n",
       "      <td>1</td>\n",
       "      <td>0</td>\n",
       "      <td>True</td>\n",
       "      <td>1</td>\n",
       "      <td>0</td>\n",
       "      <td>True</td>\n",
       "    </tr>\n",
       "    <tr>\n",
       "      <th>22</th>\n",
       "      <td>True</td>\n",
       "      <td>15</td>\n",
       "      <td>True</td>\n",
       "      <td>True</td>\n",
       "      <td>True</td>\n",
       "      <td>True</td>\n",
       "      <td>True</td>\n",
       "      <td>True</td>\n",
       "      <td>6</td>\n",
       "      <td>14</td>\n",
       "      <td>0</td>\n",
       "      <td>True</td>\n",
       "      <td>20</td>\n",
       "      <td>0</td>\n",
       "      <td>False</td>\n",
       "    </tr>\n",
       "    <tr>\n",
       "      <th>26</th>\n",
       "      <td>True</td>\n",
       "      <td>9</td>\n",
       "      <td>True</td>\n",
       "      <td>True</td>\n",
       "      <td>True</td>\n",
       "      <td>True</td>\n",
       "      <td>True</td>\n",
       "      <td>True</td>\n",
       "      <td>9</td>\n",
       "      <td>0</td>\n",
       "      <td>0</td>\n",
       "      <td>True</td>\n",
       "      <td>9</td>\n",
       "      <td>2</td>\n",
       "      <td>False</td>\n",
       "    </tr>\n",
       "    <tr>\n",
       "      <th>38</th>\n",
       "      <td>True</td>\n",
       "      <td>3</td>\n",
       "      <td>True</td>\n",
       "      <td>True</td>\n",
       "      <td>True</td>\n",
       "      <td>True</td>\n",
       "      <td>True</td>\n",
       "      <td>True</td>\n",
       "      <td>2</td>\n",
       "      <td>1</td>\n",
       "      <td>0</td>\n",
       "      <td>True</td>\n",
       "      <td>3</td>\n",
       "      <td>0</td>\n",
       "      <td>False</td>\n",
       "    </tr>\n",
       "    <tr>\n",
       "      <th>40</th>\n",
       "      <td>True</td>\n",
       "      <td>0</td>\n",
       "      <td>True</td>\n",
       "      <td>True</td>\n",
       "      <td>True</td>\n",
       "      <td>True</td>\n",
       "      <td>True</td>\n",
       "      <td>True</td>\n",
       "      <td>0</td>\n",
       "      <td>0</td>\n",
       "      <td>0</td>\n",
       "      <td>True</td>\n",
       "      <td>0</td>\n",
       "      <td>0</td>\n",
       "      <td>True</td>\n",
       "    </tr>\n",
       "    <tr>\n",
       "      <th>45</th>\n",
       "      <td>True</td>\n",
       "      <td>1</td>\n",
       "      <td>True</td>\n",
       "      <td>True</td>\n",
       "      <td>True</td>\n",
       "      <td>True</td>\n",
       "      <td>True</td>\n",
       "      <td>True</td>\n",
       "      <td>0</td>\n",
       "      <td>1</td>\n",
       "      <td>0</td>\n",
       "      <td>True</td>\n",
       "      <td>1</td>\n",
       "      <td>1</td>\n",
       "      <td>False</td>\n",
       "    </tr>\n",
       "    <tr>\n",
       "      <th>53</th>\n",
       "      <td>True</td>\n",
       "      <td>4</td>\n",
       "      <td>True</td>\n",
       "      <td>True</td>\n",
       "      <td>True</td>\n",
       "      <td>True</td>\n",
       "      <td>True</td>\n",
       "      <td>True</td>\n",
       "      <td>3</td>\n",
       "      <td>2</td>\n",
       "      <td>0</td>\n",
       "      <td>True</td>\n",
       "      <td>5</td>\n",
       "      <td>0</td>\n",
       "      <td>False</td>\n",
       "    </tr>\n",
       "    <tr>\n",
       "      <th>64</th>\n",
       "      <td>True</td>\n",
       "      <td>36</td>\n",
       "      <td>True</td>\n",
       "      <td>True</td>\n",
       "      <td>True</td>\n",
       "      <td>True</td>\n",
       "      <td>True</td>\n",
       "      <td>True</td>\n",
       "      <td>16</td>\n",
       "      <td>31</td>\n",
       "      <td>0</td>\n",
       "      <td>True</td>\n",
       "      <td>47</td>\n",
       "      <td>2</td>\n",
       "      <td>False</td>\n",
       "    </tr>\n",
       "    <tr>\n",
       "      <th>65</th>\n",
       "      <td>True</td>\n",
       "      <td>1</td>\n",
       "      <td>True</td>\n",
       "      <td>True</td>\n",
       "      <td>True</td>\n",
       "      <td>True</td>\n",
       "      <td>True</td>\n",
       "      <td>True</td>\n",
       "      <td>2</td>\n",
       "      <td>1</td>\n",
       "      <td>0</td>\n",
       "      <td>True</td>\n",
       "      <td>3</td>\n",
       "      <td>0</td>\n",
       "      <td>False</td>\n",
       "    </tr>\n",
       "    <tr>\n",
       "      <th>76</th>\n",
       "      <td>True</td>\n",
       "      <td>1</td>\n",
       "      <td>True</td>\n",
       "      <td>True</td>\n",
       "      <td>True</td>\n",
       "      <td>True</td>\n",
       "      <td>True</td>\n",
       "      <td>True</td>\n",
       "      <td>3</td>\n",
       "      <td>1</td>\n",
       "      <td>0</td>\n",
       "      <td>True</td>\n",
       "      <td>4</td>\n",
       "      <td>2</td>\n",
       "      <td>False</td>\n",
       "    </tr>\n",
       "  </tbody>\n",
       "</table>\n",
       "</div>"
      ],
      "text/plain": [
       "       has_mate_check  attempted_augmentation  pspy_initialized  pspy_valid  \\\n",
       "index                                                                         \n",
       "19               True                       1              True        True   \n",
       "22               True                      15              True        True   \n",
       "26               True                       9              True        True   \n",
       "38               True                       3              True        True   \n",
       "40               True                       0              True        True   \n",
       "45               True                       1              True        True   \n",
       "53               True                       4              True        True   \n",
       "64               True                      36              True        True   \n",
       "65               True                       1              True        True   \n",
       "76               True                       1              True        True   \n",
       "\n",
       "       all_mates_valid  has_torch_file  has_mc_file  has_all_distances  \\\n",
       "index                                                                    \n",
       "19                True            True         True               True   \n",
       "22                True            True         True               True   \n",
       "26                True            True         True               True   \n",
       "38                True            True         True               True   \n",
       "40                True            True         True               True   \n",
       "45                True            True         True               True   \n",
       "53                True            True         True               True   \n",
       "64                True            True         True               True   \n",
       "65                True            True         True               True   \n",
       "76                True            True         True               True   \n",
       "\n",
       "       num_missing_mates  num_augmented_missing_mates  num_densified_fastens  \\\n",
       "index                                                                          \n",
       "19                     0                            1                      0   \n",
       "22                     6                           14                      0   \n",
       "26                     9                            0                      0   \n",
       "38                     2                            1                      0   \n",
       "40                     0                            0                      0   \n",
       "45                     0                            1                      0   \n",
       "53                     3                            2                      0   \n",
       "64                    16                           31                      0   \n",
       "65                     2                            1                      0   \n",
       "76                     3                            1                      0   \n",
       "\n",
       "       has_all_type_labels  num_unconnected_close_with_axis  \\\n",
       "index                                                         \n",
       "19                    True                                1   \n",
       "22                    True                               20   \n",
       "26                    True                                9   \n",
       "38                    True                                3   \n",
       "40                    True                                0   \n",
       "45                    True                                1   \n",
       "53                    True                                5   \n",
       "64                    True                               47   \n",
       "65                    True                                3   \n",
       "76                    True                                4   \n",
       "\n",
       "       num_connected_coaxial_far  valid  \n",
       "index                                    \n",
       "19                             0   True  \n",
       "22                             0  False  \n",
       "26                             2  False  \n",
       "38                             0  False  \n",
       "40                             0   True  \n",
       "45                             1  False  \n",
       "53                             0  False  \n",
       "64                             2  False  \n",
       "65                             0  False  \n",
       "76                             2  False  "
      ]
     },
     "execution_count": 10,
     "metadata": {},
     "output_type": "execute_result"
    }
   ],
   "source": [
    "final_df_test"
   ]
  },
  {
   "cell_type": "code",
   "execution_count": 12,
   "id": "1f9405e4-2eef-4a1b-9ac2-76da018c3f5b",
   "metadata": {},
   "outputs": [
    {
     "data": {
      "text/html": [
       "<div>\n",
       "<style scoped>\n",
       "    .dataframe tbody tr th:only-of-type {\n",
       "        vertical-align: middle;\n",
       "    }\n",
       "\n",
       "    .dataframe tbody tr th {\n",
       "        vertical-align: top;\n",
       "    }\n",
       "\n",
       "    .dataframe thead th {\n",
       "        text-align: right;\n",
       "    }\n",
       "</style>\n",
       "<table border=\"1\" class=\"dataframe\">\n",
       "  <thead>\n",
       "    <tr style=\"text-align: right;\">\n",
       "      <th></th>\n",
       "      <th>has_mate_check</th>\n",
       "      <th>attempted_augmentation</th>\n",
       "      <th>pspy_initialized</th>\n",
       "      <th>pspy_valid</th>\n",
       "      <th>all_mates_valid</th>\n",
       "      <th>has_torch_file</th>\n",
       "      <th>has_mc_file</th>\n",
       "      <th>has_all_distances</th>\n",
       "      <th>num_missing_mates</th>\n",
       "      <th>num_augmented_missing_mates</th>\n",
       "      <th>num_densified_fastens</th>\n",
       "      <th>has_all_type_labels</th>\n",
       "      <th>num_unconnected_close_with_axis</th>\n",
       "      <th>num_connected_coaxial_far</th>\n",
       "      <th>valid</th>\n",
       "    </tr>\n",
       "    <tr>\n",
       "      <th>index</th>\n",
       "      <th></th>\n",
       "      <th></th>\n",
       "      <th></th>\n",
       "      <th></th>\n",
       "      <th></th>\n",
       "      <th></th>\n",
       "      <th></th>\n",
       "      <th></th>\n",
       "      <th></th>\n",
       "      <th></th>\n",
       "      <th></th>\n",
       "      <th></th>\n",
       "      <th></th>\n",
       "      <th></th>\n",
       "      <th></th>\n",
       "    </tr>\n",
       "  </thead>\n",
       "  <tbody>\n",
       "    <tr>\n",
       "      <th>19</th>\n",
       "      <td>True</td>\n",
       "      <td>1</td>\n",
       "      <td>True</td>\n",
       "      <td>True</td>\n",
       "      <td>True</td>\n",
       "      <td>False</td>\n",
       "      <td>True</td>\n",
       "      <td>True</td>\n",
       "      <td>0</td>\n",
       "      <td>1</td>\n",
       "      <td>0</td>\n",
       "      <td>True</td>\n",
       "      <td>1</td>\n",
       "      <td>0</td>\n",
       "      <td>False</td>\n",
       "    </tr>\n",
       "    <tr>\n",
       "      <th>22</th>\n",
       "      <td>True</td>\n",
       "      <td>15</td>\n",
       "      <td>True</td>\n",
       "      <td>True</td>\n",
       "      <td>True</td>\n",
       "      <td>False</td>\n",
       "      <td>True</td>\n",
       "      <td>True</td>\n",
       "      <td>6</td>\n",
       "      <td>14</td>\n",
       "      <td>0</td>\n",
       "      <td>True</td>\n",
       "      <td>20</td>\n",
       "      <td>0</td>\n",
       "      <td>False</td>\n",
       "    </tr>\n",
       "    <tr>\n",
       "      <th>26</th>\n",
       "      <td>True</td>\n",
       "      <td>9</td>\n",
       "      <td>True</td>\n",
       "      <td>True</td>\n",
       "      <td>True</td>\n",
       "      <td>False</td>\n",
       "      <td>True</td>\n",
       "      <td>True</td>\n",
       "      <td>9</td>\n",
       "      <td>0</td>\n",
       "      <td>0</td>\n",
       "      <td>True</td>\n",
       "      <td>9</td>\n",
       "      <td>2</td>\n",
       "      <td>False</td>\n",
       "    </tr>\n",
       "    <tr>\n",
       "      <th>38</th>\n",
       "      <td>True</td>\n",
       "      <td>3</td>\n",
       "      <td>True</td>\n",
       "      <td>True</td>\n",
       "      <td>True</td>\n",
       "      <td>False</td>\n",
       "      <td>True</td>\n",
       "      <td>True</td>\n",
       "      <td>2</td>\n",
       "      <td>1</td>\n",
       "      <td>0</td>\n",
       "      <td>True</td>\n",
       "      <td>3</td>\n",
       "      <td>0</td>\n",
       "      <td>False</td>\n",
       "    </tr>\n",
       "    <tr>\n",
       "      <th>40</th>\n",
       "      <td>True</td>\n",
       "      <td>0</td>\n",
       "      <td>True</td>\n",
       "      <td>True</td>\n",
       "      <td>True</td>\n",
       "      <td>False</td>\n",
       "      <td>True</td>\n",
       "      <td>True</td>\n",
       "      <td>0</td>\n",
       "      <td>0</td>\n",
       "      <td>0</td>\n",
       "      <td>True</td>\n",
       "      <td>0</td>\n",
       "      <td>0</td>\n",
       "      <td>False</td>\n",
       "    </tr>\n",
       "    <tr>\n",
       "      <th>...</th>\n",
       "      <td>...</td>\n",
       "      <td>...</td>\n",
       "      <td>...</td>\n",
       "      <td>...</td>\n",
       "      <td>...</td>\n",
       "      <td>...</td>\n",
       "      <td>...</td>\n",
       "      <td>...</td>\n",
       "      <td>...</td>\n",
       "      <td>...</td>\n",
       "      <td>...</td>\n",
       "      <td>...</td>\n",
       "      <td>...</td>\n",
       "      <td>...</td>\n",
       "      <td>...</td>\n",
       "    </tr>\n",
       "    <tr>\n",
       "      <th>125100</th>\n",
       "      <td>True</td>\n",
       "      <td>3</td>\n",
       "      <td>True</td>\n",
       "      <td>True</td>\n",
       "      <td>True</td>\n",
       "      <td>False</td>\n",
       "      <td>True</td>\n",
       "      <td>True</td>\n",
       "      <td>1</td>\n",
       "      <td>2</td>\n",
       "      <td>0</td>\n",
       "      <td>True</td>\n",
       "      <td>3</td>\n",
       "      <td>1</td>\n",
       "      <td>False</td>\n",
       "    </tr>\n",
       "    <tr>\n",
       "      <th>125102</th>\n",
       "      <td>True</td>\n",
       "      <td>0</td>\n",
       "      <td>True</td>\n",
       "      <td>True</td>\n",
       "      <td>True</td>\n",
       "      <td>False</td>\n",
       "      <td>True</td>\n",
       "      <td>True</td>\n",
       "      <td>0</td>\n",
       "      <td>0</td>\n",
       "      <td>0</td>\n",
       "      <td>True</td>\n",
       "      <td>0</td>\n",
       "      <td>0</td>\n",
       "      <td>False</td>\n",
       "    </tr>\n",
       "    <tr>\n",
       "      <th>125126</th>\n",
       "      <td>True</td>\n",
       "      <td>3</td>\n",
       "      <td>True</td>\n",
       "      <td>True</td>\n",
       "      <td>True</td>\n",
       "      <td>False</td>\n",
       "      <td>True</td>\n",
       "      <td>True</td>\n",
       "      <td>0</td>\n",
       "      <td>3</td>\n",
       "      <td>0</td>\n",
       "      <td>True</td>\n",
       "      <td>3</td>\n",
       "      <td>0</td>\n",
       "      <td>False</td>\n",
       "    </tr>\n",
       "    <tr>\n",
       "      <th>125128</th>\n",
       "      <td>True</td>\n",
       "      <td>1</td>\n",
       "      <td>True</td>\n",
       "      <td>True</td>\n",
       "      <td>True</td>\n",
       "      <td>False</td>\n",
       "      <td>True</td>\n",
       "      <td>True</td>\n",
       "      <td>0</td>\n",
       "      <td>1</td>\n",
       "      <td>0</td>\n",
       "      <td>True</td>\n",
       "      <td>1</td>\n",
       "      <td>0</td>\n",
       "      <td>False</td>\n",
       "    </tr>\n",
       "    <tr>\n",
       "      <th>125132</th>\n",
       "      <td>True</td>\n",
       "      <td>4</td>\n",
       "      <td>True</td>\n",
       "      <td>True</td>\n",
       "      <td>True</td>\n",
       "      <td>False</td>\n",
       "      <td>True</td>\n",
       "      <td>True</td>\n",
       "      <td>4</td>\n",
       "      <td>10</td>\n",
       "      <td>6</td>\n",
       "      <td>True</td>\n",
       "      <td>14</td>\n",
       "      <td>0</td>\n",
       "      <td>False</td>\n",
       "    </tr>\n",
       "  </tbody>\n",
       "</table>\n",
       "<p>13957 rows × 15 columns</p>\n",
       "</div>"
      ],
      "text/plain": [
       "        has_mate_check  attempted_augmentation  pspy_initialized  pspy_valid  \\\n",
       "index                                                                          \n",
       "19                True                       1              True        True   \n",
       "22                True                      15              True        True   \n",
       "26                True                       9              True        True   \n",
       "38                True                       3              True        True   \n",
       "40                True                       0              True        True   \n",
       "...                ...                     ...               ...         ...   \n",
       "125100            True                       3              True        True   \n",
       "125102            True                       0              True        True   \n",
       "125126            True                       3              True        True   \n",
       "125128            True                       1              True        True   \n",
       "125132            True                       4              True        True   \n",
       "\n",
       "        all_mates_valid  has_torch_file  has_mc_file  has_all_distances  \\\n",
       "index                                                                     \n",
       "19                 True           False         True               True   \n",
       "22                 True           False         True               True   \n",
       "26                 True           False         True               True   \n",
       "38                 True           False         True               True   \n",
       "40                 True           False         True               True   \n",
       "...                 ...             ...          ...                ...   \n",
       "125100             True           False         True               True   \n",
       "125102             True           False         True               True   \n",
       "125126             True           False         True               True   \n",
       "125128             True           False         True               True   \n",
       "125132             True           False         True               True   \n",
       "\n",
       "        num_missing_mates  num_augmented_missing_mates  num_densified_fastens  \\\n",
       "index                                                                           \n",
       "19                      0                            1                      0   \n",
       "22                      6                           14                      0   \n",
       "26                      9                            0                      0   \n",
       "38                      2                            1                      0   \n",
       "40                      0                            0                      0   \n",
       "...                   ...                          ...                    ...   \n",
       "125100                  1                            2                      0   \n",
       "125102                  0                            0                      0   \n",
       "125126                  0                            3                      0   \n",
       "125128                  0                            1                      0   \n",
       "125132                  4                           10                      6   \n",
       "\n",
       "        has_all_type_labels  num_unconnected_close_with_axis  \\\n",
       "index                                                          \n",
       "19                     True                                1   \n",
       "22                     True                               20   \n",
       "26                     True                                9   \n",
       "38                     True                                3   \n",
       "40                     True                                0   \n",
       "...                     ...                              ...   \n",
       "125100                 True                                3   \n",
       "125102                 True                                0   \n",
       "125126                 True                                3   \n",
       "125128                 True                                1   \n",
       "125132                 True                               14   \n",
       "\n",
       "        num_connected_coaxial_far  valid  \n",
       "index                                     \n",
       "19                              0  False  \n",
       "22                              0  False  \n",
       "26                              2  False  \n",
       "38                              0  False  \n",
       "40                              0  False  \n",
       "...                           ...    ...  \n",
       "125100                          1  False  \n",
       "125102                          0  False  \n",
       "125126                          0  False  \n",
       "125128                          0  False  \n",
       "125132                          0  False  \n",
       "\n",
       "[13957 rows x 15 columns]"
      ]
     },
     "execution_count": 12,
     "metadata": {},
     "output_type": "execute_result"
    }
   ],
   "source": [
    "final_df"
   ]
  },
  {
   "cell_type": "code",
   "execution_count": 278,
   "id": "476c2526-46f3-4f0f-a863-ce235660b8d5",
   "metadata": {},
   "outputs": [
    {
     "data": {
      "text/html": [
       "<div>\n",
       "<style scoped>\n",
       "    .dataframe tbody tr th:only-of-type {\n",
       "        vertical-align: middle;\n",
       "    }\n",
       "\n",
       "    .dataframe tbody tr th {\n",
       "        vertical-align: top;\n",
       "    }\n",
       "\n",
       "    .dataframe thead th {\n",
       "        text-align: right;\n",
       "    }\n",
       "</style>\n",
       "<table border=\"1\" class=\"dataframe\">\n",
       "  <thead>\n",
       "    <tr style=\"text-align: right;\">\n",
       "      <th></th>\n",
       "      <th>has_mate_check</th>\n",
       "      <th>attempted_augmentation</th>\n",
       "      <th>pspy_initialized</th>\n",
       "      <th>pspy_valid</th>\n",
       "      <th>all_mates_valid</th>\n",
       "      <th>has_torch_file</th>\n",
       "      <th>has_mc_file</th>\n",
       "      <th>has_all_distances</th>\n",
       "      <th>num_missing_mates</th>\n",
       "      <th>num_augmented_missing_mates</th>\n",
       "      <th>num_densified_fastens</th>\n",
       "      <th>has_all_type_labels</th>\n",
       "      <th>num_unconnected_close_with_axis</th>\n",
       "      <th>num_connected_coaxial_far</th>\n",
       "      <th>valid</th>\n",
       "    </tr>\n",
       "    <tr>\n",
       "      <th>index</th>\n",
       "      <th></th>\n",
       "      <th></th>\n",
       "      <th></th>\n",
       "      <th></th>\n",
       "      <th></th>\n",
       "      <th></th>\n",
       "      <th></th>\n",
       "      <th></th>\n",
       "      <th></th>\n",
       "      <th></th>\n",
       "      <th></th>\n",
       "      <th></th>\n",
       "      <th></th>\n",
       "      <th></th>\n",
       "      <th></th>\n",
       "    </tr>\n",
       "  </thead>\n",
       "  <tbody>\n",
       "    <tr>\n",
       "      <th>19</th>\n",
       "      <td>True</td>\n",
       "      <td>True</td>\n",
       "      <td>True</td>\n",
       "      <td>True</td>\n",
       "      <td>True</td>\n",
       "      <td>True</td>\n",
       "      <td>True</td>\n",
       "      <td>True</td>\n",
       "      <td>0</td>\n",
       "      <td>1</td>\n",
       "      <td>0</td>\n",
       "      <td>True</td>\n",
       "      <td>1</td>\n",
       "      <td>0</td>\n",
       "      <td>True</td>\n",
       "    </tr>\n",
       "    <tr>\n",
       "      <th>40</th>\n",
       "      <td>False</td>\n",
       "      <td>False</td>\n",
       "      <td>True</td>\n",
       "      <td>True</td>\n",
       "      <td>False</td>\n",
       "      <td>True</td>\n",
       "      <td>True</td>\n",
       "      <td>True</td>\n",
       "      <td>0</td>\n",
       "      <td>0</td>\n",
       "      <td>0</td>\n",
       "      <td>False</td>\n",
       "      <td>0</td>\n",
       "      <td>0</td>\n",
       "      <td>False</td>\n",
       "    </tr>\n",
       "    <tr>\n",
       "      <th>90</th>\n",
       "      <td>False</td>\n",
       "      <td>False</td>\n",
       "      <td>True</td>\n",
       "      <td>True</td>\n",
       "      <td>False</td>\n",
       "      <td>True</td>\n",
       "      <td>True</td>\n",
       "      <td>True</td>\n",
       "      <td>0</td>\n",
       "      <td>0</td>\n",
       "      <td>0</td>\n",
       "      <td>False</td>\n",
       "      <td>0</td>\n",
       "      <td>0</td>\n",
       "      <td>False</td>\n",
       "    </tr>\n",
       "    <tr>\n",
       "      <th>98</th>\n",
       "      <td>True</td>\n",
       "      <td>True</td>\n",
       "      <td>True</td>\n",
       "      <td>True</td>\n",
       "      <td>True</td>\n",
       "      <td>True</td>\n",
       "      <td>True</td>\n",
       "      <td>True</td>\n",
       "      <td>0</td>\n",
       "      <td>1</td>\n",
       "      <td>0</td>\n",
       "      <td>True</td>\n",
       "      <td>1</td>\n",
       "      <td>0</td>\n",
       "      <td>True</td>\n",
       "    </tr>\n",
       "    <tr>\n",
       "      <th>108</th>\n",
       "      <td>True</td>\n",
       "      <td>True</td>\n",
       "      <td>True</td>\n",
       "      <td>True</td>\n",
       "      <td>True</td>\n",
       "      <td>True</td>\n",
       "      <td>True</td>\n",
       "      <td>True</td>\n",
       "      <td>0</td>\n",
       "      <td>10</td>\n",
       "      <td>4</td>\n",
       "      <td>True</td>\n",
       "      <td>10</td>\n",
       "      <td>0</td>\n",
       "      <td>True</td>\n",
       "    </tr>\n",
       "    <tr>\n",
       "      <th>...</th>\n",
       "      <td>...</td>\n",
       "      <td>...</td>\n",
       "      <td>...</td>\n",
       "      <td>...</td>\n",
       "      <td>...</td>\n",
       "      <td>...</td>\n",
       "      <td>...</td>\n",
       "      <td>...</td>\n",
       "      <td>...</td>\n",
       "      <td>...</td>\n",
       "      <td>...</td>\n",
       "      <td>...</td>\n",
       "      <td>...</td>\n",
       "      <td>...</td>\n",
       "      <td>...</td>\n",
       "    </tr>\n",
       "    <tr>\n",
       "      <th>125093</th>\n",
       "      <td>False</td>\n",
       "      <td>False</td>\n",
       "      <td>True</td>\n",
       "      <td>True</td>\n",
       "      <td>False</td>\n",
       "      <td>True</td>\n",
       "      <td>True</td>\n",
       "      <td>True</td>\n",
       "      <td>0</td>\n",
       "      <td>0</td>\n",
       "      <td>0</td>\n",
       "      <td>False</td>\n",
       "      <td>0</td>\n",
       "      <td>0</td>\n",
       "      <td>False</td>\n",
       "    </tr>\n",
       "    <tr>\n",
       "      <th>125098</th>\n",
       "      <td>True</td>\n",
       "      <td>True</td>\n",
       "      <td>True</td>\n",
       "      <td>True</td>\n",
       "      <td>True</td>\n",
       "      <td>True</td>\n",
       "      <td>True</td>\n",
       "      <td>True</td>\n",
       "      <td>0</td>\n",
       "      <td>5</td>\n",
       "      <td>0</td>\n",
       "      <td>True</td>\n",
       "      <td>5</td>\n",
       "      <td>0</td>\n",
       "      <td>True</td>\n",
       "    </tr>\n",
       "    <tr>\n",
       "      <th>125102</th>\n",
       "      <td>False</td>\n",
       "      <td>False</td>\n",
       "      <td>True</td>\n",
       "      <td>True</td>\n",
       "      <td>False</td>\n",
       "      <td>True</td>\n",
       "      <td>True</td>\n",
       "      <td>True</td>\n",
       "      <td>0</td>\n",
       "      <td>0</td>\n",
       "      <td>0</td>\n",
       "      <td>False</td>\n",
       "      <td>0</td>\n",
       "      <td>0</td>\n",
       "      <td>False</td>\n",
       "    </tr>\n",
       "    <tr>\n",
       "      <th>125126</th>\n",
       "      <td>True</td>\n",
       "      <td>True</td>\n",
       "      <td>True</td>\n",
       "      <td>True</td>\n",
       "      <td>True</td>\n",
       "      <td>True</td>\n",
       "      <td>True</td>\n",
       "      <td>True</td>\n",
       "      <td>0</td>\n",
       "      <td>3</td>\n",
       "      <td>0</td>\n",
       "      <td>True</td>\n",
       "      <td>3</td>\n",
       "      <td>0</td>\n",
       "      <td>True</td>\n",
       "    </tr>\n",
       "    <tr>\n",
       "      <th>125128</th>\n",
       "      <td>True</td>\n",
       "      <td>True</td>\n",
       "      <td>True</td>\n",
       "      <td>True</td>\n",
       "      <td>True</td>\n",
       "      <td>True</td>\n",
       "      <td>True</td>\n",
       "      <td>True</td>\n",
       "      <td>0</td>\n",
       "      <td>1</td>\n",
       "      <td>0</td>\n",
       "      <td>True</td>\n",
       "      <td>1</td>\n",
       "      <td>0</td>\n",
       "      <td>True</td>\n",
       "    </tr>\n",
       "  </tbody>\n",
       "</table>\n",
       "<p>6800 rows × 15 columns</p>\n",
       "</div>"
      ],
      "text/plain": [
       "        has_mate_check  attempted_augmentation  pspy_initialized  pspy_valid  \\\n",
       "index                                                                          \n",
       "19                True                    True              True        True   \n",
       "40               False                   False              True        True   \n",
       "90               False                   False              True        True   \n",
       "98                True                    True              True        True   \n",
       "108               True                    True              True        True   \n",
       "...                ...                     ...               ...         ...   \n",
       "125093           False                   False              True        True   \n",
       "125098            True                    True              True        True   \n",
       "125102           False                   False              True        True   \n",
       "125126            True                    True              True        True   \n",
       "125128            True                    True              True        True   \n",
       "\n",
       "        all_mates_valid  has_torch_file  has_mc_file  has_all_distances  \\\n",
       "index                                                                     \n",
       "19                 True            True         True               True   \n",
       "40                False            True         True               True   \n",
       "90                False            True         True               True   \n",
       "98                 True            True         True               True   \n",
       "108                True            True         True               True   \n",
       "...                 ...             ...          ...                ...   \n",
       "125093            False            True         True               True   \n",
       "125098             True            True         True               True   \n",
       "125102            False            True         True               True   \n",
       "125126             True            True         True               True   \n",
       "125128             True            True         True               True   \n",
       "\n",
       "        num_missing_mates  num_augmented_missing_mates  num_densified_fastens  \\\n",
       "index                                                                           \n",
       "19                      0                            1                      0   \n",
       "40                      0                            0                      0   \n",
       "90                      0                            0                      0   \n",
       "98                      0                            1                      0   \n",
       "108                     0                           10                      4   \n",
       "...                   ...                          ...                    ...   \n",
       "125093                  0                            0                      0   \n",
       "125098                  0                            5                      0   \n",
       "125102                  0                            0                      0   \n",
       "125126                  0                            3                      0   \n",
       "125128                  0                            1                      0   \n",
       "\n",
       "        has_all_type_labels  num_unconnected_close_with_axis  \\\n",
       "index                                                          \n",
       "19                     True                                1   \n",
       "40                    False                                0   \n",
       "90                    False                                0   \n",
       "98                     True                                1   \n",
       "108                    True                               10   \n",
       "...                     ...                              ...   \n",
       "125093                False                                0   \n",
       "125098                 True                                5   \n",
       "125102                False                                0   \n",
       "125126                 True                                3   \n",
       "125128                 True                                1   \n",
       "\n",
       "        num_connected_coaxial_far  valid  \n",
       "index                                     \n",
       "19                              0   True  \n",
       "40                              0  False  \n",
       "90                              0  False  \n",
       "98                              0   True  \n",
       "108                             0   True  \n",
       "...                           ...    ...  \n",
       "125093                          0  False  \n",
       "125098                          0   True  \n",
       "125102                          0  False  \n",
       "125126                          0   True  \n",
       "125128                          0   True  \n",
       "\n",
       "[6800 rows x 15 columns]"
      ]
     },
     "execution_count": 278,
     "metadata": {},
     "output_type": "execute_result"
    }
   ],
   "source": [
    "final_df[lambda df: (df['num_connected_coaxial_far'] == 0) & ((df['num_unconnected_close_with_axis'] == 0) | (df['num_augmented_missing_mates'] == df['num_unconnected_close_with_axis']))]"
   ]
  },
  {
   "cell_type": "code",
   "execution_count": 287,
   "id": "910f0a5b-800d-4311-8d18-234736451cb3",
   "metadata": {},
   "outputs": [
    {
     "data": {
      "text/html": [
       "<div>\n",
       "<style scoped>\n",
       "    .dataframe tbody tr th:only-of-type {\n",
       "        vertical-align: middle;\n",
       "    }\n",
       "\n",
       "    .dataframe tbody tr th {\n",
       "        vertical-align: top;\n",
       "    }\n",
       "\n",
       "    .dataframe thead th {\n",
       "        text-align: right;\n",
       "    }\n",
       "</style>\n",
       "<table border=\"1\" class=\"dataframe\">\n",
       "  <thead>\n",
       "    <tr style=\"text-align: right;\">\n",
       "      <th></th>\n",
       "      <th>Assembly</th>\n",
       "      <th>dir_index</th>\n",
       "      <th>axis_index</th>\n",
       "      <th>has_any_axis</th>\n",
       "      <th>has_same_dir_axis</th>\n",
       "      <th>type</th>\n",
       "      <th>dirs_agree</th>\n",
       "      <th>axes_agree</th>\n",
       "      <th>rigid_comp_attempting_motion</th>\n",
       "      <th>valid</th>\n",
       "    </tr>\n",
       "  </thead>\n",
       "  <tbody>\n",
       "    <tr>\n",
       "      <th>2033</th>\n",
       "      <td>90</td>\n",
       "      <td>1</td>\n",
       "      <td>0</td>\n",
       "      <td>True</td>\n",
       "      <td>True</td>\n",
       "      <td>REVOLUTE</td>\n",
       "      <td>True</td>\n",
       "      <td>True</td>\n",
       "      <td>False</td>\n",
       "      <td>True</td>\n",
       "    </tr>\n",
       "  </tbody>\n",
       "</table>\n",
       "</div>"
      ],
      "text/plain": [
       "      Assembly  dir_index  axis_index  has_any_axis  has_same_dir_axis  \\\n",
       "2033        90          1           0          True               True   \n",
       "\n",
       "          type  dirs_agree  axes_agree  rigid_comp_attempting_motion  valid  \n",
       "2033  REVOLUTE        True        True                         False   True  "
      ]
     },
     "execution_count": 287,
     "metadata": {},
     "output_type": "execute_result"
    }
   ],
   "source": [
    "mate_check_df_old[lambda df: df['Assembly'] == 90]"
   ]
  },
  {
   "cell_type": "code",
   "execution_count": null,
   "id": "ac6b90d2-fe75-4cca-ba1f-d1a09070c5bf",
   "metadata": {},
   "outputs": [],
   "source": []
  }
 ],
 "metadata": {
  "kernelspec": {
   "display_name": "Python 3 (ipykernel)",
   "language": "python",
   "name": "python3"
  },
  "language_info": {
   "codemirror_mode": {
    "name": "ipython",
    "version": 3
   },
   "file_extension": ".py",
   "mimetype": "text/x-python",
   "name": "python",
   "nbconvert_exporter": "python",
   "pygments_lexer": "ipython3",
   "version": "3.9.6"
  }
 },
 "nbformat": 4,
 "nbformat_minor": 5
}
