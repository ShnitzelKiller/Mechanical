{
 "cells": [
  {
   "cell_type": "code",
   "execution_count": 1,
   "id": "1b311a72-ed09-4e42-8256-f14d403dffc0",
   "metadata": {},
   "outputs": [],
   "source": [
    "from automate.nn.sbgcn import BrepGraphData"
   ]
  },
  {
   "cell_type": "code",
   "execution_count": 2,
   "id": "fc3f49e6-8af7-4784-be73-ab6a222d2ea6",
   "metadata": {},
   "outputs": [],
   "source": [
    "import pandas as ps\n",
    "import h5py\n",
    "import numpy as np"
   ]
  },
  {
   "cell_type": "code",
   "execution_count": 3,
   "id": "bc09b004-c0af-4031-bfe2-be0ccca1bd7f",
   "metadata": {},
   "outputs": [],
   "source": [
    "def load_concatenated(stats_path, ext='.parquet', key=None, start='stats', drop_duplicates=True):\n",
    "    if key is None:\n",
    "        stats_df = ps.concat([ps.read_parquet(os.path.join(stats_path, fname)) for fname in os.listdir(stats_path) if fname.startswith(start) and fname.endswith(ext) and not fname.endswith('all' + ext)], axis=0)\n",
    "    else:\n",
    "        stats_df = ps.concat([ps.read_hdf(os.path.join(stats_path, fname), key) for fname in os.listdir(stats_path) if fname.startswith(start) and fname.endswith(ext) and not fname.endswith('all' + ext)], axis=0)\n",
    "    if drop_duplicates:\n",
    "        stats_df['tempindex'] = stats_df.index\n",
    "        stats_df.drop_duplicates(inplace=True)\n",
    "        stats_df.drop('tempindex', axis=1, inplace=True)\n",
    "    return stats_df"
   ]
  },
  {
   "cell_type": "code",
   "execution_count": null,
   "id": "a7656f1d-10ab-4984-8638-9b6834a24b0f",
   "metadata": {},
   "outputs": [],
   "source": [
    "#.001 threshold"
   ]
  },
  {
   "cell_type": "code",
   "execution_count": 41,
   "id": "b88bfa5c-1857-48b7-a7c2-dbe14b1cc00d",
   "metadata": {},
   "outputs": [],
   "source": [
    "df = ps.read_parquet('/fast/jamesn8/assembly_data/assembly_torch2_fixsize/stats_distance/stats_all.parquet')"
   ]
  },
  {
   "cell_type": "code",
   "execution_count": 42,
   "id": "3386cb30-730d-41b7-9139-2ce0094139ed",
   "metadata": {},
   "outputs": [
    {
     "data": {
      "text/html": [
       "<div>\n",
       "<style scoped>\n",
       "    .dataframe tbody tr th:only-of-type {\n",
       "        vertical-align: middle;\n",
       "    }\n",
       "\n",
       "    .dataframe tbody tr th {\n",
       "        vertical-align: top;\n",
       "    }\n",
       "\n",
       "    .dataframe thead th {\n",
       "        text-align: right;\n",
       "    }\n",
       "</style>\n",
       "<table border=\"1\" class=\"dataframe\">\n",
       "  <thead>\n",
       "    <tr style=\"text-align: right;\">\n",
       "      <th></th>\n",
       "      <th>num_total_parts</th>\n",
       "      <th>num_invalid_loaded_parts</th>\n",
       "      <th>num_topologies</th>\n",
       "      <th>too_big</th>\n",
       "      <th>invalid_bbox</th>\n",
       "      <th>maxdim</th>\n",
       "      <th>num_normalized_parts_with_discrepancies</th>\n",
       "      <th>num_invalid_transformed_parts</th>\n",
       "      <th>initialized</th>\n",
       "      <th>num_unconnected_close</th>\n",
       "      <th>num_unconnected_close_and_coincident</th>\n",
       "      <th>num_connected_far</th>\n",
       "      <th>num_connected_far_or_not_coincident</th>\n",
       "    </tr>\n",
       "    <tr>\n",
       "      <th>index</th>\n",
       "      <th></th>\n",
       "      <th></th>\n",
       "      <th></th>\n",
       "      <th></th>\n",
       "      <th></th>\n",
       "      <th></th>\n",
       "      <th></th>\n",
       "      <th></th>\n",
       "      <th></th>\n",
       "      <th></th>\n",
       "      <th></th>\n",
       "      <th></th>\n",
       "      <th></th>\n",
       "    </tr>\n",
       "  </thead>\n",
       "  <tbody>\n",
       "    <tr>\n",
       "      <th>19</th>\n",
       "      <td>3</td>\n",
       "      <td>0</td>\n",
       "      <td>173</td>\n",
       "      <td>False</td>\n",
       "      <td>False</td>\n",
       "      <td>2.159000</td>\n",
       "      <td>0</td>\n",
       "      <td>0</td>\n",
       "      <td>True</td>\n",
       "      <td>1</td>\n",
       "      <td>1</td>\n",
       "      <td>0</td>\n",
       "      <td>0</td>\n",
       "    </tr>\n",
       "    <tr>\n",
       "      <th>22</th>\n",
       "      <td>22</td>\n",
       "      <td>0</td>\n",
       "      <td>2142</td>\n",
       "      <td>False</td>\n",
       "      <td>False</td>\n",
       "      <td>0.200000</td>\n",
       "      <td>0</td>\n",
       "      <td>0</td>\n",
       "      <td>True</td>\n",
       "      <td>10</td>\n",
       "      <td>2</td>\n",
       "      <td>2</td>\n",
       "      <td>11</td>\n",
       "    </tr>\n",
       "    <tr>\n",
       "      <th>23</th>\n",
       "      <td>3</td>\n",
       "      <td>0</td>\n",
       "      <td>1540</td>\n",
       "      <td>False</td>\n",
       "      <td>False</td>\n",
       "      <td>0.414338</td>\n",
       "      <td>0</td>\n",
       "      <td>0</td>\n",
       "      <td>True</td>\n",
       "      <td>1</td>\n",
       "      <td>0</td>\n",
       "      <td>1</td>\n",
       "      <td>1</td>\n",
       "    </tr>\n",
       "    <tr>\n",
       "      <th>26</th>\n",
       "      <td>16</td>\n",
       "      <td>0</td>\n",
       "      <td>1624</td>\n",
       "      <td>False</td>\n",
       "      <td>False</td>\n",
       "      <td>0.061500</td>\n",
       "      <td>0</td>\n",
       "      <td>0</td>\n",
       "      <td>True</td>\n",
       "      <td>0</td>\n",
       "      <td>0</td>\n",
       "      <td>15</td>\n",
       "      <td>15</td>\n",
       "    </tr>\n",
       "    <tr>\n",
       "      <th>38</th>\n",
       "      <td>7</td>\n",
       "      <td>0</td>\n",
       "      <td>2979</td>\n",
       "      <td>False</td>\n",
       "      <td>False</td>\n",
       "      <td>0.295275</td>\n",
       "      <td>0</td>\n",
       "      <td>0</td>\n",
       "      <td>True</td>\n",
       "      <td>3</td>\n",
       "      <td>1</td>\n",
       "      <td>0</td>\n",
       "      <td>1</td>\n",
       "    </tr>\n",
       "    <tr>\n",
       "      <th>40</th>\n",
       "      <td>2</td>\n",
       "      <td>0</td>\n",
       "      <td>101</td>\n",
       "      <td>False</td>\n",
       "      <td>False</td>\n",
       "      <td>0.022928</td>\n",
       "      <td>0</td>\n",
       "      <td>0</td>\n",
       "      <td>True</td>\n",
       "      <td>0</td>\n",
       "      <td>0</td>\n",
       "      <td>0</td>\n",
       "      <td>1</td>\n",
       "    </tr>\n",
       "    <tr>\n",
       "      <th>45</th>\n",
       "      <td>4</td>\n",
       "      <td>0</td>\n",
       "      <td>129</td>\n",
       "      <td>False</td>\n",
       "      <td>False</td>\n",
       "      <td>0.182701</td>\n",
       "      <td>0</td>\n",
       "      <td>0</td>\n",
       "      <td>True</td>\n",
       "      <td>1</td>\n",
       "      <td>0</td>\n",
       "      <td>3</td>\n",
       "      <td>3</td>\n",
       "    </tr>\n",
       "    <tr>\n",
       "      <th>53</th>\n",
       "      <td>5</td>\n",
       "      <td>0</td>\n",
       "      <td>1343</td>\n",
       "      <td>False</td>\n",
       "      <td>False</td>\n",
       "      <td>0.191500</td>\n",
       "      <td>0</td>\n",
       "      <td>0</td>\n",
       "      <td>True</td>\n",
       "      <td>2</td>\n",
       "      <td>2</td>\n",
       "      <td>1</td>\n",
       "      <td>1</td>\n",
       "    </tr>\n",
       "    <tr>\n",
       "      <th>64</th>\n",
       "      <td>43</td>\n",
       "      <td>0</td>\n",
       "      <td>4151</td>\n",
       "      <td>False</td>\n",
       "      <td>False</td>\n",
       "      <td>0.127000</td>\n",
       "      <td>0</td>\n",
       "      <td>0</td>\n",
       "      <td>True</td>\n",
       "      <td>23</td>\n",
       "      <td>8</td>\n",
       "      <td>18</td>\n",
       "      <td>18</td>\n",
       "    </tr>\n",
       "  </tbody>\n",
       "</table>\n",
       "</div>"
      ],
      "text/plain": [
       "       num_total_parts  num_invalid_loaded_parts  num_topologies  too_big  \\\n",
       "index                                                                       \n",
       "19                   3                         0             173    False   \n",
       "22                  22                         0            2142    False   \n",
       "23                   3                         0            1540    False   \n",
       "26                  16                         0            1624    False   \n",
       "38                   7                         0            2979    False   \n",
       "40                   2                         0             101    False   \n",
       "45                   4                         0             129    False   \n",
       "53                   5                         0            1343    False   \n",
       "64                  43                         0            4151    False   \n",
       "\n",
       "       invalid_bbox    maxdim  num_normalized_parts_with_discrepancies  \\\n",
       "index                                                                    \n",
       "19            False  2.159000                                        0   \n",
       "22            False  0.200000                                        0   \n",
       "23            False  0.414338                                        0   \n",
       "26            False  0.061500                                        0   \n",
       "38            False  0.295275                                        0   \n",
       "40            False  0.022928                                        0   \n",
       "45            False  0.182701                                        0   \n",
       "53            False  0.191500                                        0   \n",
       "64            False  0.127000                                        0   \n",
       "\n",
       "       num_invalid_transformed_parts  initialized  num_unconnected_close  \\\n",
       "index                                                                      \n",
       "19                                 0         True                      1   \n",
       "22                                 0         True                     10   \n",
       "23                                 0         True                      1   \n",
       "26                                 0         True                      0   \n",
       "38                                 0         True                      3   \n",
       "40                                 0         True                      0   \n",
       "45                                 0         True                      1   \n",
       "53                                 0         True                      2   \n",
       "64                                 0         True                     23   \n",
       "\n",
       "       num_unconnected_close_and_coincident  num_connected_far  \\\n",
       "index                                                            \n",
       "19                                        1                  0   \n",
       "22                                        2                  2   \n",
       "23                                        0                  1   \n",
       "26                                        0                 15   \n",
       "38                                        1                  0   \n",
       "40                                        0                  0   \n",
       "45                                        0                  3   \n",
       "53                                        2                  1   \n",
       "64                                        8                 18   \n",
       "\n",
       "       num_connected_far_or_not_coincident  \n",
       "index                                       \n",
       "19                                       0  \n",
       "22                                      11  \n",
       "23                                       1  \n",
       "26                                      15  \n",
       "38                                       1  \n",
       "40                                       1  \n",
       "45                                       3  \n",
       "53                                       1  \n",
       "64                                      18  "
      ]
     },
     "execution_count": 42,
     "metadata": {},
     "output_type": "execute_result"
    }
   ],
   "source": [
    "df"
   ]
  },
  {
   "cell_type": "code",
   "execution_count": null,
   "id": "58e519d8-e5c7-448d-94ee-51c833f7c36e",
   "metadata": {},
   "outputs": [],
   "source": [
    "# .01 threshold"
   ]
  },
  {
   "cell_type": "code",
   "execution_count": 47,
   "id": "9b457ff6-da1d-44a8-ae03-057e2134512f",
   "metadata": {},
   "outputs": [],
   "source": [
    "df = ps.read_parquet('/fast/jamesn8/assembly_data/assembly_torch2_fixsize/stats_distance/stats_all.parquet')"
   ]
  },
  {
   "cell_type": "code",
   "execution_count": 48,
   "id": "4964dcc1-295d-4754-80fd-4187a301fc8e",
   "metadata": {},
   "outputs": [
    {
     "data": {
      "text/html": [
       "<div>\n",
       "<style scoped>\n",
       "    .dataframe tbody tr th:only-of-type {\n",
       "        vertical-align: middle;\n",
       "    }\n",
       "\n",
       "    .dataframe tbody tr th {\n",
       "        vertical-align: top;\n",
       "    }\n",
       "\n",
       "    .dataframe thead th {\n",
       "        text-align: right;\n",
       "    }\n",
       "</style>\n",
       "<table border=\"1\" class=\"dataframe\">\n",
       "  <thead>\n",
       "    <tr style=\"text-align: right;\">\n",
       "      <th></th>\n",
       "      <th>num_total_parts</th>\n",
       "      <th>num_invalid_loaded_parts</th>\n",
       "      <th>num_topologies</th>\n",
       "      <th>too_big</th>\n",
       "      <th>invalid_bbox</th>\n",
       "      <th>maxdim</th>\n",
       "      <th>num_normalized_parts_with_discrepancies</th>\n",
       "      <th>num_invalid_transformed_parts</th>\n",
       "      <th>initialized</th>\n",
       "      <th>num_unconnected_close</th>\n",
       "      <th>num_unconnected_close_and_coincident</th>\n",
       "      <th>num_connected_far</th>\n",
       "      <th>num_connected_far_or_not_coincident</th>\n",
       "    </tr>\n",
       "    <tr>\n",
       "      <th>index</th>\n",
       "      <th></th>\n",
       "      <th></th>\n",
       "      <th></th>\n",
       "      <th></th>\n",
       "      <th></th>\n",
       "      <th></th>\n",
       "      <th></th>\n",
       "      <th></th>\n",
       "      <th></th>\n",
       "      <th></th>\n",
       "      <th></th>\n",
       "      <th></th>\n",
       "      <th></th>\n",
       "    </tr>\n",
       "  </thead>\n",
       "  <tbody>\n",
       "    <tr>\n",
       "      <th>19</th>\n",
       "      <td>3</td>\n",
       "      <td>0</td>\n",
       "      <td>173</td>\n",
       "      <td>False</td>\n",
       "      <td>False</td>\n",
       "      <td>2.159000</td>\n",
       "      <td>0</td>\n",
       "      <td>0</td>\n",
       "      <td>True</td>\n",
       "      <td>1</td>\n",
       "      <td>1</td>\n",
       "      <td>0</td>\n",
       "      <td>0</td>\n",
       "    </tr>\n",
       "    <tr>\n",
       "      <th>22</th>\n",
       "      <td>22</td>\n",
       "      <td>0</td>\n",
       "      <td>2142</td>\n",
       "      <td>False</td>\n",
       "      <td>False</td>\n",
       "      <td>0.200000</td>\n",
       "      <td>0</td>\n",
       "      <td>0</td>\n",
       "      <td>True</td>\n",
       "      <td>16</td>\n",
       "      <td>5</td>\n",
       "      <td>2</td>\n",
       "      <td>11</td>\n",
       "    </tr>\n",
       "    <tr>\n",
       "      <th>23</th>\n",
       "      <td>3</td>\n",
       "      <td>0</td>\n",
       "      <td>1540</td>\n",
       "      <td>False</td>\n",
       "      <td>False</td>\n",
       "      <td>0.414338</td>\n",
       "      <td>0</td>\n",
       "      <td>0</td>\n",
       "      <td>True</td>\n",
       "      <td>1</td>\n",
       "      <td>0</td>\n",
       "      <td>0</td>\n",
       "      <td>1</td>\n",
       "    </tr>\n",
       "    <tr>\n",
       "      <th>26</th>\n",
       "      <td>16</td>\n",
       "      <td>0</td>\n",
       "      <td>1624</td>\n",
       "      <td>False</td>\n",
       "      <td>False</td>\n",
       "      <td>0.061500</td>\n",
       "      <td>0</td>\n",
       "      <td>0</td>\n",
       "      <td>True</td>\n",
       "      <td>1</td>\n",
       "      <td>1</td>\n",
       "      <td>0</td>\n",
       "      <td>0</td>\n",
       "    </tr>\n",
       "    <tr>\n",
       "      <th>38</th>\n",
       "      <td>7</td>\n",
       "      <td>0</td>\n",
       "      <td>2979</td>\n",
       "      <td>False</td>\n",
       "      <td>False</td>\n",
       "      <td>0.295275</td>\n",
       "      <td>0</td>\n",
       "      <td>0</td>\n",
       "      <td>True</td>\n",
       "      <td>3</td>\n",
       "      <td>1</td>\n",
       "      <td>0</td>\n",
       "      <td>1</td>\n",
       "    </tr>\n",
       "    <tr>\n",
       "      <th>40</th>\n",
       "      <td>2</td>\n",
       "      <td>0</td>\n",
       "      <td>101</td>\n",
       "      <td>False</td>\n",
       "      <td>False</td>\n",
       "      <td>0.022928</td>\n",
       "      <td>0</td>\n",
       "      <td>0</td>\n",
       "      <td>True</td>\n",
       "      <td>0</td>\n",
       "      <td>0</td>\n",
       "      <td>0</td>\n",
       "      <td>1</td>\n",
       "    </tr>\n",
       "    <tr>\n",
       "      <th>45</th>\n",
       "      <td>4</td>\n",
       "      <td>0</td>\n",
       "      <td>129</td>\n",
       "      <td>False</td>\n",
       "      <td>False</td>\n",
       "      <td>0.182701</td>\n",
       "      <td>0</td>\n",
       "      <td>0</td>\n",
       "      <td>True</td>\n",
       "      <td>1</td>\n",
       "      <td>0</td>\n",
       "      <td>3</td>\n",
       "      <td>3</td>\n",
       "    </tr>\n",
       "    <tr>\n",
       "      <th>53</th>\n",
       "      <td>5</td>\n",
       "      <td>0</td>\n",
       "      <td>1343</td>\n",
       "      <td>False</td>\n",
       "      <td>False</td>\n",
       "      <td>0.191500</td>\n",
       "      <td>0</td>\n",
       "      <td>0</td>\n",
       "      <td>True</td>\n",
       "      <td>5</td>\n",
       "      <td>3</td>\n",
       "      <td>0</td>\n",
       "      <td>0</td>\n",
       "    </tr>\n",
       "    <tr>\n",
       "      <th>64</th>\n",
       "      <td>43</td>\n",
       "      <td>0</td>\n",
       "      <td>4151</td>\n",
       "      <td>False</td>\n",
       "      <td>False</td>\n",
       "      <td>0.127000</td>\n",
       "      <td>0</td>\n",
       "      <td>0</td>\n",
       "      <td>True</td>\n",
       "      <td>25</td>\n",
       "      <td>8</td>\n",
       "      <td>18</td>\n",
       "      <td>18</td>\n",
       "    </tr>\n",
       "  </tbody>\n",
       "</table>\n",
       "</div>"
      ],
      "text/plain": [
       "       num_total_parts  num_invalid_loaded_parts  num_topologies  too_big  \\\n",
       "index                                                                       \n",
       "19                   3                         0             173    False   \n",
       "22                  22                         0            2142    False   \n",
       "23                   3                         0            1540    False   \n",
       "26                  16                         0            1624    False   \n",
       "38                   7                         0            2979    False   \n",
       "40                   2                         0             101    False   \n",
       "45                   4                         0             129    False   \n",
       "53                   5                         0            1343    False   \n",
       "64                  43                         0            4151    False   \n",
       "\n",
       "       invalid_bbox    maxdim  num_normalized_parts_with_discrepancies  \\\n",
       "index                                                                    \n",
       "19            False  2.159000                                        0   \n",
       "22            False  0.200000                                        0   \n",
       "23            False  0.414338                                        0   \n",
       "26            False  0.061500                                        0   \n",
       "38            False  0.295275                                        0   \n",
       "40            False  0.022928                                        0   \n",
       "45            False  0.182701                                        0   \n",
       "53            False  0.191500                                        0   \n",
       "64            False  0.127000                                        0   \n",
       "\n",
       "       num_invalid_transformed_parts  initialized  num_unconnected_close  \\\n",
       "index                                                                      \n",
       "19                                 0         True                      1   \n",
       "22                                 0         True                     16   \n",
       "23                                 0         True                      1   \n",
       "26                                 0         True                      1   \n",
       "38                                 0         True                      3   \n",
       "40                                 0         True                      0   \n",
       "45                                 0         True                      1   \n",
       "53                                 0         True                      5   \n",
       "64                                 0         True                     25   \n",
       "\n",
       "       num_unconnected_close_and_coincident  num_connected_far  \\\n",
       "index                                                            \n",
       "19                                        1                  0   \n",
       "22                                        5                  2   \n",
       "23                                        0                  0   \n",
       "26                                        1                  0   \n",
       "38                                        1                  0   \n",
       "40                                        0                  0   \n",
       "45                                        0                  3   \n",
       "53                                        3                  0   \n",
       "64                                        8                 18   \n",
       "\n",
       "       num_connected_far_or_not_coincident  \n",
       "index                                       \n",
       "19                                       0  \n",
       "22                                      11  \n",
       "23                                       1  \n",
       "26                                       0  \n",
       "38                                       1  \n",
       "40                                       1  \n",
       "45                                       3  \n",
       "53                                       0  \n",
       "64                                      18  "
      ]
     },
     "execution_count": 48,
     "metadata": {},
     "output_type": "execute_result"
    }
   ],
   "source": [
    "df"
   ]
  },
  {
   "cell_type": "code",
   "execution_count": null,
   "id": "42d27d16-028b-453a-a404-1929f930ff80",
   "metadata": {},
   "outputs": [],
   "source": [
    "# .01 threshold (fixed)"
   ]
  },
  {
   "cell_type": "code",
   "execution_count": 49,
   "id": "1e456471-4c57-4da2-8f4a-e18c9c0a3b04",
   "metadata": {},
   "outputs": [],
   "source": [
    "df = ps.read_parquet('/fast/jamesn8/assembly_data/assembly_torch2_fixsize/stats_distance/stats_all.parquet')"
   ]
  },
  {
   "cell_type": "code",
   "execution_count": 50,
   "id": "b886c0d6-9c9c-44ef-9019-a7092672d8f9",
   "metadata": {},
   "outputs": [
    {
     "data": {
      "text/html": [
       "<div>\n",
       "<style scoped>\n",
       "    .dataframe tbody tr th:only-of-type {\n",
       "        vertical-align: middle;\n",
       "    }\n",
       "\n",
       "    .dataframe tbody tr th {\n",
       "        vertical-align: top;\n",
       "    }\n",
       "\n",
       "    .dataframe thead th {\n",
       "        text-align: right;\n",
       "    }\n",
       "</style>\n",
       "<table border=\"1\" class=\"dataframe\">\n",
       "  <thead>\n",
       "    <tr style=\"text-align: right;\">\n",
       "      <th></th>\n",
       "      <th>num_total_parts</th>\n",
       "      <th>num_invalid_loaded_parts</th>\n",
       "      <th>num_topologies</th>\n",
       "      <th>too_big</th>\n",
       "      <th>invalid_bbox</th>\n",
       "      <th>maxdim</th>\n",
       "      <th>num_normalized_parts_with_discrepancies</th>\n",
       "      <th>num_invalid_transformed_parts</th>\n",
       "      <th>initialized</th>\n",
       "      <th>num_unconnected_close</th>\n",
       "      <th>num_unconnected_close_and_coincident</th>\n",
       "      <th>num_connected_far</th>\n",
       "      <th>num_connected_far_or_not_coincident</th>\n",
       "    </tr>\n",
       "    <tr>\n",
       "      <th>index</th>\n",
       "      <th></th>\n",
       "      <th></th>\n",
       "      <th></th>\n",
       "      <th></th>\n",
       "      <th></th>\n",
       "      <th></th>\n",
       "      <th></th>\n",
       "      <th></th>\n",
       "      <th></th>\n",
       "      <th></th>\n",
       "      <th></th>\n",
       "      <th></th>\n",
       "      <th></th>\n",
       "    </tr>\n",
       "  </thead>\n",
       "  <tbody>\n",
       "    <tr>\n",
       "      <th>19</th>\n",
       "      <td>3</td>\n",
       "      <td>0</td>\n",
       "      <td>173</td>\n",
       "      <td>False</td>\n",
       "      <td>False</td>\n",
       "      <td>2.159000</td>\n",
       "      <td>0</td>\n",
       "      <td>0</td>\n",
       "      <td>True</td>\n",
       "      <td>1</td>\n",
       "      <td>1</td>\n",
       "      <td>0</td>\n",
       "      <td>0</td>\n",
       "    </tr>\n",
       "    <tr>\n",
       "      <th>22</th>\n",
       "      <td>22</td>\n",
       "      <td>0</td>\n",
       "      <td>2142</td>\n",
       "      <td>False</td>\n",
       "      <td>False</td>\n",
       "      <td>0.200000</td>\n",
       "      <td>0</td>\n",
       "      <td>0</td>\n",
       "      <td>True</td>\n",
       "      <td>24</td>\n",
       "      <td>6</td>\n",
       "      <td>0</td>\n",
       "      <td>9</td>\n",
       "    </tr>\n",
       "    <tr>\n",
       "      <th>23</th>\n",
       "      <td>3</td>\n",
       "      <td>0</td>\n",
       "      <td>1540</td>\n",
       "      <td>False</td>\n",
       "      <td>False</td>\n",
       "      <td>0.414338</td>\n",
       "      <td>0</td>\n",
       "      <td>0</td>\n",
       "      <td>True</td>\n",
       "      <td>1</td>\n",
       "      <td>0</td>\n",
       "      <td>0</td>\n",
       "      <td>1</td>\n",
       "    </tr>\n",
       "    <tr>\n",
       "      <th>26</th>\n",
       "      <td>16</td>\n",
       "      <td>0</td>\n",
       "      <td>1624</td>\n",
       "      <td>False</td>\n",
       "      <td>False</td>\n",
       "      <td>0.061500</td>\n",
       "      <td>0</td>\n",
       "      <td>0</td>\n",
       "      <td>True</td>\n",
       "      <td>11</td>\n",
       "      <td>1</td>\n",
       "      <td>0</td>\n",
       "      <td>0</td>\n",
       "    </tr>\n",
       "    <tr>\n",
       "      <th>38</th>\n",
       "      <td>7</td>\n",
       "      <td>0</td>\n",
       "      <td>2979</td>\n",
       "      <td>False</td>\n",
       "      <td>False</td>\n",
       "      <td>0.295275</td>\n",
       "      <td>0</td>\n",
       "      <td>0</td>\n",
       "      <td>True</td>\n",
       "      <td>3</td>\n",
       "      <td>1</td>\n",
       "      <td>0</td>\n",
       "      <td>1</td>\n",
       "    </tr>\n",
       "    <tr>\n",
       "      <th>40</th>\n",
       "      <td>2</td>\n",
       "      <td>0</td>\n",
       "      <td>101</td>\n",
       "      <td>False</td>\n",
       "      <td>False</td>\n",
       "      <td>0.022928</td>\n",
       "      <td>0</td>\n",
       "      <td>0</td>\n",
       "      <td>True</td>\n",
       "      <td>0</td>\n",
       "      <td>0</td>\n",
       "      <td>0</td>\n",
       "      <td>1</td>\n",
       "    </tr>\n",
       "    <tr>\n",
       "      <th>45</th>\n",
       "      <td>4</td>\n",
       "      <td>0</td>\n",
       "      <td>129</td>\n",
       "      <td>False</td>\n",
       "      <td>False</td>\n",
       "      <td>0.182701</td>\n",
       "      <td>0</td>\n",
       "      <td>0</td>\n",
       "      <td>True</td>\n",
       "      <td>1</td>\n",
       "      <td>0</td>\n",
       "      <td>1</td>\n",
       "      <td>1</td>\n",
       "    </tr>\n",
       "    <tr>\n",
       "      <th>53</th>\n",
       "      <td>5</td>\n",
       "      <td>0</td>\n",
       "      <td>1343</td>\n",
       "      <td>False</td>\n",
       "      <td>False</td>\n",
       "      <td>0.191500</td>\n",
       "      <td>0</td>\n",
       "      <td>0</td>\n",
       "      <td>True</td>\n",
       "      <td>5</td>\n",
       "      <td>3</td>\n",
       "      <td>0</td>\n",
       "      <td>0</td>\n",
       "    </tr>\n",
       "    <tr>\n",
       "      <th>64</th>\n",
       "      <td>43</td>\n",
       "      <td>0</td>\n",
       "      <td>4151</td>\n",
       "      <td>False</td>\n",
       "      <td>False</td>\n",
       "      <td>0.127000</td>\n",
       "      <td>0</td>\n",
       "      <td>0</td>\n",
       "      <td>True</td>\n",
       "      <td>40</td>\n",
       "      <td>11</td>\n",
       "      <td>0</td>\n",
       "      <td>0</td>\n",
       "    </tr>\n",
       "  </tbody>\n",
       "</table>\n",
       "</div>"
      ],
      "text/plain": [
       "       num_total_parts  num_invalid_loaded_parts  num_topologies  too_big  \\\n",
       "index                                                                       \n",
       "19                   3                         0             173    False   \n",
       "22                  22                         0            2142    False   \n",
       "23                   3                         0            1540    False   \n",
       "26                  16                         0            1624    False   \n",
       "38                   7                         0            2979    False   \n",
       "40                   2                         0             101    False   \n",
       "45                   4                         0             129    False   \n",
       "53                   5                         0            1343    False   \n",
       "64                  43                         0            4151    False   \n",
       "\n",
       "       invalid_bbox    maxdim  num_normalized_parts_with_discrepancies  \\\n",
       "index                                                                    \n",
       "19            False  2.159000                                        0   \n",
       "22            False  0.200000                                        0   \n",
       "23            False  0.414338                                        0   \n",
       "26            False  0.061500                                        0   \n",
       "38            False  0.295275                                        0   \n",
       "40            False  0.022928                                        0   \n",
       "45            False  0.182701                                        0   \n",
       "53            False  0.191500                                        0   \n",
       "64            False  0.127000                                        0   \n",
       "\n",
       "       num_invalid_transformed_parts  initialized  num_unconnected_close  \\\n",
       "index                                                                      \n",
       "19                                 0         True                      1   \n",
       "22                                 0         True                     24   \n",
       "23                                 0         True                      1   \n",
       "26                                 0         True                     11   \n",
       "38                                 0         True                      3   \n",
       "40                                 0         True                      0   \n",
       "45                                 0         True                      1   \n",
       "53                                 0         True                      5   \n",
       "64                                 0         True                     40   \n",
       "\n",
       "       num_unconnected_close_and_coincident  num_connected_far  \\\n",
       "index                                                            \n",
       "19                                        1                  0   \n",
       "22                                        6                  0   \n",
       "23                                        0                  0   \n",
       "26                                        1                  0   \n",
       "38                                        1                  0   \n",
       "40                                        0                  0   \n",
       "45                                        0                  1   \n",
       "53                                        3                  0   \n",
       "64                                       11                  0   \n",
       "\n",
       "       num_connected_far_or_not_coincident  \n",
       "index                                       \n",
       "19                                       0  \n",
       "22                                       9  \n",
       "23                                       1  \n",
       "26                                       0  \n",
       "38                                       1  \n",
       "40                                       1  \n",
       "45                                       1  \n",
       "53                                       0  \n",
       "64                                       0  "
      ]
     },
     "execution_count": 50,
     "metadata": {},
     "output_type": "execute_result"
    }
   ],
   "source": [
    "df"
   ]
  },
  {
   "cell_type": "code",
   "execution_count": null,
   "id": "438eaa5a-8866-4150-b84d-42893e2e0e05",
   "metadata": {},
   "outputs": [],
   "source": [
    "# .001 threshold (fixed) "
   ]
  },
  {
   "cell_type": "code",
   "execution_count": 51,
   "id": "4dd0c2e5-945c-4f58-aa01-61b18a618e6e",
   "metadata": {},
   "outputs": [],
   "source": [
    "df = ps.read_parquet('/fast/jamesn8/assembly_data/assembly_torch2_fixsize/stats_distance/stats_all.parquet')"
   ]
  },
  {
   "cell_type": "code",
   "execution_count": 52,
   "id": "e5c8a7ae-878f-4eb1-8b7f-8c01417efa60",
   "metadata": {},
   "outputs": [
    {
     "data": {
      "text/html": [
       "<div>\n",
       "<style scoped>\n",
       "    .dataframe tbody tr th:only-of-type {\n",
       "        vertical-align: middle;\n",
       "    }\n",
       "\n",
       "    .dataframe tbody tr th {\n",
       "        vertical-align: top;\n",
       "    }\n",
       "\n",
       "    .dataframe thead th {\n",
       "        text-align: right;\n",
       "    }\n",
       "</style>\n",
       "<table border=\"1\" class=\"dataframe\">\n",
       "  <thead>\n",
       "    <tr style=\"text-align: right;\">\n",
       "      <th></th>\n",
       "      <th>num_total_parts</th>\n",
       "      <th>num_invalid_loaded_parts</th>\n",
       "      <th>num_topologies</th>\n",
       "      <th>too_big</th>\n",
       "      <th>invalid_bbox</th>\n",
       "      <th>maxdim</th>\n",
       "      <th>num_normalized_parts_with_discrepancies</th>\n",
       "      <th>num_invalid_transformed_parts</th>\n",
       "      <th>initialized</th>\n",
       "      <th>num_unconnected_close</th>\n",
       "      <th>num_unconnected_close_and_coincident</th>\n",
       "      <th>num_connected_far</th>\n",
       "      <th>num_connected_far_or_not_coincident</th>\n",
       "    </tr>\n",
       "    <tr>\n",
       "      <th>index</th>\n",
       "      <th></th>\n",
       "      <th></th>\n",
       "      <th></th>\n",
       "      <th></th>\n",
       "      <th></th>\n",
       "      <th></th>\n",
       "      <th></th>\n",
       "      <th></th>\n",
       "      <th></th>\n",
       "      <th></th>\n",
       "      <th></th>\n",
       "      <th></th>\n",
       "      <th></th>\n",
       "    </tr>\n",
       "  </thead>\n",
       "  <tbody>\n",
       "    <tr>\n",
       "      <th>19</th>\n",
       "      <td>3</td>\n",
       "      <td>0</td>\n",
       "      <td>173</td>\n",
       "      <td>False</td>\n",
       "      <td>False</td>\n",
       "      <td>2.159000</td>\n",
       "      <td>0</td>\n",
       "      <td>0</td>\n",
       "      <td>True</td>\n",
       "      <td>1</td>\n",
       "      <td>1</td>\n",
       "      <td>0</td>\n",
       "      <td>0</td>\n",
       "    </tr>\n",
       "    <tr>\n",
       "      <th>22</th>\n",
       "      <td>22</td>\n",
       "      <td>0</td>\n",
       "      <td>2142</td>\n",
       "      <td>False</td>\n",
       "      <td>False</td>\n",
       "      <td>0.200000</td>\n",
       "      <td>0</td>\n",
       "      <td>0</td>\n",
       "      <td>True</td>\n",
       "      <td>12</td>\n",
       "      <td>3</td>\n",
       "      <td>0</td>\n",
       "      <td>9</td>\n",
       "    </tr>\n",
       "    <tr>\n",
       "      <th>23</th>\n",
       "      <td>3</td>\n",
       "      <td>0</td>\n",
       "      <td>1540</td>\n",
       "      <td>False</td>\n",
       "      <td>False</td>\n",
       "      <td>0.414338</td>\n",
       "      <td>0</td>\n",
       "      <td>0</td>\n",
       "      <td>True</td>\n",
       "      <td>1</td>\n",
       "      <td>0</td>\n",
       "      <td>1</td>\n",
       "      <td>1</td>\n",
       "    </tr>\n",
       "    <tr>\n",
       "      <th>26</th>\n",
       "      <td>16</td>\n",
       "      <td>0</td>\n",
       "      <td>1624</td>\n",
       "      <td>False</td>\n",
       "      <td>False</td>\n",
       "      <td>0.061500</td>\n",
       "      <td>0</td>\n",
       "      <td>0</td>\n",
       "      <td>True</td>\n",
       "      <td>0</td>\n",
       "      <td>0</td>\n",
       "      <td>15</td>\n",
       "      <td>15</td>\n",
       "    </tr>\n",
       "    <tr>\n",
       "      <th>38</th>\n",
       "      <td>7</td>\n",
       "      <td>0</td>\n",
       "      <td>2979</td>\n",
       "      <td>False</td>\n",
       "      <td>False</td>\n",
       "      <td>0.295275</td>\n",
       "      <td>0</td>\n",
       "      <td>0</td>\n",
       "      <td>True</td>\n",
       "      <td>3</td>\n",
       "      <td>1</td>\n",
       "      <td>0</td>\n",
       "      <td>1</td>\n",
       "    </tr>\n",
       "    <tr>\n",
       "      <th>40</th>\n",
       "      <td>2</td>\n",
       "      <td>0</td>\n",
       "      <td>101</td>\n",
       "      <td>False</td>\n",
       "      <td>False</td>\n",
       "      <td>0.022928</td>\n",
       "      <td>0</td>\n",
       "      <td>0</td>\n",
       "      <td>True</td>\n",
       "      <td>0</td>\n",
       "      <td>0</td>\n",
       "      <td>0</td>\n",
       "      <td>1</td>\n",
       "    </tr>\n",
       "    <tr>\n",
       "      <th>45</th>\n",
       "      <td>4</td>\n",
       "      <td>0</td>\n",
       "      <td>129</td>\n",
       "      <td>False</td>\n",
       "      <td>False</td>\n",
       "      <td>0.182701</td>\n",
       "      <td>0</td>\n",
       "      <td>0</td>\n",
       "      <td>True</td>\n",
       "      <td>1</td>\n",
       "      <td>0</td>\n",
       "      <td>1</td>\n",
       "      <td>1</td>\n",
       "    </tr>\n",
       "    <tr>\n",
       "      <th>53</th>\n",
       "      <td>5</td>\n",
       "      <td>0</td>\n",
       "      <td>1343</td>\n",
       "      <td>False</td>\n",
       "      <td>False</td>\n",
       "      <td>0.191500</td>\n",
       "      <td>0</td>\n",
       "      <td>0</td>\n",
       "      <td>True</td>\n",
       "      <td>2</td>\n",
       "      <td>2</td>\n",
       "      <td>1</td>\n",
       "      <td>1</td>\n",
       "    </tr>\n",
       "    <tr>\n",
       "      <th>64</th>\n",
       "      <td>43</td>\n",
       "      <td>0</td>\n",
       "      <td>4151</td>\n",
       "      <td>False</td>\n",
       "      <td>False</td>\n",
       "      <td>0.127000</td>\n",
       "      <td>0</td>\n",
       "      <td>0</td>\n",
       "      <td>True</td>\n",
       "      <td>26</td>\n",
       "      <td>11</td>\n",
       "      <td>0</td>\n",
       "      <td>0</td>\n",
       "    </tr>\n",
       "  </tbody>\n",
       "</table>\n",
       "</div>"
      ],
      "text/plain": [
       "       num_total_parts  num_invalid_loaded_parts  num_topologies  too_big  \\\n",
       "index                                                                       \n",
       "19                   3                         0             173    False   \n",
       "22                  22                         0            2142    False   \n",
       "23                   3                         0            1540    False   \n",
       "26                  16                         0            1624    False   \n",
       "38                   7                         0            2979    False   \n",
       "40                   2                         0             101    False   \n",
       "45                   4                         0             129    False   \n",
       "53                   5                         0            1343    False   \n",
       "64                  43                         0            4151    False   \n",
       "\n",
       "       invalid_bbox    maxdim  num_normalized_parts_with_discrepancies  \\\n",
       "index                                                                    \n",
       "19            False  2.159000                                        0   \n",
       "22            False  0.200000                                        0   \n",
       "23            False  0.414338                                        0   \n",
       "26            False  0.061500                                        0   \n",
       "38            False  0.295275                                        0   \n",
       "40            False  0.022928                                        0   \n",
       "45            False  0.182701                                        0   \n",
       "53            False  0.191500                                        0   \n",
       "64            False  0.127000                                        0   \n",
       "\n",
       "       num_invalid_transformed_parts  initialized  num_unconnected_close  \\\n",
       "index                                                                      \n",
       "19                                 0         True                      1   \n",
       "22                                 0         True                     12   \n",
       "23                                 0         True                      1   \n",
       "26                                 0         True                      0   \n",
       "38                                 0         True                      3   \n",
       "40                                 0         True                      0   \n",
       "45                                 0         True                      1   \n",
       "53                                 0         True                      2   \n",
       "64                                 0         True                     26   \n",
       "\n",
       "       num_unconnected_close_and_coincident  num_connected_far  \\\n",
       "index                                                            \n",
       "19                                        1                  0   \n",
       "22                                        3                  0   \n",
       "23                                        0                  1   \n",
       "26                                        0                 15   \n",
       "38                                        1                  0   \n",
       "40                                        0                  0   \n",
       "45                                        0                  1   \n",
       "53                                        2                  1   \n",
       "64                                       11                  0   \n",
       "\n",
       "       num_connected_far_or_not_coincident  \n",
       "index                                       \n",
       "19                                       0  \n",
       "22                                       9  \n",
       "23                                       1  \n",
       "26                                      15  \n",
       "38                                       1  \n",
       "40                                       1  \n",
       "45                                       1  \n",
       "53                                       1  \n",
       "64                                       0  "
      ]
     },
     "execution_count": 52,
     "metadata": {},
     "output_type": "execute_result"
    }
   ],
   "source": [
    "df"
   ]
  },
  {
   "cell_type": "code",
   "execution_count": 53,
   "id": "31f77781-eaf7-4435-a924-c2ba9103244c",
   "metadata": {},
   "outputs": [],
   "source": [
    "#.01 threhsold with more stats"
   ]
  },
  {
   "cell_type": "code",
   "execution_count": 54,
   "id": "dc7ba414-f61d-40df-88ad-5167caa11383",
   "metadata": {},
   "outputs": [],
   "source": [
    "df = ps.read_parquet('/fast/jamesn8/assembly_data/assembly_torch2_fixsize/stats_distance/stats_all.parquet')"
   ]
  },
  {
   "cell_type": "code",
   "execution_count": 55,
   "id": "ab25169d-1a52-4b89-900c-456fbeb76382",
   "metadata": {},
   "outputs": [
    {
     "data": {
      "text/html": [
       "<div>\n",
       "<style scoped>\n",
       "    .dataframe tbody tr th:only-of-type {\n",
       "        vertical-align: middle;\n",
       "    }\n",
       "\n",
       "    .dataframe tbody tr th {\n",
       "        vertical-align: top;\n",
       "    }\n",
       "\n",
       "    .dataframe thead th {\n",
       "        text-align: right;\n",
       "    }\n",
       "</style>\n",
       "<table border=\"1\" class=\"dataframe\">\n",
       "  <thead>\n",
       "    <tr style=\"text-align: right;\">\n",
       "      <th></th>\n",
       "      <th>num_total_parts</th>\n",
       "      <th>num_invalid_loaded_parts</th>\n",
       "      <th>num_topologies</th>\n",
       "      <th>too_big</th>\n",
       "      <th>invalid_bbox</th>\n",
       "      <th>maxdim</th>\n",
       "      <th>num_normalized_parts_with_discrepancies</th>\n",
       "      <th>num_invalid_transformed_parts</th>\n",
       "      <th>initialized</th>\n",
       "      <th>num_unconnected_close</th>\n",
       "      <th>num_unconnected_coincident</th>\n",
       "      <th>num_unconnected_close_and_coincident</th>\n",
       "      <th>num_connected_far</th>\n",
       "      <th>num_connected_not_coincident</th>\n",
       "      <th>num_connected_far_or_not_coincident</th>\n",
       "    </tr>\n",
       "    <tr>\n",
       "      <th>index</th>\n",
       "      <th></th>\n",
       "      <th></th>\n",
       "      <th></th>\n",
       "      <th></th>\n",
       "      <th></th>\n",
       "      <th></th>\n",
       "      <th></th>\n",
       "      <th></th>\n",
       "      <th></th>\n",
       "      <th></th>\n",
       "      <th></th>\n",
       "      <th></th>\n",
       "      <th></th>\n",
       "      <th></th>\n",
       "      <th></th>\n",
       "    </tr>\n",
       "  </thead>\n",
       "  <tbody>\n",
       "    <tr>\n",
       "      <th>19</th>\n",
       "      <td>3</td>\n",
       "      <td>0</td>\n",
       "      <td>173</td>\n",
       "      <td>False</td>\n",
       "      <td>False</td>\n",
       "      <td>2.159000</td>\n",
       "      <td>0</td>\n",
       "      <td>0</td>\n",
       "      <td>True</td>\n",
       "      <td>2</td>\n",
       "      <td>2</td>\n",
       "      <td>2</td>\n",
       "      <td>0</td>\n",
       "      <td>0</td>\n",
       "      <td>0</td>\n",
       "    </tr>\n",
       "    <tr>\n",
       "      <th>22</th>\n",
       "      <td>22</td>\n",
       "      <td>0</td>\n",
       "      <td>2142</td>\n",
       "      <td>False</td>\n",
       "      <td>False</td>\n",
       "      <td>0.200000</td>\n",
       "      <td>0</td>\n",
       "      <td>0</td>\n",
       "      <td>True</td>\n",
       "      <td>13</td>\n",
       "      <td>10</td>\n",
       "      <td>4</td>\n",
       "      <td>0</td>\n",
       "      <td>9</td>\n",
       "      <td>9</td>\n",
       "    </tr>\n",
       "    <tr>\n",
       "      <th>23</th>\n",
       "      <td>3</td>\n",
       "      <td>0</td>\n",
       "      <td>1540</td>\n",
       "      <td>False</td>\n",
       "      <td>False</td>\n",
       "      <td>0.414338</td>\n",
       "      <td>0</td>\n",
       "      <td>0</td>\n",
       "      <td>True</td>\n",
       "      <td>1</td>\n",
       "      <td>0</td>\n",
       "      <td>0</td>\n",
       "      <td>1</td>\n",
       "      <td>1</td>\n",
       "      <td>1</td>\n",
       "    </tr>\n",
       "    <tr>\n",
       "      <th>26</th>\n",
       "      <td>16</td>\n",
       "      <td>0</td>\n",
       "      <td>1624</td>\n",
       "      <td>False</td>\n",
       "      <td>False</td>\n",
       "      <td>0.061500</td>\n",
       "      <td>0</td>\n",
       "      <td>0</td>\n",
       "      <td>True</td>\n",
       "      <td>0</td>\n",
       "      <td>2</td>\n",
       "      <td>0</td>\n",
       "      <td>15</td>\n",
       "      <td>0</td>\n",
       "      <td>15</td>\n",
       "    </tr>\n",
       "    <tr>\n",
       "      <th>38</th>\n",
       "      <td>7</td>\n",
       "      <td>0</td>\n",
       "      <td>2979</td>\n",
       "      <td>False</td>\n",
       "      <td>False</td>\n",
       "      <td>0.295275</td>\n",
       "      <td>0</td>\n",
       "      <td>0</td>\n",
       "      <td>True</td>\n",
       "      <td>3</td>\n",
       "      <td>2</td>\n",
       "      <td>2</td>\n",
       "      <td>0</td>\n",
       "      <td>1</td>\n",
       "      <td>1</td>\n",
       "    </tr>\n",
       "    <tr>\n",
       "      <th>40</th>\n",
       "      <td>2</td>\n",
       "      <td>0</td>\n",
       "      <td>101</td>\n",
       "      <td>False</td>\n",
       "      <td>False</td>\n",
       "      <td>0.022928</td>\n",
       "      <td>0</td>\n",
       "      <td>0</td>\n",
       "      <td>True</td>\n",
       "      <td>0</td>\n",
       "      <td>0</td>\n",
       "      <td>0</td>\n",
       "      <td>0</td>\n",
       "      <td>1</td>\n",
       "      <td>1</td>\n",
       "    </tr>\n",
       "    <tr>\n",
       "      <th>45</th>\n",
       "      <td>4</td>\n",
       "      <td>0</td>\n",
       "      <td>129</td>\n",
       "      <td>False</td>\n",
       "      <td>False</td>\n",
       "      <td>0.182701</td>\n",
       "      <td>0</td>\n",
       "      <td>0</td>\n",
       "      <td>True</td>\n",
       "      <td>1</td>\n",
       "      <td>0</td>\n",
       "      <td>0</td>\n",
       "      <td>1</td>\n",
       "      <td>1</td>\n",
       "      <td>1</td>\n",
       "    </tr>\n",
       "    <tr>\n",
       "      <th>53</th>\n",
       "      <td>5</td>\n",
       "      <td>0</td>\n",
       "      <td>1343</td>\n",
       "      <td>False</td>\n",
       "      <td>False</td>\n",
       "      <td>0.191500</td>\n",
       "      <td>0</td>\n",
       "      <td>0</td>\n",
       "      <td>True</td>\n",
       "      <td>4</td>\n",
       "      <td>6</td>\n",
       "      <td>4</td>\n",
       "      <td>1</td>\n",
       "      <td>0</td>\n",
       "      <td>1</td>\n",
       "    </tr>\n",
       "    <tr>\n",
       "      <th>64</th>\n",
       "      <td>43</td>\n",
       "      <td>0</td>\n",
       "      <td>4151</td>\n",
       "      <td>False</td>\n",
       "      <td>False</td>\n",
       "      <td>0.127000</td>\n",
       "      <td>0</td>\n",
       "      <td>0</td>\n",
       "      <td>True</td>\n",
       "      <td>37</td>\n",
       "      <td>30</td>\n",
       "      <td>22</td>\n",
       "      <td>0</td>\n",
       "      <td>0</td>\n",
       "      <td>0</td>\n",
       "    </tr>\n",
       "  </tbody>\n",
       "</table>\n",
       "</div>"
      ],
      "text/plain": [
       "       num_total_parts  num_invalid_loaded_parts  num_topologies  too_big  \\\n",
       "index                                                                       \n",
       "19                   3                         0             173    False   \n",
       "22                  22                         0            2142    False   \n",
       "23                   3                         0            1540    False   \n",
       "26                  16                         0            1624    False   \n",
       "38                   7                         0            2979    False   \n",
       "40                   2                         0             101    False   \n",
       "45                   4                         0             129    False   \n",
       "53                   5                         0            1343    False   \n",
       "64                  43                         0            4151    False   \n",
       "\n",
       "       invalid_bbox    maxdim  num_normalized_parts_with_discrepancies  \\\n",
       "index                                                                    \n",
       "19            False  2.159000                                        0   \n",
       "22            False  0.200000                                        0   \n",
       "23            False  0.414338                                        0   \n",
       "26            False  0.061500                                        0   \n",
       "38            False  0.295275                                        0   \n",
       "40            False  0.022928                                        0   \n",
       "45            False  0.182701                                        0   \n",
       "53            False  0.191500                                        0   \n",
       "64            False  0.127000                                        0   \n",
       "\n",
       "       num_invalid_transformed_parts  initialized  num_unconnected_close  \\\n",
       "index                                                                      \n",
       "19                                 0         True                      2   \n",
       "22                                 0         True                     13   \n",
       "23                                 0         True                      1   \n",
       "26                                 0         True                      0   \n",
       "38                                 0         True                      3   \n",
       "40                                 0         True                      0   \n",
       "45                                 0         True                      1   \n",
       "53                                 0         True                      4   \n",
       "64                                 0         True                     37   \n",
       "\n",
       "       num_unconnected_coincident  num_unconnected_close_and_coincident  \\\n",
       "index                                                                     \n",
       "19                              2                                     2   \n",
       "22                             10                                     4   \n",
       "23                              0                                     0   \n",
       "26                              2                                     0   \n",
       "38                              2                                     2   \n",
       "40                              0                                     0   \n",
       "45                              0                                     0   \n",
       "53                              6                                     4   \n",
       "64                             30                                    22   \n",
       "\n",
       "       num_connected_far  num_connected_not_coincident  \\\n",
       "index                                                    \n",
       "19                     0                             0   \n",
       "22                     0                             9   \n",
       "23                     1                             1   \n",
       "26                    15                             0   \n",
       "38                     0                             1   \n",
       "40                     0                             1   \n",
       "45                     1                             1   \n",
       "53                     1                             0   \n",
       "64                     0                             0   \n",
       "\n",
       "       num_connected_far_or_not_coincident  \n",
       "index                                       \n",
       "19                                       0  \n",
       "22                                       9  \n",
       "23                                       1  \n",
       "26                                      15  \n",
       "38                                       1  \n",
       "40                                       1  \n",
       "45                                       1  \n",
       "53                                       1  \n",
       "64                                       0  "
      ]
     },
     "execution_count": 55,
     "metadata": {},
     "output_type": "execute_result"
    }
   ],
   "source": [
    "df"
   ]
  },
  {
   "cell_type": "code",
   "execution_count": 68,
   "id": "63538224-56e0-4f09-ae36-a5cb8986604f",
   "metadata": {},
   "outputs": [],
   "source": [
    "#.01 threshold with more stats and fixed sets"
   ]
  },
  {
   "cell_type": "code",
   "execution_count": 69,
   "id": "cfc531f2-81ca-450d-af25-b22a7813dac0",
   "metadata": {},
   "outputs": [],
   "source": [
    "df = ps.read_parquet('/fast/jamesn8/assembly_data/assembly_torch2_fixsize/stats_distance/stats_all.parquet')"
   ]
  },
  {
   "cell_type": "code",
   "execution_count": 70,
   "id": "17cec2fd-130d-45a7-9a0d-90dfb7af07c5",
   "metadata": {},
   "outputs": [
    {
     "data": {
      "text/html": [
       "<div>\n",
       "<style scoped>\n",
       "    .dataframe tbody tr th:only-of-type {\n",
       "        vertical-align: middle;\n",
       "    }\n",
       "\n",
       "    .dataframe tbody tr th {\n",
       "        vertical-align: top;\n",
       "    }\n",
       "\n",
       "    .dataframe thead th {\n",
       "        text-align: right;\n",
       "    }\n",
       "</style>\n",
       "<table border=\"1\" class=\"dataframe\">\n",
       "  <thead>\n",
       "    <tr style=\"text-align: right;\">\n",
       "      <th></th>\n",
       "      <th>num_total_parts</th>\n",
       "      <th>num_invalid_loaded_parts</th>\n",
       "      <th>num_topologies</th>\n",
       "      <th>too_big</th>\n",
       "      <th>invalid_bbox</th>\n",
       "      <th>maxdim</th>\n",
       "      <th>num_normalized_parts_with_discrepancies</th>\n",
       "      <th>num_invalid_transformed_parts</th>\n",
       "      <th>initialized</th>\n",
       "      <th>num_unconnected_close</th>\n",
       "      <th>num_unconnected_coincident</th>\n",
       "      <th>num_unconnected_close_and_coincident</th>\n",
       "      <th>num_connected_far</th>\n",
       "      <th>num_connected_not_coincident</th>\n",
       "      <th>num_connected_far_or_not_coincident</th>\n",
       "    </tr>\n",
       "    <tr>\n",
       "      <th>index</th>\n",
       "      <th></th>\n",
       "      <th></th>\n",
       "      <th></th>\n",
       "      <th></th>\n",
       "      <th></th>\n",
       "      <th></th>\n",
       "      <th></th>\n",
       "      <th></th>\n",
       "      <th></th>\n",
       "      <th></th>\n",
       "      <th></th>\n",
       "      <th></th>\n",
       "      <th></th>\n",
       "      <th></th>\n",
       "      <th></th>\n",
       "    </tr>\n",
       "  </thead>\n",
       "  <tbody>\n",
       "    <tr>\n",
       "      <th>19</th>\n",
       "      <td>3</td>\n",
       "      <td>0</td>\n",
       "      <td>173</td>\n",
       "      <td>False</td>\n",
       "      <td>False</td>\n",
       "      <td>2.159000</td>\n",
       "      <td>0</td>\n",
       "      <td>0</td>\n",
       "      <td>True</td>\n",
       "      <td>1</td>\n",
       "      <td>1</td>\n",
       "      <td>1</td>\n",
       "      <td>0</td>\n",
       "      <td>0</td>\n",
       "      <td>0</td>\n",
       "    </tr>\n",
       "    <tr>\n",
       "      <th>22</th>\n",
       "      <td>22</td>\n",
       "      <td>0</td>\n",
       "      <td>2142</td>\n",
       "      <td>False</td>\n",
       "      <td>False</td>\n",
       "      <td>0.200000</td>\n",
       "      <td>0</td>\n",
       "      <td>0</td>\n",
       "      <td>True</td>\n",
       "      <td>12</td>\n",
       "      <td>6</td>\n",
       "      <td>3</td>\n",
       "      <td>0</td>\n",
       "      <td>9</td>\n",
       "      <td>9</td>\n",
       "    </tr>\n",
       "    <tr>\n",
       "      <th>23</th>\n",
       "      <td>3</td>\n",
       "      <td>0</td>\n",
       "      <td>1540</td>\n",
       "      <td>False</td>\n",
       "      <td>False</td>\n",
       "      <td>0.414338</td>\n",
       "      <td>0</td>\n",
       "      <td>0</td>\n",
       "      <td>True</td>\n",
       "      <td>1</td>\n",
       "      <td>0</td>\n",
       "      <td>0</td>\n",
       "      <td>1</td>\n",
       "      <td>1</td>\n",
       "      <td>1</td>\n",
       "    </tr>\n",
       "    <tr>\n",
       "      <th>26</th>\n",
       "      <td>16</td>\n",
       "      <td>0</td>\n",
       "      <td>1624</td>\n",
       "      <td>False</td>\n",
       "      <td>False</td>\n",
       "      <td>0.061500</td>\n",
       "      <td>0</td>\n",
       "      <td>0</td>\n",
       "      <td>True</td>\n",
       "      <td>0</td>\n",
       "      <td>1</td>\n",
       "      <td>0</td>\n",
       "      <td>15</td>\n",
       "      <td>0</td>\n",
       "      <td>15</td>\n",
       "    </tr>\n",
       "    <tr>\n",
       "      <th>38</th>\n",
       "      <td>7</td>\n",
       "      <td>0</td>\n",
       "      <td>2979</td>\n",
       "      <td>False</td>\n",
       "      <td>False</td>\n",
       "      <td>0.295275</td>\n",
       "      <td>0</td>\n",
       "      <td>0</td>\n",
       "      <td>True</td>\n",
       "      <td>3</td>\n",
       "      <td>1</td>\n",
       "      <td>1</td>\n",
       "      <td>0</td>\n",
       "      <td>1</td>\n",
       "      <td>1</td>\n",
       "    </tr>\n",
       "    <tr>\n",
       "      <th>40</th>\n",
       "      <td>2</td>\n",
       "      <td>0</td>\n",
       "      <td>101</td>\n",
       "      <td>False</td>\n",
       "      <td>False</td>\n",
       "      <td>0.022928</td>\n",
       "      <td>0</td>\n",
       "      <td>0</td>\n",
       "      <td>True</td>\n",
       "      <td>0</td>\n",
       "      <td>0</td>\n",
       "      <td>0</td>\n",
       "      <td>0</td>\n",
       "      <td>1</td>\n",
       "      <td>1</td>\n",
       "    </tr>\n",
       "    <tr>\n",
       "      <th>45</th>\n",
       "      <td>4</td>\n",
       "      <td>0</td>\n",
       "      <td>129</td>\n",
       "      <td>False</td>\n",
       "      <td>False</td>\n",
       "      <td>0.182701</td>\n",
       "      <td>0</td>\n",
       "      <td>0</td>\n",
       "      <td>True</td>\n",
       "      <td>1</td>\n",
       "      <td>0</td>\n",
       "      <td>0</td>\n",
       "      <td>1</td>\n",
       "      <td>1</td>\n",
       "      <td>1</td>\n",
       "    </tr>\n",
       "    <tr>\n",
       "      <th>53</th>\n",
       "      <td>5</td>\n",
       "      <td>0</td>\n",
       "      <td>1343</td>\n",
       "      <td>False</td>\n",
       "      <td>False</td>\n",
       "      <td>0.191500</td>\n",
       "      <td>0</td>\n",
       "      <td>0</td>\n",
       "      <td>True</td>\n",
       "      <td>2</td>\n",
       "      <td>3</td>\n",
       "      <td>2</td>\n",
       "      <td>1</td>\n",
       "      <td>0</td>\n",
       "      <td>1</td>\n",
       "    </tr>\n",
       "    <tr>\n",
       "      <th>64</th>\n",
       "      <td>43</td>\n",
       "      <td>0</td>\n",
       "      <td>4151</td>\n",
       "      <td>False</td>\n",
       "      <td>False</td>\n",
       "      <td>0.127000</td>\n",
       "      <td>0</td>\n",
       "      <td>0</td>\n",
       "      <td>True</td>\n",
       "      <td>26</td>\n",
       "      <td>19</td>\n",
       "      <td>11</td>\n",
       "      <td>0</td>\n",
       "      <td>0</td>\n",
       "      <td>0</td>\n",
       "    </tr>\n",
       "  </tbody>\n",
       "</table>\n",
       "</div>"
      ],
      "text/plain": [
       "       num_total_parts  num_invalid_loaded_parts  num_topologies  too_big  \\\n",
       "index                                                                       \n",
       "19                   3                         0             173    False   \n",
       "22                  22                         0            2142    False   \n",
       "23                   3                         0            1540    False   \n",
       "26                  16                         0            1624    False   \n",
       "38                   7                         0            2979    False   \n",
       "40                   2                         0             101    False   \n",
       "45                   4                         0             129    False   \n",
       "53                   5                         0            1343    False   \n",
       "64                  43                         0            4151    False   \n",
       "\n",
       "       invalid_bbox    maxdim  num_normalized_parts_with_discrepancies  \\\n",
       "index                                                                    \n",
       "19            False  2.159000                                        0   \n",
       "22            False  0.200000                                        0   \n",
       "23            False  0.414338                                        0   \n",
       "26            False  0.061500                                        0   \n",
       "38            False  0.295275                                        0   \n",
       "40            False  0.022928                                        0   \n",
       "45            False  0.182701                                        0   \n",
       "53            False  0.191500                                        0   \n",
       "64            False  0.127000                                        0   \n",
       "\n",
       "       num_invalid_transformed_parts  initialized  num_unconnected_close  \\\n",
       "index                                                                      \n",
       "19                                 0         True                      1   \n",
       "22                                 0         True                     12   \n",
       "23                                 0         True                      1   \n",
       "26                                 0         True                      0   \n",
       "38                                 0         True                      3   \n",
       "40                                 0         True                      0   \n",
       "45                                 0         True                      1   \n",
       "53                                 0         True                      2   \n",
       "64                                 0         True                     26   \n",
       "\n",
       "       num_unconnected_coincident  num_unconnected_close_and_coincident  \\\n",
       "index                                                                     \n",
       "19                              1                                     1   \n",
       "22                              6                                     3   \n",
       "23                              0                                     0   \n",
       "26                              1                                     0   \n",
       "38                              1                                     1   \n",
       "40                              0                                     0   \n",
       "45                              0                                     0   \n",
       "53                              3                                     2   \n",
       "64                             19                                    11   \n",
       "\n",
       "       num_connected_far  num_connected_not_coincident  \\\n",
       "index                                                    \n",
       "19                     0                             0   \n",
       "22                     0                             9   \n",
       "23                     1                             1   \n",
       "26                    15                             0   \n",
       "38                     0                             1   \n",
       "40                     0                             1   \n",
       "45                     1                             1   \n",
       "53                     1                             0   \n",
       "64                     0                             0   \n",
       "\n",
       "       num_connected_far_or_not_coincident  \n",
       "index                                       \n",
       "19                                       0  \n",
       "22                                       9  \n",
       "23                                       1  \n",
       "26                                      15  \n",
       "38                                       1  \n",
       "40                                       1  \n",
       "45                                       1  \n",
       "53                                       1  \n",
       "64                                       0  "
      ]
     },
     "execution_count": 70,
     "metadata": {},
     "output_type": "execute_result"
    }
   ],
   "source": [
    "df"
   ]
  },
  {
   "cell_type": "code",
   "execution_count": 4,
   "id": "a79340f9-da19-4611-a15f-25ec54e32c0d",
   "metadata": {},
   "outputs": [],
   "source": [
    "import os"
   ]
  },
  {
   "cell_type": "code",
   "execution_count": 41,
   "id": "8b18a9d8-d92c-41e6-a2ec-63305372238f",
   "metadata": {},
   "outputs": [],
   "source": [
    "# large set with .01 threshold"
   ]
  },
  {
   "cell_type": "code",
   "execution_count": 5,
   "id": "9db840d1-1048-4b2b-bcdb-7d0aed2cd75c",
   "metadata": {},
   "outputs": [],
   "source": [
    "stats_path = '/fast/jamesn8/assembly_data/assembly_torch2_fixsize/stats_distance'\n",
    "stats_df = ps.read_parquet(os.path.join(stats_path, 'stats_all.parquet'))\n",
    "mate_stats_df = ps.read_parquet(os.path.join(stats_path, 'mate_stats_all.parquet'))"
   ]
  },
  {
   "cell_type": "code",
   "execution_count": 6,
   "id": "84ac09ad-5e2c-4e1e-a59b-c39ee3d76adc",
   "metadata": {},
   "outputs": [],
   "source": [
    "with open('/projects/grail/jamesn8/projects/mechanical/Mechanical/data/dataset/simple_valid_dataset.txt','r') as f:\n",
    "    simple_valid_indices = {int(l) for l in f.readlines()}"
   ]
  },
  {
   "cell_type": "code",
   "execution_count": 7,
   "id": "dc594da2-0dc8-400e-a3e3-260e35adcd07",
   "metadata": {},
   "outputs": [],
   "source": [
    "with open('/projects/grail/jamesn8/projects/mechanical/Mechanical/data/dataset/simple_valid_dataset.txt','r') as f:\n",
    "    simple_valid_indices_list = [int(l) for l in f.readlines()]"
   ]
  },
  {
   "cell_type": "code",
   "execution_count": 8,
   "id": "26e024ba-447c-4c07-b87c-32bcd83bf8d1",
   "metadata": {},
   "outputs": [],
   "source": [
    "#newindex = {ind for ind in stats_df.index if (ind in simple_valid_indices)}\n",
    "newindex = simple_valid_indices.intersection(stats_df.index)"
   ]
  },
  {
   "cell_type": "code",
   "execution_count": 9,
   "id": "2c3ab3cb-f6af-479b-9471-8d190610611e",
   "metadata": {},
   "outputs": [],
   "source": [
    "stats_df = stats_df.loc[newindex]"
   ]
  },
  {
   "cell_type": "code",
   "execution_count": 147,
   "id": "e38e0d16-50e3-4901-bd1e-5427363b73ad",
   "metadata": {},
   "outputs": [
    {
     "data": {
      "text/plain": [
       "Index(['num_total_parts', 'num_invalid_loaded_parts', 'num_topologies',\n",
       "       'too_big', 'invalid_bbox', 'maxdim',\n",
       "       'num_normalized_parts_with_discrepancies',\n",
       "       'num_invalid_transformed_parts', 'initialized', 'num_degenerate_bboxes',\n",
       "       'num_unconnected_close', 'num_unconnected_coincident',\n",
       "       'num_unconnected_close_and_coincident', 'num_connected_far',\n",
       "       'num_connected_not_coincident', 'num_connected_far_or_not_coincident'],\n",
       "      dtype='object')"
      ]
     },
     "execution_count": 147,
     "metadata": {},
     "output_type": "execute_result"
    }
   ],
   "source": [
    "stats_df.keys()"
   ]
  },
  {
   "cell_type": "code",
   "execution_count": 248,
   "id": "8c8bb5f2-dec2-4c77-ac4e-4469d82f2e39",
   "metadata": {},
   "outputs": [
    {
     "data": {
      "text/plain": [
       "13956"
      ]
     },
     "execution_count": 248,
     "metadata": {},
     "output_type": "execute_result"
    }
   ],
   "source": [
    "stats_df.shape[0]"
   ]
  },
  {
   "cell_type": "code",
   "execution_count": 249,
   "id": "333ec42a-1e79-4a78-b3df-317dc5d365b2",
   "metadata": {},
   "outputs": [
    {
     "data": {
      "text/plain": [
       "3559"
      ]
     },
     "execution_count": 249,
     "metadata": {},
     "output_type": "execute_result"
    }
   ],
   "source": [
    "stats_df[lambda df: (df['num_connected_far'] == 0) & (df['num_unconnected_close_and_coincident'] > 0)].shape[0]"
   ]
  },
  {
   "cell_type": "code",
   "execution_count": 250,
   "id": "cf03f511-7578-4379-8159-f02cf4c66015",
   "metadata": {},
   "outputs": [
    {
     "data": {
      "text/plain": [
       "0.48982516480366867"
      ]
     },
     "execution_count": 250,
     "metadata": {},
     "output_type": "execute_result"
    }
   ],
   "source": [
    "stats_df[lambda df: df['num_connected_far_or_not_coincident'] == 0].shape[0]/stats_df.shape[0]"
   ]
  },
  {
   "cell_type": "code",
   "execution_count": 251,
   "id": "c90d3256-d323-4d83-962c-c575ab2c2746",
   "metadata": {},
   "outputs": [
    {
     "data": {
      "text/plain": [
       "0.7153912295786758"
      ]
     },
     "execution_count": 251,
     "metadata": {},
     "output_type": "execute_result"
    }
   ],
   "source": [
    "stats_df[lambda df: df['num_unconnected_close_and_coincident'] == 0].shape[0]/stats_df.shape[0]"
   ]
  },
  {
   "cell_type": "code",
   "execution_count": 252,
   "id": "394e467c-c1ab-4852-b9ef-ba29020bebec",
   "metadata": {},
   "outputs": [
    {
     "data": {
      "text/plain": [
       "5049"
      ]
     },
     "execution_count": 252,
     "metadata": {},
     "output_type": "execute_result"
    }
   ],
   "source": [
    "stats_df[lambda df: (df['num_unconnected_close_and_coincident'] == 0) & (df['num_connected_far_or_not_coincident'] == 0)].shape[0]"
   ]
  },
  {
   "cell_type": "code",
   "execution_count": 253,
   "id": "e273664e-64f3-445c-b0d3-e856e2f37884",
   "metadata": {},
   "outputs": [
    {
     "data": {
      "text/plain": [
       "5833"
      ]
     },
     "execution_count": 253,
     "metadata": {},
     "output_type": "execute_result"
    }
   ],
   "source": [
    "stats_df[lambda df: (df['num_unconnected_close'] == 0) & (df['num_connected_far'] == 0)].shape[0]"
   ]
  },
  {
   "cell_type": "code",
   "execution_count": 254,
   "id": "edfa0024-93e0-4013-a0a7-95b686da936d",
   "metadata": {},
   "outputs": [
    {
     "data": {
      "text/plain": [
       "6889"
      ]
     },
     "execution_count": 254,
     "metadata": {},
     "output_type": "execute_result"
    }
   ],
   "source": [
    "stats_df[lambda df: df['num_connected_not_coincident'] > 0].shape[0]"
   ]
  },
  {
   "cell_type": "code",
   "execution_count": 260,
   "id": "611590f6-9d8f-4f0c-8d5d-117cdd194740",
   "metadata": {},
   "outputs": [
    {
     "data": {
      "text/plain": [
       "7073"
      ]
     },
     "execution_count": 260,
     "metadata": {},
     "output_type": "execute_result"
    }
   ],
   "source": [
    "stats_df[lambda df: df['num_unconnected_close'] > 0].shape[0]"
   ]
  },
  {
   "cell_type": "code",
   "execution_count": 255,
   "id": "2c6c0764-b3cc-447e-bf76-2fdf84be51b0",
   "metadata": {},
   "outputs": [
    {
     "data": {
      "text/plain": [
       "0.5068071080538836"
      ]
     },
     "execution_count": 255,
     "metadata": {},
     "output_type": "execute_result"
    }
   ],
   "source": [
    "stats_df[lambda df: df['num_unconnected_close'] > 0].shape[0]/stats_df.shape[0]"
   ]
  },
  {
   "cell_type": "code",
   "execution_count": 256,
   "id": "41a81944-7002-4daa-a38e-f18ffb654de7",
   "metadata": {},
   "outputs": [
    {
     "data": {
      "text/plain": [
       "0.13564058469475496"
      ]
     },
     "execution_count": 256,
     "metadata": {},
     "output_type": "execute_result"
    }
   ],
   "source": [
    "stats_df[lambda df: df['num_connected_far'] > 0].shape[0]/stats_df.shape[0]"
   ]
  },
  {
   "cell_type": "code",
   "execution_count": 257,
   "id": "06e9bf8b-b561-48bb-a9e6-d22adeadf0a9",
   "metadata": {},
   "outputs": [
    {
     "data": {
      "text/plain": [
       "1893"
      ]
     },
     "execution_count": 257,
     "metadata": {},
     "output_type": "execute_result"
    }
   ],
   "source": [
    "stats_df[lambda df: df['num_connected_far'] > 0].shape[0]"
   ]
  },
  {
   "cell_type": "code",
   "execution_count": 258,
   "id": "4f72934e-440a-4cb1-a695-21ed9429b44b",
   "metadata": {},
   "outputs": [
    {
     "data": {
      "text/plain": [
       "7120"
      ]
     },
     "execution_count": 258,
     "metadata": {},
     "output_type": "execute_result"
    }
   ],
   "source": [
    "stats_df[lambda df: df['num_connected_far_or_not_coincident'] > 0].shape[0]"
   ]
  },
  {
   "cell_type": "code",
   "execution_count": 259,
   "id": "d2c03ba6-fe0e-4e74-857e-ff96e0d76098",
   "metadata": {},
   "outputs": [
    {
     "data": {
      "text/plain": [
       "14361"
      ]
     },
     "execution_count": 259,
     "metadata": {},
     "output_type": "execute_result"
    }
   ],
   "source": [
    "stats_df['num_connected_far_or_not_coincident'].sum()"
   ]
  },
  {
   "cell_type": "markdown",
   "id": "f46f540e-cce3-400b-90f4-a8c5a91644a2",
   "metadata": {},
   "source": [
    "mate_stats_df['mateindex'] = mate_stats_df.index\n",
    "mate_stats_df = mate_stats_df.drop_duplicates()\n",
    "mate_stats_df.drop('mateindex', axis=1, inplace=True)\n"
   ]
  },
  {
   "cell_type": "code",
   "execution_count": 44,
   "id": "8fc47fec-efb8-4bae-9378-4a0d4cf518f1",
   "metadata": {},
   "outputs": [],
   "source": [
    "mate_stats_df = mate_stats_df[[(m in simple_valid_indices) for m in mate_stats_df['assembly']]]"
   ]
  },
  {
   "cell_type": "code",
   "execution_count": 218,
   "id": "5aab2e7a-af82-49cc-a016-bc2fd6a08f29",
   "metadata": {},
   "outputs": [
    {
     "data": {
      "text/plain": [
       "<AxesSubplot:title={'center':'mates without coincident MCs'}>"
      ]
     },
     "execution_count": 218,
     "metadata": {},
     "output_type": "execute_result"
    },
    {
     "data": {
      "image/png": "[encoded data removed]",
      "text/plain": [
       "<Figure size 432x288 with 1 Axes>"
      ]
     },
     "metadata": {
      "needs_background": "light"
     },
     "output_type": "display_data"
    }
   ],
   "source": [
    "(mate_stats_df[lambda df: df['connected_not_coincident']]['type']).value_counts().plot.bar(title='mates without coincident MCs')"
   ]
  },
  {
   "cell_type": "code",
   "execution_count": 226,
   "id": "fcfe5fb5-4f79-4607-bc76-5d23e131baaf",
   "metadata": {},
   "outputs": [
    {
     "data": {
      "text/plain": [
       "<AxesSubplot:title={'center':'mates that do not touch'}>"
      ]
     },
     "execution_count": 226,
     "metadata": {},
     "output_type": "execute_result"
    },
    {
     "data": {
      "image/png": "[encoded data removed]",
      "text/plain": [
       "<Figure size 432x288 with 1 Axes>"
      ]
     },
     "metadata": {
      "needs_background": "light"
     },
     "output_type": "display_data"
    }
   ],
   "source": [
    "(mate_stats_df[lambda df: df['connected_far']]['type']).value_counts().plot.bar(title='mates that do not touch')"
   ]
  },
  {
   "cell_type": "code",
   "execution_count": 228,
   "id": "9ff35e71-8c4a-4049-b80b-6c7da885b841",
   "metadata": {},
   "outputs": [
    {
     "data": {
      "text/plain": [
       "<AxesSubplot:title={'center':'mates that do not touch or not coincident MCs'}>"
      ]
     },
     "execution_count": 228,
     "metadata": {},
     "output_type": "execute_result"
    },
    {
     "data": {
      "image/png": "[encoded data removed]",
      "text/plain": [
       "<Figure size 432x288 with 1 Axes>"
      ]
     },
     "metadata": {
      "needs_background": "light"
     },
     "output_type": "display_data"
    }
   ],
   "source": [
    "(mate_stats_df[lambda df: df['connected_far'] | df['connected_not_coincident']]['type']).value_counts().plot.bar(title='mates that do not touch or not coincident MCs')"
   ]
  },
  {
   "cell_type": "code",
   "execution_count": 220,
   "id": "7d900f2e-be57-4205-8e0d-7d4912b4a89f",
   "metadata": {},
   "outputs": [
    {
     "data": {
      "text/plain": [
       "1793"
      ]
     },
     "execution_count": 220,
     "metadata": {},
     "output_type": "execute_result"
    }
   ],
   "source": [
    "(mate_stats_df[lambda df: df['connected_not_coincident']]['type']).value_counts()['REVOLUTE']"
   ]
  },
  {
   "cell_type": "code",
   "execution_count": 216,
   "id": "efead4ef-67ef-4f38-817c-656c3076abf5",
   "metadata": {},
   "outputs": [],
   "source": [
    "import torch"
   ]
  },
  {
   "cell_type": "code",
   "execution_count": 217,
   "id": "c37325bc-72c1-4dd3-93e2-0a509968191b",
   "metadata": {},
   "outputs": [],
   "source": [
    "batch = torch.load(os.path.join('/fast/jamesn8/assembly_data/assembly_torch2_fixsize/data', '287.dat'))"
   ]
  },
  {
   "cell_type": "code",
   "execution_count": null,
   "id": "ec814193-da18-465c-8052-f3e7ecbb7a9e",
   "metadata": {},
   "outputs": [],
   "source": [
    "batch.mc_"
   ]
  },
  {
   "cell_type": "code",
   "execution_count": 214,
   "id": "7dbdf1df-fb83-4f28-9b70-788b6cb23d33",
   "metadata": {},
   "outputs": [
    {
     "data": {
      "text/html": [
       "<div>\n",
       "<style scoped>\n",
       "    .dataframe tbody tr th:only-of-type {\n",
       "        vertical-align: middle;\n",
       "    }\n",
       "\n",
       "    .dataframe tbody tr th {\n",
       "        vertical-align: top;\n",
       "    }\n",
       "\n",
       "    .dataframe thead th {\n",
       "        text-align: right;\n",
       "    }\n",
       "</style>\n",
       "<table border=\"1\" class=\"dataframe\">\n",
       "  <thead>\n",
       "    <tr style=\"text-align: right;\">\n",
       "      <th></th>\n",
       "      <th>connected_far</th>\n",
       "      <th>connected_not_coincident</th>\n",
       "      <th>type</th>\n",
       "      <th>assembly</th>\n",
       "    </tr>\n",
       "    <tr>\n",
       "      <th>index</th>\n",
       "      <th></th>\n",
       "      <th></th>\n",
       "      <th></th>\n",
       "      <th></th>\n",
       "    </tr>\n",
       "  </thead>\n",
       "  <tbody>\n",
       "    <tr>\n",
       "      <th>1480</th>\n",
       "      <td>False</td>\n",
       "      <td>True</td>\n",
       "      <td>REVOLUTE</td>\n",
       "      <td>65</td>\n",
       "    </tr>\n",
       "    <tr>\n",
       "      <th>1680</th>\n",
       "      <td>True</td>\n",
       "      <td>True</td>\n",
       "      <td>REVOLUTE</td>\n",
       "      <td>83</td>\n",
       "    </tr>\n",
       "    <tr>\n",
       "      <th>4554</th>\n",
       "      <td>False</td>\n",
       "      <td>True</td>\n",
       "      <td>REVOLUTE</td>\n",
       "      <td>287</td>\n",
       "    </tr>\n",
       "    <tr>\n",
       "      <th>4555</th>\n",
       "      <td>False</td>\n",
       "      <td>True</td>\n",
       "      <td>REVOLUTE</td>\n",
       "      <td>287</td>\n",
       "    </tr>\n",
       "    <tr>\n",
       "      <th>4556</th>\n",
       "      <td>False</td>\n",
       "      <td>True</td>\n",
       "      <td>REVOLUTE</td>\n",
       "      <td>287</td>\n",
       "    </tr>\n",
       "    <tr>\n",
       "      <th>...</th>\n",
       "      <td>...</td>\n",
       "      <td>...</td>\n",
       "      <td>...</td>\n",
       "      <td>...</td>\n",
       "    </tr>\n",
       "    <tr>\n",
       "      <th>1879112</th>\n",
       "      <td>False</td>\n",
       "      <td>True</td>\n",
       "      <td>REVOLUTE</td>\n",
       "      <td>124813</td>\n",
       "    </tr>\n",
       "    <tr>\n",
       "      <th>1879808</th>\n",
       "      <td>False</td>\n",
       "      <td>True</td>\n",
       "      <td>REVOLUTE</td>\n",
       "      <td>124888</td>\n",
       "    </tr>\n",
       "    <tr>\n",
       "      <th>1879809</th>\n",
       "      <td>False</td>\n",
       "      <td>True</td>\n",
       "      <td>REVOLUTE</td>\n",
       "      <td>124888</td>\n",
       "    </tr>\n",
       "    <tr>\n",
       "      <th>1879991</th>\n",
       "      <td>False</td>\n",
       "      <td>True</td>\n",
       "      <td>REVOLUTE</td>\n",
       "      <td>124908</td>\n",
       "    </tr>\n",
       "    <tr>\n",
       "      <th>1880865</th>\n",
       "      <td>False</td>\n",
       "      <td>True</td>\n",
       "      <td>REVOLUTE</td>\n",
       "      <td>124996</td>\n",
       "    </tr>\n",
       "  </tbody>\n",
       "</table>\n",
       "<p>1793 rows × 4 columns</p>\n",
       "</div>"
      ],
      "text/plain": [
       "         connected_far  connected_not_coincident      type  assembly\n",
       "index                                                               \n",
       "1480             False                      True  REVOLUTE        65\n",
       "1680              True                      True  REVOLUTE        83\n",
       "4554             False                      True  REVOLUTE       287\n",
       "4555             False                      True  REVOLUTE       287\n",
       "4556             False                      True  REVOLUTE       287\n",
       "...                ...                       ...       ...       ...\n",
       "1879112          False                      True  REVOLUTE    124813\n",
       "1879808          False                      True  REVOLUTE    124888\n",
       "1879809          False                      True  REVOLUTE    124888\n",
       "1879991          False                      True  REVOLUTE    124908\n",
       "1880865          False                      True  REVOLUTE    124996\n",
       "\n",
       "[1793 rows x 4 columns]"
      ]
     },
     "execution_count": 214,
     "metadata": {},
     "output_type": "execute_result"
    }
   ],
   "source": [
    "mate_stats_df[lambda df: df['connected_not_coincident'] & (df['type'] == 'REVOLUTE')]"
   ]
  },
  {
   "cell_type": "code",
   "execution_count": 229,
   "id": "8c3e7868-0107-4a8c-88a4-2d184de14c9d",
   "metadata": {},
   "outputs": [
    {
     "data": {
      "text/html": [
       "<div>\n",
       "<style scoped>\n",
       "    .dataframe tbody tr th:only-of-type {\n",
       "        vertical-align: middle;\n",
       "    }\n",
       "\n",
       "    .dataframe tbody tr th {\n",
       "        vertical-align: top;\n",
       "    }\n",
       "\n",
       "    .dataframe thead th {\n",
       "        text-align: right;\n",
       "    }\n",
       "</style>\n",
       "<table border=\"1\" class=\"dataframe\">\n",
       "  <thead>\n",
       "    <tr style=\"text-align: right;\">\n",
       "      <th></th>\n",
       "      <th>connected_far</th>\n",
       "      <th>connected_not_coincident</th>\n",
       "      <th>type</th>\n",
       "      <th>assembly</th>\n",
       "    </tr>\n",
       "    <tr>\n",
       "      <th>index</th>\n",
       "      <th></th>\n",
       "      <th></th>\n",
       "      <th></th>\n",
       "      <th></th>\n",
       "    </tr>\n",
       "  </thead>\n",
       "  <tbody>\n",
       "    <tr>\n",
       "      <th>4554</th>\n",
       "      <td>False</td>\n",
       "      <td>True</td>\n",
       "      <td>REVOLUTE</td>\n",
       "      <td>287</td>\n",
       "    </tr>\n",
       "    <tr>\n",
       "      <th>4555</th>\n",
       "      <td>False</td>\n",
       "      <td>True</td>\n",
       "      <td>REVOLUTE</td>\n",
       "      <td>287</td>\n",
       "    </tr>\n",
       "    <tr>\n",
       "      <th>4556</th>\n",
       "      <td>False</td>\n",
       "      <td>True</td>\n",
       "      <td>REVOLUTE</td>\n",
       "      <td>287</td>\n",
       "    </tr>\n",
       "  </tbody>\n",
       "</table>\n",
       "</div>"
      ],
      "text/plain": [
       "       connected_far  connected_not_coincident      type  assembly\n",
       "index                                                             \n",
       "4554           False                      True  REVOLUTE       287\n",
       "4555           False                      True  REVOLUTE       287\n",
       "4556           False                      True  REVOLUTE       287"
      ]
     },
     "execution_count": 229,
     "metadata": {},
     "output_type": "execute_result"
    }
   ],
   "source": [
    "mate_stats_df[lambda df: df['connected_not_coincident'] & (df['assembly'] == 287)]"
   ]
  },
  {
   "cell_type": "code",
   "execution_count": 223,
   "id": "950369e3-bc3c-4341-84b7-51adc544df38",
   "metadata": {},
   "outputs": [
    {
     "data": {
      "text/plain": [
       "(13878,)"
      ]
     },
     "execution_count": 223,
     "metadata": {},
     "output_type": "execute_result"
    }
   ],
   "source": [
    "(mate_stats_df[lambda df: df['connected_not_coincident']]['type']).shape"
   ]
  },
  {
   "cell_type": "code",
   "execution_count": 224,
   "id": "a4d48330-aa69-40c4-bfdd-e871df6db940",
   "metadata": {},
   "outputs": [
    {
     "data": {
      "text/plain": [
       "6654"
      ]
     },
     "execution_count": 224,
     "metadata": {},
     "output_type": "execute_result"
    }
   ],
   "source": [
    "(mate_stats_df[lambda df: df['connected_not_coincident']]['type'] == 'SLIDER').sum()"
   ]
  },
  {
   "cell_type": "markdown",
   "id": "c0e20ad7-360b-4f1c-9532-7b8000bcce57",
   "metadata": {},
   "source": [
    "## Augmented mate data"
   ]
  },
  {
   "cell_type": "code",
   "execution_count": 10,
   "id": "ce0d859a-561d-4367-bce3-94b5c6f65554",
   "metadata": {},
   "outputs": [],
   "source": [
    "def num_fixed_assemblies(newmates):\n",
    "    newmates_grouped = newmates.groupby('Assembly')\n",
    "    assemblies_fixed = newmates_grouped['added_mate'].all()\n",
    "    assemblies_fixed_simple = assemblies_fixed.loc[assemblies_fixed.index.intersection(simple_valid_indices)]\n",
    "    return assemblies_fixed_simple"
   ]
  },
  {
   "cell_type": "code",
   "execution_count": 11,
   "id": "6a974d84-d63f-4a68-96fe-1d6ed1aefd33",
   "metadata": {},
   "outputs": [],
   "source": [
    "#newmates_proposedonly = load_concatenated('/fast/jamesn8/assembly_data/assembly_torch2_fixsize/stats_augment_matchedonly/', ext='.h5', key='newmates', start='newmate_stats', drop_duplicates=False)\n",
    "#newmates_proposedonly = ps.read_hdf('/fast/jamesn8/assembly_data/assembly_torch2_fixsize/stats_augment_matchedonly/newmate_stats_all.h5','newmates')\n",
    "newmates_proposedonly = ps.read_hdf('/fast/jamesn8/assembly_data/assembly_torch2_fixsize/stats_augment_matched_axes_only_filtered/newmate_stats_all.h5','newmates')"
   ]
  },
  {
   "cell_type": "code",
   "execution_count": 12,
   "id": "2ee65188-7977-4b23-bacf-b8a74f680487",
   "metadata": {},
   "outputs": [
    {
     "data": {
      "text/plain": [
       "59040"
      ]
     },
     "execution_count": 12,
     "metadata": {},
     "output_type": "execute_result"
    }
   ],
   "source": [
    "newmates_proposedonly.shape[0]"
   ]
  },
  {
   "cell_type": "code",
   "execution_count": 13,
   "id": "da428866-5ec3-4e41-afd9-d180c5279638",
   "metadata": {},
   "outputs": [
    {
     "data": {
      "text/plain": [
       "0.34994918699186994"
      ]
     },
     "execution_count": 13,
     "metadata": {},
     "output_type": "execute_result"
    }
   ],
   "source": [
    "newmates_proposedonly['added_mate'].sum()/newmates_proposedonly.shape[0]"
   ]
  },
  {
   "cell_type": "code",
   "execution_count": 14,
   "id": "942c90f9-3afd-4537-98eb-0365fa6a3757",
   "metadata": {},
   "outputs": [
    {
     "name": "stdout",
     "output_type": "stream",
     "text": [
      "3943 6162\n"
     ]
    },
    {
     "data": {
      "text/plain": [
       "0.6398896462187601"
      ]
     },
     "execution_count": 14,
     "metadata": {},
     "output_type": "execute_result"
    }
   ],
   "source": [
    "assemblies_fixed_simple = num_fixed_assemblies(newmates_proposedonly)\n",
    "a, b = assemblies_fixed_simple.sum(), assemblies_fixed_simple.shape[0]\n",
    "print(a,b)\n",
    "a/b"
   ]
  },
  {
   "cell_type": "code",
   "execution_count": 15,
   "id": "f10eb462-969e-4a39-a725-9f99de4a27d4",
   "metadata": {},
   "outputs": [
    {
     "data": {
      "text/plain": [
       "4262"
      ]
     },
     "execution_count": 15,
     "metadata": {},
     "output_type": "execute_result"
    }
   ],
   "source": [
    "newmates_proposedonly[lambda df: df['type'] == 'SLIDER']['added_mate'].sum()"
   ]
  },
  {
   "cell_type": "markdown",
   "id": "29fdf700-4002-46b4-ba53-a37279b72cbc",
   "metadata": {},
   "source": [
    "### failed/succeeded types frequency in chains"
   ]
  },
  {
   "cell_type": "code",
   "execution_count": 944,
   "id": "38311eca-24f1-4d4f-96f4-be5ba937fbcc",
   "metadata": {},
   "outputs": [
    {
     "data": {
      "text/plain": [
       "2777"
      ]
     },
     "execution_count": 944,
     "metadata": {},
     "output_type": "execute_result"
    }
   ],
   "source": [
    "newmates_proposedonly[lambda df: ~df['added_mate']]['SLIDER'].sum()"
   ]
  },
  {
   "cell_type": "code",
   "execution_count": 945,
   "id": "ae7aa28f-122c-48f6-b912-40144527c6da",
   "metadata": {},
   "outputs": [
    {
     "data": {
      "text/plain": [
       "74319"
      ]
     },
     "execution_count": 945,
     "metadata": {},
     "output_type": "execute_result"
    }
   ],
   "source": [
    "newmates_proposedonly[lambda df: ~df['added_mate']]['REVOLUTE'].sum()"
   ]
  },
  {
   "cell_type": "code",
   "execution_count": 946,
   "id": "905e2d96-ef05-4d00-be75-bc462c489c55",
   "metadata": {},
   "outputs": [
    {
     "data": {
      "text/plain": [
       "591"
      ]
     },
     "execution_count": 946,
     "metadata": {},
     "output_type": "execute_result"
    }
   ],
   "source": [
    "newmates_proposedonly[lambda df: ~df['added_mate']]['CYLINDRICAL'].sum()"
   ]
  },
  {
   "cell_type": "code",
   "execution_count": 947,
   "id": "5f7d49ad-432f-43e7-bce5-d120b00313d0",
   "metadata": {},
   "outputs": [
    {
     "data": {
      "text/plain": [
       "10259"
      ]
     },
     "execution_count": 947,
     "metadata": {},
     "output_type": "execute_result"
    }
   ],
   "source": [
    "newmates_proposedonly[lambda df: ~df['added_mate']]['FASTENED'].sum()"
   ]
  },
  {
   "cell_type": "code",
   "execution_count": null,
   "id": "7665834f-728e-4ef2-a48f-1a73380a373a",
   "metadata": {},
   "outputs": [],
   "source": []
  },
  {
   "cell_type": "code",
   "execution_count": 948,
   "id": "d9463733-f8e5-4a2e-814f-22b85f9745d6",
   "metadata": {},
   "outputs": [
    {
     "data": {
      "text/plain": [
       "5691"
      ]
     },
     "execution_count": 948,
     "metadata": {},
     "output_type": "execute_result"
    }
   ],
   "source": [
    "newmates_proposedonly[lambda df: df['added_mate']]['SLIDER'].sum()"
   ]
  },
  {
   "cell_type": "code",
   "execution_count": 949,
   "id": "1cf76425-1456-464f-89ed-ac2954504711",
   "metadata": {},
   "outputs": [
    {
     "data": {
      "text/plain": [
       "28943"
      ]
     },
     "execution_count": 949,
     "metadata": {},
     "output_type": "execute_result"
    }
   ],
   "source": [
    "newmates_proposedonly[lambda df: df['added_mate']]['REVOLUTE'].sum()"
   ]
  },
  {
   "cell_type": "code",
   "execution_count": 950,
   "id": "895b505f-4a82-497a-ab8e-354f5916f53a",
   "metadata": {},
   "outputs": [
    {
     "data": {
      "text/plain": [
       "1868"
      ]
     },
     "execution_count": 950,
     "metadata": {},
     "output_type": "execute_result"
    }
   ],
   "source": [
    "newmates_proposedonly[lambda df: df['added_mate']]['CYLINDRICAL'].sum()"
   ]
  },
  {
   "cell_type": "code",
   "execution_count": 951,
   "id": "b62e9928-9606-4613-881a-08dfc266b13e",
   "metadata": {},
   "outputs": [
    {
     "data": {
      "text/plain": [
       "25342"
      ]
     },
     "execution_count": 951,
     "metadata": {},
     "output_type": "execute_result"
    }
   ],
   "source": [
    "newmates_proposedonly[lambda df: df['added_mate']]['FASTENED'].sum()"
   ]
  },
  {
   "cell_type": "code",
   "execution_count": null,
   "id": "88673465-b105-4280-935f-6d0ad3ba8606",
   "metadata": {},
   "outputs": [],
   "source": []
  },
  {
   "cell_type": "markdown",
   "id": "7b2639b4-46a4-46c5-bc7a-8945e1d37ad8",
   "metadata": {},
   "source": [
    "### experiment with the mc_data"
   ]
  },
  {
   "cell_type": "code",
   "execution_count": 759,
   "id": "2fe4c4a5-b0bd-467f-8a0d-a999a3b457c5",
   "metadata": {},
   "outputs": [],
   "source": [
    "f = h5py.File('/fast/jamesn8/assembly_data/assembly_torch2_fixsize/mc_data/19.hdf5','r')"
   ]
  },
  {
   "cell_type": "code",
   "execution_count": 541,
   "id": "53f5ee73-c691-4564-9e94-37dd949d398f",
   "metadata": {},
   "outputs": [
    {
     "data": {
      "text/plain": [
       "<HDF5 dataset \"origins\": shape (122, 3), type \"<f8\">"
      ]
     },
     "execution_count": 541,
     "metadata": {},
     "output_type": "execute_result"
    }
   ],
   "source": [
    "f['mc_frames']['0']['origins']"
   ]
  },
  {
   "cell_type": "code",
   "execution_count": 538,
   "id": "03e84c2c-2b6b-463d-8b7f-9b59fd790178",
   "metadata": {},
   "outputs": [
    {
     "data": {
      "text/plain": [
       "<KeysViewHDF5 ['dir_clusters', 'mc_definitions', 'mc_frames', 'pair_data']>"
      ]
     },
     "execution_count": 538,
     "metadata": {},
     "output_type": "execute_result"
    }
   ],
   "source": [
    "f.keys()"
   ]
  },
  {
   "cell_type": "code",
   "execution_count": 113,
   "id": "75c968a1-b76f-4b8a-b0ee-3c9666f95d80",
   "metadata": {},
   "outputs": [
    {
     "data": {
      "text/plain": [
       "<KeysViewHDF5 ['axial_clusters', 'indices']>"
      ]
     },
     "execution_count": 113,
     "metadata": {},
     "output_type": "execute_result"
    }
   ],
   "source": [
    "f['dir_clusters']['4'].keys()"
   ]
  },
  {
   "cell_type": "code",
   "execution_count": 112,
   "id": "9e502a0b-be01-4501-b995-92787a73a03e",
   "metadata": {},
   "outputs": [
    {
     "data": {
      "text/plain": [
       "<KeysViewHDF5 ['11', '131', '151', '158', '4', '475', '546', '547', '549', '551', '553', '555', '557', '559', '560', '565', '568', '571', '574', '580', '582', '583', '585', '586', '596', '598', '599', '609', '611', '612', '671', '7', '9']>"
      ]
     },
     "execution_count": 112,
     "metadata": {},
     "output_type": "execute_result"
    }
   ],
   "source": [
    "f['dir_clusters']['4']['axial_clusters'].keys()"
   ]
  },
  {
   "cell_type": "code",
   "execution_count": 74,
   "id": "65b6e2fe-5bde-4ec7-b91a-0e01c90b2e48",
   "metadata": {},
   "outputs": [
    {
     "data": {
      "text/plain": [
       "122"
      ]
     },
     "execution_count": 74,
     "metadata": {},
     "output_type": "execute_result"
    }
   ],
   "source": [
    "f['mc_frames']['0']['rots'].shape[0]"
   ]
  },
  {
   "cell_type": "code",
   "execution_count": 26,
   "id": "fde324b5-e0c4-4d37-b106-c2ab3c2d9d13",
   "metadata": {},
   "outputs": [
    {
     "data": {
      "text/plain": [
       "<KeysViewHDF5 ['0,1', '0,2', '1,2']>"
      ]
     },
     "execution_count": 26,
     "metadata": {},
     "output_type": "execute_result"
    }
   ],
   "source": [
    "f['pair_data'].keys()"
   ]
  },
  {
   "cell_type": "code",
   "execution_count": 29,
   "id": "b08b1fb5-2952-43cc-9005-4dc67c6529eb",
   "metadata": {},
   "outputs": [
    {
     "data": {
      "text/plain": [
       "2.0026854743534788e-16"
      ]
     },
     "execution_count": 29,
     "metadata": {},
     "output_type": "execute_result"
    }
   ],
   "source": [
    "f['pair_data']['0,1'].attrs['distance']"
   ]
  },
  {
   "cell_type": "code",
   "execution_count": 27,
   "id": "75e9a861-bbfb-478a-9b08-cc5a14a3d71c",
   "metadata": {},
   "outputs": [
    {
     "data": {
      "text/plain": [
       "<KeysViewHDF5 ['axes', 'dirs']>"
      ]
     },
     "execution_count": 27,
     "metadata": {},
     "output_type": "execute_result"
    }
   ],
   "source": [
    "f['pair_data']['0,1'].keys()"
   ]
  },
  {
   "cell_type": "code",
   "execution_count": 442,
   "id": "d4a3e004-a1a3-43e0-b8f9-51943a0d018a",
   "metadata": {},
   "outputs": [
    {
     "data": {
      "text/plain": [
       "<KeysViewHDF5 ['0', '1', '4']>"
      ]
     },
     "execution_count": 442,
     "metadata": {},
     "output_type": "execute_result"
    }
   ],
   "source": [
    "f['pair_data']['0,1']['axes'].keys()"
   ]
  },
  {
   "cell_type": "code",
   "execution_count": 760,
   "id": "ec952844-4fda-4584-9e46-70c333f1b316",
   "metadata": {},
   "outputs": [
    {
     "data": {
      "text/plain": [
       "[4, 1, 0]"
      ]
     },
     "execution_count": 760,
     "metadata": {},
     "output_type": "execute_result"
    }
   ],
   "source": [
    "list(f['pair_data']['0,1']['dirs']['indices'])"
   ]
  },
  {
   "cell_type": "code",
   "execution_count": 111,
   "id": "24a9578e-c943-4666-8d7c-d98195244255",
   "metadata": {},
   "outputs": [
    {
     "data": {
      "text/plain": [
       "[611, 4, 7, 9, 11, 565, 568, 571, 574]"
      ]
     },
     "execution_count": 111,
     "metadata": {},
     "output_type": "execute_result"
    }
   ],
   "source": [
    "list(f['pair_data']['0,1']['axes']['4']['indices'])"
   ]
  },
  {
   "cell_type": "code",
   "execution_count": 172,
   "id": "26f7822c-ab3a-4a4f-8395-b07e5d1f38fe",
   "metadata": {},
   "outputs": [
    {
     "data": {
      "text/plain": [
       "{4,\n",
       " 7,\n",
       " 9,\n",
       " 11,\n",
       " 131,\n",
       " 151,\n",
       " 158,\n",
       " 475,\n",
       " 546,\n",
       " 547,\n",
       " 549,\n",
       " 551,\n",
       " 553,\n",
       " 555,\n",
       " 557,\n",
       " 559,\n",
       " 560,\n",
       " 565,\n",
       " 568,\n",
       " 571,\n",
       " 574,\n",
       " 580,\n",
       " 582,\n",
       " 583,\n",
       " 585,\n",
       " 586,\n",
       " 596,\n",
       " 598,\n",
       " 599,\n",
       " 609,\n",
       " 611,\n",
       " 612,\n",
       " 671}"
      ]
     },
     "execution_count": 172,
     "metadata": {},
     "output_type": "execute_result"
    }
   ],
   "source": [
    "dir_4_axial_keys = set(int(l) for l in f['dir_clusters']['4']['axial_clusters'].keys())\n",
    "dir_4_axial_keys"
   ]
  },
  {
   "cell_type": "code",
   "execution_count": 164,
   "id": "77857c54-8226-4c6a-aecf-e6d43e1390a5",
   "metadata": {},
   "outputs": [
    {
     "data": {
      "text/plain": [
       "<KeysViewHDF5 ['0', '1', '135', '4']>"
      ]
     },
     "execution_count": 164,
     "metadata": {},
     "output_type": "execute_result"
    }
   ],
   "source": [
    "f['dir_clusters'].keys()"
   ]
  },
  {
   "cell_type": "code",
   "execution_count": 170,
   "id": "e15c1328-8c00-414a-a208-a8846e686ade",
   "metadata": {},
   "outputs": [
    {
     "data": {
      "text/plain": [
       "array([[ 0.02287698, -0.18888772, -0.49705882],\n",
       "       [-0.13310245, -0.04538664,  0.48823529],\n",
       "       [-0.28908189,  0.09811444, -0.00588235],\n",
       "       [-0.27660353,  0.1105928 , -0.00588235],\n",
       "       [ 0.01039863, -0.20136608, -0.00588235],\n",
       "       [-0.28284271,  0.10435362, -0.5       ],\n",
       "       [-0.12686328, -0.03914746,  0.48823529],\n",
       "       [ 0.01663781, -0.1951269 ,  0.48823529],\n",
       "       [-0.13934163, -0.05162582,  0.48823529]])"
      ]
     },
     "execution_count": 170,
     "metadata": {},
     "output_type": "execute_result"
    }
   ],
   "source": [
    "np.array(f['pair_data']['0,1']['axes']['4']['values'])"
   ]
  },
  {
   "cell_type": "code",
   "execution_count": 171,
   "id": "48637547-33a4-47b0-9309-39f01f8f6b00",
   "metadata": {},
   "outputs": [
    {
     "data": {
      "text/plain": [
       "array([611,   4,   7,   9,  11, 565, 568, 571, 574])"
      ]
     },
     "execution_count": 171,
     "metadata": {},
     "output_type": "execute_result"
    }
   ],
   "source": [
    "np.array(f['pair_data']['0,1']['axes']['4']['indices'])"
   ]
  },
  {
   "cell_type": "code",
   "execution_count": 173,
   "id": "a8bb28c1-4791-42f6-945b-bafebf614707",
   "metadata": {},
   "outputs": [
    {
     "ename": "TypeError",
     "evalue": "unhashable type: 'numpy.ndarray'",
     "output_type": "error",
     "traceback": [
      "\u001b[0;31m---------------------------------------------------------------------------\u001b[0m",
      "\u001b[0;31mTypeError\u001b[0m                                 Traceback (most recent call last)",
      "\u001b[0;32m/tmp/ipykernel_63715/3938480829.py\u001b[0m in \u001b[0;36m<module>\u001b[0;34m\u001b[0m\n\u001b[0;32m----> 1\u001b[0;31m \u001b[0;34m[\u001b[0m\u001b[0max\u001b[0m \u001b[0;32min\u001b[0m \u001b[0mdir_4_axial_keys\u001b[0m \u001b[0;32mfor\u001b[0m \u001b[0max\u001b[0m \u001b[0;32min\u001b[0m \u001b[0mnp\u001b[0m\u001b[0;34m.\u001b[0m\u001b[0marray\u001b[0m\u001b[0;34m(\u001b[0m\u001b[0mf\u001b[0m\u001b[0;34m[\u001b[0m\u001b[0;34m'pair_data'\u001b[0m\u001b[0;34m]\u001b[0m\u001b[0;34m[\u001b[0m\u001b[0;34m'0,1'\u001b[0m\u001b[0;34m]\u001b[0m\u001b[0;34m[\u001b[0m\u001b[0;34m'axes'\u001b[0m\u001b[0;34m]\u001b[0m\u001b[0;34m[\u001b[0m\u001b[0;34m'4'\u001b[0m\u001b[0;34m]\u001b[0m\u001b[0;34m[\u001b[0m\u001b[0;34m'values'\u001b[0m\u001b[0;34m]\u001b[0m\u001b[0;34m)\u001b[0m\u001b[0;34m]\u001b[0m\u001b[0;34m\u001b[0m\u001b[0;34m\u001b[0m\u001b[0m\n\u001b[0m",
      "\u001b[0;32m/tmp/ipykernel_63715/3938480829.py\u001b[0m in \u001b[0;36m<listcomp>\u001b[0;34m(.0)\u001b[0m\n\u001b[0;32m----> 1\u001b[0;31m \u001b[0;34m[\u001b[0m\u001b[0max\u001b[0m \u001b[0;32min\u001b[0m \u001b[0mdir_4_axial_keys\u001b[0m \u001b[0;32mfor\u001b[0m \u001b[0max\u001b[0m \u001b[0;32min\u001b[0m \u001b[0mnp\u001b[0m\u001b[0;34m.\u001b[0m\u001b[0marray\u001b[0m\u001b[0;34m(\u001b[0m\u001b[0mf\u001b[0m\u001b[0;34m[\u001b[0m\u001b[0;34m'pair_data'\u001b[0m\u001b[0;34m]\u001b[0m\u001b[0;34m[\u001b[0m\u001b[0;34m'0,1'\u001b[0m\u001b[0;34m]\u001b[0m\u001b[0;34m[\u001b[0m\u001b[0;34m'axes'\u001b[0m\u001b[0;34m]\u001b[0m\u001b[0;34m[\u001b[0m\u001b[0;34m'4'\u001b[0m\u001b[0;34m]\u001b[0m\u001b[0;34m[\u001b[0m\u001b[0;34m'values'\u001b[0m\u001b[0;34m]\u001b[0m\u001b[0;34m)\u001b[0m\u001b[0;34m]\u001b[0m\u001b[0;34m\u001b[0m\u001b[0;34m\u001b[0m\u001b[0m\n\u001b[0m",
      "\u001b[0;31mTypeError\u001b[0m: unhashable type: 'numpy.ndarray'"
     ]
    }
   ],
   "source": [
    "[ax in dir_4_axial_keys for ax in np.array(f['pair_data']['0,1']['axes']['4']['indices'])]"
   ]
  },
  {
   "cell_type": "code",
   "execution_count": 196,
   "id": "5206bd1c-e5ca-4d5f-b6c2-09ab116012c6",
   "metadata": {},
   "outputs": [
    {
     "data": {
      "text/plain": [
       "array([[ 6.53281482e-01, -2.70598050e-01,  2.70598050e-01,\n",
       "        -6.53281482e-01],\n",
       "       [-6.53281482e-01, -2.70598050e-01,  2.70598050e-01,\n",
       "         6.53281482e-01],\n",
       "       [ 6.53281482e-01, -2.70598050e-01,  2.70598050e-01,\n",
       "        -6.53281482e-01],\n",
       "       ...,\n",
       "       [ 2.96976857e-17,  1.36001171e-17,  4.03892003e-34,\n",
       "         1.00000000e+00],\n",
       "       [ 2.96976857e-17,  1.36001171e-17,  4.03892003e-34,\n",
       "         1.00000000e+00],\n",
       "       [ 2.96976857e-17,  1.36001171e-17,  4.03892003e-34,\n",
       "         1.00000000e+00]])"
      ]
     },
     "execution_count": 196,
     "metadata": {},
     "output_type": "execute_result"
    }
   ],
   "source": [
    "np.array(f['mc_frames']['1']['rots'])"
   ]
  },
  {
   "cell_type": "code",
   "execution_count": 197,
   "id": "5610f42f-279b-4cde-8a8f-da93b5189ddf",
   "metadata": {},
   "outputs": [
    {
     "data": {
      "text/plain": [
       "array([4, 1, 0])"
      ]
     },
     "execution_count": 197,
     "metadata": {},
     "output_type": "execute_result"
    }
   ],
   "source": [
    "np.array(f['pair_data']['1,2']['dirs']['indices'])"
   ]
  },
  {
   "cell_type": "code",
   "execution_count": 198,
   "id": "d73723af-574b-4b13-8857-0de29bfc45d2",
   "metadata": {},
   "outputs": [
    {
     "data": {
      "text/plain": [
       "array([[ 4.32978028e-17, -4.32978028e-17,  1.00000000e+00],\n",
       "       [ 7.07106781e-01,  7.07106781e-01, -5.56208568e-31],\n",
       "       [ 7.07106781e-01, -7.07106781e-01, -6.12323400e-17]])"
      ]
     },
     "execution_count": 198,
     "metadata": {},
     "output_type": "execute_result"
    }
   ],
   "source": [
    "np.array(f['pair_data']['1,2']['dirs']['values'])"
   ]
  },
  {
   "cell_type": "code",
   "execution_count": 194,
   "id": "53d559e9-bfbd-4e63-8043-b7caf2bd6bc4",
   "metadata": {},
   "outputs": [
    {
     "data": {
      "text/plain": [
       "[array([-0.28284271,  0.10435362, -0.5       ]),\n",
       " array([ 0.01663781, -0.1951269 , -0.5       ])]"
      ]
     },
     "execution_count": 194,
     "metadata": {},
     "output_type": "execute_result"
    }
   ],
   "source": [
    "list(f['pair_data']['1,2']['axes']['1']['values'])"
   ]
  },
  {
   "cell_type": "code",
   "execution_count": 180,
   "id": "afa7c72d-20f1-4a85-b0db-83ba0c9be493",
   "metadata": {},
   "outputs": [
    {
     "data": {
      "text/plain": [
       "[(0, 1), (0, 2), (1, 2)]"
      ]
     },
     "execution_count": 180,
     "metadata": {},
     "output_type": "execute_result"
    }
   ],
   "source": [
    "[tuple(int(k) for k in key.split(',')) for key in f['pair_data'].keys()]"
   ]
  },
  {
   "cell_type": "code",
   "execution_count": 761,
   "id": "20ad80cf-6ce8-4695-bf7f-37ce5b47d557",
   "metadata": {},
   "outputs": [],
   "source": [
    "f.close()"
   ]
  },
  {
   "cell_type": "markdown",
   "id": "5fca6944-2cf7-4216-a355-c61c90bcb10a",
   "metadata": {},
   "source": [
    "## Checking all simple mates"
   ]
  },
  {
   "cell_type": "code",
   "execution_count": null,
   "id": "151f51de-8eda-471b-8d00-d88dd68e8b69",
   "metadata": {},
   "outputs": [],
   "source": []
  },
  {
   "cell_type": "code",
   "execution_count": 16,
   "id": "c3f48497-0994-4c24-8c2d-2f418e996e18",
   "metadata": {},
   "outputs": [],
   "source": [
    "#mate_check_df = load_concatenated('/fast/jamesn8/assembly_data/assembly_torch2_fixsize/stats_check_mates', drop_duplicates=False, start='mate_stats')\n",
    "#mate_check_df = ps.read_parquet('/fast/jamesn8/assembly_data/assembly_torch2_fixsize/stats_check_mates/mate_stats_all.parquet')\n",
    "mate_check_df = ps.read_hdf('/fast/jamesn8/assembly_data/assembly_torch2_fixsize/stats_check_mates_all_proposals_validate_rigidcomps_more_axis_stats/mate_stats_all.h5','mates')"
   ]
  },
  {
   "cell_type": "code",
   "execution_count": 17,
   "id": "0fc7107a-a6dd-4c15-8c29-c1bcce8ec506",
   "metadata": {},
   "outputs": [],
   "source": [
    "mate_check_df['valid_and_axis'] = mate_check_df['valid'] & mate_check_df['has_any_axis']"
   ]
  },
  {
   "cell_type": "code",
   "execution_count": 18,
   "id": "525043f6-f19d-49b1-864b-dc2eb0d0aafe",
   "metadata": {},
   "outputs": [
    {
     "name": "stdout",
     "output_type": "stream",
     "text": [
      "79782 81835\n"
     ]
    },
    {
     "data": {
      "text/plain": [
       "0.9749129345634509"
      ]
     },
     "execution_count": 18,
     "metadata": {},
     "output_type": "execute_result"
    }
   ],
   "source": [
    "print(mate_check_df['valid_and_axis'].sum(),mate_check_df.shape[0])\n",
    "mate_check_df['valid_and_axis'].sum()/mate_check_df.shape[0]"
   ]
  },
  {
   "cell_type": "code",
   "execution_count": 19,
   "id": "e3527395-6e10-498d-9def-84b8cd779dc3",
   "metadata": {},
   "outputs": [
    {
     "name": "stdout",
     "output_type": "stream",
     "text": [
      "80500 81835\n"
     ]
    },
    {
     "data": {
      "text/plain": [
       "0.9836866866255269"
      ]
     },
     "execution_count": 19,
     "metadata": {},
     "output_type": "execute_result"
    }
   ],
   "source": [
    "print(mate_check_df['valid'].sum(),mate_check_df.shape[0])\n",
    "mate_check_df['valid'].sum()/mate_check_df.shape[0]"
   ]
  },
  {
   "cell_type": "code",
   "execution_count": 20,
   "id": "b6d6944c-de6c-4b8b-9d97-9fb8e8a38080",
   "metadata": {},
   "outputs": [
    {
     "name": "stdout",
     "output_type": "stream",
     "text": [
      "percentage of assemblies with valid mates: 0.9498423617082259\n"
     ]
    }
   ],
   "source": [
    "assemblies_with_valid_mates = mate_check_df.groupby('Assembly')['valid_and_axis'].all()\n",
    "print('percentage of assemblies with valid mates:',assemblies_with_valid_mates.sum()/assemblies_with_valid_mates.shape[0])\n",
    "assemblies_with_valid_mates = assemblies_with_valid_mates[assemblies_with_valid_mates].index"
   ]
  },
  {
   "cell_type": "code",
   "execution_count": 21,
   "id": "bf30c9c6-b61c-4dc0-814a-3748ef5c1edb",
   "metadata": {},
   "outputs": [
    {
     "data": {
      "text/html": [
       "<div>\n",
       "<style scoped>\n",
       "    .dataframe tbody tr th:only-of-type {\n",
       "        vertical-align: middle;\n",
       "    }\n",
       "\n",
       "    .dataframe tbody tr th {\n",
       "        vertical-align: top;\n",
       "    }\n",
       "\n",
       "    .dataframe thead th {\n",
       "        text-align: right;\n",
       "    }\n",
       "</style>\n",
       "<table border=\"1\" class=\"dataframe\">\n",
       "  <thead>\n",
       "    <tr style=\"text-align: right;\">\n",
       "      <th></th>\n",
       "      <th>num_total_parts</th>\n",
       "      <th>num_invalid_loaded_parts</th>\n",
       "      <th>num_topologies</th>\n",
       "      <th>too_big</th>\n",
       "      <th>invalid_bbox</th>\n",
       "      <th>maxdim</th>\n",
       "      <th>num_normalized_parts_with_discrepancies</th>\n",
       "      <th>num_invalid_transformed_parts</th>\n",
       "      <th>initialized</th>\n",
       "      <th>num_degenerate_bboxes</th>\n",
       "      <th>num_unconnected_close</th>\n",
       "      <th>num_unconnected_coincident</th>\n",
       "      <th>num_unconnected_close_and_coincident</th>\n",
       "      <th>num_connected_far</th>\n",
       "      <th>num_connected_not_coincident</th>\n",
       "      <th>num_connected_far_or_not_coincident</th>\n",
       "    </tr>\n",
       "    <tr>\n",
       "      <th>index</th>\n",
       "      <th></th>\n",
       "      <th></th>\n",
       "      <th></th>\n",
       "      <th></th>\n",
       "      <th></th>\n",
       "      <th></th>\n",
       "      <th></th>\n",
       "      <th></th>\n",
       "      <th></th>\n",
       "      <th></th>\n",
       "      <th></th>\n",
       "      <th></th>\n",
       "      <th></th>\n",
       "      <th></th>\n",
       "      <th></th>\n",
       "      <th></th>\n",
       "    </tr>\n",
       "  </thead>\n",
       "  <tbody>\n",
       "    <tr>\n",
       "      <th>65538</th>\n",
       "      <td>2</td>\n",
       "      <td>0</td>\n",
       "      <td>729</td>\n",
       "      <td>False</td>\n",
       "      <td>False</td>\n",
       "      <td>0.192000</td>\n",
       "      <td>0</td>\n",
       "      <td>0</td>\n",
       "      <td>True</td>\n",
       "      <td>0</td>\n",
       "      <td>0</td>\n",
       "      <td>0</td>\n",
       "      <td>0</td>\n",
       "      <td>0</td>\n",
       "      <td>0</td>\n",
       "      <td>0</td>\n",
       "    </tr>\n",
       "    <tr>\n",
       "      <th>32771</th>\n",
       "      <td>2</td>\n",
       "      <td>0</td>\n",
       "      <td>338</td>\n",
       "      <td>False</td>\n",
       "      <td>False</td>\n",
       "      <td>0.150200</td>\n",
       "      <td>0</td>\n",
       "      <td>0</td>\n",
       "      <td>True</td>\n",
       "      <td>0</td>\n",
       "      <td>0</td>\n",
       "      <td>0</td>\n",
       "      <td>0</td>\n",
       "      <td>0</td>\n",
       "      <td>1</td>\n",
       "      <td>1</td>\n",
       "    </tr>\n",
       "    <tr>\n",
       "      <th>65539</th>\n",
       "      <td>10</td>\n",
       "      <td>0</td>\n",
       "      <td>2253</td>\n",
       "      <td>False</td>\n",
       "      <td>False</td>\n",
       "      <td>0.295318</td>\n",
       "      <td>0</td>\n",
       "      <td>0</td>\n",
       "      <td>True</td>\n",
       "      <td>0</td>\n",
       "      <td>8</td>\n",
       "      <td>1</td>\n",
       "      <td>1</td>\n",
       "      <td>0</td>\n",
       "      <td>3</td>\n",
       "      <td>3</td>\n",
       "    </tr>\n",
       "    <tr>\n",
       "      <th>65540</th>\n",
       "      <td>6</td>\n",
       "      <td>0</td>\n",
       "      <td>3264</td>\n",
       "      <td>False</td>\n",
       "      <td>False</td>\n",
       "      <td>0.106418</td>\n",
       "      <td>0</td>\n",
       "      <td>0</td>\n",
       "      <td>True</td>\n",
       "      <td>0</td>\n",
       "      <td>3</td>\n",
       "      <td>0</td>\n",
       "      <td>0</td>\n",
       "      <td>0</td>\n",
       "      <td>2</td>\n",
       "      <td>2</td>\n",
       "    </tr>\n",
       "    <tr>\n",
       "      <th>65542</th>\n",
       "      <td>7</td>\n",
       "      <td>0</td>\n",
       "      <td>2979</td>\n",
       "      <td>False</td>\n",
       "      <td>False</td>\n",
       "      <td>0.325349</td>\n",
       "      <td>0</td>\n",
       "      <td>0</td>\n",
       "      <td>True</td>\n",
       "      <td>0</td>\n",
       "      <td>3</td>\n",
       "      <td>2</td>\n",
       "      <td>2</td>\n",
       "      <td>0</td>\n",
       "      <td>2</td>\n",
       "      <td>2</td>\n",
       "    </tr>\n",
       "    <tr>\n",
       "      <th>...</th>\n",
       "      <td>...</td>\n",
       "      <td>...</td>\n",
       "      <td>...</td>\n",
       "      <td>...</td>\n",
       "      <td>...</td>\n",
       "      <td>...</td>\n",
       "      <td>...</td>\n",
       "      <td>...</td>\n",
       "      <td>...</td>\n",
       "      <td>...</td>\n",
       "      <td>...</td>\n",
       "      <td>...</td>\n",
       "      <td>...</td>\n",
       "      <td>...</td>\n",
       "      <td>...</td>\n",
       "      <td>...</td>\n",
       "    </tr>\n",
       "    <tr>\n",
       "      <th>32757</th>\n",
       "      <td>5</td>\n",
       "      <td>0</td>\n",
       "      <td>399</td>\n",
       "      <td>False</td>\n",
       "      <td>False</td>\n",
       "      <td>0.119538</td>\n",
       "      <td>0</td>\n",
       "      <td>0</td>\n",
       "      <td>True</td>\n",
       "      <td>0</td>\n",
       "      <td>0</td>\n",
       "      <td>0</td>\n",
       "      <td>0</td>\n",
       "      <td>0</td>\n",
       "      <td>0</td>\n",
       "      <td>0</td>\n",
       "    </tr>\n",
       "    <tr>\n",
       "      <th>65525</th>\n",
       "      <td>2</td>\n",
       "      <td>0</td>\n",
       "      <td>913</td>\n",
       "      <td>False</td>\n",
       "      <td>False</td>\n",
       "      <td>0.185000</td>\n",
       "      <td>0</td>\n",
       "      <td>0</td>\n",
       "      <td>True</td>\n",
       "      <td>0</td>\n",
       "      <td>0</td>\n",
       "      <td>0</td>\n",
       "      <td>0</td>\n",
       "      <td>0</td>\n",
       "      <td>0</td>\n",
       "      <td>0</td>\n",
       "    </tr>\n",
       "    <tr>\n",
       "      <th>98293</th>\n",
       "      <td>8</td>\n",
       "      <td>0</td>\n",
       "      <td>256</td>\n",
       "      <td>False</td>\n",
       "      <td>False</td>\n",
       "      <td>0.110968</td>\n",
       "      <td>0</td>\n",
       "      <td>0</td>\n",
       "      <td>True</td>\n",
       "      <td>0</td>\n",
       "      <td>10</td>\n",
       "      <td>8</td>\n",
       "      <td>8</td>\n",
       "      <td>0</td>\n",
       "      <td>0</td>\n",
       "      <td>0</td>\n",
       "    </tr>\n",
       "    <tr>\n",
       "      <th>98294</th>\n",
       "      <td>3</td>\n",
       "      <td>0</td>\n",
       "      <td>353</td>\n",
       "      <td>False</td>\n",
       "      <td>False</td>\n",
       "      <td>0.420000</td>\n",
       "      <td>0</td>\n",
       "      <td>0</td>\n",
       "      <td>True</td>\n",
       "      <td>0</td>\n",
       "      <td>1</td>\n",
       "      <td>0</td>\n",
       "      <td>0</td>\n",
       "      <td>0</td>\n",
       "      <td>1</td>\n",
       "      <td>1</td>\n",
       "    </tr>\n",
       "    <tr>\n",
       "      <th>32763</th>\n",
       "      <td>11</td>\n",
       "      <td>0</td>\n",
       "      <td>3439</td>\n",
       "      <td>False</td>\n",
       "      <td>False</td>\n",
       "      <td>0.358775</td>\n",
       "      <td>0</td>\n",
       "      <td>0</td>\n",
       "      <td>True</td>\n",
       "      <td>0</td>\n",
       "      <td>3</td>\n",
       "      <td>2</td>\n",
       "      <td>2</td>\n",
       "      <td>0</td>\n",
       "      <td>2</td>\n",
       "      <td>2</td>\n",
       "    </tr>\n",
       "  </tbody>\n",
       "</table>\n",
       "<p>13956 rows × 16 columns</p>\n",
       "</div>"
      ],
      "text/plain": [
       "       num_total_parts  num_invalid_loaded_parts  num_topologies  too_big  \\\n",
       "index                                                                       \n",
       "65538                2                         0             729    False   \n",
       "32771                2                         0             338    False   \n",
       "65539               10                         0            2253    False   \n",
       "65540                6                         0            3264    False   \n",
       "65542                7                         0            2979    False   \n",
       "...                ...                       ...             ...      ...   \n",
       "32757                5                         0             399    False   \n",
       "65525                2                         0             913    False   \n",
       "98293                8                         0             256    False   \n",
       "98294                3                         0             353    False   \n",
       "32763               11                         0            3439    False   \n",
       "\n",
       "       invalid_bbox    maxdim  num_normalized_parts_with_discrepancies  \\\n",
       "index                                                                    \n",
       "65538         False  0.192000                                        0   \n",
       "32771         False  0.150200                                        0   \n",
       "65539         False  0.295318                                        0   \n",
       "65540         False  0.106418                                        0   \n",
       "65542         False  0.325349                                        0   \n",
       "...             ...       ...                                      ...   \n",
       "32757         False  0.119538                                        0   \n",
       "65525         False  0.185000                                        0   \n",
       "98293         False  0.110968                                        0   \n",
       "98294         False  0.420000                                        0   \n",
       "32763         False  0.358775                                        0   \n",
       "\n",
       "       num_invalid_transformed_parts  initialized  num_degenerate_bboxes  \\\n",
       "index                                                                      \n",
       "65538                              0         True                      0   \n",
       "32771                              0         True                      0   \n",
       "65539                              0         True                      0   \n",
       "65540                              0         True                      0   \n",
       "65542                              0         True                      0   \n",
       "...                              ...          ...                    ...   \n",
       "32757                              0         True                      0   \n",
       "65525                              0         True                      0   \n",
       "98293                              0         True                      0   \n",
       "98294                              0         True                      0   \n",
       "32763                              0         True                      0   \n",
       "\n",
       "       num_unconnected_close  num_unconnected_coincident  \\\n",
       "index                                                      \n",
       "65538                      0                           0   \n",
       "32771                      0                           0   \n",
       "65539                      8                           1   \n",
       "65540                      3                           0   \n",
       "65542                      3                           2   \n",
       "...                      ...                         ...   \n",
       "32757                      0                           0   \n",
       "65525                      0                           0   \n",
       "98293                     10                           8   \n",
       "98294                      1                           0   \n",
       "32763                      3                           2   \n",
       "\n",
       "       num_unconnected_close_and_coincident  num_connected_far  \\\n",
       "index                                                            \n",
       "65538                                     0                  0   \n",
       "32771                                     0                  0   \n",
       "65539                                     1                  0   \n",
       "65540                                     0                  0   \n",
       "65542                                     2                  0   \n",
       "...                                     ...                ...   \n",
       "32757                                     0                  0   \n",
       "65525                                     0                  0   \n",
       "98293                                     8                  0   \n",
       "98294                                     0                  0   \n",
       "32763                                     2                  0   \n",
       "\n",
       "       num_connected_not_coincident  num_connected_far_or_not_coincident  \n",
       "index                                                                     \n",
       "65538                             0                                    0  \n",
       "32771                             1                                    1  \n",
       "65539                             3                                    3  \n",
       "65540                             2                                    2  \n",
       "65542                             2                                    2  \n",
       "...                             ...                                  ...  \n",
       "32757                             0                                    0  \n",
       "65525                             0                                    0  \n",
       "98293                             0                                    0  \n",
       "98294                             1                                    1  \n",
       "32763                             2                                    2  \n",
       "\n",
       "[13956 rows x 16 columns]"
      ]
     },
     "execution_count": 21,
     "metadata": {},
     "output_type": "execute_result"
    }
   ],
   "source": [
    "stats_df"
   ]
  },
  {
   "cell_type": "code",
   "execution_count": 22,
   "id": "d00005d8-8978-4976-be1b-bbdba94701ce",
   "metadata": {},
   "outputs": [],
   "source": [
    "#total assemblies\n",
    "no_connected_far = stats_df[lambda df: df['num_connected_far'] == 0].index\n",
    "has_unconnected_close = assemblies_fixed_simple.index\n",
    "no_connected_far_or_unconnected_close = no_connected_far.difference(has_unconnected_close)\n",
    "no_connected_far_and_has_unconnected_close = no_connected_far.intersection(has_unconnected_close)\n",
    "num_fixed = assemblies_fixed_simple.loc[no_connected_far_and_has_unconnected_close.intersection(assemblies_with_valid_mates)][lambda df: df].index\n",
    "\n",
    "final_assemblies = assemblies_with_valid_mates.intersection(no_connected_far_or_unconnected_close.union(num_fixed))\n",
    "final_assemblies_no_augment = assemblies_with_valid_mates.intersection(no_connected_far_or_unconnected_close)\n"
   ]
  },
  {
   "cell_type": "code",
   "execution_count": 41,
   "id": "61fc414f-8d21-48e2-bb1c-ff831f784697",
   "metadata": {},
   "outputs": [
    {
     "data": {
      "text/plain": [
       "True"
      ]
     },
     "execution_count": 41,
     "metadata": {},
     "output_type": "execute_result"
    }
   ],
   "source": [
    "assemblies_fixed_simple.loc[list(diffset)[0]]"
   ]
  },
  {
   "cell_type": "code",
   "execution_count": 44,
   "id": "66270fdd-cf6f-434e-84f8-dc5b6e0f7628",
   "metadata": {},
   "outputs": [
    {
     "data": {
      "text/plain": [
       "part1                 MAogYFPNLw9bj4l7W\n",
       "part2                 MLdytvojNSB1cP4t9\n",
       "num_dir_proposals                     1\n",
       "num_axes_proposals                    1\n",
       "added_mate                         True\n",
       "PIN_SLOT                              0\n",
       "BALL                                  0\n",
       "PARALLEL                              0\n",
       "SLIDER                                1\n",
       "REVOLUTE                              0\n",
       "CYLINDRICAL                           0\n",
       "PLANAR                                0\n",
       "FASTENED                              1\n",
       "chain_length                          2\n",
       "axis                  [-0.0, 1.0, -0.0]\n",
       "origin                             None\n",
       "type                             SLIDER\n",
       "axis_index                            0\n",
       "dir_index                            -1\n",
       "Name: 36870, dtype: object"
      ]
     },
     "execution_count": 44,
     "metadata": {},
     "output_type": "execute_result"
    }
   ],
   "source": [
    "newmates_proposedonly.set_index('Assembly').loc[list(diffset)[0]]"
   ]
  },
  {
   "cell_type": "code",
   "execution_count": 23,
   "id": "56a1850f-a1f0-414f-a3f4-5c14b00c6251",
   "metadata": {},
   "outputs": [
    {
     "data": {
      "text/plain": [
       "0.6300992282249173"
      ]
     },
     "execution_count": 23,
     "metadata": {},
     "output_type": "execute_result"
    }
   ],
   "source": [
    "len(assemblies_fixed_simple.loc[no_connected_far_and_has_unconnected_close][lambda df: df].index)/len(no_connected_far_and_has_unconnected_close)"
   ]
  },
  {
   "cell_type": "code",
   "execution_count": 24,
   "id": "f8c799e5-cba2-4385-826f-1ed9964967ff",
   "metadata": {},
   "outputs": [
    {
     "data": {
      "text/plain": [
       "6448"
      ]
     },
     "execution_count": 24,
     "metadata": {},
     "output_type": "execute_result"
    }
   ],
   "source": [
    "len(no_connected_far.intersection(assemblies_with_valid_mates).difference(has_unconnected_close))"
   ]
  },
  {
   "cell_type": "code",
   "execution_count": 25,
   "id": "0422e9d9-bca8-4549-b043-f93a32e5a215",
   "metadata": {},
   "outputs": [
    {
     "data": {
      "text/plain": [
       "9765"
      ]
     },
     "execution_count": 25,
     "metadata": {},
     "output_type": "execute_result"
    }
   ],
   "source": [
    "len(final_assemblies)"
   ]
  },
  {
   "cell_type": "code",
   "execution_count": 26,
   "id": "9eb5ec7f-0e00-4933-aed0-c0c876cdd5e2",
   "metadata": {},
   "outputs": [
    {
     "data": {
      "text/plain": [
       "6448"
      ]
     },
     "execution_count": 26,
     "metadata": {},
     "output_type": "execute_result"
    }
   ],
   "source": [
    "len(final_assemblies_no_augment)"
   ]
  },
  {
   "cell_type": "code",
   "execution_count": 27,
   "id": "553190a0-8ce6-40e0-9d2b-08b611f88996",
   "metadata": {},
   "outputs": [
    {
     "data": {
      "text/plain": [
       "0.9978743906586555"
      ]
     },
     "execution_count": 27,
     "metadata": {},
     "output_type": "execute_result"
    }
   ],
   "source": [
    "mate_check_df[lambda df: df['type'] == 'FASTENED']['axes_agree'].sum()/mate_check_df[lambda df: df['type'] == 'FASTENED'].shape[0]"
   ]
  },
  {
   "cell_type": "code",
   "execution_count": 28,
   "id": "c70fde69-5013-4a0b-921f-a76b2b745244",
   "metadata": {},
   "outputs": [
    {
     "data": {
      "text/html": [
       "<div>\n",
       "<style scoped>\n",
       "    .dataframe tbody tr th:only-of-type {\n",
       "        vertical-align: middle;\n",
       "    }\n",
       "\n",
       "    .dataframe tbody tr th {\n",
       "        vertical-align: top;\n",
       "    }\n",
       "\n",
       "    .dataframe thead th {\n",
       "        text-align: right;\n",
       "    }\n",
       "</style>\n",
       "<table border=\"1\" class=\"dataframe\">\n",
       "  <thead>\n",
       "    <tr style=\"text-align: right;\">\n",
       "      <th></th>\n",
       "      <th>valid</th>\n",
       "    </tr>\n",
       "    <tr>\n",
       "      <th>type</th>\n",
       "      <th></th>\n",
       "    </tr>\n",
       "  </thead>\n",
       "  <tbody>\n",
       "    <tr>\n",
       "      <th>CYLINDRICAL</th>\n",
       "      <td>0.990202</td>\n",
       "    </tr>\n",
       "    <tr>\n",
       "      <th>FASTENED</th>\n",
       "      <td>1.000000</td>\n",
       "    </tr>\n",
       "    <tr>\n",
       "      <th>REVOLUTE</th>\n",
       "      <td>0.968313</td>\n",
       "    </tr>\n",
       "    <tr>\n",
       "      <th>SLIDER</th>\n",
       "      <td>0.971629</td>\n",
       "    </tr>\n",
       "  </tbody>\n",
       "</table>\n",
       "</div>"
      ],
      "text/plain": [
       "                valid\n",
       "type                 \n",
       "CYLINDRICAL  0.990202\n",
       "FASTENED     1.000000\n",
       "REVOLUTE     0.968313\n",
       "SLIDER       0.971629"
      ]
     },
     "execution_count": 28,
     "metadata": {},
     "output_type": "execute_result"
    }
   ],
   "source": [
    "mate_check_df.groupby('type').agg({'valid':sum})/mate_check_df.groupby('type').agg({'valid':'count'})"
   ]
  },
  {
   "cell_type": "code",
   "execution_count": 1002,
   "id": "287b825c-3f97-43a2-81a0-151017c36437",
   "metadata": {},
   "outputs": [
    {
     "data": {
      "text/plain": [
       "Int64Index([   9461,   66006,  151181,  409609,  426493,  434354,  469568,\n",
       "             513137,  523966,  531786,  548662,  564436,  586739,  687175,\n",
       "             688068,  719198,  753016,  788951,  807689,  916919, 1009107,\n",
       "            1059176, 1080379, 1133077, 1141170, 1167601, 1183491, 1208910,\n",
       "            1233456, 1236994, 1359275, 1371873, 1380733, 1401493, 1403535,\n",
       "            1416314, 1431322, 1510611, 1524139, 1540270, 1557112, 1589111,\n",
       "            1629295, 1650545, 1655342, 1656907, 1726252, 1748809, 1752820,\n",
       "            1810844],\n",
       "           dtype='int64', name='index')"
      ]
     },
     "execution_count": 1002,
     "metadata": {},
     "output_type": "execute_result"
    }
   ],
   "source": [
    "mate_check_df[lambda df: (df['type'] == 'FASTENED') & ~df['axes_agree']]['Assembly'].drop_duplicates().index"
   ]
  },
  {
   "cell_type": "code",
   "execution_count": 1004,
   "id": "3c6e5439-9522-4547-ab27-a4e80b8569b7",
   "metadata": {},
   "outputs": [
    {
     "data": {
      "text/plain": [
       "Int64Index([], dtype='int64')"
      ]
     },
     "execution_count": 1004,
     "metadata": {},
     "output_type": "execute_result"
    }
   ],
   "source": [
    "mate_check_df[lambda df: (df['type'] == 'SLIDER') & df['valid'] & ~df['axes_agree']]['Assembly'].drop_duplicates().index.intersection(final_assemblies)"
   ]
  },
  {
   "cell_type": "markdown",
   "id": "b9df73ee-d849-4eae-ab5d-f9a78556bd47",
   "metadata": {},
   "source": [
    "## amend number of false positives based on shared axes"
   ]
  },
  {
   "cell_type": "code",
   "execution_count": 157,
   "id": "36711bf9-dc2e-4bb6-bd7b-eccddee5bb73",
   "metadata": {},
   "outputs": [],
   "source": [
    "name = '/fast/jamesn8/assembly_data/assembly_data_with_transforms_all.h5'\n",
    "part_df_updated = ps.read_hdf(name+'_segmentation.h5','part')"
   ]
  },
  {
   "cell_type": "code",
   "execution_count": 1232,
   "id": "d3064fd4-7b2f-4e27-a439-f41faa82a3c0",
   "metadata": {},
   "outputs": [],
   "source": [
    "part_df_by_ass = part_df_updated.set_index('Assembly')"
   ]
  },
  {
   "cell_type": "code",
   "execution_count": 1233,
   "id": "98e98064-890b-47f1-bc45-c53c762c908b",
   "metadata": {},
   "outputs": [],
   "source": [
    "newmates_proposedonly_filtered = newmates_proposedonly[lambda df: [a in simple_valid_indices for a in df['Assembly']]]"
   ]
  },
  {
   "cell_type": "code",
   "execution_count": 1234,
   "id": "64956dcf-51b6-4b0e-8bd0-47394c4db5fe",
   "metadata": {},
   "outputs": [],
   "source": [
    "newmates_proposedonly_filtered['proposal_id'] = newmates_proposedonly_filtered.index\n",
    "newmates_proposedonly_filtered.set_index('Assembly', inplace=True)"
   ]
  },
  {
   "cell_type": "code",
   "execution_count": 1235,
   "id": "fae43220-b3e3-4505-99b3-0dcc4dd2bb7a",
   "metadata": {
    "tags": []
   },
   "outputs": [
    {
     "name": "stdout",
     "output_type": "stream",
     "text": [
      "processed 0\n",
      "processed 100\n",
      "processed 200\n",
      "processed 300\n",
      "processed 400\n",
      "processed 500\n",
      "processed 600\n",
      "processed 700\n",
      "processed 800\n",
      "processed 900\n",
      "processed 1000\n",
      "processed 1100\n",
      "processed 1200\n",
      "processed 1300\n",
      "processed 1400\n",
      "processed 1500\n",
      "processed 1600\n",
      "processed 1700\n",
      "processed 1800\n",
      "processed 1900\n",
      "processed 2000\n",
      "processed 2100\n",
      "processed 2200\n",
      "processed 2300\n",
      "processed 2400\n",
      "processed 2500\n",
      "processed 2600\n",
      "processed 2700\n",
      "processed 2800\n",
      "processed 2900\n",
      "processed 3000\n",
      "processed 3100\n",
      "processed 3200\n",
      "processed 3300\n",
      "processed 3400\n",
      "processed 3500\n",
      "processed 3600\n",
      "processed 3700\n",
      "processed 3800\n",
      "processed 3900\n",
      "processed 4000\n",
      "processed 4100\n",
      "processed 4200\n",
      "processed 4300\n",
      "processed 4400\n",
      "processed 4500\n",
      "processed 4600\n",
      "processed 4700\n",
      "processed 4800\n",
      "processed 4900\n",
      "processed 5000\n",
      "processed 5100\n",
      "processed 5200\n",
      "processed 5300\n",
      "processed 5400\n",
      "processed 5500\n",
      "processed 5600\n",
      "processed 5700\n",
      "processed 5800\n",
      "processed 5900\n",
      "processed 6000\n",
      "processed 6100\n"
     ]
    }
   ],
   "source": [
    "proposal_indices_without_shared_axes = []\n",
    "for j,ass in enumerate(newmates_proposedonly_filtered.index.unique()):\n",
    "    if j % 100 == 0:\n",
    "        print(f'processed {j}')\n",
    "    proposal_subset = newmates_proposedonly_filtered.loc[ass]\n",
    "    part_subset = part_df_by_ass.loc[ass]\n",
    "    if part_subset.ndim == 1:\n",
    "        part_subset = ps.DataFrame([part_subset], columns=part_subset.keys())\n",
    "    if proposal_subset.ndim == 1:\n",
    "        proposal_subset = ps.DataFrame([proposal_subset], columns=proposal_subset.keys())\n",
    "    part_subset = part_subset['PartOccurrenceID']\n",
    "\n",
    "    occ_pairs = set()\n",
    "    with h5py.File(f'/fast/jamesn8/assembly_data/assembly_torch2_fixsize/mc_data/{ass}.hdf5','r') as f:\n",
    "        for key in f['pair_data'].keys():\n",
    "            pair = tuple([int(l) for l in key.split(',')])\n",
    "            occ_pairs.add(tuple(sorted([part_subset.iloc[l] for l in pair])))\n",
    "    \n",
    "    for i in range(proposal_subset.shape[0]):\n",
    "        if tuple(sorted([proposal_subset.iloc[i][k] for k in ['part1','part2']])) not in occ_pairs:\n",
    "            proposal_indices_without_shared_axes.append(proposal_subset.iloc[i]['proposal_id'])\n"
   ]
  },
  {
   "cell_type": "code",
   "execution_count": 1236,
   "id": "7bb8132b-29d0-41e8-9482-fb5595f3fd8e",
   "metadata": {},
   "outputs": [
    {
     "data": {
      "text/plain": [
       "0"
      ]
     },
     "execution_count": 1236,
     "metadata": {},
     "output_type": "execute_result"
    }
   ],
   "source": [
    "len(proposal_indices_without_shared_axes)"
   ]
  },
  {
   "cell_type": "code",
   "execution_count": 1238,
   "id": "7a794467-e9bc-4769-8160-e03324184cfd",
   "metadata": {},
   "outputs": [],
   "source": [
    "unsaved_mates = newmates_proposedonly_filtered[lambda df: ~df['added_mate']]\n",
    "#unsaved_mates = unsaved_mates.loc[unsaved_mates.index.difference(proposal_indices_without_shared_axes)]"
   ]
  },
  {
   "cell_type": "code",
   "execution_count": 1241,
   "id": "d76600f7-766d-46ba-a490-dcbb7fe75068",
   "metadata": {},
   "outputs": [],
   "source": [
    "unsaved_assemblies = set(unsaved_mates.index.unique()).intersection(no_connected_far)"
   ]
  },
  {
   "cell_type": "code",
   "execution_count": 1242,
   "id": "91033f14-83cf-45cd-bbf3-937d1e54974c",
   "metadata": {},
   "outputs": [
    {
     "data": {
      "text/plain": [
       "2013"
      ]
     },
     "execution_count": 1242,
     "metadata": {},
     "output_type": "execute_result"
    }
   ],
   "source": [
    "len(unsaved_assemblies)"
   ]
  },
  {
   "cell_type": "code",
   "execution_count": 1246,
   "id": "44f43568-ecaa-47c9-b93c-f0c7448f6122",
   "metadata": {},
   "outputs": [
    {
     "data": {
      "text/plain": [
       "(2013,)"
      ]
     },
     "execution_count": 1246,
     "metadata": {},
     "output_type": "execute_result"
    }
   ],
   "source": [
    "num_unfixed = assemblies_fixed_simple.loc[no_connected_far_and_has_unconnected_close][lambda df: ~df].index\n",
    "num_unfixed.shape"
   ]
  },
  {
   "cell_type": "code",
   "execution_count": 1247,
   "id": "bda7a48f-08e5-427c-912d-1b6ce82d22b8",
   "metadata": {},
   "outputs": [
    {
     "data": {
      "text/plain": [
       "65539     True\n",
       "65540    False\n",
       "65542    False\n",
       "19        True\n",
       "98322    False\n",
       "         ...  \n",
       "65476    False\n",
       "32714     True\n",
       "65492     True\n",
       "98293    False\n",
       "32763    False\n",
       "Name: added_mate, Length: 5442, dtype: bool"
      ]
     },
     "execution_count": 1247,
     "metadata": {},
     "output_type": "execute_result"
    }
   ],
   "source": [
    "assemblies_fixed_simple.loc[no_connected_far_and_has_unconnected_close]"
   ]
  },
  {
   "cell_type": "code",
   "execution_count": 1244,
   "id": "fc6e2a62-3ceb-48e8-b049-85431c691f48",
   "metadata": {},
   "outputs": [
    {
     "data": {
      "text/plain": [
       "0"
      ]
     },
     "execution_count": 1244,
     "metadata": {},
     "output_type": "execute_result"
    }
   ],
   "source": [
    "num_rescued_assemblies = num_unfixed.shape[0] - len(unsaved_assemblies)\n",
    "num_rescued_assemblies"
   ]
  },
  {
   "cell_type": "code",
   "execution_count": 891,
   "id": "6bcb19f2-fc8b-4743-add5-083ca66d96bb",
   "metadata": {},
   "outputs": [],
   "source": [
    "better_final_assemblies = final_assemblies.union(num_unfixed.difference(unsaved_assemblies))"
   ]
  },
  {
   "cell_type": "code",
   "execution_count": 892,
   "id": "fc7fe237-6ef0-4d5b-8944-ed84b6d90116",
   "metadata": {},
   "outputs": [
    {
     "data": {
      "text/plain": [
       "10400"
      ]
     },
     "execution_count": 892,
     "metadata": {},
     "output_type": "execute_result"
    }
   ],
   "source": [
    "len(better_final_assemblies)"
   ]
  },
  {
   "cell_type": "code",
   "execution_count": 499,
   "id": "220ef74b-f5ae-446f-8838-4747bdc9db05",
   "metadata": {},
   "outputs": [],
   "source": [
    "f=h5py.File(f'/fast/jamesn8/assembly_data/assembly_torch2_fixsize/mc_data/{ass}.hdf5','r')"
   ]
  },
  {
   "cell_type": "code",
   "execution_count": 502,
   "id": "610fd15d-a1b4-4b2e-a7b2-2a514c819b8e",
   "metadata": {},
   "outputs": [
    {
     "data": {
      "text/plain": [
       "1"
      ]
     },
     "execution_count": 502,
     "metadata": {},
     "output_type": "execute_result"
    }
   ],
   "source": [
    "len(f['pair_data'][key]['axes']['0']['values'])"
   ]
  },
  {
   "cell_type": "code",
   "execution_count": 496,
   "id": "46d2104a-6757-422e-9174-af3aa321ff19",
   "metadata": {},
   "outputs": [],
   "source": [
    "rows = []\n",
    "for ass in final_assemblies:\n",
    "    with h5py.File(f'/fast/jamesn8/assembly_data/assembly_torch2_fixsize/mc_data/{ass}.hdf5','r') as f:\n",
    "        for key in f['pair_data']:\n",
    "            pair = tuple(sorted([int(l) for l in key.split(',')]))\n",
    "            num_axes=sum(len(f['pair_data'][key]['axes'][ax]['indices']) for ax in f['pair_data'][key]['axes'].keys())\n",
    "            num_dirs=len(f['pair_data'][key]['dirs']['indices'])\n",
    "            row = {'part1':pair[0],'part2':pair[1],'assembly':ass,'num_axes':num_axes,'num_dirs':num_dirs}\n",
    "            rows.append(row)\n",
    "\n",
    "axes_df = ps.DataFrame(rows)"
   ]
  },
  {
   "cell_type": "code",
   "execution_count": 503,
   "id": "aad59cc0-6e05-43f7-9fe5-2bd0cada516b",
   "metadata": {},
   "outputs": [
    {
     "data": {
      "text/plain": [
       "<AxesSubplot:>"
      ]
     },
     "execution_count": 503,
     "metadata": {},
     "output_type": "execute_result"
    },
    {
     "data": {
      "image/png": "[encoded data removed]",
      "text/plain": [
       "<Figure size 432x288 with 1 Axes>"
      ]
     },
     "metadata": {
      "needs_background": "light"
     },
     "output_type": "display_data"
    }
   ],
   "source": [
    "axes_df['num_axes'].hist()"
   ]
  },
  {
   "cell_type": "code",
   "execution_count": 504,
   "id": "330632ed-cddd-4ea5-9a96-5a86687feaed",
   "metadata": {},
   "outputs": [
    {
     "data": {
      "text/plain": [
       "<AxesSubplot:>"
      ]
     },
     "execution_count": 504,
     "metadata": {},
     "output_type": "execute_result"
    },
    {
     "data": {
      "image/png": "[encoded data removed]",
      "text/plain": [
       "<Figure size 432x288 with 1 Axes>"
      ]
     },
     "metadata": {
      "needs_background": "light"
     },
     "output_type": "display_data"
    }
   ],
   "source": [
    "axes_df['num_axes'][lambda df: df < 100].hist()"
   ]
  },
  {
   "cell_type": "code",
   "execution_count": 1434,
   "id": "1df4a041-aeb6-4ac1-b146-ecbf5543a025",
   "metadata": {},
   "outputs": [
    {
     "ename": "NameError",
     "evalue": "name 'axes_df' is not defined",
     "output_type": "error",
     "traceback": [
      "\u001b[0;31m---------------------------------------------------------------------------\u001b[0m",
      "\u001b[0;31mNameError\u001b[0m                                 Traceback (most recent call last)",
      "\u001b[0;32m/tmp/ipykernel_32663/1727286650.py\u001b[0m in \u001b[0;36m<module>\u001b[0;34m\u001b[0m\n\u001b[0;32m----> 1\u001b[0;31m \u001b[0maxes_df\u001b[0m\u001b[0;34m[\u001b[0m\u001b[0;34m'num_axes'\u001b[0m\u001b[0;34m]\u001b[0m\u001b[0;34m[\u001b[0m\u001b[0;32mlambda\u001b[0m \u001b[0mdf\u001b[0m\u001b[0;34m:\u001b[0m \u001b[0mdf\u001b[0m \u001b[0;34m<\u001b[0m \u001b[0;36m10\u001b[0m\u001b[0;34m]\u001b[0m\u001b[0;34m.\u001b[0m\u001b[0mhist\u001b[0m\u001b[0;34m(\u001b[0m\u001b[0;34m)\u001b[0m\u001b[0;34m\u001b[0m\u001b[0;34m\u001b[0m\u001b[0m\n\u001b[0m",
      "\u001b[0;31mNameError\u001b[0m: name 'axes_df' is not defined"
     ]
    }
   ],
   "source": [
    "axes_df['num_axes'][lambda df: df < 10].hist()"
   ]
  },
  {
   "cell_type": "code",
   "execution_count": 505,
   "id": "d9eb5d29-e13f-47a6-a4f7-6fb8125b48e3",
   "metadata": {},
   "outputs": [
    {
     "data": {
      "text/plain": [
       "<AxesSubplot:>"
      ]
     },
     "execution_count": 505,
     "metadata": {},
     "output_type": "execute_result"
    },
    {
     "data": {
      "image/png": "[encoded data removed]",
      "text/plain": [
       "<Figure size 432x288 with 1 Axes>"
      ]
     },
     "metadata": {
      "needs_background": "light"
     },
     "output_type": "display_data"
    }
   ],
   "source": [
    "axes_df['num_dirs'].hist()"
   ]
  },
  {
   "cell_type": "code",
   "execution_count": 485,
   "id": "a7b0961d-6fb7-4998-b67d-d17449db09f9",
   "metadata": {},
   "outputs": [],
   "source": [
    "assembly_df = ps.read_hdf('/fast/jamesn8/assembly_data/assembly_data_with_transforms_all.h5','assembly')"
   ]
  },
  {
   "cell_type": "code",
   "execution_count": 507,
   "id": "6f56d919-3bd7-478e-a5d8-206e7e811da3",
   "metadata": {},
   "outputs": [
    {
     "data": {
      "text/plain": [
       "<AxesSubplot:>"
      ]
     },
     "execution_count": 507,
     "metadata": {},
     "output_type": "execute_result"
    },
    {
     "data": {
      "image/png": "[encoded data removed]",
      "text/plain": [
       "<Figure size 432x288 with 1 Axes>"
      ]
     },
     "metadata": {
      "needs_background": "light"
     },
     "output_type": "display_data"
    }
   ],
   "source": [
    "assembly_df.loc[better_final_assemblies,'NumParts'][lambda df: df < 20].hist()"
   ]
  },
  {
   "cell_type": "markdown",
   "id": "5faec7c1-9b7a-41d5-99ca-d38e59b83a46",
   "metadata": {},
   "source": [
    "## Validating mates using our chain heuristic and rigid component motions"
   ]
  },
  {
   "cell_type": "code",
   "execution_count": 3,
   "id": "77666945-6255-4546-8950-8af9913b3960",
   "metadata": {},
   "outputs": [],
   "source": [
    "mate_validate_df = ps.read_hdf('/fast/jamesn8/assembly_data/assembly_torch2_fixsize/stats_validate_mates/mate_stats_all.h5','mates')"
   ]
  },
  {
   "cell_type": "code",
   "execution_count": 4,
   "id": "ca431669-a90b-464a-8043-55aeaf8f8b07",
   "metadata": {},
   "outputs": [
    {
     "data": {
      "text/html": [
       "<div>\n",
       "<style scoped>\n",
       "    .dataframe tbody tr th:only-of-type {\n",
       "        vertical-align: middle;\n",
       "    }\n",
       "\n",
       "    .dataframe tbody tr th {\n",
       "        vertical-align: top;\n",
       "    }\n",
       "\n",
       "    .dataframe thead th {\n",
       "        text-align: right;\n",
       "    }\n",
       "</style>\n",
       "<table border=\"1\" class=\"dataframe\">\n",
       "  <thead>\n",
       "    <tr style=\"text-align: right;\">\n",
       "      <th></th>\n",
       "      <th>Assembly</th>\n",
       "      <th>dir_index</th>\n",
       "      <th>axis_index</th>\n",
       "      <th>type</th>\n",
       "      <th>dirs_agree</th>\n",
       "      <th>axes_agree</th>\n",
       "      <th>valid</th>\n",
       "      <th>has_alt_path</th>\n",
       "      <th>chain_length</th>\n",
       "      <th>alternate_axis</th>\n",
       "      <th>...</th>\n",
       "      <th>alternate_type</th>\n",
       "      <th>feasible</th>\n",
       "      <th>PIN_SLOT</th>\n",
       "      <th>BALL</th>\n",
       "      <th>PARALLEL</th>\n",
       "      <th>SLIDER</th>\n",
       "      <th>REVOLUTE</th>\n",
       "      <th>CYLINDRICAL</th>\n",
       "      <th>PLANAR</th>\n",
       "      <th>FASTENED</th>\n",
       "    </tr>\n",
       "  </thead>\n",
       "  <tbody>\n",
       "    <tr>\n",
       "      <th>1479</th>\n",
       "      <td>65</td>\n",
       "      <td>0</td>\n",
       "      <td>-1</td>\n",
       "      <td>SLIDER</td>\n",
       "      <td>True</td>\n",
       "      <td>True</td>\n",
       "      <td>True</td>\n",
       "      <td>True</td>\n",
       "      <td>2</td>\n",
       "      <td>[-2.9380868874481073e-15, 0.9999999999999925, ...</td>\n",
       "      <td>...</td>\n",
       "      <td></td>\n",
       "      <td>False</td>\n",
       "      <td>0.0</td>\n",
       "      <td>0.0</td>\n",
       "      <td>0.0</td>\n",
       "      <td>0.0</td>\n",
       "      <td>2.0</td>\n",
       "      <td>0.0</td>\n",
       "      <td>0.0</td>\n",
       "      <td>0.0</td>\n",
       "    </tr>\n",
       "    <tr>\n",
       "      <th>1480</th>\n",
       "      <td>65</td>\n",
       "      <td>-1</td>\n",
       "      <td>0</td>\n",
       "      <td>REVOLUTE</td>\n",
       "      <td>True</td>\n",
       "      <td>True</td>\n",
       "      <td>True</td>\n",
       "      <td>True</td>\n",
       "      <td>2</td>\n",
       "      <td>[1.0, -0.0, -0.0]</td>\n",
       "      <td>...</td>\n",
       "      <td></td>\n",
       "      <td>False</td>\n",
       "      <td>0.0</td>\n",
       "      <td>0.0</td>\n",
       "      <td>0.0</td>\n",
       "      <td>1.0</td>\n",
       "      <td>1.0</td>\n",
       "      <td>0.0</td>\n",
       "      <td>0.0</td>\n",
       "      <td>0.0</td>\n",
       "    </tr>\n",
       "    <tr>\n",
       "      <th>1481</th>\n",
       "      <td>65</td>\n",
       "      <td>-1</td>\n",
       "      <td>0</td>\n",
       "      <td>REVOLUTE</td>\n",
       "      <td>True</td>\n",
       "      <td>True</td>\n",
       "      <td>True</td>\n",
       "      <td>True</td>\n",
       "      <td>2</td>\n",
       "      <td>[1.0, -0.0, -0.0]</td>\n",
       "      <td>...</td>\n",
       "      <td></td>\n",
       "      <td>False</td>\n",
       "      <td>0.0</td>\n",
       "      <td>0.0</td>\n",
       "      <td>0.0</td>\n",
       "      <td>1.0</td>\n",
       "      <td>1.0</td>\n",
       "      <td>0.0</td>\n",
       "      <td>0.0</td>\n",
       "      <td>0.0</td>\n",
       "    </tr>\n",
       "    <tr>\n",
       "      <th>1482</th>\n",
       "      <td>65</td>\n",
       "      <td>-1</td>\n",
       "      <td>0</td>\n",
       "      <td>REVOLUTE</td>\n",
       "      <td>True</td>\n",
       "      <td>True</td>\n",
       "      <td>True</td>\n",
       "      <td>True</td>\n",
       "      <td>2</td>\n",
       "      <td>[-2.9380868874481073e-15, 0.9999999999999925, ...</td>\n",
       "      <td>...</td>\n",
       "      <td></td>\n",
       "      <td>False</td>\n",
       "      <td>0.0</td>\n",
       "      <td>0.0</td>\n",
       "      <td>0.0</td>\n",
       "      <td>1.0</td>\n",
       "      <td>1.0</td>\n",
       "      <td>0.0</td>\n",
       "      <td>0.0</td>\n",
       "      <td>0.0</td>\n",
       "    </tr>\n",
       "    <tr>\n",
       "      <th>2215</th>\n",
       "      <td>106</td>\n",
       "      <td>-1</td>\n",
       "      <td>-1</td>\n",
       "      <td>FASTENED</td>\n",
       "      <td>True</td>\n",
       "      <td>True</td>\n",
       "      <td>True</td>\n",
       "      <td>True</td>\n",
       "      <td>5</td>\n",
       "      <td>[1.0000000000000144, -0.0, 4.8572257327351585e...</td>\n",
       "      <td>...</td>\n",
       "      <td>SLIDER</td>\n",
       "      <td>True</td>\n",
       "      <td>0.0</td>\n",
       "      <td>0.0</td>\n",
       "      <td>0.0</td>\n",
       "      <td>2.0</td>\n",
       "      <td>0.0</td>\n",
       "      <td>0.0</td>\n",
       "      <td>0.0</td>\n",
       "      <td>3.0</td>\n",
       "    </tr>\n",
       "    <tr>\n",
       "      <th>...</th>\n",
       "      <td>...</td>\n",
       "      <td>...</td>\n",
       "      <td>...</td>\n",
       "      <td>...</td>\n",
       "      <td>...</td>\n",
       "      <td>...</td>\n",
       "      <td>...</td>\n",
       "      <td>...</td>\n",
       "      <td>...</td>\n",
       "      <td>...</td>\n",
       "      <td>...</td>\n",
       "      <td>...</td>\n",
       "      <td>...</td>\n",
       "      <td>...</td>\n",
       "      <td>...</td>\n",
       "      <td>...</td>\n",
       "      <td>...</td>\n",
       "      <td>...</td>\n",
       "      <td>...</td>\n",
       "      <td>...</td>\n",
       "      <td>...</td>\n",
       "    </tr>\n",
       "    <tr>\n",
       "      <th>1881194</th>\n",
       "      <td>125005</td>\n",
       "      <td>-1</td>\n",
       "      <td>1</td>\n",
       "      <td>REVOLUTE</td>\n",
       "      <td>True</td>\n",
       "      <td>True</td>\n",
       "      <td>True</td>\n",
       "      <td>True</td>\n",
       "      <td>3</td>\n",
       "      <td>[-0.0, 1.0, -0.0]</td>\n",
       "      <td>...</td>\n",
       "      <td></td>\n",
       "      <td>False</td>\n",
       "      <td>0.0</td>\n",
       "      <td>0.0</td>\n",
       "      <td>0.0</td>\n",
       "      <td>2.0</td>\n",
       "      <td>1.0</td>\n",
       "      <td>0.0</td>\n",
       "      <td>0.0</td>\n",
       "      <td>0.0</td>\n",
       "    </tr>\n",
       "    <tr>\n",
       "      <th>1881195</th>\n",
       "      <td>125005</td>\n",
       "      <td>-1</td>\n",
       "      <td>0</td>\n",
       "      <td>REVOLUTE</td>\n",
       "      <td>True</td>\n",
       "      <td>True</td>\n",
       "      <td>True</td>\n",
       "      <td>True</td>\n",
       "      <td>3</td>\n",
       "      <td>[-0.0, 1.0, -0.0]</td>\n",
       "      <td>...</td>\n",
       "      <td></td>\n",
       "      <td>False</td>\n",
       "      <td>0.0</td>\n",
       "      <td>0.0</td>\n",
       "      <td>0.0</td>\n",
       "      <td>2.0</td>\n",
       "      <td>1.0</td>\n",
       "      <td>0.0</td>\n",
       "      <td>0.0</td>\n",
       "      <td>0.0</td>\n",
       "    </tr>\n",
       "    <tr>\n",
       "      <th>1881196</th>\n",
       "      <td>125005</td>\n",
       "      <td>-1</td>\n",
       "      <td>4</td>\n",
       "      <td>REVOLUTE</td>\n",
       "      <td>True</td>\n",
       "      <td>True</td>\n",
       "      <td>True</td>\n",
       "      <td>True</td>\n",
       "      <td>2</td>\n",
       "      <td>[1.0, -1.2620071991558002e-29, 5.8888629282852...</td>\n",
       "      <td>...</td>\n",
       "      <td></td>\n",
       "      <td>False</td>\n",
       "      <td>0.0</td>\n",
       "      <td>0.0</td>\n",
       "      <td>0.0</td>\n",
       "      <td>1.0</td>\n",
       "      <td>1.0</td>\n",
       "      <td>0.0</td>\n",
       "      <td>0.0</td>\n",
       "      <td>0.0</td>\n",
       "    </tr>\n",
       "    <tr>\n",
       "      <th>1881197</th>\n",
       "      <td>125005</td>\n",
       "      <td>-1</td>\n",
       "      <td>1</td>\n",
       "      <td>REVOLUTE</td>\n",
       "      <td>True</td>\n",
       "      <td>True</td>\n",
       "      <td>True</td>\n",
       "      <td>True</td>\n",
       "      <td>2</td>\n",
       "      <td>[1.0, -1.209291745855901e-25, -1.7189038031137...</td>\n",
       "      <td>...</td>\n",
       "      <td></td>\n",
       "      <td>False</td>\n",
       "      <td>0.0</td>\n",
       "      <td>0.0</td>\n",
       "      <td>0.0</td>\n",
       "      <td>0.0</td>\n",
       "      <td>2.0</td>\n",
       "      <td>0.0</td>\n",
       "      <td>0.0</td>\n",
       "      <td>0.0</td>\n",
       "    </tr>\n",
       "    <tr>\n",
       "      <th>1881198</th>\n",
       "      <td>125005</td>\n",
       "      <td>-1</td>\n",
       "      <td>0</td>\n",
       "      <td>REVOLUTE</td>\n",
       "      <td>True</td>\n",
       "      <td>True</td>\n",
       "      <td>True</td>\n",
       "      <td>True</td>\n",
       "      <td>2</td>\n",
       "      <td>[1.0, -1.209291745855901e-25, -1.7189038031137...</td>\n",
       "      <td>...</td>\n",
       "      <td></td>\n",
       "      <td>False</td>\n",
       "      <td>0.0</td>\n",
       "      <td>0.0</td>\n",
       "      <td>0.0</td>\n",
       "      <td>0.0</td>\n",
       "      <td>2.0</td>\n",
       "      <td>0.0</td>\n",
       "      <td>0.0</td>\n",
       "      <td>0.0</td>\n",
       "    </tr>\n",
       "  </tbody>\n",
       "</table>\n",
       "<p>13656 rows × 21 columns</p>\n",
       "</div>"
      ],
      "text/plain": [
       "         Assembly  dir_index  axis_index      type  dirs_agree  axes_agree  \\\n",
       "1479           65          0          -1    SLIDER        True        True   \n",
       "1480           65         -1           0  REVOLUTE        True        True   \n",
       "1481           65         -1           0  REVOLUTE        True        True   \n",
       "1482           65         -1           0  REVOLUTE        True        True   \n",
       "2215          106         -1          -1  FASTENED        True        True   \n",
       "...           ...        ...         ...       ...         ...         ...   \n",
       "1881194    125005         -1           1  REVOLUTE        True        True   \n",
       "1881195    125005         -1           0  REVOLUTE        True        True   \n",
       "1881196    125005         -1           4  REVOLUTE        True        True   \n",
       "1881197    125005         -1           1  REVOLUTE        True        True   \n",
       "1881198    125005         -1           0  REVOLUTE        True        True   \n",
       "\n",
       "         valid  has_alt_path  chain_length  \\\n",
       "1479      True          True             2   \n",
       "1480      True          True             2   \n",
       "1481      True          True             2   \n",
       "1482      True          True             2   \n",
       "2215      True          True             5   \n",
       "...        ...           ...           ...   \n",
       "1881194   True          True             3   \n",
       "1881195   True          True             3   \n",
       "1881196   True          True             2   \n",
       "1881197   True          True             2   \n",
       "1881198   True          True             2   \n",
       "\n",
       "                                            alternate_axis  ...  \\\n",
       "1479     [-2.9380868874481073e-15, 0.9999999999999925, ...  ...   \n",
       "1480                                     [1.0, -0.0, -0.0]  ...   \n",
       "1481                                     [1.0, -0.0, -0.0]  ...   \n",
       "1482     [-2.9380868874481073e-15, 0.9999999999999925, ...  ...   \n",
       "2215     [1.0000000000000144, -0.0, 4.8572257327351585e...  ...   \n",
       "...                                                    ...  ...   \n",
       "1881194                                  [-0.0, 1.0, -0.0]  ...   \n",
       "1881195                                  [-0.0, 1.0, -0.0]  ...   \n",
       "1881196  [1.0, -1.2620071991558002e-29, 5.8888629282852...  ...   \n",
       "1881197  [1.0, -1.209291745855901e-25, -1.7189038031137...  ...   \n",
       "1881198  [1.0, -1.209291745855901e-25, -1.7189038031137...  ...   \n",
       "\n",
       "        alternate_type feasible  PIN_SLOT  BALL  PARALLEL  SLIDER  REVOLUTE  \\\n",
       "1479                      False       0.0   0.0       0.0     0.0       2.0   \n",
       "1480                      False       0.0   0.0       0.0     1.0       1.0   \n",
       "1481                      False       0.0   0.0       0.0     1.0       1.0   \n",
       "1482                      False       0.0   0.0       0.0     1.0       1.0   \n",
       "2215            SLIDER     True       0.0   0.0       0.0     2.0       0.0   \n",
       "...                ...      ...       ...   ...       ...     ...       ...   \n",
       "1881194                   False       0.0   0.0       0.0     2.0       1.0   \n",
       "1881195                   False       0.0   0.0       0.0     2.0       1.0   \n",
       "1881196                   False       0.0   0.0       0.0     1.0       1.0   \n",
       "1881197                   False       0.0   0.0       0.0     0.0       2.0   \n",
       "1881198                   False       0.0   0.0       0.0     0.0       2.0   \n",
       "\n",
       "         CYLINDRICAL  PLANAR  FASTENED  \n",
       "1479             0.0     0.0       0.0  \n",
       "1480             0.0     0.0       0.0  \n",
       "1481             0.0     0.0       0.0  \n",
       "1482             0.0     0.0       0.0  \n",
       "2215             0.0     0.0       3.0  \n",
       "...              ...     ...       ...  \n",
       "1881194          0.0     0.0       0.0  \n",
       "1881195          0.0     0.0       0.0  \n",
       "1881196          0.0     0.0       0.0  \n",
       "1881197          0.0     0.0       0.0  \n",
       "1881198          0.0     0.0       0.0  \n",
       "\n",
       "[13656 rows x 21 columns]"
      ]
     },
     "execution_count": 4,
     "metadata": {},
     "output_type": "execute_result"
    }
   ],
   "source": [
    "mate_validate_df[lambda df: df['has_alt_path']]"
   ]
  },
  {
   "cell_type": "code",
   "execution_count": 5,
   "id": "75d8d324-b598-4751-b180-b3bb5b63ad29",
   "metadata": {},
   "outputs": [
    {
     "data": {
      "text/plain": [
       "0.16687236512494655"
      ]
     },
     "execution_count": 5,
     "metadata": {},
     "output_type": "execute_result"
    }
   ],
   "source": [
    "mate_validate_df['has_alt_path'].sum()/mate_validate_df.shape[0]"
   ]
  },
  {
   "cell_type": "code",
   "execution_count": 6,
   "id": "50f559a1-4684-4cc0-8900-a47b94ea1a2c",
   "metadata": {},
   "outputs": [
    {
     "data": {
      "text/plain": [
       "0.13370593293207222"
      ]
     },
     "execution_count": 6,
     "metadata": {},
     "output_type": "execute_result"
    }
   ],
   "source": [
    "len(mate_validate_df[lambda df: df['has_alt_path']]['Assembly'].unique())/len(mate_validate_df['Assembly'].unique())"
   ]
  },
  {
   "cell_type": "code",
   "execution_count": null,
   "id": "df67dd10-bef2-4e7d-b39a-703e8f69b24b",
   "metadata": {},
   "outputs": [],
   "source": []
  },
  {
   "cell_type": "code",
   "execution_count": 83,
   "id": "d6b90dea-24ca-410d-afc1-db1c94986774",
   "metadata": {},
   "outputs": [],
   "source": [
    "mate_rigid_validate_df = ps.read_hdf('/fast/jamesn8/assembly_data/assembly_torch2_fixsize/stats_check_mates_all_proposals_validate_rigidcomps_more_axis_stats/mate_stats_all.h5','mates')\n",
    "rigid_validate_df = ps.read_parquet('/fast/jamesn8/assembly_data/assembly_torch2_fixsize/stats_check_mates_all_proposals_validate_rigidcomps_more_axis_stats/stats_all.parquet')"
   ]
  },
  {
   "cell_type": "code",
   "execution_count": 1454,
   "id": "ffd468ee-541c-4627-9f31-99ffb35c02ee",
   "metadata": {},
   "outputs": [
    {
     "data": {
      "text/plain": [
       "18"
      ]
     },
     "execution_count": 1454,
     "metadata": {},
     "output_type": "execute_result"
    }
   ],
   "source": [
    "rigid_validate_df.loc[final_set][lambda df: df['num_multimates_between_rigid'] > 0].shape[0]"
   ]
  },
  {
   "cell_type": "code",
   "execution_count": 70,
   "id": "71361b20-3d2d-4900-af2b-4077e11f3c08",
   "metadata": {},
   "outputs": [
    {
     "data": {
      "text/plain": [
       "0.013327601031814273"
      ]
     },
     "execution_count": 70,
     "metadata": {},
     "output_type": "execute_result"
    }
   ],
   "source": [
    "rigid_validate_df[lambda df: df['num_multimates_between_rigid'] > 0].shape[0] / rigid_validate_df.shape[0]"
   ]
  },
  {
   "cell_type": "code",
   "execution_count": 71,
   "id": "5e8a7067-97d9-48c7-b147-ece2dc07c13c",
   "metadata": {},
   "outputs": [
    {
     "data": {
      "text/plain": [
       "0.004299226139294927"
      ]
     },
     "execution_count": 71,
     "metadata": {},
     "output_type": "execute_result"
    }
   ],
   "source": [
    "rigid_validate_df[lambda df: df['num_moving_mates_between_same_rigid'] > 0].shape[0]/rigid_validate_df.shape[0]"
   ]
  },
  {
   "cell_type": "code",
   "execution_count": null,
   "id": "f3945d48-dfd8-4113-b136-2129387b3cfe",
   "metadata": {},
   "outputs": [],
   "source": [
    "#TODO:\n",
    "#list of indices of assemblies with any augmented mates\n",
    "#list of indices of all assemblies with no far or invalid mates, and no unconnected close mates that aren't fixed by augmentation"
   ]
  },
  {
   "cell_type": "code",
   "execution_count": 135,
   "id": "e2fdb105-5514-43bb-aef6-6a87add247dc",
   "metadata": {},
   "outputs": [
    {
     "data": {
      "text/plain": [
       "865"
      ]
     },
     "execution_count": 135,
     "metadata": {},
     "output_type": "execute_result"
    }
   ],
   "source": [
    "len(mate_rigid_validate_df[lambda df: df['dirs_agree'] & ~df['has_same_dir_axis']]['Assembly'].unique())"
   ]
  },
  {
   "cell_type": "markdown",
   "id": "df42253e-18ee-4fbc-8bc7-14d00b33208b",
   "metadata": {},
   "source": [
    "### Generate final data list"
   ]
  },
  {
   "cell_type": "code",
   "execution_count": 54,
   "id": "c6a21618-0357-4090-b2dd-f7f449495e71",
   "metadata": {},
   "outputs": [],
   "source": [
    "def generate_final_list(index_list, augment_mates=True):\n",
    "    assemblies_without_unconnected_close_and_coaxial = []\n",
    "    distance_threshold = 0.01\n",
    "    for j,ind in enumerate(index_list):\n",
    "        if j % 100 == 0:\n",
    "            print(f'processed {j}')\n",
    "        fname = f'/fast/jamesn8/assembly_data/assembly_torch2_fixsize/mc_data/{ind}.hdf5'\n",
    "        if os.path.isfile(fname):\n",
    "            with h5py.File(fname,'r') as f:\n",
    "                valid = True\n",
    "                for key in f['pair_data'].keys():\n",
    "                    pair = tuple([int(l) for l in key.split(',')])\n",
    "                    pair_group = f['pair_data'][key]\n",
    "                    dist = pair_group.attrs['distance']\n",
    "                    if dist < distance_threshold and len(pair_group['axes'].keys()) > 0:\n",
    "                        mate_type = pair_group.attrs['type']\n",
    "                        if mate_type < 0 and augment_mates and pair_group.attrs['augmented_type'] == 7:\n",
    "                            mate_type = pair_group.attrs['augmented_type']\n",
    "                        if mate_type < 0 or (mate_type != 3 and mate_type != 7 and pair_group.attrs['axisIndex'] < 0):\n",
    "                            valid = False\n",
    "                            break\n",
    "                if valid:\n",
    "                    assemblies_without_unconnected_close_and_coaxial.append(ind)\n",
    "    return assemblies_without_unconnected_close_and_coaxial"
   ]
  },
  {
   "cell_type": "code",
   "execution_count": 52,
   "id": "c5a220a0-71f7-403d-aa21-2416c68217e9",
   "metadata": {
    "collapsed": true,
    "jupyter": {
     "outputs_hidden": true
    },
    "tags": []
   },
   "outputs": [
    {
     "name": "stdout",
     "output_type": "stream",
     "text": [
      "processed 0\n",
      "processed 100\n",
      "processed 200\n",
      "processed 300\n",
      "processed 400\n",
      "processed 500\n",
      "processed 600\n",
      "processed 700\n",
      "processed 800\n",
      "processed 900\n",
      "processed 1000\n",
      "processed 1100\n",
      "processed 1200\n",
      "processed 1300\n",
      "processed 1400\n",
      "processed 1500\n",
      "processed 1600\n",
      "processed 1700\n",
      "processed 1800\n",
      "processed 1900\n",
      "processed 2000\n",
      "processed 2100\n",
      "processed 2200\n",
      "processed 2300\n",
      "processed 2400\n",
      "processed 2500\n",
      "processed 2600\n",
      "processed 2700\n",
      "processed 2800\n",
      "processed 2900\n",
      "processed 3000\n",
      "processed 3100\n",
      "processed 3200\n",
      "processed 3300\n",
      "processed 3400\n",
      "processed 3500\n",
      "processed 3600\n",
      "processed 3700\n",
      "processed 3800\n",
      "processed 3900\n",
      "processed 4000\n",
      "processed 4100\n",
      "processed 4200\n",
      "processed 4300\n",
      "processed 4400\n",
      "processed 4500\n",
      "processed 4600\n",
      "processed 4700\n",
      "processed 4800\n",
      "processed 4900\n",
      "processed 5000\n",
      "processed 5100\n",
      "processed 5200\n",
      "processed 5300\n",
      "processed 5400\n",
      "processed 5500\n",
      "processed 5600\n",
      "processed 5700\n",
      "processed 5800\n",
      "processed 5900\n",
      "processed 6000\n",
      "processed 6100\n",
      "processed 6200\n",
      "processed 6300\n",
      "processed 6400\n",
      "processed 6500\n",
      "processed 6600\n",
      "processed 6700\n",
      "processed 6800\n",
      "processed 6900\n",
      "processed 7000\n",
      "processed 7100\n",
      "processed 7200\n",
      "processed 7300\n",
      "processed 7400\n",
      "processed 7500\n",
      "processed 7600\n",
      "processed 7700\n",
      "processed 7800\n",
      "processed 7900\n",
      "processed 8000\n",
      "processed 8100\n",
      "processed 8200\n",
      "processed 8300\n",
      "processed 8400\n",
      "processed 8500\n",
      "processed 8600\n",
      "processed 8700\n",
      "processed 8800\n",
      "processed 8900\n",
      "processed 9000\n",
      "processed 9100\n",
      "processed 9200\n",
      "processed 9300\n",
      "processed 9400\n",
      "processed 9500\n",
      "processed 9600\n",
      "processed 9700\n",
      "processed 9800\n",
      "processed 9900\n",
      "processed 10000\n",
      "processed 10100\n",
      "processed 10200\n",
      "processed 10300\n",
      "processed 10400\n",
      "processed 10500\n",
      "processed 10600\n",
      "processed 10700\n",
      "processed 10800\n",
      "processed 10900\n",
      "processed 11000\n",
      "processed 11100\n",
      "processed 11200\n",
      "processed 11300\n",
      "processed 11400\n",
      "processed 11500\n",
      "processed 11600\n"
     ]
    }
   ],
   "source": [
    "final_set_no_fasten_augmentation = generate_final_list(no_connected_far.intersection(assemblies_with_valid_mates), augment_mates=False)"
   ]
  },
  {
   "cell_type": "code",
   "execution_count": 53,
   "id": "be1001da-dbd1-44c2-9a77-554cb2830ce9",
   "metadata": {},
   "outputs": [
    {
     "data": {
      "text/plain": [
       "6190"
      ]
     },
     "execution_count": 53,
     "metadata": {},
     "output_type": "execute_result"
    }
   ],
   "source": [
    "len(final_set_no_fasten_augmentation)"
   ]
  },
  {
   "cell_type": "code",
   "execution_count": 55,
   "id": "d2127109-4582-4d6a-af6e-2b0cc64a6ab3",
   "metadata": {
    "collapsed": true,
    "jupyter": {
     "outputs_hidden": true
    },
    "tags": []
   },
   "outputs": [
    {
     "name": "stdout",
     "output_type": "stream",
     "text": [
      "processed 0\n",
      "processed 100\n",
      "processed 200\n",
      "processed 300\n",
      "processed 400\n",
      "processed 500\n",
      "processed 600\n",
      "processed 700\n",
      "processed 800\n",
      "processed 900\n",
      "processed 1000\n",
      "processed 1100\n",
      "processed 1200\n",
      "processed 1300\n",
      "processed 1400\n",
      "processed 1500\n",
      "processed 1600\n",
      "processed 1700\n",
      "processed 1800\n",
      "processed 1900\n",
      "processed 2000\n",
      "processed 2100\n",
      "processed 2200\n",
      "processed 2300\n",
      "processed 2400\n",
      "processed 2500\n",
      "processed 2600\n",
      "processed 2700\n",
      "processed 2800\n",
      "processed 2900\n",
      "processed 3000\n",
      "processed 3100\n",
      "processed 3200\n",
      "processed 3300\n",
      "processed 3400\n",
      "processed 3500\n",
      "processed 3600\n",
      "processed 3700\n",
      "processed 3800\n",
      "processed 3900\n",
      "processed 4000\n",
      "processed 4100\n",
      "processed 4200\n",
      "processed 4300\n",
      "processed 4400\n",
      "processed 4500\n",
      "processed 4600\n",
      "processed 4700\n",
      "processed 4800\n",
      "processed 4900\n",
      "processed 5000\n",
      "processed 5100\n",
      "processed 5200\n",
      "processed 5300\n",
      "processed 5400\n",
      "processed 5500\n",
      "processed 5600\n",
      "processed 5700\n",
      "processed 5800\n",
      "processed 5900\n",
      "processed 6000\n",
      "processed 6100\n",
      "processed 6200\n",
      "processed 6300\n",
      "processed 6400\n",
      "processed 6500\n",
      "processed 6600\n",
      "processed 6700\n",
      "processed 6800\n",
      "processed 6900\n",
      "processed 7000\n",
      "processed 7100\n",
      "processed 7200\n",
      "processed 7300\n",
      "processed 7400\n",
      "processed 7500\n",
      "processed 7600\n",
      "processed 7700\n",
      "processed 7800\n",
      "processed 7900\n",
      "processed 8000\n",
      "processed 8100\n",
      "processed 8200\n",
      "processed 8300\n",
      "processed 8400\n",
      "processed 8500\n",
      "processed 8600\n",
      "processed 8700\n",
      "processed 8800\n",
      "processed 8900\n",
      "processed 9000\n",
      "processed 9100\n",
      "processed 9200\n",
      "processed 9300\n",
      "processed 9400\n",
      "processed 9500\n",
      "processed 9600\n",
      "processed 9700\n",
      "processed 9800\n",
      "processed 9900\n",
      "processed 10000\n",
      "processed 10100\n",
      "processed 10200\n",
      "processed 10300\n",
      "processed 10400\n",
      "processed 10500\n",
      "processed 10600\n",
      "processed 10700\n",
      "processed 10800\n",
      "processed 10900\n",
      "processed 11000\n",
      "processed 11100\n",
      "processed 11200\n",
      "processed 11300\n",
      "processed 11400\n",
      "processed 11500\n",
      "processed 11600\n"
     ]
    }
   ],
   "source": [
    "final_set = set(generate_final_list(no_connected_far.intersection(assemblies_with_valid_mates)))"
   ]
  },
  {
   "cell_type": "code",
   "execution_count": 56,
   "id": "46cab7f2-5df7-4536-a31e-ba540f403c9a",
   "metadata": {},
   "outputs": [
    {
     "data": {
      "text/plain": [
       "6448"
      ]
     },
     "execution_count": 56,
     "metadata": {},
     "output_type": "execute_result"
    }
   ],
   "source": [
    "len(final_set)"
   ]
  },
  {
   "cell_type": "code",
   "execution_count": 35,
   "id": "035c3a28-1bcf-4197-bd21-3d659b55dd41",
   "metadata": {},
   "outputs": [],
   "source": [
    "diffset = final_set.difference(final_assemblies_no_augment)"
   ]
  },
  {
   "cell_type": "code",
   "execution_count": 1042,
   "id": "515e39c9-8480-4fe3-a689-a69e3c1245b4",
   "metadata": {},
   "outputs": [],
   "source": [
    "#investigate the difference in the predicted dataset and this one"
   ]
  },
  {
   "cell_type": "code",
   "execution_count": 51,
   "id": "94c54671-bb03-47fd-8a4e-fe93f7cad005",
   "metadata": {},
   "outputs": [
    {
     "name": "stdout",
     "output_type": "stream",
     "text": [
      "invalid\n"
     ]
    }
   ],
   "source": [
    "fname = f'/fast/jamesn8/assembly_data/assembly_torch2_fixsize/mc_data/{list(diffset)[0]}.hdf5'\n",
    "augment_mates = True\n",
    "with h5py.File(fname,'r') as f:\n",
    "    for key in f['pair_data'].keys():\n",
    "        pair = tuple([int(l) for l in key.split(',')])\n",
    "        pair_group = f['pair_data'][key]\n",
    "        dist = pair_group.attrs['distance']\n",
    "        if dist < .01 and len(pair_group['axes'].keys()) > 0:\n",
    "            mate_type = pair_group.attrs['type']\n",
    "            if mate_type < 0 and augment_mates and pair_group.attrs['augmented_type'] == 7:\n",
    "                mate_type = pair_group.attrs['augmented_type']\n",
    "                print('augmented',mate_type)\n",
    "            if mate_type < 0 or (mate_type != 3 and mate_type != 7 and pair_group.attrs['axisIndex'] < 0):\n",
    "                print('invalid')\n",
    "                valid = False\n",
    "                break"
   ]
  },
  {
   "cell_type": "code",
   "execution_count": 1169,
   "id": "5511b9b2-c837-425d-9339-9c43ab27a566",
   "metadata": {},
   "outputs": [],
   "source": [
    "with open('/projects/grail/jamesn8/projects/mechanical/Mechanical/data/dataset/clean_dataset_with_augmented_fastens.txt','w') as f:\n",
    "    f.writelines([str(l) + '\\n' for l in final_set])"
   ]
  },
  {
   "cell_type": "code",
   "execution_count": 1465,
   "id": "f4c01741-696e-4610-9265-e24ae4efe15d",
   "metadata": {},
   "outputs": [],
   "source": [
    "with open('/projects/grail/jamesn8/projects/mechanical/Mechanical/data/dataset/clean_dataset_with_all_augments.txt','w') as f:\n",
    "    f.writelines([str(l) + '\\n' for l in final_set.union(num_fixed)])"
   ]
  },
  {
   "cell_type": "code",
   "execution_count": 1477,
   "id": "081577d6-e821-4bb4-9c83-5aa847865d54",
   "metadata": {},
   "outputs": [],
   "source": [
    "with open('/projects/grail/jamesn8/projects/mechanical/Mechanical/data/dataset/clean_dataset_augments_only.txt','w') as f:\n",
    "    f.writelines([str(l) + '\\n' for l in num_fixed])"
   ]
  },
  {
   "cell_type": "markdown",
   "id": "4fe5d4e0-6b84-405b-ad4a-e9218aef716a",
   "metadata": {},
   "source": [
    "# Check which axes can be preserved with single topo references"
   ]
  },
  {
   "cell_type": "code",
   "execution_count": 127,
   "id": "bdf08d9a-a13b-4ed8-9758-bf13c22fa35c",
   "metadata": {},
   "outputs": [],
   "source": [
    "mc_df_old = mc_df"
   ]
  },
  {
   "cell_type": "code",
   "execution_count": 132,
   "id": "4f4dcb27-539a-4ae9-a4fd-ae1caa0b98db",
   "metadata": {
    "tags": []
   },
   "outputs": [
    {
     "name": "stdout",
     "output_type": "stream",
     "text": [
      "0 / 9765\n",
      "100 / 9765\n",
      "200 / 9765\n",
      "300 / 9765\n",
      "400 / 9765\n",
      "500 / 9765\n",
      "600 / 9765\n",
      "700 / 9765\n",
      "800 / 9765\n",
      "900 / 9765\n",
      "1000 / 9765\n",
      "1100 / 9765\n",
      "1200 / 9765\n",
      "1300 / 9765\n",
      "1400 / 9765\n",
      "1500 / 9765\n",
      "1600 / 9765\n",
      "1700 / 9765\n",
      "1800 / 9765\n",
      "1900 / 9765\n",
      "2000 / 9765\n",
      "2100 / 9765\n",
      "2200 / 9765\n",
      "2300 / 9765\n",
      "2400 / 9765\n",
      "2500 / 9765\n",
      "2600 / 9765\n",
      "2700 / 9765\n",
      "2800 / 9765\n",
      "2900 / 9765\n",
      "3000 / 9765\n",
      "3100 / 9765\n",
      "3200 / 9765\n",
      "3300 / 9765\n",
      "3400 / 9765\n",
      "3500 / 9765\n",
      "3600 / 9765\n",
      "3700 / 9765\n",
      "3800 / 9765\n",
      "3900 / 9765\n",
      "4000 / 9765\n",
      "4100 / 9765\n",
      "4200 / 9765\n",
      "4300 / 9765\n",
      "4400 / 9765\n",
      "4500 / 9765\n",
      "4600 / 9765\n",
      "4700 / 9765\n",
      "4800 / 9765\n",
      "4900 / 9765\n",
      "5000 / 9765\n",
      "5100 / 9765\n",
      "5200 / 9765\n",
      "5300 / 9765\n",
      "5400 / 9765\n",
      "5500 / 9765\n",
      "5600 / 9765\n",
      "5700 / 9765\n",
      "5800 / 9765\n",
      "5900 / 9765\n",
      "6000 / 9765\n",
      "6100 / 9765\n",
      "6200 / 9765\n",
      "6300 / 9765\n",
      "6400 / 9765\n",
      "6500 / 9765\n",
      "6600 / 9765\n",
      "6700 / 9765\n",
      "6800 / 9765\n",
      "6900 / 9765\n",
      "7000 / 9765\n",
      "7100 / 9765\n",
      "7200 / 9765\n",
      "7300 / 9765\n",
      "7400 / 9765\n",
      "7500 / 9765\n",
      "7600 / 9765\n",
      "7700 / 9765\n",
      "7800 / 9765\n",
      "7900 / 9765\n",
      "8000 / 9765\n",
      "8100 / 9765\n",
      "8200 / 9765\n",
      "8300 / 9765\n",
      "8400 / 9765\n",
      "8500 / 9765\n",
      "8600 / 9765\n",
      "8700 / 9765\n",
      "8800 / 9765\n",
      "8900 / 9765\n",
      "9000 / 9765\n",
      "9100 / 9765\n",
      "9200 / 9765\n",
      "9300 / 9765\n",
      "9400 / 9765\n",
      "9500 / 9765\n",
      "9600 / 9765\n",
      "9700 / 9765\n"
     ]
    }
   ],
   "source": [
    "mc_datapath = '/fast/jamesn8/assembly_data/assembly_torch2_fixsize/mc_data'\n",
    "torch_datapath = '/fast/jamesn8/assembly_data/assembly_torch2_fixsize/data'\n",
    "mc_stats = []\n",
    "total_set = final_set.union(num_fixed)\n",
    "#for i,d in enumerate(os.scandir(mc_datapath)):\n",
    "for i,ass in enumerate(total_set):\n",
    "    if i % 100==0:\n",
    "        print(i,'/',len(total_set))\n",
    "    d = os.path.join(mc_datapath, f'{ass}.hdf5')\n",
    "    #if d.name.endswith('hdf5'):\n",
    "    if os.path.isfile(d):\n",
    "        with h5py.File(d,'r') as f:\n",
    "            #ass = int(d.name.split('.')[0])\n",
    "            if 'mc_definitions' in f:\n",
    "                data = torch.load(os.path.join(torch_datapath, f'{ass}.dat'))\n",
    "                alldefs = []\n",
    "                topo_offset = 0\n",
    "                mc_offset = 0\n",
    "                num_mcs = sum([f['mc_definitions'][k].shape[0] for k in f['mc_definitions'].keys()])\n",
    "                mc_index_to_part = np.full(num_mcs, -1)\n",
    "                for p in range(len(f['mc_definitions'].keys())): #make sure to iterate in numerical order\n",
    "                    key = str(p)\n",
    "                    mc_data = np.array(f['mc_definitions'][key])\n",
    "                    mc_data[:,:2] += topo_offset\n",
    "                    alldefs.append(mc_data)\n",
    "                    mc_index_to_part[mc_offset:(mc_offset+mc_data.shape[0])] = p\n",
    "                    #mc_index_to_offset[mc_offset:(mc_offset+mc_data.shape[0])] = np.arange(mc_data.shape[0])\n",
    "                    mc_offset += mc_data.shape[0]\n",
    "                    topo_offset += (data.graph_idx == p).sum().item()\n",
    "                \n",
    "                alldefs = np.vstack(alldefs)\n",
    "                mc_face_mask = (data.topo_type.numpy()[alldefs[:,0]] == 0) & (data.topo_type.numpy()[alldefs[:,1]] == 0)\n",
    "                pair_data = f['pair_data']\n",
    "                for pair_key in pair_data.keys():\n",
    "                    dist = pair_data[pair_key].attrs['distance']\n",
    "                    if dist < 0.01:\n",
    "                        dir_list = list(pair_data[pair_key]['dirs']['indices'])\n",
    "                        pair = tuple(sorted([int(l) for l in pair_key.split(',')]))\n",
    "                        axis_ind = 0\n",
    "                        for axdir in pair_data[pair_key]['axes'].keys():\n",
    "                            dir_ind = dir_list.index(int(axdir))\n",
    "                            for ax in pair_data[pair_key]['axes'][axdir]['indices']:\n",
    "                                clust = np.array(f['dir_clusters'][axdir]['axial_clusters'][str(ax)])\n",
    "                                topo_ids = alldefs[clust, 0]\n",
    "                                topo_ids2 = alldefs[clust, 1]\n",
    "                                topo_types = data.topo_type[topo_ids].numpy()\n",
    "                                topo_types2 = data.topo_type[topo_ids2].numpy()\n",
    "                                part_ids = data.graph_idx.flatten()[topo_ids].numpy()\n",
    "                                clust_lr_faces = [clust[(part_ids == pair[k]) & (topo_types == 0) & (topo_types2 == 0)] for k in range(2)]\n",
    "                                clust_lr_sametype = [clust[(part_ids == pair[k]) & (topo_ids == topo_ids2)] for k in range(2)]\n",
    "                                clust_lr_both = [clust[(part_ids == pair[k]) & (topo_types == 0) & (topo_ids == topo_ids2)] for k in range(2)]\n",
    "                                mc_stat = {'Assembly':ass, 'part1': pair[0], 'part2': pair[1], 'axis_ind': axis_ind, 'dir_ind': dir_ind, 'has_same': all(len(l) > 0 for l in clust_lr_sametype), 'has_faceonly': all(len(l) > 0 for l in clust_lr_faces), 'has_both': all(len(l) > 0 for l in clust_lr_both)}\n",
    "\n",
    "                                #defs_subset = alldefs[clust]\n",
    "                                #num_same = (defs_subset[:,0] == defs_subset[:,1]).sum()\n",
    "                                #num_face = mc_face_mask[clust].sum()\n",
    "                                #mc_stat = {'Assembly':ass, 'part1': pair[0], 'part2': pair[1], 'axis_ind': axis_ind, 'num_same': num_same, 'num_faceonly': num_face}\n",
    "\n",
    "                                mc_stats.append(mc_stat)\n",
    "                                axis_ind += 1\n",
    "\n",
    "mc_df = ps.DataFrame(mc_stats)"
   ]
  },
  {
   "cell_type": "code",
   "execution_count": 135,
   "id": "7ac7d22f-c37c-4f64-9933-e1dd8f2d5970",
   "metadata": {},
   "outputs": [
    {
     "data": {
      "text/plain": [
       "<AxesSubplot:>"
      ]
     },
     "execution_count": 135,
     "metadata": {},
     "output_type": "execute_result"
    },
    {
     "data": {
      "image/png": "[encoded data removed]",
      "text/plain": [
       "<Figure size 432x288 with 1 Axes>"
      ]
     },
     "metadata": {
      "needs_background": "light"
     },
     "output_type": "display_data"
    }
   ],
   "source": [
    "mc_df[lambda df: [d in final_set for d in df['Assembly']]].groupby(['Assembly','part1','part2'])['axis_ind'].count()[lambda df: df < 50].hist(bins=50)"
   ]
  },
  {
   "cell_type": "code",
   "execution_count": 136,
   "id": "99509693-d3e5-4263-ab3f-5e8110cc9a31",
   "metadata": {},
   "outputs": [
    {
     "data": {
      "text/plain": [
       "0.24799974700357358"
      ]
     },
     "execution_count": 136,
     "metadata": {},
     "output_type": "execute_result"
    }
   ],
   "source": [
    "mc_df['has_both'].sum()/mc_df.shape[0]"
   ]
  },
  {
   "cell_type": "code",
   "execution_count": 137,
   "id": "8fdb4279-757d-4eff-9b64-a6d5135418da",
   "metadata": {},
   "outputs": [
    {
     "data": {
      "text/plain": [
       "0.6302316674221421"
      ]
     },
     "execution_count": 137,
     "metadata": {},
     "output_type": "execute_result"
    }
   ],
   "source": [
    "mc_df['has_same'].sum()/mc_df.shape[0]"
   ]
  },
  {
   "cell_type": "code",
   "execution_count": 138,
   "id": "6f3487e2-4cb8-4cd0-9afc-a04ea56fe02e",
   "metadata": {},
   "outputs": [
    {
     "data": {
      "text/plain": [
       "0.24799974700357358"
      ]
     },
     "execution_count": 138,
     "metadata": {},
     "output_type": "execute_result"
    }
   ],
   "source": [
    "mc_df['has_faceonly'].sum()/mc_df.shape[0]"
   ]
  },
  {
   "cell_type": "code",
   "execution_count": 66,
   "id": "10d745e9-dfe5-49f1-9411-e3dbf3eb1e1c",
   "metadata": {},
   "outputs": [],
   "source": [
    "name = '/fast/jamesn8/assembly_data/assembly_data_with_transforms_all.h5'\n",
    "\n",
    "assembly_df = ps.read_hdf(name,'assembly')\n",
    "mate_df = ps.read_hdf(name,'mate')\n",
    "part_df = ps.read_hdf(name+'_segmentation.h5','part')"
   ]
  },
  {
   "cell_type": "code",
   "execution_count": 67,
   "id": "b20e67c4-ebd0-4d88-b663-fbaecfdc70aa",
   "metadata": {},
   "outputs": [],
   "source": [
    "part_df.set_index(['Assembly','PartOccurrenceID'], inplace=True)"
   ]
  },
  {
   "cell_type": "code",
   "execution_count": 68,
   "id": "6cf0404e-b102-483f-b557-72e4205ee6aa",
   "metadata": {},
   "outputs": [],
   "source": [
    "nums = []\n",
    "num = 0\n",
    "lastAssembly = -1\n",
    "for i in range(part_df.shape[0]):\n",
    "    ass = part_df.index[i][0]\n",
    "    if ass != lastAssembly:\n",
    "        num = 0\n",
    "        lastAssembly = ass\n",
    "    nums.append(num)\n",
    "    num += 1"
   ]
  },
  {
   "cell_type": "code",
   "execution_count": 69,
   "id": "d5c94d5a-d0e9-45c7-960d-f134ee72f9cd",
   "metadata": {},
   "outputs": [],
   "source": [
    "part_df['part_indices'] = nums"
   ]
  },
  {
   "cell_type": "markdown",
   "id": "3f36531e-8a76-42ba-bc38-ecaeeda698d6",
   "metadata": {},
   "source": [
    "### Rerun below if updating mc_df"
   ]
  },
  {
   "cell_type": "code",
   "execution_count": 203,
   "id": "f401d038-e0bd-42a4-838a-b5fccabb0560",
   "metadata": {},
   "outputs": [],
   "source": [
    "assemblySet = set(mc_df['Assembly']).intersection(total_set)"
   ]
  },
  {
   "cell_type": "code",
   "execution_count": 204,
   "id": "6fa8ef02-1e1d-4805-b267-ef63c3a40d47",
   "metadata": {},
   "outputs": [],
   "source": [
    "mate_df_subset = mate_df[lambda df: [a in assemblySet for a in df['Assembly']]]"
   ]
  },
  {
   "cell_type": "code",
   "execution_count": 205,
   "id": "68167e40-63fc-4344-a5e8-f8e70add2038",
   "metadata": {},
   "outputs": [],
   "source": [
    "mate_df['oldindex'] = mate_df.index\n",
    "mate_df_subset = mate_df.set_index('Assembly',drop=False)\n",
    "mate_df_subset = mate_df_subset.loc[total_set]\n",
    "mate_df_subset.set_index('oldindex',inplace=True)"
   ]
  },
  {
   "cell_type": "code",
   "execution_count": 206,
   "id": "832c0524-1b60-46bb-ba85-254fdf736167",
   "metadata": {},
   "outputs": [],
   "source": [
    "pairs = []\n",
    "for i in range(mate_df_subset.shape[0]):\n",
    "    row = mate_df_subset.iloc[i]\n",
    "    ass = row['Assembly']\n",
    "    p1 = part_df.loc[(ass, row['Part1']), 'part_indices']\n",
    "    p2 = part_df.loc[(ass, row['Part2']), 'part_indices']\n",
    "    pairs.append(tuple(sorted([p1, p2])))\n",
    "mate_df_subset['part1_idx'] = [pair[0] for pair in pairs]\n",
    "mate_df_subset['part2_idx'] = [pair[1] for pair in pairs]"
   ]
  },
  {
   "cell_type": "code",
   "execution_count": 143,
   "id": "ea8156f5-619f-45ba-8c7b-2c3beaccf753",
   "metadata": {},
   "outputs": [],
   "source": [
    "mc_df_by_dir = mc_df.set_index(['Assembly','part1', 'part2', 'dir_ind'])"
   ]
  },
  {
   "cell_type": "code",
   "execution_count": 144,
   "id": "0c317a50-34ab-4e20-b8ef-91960d68edcb",
   "metadata": {},
   "outputs": [],
   "source": [
    "mc_df_by_pair = mc_df.set_index(['Assembly','part1', 'part2'])"
   ]
  },
  {
   "cell_type": "code",
   "execution_count": 145,
   "id": "e276d385-0186-4323-a0d6-1f90fd3ff195",
   "metadata": {},
   "outputs": [],
   "source": [
    "mc_df_by_axis = mc_df.set_index(['Assembly','part1', 'part2', 'axis_ind'])"
   ]
  },
  {
   "cell_type": "code",
   "execution_count": 208,
   "id": "27f2cbba-7cc7-46b7-b96c-6c8369a2152c",
   "metadata": {},
   "outputs": [],
   "source": [
    "mate_df_joined = mate_df_subset.join(mate_rigid_validate_df.drop(['type','Assembly'], axis=1))"
   ]
  },
  {
   "cell_type": "code",
   "execution_count": 147,
   "id": "5bffdb8d-8905-408b-9866-e812dc730cc5",
   "metadata": {
    "tags": []
   },
   "outputs": [
    {
     "name": "stdout",
     "output_type": "stream",
     "text": [
      "processed 0 / 42165\n",
      "processed 100 / 42165\n",
      "processed 200 / 42165\n",
      "processed 300 / 42165\n",
      "processed 400 / 42165\n",
      "processed 500 / 42165\n",
      "processed 600 / 42165\n",
      "processed 700 / 42165\n",
      "processed 800 / 42165\n",
      "processed 900 / 42165\n",
      "processed 1000 / 42165\n",
      "processed 1100 / 42165\n",
      "processed 1200 / 42165\n",
      "processed 1300 / 42165\n",
      "processed 1400 / 42165\n",
      "processed 1500 / 42165\n",
      "processed 1600 / 42165\n",
      "processed 1700 / 42165\n",
      "processed 1800 / 42165\n",
      "processed 1900 / 42165\n",
      "processed 2000 / 42165\n",
      "processed 2100 / 42165\n",
      "processed 2200 / 42165\n",
      "processed 2300 / 42165\n",
      "processed 2400 / 42165\n",
      "processed 2500 / 42165\n",
      "processed 2600 / 42165\n",
      "processed 2700 / 42165\n",
      "processed 2800 / 42165\n",
      "processed 2900 / 42165\n",
      "processed 3000 / 42165\n",
      "processed 3100 / 42165\n",
      "processed 3200 / 42165\n",
      "processed 3300 / 42165\n",
      "processed 3400 / 42165\n",
      "processed 3500 / 42165\n",
      "processed 3600 / 42165\n",
      "processed 3700 / 42165\n",
      "processed 3800 / 42165\n",
      "processed 3900 / 42165\n",
      "processed 4000 / 42165\n",
      "processed 4100 / 42165\n",
      "processed 4200 / 42165\n",
      "processed 4300 / 42165\n",
      "processed 4400 / 42165\n",
      "processed 4500 / 42165\n",
      "processed 4600 / 42165\n",
      "processed 4700 / 42165\n",
      "processed 4800 / 42165\n",
      "processed 4900 / 42165\n",
      "processed 5000 / 42165\n",
      "processed 5100 / 42165\n",
      "processed 5200 / 42165\n",
      "processed 5300 / 42165\n",
      "processed 5400 / 42165\n",
      "processed 5500 / 42165\n",
      "processed 5600 / 42165\n",
      "processed 5700 / 42165\n",
      "processed 5800 / 42165\n",
      "processed 5900 / 42165\n",
      "processed 6000 / 42165\n",
      "processed 6100 / 42165\n",
      "processed 6200 / 42165\n",
      "processed 6300 / 42165\n",
      "processed 6400 / 42165\n",
      "processed 6500 / 42165\n",
      "processed 6600 / 42165\n",
      "processed 6700 / 42165\n",
      "processed 6800 / 42165\n",
      "processed 6900 / 42165\n",
      "processed 7000 / 42165\n",
      "processed 7100 / 42165\n",
      "processed 7200 / 42165\n",
      "processed 7300 / 42165\n",
      "processed 7400 / 42165\n",
      "processed 7500 / 42165\n",
      "processed 7600 / 42165\n",
      "processed 7700 / 42165\n",
      "processed 7800 / 42165\n",
      "processed 7900 / 42165\n",
      "processed 8000 / 42165\n",
      "processed 8100 / 42165\n",
      "processed 8200 / 42165\n",
      "processed 8300 / 42165\n",
      "processed 8400 / 42165\n",
      "processed 8500 / 42165\n",
      "processed 8600 / 42165\n",
      "processed 8700 / 42165\n",
      "processed 8800 / 42165\n",
      "processed 8900 / 42165\n",
      "processed 9000 / 42165\n",
      "processed 9100 / 42165\n",
      "processed 9200 / 42165\n",
      "processed 9300 / 42165\n",
      "processed 9400 / 42165\n",
      "processed 9500 / 42165\n",
      "processed 9600 / 42165\n",
      "processed 9700 / 42165\n",
      "processed 9800 / 42165\n",
      "processed 9900 / 42165\n",
      "processed 10000 / 42165\n",
      "processed 10100 / 42165\n",
      "processed 10200 / 42165\n",
      "processed 10300 / 42165\n",
      "processed 10400 / 42165\n",
      "processed 10500 / 42165\n",
      "processed 10600 / 42165\n",
      "processed 10700 / 42165\n",
      "processed 10800 / 42165\n",
      "processed 10900 / 42165\n",
      "processed 11000 / 42165\n",
      "processed 11100 / 42165\n",
      "processed 11200 / 42165\n",
      "processed 11300 / 42165\n",
      "processed 11400 / 42165\n",
      "processed 11500 / 42165\n",
      "processed 11600 / 42165\n",
      "processed 11700 / 42165\n",
      "processed 11800 / 42165\n",
      "processed 11900 / 42165\n",
      "processed 12000 / 42165\n",
      "processed 12100 / 42165\n",
      "processed 12200 / 42165\n",
      "processed 12300 / 42165\n",
      "processed 12400 / 42165\n",
      "processed 12500 / 42165\n",
      "processed 12600 / 42165\n",
      "processed 12700 / 42165\n",
      "processed 12800 / 42165\n",
      "processed 12900 / 42165\n",
      "processed 13000 / 42165\n",
      "processed 13100 / 42165\n",
      "processed 13200 / 42165\n",
      "processed 13300 / 42165\n",
      "processed 13400 / 42165\n",
      "processed 13500 / 42165\n",
      "processed 13600 / 42165\n",
      "processed 13700 / 42165\n",
      "processed 13800 / 42165\n",
      "processed 13900 / 42165\n",
      "processed 14000 / 42165\n",
      "processed 14100 / 42165\n",
      "processed 14200 / 42165\n",
      "processed 14300 / 42165\n",
      "processed 14400 / 42165\n",
      "processed 14500 / 42165\n",
      "processed 14600 / 42165\n",
      "processed 14700 / 42165\n",
      "processed 14800 / 42165\n",
      "processed 14900 / 42165\n",
      "processed 15000 / 42165\n",
      "processed 15100 / 42165\n",
      "processed 15200 / 42165\n",
      "processed 15300 / 42165\n",
      "processed 15400 / 42165\n",
      "processed 15500 / 42165\n",
      "processed 15600 / 42165\n",
      "processed 15700 / 42165\n",
      "processed 15800 / 42165\n",
      "processed 15900 / 42165\n",
      "processed 16000 / 42165\n",
      "processed 16100 / 42165\n",
      "processed 16200 / 42165\n",
      "processed 16300 / 42165\n",
      "processed 16400 / 42165\n",
      "processed 16500 / 42165\n",
      "processed 16600 / 42165\n",
      "processed 16700 / 42165\n",
      "processed 16800 / 42165\n",
      "processed 16900 / 42165\n",
      "processed 17000 / 42165\n",
      "processed 17100 / 42165\n",
      "processed 17200 / 42165\n",
      "processed 17300 / 42165\n",
      "processed 17400 / 42165\n",
      "processed 17500 / 42165\n",
      "processed 17600 / 42165\n",
      "processed 17700 / 42165\n",
      "processed 17800 / 42165\n",
      "processed 17900 / 42165\n",
      "processed 18000 / 42165\n",
      "processed 18100 / 42165\n",
      "processed 18200 / 42165\n",
      "processed 18300 / 42165\n",
      "processed 18400 / 42165\n",
      "processed 18500 / 42165\n",
      "processed 18600 / 42165\n",
      "processed 18700 / 42165\n",
      "processed 18800 / 42165\n",
      "processed 18900 / 42165\n",
      "processed 19000 / 42165\n",
      "processed 19100 / 42165\n",
      "processed 19200 / 42165\n",
      "processed 19300 / 42165\n",
      "processed 19400 / 42165\n",
      "processed 19500 / 42165\n",
      "processed 19600 / 42165\n",
      "processed 19700 / 42165\n",
      "processed 19800 / 42165\n",
      "processed 19900 / 42165\n",
      "processed 20000 / 42165\n",
      "processed 20100 / 42165\n",
      "processed 20200 / 42165\n",
      "processed 20300 / 42165\n",
      "processed 20400 / 42165\n",
      "processed 20500 / 42165\n",
      "processed 20600 / 42165\n",
      "processed 20700 / 42165\n",
      "processed 20800 / 42165\n",
      "processed 20900 / 42165\n",
      "processed 21000 / 42165\n",
      "processed 21100 / 42165\n",
      "processed 21200 / 42165\n",
      "processed 21300 / 42165\n",
      "processed 21400 / 42165\n",
      "processed 21500 / 42165\n",
      "processed 21600 / 42165\n",
      "processed 21700 / 42165\n",
      "processed 21800 / 42165\n",
      "processed 21900 / 42165\n",
      "processed 22000 / 42165\n",
      "processed 22100 / 42165\n",
      "processed 22200 / 42165\n",
      "processed 22300 / 42165\n",
      "processed 22400 / 42165\n",
      "processed 22500 / 42165\n",
      "processed 22600 / 42165\n",
      "processed 22700 / 42165\n",
      "processed 22800 / 42165\n",
      "processed 22900 / 42165\n",
      "processed 23000 / 42165\n",
      "processed 23100 / 42165\n",
      "processed 23200 / 42165\n",
      "processed 23300 / 42165\n",
      "processed 23400 / 42165\n",
      "processed 23500 / 42165\n",
      "processed 23600 / 42165\n",
      "processed 23700 / 42165\n",
      "processed 23800 / 42165\n",
      "processed 23900 / 42165\n",
      "processed 24000 / 42165\n",
      "processed 24100 / 42165\n",
      "processed 24200 / 42165\n",
      "processed 24300 / 42165\n",
      "processed 24400 / 42165\n",
      "processed 24500 / 42165\n",
      "processed 24600 / 42165\n",
      "processed 24700 / 42165\n",
      "processed 24800 / 42165\n",
      "processed 24900 / 42165\n",
      "processed 25000 / 42165\n",
      "processed 25100 / 42165\n",
      "processed 25200 / 42165\n",
      "processed 25300 / 42165\n",
      "processed 25400 / 42165\n",
      "processed 25500 / 42165\n",
      "processed 25600 / 42165\n",
      "processed 25700 / 42165\n",
      "processed 25800 / 42165\n",
      "processed 25900 / 42165\n",
      "processed 26000 / 42165\n",
      "processed 26100 / 42165\n",
      "processed 26200 / 42165\n",
      "processed 26300 / 42165\n",
      "processed 26400 / 42165\n",
      "processed 26500 / 42165\n",
      "processed 26600 / 42165\n",
      "processed 26700 / 42165\n",
      "processed 26800 / 42165\n",
      "processed 26900 / 42165\n",
      "processed 27000 / 42165\n",
      "processed 27100 / 42165\n",
      "processed 27200 / 42165\n",
      "processed 27300 / 42165\n",
      "processed 27400 / 42165\n",
      "processed 27500 / 42165\n",
      "processed 27600 / 42165\n",
      "processed 27700 / 42165\n",
      "processed 27800 / 42165\n",
      "processed 27900 / 42165\n",
      "processed 28000 / 42165\n",
      "processed 28100 / 42165\n",
      "processed 28200 / 42165\n",
      "processed 28300 / 42165\n",
      "processed 28400 / 42165\n",
      "processed 28500 / 42165\n",
      "processed 28600 / 42165\n",
      "processed 28700 / 42165\n",
      "processed 28800 / 42165\n",
      "processed 28900 / 42165\n",
      "processed 29000 / 42165\n",
      "processed 29100 / 42165\n",
      "processed 29200 / 42165\n",
      "processed 29300 / 42165\n",
      "processed 29400 / 42165\n",
      "processed 29500 / 42165\n",
      "processed 29600 / 42165\n",
      "processed 29700 / 42165\n",
      "processed 29800 / 42165\n",
      "processed 29900 / 42165\n",
      "processed 30000 / 42165\n",
      "processed 30100 / 42165\n",
      "processed 30200 / 42165\n",
      "processed 30300 / 42165\n",
      "processed 30400 / 42165\n",
      "processed 30500 / 42165\n",
      "processed 30600 / 42165\n",
      "processed 30700 / 42165\n",
      "processed 30800 / 42165\n",
      "processed 30900 / 42165\n",
      "processed 31000 / 42165\n",
      "processed 31100 / 42165\n",
      "processed 31200 / 42165\n",
      "processed 31300 / 42165\n",
      "processed 31400 / 42165\n",
      "processed 31500 / 42165\n",
      "processed 31600 / 42165\n",
      "processed 31700 / 42165\n",
      "processed 31800 / 42165\n",
      "processed 31900 / 42165\n",
      "processed 32000 / 42165\n",
      "processed 32100 / 42165\n",
      "processed 32200 / 42165\n",
      "processed 32300 / 42165\n",
      "processed 32400 / 42165\n",
      "processed 32500 / 42165\n",
      "processed 32600 / 42165\n",
      "processed 32700 / 42165\n",
      "processed 32800 / 42165\n",
      "processed 32900 / 42165\n",
      "processed 33000 / 42165\n",
      "processed 33100 / 42165\n",
      "processed 33200 / 42165\n",
      "processed 33300 / 42165\n",
      "processed 33400 / 42165\n",
      "processed 33500 / 42165\n",
      "processed 33600 / 42165\n",
      "processed 33700 / 42165\n",
      "processed 33800 / 42165\n",
      "processed 33900 / 42165\n",
      "processed 34000 / 42165\n",
      "processed 34100 / 42165\n",
      "processed 34200 / 42165\n",
      "processed 34300 / 42165\n",
      "processed 34400 / 42165\n",
      "processed 34500 / 42165\n",
      "processed 34600 / 42165\n",
      "processed 34700 / 42165\n",
      "processed 34800 / 42165\n",
      "processed 34900 / 42165\n",
      "processed 35000 / 42165\n",
      "processed 35100 / 42165\n",
      "processed 35200 / 42165\n",
      "processed 35300 / 42165\n",
      "processed 35400 / 42165\n",
      "processed 35500 / 42165\n",
      "processed 35600 / 42165\n",
      "processed 35700 / 42165\n",
      "processed 35800 / 42165\n",
      "processed 35900 / 42165\n",
      "processed 36000 / 42165\n",
      "processed 36100 / 42165\n",
      "processed 36200 / 42165\n",
      "processed 36300 / 42165\n",
      "processed 36400 / 42165\n",
      "processed 36500 / 42165\n",
      "processed 36600 / 42165\n",
      "processed 36700 / 42165\n",
      "processed 36800 / 42165\n",
      "processed 36900 / 42165\n",
      "processed 37000 / 42165\n",
      "processed 37100 / 42165\n",
      "processed 37200 / 42165\n",
      "processed 37300 / 42165\n",
      "processed 37400 / 42165\n",
      "processed 37500 / 42165\n",
      "processed 37600 / 42165\n",
      "processed 37700 / 42165\n",
      "processed 37800 / 42165\n",
      "processed 37900 / 42165\n",
      "processed 38000 / 42165\n",
      "processed 38100 / 42165\n",
      "processed 38200 / 42165\n",
      "processed 38300 / 42165\n",
      "processed 38400 / 42165\n",
      "processed 38500 / 42165\n",
      "processed 38600 / 42165\n",
      "processed 38700 / 42165\n",
      "processed 38800 / 42165\n",
      "processed 38900 / 42165\n",
      "processed 39000 / 42165\n",
      "processed 39100 / 42165\n",
      "processed 39200 / 42165\n",
      "processed 39300 / 42165\n",
      "processed 39400 / 42165\n",
      "processed 39500 / 42165\n",
      "processed 39600 / 42165\n",
      "processed 39700 / 42165\n",
      "processed 39800 / 42165\n",
      "processed 39900 / 42165\n",
      "processed 40000 / 42165\n",
      "processed 40100 / 42165\n",
      "processed 40200 / 42165\n",
      "processed 40300 / 42165\n",
      "processed 40400 / 42165\n",
      "processed 40500 / 42165\n",
      "processed 40600 / 42165\n",
      "processed 40700 / 42165\n",
      "processed 40800 / 42165\n",
      "processed 40900 / 42165\n",
      "processed 41000 / 42165\n",
      "processed 41100 / 42165\n",
      "processed 41200 / 42165\n",
      "processed 41300 / 42165\n",
      "processed 41400 / 42165\n",
      "processed 41500 / 42165\n",
      "processed 41600 / 42165\n",
      "processed 41700 / 42165\n",
      "processed 41800 / 42165\n",
      "processed 41900 / 42165\n",
      "processed 42000 / 42165\n",
      "processed 42100 / 42165\n"
     ]
    }
   ],
   "source": [
    "same_stats = []\n",
    "invalid_assemblies = set()\n",
    "for i,ind in enumerate(mate_df_joined.index):\n",
    "    if i % 100 == 0:\n",
    "        print('processed',i,'/',mate_df_joined.shape[0])\n",
    "    mate_row = mate_df_joined.loc[ind]\n",
    "    if mate_row['valid'] and (mate_row['Type'] == 'FASTENED' or (mate_row['Type'] == 'SLIDER' and mate_row['dir_index'] >= 0) or mate_row['axis_index'] >= 0):\n",
    "        part1 = mate_row['part1_idx']\n",
    "        part2 = mate_row['part2_idx']\n",
    "        ass = mate_row['Assembly']\n",
    "        valid = True\n",
    "        if mate_row['Type'] == 'SLIDER':\n",
    "            dir_ind = mate_row['dir_index']\n",
    "            mc_subset = mc_df_by_dir.loc[[(ass, part1, part2, dir_ind)]]\n",
    "            has_same = mc_subset['has_same'].any()\n",
    "            has_faceonly = mc_subset['has_faceonly'].any()\n",
    "            has_both = mc_subset['has_both'].any()\n",
    "        elif mate_row['Type'] == 'FASTENED':\n",
    "            if (ass, part1, part2) in mc_df_by_pair.index:\n",
    "                mc_subset = mc_df_by_pair.loc[[(ass, part1, part2)]]\n",
    "                has_same = mc_subset['has_same'].any()\n",
    "                has_faceonly = mc_subset['has_faceonly'].any()\n",
    "                has_both = mc_subset['has_both'].any()\n",
    "            else:\n",
    "                has_same = False\n",
    "                has_faceonly = False\n",
    "                has_both = False\n",
    "                valid = False\n",
    "        else:\n",
    "            ax_ind = mate_row['axis_index']\n",
    "            has_same = mc_df_by_axis.loc[(ass, part1, part2, ax_ind),'has_same']\n",
    "            has_faceonly = mc_df_by_axis.loc[(ass, part1, part2, ax_ind),'has_faceonly']\n",
    "            has_both = mc_df_by_axis.loc[(ass, part1, part2, ax_ind),'has_both']\n",
    "        same_stat = {'Assembly': ass, 'mate': ind, 'type': mate_row['Type'], 'has_same': has_same, 'has_faceonly': has_faceonly, 'has_both': has_both, 'valid': valid}\n",
    "        same_stats.append(same_stat)\n",
    "    else:\n",
    "        print(f'skipped {ind}')\n",
    "        invalid_assemblies.add(ind)\n",
    "same_stats_df = ps.DataFrame(same_stats)"
   ]
  },
  {
   "cell_type": "code",
   "execution_count": 148,
   "id": "db9b10e2-f9ad-401e-b6fa-3606f4fbcc19",
   "metadata": {},
   "outputs": [
    {
     "data": {
      "text/plain": [
       "0.9928613779200759"
      ]
     },
     "execution_count": 148,
     "metadata": {},
     "output_type": "execute_result"
    }
   ],
   "source": [
    "(same_stats_df['has_same']).sum()/same_stats_df.shape[0]"
   ]
  },
  {
   "cell_type": "code",
   "execution_count": 149,
   "id": "6350289e-57f9-43cb-a422-0ef6f4199a9e",
   "metadata": {},
   "outputs": [
    {
     "data": {
      "text/plain": [
       "0.9152377564330606"
      ]
     },
     "execution_count": 149,
     "metadata": {},
     "output_type": "execute_result"
    }
   ],
   "source": [
    "(same_stats_df['has_faceonly']).sum()/same_stats_df.shape[0]"
   ]
  },
  {
   "cell_type": "code",
   "execution_count": 150,
   "id": "b297803b-593c-4c9e-988f-e00ac24b6f46",
   "metadata": {},
   "outputs": [
    {
     "data": {
      "text/plain": [
       "0.9152377564330606"
      ]
     },
     "execution_count": 150,
     "metadata": {},
     "output_type": "execute_result"
    }
   ],
   "source": [
    "(same_stats_df['has_both']).sum()/same_stats_df.shape[0]"
   ]
  },
  {
   "cell_type": "code",
   "execution_count": 151,
   "id": "f0ea3833-3383-402c-8626-ae60aff5f7bc",
   "metadata": {},
   "outputs": [],
   "source": [
    "per_assembly_mc_stats = same_stats_df.groupby('Assembly')[['has_same', 'has_faceonly', 'has_both','valid']].agg({'has_same': all, 'has_faceonly': all, 'has_both': all,'valid':all})"
   ]
  },
  {
   "cell_type": "code",
   "execution_count": 152,
   "id": "3beb6837-b2d8-4430-b771-fee976f023fe",
   "metadata": {},
   "outputs": [
    {
     "data": {
      "text/plain": [
       "0.9778801843317972"
      ]
     },
     "execution_count": 152,
     "metadata": {},
     "output_type": "execute_result"
    }
   ],
   "source": [
    "per_assembly_mc_stats['has_same'].sum()/per_assembly_mc_stats.shape[0]"
   ]
  },
  {
   "cell_type": "code",
   "execution_count": 153,
   "id": "7495c0af-37db-48ce-85a3-522b161ea04f",
   "metadata": {},
   "outputs": [
    {
     "data": {
      "text/plain": [
       "0.8180235535074245"
      ]
     },
     "execution_count": 153,
     "metadata": {},
     "output_type": "execute_result"
    }
   ],
   "source": [
    "per_assembly_mc_stats['has_faceonly'].sum()/per_assembly_mc_stats.shape[0]"
   ]
  },
  {
   "cell_type": "code",
   "execution_count": 154,
   "id": "65b7088e-b08d-4316-9b63-e955c328b2e6",
   "metadata": {},
   "outputs": [
    {
     "data": {
      "text/plain": [
       "0.8180235535074245"
      ]
     },
     "execution_count": 154,
     "metadata": {},
     "output_type": "execute_result"
    }
   ],
   "source": [
    "(per_assembly_mc_stats['has_both']).sum()/per_assembly_mc_stats.shape[0]"
   ]
  },
  {
   "cell_type": "code",
   "execution_count": 155,
   "id": "ce078959-b54f-4beb-bbdf-a60f56c3dfac",
   "metadata": {},
   "outputs": [
    {
     "data": {
      "text/plain": [
       "7988"
      ]
     },
     "execution_count": 155,
     "metadata": {},
     "output_type": "execute_result"
    }
   ],
   "source": [
    "per_assembly_mc_stats['has_both'].sum()"
   ]
  },
  {
   "cell_type": "code",
   "execution_count": 156,
   "id": "66f79608-4cd5-44ca-97db-61ebd8062486",
   "metadata": {},
   "outputs": [
    {
     "data": {
      "text/plain": [
       "7988"
      ]
     },
     "execution_count": 156,
     "metadata": {},
     "output_type": "execute_result"
    }
   ],
   "source": [
    "assemblies_with_simple_axes = per_assembly_mc_stats[lambda df: df['has_both'] & df['valid']].index\n",
    "len(assemblies_with_simple_axes)"
   ]
  },
  {
   "cell_type": "code",
   "execution_count": 157,
   "id": "1529e75b-1d59-4bf1-b3d4-9e424bae0d17",
   "metadata": {},
   "outputs": [
    {
     "data": {
      "text/plain": [
       "5467"
      ]
     },
     "execution_count": 157,
     "metadata": {},
     "output_type": "execute_result"
    }
   ],
   "source": [
    "assemblies_with_simple_axes_not_augmented = assemblies_with_simple_axes.intersection(final_set)\n",
    "len(assemblies_with_simple_axes_not_augmented)"
   ]
  },
  {
   "cell_type": "code",
   "execution_count": 158,
   "id": "b9e4cd17-d80c-4ab4-a6a9-ae5d086f92de",
   "metadata": {},
   "outputs": [
    {
     "data": {
      "text/plain": [
       "2521"
      ]
     },
     "execution_count": 158,
     "metadata": {},
     "output_type": "execute_result"
    }
   ],
   "source": [
    "assemblies_with_simple_axes_augmented_only = assemblies_with_simple_axes.intersection(num_fixed)\n",
    "len(assemblies_with_simple_axes_augmented_only)"
   ]
  },
  {
   "cell_type": "code",
   "execution_count": 1206,
   "id": "0e492b12-0031-4eed-9728-8a147d9cd375",
   "metadata": {},
   "outputs": [],
   "source": [
    "with open('/projects/grail/jamesn8/projects/mechanical/Mechanical/data/dataset/clean_dataset_same_ids_faceonly_with_augmented_fastens.txt','w') as f:\n",
    "    f.writelines([f'{l}\\n' for l in assemblies_with_simple_axes_not_augmented])"
   ]
  },
  {
   "cell_type": "code",
   "execution_count": 97,
   "id": "42c680ca-cce4-46d4-9b15-59f444b533d3",
   "metadata": {},
   "outputs": [],
   "source": [
    "fixed_augmented_stats = newmates_proposedonly[lambda df: [(d in num_fixed and d in assemblies_with_simple_axes_augmented_only) for d in df['Assembly']]]"
   ]
  },
  {
   "cell_type": "code",
   "execution_count": 1368,
   "id": "eefb6b9f-10de-4a1a-9ae6-9ae39a6dac03",
   "metadata": {},
   "outputs": [
    {
     "name": "stderr",
     "output_type": "stream",
     "text": [
      "/tmp/ipykernel_32663/2184416547.py:8: SettingWithCopyWarning: \n",
      "A value is trying to be set on a copy of a slice from a DataFrame.\n",
      "Try using .loc[row_indexer,col_indexer] = value instead\n",
      "\n",
      "See the caveats in the documentation: https://pandas.pydata.org/pandas-docs/stable/user_guide/indexing.html#returning-a-view-versus-a-copy\n",
      "  fixed_augmented_stats['pair'] = pairs\n"
     ]
    }
   ],
   "source": [
    "pairs = []\n",
    "for i in range(fixed_augmented_stats.shape[0]):\n",
    "    row = fixed_augmented_stats.iloc[i]\n",
    "    ass = row['Assembly']\n",
    "    p1 = part_df.loc[(ass, row['part1']), 'part_indices']\n",
    "    p2 = part_df.loc[(ass, row['part2']), 'part_indices']\n",
    "    pairs.append(tuple(sorted([p1, p2])))\n",
    "fixed_augmented_stats['pair'] = pairs"
   ]
  },
  {
   "cell_type": "code",
   "execution_count": 1369,
   "id": "9b275027-c40f-417e-ade1-11e40ea494ce",
   "metadata": {},
   "outputs": [
    {
     "data": {
      "text/html": [
       "<div>\n",
       "<style scoped>\n",
       "    .dataframe tbody tr th:only-of-type {\n",
       "        vertical-align: middle;\n",
       "    }\n",
       "\n",
       "    .dataframe tbody tr th {\n",
       "        vertical-align: top;\n",
       "    }\n",
       "\n",
       "    .dataframe thead th {\n",
       "        text-align: right;\n",
       "    }\n",
       "</style>\n",
       "<table border=\"1\" class=\"dataframe\">\n",
       "  <thead>\n",
       "    <tr style=\"text-align: right;\">\n",
       "      <th></th>\n",
       "      <th>part1</th>\n",
       "      <th>part2</th>\n",
       "      <th>num_dir_proposals</th>\n",
       "      <th>num_axes_proposals</th>\n",
       "      <th>added_mate</th>\n",
       "      <th>PIN_SLOT</th>\n",
       "      <th>BALL</th>\n",
       "      <th>PARALLEL</th>\n",
       "      <th>SLIDER</th>\n",
       "      <th>REVOLUTE</th>\n",
       "      <th>...</th>\n",
       "      <th>PLANAR</th>\n",
       "      <th>FASTENED</th>\n",
       "      <th>chain_length</th>\n",
       "      <th>axis</th>\n",
       "      <th>origin</th>\n",
       "      <th>type</th>\n",
       "      <th>axis_index</th>\n",
       "      <th>dir_index</th>\n",
       "      <th>Assembly</th>\n",
       "      <th>pair</th>\n",
       "    </tr>\n",
       "  </thead>\n",
       "  <tbody>\n",
       "    <tr>\n",
       "      <th>73</th>\n",
       "      <td>M/43vGtEshEnCVfYF</td>\n",
       "      <td>M+7HkWUCaY9hNIY7+</td>\n",
       "      <td>1</td>\n",
       "      <td>1</td>\n",
       "      <td>True</td>\n",
       "      <td>0</td>\n",
       "      <td>0</td>\n",
       "      <td>0</td>\n",
       "      <td>1</td>\n",
       "      <td>0</td>\n",
       "      <td>...</td>\n",
       "      <td>0</td>\n",
       "      <td>1</td>\n",
       "      <td>2</td>\n",
       "      <td>[1.0, -0.0, -0.0]</td>\n",
       "      <td>None</td>\n",
       "      <td>SLIDER</td>\n",
       "      <td>0</td>\n",
       "      <td>-1</td>\n",
       "      <td>65</td>\n",
       "      <td>(3, 5)</td>\n",
       "    </tr>\n",
       "    <tr>\n",
       "      <th>74</th>\n",
       "      <td>M5oknht5VSNWAJIJg</td>\n",
       "      <td>MAf8myyf0iy5SV6Sv</td>\n",
       "      <td>1</td>\n",
       "      <td>1</td>\n",
       "      <td>True</td>\n",
       "      <td>0</td>\n",
       "      <td>0</td>\n",
       "      <td>0</td>\n",
       "      <td>0</td>\n",
       "      <td>1</td>\n",
       "      <td>...</td>\n",
       "      <td>0</td>\n",
       "      <td>1</td>\n",
       "      <td>2</td>\n",
       "      <td>[1.83697019872103e-16, 1.0, -0.0]</td>\n",
       "      <td>[-0.12303601145165366, -0.008186278679372294, ...</td>\n",
       "      <td>REVOLUTE</td>\n",
       "      <td>0</td>\n",
       "      <td>-1</td>\n",
       "      <td>76</td>\n",
       "      <td>(5, 12)</td>\n",
       "    </tr>\n",
       "    <tr>\n",
       "      <th>75</th>\n",
       "      <td>MKGx4iWBCCoz+zxhB</td>\n",
       "      <td>MEbB2Z4JPNGSkB6rB</td>\n",
       "      <td>1</td>\n",
       "      <td>1</td>\n",
       "      <td>True</td>\n",
       "      <td>0</td>\n",
       "      <td>0</td>\n",
       "      <td>0</td>\n",
       "      <td>0</td>\n",
       "      <td>1</td>\n",
       "      <td>...</td>\n",
       "      <td>0</td>\n",
       "      <td>1</td>\n",
       "      <td>2</td>\n",
       "      <td>[1.83697019872103e-16, 1.0, 0.0]</td>\n",
       "      <td>[0.12255233177536787, 0.008186278679372294, 0....</td>\n",
       "      <td>REVOLUTE</td>\n",
       "      <td>0</td>\n",
       "      <td>-1</td>\n",
       "      <td>76</td>\n",
       "      <td>(6, 11)</td>\n",
       "    </tr>\n",
       "    <tr>\n",
       "      <th>76</th>\n",
       "      <td>MXKOReZp5mMrBqShu</td>\n",
       "      <td>M7EX+0r8L2f8ugpzN</td>\n",
       "      <td>1</td>\n",
       "      <td>1</td>\n",
       "      <td>True</td>\n",
       "      <td>0</td>\n",
       "      <td>0</td>\n",
       "      <td>0</td>\n",
       "      <td>0</td>\n",
       "      <td>2</td>\n",
       "      <td>...</td>\n",
       "      <td>0</td>\n",
       "      <td>0</td>\n",
       "      <td>2</td>\n",
       "      <td>[2.2052206052440078e-17, 1.0, -5.8371366184001...</td>\n",
       "      <td>[-0.13399083744092233, 0.39512315926676045, -0...</td>\n",
       "      <td>REVOLUTE</td>\n",
       "      <td>0</td>\n",
       "      <td>-1</td>\n",
       "      <td>98</td>\n",
       "      <td>(0, 3)</td>\n",
       "    </tr>\n",
       "    <tr>\n",
       "      <th>80</th>\n",
       "      <td>MrKJNvK+WN3Dq4HYB</td>\n",
       "      <td>MIGatvF/VNdYxFRgw</td>\n",
       "      <td>1</td>\n",
       "      <td>1</td>\n",
       "      <td>True</td>\n",
       "      <td>0</td>\n",
       "      <td>0</td>\n",
       "      <td>0</td>\n",
       "      <td>0</td>\n",
       "      <td>1</td>\n",
       "      <td>...</td>\n",
       "      <td>0</td>\n",
       "      <td>1</td>\n",
       "      <td>2</td>\n",
       "      <td>[0.0, 0.0, 1.0]</td>\n",
       "      <td>[-0.16901408450704228, -0.3450704225352113, 0....</td>\n",
       "      <td>REVOLUTE</td>\n",
       "      <td>0</td>\n",
       "      <td>-1</td>\n",
       "      <td>108</td>\n",
       "      <td>(2, 7)</td>\n",
       "    </tr>\n",
       "    <tr>\n",
       "      <th>...</th>\n",
       "      <td>...</td>\n",
       "      <td>...</td>\n",
       "      <td>...</td>\n",
       "      <td>...</td>\n",
       "      <td>...</td>\n",
       "      <td>...</td>\n",
       "      <td>...</td>\n",
       "      <td>...</td>\n",
       "      <td>...</td>\n",
       "      <td>...</td>\n",
       "      <td>...</td>\n",
       "      <td>...</td>\n",
       "      <td>...</td>\n",
       "      <td>...</td>\n",
       "      <td>...</td>\n",
       "      <td>...</td>\n",
       "      <td>...</td>\n",
       "      <td>...</td>\n",
       "      <td>...</td>\n",
       "      <td>...</td>\n",
       "      <td>...</td>\n",
       "    </tr>\n",
       "    <tr>\n",
       "      <th>59029</th>\n",
       "      <td>MVTjYxZxCgavTkU2R</td>\n",
       "      <td>M1/c/kncLN2BVICEu</td>\n",
       "      <td>1</td>\n",
       "      <td>1</td>\n",
       "      <td>True</td>\n",
       "      <td>0</td>\n",
       "      <td>0</td>\n",
       "      <td>0</td>\n",
       "      <td>1</td>\n",
       "      <td>0</td>\n",
       "      <td>...</td>\n",
       "      <td>0</td>\n",
       "      <td>1</td>\n",
       "      <td>2</td>\n",
       "      <td>[1.1261544422867701e-08, 1.0000000000000002, -...</td>\n",
       "      <td>None</td>\n",
       "      <td>SLIDER</td>\n",
       "      <td>0</td>\n",
       "      <td>-1</td>\n",
       "      <td>125098</td>\n",
       "      <td>(3, 4)</td>\n",
       "    </tr>\n",
       "    <tr>\n",
       "      <th>59032</th>\n",
       "      <td>MDmRY4R+7Y3vclbZn</td>\n",
       "      <td>MA7uX6sv/LfhpeyG1</td>\n",
       "      <td>1</td>\n",
       "      <td>1</td>\n",
       "      <td>True</td>\n",
       "      <td>0</td>\n",
       "      <td>0</td>\n",
       "      <td>0</td>\n",
       "      <td>0</td>\n",
       "      <td>1</td>\n",
       "      <td>...</td>\n",
       "      <td>0</td>\n",
       "      <td>1</td>\n",
       "      <td>2</td>\n",
       "      <td>[-1.6543610970574063e-24, -8.003040312202638e-...</td>\n",
       "      <td>[0.35623727920322457, 0.028539788836064575, 0....</td>\n",
       "      <td>REVOLUTE</td>\n",
       "      <td>0</td>\n",
       "      <td>-1</td>\n",
       "      <td>125126</td>\n",
       "      <td>(0, 3)</td>\n",
       "    </tr>\n",
       "    <tr>\n",
       "      <th>59033</th>\n",
       "      <td>MDmRY4R+7Y3vclbZn</td>\n",
       "      <td>MJDRnmuEOpwxbECV1</td>\n",
       "      <td>1</td>\n",
       "      <td>1</td>\n",
       "      <td>True</td>\n",
       "      <td>0</td>\n",
       "      <td>0</td>\n",
       "      <td>0</td>\n",
       "      <td>0</td>\n",
       "      <td>1</td>\n",
       "      <td>...</td>\n",
       "      <td>0</td>\n",
       "      <td>1</td>\n",
       "      <td>2</td>\n",
       "      <td>[-1.6543610970574063e-24, -8.003040312202638e-...</td>\n",
       "      <td>[-0.12389439594135956, 0.03291257290462321, 0....</td>\n",
       "      <td>REVOLUTE</td>\n",
       "      <td>0</td>\n",
       "      <td>-1</td>\n",
       "      <td>125126</td>\n",
       "      <td>(0, 5)</td>\n",
       "    </tr>\n",
       "    <tr>\n",
       "      <th>59034</th>\n",
       "      <td>MDmRY4R+7Y3vclbZn</td>\n",
       "      <td>MRf+ctopVlXnpwDwg</td>\n",
       "      <td>1</td>\n",
       "      <td>1</td>\n",
       "      <td>True</td>\n",
       "      <td>0</td>\n",
       "      <td>0</td>\n",
       "      <td>0</td>\n",
       "      <td>0</td>\n",
       "      <td>1</td>\n",
       "      <td>...</td>\n",
       "      <td>0</td>\n",
       "      <td>1</td>\n",
       "      <td>2</td>\n",
       "      <td>[-1.6543610970574063e-24, -8.003040312202638e-...</td>\n",
       "      <td>[-0.12389439594135956, 0.03291257290462321, 0....</td>\n",
       "      <td>REVOLUTE</td>\n",
       "      <td>0</td>\n",
       "      <td>-1</td>\n",
       "      <td>125126</td>\n",
       "      <td>(0, 6)</td>\n",
       "    </tr>\n",
       "    <tr>\n",
       "      <th>59035</th>\n",
       "      <td>MumOodeUesvG5ES8Q</td>\n",
       "      <td>MVDWoZ5WBhkHUyX0e</td>\n",
       "      <td>1</td>\n",
       "      <td>1</td>\n",
       "      <td>True</td>\n",
       "      <td>0</td>\n",
       "      <td>0</td>\n",
       "      <td>0</td>\n",
       "      <td>0</td>\n",
       "      <td>2</td>\n",
       "      <td>...</td>\n",
       "      <td>0</td>\n",
       "      <td>0</td>\n",
       "      <td>2</td>\n",
       "      <td>[-0.0, 1.0, -0.0]</td>\n",
       "      <td>[0.35418972499000734, -0.09250277131795874, -0...</td>\n",
       "      <td>REVOLUTE</td>\n",
       "      <td>0</td>\n",
       "      <td>-1</td>\n",
       "      <td>125128</td>\n",
       "      <td>(1, 2)</td>\n",
       "    </tr>\n",
       "  </tbody>\n",
       "</table>\n",
       "<p>7309 rows × 21 columns</p>\n",
       "</div>"
      ],
      "text/plain": [
       "                   part1              part2  num_dir_proposals  \\\n",
       "73     M/43vGtEshEnCVfYF  M+7HkWUCaY9hNIY7+                  1   \n",
       "74     M5oknht5VSNWAJIJg  MAf8myyf0iy5SV6Sv                  1   \n",
       "75     MKGx4iWBCCoz+zxhB  MEbB2Z4JPNGSkB6rB                  1   \n",
       "76     MXKOReZp5mMrBqShu  M7EX+0r8L2f8ugpzN                  1   \n",
       "80     MrKJNvK+WN3Dq4HYB  MIGatvF/VNdYxFRgw                  1   \n",
       "...                  ...                ...                ...   \n",
       "59029  MVTjYxZxCgavTkU2R  M1/c/kncLN2BVICEu                  1   \n",
       "59032  MDmRY4R+7Y3vclbZn  MA7uX6sv/LfhpeyG1                  1   \n",
       "59033  MDmRY4R+7Y3vclbZn  MJDRnmuEOpwxbECV1                  1   \n",
       "59034  MDmRY4R+7Y3vclbZn  MRf+ctopVlXnpwDwg                  1   \n",
       "59035  MumOodeUesvG5ES8Q  MVDWoZ5WBhkHUyX0e                  1   \n",
       "\n",
       "       num_axes_proposals  added_mate  PIN_SLOT  BALL  PARALLEL  SLIDER  \\\n",
       "73                      1        True         0     0         0       1   \n",
       "74                      1        True         0     0         0       0   \n",
       "75                      1        True         0     0         0       0   \n",
       "76                      1        True         0     0         0       0   \n",
       "80                      1        True         0     0         0       0   \n",
       "...                   ...         ...       ...   ...       ...     ...   \n",
       "59029                   1        True         0     0         0       1   \n",
       "59032                   1        True         0     0         0       0   \n",
       "59033                   1        True         0     0         0       0   \n",
       "59034                   1        True         0     0         0       0   \n",
       "59035                   1        True         0     0         0       0   \n",
       "\n",
       "       REVOLUTE  ...  PLANAR  FASTENED  chain_length  \\\n",
       "73            0  ...       0         1             2   \n",
       "74            1  ...       0         1             2   \n",
       "75            1  ...       0         1             2   \n",
       "76            2  ...       0         0             2   \n",
       "80            1  ...       0         1             2   \n",
       "...         ...  ...     ...       ...           ...   \n",
       "59029         0  ...       0         1             2   \n",
       "59032         1  ...       0         1             2   \n",
       "59033         1  ...       0         1             2   \n",
       "59034         1  ...       0         1             2   \n",
       "59035         2  ...       0         0             2   \n",
       "\n",
       "                                                    axis  \\\n",
       "73                                     [1.0, -0.0, -0.0]   \n",
       "74                     [1.83697019872103e-16, 1.0, -0.0]   \n",
       "75                      [1.83697019872103e-16, 1.0, 0.0]   \n",
       "76     [2.2052206052440078e-17, 1.0, -5.8371366184001...   \n",
       "80                                       [0.0, 0.0, 1.0]   \n",
       "...                                                  ...   \n",
       "59029  [1.1261544422867701e-08, 1.0000000000000002, -...   \n",
       "59032  [-1.6543610970574063e-24, -8.003040312202638e-...   \n",
       "59033  [-1.6543610970574063e-24, -8.003040312202638e-...   \n",
       "59034  [-1.6543610970574063e-24, -8.003040312202638e-...   \n",
       "59035                                  [-0.0, 1.0, -0.0]   \n",
       "\n",
       "                                                  origin      type axis_index  \\\n",
       "73                                                  None    SLIDER          0   \n",
       "74     [-0.12303601145165366, -0.008186278679372294, ...  REVOLUTE          0   \n",
       "75     [0.12255233177536787, 0.008186278679372294, 0....  REVOLUTE          0   \n",
       "76     [-0.13399083744092233, 0.39512315926676045, -0...  REVOLUTE          0   \n",
       "80     [-0.16901408450704228, -0.3450704225352113, 0....  REVOLUTE          0   \n",
       "...                                                  ...       ...        ...   \n",
       "59029                                               None    SLIDER          0   \n",
       "59032  [0.35623727920322457, 0.028539788836064575, 0....  REVOLUTE          0   \n",
       "59033  [-0.12389439594135956, 0.03291257290462321, 0....  REVOLUTE          0   \n",
       "59034  [-0.12389439594135956, 0.03291257290462321, 0....  REVOLUTE          0   \n",
       "59035  [0.35418972499000734, -0.09250277131795874, -0...  REVOLUTE          0   \n",
       "\n",
       "       dir_index  Assembly     pair  \n",
       "73            -1        65   (3, 5)  \n",
       "74            -1        76  (5, 12)  \n",
       "75            -1        76  (6, 11)  \n",
       "76            -1        98   (0, 3)  \n",
       "80            -1       108   (2, 7)  \n",
       "...          ...       ...      ...  \n",
       "59029         -1    125098   (3, 4)  \n",
       "59032         -1    125126   (0, 3)  \n",
       "59033         -1    125126   (0, 5)  \n",
       "59034         -1    125126   (0, 6)  \n",
       "59035         -1    125128   (1, 2)  \n",
       "\n",
       "[7309 rows x 21 columns]"
      ]
     },
     "execution_count": 1369,
     "metadata": {},
     "output_type": "execute_result"
    }
   ],
   "source": [
    "fixed_augmented_stats"
   ]
  },
  {
   "cell_type": "code",
   "execution_count": 1370,
   "id": "be27675b-97a7-4f9b-aa7d-72ebcd2536ba",
   "metadata": {
    "collapsed": true,
    "jupyter": {
     "outputs_hidden": true
    },
    "tags": []
   },
   "outputs": [
    {
     "name": "stdout",
     "output_type": "stream",
     "text": [
      "processed 0 / 7309\n",
      "processed 100 / 7309\n",
      "processed 200 / 7309\n",
      "processed 300 / 7309\n",
      "processed 400 / 7309\n",
      "processed 500 / 7309\n",
      "processed 600 / 7309\n",
      "processed 700 / 7309\n",
      "processed 800 / 7309\n",
      "processed 900 / 7309\n",
      "processed 1000 / 7309\n",
      "processed 1100 / 7309\n",
      "processed 1200 / 7309\n",
      "processed 1300 / 7309\n",
      "processed 1400 / 7309\n",
      "processed 1500 / 7309\n",
      "processed 1600 / 7309\n",
      "processed 1700 / 7309\n",
      "processed 1800 / 7309\n",
      "processed 1900 / 7309\n",
      "processed 2000 / 7309\n",
      "processed 2100 / 7309\n",
      "processed 2200 / 7309\n",
      "processed 2300 / 7309\n",
      "processed 2400 / 7309\n",
      "processed 2500 / 7309\n",
      "processed 2600 / 7309\n",
      "processed 2700 / 7309\n",
      "processed 2800 / 7309\n",
      "processed 2900 / 7309\n",
      "processed 3000 / 7309\n",
      "processed 3100 / 7309\n",
      "processed 3200 / 7309\n",
      "processed 3300 / 7309\n",
      "processed 3400 / 7309\n",
      "processed 3500 / 7309\n",
      "processed 3600 / 7309\n",
      "processed 3700 / 7309\n",
      "processed 3800 / 7309\n",
      "processed 3900 / 7309\n",
      "processed 4000 / 7309\n",
      "processed 4100 / 7309\n",
      "processed 4200 / 7309\n",
      "processed 4300 / 7309\n",
      "processed 4400 / 7309\n",
      "processed 4500 / 7309\n",
      "processed 4600 / 7309\n",
      "processed 4700 / 7309\n",
      "processed 4800 / 7309\n",
      "processed 4900 / 7309\n",
      "processed 5000 / 7309\n",
      "processed 5100 / 7309\n",
      "processed 5200 / 7309\n",
      "processed 5300 / 7309\n",
      "processed 5400 / 7309\n",
      "processed 5500 / 7309\n",
      "processed 5600 / 7309\n",
      "processed 5700 / 7309\n",
      "processed 5800 / 7309\n",
      "processed 5900 / 7309\n",
      "processed 6000 / 7309\n",
      "processed 6100 / 7309\n",
      "processed 6200 / 7309\n",
      "processed 6300 / 7309\n",
      "processed 6400 / 7309\n",
      "processed 6500 / 7309\n",
      "processed 6600 / 7309\n",
      "processed 6700 / 7309\n",
      "processed 6800 / 7309\n",
      "processed 6900 / 7309\n",
      "processed 7000 / 7309\n",
      "processed 7100 / 7309\n",
      "processed 7200 / 7309\n",
      "processed 7300 / 7309\n"
     ]
    }
   ],
   "source": [
    "same_stats_augmented = []\n",
    "for i,ind in enumerate(fixed_augmented_stats.index):\n",
    "    if i % 100 == 0:\n",
    "        print('processed',i,'/',fixed_augmented_stats.shape[0])\n",
    "    proposal_row = fixed_augmented_stats.loc[ind]\n",
    "    part1, part2 = proposal_row['pair']\n",
    "    ass = proposal_row['Assembly']\n",
    "    valid = True\n",
    "    if proposal_row['type'] == 'SLIDER':\n",
    "        dir_ind = mc_df_by_axis.loc[(ass, part1, part2, proposal_row['axis_index']), 'dir_ind']\n",
    "        mc_subset = mc_df_by_dir.loc[[(ass, part1, part2, dir_ind)]]\n",
    "        has_same = mc_subset['has_same'].any()\n",
    "        has_faceonly = mc_subset['has_faceonly'].any()\n",
    "        has_both = mc_subset['has_both'].any()\n",
    "    else:\n",
    "        ax_ind = proposal_row['axis_index']\n",
    "        has_same = mc_df_by_axis.loc[(ass, part1, part2, ax_ind),'has_same']\n",
    "        has_faceonly = mc_df_by_axis.loc[(ass, part1, part2, ax_ind),'has_faceonly']\n",
    "        has_both = mc_df_by_axis.loc[(ass, part1, part2, ax_ind),'has_both']\n",
    "    same_stat = {'Assembly': ass, 'mate': ind, 'type': proposal_row['type'], 'has_same': has_same, 'has_faceonly': has_faceonly, 'has_both': has_both, 'valid': valid}\n",
    "    same_stats_augmented.append(same_stat)\n",
    "    "
   ]
  },
  {
   "cell_type": "code",
   "execution_count": 1371,
   "id": "adee0b1b-b721-41bd-929e-51f9df725e9e",
   "metadata": {},
   "outputs": [],
   "source": [
    "same_stats_augmented_df = ps.DataFrame(same_stats_augmented)"
   ]
  },
  {
   "cell_type": "code",
   "execution_count": 1433,
   "id": "b3adf74d-c824-4a13-a24c-0e07b573358b",
   "metadata": {},
   "outputs": [
    {
     "data": {
      "text/plain": [
       "0.9938432070050622"
      ]
     },
     "execution_count": 1433,
     "metadata": {},
     "output_type": "execute_result"
    }
   ],
   "source": [
    "same_stats_augmented_df['has_both'].sum()/same_stats_augmented_df.shape[0]"
   ]
  },
  {
   "cell_type": "code",
   "execution_count": 1420,
   "id": "96b89caf-3ba6-4272-971c-ba47e3e96dee",
   "metadata": {},
   "outputs": [],
   "source": [
    "per_assembly_mc_stats_augmented = same_stats_augmented_df.groupby('Assembly')[['has_same', 'has_faceonly', 'has_both']].agg({'has_same': all, 'has_faceonly': all, 'has_both': all})"
   ]
  },
  {
   "cell_type": "code",
   "execution_count": 1421,
   "id": "0260dbeb-517a-4cc1-9b05-209d0dcb92ac",
   "metadata": {},
   "outputs": [
    {
     "data": {
      "text/plain": [
       "0.9869099563665212"
      ]
     },
     "execution_count": 1421,
     "metadata": {},
     "output_type": "execute_result"
    }
   ],
   "source": [
    "per_assembly_mc_stats_augmented['has_both'].sum()/per_assembly_mc_stats_augmented.shape[0]"
   ]
  },
  {
   "cell_type": "code",
   "execution_count": 1424,
   "id": "9f356aae-612b-4b7d-bcbd-7b056c59d6ab",
   "metadata": {},
   "outputs": [
    {
     "name": "stdout",
     "output_type": "stream",
     "text": [
      "assemblies with simple augmented axes: 2488 out of 2521 augmented fixed assemblies\n"
     ]
    }
   ],
   "source": [
    "assemblies_with_simple_augmented_axes = per_assembly_mc_stats_augmented[lambda df: df['has_both']].index\n",
    "print('assemblies with simple augmented axes:',len(assemblies_with_simple_augmented_axes),'out of',per_assembly_mc_stats_augmented.shape[0],'augmented fixed assemblies')"
   ]
  },
  {
   "cell_type": "code",
   "execution_count": 1431,
   "id": "93f5235d-72e8-43da-abd2-7d5fd7bb862a",
   "metadata": {},
   "outputs": [
    {
     "data": {
      "text/plain": [
       "7955"
      ]
     },
     "execution_count": 1431,
     "metadata": {},
     "output_type": "execute_result"
    }
   ],
   "source": [
    "len(assemblies_with_simple_augmented_axes) + len(assemblies_with_simple_axes_not_augmented)"
   ]
  },
  {
   "cell_type": "code",
   "execution_count": null,
   "id": "a9e08b5f-b385-471d-add7-2c7755b4ac57",
   "metadata": {},
   "outputs": [],
   "source": []
  },
  {
   "cell_type": "code",
   "execution_count": 225,
   "id": "8586dc45-3c0b-48db-91f8-a2179ecaceea",
   "metadata": {},
   "outputs": [],
   "source": [
    "mate_df_joined_indexed = mate_df_joined.set_index(['Assembly','part1_idx','part2_idx']).drop(['Part1','Part2'],axis=1)\n",
    "mate_df_joined_indexed.index.rename({'part1_idx':'part1','part2_idx':'part2'},inplace=True)"
   ]
  },
  {
   "cell_type": "code",
   "execution_count": 226,
   "id": "ab2d513f-da6a-4b9e-b5bb-34ad4390ed0c",
   "metadata": {},
   "outputs": [],
   "source": [
    "mc_df_paired = mc_df.copy()\n",
    "mc_df_paired = mc_df_paired[lambda df: [d in final_set for d in df['Assembly']]]\n",
    "#mc_df_paired['pair'] = list(zip(mc_df_paired['part1'],mc_df_paired['part2']))\n",
    "#axis_count_df = mc_df_paired.groupby(['Assembly','pair'])[['axis_ind']].count()\n",
    "axis_count_df = mc_df_paired.groupby(['Assembly','part1','part2'])[['axis_ind']].count()"
   ]
  },
  {
   "cell_type": "code",
   "execution_count": 227,
   "id": "c63a7fb2-6947-4995-bd47-e081599a01a3",
   "metadata": {},
   "outputs": [],
   "source": [
    "dir_count_df = mc_df_paired.groupby(['Assembly','part1','part2'])[['dir_ind']].agg(lambda df: len(df.unique()))"
   ]
  },
  {
   "cell_type": "code",
   "execution_count": 242,
   "id": "5eaedcab-34c2-48d3-b6de-bcd87531b07b",
   "metadata": {},
   "outputs": [],
   "source": [
    "allcounts = axis_count_df.join(dir_count_df).join(mate_df_joined_indexed).drop(['Axes1','Origin2','Origin1','Axes2','Name','dir_index','axis_index','dirs_agree','axes_agree','rigid_comp_attempting_motion','valid','has_any_axis','has_same_dir_axis'],axis=1)"
   ]
  },
  {
   "cell_type": "code",
   "execution_count": 250,
   "id": "9c1acc64-7264-4573-8869-5fbc9e45580c",
   "metadata": {},
   "outputs": [],
   "source": [
    "allcounts['singleton'] = (allcounts['Type'] == 'FASTENED') | ((allcounts['Type'] == 'SLIDER') & allcounts['dir_ind'] == 1) | (allcounts['axis_ind'] == 1)"
   ]
  },
  {
   "cell_type": "code",
   "execution_count": 251,
   "id": "a28f068a-760e-4f98-b3d0-accd7d30283a",
   "metadata": {},
   "outputs": [
    {
     "data": {
      "text/plain": [
       "0.8310161576037361"
      ]
     },
     "execution_count": 251,
     "metadata": {},
     "output_type": "execute_result"
    }
   ],
   "source": [
    "allcounts['singleton'].sum()/allcounts.shape[0]"
   ]
  },
  {
   "cell_type": "code",
   "execution_count": 262,
   "id": "4c92a19d-9988-4168-80ce-7addc593e1bf",
   "metadata": {},
   "outputs": [],
   "source": [
    "with open('singleton.csv','w') as f:\n",
    "    for ind in allcounts[lambda df: df['singleton']].index:\n",
    "        f.write(f'{ind[0]} {ind[1]} {ind[2]}\\n')"
   ]
  },
  {
   "cell_type": "code",
   "execution_count": 228,
   "id": "70fb1433-a559-4926-9a6a-4803395bd756",
   "metadata": {},
   "outputs": [],
   "source": [
    "axis_count_mate_df = axis_count_df.join(mate_df_joined_indexed)\n",
    "axis_count_mate_df['singleton'] = axis_count_mate_df['axis_ind'] == 1\n",
    "dir_count_mate_df = dir_count_df.join(mate_df_joined_indexed)\n",
    "dir_count_mate_df['singleton'] = dir_count_mate_df['dir_ind'] == 1"
   ]
  },
  {
   "cell_type": "code",
   "execution_count": 229,
   "id": "1e953f17-25ad-4780-a52d-a29f345c5672",
   "metadata": {},
   "outputs": [
    {
     "data": {
      "text/plain": [
       "array([[<AxesSubplot:title={'center':'axis_ind'}>]], dtype=object)"
      ]
     },
     "execution_count": 229,
     "metadata": {},
     "output_type": "execute_result"
    },
    {
     "data": {
      "image/png": "[encoded data removed]",
      "text/plain": [
       "<Figure size 432x288 with 1 Axes>"
      ]
     },
     "metadata": {
      "needs_background": "light"
     },
     "output_type": "display_data"
    }
   ],
   "source": [
    "axis_count_mate_df[lambda df: df['Type'] == 'SLIDER'][['axis_ind']][lambda df: df < 50].hist(bins=50)"
   ]
  },
  {
   "cell_type": "code",
   "execution_count": 164,
   "id": "c213e72c-db29-4e7e-8e19-3561e2b4fc20",
   "metadata": {},
   "outputs": [
    {
     "data": {
      "text/plain": [
       "0.6649248856956238"
      ]
     },
     "execution_count": 164,
     "metadata": {},
     "output_type": "execute_result"
    }
   ],
   "source": [
    "(dir_count_mate_df[lambda df: df['Type'] == 'SLIDER']['dir_ind'] == 1).sum() / dir_count_mate_df[lambda df: df['Type'] == 'SLIDER'].shape[0]"
   ]
  },
  {
   "cell_type": "code",
   "execution_count": 165,
   "id": "6e7460e6-4c4e-46be-bbff-53d613fcfbcf",
   "metadata": {},
   "outputs": [],
   "source": [
    "assemblies_with_singleton_sliders = dir_count_mate_df[lambda df: df['Type'] == 'SLIDER'].groupby('Assembly')['singleton'].all()"
   ]
  },
  {
   "cell_type": "code",
   "execution_count": 166,
   "id": "aa25b887-790c-46d1-bc38-6b8dc9ca062a",
   "metadata": {},
   "outputs": [
    {
     "data": {
      "text/plain": [
       "3372"
      ]
     },
     "execution_count": 166,
     "metadata": {},
     "output_type": "execute_result"
    }
   ],
   "source": [
    "assemblies_with_singleton_axes = axis_count_mate_df.groupby('Assembly')['singleton'].all()\n",
    "assemblies_with_singleton_axes.sum()"
   ]
  },
  {
   "cell_type": "code",
   "execution_count": 167,
   "id": "32c4f488-0daa-4825-b8b4-87041045e93b",
   "metadata": {},
   "outputs": [
    {
     "data": {
      "text/plain": [
       "3726"
      ]
     },
     "execution_count": 167,
     "metadata": {},
     "output_type": "execute_result"
    }
   ],
   "source": [
    "assemblies_with_singleton_axes_for_non_fastens = axis_count_mate_df[lambda df: df['Type'] != 'FASTENED'].groupby('Assembly')['singleton'].all()\n",
    "assemblies_with_singleton_axes_for_non_fastens.sum()"
   ]
  },
  {
   "cell_type": "code",
   "execution_count": 168,
   "id": "a69cda45-6002-4c3f-8ade-10cb62163655",
   "metadata": {},
   "outputs": [
    {
     "data": {
      "text/plain": [
       "3226"
      ]
     },
     "execution_count": 168,
     "metadata": {},
     "output_type": "execute_result"
    }
   ],
   "source": [
    "assemblies_with_singleton_axes_for_non_fastens_or_sliders = axis_count_mate_df[lambda df: (df['Type'] != 'FASTENED') & (df['Type'] != 'SLIDER')].groupby('Assembly')['singleton'].all()\n",
    "assemblies_with_singleton_axes_for_non_fastens_or_sliders.sum()"
   ]
  },
  {
   "cell_type": "code",
   "execution_count": 169,
   "id": "23d0568c-1124-4f2e-a380-bd78a5f99dda",
   "metadata": {},
   "outputs": [],
   "source": [
    "assemblies_with_nonsingleton_axes_for_revolute_or_cylindrical = axis_count_mate_df[lambda df: (df['Type'] != 'FASTENED') & (df['Type'] != 'SLIDER')].groupby('Assembly')['singleton'].agg(lambda df: (~df).any())[lambda df: df]"
   ]
  },
  {
   "cell_type": "code",
   "execution_count": 170,
   "id": "54d40593-0e37-4053-8d2f-e8e62840b5a6",
   "metadata": {},
   "outputs": [],
   "source": [
    "assemblies_with_nonsingleton_dirs_for_sliders = dir_count_mate_df[lambda df: df['Type'] == 'SLIDER'].groupby('Assembly')['singleton'].agg(lambda df: (~df).any())[lambda df: df]"
   ]
  },
  {
   "cell_type": "code",
   "execution_count": 171,
   "id": "981c8e57-8749-4263-aeb8-e4af0e30bbec",
   "metadata": {},
   "outputs": [
    {
     "data": {
      "text/plain": [
       "4192"
      ]
     },
     "execution_count": 171,
     "metadata": {},
     "output_type": "execute_result"
    }
   ],
   "source": [
    "assemblies_with_no_meaningful_choices = final_set.difference(assemblies_with_nonsingleton_axes_for_revolute_or_cylindrical.index).difference(assemblies_with_nonsingleton_dirs_for_sliders.index)\n",
    "len(assemblies_with_no_meaningful_choices)"
   ]
  },
  {
   "cell_type": "code",
   "execution_count": 1535,
   "id": "0fd6ae18-6091-4eae-ae08-73a4ca92adc7",
   "metadata": {},
   "outputs": [
    {
     "data": {
      "text/plain": [
       "array([[<AxesSubplot:title={'center':'axis_ind'}>]], dtype=object)"
      ]
     },
     "execution_count": 1535,
     "metadata": {},
     "output_type": "execute_result"
    },
    {
     "data": {
      "image/png": "[encoded data removed]",
      "text/plain": [
       "<Figure size 432x288 with 1 Axes>"
      ]
     },
     "metadata": {
      "needs_background": "light"
     },
     "output_type": "display_data"
    }
   ],
   "source": [
    "axis_count_mate_df[['axis_ind']][lambda df: df < 50].hist(bins=50)"
   ]
  },
  {
   "cell_type": "code",
   "execution_count": 172,
   "id": "fd25ae9e-7d4d-4814-922c-bbc0afcc9d2d",
   "metadata": {},
   "outputs": [
    {
     "data": {
      "text/plain": [
       "0.638144827956412"
      ]
     },
     "execution_count": 172,
     "metadata": {},
     "output_type": "execute_result"
    }
   ],
   "source": [
    "axis_count_mate_df['singleton'].sum()/axis_count_mate_df.shape[0]"
   ]
  },
  {
   "cell_type": "code",
   "execution_count": 185,
   "id": "4343df4e-ff69-4122-8821-138bbbfdc072",
   "metadata": {},
   "outputs": [
    {
     "ename": "KeyError",
     "evalue": "0",
     "output_type": "error",
     "traceback": [
      "\u001b[0;31m---------------------------------------------------------------------------\u001b[0m",
      "\u001b[0;31mKeyError\u001b[0m                                  Traceback (most recent call last)",
      "\u001b[0;32m/fast/jamesn8/anaconda3/envs/torch3/lib/python3.9/site-packages/pandas/core/indexes/base.py\u001b[0m in \u001b[0;36mget_loc\u001b[0;34m(self, key, method, tolerance)\u001b[0m\n\u001b[1;32m   3360\u001b[0m             \u001b[0;32mtry\u001b[0m\u001b[0;34m:\u001b[0m\u001b[0;34m\u001b[0m\u001b[0;34m\u001b[0m\u001b[0m\n\u001b[0;32m-> 3361\u001b[0;31m                 \u001b[0;32mreturn\u001b[0m \u001b[0mself\u001b[0m\u001b[0;34m.\u001b[0m\u001b[0m_engine\u001b[0m\u001b[0;34m.\u001b[0m\u001b[0mget_loc\u001b[0m\u001b[0;34m(\u001b[0m\u001b[0mcasted_key\u001b[0m\u001b[0;34m)\u001b[0m\u001b[0;34m\u001b[0m\u001b[0;34m\u001b[0m\u001b[0m\n\u001b[0m\u001b[1;32m   3362\u001b[0m             \u001b[0;32mexcept\u001b[0m \u001b[0mKeyError\u001b[0m \u001b[0;32mas\u001b[0m \u001b[0merr\u001b[0m\u001b[0;34m:\u001b[0m\u001b[0;34m\u001b[0m\u001b[0;34m\u001b[0m\u001b[0m\n",
      "\u001b[0;32m/fast/jamesn8/anaconda3/envs/torch3/lib/python3.9/site-packages/pandas/_libs/index.pyx\u001b[0m in \u001b[0;36mpandas._libs.index.IndexEngine.get_loc\u001b[0;34m()\u001b[0m\n",
      "\u001b[0;32m/fast/jamesn8/anaconda3/envs/torch3/lib/python3.9/site-packages/pandas/_libs/index.pyx\u001b[0m in \u001b[0;36mpandas._libs.index.IndexEngine.get_loc\u001b[0;34m()\u001b[0m\n",
      "\u001b[0;32mpandas/_libs/hashtable_class_helper.pxi\u001b[0m in \u001b[0;36mpandas._libs.hashtable.PyObjectHashTable.get_item\u001b[0;34m()\u001b[0m\n",
      "\u001b[0;32mpandas/_libs/hashtable_class_helper.pxi\u001b[0m in \u001b[0;36mpandas._libs.hashtable.PyObjectHashTable.get_item\u001b[0;34m()\u001b[0m\n",
      "\u001b[0;31mKeyError\u001b[0m: 0",
      "\nThe above exception was the direct cause of the following exception:\n",
      "\u001b[0;31mKeyError\u001b[0m                                  Traceback (most recent call last)",
      "\u001b[0;32m/tmp/ipykernel_2598071/1495127603.py\u001b[0m in \u001b[0;36m<module>\u001b[0;34m\u001b[0m\n\u001b[0;32m----> 1\u001b[0;31m \u001b[0maxis_count_mate_df\u001b[0m\u001b[0;34m.\u001b[0m\u001b[0mloc\u001b[0m\u001b[0;34m[\u001b[0m\u001b[0;34m(\u001b[0m\u001b[0;36m40\u001b[0m\u001b[0;34m)\u001b[0m\u001b[0;34m]\u001b[0m\u001b[0;34m.\u001b[0m\u001b[0mloc\u001b[0m\u001b[0;34m[\u001b[0m\u001b[0;34m(\u001b[0m\u001b[0;36m0\u001b[0m\u001b[0;34m,\u001b[0m\u001b[0;36m1\u001b[0m\u001b[0;34m)\u001b[0m\u001b[0;34m]\u001b[0m\u001b[0;34m\u001b[0m\u001b[0;34m\u001b[0m\u001b[0m\n\u001b[0m",
      "\u001b[0;32m/fast/jamesn8/anaconda3/envs/torch3/lib/python3.9/site-packages/pandas/core/indexing.py\u001b[0m in \u001b[0;36m__getitem__\u001b[0;34m(self, key)\u001b[0m\n\u001b[1;32m    923\u001b[0m                 \u001b[0;32mwith\u001b[0m \u001b[0msuppress\u001b[0m\u001b[0;34m(\u001b[0m\u001b[0mKeyError\u001b[0m\u001b[0;34m,\u001b[0m \u001b[0mIndexError\u001b[0m\u001b[0;34m)\u001b[0m\u001b[0;34m:\u001b[0m\u001b[0;34m\u001b[0m\u001b[0;34m\u001b[0m\u001b[0m\n\u001b[1;32m    924\u001b[0m                     \u001b[0;32mreturn\u001b[0m \u001b[0mself\u001b[0m\u001b[0;34m.\u001b[0m\u001b[0mobj\u001b[0m\u001b[0;34m.\u001b[0m\u001b[0m_get_value\u001b[0m\u001b[0;34m(\u001b[0m\u001b[0;34m*\u001b[0m\u001b[0mkey\u001b[0m\u001b[0;34m,\u001b[0m \u001b[0mtakeable\u001b[0m\u001b[0;34m=\u001b[0m\u001b[0mself\u001b[0m\u001b[0;34m.\u001b[0m\u001b[0m_takeable\u001b[0m\u001b[0;34m)\u001b[0m\u001b[0;34m\u001b[0m\u001b[0;34m\u001b[0m\u001b[0m\n\u001b[0;32m--> 925\u001b[0;31m             \u001b[0;32mreturn\u001b[0m \u001b[0mself\u001b[0m\u001b[0;34m.\u001b[0m\u001b[0m_getitem_tuple\u001b[0m\u001b[0;34m(\u001b[0m\u001b[0mkey\u001b[0m\u001b[0;34m)\u001b[0m\u001b[0;34m\u001b[0m\u001b[0;34m\u001b[0m\u001b[0m\n\u001b[0m\u001b[1;32m    926\u001b[0m         \u001b[0;32melse\u001b[0m\u001b[0;34m:\u001b[0m\u001b[0;34m\u001b[0m\u001b[0;34m\u001b[0m\u001b[0m\n\u001b[1;32m    927\u001b[0m             \u001b[0;31m# we by definition only have the 0th axis\u001b[0m\u001b[0;34m\u001b[0m\u001b[0;34m\u001b[0m\u001b[0;34m\u001b[0m\u001b[0m\n",
      "\u001b[0;32m/fast/jamesn8/anaconda3/envs/torch3/lib/python3.9/site-packages/pandas/core/indexing.py\u001b[0m in \u001b[0;36m_getitem_tuple\u001b[0;34m(self, tup)\u001b[0m\n\u001b[1;32m   1098\u001b[0m     \u001b[0;32mdef\u001b[0m \u001b[0m_getitem_tuple\u001b[0m\u001b[0;34m(\u001b[0m\u001b[0mself\u001b[0m\u001b[0;34m,\u001b[0m \u001b[0mtup\u001b[0m\u001b[0;34m:\u001b[0m \u001b[0mtuple\u001b[0m\u001b[0;34m)\u001b[0m\u001b[0;34m:\u001b[0m\u001b[0;34m\u001b[0m\u001b[0;34m\u001b[0m\u001b[0m\n\u001b[1;32m   1099\u001b[0m         \u001b[0;32mwith\u001b[0m \u001b[0msuppress\u001b[0m\u001b[0;34m(\u001b[0m\u001b[0mIndexingError\u001b[0m\u001b[0;34m)\u001b[0m\u001b[0;34m:\u001b[0m\u001b[0;34m\u001b[0m\u001b[0;34m\u001b[0m\u001b[0m\n\u001b[0;32m-> 1100\u001b[0;31m             \u001b[0;32mreturn\u001b[0m \u001b[0mself\u001b[0m\u001b[0;34m.\u001b[0m\u001b[0m_getitem_lowerdim\u001b[0m\u001b[0;34m(\u001b[0m\u001b[0mtup\u001b[0m\u001b[0;34m)\u001b[0m\u001b[0;34m\u001b[0m\u001b[0;34m\u001b[0m\u001b[0m\n\u001b[0m\u001b[1;32m   1101\u001b[0m \u001b[0;34m\u001b[0m\u001b[0m\n\u001b[1;32m   1102\u001b[0m         \u001b[0;31m# no multi-index, so validate all of the indexers\u001b[0m\u001b[0;34m\u001b[0m\u001b[0;34m\u001b[0m\u001b[0;34m\u001b[0m\u001b[0m\n",
      "\u001b[0;32m/fast/jamesn8/anaconda3/envs/torch3/lib/python3.9/site-packages/pandas/core/indexing.py\u001b[0m in \u001b[0;36m_getitem_lowerdim\u001b[0;34m(self, tup)\u001b[0m\n\u001b[1;32m    836\u001b[0m                 \u001b[0;31m# We don't need to check for tuples here because those are\u001b[0m\u001b[0;34m\u001b[0m\u001b[0;34m\u001b[0m\u001b[0;34m\u001b[0m\u001b[0m\n\u001b[1;32m    837\u001b[0m                 \u001b[0;31m#  caught by the _is_nested_tuple_indexer check above.\u001b[0m\u001b[0;34m\u001b[0m\u001b[0;34m\u001b[0m\u001b[0;34m\u001b[0m\u001b[0m\n\u001b[0;32m--> 838\u001b[0;31m                 \u001b[0msection\u001b[0m \u001b[0;34m=\u001b[0m \u001b[0mself\u001b[0m\u001b[0;34m.\u001b[0m\u001b[0m_getitem_axis\u001b[0m\u001b[0;34m(\u001b[0m\u001b[0mkey\u001b[0m\u001b[0;34m,\u001b[0m \u001b[0maxis\u001b[0m\u001b[0;34m=\u001b[0m\u001b[0mi\u001b[0m\u001b[0;34m)\u001b[0m\u001b[0;34m\u001b[0m\u001b[0;34m\u001b[0m\u001b[0m\n\u001b[0m\u001b[1;32m    839\u001b[0m \u001b[0;34m\u001b[0m\u001b[0m\n\u001b[1;32m    840\u001b[0m                 \u001b[0;31m# We should never have a scalar section here, because\u001b[0m\u001b[0;34m\u001b[0m\u001b[0;34m\u001b[0m\u001b[0;34m\u001b[0m\u001b[0m\n",
      "\u001b[0;32m/fast/jamesn8/anaconda3/envs/torch3/lib/python3.9/site-packages/pandas/core/indexing.py\u001b[0m in \u001b[0;36m_getitem_axis\u001b[0;34m(self, key, axis)\u001b[0m\n\u001b[1;32m   1162\u001b[0m         \u001b[0;31m# fall thru to straight lookup\u001b[0m\u001b[0;34m\u001b[0m\u001b[0;34m\u001b[0m\u001b[0;34m\u001b[0m\u001b[0m\n\u001b[1;32m   1163\u001b[0m         \u001b[0mself\u001b[0m\u001b[0;34m.\u001b[0m\u001b[0m_validate_key\u001b[0m\u001b[0;34m(\u001b[0m\u001b[0mkey\u001b[0m\u001b[0;34m,\u001b[0m \u001b[0maxis\u001b[0m\u001b[0;34m)\u001b[0m\u001b[0;34m\u001b[0m\u001b[0;34m\u001b[0m\u001b[0m\n\u001b[0;32m-> 1164\u001b[0;31m         \u001b[0;32mreturn\u001b[0m \u001b[0mself\u001b[0m\u001b[0;34m.\u001b[0m\u001b[0m_get_label\u001b[0m\u001b[0;34m(\u001b[0m\u001b[0mkey\u001b[0m\u001b[0;34m,\u001b[0m \u001b[0maxis\u001b[0m\u001b[0;34m=\u001b[0m\u001b[0maxis\u001b[0m\u001b[0;34m)\u001b[0m\u001b[0;34m\u001b[0m\u001b[0;34m\u001b[0m\u001b[0m\n\u001b[0m\u001b[1;32m   1165\u001b[0m \u001b[0;34m\u001b[0m\u001b[0m\n\u001b[1;32m   1166\u001b[0m     \u001b[0;32mdef\u001b[0m \u001b[0m_get_slice_axis\u001b[0m\u001b[0;34m(\u001b[0m\u001b[0mself\u001b[0m\u001b[0;34m,\u001b[0m \u001b[0mslice_obj\u001b[0m\u001b[0;34m:\u001b[0m \u001b[0mslice\u001b[0m\u001b[0;34m,\u001b[0m \u001b[0maxis\u001b[0m\u001b[0;34m:\u001b[0m \u001b[0mint\u001b[0m\u001b[0;34m)\u001b[0m\u001b[0;34m:\u001b[0m\u001b[0;34m\u001b[0m\u001b[0;34m\u001b[0m\u001b[0m\n",
      "\u001b[0;32m/fast/jamesn8/anaconda3/envs/torch3/lib/python3.9/site-packages/pandas/core/indexing.py\u001b[0m in \u001b[0;36m_get_label\u001b[0;34m(self, label, axis)\u001b[0m\n\u001b[1;32m   1111\u001b[0m     \u001b[0;32mdef\u001b[0m \u001b[0m_get_label\u001b[0m\u001b[0;34m(\u001b[0m\u001b[0mself\u001b[0m\u001b[0;34m,\u001b[0m \u001b[0mlabel\u001b[0m\u001b[0;34m,\u001b[0m \u001b[0maxis\u001b[0m\u001b[0;34m:\u001b[0m \u001b[0mint\u001b[0m\u001b[0;34m)\u001b[0m\u001b[0;34m:\u001b[0m\u001b[0;34m\u001b[0m\u001b[0;34m\u001b[0m\u001b[0m\n\u001b[1;32m   1112\u001b[0m         \u001b[0;31m# GH#5667 this will fail if the label is not present in the axis.\u001b[0m\u001b[0;34m\u001b[0m\u001b[0;34m\u001b[0m\u001b[0;34m\u001b[0m\u001b[0m\n\u001b[0;32m-> 1113\u001b[0;31m         \u001b[0;32mreturn\u001b[0m \u001b[0mself\u001b[0m\u001b[0;34m.\u001b[0m\u001b[0mobj\u001b[0m\u001b[0;34m.\u001b[0m\u001b[0mxs\u001b[0m\u001b[0;34m(\u001b[0m\u001b[0mlabel\u001b[0m\u001b[0;34m,\u001b[0m \u001b[0maxis\u001b[0m\u001b[0;34m=\u001b[0m\u001b[0maxis\u001b[0m\u001b[0;34m)\u001b[0m\u001b[0;34m\u001b[0m\u001b[0;34m\u001b[0m\u001b[0m\n\u001b[0m\u001b[1;32m   1114\u001b[0m \u001b[0;34m\u001b[0m\u001b[0m\n\u001b[1;32m   1115\u001b[0m     \u001b[0;32mdef\u001b[0m \u001b[0m_handle_lowerdim_multi_index_axis0\u001b[0m\u001b[0;34m(\u001b[0m\u001b[0mself\u001b[0m\u001b[0;34m,\u001b[0m \u001b[0mtup\u001b[0m\u001b[0;34m:\u001b[0m \u001b[0mtuple\u001b[0m\u001b[0;34m)\u001b[0m\u001b[0;34m:\u001b[0m\u001b[0;34m\u001b[0m\u001b[0;34m\u001b[0m\u001b[0m\n",
      "\u001b[0;32m/fast/jamesn8/anaconda3/envs/torch3/lib/python3.9/site-packages/pandas/core/generic.py\u001b[0m in \u001b[0;36mxs\u001b[0;34m(self, key, axis, level, drop_level)\u001b[0m\n\u001b[1;32m   3774\u001b[0m                 \u001b[0;32mraise\u001b[0m \u001b[0mTypeError\u001b[0m\u001b[0;34m(\u001b[0m\u001b[0;34mf\"Expected label or tuple of labels, got {key}\"\u001b[0m\u001b[0;34m)\u001b[0m \u001b[0;32mfrom\u001b[0m \u001b[0me\u001b[0m\u001b[0;34m\u001b[0m\u001b[0;34m\u001b[0m\u001b[0m\n\u001b[1;32m   3775\u001b[0m         \u001b[0;32melse\u001b[0m\u001b[0;34m:\u001b[0m\u001b[0;34m\u001b[0m\u001b[0;34m\u001b[0m\u001b[0m\n\u001b[0;32m-> 3776\u001b[0;31m             \u001b[0mloc\u001b[0m \u001b[0;34m=\u001b[0m \u001b[0mindex\u001b[0m\u001b[0;34m.\u001b[0m\u001b[0mget_loc\u001b[0m\u001b[0;34m(\u001b[0m\u001b[0mkey\u001b[0m\u001b[0;34m)\u001b[0m\u001b[0;34m\u001b[0m\u001b[0;34m\u001b[0m\u001b[0m\n\u001b[0m\u001b[1;32m   3777\u001b[0m \u001b[0;34m\u001b[0m\u001b[0m\n\u001b[1;32m   3778\u001b[0m             \u001b[0;32mif\u001b[0m \u001b[0misinstance\u001b[0m\u001b[0;34m(\u001b[0m\u001b[0mloc\u001b[0m\u001b[0;34m,\u001b[0m \u001b[0mnp\u001b[0m\u001b[0;34m.\u001b[0m\u001b[0mndarray\u001b[0m\u001b[0;34m)\u001b[0m\u001b[0;34m:\u001b[0m\u001b[0;34m\u001b[0m\u001b[0;34m\u001b[0m\u001b[0m\n",
      "\u001b[0;32m/fast/jamesn8/anaconda3/envs/torch3/lib/python3.9/site-packages/pandas/core/indexes/base.py\u001b[0m in \u001b[0;36mget_loc\u001b[0;34m(self, key, method, tolerance)\u001b[0m\n\u001b[1;32m   3361\u001b[0m                 \u001b[0;32mreturn\u001b[0m \u001b[0mself\u001b[0m\u001b[0;34m.\u001b[0m\u001b[0m_engine\u001b[0m\u001b[0;34m.\u001b[0m\u001b[0mget_loc\u001b[0m\u001b[0;34m(\u001b[0m\u001b[0mcasted_key\u001b[0m\u001b[0;34m)\u001b[0m\u001b[0;34m\u001b[0m\u001b[0;34m\u001b[0m\u001b[0m\n\u001b[1;32m   3362\u001b[0m             \u001b[0;32mexcept\u001b[0m \u001b[0mKeyError\u001b[0m \u001b[0;32mas\u001b[0m \u001b[0merr\u001b[0m\u001b[0;34m:\u001b[0m\u001b[0;34m\u001b[0m\u001b[0;34m\u001b[0m\u001b[0m\n\u001b[0;32m-> 3363\u001b[0;31m                 \u001b[0;32mraise\u001b[0m \u001b[0mKeyError\u001b[0m\u001b[0;34m(\u001b[0m\u001b[0mkey\u001b[0m\u001b[0;34m)\u001b[0m \u001b[0;32mfrom\u001b[0m \u001b[0merr\u001b[0m\u001b[0;34m\u001b[0m\u001b[0;34m\u001b[0m\u001b[0m\n\u001b[0m\u001b[1;32m   3364\u001b[0m \u001b[0;34m\u001b[0m\u001b[0m\n\u001b[1;32m   3365\u001b[0m         \u001b[0;32mif\u001b[0m \u001b[0mis_scalar\u001b[0m\u001b[0;34m(\u001b[0m\u001b[0mkey\u001b[0m\u001b[0;34m)\u001b[0m \u001b[0;32mand\u001b[0m \u001b[0misna\u001b[0m\u001b[0;34m(\u001b[0m\u001b[0mkey\u001b[0m\u001b[0;34m)\u001b[0m \u001b[0;32mand\u001b[0m \u001b[0;32mnot\u001b[0m \u001b[0mself\u001b[0m\u001b[0;34m.\u001b[0m\u001b[0mhasnans\u001b[0m\u001b[0;34m:\u001b[0m\u001b[0;34m\u001b[0m\u001b[0;34m\u001b[0m\u001b[0m\n",
      "\u001b[0;31mKeyError\u001b[0m: 0"
     ]
    }
   ],
   "source": [
    "axis_count_mate_df.loc[(40)].loc[(0,1)]"
   ]
  },
  {
   "cell_type": "code",
   "execution_count": 1593,
   "id": "3660df0e-b8f2-48ac-b06f-67f133834b5e",
   "metadata": {},
   "outputs": [
    {
     "data": {
      "text/plain": [
       "5467"
      ]
     },
     "execution_count": 1593,
     "metadata": {},
     "output_type": "execute_result"
    }
   ],
   "source": [
    "len(assemblies_with_simple_axes_not_augmented)"
   ]
  },
  {
   "cell_type": "code",
   "execution_count": 1579,
   "id": "48bbe1d3-a76e-4c7e-932f-ff4f330fe8fe",
   "metadata": {},
   "outputs": [],
   "source": [
    "mc_df_paired_simple = mc_df_paired[lambda df: df['has_both'] & [d in assemblies_with_simple_axes_not_augmented for d in df['Assembly']]]"
   ]
  },
  {
   "cell_type": "code",
   "execution_count": 1589,
   "id": "4fb71707-8af4-4948-82e3-8f5f82f00e64",
   "metadata": {},
   "outputs": [],
   "source": [
    "axis_count_df_simple = mc_df_paired_simple.groupby(['Assembly','pair'])[['axis_ind']].count()\n",
    "dir_count_df_simple = mc_df_paired_simple.groupby(['Assembly','pair'])[['dir_ind']].agg(lambda df: len(df.unique()))"
   ]
  },
  {
   "cell_type": "code",
   "execution_count": 1590,
   "id": "1ab3f4cf-e711-4774-9d50-10066cbf1520",
   "metadata": {},
   "outputs": [],
   "source": [
    "axis_count_mate_df_simple = axis_count_df_simple.join(mate_df_joined_indexed)\n",
    "axis_count_mate_df_simple['singleton'] = axis_count_mate_df_simple['axis_ind'] == 1\n",
    "dir_count_mate_df_simple = dir_count_df_simple.join(mate_df_joined_indexed)\n",
    "dir_count_mate_df_simple['singleton'] = dir_count_mate_df_simple['dir_ind'] == 1"
   ]
  },
  {
   "cell_type": "code",
   "execution_count": 1592,
   "id": "1c94f464-6327-43b4-85e5-71aa956af844",
   "metadata": {},
   "outputs": [
    {
     "data": {
      "text/plain": [
       "<AxesSubplot:>"
      ]
     },
     "execution_count": 1592,
     "metadata": {},
     "output_type": "execute_result"
    },
    {
     "data": {
      "image/png": "[encoded data removed]",
      "text/plain": [
       "<Figure size 432x288 with 1 Axes>"
      ]
     },
     "metadata": {
      "needs_background": "light"
     },
     "output_type": "display_data"
    }
   ],
   "source": [
    "axis_count_mate_df_simple[lambda df: df['Type']=='CYLINDRICAL']['axis_ind'].hist()"
   ]
  },
  {
   "cell_type": "code",
   "execution_count": 1581,
   "id": "d65a2147-6019-4d15-a544-9e46ddfcd6b5",
   "metadata": {},
   "outputs": [
    {
     "data": {
      "text/plain": [
       "<AxesSubplot:>"
      ]
     },
     "execution_count": 1581,
     "metadata": {},
     "output_type": "execute_result"
    },
    {
     "data": {
      "image/png": "[encoded data removed]",
      "text/plain": [
       "<Figure size 432x288 with 1 Axes>"
      ]
     },
     "metadata": {
      "needs_background": "light"
     },
     "output_type": "display_data"
    }
   ],
   "source": [
    "dir_count_df_simple.hist(bins=max(dir_count_df_simple))"
   ]
  },
  {
   "cell_type": "code",
   "execution_count": 1597,
   "id": "3ba5b7a2-4a0b-4cf8-b15c-cb6d1c8cf0ed",
   "metadata": {},
   "outputs": [
    {
     "data": {
      "text/plain": [
       "4079"
      ]
     },
     "execution_count": 1597,
     "metadata": {},
     "output_type": "execute_result"
    }
   ],
   "source": [
    "axis_count_mate_df_simple.groupby('Assembly')['singleton'].all().sum()"
   ]
  },
  {
   "cell_type": "code",
   "execution_count": 1601,
   "id": "61dc3fd1-7e8c-4239-a4e8-8f1453935f94",
   "metadata": {},
   "outputs": [
    {
     "data": {
      "text/plain": [
       "0.8365608750224135"
      ]
     },
     "execution_count": 1601,
     "metadata": {},
     "output_type": "execute_result"
    }
   ],
   "source": [
    "axis_count_mate_df_simple['singleton'].sum()/axis_count_mate_df_simple.shape[0]"
   ]
  },
  {
   "cell_type": "code",
   "execution_count": 1600,
   "id": "3b56f773-5fa9-4a86-b313-4937be2beb82",
   "metadata": {},
   "outputs": [
    {
     "data": {
      "text/plain": [
       "0.8395259449071109"
      ]
     },
     "execution_count": 1600,
     "metadata": {},
     "output_type": "execute_result"
    }
   ],
   "source": [
    "axis_count_mate_df_simple[lambda df: df['Type'] != 'FASTENED']['singleton'].sum()/axis_count_mate_df_simple[lambda df: df['Type'] != 'FASTENED'].shape[0]"
   ]
  },
  {
   "cell_type": "code",
   "execution_count": 1594,
   "id": "392c456e-bce2-402e-b9a9-897d654c0542",
   "metadata": {},
   "outputs": [
    {
     "data": {
      "text/plain": [
       "4530"
      ]
     },
     "execution_count": 1594,
     "metadata": {},
     "output_type": "execute_result"
    }
   ],
   "source": [
    "simple_assemblies_with_nonsingleton_axes_for_revolute_or_cylindrical = axis_count_mate_df_simple[lambda df: (df['Type'] != 'FASTENED') & (df['Type'] != 'SLIDER')].groupby('Assembly')['singleton'].agg(lambda df: (~df).any())[lambda df: df]\n",
    "simple_assemblies_with_nonsingleton_dirs_for_sliders = dir_count_mate_df_simple[lambda df: df['Type'] == 'SLIDER'].groupby('Assembly')['singleton'].agg(lambda df: (~df).any())[lambda df: df]\n",
    "simple_assemblies_without_meaningful_choices = assemblies_with_simple_axes_not_augmented.difference(simple_assemblies_with_nonsingleton_dirs_for_sliders.index).difference(simple_assemblies_with_nonsingleton_axes_for_revolute_or_cylindrical.index)\n",
    "len(simple_assemblies_without_meaningful_choices)"
   ]
  },
  {
   "cell_type": "code",
   "execution_count": 103,
   "id": "e03235bc-3362-4f68-a8f0-a4b775f757ff",
   "metadata": {},
   "outputs": [
    {
     "ename": "NameError",
     "evalue": "name 'simple_assemblies_without_meaningful_choices' is not defined",
     "output_type": "error",
     "traceback": [
      "\u001b[0;31m---------------------------------------------------------------------------\u001b[0m",
      "\u001b[0;31mNameError\u001b[0m                                 Traceback (most recent call last)",
      "\u001b[0;32m/tmp/ipykernel_2598071/2579695897.py\u001b[0m in \u001b[0;36m<module>\u001b[0;34m\u001b[0m\n\u001b[0;32m----> 1\u001b[0;31m \u001b[0msimple_assemblies_without_meaningful_choices\u001b[0m\u001b[0;34m\u001b[0m\u001b[0;34m\u001b[0m\u001b[0m\n\u001b[0m",
      "\u001b[0;31mNameError\u001b[0m: name 'simple_assemblies_without_meaningful_choices' is not defined"
     ]
    }
   ],
   "source": [
    "simple_assemblies_without_meaningful_choices"
   ]
  },
  {
   "cell_type": "markdown",
   "id": "536aabd1-a832-40ec-879e-4b0dd40dcc9f",
   "metadata": {},
   "source": [
    "# debugging uvnet"
   ]
  },
  {
   "cell_type": "code",
   "execution_count": 487,
   "id": "bc18abc9-5dc9-430d-939c-3bfe87e7579d",
   "metadata": {
    "collapsed": true,
    "jupyter": {
     "outputs_hidden": true
    },
    "tags": []
   },
   "outputs": [
    {
     "data": {
      "text/plain": [
       "{65538,\n",
       " 32771,\n",
       " 98311,\n",
       " 65547,\n",
       " 32786,\n",
       " 98325,\n",
       " 98338,\n",
       " 65572,\n",
       " 65574,\n",
       " 40,\n",
       " 32811,\n",
       " 98359,\n",
       " 98380,\n",
       " 32848,\n",
       " 90,\n",
       " 32862,\n",
       " 98404,\n",
       " 98418,\n",
       " 65655,\n",
       " 32888,\n",
       " 121,\n",
       " 98427,\n",
       " 32893,\n",
       " 98430,\n",
       " 126,\n",
       " 65664,\n",
       " 98432,\n",
       " 98434,\n",
       " 32907,\n",
       " 98453,\n",
       " 98459,\n",
       " 65701,\n",
       " 65709,\n",
       " 175,\n",
       " 65711,\n",
       " 65713,\n",
       " 179,\n",
       " 192,\n",
       " 65729,\n",
       " 200,\n",
       " 98509,\n",
       " 32985,\n",
       " 98527,\n",
       " 229,\n",
       " 98540,\n",
       " 241,\n",
       " 65782,\n",
       " 65783,\n",
       " 98554,\n",
       " 98557,\n",
       " 98566,\n",
       " 33035,\n",
       " 33037,\n",
       " 98578,\n",
       " 98580,\n",
       " 33061,\n",
       " 295,\n",
       " 65840,\n",
       " 33074,\n",
       " 65844,\n",
       " 98618,\n",
       " 33086,\n",
       " 65855,\n",
       " 65870,\n",
       " 98663,\n",
       " 33131,\n",
       " 33140,\n",
       " 33145,\n",
       " 65915,\n",
       " 33148,\n",
       " 382,\n",
       " 384,\n",
       " 65931,\n",
       " 400,\n",
       " 412,\n",
       " 65951,\n",
       " 416,\n",
       " 98730,\n",
       " 98732,\n",
       " 429,\n",
       " 435,\n",
       " 448,\n",
       " 65985,\n",
       " 33220,\n",
       " 33225,\n",
       " 462,\n",
       " 465,\n",
       " 66003,\n",
       " 468,\n",
       " 469,\n",
       " 33240,\n",
       " 486,\n",
       " 488,\n",
       " 489,\n",
       " 497,\n",
       " 98807,\n",
       " 66041,\n",
       " 515,\n",
       " 33287,\n",
       " 33300,\n",
       " 98839,\n",
       " 98846,\n",
       " 33312,\n",
       " 66084,\n",
       " 555,\n",
       " 98864,\n",
       " 563,\n",
       " 33332,\n",
       " 66109,\n",
       " 33346,\n",
       " 98887,\n",
       " 98888,\n",
       " 66121,\n",
       " 33359,\n",
       " 66127,\n",
       " 98904,\n",
       " 98907,\n",
       " 66147,\n",
       " 33389,\n",
       " 98928,\n",
       " 33398,\n",
       " 642,\n",
       " 33411,\n",
       " 649,\n",
       " 66193,\n",
       " 66194,\n",
       " 66202,\n",
       " 66209,\n",
       " 677,\n",
       " 66215,\n",
       " 680,\n",
       " 33451,\n",
       " 686,\n",
       " 33455,\n",
       " 98992,\n",
       " 99002,\n",
       " 33475,\n",
       " 33476,\n",
       " 66252,\n",
       " 33486,\n",
       " 66254,\n",
       " 721,\n",
       " 99031,\n",
       " 66270,\n",
       " 99038,\n",
       " 99042,\n",
       " 66278,\n",
       " 33523,\n",
       " 33524,\n",
       " 66293,\n",
       " 759,\n",
       " 66300,\n",
       " 99080,\n",
       " 99089,\n",
       " 787,\n",
       " 99097,\n",
       " 66335,\n",
       " 800,\n",
       " 99103,\n",
       " 836,\n",
       " 66379,\n",
       " 847,\n",
       " 848,\n",
       " 33615,\n",
       " 33616,\n",
       " 33624,\n",
       " 860,\n",
       " 33635,\n",
       " 33643,\n",
       " 876,\n",
       " 33648,\n",
       " 882,\n",
       " 66418,\n",
       " 99191,\n",
       " 891,\n",
       " 906,\n",
       " 99212,\n",
       " 922,\n",
       " 66459,\n",
       " 33695,\n",
       " 99232,\n",
       " 99233,\n",
       " 950,\n",
       " 33719,\n",
       " 33738,\n",
       " 99276,\n",
       " 99279,\n",
       " 66514,\n",
       " 99283,\n",
       " 99287,\n",
       " 33755,\n",
       " 995,\n",
       " 99299,\n",
       " 99315,\n",
       " 99318,\n",
       " 66557,\n",
       " 33789,\n",
       " 1023,\n",
       " 99328,\n",
       " 33793,\n",
       " 33795,\n",
       " 33796,\n",
       " 1031,\n",
       " 33805,\n",
       " 99344,\n",
       " 99353,\n",
       " 66592,\n",
       " 66598,\n",
       " 99367,\n",
       " 99368,\n",
       " 66607,\n",
       " 99388,\n",
       " 99389,\n",
       " 33859,\n",
       " 99396,\n",
       " 99397,\n",
       " 33868,\n",
       " 99406,\n",
       " 1108,\n",
       " 99414,\n",
       " 33898,\n",
       " 1141,\n",
       " 1142,\n",
       " 33909,\n",
       " 99449,\n",
       " 33924,\n",
       " 99467,\n",
       " 66710,\n",
       " 33943,\n",
       " 1176,\n",
       " 1190,\n",
       " 33961,\n",
       " 33962,\n",
       " 33969,\n",
       " 33970,\n",
       " 33972,\n",
       " 99519,\n",
       " 66756,\n",
       " 33990,\n",
       " 33999,\n",
       " 1239,\n",
       " 1257,\n",
       " 99566,\n",
       " 99569,\n",
       " 1270,\n",
       " 1276,\n",
       " 99583,\n",
       " 66816,\n",
       " 66820,\n",
       " 99589,\n",
       " 66823,\n",
       " 99607,\n",
       " 1315,\n",
       " 1316,\n",
       " 66851,\n",
       " 99621,\n",
       " 1344,\n",
       " 99649,\n",
       " 34114,\n",
       " 66882,\n",
       " 99658,\n",
       " 66894,\n",
       " 1361,\n",
       " 34135,\n",
       " 99674,\n",
       " 34139,\n",
       " 99683,\n",
       " 99687,\n",
       " 1385,\n",
       " 99690,\n",
       " 34188,\n",
       " 34189,\n",
       " 99725,\n",
       " 66964,\n",
       " 99732,\n",
       " 1434,\n",
       " 34208,\n",
       " 66981,\n",
       " 1457,\n",
       " 66994,\n",
       " 66995,\n",
       " 99761,\n",
       " 34229,\n",
       " 99766,\n",
       " 99767,\n",
       " 1466,\n",
       " 67003,\n",
       " 67036,\n",
       " 34269,\n",
       " 34277,\n",
       " 67058,\n",
       " 34291,\n",
       " 99831,\n",
       " 1532,\n",
       " 34304,\n",
       " 99840,\n",
       " 1537,\n",
       " 1541,\n",
       " 1563,\n",
       " 34333,\n",
       " 34342,\n",
       " 67119,\n",
       " 1602,\n",
       " 67139,\n",
       " 34375,\n",
       " 34376,\n",
       " 1613,\n",
       " 99920,\n",
       " 67157,\n",
       " 1623,\n",
       " 99931,\n",
       " 34397,\n",
       " 34408,\n",
       " 34415,\n",
       " 99951,\n",
       " 99963,\n",
       " 1675,\n",
       " 34444,\n",
       " 67215,\n",
       " 99990,\n",
       " 67228,\n",
       " 100010,\n",
       " 67260,\n",
       " 100033,\n",
       " 1738,\n",
       " 67282,\n",
       " 34538,\n",
       " 100080,\n",
       " 100083,\n",
       " 1786,\n",
       " 100090,\n",
       " 34557,\n",
       " 1797,\n",
       " 67333,\n",
       " 100108,\n",
       " 67342,\n",
       " 100114,\n",
       " 1816,\n",
       " 67352,\n",
       " 67355,\n",
       " 34594,\n",
       " 34605,\n",
       " 100146,\n",
       " 100155,\n",
       " 100172,\n",
       " 34638,\n",
       " 1880,\n",
       " 100185,\n",
       " 1890,\n",
       " 34658,\n",
       " 1894,\n",
       " 34662,\n",
       " 100211,\n",
       " 1917,\n",
       " 67461,\n",
       " 100242,\n",
       " 34707,\n",
       " 67485,\n",
       " 67487,\n",
       " 34720,\n",
       " 100273,\n",
       " 67527,\n",
       " 1994,\n",
       " 34771,\n",
       " 67546,\n",
       " 67553,\n",
       " 100331,\n",
       " 2028,\n",
       " 100334,\n",
       " 2033,\n",
       " 34801,\n",
       " 100340,\n",
       " 2043,\n",
       " 34817,\n",
       " 67587,\n",
       " 2052,\n",
       " 67589,\n",
       " 67597,\n",
       " 100368,\n",
       " 100376,\n",
       " 2076,\n",
       " 2077,\n",
       " 100382,\n",
       " 67625,\n",
       " 34863,\n",
       " 100407,\n",
       " 67649,\n",
       " 34885,\n",
       " 67654,\n",
       " 34896,\n",
       " 100432,\n",
       " 2147,\n",
       " 34915,\n",
       " 34932,\n",
       " 100475,\n",
       " 100477,\n",
       " 34943,\n",
       " 100488,\n",
       " 2186,\n",
       " 2189,\n",
       " 100499,\n",
       " 100504,\n",
       " 100506,\n",
       " 34971,\n",
       " 34973,\n",
       " 2207,\n",
       " 67747,\n",
       " 2217,\n",
       " 2218,\n",
       " 100530,\n",
       " 2231,\n",
       " 100535,\n",
       " 35001,\n",
       " 35003,\n",
       " 67774,\n",
       " 2242,\n",
       " 100552,\n",
       " 67785,\n",
       " 35019,\n",
       " 35020,\n",
       " 2261,\n",
       " 2267,\n",
       " 100585,\n",
       " 35052,\n",
       " 67823,\n",
       " 35060,\n",
       " 100600,\n",
       " 67842,\n",
       " 100611,\n",
       " 67850,\n",
       " 35083,\n",
       " 100627,\n",
       " 67868,\n",
       " 67873,\n",
       " 67882,\n",
       " 67892,\n",
       " 35127,\n",
       " 2370,\n",
       " 35141,\n",
       " 67919,\n",
       " 35155,\n",
       " 2401,\n",
       " 35174,\n",
       " 100714,\n",
       " 67962,\n",
       " 2431,\n",
       " 100737,\n",
       " 67972,\n",
       " 67973,\n",
       " 35207,\n",
       " 35218,\n",
       " 2452,\n",
       " 2453,\n",
       " 35221,\n",
       " 2476,\n",
       " 35244,\n",
       " 68014,\n",
       " 2493,\n",
       " 100805,\n",
       " 68041,\n",
       " 2506,\n",
       " 100818,\n",
       " 2520,\n",
       " 35296,\n",
       " 35301,\n",
       " 2548,\n",
       " 2551,\n",
       " 2552,\n",
       " 2555,\n",
       " 100860,\n",
       " 2559,\n",
       " 68095,\n",
       " 2574,\n",
       " 100882,\n",
       " 2581,\n",
       " 68123,\n",
       " 100907,\n",
       " 100908,\n",
       " 100911,\n",
       " 35388,\n",
       " 68167,\n",
       " 2651,\n",
       " 2655,\n",
       " 35427,\n",
       " 35428,\n",
       " 2663,\n",
       " 35441,\n",
       " 68215,\n",
       " 2682,\n",
       " 100995,\n",
       " 100997,\n",
       " 68231,\n",
       " 2696,\n",
       " 100999,\n",
       " 68236,\n",
       " 101007,\n",
       " 101008,\n",
       " 68247,\n",
       " 101015,\n",
       " 35489,\n",
       " 2729,\n",
       " 35497,\n",
       " 35499,\n",
       " 35501,\n",
       " 68275,\n",
       " 35516,\n",
       " 35518,\n",
       " 68288,\n",
       " 35522,\n",
       " 68312,\n",
       " 68314,\n",
       " 68322,\n",
       " 68331,\n",
       " 2798,\n",
       " 35568,\n",
       " 68336,\n",
       " 68344,\n",
       " 2809,\n",
       " 35581,\n",
       " 101120,\n",
       " 101121,\n",
       " 35594,\n",
       " 101141,\n",
       " 2839,\n",
       " 68383,\n",
       " 68385,\n",
       " 68386,\n",
       " 101154,\n",
       " 2859,\n",
       " 101163,\n",
       " 101169,\n",
       " 2876,\n",
       " 2877,\n",
       " 101188,\n",
       " 101196,\n",
       " 2894,\n",
       " 101200,\n",
       " 101201,\n",
       " 2897,\n",
       " 2913,\n",
       " 101218,\n",
       " 35703,\n",
       " 68477,\n",
       " 35711,\n",
       " 2950,\n",
       " 101259,\n",
       " 35727,\n",
       " 35732,\n",
       " 101271,\n",
       " 2972,\n",
       " 2978,\n",
       " 35761,\n",
       " 35771,\n",
       " 68545,\n",
       " 101314,\n",
       " 3013,\n",
       " 68566,\n",
       " 101348,\n",
       " 3046,\n",
       " 35815,\n",
       " 68586,\n",
       " 68587,\n",
       " 68588,\n",
       " 101371,\n",
       " 35850,\n",
       " 3083,\n",
       " 68621,\n",
       " 101394,\n",
       " 35862,\n",
       " 68633,\n",
       " 3103,\n",
       " 35872,\n",
       " 101439,\n",
       " 35906,\n",
       " 101453,\n",
       " 101462,\n",
       " 3165,\n",
       " 101481,\n",
       " 35948,\n",
       " 3184,\n",
       " 68720,\n",
       " 101490,\n",
       " 35956,\n",
       " 101501,\n",
       " 101504,\n",
       " 3201,\n",
       " 3208,\n",
       " 68749,\n",
       " 101519,\n",
       " 68753,\n",
       " 68763,\n",
       " 101534,\n",
       " 101536,\n",
       " 36004,\n",
       " 36006,\n",
       " 68784,\n",
       " 3255,\n",
       " 68791,\n",
       " 3262,\n",
       " 36033,\n",
       " 36035,\n",
       " 3277,\n",
       " 3285,\n",
       " 101596,\n",
       " 68832,\n",
       " 68833,\n",
       " 101600,\n",
       " 36067,\n",
       " 101601,\n",
       " 101603,\n",
       " 101604,\n",
       " 36075,\n",
       " 68845,\n",
       " 101614,\n",
       " 36080,\n",
       " 3319,\n",
       " 101628,\n",
       " 101630,\n",
       " 101632,\n",
       " 101633,\n",
       " 68869,\n",
       " 101638,\n",
       " 68878,\n",
       " 101653,\n",
       " 101655,\n",
       " 101664,\n",
       " 101669,\n",
       " 68902,\n",
       " 68911,\n",
       " 3380,\n",
       " 68919,\n",
       " 68927,\n",
       " 3399,\n",
       " 68937,\n",
       " 36181,\n",
       " 68949,\n",
       " 101723,\n",
       " 101729,\n",
       " 3427,\n",
       " 101733,\n",
       " 36206,\n",
       " 101743,\n",
       " 3441,\n",
       " 101747,\n",
       " 3445,\n",
       " 3446,\n",
       " 36213,\n",
       " 101750,\n",
       " 36220,\n",
       " 36229,\n",
       " 69015,\n",
       " 36251,\n",
       " 69021,\n",
       " 3490,\n",
       " 3495,\n",
       " 101805,\n",
       " 36276,\n",
       " 101812,\n",
       " 101814,\n",
       " 69053,\n",
       " 36290,\n",
       " 69060,\n",
       " 69061,\n",
       " 101833,\n",
       " 36299,\n",
       " 3537,\n",
       " 3538,\n",
       " 3544,\n",
       " 36319,\n",
       " 69087,\n",
       " 36322,\n",
       " 69091,\n",
       " 101864,\n",
       " 36330,\n",
       " 69099,\n",
       " 101869,\n",
       " 3567,\n",
       " 3589,\n",
       " 3592,\n",
       " 101899,\n",
       " 3596,\n",
       " 36365,\n",
       " 101913,\n",
       " 3618,\n",
       " 36402,\n",
       " 36404,\n",
       " 3651,\n",
       " 3656,\n",
       " 36426,\n",
       " 69194,\n",
       " 69196,\n",
       " 3661,\n",
       " 69217,\n",
       " 3685,\n",
       " 69239,\n",
       " 102009,\n",
       " 36483,\n",
       " 102024,\n",
       " 36492,\n",
       " 36495,\n",
       " 69267,\n",
       " 3738,\n",
       " 36512,\n",
       " 36516,\n",
       " 69290,\n",
       " 102059,\n",
       " 3769,\n",
       " 3773,\n",
       " 36544,\n",
       " 3792,\n",
       " 36570,\n",
       " 102107,\n",
       " 102108,\n",
       " 3817,\n",
       " 102121,\n",
       " 36591,\n",
       " 102133,\n",
       " 3831,\n",
       " 69378,\n",
       " 3847,\n",
       " 102156,\n",
       " 102158,\n",
       " 36628,\n",
       " 3876,\n",
       " 102189,\n",
       " 3891,\n",
       " 36663,\n",
       " 69441,\n",
       " 102215,\n",
       " 102219,\n",
       " 36703,\n",
       " 3936,\n",
       " 102241,\n",
       " 36714,\n",
       " 3947,\n",
       " 36715,\n",
       " 36731,\n",
       " 36732,\n",
       " 102274,\n",
       " 102279,\n",
       " 69517,\n",
       " 3983,\n",
       " 69521,\n",
       " 69523,\n",
       " 69532,\n",
       " 69545,\n",
       " 102318,\n",
       " 36793,\n",
       " 69567,\n",
       " 4035,\n",
       " 69575,\n",
       " 36809,\n",
       " 36810,\n",
       " 69578,\n",
       " 36814,\n",
       " 102350,\n",
       " 69585,\n",
       " 102361,\n",
       " 102380,\n",
       " 36846,\n",
       " 36848,\n",
       " 69616,\n",
       " 69620,\n",
       " 102390,\n",
       " 36856,\n",
       " 69625,\n",
       " 102399,\n",
       " 4097,\n",
       " 4107,\n",
       " 4110,\n",
       " 4116,\n",
       " 102428,\n",
       " 102429,\n",
       " 69676,\n",
       " 4143,\n",
       " 4146,\n",
       " 102474,\n",
       " 102475,\n",
       " 4172,\n",
       " 69709,\n",
       " 36945,\n",
       " 36947,\n",
       " 102483,\n",
       " 4183,\n",
       " 102490,\n",
       " 36957,\n",
       " 102501,\n",
       " 69738,\n",
       " 69740,\n",
       " 36980,\n",
       " 69749,\n",
       " 102524,\n",
       " 102528,\n",
       " 36996,\n",
       " 69771,\n",
       " 69779,\n",
       " 102548,\n",
       " 37016,\n",
       " 37018,\n",
       " 69794,\n",
       " 37027,\n",
       " 37041,\n",
       " 69812,\n",
       " 102581,\n",
       " 102582,\n",
       " 4279,\n",
       " 69822,\n",
       " 102604,\n",
       " 4323,\n",
       " 37096,\n",
       " 69874,\n",
       " 37109,\n",
       " 69886,\n",
       " 4354,\n",
       " 37123,\n",
       " 69899,\n",
       " 102667,\n",
       " 102673,\n",
       " 102675,\n",
       " 4373,\n",
       " 37144,\n",
       " 69916,\n",
       " 37150,\n",
       " 69921,\n",
       " 4386,\n",
       " 69922,\n",
       " 4398,\n",
       " 4401,\n",
       " 37185,\n",
       " 4422,\n",
       " 69960,\n",
       " 69980,\n",
       " 102751,\n",
       " 102755,\n",
       " 102757,\n",
       " 70001,\n",
       " 37247,\n",
       " 4481,\n",
       " 37249,\n",
       " 37256,\n",
       " 70034,\n",
       " 102802,\n",
       " 102803,\n",
       " 4501,\n",
       " 4505,\n",
       " 102811,\n",
       " 37276,\n",
       " 4515,\n",
       " 4516,\n",
       " 102829,\n",
       " 70070,\n",
       " 70074,\n",
       " 102846,\n",
       " 70079,\n",
       " 37322,\n",
       " 37324,\n",
       " 70099,\n",
       " 70103,\n",
       " 102886,\n",
       " 4586,\n",
       " 37358,\n",
       " 37365,\n",
       " 70133,\n",
       " 37367,\n",
       " 4606,\n",
       " 70144,\n",
       " 4611,\n",
       " 102917,\n",
       " 37387,\n",
       " 102927,\n",
       " 4630,\n",
       " 37404,\n",
       " 102945,\n",
       " 4645,\n",
       " 70184,\n",
       " 37418,\n",
       " 102956,\n",
       " 102958,\n",
       " 102960,\n",
       " 70202,\n",
       " 102973,\n",
       " 37442,\n",
       " 37444,\n",
       " 70227,\n",
       " 102996,\n",
       " 102998,\n",
       " 103007,\n",
       " 103009,\n",
       " 4715,\n",
       " 70251,\n",
       " 70258,\n",
       " 70261,\n",
       " 103044,\n",
       " 103047,\n",
       " 103050,\n",
       " 37515,\n",
       " 70288,\n",
       " 4753,\n",
       " 103069,\n",
       " 4771,\n",
       " 4775,\n",
       " 103082,\n",
       " 103089,\n",
       " 37573,\n",
       " 37574,\n",
       " 37575,\n",
       " 70344,\n",
       " 37577,\n",
       " 70345,\n",
       " 37594,\n",
       " 4831,\n",
       " 4833,\n",
       " 4836,\n",
       " 70373,\n",
       " 103143,\n",
       " 37613,\n",
       " 103149,\n",
       " 37619,\n",
       " 37621,\n",
       " 37627,\n",
       " 70406,\n",
       " 70407,\n",
       " 37640,\n",
       " 70414,\n",
       " 103185,\n",
       " 70420,\n",
       " 37665,\n",
       " 4904,\n",
       " 37674,\n",
       " 4919,\n",
       " 70463,\n",
       " 37700,\n",
       " 70468,\n",
       " 37710,\n",
       " 4950,\n",
       " 4958,\n",
       " 37733,\n",
       " 4968,\n",
       " 37738,\n",
       " 4976,\n",
       " 70522,\n",
       " 4991,\n",
       " 103295,\n",
       " 70535,\n",
       " 103334,\n",
       " 70567,\n",
       " 103335,\n",
       " 5033,\n",
       " 103340,\n",
       " 37809,\n",
       " 5042,\n",
       " 5044,\n",
       " 37814,\n",
       " 37816,\n",
       " 37820,\n",
       " 103356,\n",
       " 5061,\n",
       " 103378,\n",
       " 70624,\n",
       " 103393,\n",
       " 5091,\n",
       " 103397,\n",
       " 70630,\n",
       " 5108,\n",
       " 103419,\n",
       " 37892,\n",
       " 5128,\n",
       " 5129,\n",
       " 70664,\n",
       " 103436,\n",
       " 5134,\n",
       " 5135,\n",
       " 5138,\n",
       " 37908,\n",
       " 5150,\n",
       " 37918,\n",
       " 103456,\n",
       " 37922,\n",
       " 5155,\n",
       " 70691,\n",
       " 103467,\n",
       " 70703,\n",
       " 103473,\n",
       " 37941,\n",
       " 103486,\n",
       " 103493,\n",
       " 5206,\n",
       " 5208,\n",
       " 103519,\n",
       " 37987,\n",
       " 37988,\n",
       " 5226,\n",
       " 37997,\n",
       " 103544,\n",
       " 5248,\n",
       " 38026,\n",
       " 38042,\n",
       " 70812,\n",
       " 70816,\n",
       " 5287,\n",
       " ...}"
      ]
     },
     "execution_count": 487,
     "metadata": {},
     "output_type": "execute_result"
    }
   ],
   "source": [
    "assemblySet"
   ]
  },
  {
   "cell_type": "code",
   "execution_count": 488,
   "id": "737bf6e6-1c63-41ae-a0bc-5ca6d1bc681a",
   "metadata": {},
   "outputs": [
    {
     "data": {
      "text/html": [
       "<div>\n",
       "<style scoped>\n",
       "    .dataframe tbody tr th:only-of-type {\n",
       "        vertical-align: middle;\n",
       "    }\n",
       "\n",
       "    .dataframe tbody tr th {\n",
       "        vertical-align: top;\n",
       "    }\n",
       "\n",
       "    .dataframe thead th {\n",
       "        text-align: right;\n",
       "    }\n",
       "</style>\n",
       "<table border=\"1\" class=\"dataframe\">\n",
       "  <thead>\n",
       "    <tr style=\"text-align: right;\">\n",
       "      <th></th>\n",
       "      <th>did</th>\n",
       "      <th>mv</th>\n",
       "      <th>eid</th>\n",
       "      <th>config</th>\n",
       "      <th>PartId</th>\n",
       "      <th>Transform</th>\n",
       "      <th>HasGeometry</th>\n",
       "      <th>RigidComponentID</th>\n",
       "      <th>part_indices</th>\n",
       "    </tr>\n",
       "    <tr>\n",
       "      <th>PartOccurrenceID</th>\n",
       "      <th></th>\n",
       "      <th></th>\n",
       "      <th></th>\n",
       "      <th></th>\n",
       "      <th></th>\n",
       "      <th></th>\n",
       "      <th></th>\n",
       "      <th></th>\n",
       "      <th></th>\n",
       "    </tr>\n",
       "  </thead>\n",
       "  <tbody>\n",
       "    <tr>\n",
       "      <th>M92NpK2cBJGrsYzHr</th>\n",
       "      <td>8b0a532e5e44bb7d82c4db0c</td>\n",
       "      <td>9e33328e9ad30ebedade56d1</td>\n",
       "      <td>1b8b7309c8511aee741476df</td>\n",
       "      <td>default</td>\n",
       "      <td>JHD</td>\n",
       "      <td>[[1.0, 0.0, 0.0, 0.0], [0.0, 1.0, 0.0, 0.0], [...</td>\n",
       "      <td>True</td>\n",
       "      <td>0</td>\n",
       "      <td>0</td>\n",
       "    </tr>\n",
       "    <tr>\n",
       "      <th>M/ClmdQSXX3ftW3We</th>\n",
       "      <td>8b0a532e5e44bb7d82c4db0c</td>\n",
       "      <td>9e33328e9ad30ebedade56d1</td>\n",
       "      <td>1b8b7309c8511aee741476df</td>\n",
       "      <td>default</td>\n",
       "      <td>JHD</td>\n",
       "      <td>[[1.0, 0.0, 0.0, -0.09374909], [0.0, 1.0, 0.0,...</td>\n",
       "      <td>True</td>\n",
       "      <td>1</td>\n",
       "      <td>1</td>\n",
       "    </tr>\n",
       "    <tr>\n",
       "      <th>MfCC95Egt1Ii3UvpX</th>\n",
       "      <td>8b0a532e5e44bb7d82c4db0c</td>\n",
       "      <td>9e33328e9ad30ebedade56d1</td>\n",
       "      <td>1b8b7309c8511aee741476df</td>\n",
       "      <td>default</td>\n",
       "      <td>JHD</td>\n",
       "      <td>[[1.0, 0.0, 0.0, -0.18749818], [0.0, 1.0, 0.0,...</td>\n",
       "      <td>True</td>\n",
       "      <td>2</td>\n",
       "      <td>2</td>\n",
       "    </tr>\n",
       "  </tbody>\n",
       "</table>\n",
       "</div>"
      ],
      "text/plain": [
       "                                        did                        mv  \\\n",
       "PartOccurrenceID                                                        \n",
       "M92NpK2cBJGrsYzHr  8b0a532e5e44bb7d82c4db0c  9e33328e9ad30ebedade56d1   \n",
       "M/ClmdQSXX3ftW3We  8b0a532e5e44bb7d82c4db0c  9e33328e9ad30ebedade56d1   \n",
       "MfCC95Egt1Ii3UvpX  8b0a532e5e44bb7d82c4db0c  9e33328e9ad30ebedade56d1   \n",
       "\n",
       "                                        eid   config PartId  \\\n",
       "PartOccurrenceID                                              \n",
       "M92NpK2cBJGrsYzHr  1b8b7309c8511aee741476df  default    JHD   \n",
       "M/ClmdQSXX3ftW3We  1b8b7309c8511aee741476df  default    JHD   \n",
       "MfCC95Egt1Ii3UvpX  1b8b7309c8511aee741476df  default    JHD   \n",
       "\n",
       "                                                           Transform  \\\n",
       "PartOccurrenceID                                                       \n",
       "M92NpK2cBJGrsYzHr  [[1.0, 0.0, 0.0, 0.0], [0.0, 1.0, 0.0, 0.0], [...   \n",
       "M/ClmdQSXX3ftW3We  [[1.0, 0.0, 0.0, -0.09374909], [0.0, 1.0, 0.0,...   \n",
       "MfCC95Egt1Ii3UvpX  [[1.0, 0.0, 0.0, -0.18749818], [0.0, 1.0, 0.0,...   \n",
       "\n",
       "                   HasGeometry  RigidComponentID  part_indices  \n",
       "PartOccurrenceID                                                \n",
       "M92NpK2cBJGrsYzHr         True                 0             0  \n",
       "M/ClmdQSXX3ftW3We         True                 1             1  \n",
       "MfCC95Egt1Ii3UvpX         True                 2             2  "
      ]
     },
     "execution_count": 488,
     "metadata": {},
     "output_type": "execute_result"
    }
   ],
   "source": [
    "part_df.loc[65729]"
   ]
  },
  {
   "cell_type": "code",
   "execution_count": 445,
   "id": "2f863ea0-f18d-40ce-801e-b428b654a33a",
   "metadata": {},
   "outputs": [],
   "source": [
    "from pspart import Part"
   ]
  },
  {
   "cell_type": "code",
   "execution_count": 489,
   "id": "59e01840-5daf-46d3-b9d7-3e0bf0ebc32f",
   "metadata": {},
   "outputs": [],
   "source": [
    "#part = Part('/projects/grail/benjones/cadlab/data/models/01fb83be3937a7665893a0c8/8ec2fa7c613f52392aab11ac/fd6899ff55110bad401189a4/default/JHD.xt', uv_features=True)\n",
    "part = Part('/projects/grail/benjones/cadlab/data/models/8b0a532e5e44bb7d82c4db0c/9e33328e9ad30ebedade56d1/1b8b7309c8511aee741476df/default/JHD.xt', uv_features=True)"
   ]
  },
  {
   "cell_type": "code",
   "execution_count": 508,
   "id": "56517d24-1296-478c-83d5-223cf31f13e5",
   "metadata": {},
   "outputs": [],
   "source": [
    "pg = part.get_graph()"
   ]
  },
  {
   "cell_type": "code",
   "execution_count": 503,
   "id": "589f380b-14d1-4c73-a5ce-9d4cfaa38c14",
   "metadata": {},
   "outputs": [],
   "source": [
    "g = part.get_part_graph('','','',0)"
   ]
  },
  {
   "cell_type": "code",
   "execution_count": 526,
   "id": "506034d7-7f78-40c8-827b-efc1bbb404a6",
   "metadata": {},
   "outputs": [],
   "source": [
    "facesamples = [samples for top,samples in zip(pg.T, g.samples) if top == 0]"
   ]
  },
  {
   "cell_type": "code",
   "execution_count": 527,
   "id": "ad29ef57-474c-44d7-9d99-e01f344036f5",
   "metadata": {},
   "outputs": [],
   "source": [
    "allpts = np.concatenate([np.vstack([samples[x::9] for x in range(3)]).T for samples in facesamples], axis=0)\n",
    "allnorms = np.concatenate([np.vstack([samples[x+3::9] for x in range(3)]).T for samples in facesamples], axis=0)\n",
    "allmasks = np.concatenate([samples[8::9] for samples in facesamples], axis=0)"
   ]
  },
  {
   "cell_type": "code",
   "execution_count": 528,
   "id": "1cea4d62-0ca1-49fa-b391-3cd90c1e7f5f",
   "metadata": {},
   "outputs": [
    {
     "data": {
      "application/vnd.jupyter.widget-view+json": {
       "model_id": "48ee1d9606a1493885de826188244a91",
       "version_major": 2,
       "version_minor": 0
      },
      "text/plain": [
       "Renderer(camera=PerspectiveCamera(children=(DirectionalLight(color='white', intensity=0.6, position=(-0.008216…"
      ]
     },
     "metadata": {},
     "output_type": "display_data"
    }
   ],
   "source": [
    "plt = mp.plot(part.V, part.F)"
   ]
  },
  {
   "cell_type": "code",
   "execution_count": 530,
   "id": "00eae0a2-c513-4dfb-b6be-4820aa57be11",
   "metadata": {},
   "outputs": [
    {
     "data": {
      "text/plain": [
       "2"
      ]
     },
     "execution_count": 530,
     "metadata": {},
     "output_type": "execute_result"
    }
   ],
   "source": [
    "plt.add_points(allpts, shading={\"point_size\": .05}, c=allmasks)"
   ]
  },
  {
   "cell_type": "code",
   "execution_count": 274,
   "id": "e7d4555a-4976-4ac8-8237-235ea3f9f0de",
   "metadata": {},
   "outputs": [
    {
     "data": {
      "text/plain": [
       "Part1                                       M5wTQjQyOMqBlacQi\n",
       "Part2                                       MA5ZzKe1VZ85thVPY\n",
       "Type                                              CYLINDRICAL\n",
       "Origin1                       [0.0, 1.0692697e-18, -0.001905]\n",
       "Axes1       [[1.0, 0.0, 0.0], [0.0, -1.0, 0.0], [0.0, 0.0,...\n",
       "Origin2                       [6.938894e-18, 0.0, 0.03309327]\n",
       "Axes2       [[1.0, 0.0, 0.0], [0.0, -1.0, 0.0], [0.0, 0.0,...\n",
       "Name                                            Cylindrical 1\n",
       "oldindex                                               387714\n",
       "Name: 26727, dtype: object"
      ]
     },
     "execution_count": 274,
     "metadata": {},
     "output_type": "execute_result"
    }
   ],
   "source": [
    "mate_df.set_index('Assembly').loc[26727]"
   ]
  },
  {
   "cell_type": "code",
   "execution_count": 277,
   "id": "1a5ef040-4519-4e07-be27-1ed13fe892ab",
   "metadata": {},
   "outputs": [
    {
     "data": {
      "text/html": [
       "<div>\n",
       "<style scoped>\n",
       "    .dataframe tbody tr th:only-of-type {\n",
       "        vertical-align: middle;\n",
       "    }\n",
       "\n",
       "    .dataframe tbody tr th {\n",
       "        vertical-align: top;\n",
       "    }\n",
       "\n",
       "    .dataframe thead th {\n",
       "        text-align: right;\n",
       "    }\n",
       "</style>\n",
       "<table border=\"1\" class=\"dataframe\">\n",
       "  <thead>\n",
       "    <tr style=\"text-align: right;\">\n",
       "      <th></th>\n",
       "      <th>did</th>\n",
       "      <th>mv</th>\n",
       "      <th>eid</th>\n",
       "      <th>config</th>\n",
       "      <th>PartId</th>\n",
       "      <th>Transform</th>\n",
       "      <th>HasGeometry</th>\n",
       "      <th>RigidComponentID</th>\n",
       "      <th>part_indices</th>\n",
       "    </tr>\n",
       "    <tr>\n",
       "      <th>PartOccurrenceID</th>\n",
       "      <th></th>\n",
       "      <th></th>\n",
       "      <th></th>\n",
       "      <th></th>\n",
       "      <th></th>\n",
       "      <th></th>\n",
       "      <th></th>\n",
       "      <th></th>\n",
       "      <th></th>\n",
       "    </tr>\n",
       "  </thead>\n",
       "  <tbody>\n",
       "    <tr>\n",
       "      <th>MA5ZzKe1VZ85thVPY</th>\n",
       "      <td>9b9531b3e6a57c375d74f937</td>\n",
       "      <td>3402c30c21901c473d4e6807</td>\n",
       "      <td>d3a5f1c12af559444f6326fc</td>\n",
       "      <td>default</td>\n",
       "      <td>JFD</td>\n",
       "      <td>[[1.0, 0.0, 0.0, -0.026209086], [0.0, 1.0, 0.0...</td>\n",
       "      <td>True</td>\n",
       "      <td>0</td>\n",
       "      <td>0</td>\n",
       "    </tr>\n",
       "    <tr>\n",
       "      <th>M5wTQjQyOMqBlacQi</th>\n",
       "      <td>1f2386a6c0ca024b62997b72</td>\n",
       "      <td>822b1c0c2a8ace42db66031c</td>\n",
       "      <td>048928b4465eb9782ace5036</td>\n",
       "      <td>default</td>\n",
       "      <td>JHD</td>\n",
       "      <td>[[1.0, 0.0, 0.0, -0.026209086], [0.0, 1.0, 0.0...</td>\n",
       "      <td>True</td>\n",
       "      <td>1</td>\n",
       "      <td>1</td>\n",
       "    </tr>\n",
       "  </tbody>\n",
       "</table>\n",
       "</div>"
      ],
      "text/plain": [
       "                                        did                        mv  \\\n",
       "PartOccurrenceID                                                        \n",
       "MA5ZzKe1VZ85thVPY  9b9531b3e6a57c375d74f937  3402c30c21901c473d4e6807   \n",
       "M5wTQjQyOMqBlacQi  1f2386a6c0ca024b62997b72  822b1c0c2a8ace42db66031c   \n",
       "\n",
       "                                        eid   config PartId  \\\n",
       "PartOccurrenceID                                              \n",
       "MA5ZzKe1VZ85thVPY  d3a5f1c12af559444f6326fc  default    JFD   \n",
       "M5wTQjQyOMqBlacQi  048928b4465eb9782ace5036  default    JHD   \n",
       "\n",
       "                                                           Transform  \\\n",
       "PartOccurrenceID                                                       \n",
       "MA5ZzKe1VZ85thVPY  [[1.0, 0.0, 0.0, -0.026209086], [0.0, 1.0, 0.0...   \n",
       "M5wTQjQyOMqBlacQi  [[1.0, 0.0, 0.0, -0.026209086], [0.0, 1.0, 0.0...   \n",
       "\n",
       "                   HasGeometry  RigidComponentID  part_indices  \n",
       "PartOccurrenceID                                                \n",
       "MA5ZzKe1VZ85thVPY         True                 0             0  \n",
       "M5wTQjQyOMqBlacQi         True                 1             1  "
      ]
     },
     "execution_count": 277,
     "metadata": {},
     "output_type": "execute_result"
    }
   ],
   "source": [
    "part_df.loc[26727]"
   ]
  },
  {
   "cell_type": "markdown",
   "id": "2da7fdf4-1889-4ed4-bb39-02e8c726f9e2",
   "metadata": {},
   "source": [
    "# Plotting axes"
   ]
  },
  {
   "cell_type": "code",
   "execution_count": 1455,
   "id": "7bda8b43-b035-4777-be86-38826390ad47",
   "metadata": {},
   "outputs": [],
   "source": [
    "import meshplot as mp"
   ]
  },
  {
   "cell_type": "code",
   "execution_count": 1456,
   "id": "dcae6e91-4fb5-49f7-8ea5-84268d46b232",
   "metadata": {},
   "outputs": [],
   "source": [
    "f = h5py.File('/fast/jamesn8/assembly_data/assembly_torch2_fixsize/mc_data/30431.hdf5','r')"
   ]
  },
  {
   "cell_type": "code",
   "execution_count": 1457,
   "id": "c15ad242-4a1b-443a-a013-1e79be1e0fa7",
   "metadata": {},
   "outputs": [],
   "source": [
    "axis_cluster_indices = list(f['pair_data']['0,1']['axes']['6']['indices'])"
   ]
  },
  {
   "cell_type": "code",
   "execution_count": 1458,
   "id": "fef5199b-5e27-4435-981e-809c2efede50",
   "metadata": {},
   "outputs": [],
   "source": [
    "axis_clusters = [np.array(f['dir_clusters']['6']['axial_clusters'][str(ax)]) for ax in axis_cluster_indices]"
   ]
  },
  {
   "cell_type": "code",
   "execution_count": 1459,
   "id": "c3f99c21-d4ef-4eec-8da0-0b2d04bba330",
   "metadata": {},
   "outputs": [],
   "source": [
    "axis_origins = np.vstack([np.array(f['mc_frames'][str(key)]['origins']) for key in range(len(f['mc_frames'].keys()))])"
   ]
  },
  {
   "cell_type": "code",
   "execution_count": 1460,
   "id": "09be3d1a-75db-466b-adcb-b066543ae5ac",
   "metadata": {},
   "outputs": [
    {
     "data": {
      "text/plain": [
       "array([[-1.29903782e-01, -2.25000017e-01, -4.00000020e-01],\n",
       "       [-2.59807621e-01, -2.57762169e-08, -3.99999951e-01],\n",
       "       [-1.29903840e-01,  2.24999983e-01, -4.00000020e-01],\n",
       "       ...,\n",
       "       [ 1.40925719e-01, -2.18636498e-01,  3.00000000e-01],\n",
       "       [ 2.59807621e-01, -1.50000000e-01,  3.35960116e-01],\n",
       "       [ 1.40925719e-01, -2.18636498e-01,  3.00000000e-01]])"
      ]
     },
     "execution_count": 1460,
     "metadata": {},
     "output_type": "execute_result"
    }
   ],
   "source": [
    "axis_origins"
   ]
  },
  {
   "cell_type": "code",
   "execution_count": 1461,
   "id": "7fcf5237-ba24-4bda-8e5b-b69521f16c18",
   "metadata": {},
   "outputs": [],
   "source": [
    "cluster_origins = [axis_origins[clust] for clust in axis_clusters]"
   ]
  },
  {
   "cell_type": "code",
   "execution_count": 1462,
   "id": "e8575acd-ddc6-4925-ba9c-d49592bb7d6e",
   "metadata": {
    "collapsed": true,
    "jupyter": {
     "outputs_hidden": true
    },
    "tags": []
   },
   "outputs": [
    {
     "data": {
      "application/vnd.jupyter.widget-view+json": {
       "model_id": "a303b93c682d4835bdf2220e26208398",
       "version_major": 2,
       "version_minor": 0
      },
      "text/plain": [
       "Renderer(camera=PerspectiveCamera(children=(DirectionalLight(color='white', intensity=0.6, position=(1.6391087…"
      ]
     },
     "metadata": {},
     "output_type": "display_data"
    },
    {
     "data": {
      "application/vnd.jupyter.widget-view+json": {
       "model_id": "d85ba1c425ab471fb07d9bb6e9537a73",
       "version_major": 2,
       "version_minor": 0
      },
      "text/plain": [
       "Renderer(camera=PerspectiveCamera(children=(DirectionalLight(color='white', intensity=0.6, position=(6.9394469…"
      ]
     },
     "metadata": {},
     "output_type": "display_data"
    },
    {
     "data": {
      "application/vnd.jupyter.widget-view+json": {
       "model_id": "fdb870bb1e614a4083c544da8ce42310",
       "version_major": 2,
       "version_minor": 0
      },
      "text/plain": [
       "Renderer(camera=PerspectiveCamera(children=(DirectionalLight(color='white', intensity=0.6, position=(-0.259807…"
      ]
     },
     "metadata": {},
     "output_type": "display_data"
    },
    {
     "data": {
      "application/vnd.jupyter.widget-view+json": {
       "model_id": "1d5efed3b18b4768b2f1189db60082af",
       "version_major": 2,
       "version_minor": 0
      },
      "text/plain": [
       "Renderer(camera=PerspectiveCamera(children=(DirectionalLight(color='white', intensity=0.6, position=(-0.259807…"
      ]
     },
     "metadata": {},
     "output_type": "display_data"
    },
    {
     "data": {
      "application/vnd.jupyter.widget-view+json": {
       "model_id": "ae075e68997e4572bcaa2a7340d1b417",
       "version_major": 2,
       "version_minor": 0
      },
      "text/plain": [
       "Renderer(camera=PerspectiveCamera(children=(DirectionalLight(color='white', intensity=0.6, position=(2.3403734…"
      ]
     },
     "metadata": {},
     "output_type": "display_data"
    },
    {
     "data": {
      "application/vnd.jupyter.widget-view+json": {
       "model_id": "b2b1dd1b9b7c4059938a011d5e0a2bfd",
       "version_major": 2,
       "version_minor": 0
      },
      "text/plain": [
       "Renderer(camera=PerspectiveCamera(children=(DirectionalLight(color='white', intensity=0.6, position=(0.2598076…"
      ]
     },
     "metadata": {},
     "output_type": "display_data"
    },
    {
     "data": {
      "application/vnd.jupyter.widget-view+json": {
       "model_id": "065ef438181d451995d6c4449ca8a373",
       "version_major": 2,
       "version_minor": 0
      },
      "text/plain": [
       "Renderer(camera=PerspectiveCamera(children=(DirectionalLight(color='white', intensity=0.6, position=(0.2598076…"
      ]
     },
     "metadata": {},
     "output_type": "display_data"
    },
    {
     "data": {
      "application/vnd.jupyter.widget-view+json": {
       "model_id": "f3fba08d0860439094cf28df0cd0e130",
       "version_major": 2,
       "version_minor": 0
      },
      "text/plain": [
       "Renderer(camera=PerspectiveCamera(children=(DirectionalLight(color='white', intensity=0.6, position=(-0.129903…"
      ]
     },
     "metadata": {},
     "output_type": "display_data"
    },
    {
     "data": {
      "application/vnd.jupyter.widget-view+json": {
       "model_id": "88a3278c14d94b15bd9e5d75bf1339f0",
       "version_major": 2,
       "version_minor": 0
      },
      "text/plain": [
       "Renderer(camera=PerspectiveCamera(children=(DirectionalLight(color='white', intensity=0.6, position=(-0.259807…"
      ]
     },
     "metadata": {},
     "output_type": "display_data"
    },
    {
     "data": {
      "application/vnd.jupyter.widget-view+json": {
       "model_id": "01e7fd6f840548168fef6d4edd98dabb",
       "version_major": 2,
       "version_minor": 0
      },
      "text/plain": [
       "Renderer(camera=PerspectiveCamera(children=(DirectionalLight(color='white', intensity=0.6, position=(-0.129903…"
      ]
     },
     "metadata": {},
     "output_type": "display_data"
    },
    {
     "data": {
      "application/vnd.jupyter.widget-view+json": {
       "model_id": "ff11f6c4f8a741668b43dfe8a45f9264",
       "version_major": 2,
       "version_minor": 0
      },
      "text/plain": [
       "Renderer(camera=PerspectiveCamera(children=(DirectionalLight(color='white', intensity=0.6, position=(0.1299038…"
      ]
     },
     "metadata": {},
     "output_type": "display_data"
    },
    {
     "data": {
      "application/vnd.jupyter.widget-view+json": {
       "model_id": "285d4a95909a4da1ac9d6af00b4d57f5",
       "version_major": 2,
       "version_minor": 0
      },
      "text/plain": [
       "Renderer(camera=PerspectiveCamera(children=(DirectionalLight(color='white', intensity=0.6, position=(0.2598076…"
      ]
     },
     "metadata": {},
     "output_type": "display_data"
    },
    {
     "data": {
      "application/vnd.jupyter.widget-view+json": {
       "model_id": "bf4b5a33542c47b5be6c599c9d4ce471",
       "version_major": 2,
       "version_minor": 0
      },
      "text/plain": [
       "Renderer(camera=PerspectiveCamera(children=(DirectionalLight(color='white', intensity=0.6, position=(0.1299038…"
      ]
     },
     "metadata": {},
     "output_type": "display_data"
    }
   ],
   "source": [
    "for o in cluster_origins:\n",
    "    mp.plot(o, shading={\"point_size\": 0.5})"
   ]
  },
  {
   "cell_type": "code",
   "execution_count": null,
   "id": "5f04a09c-b0cb-4211-b668-7876e7e3f205",
   "metadata": {},
   "outputs": [],
   "source": []
  }
 ],
 "metadata": {
  "kernelspec": {
   "display_name": "Python 3 (ipykernel)",
   "language": "python",
   "name": "python3"
  },
  "language_info": {
   "codemirror_mode": {
    "name": "ipython",
    "version": 3
   },
   "file_extension": ".py",
   "mimetype": "text/x-python",
   "name": "python",
   "nbconvert_exporter": "python",
   "pygments_lexer": "ipython3",
   "version": "3.9.6"
  }
 },
 "nbformat": 4,
 "nbformat_minor": 5
}
