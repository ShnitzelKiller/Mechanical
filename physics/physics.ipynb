{
 "cells": [
  {
   "cell_type": "code",
   "execution_count": 1,
   "id": "61dc6ad5",
   "metadata": {},
   "outputs": [],
   "source": [
    "from meshplot import plot\n",
    "import numpy as np\n",
    "import igl\n",
    "import time, math"
   ]
  },
  {
   "cell_type": "code",
   "execution_count": 2,
   "id": "743e31f6",
   "metadata": {},
   "outputs": [],
   "source": [
    "from numba import cuda, jit, prange, njit, int32, float32"
   ]
  },
  {
   "cell_type": "code",
   "execution_count": 3,
   "id": "fd6825a5",
   "metadata": {},
   "outputs": [],
   "source": [
    "v, f = igl.read_triangle_mesh('data/cylinder.obj')"
   ]
  },
  {
   "cell_type": "code",
   "execution_count": 4,
   "id": "01d739dd",
   "metadata": {},
   "outputs": [
    {
     "data": {
      "application/vnd.jupyter.widget-view+json": {
       "model_id": "5a4653c7357b4e9d81ac29104e320b3f",
       "version_major": 2,
       "version_minor": 0
      },
      "text/plain": [
       "Renderer(camera=PerspectiveCamera(children=(DirectionalLight(color='white', intensity=0.6, position=(0.0, 0.0,…"
      ]
     },
     "metadata": {},
     "output_type": "display_data"
    },
    {
     "data": {
      "text/plain": [
       "<meshplot.Viewer.Viewer at 0x2a87b4184f0>"
      ]
     },
     "execution_count": 4,
     "metadata": {},
     "output_type": "execute_result"
    }
   ],
   "source": [
    "plot(v, f)"
   ]
  },
  {
   "cell_type": "code",
   "execution_count": 5,
   "id": "bd8c7539",
   "metadata": {},
   "outputs": [],
   "source": [
    "def voxel_points(axes):\n",
    "    \"\"\"generate n-dimensional grid coordinates from the given set of (x, y, z...) values\"\"\"\n",
    "    ndims = len(axes)\n",
    "    dims = [len(x) for x in axes]\n",
    "    indices = np.indices(dims)\n",
    "    points = np.array([axis[index] for axis, index in zip(axes, indices)])\n",
    "    points = points.reshape([ndims, np.prod(dims)])\n",
    "    return points.T.copy()"
   ]
  },
  {
   "cell_type": "code",
   "execution_count": 6,
   "id": "41bbed1d",
   "metadata": {},
   "outputs": [],
   "source": [
    "def sample_mesh_interior(V, F, gridLength, dtype=np.float32):\n",
    "    minPt = np.min(V, 0)\n",
    "    maxPt = np.max(V, 0)\n",
    "    q = voxel_points((np.arange(minPt[0], maxPt[0] + gridLength, gridLength, dtype=dtype),\n",
    "                       np.arange(minPt[1], maxPt[1] + gridLength, gridLength, dtype=dtype),\n",
    "                         np.arange(minPt[2], maxPt[2] + gridLength, gridLength, dtype=dtype)))\n",
    "    #print(q)\n",
    "    w = igl.fast_winding_number_for_meshes(V.astype(dtype), F, q)\n",
    "    #print(w.shape)\n",
    "    return q[w > 0.5]\n",
    "\n",
    "@njit (parallel=True)\n",
    "def compute_inertia_tensor(points, pointmass):\n",
    "    inertia_tensor = np.zeros((3, 3), dtype=points.dtype)\n",
    "    N = points.shape[0]\n",
    "    for i in prange(N):\n",
    "        pointCM = points[i,:]\n",
    "        moments = pointCM * pointCM\n",
    "        inertia_tensor[0, 0] += moments[1] + moments[2]\n",
    "        inertia_tensor[1, 1] += moments[0] + moments[2]\n",
    "        inertia_tensor[2, 2] += moments[0] + moments[1]\n",
    "        inertia_tensor[0, 1] = pointCM[0] * pointCM[1]\n",
    "        inertia_tensor[0, 2] = pointCM[0] * pointCM[2]\n",
    "        inertia_tensor[1, 2] = pointCM[1] * pointCM[2]\n",
    "    inertia_tensor *= pointmass\n",
    "    inertia_tensor[1, 0] = inertia_tensor[0, 1]\n",
    "    inertia_tensor[2, 0] = inertia_tensor[0, 2]\n",
    "    inertia_tensor[2, 1] = inertia_tensor[1, 2]\n",
    "    return inertia_tensor"
   ]
  },
  {
   "cell_type": "code",
   "execution_count": 7,
   "id": "884a2c7d",
   "metadata": {},
   "outputs": [],
   "source": [
    "class PhysObject:\n",
    "    def __init__(self, V, F, gridDim, density=1):\n",
    "        self.points = sample_mesh_interior(V, F, gridDim)\n",
    "        pointmass = density * gridDim ** 3\n",
    "        cm = np.mean(self.points, 0)\n",
    "        self.points -= cm\n",
    "        self.mass = pointmass * self.points.shape[0]\n",
    "        self.inertia_tensor = compute_inertia_tensor(self.points, pointmass)"
   ]
  },
  {
   "cell_type": "markdown",
   "id": "c60de86e",
   "metadata": {},
   "source": [
    "gridDim = 0.02\n",
    "start = time.time()\n",
    "physobj = PhysObject(v, f, gridDim)\n",
    "end = time.time()\n",
    "print(end-start,'seconds with',physobj.points.shape[0],'points')"
   ]
  },
  {
   "cell_type": "code",
   "execution_count": 17,
   "id": "ad1bdb95",
   "metadata": {},
   "outputs": [],
   "source": [
    "cell_size = 2\n",
    "\n",
    "@cuda.jit(device=True)\n",
    "def hamilton_product(p, q, out):\n",
    "    out0 = p[0]*q[0] - p[1]*q[1] - p[2]*q[2] - p[3]*q[3]\n",
    "    out1 = p[0]*q[1] + p[1]*q[0] + p[2]*q[3] - p[3]*q[2]\n",
    "    out2 = p[0]*q[2] - p[1]*q[3] + p[2]*q[0] + p[3]*q[1]\n",
    "    out3 = p[0]*q[3] + p[1]*q[2] - p[2]*q[1] + p[3]*q[0]\n",
    "    out[0] = out0\n",
    "    out[1] = out1\n",
    "    out[2] = out2\n",
    "    out[3] = out3\n",
    "\n",
    "@cuda.jit\n",
    "def populate_grid_kernel(points1, pose1, points2, pose2, grid, minPt, gridDim):\n",
    "    n1 = points1.shape[0]\n",
    "    n2 = points2.shape[0]\n",
    "    i = cuda.grid(1)\n",
    "    transpoint = cuda.local.array(4, float32)\n",
    "    pose = cuda.local.array(7, float32)\n",
    "    transpoint[0] = 0\n",
    "    if i<n1:\n",
    "        for j in range(3):\n",
    "            transpoint[j+1] = points1[i,j]\n",
    "        for j in range(7):\n",
    "            pose[j] = pose1[j]\n",
    "        offset = 0\n",
    "    elif i<n1 + n2:\n",
    "        i -= n1\n",
    "        for j in range(3):\n",
    "            transpoint[j+1] = points2[i,j]\n",
    "        for j in range(7):\n",
    "            pose[j] = pose2[j]\n",
    "        offset = cell_size\n",
    "    else:\n",
    "        return\n",
    "    \n",
    "    #rotate\n",
    "    hamilton_product(pose, transpoint, transpoint)\n",
    "    pose[1] = -pose[1]\n",
    "    pose[2] = -pose[2]\n",
    "    pose[3] = -pose[3]\n",
    "    hamilton_product(transpoint, pose, transpoint)\n",
    "    #translate\n",
    "    transpoint[1] += pose[4] - minPt[0]\n",
    "    transpoint[2] += pose[5] - minPt[1]\n",
    "    transpoint[3] += pose[6] - minPt[2]\n",
    "    transpoint[1] /= gridDim\n",
    "    transpoint[2] /= gridDim\n",
    "    transpoint[3] /= gridDim\n",
    "    px = int(math.floor(transpoint[1]))\n",
    "    py = int(math.floor(transpoint[2]))\n",
    "    pz = int(math.floor(transpoint[3]))\n",
    "    if px >= 0 and px < grid.shape[0] and py >= 0 and py < grid.shape[1] and pz >= 0 and pz < grid.shape[2]:\n",
    "        for j in range(cell_size):\n",
    "            if grid[px, py, pz * 2 * cell_size + offset + j] < 0:\n",
    "                grid[px, py, pz * 2 * cell_size + offset + j] = i\n",
    "                break\n",
    "            \n",
    "\n",
    "TPB = 32\n",
    "\n",
    "def simulate_rigid_bodies(v1, f1, p1, m1, v2, f2, p2, m2, gridLen, minPt, maxPt):\n",
    "    \n",
    "    start = time.time()\n",
    "    obj1 = PhysObject(v1, f1, gridLen, m1)\n",
    "    obj2 = PhysObject(v2, f2, gridLen, m2)\n",
    "    end = time.time()\n",
    "    print('intiailized objects in',end-start)\n",
    "    \n",
    "    print('points in obj1:',obj1.points.shape[0])\n",
    "    print('points in obj2:',obj2.points.shape[0])\n",
    "    \n",
    "    #minPt = np.minimum(np.min(v1, 0), np.min(v2, 0))\n",
    "    #maxPt = np.maximum(np.max(v1, 0), np.max(v2, 0))\n",
    "    \n",
    "    res = np.ceil(((maxPt - minPt) / gridLen)).astype(np.int32)\n",
    "    \n",
    "    res[2] *= cell_size * 2\n",
    "    \n",
    "    start = time.time()\n",
    "    \n",
    "    grid = cuda.to_device(np.full(res, -1, dtype=np.int32))\n",
    "    #quaternion as [wxyz], followed by translation [xyz]\n",
    "    pose1 = cuda.to_device(p1)\n",
    "    pose2 = cuda.to_device(p2)\n",
    "    points1 = cuda.to_device(obj1.points)\n",
    "    points2 = cuda.to_device(obj2.points)\n",
    "    \n",
    "    end = time.time()\n",
    "    print('copied data to GPU in',end-start)\n",
    "    m = obj1.points.shape[0] + obj2.points.shape[0]\n",
    "    gridDim = (m + TPB - 1) // TPB\n",
    "    \n",
    "    starte = cuda.event()\n",
    "    ende = cuda.event()\n",
    "    starte.record()\n",
    "    populate_grid_kernel[gridDim, TPB](points1, pose1, points2, pose2, grid, cuda.to_device(minPt), gridLen)\n",
    "    ende.record()\n",
    "    ende.synchronize()\n",
    "    print('populated grid in',cuda.event_elapsed_time(starte, ende)/1000)\n",
    "    #debug\n",
    "    return grid.copy_to_host()\n",
    "    "
   ]
  },
  {
   "cell_type": "code",
   "execution_count": 18,
   "id": "001782ee",
   "metadata": {},
   "outputs": [
    {
     "name": "stdout",
     "output_type": "stream",
     "text": [
      "intiailized objects in 0.9714007377624512\n",
      "points in obj1: 781953\n",
      "points in obj2: 781953\n",
      "copied data to GPU in 0.03889608383178711\n",
      "populated grid in 0.617333251953125\n"
     ]
    }
   ],
   "source": [
    "pose1 = np.array([1, 0, 0, 0, 0, 0, 0], np.float32)\n",
    "pose2 = np.array([math.sqrt(2)/2, 0, math.sqrt(2)/2, 0, 0, 2, 0], np.float32)\n",
    "grid = simulate_rigid_bodies(v, f, pose1, 1, v, f, pose2, 1, 0.02, np.array([-1.1, -1.1, -1.1]), np.array([1.1, 3.1, 1.1]))"
   ]
  },
  {
   "cell_type": "code",
   "execution_count": 10,
   "id": "e696b7e1",
   "metadata": {},
   "outputs": [
    {
     "data": {
      "application/vnd.jupyter.widget-view+json": {
       "model_id": "66543b67b5c945dfa066da980bd7a0a5",
       "version_major": 2,
       "version_minor": 0
      },
      "text/plain": [
       "Renderer(camera=PerspectiveCamera(children=(DirectionalLight(color='white', intensity=0.6, position=(54.5, 105…"
      ]
     },
     "metadata": {},
     "output_type": "display_data"
    },
    {
     "data": {
      "text/plain": [
       "<meshplot.Viewer.Viewer at 0x2a87b049490>"
      ]
     },
     "execution_count": 10,
     "metadata": {},
     "output_type": "execute_result"
    }
   ],
   "source": [
    "plot(np.indices(grid.shape)[:,grid >= 0].T)"
   ]
  },
  {
   "cell_type": "code",
   "execution_count": null,
   "id": "e0077850",
   "metadata": {},
   "outputs": [],
   "source": []
  }
 ],
 "metadata": {
  "kernelspec": {
   "display_name": "Python 3",
   "language": "python",
   "name": "python3"
  },
  "language_info": {
   "codemirror_mode": {
    "name": "ipython",
    "version": 3
   },
   "file_extension": ".py",
   "mimetype": "text/x-python",
   "name": "python",
   "nbconvert_exporter": "python",
   "pygments_lexer": "ipython3",
   "version": "3.9.4"
  }
 },
 "nbformat": 4,
 "nbformat_minor": 5
}
