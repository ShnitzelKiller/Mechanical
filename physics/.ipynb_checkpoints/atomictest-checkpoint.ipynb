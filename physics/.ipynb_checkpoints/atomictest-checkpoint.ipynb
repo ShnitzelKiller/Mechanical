{
 "cells": [
  {
   "cell_type": "code",
   "execution_count": 1,
   "id": "451f8433",
   "metadata": {},
   "outputs": [],
   "source": [
    "from numba import cuda, jit, prange, njit, int32, float32, void\n",
    "import numpy as np"
   ]
  },
  {
   "cell_type": "code",
   "execution_count": 35,
   "id": "0df038ee",
   "metadata": {},
   "outputs": [],
   "source": [
    "@cuda.jit\n",
    "def addNeighborhood(data_d):\n",
    "    i = cuda.grid(1)\n",
    "    if i < data_d.shape[0]:\n",
    "        cuda.atomic.compare_and_swap(data_d[i:], 0, 10)\n",
    "\n",
    "@cuda.jit\n",
    "def setRanges(data_d):\n",
    "    i = cuda.grid(1)\n",
    "    if i < data_d.shape[0] // 2:\n",
    "        data_d[i*2:i*2+2] = i\n",
    "        \n",
    "def testAtomic():\n",
    "    data = np.zeros(10, np.int64)\n",
    "    data[5] = 2\n",
    "    data_d = cuda.to_device(data)\n",
    "    addNeighborhood[1, 32](data_d)\n",
    "    return data_d.copy_to_host()\n",
    "\n",
    "def testSetRanges():\n",
    "    data = np.full(10, -1, np.int64)\n",
    "    data_d = cuda.to_device(data)\n",
    "    setRanges[1, 32](data_d)\n",
    "    return data_d.copy_to_host()"
   ]
  },
  {
   "cell_type": "code",
   "execution_count": 38,
   "id": "8b90d81d",
   "metadata": {},
   "outputs": [
    {
     "data": {
      "text/plain": [
       "array([10, 10, 10, 10, 10,  2, 10, 10, 10, 10], dtype=int64)"
      ]
     },
     "execution_count": 38,
     "metadata": {},
     "output_type": "execute_result"
    }
   ],
   "source": [
    "test1 = testAtomic()\n",
    "test1"
   ]
  },
  {
   "cell_type": "code",
   "execution_count": 39,
   "id": "f1366c05",
   "metadata": {},
   "outputs": [
    {
     "data": {
      "text/plain": [
       "array([0, 0, 1, 1, 2, 2, 3, 3, 4, 4], dtype=int64)"
      ]
     },
     "execution_count": 39,
     "metadata": {},
     "output_type": "execute_result"
    }
   ],
   "source": [
    "test2 = testSetRanges()\n",
    "test2"
   ]
  }
 ],
 "metadata": {
  "kernelspec": {
   "display_name": "Python 3",
   "language": "python",
   "name": "python3"
  },
  "language_info": {
   "codemirror_mode": {
    "name": "ipython",
    "version": 3
   },
   "file_extension": ".py",
   "mimetype": "text/x-python",
   "name": "python",
   "nbconvert_exporter": "python",
   "pygments_lexer": "ipython3",
   "version": "3.9.4"
  }
 },
 "nbformat": 4,
 "nbformat_minor": 5
}
