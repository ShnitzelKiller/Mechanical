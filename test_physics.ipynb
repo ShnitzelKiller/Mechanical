{
 "cells": [
  {
   "cell_type": "code",
   "execution_count": 1,
   "id": "c64d45be",
   "metadata": {},
   "outputs": [],
   "source": [
    "from meshplot import plot, interact\n",
    "import ipywidgets\n",
    "import numpy as np\n",
    "import physics.vectormath as vm\n",
    "import igl\n",
    "import physics.physics as phys\n",
    "import math"
   ]
  },
  {
   "cell_type": "code",
   "execution_count": 2,
   "id": "b9ed2c13",
   "metadata": {},
   "outputs": [],
   "source": [
    "def joinmeshes(v1, f1, v2, f2):\n",
    "    return np.vstack((v1, v2)), np.vstack((f1, f2 + v1.shape[0]))\n",
    "\n",
    "\n",
    "\n",
    "def display_animation(v1, f1, v2, f2, states):\n",
    "    fullv, fullf = joinmeshes(v1, f1, v2, f2)\n",
    "    p = plot(fullv, fullf)\n",
    "    n = len(states)\n",
    "    @interact(t=ipywidgets.IntSlider(min=0, max=n-1, step=1))\n",
    "    def ff(t):\n",
    "        vs = []\n",
    "        for j in range(2):\n",
    "            v = (v1, v2)[j]\n",
    "            R = vm.quaternion_to_matrix(states[t][1][j][0])\n",
    "            x = states[t][1][j][1]\n",
    "            newv = (R @ v.T).T + x\n",
    "            vs.append(newv)\n",
    "        fullv = np.vstack(vs)\n",
    "        p.update_object(vertices=fullv)"
   ]
  },
  {
   "cell_type": "code",
   "execution_count": 3,
   "id": "a6cee9aa",
   "metadata": {},
   "outputs": [
    {
     "name": "stdout",
     "output_type": "stream",
     "text": [
      "copied data to GPU in 0.11968064308166504\n"
     ]
    }
   ],
   "source": [
    "# ### off-center collision\n",
    "v, f = igl.read_triangle_mesh('data/cylinder3.obj')\n",
    "grid_len = 0.02\n",
    "density = 1\n",
    "obj1 = phys.PhysObject(v, f, grid_len, translation=np.array([0, 0, 0], np.float32), density=density)\n",
    "obj2 = phys.PhysObject(v, f, grid_len, translation=np.array([0.5, 2.1, 0], np.float32),\n",
    "                    rotation=np.array([math.sqrt(2)/2, 0, math.sqrt(2)/2, 0], np.float32), density=density,\n",
    "                    velocity=np.array([0, -5, 0], np.float32), angular_velocity=np.array([10, 0, 0], np.float32))\n",
    "\n",
    "sim = phys.Simulator(obj1, obj2, np.array([-1.1, -1.1, -1.1]), np.array([1.1, 3.1, 1.1]), 0.02, 100, 0)\n",
    "sim.integrate(0.001, 1000)\n",
    "#print(sim.allstates)"
   ]
  },
  {
   "cell_type": "code",
   "execution_count": 4,
   "id": "d4a091f1",
   "metadata": {
    "scrolled": false
   },
   "outputs": [
    {
     "data": {
      "application/vnd.jupyter.widget-view+json": {
       "model_id": "2532f2282bab496abd6ac8d9d355f36d",
       "version_major": 2,
       "version_minor": 0
      },
      "text/plain": [
       "Renderer(camera=PerspectiveCamera(children=(DirectionalLight(color='white', intensity=0.6, position=(0.0, 0.0,…"
      ]
     },
     "metadata": {},
     "output_type": "display_data"
    },
    {
     "data": {
      "application/vnd.jupyter.widget-view+json": {
       "model_id": "ceb9f1234c7b466f8c7ef5a71c0918b0",
       "version_major": 2,
       "version_minor": 0
      },
      "text/plain": [
       "interactive(children=(IntSlider(value=0, description='t', max=1000), Output()), _dom_classes=('widget-interact…"
      ]
     },
     "metadata": {},
     "output_type": "display_data"
    }
   ],
   "source": [
    "display_animation(v, f, v, f, sim.allstates)"
   ]
  },
  {
   "cell_type": "code",
   "execution_count": null,
   "id": "86841c90",
   "metadata": {},
   "outputs": [],
   "source": []
  }
 ],
 "metadata": {
  "kernelspec": {
   "display_name": "Python 3",
   "language": "python",
   "name": "python3"
  },
  "language_info": {
   "codemirror_mode": {
    "name": "ipython",
    "version": 3
   },
   "file_extension": ".py",
   "mimetype": "text/x-python",
   "name": "python",
   "nbconvert_exporter": "python",
   "pygments_lexer": "ipython3",
   "version": "3.9.4"
  }
 },
 "nbformat": 4,
 "nbformat_minor": 5
}
