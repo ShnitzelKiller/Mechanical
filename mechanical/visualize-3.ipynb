{
 "cells": [
  {
   "cell_type": "code",
   "execution_count": 2,
   "id": "5f1232d0",
   "metadata": {},
   "outputs": [],
   "source": [
    "import onshape as brepio\n",
    "from mechanical.visualize2 import plot_assembly, filter_assembly\n",
    "import os\n",
    "import pandas as ps\n",
    "import ipywidgets as widgets\n",
    "from ipywidgets.embed import embed_minimal_html\n",
    "from IPython.display import clear_output\n",
    "import importlib\n",
    "from IPython.display import display"
   ]
  },
  {
   "cell_type": "code",
   "execution_count": 47,
   "id": "b317aa07-3006-4df1-ba0b-4171297c59df",
   "metadata": {},
   "outputs": [],
   "source": [
    "import numpy as np"
   ]
  },
  {
   "cell_type": "code",
   "execution_count": 3,
   "id": "bcb6e317-4b46-4c86-a3d2-2c50ba914e24",
   "metadata": {},
   "outputs": [],
   "source": [
    "df_name = '/fast/jamesn8/assembly_data/assembly_data_with_transforms_all.h5'\n",
    "df_name_part = '/fast/jamesn8/assembly_data/assembly_data_with_transforms_all.h5_segmentation.h5'\n",
    "assembly_df = ps.read_hdf(df_name,'assembly')\n",
    "part_df = ps.read_hdf(df_name_part,'part')\n",
    "mate_df = ps.read_hdf(df_name,'mate')"
   ]
  },
  {
   "cell_type": "code",
   "execution_count": 77,
   "id": "634cdf28-7640-4343-a800-f2e309bc22d4",
   "metadata": {},
   "outputs": [],
   "source": [
    "mate_df_by_ass = mate_df.copy()\n",
    "mate_df_by_ass = mate_df.set_index('Assembly')\n",
    "mate_df_by_ass['MateIndex'] = mate_df.index"
   ]
  },
  {
   "cell_type": "code",
   "execution_count": 57,
   "id": "fc925d82-7133-455e-8aee-b85b8ab442f9",
   "metadata": {},
   "outputs": [
    {
     "data": {
      "text/html": [
       "<div>\n",
       "<style scoped>\n",
       "    .dataframe tbody tr th:only-of-type {\n",
       "        vertical-align: middle;\n",
       "    }\n",
       "\n",
       "    .dataframe tbody tr th {\n",
       "        vertical-align: top;\n",
       "    }\n",
       "\n",
       "    .dataframe thead th {\n",
       "        text-align: right;\n",
       "    }\n",
       "</style>\n",
       "<table border=\"1\" class=\"dataframe\">\n",
       "  <thead>\n",
       "    <tr style=\"text-align: right;\">\n",
       "      <th></th>\n",
       "      <th>PartOccurrenceID</th>\n",
       "      <th>did</th>\n",
       "      <th>mv</th>\n",
       "      <th>eid</th>\n",
       "      <th>config</th>\n",
       "      <th>PartId</th>\n",
       "      <th>Transform</th>\n",
       "      <th>HasGeometry</th>\n",
       "      <th>RigidComponentID</th>\n",
       "    </tr>\n",
       "    <tr>\n",
       "      <th>Assembly</th>\n",
       "      <th></th>\n",
       "      <th></th>\n",
       "      <th></th>\n",
       "      <th></th>\n",
       "      <th></th>\n",
       "      <th></th>\n",
       "      <th></th>\n",
       "      <th></th>\n",
       "      <th></th>\n",
       "    </tr>\n",
       "  </thead>\n",
       "  <tbody>\n",
       "    <tr>\n",
       "      <th>18</th>\n",
       "      <td>M8+41AMzQm6OVY2kU</td>\n",
       "      <td>b6c979cf4e6660ff81e5a9c2</td>\n",
       "      <td>67d2f776871477086fbc37c5</td>\n",
       "      <td>1520c99d5029db1cafd9d6e5</td>\n",
       "      <td>default</td>\n",
       "      <td>JHD</td>\n",
       "      <td>[[5.551115e-17, -1.0, -1.2143064e-16, 0.021928...</td>\n",
       "      <td>True</td>\n",
       "      <td>1</td>\n",
       "    </tr>\n",
       "  </tbody>\n",
       "</table>\n",
       "</div>"
      ],
      "text/plain": [
       "           PartOccurrenceID                       did  \\\n",
       "Assembly                                                \n",
       "18        M8+41AMzQm6OVY2kU  b6c979cf4e6660ff81e5a9c2   \n",
       "\n",
       "                                mv                       eid   config PartId  \\\n",
       "Assembly                                                                       \n",
       "18        67d2f776871477086fbc37c5  1520c99d5029db1cafd9d6e5  default    JHD   \n",
       "\n",
       "                                                  Transform  HasGeometry  \\\n",
       "Assembly                                                                   \n",
       "18        [[5.551115e-17, -1.0, -1.2143064e-16, 0.021928...         True   \n",
       "\n",
       "          RigidComponentID  \n",
       "Assembly                    \n",
       "18                       1  "
      ]
     },
     "execution_count": 57,
     "metadata": {},
     "output_type": "execute_result"
    }
   ],
   "source": [
    "part_df.loc[18][lambda df: df['PartOccurrenceID'] == 'M8+41AMzQm6OVY2kU']"
   ]
  },
  {
   "cell_type": "code",
   "execution_count": 5,
   "id": "3d99e4ae-fba7-4686-ab43-ca702fa2ce61",
   "metadata": {},
   "outputs": [],
   "source": [
    "path_to_index = ps.Series(dict((v,k) for k,v in assembly_df['AssemblyPath'].iteritems()))"
   ]
  },
  {
   "cell_type": "code",
   "execution_count": 6,
   "id": "f06d8fd7-486c-4e0c-bba3-8ab7472ccd60",
   "metadata": {},
   "outputs": [],
   "source": [
    "has_geometry = part_df.groupby('Assembly')['HasGeometry'].agg(all)\n",
    "assembly_df['HasAllGeometry'] = has_geometry"
   ]
  },
  {
   "cell_type": "code",
   "execution_count": 7,
   "id": "ba9c047f-b577-424c-a15f-8a3095dc0676",
   "metadata": {},
   "outputs": [],
   "source": [
    "part_df.set_index('Assembly', inplace=True)"
   ]
  },
  {
   "cell_type": "code",
   "execution_count": 8,
   "id": "c1be4e00-6f69-498e-ab6d-215631b758c4",
   "metadata": {},
   "outputs": [],
   "source": [
    "datapath = '/projects/grail/benjones/cadlab'"
   ]
  },
  {
   "cell_type": "code",
   "execution_count": 9,
   "id": "f596a582",
   "metadata": {},
   "outputs": [],
   "source": [
    "loader = brepio.Loader(datapath)"
   ]
  },
  {
   "cell_type": "code",
   "execution_count": 80,
   "id": "8d954d72",
   "metadata": {},
   "outputs": [
    {
     "data": {
      "application/vnd.jupyter.widget-view+json": {
       "model_id": "83ad37084f6d44bbbe6df0eb800a4585",
       "version_major": 2,
       "version_minor": 0
      },
      "text/plain": [
       "interactive(children=(Text(value='7492', description='sample'), Output()), _dom_classes=('widget-interact',))"
      ]
     },
     "metadata": {},
     "output_type": "display_data"
    }
   ],
   "source": [
    "mate_types = ['PIN_SLOT', 'BALL', 'PARALLEL', 'SLIDER', 'REVOLUTE', 'CYLINDRICAL', 'PLANAR', 'FASTENED']\n",
    "@widgets.interact(sample=\"7492\")\n",
    "def display_sample(sample):\n",
    "    try:\n",
    "        sample = int(sample)\n",
    "    except ValueError:\n",
    "        sample = path_to_index[sample]\n",
    "    assemblypath = assembly_df.loc[sample, \"AssemblyPath\"]\n",
    "    did, mv, eid = assemblypath.split('_')\n",
    "    print(f'https://cad.onshape.com/documents/{did}/w/8a6b7ec29c9e253f04b1a1fb/m/{mv}/e/{eid}')\n",
    "    print(assemblypath, f' ({sample})')\n",
    "    try:\n",
    "        geo, mates = loader.load_flattened(assemblypath + '.json', skipInvalid=True)\n",
    "        mates = [mate for mate in mates if len(mate.matedEntities) == 2]\n",
    "    except FileNotFoundError as e:\n",
    "        print(f'File not found: {e}')\n",
    "        return\n",
    "    assert(list(geo) == list(part_df.loc[sample,'PartOccurrenceID']))\n",
    "    mate_counts = dict()\n",
    "    for mate in mates:\n",
    "        if len(mate.matedEntities) == 2:\n",
    "            if mate.type not in mate_counts:\n",
    "                mate_counts[mate.type] = 0\n",
    "            mate_counts[mate.type] += 1\n",
    "    num_connected = assembly_df.loc[sample, \"ConnectedComponents\"]\n",
    "    num_rigid = assembly_df.loc[sample, \"RigidPieces\"]\n",
    "    if num_connected > 1:\n",
    "        print('warning:',num_connected,'connected components')\n",
    "    print('rigid pieces:',num_rigid)\n",
    "    print('total parts:',len(geo))\n",
    "    print(f'mates: {len(mates)}: ',mate_counts)\n",
    "\n",
    "    mate_subset = mate_df_by_ass.loc[sample]\n",
    "    geo_to_id = {occ: i for i,occ in enumerate(geo)}\n",
    "    print(geo_to_id)\n",
    "    print([(len(mate.matedEntities),mate.type) for mate in mates])\n",
    "    pairs = [(geo_to_id[mate.matedEntities[0][0]],geo_to_id[mate.matedEntities[1][0]]) for mate in mates]\n",
    "    choices = [(f'mate ({pairs[i][0]},{pairs[i][1]}) (ID {mate_subset.iloc[i][\"MateIndex\"]}) ({mates[i].type}) ({mates[i].name})',i) for i in range(len(mates)) if len(mates[i].matedEntities) == 2]\n",
    "    choices = [('fullAssembly', -1)] + choices\n",
    "    @widgets.interact(mate=choices)\n",
    "    def display_subset(mate):\n",
    "        rigid_labels = list(part_df.loc[sample, 'RigidComponentID'])\n",
    "        nonlocal geo, mates\n",
    "        if mate >= 0:\n",
    "            print(pairs[mate])\n",
    "            geo_filtered, mates_filtered = filter_assembly(geo, mates, pairs[mate])\n",
    "            rigid_labels = [r for i,r in enumerate(rigid_labels) if i in pairs[mate]]\n",
    "        else:\n",
    "            geo_filtered = geo\n",
    "            mates_filtered = mates\n",
    "        badOccs = [k for k in geo if geo[k][1] is None or geo[k][1].V.shape[0] == 0]\n",
    "        if len(badOccs) > 0:\n",
    "            print(f'warning: {len(badOccs)} invalid parts!')\n",
    "        #for o in badOccs:\n",
    "        #    geo.pop(o)\n",
    "        renderer = plot_assembly(geo_filtered, mates_filtered, rigid_labels = rigid_labels if mate < 0 else None)\n",
    "        display(renderer)\n",
    "        #embed_minimal_html('export.html', views=[renderer], title='Viewer export')\n",
    "            #print('num mates:',len(mates))\n",
    "    "
   ]
  },
  {
   "cell_type": "code",
   "execution_count": 62,
   "id": "2b086d61-1e6d-45c0-a86c-d608b6b6b350",
   "metadata": {},
   "outputs": [
    {
     "data": {
      "text/plain": [
       "Index(['PartOccurrenceID', 'did', 'mv', 'eid', 'config', 'PartId', 'Transform',\n",
       "       'HasGeometry', 'RigidComponentID'],\n",
       "      dtype='object')"
      ]
     },
     "execution_count": 62,
     "metadata": {},
     "output_type": "execute_result"
    }
   ],
   "source": [
    "part_df.keys()"
   ]
  },
  {
   "cell_type": "code",
   "execution_count": null,
   "id": "74fc1617-cbf5-46ef-b507-ef7629ba7e26",
   "metadata": {},
   "outputs": [],
   "source": []
  }
 ],
 "metadata": {
  "kernelspec": {
   "display_name": "Python 3 (ipykernel)",
   "language": "python",
   "name": "python3"
  },
  "language_info": {
   "codemirror_mode": {
    "name": "ipython",
    "version": 3
   },
   "file_extension": ".py",
   "mimetype": "text/x-python",
   "name": "python",
   "nbconvert_exporter": "python",
   "pygments_lexer": "ipython3",
   "version": "3.9.6"
  }
 },
 "nbformat": 4,
 "nbformat_minor": 5
}
