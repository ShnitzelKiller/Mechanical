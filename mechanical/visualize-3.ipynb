{
 "cells": [
  {
   "cell_type": "code",
   "execution_count": 2,
   "id": "5f1232d0",
   "metadata": {},
   "outputs": [],
   "source": [
    "import onshape as brepio\n",
    "from mechanical.visualize2 import plot_assembly, filter_assembly\n",
    "import os\n",
    "import pandas as ps\n",
    "import ipywidgets as widgets\n",
    "from ipywidgets.embed import embed_minimal_html\n",
    "from IPython.display import clear_output\n",
    "import importlib\n",
    "from IPython.display import display"
   ]
  },
  {
   "cell_type": "code",
   "execution_count": 3,
   "id": "bcb6e317-4b46-4c86-a3d2-2c50ba914e24",
   "metadata": {},
   "outputs": [],
   "source": [
    "df_name = '/fast/jamesn8/assembly_data/assembly_data_with_transforms_all.h5'\n",
    "df_name_part = '/fast/jamesn8/assembly_data/assembly_data_with_transforms_all.h5_segmentation.h5'\n",
    "assembly_df = ps.read_hdf(df_name,'assembly')\n",
    "part_df = ps.read_hdf(df_name_part,'part')\n",
    "mate_df = ps.read_hdf(df_name,'mate')\n",
    "mate_df_by_ass = mate_df.copy()\n",
    "mate_df_by_ass = mate_df.set_index('Assembly')\n",
    "mate_df_by_ass['MateIndex'] = mate_df.index\n",
    "\n",
    "path_to_index = ps.Series(dict((v,k) for k,v in assembly_df['AssemblyPath'].iteritems()))\n",
    "\n",
    "has_geometry = part_df.groupby('Assembly')['HasGeometry'].agg(all)\n",
    "assembly_df['HasAllGeometry'] = has_geometry\n",
    "\n",
    "part_df.set_index('Assembly', inplace=True)\n",
    "\n",
    "datapath = '/projects/grail/benjones/cadlab'\n",
    "loader = brepio.Loader(datapath)"
   ]
  },
  {
   "cell_type": "code",
   "execution_count": 32,
   "id": "8d954d72",
   "metadata": {},
   "outputs": [
    {
     "data": {
      "application/vnd.jupyter.widget-view+json": {
       "model_id": "b5dc481b74614ed491e9c19b716379bd",
       "version_major": 2,
       "version_minor": 0
      },
      "text/plain": [
       "interactive(children=(Text(value='7492', description='sample'), Output()), _dom_classes=('widget-interact',))"
      ]
     },
     "metadata": {},
     "output_type": "display_data"
    }
   ],
   "source": [
    "use_pspy = True\n",
    "mate_types = ['PIN_SLOT', 'BALL', 'PARALLEL', 'SLIDER', 'REVOLUTE', 'CYLINDRICAL', 'PLANAR', 'FASTENED']\n",
    "@widgets.interact(sample=\"7492\")\n",
    "def display_sample(sample):\n",
    "    try:\n",
    "        sample = int(sample)\n",
    "    except ValueError:\n",
    "        sample = path_to_index[sample]\n",
    "    assemblypath = assembly_df.loc[sample, \"AssemblyPath\"]\n",
    "    did, mv, eid = assemblypath.split('_')\n",
    "    print(f'https://cad.onshape.com/documents/{did}/w/8a6b7ec29c9e253f04b1a1fb/m/{mv}/e/{eid}')\n",
    "    print(assemblypath, f' ({sample})')\n",
    "    try:\n",
    "        geo, mates = loader.load_flattened(assemblypath + '.json', skipInvalid=True, use_pspy=use_pspy)\n",
    "        mates = [mate for mate in mates if len(mate.matedEntities) == 2]\n",
    "    except FileNotFoundError as e:\n",
    "        print(f'File not found: {e}')\n",
    "        return\n",
    "    assert(list(geo) == list(part_df.loc[sample,'PartOccurrenceID']))\n",
    "    mate_counts = dict()\n",
    "    for mate in mates:\n",
    "        if len(mate.matedEntities) == 2:\n",
    "            if mate.type not in mate_counts:\n",
    "                mate_counts[mate.type] = 0\n",
    "            mate_counts[mate.type] += 1\n",
    "    num_connected = assembly_df.loc[sample, \"ConnectedComponents\"]\n",
    "    num_rigid = assembly_df.loc[sample, \"RigidPieces\"]\n",
    "    if num_connected > 1:\n",
    "        print('warning:',num_connected,'connected components')\n",
    "    print('rigid pieces:',num_rigid)\n",
    "    print('total parts:',len(geo))\n",
    "    print(f'mates: {len(mates)}: ',mate_counts)\n",
    "\n",
    "    mate_subset = mate_df_by_ass.loc[[sample]]\n",
    "    geo_to_id = {occ: i for i,occ in enumerate(geo)}\n",
    "    print(geo_to_id)\n",
    "    print([(len(mate.matedEntities),mate.type) for mate in mates])\n",
    "    pairs = [(geo_to_id[mate.matedEntities[0][0]],geo_to_id[mate.matedEntities[1][0]]) for mate in mates]\n",
    "    choices = [(f'mate ({pairs[i][0]},{pairs[i][1]}) (ID {mate_subset.iloc[i][\"MateIndex\"]}) ({mates[i].type}) ({mates[i].name})',i) for i in range(len(mates)) if len(mates[i].matedEntities) == 2]\n",
    "    choices = [('fullAssembly', -1)] + choices\n",
    "    @widgets.interact(mate=choices)\n",
    "    def display_subset(mate):\n",
    "        rigid_labels = list(part_df.loc[sample, 'RigidComponentID'])\n",
    "        nonlocal geo, mates\n",
    "        if mate >= 0:\n",
    "            print(pairs[mate])\n",
    "            geo_filtered, mates_filtered = filter_assembly(geo, mates, pairs[mate])\n",
    "            rigid_labels = [r for i,r in enumerate(rigid_labels) if i in pairs[mate]]\n",
    "        else:\n",
    "            geo_filtered = geo\n",
    "            mates_filtered = mates\n",
    "        badOccs = [k for k in geo if geo[k][1] is None or (geo[k][1].mesh.V if use_pspy else geo[k][1].V).shape[0] == 0]\n",
    "        if len(badOccs) > 0:\n",
    "            print(f'warning: {len(badOccs)} invalid parts!')\n",
    "        #for o in badOccs:\n",
    "        #    geo.pop(o)\n",
    "        renderer = plot_assembly(geo_filtered, mates_filtered, rigid_labels = rigid_labels if mate < 0 else None)\n",
    "        display(renderer)\n",
    "        #embed_minimal_html('export.html', views=[renderer], title='Viewer export')\n",
    "            #print('num mates:',len(mates))\n",
    "    "
   ]
  },
  {
   "cell_type": "code",
   "execution_count": 87,
   "id": "dd37e95d-3cf3-4365-b8dd-8ba95abbe372",
   "metadata": {},
   "outputs": [
    {
     "data": {
      "text/plain": [
       "Assembly                                                  552\n",
       "Part1                                       M1/dZMrxY1lIcRFnx\n",
       "Part2                                       MiEfLhvfBX5+WwTK1\n",
       "Type                                                 REVOLUTE\n",
       "Origin1                              [0.000762, -0.0762, 0.0]\n",
       "Axes1       [[0.0, 0.0, -1.0], [1.0, 0.0, 0.0], [0.0, -1.0...\n",
       "Origin2                         [-4.440892e-16, -0.0762, 0.0]\n",
       "Axes2       [[0.0, 0.0, -1.0], [0.0, 1.0, -0.0], [1.0, 0.0...\n",
       "Name                                               Revolute 2\n",
       "Name: 9484, dtype: object"
      ]
     },
     "execution_count": 87,
     "metadata": {},
     "output_type": "execute_result"
    }
   ],
   "source": [
    "mate_df.loc[9484]"
   ]
  },
  {
   "cell_type": "code",
   "execution_count": 89,
   "id": "87756ee5-079d-4871-a835-f0027798ae70",
   "metadata": {},
   "outputs": [
    {
     "data": {
      "text/html": [
       "<div>\n",
       "<style scoped>\n",
       "    .dataframe tbody tr th:only-of-type {\n",
       "        vertical-align: middle;\n",
       "    }\n",
       "\n",
       "    .dataframe tbody tr th {\n",
       "        vertical-align: top;\n",
       "    }\n",
       "\n",
       "    .dataframe thead th {\n",
       "        text-align: right;\n",
       "    }\n",
       "</style>\n",
       "<table border=\"1\" class=\"dataframe\">\n",
       "  <thead>\n",
       "    <tr style=\"text-align: right;\">\n",
       "      <th></th>\n",
       "      <th>PartOccurrenceID</th>\n",
       "      <th>did</th>\n",
       "      <th>mv</th>\n",
       "      <th>eid</th>\n",
       "      <th>config</th>\n",
       "      <th>PartId</th>\n",
       "      <th>Transform</th>\n",
       "      <th>HasGeometry</th>\n",
       "      <th>RigidComponentID</th>\n",
       "    </tr>\n",
       "    <tr>\n",
       "      <th>Assembly</th>\n",
       "      <th></th>\n",
       "      <th></th>\n",
       "      <th></th>\n",
       "      <th></th>\n",
       "      <th></th>\n",
       "      <th></th>\n",
       "      <th></th>\n",
       "      <th></th>\n",
       "      <th></th>\n",
       "    </tr>\n",
       "  </thead>\n",
       "  <tbody>\n",
       "    <tr>\n",
       "      <th>552</th>\n",
       "      <td>MRPqM9QevOxx309ic</td>\n",
       "      <td>58a198fcf9c56c0fcc305b81</td>\n",
       "      <td>bbdc6bd06863df20683a15cb</td>\n",
       "      <td>6a008579cc8f18301d71453c</td>\n",
       "      <td>default</td>\n",
       "      <td>JHD</td>\n",
       "      <td>[[1.0, 0.0, 0.0, -0.021967174], [0.0, 1.0, 0.0...</td>\n",
       "      <td>True</td>\n",
       "      <td>0</td>\n",
       "    </tr>\n",
       "    <tr>\n",
       "      <th>552</th>\n",
       "      <td>MmA7eFgBYnf7yOODU</td>\n",
       "      <td>58a198fcf9c56c0fcc305b81</td>\n",
       "      <td>bbdc6bd06863df20683a15cb</td>\n",
       "      <td>6a008579cc8f18301d71453c</td>\n",
       "      <td>default</td>\n",
       "      <td>RBBD</td>\n",
       "      <td>[[0.0, -1.0, 0.0, -0.015617174], [1.0, 0.0, 0....</td>\n",
       "      <td>True</td>\n",
       "      <td>0</td>\n",
       "    </tr>\n",
       "    <tr>\n",
       "      <th>552</th>\n",
       "      <td>M59OywwaIElzsyE8k</td>\n",
       "      <td>58a198fcf9c56c0fcc305b81</td>\n",
       "      <td>bbdc6bd06863df20683a15cb</td>\n",
       "      <td>6a008579cc8f18301d71453c</td>\n",
       "      <td>default</td>\n",
       "      <td>JjD</td>\n",
       "      <td>[[1.0, 0.0, -1.2246469e-16, -0.021967174], [0....</td>\n",
       "      <td>True</td>\n",
       "      <td>0</td>\n",
       "    </tr>\n",
       "    <tr>\n",
       "      <th>552</th>\n",
       "      <td>M1/dZMrxY1lIcRFnx</td>\n",
       "      <td>58a198fcf9c56c0fcc305b81</td>\n",
       "      <td>bbdc6bd06863df20683a15cb</td>\n",
       "      <td>6a008579cc8f18301d71453c</td>\n",
       "      <td>default</td>\n",
       "      <td>RpBD</td>\n",
       "      <td>[[-0.92174846, -0.29050457, -0.25687918, -0.04...</td>\n",
       "      <td>True</td>\n",
       "      <td>1</td>\n",
       "    </tr>\n",
       "    <tr>\n",
       "      <th>552</th>\n",
       "      <td>MiEfLhvfBX5+WwTK1</td>\n",
       "      <td>58a198fcf9c56c0fcc305b81</td>\n",
       "      <td>bbdc6bd06863df20683a15cb</td>\n",
       "      <td>6a008579cc8f18301d71453c</td>\n",
       "      <td>default</td>\n",
       "      <td>RNBD</td>\n",
       "      <td>[[-0.92174846, 3.5414365e-16, 0.38778836, -0.0...</td>\n",
       "      <td>True</td>\n",
       "      <td>2</td>\n",
       "    </tr>\n",
       "    <tr>\n",
       "      <th>552</th>\n",
       "      <td>Mwuf6NDWDinzVdlEU</td>\n",
       "      <td>58a198fcf9c56c0fcc305b81</td>\n",
       "      <td>bbdc6bd06863df20683a15cb</td>\n",
       "      <td>6a008579cc8f18301d71453c</td>\n",
       "      <td>default</td>\n",
       "      <td>RFBD</td>\n",
       "      <td>[[1.0, 0.0, -1.2246469e-16, -0.021967174], [0....</td>\n",
       "      <td>True</td>\n",
       "      <td>3</td>\n",
       "    </tr>\n",
       "    <tr>\n",
       "      <th>552</th>\n",
       "      <td>MtEBUiiw8jvjVvQLI</td>\n",
       "      <td>58a198fcf9c56c0fcc305b81</td>\n",
       "      <td>bbdc6bd06863df20683a15cb</td>\n",
       "      <td>6a008579cc8f18301d71453c</td>\n",
       "      <td>default</td>\n",
       "      <td>RzBD</td>\n",
       "      <td>[[1.0, 0.0, 0.0, -0.021967174], [0.0, 1.0, 0.0...</td>\n",
       "      <td>True</td>\n",
       "      <td>0</td>\n",
       "    </tr>\n",
       "  </tbody>\n",
       "</table>\n",
       "</div>"
      ],
      "text/plain": [
       "           PartOccurrenceID                       did  \\\n",
       "Assembly                                                \n",
       "552       MRPqM9QevOxx309ic  58a198fcf9c56c0fcc305b81   \n",
       "552       MmA7eFgBYnf7yOODU  58a198fcf9c56c0fcc305b81   \n",
       "552       M59OywwaIElzsyE8k  58a198fcf9c56c0fcc305b81   \n",
       "552       M1/dZMrxY1lIcRFnx  58a198fcf9c56c0fcc305b81   \n",
       "552       MiEfLhvfBX5+WwTK1  58a198fcf9c56c0fcc305b81   \n",
       "552       Mwuf6NDWDinzVdlEU  58a198fcf9c56c0fcc305b81   \n",
       "552       MtEBUiiw8jvjVvQLI  58a198fcf9c56c0fcc305b81   \n",
       "\n",
       "                                mv                       eid   config PartId  \\\n",
       "Assembly                                                                       \n",
       "552       bbdc6bd06863df20683a15cb  6a008579cc8f18301d71453c  default    JHD   \n",
       "552       bbdc6bd06863df20683a15cb  6a008579cc8f18301d71453c  default   RBBD   \n",
       "552       bbdc6bd06863df20683a15cb  6a008579cc8f18301d71453c  default    JjD   \n",
       "552       bbdc6bd06863df20683a15cb  6a008579cc8f18301d71453c  default   RpBD   \n",
       "552       bbdc6bd06863df20683a15cb  6a008579cc8f18301d71453c  default   RNBD   \n",
       "552       bbdc6bd06863df20683a15cb  6a008579cc8f18301d71453c  default   RFBD   \n",
       "552       bbdc6bd06863df20683a15cb  6a008579cc8f18301d71453c  default   RzBD   \n",
       "\n",
       "                                                  Transform  HasGeometry  \\\n",
       "Assembly                                                                   \n",
       "552       [[1.0, 0.0, 0.0, -0.021967174], [0.0, 1.0, 0.0...         True   \n",
       "552       [[0.0, -1.0, 0.0, -0.015617174], [1.0, 0.0, 0....         True   \n",
       "552       [[1.0, 0.0, -1.2246469e-16, -0.021967174], [0....         True   \n",
       "552       [[-0.92174846, -0.29050457, -0.25687918, -0.04...         True   \n",
       "552       [[-0.92174846, 3.5414365e-16, 0.38778836, -0.0...         True   \n",
       "552       [[1.0, 0.0, -1.2246469e-16, -0.021967174], [0....         True   \n",
       "552       [[1.0, 0.0, 0.0, -0.021967174], [0.0, 1.0, 0.0...         True   \n",
       "\n",
       "          RigidComponentID  \n",
       "Assembly                    \n",
       "552                      0  \n",
       "552                      0  \n",
       "552                      0  \n",
       "552                      1  \n",
       "552                      2  \n",
       "552                      3  \n",
       "552                      0  "
      ]
     },
     "execution_count": 89,
     "metadata": {},
     "output_type": "execute_result"
    }
   ],
   "source": [
    "part_df.loc[552]"
   ]
  },
  {
   "cell_type": "code",
   "execution_count": 16,
   "id": "e6222bf5-4967-44f9-9d1b-6d50f829a3c7",
   "metadata": {},
   "outputs": [],
   "source": [
    "with open('/projects/grail/jamesn8/projects/mechanical/Mechanical/data/dataset/invalid_threshold_0_25.txt','r') as f:\n",
    "    invalid_asses = [int(l) for l in f.readlines()]\n",
    "\n",
    "with open('/projects/grail/jamesn8/projects/mechanical/Mechanical/data/dataset/random_excludes.txt','r') as f:\n",
    "    random_asses = [int(l) for l in f.readlines()]\n",
    "\n",
    "with open('/projects/grail/jamesn8/projects/mechanical/Mechanical/data/dataset/clean_dataset_with_augmented_fastens.txt','r') as f:\n",
    "    all_asses = [int(l) for l in f.readlines()]\n",
    "\n",
    "    "
   ]
  },
  {
   "cell_type": "code",
   "execution_count": 26,
   "id": "482190d4-b015-4c52-85ea-4531b233b32d",
   "metadata": {},
   "outputs": [
    {
     "data": {
      "text/plain": [
       "<AxesSubplot:>"
      ]
     },
     "execution_count": 26,
     "metadata": {},
     "output_type": "execute_result"
    },
    {
     "data": {
      "image/png": "[encoded data removed]",
      "text/plain": [
       "<Figure size 432x288 with 1 Axes>"
      ]
     },
     "metadata": {
      "needs_background": "light"
     },
     "output_type": "display_data"
    }
   ],
   "source": [
    "mate_df.set_index('Assembly').loc[invalid_asses]['Type'].hist()"
   ]
  },
  {
   "cell_type": "code",
   "execution_count": 25,
   "id": "17cf7ac3-220e-483a-997f-5dae660622ac",
   "metadata": {},
   "outputs": [
    {
     "data": {
      "text/plain": [
       "<AxesSubplot:>"
      ]
     },
     "execution_count": 25,
     "metadata": {},
     "output_type": "execute_result"
    },
    {
     "data": {
      "image/png": "[encoded data removed]",
      "text/plain": [
       "<Figure size 432x288 with 1 Axes>"
      ]
     },
     "metadata": {
      "needs_background": "light"
     },
     "output_type": "display_data"
    }
   ],
   "source": [
    "mate_df.set_index('Assembly').loc[set(all_asses).difference(set(invalid_asses))]['Type'].hist()"
   ]
  },
  {
   "cell_type": "code",
   "execution_count": 22,
   "id": "99eeccd8-af03-4caf-9f03-f08d35991286",
   "metadata": {},
   "outputs": [
    {
     "data": {
      "text/plain": [
       "<AxesSubplot:>"
      ]
     },
     "execution_count": 22,
     "metadata": {},
     "output_type": "execute_result"
    },
    {
     "data": {
      "image/png": "[encoded data removed]",
      "text/plain": [
       "<Figure size 432x288 with 1 Axes>"
      ]
     },
     "metadata": {
      "needs_background": "light"
     },
     "output_type": "display_data"
    }
   ],
   "source": [
    "mate_df.set_index('Assembly').loc[random_asses]['Type'].hist()"
   ]
  },
  {
   "cell_type": "code",
   "execution_count": 24,
   "id": "8aa3d413-c18a-4cc4-943c-ec92c29cd2bd",
   "metadata": {},
   "outputs": [
    {
     "data": {
      "text/plain": [
       "<AxesSubplot:>"
      ]
     },
     "execution_count": 24,
     "metadata": {},
     "output_type": "execute_result"
    },
    {
     "data": {
      "image/png": "[encoded data removed]",
      "text/plain": [
       "<Figure size 432x288 with 1 Axes>"
      ]
     },
     "metadata": {
      "needs_background": "light"
     },
     "output_type": "display_data"
    }
   ],
   "source": [
    "mate_df.set_index('Assembly').loc[all_asses]['Type'].hist()"
   ]
  },
  {
   "cell_type": "code",
   "execution_count": 15,
   "id": "efc687f2-c21d-4dc8-9b60-ae9a6345b957",
   "metadata": {},
   "outputs": [
    {
     "data": {
      "text/plain": [
       "0.18889578163771711"
      ]
     },
     "execution_count": 15,
     "metadata": {},
     "output_type": "execute_result"
    }
   ],
   "source": [
    "(len(invalid_asses)/6448)"
   ]
  },
  {
   "cell_type": "code",
   "execution_count": 20,
   "id": "5cb420a8-9ee5-4d47-b833-b44860d6e44c",
   "metadata": {},
   "outputs": [
    {
     "data": {
      "text/plain": [
       "0.1611471491976784"
      ]
     },
     "execution_count": 20,
     "metadata": {},
     "output_type": "execute_result"
    }
   ],
   "source": [
    "#invalid\n",
    "2832  / 17574 "
   ]
  },
  {
   "cell_type": "code",
   "execution_count": 21,
   "id": "6325e67a-e393-4c02-ba63-32794c92062d",
   "metadata": {},
   "outputs": [
    {
     "data": {
      "text/plain": [
       "0.19193126209172642"
      ]
     },
     "execution_count": 21,
     "metadata": {},
     "output_type": "execute_result"
    }
   ],
   "source": [
    "#random\n",
    "3373 / 17574 "
   ]
  },
  {
   "cell_type": "code",
   "execution_count": 27,
   "id": "1b97217f-6a9b-4930-98b6-462e704affdb",
   "metadata": {},
   "outputs": [
    {
     "data": {
      "text/plain": [
       "5230"
      ]
     },
     "execution_count": 27,
     "metadata": {},
     "output_type": "execute_result"
    }
   ],
   "source": [
    "6448 - len(invalid_asses)"
   ]
  },
  {
   "cell_type": "code",
   "execution_count": null,
   "id": "0f1d2239-f70e-4917-8029-426924e54f14",
   "metadata": {},
   "outputs": [],
   "source": []
  }
 ],
 "metadata": {
  "kernelspec": {
   "display_name": "Python 3 (ipykernel)",
   "language": "python",
   "name": "python3"
  },
  "language_info": {
   "codemirror_mode": {
    "name": "ipython",
    "version": 3
   },
   "file_extension": ".py",
   "mimetype": "text/x-python",
   "name": "python",
   "nbconvert_exporter": "python",
   "pygments_lexer": "ipython3",
   "version": "3.9.6"
  }
 },
 "nbformat": 4,
 "nbformat_minor": 5
}
