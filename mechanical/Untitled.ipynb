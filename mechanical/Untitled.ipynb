{
 "cells": [
  {
   "cell_type": "code",
   "execution_count": 1,
   "id": "3e91b1f1-f254-457a-9bff-ce8bf377d2f2",
   "metadata": {},
   "outputs": [],
   "source": [
    "from pythreejs import *"
   ]
  },
  {
   "cell_type": "code",
   "execution_count": 202,
   "id": "1251251a-ef1d-4b93-92ce-d5cf83d08c16",
   "metadata": {},
   "outputs": [],
   "source": [
    "from ipywidgets import VBox, HBox, Checkbox, jslink, Dropdown, interactive"
   ]
  },
  {
   "cell_type": "code",
   "execution_count": 5,
   "id": "1670250c-dfca-4b49-85ed-63212d9eda0a",
   "metadata": {},
   "outputs": [],
   "source": [
    "import numpy as np"
   ]
  },
  {
   "cell_type": "code",
   "execution_count": 13,
   "id": "25825fea-e6d9-489a-9d70-bbbac02cbb2a",
   "metadata": {},
   "outputs": [],
   "source": [
    "view_width = 600\n",
    "view_height = 400"
   ]
  },
  {
   "cell_type": "code",
   "execution_count": 118,
   "id": "cd113417-a2c6-42ca-9ccb-d42c62dfcbc8",
   "metadata": {},
   "outputs": [],
   "source": [
    "vd = np.array([[0, 0, 1],\n",
    "              [0, 1, 0],\n",
    "              [0, 1, 1]], dtype=np.float64)\n",
    "fd = np.array([[0, 1, 2],[2, 1, 0]])\n",
    "cs = np.zeros([2, 3])"
   ]
  },
  {
   "cell_type": "code",
   "execution_count": 143,
   "id": "a91a6077-e08e-4af1-8ed0-94ec436f2c5a",
   "metadata": {
    "tags": []
   },
   "outputs": [],
   "source": [
    "ba_dict = {}\n",
    "ba_dict['position'] = BufferAttribute(vd.astype(np.float32), normalized=False)\n",
    "ba_dict['index'] = BufferAttribute(fd.astype(np.uint32).ravel(), normalized=False)\n",
    "ba_dict['color'] = BufferAttribute(cs.astype(np.float32))\n",
    "geometry = BufferGeometry(attributes=ba_dict)\n",
    "material = MeshStandardMaterial(color=\"rgb(0, 100, 0)\")\n",
    "#material = MeshStandardMaterial(vertexColor=True)\n",
    "mesh = Mesh(geometry=geometry, material=material)\n",
    "points = Points(geometry=geometry, material=PointsMaterial(color='blue'))"
   ]
  },
  {
   "cell_type": "code",
   "execution_count": 144,
   "id": "16cd5869-b4c6-4f74-be32-b8233faef93c",
   "metadata": {},
   "outputs": [],
   "source": [
    "sphere = Mesh(\n",
    "    SphereBufferGeometry(1, 32, 16),\n",
    "    MeshStandardMaterial(color='red')\n",
    ")"
   ]
  },
  {
   "cell_type": "code",
   "execution_count": 145,
   "id": "50bb1e49-5e21-47c1-b56e-d61547bd67b3",
   "metadata": {},
   "outputs": [],
   "source": [
    "camera = PerspectiveCamera( position=[10, 6, 10], aspect=view_width/view_height)\n",
    "key_light = DirectionalLight(position=[0, 10, 10])\n",
    "ambient_light = AmbientLight()\n",
    "scene = Scene(children=[mesh, points, sphere, camera, key_light, ambient_light])\n",
    "controller = OrbitControls(controlling=camera)\n",
    "renderer = Renderer(camera=camera, scene=scene, controls=[controller],\n",
    "                    width=view_width, height=view_height)"
   ]
  },
  {
   "cell_type": "code",
   "execution_count": 148,
   "id": "3b61b5fe-13ba-45ff-9a9f-511d02e19144",
   "metadata": {},
   "outputs": [
    {
     "data": {
      "application/vnd.jupyter.widget-view+json": {
       "model_id": "d936b4e8fd904290b192d20bedac1d4c",
       "version_major": 2,
       "version_minor": 0
      },
      "text/plain": [
       "VBox(children=(Renderer(camera=PerspectiveCamera(aspect=1.5, position=(2.440511560940532, 1.0457039234697854, …"
      ]
     },
     "metadata": {},
     "output_type": "display_data"
    }
   ],
   "source": [
    "chks = [\n",
    "    Checkbox(True, description='tri'),\n",
    "    Checkbox(False, description='wireframe'),\n",
    "    Checkbox(True, description='points')\n",
    "]\n",
    "jslink((chks[0], 'value'), (mesh, 'visible'))\n",
    "jslink((chks[1],'value'), (material, 'wireframe'))\n",
    "jslink((chks[2],'value'), (points, 'visible'))\n",
    "VBox([renderer, HBox(chks)])"
   ]
  },
  {
   "cell_type": "code",
   "execution_count": 200,
   "id": "beee7898-d7dd-4b1b-9804-710979a3d4b9",
   "metadata": {},
   "outputs": [],
   "source": [
    "dropdown = Dropdown(\n",
    "    options=['1', '2', '3'],\n",
    "    value='2',\n",
    "    description='Number:',\n",
    "    disabled=False,\n",
    ")"
   ]
  },
  {
   "cell_type": "code",
   "execution_count": 204,
   "id": "0b0d0ae8-2a68-429d-ae71-b7c296d0673e",
   "metadata": {},
   "outputs": [],
   "source": [
    "def f(x):\n",
    "    print(x)\n",
    "w = interactive(f, x=dropdown)\n"
   ]
  },
  {
   "cell_type": "code",
   "execution_count": null,
   "id": "6c107bc0-2d6d-41f0-b222-3b7eafcbef43",
   "metadata": {},
   "outputs": [],
   "source": []
  }
 ],
 "metadata": {
  "kernelspec": {
   "display_name": "Python 3 (ipykernel)",
   "language": "python",
   "name": "python3"
  },
  "language_info": {
   "codemirror_mode": {
    "name": "ipython",
    "version": 3
   },
   "file_extension": ".py",
   "mimetype": "text/x-python",
   "name": "python",
   "nbconvert_exporter": "python",
   "pygments_lexer": "ipython3",
   "version": "3.9.6"
  }
 },
 "nbformat": 4,
 "nbformat_minor": 5
}
