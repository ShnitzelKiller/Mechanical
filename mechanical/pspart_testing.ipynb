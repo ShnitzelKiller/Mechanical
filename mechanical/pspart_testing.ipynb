{
 "cells": [
  {
   "cell_type": "code",
   "execution_count": 2,
   "id": "348493d5-2c15-4119-8c9f-fa3c93412ecc",
   "metadata": {},
   "outputs": [],
   "source": [
    "from pspart import Part\n",
    "import meshplot as mp\n",
    "import os\n",
    "import numpy as np\n",
    "import torch"
   ]
  },
  {
   "cell_type": "code",
   "execution_count": 3,
   "id": "af1d399e-56f3-4ee8-a1fd-47f91637df9b",
   "metadata": {},
   "outputs": [],
   "source": [
    "datapath = '/projects/grail/benjones/cadlab'\n",
    "part = Part(os.path.join(datapath, 'data/models/58aace5054540c1fba909bab/ac500a73d2324ea4fa3af589/84dd987436323f4357c873e2/default/JFD.xt'), uv_features=True)"
   ]
  },
  {
   "cell_type": "code",
   "execution_count": 7,
   "id": "19616052-79c9-4f12-bd0d-a1699cbecaba",
   "metadata": {},
   "outputs": [
    {
     "data": {
      "text/plain": [
       "array([[-0.0635, -0.044 ,  0.    ],\n",
       "       [ 0.0635,  0.044 ,  0.003 ]])"
      ]
     },
     "execution_count": 7,
     "metadata": {},
     "output_type": "execute_result"
    }
   ],
   "source": [
    "part.bounding_box()"
   ]
  },
  {
   "cell_type": "code",
   "execution_count": null,
   "id": "043426df-82f2-4aa8-a76b-ebcc35231f46",
   "metadata": {},
   "outputs": [],
   "source": [
    "data = torch.load('/projects/grail/jamesn8/0.pt')"
   ]
  },
  {
   "cell_type": "code",
   "execution_count": 30,
   "id": "24ba31c9-8be4-45d3-bde8-b45cd96e35ae",
   "metadata": {},
   "outputs": [
    {
     "data": {
      "text/plain": [
       "torch.Size([1124, 1])"
      ]
     },
     "execution_count": 30,
     "metadata": {},
     "output_type": "execute_result"
    }
   ],
   "source": [
    "(data.topo_type == 2).nonzero().shape"
   ]
  },
  {
   "cell_type": "code",
   "execution_count": 33,
   "id": "c1c342a4-ad3d-4eb6-afc3-fc82b5f45030",
   "metadata": {},
   "outputs": [
    {
     "data": {
      "text/plain": [
       "torch.Size([1126, 6, 10])"
      ]
     },
     "execution_count": 33,
     "metadata": {},
     "output_type": "execute_result"
    }
   ],
   "source": [
    "data.crv_feat.shape"
   ]
  },
  {
   "cell_type": "code",
   "execution_count": 35,
   "id": "bbdf9352-331e-4d05-98b7-ad516a777600",
   "metadata": {},
   "outputs": [
    {
     "data": {
      "text/plain": [
       "torch.Size([2889])"
      ]
     },
     "execution_count": 35,
     "metadata": {},
     "output_type": "execute_result"
    }
   ],
   "source": [
    "data.topo_type.shape"
   ]
  },
  {
   "cell_type": "code",
   "execution_count": 36,
   "id": "86fa82d0-53d3-403c-9f88-0b4d2e6c91ed",
   "metadata": {},
   "outputs": [
    {
     "data": {
      "text/plain": [
       "Batch(E2L=[2, 2248], F2F=[2, 1124], L2F=[2, 628], V2E=[2, 2036], batch=[2889], crv_feat=[1126, 6, 10], graph_idx=[1, 2889], idx=20, mc_pair_labels=[20000], mc_pair_type=[100000], mc_pairs=[6, 20000], mc_proposal_feat=[2, 100000], part_edges=[2, 57], part_pair_feats=[2, 57], ptr=[15], srf_feat=[493, 7, 10, 10], topo_type=[2889], x=[2889, 37])"
      ]
     },
     "execution_count": 36,
     "metadata": {},
     "output_type": "execute_result"
    }
   ],
   "source": [
    "data"
   ]
  },
  {
   "cell_type": "code",
   "execution_count": 37,
   "id": "b35538fa-78c5-46c6-a0d1-fdfcb8e3aefe",
   "metadata": {},
   "outputs": [],
   "source": [
    "#it's number 41"
   ]
  },
  {
   "cell_type": "code",
   "execution_count": 55,
   "id": "630b7bab-be41-4762-a98a-596faa819abd",
   "metadata": {},
   "outputs": [],
   "source": [
    "part = Part('/projects/grail/benjones/cadlab/data/models/d8a598174bcbceaf7e2194e5/a54ba742eaa71cdd4dcefbaa/30babe4fe88353db54749ddc/default/JdD.xt')"
   ]
  },
  {
   "cell_type": "code",
   "execution_count": 57,
   "id": "f202722e-c3c2-4877-aa71-cfab0ace6545",
   "metadata": {},
   "outputs": [],
   "source": [
    "graph  = part.get_graph()"
   ]
  },
  {
   "cell_type": "code",
   "execution_count": 67,
   "id": "b647e973-becf-4cc8-ad11-d0c7d03793ba",
   "metadata": {},
   "outputs": [
    {
     "data": {
      "text/plain": [
       "array([0, 0, 0, 0], dtype=int32)"
      ]
     },
     "execution_count": 67,
     "metadata": {},
     "output_type": "execute_result"
    }
   ],
   "source": [
    "graph.T[graph.BB[:,5] > 1000000000]"
   ]
  },
  {
   "cell_type": "code",
   "execution_count": 68,
   "id": "be82ea46-5a54-4091-a7d2-9c96a7867ce4",
   "metadata": {},
   "outputs": [
    {
     "data": {
      "text/plain": [
       "tensor([[-0.1523,  0.1318,  0.0013],\n",
       "        [-0.1157,  0.1245,  0.0013],\n",
       "        [-0.1142,  0.1318,  0.0013],\n",
       "        [-0.1460,  0.1269,  0.0000],\n",
       "        [-0.1510,  0.1636,  0.0013],\n",
       "        [-0.1215,  0.1318,  0.0381],\n",
       "        [-0.1510,  0.1318,  0.0000],\n",
       "        [-0.1523,  0.1245,  0.0000],\n",
       "        [-0.1523,  0.1318,  0.0000],\n",
       "        [-0.1510,  0.1623,  0.0000],\n",
       "        [-0.1155,  0.1318,  0.0000],\n",
       "        [    inf,     inf,     inf],\n",
       "        [    inf,     inf,     inf],\n",
       "        [-0.1523,  0.1623,  0.0013],\n",
       "        [-0.1510,  0.1623,  0.0368],\n",
       "        [-0.1155,  0.1623,  0.0013],\n",
       "        [    inf,     inf,     inf],\n",
       "        [    inf,     inf,     inf],\n",
       "        [-0.1523,  0.1318,  0.0368],\n",
       "        [-0.1155,  0.1318,  0.0368],\n",
       "        [-0.1168,  0.1245,  0.0368],\n",
       "        [-0.1523,  0.1318,  0.0368],\n",
       "        [-0.1523,  0.1623,  0.0368],\n",
       "        [-0.1523,  0.1623,  0.0368],\n",
       "        [-0.1523,  0.1623,  0.0013],\n",
       "        [-0.1142,  0.1318,  0.0368],\n",
       "        [-0.1509,  0.1318,  0.0368],\n",
       "        [-0.1509,  0.1318,  0.0013],\n",
       "        [-0.1142,  0.1623,  0.0368],\n",
       "        [-0.1142,  0.1623,  0.0368],\n",
       "        [-0.1142,  0.1623,  0.0013],\n",
       "        [-0.1206,  0.1367,  0.0381],\n",
       "        [-0.1450,  0.1367,  0.0000],\n",
       "        [-0.1510,  0.1636,  0.0368],\n",
       "        [-0.1155,  0.1636,  0.0368],\n",
       "        [-0.1155,  0.1636,  0.0368],\n",
       "        [-0.1155,  0.1636,  0.0013],\n",
       "        [-0.1510,  0.1623,  0.0381],\n",
       "        [-0.1497,  0.1318,  0.0381],\n",
       "        [-0.1155,  0.1623,  0.0381],\n",
       "        [-0.1155,  0.1623,  0.0381],\n",
       "        [-0.1510,  0.1623,  0.0000],\n",
       "        [-0.1155,  0.1623,  0.0000],\n",
       "        [-0.1155,  0.1623,  0.0000],\n",
       "        [-0.1401,  0.1192,  0.0000],\n",
       "        [-0.1142,  0.1318,  0.0013],\n",
       "        [-0.1510,  0.1318,  0.0013],\n",
       "        [-0.1510,  0.1623,  0.0013],\n",
       "        [-0.1155,  0.1636,  0.0013],\n",
       "        [-0.1510,  0.1636,  0.0013],\n",
       "        [-0.1142,  0.1623,  0.0013],\n",
       "        [-0.1510,  0.1636,  0.0013],\n",
       "        [-0.1142,  0.1636,  0.0013],\n",
       "        [-0.1510,  0.1636,  0.0368],\n",
       "        [-0.1155,  0.1636,  0.0381],\n",
       "        [-0.1510,  0.1636,  0.0381],\n",
       "        [-0.1142,  0.1636,  0.0368],\n",
       "        [-0.1510,  0.1623,  0.0381],\n",
       "        [-0.1142,  0.1623,  0.0381],\n",
       "        [-0.1510,  0.1318,  0.0381],\n",
       "        [-0.1142,  0.1318,  0.0381],\n",
       "        [-0.1523,  0.1318,  0.0368],\n",
       "        [-0.1523,  0.1318,  0.0013],\n",
       "        [-0.1523,  0.1623,  0.0368],\n",
       "        [-0.1523,  0.1623,  0.0013],\n",
       "        [-0.1142,  0.1318,  0.0368],\n",
       "        [-0.1142,  0.1318,  0.0013],\n",
       "        [-0.1142,  0.1623,  0.0013],\n",
       "        [-0.1142,  0.1623,  0.0368],\n",
       "        [-0.1510,  0.1636,  0.0013],\n",
       "        [-0.1510,  0.1636,  0.0368],\n",
       "        [-0.1155,  0.1636,  0.0368],\n",
       "        [-0.1155,  0.1636,  0.0013],\n",
       "        [-0.1510,  0.1623,  0.0381],\n",
       "        [-0.1510,  0.1318,  0.0381],\n",
       "        [-0.1155,  0.1318,  0.0381],\n",
       "        [-0.1155,  0.1623,  0.0381],\n",
       "        [-0.1510,  0.1318,  0.0000],\n",
       "        [-0.1510,  0.1623,  0.0000],\n",
       "        [-0.1155,  0.1623,  0.0000],\n",
       "        [-0.1155,  0.1318,  0.0000],\n",
       "        [-0.1523,  0.1623,  0.0368],\n",
       "        [-0.1142,  0.1318,  0.0368],\n",
       "        [-0.1142,  0.1623,  0.0368],\n",
       "        [-0.1206,  0.1367,  0.0381],\n",
       "        [-0.1450,  0.1367,  0.0000],\n",
       "        [-0.1155,  0.1636,  0.0368],\n",
       "        [-0.1155,  0.1623,  0.0381],\n",
       "        [-0.1206,  0.1367,  0.0381],\n",
       "        [-0.1155,  0.1623,  0.0000],\n",
       "        [-0.1450,  0.1367,  0.0000],\n",
       "        [-0.1142,  0.1318,  0.0013],\n",
       "        [-0.1510,  0.1623,  0.0013],\n",
       "        [-0.1155,  0.1636,  0.0013],\n",
       "        [-0.1142,  0.1623,  0.0013],\n",
       "        [-0.1510,  0.1636,  0.0013],\n",
       "        [-0.1142,  0.1636,  0.0013],\n",
       "        [-0.1510,  0.1636,  0.0368],\n",
       "        [-0.1155,  0.1636,  0.0381],\n",
       "        [-0.1142,  0.1636,  0.0368],\n",
       "        [-0.1510,  0.1636,  0.0381],\n",
       "        [-0.1142,  0.1636,  0.0381],\n",
       "        [-0.1510,  0.1623,  0.0381],\n",
       "        [-0.1142,  0.1623,  0.0381],\n",
       "        [-0.1142,  0.1318,  0.0381]])"
      ]
     },
     "execution_count": 68,
     "metadata": {},
     "output_type": "execute_result"
    }
   ],
   "source": [
    "torch.from_numpy(graph.BB).float()[:,-3:]"
   ]
  },
  {
   "cell_type": "code",
   "execution_count": 74,
   "id": "a1bc1427-89b4-470b-a204-be4f17e8bcf6",
   "metadata": {},
   "outputs": [],
   "source": [
    "from pytorch_lightning.metrics.metric import Metric\n"
   ]
  },
  {
   "cell_type": "code",
   "execution_count": 76,
   "id": "27e105a2-763a-44cd-b3c0-c8a3461a3d23",
   "metadata": {},
   "outputs": [],
   "source": [
    "class RankingAccuracy(Metric):\n",
    "    def __init__(\n",
    "        self,\n",
    "        compute_on_step: bool = True,\n",
    "        dist_sync_on_step: bool = False,\n",
    "    ):\n",
    "        super().__init__(\n",
    "            compute_on_step=compute_on_step,\n",
    "            dist_sync_on_step=dist_sync_on_step,\n",
    "        )\n",
    "\n",
    "\n",
    "        self.add_state('ass', default=torch.tensor(0), dist_reduce_fx='mean')\n",
    "    def update(self, value):\n",
    "        self.ass += value\n",
    "    def compute(self):\n",
    "        return self.ass"
   ]
  },
  {
   "cell_type": "code",
   "execution_count": 77,
   "id": "a0eeaed1-3d89-4a5f-9ef4-f8ac601a89ef",
   "metadata": {},
   "outputs": [
    {
     "name": "stderr",
     "output_type": "stream",
     "text": [
      "/fast/jamesn8/anaconda3/envs/torch3/lib/python3.9/site-packages/deprecate/deprecation.py:115: LightningDeprecationWarning: The `Metric` was deprecated since v1.3.0 in favor of `torchmetrics.metric.Metric`. It will be removed in v1.5.0.\n",
      "  stream(template_mgs % msg_args)\n"
     ]
    }
   ],
   "source": [
    "rank = RankingAccuracy()"
   ]
  },
  {
   "cell_type": "code",
   "execution_count": 78,
   "id": "bd71cad5-4a9e-4201-b17c-4938b2e961fa",
   "metadata": {},
   "outputs": [
    {
     "data": {
      "text/plain": [
       "RankingAccuracy()"
      ]
     },
     "execution_count": 78,
     "metadata": {},
     "output_type": "execute_result"
    }
   ],
   "source": [
    "rank"
   ]
  },
  {
   "cell_type": "code",
   "execution_count": 79,
   "id": "066cde53-92dd-450a-b427-6bc90c5fcb7e",
   "metadata": {},
   "outputs": [
    {
     "name": "stderr",
     "output_type": "stream",
     "text": [
      "/fast/jamesn8/anaconda3/envs/torch3/lib/python3.9/site-packages/torchmetrics/utilities/prints.py:36: UserWarning: The ``compute`` method of metric RankingAccuracy was called before the ``update`` method which may lead to errors, as metric states have not yet been updated.\n",
      "  warnings.warn(*args, **kwargs)\n"
     ]
    },
    {
     "data": {
      "text/plain": [
       "tensor(0)"
      ]
     },
     "execution_count": 79,
     "metadata": {},
     "output_type": "execute_result"
    }
   ],
   "source": [
    "rank.compute()"
   ]
  },
  {
   "cell_type": "code",
   "execution_count": 80,
   "id": "3acc46d4-a868-42b8-91a4-342a0113e479",
   "metadata": {},
   "outputs": [],
   "source": [
    "rank.update(3)"
   ]
  },
  {
   "cell_type": "code",
   "execution_count": 81,
   "id": "54f85bf8-4f85-4af7-872b-a6c055ebc6c2",
   "metadata": {},
   "outputs": [
    {
     "data": {
      "text/plain": [
       "tensor(3)"
      ]
     },
     "execution_count": 81,
     "metadata": {},
     "output_type": "execute_result"
    }
   ],
   "source": [
    "rank.compute()"
   ]
  },
  {
   "cell_type": "code",
   "execution_count": 82,
   "id": "00d89ffe-2a29-46ca-80eb-6bd3b6799986",
   "metadata": {},
   "outputs": [],
   "source": [
    "rank.update(4)"
   ]
  },
  {
   "cell_type": "code",
   "execution_count": 83,
   "id": "eb9bb6c7-1938-4d36-87f4-165dad949b47",
   "metadata": {},
   "outputs": [
    {
     "data": {
      "text/plain": [
       "tensor(7)"
      ]
     },
     "execution_count": 83,
     "metadata": {},
     "output_type": "execute_result"
    }
   ],
   "source": [
    "rank.compute()"
   ]
  },
  {
   "cell_type": "code",
   "execution_count": 2,
   "id": "41cf6fff-4d8a-4d47-9482-f768a617a249",
   "metadata": {},
   "outputs": [],
   "source": [
    "from enum import Enum"
   ]
  },
  {
   "cell_type": "code",
   "execution_count": 14,
   "id": "07df2a9a-cfae-4230-af36-129957463e68",
   "metadata": {},
   "outputs": [],
   "source": [
    "class Color(Enum):\n",
    "    RED = 1\n",
    "    GREEN = 2\n",
    "    BLUE = 3\n",
    "    def __str__(self):\n",
    "        return self.name"
   ]
  },
  {
   "cell_type": "code",
   "execution_count": 16,
   "id": "d35b09b7-4927-48b5-80f5-138fb326b692",
   "metadata": {},
   "outputs": [
    {
     "name": "stdout",
     "output_type": "stream",
     "text": [
      "GREEN\n"
     ]
    }
   ],
   "source": [
    "print(Color.GREEN)"
   ]
  },
  {
   "cell_type": "code",
   "execution_count": null,
   "id": "e7d3fa52-9309-4d56-aa63-663b06365572",
   "metadata": {},
   "outputs": [],
   "source": []
  }
 ],
 "metadata": {
  "kernelspec": {
   "display_name": "Python 3 (ipykernel)",
   "language": "python",
   "name": "python3"
  },
  "language_info": {
   "codemirror_mode": {
    "name": "ipython",
    "version": 3
   },
   "file_extension": ".py",
   "mimetype": "text/x-python",
   "name": "python",
   "nbconvert_exporter": "python",
   "pygments_lexer": "ipython3",
   "version": "3.9.6"
  }
 },
 "nbformat": 4,
 "nbformat_minor": 5
}
