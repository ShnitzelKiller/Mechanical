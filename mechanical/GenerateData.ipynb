{
 "cells": [
  {
   "cell_type": "code",
   "execution_count": 1,
   "id": "5975519a-e887-4995-8b69-1e144588aa80",
   "metadata": {},
   "outputs": [],
   "source": [
    "import numpy as np\n",
    "import numpy.linalg as LA\n",
    "import meshplot as mp\n",
    "from IPython.display import JSON as DJSON\n",
    "from IPython.display import clear_output\n",
    "from pspart import Part\n",
    "from pspart import NNHash\n",
    "import os\n",
    "import pandas as ps\n",
    "from mate_proposals import mate_proposals, homogenize_frame\n",
    "from scipy.spatial.transform import Rotation as R\n",
    "#import meshplot as mp\n",
    "import onshape.brepio as brepio\n",
    "import time\n",
    "from automate.data.data import UniformMateData\n",
    "import torch\n",
    "import random"
   ]
  },
  {
   "cell_type": "code",
   "execution_count": 2,
   "id": "7bea5b3a-898c-4b9a-a8b1-75d8398c61fe",
   "metadata": {},
   "outputs": [],
   "source": [
    "datapath = '/projects/grail/benjones/cadlab'"
   ]
  },
  {
   "cell_type": "code",
   "execution_count": 3,
   "id": "f887aec9-4b5b-498b-b5c1-9ca0911d0fdd",
   "metadata": {},
   "outputs": [],
   "source": [
    "name = '/fast/jamesn8/assembly_data/assembly_data_with_transforms_all.h5'\n",
    "assembly_df = ps.read_hdf(name,'assembly')\n",
    "mate_df = ps.read_hdf(name,'mate')\n",
    "part_df = ps.read_hdf(name,'part')\n",
    "mate_df['MateIndex'] = mate_df.index\n",
    "part_df['PartIndex'] = part_df.index"
   ]
  },
  {
   "cell_type": "code",
   "execution_count": 4,
   "id": "ac22affa-4a11-4b76-9558-54f430f9416d",
   "metadata": {},
   "outputs": [],
   "source": [
    "mate_df.set_index('Assembly', inplace=True)\n",
    "part_df.set_index('Assembly', inplace=True)    "
   ]
  },
  {
   "cell_type": "code",
   "execution_count": 5,
   "id": "7225ebf6-20b8-42aa-bca2-fb5133bbeddb",
   "metadata": {},
   "outputs": [],
   "source": [
    "with open('fully_connected_moving_no_multimates.txt','r') as f:\n",
    "    set_E_indices = [int(l.rstrip()) for l in f.readlines()]"
   ]
  },
  {
   "cell_type": "code",
   "execution_count": 6,
   "id": "4a0e9e8a-82f3-49f2-b3a5-184a53c0d60a",
   "metadata": {},
   "outputs": [],
   "source": [
    "mate_types = [\n",
    "            'PIN_SLOT',\n",
    "            'BALL',\n",
    "            'PARALLEL',\n",
    "            'SLIDER',\n",
    "            'REVOLUTE',\n",
    "            'CYLINDRICAL',\n",
    "            'PLANAR',\n",
    "            'FASTENED'\n",
    "        ]"
   ]
  },
  {
   "cell_type": "code",
   "execution_count": 7,
   "id": "d9c3344f-c07f-4050-9ba7-af7c9e17a0bb",
   "metadata": {},
   "outputs": [],
   "source": [
    "def global_bounding_box(parts, transforms=None):\n",
    "    if transforms is None:\n",
    "        allpoints = [part.V for part in parts if part.V.shape[0] > 0]\n",
    "    else:\n",
    "        allpoints = [(tf[:3,:3] @ part.V.T + tf[:3,3,np.newaxis]).T for tf, part in zip(transforms, parts) if part.V.shape[0] > 0]\n",
    "    if len(allpoints) == 0:\n",
    "        return None\n",
    "    minPt = np.array([points.min(axis=0) for points in allpoints]).min(axis=0)\n",
    "    maxPt = np.array([points.max(axis=0) for points in allpoints]).max(axis=0)\n",
    "    return np.vstack([minPt, maxPt])"
   ]
  },
  {
   "cell_type": "code",
   "execution_count": 8,
   "id": "e578e8eb-4850-4a37-a85b-7fcd0369e108",
   "metadata": {},
   "outputs": [],
   "source": [
    "def apply_transform(tf, v, is_points=True):\n",
    "    \"Apply the 4-matrix `tf` to a vector or column-wise matrix of vectors. If is_points, also add the translation.\"\n",
    "    v_trans = tf[:3,:3] @ v\n",
    "    if is_points:\n",
    "        if v.ndim==1:\n",
    "            v_trans += tf[:3,3]\n",
    "        elif v.ndim==2:\n",
    "            v_trans += tf[:3,3,np.newaxis]\n",
    "    return v_trans"
   ]
  },
  {
   "cell_type": "code",
   "execution_count": 9,
   "id": "ad1bb023-ac74-4a1c-b80a-abb6977bf23a",
   "metadata": {},
   "outputs": [],
   "source": [
    "def cs_to_origin_frame(cs):\n",
    "    return cs[:3,3], cs[:3,:3]"
   ]
  },
  {
   "cell_type": "code",
   "execution_count": 10,
   "id": "6c0c7f85-19db-46ca-9329-f9b602679c17",
   "metadata": {},
   "outputs": [],
   "source": [
    "def cs_from_origin_frame(origin, frame):\n",
    "    cs = np.identity(4, np.float64)\n",
    "    cs[:3,:3] = frame\n",
    "    cs[:3,3] = origin\n",
    "    return cs"
   ]
  },
  {
   "cell_type": "code",
   "execution_count": null,
   "id": "7904ba43-0d18-455c-9cf3-d036fc0237da",
   "metadata": {},
   "outputs": [],
   "source": []
  },
  {
   "cell_type": "code",
   "execution_count": null,
   "id": "b9bc8516-aa0e-4846-8b2b-99327bf2d261",
   "metadata": {},
   "outputs": [
    {
     "data": {
      "text/plain": [
       "'num_processed: 0/20845'"
      ]
     },
     "metadata": {},
     "output_type": "display_data"
    },
    {
     "data": {
      "text/plain": [
       "'num_processed: 1/20845'"
      ]
     },
     "metadata": {},
     "output_type": "display_data"
    },
    {
     "data": {
      "text/plain": [
       "'num_processed: 2/20845'"
      ]
     },
     "metadata": {},
     "output_type": "display_data"
    },
    {
     "name": "stdout",
     "output_type": "stream",
     "text": [
      "ERROR TRASFORMING!\n",
      "ERROR TRASFORMING!\n"
     ]
    },
    {
     "data": {
      "text/plain": [
       "'num_processed: 3/20845'"
      ]
     },
     "metadata": {},
     "output_type": "display_data"
    },
    {
     "data": {
      "text/plain": [
       "'num_processed: 4/20845'"
      ]
     },
     "metadata": {},
     "output_type": "display_data"
    },
    {
     "data": {
      "text/plain": [
       "'num_processed: 5/20845'"
      ]
     },
     "metadata": {},
     "output_type": "display_data"
    },
    {
     "data": {
      "text/plain": [
       "'num_processed: 6/20845'"
      ]
     },
     "metadata": {},
     "output_type": "display_data"
    },
    {
     "data": {
      "text/plain": [
       "'num_processed: 7/20845'"
      ]
     },
     "metadata": {},
     "output_type": "display_data"
    },
    {
     "data": {
      "text/plain": [
       "'num_processed: 8/20845'"
      ]
     },
     "metadata": {},
     "output_type": "display_data"
    },
    {
     "data": {
      "text/plain": [
       "'num_processed: 9/20845'"
      ]
     },
     "metadata": {},
     "output_type": "display_data"
    },
    {
     "data": {
      "text/plain": [
       "'num_processed: 10/20845'"
      ]
     },
     "metadata": {},
     "output_type": "display_data"
    },
    {
     "data": {
      "text/plain": [
       "'num_processed: 11/20845'"
      ]
     },
     "metadata": {},
     "output_type": "display_data"
    },
    {
     "data": {
      "text/plain": [
       "'num_processed: 12/20845'"
      ]
     },
     "metadata": {},
     "output_type": "display_data"
    },
    {
     "data": {
      "text/plain": [
       "'num_processed: 13/20845'"
      ]
     },
     "metadata": {},
     "output_type": "display_data"
    },
    {
     "data": {
      "text/plain": [
       "'num_processed: 14/20845'"
      ]
     },
     "metadata": {},
     "output_type": "display_data"
    },
    {
     "data": {
      "text/plain": [
       "'num_processed: 15/20845'"
      ]
     },
     "metadata": {},
     "output_type": "display_data"
    },
    {
     "data": {
      "text/plain": [
       "'num_processed: 16/20845'"
      ]
     },
     "metadata": {},
     "output_type": "display_data"
    },
    {
     "data": {
      "text/plain": [
       "'num_processed: 17/20845'"
      ]
     },
     "metadata": {},
     "output_type": "display_data"
    },
    {
     "data": {
      "text/plain": [
       "'num_processed: 18/20845'"
      ]
     },
     "metadata": {},
     "output_type": "display_data"
    },
    {
     "data": {
      "text/plain": [
       "'num_processed: 19/20845'"
      ]
     },
     "metadata": {},
     "output_type": "display_data"
    },
    {
     "data": {
      "text/plain": [
       "'num_processed: 20/20845'"
      ]
     },
     "metadata": {},
     "output_type": "display_data"
    },
    {
     "data": {
      "text/plain": [
       "'num_processed: 21/20845'"
      ]
     },
     "metadata": {},
     "output_type": "display_data"
    },
    {
     "data": {
      "text/plain": [
       "'num_processed: 22/20845'"
      ]
     },
     "metadata": {},
     "output_type": "display_data"
    },
    {
     "data": {
      "text/plain": [
       "'num_processed: 23/20845'"
      ]
     },
     "metadata": {},
     "output_type": "display_data"
    },
    {
     "data": {
      "text/plain": [
       "'num_processed: 24/20845'"
      ]
     },
     "metadata": {},
     "output_type": "display_data"
    },
    {
     "data": {
      "text/plain": [
       "'num_processed: 25/20845'"
      ]
     },
     "metadata": {},
     "output_type": "display_data"
    },
    {
     "data": {
      "text/plain": [
       "'num_processed: 26/20845'"
      ]
     },
     "metadata": {},
     "output_type": "display_data"
    },
    {
     "data": {
      "text/plain": [
       "'num_processed: 27/20845'"
      ]
     },
     "metadata": {},
     "output_type": "display_data"
    },
    {
     "data": {
      "text/plain": [
       "'num_processed: 28/20845'"
      ]
     },
     "metadata": {},
     "output_type": "display_data"
    },
    {
     "data": {
      "text/plain": [
       "'num_processed: 29/20845'"
      ]
     },
     "metadata": {},
     "output_type": "display_data"
    },
    {
     "data": {
      "text/plain": [
       "'num_processed: 30/20845'"
      ]
     },
     "metadata": {},
     "output_type": "display_data"
    },
    {
     "data": {
      "text/plain": [
       "'num_processed: 31/20845'"
      ]
     },
     "metadata": {},
     "output_type": "display_data"
    },
    {
     "data": {
      "text/plain": [
       "'num_processed: 32/20845'"
      ]
     },
     "metadata": {},
     "output_type": "display_data"
    }
   ],
   "source": [
    "#start_index = 1243\n",
    "start_index = 0\n",
    "\n",
    "outpath = '/fast/jamesn8/assembly_data/mate_torch_data'\n",
    "def LOG(st):\n",
    "    with open(logfile,'a') as logf:\n",
    "        logf.write(st + '\\n')\n",
    "statspath = '/fast/jamesn8/assembly_data/mate_torch_stats'\n",
    "logfile = os.path.join(statspath, 'log.txt')\n",
    "\n",
    "epsilon_rel = 0.001\n",
    "max_groups = 10\n",
    "max_mcs = 10000\n",
    "max_mc_pairs = 50000\n",
    "stride = 200\n",
    "last_mate_ckpt = 0\n",
    "last_ckpt = 0\n",
    "\n",
    "all_stats = []\n",
    "mate_stats = []\n",
    "processed_indices = []\n",
    "mate_indices = []\n",
    "run_start_time = time.time()\n",
    "for num_processed,ind in enumerate(set_E_indices[start_index:]):\n",
    "    stats = dict()\n",
    "    curr_mate_stats = []\n",
    "    #clear_output(wait=True)\n",
    "    display(f'num_processed: {num_processed}/{len(set_E_indices)}')\n",
    "\n",
    "    #1. spatially hash all MCFs (cache hash maps for each part for re-use with individual mates)\n",
    "    #2. for all mates, ensure that each MCF is represented (keep track of closest/equivalent MCFs, log percentage of assemblies for which this holds)\n",
    "    #3. get proposals, edit appropriate ones to true based on equivalence class computed per mated pair of parts (taking outer product of equivalent MCs on left and right)\n",
    "\n",
    "    LOG(f'{num_processed}/{len(set_E_indices)}: processing {assembly_df.loc[ind,\"AssemblyPath\"]} at {time.time()-run_start_time}')\n",
    "    \n",
    "    part_subset = part_df.loc[ind]\n",
    "    mate_subset = mate_df.loc[ind]\n",
    "    if mate_subset.ndim == 1:\n",
    "        mate_subset = ps.DataFrame([mate_subset], columns=mate_subset.keys())\n",
    "    \n",
    "    parts = []\n",
    "    part_paths = []\n",
    "    transforms = []\n",
    "    mcf_hashes = [] #hashes of normalized mcfs ([origin/maxdim, quat])\n",
    "    mco_hashes = [] #hashes of origins only\n",
    "    mc_frames_all = [] #[[origin, homogenized rotmatrix]] for each mc for each part\n",
    "    occ_to_index = dict()\n",
    "    \n",
    "\n",
    "    #debug\n",
    "    #all_points = []\n",
    "    \n",
    "    for j in range(part_subset.shape[0]):\n",
    "        path = os.path.join(datapath, 'data/models', *[part_subset.iloc[j][k] for k in ['did','mv','eid','config']], f'{part_subset.iloc[j][\"PartId\"]}.xt')\n",
    "        assert(os.path.isfile(path))\n",
    "        part = Part(path)\n",
    "        part_paths.append(path)\n",
    "        parts.append(part)\n",
    "        tf = part_subset.iloc[j]['Transform']\n",
    "        transforms.append(tf)\n",
    "        occ_to_index[part_subset.iloc[j]['PartOccurrenceID']] = j\n",
    "    \n",
    "    \n",
    "    bbox = global_bounding_box(parts, transforms)\n",
    "    if bbox is None:\n",
    "        LOG('skipping due to no geometry')\n",
    "        continue\n",
    "    minPt, maxPt = bbox\n",
    "    \n",
    "    median = bbox.mean(axis=0)\n",
    "    dims = maxPt - minPt\n",
    "    maxdim = max(dims)\n",
    "    #maxdim = max([(part.bounding_box()[1]-part.bounding_box()[0]).max() for part in parts])\n",
    "    threshold = maxdim * epsilon_rel\n",
    "    \n",
    "    total_mcs = sum([len(part.all_mate_connectors) for part in parts])\n",
    "    stats['total_mates'] = mate_subset.shape[0]\n",
    "    stats['total_parts'] = len(parts)\n",
    "    stats['maxdim'] = maxdim\n",
    "    stats['total_mcs'] = total_mcs\n",
    "\n",
    "    for j in range(len(parts)):\n",
    "        part = parts[j]\n",
    "        tf = transforms[j]\n",
    "        mc_frames = []\n",
    "        mc_frames_normalized = []\n",
    "        mc_origins = []\n",
    "        for mc in part.all_mate_connectors:\n",
    "            cs = mc.get_coordinate_system()\n",
    "            origin, frame = cs_to_origin_frame(tf @ cs)\n",
    "            frame_homogenized = homogenize_frame(frame, z_flip_only=True)\n",
    "            #all_points.append(origin)\n",
    "            rot = R.from_matrix(frame_homogenized).as_quat()\n",
    "            mc_origins.append(origin)\n",
    "            mc_frames.append((origin, frame_homogenized))\n",
    "            mc_frames_normalized.append(np.concatenate([origin/maxdim, rot]))\n",
    "        mc_frames_all.append(mc_frames)\n",
    "        frame_hash = NNHash(mc_frames_normalized, 7, epsilon_rel)\n",
    "        origin_hash = NNHash(mc_origins, 3, threshold)\n",
    "        #frame_hash = NNHash([mc_frame[:3] for mc_frame in mc_frames], 3, threshold)\n",
    "        mcf_hashes.append(frame_hash)\n",
    "        mco_hashes.append(origin_hash)\n",
    "\n",
    "    stats['invalid_frames'] = 0\n",
    "    stats['invalid_mates'] = 0\n",
    "    stats['invalid_coincident_origins'] = 0\n",
    "    stats['invalid_permuted_z'] = 0\n",
    "    \n",
    "    mate_matches = [] #list of (left MC IDs, right MC Ids) based on the type of mate\n",
    "    part_pair_to_mate = dict()\n",
    "\n",
    "    #all_points = np.array(all_points)\n",
    "    #p = mp.plot(all_points)\n",
    "    mate_invalids = []\n",
    "    for j in range(mate_subset.shape[0]):\n",
    "        matches = [set(), set()]\n",
    "        m_stats = dict()\n",
    "        part_indices = []\n",
    "        mate_invalid = False\n",
    "        for i in range(2):\n",
    "            occId = mate_subset.iloc[j][f'Part{i+1}']\n",
    "            partIndex = occ_to_index[occId]\n",
    "            part_indices.append(partIndex)\n",
    "            assert(part_subset.iloc[partIndex]['PartOccurrenceID'] == occId)\n",
    "            origin_local = mate_subset.iloc[j][f'Origin{i+1}']\n",
    "            frame_local = mate_subset.iloc[j][f'Axes{i+1}']\n",
    "            cs = cs_from_origin_frame(origin_local, frame_local)\n",
    "            origin, frame = cs_to_origin_frame(transforms[partIndex] @ cs)\n",
    "            frame_homogenized = homogenize_frame(frame, z_flip_only=True)\n",
    "            rot = R.from_matrix(frame_homogenized).as_quat()\n",
    "            mc_frame_normalized = np.concatenate([origin/maxdim, rot])\n",
    "            neighbors = mcf_hashes[partIndex].get_nearest_points(mc_frame_normalized)\n",
    "\n",
    "            for n in neighbors:\n",
    "                matches[i].add(n)\n",
    "            \n",
    "            b_invalid = False\n",
    "            b_num_matches = len(neighbors)\n",
    "            b_invalid_coincident_origins = False\n",
    "            b_invalid_permuted_z = False\n",
    "            \n",
    "            #compute statistics for the case where there are no matching mcs\n",
    "            if len(neighbors) == 0:\n",
    "                b_invalid = True\n",
    "                stats['invalid_frames'] += 1\n",
    "                if not mate_invalid:\n",
    "                    stats['invalid_mates'] += 1\n",
    "                    mate_invalid = True\n",
    "                \n",
    "                origin_neighbors = mco_hashes[partIndex].get_nearest_points(origin)\n",
    "                if len(origin_neighbors) > 0:\n",
    "                    b_invalid_coincident_origins = True\n",
    "                    stats['invalid_coincident_origins'] += 1\n",
    "                    n = next(iter(origin_neighbors))\n",
    "                    \n",
    "                    #detect whether allowing Z permutations would make this frame match\n",
    "                    c_frame = mc_frames_all[partIndex][n][1]\n",
    "                    c_frame_homogenized = homogenize_frame(c_frame, z_flip_only=False)\n",
    "                    mate_frame_homogenized = homogenize_frame(frame, z_flip_only=False)\n",
    "                    dist = LA.norm(c_frame_homogenized - mate_frame_homogenized)\n",
    "\n",
    "                    if dist < threshold:\n",
    "                        b_invalid_permuted_z = True\n",
    "                        stats['invalid_permuted_z'] += 1\n",
    "            else:\n",
    "                mateType = mate_subset.iloc[j]['Type']\n",
    "                mc_frames = mc_frames_all[partIndex]\n",
    "                for k,c_origin_frame in enumerate(mc_frames):\n",
    "                    c_origin, c_frame = c_origin_frame\n",
    "                    axisdist = LA.norm(c_frame[:,2] - frame_homogenized[:,2])\n",
    "                    if axisdist < epsilon_rel:\n",
    "                        projdist = np.inf\n",
    "                        if mateType == 'CYLINDRICAL' or mateType == 'SLIDER':\n",
    "                            c_origin_proj = c_origin @ frame_homogenized[:,:2]\n",
    "                            origin_proj = origin @ frame_homogenized[:,:2]\n",
    "                            projdist = LA.norm(c_origin_proj - origin_proj)\n",
    "                        elif mateType == 'PLANAR' or mateType == 'PARALLEL':\n",
    "                            c_origin_proj = c_origin.dot(frame_homogenized[:,2])\n",
    "                            origin_proj = origin.dot(frame_homogenized[:,2])\n",
    "                            projdist = abs(c_origin_proj - origin_proj)\n",
    "                        if projdist < epsilon_rel:\n",
    "                            matches[i].add(k)\n",
    "                    \n",
    "            \n",
    "            m_stats[f'invalid_frame_{i}'] = b_invalid\n",
    "            m_stats[f'invalid_frame_{i}_coincident_origins'] = b_invalid_coincident_origins\n",
    "            m_stats[f'invalid_frame_{i}_permuted_z'] = b_invalid_permuted_z\n",
    "            m_stats[f'matches_frame_{i}'] = b_num_matches\n",
    "            m_stats[f'extra_matches_frame_{i}'] = len(matches[i]) - b_num_matches\n",
    "        m_stats['type'] = mate_subset.iloc[j]['Type']\n",
    "        m_stats['truncated_mc_pairs'] = False\n",
    "        curr_mate_stats.append(m_stats)\n",
    "        mate_indices.append(mate_subset.iloc[j]['MateIndex'])\n",
    "        mate_invalids.append(mate_invalid)\n",
    "        mate_matches.append(matches)\n",
    "        part_indices = tuple(sorted(part_indices))\n",
    "        part_pair_to_mate[part_indices] = j#mate_subset.iloc[j]['Type']\n",
    "    \n",
    "    if total_mcs <= max_mcs:\n",
    "        stats['false_part_pairs'] = 0\n",
    "        stats['missed_part_pairs'] = 0\n",
    "        stats['missed_mc_pairs'] = 0\n",
    "        #find assembly-level normalization matrix\n",
    "        p_normalized = np.identity(4, dtype=float)\n",
    "        p_normalized[:3,3] = -median\n",
    "        p_normalized[3,3] = maxdim #todo: figure out if this is double the factor\n",
    "        \n",
    "        #debug: test out the loading with this norm matrix\n",
    "        norm_matrices = [p_normalized @ tf for tf in transforms]\n",
    "        normalized_parts = [Part(path, mat) for path, mat in zip(part_paths, norm_matrices)]\n",
    "#         bbox = global_bounding_box(testparts)\n",
    "#         print(f'maxdim: {maxdim}')\n",
    "#         print(f'bbox median: {bbox.mean(axis=0)}, dims: {bbox[1,:]-bbox[0,:]}')\n",
    "#         p = mp.plot(testparts[0].V, testparts[0].F)\n",
    "#         for part in testparts[1:]:\n",
    "#             p.add_mesh(part.V, part.F)\n",
    "        \n",
    "        \n",
    "        #find match proposals\n",
    "        start = time.time()\n",
    "        proposals = mate_proposals(list(zip(transforms, parts)), epsilon_rel=epsilon_rel, max_groups=max_groups)\n",
    "        end = time.time()\n",
    "        stats['num_proposals'] = len(proposals)\n",
    "        stats['proposal_time'] = end-start\n",
    "        \n",
    "        #initialize pairs based on proposals\n",
    "        part_proposals = dict()\n",
    "        for proposal in proposals:\n",
    "            part_pair = proposal[:2]\n",
    "            if part_pair not in part_proposals:\n",
    "                mc_pair_dict = dict()\n",
    "                part_proposals[part_pair] = mc_pair_dict\n",
    "            else:\n",
    "                mc_pair_dict = part_proposals[part_pair]\n",
    "            mc_pair_dict[proposal[2:]] = -1 #mate type\n",
    "\n",
    "        #populate pairs with labels\n",
    "        #print('populating pairs with labels')\n",
    "        part_pair_found=False\n",
    "        mc_pair_found=False\n",
    "        for j in range(mate_subset.shape[0]):\n",
    "            if not mate_invalids[j]:\n",
    "                mate_type = mate_subset.iloc[j]['Type']\n",
    "                partIds = [occ_to_index[mate_subset.iloc[j][f'Part{i+1}']] for i in range(2)]\n",
    "                matches = mate_matches[j]\n",
    "\n",
    "                if partIds[0] > partIds[1]:\n",
    "                    partIds.reverse()\n",
    "                    matches = matches.copy()\n",
    "                    matches.reverse()\n",
    "                partIds = tuple(partIds)\n",
    "\n",
    "                if partIds in part_proposals:\n",
    "                    part_pair_found=True\n",
    "                    mc_pair_dict = part_proposals[partIds]\n",
    "                    for index1 in matches[0]:\n",
    "                        for index2 in matches[1]:\n",
    "                            mc_pair = index1, index2\n",
    "                            if mc_pair in mc_pair_dict:\n",
    "                                mc_pair_found=True\n",
    "                                mc_pair_dict[mc_pair] = mate_types.index(mate_type)\n",
    "            if not part_pair_found:\n",
    "                stats['missed_part_pairs'] += 1\n",
    "            if not mc_pair_found:\n",
    "                stats['missed_mc_pairs'] += 1\n",
    "            curr_mate_stats[j]['part_pair_found'] =  part_pair_found           \n",
    "            curr_mate_stats[j]['mc_pair_found'] =  mc_pair_found     \n",
    "        \n",
    "        #create data object for each part pair\n",
    "        #print('creating data object')\n",
    "        for part_pair in part_proposals:\n",
    "            mateIndex = -1\n",
    "            if part_pair in part_pair_to_mate:\n",
    "                mateIndex = part_pair_to_mate[part_pair]\n",
    "                mateType = mate_subset.iloc[mateIndex]['Type']\n",
    "            else:\n",
    "                mateType='FASTENED'\n",
    "                stats['false_part_pairs'] += 1\n",
    "            mc_pairs = part_proposals[part_pair]\n",
    "\n",
    "            if len(mc_pairs) > max_mc_pairs:\n",
    "                curr_mate_stats[mateIndex]['truncated_mc_pairs'] = True\n",
    "                mc_pairs_final=[]\n",
    "                mc_pairs_false=[]\n",
    "                for pair in mc_pairs:\n",
    "                    if mc_pairs[pair] >= 0:\n",
    "                        mc_pairs_final.append(pair)\n",
    "                    else:\n",
    "                        mc_pairs_false.append(pair)\n",
    "                N_true = len(mc_pairs_final)\n",
    "                N_remainder = max_mc_pairs - N_true\n",
    "                random.shuffle(mc_pairs_false)\n",
    "                for pair in mc_pairs_false[:N_remainder]:\n",
    "                    mc_pairs_final.append(pair)\n",
    "            else:\n",
    "                mc_pairs_final = mc_pairs\n",
    "            \n",
    "            part1 = parts[part_pair[0]]\n",
    "            part2 = parts[part_pair[1]]\n",
    "            or1, loc1, inf1 = part1.get_onshape_def_from_mc(part1.all_mate_connectors[0])\n",
    "            or2, loc2, inf2 = part2.get_onshape_def_from_mc(part2.all_mate_connectors[0])\n",
    "\n",
    "            data = UniformMateData(\n",
    "                normalized_parts[part_pair[0]],\n",
    "                or1,\n",
    "                loc1,\n",
    "                inf1,\n",
    "                norm_matrices[part_pair[0]],\n",
    "                normalized_parts[part_pair[1]],\n",
    "                or2,\n",
    "                loc2,\n",
    "                inf2,\n",
    "                norm_matrices[part_pair[1]],\n",
    "                mateType\n",
    "            )\n",
    "            data.mc_pairs = torch.empty((6, len(mc_pairs_final)), dtype=torch.int)\n",
    "            data.mc_pair_labels = torch.zeros(len(mc_pairs_final), dtype=torch.int)\n",
    "            all_mcs = [parts[partIndex].all_mate_connectors for partIndex in part_pair]\n",
    "            for k,pair in enumerate(mc_pairs_final):\n",
    "                type_index = mc_pairs[pair]\n",
    "                if type_index >= 0:\n",
    "                    data.mc_pair_labels[k] = 1\n",
    "                mcs = [mc_list[mcIndex] for mc_list, mcIndex in zip(all_mcs, pair)]\n",
    "                col = torch.tensor([mcs[0].orientation_inference.topology_ref, mcs[0].location_inference.topology_ref, mcs[0].location_inference.inference_type.value,\n",
    "                      mcs[1].orientation_inference.topology_ref, mcs[1].location_inference.topology_ref, mcs[1].location_inference.inference_type.value], dtype=torch.int)\n",
    "                data.mc_pairs[:,k] = col\n",
    "            #dataname = f'{assembly_df.loc[ind,\"AssemblyPath\"]}-{part_subset.iloc[part_pair[0]][\"PartOccurrenceID\"].replace(\"/\",\"_\")}-{part_subset.iloc[part_pair[1]][\"PartOccurrenceID\"].replace(\"/\",\"_\")}.dat'\n",
    "            dataname = f'{ind}-{part_subset.iloc[part_pair[0]][\"PartIndex\"]}-{part_subset.iloc[part_pair[1]][\"PartIndex\"]}.dat'\n",
    "            torch.save(data, os.path.join(outpath, dataname))\n",
    "            del data\n",
    "            \n",
    "    for stat in curr_mate_stats:\n",
    "        mate_stats.append(stat)\n",
    "    all_stats.append(stats)\n",
    "    processed_indices.append(ind)\n",
    "    \n",
    "    if (num_processed+1) % stride == 0:\n",
    "        \n",
    "        stat_df_mini = ps.DataFrame(all_stats[last_ckpt:], index=processed_indices[last_ckpt:])\n",
    "        mate_stat_df_mini = ps.DataFrame(mate_stats[last_mate_ckpt:], index=mate_indices[last_mate_ckpt:])\n",
    "        stat_df_mini.to_parquet(os.path.join(statspath, f'stats_{num_processed}.parquet'))\n",
    "        mate_stat_df_mini.to_parquet(os.path.join(statspath, f'mate_stats_{num_processed}.parquet'))\n",
    "        print(stat_df_mini.shape)\n",
    "        last_mate_ckpt = len(mate_indices)\n",
    "        last_ckpt = len(processed_indices)"
   ]
  },
  {
   "cell_type": "markdown",
   "id": "0428befd-9a32-4e99-9a88-3091524d3929",
   "metadata": {},
   "source": [
    "the below crashes: part 2 of the assembly cannot be loaded with the normalization matrix"
   ]
  },
  {
   "cell_type": "code",
   "execution_count": null,
   "id": "24e4dc05-70f5-4072-a768-ea4352e31bca",
   "metadata": {},
   "outputs": [],
   "source": [
    "Part('/projects/grail/benjones/cadlab/data/models/131d532de0c1d73abe7d82eb/3f52af9a7f06ef9bb8861fd1/328744953ea1307ee5773ad5/default/JHD.xt', np.array([[ 0.99996352,  0.        , -0.00854129,  0.63228159],\n",
    "       [ 0.        ,  1.        ,  0.        ,  0.113665  ],\n",
    "       [ 0.00854129,  0.        ,  0.99996352, -0.05640515],\n",
    "       [ 0.        ,  0.        ,  0.        ,  1.29364489]]))"
   ]
  },
  {
   "cell_type": "code",
   "execution_count": 12,
   "id": "63604209-8a46-4c7f-a950-06dac45cc3b3",
   "metadata": {},
   "outputs": [
    {
     "ename": "NameError",
     "evalue": "name 'stat_df_mini' is not defined",
     "output_type": "error",
     "traceback": [
      "\u001b[0;31m---------------------------------------------------------------------------\u001b[0m",
      "\u001b[0;31mNameError\u001b[0m                                 Traceback (most recent call last)",
      "\u001b[0;32m/tmp/ipykernel_2273346/2302343288.py\u001b[0m in \u001b[0;36m<module>\u001b[0;34m\u001b[0m\n\u001b[0;32m----> 1\u001b[0;31m \u001b[0mstat_df_mini\u001b[0m\u001b[0;34m[\u001b[0m\u001b[0;34m'missed_mc_pairs'\u001b[0m\u001b[0;34m]\u001b[0m\u001b[0;34m.\u001b[0m\u001b[0mvalue_counts\u001b[0m\u001b[0;34m(\u001b[0m\u001b[0;34m)\u001b[0m\u001b[0;34m\u001b[0m\u001b[0;34m\u001b[0m\u001b[0m\n\u001b[0m",
      "\u001b[0;31mNameError\u001b[0m: name 'stat_df_mini' is not defined"
     ]
    }
   ],
   "source": [
    "stat_df_mini['missed_mc_pairs'].value_counts()"
   ]
  },
  {
   "cell_type": "code",
   "execution_count": 22,
   "id": "eb7771b0-7fba-4b26-9199-4a2e83ab16da",
   "metadata": {},
   "outputs": [
    {
     "data": {
      "text/plain": [
       "7472"
      ]
     },
     "execution_count": 22,
     "metadata": {},
     "output_type": "execute_result"
    }
   ],
   "source": [
    "processed_indices[-1]"
   ]
  },
  {
   "cell_type": "code",
   "execution_count": 23,
   "id": "f83dad3a-7ef0-4907-96c4-f425e195f16f",
   "metadata": {},
   "outputs": [
    {
     "data": {
      "text/plain": [
       "7472"
      ]
     },
     "execution_count": 23,
     "metadata": {},
     "output_type": "execute_result"
    }
   ],
   "source": [
    "set_E_indices[1241]"
   ]
  },
  {
   "cell_type": "code",
   "execution_count": 9,
   "id": "3757d0f8-1657-45c3-b0d5-e29d626910b6",
   "metadata": {},
   "outputs": [
    {
     "ename": "ValueError",
     "evalue": "Shape of passed values is (917, 13), indices imply (918, 13)",
     "output_type": "error",
     "traceback": [
      "\u001b[0;31m---------------------------------------------------------------------------\u001b[0m",
      "\u001b[0;31mValueError\u001b[0m                                Traceback (most recent call last)",
      "\u001b[0;32m/fast/jamesn8/anaconda3/envs/torch3/lib/python3.9/site-packages/pandas/core/internals/managers.py\u001b[0m in \u001b[0;36mcreate_block_manager_from_arrays\u001b[0;34m(arrays, names, axes, consolidate)\u001b[0m\n\u001b[1;32m   1773\u001b[0m         \u001b[0mblocks\u001b[0m \u001b[0;34m=\u001b[0m \u001b[0m_form_blocks\u001b[0m\u001b[0;34m(\u001b[0m\u001b[0marrays\u001b[0m\u001b[0;34m,\u001b[0m \u001b[0mnames\u001b[0m\u001b[0;34m,\u001b[0m \u001b[0maxes\u001b[0m\u001b[0;34m,\u001b[0m \u001b[0mconsolidate\u001b[0m\u001b[0;34m)\u001b[0m\u001b[0;34m\u001b[0m\u001b[0;34m\u001b[0m\u001b[0m\n\u001b[0;32m-> 1774\u001b[0;31m         \u001b[0mmgr\u001b[0m \u001b[0;34m=\u001b[0m \u001b[0mBlockManager\u001b[0m\u001b[0;34m(\u001b[0m\u001b[0mblocks\u001b[0m\u001b[0;34m,\u001b[0m \u001b[0maxes\u001b[0m\u001b[0;34m)\u001b[0m\u001b[0;34m\u001b[0m\u001b[0;34m\u001b[0m\u001b[0m\n\u001b[0m\u001b[1;32m   1775\u001b[0m     \u001b[0;32mexcept\u001b[0m \u001b[0mValueError\u001b[0m \u001b[0;32mas\u001b[0m \u001b[0me\u001b[0m\u001b[0;34m:\u001b[0m\u001b[0;34m\u001b[0m\u001b[0;34m\u001b[0m\u001b[0m\n",
      "\u001b[0;32m/fast/jamesn8/anaconda3/envs/torch3/lib/python3.9/site-packages/pandas/core/internals/managers.py\u001b[0m in \u001b[0;36m__init__\u001b[0;34m(self, blocks, axes, verify_integrity)\u001b[0m\n\u001b[1;32m    913\u001b[0m \u001b[0;34m\u001b[0m\u001b[0m\n\u001b[0;32m--> 914\u001b[0;31m             \u001b[0mself\u001b[0m\u001b[0;34m.\u001b[0m\u001b[0m_verify_integrity\u001b[0m\u001b[0;34m(\u001b[0m\u001b[0;34m)\u001b[0m\u001b[0;34m\u001b[0m\u001b[0;34m\u001b[0m\u001b[0m\n\u001b[0m\u001b[1;32m    915\u001b[0m \u001b[0;34m\u001b[0m\u001b[0m\n",
      "\u001b[0;32m/fast/jamesn8/anaconda3/envs/torch3/lib/python3.9/site-packages/pandas/core/internals/managers.py\u001b[0m in \u001b[0;36m_verify_integrity\u001b[0;34m(self)\u001b[0m\n\u001b[1;32m    920\u001b[0m             \u001b[0;32mif\u001b[0m \u001b[0mblock\u001b[0m\u001b[0;34m.\u001b[0m\u001b[0mshape\u001b[0m\u001b[0;34m[\u001b[0m\u001b[0;36m1\u001b[0m\u001b[0;34m:\u001b[0m\u001b[0;34m]\u001b[0m \u001b[0;34m!=\u001b[0m \u001b[0mmgr_shape\u001b[0m\u001b[0;34m[\u001b[0m\u001b[0;36m1\u001b[0m\u001b[0;34m:\u001b[0m\u001b[0;34m]\u001b[0m\u001b[0;34m:\u001b[0m\u001b[0;34m\u001b[0m\u001b[0;34m\u001b[0m\u001b[0m\n\u001b[0;32m--> 921\u001b[0;31m                 \u001b[0;32mraise\u001b[0m \u001b[0mconstruction_error\u001b[0m\u001b[0;34m(\u001b[0m\u001b[0mtot_items\u001b[0m\u001b[0;34m,\u001b[0m \u001b[0mblock\u001b[0m\u001b[0;34m.\u001b[0m\u001b[0mshape\u001b[0m\u001b[0;34m[\u001b[0m\u001b[0;36m1\u001b[0m\u001b[0;34m:\u001b[0m\u001b[0;34m]\u001b[0m\u001b[0;34m,\u001b[0m \u001b[0mself\u001b[0m\u001b[0;34m.\u001b[0m\u001b[0maxes\u001b[0m\u001b[0;34m)\u001b[0m\u001b[0;34m\u001b[0m\u001b[0;34m\u001b[0m\u001b[0m\n\u001b[0m\u001b[1;32m    922\u001b[0m         \u001b[0;32mif\u001b[0m \u001b[0mlen\u001b[0m\u001b[0;34m(\u001b[0m\u001b[0mself\u001b[0m\u001b[0;34m.\u001b[0m\u001b[0mitems\u001b[0m\u001b[0;34m)\u001b[0m \u001b[0;34m!=\u001b[0m \u001b[0mtot_items\u001b[0m\u001b[0;34m:\u001b[0m\u001b[0;34m\u001b[0m\u001b[0;34m\u001b[0m\u001b[0m\n",
      "\u001b[0;31mValueError\u001b[0m: Shape of passed values is (917, 13), indices imply (918, 13)",
      "\nDuring handling of the above exception, another exception occurred:\n",
      "\u001b[0;31mValueError\u001b[0m                                Traceback (most recent call last)",
      "\u001b[0;32m/tmp/ipykernel_2025311/1897969861.py\u001b[0m in \u001b[0;36m<module>\u001b[0;34m\u001b[0m\n\u001b[1;32m      1\u001b[0m \u001b[0mstats_df\u001b[0m \u001b[0;34m=\u001b[0m \u001b[0mps\u001b[0m\u001b[0;34m.\u001b[0m\u001b[0mDataFrame\u001b[0m\u001b[0;34m(\u001b[0m\u001b[0mall_stats\u001b[0m\u001b[0;34m,\u001b[0m \u001b[0mindex\u001b[0m\u001b[0;34m=\u001b[0m\u001b[0mprocessed_indices\u001b[0m\u001b[0;34m)\u001b[0m\u001b[0;34m\u001b[0m\u001b[0;34m\u001b[0m\u001b[0m\n\u001b[0;32m----> 2\u001b[0;31m \u001b[0mmate_stats_df\u001b[0m \u001b[0;34m=\u001b[0m \u001b[0mps\u001b[0m\u001b[0;34m.\u001b[0m\u001b[0mDataFrame\u001b[0m\u001b[0;34m(\u001b[0m\u001b[0mmate_stats\u001b[0m\u001b[0;34m,\u001b[0m \u001b[0mindex\u001b[0m\u001b[0;34m=\u001b[0m\u001b[0mmate_indices\u001b[0m\u001b[0;34m)\u001b[0m\u001b[0;34m\u001b[0m\u001b[0;34m\u001b[0m\u001b[0m\n\u001b[0m",
      "\u001b[0;32m/fast/jamesn8/anaconda3/envs/torch3/lib/python3.9/site-packages/pandas/core/frame.py\u001b[0m in \u001b[0;36m__init__\u001b[0;34m(self, data, index, columns, dtype, copy)\u001b[0m\n\u001b[1;32m    700\u001b[0m                         \u001b[0mdtype\u001b[0m\u001b[0;34m,\u001b[0m\u001b[0;34m\u001b[0m\u001b[0;34m\u001b[0m\u001b[0m\n\u001b[1;32m    701\u001b[0m                     )\n\u001b[0;32m--> 702\u001b[0;31m                     mgr = arrays_to_mgr(\n\u001b[0m\u001b[1;32m    703\u001b[0m                         \u001b[0marrays\u001b[0m\u001b[0;34m,\u001b[0m\u001b[0;34m\u001b[0m\u001b[0;34m\u001b[0m\u001b[0m\n\u001b[1;32m    704\u001b[0m                         \u001b[0mcolumns\u001b[0m\u001b[0;34m,\u001b[0m\u001b[0;34m\u001b[0m\u001b[0;34m\u001b[0m\u001b[0m\n",
      "\u001b[0;32m/fast/jamesn8/anaconda3/envs/torch3/lib/python3.9/site-packages/pandas/core/internals/construction.py\u001b[0m in \u001b[0;36marrays_to_mgr\u001b[0;34m(arrays, arr_names, index, columns, dtype, verify_integrity, typ, consolidate)\u001b[0m\n\u001b[1;32m    133\u001b[0m \u001b[0;34m\u001b[0m\u001b[0m\n\u001b[1;32m    134\u001b[0m     \u001b[0;32mif\u001b[0m \u001b[0mtyp\u001b[0m \u001b[0;34m==\u001b[0m \u001b[0;34m\"block\"\u001b[0m\u001b[0;34m:\u001b[0m\u001b[0;34m\u001b[0m\u001b[0;34m\u001b[0m\u001b[0m\n\u001b[0;32m--> 135\u001b[0;31m         return create_block_manager_from_arrays(\n\u001b[0m\u001b[1;32m    136\u001b[0m             \u001b[0marrays\u001b[0m\u001b[0;34m,\u001b[0m \u001b[0marr_names\u001b[0m\u001b[0;34m,\u001b[0m \u001b[0maxes\u001b[0m\u001b[0;34m,\u001b[0m \u001b[0mconsolidate\u001b[0m\u001b[0;34m=\u001b[0m\u001b[0mconsolidate\u001b[0m\u001b[0;34m\u001b[0m\u001b[0;34m\u001b[0m\u001b[0m\n\u001b[1;32m    137\u001b[0m         )\n",
      "\u001b[0;32m/fast/jamesn8/anaconda3/envs/torch3/lib/python3.9/site-packages/pandas/core/internals/managers.py\u001b[0m in \u001b[0;36mcreate_block_manager_from_arrays\u001b[0;34m(arrays, names, axes, consolidate)\u001b[0m\n\u001b[1;32m   1774\u001b[0m         \u001b[0mmgr\u001b[0m \u001b[0;34m=\u001b[0m \u001b[0mBlockManager\u001b[0m\u001b[0;34m(\u001b[0m\u001b[0mblocks\u001b[0m\u001b[0;34m,\u001b[0m \u001b[0maxes\u001b[0m\u001b[0;34m)\u001b[0m\u001b[0;34m\u001b[0m\u001b[0;34m\u001b[0m\u001b[0m\n\u001b[1;32m   1775\u001b[0m     \u001b[0;32mexcept\u001b[0m \u001b[0mValueError\u001b[0m \u001b[0;32mas\u001b[0m \u001b[0me\u001b[0m\u001b[0;34m:\u001b[0m\u001b[0;34m\u001b[0m\u001b[0;34m\u001b[0m\u001b[0m\n\u001b[0;32m-> 1776\u001b[0;31m         \u001b[0;32mraise\u001b[0m \u001b[0mconstruction_error\u001b[0m\u001b[0;34m(\u001b[0m\u001b[0mlen\u001b[0m\u001b[0;34m(\u001b[0m\u001b[0marrays\u001b[0m\u001b[0;34m)\u001b[0m\u001b[0;34m,\u001b[0m \u001b[0marrays\u001b[0m\u001b[0;34m[\u001b[0m\u001b[0;36m0\u001b[0m\u001b[0;34m]\u001b[0m\u001b[0;34m.\u001b[0m\u001b[0mshape\u001b[0m\u001b[0;34m,\u001b[0m \u001b[0maxes\u001b[0m\u001b[0;34m,\u001b[0m \u001b[0me\u001b[0m\u001b[0;34m)\u001b[0m\u001b[0;34m\u001b[0m\u001b[0;34m\u001b[0m\u001b[0m\n\u001b[0m\u001b[1;32m   1777\u001b[0m     \u001b[0;32mif\u001b[0m \u001b[0mconsolidate\u001b[0m\u001b[0;34m:\u001b[0m\u001b[0;34m\u001b[0m\u001b[0;34m\u001b[0m\u001b[0m\n\u001b[1;32m   1778\u001b[0m         \u001b[0mmgr\u001b[0m\u001b[0;34m.\u001b[0m\u001b[0m_consolidate_inplace\u001b[0m\u001b[0;34m(\u001b[0m\u001b[0;34m)\u001b[0m\u001b[0;34m\u001b[0m\u001b[0;34m\u001b[0m\u001b[0m\n",
      "\u001b[0;31mValueError\u001b[0m: Shape of passed values is (917, 13), indices imply (918, 13)"
     ]
    }
   ],
   "source": [
    "stats_df = ps.DataFrame(all_stats, index=processed_indices)\n",
    "mate_stats_df = ps.DataFrame(mate_stats, index=mate_indices)"
   ]
  },
  {
   "cell_type": "code",
   "execution_count": 10,
   "id": "bf94ffaf-b326-4b3f-b671-0c13d00ccc48",
   "metadata": {},
   "outputs": [
    {
     "data": {
      "text/plain": [
       "(94, 13)"
      ]
     },
     "execution_count": 10,
     "metadata": {},
     "output_type": "execute_result"
    }
   ],
   "source": [
    "stats_df.shape"
   ]
  },
  {
   "cell_type": "code",
   "execution_count": 66,
   "id": "af15fc9b-16da-4927-8869-329d5282ea05",
   "metadata": {},
   "outputs": [
    {
     "data": {
      "text/plain": [
       "3264"
      ]
     },
     "execution_count": 66,
     "metadata": {},
     "output_type": "execute_result"
    }
   ],
   "source": [
    "len(part_proposals[(23,25)])"
   ]
  },
  {
   "cell_type": "code",
   "execution_count": 69,
   "id": "d31ca6c1-5c72-40f7-bb55-2dd95f93b1a6",
   "metadata": {},
   "outputs": [
    {
     "data": {
      "text/plain": [
       "tensor([[          0,           0,         113,           0],\n",
       "        [-1221734976,       21869,  -609547136,       32600],\n",
       "        [        248,         248,           0,           0]],\n",
       "       dtype=torch.int32)"
      ]
     },
     "execution_count": 69,
     "metadata": {},
     "output_type": "execute_result"
    }
   ],
   "source": [
    "torch.empty((3, 4), dtype=torch.int)\n",
    "\n"
   ]
  },
  {
   "cell_type": "code",
   "execution_count": null,
   "id": "33c94b07-15f6-4283-9670-f184b5e5e2d6",
   "metadata": {},
   "outputs": [],
   "source": []
  }
 ],
 "metadata": {
  "kernelspec": {
   "display_name": "Python 3 (ipykernel)",
   "language": "python",
   "name": "python3"
  },
  "language_info": {
   "codemirror_mode": {
    "name": "ipython",
    "version": 3
   },
   "file_extension": ".py",
   "mimetype": "text/x-python",
   "name": "python",
   "nbconvert_exporter": "python",
   "pygments_lexer": "ipython3",
   "version": "3.9.6"
  }
 },
 "nbformat": 4,
 "nbformat_minor": 5
}
