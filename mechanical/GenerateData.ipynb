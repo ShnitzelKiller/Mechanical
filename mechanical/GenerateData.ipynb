{
 "cells": [
  {
   "cell_type": "code",
   "execution_count": 1,
   "id": "5975519a-e887-4995-8b69-1e144588aa80",
   "metadata": {},
   "outputs": [],
   "source": [
    "import numpy as np\n",
    "import numpy.linalg as LA\n",
    "import meshplot as mp\n",
    "from IPython.display import JSON as DJSON\n",
    "from IPython.display import clear_output\n",
    "from pspart import Part\n",
    "from pspart import NNHash\n",
    "import os\n",
    "import pandas as ps\n",
    "from mate_proposals import mate_proposals, homogenize_frame\n",
    "from scipy.spatial.transform import Rotation as R\n",
    "#import meshplot as mp\n",
    "import onshape.brepio as brepio\n",
    "import time\n",
    "from automate.data.data import UniformMateData\n",
    "import torch\n",
    "import random\n",
    "from automate.lightning_models.simplified import SimplifiedJointModel\n",
    "from automate.data.transforms import compose"
   ]
  },
  {
   "cell_type": "code",
   "execution_count": 5,
   "id": "7bea5b3a-898c-4b9a-a8b1-75d8398c61fe",
   "metadata": {},
   "outputs": [],
   "source": [
    "datapath = '/projects/grail/benjones/cadlab'"
   ]
  },
  {
   "cell_type": "code",
   "execution_count": 6,
   "id": "8a56315f-2467-48e1-9164-0134d67b7758",
   "metadata": {},
   "outputs": [
    {
     "name": "stderr",
     "output_type": "stream",
     "text": [
      "/fast/jamesn8/anaconda3/envs/torch3/lib/python3.9/site-packages/deprecate/deprecation.py:115: LightningDeprecationWarning: The `Metric` was deprecated since v1.3.0 in favor of `torchmetrics.metric.Metric`. It will be removed in v1.5.0.\n",
      "  stream(template_mgs % msg_args)\n"
     ]
    }
   ],
   "source": [
    "weights_path='/projects/grail/benjones/cadlab/dalton_lightning_logs/real_all_fn_args_amounts_sum_directedhybridgcn12/version_0/checkpoints/epoch=46-val_auc=0.666113.ckpt'\n",
    "model = SimplifiedJointModel.load_from_checkpoint(weights_path, map_location=torch.device('cpu'))\n",
    "transforms = model.transforms\n",
    "del model"
   ]
  },
  {
   "cell_type": "code",
   "execution_count": 7,
   "id": "c6e23a2c-6026-44a6-bffe-ff54c45e9814",
   "metadata": {},
   "outputs": [],
   "source": [
    "transform = compose(*(transforms[::-1]))"
   ]
  },
  {
   "cell_type": "code",
   "execution_count": 8,
   "id": "f887aec9-4b5b-498b-b5c1-9ca0911d0fdd",
   "metadata": {},
   "outputs": [],
   "source": [
    "name = '/fast/jamesn8/assembly_data/assembly_data_with_transforms_all.h5'\n",
    "assembly_df = ps.read_hdf(name,'assembly')\n",
    "mate_df = ps.read_hdf(name,'mate')\n",
    "part_df = ps.read_hdf(name,'part')\n",
    "mate_df['MateIndex'] = mate_df.index\n",
    "part_df['PartIndex'] = part_df.index"
   ]
  },
  {
   "cell_type": "code",
   "execution_count": 9,
   "id": "ac22affa-4a11-4b76-9558-54f430f9416d",
   "metadata": {},
   "outputs": [],
   "source": [
    "mate_df.set_index('Assembly', inplace=True)\n",
    "part_df.set_index('Assembly', inplace=True)    "
   ]
  },
  {
   "cell_type": "code",
   "execution_count": 10,
   "id": "7225ebf6-20b8-42aa-bca2-fb5133bbeddb",
   "metadata": {},
   "outputs": [],
   "source": [
    "with open('fully_connected_moving_no_multimates.txt','r') as f:\n",
    "    set_E_indices = [int(l.rstrip()) for l in f.readlines()]"
   ]
  },
  {
   "cell_type": "code",
   "execution_count": 11,
   "id": "4a0e9e8a-82f3-49f2-b3a5-184a53c0d60a",
   "metadata": {},
   "outputs": [],
   "source": [
    "mate_types = [\n",
    "            'PIN_SLOT',\n",
    "            'BALL',\n",
    "            'PARALLEL',\n",
    "            'SLIDER',\n",
    "            'REVOLUTE',\n",
    "            'CYLINDRICAL',\n",
    "            'PLANAR',\n",
    "            'FASTENED'\n",
    "        ]"
   ]
  },
  {
   "cell_type": "code",
   "execution_count": 12,
   "id": "d9c3344f-c07f-4050-9ba7-af7c9e17a0bb",
   "metadata": {},
   "outputs": [],
   "source": [
    "def global_bounding_box(parts, transforms=None):\n",
    "    if transforms is None:\n",
    "        allpoints = [part.V for part in parts if part.V.shape[0] > 0]\n",
    "    else:\n",
    "        allpoints = [(tf[:3,:3] @ part.V.T + tf[:3,3,np.newaxis]).T for tf, part in zip(transforms, parts) if part.V.shape[0] > 0]\n",
    "    if len(allpoints) == 0:\n",
    "        return None\n",
    "    minPt = np.array([points.min(axis=0) for points in allpoints]).min(axis=0)\n",
    "    maxPt = np.array([points.max(axis=0) for points in allpoints]).max(axis=0)\n",
    "    return np.vstack([minPt, maxPt])"
   ]
  },
  {
   "cell_type": "code",
   "execution_count": 13,
   "id": "e578e8eb-4850-4a37-a85b-7fcd0369e108",
   "metadata": {},
   "outputs": [],
   "source": [
    "def apply_transform(tf, v, is_points=True):\n",
    "    \"Apply the 4-matrix `tf` to a vector or column-wise matrix of vectors. If is_points, also add the translation.\"\n",
    "    v_trans = tf[:3,:3] @ v\n",
    "    if is_points:\n",
    "        if v.ndim==1:\n",
    "            v_trans += tf[:3,3]\n",
    "        elif v.ndim==2:\n",
    "            v_trans += tf[:3,3,np.newaxis]\n",
    "    return v_trans"
   ]
  },
  {
   "cell_type": "code",
   "execution_count": 14,
   "id": "ad1bb023-ac74-4a1c-b80a-abb6977bf23a",
   "metadata": {},
   "outputs": [],
   "source": [
    "def cs_to_origin_frame(cs):\n",
    "    return cs[:3,3], cs[:3,:3]"
   ]
  },
  {
   "cell_type": "code",
   "execution_count": 15,
   "id": "6c0c7f85-19db-46ca-9329-f9b602679c17",
   "metadata": {},
   "outputs": [],
   "source": [
    "def cs_from_origin_frame(origin, frame):\n",
    "    cs = np.identity(4, np.float64)\n",
    "    cs[:3,:3] = frame\n",
    "    cs[:3,3] = origin\n",
    "    return cs"
   ]
  },
  {
   "cell_type": "code",
   "execution_count": 30,
   "id": "b9bc8516-aa0e-4846-8b2b-99327bf2d261",
   "metadata": {},
   "outputs": [
    {
     "data": {
      "text/plain": [
       "'num_processed: 0/20845'"
      ]
     },
     "metadata": {},
     "output_type": "display_data"
    },
    {
     "name": "stdout",
     "output_type": "stream",
     "text": [
      "0e2de88aa724d660e4093564_52ea6bfdd317472a99efcffa_316901caae65ff373c71ef88\n"
     ]
    },
    {
     "data": {
      "text/plain": [
       "'num_processed: 1/20845'"
      ]
     },
     "metadata": {},
     "output_type": "display_data"
    },
    {
     "name": "stdout",
     "output_type": "stream",
     "text": [
      "20acdbfb860686db5801f7db_5676ec505c49f9284cf6f810_69f3bde151e038c3d9a8d55c\n"
     ]
    },
    {
     "data": {
      "text/plain": [
       "'num_processed: 2/20845'"
      ]
     },
     "metadata": {},
     "output_type": "display_data"
    },
    {
     "name": "stdout",
     "output_type": "stream",
     "text": [
      "7886c69b1f149069e7a43bdb_b809b448b6da81db4b2388a0_1dc646f33c96254f526ea650\n",
      "ERROR TRASFORMING!\n",
      "ERROR TRASFORMING!\n"
     ]
    },
    {
     "data": {
      "text/plain": [
       "'num_processed: 3/20845'"
      ]
     },
     "metadata": {},
     "output_type": "display_data"
    },
    {
     "name": "stdout",
     "output_type": "stream",
     "text": [
      "e04c8a49d30adb3a5c0f1deb_3d9b45359a15b248f75e41a2_070617843f30f132ab9e6661\n"
     ]
    },
    {
     "data": {
      "text/plain": [
       "'num_processed: 4/20845'"
      ]
     },
     "metadata": {},
     "output_type": "display_data"
    },
    {
     "name": "stdout",
     "output_type": "stream",
     "text": [
      "2a9129b6c469ef81930627d8_51e1cbb836847c0b96790da2_e1f1943b65033b76f7434e20\n"
     ]
    },
    {
     "data": {
      "text/plain": [
       "'num_processed: 5/20845'"
      ]
     },
     "metadata": {},
     "output_type": "display_data"
    },
    {
     "name": "stdout",
     "output_type": "stream",
     "text": [
      "571ffca7e4b0e6559901315e_bfd7d4f20f860739096330d1_98ad8c8c79c4beba764ec80e\n"
     ]
    },
    {
     "data": {
      "text/plain": [
       "'num_processed: 6/20845'"
      ]
     },
     "metadata": {},
     "output_type": "display_data"
    },
    {
     "name": "stdout",
     "output_type": "stream",
     "text": [
      "d8a12ba89bdafc500aff51b8_a249df9d9e0cc2c14fe98430_2f63c6ac02f4bb95b19ad6b4\n"
     ]
    },
    {
     "data": {
      "text/plain": [
       "'num_processed: 7/20845'"
      ]
     },
     "metadata": {},
     "output_type": "display_data"
    },
    {
     "name": "stdout",
     "output_type": "stream",
     "text": [
      "5e59e0a31e2d063179d0ef27_1266e2d5d425f14833ba440e_b18634310f6afcbec59c3f10\n"
     ]
    },
    {
     "data": {
      "text/plain": [
       "'num_processed: 8/20845'"
      ]
     },
     "metadata": {},
     "output_type": "display_data"
    },
    {
     "name": "stdout",
     "output_type": "stream",
     "text": [
      "e4803faed1b9357f8db3722c_ce43730c0f1758f756fc271f_c00b5256d7e874e534c083e8\n"
     ]
    },
    {
     "data": {
      "text/plain": [
       "'num_processed: 9/20845'"
      ]
     },
     "metadata": {},
     "output_type": "display_data"
    },
    {
     "name": "stdout",
     "output_type": "stream",
     "text": [
      "080bda692c7362d9d8f550c0_2bb4d493fe1adaf882bc9c9f_2b9ddd420bbfde38934d34ef\n"
     ]
    },
    {
     "data": {
      "text/plain": [
       "'num_processed: 10/20845'"
      ]
     },
     "metadata": {},
     "output_type": "display_data"
    },
    {
     "name": "stdout",
     "output_type": "stream",
     "text": [
      "246159c67b30d39afcb4889f_b75b18e33378537ef082a042_b8c6cd3c4e879ef9339f511e\n"
     ]
    },
    {
     "data": {
      "text/plain": [
       "'num_processed: 11/20845'"
      ]
     },
     "metadata": {},
     "output_type": "display_data"
    },
    {
     "name": "stdout",
     "output_type": "stream",
     "text": [
      "e7b595db7b93f1f90291de84_124fda3e378b34f2e2e60b49_cc0405742debd6a4a1164780\n"
     ]
    },
    {
     "data": {
      "text/plain": [
       "'num_processed: 12/20845'"
      ]
     },
     "metadata": {},
     "output_type": "display_data"
    },
    {
     "name": "stdout",
     "output_type": "stream",
     "text": [
      "eb63ce9024b877855fe8e83f_e728787690b24b767e54fc9f_f547804e2ef05d3f8083db74\n"
     ]
    },
    {
     "data": {
      "text/plain": [
       "'num_processed: 13/20845'"
      ]
     },
     "metadata": {},
     "output_type": "display_data"
    },
    {
     "name": "stdout",
     "output_type": "stream",
     "text": [
      "cb58e8a6d472030abb6d8722_ac3f9de14afdbf18b86357d7_8064839d006c2f186bb4056e\n"
     ]
    },
    {
     "data": {
      "text/plain": [
       "'num_processed: 14/20845'"
      ]
     },
     "metadata": {},
     "output_type": "display_data"
    },
    {
     "name": "stdout",
     "output_type": "stream",
     "text": [
      "3f3f7faf715be1d586faf45e_812c2b97e8d8bfe155b33f88_19044803534d4b795e11e3ce\n"
     ]
    },
    {
     "data": {
      "text/plain": [
       "'num_processed: 15/20845'"
      ]
     },
     "metadata": {},
     "output_type": "display_data"
    },
    {
     "name": "stdout",
     "output_type": "stream",
     "text": [
      "530fbe15b4cb9b2c3c80aaec_970eaba15b0fdd65af940836_00954da9cc35048e740fd60f\n"
     ]
    },
    {
     "data": {
      "text/plain": [
       "'num_processed: 16/20845'"
      ]
     },
     "metadata": {},
     "output_type": "display_data"
    },
    {
     "name": "stdout",
     "output_type": "stream",
     "text": [
      "644670c3deba87510f6b7c81_51e9123a51cde534eb94fa60_e30fd66148f098738c54493f\n"
     ]
    },
    {
     "data": {
      "text/plain": [
       "'num_processed: 17/20845'"
      ]
     },
     "metadata": {},
     "output_type": "display_data"
    },
    {
     "name": "stdout",
     "output_type": "stream",
     "text": [
      "21b67f2e1baf19cdac0ebb8e_d09f17b642f7ffc9c574fcd9_49bccceb6cbc7a706576960b\n"
     ]
    },
    {
     "data": {
      "text/plain": [
       "'num_processed: 18/20845'"
      ]
     },
     "metadata": {},
     "output_type": "display_data"
    },
    {
     "name": "stdout",
     "output_type": "stream",
     "text": [
      "66e8f5e21b5f58c61d39a00f_fc6276aa0175aafc2ac8301f_40c7750382d4d92bba46e462\n"
     ]
    },
    {
     "data": {
      "text/plain": [
       "'num_processed: 19/20845'"
      ]
     },
     "metadata": {},
     "output_type": "display_data"
    },
    {
     "name": "stdout",
     "output_type": "stream",
     "text": [
      "8ad9dad9ab5938e3e48cfa4a_a5d12b612eac47adab28b123_98f3e4cfdc0c0a7446d358f9\n"
     ]
    },
    {
     "data": {
      "text/plain": [
       "'num_processed: 20/20845'"
      ]
     },
     "metadata": {},
     "output_type": "display_data"
    },
    {
     "name": "stdout",
     "output_type": "stream",
     "text": [
      "969ecc2998d12a6dc8502eee_870711ccfd34b90dc6d394cc_a0f723e80b84164ccf760b8f\n"
     ]
    },
    {
     "data": {
      "text/plain": [
       "'num_processed: 21/20845'"
      ]
     },
     "metadata": {},
     "output_type": "display_data"
    },
    {
     "name": "stdout",
     "output_type": "stream",
     "text": [
      "5735b45be4b0a1694d9ee790_625bdecd9a3c7a7aa168436d_e2afa76dd4a3c65ee460f9cf\n"
     ]
    },
    {
     "data": {
      "text/plain": [
       "'num_processed: 22/20845'"
      ]
     },
     "metadata": {},
     "output_type": "display_data"
    },
    {
     "name": "stdout",
     "output_type": "stream",
     "text": [
      "484295b68f39dd78aa410ccc_ce67bc4330bb0627db167e6c_d6eb59ff45dea863f5326013\n"
     ]
    },
    {
     "data": {
      "text/plain": [
       "'num_processed: 23/20845'"
      ]
     },
     "metadata": {},
     "output_type": "display_data"
    },
    {
     "name": "stdout",
     "output_type": "stream",
     "text": [
      "cbfc9227ea7a68dccba6eb41_06a4df5ea5ef77770e085397_3395af7080c64fe08577fbfb\n"
     ]
    },
    {
     "data": {
      "text/plain": [
       "'num_processed: 24/20845'"
      ]
     },
     "metadata": {},
     "output_type": "display_data"
    },
    {
     "name": "stdout",
     "output_type": "stream",
     "text": [
      "6793caab14609b93950c49c2_a5fe7f7f1393493c43f48163_c9a0584b0d4f6cccd7d9c0f0\n"
     ]
    },
    {
     "data": {
      "text/plain": [
       "'num_processed: 25/20845'"
      ]
     },
     "metadata": {},
     "output_type": "display_data"
    },
    {
     "name": "stdout",
     "output_type": "stream",
     "text": [
      "5800a912c3e99010b9057eab_d46cb293e0b93ac9dc8fda86_a8c8291c56c63d1ac22be45b\n"
     ]
    },
    {
     "data": {
      "text/plain": [
       "'num_processed: 26/20845'"
      ]
     },
     "metadata": {},
     "output_type": "display_data"
    },
    {
     "name": "stdout",
     "output_type": "stream",
     "text": [
      "5f03aaca9e69282ad3aea920_49f700d59b72830fd6bc51a1_0558d55363b534b056cfceb4\n"
     ]
    },
    {
     "data": {
      "text/plain": [
       "'num_processed: 27/20845'"
      ]
     },
     "metadata": {},
     "output_type": "display_data"
    },
    {
     "name": "stdout",
     "output_type": "stream",
     "text": [
      "d8a598174bcbceaf7e2194e5_a54ba742eaa71cdd4dcefbaa_f7d8ddb4a32a4bfde5a45d20\n"
     ]
    },
    {
     "data": {
      "text/plain": [
       "'num_processed: 28/20845'"
      ]
     },
     "metadata": {},
     "output_type": "display_data"
    },
    {
     "name": "stdout",
     "output_type": "stream",
     "text": [
      "54db27412278d0198ceb53d7_5b1df5d2e664fcdecbf1c3cc_4680675fb5aecda935df14a8\n"
     ]
    },
    {
     "data": {
      "text/plain": [
       "'num_processed: 29/20845'"
      ]
     },
     "metadata": {},
     "output_type": "display_data"
    },
    {
     "name": "stdout",
     "output_type": "stream",
     "text": [
      "ceb012d7b0d406f146c92576_11ee66894728e2929c851619_7a1fa975e45d53cd94792b87\n"
     ]
    },
    {
     "data": {
      "text/plain": [
       "'num_processed: 30/20845'"
      ]
     },
     "metadata": {},
     "output_type": "display_data"
    },
    {
     "name": "stdout",
     "output_type": "stream",
     "text": [
      "d13d31f7745c7bc353f36d1c_d8f2d299c2b09e8104fed005_950b44d31538a809a31d39d2\n"
     ]
    },
    {
     "data": {
      "text/plain": [
       "'num_processed: 31/20845'"
      ]
     },
     "metadata": {},
     "output_type": "display_data"
    },
    {
     "name": "stdout",
     "output_type": "stream",
     "text": [
      "5f87c417087743c327461cf6_7ed847fcbc2f93d11109971e_f3637b03e83610462fbaea42\n"
     ]
    },
    {
     "data": {
      "text/plain": [
       "'num_processed: 32/20845'"
      ]
     },
     "metadata": {},
     "output_type": "display_data"
    },
    {
     "name": "stdout",
     "output_type": "stream",
     "text": [
      "bc8cd01cb4012aaa64fbed56_87a0cc08ef8bc35879526842_eaed1d1022ac85ccb357e7e8\n"
     ]
    },
    {
     "data": {
      "text/plain": [
       "'num_processed: 33/20845'"
      ]
     },
     "metadata": {},
     "output_type": "display_data"
    },
    {
     "name": "stdout",
     "output_type": "stream",
     "text": [
      "513d3e7e26f3e8c143f770cd_13a6a755c629b27122b9a202_7e0be97fd92f302eff3f1e2a\n"
     ]
    },
    {
     "data": {
      "text/plain": [
       "'num_processed: 34/20845'"
      ]
     },
     "metadata": {},
     "output_type": "display_data"
    },
    {
     "name": "stdout",
     "output_type": "stream",
     "text": [
      "b307e69d29c2ad0ba76a52cc_d616db4dd579e14bacda7d42_10677e90eecee94bf2338c65\n"
     ]
    },
    {
     "data": {
      "text/plain": [
       "'num_processed: 35/20845'"
      ]
     },
     "metadata": {},
     "output_type": "display_data"
    },
    {
     "name": "stdout",
     "output_type": "stream",
     "text": [
      "277e2b23659f9cfddfc38063_74401d87e5d337858d1abf7b_b3ebe4fb886661d3e2bae646\n"
     ]
    },
    {
     "data": {
      "text/plain": [
       "'num_processed: 36/20845'"
      ]
     },
     "metadata": {},
     "output_type": "display_data"
    },
    {
     "name": "stdout",
     "output_type": "stream",
     "text": [
      "a5f5816f5492810d0fd66173_336c4e87babaedda4577cba7_00fabcfa74f68d4f4035837b\n"
     ]
    },
    {
     "data": {
      "text/plain": [
       "'num_processed: 37/20845'"
      ]
     },
     "metadata": {},
     "output_type": "display_data"
    },
    {
     "name": "stdout",
     "output_type": "stream",
     "text": [
      "093ef43ec07cbb44205ffbe4_99d4dac533ad20007ecd9add_7e7dd50b84203f9df33b3761\n"
     ]
    },
    {
     "data": {
      "text/plain": [
       "'num_processed: 38/20845'"
      ]
     },
     "metadata": {},
     "output_type": "display_data"
    },
    {
     "name": "stdout",
     "output_type": "stream",
     "text": [
      "89106fd22a20ae3a1cb751ae_2f39a00973fd6208f6a53604_f36187add610e4ce44d3e291\n"
     ]
    },
    {
     "data": {
      "text/plain": [
       "'num_processed: 39/20845'"
      ]
     },
     "metadata": {},
     "output_type": "display_data"
    },
    {
     "name": "stdout",
     "output_type": "stream",
     "text": [
      "cc264ca2031ec9ae00d245be_7af40711efd36c41200eac42_b188465fb4ec4091fbb063a0\n"
     ]
    },
    {
     "data": {
      "text/plain": [
       "'num_processed: 40/20845'"
      ]
     },
     "metadata": {},
     "output_type": "display_data"
    },
    {
     "name": "stdout",
     "output_type": "stream",
     "text": [
      "f57c7e2dd6696232777a4e8b_66d0e5c94cd241c7408acbac_4ddb596b28e04b2df6ff15ab\n",
      "ERROR TRASFORMING!\n"
     ]
    },
    {
     "data": {
      "text/plain": [
       "'num_processed: 41/20845'"
      ]
     },
     "metadata": {},
     "output_type": "display_data"
    },
    {
     "name": "stdout",
     "output_type": "stream",
     "text": [
      "e61d0dfa4596032d9d5d1312_ab7f9003ca51be27226d7d8e_6358a581489f2d996dfefb90\n"
     ]
    },
    {
     "data": {
      "text/plain": [
       "'num_processed: 42/20845'"
      ]
     },
     "metadata": {},
     "output_type": "display_data"
    },
    {
     "name": "stdout",
     "output_type": "stream",
     "text": [
      "72034f7285809af79c6f26dc_c7aa359ad29eaa230a7181c2_08ce9140f63f103dc84edc91\n"
     ]
    },
    {
     "data": {
      "text/plain": [
       "'num_processed: 43/20845'"
      ]
     },
     "metadata": {},
     "output_type": "display_data"
    },
    {
     "name": "stdout",
     "output_type": "stream",
     "text": [
      "4e5e42eb44812b1be4047b06_a1d88eb0b6de9e84fea44565_327de3f0c61ae4f4c394c9f0\n"
     ]
    },
    {
     "data": {
      "text/plain": [
       "'num_processed: 44/20845'"
      ]
     },
     "metadata": {},
     "output_type": "display_data"
    },
    {
     "name": "stdout",
     "output_type": "stream",
     "text": [
      "7a4fe3cbef546ac6ff12f862_898f28e328c8da32930fce0f_ae8aab819410e641c2d8e1a9\n"
     ]
    },
    {
     "data": {
      "text/plain": [
       "'num_processed: 45/20845'"
      ]
     },
     "metadata": {},
     "output_type": "display_data"
    },
    {
     "name": "stdout",
     "output_type": "stream",
     "text": [
      "bf9df8aa94c73c065dc0649f_1e218264f96810b906c5f1f3_9f8319209b79b9e70510cc78\n"
     ]
    },
    {
     "data": {
      "text/plain": [
       "'num_processed: 46/20845'"
      ]
     },
     "metadata": {},
     "output_type": "display_data"
    },
    {
     "name": "stdout",
     "output_type": "stream",
     "text": [
      "87688bb8ccd911995ddc048c_6313170efcc25a6f36e56906_8ee5e722ed4853b12db03877\n",
      "ERROR TRASFORMING!\n"
     ]
    },
    {
     "data": {
      "text/plain": [
       "'num_processed: 47/20845'"
      ]
     },
     "metadata": {},
     "output_type": "display_data"
    },
    {
     "name": "stdout",
     "output_type": "stream",
     "text": [
      "af5f1120f8602d0e3192a415_fb2da79675218dfedf0eea41_33c7909308f64e4ccbcc5339\n"
     ]
    },
    {
     "data": {
      "text/plain": [
       "'num_processed: 48/20845'"
      ]
     },
     "metadata": {},
     "output_type": "display_data"
    },
    {
     "name": "stdout",
     "output_type": "stream",
     "text": [
      "6271d04f5fb86aaab47b1b15_a426e982eb8acc6e751ea4b7_7f41e849b7cbb4416517e08f\n"
     ]
    },
    {
     "data": {
      "text/plain": [
       "'num_processed: 49/20845'"
      ]
     },
     "metadata": {},
     "output_type": "display_data"
    },
    {
     "name": "stdout",
     "output_type": "stream",
     "text": [
      "0ea9011fb728c876e9f3c05d_5f20433c947455ee0c941eac_36d6f9451c8c37ecfd3cbd8b\n"
     ]
    },
    {
     "data": {
      "text/plain": [
       "'num_processed: 50/20845'"
      ]
     },
     "metadata": {},
     "output_type": "display_data"
    },
    {
     "name": "stdout",
     "output_type": "stream",
     "text": [
      "3c4c9962edcdc808af67cdc9_a2728f11e1e984164cd1ef99_992d146b3c2b3f496fc9a52d\n"
     ]
    },
    {
     "data": {
      "text/plain": [
       "'num_processed: 51/20845'"
      ]
     },
     "metadata": {},
     "output_type": "display_data"
    },
    {
     "name": "stdout",
     "output_type": "stream",
     "text": [
      "57e182be2bf94991edc1847c_5edb9f3a34169106d40cb2e0_c97af185b0b26aebe05a205c\n"
     ]
    },
    {
     "data": {
      "text/plain": [
       "'num_processed: 52/20845'"
      ]
     },
     "metadata": {},
     "output_type": "display_data"
    },
    {
     "name": "stdout",
     "output_type": "stream",
     "text": [
      "0d87dc8a9e8ede82153ebc45_311d4984aebad70b3582621c_13d894985878bdf08a9d23a7\n"
     ]
    },
    {
     "data": {
      "text/plain": [
       "'num_processed: 53/20845'"
      ]
     },
     "metadata": {},
     "output_type": "display_data"
    },
    {
     "name": "stdout",
     "output_type": "stream",
     "text": [
      "66da17b4a4fd2581ebbacc30_06178cae0f4a97250509a832_e4e7be3531199c02b95074da\n"
     ]
    },
    {
     "data": {
      "text/plain": [
       "'num_processed: 54/20845'"
      ]
     },
     "metadata": {},
     "output_type": "display_data"
    },
    {
     "name": "stdout",
     "output_type": "stream",
     "text": [
      "3685d28463694d89902a515a_221dab500376900b2330b7eb_4d98be42c2df3e944c1779f3\n"
     ]
    },
    {
     "data": {
      "text/plain": [
       "'num_processed: 55/20845'"
      ]
     },
     "metadata": {},
     "output_type": "display_data"
    },
    {
     "name": "stdout",
     "output_type": "stream",
     "text": [
      "5774720be4b0601fa6dd31ba_30ced064f1be9ff19c03ab8f_99e1a5759fe1d8fe06f4179a\n"
     ]
    },
    {
     "data": {
      "text/plain": [
       "'num_processed: 56/20845'"
      ]
     },
     "metadata": {},
     "output_type": "display_data"
    },
    {
     "name": "stdout",
     "output_type": "stream",
     "text": [
      "b35be73f5df0cab0fb8c5ab9_f98b313ac08239605ace0177_468b1f0b19f50c13ae49289c\n"
     ]
    },
    {
     "data": {
      "text/plain": [
       "'num_processed: 57/20845'"
      ]
     },
     "metadata": {},
     "output_type": "display_data"
    },
    {
     "name": "stdout",
     "output_type": "stream",
     "text": [
      "82c0c94cc6c292a98283a926_6ec472ae4a33249f9cbde727_1351862e7969792ba72709c3\n"
     ]
    },
    {
     "data": {
      "text/plain": [
       "'num_processed: 58/20845'"
      ]
     },
     "metadata": {},
     "output_type": "display_data"
    },
    {
     "name": "stdout",
     "output_type": "stream",
     "text": [
      "58de11f0ad11a8103700bdb4_5695406c26e8924ed02e80d8_409a6f1b75894a56aa124e28\n"
     ]
    },
    {
     "data": {
      "text/plain": [
       "'num_processed: 59/20845'"
      ]
     },
     "metadata": {},
     "output_type": "display_data"
    },
    {
     "name": "stdout",
     "output_type": "stream",
     "text": [
      "58cd850472d10c0f7b29a2f0_48a6a9537d4bdd5f3cc08ba7_51d83565427b0ab2141fbefd\n"
     ]
    },
    {
     "data": {
      "text/plain": [
       "'num_processed: 60/20845'"
      ]
     },
     "metadata": {},
     "output_type": "display_data"
    },
    {
     "name": "stdout",
     "output_type": "stream",
     "text": [
      "df090edbec75da6dc476ad66_072bcb505bdd02bff2f75cb4_e637c33ead178d9efef8e7db\n"
     ]
    },
    {
     "data": {
      "text/plain": [
       "'num_processed: 61/20845'"
      ]
     },
     "metadata": {},
     "output_type": "display_data"
    },
    {
     "name": "stdout",
     "output_type": "stream",
     "text": [
      "cc412b853b307f2f54b72f63_21c9cd09fb0cb72fece90340_7a311a38ff676d0b6a34ccef\n"
     ]
    },
    {
     "data": {
      "text/plain": [
       "'num_processed: 62/20845'"
      ]
     },
     "metadata": {},
     "output_type": "display_data"
    },
    {
     "name": "stdout",
     "output_type": "stream",
     "text": [
      "ceaf9ef4b7dbe99aa4fb120f_ad598435d70f801cb90d00b8_53c8caa9086f1f4bf595ffcf\n"
     ]
    },
    {
     "data": {
      "text/plain": [
       "'num_processed: 63/20845'"
      ]
     },
     "metadata": {},
     "output_type": "display_data"
    },
    {
     "name": "stdout",
     "output_type": "stream",
     "text": [
      "b20289e7390a1f8671396929_8d80361342c7a0675f24e893_5c72e70a5d0f5abfe4b465fb\n",
      "ERROR TRASFORMING!\n"
     ]
    },
    {
     "data": {
      "text/plain": [
       "'num_processed: 64/20845'"
      ]
     },
     "metadata": {},
     "output_type": "display_data"
    },
    {
     "name": "stdout",
     "output_type": "stream",
     "text": [
      "df7e147941307d623b7ce625_d3f70d2f2a5bb6abee706f18_e35f7b6144946fe68d368323\n"
     ]
    },
    {
     "data": {
      "text/plain": [
       "'num_processed: 65/20845'"
      ]
     },
     "metadata": {},
     "output_type": "display_data"
    },
    {
     "name": "stdout",
     "output_type": "stream",
     "text": [
      "db5d68d6e979c9bbdda81d15_7ceba0e269fcc4da0c522cdd_bd0791be492b03c7e52a793b\n"
     ]
    },
    {
     "data": {
      "text/plain": [
       "'num_processed: 66/20845'"
      ]
     },
     "metadata": {},
     "output_type": "display_data"
    },
    {
     "name": "stdout",
     "output_type": "stream",
     "text": [
      "f7dd6e2d5a7050326a4fbb5d_ab50e772541611bdb2355038_daef902062b57db24a2c5dca\n"
     ]
    },
    {
     "data": {
      "text/plain": [
       "'num_processed: 67/20845'"
      ]
     },
     "metadata": {},
     "output_type": "display_data"
    },
    {
     "name": "stdout",
     "output_type": "stream",
     "text": [
      "fa269571f35721c6abf81fc3_ba861a86b54f4281e8203119_425a01fbcb0901565d6578a9\n"
     ]
    },
    {
     "data": {
      "text/plain": [
       "'num_processed: 68/20845'"
      ]
     },
     "metadata": {},
     "output_type": "display_data"
    },
    {
     "name": "stdout",
     "output_type": "stream",
     "text": [
      "5782b217e4b01a6b0f3e6d6c_82af21a310dccb794c6f232e_d33640d6e8292c3f558e3241\n"
     ]
    },
    {
     "data": {
      "text/plain": [
       "'num_processed: 69/20845'"
      ]
     },
     "metadata": {},
     "output_type": "display_data"
    },
    {
     "name": "stdout",
     "output_type": "stream",
     "text": [
      "553e5a33688d076d9b52752a_a6ca4902764c22ce78f22101_c55af3aba833a0dfe3284e96\n"
     ]
    },
    {
     "data": {
      "text/plain": [
       "'num_processed: 70/20845'"
      ]
     },
     "metadata": {},
     "output_type": "display_data"
    },
    {
     "name": "stdout",
     "output_type": "stream",
     "text": [
      "bddc9be0759c5d24d41a0009_d95ca3a4150020072778a35f_9f3a251fcb0ec3000e8602fe\n"
     ]
    },
    {
     "data": {
      "text/plain": [
       "'num_processed: 71/20845'"
      ]
     },
     "metadata": {},
     "output_type": "display_data"
    },
    {
     "name": "stdout",
     "output_type": "stream",
     "text": [
      "d8a303e6739db91d4aab5bc5_150b669cde452a8c0eceeda0_6a06a9a7db2c8b85d3601940\n"
     ]
    },
    {
     "data": {
      "text/plain": [
       "'num_processed: 72/20845'"
      ]
     },
     "metadata": {},
     "output_type": "display_data"
    },
    {
     "name": "stdout",
     "output_type": "stream",
     "text": [
      "7995a9ad02b54a2d4458f5e6_95da4132cac7d5cadea0b7db_83fd332781f5cac9fad38491\n"
     ]
    },
    {
     "data": {
      "text/plain": [
       "'num_processed: 73/20845'"
      ]
     },
     "metadata": {},
     "output_type": "display_data"
    },
    {
     "name": "stdout",
     "output_type": "stream",
     "text": [
      "3e09c731675379fc2ae55353_e246b3e710299092d72e632b_9d501ee871f077d44858c31d\n"
     ]
    },
    {
     "data": {
      "text/plain": [
       "'num_processed: 74/20845'"
      ]
     },
     "metadata": {},
     "output_type": "display_data"
    },
    {
     "name": "stdout",
     "output_type": "stream",
     "text": [
      "078c3dfcb3cbe7837119de0c_67a4ba2951216bf2cd1e9d9f_819cd71512b0ade082e2ced9\n"
     ]
    },
    {
     "data": {
      "text/plain": [
       "'num_processed: 75/20845'"
      ]
     },
     "metadata": {},
     "output_type": "display_data"
    },
    {
     "name": "stdout",
     "output_type": "stream",
     "text": [
      "e99f67c6ac5a9df4cdf11e3d_335daede558dbb5e510cb726_55e9a43d034f17fcf45ae4c3\n"
     ]
    },
    {
     "data": {
      "text/plain": [
       "'num_processed: 76/20845'"
      ]
     },
     "metadata": {},
     "output_type": "display_data"
    },
    {
     "name": "stdout",
     "output_type": "stream",
     "text": [
      "586577170dd573109767f5c7_2c2f28df65fce97c27103ecb_e147afe452f2f48f7bb671bd\n"
     ]
    },
    {
     "data": {
      "text/plain": [
       "'num_processed: 77/20845'"
      ]
     },
     "metadata": {},
     "output_type": "display_data"
    },
    {
     "name": "stdout",
     "output_type": "stream",
     "text": [
      "ff69ef0dcf2a84740b8af7a4_9569ce72611b16743caa6c58_72c486c7b439e66271697e37\n"
     ]
    },
    {
     "data": {
      "text/plain": [
       "'num_processed: 78/20845'"
      ]
     },
     "metadata": {},
     "output_type": "display_data"
    },
    {
     "name": "stdout",
     "output_type": "stream",
     "text": [
      "706dd273425e5477c3285a4c_453e7e9149a1c8f1a44f57b1_7a349d764798bfad820fc11b\n"
     ]
    },
    {
     "data": {
      "text/plain": [
       "'num_processed: 79/20845'"
      ]
     },
     "metadata": {},
     "output_type": "display_data"
    },
    {
     "name": "stdout",
     "output_type": "stream",
     "text": [
      "9f9d9aeff8ad0fd07cf0e085_b066268857ba2de39483a0c7_7ea386f9bac11be4c5d8e19a\n"
     ]
    },
    {
     "data": {
      "text/plain": [
       "'num_processed: 80/20845'"
      ]
     },
     "metadata": {},
     "output_type": "display_data"
    },
    {
     "name": "stdout",
     "output_type": "stream",
     "text": [
      "daa6621a5d25477fa5f9754e_972b37fd9e11f93d33773dca_3fe8775b44b3ebc4cdb7b33a\n"
     ]
    },
    {
     "data": {
      "text/plain": [
       "'num_processed: 81/20845'"
      ]
     },
     "metadata": {},
     "output_type": "display_data"
    },
    {
     "name": "stdout",
     "output_type": "stream",
     "text": [
      "c7bff7935edb99c8f476466a_4b56b178200bbac4e434fe87_14766ab54dae87699455698d\n"
     ]
    },
    {
     "data": {
      "text/plain": [
       "'num_processed: 82/20845'"
      ]
     },
     "metadata": {},
     "output_type": "display_data"
    },
    {
     "name": "stdout",
     "output_type": "stream",
     "text": [
      "ed9de4591e992b6fd6046b82_78cc091119604e0640ec4a4f_f14c4024a8ce687d89976543\n"
     ]
    },
    {
     "data": {
      "text/plain": [
       "'num_processed: 83/20845'"
      ]
     },
     "metadata": {},
     "output_type": "display_data"
    },
    {
     "name": "stdout",
     "output_type": "stream",
     "text": [
      "0db04df9d9f729d6b3c5ea0f_c073332499200ea15afe4794_8c3db2db85493c423ef4ab3b\n"
     ]
    },
    {
     "data": {
      "text/plain": [
       "'num_processed: 84/20845'"
      ]
     },
     "metadata": {},
     "output_type": "display_data"
    },
    {
     "name": "stdout",
     "output_type": "stream",
     "text": [
      "aebd86baf8544757e0afdd99_4f9b26b7ac22217ced863902_9b9fec3d4f5def6573182275\n"
     ]
    },
    {
     "data": {
      "text/plain": [
       "'num_processed: 85/20845'"
      ]
     },
     "metadata": {},
     "output_type": "display_data"
    },
    {
     "name": "stdout",
     "output_type": "stream",
     "text": [
      "2ef8afa0d1cd2a830904cd5f_ce74322f9c01af7792219f85_411aba127db2cdef3e6c3097\n"
     ]
    },
    {
     "data": {
      "text/plain": [
       "'num_processed: 86/20845'"
      ]
     },
     "metadata": {},
     "output_type": "display_data"
    },
    {
     "name": "stdout",
     "output_type": "stream",
     "text": [
      "1d9dfce5a484f9ec21c73689_4b2a0f90f413362e4497d2b7_0359583252bbab02279e8ebd\n"
     ]
    },
    {
     "data": {
      "text/plain": [
       "'num_processed: 87/20845'"
      ]
     },
     "metadata": {},
     "output_type": "display_data"
    },
    {
     "name": "stdout",
     "output_type": "stream",
     "text": [
      "618c164fb91e92d8ef5a3070_b7f6093cf02811066c399063_6036b954be8177a257167913\n"
     ]
    },
    {
     "data": {
      "text/plain": [
       "'num_processed: 88/20845'"
      ]
     },
     "metadata": {},
     "output_type": "display_data"
    },
    {
     "name": "stdout",
     "output_type": "stream",
     "text": [
      "58f930a8474f6f1cbd3946f2_ca1034ee7f19ae105e7a6f0f_2715552bde6c83944cdfc5fd\n"
     ]
    },
    {
     "data": {
      "text/plain": [
       "'num_processed: 89/20845'"
      ]
     },
     "metadata": {},
     "output_type": "display_data"
    },
    {
     "name": "stdout",
     "output_type": "stream",
     "text": [
      "f2d12b0c220a4db9c009e8b9_0a5ecf5ad049f95425f89506_190af97ba5c60ab36f0c4396\n"
     ]
    },
    {
     "data": {
      "text/plain": [
       "'num_processed: 90/20845'"
      ]
     },
     "metadata": {},
     "output_type": "display_data"
    },
    {
     "name": "stdout",
     "output_type": "stream",
     "text": [
      "20a0bea31f872cd8454d728e_dc4022d6ba10b4418cf58766_7792a800c14be221876634a3\n"
     ]
    },
    {
     "data": {
      "text/plain": [
       "'num_processed: 91/20845'"
      ]
     },
     "metadata": {},
     "output_type": "display_data"
    },
    {
     "name": "stdout",
     "output_type": "stream",
     "text": [
      "a61a1ad2fa8023b05add24d7_841a4dcf2c4a11b55d097a98_ee09ff58081e1cb9c5a71122\n"
     ]
    },
    {
     "data": {
      "text/plain": [
       "'num_processed: 92/20845'"
      ]
     },
     "metadata": {},
     "output_type": "display_data"
    },
    {
     "name": "stdout",
     "output_type": "stream",
     "text": [
      "b1a88a5b6583f5b1fc392939_5e5a2a3939d226b38b25094e_aeb9d756b6ceda76e8e077b0\n"
     ]
    },
    {
     "data": {
      "text/plain": [
       "'num_processed: 93/20845'"
      ]
     },
     "metadata": {},
     "output_type": "display_data"
    },
    {
     "name": "stdout",
     "output_type": "stream",
     "text": [
      "692984fe5a8eef6693e95f08_f19673c2f6d6378c6c2d8724_79ec5dc7e8992df671fcbf7d\n"
     ]
    },
    {
     "data": {
      "text/plain": [
       "'num_processed: 94/20845'"
      ]
     },
     "metadata": {},
     "output_type": "display_data"
    },
    {
     "name": "stdout",
     "output_type": "stream",
     "text": [
      "b3d9b1aed5cff8ff948cf427_55fbfc9ef340c184feecc807_103b028d790600653344e911\n"
     ]
    },
    {
     "data": {
      "text/plain": [
       "'num_processed: 95/20845'"
      ]
     },
     "metadata": {},
     "output_type": "display_data"
    },
    {
     "name": "stdout",
     "output_type": "stream",
     "text": [
      "f000f634649fb5524a95414f_85a7fed5dc09d9fdda3d5c56_85d2cc648932189baf2db350\n"
     ]
    },
    {
     "data": {
      "text/plain": [
       "'num_processed: 96/20845'"
      ]
     },
     "metadata": {},
     "output_type": "display_data"
    },
    {
     "name": "stdout",
     "output_type": "stream",
     "text": [
      "2fa56bec336404c325878259_a3f84599d80ab9119665dd85_1d53e2354096372a2b18cb95\n"
     ]
    },
    {
     "data": {
      "text/plain": [
       "'num_processed: 97/20845'"
      ]
     },
     "metadata": {},
     "output_type": "display_data"
    },
    {
     "name": "stdout",
     "output_type": "stream",
     "text": [
      "5c237da2dedc24eb5b90f2a7_0525536e1de3cdbf3e3f4dfa_bd27188a601c13ca47fb3539\n"
     ]
    },
    {
     "data": {
      "text/plain": [
       "'num_processed: 98/20845'"
      ]
     },
     "metadata": {},
     "output_type": "display_data"
    },
    {
     "name": "stdout",
     "output_type": "stream",
     "text": [
      "d7730411b868ca44053e009c_69e32f4dda598042ae8c5042_0a946b85f842b1419c033b3b\n"
     ]
    },
    {
     "data": {
      "text/plain": [
       "'num_processed: 99/20845'"
      ]
     },
     "metadata": {},
     "output_type": "display_data"
    },
    {
     "name": "stdout",
     "output_type": "stream",
     "text": [
      "f26fa8a0ad530aa79b4d178d_13582ac1e12bb97670e82767_60fa6aa9e76cec8fb82b9286\n"
     ]
    },
    {
     "data": {
      "text/plain": [
       "'num_processed: 100/20845'"
      ]
     },
     "metadata": {},
     "output_type": "display_data"
    },
    {
     "name": "stdout",
     "output_type": "stream",
     "text": [
      "4a6425e414eac5bfb60c666b_7b79fa9711d3c7e04a4e73b4_1474f34c51b93e9d12776a28\n"
     ]
    },
    {
     "data": {
      "text/plain": [
       "'num_processed: 101/20845'"
      ]
     },
     "metadata": {},
     "output_type": "display_data"
    },
    {
     "name": "stdout",
     "output_type": "stream",
     "text": [
      "ca577462ab0f9ba6fb713102_e9b039af8f720b11d74037b5_e8f8d795c4941f6cf63a2a68\n"
     ]
    },
    {
     "data": {
      "text/plain": [
       "'num_processed: 102/20845'"
      ]
     },
     "metadata": {},
     "output_type": "display_data"
    },
    {
     "name": "stdout",
     "output_type": "stream",
     "text": [
      "58a198fcf9c56c0fcc305b81_bbdc6bd06863df20683a15cb_8d136f4c848b18dc66120c1c\n"
     ]
    },
    {
     "data": {
      "text/plain": [
       "'num_processed: 103/20845'"
      ]
     },
     "metadata": {},
     "output_type": "display_data"
    },
    {
     "name": "stdout",
     "output_type": "stream",
     "text": [
      "2d37327f6f657425bb3e919e_ee9213698d50aa1d3dbf59e8_41248fcc384cca8c4d1ff66a\n"
     ]
    },
    {
     "data": {
      "text/plain": [
       "'num_processed: 104/20845'"
      ]
     },
     "metadata": {},
     "output_type": "display_data"
    },
    {
     "name": "stdout",
     "output_type": "stream",
     "text": [
      "9cea64199752cca062f74eb6_b5924358062c58f538871d7c_7269a41a7238a3b609a3cc80\n"
     ]
    },
    {
     "data": {
      "text/plain": [
       "'num_processed: 105/20845'"
      ]
     },
     "metadata": {},
     "output_type": "display_data"
    },
    {
     "name": "stdout",
     "output_type": "stream",
     "text": [
      "3b4c86d677a14fc357fb94b1_e6b446c87e02a1356587adc6_d1afaaa8f3bc8dff2c40fe1c\n"
     ]
    },
    {
     "data": {
      "text/plain": [
       "'num_processed: 106/20845'"
      ]
     },
     "metadata": {},
     "output_type": "display_data"
    },
    {
     "name": "stdout",
     "output_type": "stream",
     "text": [
      "a74ad3482aa0080265228640_8e9368aa648289830f96ab95_6e2bed64e178f3857cc2e134\n"
     ]
    },
    {
     "data": {
      "text/plain": [
       "'num_processed: 107/20845'"
      ]
     },
     "metadata": {},
     "output_type": "display_data"
    },
    {
     "name": "stdout",
     "output_type": "stream",
     "text": [
      "b7ea7dc7944699ff3f98d8d2_c8f695f406eea688a244f853_c8ab09758ed984d376b786e6\n"
     ]
    },
    {
     "data": {
      "text/plain": [
       "'num_processed: 108/20845'"
      ]
     },
     "metadata": {},
     "output_type": "display_data"
    },
    {
     "name": "stdout",
     "output_type": "stream",
     "text": [
      "165f338822d40c1647f53945_1793f88e1cf22fc103cabba4_4267e85bd4f7066fdc0ca016\n"
     ]
    },
    {
     "data": {
      "text/plain": [
       "'num_processed: 109/20845'"
      ]
     },
     "metadata": {},
     "output_type": "display_data"
    },
    {
     "name": "stdout",
     "output_type": "stream",
     "text": [
      "a13b00063dcf9c44fd3ff842_46fcbf81035dd1d71d5c7f5f_fee915423e143fe6430a7ba9\n"
     ]
    },
    {
     "data": {
      "text/plain": [
       "'num_processed: 110/20845'"
      ]
     },
     "metadata": {},
     "output_type": "display_data"
    },
    {
     "name": "stdout",
     "output_type": "stream",
     "text": [
      "d272dc7ef5b466189af1a830_4c7093b7dd314b58f5753091_fa60fec6c031ca9623f41ba4\n"
     ]
    },
    {
     "data": {
      "text/plain": [
       "'num_processed: 111/20845'"
      ]
     },
     "metadata": {},
     "output_type": "display_data"
    },
    {
     "name": "stdout",
     "output_type": "stream",
     "text": [
      "3a560547928907475edeb85b_45d3bef3d4d9ce62e3ab260d_baa1527b9837bb573b94d382\n"
     ]
    },
    {
     "data": {
      "text/plain": [
       "'num_processed: 112/20845'"
      ]
     },
     "metadata": {},
     "output_type": "display_data"
    },
    {
     "name": "stdout",
     "output_type": "stream",
     "text": [
      "d5d51b04b47e8bd09e9a38db_2f34e9126bc571562b536ab4_566a7ef9b90d688964a2518d\n"
     ]
    },
    {
     "data": {
      "text/plain": [
       "'num_processed: 113/20845'"
      ]
     },
     "metadata": {},
     "output_type": "display_data"
    },
    {
     "name": "stdout",
     "output_type": "stream",
     "text": [
      "6011278ca5665c25be3a9221_01632f9bacda7dad72e99562_e2ba827a05d9fb5c02f30ef2\n"
     ]
    },
    {
     "data": {
      "text/plain": [
       "'num_processed: 114/20845'"
      ]
     },
     "metadata": {},
     "output_type": "display_data"
    },
    {
     "name": "stdout",
     "output_type": "stream",
     "text": [
      "c6250befc4f497e8b6ee2060_2fee555f89faf620d86b1f53_ed90560af506994f6a969098\n"
     ]
    },
    {
     "data": {
      "text/plain": [
       "'num_processed: 115/20845'"
      ]
     },
     "metadata": {},
     "output_type": "display_data"
    },
    {
     "name": "stdout",
     "output_type": "stream",
     "text": [
      "d09f2bdd76ddf83a527e7947_0960f058965d0686e88949a2_ef3ef8e042278fa1c495ae81\n",
      "EROR IN process_axial - PK_SURF_ask_uvboxERROR TRASFORMING!\n",
      "ERROR TRASFORMING!\n",
      "ERROR TRASFORMING!\n",
      "ERROR TRASFORMING!\n",
      "ERROR TRASFORMING!\n",
      "ERROR TRASFORMING!\n"
     ]
    },
    {
     "data": {
      "text/plain": [
       "'num_processed: 116/20845'"
      ]
     },
     "metadata": {},
     "output_type": "display_data"
    },
    {
     "name": "stdout",
     "output_type": "stream",
     "text": [
      "e430562bc4538e070e670eab_032dfa22bb8c0ea59ad87de3_dfbf64e56a44514b3b8fc523\n"
     ]
    },
    {
     "data": {
      "text/plain": [
       "'num_processed: 117/20845'"
      ]
     },
     "metadata": {},
     "output_type": "display_data"
    },
    {
     "name": "stdout",
     "output_type": "stream",
     "text": [
      "702d7e4573d3aa76884e52eb_11cde19a5b4b7d1b4740f3c1_87771a30276902b3219d1fad\n"
     ]
    },
    {
     "data": {
      "text/plain": [
       "'num_processed: 118/20845'"
      ]
     },
     "metadata": {},
     "output_type": "display_data"
    },
    {
     "name": "stdout",
     "output_type": "stream",
     "text": [
      "ebdeb57213d996e1f9240988_7b06918f37fd045641878221_7a52cd542026e96e950233d6\n"
     ]
    },
    {
     "data": {
      "text/plain": [
       "'num_processed: 119/20845'"
      ]
     },
     "metadata": {},
     "output_type": "display_data"
    },
    {
     "name": "stdout",
     "output_type": "stream",
     "text": [
      "744d6ba32c72ebf4226fe9f5_d8bf2240b359534e135120c2_cb5a54aa735a9c591cf00045\n",
      "ERROR TRASFORMING!\n"
     ]
    },
    {
     "data": {
      "text/plain": [
       "'num_processed: 120/20845'"
      ]
     },
     "metadata": {},
     "output_type": "display_data"
    },
    {
     "name": "stdout",
     "output_type": "stream",
     "text": [
      "26c899c5f4840f217629c491_54e17a9d02b5a0bf1d18e116_6369056ad36aaac0af60e515\n"
     ]
    },
    {
     "data": {
      "text/plain": [
       "'num_processed: 121/20845'"
      ]
     },
     "metadata": {},
     "output_type": "display_data"
    },
    {
     "name": "stdout",
     "output_type": "stream",
     "text": [
      "d2e6a99c270e0b4097bb48cf_22ba08e5cef8a8de294e4014_0860d359fb8983611020040c\n"
     ]
    },
    {
     "data": {
      "text/plain": [
       "'num_processed: 122/20845'"
      ]
     },
     "metadata": {},
     "output_type": "display_data"
    },
    {
     "name": "stdout",
     "output_type": "stream",
     "text": [
      "9800989e4142e50be5fb9c2a_ad541dc3ec6a5e09ca38d472_2862fbdcb6ea39d674f816a5\n"
     ]
    },
    {
     "data": {
      "text/plain": [
       "'num_processed: 123/20845'"
      ]
     },
     "metadata": {},
     "output_type": "display_data"
    },
    {
     "name": "stdout",
     "output_type": "stream",
     "text": [
      "0da9834286d6ebbceb8cc5b7_a5cb2354b60c2a9ff23fc420_754e295fa6e22a5dfdbaf124\n"
     ]
    },
    {
     "data": {
      "text/plain": [
       "'num_processed: 124/20845'"
      ]
     },
     "metadata": {},
     "output_type": "display_data"
    },
    {
     "name": "stdout",
     "output_type": "stream",
     "text": [
      "c753f0733439560a9f0e2796_19828b221d16c755be670e6f_7af8ed7a552a1efb7de4bcbf\n",
      "ERROR TRASFORMING!\n"
     ]
    },
    {
     "data": {
      "text/plain": [
       "'num_processed: 125/20845'"
      ]
     },
     "metadata": {},
     "output_type": "display_data"
    },
    {
     "name": "stdout",
     "output_type": "stream",
     "text": [
      "5c1fc87f779af1507b0ca53d_cf35fa1c860e88af04b1d2f5_68d2056713e70e04f6cd016e\n",
      "EROR IN process_axial - PK_SURF_ask_uvboxERROR TRASFORMING!\n"
     ]
    },
    {
     "data": {
      "text/plain": [
       "'num_processed: 126/20845'"
      ]
     },
     "metadata": {},
     "output_type": "display_data"
    },
    {
     "name": "stdout",
     "output_type": "stream",
     "text": [
      "bd80ffc5cb77ee61af44838f_75bf7213e6ac3f9d5b880e86_75d4629900ce0e9a10d68bc3\n"
     ]
    },
    {
     "data": {
      "text/plain": [
       "'num_processed: 127/20845'"
      ]
     },
     "metadata": {},
     "output_type": "display_data"
    },
    {
     "name": "stdout",
     "output_type": "stream",
     "text": [
      "fd59650ae61f75cd9723f242_5d158447b55ab8f0b6643498_d1e44f0da81e9a78daad8344\n",
      "EROR IN process_axial - PK_SURF_ask_uvboxERROR TRASFORMING!\n"
     ]
    },
    {
     "data": {
      "text/plain": [
       "'num_processed: 128/20845'"
      ]
     },
     "metadata": {},
     "output_type": "display_data"
    },
    {
     "name": "stdout",
     "output_type": "stream",
     "text": [
      "94a6d6fdda6d79131b7f6cf5_64b7a98b89557c22f8baa67f_20e18305532129ee8f2d4185\n"
     ]
    },
    {
     "data": {
      "text/plain": [
       "'num_processed: 129/20845'"
      ]
     },
     "metadata": {},
     "output_type": "display_data"
    },
    {
     "name": "stdout",
     "output_type": "stream",
     "text": [
      "d6f05bc808a64c76cb275b41_cb6bd132768cd4a2de7f6daa_837d947914cc434fc8ce54eb\n"
     ]
    },
    {
     "data": {
      "text/plain": [
       "'num_processed: 130/20845'"
      ]
     },
     "metadata": {},
     "output_type": "display_data"
    },
    {
     "name": "stdout",
     "output_type": "stream",
     "text": [
      "bc9eecda96f6f5de32e17e2d_9e7cae761db7b91c36ad8cea_db863230b4f5330ea6dcab48\n"
     ]
    },
    {
     "data": {
      "text/plain": [
       "'num_processed: 131/20845'"
      ]
     },
     "metadata": {},
     "output_type": "display_data"
    },
    {
     "name": "stdout",
     "output_type": "stream",
     "text": [
      "25810b6ce462551758ee0299_66b253044fc0ad1377599441_206236ec9de777f3e47163a0\n"
     ]
    },
    {
     "data": {
      "text/plain": [
       "'num_processed: 132/20845'"
      ]
     },
     "metadata": {},
     "output_type": "display_data"
    },
    {
     "name": "stdout",
     "output_type": "stream",
     "text": [
      "f4352b73c77df450e52496d8_25e55bd02dd5f821818dfa58_57c8f62ce3956f8182f531ec\n"
     ]
    },
    {
     "data": {
      "text/plain": [
       "'num_processed: 133/20845'"
      ]
     },
     "metadata": {},
     "output_type": "display_data"
    },
    {
     "name": "stdout",
     "output_type": "stream",
     "text": [
      "b4f61a642e60841752b024c7_23d359dbfffe78bfa3974709_191cafe1856ef3f55e70faf1\n"
     ]
    },
    {
     "data": {
      "text/plain": [
       "'num_processed: 134/20845'"
      ]
     },
     "metadata": {},
     "output_type": "display_data"
    },
    {
     "name": "stdout",
     "output_type": "stream",
     "text": [
      "424fe553afa789d91041a448_66d6b65cc3bb4bb30aee02a2_ed107733278900588b82c77e\n"
     ]
    },
    {
     "data": {
      "text/plain": [
       "'num_processed: 135/20845'"
      ]
     },
     "metadata": {},
     "output_type": "display_data"
    },
    {
     "name": "stdout",
     "output_type": "stream",
     "text": [
      "5901213951bde511117b694b_d1664f17e316c084578e2b93_dab1bde16a11d6e992bce296\n"
     ]
    },
    {
     "data": {
      "text/plain": [
       "'num_processed: 136/20845'"
      ]
     },
     "metadata": {},
     "output_type": "display_data"
    },
    {
     "name": "stdout",
     "output_type": "stream",
     "text": [
      "6c9aeb4728f725e92e08d68a_84dd4bb9ed7988c0b3e97d7e_eeb113bf57fa8cd91cde4cfb\n"
     ]
    },
    {
     "data": {
      "text/plain": [
       "'num_processed: 137/20845'"
      ]
     },
     "metadata": {},
     "output_type": "display_data"
    },
    {
     "name": "stdout",
     "output_type": "stream",
     "text": [
      "b35dc3e6aa3195db018ac526_6c44d4c207b770bea591fe93_92a23118bd2303e24c6295ba\n"
     ]
    },
    {
     "data": {
      "text/plain": [
       "'num_processed: 138/20845'"
      ]
     },
     "metadata": {},
     "output_type": "display_data"
    },
    {
     "name": "stdout",
     "output_type": "stream",
     "text": [
      "1ce284d167c1052e6574eea8_c40b8e3a1f43726d90a5d7a4_3737ff809660e47f399e9638\n"
     ]
    },
    {
     "data": {
      "text/plain": [
       "'num_processed: 139/20845'"
      ]
     },
     "metadata": {},
     "output_type": "display_data"
    },
    {
     "name": "stdout",
     "output_type": "stream",
     "text": [
      "1fcec8c5e49b1f9c84faa3c9_30f333a7dc662cd5ad715a2b_92948891892178a799b8ff19\n"
     ]
    },
    {
     "data": {
      "text/plain": [
       "'num_processed: 140/20845'"
      ]
     },
     "metadata": {},
     "output_type": "display_data"
    },
    {
     "name": "stdout",
     "output_type": "stream",
     "text": [
      "58001d7757654c10f69d2bd1_2d68c6b991e74b0916b6b684_1e722cb30c95d149cedf1842\n"
     ]
    },
    {
     "data": {
      "text/plain": [
       "'num_processed: 141/20845'"
      ]
     },
     "metadata": {},
     "output_type": "display_data"
    },
    {
     "name": "stdout",
     "output_type": "stream",
     "text": [
      "9729f86e8fadc15857e0be30_936712537de37131fc133dbd_59162628a6beccb604b20291\n",
      "ERROR TRASFORMING!\n"
     ]
    },
    {
     "data": {
      "text/plain": [
       "'num_processed: 142/20845'"
      ]
     },
     "metadata": {},
     "output_type": "display_data"
    },
    {
     "name": "stdout",
     "output_type": "stream",
     "text": [
      "53516a2aeaf1d7c96fdb811a_a3b231da65ee1d603d820d87_2cc1b5aa76ed17630905150b\n"
     ]
    },
    {
     "data": {
      "text/plain": [
       "'num_processed: 143/20845'"
      ]
     },
     "metadata": {},
     "output_type": "display_data"
    },
    {
     "name": "stdout",
     "output_type": "stream",
     "text": [
      "e09b0e39c810c9f0aaec912c_6ea79fa9e10bebbf793f4654_8ef4ad05f5074889279e0c78\n"
     ]
    },
    {
     "data": {
      "text/plain": [
       "'num_processed: 144/20845'"
      ]
     },
     "metadata": {},
     "output_type": "display_data"
    },
    {
     "name": "stdout",
     "output_type": "stream",
     "text": [
      "428d89eb04670c0d14cd28ec_56e74e1919472d64cd7351b8_80e84e0800a44a177928cb84\n"
     ]
    },
    {
     "data": {
      "text/plain": [
       "'num_processed: 145/20845'"
      ]
     },
     "metadata": {},
     "output_type": "display_data"
    },
    {
     "name": "stdout",
     "output_type": "stream",
     "text": [
      "9c15b8b6ef9059e6191b8b3f_4756154803f846ee34383e1a_ece86894d8bde47728724ae7\n"
     ]
    },
    {
     "data": {
      "text/plain": [
       "'num_processed: 146/20845'"
      ]
     },
     "metadata": {},
     "output_type": "display_data"
    },
    {
     "name": "stdout",
     "output_type": "stream",
     "text": [
      "ce7b0d8edb40b37049dbdf31_c8fbc53fe2163468cf530327_c966a16404b5737845b1a19d\n"
     ]
    },
    {
     "data": {
      "text/plain": [
       "'num_processed: 147/20845'"
      ]
     },
     "metadata": {},
     "output_type": "display_data"
    },
    {
     "name": "stdout",
     "output_type": "stream",
     "text": [
      "93c0cdcd2ab32d2d8b1d101d_2690e3fff40b2b44f9c617b7_9d29742f93cc5445a517da75\n"
     ]
    },
    {
     "data": {
      "text/plain": [
       "'num_processed: 148/20845'"
      ]
     },
     "metadata": {},
     "output_type": "display_data"
    },
    {
     "name": "stdout",
     "output_type": "stream",
     "text": [
      "61fee3c0e4deb8f698693c3b_9e4e8571bff69a8196bbf564_03620575f3ca277d42d6b109\n"
     ]
    },
    {
     "data": {
      "text/plain": [
       "'num_processed: 149/20845'"
      ]
     },
     "metadata": {},
     "output_type": "display_data"
    },
    {
     "name": "stdout",
     "output_type": "stream",
     "text": [
      "018397bfc1c56570ae464634_cee0ff40d2fb9f74f8b3dbf9_905bb58542f3b2f3299d1899\n"
     ]
    },
    {
     "data": {
      "text/plain": [
       "'num_processed: 150/20845'"
      ]
     },
     "metadata": {},
     "output_type": "display_data"
    },
    {
     "name": "stdout",
     "output_type": "stream",
     "text": [
      "cad4ce0b27d09d290789b3d1_6951cad73b971635087b1780_ac5c62c19f27e7e2866ca934\n"
     ]
    },
    {
     "data": {
      "text/plain": [
       "'num_processed: 151/20845'"
      ]
     },
     "metadata": {},
     "output_type": "display_data"
    },
    {
     "name": "stdout",
     "output_type": "stream",
     "text": [
      "9371a4a454d3948337facce1_6af8f99277be1bd98541e3fe_c45ce0bf871212ad27b981f2\n"
     ]
    },
    {
     "data": {
      "text/plain": [
       "'num_processed: 152/20845'"
      ]
     },
     "metadata": {},
     "output_type": "display_data"
    },
    {
     "name": "stdout",
     "output_type": "stream",
     "text": [
      "f9e92770175b734938ee2011_db5b44d3b7fb301e2cb8292c_d961e9d0fbf149eda7eec5b5\n"
     ]
    },
    {
     "data": {
      "text/plain": [
       "'num_processed: 153/20845'"
      ]
     },
     "metadata": {},
     "output_type": "display_data"
    },
    {
     "name": "stdout",
     "output_type": "stream",
     "text": [
      "72e465b52f28f07a90e62c3c_8063357ccbb08c7e6240fe4d_c43ab2060fbdec78e5d17157\n"
     ]
    },
    {
     "data": {
      "text/plain": [
       "'num_processed: 154/20845'"
      ]
     },
     "metadata": {},
     "output_type": "display_data"
    },
    {
     "name": "stdout",
     "output_type": "stream",
     "text": [
      "addd6917b904e956fd9345b1_8d300445c89c3bf6441d0fa4_e26d36cdb45d694dcda3dd34\n"
     ]
    },
    {
     "data": {
      "text/plain": [
       "'num_processed: 155/20845'"
      ]
     },
     "metadata": {},
     "output_type": "display_data"
    },
    {
     "name": "stdout",
     "output_type": "stream",
     "text": [
      "6feaccfd95e967b55f910354_ca61773e99e5a860f371d466_e18eba05f9755f3e2e2fd179\n"
     ]
    },
    {
     "data": {
      "text/plain": [
       "'num_processed: 156/20845'"
      ]
     },
     "metadata": {},
     "output_type": "display_data"
    },
    {
     "name": "stdout",
     "output_type": "stream",
     "text": [
      "80d826e5408ababa3aeaada7_f3eaf10290332012e4d9f114_2db2f947d562047fc592e55f\n"
     ]
    },
    {
     "data": {
      "text/plain": [
       "'num_processed: 157/20845'"
      ]
     },
     "metadata": {},
     "output_type": "display_data"
    },
    {
     "name": "stdout",
     "output_type": "stream",
     "text": [
      "343027059554ccf1d886a6bd_e7d201d7fb193e53350ab827_a19e89c49ed1bcef7ee7c3f6\n"
     ]
    },
    {
     "data": {
      "text/plain": [
       "'num_processed: 158/20845'"
      ]
     },
     "metadata": {},
     "output_type": "display_data"
    },
    {
     "name": "stdout",
     "output_type": "stream",
     "text": [
      "a9212aca217d15544cb349cd_981b25047df6bf3f8c6a64db_81367870184c3b497790a002\n"
     ]
    },
    {
     "data": {
      "text/plain": [
       "'num_processed: 159/20845'"
      ]
     },
     "metadata": {},
     "output_type": "display_data"
    },
    {
     "name": "stdout",
     "output_type": "stream",
     "text": [
      "8d2cda04ced2c8ed99ab35cb_3df665b78f1a783d98a4d26a_b1a161f96e77336ea40ece2a\n"
     ]
    },
    {
     "data": {
      "text/plain": [
       "'num_processed: 160/20845'"
      ]
     },
     "metadata": {},
     "output_type": "display_data"
    },
    {
     "name": "stdout",
     "output_type": "stream",
     "text": [
      "9b61db3db175f10079bd1246_5457242efa52e9b30b838196_4c542894d4ede0ca6e19d15b\n",
      "ERROR TRASFORMING!\n",
      "ERROR TRASFORMING!\n",
      "ERROR TRASFORMING!\n"
     ]
    },
    {
     "data": {
      "text/plain": [
       "'num_processed: 161/20845'"
      ]
     },
     "metadata": {},
     "output_type": "display_data"
    },
    {
     "name": "stdout",
     "output_type": "stream",
     "text": [
      "4fc73cbe6858302b8fd181b5_388134d919dac594f29d3eab_1a80ca12dd32bcadd33e7d86\n"
     ]
    },
    {
     "data": {
      "text/plain": [
       "'num_processed: 162/20845'"
      ]
     },
     "metadata": {},
     "output_type": "display_data"
    },
    {
     "name": "stdout",
     "output_type": "stream",
     "text": [
      "3c7d80ec5b2d4bf23e2a0ca0_d3df135e831d6d10e5ab8cca_a175718f712689917c945957\n"
     ]
    },
    {
     "data": {
      "text/plain": [
       "'num_processed: 163/20845'"
      ]
     },
     "metadata": {},
     "output_type": "display_data"
    },
    {
     "name": "stdout",
     "output_type": "stream",
     "text": [
      "b51e83bdf0cd0ac25171b0d5_a07876f6fe563345f86de402_0a98ea3a3a5eec95bb251d56\n"
     ]
    },
    {
     "data": {
      "text/plain": [
       "'num_processed: 164/20845'"
      ]
     },
     "metadata": {},
     "output_type": "display_data"
    },
    {
     "name": "stdout",
     "output_type": "stream",
     "text": [
      "d0faaf4029f74906e747427d_98b7ada0f56a710c2a127d5b_08505f6560d198b794590100\n"
     ]
    },
    {
     "data": {
      "text/plain": [
       "'num_processed: 165/20845'"
      ]
     },
     "metadata": {},
     "output_type": "display_data"
    },
    {
     "name": "stdout",
     "output_type": "stream",
     "text": [
      "0e10c1a2862c1605b0dc4422_82542c223519368b3fc4ec0b_f44c0d3224654917875b0120\n"
     ]
    },
    {
     "data": {
      "text/plain": [
       "'num_processed: 166/20845'"
      ]
     },
     "metadata": {},
     "output_type": "display_data"
    },
    {
     "name": "stdout",
     "output_type": "stream",
     "text": [
      "6415c95bb9c50b0f42a1270b_071e257f779b96b6663ae61a_a756cbada2bf239500f2c3a9\n"
     ]
    },
    {
     "data": {
      "text/plain": [
       "'num_processed: 167/20845'"
      ]
     },
     "metadata": {},
     "output_type": "display_data"
    },
    {
     "name": "stdout",
     "output_type": "stream",
     "text": [
      "d163357039c24887864f55a4_cc82f5876bab96e9e3e199e9_bc2ea60af094f011a5de9279\n"
     ]
    },
    {
     "data": {
      "text/plain": [
       "'num_processed: 168/20845'"
      ]
     },
     "metadata": {},
     "output_type": "display_data"
    },
    {
     "name": "stdout",
     "output_type": "stream",
     "text": [
      "ff5546abe1a49ab5c3a5e210_4d5e8615f3623c813c0d1519_66cca9ccb5644238bb245427\n"
     ]
    },
    {
     "data": {
      "text/plain": [
       "'num_processed: 169/20845'"
      ]
     },
     "metadata": {},
     "output_type": "display_data"
    },
    {
     "name": "stdout",
     "output_type": "stream",
     "text": [
      "f8cb1afc7afcbe509e52ae53_8d2886c9ec553256244466ba_ee77efe132291706ae16f2b0\n"
     ]
    },
    {
     "data": {
      "text/plain": [
       "'num_processed: 170/20845'"
      ]
     },
     "metadata": {},
     "output_type": "display_data"
    },
    {
     "name": "stdout",
     "output_type": "stream",
     "text": [
      "2416ca7af1676715272085fb_22d40f0e22f50f192185da18_017555b412575d28bf055bbd\n"
     ]
    },
    {
     "data": {
      "text/plain": [
       "'num_processed: 171/20845'"
      ]
     },
     "metadata": {},
     "output_type": "display_data"
    },
    {
     "name": "stdout",
     "output_type": "stream",
     "text": [
      "58df02271a7a290f81e374e9_e097abaec752df91a1655bf3_387db8bcf8979af6b0e8cac6\n"
     ]
    },
    {
     "data": {
      "text/plain": [
       "'num_processed: 172/20845'"
      ]
     },
     "metadata": {},
     "output_type": "display_data"
    },
    {
     "name": "stdout",
     "output_type": "stream",
     "text": [
      "b5ba288feb2350bbc3126b13_acf8b026debdcbc87209530c_bd46ec8ff47f1eae992fe87b\n"
     ]
    },
    {
     "data": {
      "text/plain": [
       "'num_processed: 173/20845'"
      ]
     },
     "metadata": {},
     "output_type": "display_data"
    },
    {
     "name": "stdout",
     "output_type": "stream",
     "text": [
      "666d04560d590f40899b0213_4e89c7d8a80fd9f006a83743_62e5a9b4c35245c387a4cc03\n"
     ]
    },
    {
     "data": {
      "text/plain": [
       "'num_processed: 174/20845'"
      ]
     },
     "metadata": {},
     "output_type": "display_data"
    },
    {
     "name": "stdout",
     "output_type": "stream",
     "text": [
      "bd5bb39f3762ab2dfe56d814_f6955817d29c8fb33a0836ad_d2fbff27752dc225bff5bfa2\n"
     ]
    },
    {
     "data": {
      "text/plain": [
       "'num_processed: 175/20845'"
      ]
     },
     "metadata": {},
     "output_type": "display_data"
    },
    {
     "name": "stdout",
     "output_type": "stream",
     "text": [
      "5825b0ee961f70108c563442_68ce130d8099c3f7d0d1a404_75ca39c3a75bcf0fd302a058\n"
     ]
    },
    {
     "data": {
      "text/plain": [
       "'num_processed: 176/20845'"
      ]
     },
     "metadata": {},
     "output_type": "display_data"
    },
    {
     "name": "stdout",
     "output_type": "stream",
     "text": [
      "a65eff4dd0d28f95a93b9f08_4cee62bd9cea219da868e723_fc829a60e2c25ad677dc2fda\n"
     ]
    },
    {
     "data": {
      "text/plain": [
       "'num_processed: 177/20845'"
      ]
     },
     "metadata": {},
     "output_type": "display_data"
    },
    {
     "name": "stdout",
     "output_type": "stream",
     "text": [
      "d939ed372e8caf0727f0e305_861d8fcc2d1c318f00f944ce_ad6eb7e17d9a1d6ad6549405\n"
     ]
    },
    {
     "data": {
      "text/plain": [
       "'num_processed: 178/20845'"
      ]
     },
     "metadata": {},
     "output_type": "display_data"
    },
    {
     "name": "stdout",
     "output_type": "stream",
     "text": [
      "606a34c3ae6c15f66927c70c_d51a9d7f048ae0e6dd2fd019_58acb7145b75d3d8d1937568\n"
     ]
    },
    {
     "data": {
      "text/plain": [
       "'num_processed: 179/20845'"
      ]
     },
     "metadata": {},
     "output_type": "display_data"
    },
    {
     "name": "stdout",
     "output_type": "stream",
     "text": [
      "818e354f20b134e1b6ed549b_22074b0456ee7b7fe9f5a5ae_c7cc2107dabf03f4a7ddbcea\n"
     ]
    },
    {
     "data": {
      "text/plain": [
       "'num_processed: 180/20845'"
      ]
     },
     "metadata": {},
     "output_type": "display_data"
    },
    {
     "name": "stdout",
     "output_type": "stream",
     "text": [
      "eb3cf51864d93d7ba103f600_5d77cd2074fce4ba12fbe28b_fe04856b13612612cc3a00cd\n"
     ]
    },
    {
     "data": {
      "text/plain": [
       "'num_processed: 181/20845'"
      ]
     },
     "metadata": {},
     "output_type": "display_data"
    },
    {
     "name": "stdout",
     "output_type": "stream",
     "text": [
      "b3b63b8ab637e3111a72fbd0_8d84436335d511c2870069a2_92b7823a0c996c87e7343af1\n"
     ]
    },
    {
     "data": {
      "text/plain": [
       "'num_processed: 182/20845'"
      ]
     },
     "metadata": {},
     "output_type": "display_data"
    },
    {
     "name": "stdout",
     "output_type": "stream",
     "text": [
      "1ff3644c28ebb5b2a0d9ace4_336dc3713a42e85d2bb40e98_331e121b8948bc38a7a116ac\n"
     ]
    },
    {
     "data": {
      "text/plain": [
       "'num_processed: 183/20845'"
      ]
     },
     "metadata": {},
     "output_type": "display_data"
    },
    {
     "name": "stdout",
     "output_type": "stream",
     "text": [
      "5ca762317ab41a763707a360_5021aecfc39e38cd9dfa60fa_7bace21daa71a2c25259528a\n"
     ]
    },
    {
     "data": {
      "text/plain": [
       "'num_processed: 184/20845'"
      ]
     },
     "metadata": {},
     "output_type": "display_data"
    },
    {
     "name": "stdout",
     "output_type": "stream",
     "text": [
      "e989a63db0f0fc3499378fb4_c2b2f255365159721c1a0a45_ca241d85f3b712f30e989420\n"
     ]
    },
    {
     "data": {
      "text/plain": [
       "'num_processed: 185/20845'"
      ]
     },
     "metadata": {},
     "output_type": "display_data"
    },
    {
     "name": "stdout",
     "output_type": "stream",
     "text": [
      "a1e732c617b51e92af2f6de6_8d2b4ee562c5372c08b71563_e2c5709454c70d4c3f3def38\n"
     ]
    },
    {
     "data": {
      "text/plain": [
       "'num_processed: 186/20845'"
      ]
     },
     "metadata": {},
     "output_type": "display_data"
    },
    {
     "name": "stdout",
     "output_type": "stream",
     "text": [
      "0412043b2f6e1c6dbdbaf92e_8deb38a2cd824c05e5b5909a_be4075a7deaf4dc12bec7dd1\n"
     ]
    },
    {
     "data": {
      "text/plain": [
       "'num_processed: 187/20845'"
      ]
     },
     "metadata": {},
     "output_type": "display_data"
    },
    {
     "name": "stdout",
     "output_type": "stream",
     "text": [
      "480460691f90d2a9824d5408_98f46464c9cd12ec6ca926ac_ed9cdd0bd90105ec438ba933\n"
     ]
    },
    {
     "data": {
      "text/plain": [
       "'num_processed: 188/20845'"
      ]
     },
     "metadata": {},
     "output_type": "display_data"
    },
    {
     "name": "stdout",
     "output_type": "stream",
     "text": [
      "2c14db08dd2aca856555a19c_3a04952606fb545477e8ebc1_b327fd54cfa81df8e55cb158\n"
     ]
    },
    {
     "data": {
      "text/plain": [
       "'num_processed: 189/20845'"
      ]
     },
     "metadata": {},
     "output_type": "display_data"
    },
    {
     "name": "stdout",
     "output_type": "stream",
     "text": [
      "d83babfed1e1d86560d54b23_d52a17658eaf9e55379ff080_830b87ed34fb7f15540c1e45\n"
     ]
    },
    {
     "data": {
      "text/plain": [
       "'num_processed: 190/20845'"
      ]
     },
     "metadata": {},
     "output_type": "display_data"
    },
    {
     "name": "stdout",
     "output_type": "stream",
     "text": [
      "24001232512f1c4e0110b84d_3a741bb57a35c703f5d4e597_41a205568c83ef477b0d4990\n"
     ]
    },
    {
     "data": {
      "text/plain": [
       "'num_processed: 191/20845'"
      ]
     },
     "metadata": {},
     "output_type": "display_data"
    },
    {
     "name": "stdout",
     "output_type": "stream",
     "text": [
      "3b2917012a896356c4b3ac28_c10b8f77f83ee08a9e6534f9_94eb86d02e3b42f3f8b4228b\n"
     ]
    },
    {
     "data": {
      "text/plain": [
       "'num_processed: 192/20845'"
      ]
     },
     "metadata": {},
     "output_type": "display_data"
    },
    {
     "name": "stdout",
     "output_type": "stream",
     "text": [
      "7e23a8c32c2b57026da2c688_7aa37bb246cbb166b49d5d01_e81fe40580b73b85ea18a9a1\n"
     ]
    },
    {
     "data": {
      "text/plain": [
       "'num_processed: 193/20845'"
      ]
     },
     "metadata": {},
     "output_type": "display_data"
    },
    {
     "name": "stdout",
     "output_type": "stream",
     "text": [
      "58ecd26ddaccaf0fc4348c40_a377d36221cf70c6de1444c7_e9e1f185e04ea270ad7907e8\n"
     ]
    },
    {
     "data": {
      "text/plain": [
       "'num_processed: 194/20845'"
      ]
     },
     "metadata": {},
     "output_type": "display_data"
    },
    {
     "name": "stdout",
     "output_type": "stream",
     "text": [
      "a6957a3e7c85cb75920a710f_fbc76604a5977090a5b06c60_571ab6cec45505010f446c74\n"
     ]
    },
    {
     "data": {
      "text/plain": [
       "'num_processed: 195/20845'"
      ]
     },
     "metadata": {},
     "output_type": "display_data"
    },
    {
     "name": "stdout",
     "output_type": "stream",
     "text": [
      "bc1c76ba54a6d51982ed1fca_8484e033eb80335dbd5dc4e3_9eb7a064c2ce368e1dc94a99\n"
     ]
    },
    {
     "data": {
      "text/plain": [
       "'num_processed: 196/20845'"
      ]
     },
     "metadata": {},
     "output_type": "display_data"
    },
    {
     "name": "stdout",
     "output_type": "stream",
     "text": [
      "0ccdc7c6f7c8e757320605a5_c5e3bd6ee3ce03b5e5532252_de55a07f139878467b6eb67c\n"
     ]
    },
    {
     "data": {
      "text/plain": [
       "'num_processed: 197/20845'"
      ]
     },
     "metadata": {},
     "output_type": "display_data"
    },
    {
     "name": "stdout",
     "output_type": "stream",
     "text": [
      "588c9f413a9b830fc6a1b550_ca80dffb1ded42e3910bdb8b_8e6972a1c88571232877350d\n"
     ]
    },
    {
     "data": {
      "text/plain": [
       "'num_processed: 198/20845'"
      ]
     },
     "metadata": {},
     "output_type": "display_data"
    },
    {
     "name": "stdout",
     "output_type": "stream",
     "text": [
      "2a3d78390e516b886296bac2_08fd4a9251e2221ef45ca60c_9e36ba70f42d425cd1ba052b\n"
     ]
    },
    {
     "data": {
      "text/plain": [
       "'num_processed: 199/20845'"
      ]
     },
     "metadata": {},
     "output_type": "display_data"
    },
    {
     "name": "stdout",
     "output_type": "stream",
     "text": [
      "a610e77360b8d88cb59e00dc_d5eba4aa250ccb2c922a606a_1fdc351a7f1e72ff60af8513\n"
     ]
    },
    {
     "data": {
      "text/plain": [
       "'num_processed: 200/20845'"
      ]
     },
     "metadata": {},
     "output_type": "display_data"
    },
    {
     "name": "stdout",
     "output_type": "stream",
     "text": [
      "39a3b4713be341ea70cbe00b_bd53bd3b0c8f9d74db4814fd_2e7837322a6e2ef93cf7a4a9\n"
     ]
    },
    {
     "data": {
      "text/plain": [
       "'num_processed: 201/20845'"
      ]
     },
     "metadata": {},
     "output_type": "display_data"
    },
    {
     "name": "stdout",
     "output_type": "stream",
     "text": [
      "3ee75a58c8ef1c51c7e65508_0b02f94894cdbfe0d446231a_18a9b4d042ab6b6b587ea172\n"
     ]
    },
    {
     "data": {
      "text/plain": [
       "'num_processed: 202/20845'"
      ]
     },
     "metadata": {},
     "output_type": "display_data"
    },
    {
     "name": "stdout",
     "output_type": "stream",
     "text": [
      "e7debbc8b4a1cf1d5f9173d7_2a740e28fb052f4e1f1aa24e_b73b77be60714773626b06e5\n"
     ]
    },
    {
     "data": {
      "text/plain": [
       "'num_processed: 203/20845'"
      ]
     },
     "metadata": {},
     "output_type": "display_data"
    },
    {
     "name": "stdout",
     "output_type": "stream",
     "text": [
      "c5db87dac3f696c3431a0820_1e5c158b6cdaa7661643a59b_2694bb9bc051c78f5b243938\n"
     ]
    },
    {
     "data": {
      "text/plain": [
       "'num_processed: 204/20845'"
      ]
     },
     "metadata": {},
     "output_type": "display_data"
    },
    {
     "name": "stdout",
     "output_type": "stream",
     "text": [
      "e504148d5030b9098a23582a_4deac53a067ea351f63ab478_a541855fbecfc9c9c9996dab\n"
     ]
    },
    {
     "data": {
      "text/plain": [
       "'num_processed: 205/20845'"
      ]
     },
     "metadata": {},
     "output_type": "display_data"
    },
    {
     "name": "stdout",
     "output_type": "stream",
     "text": [
      "1d909eab9ef7a5504339de0c_eafeaa9f11b8a47d65443f2d_1a70be5805428fb58107d277\n"
     ]
    },
    {
     "data": {
      "text/plain": [
       "'num_processed: 206/20845'"
      ]
     },
     "metadata": {},
     "output_type": "display_data"
    },
    {
     "name": "stdout",
     "output_type": "stream",
     "text": [
      "e82f5ff3c4629434f63a65ee_253f1a275f68f7114c7acb05_1cae7b1c4020977e254e02f6\n"
     ]
    },
    {
     "data": {
      "text/plain": [
       "'num_processed: 207/20845'"
      ]
     },
     "metadata": {},
     "output_type": "display_data"
    },
    {
     "name": "stdout",
     "output_type": "stream",
     "text": [
      "85e09d89ded98d952d8f1f4d_038924eb62f32148ec8908ec_36f2d1363918f112a7775b45\n"
     ]
    },
    {
     "data": {
      "text/plain": [
       "'num_processed: 208/20845'"
      ]
     },
     "metadata": {},
     "output_type": "display_data"
    },
    {
     "name": "stdout",
     "output_type": "stream",
     "text": [
      "638be98d95d4d628edcd1adc_bb48120f91380170ea0a1c95_f1d7999e27e42af4db753384\n"
     ]
    },
    {
     "data": {
      "text/plain": [
       "'num_processed: 209/20845'"
      ]
     },
     "metadata": {},
     "output_type": "display_data"
    },
    {
     "name": "stdout",
     "output_type": "stream",
     "text": [
      "440c87a2a790bd590d36b0e9_f931b1ff268119f5b9518e3e_2851760fce3d3b54d28c24dd\n"
     ]
    },
    {
     "data": {
      "text/plain": [
       "'num_processed: 210/20845'"
      ]
     },
     "metadata": {},
     "output_type": "display_data"
    },
    {
     "name": "stdout",
     "output_type": "stream",
     "text": [
      "715ae32819b3644ca2091e4a_433dfd760ce621f5aa87548a_c9251aa22422d4a7e2a0dc15\n",
      "ERROR TRASFORMING!\n",
      "ERROR TRASFORMING!\n"
     ]
    },
    {
     "data": {
      "text/plain": [
       "'num_processed: 211/20845'"
      ]
     },
     "metadata": {},
     "output_type": "display_data"
    },
    {
     "name": "stdout",
     "output_type": "stream",
     "text": [
      "4e02c8053fca646a1523cd93_3e6ff4a9e439a954fa6b2a1c_603a54ea205665af8ead6be7\n"
     ]
    },
    {
     "data": {
      "text/plain": [
       "'num_processed: 212/20845'"
      ]
     },
     "metadata": {},
     "output_type": "display_data"
    },
    {
     "name": "stdout",
     "output_type": "stream",
     "text": [
      "2a14beab4606a2c5513a2850_5f9ac9a6cd6bb6c172f595af_00c678c285c1fb547def4d8b\n"
     ]
    },
    {
     "data": {
      "text/plain": [
       "'num_processed: 213/20845'"
      ]
     },
     "metadata": {},
     "output_type": "display_data"
    },
    {
     "name": "stdout",
     "output_type": "stream",
     "text": [
      "58c7bb553045b20fe8b3308b_dde0953c8f73154eb1a0de22_af907b596ae8286688821866\n"
     ]
    },
    {
     "data": {
      "text/plain": [
       "'num_processed: 214/20845'"
      ]
     },
     "metadata": {},
     "output_type": "display_data"
    },
    {
     "name": "stdout",
     "output_type": "stream",
     "text": [
      "85673972eb9baa3f45d5c879_2d10814fc842e587dd6569b9_bfd718365654bf4bce241ed8\n"
     ]
    },
    {
     "data": {
      "text/plain": [
       "'num_processed: 215/20845'"
      ]
     },
     "metadata": {},
     "output_type": "display_data"
    },
    {
     "name": "stdout",
     "output_type": "stream",
     "text": [
      "c959f69c41a2deeb679a390a_1cb946f661fa981c58e1e8f2_5dd94113305361001bda9928\n"
     ]
    },
    {
     "data": {
      "text/plain": [
       "'num_processed: 216/20845'"
      ]
     },
     "metadata": {},
     "output_type": "display_data"
    },
    {
     "name": "stdout",
     "output_type": "stream",
     "text": [
      "34cfa492ff753c09546da0a2_619e02ea5aa88ccc028f3d4e_e6c5afe0c14b9f1dd56c0336\n"
     ]
    },
    {
     "data": {
      "text/plain": [
       "'num_processed: 217/20845'"
      ]
     },
     "metadata": {},
     "output_type": "display_data"
    },
    {
     "name": "stdout",
     "output_type": "stream",
     "text": [
      "581de6bcfbfaf92a7df5d18b_ae2e3cfb14bd03a8fe79b129_7babaea013992f60b3e66306\n"
     ]
    },
    {
     "data": {
      "text/plain": [
       "'num_processed: 218/20845'"
      ]
     },
     "metadata": {},
     "output_type": "display_data"
    },
    {
     "name": "stdout",
     "output_type": "stream",
     "text": [
      "6c9f480f1fbe3cb3d90bbeaf_1f928755860616ca7c812f21_ed3f4287a55f0b7dff3c6b40\n",
      "Error in process_face: PK_ENTITY_ask_classError in process_face: PK_ENTITY_ask_classError in process_face: PK_ENTITY_ask_classError in process_face: PK_ENTITY_ask_classError in process_face: PK_ENTITY_ask_classERROR TRASFORMING!\n"
     ]
    },
    {
     "data": {
      "text/plain": [
       "'num_processed: 219/20845'"
      ]
     },
     "metadata": {},
     "output_type": "display_data"
    },
    {
     "name": "stdout",
     "output_type": "stream",
     "text": [
      "a90bbb7527f9231d4d45788c_992101a92eaa5e955a1df899_8c2c6255ced5459f19e1e069\n"
     ]
    },
    {
     "data": {
      "text/plain": [
       "'num_processed: 220/20845'"
      ]
     },
     "metadata": {},
     "output_type": "display_data"
    },
    {
     "name": "stdout",
     "output_type": "stream",
     "text": [
      "8b52b1aee278c11b63f83681_c0aa9f185425c47b3815931f_d59572510aef45d1916594d9\n"
     ]
    },
    {
     "data": {
      "text/plain": [
       "'num_processed: 221/20845'"
      ]
     },
     "metadata": {},
     "output_type": "display_data"
    },
    {
     "name": "stdout",
     "output_type": "stream",
     "text": [
      "38da898436f4ea99c2fea134_e0652d350cd0124486d0bb32_91c1b1e1eb7aa2c54d696de5\n"
     ]
    },
    {
     "data": {
      "text/plain": [
       "'num_processed: 222/20845'"
      ]
     },
     "metadata": {},
     "output_type": "display_data"
    },
    {
     "name": "stdout",
     "output_type": "stream",
     "text": [
      "e8b2291a01b2258bc5919bf2_48dbab0c618f547a080293e6_b7067925f10bc32ca5375da5\n"
     ]
    },
    {
     "data": {
      "text/plain": [
       "'num_processed: 223/20845'"
      ]
     },
     "metadata": {},
     "output_type": "display_data"
    },
    {
     "name": "stdout",
     "output_type": "stream",
     "text": [
      "5cf045a59d6d8195edfa7def_b7f3afed9f6e62f6cc763fbb_32d3aa1b8b285b031602f2b8\n"
     ]
    },
    {
     "data": {
      "text/plain": [
       "'num_processed: 224/20845'"
      ]
     },
     "metadata": {},
     "output_type": "display_data"
    },
    {
     "name": "stdout",
     "output_type": "stream",
     "text": [
      "266adc0fc89d38cc8aa9d59c_59b8100789e226885c4a395b_804c376c21a3bf3c50bfa0e0\n"
     ]
    },
    {
     "data": {
      "text/plain": [
       "'num_processed: 225/20845'"
      ]
     },
     "metadata": {},
     "output_type": "display_data"
    },
    {
     "name": "stdout",
     "output_type": "stream",
     "text": [
      "ca2fb676405eb823214449aa_6d77f435aa62fa0fb04d0a8e_6579f05fbab29de9697b862a\n"
     ]
    },
    {
     "data": {
      "text/plain": [
       "'num_processed: 226/20845'"
      ]
     },
     "metadata": {},
     "output_type": "display_data"
    },
    {
     "name": "stdout",
     "output_type": "stream",
     "text": [
      "783620236b589c80fcbc8cd7_915502c6461aada52b7c4da4_f8cff4af8fc817684073b2a3\n"
     ]
    },
    {
     "data": {
      "text/plain": [
       "'num_processed: 227/20845'"
      ]
     },
     "metadata": {},
     "output_type": "display_data"
    },
    {
     "name": "stdout",
     "output_type": "stream",
     "text": [
      "f84cb85df56271c48e348866_b0ac3966497e1fc47873bfdb_7bca536e21e9f9741efd3638\n"
     ]
    },
    {
     "data": {
      "text/plain": [
       "'num_processed: 228/20845'"
      ]
     },
     "metadata": {},
     "output_type": "display_data"
    },
    {
     "name": "stdout",
     "output_type": "stream",
     "text": [
      "d801a9e93d741d3d10f112cc_c073bc905b1120777720db4c_2568efcc41218b61409acdcb\n"
     ]
    },
    {
     "data": {
      "text/plain": [
       "'num_processed: 229/20845'"
      ]
     },
     "metadata": {},
     "output_type": "display_data"
    },
    {
     "name": "stdout",
     "output_type": "stream",
     "text": [
      "12be20c42b0335173ec175d0_ec38a497316ccc0d1dd82aff_0cf30eb729cf03a9dbab044a\n"
     ]
    },
    {
     "data": {
      "text/plain": [
       "'num_processed: 230/20845'"
      ]
     },
     "metadata": {},
     "output_type": "display_data"
    },
    {
     "name": "stdout",
     "output_type": "stream",
     "text": [
      "57f57dc5d9d05d10ebf50135_0fa5e421ed31f4df0178fc8b_24c8047fa8206138be3b12c9\n"
     ]
    },
    {
     "data": {
      "text/plain": [
       "'num_processed: 231/20845'"
      ]
     },
     "metadata": {},
     "output_type": "display_data"
    },
    {
     "name": "stdout",
     "output_type": "stream",
     "text": [
      "97811df5366303cdeabc2bb9_79b8b78049fbaccdc0fbcc84_cefe2defb0f506c23314451d\n",
      "ERROR TRASFORMING!\n"
     ]
    },
    {
     "data": {
      "text/plain": [
       "'num_processed: 232/20845'"
      ]
     },
     "metadata": {},
     "output_type": "display_data"
    },
    {
     "name": "stdout",
     "output_type": "stream",
     "text": [
      "f0180cab8a7f78b1133b76b3_ec089f2cae63b6d1c7e616bc_10815a07de9a368d12c4ebc5\n"
     ]
    },
    {
     "data": {
      "text/plain": [
       "'num_processed: 233/20845'"
      ]
     },
     "metadata": {},
     "output_type": "display_data"
    },
    {
     "name": "stdout",
     "output_type": "stream",
     "text": [
      "0cdffe26b87a418fc5532d5d_78002ebb2ae0230449738f33_5581c78c7fb9075789fdcb53\n"
     ]
    },
    {
     "data": {
      "text/plain": [
       "'num_processed: 234/20845'"
      ]
     },
     "metadata": {},
     "output_type": "display_data"
    },
    {
     "name": "stdout",
     "output_type": "stream",
     "text": [
      "587a53157881c867e0fe8065_320a5df1e9d935a79a176a99_99ebfa79ad7bcbddae11e493\n"
     ]
    },
    {
     "data": {
      "text/plain": [
       "'num_processed: 235/20845'"
      ]
     },
     "metadata": {},
     "output_type": "display_data"
    },
    {
     "name": "stdout",
     "output_type": "stream",
     "text": [
      "58c0b204d055880f94eabc01_5433a41a1e8e43c6e31e9379_0b888cd4a4585d1181991c46\n"
     ]
    },
    {
     "data": {
      "text/plain": [
       "'num_processed: 236/20845'"
      ]
     },
     "metadata": {},
     "output_type": "display_data"
    },
    {
     "name": "stdout",
     "output_type": "stream",
     "text": [
      "403c1729bf523bf55a9fcf3c_e3b50f4c6c09c6e54d88a546_1da4d04715bc0399ca6358dd\n"
     ]
    },
    {
     "data": {
      "text/plain": [
       "'num_processed: 237/20845'"
      ]
     },
     "metadata": {},
     "output_type": "display_data"
    },
    {
     "name": "stdout",
     "output_type": "stream",
     "text": [
      "80a6dba57668858ddf09884b_4d31242664b0f35bc214616d_70318f1d2f235f2d3de2345d\n"
     ]
    },
    {
     "data": {
      "text/plain": [
       "'num_processed: 238/20845'"
      ]
     },
     "metadata": {},
     "output_type": "display_data"
    },
    {
     "name": "stdout",
     "output_type": "stream",
     "text": [
      "adecc9fb905964e48eb1befb_a499079813429611f7de0713_db8d3427f8e09be379b01e0d\n"
     ]
    },
    {
     "data": {
      "text/plain": [
       "'num_processed: 239/20845'"
      ]
     },
     "metadata": {},
     "output_type": "display_data"
    },
    {
     "name": "stdout",
     "output_type": "stream",
     "text": [
      "58c3f37509d569fa903b7bdf_0d405026697ee79c0c81a60a_7f4dadece63c31cb5d67f564\n"
     ]
    },
    {
     "data": {
      "text/plain": [
       "'num_processed: 240/20845'"
      ]
     },
     "metadata": {},
     "output_type": "display_data"
    },
    {
     "name": "stdout",
     "output_type": "stream",
     "text": [
      "61de4550fa69c240eb363b8e_76281f9eb662e9308b1a71ae_09b24eb8e0f2240740bd0c4c\n"
     ]
    },
    {
     "data": {
      "text/plain": [
       "'num_processed: 241/20845'"
      ]
     },
     "metadata": {},
     "output_type": "display_data"
    },
    {
     "name": "stdout",
     "output_type": "stream",
     "text": [
      "e560afcf94a09fcaaa7fe3fa_e9f40dafb776a310444a8e45_de294d8a4a6b28e618a2afa4\n"
     ]
    },
    {
     "data": {
      "text/plain": [
       "'num_processed: 242/20845'"
      ]
     },
     "metadata": {},
     "output_type": "display_data"
    },
    {
     "name": "stdout",
     "output_type": "stream",
     "text": [
      "261c351351fdfcb6a96b415b_6a0922c137728e0dd706c589_a34256c6fdf72cc0f383fe02\n"
     ]
    },
    {
     "data": {
      "text/plain": [
       "'num_processed: 243/20845'"
      ]
     },
     "metadata": {},
     "output_type": "display_data"
    },
    {
     "name": "stdout",
     "output_type": "stream",
     "text": [
      "6492997534555cfdf39a2499_8265d9ce3650bdefb2f17524_a6e663214f053237d4d445ac\n"
     ]
    },
    {
     "data": {
      "text/plain": [
       "'num_processed: 244/20845'"
      ]
     },
     "metadata": {},
     "output_type": "display_data"
    },
    {
     "name": "stdout",
     "output_type": "stream",
     "text": [
      "58a39273a263420f7a3323d2_f16629d20ab20404a93a0e00_0127d9072a08dcaa1e93e89b\n"
     ]
    },
    {
     "data": {
      "text/plain": [
       "'num_processed: 245/20845'"
      ]
     },
     "metadata": {},
     "output_type": "display_data"
    },
    {
     "name": "stdout",
     "output_type": "stream",
     "text": [
      "f7ee4788c4240e8c17292e89_a5b2ad27e52c4ec92fd8eeb3_edc7ae30c938dc5633ede1cf\n"
     ]
    },
    {
     "data": {
      "text/plain": [
       "'num_processed: 246/20845'"
      ]
     },
     "metadata": {},
     "output_type": "display_data"
    },
    {
     "name": "stdout",
     "output_type": "stream",
     "text": [
      "6846850ef90188ca15f2bba1_4c141d8d0a3e1e1c7513ae93_6afeda176c095cbe25316e49\n"
     ]
    },
    {
     "data": {
      "text/plain": [
       "'num_processed: 247/20845'"
      ]
     },
     "metadata": {},
     "output_type": "display_data"
    },
    {
     "name": "stdout",
     "output_type": "stream",
     "text": [
      "d495a219e17f167808d5a632_ed46fe520f5e9f675f8e8c8a_3df252e23aaec238d83dd3c8\n"
     ]
    },
    {
     "data": {
      "text/plain": [
       "'num_processed: 248/20845'"
      ]
     },
     "metadata": {},
     "output_type": "display_data"
    },
    {
     "name": "stdout",
     "output_type": "stream",
     "text": [
      "00934466329ab92e714f2e2f_77d827692131b5d0353a41dc_1d19255238399ff3450766ed\n"
     ]
    },
    {
     "data": {
      "text/plain": [
       "'num_processed: 249/20845'"
      ]
     },
     "metadata": {},
     "output_type": "display_data"
    },
    {
     "name": "stdout",
     "output_type": "stream",
     "text": [
      "50db6e8761ff22ab3883f300_30aa6ca7101e46b028f95191_da9dcfcc1eb5cda221ee750f\n"
     ]
    },
    {
     "data": {
      "text/plain": [
       "'num_processed: 250/20845'"
      ]
     },
     "metadata": {},
     "output_type": "display_data"
    },
    {
     "name": "stdout",
     "output_type": "stream",
     "text": [
      "582e29a1a8699e105b59af6c_9edae57dbe11d67c01d288ff_9e2615919c65805641836a32\n"
     ]
    },
    {
     "data": {
      "text/plain": [
       "'num_processed: 251/20845'"
      ]
     },
     "metadata": {},
     "output_type": "display_data"
    },
    {
     "name": "stdout",
     "output_type": "stream",
     "text": [
      "a658dd9907731ab9c74e92c3_93a3cf28692dd9832b33ded3_906c3aa1ad4af6b8467c6d15\n"
     ]
    },
    {
     "data": {
      "text/plain": [
       "'num_processed: 252/20845'"
      ]
     },
     "metadata": {},
     "output_type": "display_data"
    },
    {
     "name": "stdout",
     "output_type": "stream",
     "text": [
      "9af982efe7b6ffe8b5f1fede_50f52e1c68cbc6ac5232f699_07de1a1b7a3047bc02fa8726\n"
     ]
    },
    {
     "data": {
      "text/plain": [
       "'num_processed: 253/20845'"
      ]
     },
     "metadata": {},
     "output_type": "display_data"
    },
    {
     "name": "stdout",
     "output_type": "stream",
     "text": [
      "5ca163bae1b5450a0f021099_7dae286a625e59b027dbebde_4403d960fed257a84bcf4d8c\n"
     ]
    },
    {
     "data": {
      "text/plain": [
       "'num_processed: 254/20845'"
      ]
     },
     "metadata": {},
     "output_type": "display_data"
    },
    {
     "name": "stdout",
     "output_type": "stream",
     "text": [
      "2ede80b605ba7e73cc69c647_381fa7fd131fd83edf565bf4_6b8bf92e7a4aaa49600b6b05\n"
     ]
    },
    {
     "data": {
      "text/plain": [
       "'num_processed: 255/20845'"
      ]
     },
     "metadata": {},
     "output_type": "display_data"
    },
    {
     "name": "stdout",
     "output_type": "stream",
     "text": [
      "a9212aca217d15544cb349cd_981b25047df6bf3f8c6a64db_2cba842dc89290ce0a59acc4\n"
     ]
    },
    {
     "data": {
      "text/plain": [
       "'num_processed: 256/20845'"
      ]
     },
     "metadata": {},
     "output_type": "display_data"
    },
    {
     "name": "stdout",
     "output_type": "stream",
     "text": [
      "0873981cce83a808b43b2395_d2d7a0fe11d34182389da9ac_62670cde112a30e09b521bac\n"
     ]
    },
    {
     "data": {
      "text/plain": [
       "'num_processed: 257/20845'"
      ]
     },
     "metadata": {},
     "output_type": "display_data"
    },
    {
     "name": "stdout",
     "output_type": "stream",
     "text": [
      "2b6ca29d4d3d708836fe8425_53b00c9142f1d930f2d0b1b3_40181c239ed0fd2a777feae8\n"
     ]
    },
    {
     "data": {
      "text/plain": [
       "'num_processed: 258/20845'"
      ]
     },
     "metadata": {},
     "output_type": "display_data"
    },
    {
     "name": "stdout",
     "output_type": "stream",
     "text": [
      "96d197488febfc4df8200640_303aecd04ee53c2f1f761f48_cddb19a8105a73963736d620\n"
     ]
    },
    {
     "data": {
      "text/plain": [
       "'num_processed: 259/20845'"
      ]
     },
     "metadata": {},
     "output_type": "display_data"
    },
    {
     "name": "stdout",
     "output_type": "stream",
     "text": [
      "c7390915b0ce44295d5f8678_90b08501969b3c760cb91176_4c3d6e371fb4cd19bc50ead4\n"
     ]
    },
    {
     "data": {
      "text/plain": [
       "'num_processed: 260/20845'"
      ]
     },
     "metadata": {},
     "output_type": "display_data"
    },
    {
     "name": "stdout",
     "output_type": "stream",
     "text": [
      "8a11ae2738cc7b7bb7f1421e_1372bc05d730abc6cbca85c9_cb4887950ad3a0f1c52673b3\n"
     ]
    },
    {
     "data": {
      "text/plain": [
       "'num_processed: 261/20845'"
      ]
     },
     "metadata": {},
     "output_type": "display_data"
    },
    {
     "name": "stdout",
     "output_type": "stream",
     "text": [
      "3197dc09b782b187900ec7d2_70d9c76b65f26464f7faf3ee_70b1d006c879cff4111b9b9e\n"
     ]
    },
    {
     "data": {
      "text/plain": [
       "'num_processed: 262/20845'"
      ]
     },
     "metadata": {},
     "output_type": "display_data"
    },
    {
     "name": "stdout",
     "output_type": "stream",
     "text": [
      "ba6467c01c98c08df154d5fb_00730121a91d399b44eebe86_4627e22d9f487ea9ecb3b721\n"
     ]
    },
    {
     "data": {
      "text/plain": [
       "'num_processed: 263/20845'"
      ]
     },
     "metadata": {},
     "output_type": "display_data"
    },
    {
     "name": "stdout",
     "output_type": "stream",
     "text": [
      "eb06565105da9c12d3dcf2db_965dabf870326b27221b4952_f8ffa5f93a44b8c08cb47cf1\n"
     ]
    },
    {
     "data": {
      "text/plain": [
       "'num_processed: 264/20845'"
      ]
     },
     "metadata": {},
     "output_type": "display_data"
    },
    {
     "name": "stdout",
     "output_type": "stream",
     "text": [
      "c455ecadf211f1ce8273582b_d2185714cb1b6cd31cf3cb43_3fdb98909cbcf2753af457d7\n"
     ]
    },
    {
     "data": {
      "text/plain": [
       "'num_processed: 265/20845'"
      ]
     },
     "metadata": {},
     "output_type": "display_data"
    },
    {
     "name": "stdout",
     "output_type": "stream",
     "text": [
      "4a4ff2ddaeb48ea37e9d099f_1b63cfa308e5dc389ccb74a0_fa9f40309226eed8920ceb94\n"
     ]
    },
    {
     "data": {
      "text/plain": [
       "'num_processed: 266/20845'"
      ]
     },
     "metadata": {},
     "output_type": "display_data"
    },
    {
     "name": "stdout",
     "output_type": "stream",
     "text": [
      "f8a342bd99a12d7faf2b82c9_67c7f852dde6ab4fce9fa154_8434ab829f98ca2eadea6303\n"
     ]
    },
    {
     "data": {
      "text/plain": [
       "'num_processed: 267/20845'"
      ]
     },
     "metadata": {},
     "output_type": "display_data"
    },
    {
     "name": "stdout",
     "output_type": "stream",
     "text": [
      "e4bec5e372876e78c3829ebe_32165d2fcf4f0a64c382796b_5c9ba61deebb331a1b30283e\n"
     ]
    },
    {
     "data": {
      "text/plain": [
       "'num_processed: 268/20845'"
      ]
     },
     "metadata": {},
     "output_type": "display_data"
    },
    {
     "name": "stdout",
     "output_type": "stream",
     "text": [
      "287165a8333ad3f9bc9ca29b_4d533595c5cf6a11136060a9_0ccc5f1e2869a38bcff06da9\n"
     ]
    },
    {
     "data": {
      "text/plain": [
       "'num_processed: 269/20845'"
      ]
     },
     "metadata": {},
     "output_type": "display_data"
    },
    {
     "name": "stdout",
     "output_type": "stream",
     "text": [
      "58ddf81025c753102f63fbb3_431c7b19a139cdac2e3426e3_0faedefd7f801a14e6bfa0b3\n"
     ]
    },
    {
     "data": {
      "text/plain": [
       "'num_processed: 270/20845'"
      ]
     },
     "metadata": {},
     "output_type": "display_data"
    },
    {
     "name": "stdout",
     "output_type": "stream",
     "text": [
      "607928313ac77b317eb4b578_054c87c80a8b6db2a5fc9652_d4f4f56c91d6aa16bf4a44f9\n"
     ]
    },
    {
     "data": {
      "text/plain": [
       "'num_processed: 271/20845'"
      ]
     },
     "metadata": {},
     "output_type": "display_data"
    },
    {
     "name": "stdout",
     "output_type": "stream",
     "text": [
      "c13864cbbcafe9188966f876_39aec2b92fa04dd626ee0ce1_67ab4d4c92cdd661675db9cc\n"
     ]
    },
    {
     "data": {
      "text/plain": [
       "'num_processed: 272/20845'"
      ]
     },
     "metadata": {},
     "output_type": "display_data"
    },
    {
     "name": "stdout",
     "output_type": "stream",
     "text": [
      "3d7a7564b376098b57deac7a_193e1544a2fb939af00dd506_f4491dd527afdce693f227f4\n"
     ]
    },
    {
     "data": {
      "text/plain": [
       "'num_processed: 273/20845'"
      ]
     },
     "metadata": {},
     "output_type": "display_data"
    },
    {
     "name": "stdout",
     "output_type": "stream",
     "text": [
      "0e31c9534fe6d6eb0d39fbc2_1b7aad304faa4921f3d34e9f_53a6a1a8fe668f600ad38ed2\n"
     ]
    },
    {
     "data": {
      "text/plain": [
       "'num_processed: 274/20845'"
      ]
     },
     "metadata": {},
     "output_type": "display_data"
    },
    {
     "name": "stdout",
     "output_type": "stream",
     "text": [
      "9a202fe64f2b856ed3eb40c3_f4837e4c1cd1e1648fef1fe9_6efc34f31513c1447001c655\n"
     ]
    },
    {
     "data": {
      "text/plain": [
       "'num_processed: 275/20845'"
      ]
     },
     "metadata": {},
     "output_type": "display_data"
    },
    {
     "name": "stdout",
     "output_type": "stream",
     "text": [
      "07b63028ba37461a98ad5b0a_bf04311e120ab3056b84c956_eeb7ec6b13840af61fc118b8\n"
     ]
    },
    {
     "data": {
      "text/plain": [
       "'num_processed: 276/20845'"
      ]
     },
     "metadata": {},
     "output_type": "display_data"
    },
    {
     "name": "stdout",
     "output_type": "stream",
     "text": [
      "ba0ebfe50c8d922eb78dbefb_8574fa79381aed754440c0f3_c5baa83d7c343ea5e4917d4e\n"
     ]
    },
    {
     "data": {
      "text/plain": [
       "'num_processed: 277/20845'"
      ]
     },
     "metadata": {},
     "output_type": "display_data"
    },
    {
     "name": "stdout",
     "output_type": "stream",
     "text": [
      "02faca6df21775b8c6b8eeb1_1c32ee4282092116e853b511_61cb324651cb2acb8b0535f6\n"
     ]
    },
    {
     "data": {
      "text/plain": [
       "'num_processed: 278/20845'"
      ]
     },
     "metadata": {},
     "output_type": "display_data"
    },
    {
     "name": "stdout",
     "output_type": "stream",
     "text": [
      "df08daca781fb206c082bc6e_90ee27aa8d1b0249be4c39bf_2e9a814edc237b4cb4fc03a3\n"
     ]
    },
    {
     "data": {
      "text/plain": [
       "'num_processed: 279/20845'"
      ]
     },
     "metadata": {},
     "output_type": "display_data"
    },
    {
     "name": "stdout",
     "output_type": "stream",
     "text": [
      "aa4c40fb28dd8e176ea1dc6a_c8066b9ea55cd6a9bb358dbc_a3f0e13be58e87cc43ce23b8\n"
     ]
    },
    {
     "data": {
      "text/plain": [
       "'num_processed: 280/20845'"
      ]
     },
     "metadata": {},
     "output_type": "display_data"
    },
    {
     "name": "stdout",
     "output_type": "stream",
     "text": [
      "58f1f79cc795f50fea9ef6d9_6e729b857ef57b369dc3c033_45755ae49267dadf21f193c0\n"
     ]
    },
    {
     "data": {
      "text/plain": [
       "'num_processed: 281/20845'"
      ]
     },
     "metadata": {},
     "output_type": "display_data"
    },
    {
     "name": "stdout",
     "output_type": "stream",
     "text": [
      "94fea75654136a3e5a374d45_5ec5e2da9c897067f5f470f6_66dfb147bded08082380cd3f\n"
     ]
    },
    {
     "data": {
      "text/plain": [
       "'num_processed: 282/20845'"
      ]
     },
     "metadata": {},
     "output_type": "display_data"
    },
    {
     "name": "stdout",
     "output_type": "stream",
     "text": [
      "67a75e35ff6d98790ac55235_424e6690c3dda88743032ae4_1f2417bd2444af435eb937f5\n"
     ]
    },
    {
     "data": {
      "text/plain": [
       "'num_processed: 283/20845'"
      ]
     },
     "metadata": {},
     "output_type": "display_data"
    },
    {
     "name": "stdout",
     "output_type": "stream",
     "text": [
      "98ec89f0aeeb61facd5f2079_765986202650d2851b021e08_7516e4c58413aae8074ab2b4\n"
     ]
    },
    {
     "data": {
      "text/plain": [
       "'num_processed: 284/20845'"
      ]
     },
     "metadata": {},
     "output_type": "display_data"
    },
    {
     "name": "stdout",
     "output_type": "stream",
     "text": [
      "ec89f7dc5c43571df227487e_85f400b7495e6c19f71e8c91_3bc33823283f9caac180ef1c\n"
     ]
    },
    {
     "data": {
      "text/plain": [
       "'num_processed: 285/20845'"
      ]
     },
     "metadata": {},
     "output_type": "display_data"
    },
    {
     "name": "stdout",
     "output_type": "stream",
     "text": [
      "53ca024cc94035fcb3ae4ef3_14cc5dfdf496c0e0504a8c7c_fea3eaaf8cc642104d366cfb\n"
     ]
    },
    {
     "data": {
      "text/plain": [
       "'num_processed: 286/20845'"
      ]
     },
     "metadata": {},
     "output_type": "display_data"
    },
    {
     "name": "stdout",
     "output_type": "stream",
     "text": [
      "b09ea04983f4c2bd0299db41_7ffbcdae247b0cbefe848b35_eff76b4126f91764fea08047\n"
     ]
    },
    {
     "data": {
      "text/plain": [
       "'num_processed: 287/20845'"
      ]
     },
     "metadata": {},
     "output_type": "display_data"
    },
    {
     "name": "stdout",
     "output_type": "stream",
     "text": [
      "20acdbfb860686db5801f7db_5676ec505c49f9284cf6f810_cbcfc146e85e177882bb9b7e\n"
     ]
    },
    {
     "data": {
      "text/plain": [
       "'num_processed: 288/20845'"
      ]
     },
     "metadata": {},
     "output_type": "display_data"
    },
    {
     "name": "stdout",
     "output_type": "stream",
     "text": [
      "ed756a57231f14a0cda16369_b060bfecc096cb9f758a73c0_d3dbffbc2da129b08e340acf\n"
     ]
    },
    {
     "data": {
      "text/plain": [
       "'num_processed: 289/20845'"
      ]
     },
     "metadata": {},
     "output_type": "display_data"
    },
    {
     "name": "stdout",
     "output_type": "stream",
     "text": [
      "b536e8f5a89db545ec197e8f_961b43dcd38a8200d621f644_f67c1fa7d2796d83fe0419b8\n"
     ]
    },
    {
     "data": {
      "text/plain": [
       "'num_processed: 290/20845'"
      ]
     },
     "metadata": {},
     "output_type": "display_data"
    },
    {
     "name": "stdout",
     "output_type": "stream",
     "text": [
      "86dea9e13193a5910d9aae55_7f477bb01c1b5019312bc054_2d8b1741a8358abd0a92d029\n"
     ]
    },
    {
     "data": {
      "text/plain": [
       "'num_processed: 291/20845'"
      ]
     },
     "metadata": {},
     "output_type": "display_data"
    },
    {
     "name": "stdout",
     "output_type": "stream",
     "text": [
      "540fa3826c87a12790a454f7_1bc532fae6f9e79b7a9b59a0_dc8a85ed1eb67c72d631e5ef\n"
     ]
    },
    {
     "data": {
      "text/plain": [
       "'num_processed: 292/20845'"
      ]
     },
     "metadata": {},
     "output_type": "display_data"
    },
    {
     "name": "stdout",
     "output_type": "stream",
     "text": [
      "c743e2f8b7a2bcc07f44daf4_46715eebbff6263dd616534c_e9eea3d70fb6d641e23f3d59\n"
     ]
    },
    {
     "data": {
      "text/plain": [
       "'num_processed: 293/20845'"
      ]
     },
     "metadata": {},
     "output_type": "display_data"
    },
    {
     "name": "stdout",
     "output_type": "stream",
     "text": [
      "d99517125992a4688a44b47b_abad2fabc49e749bb5e770d0_947174410b79a2756ec9a290\n"
     ]
    },
    {
     "data": {
      "text/plain": [
       "'num_processed: 294/20845'"
      ]
     },
     "metadata": {},
     "output_type": "display_data"
    },
    {
     "name": "stdout",
     "output_type": "stream",
     "text": [
      "bfd7d05000ef2090c25460e2_0e2e57879b8d3f5e8364210f_c77302b260ca4f5829e7d54f\n"
     ]
    },
    {
     "data": {
      "text/plain": [
       "'num_processed: 295/20845'"
      ]
     },
     "metadata": {},
     "output_type": "display_data"
    },
    {
     "name": "stdout",
     "output_type": "stream",
     "text": [
      "77ed50f6f8bc64061ce1d055_71faec10da23c3b04aee28c6_9140d67c1bd5e2340cc55e46\n",
      "EROR IN process_axial - PK_SURF_ask_uvboxERROR TRASFORMING!\n"
     ]
    },
    {
     "data": {
      "text/plain": [
       "'num_processed: 296/20845'"
      ]
     },
     "metadata": {},
     "output_type": "display_data"
    },
    {
     "name": "stdout",
     "output_type": "stream",
     "text": [
      "f9870aaf49c0cb224a0c199a_213c82a1019fc73ab3159164_0ada4aecfa57d473b6130b77\n"
     ]
    },
    {
     "data": {
      "text/plain": [
       "'num_processed: 297/20845'"
      ]
     },
     "metadata": {},
     "output_type": "display_data"
    },
    {
     "name": "stdout",
     "output_type": "stream",
     "text": [
      "05cf6b68633e0d096226667a_5f432847f766989ef6b223d0_9e2bdcf786298887bbacdcc6\n"
     ]
    },
    {
     "data": {
      "text/plain": [
       "'num_processed: 298/20845'"
      ]
     },
     "metadata": {},
     "output_type": "display_data"
    },
    {
     "name": "stdout",
     "output_type": "stream",
     "text": [
      "ff75c89217d132be10c256c1_f4f3224e49568100c2309f23_c58add1a3b9e5488797b3395\n"
     ]
    },
    {
     "data": {
      "text/plain": [
       "'num_processed: 299/20845'"
      ]
     },
     "metadata": {},
     "output_type": "display_data"
    },
    {
     "name": "stdout",
     "output_type": "stream",
     "text": [
      "c930fe3392b4f865c12869b5_7ded8f0d8df1c14a9100d20e_5b8843d2528e5b8abc69115b\n"
     ]
    },
    {
     "data": {
      "text/plain": [
       "'num_processed: 300/20845'"
      ]
     },
     "metadata": {},
     "output_type": "display_data"
    },
    {
     "name": "stdout",
     "output_type": "stream",
     "text": [
      "1d41dcb7588651ef576c96d8_09d47b58eda58c25eae40e1c_8d4f3c49b74f3e0ffbec84eb\n"
     ]
    },
    {
     "data": {
      "text/plain": [
       "'num_processed: 301/20845'"
      ]
     },
     "metadata": {},
     "output_type": "display_data"
    },
    {
     "name": "stdout",
     "output_type": "stream",
     "text": [
      "4f2264ce925fcd3fb8eb16f2_cfe7b539e2a5ec244d415336_10a87d1a100501c1b706466f\n"
     ]
    },
    {
     "data": {
      "text/plain": [
       "'num_processed: 302/20845'"
      ]
     },
     "metadata": {},
     "output_type": "display_data"
    },
    {
     "name": "stdout",
     "output_type": "stream",
     "text": [
      "dd65ce339797b50b086f5776_9fe317ad9dd5e39621cf47f0_1f25f146eaf636469f443b73\n"
     ]
    },
    {
     "data": {
      "text/plain": [
       "'num_processed: 303/20845'"
      ]
     },
     "metadata": {},
     "output_type": "display_data"
    },
    {
     "name": "stdout",
     "output_type": "stream",
     "text": [
      "5a9c1d7878fb5d1919c6f6d3_6f265ba415b7b50f7e606d95_67ca827ffb159c57debdcaf7\n"
     ]
    },
    {
     "data": {
      "text/plain": [
       "'num_processed: 304/20845'"
      ]
     },
     "metadata": {},
     "output_type": "display_data"
    },
    {
     "name": "stdout",
     "output_type": "stream",
     "text": [
      "5c61bda0ba41031622b54fcd_ae1d578f1611780b07834aba_94be74a03e301beef7389b0b\n"
     ]
    },
    {
     "data": {
      "text/plain": [
       "'num_processed: 305/20845'"
      ]
     },
     "metadata": {},
     "output_type": "display_data"
    },
    {
     "name": "stdout",
     "output_type": "stream",
     "text": [
      "855dfb0f6b6ec8e205fddc4c_cfd8adaac4e66455ddb35466_f5b68fd36f31a6066d14b8c9\n"
     ]
    },
    {
     "data": {
      "text/plain": [
       "'num_processed: 306/20845'"
      ]
     },
     "metadata": {},
     "output_type": "display_data"
    },
    {
     "name": "stdout",
     "output_type": "stream",
     "text": [
      "ce292c6e7e50f00700de7669_df3bb17608dda5ac42b6a940_a15e5f67d6ef80f29efd9775\n"
     ]
    },
    {
     "data": {
      "text/plain": [
       "'num_processed: 307/20845'"
      ]
     },
     "metadata": {},
     "output_type": "display_data"
    },
    {
     "name": "stdout",
     "output_type": "stream",
     "text": [
      "575a8af2e4b018f59e4bf0ab_6238665ec006cf859538ffe0_467a953fbf9d6ea5f8058c88\n"
     ]
    },
    {
     "data": {
      "text/plain": [
       "'num_processed: 308/20845'"
      ]
     },
     "metadata": {},
     "output_type": "display_data"
    },
    {
     "name": "stdout",
     "output_type": "stream",
     "text": [
      "4225495fed7aa28508a9bece_cd640653153dacc2e231db6a_562b7dc8de8b8ef6d2eaf56c\n"
     ]
    },
    {
     "data": {
      "text/plain": [
       "'num_processed: 309/20845'"
      ]
     },
     "metadata": {},
     "output_type": "display_data"
    },
    {
     "name": "stdout",
     "output_type": "stream",
     "text": [
      "c415c233172fd0450fddec4f_c4f19adc263ca5795ecfab91_d2f88d177a745bdc011d0b46\n"
     ]
    },
    {
     "data": {
      "text/plain": [
       "'num_processed: 310/20845'"
      ]
     },
     "metadata": {},
     "output_type": "display_data"
    },
    {
     "name": "stdout",
     "output_type": "stream",
     "text": [
      "4e01b927fb85b8e40b961bce_6e02dafe0b72d595000ba868_3a67abe2478d04e263bcc5e4\n"
     ]
    },
    {
     "data": {
      "text/plain": [
       "'num_processed: 311/20845'"
      ]
     },
     "metadata": {},
     "output_type": "display_data"
    },
    {
     "name": "stdout",
     "output_type": "stream",
     "text": [
      "c07bcf026e8047ec1ac35b6a_7c7867afbc378dd0ad1da510_d09a133ac42b1831c4f91e8a\n",
      "ERROR TRASFORMING!\n"
     ]
    },
    {
     "data": {
      "text/plain": [
       "'num_processed: 312/20845'"
      ]
     },
     "metadata": {},
     "output_type": "display_data"
    },
    {
     "name": "stdout",
     "output_type": "stream",
     "text": [
      "58ddf81625c753102f63fbcc_3f023400f1b50a3281a12189_197998d7905f84e3baa8b1f6\n"
     ]
    },
    {
     "data": {
      "text/plain": [
       "'num_processed: 313/20845'"
      ]
     },
     "metadata": {},
     "output_type": "display_data"
    },
    {
     "name": "stdout",
     "output_type": "stream",
     "text": [
      "8144c706040af51b3ec00944_ff7b8d45c6725148082c3b9c_a06cd92cdc5253d6d7c7b771\n"
     ]
    },
    {
     "data": {
      "text/plain": [
       "'num_processed: 314/20845'"
      ]
     },
     "metadata": {},
     "output_type": "display_data"
    },
    {
     "name": "stdout",
     "output_type": "stream",
     "text": [
      "f95f52553f746f53198e6fec_9ac6f232602da924db306648_84773399268dd0115e4231e6\n"
     ]
    },
    {
     "data": {
      "text/plain": [
       "'num_processed: 315/20845'"
      ]
     },
     "metadata": {},
     "output_type": "display_data"
    },
    {
     "name": "stdout",
     "output_type": "stream",
     "text": [
      "e33d75b9de43812a3f1bee2b_2c03e35e71dbb3e7c68fe831_653f0b9e0da09379e240b4ab\n"
     ]
    },
    {
     "data": {
      "text/plain": [
       "'num_processed: 316/20845'"
      ]
     },
     "metadata": {},
     "output_type": "display_data"
    },
    {
     "name": "stdout",
     "output_type": "stream",
     "text": [
      "288e74c505cb5ea1ff913cbd_4acd47a3c63f46542d83dd18_555198bd34786ed814a3283a\n"
     ]
    },
    {
     "data": {
      "text/plain": [
       "'num_processed: 317/20845'"
      ]
     },
     "metadata": {},
     "output_type": "display_data"
    },
    {
     "name": "stdout",
     "output_type": "stream",
     "text": [
      "6448362231c4e4d09ef9ff65_e8686b1c1fdb5f9c8eef3356_e10e099c25d38cc608cff30a\n"
     ]
    },
    {
     "data": {
      "text/plain": [
       "'num_processed: 318/20845'"
      ]
     },
     "metadata": {},
     "output_type": "display_data"
    },
    {
     "name": "stdout",
     "output_type": "stream",
     "text": [
      "e847878856cd15350a047e86_0a8139e72b906f37d68bd00d_504129f7138a84b78e6c824d\n",
      "ERROR TRASFORMING!\n",
      "ERROR TRASFORMING!\n",
      "ERROR TRASFORMING!\n"
     ]
    },
    {
     "data": {
      "text/plain": [
       "'num_processed: 319/20845'"
      ]
     },
     "metadata": {},
     "output_type": "display_data"
    },
    {
     "name": "stdout",
     "output_type": "stream",
     "text": [
      "b3b0fd24f220ef133c294630_2f4f04294491d9486fb7c890_29864b0c01ffe39e632086d5\n"
     ]
    },
    {
     "data": {
      "text/plain": [
       "'num_processed: 320/20845'"
      ]
     },
     "metadata": {},
     "output_type": "display_data"
    },
    {
     "name": "stdout",
     "output_type": "stream",
     "text": [
      "93a27b4721e7fb4de2d89917_b21aa29a8c5266ebc0fc6322_ed2a9b3eb58e30bf7a5a21d9\n"
     ]
    },
    {
     "data": {
      "text/plain": [
       "'num_processed: 321/20845'"
      ]
     },
     "metadata": {},
     "output_type": "display_data"
    },
    {
     "name": "stdout",
     "output_type": "stream",
     "text": [
      "121db80923956a27eb8f17bc_d7d8f0e29231f824881a6051_7a7817a01e17ca8d5ed6736d\n"
     ]
    },
    {
     "data": {
      "text/plain": [
       "'num_processed: 322/20845'"
      ]
     },
     "metadata": {},
     "output_type": "display_data"
    },
    {
     "name": "stdout",
     "output_type": "stream",
     "text": [
      "d9cb18c16effd0991dbdea26_10b0848f0703deff006f3aee_7c82befb3ab20a9af40a5fcc\n"
     ]
    },
    {
     "data": {
      "text/plain": [
       "'num_processed: 323/20845'"
      ]
     },
     "metadata": {},
     "output_type": "display_data"
    },
    {
     "name": "stdout",
     "output_type": "stream",
     "text": [
      "1697658c107e311311e50917_61a7235d4b2d4b795cb07ede_b66150cdbd78d1ff66ed2659\n"
     ]
    },
    {
     "data": {
      "text/plain": [
       "'num_processed: 324/20845'"
      ]
     },
     "metadata": {},
     "output_type": "display_data"
    },
    {
     "name": "stdout",
     "output_type": "stream",
     "text": [
      "29cec957e76071e5b7fcce2d_bc9e3476d5040171e4c0a4aa_fd0f72cf55c28bcda061a8b3\n"
     ]
    },
    {
     "data": {
      "text/plain": [
       "'num_processed: 325/20845'"
      ]
     },
     "metadata": {},
     "output_type": "display_data"
    },
    {
     "name": "stdout",
     "output_type": "stream",
     "text": [
      "aa54bb9ffed9299249ff4e09_70c8081a9f2f7b69b4f2a797_58e99d80226235ebfbbc4690\n"
     ]
    },
    {
     "data": {
      "text/plain": [
       "'num_processed: 326/20845'"
      ]
     },
     "metadata": {},
     "output_type": "display_data"
    },
    {
     "name": "stdout",
     "output_type": "stream",
     "text": [
      "06b0975cbfa3439c1d05c727_a1eddf31fa28fc74ed5fbff8_40eb03669baef4b07a6a8362\n"
     ]
    },
    {
     "data": {
      "text/plain": [
       "'num_processed: 327/20845'"
      ]
     },
     "metadata": {},
     "output_type": "display_data"
    },
    {
     "name": "stdout",
     "output_type": "stream",
     "text": [
      "5902fd3cbad09910e5e7a0cb_3f9c82089d9bad4de7d324c1_5584392c793b3fcd7ec8ce14\n"
     ]
    },
    {
     "data": {
      "text/plain": [
       "'num_processed: 328/20845'"
      ]
     },
     "metadata": {},
     "output_type": "display_data"
    },
    {
     "name": "stdout",
     "output_type": "stream",
     "text": [
      "6c66ed8c78431d20653c3b03_0d39142cf091178677a250f6_740e690bfac267094bfacf7e\n"
     ]
    },
    {
     "data": {
      "text/plain": [
       "'num_processed: 329/20845'"
      ]
     },
     "metadata": {},
     "output_type": "display_data"
    },
    {
     "name": "stdout",
     "output_type": "stream",
     "text": [
      "8e91f5be8c3e11e21c4b23aa_18c521f67aee532020c19453_e040f06ba639b4932ad78a9b\n"
     ]
    },
    {
     "data": {
      "text/plain": [
       "'num_processed: 330/20845'"
      ]
     },
     "metadata": {},
     "output_type": "display_data"
    },
    {
     "name": "stdout",
     "output_type": "stream",
     "text": [
      "dad3d7e36719fd528c92dc7e_22f4eec02965465332dcff7b_51ed7d71d880a4e0a0fe6e6b\n"
     ]
    },
    {
     "data": {
      "text/plain": [
       "'num_processed: 331/20845'"
      ]
     },
     "metadata": {},
     "output_type": "display_data"
    },
    {
     "name": "stdout",
     "output_type": "stream",
     "text": [
      "b65ad58a49a4be7a7fe509e5_0ecb323ca8b7597754069386_03bd90f1576d248b9c170608\n"
     ]
    },
    {
     "data": {
      "text/plain": [
       "'num_processed: 332/20845'"
      ]
     },
     "metadata": {},
     "output_type": "display_data"
    },
    {
     "name": "stdout",
     "output_type": "stream",
     "text": [
      "5739f8e5e4b0ba160fa55fe6_d632bb54acd5511022c0061f_d72deb376c8485b59c49456f\n"
     ]
    },
    {
     "data": {
      "text/plain": [
       "'num_processed: 333/20845'"
      ]
     },
     "metadata": {},
     "output_type": "display_data"
    },
    {
     "name": "stdout",
     "output_type": "stream",
     "text": [
      "3bab2f23387ba8be353da432_3806d1182eb993bf325aaafe_af3e9dacaa801e2d1a1b4047\n"
     ]
    },
    {
     "data": {
      "text/plain": [
       "'num_processed: 334/20845'"
      ]
     },
     "metadata": {},
     "output_type": "display_data"
    },
    {
     "name": "stdout",
     "output_type": "stream",
     "text": [
      "513daee5ae9c9357210349ae_fdee93663de811a2e38bc89c_4ee0b14b0fdf6407893aa339\n"
     ]
    },
    {
     "data": {
      "text/plain": [
       "'num_processed: 335/20845'"
      ]
     },
     "metadata": {},
     "output_type": "display_data"
    },
    {
     "name": "stdout",
     "output_type": "stream",
     "text": [
      "b125fa4c199151b1c6385cb7_774ae2b37b795ab661776b04_de19a74186f11997424a6884\n"
     ]
    },
    {
     "data": {
      "text/plain": [
       "'num_processed: 336/20845'"
      ]
     },
     "metadata": {},
     "output_type": "display_data"
    },
    {
     "name": "stdout",
     "output_type": "stream",
     "text": [
      "5306124e28aa54c59f61d780_e3710b4768166abd726cc5e5_adfa1fd8d6922929b61a760b\n"
     ]
    },
    {
     "data": {
      "text/plain": [
       "'num_processed: 337/20845'"
      ]
     },
     "metadata": {},
     "output_type": "display_data"
    },
    {
     "name": "stdout",
     "output_type": "stream",
     "text": [
      "3e928fbb17ffcb1386b72e90_a478ba78e043d378776a286c_0cba3d71e26e3cf584105f73\n"
     ]
    },
    {
     "data": {
      "text/plain": [
       "'num_processed: 338/20845'"
      ]
     },
     "metadata": {},
     "output_type": "display_data"
    },
    {
     "name": "stdout",
     "output_type": "stream",
     "text": [
      "4f997cebc61b82e79f3d7f0b_3f266a1089c37ea90326cfb3_568387aa2472a0538b8fc079\n"
     ]
    },
    {
     "data": {
      "text/plain": [
       "'num_processed: 339/20845'"
      ]
     },
     "metadata": {},
     "output_type": "display_data"
    },
    {
     "name": "stdout",
     "output_type": "stream",
     "text": [
      "41cd927ec56a1f00c6ca0bc2_b3b890bf4c19819a48699504_c5e0ec0b5b08c8e51e08a8db\n"
     ]
    },
    {
     "data": {
      "text/plain": [
       "'num_processed: 340/20845'"
      ]
     },
     "metadata": {},
     "output_type": "display_data"
    },
    {
     "name": "stdout",
     "output_type": "stream",
     "text": [
      "50262e5357d08ebde5069526_2331c996fc23269cd57c0281_622da827cb8af164ae1bae3f\n"
     ]
    },
    {
     "data": {
      "text/plain": [
       "'num_processed: 341/20845'"
      ]
     },
     "metadata": {},
     "output_type": "display_data"
    },
    {
     "name": "stdout",
     "output_type": "stream",
     "text": [
      "85c729c744a13dcf057ea9d1_2450f8d864d6f8eb669badef_b02c49113a45ab9418951415\n"
     ]
    },
    {
     "data": {
      "text/plain": [
       "'num_processed: 342/20845'"
      ]
     },
     "metadata": {},
     "output_type": "display_data"
    },
    {
     "name": "stdout",
     "output_type": "stream",
     "text": [
      "28017432fa8d013ed8905cda_385f9cc2bba17fb404555e4e_e159a2a50f66a931703e2f87\n"
     ]
    },
    {
     "data": {
      "text/plain": [
       "'num_processed: 343/20845'"
      ]
     },
     "metadata": {},
     "output_type": "display_data"
    },
    {
     "name": "stdout",
     "output_type": "stream",
     "text": [
      "8cad65bd8e39a0e69ef030b6_09278594d7f72c8e2c4917ca_3eca2d98c66dcad842fc29ac\n"
     ]
    },
    {
     "data": {
      "text/plain": [
       "'num_processed: 344/20845'"
      ]
     },
     "metadata": {},
     "output_type": "display_data"
    },
    {
     "name": "stdout",
     "output_type": "stream",
     "text": [
      "8dcdd3bc4b39d61cbf511db3_ab7f87e85729a73c9729b99e_30ba0147378f33e9d66e1440\n"
     ]
    },
    {
     "data": {
      "text/plain": [
       "'num_processed: 345/20845'"
      ]
     },
     "metadata": {},
     "output_type": "display_data"
    },
    {
     "name": "stdout",
     "output_type": "stream",
     "text": [
      "f9e8494bdd5b2c10d8ab3be4_d08e44d39aa68cf26ac33e23_01b9085f9544762f58f639bc\n"
     ]
    },
    {
     "data": {
      "text/plain": [
       "'num_processed: 346/20845'"
      ]
     },
     "metadata": {},
     "output_type": "display_data"
    },
    {
     "name": "stdout",
     "output_type": "stream",
     "text": [
      "dbfd3dfd73886af4f61e95fc_f9993405b4328d9e9f34d45e_697820e536dee931152a57a7\n"
     ]
    },
    {
     "data": {
      "text/plain": [
       "'num_processed: 347/20845'"
      ]
     },
     "metadata": {},
     "output_type": "display_data"
    },
    {
     "name": "stdout",
     "output_type": "stream",
     "text": [
      "2dcd726e237e65c00cc74a73_451f2c9be1a28f71f25f1bfb_cbf5ddf04dee1e8f8e26e5d5\n"
     ]
    },
    {
     "data": {
      "text/plain": [
       "'num_processed: 348/20845'"
      ]
     },
     "metadata": {},
     "output_type": "display_data"
    },
    {
     "name": "stdout",
     "output_type": "stream",
     "text": [
      "623db0bf819efce61fda62b3_3e8a45d2cd2edf752e05109c_bb2a8f8853d19bd0e413f15c\n"
     ]
    },
    {
     "data": {
      "text/plain": [
       "'num_processed: 349/20845'"
      ]
     },
     "metadata": {},
     "output_type": "display_data"
    },
    {
     "name": "stdout",
     "output_type": "stream",
     "text": [
      "0da0d4451ecfe5187cd1c86c_0cf33ef3ba3416248b498857_f396b607dd8a2da339153387\n"
     ]
    },
    {
     "data": {
      "text/plain": [
       "'num_processed: 350/20845'"
      ]
     },
     "metadata": {},
     "output_type": "display_data"
    },
    {
     "name": "stdout",
     "output_type": "stream",
     "text": [
      "5755611698ca87af90134331_928abc719a2f47e1827e4bdc_19e9e2f3ca30323c6404cc62\n"
     ]
    },
    {
     "data": {
      "text/plain": [
       "'num_processed: 351/20845'"
      ]
     },
     "metadata": {},
     "output_type": "display_data"
    },
    {
     "name": "stdout",
     "output_type": "stream",
     "text": [
      "17ced6218c78bce7dce56257_db2061bddfca1ed9a3fa3bc1_4bc2a40caf1f6ebabd6cfa59\n"
     ]
    },
    {
     "data": {
      "text/plain": [
       "'num_processed: 352/20845'"
      ]
     },
     "metadata": {},
     "output_type": "display_data"
    },
    {
     "name": "stdout",
     "output_type": "stream",
     "text": [
      "7faf5ba748d04d569182de97_89d2a964367c712ac41c3661_6981f86435e8f10c67ce899f\n"
     ]
    },
    {
     "data": {
      "text/plain": [
       "'num_processed: 353/20845'"
      ]
     },
     "metadata": {},
     "output_type": "display_data"
    },
    {
     "name": "stdout",
     "output_type": "stream",
     "text": [
      "a01ff44db83f2c3c6a04a81e_52b07a628dce5be63b87706f_49dadf957344e042c1eb7444\n"
     ]
    },
    {
     "data": {
      "text/plain": [
       "'num_processed: 354/20845'"
      ]
     },
     "metadata": {},
     "output_type": "display_data"
    },
    {
     "name": "stdout",
     "output_type": "stream",
     "text": [
      "bd2c2dee63c068a96d3deffc_b6dfe4af8efede65850cea44_015ec0bd8899ff8b7b93a334\n"
     ]
    },
    {
     "data": {
      "text/plain": [
       "'num_processed: 355/20845'"
      ]
     },
     "metadata": {},
     "output_type": "display_data"
    },
    {
     "name": "stdout",
     "output_type": "stream",
     "text": [
      "da8bd15d69b987128f2f95c4_e2490dae0228c21a55b49385_a606a744bd99a59cfb30b65f\n"
     ]
    },
    {
     "data": {
      "text/plain": [
       "'num_processed: 356/20845'"
      ]
     },
     "metadata": {},
     "output_type": "display_data"
    },
    {
     "name": "stdout",
     "output_type": "stream",
     "text": [
      "17fda7f48e0e4979a549ba01_2a4e50c77bb997f17131bcc0_6e50e397506980c512785028\n"
     ]
    },
    {
     "data": {
      "text/plain": [
       "'num_processed: 357/20845'"
      ]
     },
     "metadata": {},
     "output_type": "display_data"
    },
    {
     "name": "stdout",
     "output_type": "stream",
     "text": [
      "03b14ee8e06d55a31db8ddae_a2517b804a2736427adbb5fe_ee3fc6144717a2f511eae676\n"
     ]
    },
    {
     "data": {
      "text/plain": [
       "'num_processed: 358/20845'"
      ]
     },
     "metadata": {},
     "output_type": "display_data"
    },
    {
     "name": "stdout",
     "output_type": "stream",
     "text": [
      "fb72fc711f22e94817bea754_9d5af4670bb5ba5768c6ed99_c526615f41ae8c796fe3f40b\n"
     ]
    },
    {
     "data": {
      "text/plain": [
       "'num_processed: 359/20845'"
      ]
     },
     "metadata": {},
     "output_type": "display_data"
    },
    {
     "name": "stdout",
     "output_type": "stream",
     "text": [
      "f39c490b3553fdd1850bd642_625b3dfb290a262c2d4408bd_7c1f45e21bc1ab5386a40d75\n"
     ]
    },
    {
     "data": {
      "text/plain": [
       "'num_processed: 360/20845'"
      ]
     },
     "metadata": {},
     "output_type": "display_data"
    },
    {
     "name": "stdout",
     "output_type": "stream",
     "text": [
      "992ed3e530400f9bec6807d6_025d13fcbd6754e86049b4c1_d9d604b4bbd272756811aba3\n"
     ]
    },
    {
     "data": {
      "text/plain": [
       "'num_processed: 361/20845'"
      ]
     },
     "metadata": {},
     "output_type": "display_data"
    },
    {
     "name": "stdout",
     "output_type": "stream",
     "text": [
      "d638e6abd01580522ad3af8f_3bff2f0d7c3c2b352d38c6ca_f3036b5a110dc97afb33af3e\n"
     ]
    },
    {
     "data": {
      "text/plain": [
       "'num_processed: 362/20845'"
      ]
     },
     "metadata": {},
     "output_type": "display_data"
    },
    {
     "name": "stdout",
     "output_type": "stream",
     "text": [
      "9efb7211a8050d615b59e59b_2ab7d9f9bbe2a9baa2b593a0_fc29e2c6ee6e0150a6d7355e\n"
     ]
    },
    {
     "data": {
      "text/plain": [
       "'num_processed: 363/20845'"
      ]
     },
     "metadata": {},
     "output_type": "display_data"
    },
    {
     "name": "stdout",
     "output_type": "stream",
     "text": [
      "25810b6ce462551758ee0299_66b253044fc0ad1377599441_55bd4288a91f8b0440396a30\n"
     ]
    },
    {
     "data": {
      "text/plain": [
       "'num_processed: 364/20845'"
      ]
     },
     "metadata": {},
     "output_type": "display_data"
    },
    {
     "name": "stdout",
     "output_type": "stream",
     "text": [
      "58f7cff7a610c60f7a6b8283_181aaadb196d71f0b27c8fa5_014d7835f158f7a6a38ae088\n"
     ]
    },
    {
     "data": {
      "text/plain": [
       "'num_processed: 365/20845'"
      ]
     },
     "metadata": {},
     "output_type": "display_data"
    },
    {
     "name": "stdout",
     "output_type": "stream",
     "text": [
      "fae54aa185d8456944f4905b_380a374bcacfdc920794fd6c_94c7275108889dd1710031fb\n"
     ]
    },
    {
     "data": {
      "text/plain": [
       "'num_processed: 366/20845'"
      ]
     },
     "metadata": {},
     "output_type": "display_data"
    },
    {
     "name": "stdout",
     "output_type": "stream",
     "text": [
      "b3eaf2ec9d793b4a38e96ad7_79e845639b581f8f3fe1e351_684d22316365db9319302c48\n"
     ]
    },
    {
     "data": {
      "text/plain": [
       "'num_processed: 367/20845'"
      ]
     },
     "metadata": {},
     "output_type": "display_data"
    },
    {
     "name": "stdout",
     "output_type": "stream",
     "text": [
      "97c1b853d0212b7ab8f720fe_9c53b91f2039d9ddc963bc3f_3b211b0e69aa6fa5e1f836ef\n"
     ]
    },
    {
     "data": {
      "text/plain": [
       "'num_processed: 368/20845'"
      ]
     },
     "metadata": {},
     "output_type": "display_data"
    },
    {
     "name": "stdout",
     "output_type": "stream",
     "text": [
      "492028af3cb488db58d92de2_73133a43fc3f85d3952a153e_af3508109f6cd9cdefa08538\n"
     ]
    },
    {
     "data": {
      "text/plain": [
       "'num_processed: 369/20845'"
      ]
     },
     "metadata": {},
     "output_type": "display_data"
    },
    {
     "name": "stdout",
     "output_type": "stream",
     "text": [
      "2b2152e0ff75375983f14142_bc7c52594314277aab9e8c05_100dda9d72a70552520071e7\n"
     ]
    },
    {
     "data": {
      "text/plain": [
       "'num_processed: 370/20845'"
      ]
     },
     "metadata": {},
     "output_type": "display_data"
    },
    {
     "name": "stdout",
     "output_type": "stream",
     "text": [
      "3b3f6f6135e689b567c3f04d_67a902b69813ff996d6faf17_9d3274025e534cae91c91ba6\n"
     ]
    },
    {
     "data": {
      "text/plain": [
       "'num_processed: 371/20845'"
      ]
     },
     "metadata": {},
     "output_type": "display_data"
    },
    {
     "name": "stdout",
     "output_type": "stream",
     "text": [
      "57e8238dd91ac010bb7a2aec_898436b75f7ea573bb327acc_ca2b0ddccb51aa4f3d1596bc\n"
     ]
    },
    {
     "data": {
      "text/plain": [
       "'num_processed: 372/20845'"
      ]
     },
     "metadata": {},
     "output_type": "display_data"
    },
    {
     "name": "stdout",
     "output_type": "stream",
     "text": [
      "c639d02fbda1a11223398381_5da53b5f057bc100b8a9ee68_7fa2ad743ecbf8955ee9c60b\n"
     ]
    },
    {
     "data": {
      "text/plain": [
       "'num_processed: 373/20845'"
      ]
     },
     "metadata": {},
     "output_type": "display_data"
    },
    {
     "name": "stdout",
     "output_type": "stream",
     "text": [
      "ab3127bb83ab69302a2873b6_c55a1f6e1381b79d7ba749f3_bb942dc173f71085e954e562\n"
     ]
    },
    {
     "data": {
      "text/plain": [
       "'num_processed: 374/20845'"
      ]
     },
     "metadata": {},
     "output_type": "display_data"
    },
    {
     "name": "stdout",
     "output_type": "stream",
     "text": [
      "8adc5c7a495ed89d330e3b3e_ae3748aad031d0d005f70545_5382111a1cd549bee394a969\n"
     ]
    },
    {
     "data": {
      "text/plain": [
       "'num_processed: 375/20845'"
      ]
     },
     "metadata": {},
     "output_type": "display_data"
    },
    {
     "name": "stdout",
     "output_type": "stream",
     "text": [
      "3d7bbfc9befe7cc29cdb0a10_02d6142acaa433950846d923_bc1c46cf2fef8f6fd45a6320\n"
     ]
    },
    {
     "data": {
      "text/plain": [
       "'num_processed: 376/20845'"
      ]
     },
     "metadata": {},
     "output_type": "display_data"
    },
    {
     "name": "stdout",
     "output_type": "stream",
     "text": [
      "0a8a7c2b0a7d8530857f7e24_1de1762231ce863d6d3adc6b_062bb907f341349bdc35d812\n",
      "ERROR TRASFORMING!\n",
      "ERROR TRASFORMING!\n",
      "ERROR TRASFORMING!\n",
      "ERROR TRASFORMING!\n",
      "ERROR TRASFORMING!\n",
      "ERROR TRASFORMING!\n",
      "ERROR TRASFORMING!\n"
     ]
    },
    {
     "data": {
      "text/plain": [
       "'num_processed: 377/20845'"
      ]
     },
     "metadata": {},
     "output_type": "display_data"
    },
    {
     "name": "stdout",
     "output_type": "stream",
     "text": [
      "3c7d80ec5b2d4bf23e2a0ca0_d3df135e831d6d10e5ab8cca_10da3cacadabe5b719d304ca\n"
     ]
    },
    {
     "data": {
      "text/plain": [
       "'num_processed: 378/20845'"
      ]
     },
     "metadata": {},
     "output_type": "display_data"
    },
    {
     "name": "stdout",
     "output_type": "stream",
     "text": [
      "5b32399c421a3fefec66d404_0f79e6f28b410bcd9931094e_828de89291dab6b025b4fd88\n"
     ]
    },
    {
     "data": {
      "text/plain": [
       "'num_processed: 379/20845'"
      ]
     },
     "metadata": {},
     "output_type": "display_data"
    },
    {
     "name": "stdout",
     "output_type": "stream",
     "text": [
      "63f05ac05993dcc27d640e8c_fe5731c2e362ef81897d70fa_17ab6a7eccca2a7d044ad124\n"
     ]
    },
    {
     "data": {
      "text/plain": [
       "'num_processed: 380/20845'"
      ]
     },
     "metadata": {},
     "output_type": "display_data"
    },
    {
     "name": "stdout",
     "output_type": "stream",
     "text": [
      "312ef45367f173ad90d66ae8_d120795b766c8af25ccad343_c625c807397d44e8698eb77e\n",
      "ERROR TRASFORMING!\n",
      "ERROR TRASFORMING!\n"
     ]
    },
    {
     "data": {
      "text/plain": [
       "'num_processed: 381/20845'"
      ]
     },
     "metadata": {},
     "output_type": "display_data"
    },
    {
     "name": "stdout",
     "output_type": "stream",
     "text": [
      "21e00007e2ffb68ff0b90d84_429e1c348389ec74f6612638_cb940534f2ad99395782a43a\n"
     ]
    },
    {
     "data": {
      "text/plain": [
       "'num_processed: 382/20845'"
      ]
     },
     "metadata": {},
     "output_type": "display_data"
    },
    {
     "name": "stdout",
     "output_type": "stream",
     "text": [
      "13398a6bdad496eb81febb8f_e0b2cc5238d976fd66f00710_fdb76cfca7f15c25f23f2af1\n"
     ]
    },
    {
     "data": {
      "text/plain": [
       "'num_processed: 383/20845'"
      ]
     },
     "metadata": {},
     "output_type": "display_data"
    },
    {
     "name": "stdout",
     "output_type": "stream",
     "text": [
      "3c8608f7384a87313538b8fa_f0900eb4ba509ff5e1cb8e7f_bc890b425116a6e54397b2b7\n"
     ]
    },
    {
     "data": {
      "text/plain": [
       "'num_processed: 384/20845'"
      ]
     },
     "metadata": {},
     "output_type": "display_data"
    },
    {
     "name": "stdout",
     "output_type": "stream",
     "text": [
      "975c9181e83c85eda5762e84_5925a83836912048a1c512a9_090830c7689f3f94386b1363\n"
     ]
    },
    {
     "data": {
      "text/plain": [
       "'num_processed: 385/20845'"
      ]
     },
     "metadata": {},
     "output_type": "display_data"
    },
    {
     "name": "stdout",
     "output_type": "stream",
     "text": [
      "57f77321fdac38dcbe9dc067_83353bf9df728ab4b24ffb8d_e42e3fa287023691d61985b8\n"
     ]
    },
    {
     "data": {
      "text/plain": [
       "'num_processed: 386/20845'"
      ]
     },
     "metadata": {},
     "output_type": "display_data"
    },
    {
     "name": "stdout",
     "output_type": "stream",
     "text": [
      "939d7fa970d31bf2f0017396_213b45f87d96c815a9f5506e_ad4ed339ba042eb00231e7e2\n"
     ]
    },
    {
     "data": {
      "text/plain": [
       "'num_processed: 387/20845'"
      ]
     },
     "metadata": {},
     "output_type": "display_data"
    },
    {
     "name": "stdout",
     "output_type": "stream",
     "text": [
      "6e790b45114f3144813f95a5_c86e16b4ad3c687749c8a6c0_bb9200358fd462cdd14530d6\n"
     ]
    },
    {
     "data": {
      "text/plain": [
       "'num_processed: 388/20845'"
      ]
     },
     "metadata": {},
     "output_type": "display_data"
    },
    {
     "name": "stdout",
     "output_type": "stream",
     "text": [
      "4fb399a38a1d4a18f2a52fe9_444244faea8ffe0f7ef2102a_c6107d3a39737dff93111778\n"
     ]
    },
    {
     "data": {
      "text/plain": [
       "'num_processed: 389/20845'"
      ]
     },
     "metadata": {},
     "output_type": "display_data"
    },
    {
     "name": "stdout",
     "output_type": "stream",
     "text": [
      "570c3cabe4b0b585da44890b_d2081f16c863be66ab0b84d8_45a8de530f0b3e9d1463b477\n"
     ]
    },
    {
     "data": {
      "text/plain": [
       "'num_processed: 390/20845'"
      ]
     },
     "metadata": {},
     "output_type": "display_data"
    },
    {
     "name": "stdout",
     "output_type": "stream",
     "text": [
      "8c5993670187141e20dcc7dd_961c7e6ab98f0ac3387fe6b8_e634a6cb242a4e5111f3aa11\n"
     ]
    },
    {
     "data": {
      "text/plain": [
       "'num_processed: 391/20845'"
      ]
     },
     "metadata": {},
     "output_type": "display_data"
    },
    {
     "name": "stdout",
     "output_type": "stream",
     "text": [
      "691cffce3e68e107516b198e_2c4d5ad90061fddd56d0c630_034ea1c679c5076ffee6ba1c\n"
     ]
    },
    {
     "data": {
      "text/plain": [
       "'num_processed: 392/20845'"
      ]
     },
     "metadata": {},
     "output_type": "display_data"
    },
    {
     "name": "stdout",
     "output_type": "stream",
     "text": [
      "11471aaab223c5648a94dd18_2b215a63c6c58637e34b2479_1e19d94b973143471a3c59ef\n"
     ]
    },
    {
     "data": {
      "text/plain": [
       "'num_processed: 393/20845'"
      ]
     },
     "metadata": {},
     "output_type": "display_data"
    },
    {
     "name": "stdout",
     "output_type": "stream",
     "text": [
      "625692e982dd3163a4d8296f_fe0bebb53182618de76c6fd3_1591fd671f7d16b7072c1233\n"
     ]
    },
    {
     "data": {
      "text/plain": [
       "'num_processed: 394/20845'"
      ]
     },
     "metadata": {},
     "output_type": "display_data"
    },
    {
     "name": "stdout",
     "output_type": "stream",
     "text": [
      "56e79395e4b093d14fc66b83_13c571ce26bcd430a271afc5_a8cd5ed3a6d52251597eb66f\n"
     ]
    },
    {
     "data": {
      "text/plain": [
       "'num_processed: 395/20845'"
      ]
     },
     "metadata": {},
     "output_type": "display_data"
    },
    {
     "name": "stdout",
     "output_type": "stream",
     "text": [
      "dd49ce1f2e0f4061e6333774_93a386ab2157e63abde8ae12_60231f938f92a8a16c96d09b\n"
     ]
    },
    {
     "data": {
      "text/plain": [
       "'num_processed: 396/20845'"
      ]
     },
     "metadata": {},
     "output_type": "display_data"
    },
    {
     "name": "stdout",
     "output_type": "stream",
     "text": [
      "599dc4bc4e0159d8865b05f2_a09ffb8b94e082a341863558_258b25b445a280fcc546c07c\n"
     ]
    },
    {
     "data": {
      "text/plain": [
       "'num_processed: 397/20845'"
      ]
     },
     "metadata": {},
     "output_type": "display_data"
    },
    {
     "name": "stdout",
     "output_type": "stream",
     "text": [
      "cdac2753ca5de7650c15a47f_a7b2f242951028ff983be105_418fda5b55c8ca05ea9f24d9\n"
     ]
    },
    {
     "data": {
      "text/plain": [
       "'num_processed: 398/20845'"
      ]
     },
     "metadata": {},
     "output_type": "display_data"
    },
    {
     "name": "stdout",
     "output_type": "stream",
     "text": [
      "ee4d24cee2a6d41aff220648_65fb1be6139ff6895b375178_3342a86425f3c95d25df4157\n"
     ]
    },
    {
     "data": {
      "text/plain": [
       "'num_processed: 399/20845'"
      ]
     },
     "metadata": {},
     "output_type": "display_data"
    },
    {
     "name": "stdout",
     "output_type": "stream",
     "text": [
      "abe3df903a9b4d2a297ec8da_a967b9aef52c98c366df317a_6576b08ca925b9f00e5732ac\n"
     ]
    },
    {
     "data": {
      "text/plain": [
       "'num_processed: 400/20845'"
      ]
     },
     "metadata": {},
     "output_type": "display_data"
    },
    {
     "name": "stdout",
     "output_type": "stream",
     "text": [
      "5a466833235fae877241333e_0308ff50954e8a15da52392a_fd494bf3ee1e59f93fc12f1f\n"
     ]
    },
    {
     "data": {
      "text/plain": [
       "'num_processed: 401/20845'"
      ]
     },
     "metadata": {},
     "output_type": "display_data"
    },
    {
     "name": "stdout",
     "output_type": "stream",
     "text": [
      "1e1b74a5fed0265f8b018a89_f7999cb5bf2b54cfcc09f1f6_701927d48eec47919c597009\n"
     ]
    },
    {
     "data": {
      "text/plain": [
       "'num_processed: 402/20845'"
      ]
     },
     "metadata": {},
     "output_type": "display_data"
    },
    {
     "name": "stdout",
     "output_type": "stream",
     "text": [
      "2ed15c94e7b724660e4a055f_0f4431a81f05b18b473c8e06_015eedbf821636baf6a3b5d8\n"
     ]
    },
    {
     "data": {
      "text/plain": [
       "'num_processed: 403/20845'"
      ]
     },
     "metadata": {},
     "output_type": "display_data"
    },
    {
     "name": "stdout",
     "output_type": "stream",
     "text": [
      "85a1647820de92d55375e66d_e880a4467e4f7849d381002f_45b3383ed982e30794cb463b\n"
     ]
    },
    {
     "data": {
      "text/plain": [
       "'num_processed: 404/20845'"
      ]
     },
     "metadata": {},
     "output_type": "display_data"
    },
    {
     "name": "stdout",
     "output_type": "stream",
     "text": [
      "0fd14e1c54a3e91250dd2378_039d45188cf5aee228dc1645_b1fca05bdebe11450fde7c3b\n"
     ]
    },
    {
     "data": {
      "text/plain": [
       "'num_processed: 405/20845'"
      ]
     },
     "metadata": {},
     "output_type": "display_data"
    },
    {
     "name": "stdout",
     "output_type": "stream",
     "text": [
      "d5a2d088bf6592c80a047198_2b93a36aad7bd0678bd41d2d_628485e875bb5ce605a7ffb9\n"
     ]
    },
    {
     "data": {
      "text/plain": [
       "'num_processed: 406/20845'"
      ]
     },
     "metadata": {},
     "output_type": "display_data"
    },
    {
     "name": "stdout",
     "output_type": "stream",
     "text": [
      "72036555699c7d7905c7ff8e_7657a16ee5c576c5325cfbec_0370bd2c7d91f7bd710fa064\n"
     ]
    },
    {
     "data": {
      "text/plain": [
       "'num_processed: 407/20845'"
      ]
     },
     "metadata": {},
     "output_type": "display_data"
    },
    {
     "name": "stdout",
     "output_type": "stream",
     "text": [
      "e97bc9747c250c4b361d0e20_91da30f9252cdd06d4e261ca_d229d2c46811001798eefbd6\n"
     ]
    },
    {
     "data": {
      "text/plain": [
       "'num_processed: 408/20845'"
      ]
     },
     "metadata": {},
     "output_type": "display_data"
    },
    {
     "name": "stdout",
     "output_type": "stream",
     "text": [
      "28844caa4dc8a409296e61de_8ab0256384e02b9b8722ec02_b624771a5bb8d9da107609e7\n"
     ]
    },
    {
     "data": {
      "text/plain": [
       "'num_processed: 409/20845'"
      ]
     },
     "metadata": {},
     "output_type": "display_data"
    },
    {
     "name": "stdout",
     "output_type": "stream",
     "text": [
      "ee9c8bdc851f5ca35bda1675_9d6a4331c92fb11f3638fa03_0d0ad090590e7e3605360272\n"
     ]
    },
    {
     "data": {
      "text/plain": [
       "'num_processed: 410/20845'"
      ]
     },
     "metadata": {},
     "output_type": "display_data"
    },
    {
     "name": "stdout",
     "output_type": "stream",
     "text": [
      "58be9204e055810fc68529f0_61f34cabb596db082e50dd7b_17624dcd81c649ab0407df78\n"
     ]
    },
    {
     "data": {
      "text/plain": [
       "'num_processed: 411/20845'"
      ]
     },
     "metadata": {},
     "output_type": "display_data"
    },
    {
     "name": "stdout",
     "output_type": "stream",
     "text": [
      "ecbc0793f64f8fb3a2d4023f_3270cb7894b6be9a46184074_79ce539b77cf47b0cadf2d6a\n"
     ]
    },
    {
     "data": {
      "text/plain": [
       "'num_processed: 412/20845'"
      ]
     },
     "metadata": {},
     "output_type": "display_data"
    },
    {
     "name": "stdout",
     "output_type": "stream",
     "text": [
      "90e927184ec340e571b3db03_b5ad4bebef7e724e624ec4ab_3d079d31c1d1df645245f616\n"
     ]
    },
    {
     "data": {
      "text/plain": [
       "'num_processed: 413/20845'"
      ]
     },
     "metadata": {},
     "output_type": "display_data"
    },
    {
     "name": "stdout",
     "output_type": "stream",
     "text": [
      "ed6d71ee3c8864325fa9f808_c1765a215b1f41f9ba6f242b_463a66406dda115264cb0423\n"
     ]
    },
    {
     "data": {
      "text/plain": [
       "'num_processed: 414/20845'"
      ]
     },
     "metadata": {},
     "output_type": "display_data"
    },
    {
     "name": "stdout",
     "output_type": "stream",
     "text": [
      "09f8e441c60defdc21d7853f_4c871365672c94b0ad1cc8fb_e6c8eaca33ef4eed5280e11f\n"
     ]
    },
    {
     "data": {
      "text/plain": [
       "'num_processed: 415/20845'"
      ]
     },
     "metadata": {},
     "output_type": "display_data"
    },
    {
     "name": "stdout",
     "output_type": "stream",
     "text": [
      "894b807f25039060d3a8e7fa_8d9d7ab9dca3788e2339775e_761f4eadd6ea0dd8916f2423\n"
     ]
    },
    {
     "data": {
      "text/plain": [
       "'num_processed: 416/20845'"
      ]
     },
     "metadata": {},
     "output_type": "display_data"
    },
    {
     "name": "stdout",
     "output_type": "stream",
     "text": [
      "81c605de2090ad86b91a39ab_0755a6bb0dad43ccae6c6007_c72b947e8a48d17cd87da733\n"
     ]
    },
    {
     "data": {
      "text/plain": [
       "'num_processed: 417/20845'"
      ]
     },
     "metadata": {},
     "output_type": "display_data"
    },
    {
     "name": "stdout",
     "output_type": "stream",
     "text": [
      "9bcac951075d0bd07fcab0b0_54e88aed8443948743aef415_0d57b112130f8d5d1e0de4e0\n"
     ]
    },
    {
     "data": {
      "text/plain": [
       "'num_processed: 418/20845'"
      ]
     },
     "metadata": {},
     "output_type": "display_data"
    },
    {
     "name": "stdout",
     "output_type": "stream",
     "text": [
      "572b45f7e4b077d8431b16cc_6ebcac5c4bca738cd03b5e96_9a0750bf26c5ea3c6cddf51d\n"
     ]
    },
    {
     "data": {
      "text/plain": [
       "'num_processed: 419/20845'"
      ]
     },
     "metadata": {},
     "output_type": "display_data"
    },
    {
     "name": "stdout",
     "output_type": "stream",
     "text": [
      "6b37f3dc910b2ebd372c9bf8_ed90aa64a6099289281dfb76_82d414cec784d0edf965414f\n"
     ]
    },
    {
     "data": {
      "text/plain": [
       "'num_processed: 420/20845'"
      ]
     },
     "metadata": {},
     "output_type": "display_data"
    },
    {
     "name": "stdout",
     "output_type": "stream",
     "text": [
      "20c13f2c12d90514d34cbbe5_54385cb6cfda029e21b929d6_f965a85c839424df7ae79bfc\n"
     ]
    },
    {
     "data": {
      "text/plain": [
       "'num_processed: 421/20845'"
      ]
     },
     "metadata": {},
     "output_type": "display_data"
    },
    {
     "name": "stdout",
     "output_type": "stream",
     "text": [
      "b41e525bfcfa5cb97f67de23_0690f73cb91b4891fc15a6c9_6c55de92b5a94f4849b70d8e\n"
     ]
    },
    {
     "data": {
      "text/plain": [
       "'num_processed: 422/20845'"
      ]
     },
     "metadata": {},
     "output_type": "display_data"
    },
    {
     "name": "stdout",
     "output_type": "stream",
     "text": [
      "c44da3d99946f9d69b6c320b_1d93bc3e93f94bb2c51811a7_d5cb7acdeb51197320c8190e\n"
     ]
    },
    {
     "data": {
      "text/plain": [
       "'num_processed: 423/20845'"
      ]
     },
     "metadata": {},
     "output_type": "display_data"
    },
    {
     "name": "stdout",
     "output_type": "stream",
     "text": [
      "c5fcc9899c77d147d602fb34_6bf018137aebf0db82623943_82f9e3585a185825ebdfd892\n"
     ]
    },
    {
     "data": {
      "text/plain": [
       "'num_processed: 424/20845'"
      ]
     },
     "metadata": {},
     "output_type": "display_data"
    },
    {
     "name": "stdout",
     "output_type": "stream",
     "text": [
      "1879c06a6e234d445afc4431_e779bd8b2c8826be8936e044_0416f5586023f3dffe319684\n"
     ]
    },
    {
     "data": {
      "text/plain": [
       "'num_processed: 425/20845'"
      ]
     },
     "metadata": {},
     "output_type": "display_data"
    },
    {
     "name": "stdout",
     "output_type": "stream",
     "text": [
      "285a5e7f61b5551663813afd_c48e477e372be927b15f4a7f_d08ea97ac7825b0d4386db6f\n"
     ]
    },
    {
     "data": {
      "text/plain": [
       "'num_processed: 426/20845'"
      ]
     },
     "metadata": {},
     "output_type": "display_data"
    },
    {
     "name": "stdout",
     "output_type": "stream",
     "text": [
      "8041631d049385f40803fb01_eb1526b635317c4b7a3ff8b1_ccdd650c6758654819efa562\n"
     ]
    },
    {
     "data": {
      "text/plain": [
       "'num_processed: 427/20845'"
      ]
     },
     "metadata": {},
     "output_type": "display_data"
    },
    {
     "name": "stdout",
     "output_type": "stream",
     "text": [
      "0fe90152b6003e3d5dbfeef4_9173f29a3a768a93662168aa_6af6d41d2c3f03443b5a3921\n"
     ]
    },
    {
     "data": {
      "text/plain": [
       "'num_processed: 428/20845'"
      ]
     },
     "metadata": {},
     "output_type": "display_data"
    },
    {
     "name": "stdout",
     "output_type": "stream",
     "text": [
      "58c327e085eca50f97569959_0623c57c9a21e83656febe78_775aba50710b5cf766583897\n"
     ]
    },
    {
     "data": {
      "text/plain": [
       "'num_processed: 429/20845'"
      ]
     },
     "metadata": {},
     "output_type": "display_data"
    },
    {
     "name": "stdout",
     "output_type": "stream",
     "text": [
      "b1f6001d7fb21d3fd4eef405_0ede4776f4b4383d58676792_7e0570a1d4230a26e1aeeae3\n"
     ]
    },
    {
     "data": {
      "text/plain": [
       "'num_processed: 430/20845'"
      ]
     },
     "metadata": {},
     "output_type": "display_data"
    },
    {
     "name": "stdout",
     "output_type": "stream",
     "text": [
      "89417158bc2c4232adcd0766_671b42da4a32e6f2523b9380_20198dff65fbe4bef8d7ada0\n"
     ]
    },
    {
     "data": {
      "text/plain": [
       "'num_processed: 431/20845'"
      ]
     },
     "metadata": {},
     "output_type": "display_data"
    },
    {
     "name": "stdout",
     "output_type": "stream",
     "text": [
      "6812e041b07f55f42cfe818b_13299702a3a65f57361cef3b_65d94ddd3dda1e92b4c3ebe8\n",
      "ERROR TRASFORMING!\n"
     ]
    },
    {
     "data": {
      "text/plain": [
       "'num_processed: 432/20845'"
      ]
     },
     "metadata": {},
     "output_type": "display_data"
    },
    {
     "name": "stdout",
     "output_type": "stream",
     "text": [
      "be82a36d2a034bc2ba622f12_171f2c1f79189bd056417ab0_cd3a110edd7dd37fe2e75900\n"
     ]
    },
    {
     "data": {
      "text/plain": [
       "'num_processed: 433/20845'"
      ]
     },
     "metadata": {},
     "output_type": "display_data"
    },
    {
     "name": "stdout",
     "output_type": "stream",
     "text": [
      "af47a8f70846726ac4923773_beb879529a48fdc1e15a8df1_9e8a36eab7b9af1afb84b05c\n"
     ]
    },
    {
     "data": {
      "text/plain": [
       "'num_processed: 434/20845'"
      ]
     },
     "metadata": {},
     "output_type": "display_data"
    },
    {
     "name": "stdout",
     "output_type": "stream",
     "text": [
      "5c888f01678090eeed6068fd_cdbc989b593da8a2efd92516_d840cefdeff5e10591a4abb9\n"
     ]
    },
    {
     "data": {
      "text/plain": [
       "'num_processed: 435/20845'"
      ]
     },
     "metadata": {},
     "output_type": "display_data"
    },
    {
     "name": "stdout",
     "output_type": "stream",
     "text": [
      "341a16e772a4735c5e5c560f_5a6faf96014b25d1e3334338_f82dbb4d40818fe30296572e\n"
     ]
    },
    {
     "data": {
      "text/plain": [
       "'num_processed: 436/20845'"
      ]
     },
     "metadata": {},
     "output_type": "display_data"
    },
    {
     "name": "stdout",
     "output_type": "stream",
     "text": [
      "75104d248172e9fe81aa4fc2_3ba47c195a71b85c56afe67e_bf3a2a5b671e2741d471eef6\n",
      "ERROR TRASFORMING!\n"
     ]
    },
    {
     "data": {
      "text/plain": [
       "'num_processed: 437/20845'"
      ]
     },
     "metadata": {},
     "output_type": "display_data"
    },
    {
     "name": "stdout",
     "output_type": "stream",
     "text": [
      "c24d89ac61d80a8e5356edab_3972cdac5f265b66c9c99c9e_1a3b58daf84bede8c4e5d95e\n"
     ]
    },
    {
     "data": {
      "text/plain": [
       "'num_processed: 438/20845'"
      ]
     },
     "metadata": {},
     "output_type": "display_data"
    },
    {
     "name": "stdout",
     "output_type": "stream",
     "text": [
      "9e7ac182349cd9ef7d866915_22fe9f3115fd41cb827c9eb1_aaf774e3d085811f64cce27d\n"
     ]
    },
    {
     "data": {
      "text/plain": [
       "'num_processed: 439/20845'"
      ]
     },
     "metadata": {},
     "output_type": "display_data"
    },
    {
     "name": "stdout",
     "output_type": "stream",
     "text": [
      "cb408b6ab89626e2eca2e816_a173c70159858d3508510f39_bcece10feceab93be3e1d8f5\n"
     ]
    },
    {
     "data": {
      "text/plain": [
       "'num_processed: 440/20845'"
      ]
     },
     "metadata": {},
     "output_type": "display_data"
    },
    {
     "name": "stdout",
     "output_type": "stream",
     "text": [
      "de08a84543040e838752770d_951bf8af52abbf94ca5e147d_af1015d54a60bc612b13cf9f\n"
     ]
    },
    {
     "data": {
      "text/plain": [
       "'num_processed: 441/20845'"
      ]
     },
     "metadata": {},
     "output_type": "display_data"
    },
    {
     "name": "stdout",
     "output_type": "stream",
     "text": [
      "852055b92e855a554a2f10e1_a7e32fad2141cca947893859_c14c8427f4bef8799d05df22\n"
     ]
    },
    {
     "data": {
      "text/plain": [
       "'num_processed: 442/20845'"
      ]
     },
     "metadata": {},
     "output_type": "display_data"
    },
    {
     "name": "stdout",
     "output_type": "stream",
     "text": [
      "6d6523149e6657c72eddfb57_b60fda2fc0ddb95bf17e05db_1d7f2deef2b9c1a626d36294\n"
     ]
    },
    {
     "data": {
      "text/plain": [
       "'num_processed: 443/20845'"
      ]
     },
     "metadata": {},
     "output_type": "display_data"
    },
    {
     "name": "stdout",
     "output_type": "stream",
     "text": [
      "e0cd8d59a7c7012fca610c89_e5e69e1250cb0216499efdd6_1ccc2bc5e5041f3b732621c7\n"
     ]
    },
    {
     "data": {
      "text/plain": [
       "'num_processed: 444/20845'"
      ]
     },
     "metadata": {},
     "output_type": "display_data"
    },
    {
     "name": "stdout",
     "output_type": "stream",
     "text": [
      "dabc6466bd667b56f493e74c_4fc8ba3811cd4430329101b4_3a2c6b97c231b49cd54ab5d6\n"
     ]
    },
    {
     "data": {
      "text/plain": [
       "'num_processed: 445/20845'"
      ]
     },
     "metadata": {},
     "output_type": "display_data"
    },
    {
     "name": "stdout",
     "output_type": "stream",
     "text": [
      "c8e57a49c5d0d53e46b19335_1f2085e3fd622db5b00d1c93_f4f5ac7e48d9deca7468046c\n"
     ]
    },
    {
     "data": {
      "text/plain": [
       "'num_processed: 446/20845'"
      ]
     },
     "metadata": {},
     "output_type": "display_data"
    },
    {
     "name": "stdout",
     "output_type": "stream",
     "text": [
      "9fe6394df1f08bb9628a0d13_bf93626958cecb1a270a119a_491a7107d71d2ec9c4f60517\n"
     ]
    },
    {
     "data": {
      "text/plain": [
       "'num_processed: 447/20845'"
      ]
     },
     "metadata": {},
     "output_type": "display_data"
    },
    {
     "name": "stdout",
     "output_type": "stream",
     "text": [
      "c3e7da37271fb82559fdcf92_cd95ff8fdb3796ccdd16dad7_58cf769e773b4bb5af47795e\n"
     ]
    },
    {
     "data": {
      "text/plain": [
       "'num_processed: 448/20845'"
      ]
     },
     "metadata": {},
     "output_type": "display_data"
    },
    {
     "name": "stdout",
     "output_type": "stream",
     "text": [
      "39c69f783e0ca74ee6c63577_317e6085f5e2dd0783c0413f_d048ba2653ded71ba9548da1\n",
      "ERROR TRASFORMING!\n"
     ]
    },
    {
     "data": {
      "text/plain": [
       "'num_processed: 449/20845'"
      ]
     },
     "metadata": {},
     "output_type": "display_data"
    },
    {
     "name": "stdout",
     "output_type": "stream",
     "text": [
      "215ec40e526fedae70c446af_58658f3b981c3fbcb11d81a2_0a938a059c3b8717316b4417\n"
     ]
    },
    {
     "data": {
      "text/plain": [
       "'num_processed: 450/20845'"
      ]
     },
     "metadata": {},
     "output_type": "display_data"
    },
    {
     "name": "stdout",
     "output_type": "stream",
     "text": [
      "57058505e4b0432facb1f0ef_70ec56e978242821f6bf22a5_b09d7d042848bc68741dc439\n"
     ]
    },
    {
     "data": {
      "text/plain": [
       "'num_processed: 451/20845'"
      ]
     },
     "metadata": {},
     "output_type": "display_data"
    },
    {
     "name": "stdout",
     "output_type": "stream",
     "text": [
      "358b4a3a164994b8d7ad6867_098311176265c705923a90c6_f3826318e4dbba266a864417\n"
     ]
    },
    {
     "data": {
      "text/plain": [
       "'num_processed: 452/20845'"
      ]
     },
     "metadata": {},
     "output_type": "display_data"
    },
    {
     "name": "stdout",
     "output_type": "stream",
     "text": [
      "7fb29de0c1c2e605327ec88d_7032c661ccbd44a8ea70333c_777fca304b66f4e242de4c74\n"
     ]
    },
    {
     "data": {
      "text/plain": [
       "'num_processed: 453/20845'"
      ]
     },
     "metadata": {},
     "output_type": "display_data"
    },
    {
     "name": "stdout",
     "output_type": "stream",
     "text": [
      "26a9c542dad030af1feb2275_27446040304a062d65cdb658_503f55f5adabf16ee6a3c2a3\n"
     ]
    },
    {
     "data": {
      "text/plain": [
       "'num_processed: 454/20845'"
      ]
     },
     "metadata": {},
     "output_type": "display_data"
    },
    {
     "name": "stdout",
     "output_type": "stream",
     "text": [
      "58a86e32ebf14d0f8e204543_41047b158ee6e96379753b09_a37a4aebd96cdec95374bc35\n"
     ]
    },
    {
     "data": {
      "text/plain": [
       "'num_processed: 455/20845'"
      ]
     },
     "metadata": {},
     "output_type": "display_data"
    },
    {
     "name": "stdout",
     "output_type": "stream",
     "text": [
      "58a5ec8eebf14d0f8e1d544a_6329b9b424061bc131d36e29_a41017c8c17415bb7d3f7844\n"
     ]
    },
    {
     "data": {
      "text/plain": [
       "'num_processed: 456/20845'"
      ]
     },
     "metadata": {},
     "output_type": "display_data"
    },
    {
     "name": "stdout",
     "output_type": "stream",
     "text": [
      "58b5fdef971a2a09bbd9b9b3_c00a4971245df1edeb082377_51b462cc6f9b4641863bf9ab\n"
     ]
    },
    {
     "data": {
      "text/plain": [
       "'num_processed: 457/20845'"
      ]
     },
     "metadata": {},
     "output_type": "display_data"
    },
    {
     "name": "stdout",
     "output_type": "stream",
     "text": [
      "887846717abd832ab05b9cdc_0b5b93ff6ad795ccb7e7ac04_8cc084f32b3ecae79011e65c\n"
     ]
    },
    {
     "data": {
      "text/plain": [
       "'num_processed: 458/20845'"
      ]
     },
     "metadata": {},
     "output_type": "display_data"
    },
    {
     "name": "stdout",
     "output_type": "stream",
     "text": [
      "248a73b83399801e3dfc37e2_58c802794a3e220506910f3f_f84900b1c13c5fe059e0425c\n"
     ]
    },
    {
     "data": {
      "text/plain": [
       "'num_processed: 459/20845'"
      ]
     },
     "metadata": {},
     "output_type": "display_data"
    },
    {
     "name": "stdout",
     "output_type": "stream",
     "text": [
      "7cd70b962fbbc6223c99f394_836c54e943497de659c7bde6_283a3715c5ee76a8d677fd0a\n",
      "EROR IN process_axial - PK_SURF_ask_uvboxERROR TRASFORMING!\n",
      "ERROR TRASFORMING!\n"
     ]
    },
    {
     "data": {
      "text/plain": [
       "'num_processed: 460/20845'"
      ]
     },
     "metadata": {},
     "output_type": "display_data"
    },
    {
     "name": "stdout",
     "output_type": "stream",
     "text": [
      "198dcd2587b80bfaef58bf0b_47699571c9bfff5dd1735c02_1a4d79945b4ba3be592c5b2a\n"
     ]
    },
    {
     "data": {
      "text/plain": [
       "'num_processed: 461/20845'"
      ]
     },
     "metadata": {},
     "output_type": "display_data"
    },
    {
     "name": "stdout",
     "output_type": "stream",
     "text": [
      "575934b9e4b09a0dceea0b3e_f27ad4f48e2d3d538b8429a2_db472979ab702dacca0373b8\n"
     ]
    },
    {
     "data": {
      "text/plain": [
       "'num_processed: 462/20845'"
      ]
     },
     "metadata": {},
     "output_type": "display_data"
    },
    {
     "name": "stdout",
     "output_type": "stream",
     "text": [
      "577891a7e4b01e1a45c372bb_d860fa465cbba8ea42932a0c_6bf854dca9ab136db7a80667\n"
     ]
    },
    {
     "data": {
      "text/plain": [
       "'num_processed: 463/20845'"
      ]
     },
     "metadata": {},
     "output_type": "display_data"
    },
    {
     "name": "stdout",
     "output_type": "stream",
     "text": [
      "9a404ede1db9e27c225e4376_5f3b11af7982df186060887f_dd9b48e51f76929d322bfc5a\n"
     ]
    },
    {
     "data": {
      "text/plain": [
       "'num_processed: 464/20845'"
      ]
     },
     "metadata": {},
     "output_type": "display_data"
    },
    {
     "name": "stdout",
     "output_type": "stream",
     "text": [
      "a68836d35b2520d565e6458d_2a034768fba08b5e532d3080_ce7576155236c5088e46be28\n"
     ]
    },
    {
     "data": {
      "text/plain": [
       "'num_processed: 465/20845'"
      ]
     },
     "metadata": {},
     "output_type": "display_data"
    },
    {
     "name": "stdout",
     "output_type": "stream",
     "text": [
      "ed5a51497e8ef53ddae458e6_75758798bdd0c181d69ea840_85c37b13388196d38adbca90\n"
     ]
    },
    {
     "data": {
      "text/plain": [
       "'num_processed: 466/20845'"
      ]
     },
     "metadata": {},
     "output_type": "display_data"
    },
    {
     "name": "stdout",
     "output_type": "stream",
     "text": [
      "68b190e1edccd56ab9ac4272_0fb7b3f27b5be1420c2aae8d_08114f5ba9e3a7bf0f6a96df\n"
     ]
    },
    {
     "data": {
      "text/plain": [
       "'num_processed: 467/20845'"
      ]
     },
     "metadata": {},
     "output_type": "display_data"
    },
    {
     "name": "stdout",
     "output_type": "stream",
     "text": [
      "0337dd9675fd79b09ff7310d_ef515771c9ca8e777ae5bf65_e3d19ec141a11c7ca0ac2ccd\n"
     ]
    },
    {
     "data": {
      "text/plain": [
       "'num_processed: 468/20845'"
      ]
     },
     "metadata": {},
     "output_type": "display_data"
    },
    {
     "name": "stdout",
     "output_type": "stream",
     "text": [
      "94584188617086ad2205b9e9_9e51d40c1796f028510a09f4_a564bf30571e691ec6c71d1b\n"
     ]
    },
    {
     "data": {
      "text/plain": [
       "'num_processed: 469/20845'"
      ]
     },
     "metadata": {},
     "output_type": "display_data"
    },
    {
     "name": "stdout",
     "output_type": "stream",
     "text": [
      "58039ab343032a10ef7920dc_0279a4b05a0d55a03fc23c0c_3bfeeb8dffe803b9d6d54a82\n"
     ]
    },
    {
     "data": {
      "text/plain": [
       "'num_processed: 470/20845'"
      ]
     },
     "metadata": {},
     "output_type": "display_data"
    },
    {
     "name": "stdout",
     "output_type": "stream",
     "text": [
      "5ae8936d1a2ae2f211ffc3b5_639ea85b5950c7cd4d53a77b_7e7aa25a9f1d5c8865a29bfc\n"
     ]
    },
    {
     "data": {
      "text/plain": [
       "'num_processed: 471/20845'"
      ]
     },
     "metadata": {},
     "output_type": "display_data"
    },
    {
     "name": "stdout",
     "output_type": "stream",
     "text": [
      "72f6032b831baacd6a16e341_952b5b27cf4ec8a1ffa17879_d5e7c2388205777b65440bcb\n"
     ]
    },
    {
     "data": {
      "text/plain": [
       "'num_processed: 472/20845'"
      ]
     },
     "metadata": {},
     "output_type": "display_data"
    },
    {
     "name": "stdout",
     "output_type": "stream",
     "text": [
      "55410fe6d96f807a9b2f9c82_20452681441f15f2885b63a2_768e0c1f80705be1cb3354e1\n"
     ]
    },
    {
     "data": {
      "text/plain": [
       "'num_processed: 473/20845'"
      ]
     },
     "metadata": {},
     "output_type": "display_data"
    },
    {
     "name": "stdout",
     "output_type": "stream",
     "text": [
      "6ba8b74d1d887b367c8f39db_068b137f8a4f38982d80a5ef_68781aafff727479880afdba\n"
     ]
    },
    {
     "data": {
      "text/plain": [
       "'num_processed: 474/20845'"
      ]
     },
     "metadata": {},
     "output_type": "display_data"
    },
    {
     "name": "stdout",
     "output_type": "stream",
     "text": [
      "dbb7508bb3df64b7b6d082ea_4da80ee3cf2693e88c9a5092_7e6c189fc2c43b0c01e7ca9b\n"
     ]
    },
    {
     "data": {
      "text/plain": [
       "'num_processed: 475/20845'"
      ]
     },
     "metadata": {},
     "output_type": "display_data"
    },
    {
     "name": "stdout",
     "output_type": "stream",
     "text": [
      "9d875764f09925f9c4dc44ad_0e9a238ec026c4d754ef30ae_8d488820638de7cb25281e3f\n"
     ]
    },
    {
     "data": {
      "text/plain": [
       "'num_processed: 476/20845'"
      ]
     },
     "metadata": {},
     "output_type": "display_data"
    },
    {
     "name": "stdout",
     "output_type": "stream",
     "text": [
      "151ea3333241d7e5c9d1f4a0_f9a228eeef030f5ca01a0269_0749c542901e88574215cda1\n"
     ]
    },
    {
     "data": {
      "text/plain": [
       "'num_processed: 477/20845'"
      ]
     },
     "metadata": {},
     "output_type": "display_data"
    },
    {
     "name": "stdout",
     "output_type": "stream",
     "text": [
      "6c29be6540480b390b1266bd_92b972a1b2d775d297b22f43_2314bf6c1894cd45071e05da\n"
     ]
    },
    {
     "data": {
      "text/plain": [
       "'num_processed: 478/20845'"
      ]
     },
     "metadata": {},
     "output_type": "display_data"
    },
    {
     "name": "stdout",
     "output_type": "stream",
     "text": [
      "3291dd7d6aec79e149e0c6f0_0685660edea0b8d83c0a04cc_8a00c41611b17cb14d4eeb1d\n"
     ]
    },
    {
     "data": {
      "text/plain": [
       "'num_processed: 479/20845'"
      ]
     },
     "metadata": {},
     "output_type": "display_data"
    },
    {
     "name": "stdout",
     "output_type": "stream",
     "text": [
      "9495933d711f8e0ec3f431bd_5bb569478b44ea01b6262bf3_25801fa1711a4bb6006e9b34\n"
     ]
    },
    {
     "data": {
      "text/plain": [
       "'num_processed: 480/20845'"
      ]
     },
     "metadata": {},
     "output_type": "display_data"
    },
    {
     "name": "stdout",
     "output_type": "stream",
     "text": [
      "1f15fb961f939409ba71e4f7_8f8e14c1f20c713322745c78_4d2fdded3fe88fea8a14ee54\n"
     ]
    },
    {
     "data": {
      "text/plain": [
       "'num_processed: 481/20845'"
      ]
     },
     "metadata": {},
     "output_type": "display_data"
    },
    {
     "name": "stdout",
     "output_type": "stream",
     "text": [
      "ffebf2f3cf194019c2805844_b7397f9f61b5968018214b78_599ea4cc237f1db9f47e93a9\n"
     ]
    },
    {
     "data": {
      "text/plain": [
       "'num_processed: 482/20845'"
      ]
     },
     "metadata": {},
     "output_type": "display_data"
    },
    {
     "name": "stdout",
     "output_type": "stream",
     "text": [
      "420eb560ffb174f78c2b4740_eeb7b963a80ecd19c085ff4f_941f3d36a6c5841fb91f9fe9\n"
     ]
    },
    {
     "data": {
      "text/plain": [
       "'num_processed: 483/20845'"
      ]
     },
     "metadata": {},
     "output_type": "display_data"
    },
    {
     "name": "stdout",
     "output_type": "stream",
     "text": [
      "2c7f37bd26c1133a1c9da3fd_9ed84722b1c1ef5a28f1df13_ccf57c6bef92880224312144\n"
     ]
    },
    {
     "data": {
      "text/plain": [
       "'num_processed: 484/20845'"
      ]
     },
     "metadata": {},
     "output_type": "display_data"
    },
    {
     "name": "stdout",
     "output_type": "stream",
     "text": [
      "57da0e3a2184311155ea1a17_6d185ea6804d891896e39618_8c70760fdd80e61cac246a90\n"
     ]
    },
    {
     "data": {
      "text/plain": [
       "'num_processed: 485/20845'"
      ]
     },
     "metadata": {},
     "output_type": "display_data"
    },
    {
     "name": "stdout",
     "output_type": "stream",
     "text": [
      "decc62c4a2ed17c917a0ceb1_97b1a5efba66d2b16f778317_630b588b583a211e986d180a\n"
     ]
    },
    {
     "data": {
      "text/plain": [
       "'num_processed: 486/20845'"
      ]
     },
     "metadata": {},
     "output_type": "display_data"
    },
    {
     "name": "stdout",
     "output_type": "stream",
     "text": [
      "c4c87f534ae99c96f059c7cf_93a239f56623793677ec6ac2_fd011eaa974764cb4a88327c\n"
     ]
    },
    {
     "data": {
      "text/plain": [
       "'num_processed: 487/20845'"
      ]
     },
     "metadata": {},
     "output_type": "display_data"
    },
    {
     "name": "stdout",
     "output_type": "stream",
     "text": [
      "be1774c961e55dd7ac864a45_465b89e8fc837b91a1aa518f_f3e4ba1f34b3ec88d351608e\n"
     ]
    },
    {
     "data": {
      "text/plain": [
       "'num_processed: 488/20845'"
      ]
     },
     "metadata": {},
     "output_type": "display_data"
    },
    {
     "name": "stdout",
     "output_type": "stream",
     "text": [
      "58c7717cb0a8ba0f7d33bb4a_c73f199f66689743d8cae4bc_63a84577304b234a03137dd2\n",
      "ERROR TRASFORMING!\n",
      "ERROR TRASFORMING!\n",
      "ERROR TRASFORMING!\n",
      "ERROR TRASFORMING!\n",
      "ERROR TRASFORMING!\n",
      "ERROR TRASFORMING!\n"
     ]
    },
    {
     "data": {
      "text/plain": [
       "'num_processed: 489/20845'"
      ]
     },
     "metadata": {},
     "output_type": "display_data"
    },
    {
     "name": "stdout",
     "output_type": "stream",
     "text": [
      "41dd446cfac2698ec595596a_d21ad959b6c799a4b7d6c8bf_22432a446ad63044cdbe599a\n",
      "ERROR TRASFORMING!\n"
     ]
    },
    {
     "data": {
      "text/plain": [
       "'num_processed: 490/20845'"
      ]
     },
     "metadata": {},
     "output_type": "display_data"
    },
    {
     "name": "stdout",
     "output_type": "stream",
     "text": [
      "b6d5ebacf5fedcaa2ee5c3de_2fa84235a1dbde4f7e5f1e54_57fbb56ca21ea9c33f853de9\n"
     ]
    },
    {
     "data": {
      "text/plain": [
       "'num_processed: 491/20845'"
      ]
     },
     "metadata": {},
     "output_type": "display_data"
    },
    {
     "name": "stdout",
     "output_type": "stream",
     "text": [
      "957b27807d398019f7c28c68_c9bfb37f95514a3f792c1457_db999d7fa8d1553c15232a61\n"
     ]
    },
    {
     "data": {
      "text/plain": [
       "'num_processed: 492/20845'"
      ]
     },
     "metadata": {},
     "output_type": "display_data"
    },
    {
     "name": "stdout",
     "output_type": "stream",
     "text": [
      "eae7afff0494bd07aad878fe_5b265ddfab9cc174142ca59c_e893e05a09b08f93f9792146\n"
     ]
    },
    {
     "data": {
      "text/plain": [
       "'num_processed: 493/20845'"
      ]
     },
     "metadata": {},
     "output_type": "display_data"
    },
    {
     "name": "stdout",
     "output_type": "stream",
     "text": [
      "bcaf9ee5476dac280c682a82_4de2d6bd9b9a582b91e707fc_3b7b89994955d1d7dde6c712\n"
     ]
    },
    {
     "data": {
      "text/plain": [
       "'num_processed: 494/20845'"
      ]
     },
     "metadata": {},
     "output_type": "display_data"
    },
    {
     "name": "stdout",
     "output_type": "stream",
     "text": [
      "c8b7b4de771d1bf06ab3675e_503d0efcd91695b5821445d9_dfdfb9429b26c3a555508e58\n"
     ]
    },
    {
     "data": {
      "text/plain": [
       "'num_processed: 495/20845'"
      ]
     },
     "metadata": {},
     "output_type": "display_data"
    },
    {
     "name": "stdout",
     "output_type": "stream",
     "text": [
      "caf3210b7e30c5cc5875c3d4_a7545a4903721b356f4ca1e7_ece80246eb05d491f9b2d3e4\n"
     ]
    },
    {
     "data": {
      "text/plain": [
       "'num_processed: 496/20845'"
      ]
     },
     "metadata": {},
     "output_type": "display_data"
    },
    {
     "name": "stdout",
     "output_type": "stream",
     "text": [
      "5f23bc694dea54b2b40e1833_4ffe76cfa59269085c717bfd_773e4a819fc6e34bb0122a12\n"
     ]
    },
    {
     "data": {
      "text/plain": [
       "'num_processed: 497/20845'"
      ]
     },
     "metadata": {},
     "output_type": "display_data"
    },
    {
     "name": "stdout",
     "output_type": "stream",
     "text": [
      "43caee788b875d844e9868f8_7a47bdb0ee972dceb2d32e93_36a445161f37d3d229926f61\n"
     ]
    },
    {
     "data": {
      "text/plain": [
       "'num_processed: 498/20845'"
      ]
     },
     "metadata": {},
     "output_type": "display_data"
    },
    {
     "name": "stdout",
     "output_type": "stream",
     "text": [
      "eeb9b779a376088bd4934466_6b5e78e9cc0f3b4a31372328_395144e4d6cab3eec332cb75\n"
     ]
    },
    {
     "data": {
      "text/plain": [
       "'num_processed: 499/20845'"
      ]
     },
     "metadata": {},
     "output_type": "display_data"
    },
    {
     "name": "stdout",
     "output_type": "stream",
     "text": [
      "0179a0333ea85fac3200ad51_8548c8b8a2ab9ce207f1d2d0_45ba87a47ada47cc4fefc3bb\n"
     ]
    },
    {
     "data": {
      "text/plain": [
       "'num_processed: 500/20845'"
      ]
     },
     "metadata": {},
     "output_type": "display_data"
    },
    {
     "name": "stdout",
     "output_type": "stream",
     "text": [
      "08eb3313ada513e62059e12b_6c5e7f726b15b5ed5ec515e6_b8a4c05f5d3f7d8e48d74fa6\n"
     ]
    },
    {
     "data": {
      "text/plain": [
       "'num_processed: 501/20845'"
      ]
     },
     "metadata": {},
     "output_type": "display_data"
    },
    {
     "name": "stdout",
     "output_type": "stream",
     "text": [
      "a9b8c5be8ad2950bb35ae7a5_af8fa7d7aa9abd53e4104ca9_3e58c2bc4641746cda916011\n"
     ]
    },
    {
     "data": {
      "text/plain": [
       "'num_processed: 502/20845'"
      ]
     },
     "metadata": {},
     "output_type": "display_data"
    },
    {
     "name": "stdout",
     "output_type": "stream",
     "text": [
      "e21390f2e3b979143d46e9c6_e87f91e28fe9510c59fdfb3e_a136ab661d75011631e51074\n"
     ]
    },
    {
     "data": {
      "text/plain": [
       "'num_processed: 503/20845'"
      ]
     },
     "metadata": {},
     "output_type": "display_data"
    },
    {
     "name": "stdout",
     "output_type": "stream",
     "text": [
      "ca77a8b0ce2fbaeea7e599af_356bf9c81170c482cee5c0e1_0ee6b23fa709f34558d0f5f7\n"
     ]
    },
    {
     "data": {
      "text/plain": [
       "'num_processed: 504/20845'"
      ]
     },
     "metadata": {},
     "output_type": "display_data"
    },
    {
     "name": "stdout",
     "output_type": "stream",
     "text": [
      "b664287077e0dc291cfbb133_3f4be03cc45425eb3984bc0a_bcdcfcdf885ecce3a313b84e\n"
     ]
    },
    {
     "data": {
      "text/plain": [
       "'num_processed: 505/20845'"
      ]
     },
     "metadata": {},
     "output_type": "display_data"
    },
    {
     "name": "stdout",
     "output_type": "stream",
     "text": [
      "49e7de384ac33a5bdeb955a1_c99bf950f75562e67178c265_68c3e245d543f0f84dfaa9af\n"
     ]
    },
    {
     "data": {
      "text/plain": [
       "'num_processed: 506/20845'"
      ]
     },
     "metadata": {},
     "output_type": "display_data"
    },
    {
     "name": "stdout",
     "output_type": "stream",
     "text": [
      "ece39babc225881e5ee59265_fe558517b8af9b3dbc6fdd2f_b16ca3e65b6c1ddb1a0d0f70\n"
     ]
    },
    {
     "data": {
      "text/plain": [
       "'num_processed: 507/20845'"
      ]
     },
     "metadata": {},
     "output_type": "display_data"
    },
    {
     "name": "stdout",
     "output_type": "stream",
     "text": [
      "e4c19f3b375b11e88cba7308_589a2f10841b56b3ae46a733_1e4359172888b3c2df323616\n"
     ]
    },
    {
     "data": {
      "text/plain": [
       "'num_processed: 508/20845'"
      ]
     },
     "metadata": {},
     "output_type": "display_data"
    },
    {
     "name": "stdout",
     "output_type": "stream",
     "text": [
      "58c0b06b910b980f78daca1e_21d2881169222d9dcc831342_4eb13907772cdcfe0a512c67\n"
     ]
    },
    {
     "data": {
      "text/plain": [
       "'num_processed: 509/20845'"
      ]
     },
     "metadata": {},
     "output_type": "display_data"
    },
    {
     "name": "stdout",
     "output_type": "stream",
     "text": [
      "3ceae5c2b6c2478517ff88cd_a13ca2f0bb13885d82052c51_45cd6a55a8d4071b357dc82d\n"
     ]
    },
    {
     "data": {
      "text/plain": [
       "'num_processed: 510/20845'"
      ]
     },
     "metadata": {},
     "output_type": "display_data"
    },
    {
     "name": "stdout",
     "output_type": "stream",
     "text": [
      "a115bc88461c834c97f37af6_b3a95af1efa67caee8b88777_6467c777bdf9f9409c1fb22b\n"
     ]
    },
    {
     "data": {
      "text/plain": [
       "'num_processed: 511/20845'"
      ]
     },
     "metadata": {},
     "output_type": "display_data"
    },
    {
     "name": "stdout",
     "output_type": "stream",
     "text": [
      "ee348c31843776c6f85397d4_91a8e30178763f53562cb6fc_9c330b3f60a358802320ef8a\n"
     ]
    },
    {
     "data": {
      "text/plain": [
       "'num_processed: 512/20845'"
      ]
     },
     "metadata": {},
     "output_type": "display_data"
    },
    {
     "name": "stdout",
     "output_type": "stream",
     "text": [
      "9f93d9f8e804afaaaf704a74_576c54829ce876eddc39fca6_d8edf3a74108b7f3fb579946\n"
     ]
    },
    {
     "data": {
      "text/plain": [
       "'num_processed: 513/20845'"
      ]
     },
     "metadata": {},
     "output_type": "display_data"
    },
    {
     "name": "stdout",
     "output_type": "stream",
     "text": [
      "5021f300683d6ae4af713a58_7ccb312807c55ad50764b96a_a75367483a9be12172281ee3\n"
     ]
    },
    {
     "data": {
      "text/plain": [
       "'num_processed: 514/20845'"
      ]
     },
     "metadata": {},
     "output_type": "display_data"
    },
    {
     "name": "stdout",
     "output_type": "stream",
     "text": [
      "8a45ca058b7829a317b0142b_5e4bb2d64a70ef526b2e2c5d_cb02ec0b2c7bb8b27296b279\n"
     ]
    },
    {
     "data": {
      "text/plain": [
       "'num_processed: 515/20845'"
      ]
     },
     "metadata": {},
     "output_type": "display_data"
    },
    {
     "name": "stdout",
     "output_type": "stream",
     "text": [
      "65f671032da57f353db96542_4ec5937cd03a47e6f3663d2e_449d698127765b9460c4decc\n"
     ]
    },
    {
     "data": {
      "text/plain": [
       "'num_processed: 516/20845'"
      ]
     },
     "metadata": {},
     "output_type": "display_data"
    },
    {
     "name": "stdout",
     "output_type": "stream",
     "text": [
      "64de183d5cee8b0838024912_f71b83b4e744bec02716c17f_e8d81d0365ee0fd3aefc0c2f\n"
     ]
    },
    {
     "data": {
      "text/plain": [
       "'num_processed: 517/20845'"
      ]
     },
     "metadata": {},
     "output_type": "display_data"
    },
    {
     "name": "stdout",
     "output_type": "stream",
     "text": [
      "440d6896bfa3fa06d124fcc2_58f5481cdcc52f85604021a0_7bee4c29ec186b09bbe4066c\n"
     ]
    },
    {
     "data": {
      "text/plain": [
       "'num_processed: 518/20845'"
      ]
     },
     "metadata": {},
     "output_type": "display_data"
    },
    {
     "name": "stdout",
     "output_type": "stream",
     "text": [
      "75f2f1d618939ecf8fcc4eaf_03f3763381d1a4a36fcd71d5_a4abd9cbb4ead5f306c40612\n"
     ]
    },
    {
     "data": {
      "text/plain": [
       "'num_processed: 519/20845'"
      ]
     },
     "metadata": {},
     "output_type": "display_data"
    },
    {
     "name": "stdout",
     "output_type": "stream",
     "text": [
      "ef31e96f3274f67c4b9b208f_dd448474254884b5d87a14f8_348b572821a211addeadef45\n"
     ]
    },
    {
     "data": {
      "text/plain": [
       "'num_processed: 520/20845'"
      ]
     },
     "metadata": {},
     "output_type": "display_data"
    },
    {
     "name": "stdout",
     "output_type": "stream",
     "text": [
      "d0a6608f7bcb10d49773ef25_a822539114e8018500e2da3b_4e2176c3b339bacec4a6febe\n"
     ]
    },
    {
     "data": {
      "text/plain": [
       "'num_processed: 521/20845'"
      ]
     },
     "metadata": {},
     "output_type": "display_data"
    },
    {
     "name": "stdout",
     "output_type": "stream",
     "text": [
      "fa47fcb802f964b9d7ec92a2_9e32e9a96b207095e733d226_d22addbfa8029dbcd41b2dd4\n"
     ]
    },
    {
     "data": {
      "text/plain": [
       "'num_processed: 522/20845'"
      ]
     },
     "metadata": {},
     "output_type": "display_data"
    },
    {
     "name": "stdout",
     "output_type": "stream",
     "text": [
      "58d311a18310900f82e461df_6c09ebc36af6f34ec31e506a_1acbe3e9e948a7a1d9cfac8d\n"
     ]
    },
    {
     "data": {
      "text/plain": [
       "'num_processed: 523/20845'"
      ]
     },
     "metadata": {},
     "output_type": "display_data"
    },
    {
     "name": "stdout",
     "output_type": "stream",
     "text": [
      "fa5288cdfb2f615bdb7140a1_bb6e363b916ad6b28b8720ab_f5e3fc966828e54ea45daefe\n"
     ]
    },
    {
     "data": {
      "text/plain": [
       "'num_processed: 524/20845'"
      ]
     },
     "metadata": {},
     "output_type": "display_data"
    },
    {
     "name": "stdout",
     "output_type": "stream",
     "text": [
      "ffe9f4a573a3cf159ab2d615_df778fa53d0288c76af7edc8_6719621df60c34bd9fa0a7cd\n"
     ]
    },
    {
     "data": {
      "text/plain": [
       "'num_processed: 525/20845'"
      ]
     },
     "metadata": {},
     "output_type": "display_data"
    },
    {
     "name": "stdout",
     "output_type": "stream",
     "text": [
      "10b79556b7bd698a239229e2_ead87d6934f1c4a343143d72_1762096defc2e9dee0fef264\n"
     ]
    },
    {
     "data": {
      "text/plain": [
       "'num_processed: 526/20845'"
      ]
     },
     "metadata": {},
     "output_type": "display_data"
    },
    {
     "name": "stdout",
     "output_type": "stream",
     "text": [
      "2174ae51c0ae8da354a38748_2cf0952d19e956ee2a5432d9_4ed6a4cfa549ba95a10b17ea\n"
     ]
    },
    {
     "data": {
      "text/plain": [
       "'num_processed: 527/20845'"
      ]
     },
     "metadata": {},
     "output_type": "display_data"
    },
    {
     "name": "stdout",
     "output_type": "stream",
     "text": [
      "09b45dc599500b2fe8964517_d26025d588efe0cd62028dd0_9e5a6173056994f779d18e09\n"
     ]
    },
    {
     "data": {
      "text/plain": [
       "'num_processed: 528/20845'"
      ]
     },
     "metadata": {},
     "output_type": "display_data"
    },
    {
     "name": "stdout",
     "output_type": "stream",
     "text": [
      "4ba9267217c49a3476c03f7d_9fea21bdd0a125d5a84eb054_e8f980fba9a97e6678678c96\n"
     ]
    },
    {
     "data": {
      "text/plain": [
       "'num_processed: 529/20845'"
      ]
     },
     "metadata": {},
     "output_type": "display_data"
    },
    {
     "name": "stdout",
     "output_type": "stream",
     "text": [
      "58e5459285b9dc0fc78ba9b4_758f341d66fca158690a3ef6_faafcc3006d608573951f89b\n"
     ]
    },
    {
     "data": {
      "text/plain": [
       "'num_processed: 530/20845'"
      ]
     },
     "metadata": {},
     "output_type": "display_data"
    },
    {
     "name": "stdout",
     "output_type": "stream",
     "text": [
      "79baae1852c504036144f7d6_c5f1cc06a863326ea09edd87_45ac05acc36625d897d4fb52\n"
     ]
    },
    {
     "data": {
      "text/plain": [
       "'num_processed: 531/20845'"
      ]
     },
     "metadata": {},
     "output_type": "display_data"
    },
    {
     "name": "stdout",
     "output_type": "stream",
     "text": [
      "be12805f1a9ce1ebc789f987_42e7d5618179bc8d31025eaa_51eddd12ad59b2c0837b8168\n"
     ]
    },
    {
     "data": {
      "text/plain": [
       "'num_processed: 532/20845'"
      ]
     },
     "metadata": {},
     "output_type": "display_data"
    },
    {
     "name": "stdout",
     "output_type": "stream",
     "text": [
      "56e0c8b3e4b0a6ca8d97dd8a_574f36592e25da854f9229bb_04dc6376ad9de0c5fbf5e0de\n"
     ]
    },
    {
     "data": {
      "text/plain": [
       "'num_processed: 533/20845'"
      ]
     },
     "metadata": {},
     "output_type": "display_data"
    },
    {
     "name": "stdout",
     "output_type": "stream",
     "text": [
      "ac3d45f051c32f58b967d897_b4e1566426533e16b3d198cc_04731d4ab31eddffc34896df\n"
     ]
    },
    {
     "data": {
      "text/plain": [
       "'num_processed: 534/20845'"
      ]
     },
     "metadata": {},
     "output_type": "display_data"
    },
    {
     "name": "stdout",
     "output_type": "stream",
     "text": [
      "d2d8dd663160feef5c5ab906_6d042b6f4fe2539e5bd4bd19_d9766daba06a92ca444d1f82\n"
     ]
    },
    {
     "data": {
      "text/plain": [
       "'num_processed: 535/20845'"
      ]
     },
     "metadata": {},
     "output_type": "display_data"
    },
    {
     "name": "stdout",
     "output_type": "stream",
     "text": [
      "9463023c07286f9ab6587f0c_5df114674d80ccef4874a2f0_349c7b9c52dd3a90990fd195\n"
     ]
    },
    {
     "data": {
      "text/plain": [
       "'num_processed: 536/20845'"
      ]
     },
     "metadata": {},
     "output_type": "display_data"
    },
    {
     "name": "stdout",
     "output_type": "stream",
     "text": [
      "60086e385c4960582620f95b_4058af719e19e4b7e10917ee_de81f2d9234f7a10e3c254ab\n"
     ]
    },
    {
     "data": {
      "text/plain": [
       "'num_processed: 537/20845'"
      ]
     },
     "metadata": {},
     "output_type": "display_data"
    },
    {
     "name": "stdout",
     "output_type": "stream",
     "text": [
      "add8c05fd18a2c6fed400999_8c33f844ae1d0a53f0ba940c_579a37e2c7b9af990c52ce8a\n"
     ]
    },
    {
     "data": {
      "text/plain": [
       "'num_processed: 538/20845'"
      ]
     },
     "metadata": {},
     "output_type": "display_data"
    },
    {
     "name": "stdout",
     "output_type": "stream",
     "text": [
      "e6ad548aabb6b5cba4b101ec_31b5561a369c1a26aea76cec_0760a5c05cc5e9b81d419d3a\n"
     ]
    },
    {
     "data": {
      "text/plain": [
       "'num_processed: 539/20845'"
      ]
     },
     "metadata": {},
     "output_type": "display_data"
    },
    {
     "name": "stdout",
     "output_type": "stream",
     "text": [
      "c7329ba624224b73274c9aff_f32594ba2dd3a6e6e76b6bae_86eac558d865da2102d2f5ef\n"
     ]
    },
    {
     "data": {
      "text/plain": [
       "'num_processed: 540/20845'"
      ]
     },
     "metadata": {},
     "output_type": "display_data"
    },
    {
     "name": "stdout",
     "output_type": "stream",
     "text": [
      "c0b94213476c28ad170344eb_37fb96057a1aec7b82e16ef8_19848b2476bb24af2b099a32\n"
     ]
    },
    {
     "data": {
      "text/plain": [
       "'num_processed: 541/20845'"
      ]
     },
     "metadata": {},
     "output_type": "display_data"
    },
    {
     "name": "stdout",
     "output_type": "stream",
     "text": [
      "9cf7b0e97677a2321b169911_1044308ac62966b0385638fa_53e98f9bf2c69cf42f647837\n"
     ]
    },
    {
     "data": {
      "text/plain": [
       "'num_processed: 542/20845'"
      ]
     },
     "metadata": {},
     "output_type": "display_data"
    },
    {
     "name": "stdout",
     "output_type": "stream",
     "text": [
      "06c4b6535949e5aa9d821ec9_08174a9dbb3c50490fa8a280_81046e2324bc19087b8f0187\n"
     ]
    },
    {
     "data": {
      "text/plain": [
       "'num_processed: 543/20845'"
      ]
     },
     "metadata": {},
     "output_type": "display_data"
    },
    {
     "name": "stdout",
     "output_type": "stream",
     "text": [
      "53503f49e335931b0d11cfb6_a5ff4191998acbceee756df8_6fb1c12340b9b5fafdfca2d8\n"
     ]
    },
    {
     "data": {
      "text/plain": [
       "'num_processed: 544/20845'"
      ]
     },
     "metadata": {},
     "output_type": "display_data"
    },
    {
     "name": "stdout",
     "output_type": "stream",
     "text": [
      "b57f840ffcd3450f331fc9d7_508455babf4bdf8e770030ea_6b2445e86ee1ac9a33c06baf\n"
     ]
    },
    {
     "data": {
      "text/plain": [
       "'num_processed: 545/20845'"
      ]
     },
     "metadata": {},
     "output_type": "display_data"
    },
    {
     "name": "stdout",
     "output_type": "stream",
     "text": [
      "5054735c64bc830ac36170e7_6763311fcf41b52acb5b5ce7_37ce549d0a209e0061bcd427\n"
     ]
    },
    {
     "data": {
      "text/plain": [
       "'num_processed: 546/20845'"
      ]
     },
     "metadata": {},
     "output_type": "display_data"
    },
    {
     "name": "stdout",
     "output_type": "stream",
     "text": [
      "d9bc8ac03397d73b1ff01152_322cf4c79a10c5e8bb0bc0ed_47ab7402be5115a76a1c1a31\n"
     ]
    },
    {
     "data": {
      "text/plain": [
       "'num_processed: 547/20845'"
      ]
     },
     "metadata": {},
     "output_type": "display_data"
    },
    {
     "name": "stdout",
     "output_type": "stream",
     "text": [
      "9a1d583bec5c5b5648cfac73_3c7d9e17539fa4c218cb715c_3761ed40572b90f7bed62ee8\n"
     ]
    },
    {
     "data": {
      "text/plain": [
       "'num_processed: 548/20845'"
      ]
     },
     "metadata": {},
     "output_type": "display_data"
    },
    {
     "name": "stdout",
     "output_type": "stream",
     "text": [
      "a95d715afb450daff7e3b656_55faca8d93ad9d0f77787f72_d46e238650fb2a8d0a65f8ff\n"
     ]
    },
    {
     "data": {
      "text/plain": [
       "'num_processed: 549/20845'"
      ]
     },
     "metadata": {},
     "output_type": "display_data"
    },
    {
     "name": "stdout",
     "output_type": "stream",
     "text": [
      "58faa35ee382d81163f9d450_6a4df008e7dab5b5e3d0690e_52c61d902518e565c9de68cf\n"
     ]
    },
    {
     "data": {
      "text/plain": [
       "'num_processed: 550/20845'"
      ]
     },
     "metadata": {},
     "output_type": "display_data"
    },
    {
     "name": "stdout",
     "output_type": "stream",
     "text": [
      "cf7399874d0e1f343e44ed71_fca5bd1a41ebd9affe0fc53e_d099a873da5f786b37d1f6ef\n"
     ]
    },
    {
     "data": {
      "text/plain": [
       "'num_processed: 551/20845'"
      ]
     },
     "metadata": {},
     "output_type": "display_data"
    },
    {
     "name": "stdout",
     "output_type": "stream",
     "text": [
      "4acd06ea8decae5fe0ab9c84_1202c492b81ccef6fb0f7db8_fa525a58d61ce247e66b59e2\n"
     ]
    },
    {
     "data": {
      "text/plain": [
       "'num_processed: 552/20845'"
      ]
     },
     "metadata": {},
     "output_type": "display_data"
    },
    {
     "name": "stdout",
     "output_type": "stream",
     "text": [
      "97bc4059b8b51c2f617f8f1a_c98ec8adf508ed55853eaee2_abdf501a934d6ece77c6b5ad\n"
     ]
    },
    {
     "data": {
      "text/plain": [
       "'num_processed: 553/20845'"
      ]
     },
     "metadata": {},
     "output_type": "display_data"
    },
    {
     "name": "stdout",
     "output_type": "stream",
     "text": [
      "3c51536812c22e915de755af_aa52ac7e38092eae02834ef1_b5770a1588d800abdf059257\n"
     ]
    },
    {
     "data": {
      "text/plain": [
       "'num_processed: 554/20845'"
      ]
     },
     "metadata": {},
     "output_type": "display_data"
    },
    {
     "name": "stdout",
     "output_type": "stream",
     "text": [
      "a3b5b6a892b285153eca15ae_bbef8411b97ad0adcc571516_0601198db990ddbeefa65b65\n"
     ]
    },
    {
     "data": {
      "text/plain": [
       "'num_processed: 555/20845'"
      ]
     },
     "metadata": {},
     "output_type": "display_data"
    },
    {
     "name": "stdout",
     "output_type": "stream",
     "text": [
      "94e5d21c31e45162a7fa4f43_90e738cf92db22bb02d76d41_7fc7ee32d0f1b2d19689a957\n"
     ]
    },
    {
     "data": {
      "text/plain": [
       "'num_processed: 556/20845'"
      ]
     },
     "metadata": {},
     "output_type": "display_data"
    },
    {
     "name": "stdout",
     "output_type": "stream",
     "text": [
      "58519365f293ab1067c6bbeb_5ab50fb678878b9041414cb8_2bf78755aa9e92f58d0b995e\n"
     ]
    },
    {
     "data": {
      "text/plain": [
       "'num_processed: 557/20845'"
      ]
     },
     "metadata": {},
     "output_type": "display_data"
    },
    {
     "name": "stdout",
     "output_type": "stream",
     "text": [
      "e17b2014e0a3a1d0ced553a4_6b180594f0724c71bb434f43_010e8826ea5c277b110defb1\n"
     ]
    },
    {
     "data": {
      "text/plain": [
       "'num_processed: 558/20845'"
      ]
     },
     "metadata": {},
     "output_type": "display_data"
    },
    {
     "name": "stdout",
     "output_type": "stream",
     "text": [
      "d87aafbab45c9a66898881c7_f2f1a91c6adb50ac2e4b9e5d_bf7dc9a12dbb59808837b34d\n"
     ]
    },
    {
     "data": {
      "text/plain": [
       "'num_processed: 559/20845'"
      ]
     },
     "metadata": {},
     "output_type": "display_data"
    },
    {
     "name": "stdout",
     "output_type": "stream",
     "text": [
      "8eaa6e2bf57d3c9acc0aa99e_0b8a07131949a5da3b3cbc4a_a12d94b4e1f68207725399fc\n"
     ]
    },
    {
     "data": {
      "text/plain": [
       "'num_processed: 560/20845'"
      ]
     },
     "metadata": {},
     "output_type": "display_data"
    },
    {
     "name": "stdout",
     "output_type": "stream",
     "text": [
      "0be388be27aaf1bee9f19dbc_cff65e4e5ed42aa869719d4c_6258cb3b7fc74fb3a3ee93be\n",
      "EROR IN process_axial - PK_SURF_ask_uvboxERROR TRASFORMING!\n"
     ]
    },
    {
     "data": {
      "text/plain": [
       "'num_processed: 561/20845'"
      ]
     },
     "metadata": {},
     "output_type": "display_data"
    },
    {
     "name": "stdout",
     "output_type": "stream",
     "text": [
      "586b3ffd96744610f4104ed2_b4c31bd1fea825c3565e6aa3_d955ab58908bd33c681aa4b8\n"
     ]
    },
    {
     "data": {
      "text/plain": [
       "'num_processed: 562/20845'"
      ]
     },
     "metadata": {},
     "output_type": "display_data"
    },
    {
     "name": "stdout",
     "output_type": "stream",
     "text": [
      "da1aa60f5346cd04a8ca50fc_d4d82c7f3d67b2d28c8cf390_0ba9c0c70c32b773589c2165\n"
     ]
    },
    {
     "data": {
      "text/plain": [
       "'num_processed: 563/20845'"
      ]
     },
     "metadata": {},
     "output_type": "display_data"
    },
    {
     "name": "stdout",
     "output_type": "stream",
     "text": [
      "eaa4d9481da7109f700b4ba5_b394176b1578d41663833c6b_eece89f02909069c5fa7b862\n"
     ]
    },
    {
     "data": {
      "text/plain": [
       "'num_processed: 564/20845'"
      ]
     },
     "metadata": {},
     "output_type": "display_data"
    },
    {
     "name": "stdout",
     "output_type": "stream",
     "text": [
      "05b441b60c2d15effba7bdc8_459518e1a7f9811202556950_87526c0235e75888d5c72ce6\n"
     ]
    },
    {
     "data": {
      "text/plain": [
       "'num_processed: 565/20845'"
      ]
     },
     "metadata": {},
     "output_type": "display_data"
    },
    {
     "name": "stdout",
     "output_type": "stream",
     "text": [
      "99ccf9df0f7484677cfe5677_04d9caa669a9edf9e99f985a_7e397a65e028119f51d4e9fb\n"
     ]
    },
    {
     "data": {
      "text/plain": [
       "'num_processed: 566/20845'"
      ]
     },
     "metadata": {},
     "output_type": "display_data"
    },
    {
     "name": "stdout",
     "output_type": "stream",
     "text": [
      "11f235bf987feaf6954f3b0e_00bfab14150ccbbe0c990040_e3e0c71767efdf41a94f2945\n"
     ]
    },
    {
     "data": {
      "text/plain": [
       "'num_processed: 567/20845'"
      ]
     },
     "metadata": {},
     "output_type": "display_data"
    },
    {
     "name": "stdout",
     "output_type": "stream",
     "text": [
      "5781d9e9e4b0b759b32cfc70_364881cd756831704b65b55c_4e4c965e9cd4a076b5c05436\n"
     ]
    },
    {
     "data": {
      "text/plain": [
       "'num_processed: 568/20845'"
      ]
     },
     "metadata": {},
     "output_type": "display_data"
    },
    {
     "name": "stdout",
     "output_type": "stream",
     "text": [
      "97ea1842d967c17cc04cba26_fcc87ecb303c1e88aed23ace_ac06a6d7766d0157c40930be\n"
     ]
    },
    {
     "data": {
      "text/plain": [
       "'num_processed: 569/20845'"
      ]
     },
     "metadata": {},
     "output_type": "display_data"
    },
    {
     "name": "stdout",
     "output_type": "stream",
     "text": [
      "32041794d7f2fd5757140abb_d7beac63876bf0384474d8f6_9f69e417f2195b0166e302d7\n"
     ]
    },
    {
     "data": {
      "text/plain": [
       "'num_processed: 570/20845'"
      ]
     },
     "metadata": {},
     "output_type": "display_data"
    },
    {
     "name": "stdout",
     "output_type": "stream",
     "text": [
      "9d3c1f1317210180bad67045_55bf7cab6195e8d426c66e12_ad8144fe624f9ea1038382ad\n"
     ]
    },
    {
     "data": {
      "text/plain": [
       "'num_processed: 571/20845'"
      ]
     },
     "metadata": {},
     "output_type": "display_data"
    },
    {
     "name": "stdout",
     "output_type": "stream",
     "text": [
      "58e74abc5b0db1102dd5a822_bcb9208773ca32621de1bbf1_76f6f5595611ba8d034f225f\n"
     ]
    },
    {
     "data": {
      "text/plain": [
       "'num_processed: 572/20845'"
      ]
     },
     "metadata": {},
     "output_type": "display_data"
    },
    {
     "name": "stdout",
     "output_type": "stream",
     "text": [
      "a764582cb2e2df59db057a5f_913dc60586082f5220b2ef88_f8f3f9579abc3a6ba5d9c5f4\n"
     ]
    },
    {
     "data": {
      "text/plain": [
       "'num_processed: 573/20845'"
      ]
     },
     "metadata": {},
     "output_type": "display_data"
    },
    {
     "name": "stdout",
     "output_type": "stream",
     "text": [
      "af6a22cdfac75057f48bcefb_7efc6ed9fb677a9ceadf3f3d_4c3aa27dc7bcf57b9bb85ff1\n"
     ]
    },
    {
     "data": {
      "text/plain": [
       "'num_processed: 574/20845'"
      ]
     },
     "metadata": {},
     "output_type": "display_data"
    },
    {
     "name": "stdout",
     "output_type": "stream",
     "text": [
      "0ceb2d2444bea88ddc5b2429_1fb31f5ce31d04454cedc33e_994ff130885f1a9189fab602\n"
     ]
    },
    {
     "data": {
      "text/plain": [
       "'num_processed: 575/20845'"
      ]
     },
     "metadata": {},
     "output_type": "display_data"
    },
    {
     "name": "stdout",
     "output_type": "stream",
     "text": [
      "741746a15a767d23a1deaad4_1db1d2346ef46d432b4f20e2_7816761a6c6de5937af0e529\n"
     ]
    },
    {
     "data": {
      "text/plain": [
       "'num_processed: 576/20845'"
      ]
     },
     "metadata": {},
     "output_type": "display_data"
    },
    {
     "name": "stdout",
     "output_type": "stream",
     "text": [
      "081f467a28fb5bfb22ce93fe_8dbcec758b8ad9e83f59c199_ad22f43f7b88087463099b6b\n",
      "EROR IN process_axial - PK_SURF_ask_uvboxERROR TRASFORMING!\n"
     ]
    },
    {
     "data": {
      "text/plain": [
       "'num_processed: 577/20845'"
      ]
     },
     "metadata": {},
     "output_type": "display_data"
    },
    {
     "name": "stdout",
     "output_type": "stream",
     "text": [
      "afdbc6de4339acace7eb49f4_93ac90e485106585856976fa_9de81cefa001cdeff0c621a7\n"
     ]
    },
    {
     "data": {
      "text/plain": [
       "'num_processed: 578/20845'"
      ]
     },
     "metadata": {},
     "output_type": "display_data"
    },
    {
     "name": "stdout",
     "output_type": "stream",
     "text": [
      "f4a14c523824dbf37e9e9668_52206341db7057d95e520dd4_0fa8d889c0cb79533f7e4b18\n"
     ]
    },
    {
     "data": {
      "text/plain": [
       "'num_processed: 579/20845'"
      ]
     },
     "metadata": {},
     "output_type": "display_data"
    },
    {
     "name": "stdout",
     "output_type": "stream",
     "text": [
      "7a151f4f7442dc1e7eb5608c_4290330b6a67e64e834170bc_247374cd944527ab755fc892\n"
     ]
    },
    {
     "data": {
      "text/plain": [
       "'num_processed: 580/20845'"
      ]
     },
     "metadata": {},
     "output_type": "display_data"
    },
    {
     "name": "stdout",
     "output_type": "stream",
     "text": [
      "01d3a96d32d71ca290cc2c99_3d1e5d0b69fa8cb4e8d94a79_2557e74b1a06b33382138959\n"
     ]
    },
    {
     "data": {
      "text/plain": [
       "'num_processed: 581/20845'"
      ]
     },
     "metadata": {},
     "output_type": "display_data"
    },
    {
     "name": "stdout",
     "output_type": "stream",
     "text": [
      "1542f61db65d233ba09c0e63_88b669adb80bff04e3158553_cd6924bd2791896a07d4953f\n"
     ]
    },
    {
     "data": {
      "text/plain": [
       "'num_processed: 582/20845'"
      ]
     },
     "metadata": {},
     "output_type": "display_data"
    },
    {
     "name": "stdout",
     "output_type": "stream",
     "text": [
      "0a2677542cdf2cea900193b4_344038e767a1614ab26c6fcf_00ff321491cf902b4fec61b9\n"
     ]
    },
    {
     "data": {
      "text/plain": [
       "'num_processed: 583/20845'"
      ]
     },
     "metadata": {},
     "output_type": "display_data"
    },
    {
     "name": "stdout",
     "output_type": "stream",
     "text": [
      "2e3a90cee296bf6d777f0c23_f3316ef0dff8d83eace66f7c_40e203dc5718f10b98ac6e08\n"
     ]
    },
    {
     "data": {
      "text/plain": [
       "'num_processed: 584/20845'"
      ]
     },
     "metadata": {},
     "output_type": "display_data"
    },
    {
     "name": "stdout",
     "output_type": "stream",
     "text": [
      "90b29063cc8fa89ad24a87ce_3c7882e52f3acf7a721e0254_67ea7de57f70830e3170204f\n"
     ]
    },
    {
     "data": {
      "text/plain": [
       "'num_processed: 585/20845'"
      ]
     },
     "metadata": {},
     "output_type": "display_data"
    },
    {
     "name": "stdout",
     "output_type": "stream",
     "text": [
      "58de1279ad11a8103700bf71_b932f0e39d799e383239e615_be55aaf62a9a637eb39ead8b\n"
     ]
    },
    {
     "data": {
      "text/plain": [
       "'num_processed: 586/20845'"
      ]
     },
     "metadata": {},
     "output_type": "display_data"
    },
    {
     "name": "stdout",
     "output_type": "stream",
     "text": [
      "62b0c1deb2655dda6692f5e9_b5ef28b4567af42bf4d459b3_aab1afde2cd70a0bf9f0d390\n"
     ]
    },
    {
     "data": {
      "text/plain": [
       "'num_processed: 587/20845'"
      ]
     },
     "metadata": {},
     "output_type": "display_data"
    },
    {
     "name": "stdout",
     "output_type": "stream",
     "text": [
      "1a0da14ca082782902ce208d_6b5c526471bfb2c4ec6db241_9a48aa7bcb95af1d3f5db07c\n"
     ]
    },
    {
     "data": {
      "text/plain": [
       "'num_processed: 588/20845'"
      ]
     },
     "metadata": {},
     "output_type": "display_data"
    },
    {
     "name": "stdout",
     "output_type": "stream",
     "text": [
      "36b6a2d19751dda1b0f386ce_c37843a5a944d52d1985da42_865d24b2bfaa238084b084d7\n"
     ]
    },
    {
     "data": {
      "text/plain": [
       "'num_processed: 589/20845'"
      ]
     },
     "metadata": {},
     "output_type": "display_data"
    },
    {
     "name": "stdout",
     "output_type": "stream",
     "text": [
      "142f9cf0474f8f9f0b604c1c_2342b9c69ca476dec6f57315_bcd33b8e760679ed7a26bd32\n"
     ]
    },
    {
     "data": {
      "text/plain": [
       "'num_processed: 590/20845'"
      ]
     },
     "metadata": {},
     "output_type": "display_data"
    },
    {
     "name": "stdout",
     "output_type": "stream",
     "text": [
      "44015903a2beeff172650137_bb767e532545eb6bc8c20870_80ca74b1ab7068d37c43659d\n",
      "ERROR TRASFORMING!\n"
     ]
    },
    {
     "data": {
      "text/plain": [
       "'num_processed: 591/20845'"
      ]
     },
     "metadata": {},
     "output_type": "display_data"
    },
    {
     "name": "stdout",
     "output_type": "stream",
     "text": [
      "c1fd4cdf90247410dd4c7a90_ca6ffaf93e05cea559a132d0_d843de8aa1eaa2199e714285\n",
      "EROR IN process_axial - PK_SURF_ask_uvboxERROR TRASFORMING!\n"
     ]
    },
    {
     "data": {
      "text/plain": [
       "'num_processed: 592/20845'"
      ]
     },
     "metadata": {},
     "output_type": "display_data"
    },
    {
     "name": "stdout",
     "output_type": "stream",
     "text": [
      "6199a2b6ba6025a7e5f4bb28_90ac9090426cf6dc4cc8e999_ae50973c5851a72836afc61d\n"
     ]
    },
    {
     "data": {
      "text/plain": [
       "'num_processed: 593/20845'"
      ]
     },
     "metadata": {},
     "output_type": "display_data"
    },
    {
     "name": "stdout",
     "output_type": "stream",
     "text": [
      "0f607b9fd9432f30b800d295_ad116d50f4f4316ffe720b6e_a84be0eeabbcb6462e031053\n"
     ]
    },
    {
     "data": {
      "text/plain": [
       "'num_processed: 594/20845'"
      ]
     },
     "metadata": {},
     "output_type": "display_data"
    },
    {
     "name": "stdout",
     "output_type": "stream",
     "text": [
      "8f9014d5a2fcd7f7de4c313b_b7de77b191839e9df5163067_1e23e8d463a779a514d4f0f6\n"
     ]
    },
    {
     "data": {
      "text/plain": [
       "'num_processed: 595/20845'"
      ]
     },
     "metadata": {},
     "output_type": "display_data"
    },
    {
     "name": "stdout",
     "output_type": "stream",
     "text": [
      "6faebc940203b8a50a0c5003_b9bbbbbe2652fcad4aace359_54b9ab0efcead74f4ea808c9\n"
     ]
    },
    {
     "data": {
      "text/plain": [
       "'num_processed: 596/20845'"
      ]
     },
     "metadata": {},
     "output_type": "display_data"
    },
    {
     "name": "stdout",
     "output_type": "stream",
     "text": [
      "1bf36733a8ab49f6e74ebd68_818dd42af47d5380b2cc40b4_5badea733d5f41c0ba6d39f6\n"
     ]
    },
    {
     "data": {
      "text/plain": [
       "'num_processed: 597/20845'"
      ]
     },
     "metadata": {},
     "output_type": "display_data"
    },
    {
     "name": "stdout",
     "output_type": "stream",
     "text": [
      "983aa67155700b63ea741491_7da386f534d1d40b3377d1c1_6f9d61d04fcbfdaca4bc7244\n"
     ]
    },
    {
     "data": {
      "text/plain": [
       "'num_processed: 598/20845'"
      ]
     },
     "metadata": {},
     "output_type": "display_data"
    },
    {
     "name": "stdout",
     "output_type": "stream",
     "text": [
      "70504087212a80312e584c32_5d94fd56e9ff889a315db515_552f3e0506f0f4bee14d3aa3\n"
     ]
    },
    {
     "data": {
      "text/plain": [
       "'num_processed: 599/20845'"
      ]
     },
     "metadata": {},
     "output_type": "display_data"
    },
    {
     "name": "stdout",
     "output_type": "stream",
     "text": [
      "32d515dd93d77ef6213ca377_cd220993af7b6ca2a2b95e38_d457199ccc7445c505f8f148\n",
      "ERROR TRASFORMING!\n"
     ]
    },
    {
     "data": {
      "text/plain": [
       "'num_processed: 600/20845'"
      ]
     },
     "metadata": {},
     "output_type": "display_data"
    },
    {
     "name": "stdout",
     "output_type": "stream",
     "text": [
      "660e05d6beeaab9b066b18b2_dfb921121b96b3cb7f747d74_96dd19d9c3380f0e8b39f65b\n"
     ]
    },
    {
     "data": {
      "text/plain": [
       "'num_processed: 601/20845'"
      ]
     },
     "metadata": {},
     "output_type": "display_data"
    },
    {
     "name": "stdout",
     "output_type": "stream",
     "text": [
      "95353abe90c2e1bd47008a65_3eeeb4a822ac25f1b0e3a735_2d28af59b5ce0f1a5dac92ce\n"
     ]
    },
    {
     "data": {
      "text/plain": [
       "'num_processed: 602/20845'"
      ]
     },
     "metadata": {},
     "output_type": "display_data"
    },
    {
     "name": "stdout",
     "output_type": "stream",
     "text": [
      "0eeebe9028a7070f20a111f4_475d90011bf70674347597c0_18eaed33e561c3ac021e7bdf\n"
     ]
    },
    {
     "data": {
      "text/plain": [
       "'num_processed: 603/20845'"
      ]
     },
     "metadata": {},
     "output_type": "display_data"
    },
    {
     "name": "stdout",
     "output_type": "stream",
     "text": [
      "583de2e2ae62b51049827e83_f64a98af67ab14b6bd663884_b279c03af3326969acabcc64\n"
     ]
    },
    {
     "data": {
      "text/plain": [
       "'num_processed: 604/20845'"
      ]
     },
     "metadata": {},
     "output_type": "display_data"
    },
    {
     "name": "stdout",
     "output_type": "stream",
     "text": [
      "4bbeead7985dbb9708809247_800c84c6d393a811ea4c09ed_914a833cf550f34409bca66e\n"
     ]
    },
    {
     "data": {
      "text/plain": [
       "'num_processed: 605/20845'"
      ]
     },
     "metadata": {},
     "output_type": "display_data"
    },
    {
     "name": "stdout",
     "output_type": "stream",
     "text": [
      "d572a8451314a14085de1c69_595ffb4b0073b37fddc402de_517b5cfe22edabcff96223ea\n"
     ]
    },
    {
     "data": {
      "text/plain": [
       "'num_processed: 606/20845'"
      ]
     },
     "metadata": {},
     "output_type": "display_data"
    },
    {
     "name": "stdout",
     "output_type": "stream",
     "text": [
      "2c6a5b3a60d47390d923161c_43264941d3af31fa32ec124b_37a0f76239eed0b4559d8e03\n"
     ]
    },
    {
     "data": {
      "text/plain": [
       "'num_processed: 607/20845'"
      ]
     },
     "metadata": {},
     "output_type": "display_data"
    },
    {
     "name": "stdout",
     "output_type": "stream",
     "text": [
      "91def2f72498c0c59837a1b3_cbacd58a94bf532f3c67b6bf_539fd6618da307dc858ea646\n"
     ]
    },
    {
     "data": {
      "text/plain": [
       "'num_processed: 608/20845'"
      ]
     },
     "metadata": {},
     "output_type": "display_data"
    },
    {
     "name": "stdout",
     "output_type": "stream",
     "text": [
      "99329051f254d2c5ddb2cffd_d82f9324c7bcc993b8bbe3d3_cb34045ed1f690b8473f471a\n"
     ]
    },
    {
     "data": {
      "text/plain": [
       "'num_processed: 609/20845'"
      ]
     },
     "metadata": {},
     "output_type": "display_data"
    },
    {
     "name": "stdout",
     "output_type": "stream",
     "text": [
      "81811411189f70a3f1a2315f_8b6152179f05ab9586f7c04b_75da5af32a3827cef2ff87c8\n"
     ]
    },
    {
     "data": {
      "text/plain": [
       "'num_processed: 610/20845'"
      ]
     },
     "metadata": {},
     "output_type": "display_data"
    },
    {
     "name": "stdout",
     "output_type": "stream",
     "text": [
      "ed371d0c8ada23dc2af4718a_7fd313860641301f631a32d5_8cc7016d837fc31029462920\n"
     ]
    },
    {
     "data": {
      "text/plain": [
       "'num_processed: 611/20845'"
      ]
     },
     "metadata": {},
     "output_type": "display_data"
    },
    {
     "name": "stdout",
     "output_type": "stream",
     "text": [
      "706dd273425e5477c3285a4c_453e7e9149a1c8f1a44f57b1_69ad90d288d25dd0fa92daf7\n"
     ]
    },
    {
     "data": {
      "text/plain": [
       "'num_processed: 612/20845'"
      ]
     },
     "metadata": {},
     "output_type": "display_data"
    },
    {
     "name": "stdout",
     "output_type": "stream",
     "text": [
      "f1bf0b8d9ec5abd29dbf2647_8994c6a56327052ca4095286_d3ec72cf8820c8e95b2bc090\n"
     ]
    },
    {
     "data": {
      "text/plain": [
       "'num_processed: 613/20845'"
      ]
     },
     "metadata": {},
     "output_type": "display_data"
    },
    {
     "name": "stdout",
     "output_type": "stream",
     "text": [
      "f67231eaffd06903ec5e063f_1d47f08d399f20a0fb59dbf1_dbfedad41730e9aaf79bea1a\n"
     ]
    },
    {
     "data": {
      "text/plain": [
       "'num_processed: 614/20845'"
      ]
     },
     "metadata": {},
     "output_type": "display_data"
    },
    {
     "name": "stdout",
     "output_type": "stream",
     "text": [
      "d6b5335430d100a17fca6c8b_5fcdde42e68ab935625f710b_70b24310e6ca4b189c3f10fe\n"
     ]
    },
    {
     "data": {
      "text/plain": [
       "'num_processed: 615/20845'"
      ]
     },
     "metadata": {},
     "output_type": "display_data"
    },
    {
     "name": "stdout",
     "output_type": "stream",
     "text": [
      "c92da0c1cef3570399cc479e_0ea0b33bd71d69d976569fbc_6f2820bf38744cab21266825\n"
     ]
    },
    {
     "data": {
      "text/plain": [
       "'num_processed: 616/20845'"
      ]
     },
     "metadata": {},
     "output_type": "display_data"
    },
    {
     "name": "stdout",
     "output_type": "stream",
     "text": [
      "2448ad4f8f595b5dec351cba_fc39e42c4e4afac7b99e16a9_4e0bf0d75a9be277e0904bc9\n"
     ]
    },
    {
     "data": {
      "text/plain": [
       "'num_processed: 617/20845'"
      ]
     },
     "metadata": {},
     "output_type": "display_data"
    },
    {
     "name": "stdout",
     "output_type": "stream",
     "text": [
      "2fbb1051280d1ac5e706fd2e_584e8f312ba8e80b0973d5fe_ab2eb467aa4a867dd2b8b127\n"
     ]
    },
    {
     "data": {
      "text/plain": [
       "'num_processed: 618/20845'"
      ]
     },
     "metadata": {},
     "output_type": "display_data"
    },
    {
     "name": "stdout",
     "output_type": "stream",
     "text": [
      "7a516579d3d7cfecb91c5dc0_58fa6a12178426d7a2889f80_328b231c9d017ca5c04ab9ae\n"
     ]
    },
    {
     "data": {
      "text/plain": [
       "'num_processed: 619/20845'"
      ]
     },
     "metadata": {},
     "output_type": "display_data"
    },
    {
     "name": "stdout",
     "output_type": "stream",
     "text": [
      "025b5d8a4ee99760f5dbd968_7715c096384ec997f43b6e27_ccc7142ce4ad97c76c91b36c\n"
     ]
    },
    {
     "data": {
      "text/plain": [
       "'num_processed: 620/20845'"
      ]
     },
     "metadata": {},
     "output_type": "display_data"
    },
    {
     "name": "stdout",
     "output_type": "stream",
     "text": [
      "1f69c27d42f4a1086c32e521_b66d55bba2b4de5f6a3e9cac_e2cbedbf8300962e69791c5b\n"
     ]
    },
    {
     "data": {
      "text/plain": [
       "'num_processed: 621/20845'"
      ]
     },
     "metadata": {},
     "output_type": "display_data"
    },
    {
     "name": "stdout",
     "output_type": "stream",
     "text": [
      "2680a96ae4041a76a478ff6f_bd687b0cd20f74966313020f_9eb5322df061be44ddd93552\n"
     ]
    },
    {
     "data": {
      "text/plain": [
       "'num_processed: 622/20845'"
      ]
     },
     "metadata": {},
     "output_type": "display_data"
    },
    {
     "name": "stdout",
     "output_type": "stream",
     "text": [
      "ecd93b82eb9925a9e07f8914_184ecf3aaa77587e02a15100_d6606e18d0cd47d49a03ad8b\n"
     ]
    },
    {
     "data": {
      "text/plain": [
       "'num_processed: 623/20845'"
      ]
     },
     "metadata": {},
     "output_type": "display_data"
    },
    {
     "name": "stdout",
     "output_type": "stream",
     "text": [
      "18e51154c6ebc8eee802a80c_b2747fa3369520c5c0114640_afa07ae8021e8d867e33dd6e\n"
     ]
    },
    {
     "data": {
      "text/plain": [
       "'num_processed: 624/20845'"
      ]
     },
     "metadata": {},
     "output_type": "display_data"
    },
    {
     "name": "stdout",
     "output_type": "stream",
     "text": [
      "5b4798138bc7aecde416fb1d_ee811d5680fe16f48dcb6f3d_184d652b71b0a00c26f89af9\n"
     ]
    },
    {
     "data": {
      "text/plain": [
       "'num_processed: 625/20845'"
      ]
     },
     "metadata": {},
     "output_type": "display_data"
    },
    {
     "name": "stdout",
     "output_type": "stream",
     "text": [
      "82bc749f470b9bdc08b33487_026b0a20452f80fbc816b7d0_7844f1940c7dfa9e119b5d76\n"
     ]
    },
    {
     "data": {
      "text/plain": [
       "'num_processed: 626/20845'"
      ]
     },
     "metadata": {},
     "output_type": "display_data"
    },
    {
     "name": "stdout",
     "output_type": "stream",
     "text": [
      "1299df731f3a3cad8fb65615_0e4a45470423c83dad11b635_63fa92c8865686bc08c214ab\n"
     ]
    },
    {
     "data": {
      "text/plain": [
       "'num_processed: 627/20845'"
      ]
     },
     "metadata": {},
     "output_type": "display_data"
    },
    {
     "name": "stdout",
     "output_type": "stream",
     "text": [
      "ee153bec90f05ccfe9a93a7c_f7c446ec6d3496250b069aa0_4a053867abd6e5c0c069c8b1\n"
     ]
    },
    {
     "data": {
      "text/plain": [
       "'num_processed: 628/20845'"
      ]
     },
     "metadata": {},
     "output_type": "display_data"
    },
    {
     "name": "stdout",
     "output_type": "stream",
     "text": [
      "cab5aa4fe603d581ac47e67a_18cbe2f8767a0552578b0b75_af1ac61e3543768550d6a421\n"
     ]
    },
    {
     "data": {
      "text/plain": [
       "'num_processed: 629/20845'"
      ]
     },
     "metadata": {},
     "output_type": "display_data"
    },
    {
     "name": "stdout",
     "output_type": "stream",
     "text": [
      "22142f3aa5fdffd20477405e_ffa0b1566ea9cad3e91b941d_3dfb33c245fdc424da707bf2\n"
     ]
    },
    {
     "data": {
      "text/plain": [
       "'num_processed: 630/20845'"
      ]
     },
     "metadata": {},
     "output_type": "display_data"
    },
    {
     "name": "stdout",
     "output_type": "stream",
     "text": [
      "d6a6c557d496fd0dfcf845ba_132bf70600f7be0e7bcf2ef3_b9dcfcd9e0a07f0f19708ae7\n"
     ]
    },
    {
     "data": {
      "text/plain": [
       "'num_processed: 631/20845'"
      ]
     },
     "metadata": {},
     "output_type": "display_data"
    },
    {
     "name": "stdout",
     "output_type": "stream",
     "text": [
      "e4cdee97c71e7a692d8d9c7c_b6fbc4abcd0df2613af796cc_1ad633cffc41bac1d9987b32\n"
     ]
    },
    {
     "data": {
      "text/plain": [
       "'num_processed: 632/20845'"
      ]
     },
     "metadata": {},
     "output_type": "display_data"
    },
    {
     "name": "stdout",
     "output_type": "stream",
     "text": [
      "f40b1f6debcae5ef3194342b_64db7995cced4c016b304d71_a9050a5093a8f5551e69650e\n"
     ]
    },
    {
     "data": {
      "text/plain": [
       "'num_processed: 633/20845'"
      ]
     },
     "metadata": {},
     "output_type": "display_data"
    },
    {
     "name": "stdout",
     "output_type": "stream",
     "text": [
      "96f8aed12cdf03b70f2d1182_2aee9da0dbc591d35f64d862_18a0892e50185d590c307d0d\n"
     ]
    },
    {
     "data": {
      "text/plain": [
       "'num_processed: 634/20845'"
      ]
     },
     "metadata": {},
     "output_type": "display_data"
    },
    {
     "name": "stdout",
     "output_type": "stream",
     "text": [
      "0663eeec2a761cf099801e93_22d8f565d6a3bd05287873fa_830d93175e2370ac1aa7fee5\n"
     ]
    },
    {
     "data": {
      "text/plain": [
       "'num_processed: 635/20845'"
      ]
     },
     "metadata": {},
     "output_type": "display_data"
    },
    {
     "name": "stdout",
     "output_type": "stream",
     "text": [
      "228abf8e8b5dea079b5524c5_9ffb07c95215baff7eef3354_ca199d88a4a64a119715b682\n"
     ]
    },
    {
     "data": {
      "text/plain": [
       "'num_processed: 636/20845'"
      ]
     },
     "metadata": {},
     "output_type": "display_data"
    },
    {
     "name": "stdout",
     "output_type": "stream",
     "text": [
      "43a82e58b72bd107b614a2e4_58fe6b6f78474b6c977f5c33_98d2127353471a64773b2972\n"
     ]
    },
    {
     "data": {
      "text/plain": [
       "'num_processed: 637/20845'"
      ]
     },
     "metadata": {},
     "output_type": "display_data"
    },
    {
     "name": "stdout",
     "output_type": "stream",
     "text": [
      "a490396cc1d3d8ae15bee9a9_1a1cf059f342441dc2d99732_ad67e29c532453cf5e399b1c\n"
     ]
    },
    {
     "data": {
      "text/plain": [
       "'num_processed: 638/20845'"
      ]
     },
     "metadata": {},
     "output_type": "display_data"
    },
    {
     "name": "stdout",
     "output_type": "stream",
     "text": [
      "c4144455f7029c747a849f69_ac2144b6be022c66f8c00aad_062e8796ba14050a79d264e2\n"
     ]
    },
    {
     "data": {
      "text/plain": [
       "'num_processed: 639/20845'"
      ]
     },
     "metadata": {},
     "output_type": "display_data"
    },
    {
     "name": "stdout",
     "output_type": "stream",
     "text": [
      "8597d5904448a5b6e1810829_7a6a0fa48470918307d26669_6faf0fc397b2e1551d9ac2ac\n"
     ]
    },
    {
     "data": {
      "text/plain": [
       "'num_processed: 640/20845'"
      ]
     },
     "metadata": {},
     "output_type": "display_data"
    },
    {
     "name": "stdout",
     "output_type": "stream",
     "text": [
      "f3f6c6cca6c94f9e22f64c2e_a508f35bae76560e215602af_846838d414d50a14cdd330e0\n"
     ]
    },
    {
     "data": {
      "text/plain": [
       "'num_processed: 641/20845'"
      ]
     },
     "metadata": {},
     "output_type": "display_data"
    },
    {
     "name": "stdout",
     "output_type": "stream",
     "text": [
      "c03729e4ec392607e6592250_aa8ca4827b278c7a65cd2f6e_b443611b73abb5940359e9ac\n"
     ]
    },
    {
     "data": {
      "text/plain": [
       "'num_processed: 642/20845'"
      ]
     },
     "metadata": {},
     "output_type": "display_data"
    },
    {
     "name": "stdout",
     "output_type": "stream",
     "text": [
      "14c782caf91772554927980b_e08d0a89c6b5bf90d4eee574_eeda3ab6da7de1faf59b010b\n"
     ]
    },
    {
     "data": {
      "text/plain": [
       "'num_processed: 643/20845'"
      ]
     },
     "metadata": {},
     "output_type": "display_data"
    },
    {
     "name": "stdout",
     "output_type": "stream",
     "text": [
      "58e87bc01e58eeef873c57fd_9e0089a74de06c5bc490fe21_1c36b53ff44573494fb1c19c\n"
     ]
    },
    {
     "data": {
      "text/plain": [
       "'num_processed: 644/20845'"
      ]
     },
     "metadata": {},
     "output_type": "display_data"
    },
    {
     "name": "stdout",
     "output_type": "stream",
     "text": [
      "959887e39378f8d6415b18aa_6e16e22dfde44c2ff8ccb59d_8066b80fb2c5b8b5b97de8e8\n"
     ]
    },
    {
     "data": {
      "text/plain": [
       "'num_processed: 645/20845'"
      ]
     },
     "metadata": {},
     "output_type": "display_data"
    },
    {
     "name": "stdout",
     "output_type": "stream",
     "text": [
      "21ab5ba4725dd669734cd227_47a97b41fb04bc34efd39662_b77ef4874c185b5322043581\n"
     ]
    },
    {
     "data": {
      "text/plain": [
       "'num_processed: 646/20845'"
      ]
     },
     "metadata": {},
     "output_type": "display_data"
    },
    {
     "name": "stdout",
     "output_type": "stream",
     "text": [
      "82f9ac4950ec4cb24338c50f_f772a127cfd5148968cdc09c_87f04f8814483bb1965457ae\n"
     ]
    },
    {
     "data": {
      "text/plain": [
       "'num_processed: 647/20845'"
      ]
     },
     "metadata": {},
     "output_type": "display_data"
    },
    {
     "name": "stdout",
     "output_type": "stream",
     "text": [
      "38d000a4c6c5d6fb45f1d905_905515d7c27e6d4401e99108_2e2acbefbb450a8fcac3136c\n"
     ]
    },
    {
     "data": {
      "text/plain": [
       "'num_processed: 648/20845'"
      ]
     },
     "metadata": {},
     "output_type": "display_data"
    },
    {
     "name": "stdout",
     "output_type": "stream",
     "text": [
      "d9e3791679d0924a7619fd3c_b4ff74877f627c715601e9b3_5ae6d1cedf5af568cb40bb0c\n"
     ]
    },
    {
     "data": {
      "text/plain": [
       "'num_processed: 649/20845'"
      ]
     },
     "metadata": {},
     "output_type": "display_data"
    },
    {
     "name": "stdout",
     "output_type": "stream",
     "text": [
      "9a79f91e2e65f774d979c150_2220afdaf48ea466754b9305_472540554d1221cb6c4ea019\n"
     ]
    },
    {
     "data": {
      "text/plain": [
       "'num_processed: 650/20845'"
      ]
     },
     "metadata": {},
     "output_type": "display_data"
    },
    {
     "name": "stdout",
     "output_type": "stream",
     "text": [
      "377d8d254b666b25720a87fb_f40511b605944c19178503c0_f5301d6e47f6efc621ba6892\n"
     ]
    },
    {
     "data": {
      "text/plain": [
       "'num_processed: 651/20845'"
      ]
     },
     "metadata": {},
     "output_type": "display_data"
    },
    {
     "name": "stdout",
     "output_type": "stream",
     "text": [
      "09f8ac3473cd1dd92b3d0c4b_4e0ce5936d3621bce603d546_24a326e4d0d688850fb1cc33\n",
      "EROR IN process_axial - PK_SURF_ask_uvboxEROR IN process_axial - PK_SURF_ask_uvboxERROR TRASFORMING!\n"
     ]
    },
    {
     "data": {
      "text/plain": [
       "'num_processed: 652/20845'"
      ]
     },
     "metadata": {},
     "output_type": "display_data"
    },
    {
     "name": "stdout",
     "output_type": "stream",
     "text": [
      "6855b77874598137d750662a_e63f87ccf48b33ddae76549f_b2534e31b5bfa7775b0a1c53\n"
     ]
    },
    {
     "data": {
      "text/plain": [
       "'num_processed: 653/20845'"
      ]
     },
     "metadata": {},
     "output_type": "display_data"
    },
    {
     "name": "stdout",
     "output_type": "stream",
     "text": [
      "be0e03336493e1083a94231c_14c3ba00662c81f5fec2f2fd_e85c75997bc38b21aebe9917\n"
     ]
    },
    {
     "data": {
      "text/plain": [
       "'num_processed: 654/20845'"
      ]
     },
     "metadata": {},
     "output_type": "display_data"
    },
    {
     "name": "stdout",
     "output_type": "stream",
     "text": [
      "8503754da99aca55aaef8fb7_633ceeb2ee20d7b6109a82a7_1d00ec3a1524b1f33fe1277b\n"
     ]
    },
    {
     "data": {
      "text/plain": [
       "'num_processed: 655/20845'"
      ]
     },
     "metadata": {},
     "output_type": "display_data"
    },
    {
     "name": "stdout",
     "output_type": "stream",
     "text": [
      "0801c4f4b7dda0ea29b2f6d6_fde9f1a6b449af89dd73038a_a2274792436cfa75a0cf3cc5\n"
     ]
    },
    {
     "data": {
      "text/plain": [
       "'num_processed: 656/20845'"
      ]
     },
     "metadata": {},
     "output_type": "display_data"
    },
    {
     "name": "stdout",
     "output_type": "stream",
     "text": [
      "80b75a659f9a77b7831a08fc_5a69b6b596fbadcacf80e4e8_1121435068059e9c283f864d\n"
     ]
    },
    {
     "data": {
      "text/plain": [
       "'num_processed: 657/20845'"
      ]
     },
     "metadata": {},
     "output_type": "display_data"
    },
    {
     "name": "stdout",
     "output_type": "stream",
     "text": [
      "7d0f54c5d15b036f6189c3c3_e2e9d08650f65a0a542dd76e_1ff9eb83d80d444b3fd72fcd\n"
     ]
    },
    {
     "data": {
      "text/plain": [
       "'num_processed: 658/20845'"
      ]
     },
     "metadata": {},
     "output_type": "display_data"
    },
    {
     "name": "stdout",
     "output_type": "stream",
     "text": [
      "db012b3c7453a397197da942_ccd9b57fea45b687d02b48f7_6c3be8bd6756ad7fa227e12b\n"
     ]
    },
    {
     "data": {
      "text/plain": [
       "'num_processed: 659/20845'"
      ]
     },
     "metadata": {},
     "output_type": "display_data"
    },
    {
     "name": "stdout",
     "output_type": "stream",
     "text": [
      "97e0249eb0eedead932debbf_8aaaf7a4f162ef52c6e8f14e_119fc99f62e5a7e9bc75ba97\n"
     ]
    },
    {
     "data": {
      "text/plain": [
       "'num_processed: 660/20845'"
      ]
     },
     "metadata": {},
     "output_type": "display_data"
    },
    {
     "name": "stdout",
     "output_type": "stream",
     "text": [
      "d1896fe8519b2584e9aabbf1_0b16add6a0bac21b74364407_fe5a6f5a201598383ab21db7\n"
     ]
    },
    {
     "data": {
      "text/plain": [
       "'num_processed: 661/20845'"
      ]
     },
     "metadata": {},
     "output_type": "display_data"
    },
    {
     "name": "stdout",
     "output_type": "stream",
     "text": [
      "58a218873356600f99c80715_713b81ff3ebdf903225f43e1_9cc7da698f5dc0e421c97c44\n"
     ]
    },
    {
     "data": {
      "text/plain": [
       "'num_processed: 662/20845'"
      ]
     },
     "metadata": {},
     "output_type": "display_data"
    },
    {
     "name": "stdout",
     "output_type": "stream",
     "text": [
      "39f801017bd17bc2ad1507a8_6f62513ad1fb2a9f05442469_9d578d533d379cb3954f351f\n"
     ]
    },
    {
     "data": {
      "text/plain": [
       "'num_processed: 663/20845'"
      ]
     },
     "metadata": {},
     "output_type": "display_data"
    },
    {
     "name": "stdout",
     "output_type": "stream",
     "text": [
      "43181bcc67d6796501b62aee_3c375177ed72065f8a52df42_e0e1914d770b12f336760173\n"
     ]
    },
    {
     "data": {
      "text/plain": [
       "'num_processed: 664/20845'"
      ]
     },
     "metadata": {},
     "output_type": "display_data"
    },
    {
     "name": "stdout",
     "output_type": "stream",
     "text": [
      "6eb05f2303a7bf940cdb8cd1_364548f8d74a8f267cea9362_1604241d3b773ca382b3986f\n"
     ]
    },
    {
     "data": {
      "text/plain": [
       "'num_processed: 665/20845'"
      ]
     },
     "metadata": {},
     "output_type": "display_data"
    },
    {
     "name": "stdout",
     "output_type": "stream",
     "text": [
      "7a5107ac9d2184323742ba2f_f61416894f3f2b19ed8db67a_34817c6062aeef380fe49d32\n"
     ]
    },
    {
     "data": {
      "text/plain": [
       "'num_processed: 666/20845'"
      ]
     },
     "metadata": {},
     "output_type": "display_data"
    },
    {
     "name": "stdout",
     "output_type": "stream",
     "text": [
      "9eb69ffe13bc1f96f0e84b1b_a521cb69b72dd2d79dfe699c_9514f324bf1195771c4ed2b4\n"
     ]
    },
    {
     "data": {
      "text/plain": [
       "'num_processed: 667/20845'"
      ]
     },
     "metadata": {},
     "output_type": "display_data"
    },
    {
     "name": "stdout",
     "output_type": "stream",
     "text": [
      "1455160b8c9f9b4df6951e55_aef0fef3d75d38db0008111a_2980278a84b7e63915e2b580\n"
     ]
    },
    {
     "data": {
      "text/plain": [
       "'num_processed: 668/20845'"
      ]
     },
     "metadata": {},
     "output_type": "display_data"
    },
    {
     "name": "stdout",
     "output_type": "stream",
     "text": [
      "5742c0b4e4b05d0d35aa38e5_bb9fb1a974b75af7999caaff_0cfa5dcdabd98822f9b2fb4a\n"
     ]
    },
    {
     "data": {
      "text/plain": [
       "'num_processed: 669/20845'"
      ]
     },
     "metadata": {},
     "output_type": "display_data"
    },
    {
     "name": "stdout",
     "output_type": "stream",
     "text": [
      "0ed92d43d48beedb953a62cd_7e254e2d6dbf9c326e01aa56_9dafaccb6546a0b7d4371b78\n"
     ]
    },
    {
     "data": {
      "text/plain": [
       "'num_processed: 670/20845'"
      ]
     },
     "metadata": {},
     "output_type": "display_data"
    },
    {
     "name": "stdout",
     "output_type": "stream",
     "text": [
      "d937f76d98452f7c9890d938_ce86828c943e1e2ee3074884_0f7f8f303aaa7a567d22ee7a\n"
     ]
    },
    {
     "data": {
      "text/plain": [
       "'num_processed: 671/20845'"
      ]
     },
     "metadata": {},
     "output_type": "display_data"
    },
    {
     "name": "stdout",
     "output_type": "stream",
     "text": [
      "79a8faadd24c6ccb03df9c19_16de7df562779d445eb82256_bc57532a7c3abab556eda800\n"
     ]
    },
    {
     "data": {
      "text/plain": [
       "'num_processed: 672/20845'"
      ]
     },
     "metadata": {},
     "output_type": "display_data"
    },
    {
     "name": "stdout",
     "output_type": "stream",
     "text": [
      "a7c5fb75183fe47d5c3e9ec7_0cb428b2b66f88ff70b02bdb_1b247fc2a688739a753ba4b0\n"
     ]
    },
    {
     "data": {
      "text/plain": [
       "'num_processed: 673/20845'"
      ]
     },
     "metadata": {},
     "output_type": "display_data"
    },
    {
     "name": "stdout",
     "output_type": "stream",
     "text": [
      "ad29bb25e2c1593a57dd9554_917553b3e13ee1e68dd30b8a_dea0f4619cf7a39f85cb88dd\n"
     ]
    },
    {
     "data": {
      "text/plain": [
       "'num_processed: 674/20845'"
      ]
     },
     "metadata": {},
     "output_type": "display_data"
    },
    {
     "name": "stdout",
     "output_type": "stream",
     "text": [
      "ccb8ccdb523b90c77911fe22_92a27d899c4baf04b517c10c_10dbfd16af1e4fca037a2698\n"
     ]
    },
    {
     "data": {
      "text/plain": [
       "'num_processed: 675/20845'"
      ]
     },
     "metadata": {},
     "output_type": "display_data"
    },
    {
     "name": "stdout",
     "output_type": "stream",
     "text": [
      "582cbb345d380b1089edde10_1e51730ba42a7e883c99d173_9a67fc534070ce31f5cc1f04\n"
     ]
    },
    {
     "data": {
      "text/plain": [
       "'num_processed: 676/20845'"
      ]
     },
     "metadata": {},
     "output_type": "display_data"
    },
    {
     "name": "stdout",
     "output_type": "stream",
     "text": [
      "58c92def03a00a0f86052cf7_91d8f84008b5ced3eabe7941_272ea3fb0ae6d8bca98a3e79\n"
     ]
    },
    {
     "data": {
      "text/plain": [
       "'num_processed: 677/20845'"
      ]
     },
     "metadata": {},
     "output_type": "display_data"
    },
    {
     "name": "stdout",
     "output_type": "stream",
     "text": [
      "28ab3cc471b11e6386aa3ad2_80c5a9b4ada19481acd5671c_295d5c571f261ee601e49964\n"
     ]
    },
    {
     "data": {
      "text/plain": [
       "'num_processed: 678/20845'"
      ]
     },
     "metadata": {},
     "output_type": "display_data"
    },
    {
     "name": "stdout",
     "output_type": "stream",
     "text": [
      "8699e0da2d6c78fc2c133148_eb4e18b3876d3ab4d2346bfd_9d6df6ffbe2c8c7c2a2612ec\n"
     ]
    },
    {
     "data": {
      "text/plain": [
       "'num_processed: 679/20845'"
      ]
     },
     "metadata": {},
     "output_type": "display_data"
    },
    {
     "name": "stdout",
     "output_type": "stream",
     "text": [
      "c828ffd267ae1b62e094f10f_d082dfa730604e7459a9fce4_634d7733a6945bbbc1730faa\n"
     ]
    },
    {
     "data": {
      "text/plain": [
       "'num_processed: 680/20845'"
      ]
     },
     "metadata": {},
     "output_type": "display_data"
    },
    {
     "name": "stdout",
     "output_type": "stream",
     "text": [
      "14370dc44bed301e18409478_f5ff1838518b5cf32265fba0_b3ac8eb6658af3e725c418b4\n"
     ]
    },
    {
     "data": {
      "text/plain": [
       "'num_processed: 681/20845'"
      ]
     },
     "metadata": {},
     "output_type": "display_data"
    },
    {
     "name": "stdout",
     "output_type": "stream",
     "text": [
      "7ba89e1e7af6e9192ef4a0c1_ed7d9cd2d6464f78db331651_9b6d3492fb820155b3db7589\n"
     ]
    },
    {
     "data": {
      "text/plain": [
       "'num_processed: 682/20845'"
      ]
     },
     "metadata": {},
     "output_type": "display_data"
    },
    {
     "name": "stdout",
     "output_type": "stream",
     "text": [
      "b6834ab78ed275b95158a8e1_2c2188e4345dcce416e932c3_09df24c9c1fd7d70a6d6904d\n"
     ]
    },
    {
     "data": {
      "text/plain": [
       "'num_processed: 683/20845'"
      ]
     },
     "metadata": {},
     "output_type": "display_data"
    },
    {
     "name": "stdout",
     "output_type": "stream",
     "text": [
      "5b49ad94966e676a72ef80cd_5a6fdba8a06232015d62b97a_0d0ead4e5c8fd40f2d045a91\n"
     ]
    },
    {
     "data": {
      "text/plain": [
       "'num_processed: 684/20845'"
      ]
     },
     "metadata": {},
     "output_type": "display_data"
    },
    {
     "name": "stdout",
     "output_type": "stream",
     "text": [
      "7eb3bacf481c6050aeb8f716_bc39c0b2ce3c6be48ecd7e41_d4afc5c40febfe8665c03086\n"
     ]
    },
    {
     "data": {
      "text/plain": [
       "'num_processed: 685/20845'"
      ]
     },
     "metadata": {},
     "output_type": "display_data"
    },
    {
     "name": "stdout",
     "output_type": "stream",
     "text": [
      "1f64e2c42c1b204e06f3e1ee_1a03b5c4afe9281509fcb03b_0fae50bc1581c123b5cb5502\n"
     ]
    },
    {
     "data": {
      "text/plain": [
       "'num_processed: 686/20845'"
      ]
     },
     "metadata": {},
     "output_type": "display_data"
    },
    {
     "name": "stdout",
     "output_type": "stream",
     "text": [
      "7e826c50130ad1572e0aa749_579e1cac3ca5bffa229a885d_93c40d001d4daba0a90b8ee7\n"
     ]
    },
    {
     "data": {
      "text/plain": [
       "'num_processed: 687/20845'"
      ]
     },
     "metadata": {},
     "output_type": "display_data"
    },
    {
     "name": "stdout",
     "output_type": "stream",
     "text": [
      "df719ba9ebc6974a0aa612f5_ac5e22c844722846aada695e_3ed3213e42ad898ecd7183fb\n"
     ]
    },
    {
     "data": {
      "text/plain": [
       "'num_processed: 688/20845'"
      ]
     },
     "metadata": {},
     "output_type": "display_data"
    },
    {
     "name": "stdout",
     "output_type": "stream",
     "text": [
      "cf2d67fbb3165284a74dce4b_9b69707d7208a63af993f226_d8f5a83b958ecd88068d7f6f\n"
     ]
    },
    {
     "data": {
      "text/plain": [
       "'num_processed: 689/20845'"
      ]
     },
     "metadata": {},
     "output_type": "display_data"
    },
    {
     "name": "stdout",
     "output_type": "stream",
     "text": [
      "17260a5ba76f26f431732de7_3ef712a2a16a1c067fe471e1_e0207930471b9636800eebf4\n"
     ]
    },
    {
     "data": {
      "text/plain": [
       "'num_processed: 690/20845'"
      ]
     },
     "metadata": {},
     "output_type": "display_data"
    },
    {
     "name": "stdout",
     "output_type": "stream",
     "text": [
      "334efd9b425cb11e8f364c5b_20f9eecc2a37e7852e015e26_44dad30b0c57e6f0d68f73ad\n"
     ]
    },
    {
     "data": {
      "text/plain": [
       "'num_processed: 691/20845'"
      ]
     },
     "metadata": {},
     "output_type": "display_data"
    },
    {
     "name": "stdout",
     "output_type": "stream",
     "text": [
      "838fb58af00c1c38a17f5009_04fa143cd250e40da51702cd_5ac854fafbc7ce2b5cdb4dd5\n"
     ]
    },
    {
     "data": {
      "text/plain": [
       "'num_processed: 692/20845'"
      ]
     },
     "metadata": {},
     "output_type": "display_data"
    },
    {
     "name": "stdout",
     "output_type": "stream",
     "text": [
      "7d9d71e275d975e7abc702da_e38717b6d9314eb92a889382_c5b5b420aac102ca0c29e0be\n"
     ]
    },
    {
     "data": {
      "text/plain": [
       "'num_processed: 693/20845'"
      ]
     },
     "metadata": {},
     "output_type": "display_data"
    },
    {
     "name": "stdout",
     "output_type": "stream",
     "text": [
      "b3924658ea74fc3eb7e2a021_27a5b1b1d7ac44d95c4ae77c_627c8db78321de2a15d9b9d4\n"
     ]
    },
    {
     "data": {
      "text/plain": [
       "'num_processed: 694/20845'"
      ]
     },
     "metadata": {},
     "output_type": "display_data"
    },
    {
     "name": "stdout",
     "output_type": "stream",
     "text": [
      "fda31549d3b45bde9fbe83f5_946fe6a6aac3fd9cb9691186_9621686410e9b862fea47f20\n"
     ]
    },
    {
     "data": {
      "text/plain": [
       "'num_processed: 695/20845'"
      ]
     },
     "metadata": {},
     "output_type": "display_data"
    },
    {
     "name": "stdout",
     "output_type": "stream",
     "text": [
      "b0f5d76a9475f714d81485e5_c59ab18585dfcd47028e6ff4_87d4ece92a242046b6be4ba2\n"
     ]
    },
    {
     "data": {
      "text/plain": [
       "'num_processed: 696/20845'"
      ]
     },
     "metadata": {},
     "output_type": "display_data"
    },
    {
     "name": "stdout",
     "output_type": "stream",
     "text": [
      "17e7c64aad4dee292fb6a879_ea7c736763fb61fc15d87b38_9a3bf67f600fdda36913a932\n"
     ]
    },
    {
     "data": {
      "text/plain": [
       "'num_processed: 697/20845'"
      ]
     },
     "metadata": {},
     "output_type": "display_data"
    },
    {
     "name": "stdout",
     "output_type": "stream",
     "text": [
      "cd0bbea88fff79a4a1b12e90_9e55098be3bc7b50d43071de_5ce51b1b2b18e67ad53e9a57\n"
     ]
    },
    {
     "data": {
      "text/plain": [
       "'num_processed: 698/20845'"
      ]
     },
     "metadata": {},
     "output_type": "display_data"
    },
    {
     "name": "stdout",
     "output_type": "stream",
     "text": [
      "58d5bcab90a16a0fd941e0f2_7bded5d970d2e25c97504dc5_dafd2a1c0a123a73a53a7d18\n"
     ]
    },
    {
     "data": {
      "text/plain": [
       "'num_processed: 699/20845'"
      ]
     },
     "metadata": {},
     "output_type": "display_data"
    },
    {
     "name": "stdout",
     "output_type": "stream",
     "text": [
      "58d28f7d119b7410373d2a1c_e33b9e981d331e7dba7ef68b_c0a25d10753804c59ca1e9fe\n"
     ]
    },
    {
     "data": {
      "text/plain": [
       "'num_processed: 700/20845'"
      ]
     },
     "metadata": {},
     "output_type": "display_data"
    },
    {
     "name": "stdout",
     "output_type": "stream",
     "text": [
      "4780ac7d98909fc383f81b04_e84a26c1cf04de68491ace4c_38d1d6f1b2a3652bf0c2bb3b\n"
     ]
    },
    {
     "data": {
      "text/plain": [
       "'num_processed: 701/20845'"
      ]
     },
     "metadata": {},
     "output_type": "display_data"
    },
    {
     "name": "stdout",
     "output_type": "stream",
     "text": [
      "9f303ba781e1096f9c577688_be9ae3d581e4592e7b4f5d49_929b0d44751ef4d198235286\n"
     ]
    },
    {
     "data": {
      "text/plain": [
       "'num_processed: 702/20845'"
      ]
     },
     "metadata": {},
     "output_type": "display_data"
    },
    {
     "name": "stdout",
     "output_type": "stream",
     "text": [
      "897d0298ff8cda94a772b24f_019c28cedd6a41c96746a99c_390baf3e306a32f35271c9ea\n"
     ]
    },
    {
     "data": {
      "text/plain": [
       "'num_processed: 703/20845'"
      ]
     },
     "metadata": {},
     "output_type": "display_data"
    },
    {
     "name": "stdout",
     "output_type": "stream",
     "text": [
      "589bae7e372434a7d5d9b8db_afa411d357a341d77c22f80f_35aeaa0909046721d653e7ed\n"
     ]
    },
    {
     "data": {
      "text/plain": [
       "'num_processed: 704/20845'"
      ]
     },
     "metadata": {},
     "output_type": "display_data"
    },
    {
     "name": "stdout",
     "output_type": "stream",
     "text": [
      "2c0d117821928d8667142129_9ee36f34133c859bc66d32b3_31be53e7fd379ebb7a536886\n"
     ]
    },
    {
     "data": {
      "text/plain": [
       "'num_processed: 705/20845'"
      ]
     },
     "metadata": {},
     "output_type": "display_data"
    },
    {
     "name": "stdout",
     "output_type": "stream",
     "text": [
      "5727e5f6e4b07aad125c0d9e_74cde0a5e421ee57a1521a48_62b477aecd6e45726c35a33f\n"
     ]
    },
    {
     "data": {
      "text/plain": [
       "'num_processed: 706/20845'"
      ]
     },
     "metadata": {},
     "output_type": "display_data"
    },
    {
     "name": "stdout",
     "output_type": "stream",
     "text": [
      "5294976dcd78568a6ca73f41_a45780ebfc54ab85a73901db_94c9e93c40a9c2f19a091a1c\n"
     ]
    },
    {
     "data": {
      "text/plain": [
       "'num_processed: 707/20845'"
      ]
     },
     "metadata": {},
     "output_type": "display_data"
    },
    {
     "name": "stdout",
     "output_type": "stream",
     "text": [
      "b153faca2544e0639ed597d1_d849f3da7c1a26fd4608e222_bc4ed4341df6fb0c7c391878\n"
     ]
    },
    {
     "data": {
      "text/plain": [
       "'num_processed: 708/20845'"
      ]
     },
     "metadata": {},
     "output_type": "display_data"
    },
    {
     "name": "stdout",
     "output_type": "stream",
     "text": [
      "855ba92e417842308c529332_8da80f46916058e1fc15d530_3763d5b74e25cb85c7f74f3a\n"
     ]
    },
    {
     "data": {
      "text/plain": [
       "'num_processed: 709/20845'"
      ]
     },
     "metadata": {},
     "output_type": "display_data"
    },
    {
     "name": "stdout",
     "output_type": "stream",
     "text": [
      "104c34b79f09665cee867ffb_0c06feff490945b1a86ef59b_372d847ffdf5f052f1390365\n"
     ]
    },
    {
     "data": {
      "text/plain": [
       "'num_processed: 710/20845'"
      ]
     },
     "metadata": {},
     "output_type": "display_data"
    },
    {
     "name": "stdout",
     "output_type": "stream",
     "text": [
      "f667206e97879283c3ca7beb_9483e58c604415e6b44b7c7c_5042aaf66901aa7cdd46cd65\n"
     ]
    },
    {
     "data": {
      "text/plain": [
       "'num_processed: 711/20845'"
      ]
     },
     "metadata": {},
     "output_type": "display_data"
    },
    {
     "name": "stdout",
     "output_type": "stream",
     "text": [
      "d38c812bf002072f4eeb27de_cefe44e2f859d603c3fe013e_0735c1379db6c08564faa1bf\n"
     ]
    },
    {
     "data": {
      "text/plain": [
       "'num_processed: 712/20845'"
      ]
     },
     "metadata": {},
     "output_type": "display_data"
    },
    {
     "name": "stdout",
     "output_type": "stream",
     "text": [
      "89bfc58a593626eaf6258bbc_8b0e76a7bc05654bbcfc897f_be7afa3013ad8178328146e9\n"
     ]
    },
    {
     "data": {
      "text/plain": [
       "'num_processed: 713/20845'"
      ]
     },
     "metadata": {},
     "output_type": "display_data"
    },
    {
     "name": "stdout",
     "output_type": "stream",
     "text": [
      "eff63b08e9ede6dff2ff1cac_1a92eccd5b976fd98fba6995_b7233144fc953bcdbd5dcc9c\n"
     ]
    },
    {
     "data": {
      "text/plain": [
       "'num_processed: 714/20845'"
      ]
     },
     "metadata": {},
     "output_type": "display_data"
    },
    {
     "name": "stdout",
     "output_type": "stream",
     "text": [
      "17bfd3455a448c8528ecb54e_1c37de07c10c2149ee5660a1_ef8bf6ed934c421b47188c92\n"
     ]
    },
    {
     "data": {
      "text/plain": [
       "'num_processed: 715/20845'"
      ]
     },
     "metadata": {},
     "output_type": "display_data"
    },
    {
     "name": "stdout",
     "output_type": "stream",
     "text": [
      "c0954ec755ac7a134a940b88_6431bafae664a0e64c3594fe_cb2092c63ab941a224eb7a0c\n"
     ]
    },
    {
     "data": {
      "text/plain": [
       "'num_processed: 716/20845'"
      ]
     },
     "metadata": {},
     "output_type": "display_data"
    },
    {
     "name": "stdout",
     "output_type": "stream",
     "text": [
      "69fbd38f8fc201d1f1e051ab_4f364603e1082abc87f9c590_d71598af6e7caaae439e1c6d\n"
     ]
    },
    {
     "data": {
      "text/plain": [
       "'num_processed: 717/20845'"
      ]
     },
     "metadata": {},
     "output_type": "display_data"
    },
    {
     "name": "stdout",
     "output_type": "stream",
     "text": [
      "90d59961dc4da39136cc8959_54928046d2cc511738212996_a1dc167cb2e9324b90d79063\n"
     ]
    },
    {
     "data": {
      "text/plain": [
       "'num_processed: 718/20845'"
      ]
     },
     "metadata": {},
     "output_type": "display_data"
    },
    {
     "name": "stdout",
     "output_type": "stream",
     "text": [
      "4f09843ca3c3151c0171abdd_62673c30e8d4b02899978f2f_137f575ec1bfe6b4d2694c27\n"
     ]
    },
    {
     "data": {
      "text/plain": [
       "'num_processed: 719/20845'"
      ]
     },
     "metadata": {},
     "output_type": "display_data"
    },
    {
     "name": "stdout",
     "output_type": "stream",
     "text": [
      "1659be7d3658d0da261299ba_a43a68846fd634495651e7ba_f2cad6a41db35761d88dacb9\n"
     ]
    },
    {
     "data": {
      "text/plain": [
       "'num_processed: 720/20845'"
      ]
     },
     "metadata": {},
     "output_type": "display_data"
    },
    {
     "name": "stdout",
     "output_type": "stream",
     "text": [
      "03f73950d13f184ae86600b5_da36953cd7468a1160689bed_24f7cc715defcbacd4207759\n"
     ]
    },
    {
     "data": {
      "text/plain": [
       "'num_processed: 721/20845'"
      ]
     },
     "metadata": {},
     "output_type": "display_data"
    },
    {
     "name": "stdout",
     "output_type": "stream",
     "text": [
      "c9e0c690705128c322211ab6_04129a82adeb5ff358bad65b_c9834b952ae186efcd34491f\n"
     ]
    },
    {
     "data": {
      "text/plain": [
       "'num_processed: 722/20845'"
      ]
     },
     "metadata": {},
     "output_type": "display_data"
    },
    {
     "name": "stdout",
     "output_type": "stream",
     "text": [
      "746e80268e2fe6b76d5a2bbd_6b1c1ee253a42b9a9eee9151_c586652bda8cbcf7a733d740\n"
     ]
    },
    {
     "data": {
      "text/plain": [
       "'num_processed: 723/20845'"
      ]
     },
     "metadata": {},
     "output_type": "display_data"
    },
    {
     "name": "stdout",
     "output_type": "stream",
     "text": [
      "17e7c64aad4dee292fb6a879_ea7c736763fb61fc15d87b38_40e060d108d9411ae59f150d\n"
     ]
    },
    {
     "data": {
      "text/plain": [
       "'num_processed: 724/20845'"
      ]
     },
     "metadata": {},
     "output_type": "display_data"
    },
    {
     "name": "stdout",
     "output_type": "stream",
     "text": [
      "cd10ce008165939d1326ef6e_310b8a50dc15ab8e7e968d2a_96c7140f475266870b2c2ac1\n"
     ]
    },
    {
     "data": {
      "text/plain": [
       "'num_processed: 725/20845'"
      ]
     },
     "metadata": {},
     "output_type": "display_data"
    },
    {
     "name": "stdout",
     "output_type": "stream",
     "text": [
      "dcd72248541b0edac2b875e1_d69bbf8d2577857fb77cb099_b766e56dd378f6cb9fb44d4b\n"
     ]
    },
    {
     "data": {
      "text/plain": [
       "'num_processed: 726/20845'"
      ]
     },
     "metadata": {},
     "output_type": "display_data"
    },
    {
     "name": "stdout",
     "output_type": "stream",
     "text": [
      "d5b69a4dbc0c43a80dff5886_3b71a006e5c62723eeaf28e4_a9ff58f4538ac7f6513497ad\n"
     ]
    },
    {
     "data": {
      "text/plain": [
       "'num_processed: 727/20845'"
      ]
     },
     "metadata": {},
     "output_type": "display_data"
    },
    {
     "name": "stdout",
     "output_type": "stream",
     "text": [
      "1a16a5f745792faddb2ccb2d_dff95e381b3fae61f00ad65e_7877cb8874911ffde9b1b828\n"
     ]
    },
    {
     "data": {
      "text/plain": [
       "'num_processed: 728/20845'"
      ]
     },
     "metadata": {},
     "output_type": "display_data"
    },
    {
     "name": "stdout",
     "output_type": "stream",
     "text": [
      "a42a6431743340a7c8d5defe_2737d2061b59e782e347f2f5_7802a292de07b7d2b46fa80b\n"
     ]
    },
    {
     "data": {
      "text/plain": [
       "'num_processed: 729/20845'"
      ]
     },
     "metadata": {},
     "output_type": "display_data"
    },
    {
     "name": "stdout",
     "output_type": "stream",
     "text": [
      "27b93491124c9d1b0654825c_190ae1c5265d78edef439461_7f8f08d97947386520d8f35e\n"
     ]
    },
    {
     "data": {
      "text/plain": [
       "'num_processed: 730/20845'"
      ]
     },
     "metadata": {},
     "output_type": "display_data"
    },
    {
     "name": "stdout",
     "output_type": "stream",
     "text": [
      "b3564d96ea3ceae6cb8568c6_21dd5c7142b971934b73858f_8ffc2290fc3b95ea2a50b9e1\n"
     ]
    },
    {
     "data": {
      "text/plain": [
       "'num_processed: 731/20845'"
      ]
     },
     "metadata": {},
     "output_type": "display_data"
    },
    {
     "name": "stdout",
     "output_type": "stream",
     "text": [
      "11a72d09141f33b0764f494f_27b04f11c9f97ebd42daf3f0_1d5b9a840925a0e439dd26f9\n"
     ]
    },
    {
     "data": {
      "text/plain": [
       "'num_processed: 732/20845'"
      ]
     },
     "metadata": {},
     "output_type": "display_data"
    },
    {
     "name": "stdout",
     "output_type": "stream",
     "text": [
      "ade3d848806137b225ec68a6_e1a0fa79e86248b6a6771914_781f992072e85fc6c1583011\n"
     ]
    },
    {
     "data": {
      "text/plain": [
       "'num_processed: 733/20845'"
      ]
     },
     "metadata": {},
     "output_type": "display_data"
    },
    {
     "name": "stdout",
     "output_type": "stream",
     "text": [
      "5bcafd53fd1fbc35ac14665b_f44d0f245e9e39823006afa7_66707ab97adbd05dc85140e9\n",
      "EROR IN process_axial - PK_SURF_ask_uvboxERROR TRASFORMING!\n"
     ]
    },
    {
     "data": {
      "text/plain": [
       "'num_processed: 734/20845'"
      ]
     },
     "metadata": {},
     "output_type": "display_data"
    },
    {
     "name": "stdout",
     "output_type": "stream",
     "text": [
      "b21f6fd65491ca49cc5bc7b9_f86eec482ce5c8dc93680f0e_885deadfe7fb7b2d603ecc10\n"
     ]
    },
    {
     "data": {
      "text/plain": [
       "'num_processed: 735/20845'"
      ]
     },
     "metadata": {},
     "output_type": "display_data"
    },
    {
     "name": "stdout",
     "output_type": "stream",
     "text": [
      "1cdca0d9effdb3149faa64d7_ef413305a04b82eff437966f_0b133475cf5f2e839b980d87\n"
     ]
    },
    {
     "data": {
      "text/plain": [
       "'num_processed: 736/20845'"
      ]
     },
     "metadata": {},
     "output_type": "display_data"
    },
    {
     "name": "stdout",
     "output_type": "stream",
     "text": [
      "2c420fa67cdf00e4695b5e58_3ea1b365036447a6c5ee9e12_97b42a2a0d538e855af793a9\n"
     ]
    },
    {
     "data": {
      "text/plain": [
       "'num_processed: 737/20845'"
      ]
     },
     "metadata": {},
     "output_type": "display_data"
    },
    {
     "name": "stdout",
     "output_type": "stream",
     "text": [
      "b2b613aef5c89301e1031709_9323184c6e0d3921a9a390b9_4139432d5122ae300cd5b309\n"
     ]
    },
    {
     "data": {
      "text/plain": [
       "'num_processed: 738/20845'"
      ]
     },
     "metadata": {},
     "output_type": "display_data"
    },
    {
     "name": "stdout",
     "output_type": "stream",
     "text": [
      "8dc88a32c222754350731d31_5c7265ce2e5a198c69324356_d00012385e705c01880abd5c\n"
     ]
    },
    {
     "data": {
      "text/plain": [
       "'num_processed: 739/20845'"
      ]
     },
     "metadata": {},
     "output_type": "display_data"
    },
    {
     "name": "stdout",
     "output_type": "stream",
     "text": [
      "cb99e580fec0f7cf89ecf67f_5f1a819bd3a0dac1da3f0f00_cad5ef010d22e74c5bc52fa7\n"
     ]
    },
    {
     "data": {
      "text/plain": [
       "'num_processed: 740/20845'"
      ]
     },
     "metadata": {},
     "output_type": "display_data"
    },
    {
     "name": "stdout",
     "output_type": "stream",
     "text": [
      "ad3439c9426345c61df45f8f_044b55177f62d7b98adb5439_387cb2e4eaffb773d2fa762c\n"
     ]
    },
    {
     "data": {
      "text/plain": [
       "'num_processed: 741/20845'"
      ]
     },
     "metadata": {},
     "output_type": "display_data"
    },
    {
     "name": "stdout",
     "output_type": "stream",
     "text": [
      "589f2b4e39222c0f7d4ed260_8510b7c9da43616a5e615de3_d4288017d52b7fd902d1e76d\n"
     ]
    },
    {
     "data": {
      "text/plain": [
       "'num_processed: 742/20845'"
      ]
     },
     "metadata": {},
     "output_type": "display_data"
    },
    {
     "name": "stdout",
     "output_type": "stream",
     "text": [
      "2c8f1caffe037bd16042fa6a_c2d732d8a851ab8522fbdb1b_ff3c6c5b87cbbec16c7d202e\n"
     ]
    },
    {
     "data": {
      "text/plain": [
       "'num_processed: 743/20845'"
      ]
     },
     "metadata": {},
     "output_type": "display_data"
    },
    {
     "name": "stdout",
     "output_type": "stream",
     "text": [
      "7449d4f29cf662e4daa4f76b_6e1229b56a25a5da55e32e3a_67d1df1934ee46a9bd4e12db\n"
     ]
    },
    {
     "data": {
      "text/plain": [
       "'num_processed: 744/20845'"
      ]
     },
     "metadata": {},
     "output_type": "display_data"
    },
    {
     "name": "stdout",
     "output_type": "stream",
     "text": [
      "d859bf9cd51bfd5a0d627b8b_f0b61e83044824638de74cb2_caf80f32c5dbf314ed4b5f80\n"
     ]
    },
    {
     "data": {
      "text/plain": [
       "'num_processed: 745/20845'"
      ]
     },
     "metadata": {},
     "output_type": "display_data"
    },
    {
     "name": "stdout",
     "output_type": "stream",
     "text": [
      "7aa0a19abfe5ffc59c7d8f9c_403c3453cc8986f4e6f88af5_fe21c600469f172111ba56e8\n"
     ]
    },
    {
     "data": {
      "text/plain": [
       "'num_processed: 746/20845'"
      ]
     },
     "metadata": {},
     "output_type": "display_data"
    },
    {
     "name": "stdout",
     "output_type": "stream",
     "text": [
      "9d423f4b7b9e32982f933cbc_295a222076a99b7017f55157_a5a5a69373248edc8f1febe4\n"
     ]
    },
    {
     "data": {
      "text/plain": [
       "'num_processed: 747/20845'"
      ]
     },
     "metadata": {},
     "output_type": "display_data"
    },
    {
     "name": "stdout",
     "output_type": "stream",
     "text": [
      "cc7cccf205d970dfb7360835_be02de2d112a135f704d5e15_8984a791a58b0786945d4fcb\n"
     ]
    },
    {
     "data": {
      "text/plain": [
       "'num_processed: 748/20845'"
      ]
     },
     "metadata": {},
     "output_type": "display_data"
    },
    {
     "name": "stdout",
     "output_type": "stream",
     "text": [
      "47fe45ac93b016005fdbcf53_0a9f86f0b5fae9f2c78ecd37_6ca1a6df929721c12728bc51\n"
     ]
    },
    {
     "data": {
      "text/plain": [
       "'num_processed: 749/20845'"
      ]
     },
     "metadata": {},
     "output_type": "display_data"
    },
    {
     "name": "stdout",
     "output_type": "stream",
     "text": [
      "331e9121dda4c6041e303d42_c429ec3cabd8062f9d1a8d27_11845f7960e81c2230bb070a\n"
     ]
    },
    {
     "data": {
      "text/plain": [
       "'num_processed: 750/20845'"
      ]
     },
     "metadata": {},
     "output_type": "display_data"
    },
    {
     "name": "stdout",
     "output_type": "stream",
     "text": [
      "86809a4dd07270d91d61d176_ec1495f0bd735ca32195e366_3519fad014628825f0b384bb\n"
     ]
    },
    {
     "data": {
      "text/plain": [
       "'num_processed: 751/20845'"
      ]
     },
     "metadata": {},
     "output_type": "display_data"
    },
    {
     "name": "stdout",
     "output_type": "stream",
     "text": [
      "a6023b29194f355bb2528f4e_d74b3a5649f030f9928349a0_959a4ac721ddd7063a2aee0d\n"
     ]
    },
    {
     "data": {
      "text/plain": [
       "'num_processed: 752/20845'"
      ]
     },
     "metadata": {},
     "output_type": "display_data"
    },
    {
     "name": "stdout",
     "output_type": "stream",
     "text": [
      "c403529850f598ed4cc2759c_c57d21f46e2046ecdbc8f948_c9dcb4678df793ad7e55fb3e\n"
     ]
    },
    {
     "data": {
      "text/plain": [
       "'num_processed: 753/20845'"
      ]
     },
     "metadata": {},
     "output_type": "display_data"
    },
    {
     "name": "stdout",
     "output_type": "stream",
     "text": [
      "625fb5ca4989628b6896db5e_b529afe3d440aa26f868fc00_23ee7d5c85d7cd3947abe16c\n"
     ]
    },
    {
     "data": {
      "text/plain": [
       "'num_processed: 754/20845'"
      ]
     },
     "metadata": {},
     "output_type": "display_data"
    },
    {
     "name": "stdout",
     "output_type": "stream",
     "text": [
      "1368c4e13cfd746ffe824b17_05b8f473e52fb858496b0a16_5fb31775a594a482ad8da82b\n"
     ]
    },
    {
     "data": {
      "text/plain": [
       "'num_processed: 755/20845'"
      ]
     },
     "metadata": {},
     "output_type": "display_data"
    },
    {
     "name": "stdout",
     "output_type": "stream",
     "text": [
      "505e6e49254c9f89e611b469_492b1fa58040bf0cea63c3a6_36982be8e0fd87de6fb93717\n"
     ]
    },
    {
     "data": {
      "text/plain": [
       "'num_processed: 756/20845'"
      ]
     },
     "metadata": {},
     "output_type": "display_data"
    },
    {
     "name": "stdout",
     "output_type": "stream",
     "text": [
      "c2d0d35171b372253fb59df8_a83208534f9fa53f1094ded2_ca13342ff6eb603aacfb834a\n"
     ]
    },
    {
     "data": {
      "text/plain": [
       "'num_processed: 757/20845'"
      ]
     },
     "metadata": {},
     "output_type": "display_data"
    },
    {
     "name": "stdout",
     "output_type": "stream",
     "text": [
      "4d5959a184c56c48704216d4_eba2a21bafb7c674663f1fef_569be8e53f4f496a213963d4\n"
     ]
    },
    {
     "data": {
      "text/plain": [
       "'num_processed: 758/20845'"
      ]
     },
     "metadata": {},
     "output_type": "display_data"
    },
    {
     "name": "stdout",
     "output_type": "stream",
     "text": [
      "ac40466fb7c693ea306dad08_310d99b0a02bedc1ff4e9a7d_d6a6f4f6ce0f6950397697f2\n"
     ]
    },
    {
     "data": {
      "text/plain": [
       "'num_processed: 759/20845'"
      ]
     },
     "metadata": {},
     "output_type": "display_data"
    },
    {
     "name": "stdout",
     "output_type": "stream",
     "text": [
      "582506cdad4897103662c423_1622ad71bad8efb053f30f60_2615e7079b7fb6e7edfd20b0\n"
     ]
    },
    {
     "data": {
      "text/plain": [
       "'num_processed: 760/20845'"
      ]
     },
     "metadata": {},
     "output_type": "display_data"
    },
    {
     "name": "stdout",
     "output_type": "stream",
     "text": [
      "fcb3e14398a65bb0d5942fbc_334770c4a1898737126be0e7_ece465204d0ff39c042f7121\n"
     ]
    },
    {
     "data": {
      "text/plain": [
       "'num_processed: 761/20845'"
      ]
     },
     "metadata": {},
     "output_type": "display_data"
    },
    {
     "name": "stdout",
     "output_type": "stream",
     "text": [
      "2254b0b01063c96b1e20df0e_27c7fcfc1ff0adc645fd7469_adc4353c8503939186f9fab0\n"
     ]
    },
    {
     "data": {
      "text/plain": [
       "'num_processed: 762/20845'"
      ]
     },
     "metadata": {},
     "output_type": "display_data"
    },
    {
     "name": "stdout",
     "output_type": "stream",
     "text": [
      "22f1fba699a8ad14466d893e_2028fd1a35366a90b532a07c_9555cd48fbb71e216b30b392\n"
     ]
    },
    {
     "data": {
      "text/plain": [
       "'num_processed: 763/20845'"
      ]
     },
     "metadata": {},
     "output_type": "display_data"
    },
    {
     "name": "stdout",
     "output_type": "stream",
     "text": [
      "e15c29d2dd7f91b43106a62a_cd4a40e20d130ea3ecf23ab0_c943bdbe01ede41c46167dc7\n"
     ]
    },
    {
     "data": {
      "text/plain": [
       "'num_processed: 764/20845'"
      ]
     },
     "metadata": {},
     "output_type": "display_data"
    },
    {
     "name": "stdout",
     "output_type": "stream",
     "text": [
      "2b2152e0ff75375983f14142_bc7c52594314277aab9e8c05_b6485c84811215588d2791bb\n"
     ]
    },
    {
     "data": {
      "text/plain": [
       "'num_processed: 765/20845'"
      ]
     },
     "metadata": {},
     "output_type": "display_data"
    },
    {
     "name": "stdout",
     "output_type": "stream",
     "text": [
      "52c5a7241f3f173ccfdfa83a_1bbee36071ef5b00bf5a42d3_3905e93b6416d8165361a1e1\n"
     ]
    },
    {
     "data": {
      "text/plain": [
       "'num_processed: 766/20845'"
      ]
     },
     "metadata": {},
     "output_type": "display_data"
    },
    {
     "name": "stdout",
     "output_type": "stream",
     "text": [
      "ca8c954257c68aa713bd60b3_c2475b2f831d7ecdcfb2ee8d_ff2359adba9e5153f6785545\n"
     ]
    },
    {
     "data": {
      "text/plain": [
       "'num_processed: 767/20845'"
      ]
     },
     "metadata": {},
     "output_type": "display_data"
    },
    {
     "name": "stdout",
     "output_type": "stream",
     "text": [
      "573d476ae4b0fddafb501f17_a37b81aff87aae3d1544e6a8_3bee73aa3d1c58ff93474fe7\n"
     ]
    },
    {
     "data": {
      "text/plain": [
       "'num_processed: 768/20845'"
      ]
     },
     "metadata": {},
     "output_type": "display_data"
    },
    {
     "name": "stdout",
     "output_type": "stream",
     "text": [
      "58d5b13c463d180f937a4c16_2c6e4c5d605286537e03d830_523f8e32b4fd7308aace5542\n",
      "ERROR TRASFORMING!\n"
     ]
    },
    {
     "data": {
      "text/plain": [
       "'num_processed: 769/20845'"
      ]
     },
     "metadata": {},
     "output_type": "display_data"
    },
    {
     "name": "stdout",
     "output_type": "stream",
     "text": [
      "35eba0845448856175f93048_9d862311a8ea8d3b9bd35d56_ab7ea8c8fe2cf465764048de\n"
     ]
    },
    {
     "data": {
      "text/plain": [
       "'num_processed: 770/20845'"
      ]
     },
     "metadata": {},
     "output_type": "display_data"
    },
    {
     "name": "stdout",
     "output_type": "stream",
     "text": [
      "580f8d0666ec9a1068392683_d71487eed5fffb27c4e7bcf7_67cd70b4a2a646dd277970dd\n"
     ]
    },
    {
     "data": {
      "text/plain": [
       "'num_processed: 771/20845'"
      ]
     },
     "metadata": {},
     "output_type": "display_data"
    },
    {
     "name": "stdout",
     "output_type": "stream",
     "text": [
      "5f1585af629edf00afc11350_efcb076db0a47c8d09f1dd66_8edf40a559c0047186c21fac\n"
     ]
    },
    {
     "data": {
      "text/plain": [
       "'num_processed: 772/20845'"
      ]
     },
     "metadata": {},
     "output_type": "display_data"
    },
    {
     "name": "stdout",
     "output_type": "stream",
     "text": [
      "8d8adeafe24ecaa0cbc855f8_661435c7af6bec92b904729c_4479a8342a6aca6057039c88\n"
     ]
    },
    {
     "data": {
      "text/plain": [
       "'num_processed: 773/20845'"
      ]
     },
     "metadata": {},
     "output_type": "display_data"
    },
    {
     "name": "stdout",
     "output_type": "stream",
     "text": [
      "5435d045d918598727a95d8d_97084d3dba9a22c3be2ce5db_93a9d5774a835fd1b192e0d7\n"
     ]
    },
    {
     "data": {
      "text/plain": [
       "'num_processed: 774/20845'"
      ]
     },
     "metadata": {},
     "output_type": "display_data"
    },
    {
     "name": "stdout",
     "output_type": "stream",
     "text": [
      "3bf20e935e3f4ab60e2b0f5f_7b71a2a199712d7b42ee6866_2d9f2b84fa185d647d1cdc0b\n"
     ]
    },
    {
     "data": {
      "text/plain": [
       "'num_processed: 775/20845'"
      ]
     },
     "metadata": {},
     "output_type": "display_data"
    },
    {
     "name": "stdout",
     "output_type": "stream",
     "text": [
      "80e2049ae17d009af4934a13_6a91ae2e7f32b11e78fb15e6_fa3dd52d6fc21c9b7491e728\n",
      "ERROR TRASFORMING!\n",
      "ERROR TRASFORMING!\n",
      "ERROR TRASFORMING!\n",
      "ERROR TRASFORMING!\n",
      "ERROR TRASFORMING!\n",
      "ERROR TRASFORMING!\n"
     ]
    },
    {
     "data": {
      "text/plain": [
       "'num_processed: 776/20845'"
      ]
     },
     "metadata": {},
     "output_type": "display_data"
    },
    {
     "name": "stdout",
     "output_type": "stream",
     "text": [
      "4801be4497d9bd82c9410a99_895b634d4f2038828ada69b8_0933f76dd19a2ea874cb9daf\n"
     ]
    },
    {
     "data": {
      "text/plain": [
       "'num_processed: 777/20845'"
      ]
     },
     "metadata": {},
     "output_type": "display_data"
    },
    {
     "name": "stdout",
     "output_type": "stream",
     "text": [
      "9580cf5c1858f63f71164309_6a17c175c19f733a3ce3aca8_c4511217ae415ed3fa133dc8\n"
     ]
    },
    {
     "data": {
      "text/plain": [
       "'num_processed: 778/20845'"
      ]
     },
     "metadata": {},
     "output_type": "display_data"
    },
    {
     "name": "stdout",
     "output_type": "stream",
     "text": [
      "60326a7d3a0e3379d1ff94b6_4f72792a5ad7041568b549af_b14a3e2243e38e7af6e78861\n"
     ]
    },
    {
     "data": {
      "text/plain": [
       "'num_processed: 779/20845'"
      ]
     },
     "metadata": {},
     "output_type": "display_data"
    },
    {
     "name": "stdout",
     "output_type": "stream",
     "text": [
      "a91e0c8a90bc099bb414f0ee_2cc61cb0e124908be240c99c_45a155870462a224705d4038\n"
     ]
    },
    {
     "data": {
      "text/plain": [
       "'num_processed: 780/20845'"
      ]
     },
     "metadata": {},
     "output_type": "display_data"
    },
    {
     "name": "stdout",
     "output_type": "stream",
     "text": [
      "091c2e281943326270c48aa0_9d5177c94ef76f9b450e14d8_f358701a8e7a9398d1224288\n"
     ]
    },
    {
     "data": {
      "text/plain": [
       "'num_processed: 781/20845'"
      ]
     },
     "metadata": {},
     "output_type": "display_data"
    },
    {
     "name": "stdout",
     "output_type": "stream",
     "text": [
      "8b3b19caef356e9c001417f2_53cc63667213b6f09c7f3447_cec07491e4bd7c33190c6780\n"
     ]
    },
    {
     "data": {
      "text/plain": [
       "'num_processed: 782/20845'"
      ]
     },
     "metadata": {},
     "output_type": "display_data"
    },
    {
     "name": "stdout",
     "output_type": "stream",
     "text": [
      "175d51291bae07c1a8f137d4_14a4b16b9cf2963f6e05b0d3_e38bc43a2dcaf94abb9143ac\n"
     ]
    },
    {
     "data": {
      "text/plain": [
       "'num_processed: 783/20845'"
      ]
     },
     "metadata": {},
     "output_type": "display_data"
    },
    {
     "name": "stdout",
     "output_type": "stream",
     "text": [
      "954b2bed69bf1f37edb92b71_08fc54d49f19a6a41307c3f2_e1ad06680b2c9a2a5b850878\n"
     ]
    },
    {
     "data": {
      "text/plain": [
       "'num_processed: 784/20845'"
      ]
     },
     "metadata": {},
     "output_type": "display_data"
    },
    {
     "name": "stdout",
     "output_type": "stream",
     "text": [
      "5191b356af00ef8d41107c0b_57b752fb6926674eabe3142b_be59dc7c9b6b8aa1a2ad375f\n"
     ]
    },
    {
     "data": {
      "text/plain": [
       "'num_processed: 785/20845'"
      ]
     },
     "metadata": {},
     "output_type": "display_data"
    },
    {
     "name": "stdout",
     "output_type": "stream",
     "text": [
      "29a4265ff6a38263bb8f7109_db2af27f73f48e5e947316ee_7a0ed1a2ff76343c575905af\n",
      "ERROR TRASFORMING!\n"
     ]
    },
    {
     "data": {
      "text/plain": [
       "'num_processed: 786/20845'"
      ]
     },
     "metadata": {},
     "output_type": "display_data"
    },
    {
     "name": "stdout",
     "output_type": "stream",
     "text": [
      "333d82893f75761ec78e34e5_22ebbc890b616f04572d5f54_7c6ad05b4ec7ec63e48482e2\n"
     ]
    },
    {
     "data": {
      "text/plain": [
       "'num_processed: 787/20845'"
      ]
     },
     "metadata": {},
     "output_type": "display_data"
    },
    {
     "name": "stdout",
     "output_type": "stream",
     "text": [
      "b195e6bcd45d44f96b4bc8d9_3b605b8bed860b82b81d3005_4f381f2f4e3ee335ecbc921b\n"
     ]
    },
    {
     "data": {
      "text/plain": [
       "'num_processed: 788/20845'"
      ]
     },
     "metadata": {},
     "output_type": "display_data"
    },
    {
     "name": "stdout",
     "output_type": "stream",
     "text": [
      "4df4f8fb03be246037cb2dec_766c5d63b650659236b301e2_c0963179177999bc71c3e3ff\n"
     ]
    },
    {
     "data": {
      "text/plain": [
       "'num_processed: 789/20845'"
      ]
     },
     "metadata": {},
     "output_type": "display_data"
    },
    {
     "name": "stdout",
     "output_type": "stream",
     "text": [
      "710e09ba3992480ba87b9215_4d167530013c9da151214757_1ed7562d4e59efaf0959b776\n"
     ]
    },
    {
     "data": {
      "text/plain": [
       "'num_processed: 790/20845'"
      ]
     },
     "metadata": {},
     "output_type": "display_data"
    },
    {
     "name": "stdout",
     "output_type": "stream",
     "text": [
      "c8a74b822ce83d5199cb3a0c_23dffb51eeb6029f89dc3eff_83a326fbf0360c1b2cfd8608\n"
     ]
    },
    {
     "data": {
      "text/plain": [
       "'num_processed: 791/20845'"
      ]
     },
     "metadata": {},
     "output_type": "display_data"
    },
    {
     "name": "stdout",
     "output_type": "stream",
     "text": [
      "d35ab12dfd98ec6d37f41fa6_c1401a19fedb0021b6d5dd54_fe2b7fb51a3594c3a956d073\n"
     ]
    },
    {
     "data": {
      "text/plain": [
       "'num_processed: 792/20845'"
      ]
     },
     "metadata": {},
     "output_type": "display_data"
    },
    {
     "name": "stdout",
     "output_type": "stream",
     "text": [
      "58f7ba00c077081046fb6208_624f35539e82c3d8a9ee54b6_7a0272e32255218e832c1e4a\n"
     ]
    },
    {
     "data": {
      "text/plain": [
       "'num_processed: 793/20845'"
      ]
     },
     "metadata": {},
     "output_type": "display_data"
    },
    {
     "name": "stdout",
     "output_type": "stream",
     "text": [
      "c0f91607fb4eb9bd6a41f80b_a5bba9136f4f58946715e399_0e4c808c10cfff8b48b3be29\n"
     ]
    },
    {
     "data": {
      "text/plain": [
       "'num_processed: 794/20845'"
      ]
     },
     "metadata": {},
     "output_type": "display_data"
    },
    {
     "name": "stdout",
     "output_type": "stream",
     "text": [
      "24c90f4a3e5da9e2cb55ddad_73b4fc4dfa5036cd15806d0a_966abc1ec7bb39d1ab0e6c1e\n"
     ]
    },
    {
     "data": {
      "text/plain": [
       "'num_processed: 795/20845'"
      ]
     },
     "metadata": {},
     "output_type": "display_data"
    },
    {
     "name": "stdout",
     "output_type": "stream",
     "text": [
      "a5a1d6a4bb37fdabf9af214c_1477a35bed6a2214de1c80d8_b0540114cb983a5d0aa5f4e0\n"
     ]
    },
    {
     "data": {
      "text/plain": [
       "'num_processed: 796/20845'"
      ]
     },
     "metadata": {},
     "output_type": "display_data"
    },
    {
     "name": "stdout",
     "output_type": "stream",
     "text": [
      "79d033a06168651691abeebb_e759f8225d7e0a6de91f73ec_dbcb81879ec2a14bf1bfc149\n"
     ]
    },
    {
     "data": {
      "text/plain": [
       "'num_processed: 797/20845'"
      ]
     },
     "metadata": {},
     "output_type": "display_data"
    },
    {
     "name": "stdout",
     "output_type": "stream",
     "text": [
      "c29ff5f7768e7efb48eedfe4_81d8d47d11fad37b1f23701c_efa9cf4f3dccb8cd916e5457\n"
     ]
    },
    {
     "data": {
      "text/plain": [
       "'num_processed: 798/20845'"
      ]
     },
     "metadata": {},
     "output_type": "display_data"
    },
    {
     "name": "stdout",
     "output_type": "stream",
     "text": [
      "876123f4abfc8dd5fbe14261_43d605ce84e01b6d358350e5_a38b85e4f00f10bcdf5f143a\n"
     ]
    },
    {
     "data": {
      "text/plain": [
       "'num_processed: 799/20845'"
      ]
     },
     "metadata": {},
     "output_type": "display_data"
    },
    {
     "name": "stdout",
     "output_type": "stream",
     "text": [
      "f1dc20eaf5093208a4db8847_e5573736663b3973349c67ef_901766efc234dce1357e3a81\n"
     ]
    },
    {
     "data": {
      "text/plain": [
       "'num_processed: 800/20845'"
      ]
     },
     "metadata": {},
     "output_type": "display_data"
    },
    {
     "name": "stdout",
     "output_type": "stream",
     "text": [
      "8595af38ce1c1c1d6a35bf3d_5f297b7c62c7de1fa61d2a26_7673844d79b6c22893d4bc59\n"
     ]
    },
    {
     "data": {
      "text/plain": [
       "'num_processed: 801/20845'"
      ]
     },
     "metadata": {},
     "output_type": "display_data"
    },
    {
     "name": "stdout",
     "output_type": "stream",
     "text": [
      "510dd69066c85aced657de87_10a206a52b80580f3dac4c5e_a79feeb2347201cada0121b1\n"
     ]
    },
    {
     "data": {
      "text/plain": [
       "'num_processed: 802/20845'"
      ]
     },
     "metadata": {},
     "output_type": "display_data"
    },
    {
     "name": "stdout",
     "output_type": "stream",
     "text": [
      "0b5d93b59ede618bf4800649_3f8f01fa061b237cbfa67328_edcf8bad4b5e96d9c09b50c6\n"
     ]
    },
    {
     "data": {
      "text/plain": [
       "'num_processed: 803/20845'"
      ]
     },
     "metadata": {},
     "output_type": "display_data"
    },
    {
     "name": "stdout",
     "output_type": "stream",
     "text": [
      "74d6957dd32577545d1115cf_263aca119cc1feb8bff0dc86_380eaf0127a343d959d5191a\n"
     ]
    },
    {
     "data": {
      "text/plain": [
       "'num_processed: 804/20845'"
      ]
     },
     "metadata": {},
     "output_type": "display_data"
    },
    {
     "name": "stdout",
     "output_type": "stream",
     "text": [
      "96bb7c61592925bf672ee21b_5ef6b169b32a6d0f4386c75a_19953af6ecf30b7279869b45\n"
     ]
    },
    {
     "data": {
      "text/plain": [
       "'num_processed: 805/20845'"
      ]
     },
     "metadata": {},
     "output_type": "display_data"
    },
    {
     "name": "stdout",
     "output_type": "stream",
     "text": [
      "080bda692c7362d9d8f550c0_2bb4d493fe1adaf882bc9c9f_07d0aa0827b91f041c623fb2\n"
     ]
    },
    {
     "data": {
      "text/plain": [
       "'num_processed: 806/20845'"
      ]
     },
     "metadata": {},
     "output_type": "display_data"
    },
    {
     "name": "stdout",
     "output_type": "stream",
     "text": [
      "39964c0ea49961cd3a49cbbd_0e9357a5e65797d2f265f69b_45402bfebe43d37b6d8afee3\n"
     ]
    },
    {
     "data": {
      "text/plain": [
       "'num_processed: 807/20845'"
      ]
     },
     "metadata": {},
     "output_type": "display_data"
    },
    {
     "name": "stdout",
     "output_type": "stream",
     "text": [
      "f6089638f2a04c851e0bd3ef_fddb10e8e079f72d7406a871_1a0dfd09b1de118628d670c1\n"
     ]
    },
    {
     "data": {
      "text/plain": [
       "'num_processed: 808/20845'"
      ]
     },
     "metadata": {},
     "output_type": "display_data"
    },
    {
     "name": "stdout",
     "output_type": "stream",
     "text": [
      "587311c7500a70177869f77d_194ad5b204f213ab0884fd0f_fa2f62d59c31a41d0a2267ea\n"
     ]
    },
    {
     "data": {
      "text/plain": [
       "'num_processed: 809/20845'"
      ]
     },
     "metadata": {},
     "output_type": "display_data"
    },
    {
     "name": "stdout",
     "output_type": "stream",
     "text": [
      "5b72f717f7e8fe2877efe5ca_dcfc7d50c34389f416bb06bf_faa7c3804f3e7452b373ff2f\n"
     ]
    },
    {
     "data": {
      "text/plain": [
       "'num_processed: 810/20845'"
      ]
     },
     "metadata": {},
     "output_type": "display_data"
    },
    {
     "name": "stdout",
     "output_type": "stream",
     "text": [
      "58b09595df48ba0f83526343_fac7ec4cb7f83114ae6b8956_e71e91d44d7f8db43220f6d2\n"
     ]
    },
    {
     "data": {
      "text/plain": [
       "'num_processed: 811/20845'"
      ]
     },
     "metadata": {},
     "output_type": "display_data"
    },
    {
     "name": "stdout",
     "output_type": "stream",
     "text": [
      "79b5fb0b6020d52c8959742a_2dd9453333f454819797822c_a2c5c9ff605dac195f13defa\n"
     ]
    },
    {
     "data": {
      "text/plain": [
       "'num_processed: 812/20845'"
      ]
     },
     "metadata": {},
     "output_type": "display_data"
    },
    {
     "name": "stdout",
     "output_type": "stream",
     "text": [
      "d4eda2f70a7c9aa1d2c34341_a9bd7ca09334fe32cb4ad003_8600c60e50f2aa268434cc76\n"
     ]
    },
    {
     "data": {
      "text/plain": [
       "'num_processed: 813/20845'"
      ]
     },
     "metadata": {},
     "output_type": "display_data"
    },
    {
     "name": "stdout",
     "output_type": "stream",
     "text": [
      "642f7b9a77fcd6d3671d9c05_fe4bfdada9b67d55844703dd_e0e0898477475c18ea4f0f8a\n"
     ]
    },
    {
     "data": {
      "text/plain": [
       "'num_processed: 814/20845'"
      ]
     },
     "metadata": {},
     "output_type": "display_data"
    },
    {
     "name": "stdout",
     "output_type": "stream",
     "text": [
      "41afa964cf50058722ca5e60_fc0508ffed899d8dfad26a79_c2d41fc4016cbf93d20db0b7\n"
     ]
    },
    {
     "data": {
      "text/plain": [
       "'num_processed: 815/20845'"
      ]
     },
     "metadata": {},
     "output_type": "display_data"
    },
    {
     "name": "stdout",
     "output_type": "stream",
     "text": [
      "a8b330c938240041323a3edf_8c282c7149f666d4c8a6bede_13a7265fdef5ce6bbd782f2e\n"
     ]
    },
    {
     "data": {
      "text/plain": [
       "'num_processed: 816/20845'"
      ]
     },
     "metadata": {},
     "output_type": "display_data"
    },
    {
     "name": "stdout",
     "output_type": "stream",
     "text": [
      "8c8a4df8eab406622755ef9f_990436c597e2febe17d5ac92_4a20666251acdc51efe56d80\n"
     ]
    },
    {
     "data": {
      "text/plain": [
       "'num_processed: 817/20845'"
      ]
     },
     "metadata": {},
     "output_type": "display_data"
    },
    {
     "name": "stdout",
     "output_type": "stream",
     "text": [
      "60f8303d0c57a13148345f09_e3a8659de3178f697bab07ed_157a3a68be9ec56bbb117309\n"
     ]
    },
    {
     "data": {
      "text/plain": [
       "'num_processed: 818/20845'"
      ]
     },
     "metadata": {},
     "output_type": "display_data"
    },
    {
     "name": "stdout",
     "output_type": "stream",
     "text": [
      "620f59fb112653275c40b8a2_c00c3bc59e0aae596c5805e6_4b464bdb843d73d083ad27b9\n"
     ]
    },
    {
     "data": {
      "text/plain": [
       "'num_processed: 819/20845'"
      ]
     },
     "metadata": {},
     "output_type": "display_data"
    },
    {
     "name": "stdout",
     "output_type": "stream",
     "text": [
      "4c3c66b0c1cd3d99eb6fd134_105aaec0220c537dff118aef_c2ce7fb194f4890f1d12a84e\n"
     ]
    },
    {
     "data": {
      "text/plain": [
       "'num_processed: 820/20845'"
      ]
     },
     "metadata": {},
     "output_type": "display_data"
    },
    {
     "name": "stdout",
     "output_type": "stream",
     "text": [
      "2fcb2112872a105b41508c9b_fff60fd69d2791441079f45b_84673ebf71112cf60db02290\n"
     ]
    },
    {
     "data": {
      "text/plain": [
       "'num_processed: 821/20845'"
      ]
     },
     "metadata": {},
     "output_type": "display_data"
    },
    {
     "name": "stdout",
     "output_type": "stream",
     "text": [
      "07db6760bd8008032f8d03ab_cd25d03b4c0aca56e5adcd56_03d5c906e90ffcb97462cf1a\n"
     ]
    },
    {
     "data": {
      "text/plain": [
       "'num_processed: 822/20845'"
      ]
     },
     "metadata": {},
     "output_type": "display_data"
    },
    {
     "name": "stdout",
     "output_type": "stream",
     "text": [
      "57d9ec0543da8c1138a7d9a5_23c1ae5af8d64385bf3c1d78_c7b11285e4f37ed733d7720b\n"
     ]
    },
    {
     "data": {
      "text/plain": [
       "'num_processed: 823/20845'"
      ]
     },
     "metadata": {},
     "output_type": "display_data"
    },
    {
     "name": "stdout",
     "output_type": "stream",
     "text": [
      "f350f0e1ad70977209ae02eb_721d39999e4daeea9122c37c_ddc09dfb5d630d2612055786\n"
     ]
    },
    {
     "data": {
      "text/plain": [
       "'num_processed: 824/20845'"
      ]
     },
     "metadata": {},
     "output_type": "display_data"
    },
    {
     "name": "stdout",
     "output_type": "stream",
     "text": [
      "ad525903534ef332a2099397_9e5557fa8892a1aa06343423_b2a101a921b89fd586add13b\n"
     ]
    },
    {
     "data": {
      "text/plain": [
       "'num_processed: 825/20845'"
      ]
     },
     "metadata": {},
     "output_type": "display_data"
    },
    {
     "name": "stdout",
     "output_type": "stream",
     "text": [
      "58cf82f4696009e7aa8c4bbf_8373d34717266f48e3a261bc_2dfe555b6a41970de7102ae3\n"
     ]
    },
    {
     "data": {
      "text/plain": [
       "'num_processed: 826/20845'"
      ]
     },
     "metadata": {},
     "output_type": "display_data"
    },
    {
     "name": "stdout",
     "output_type": "stream",
     "text": [
      "ca77a8b0ce2fbaeea7e599af_356bf9c81170c482cee5c0e1_a290087d69e7ec87e3d111c1\n"
     ]
    },
    {
     "data": {
      "text/plain": [
       "'num_processed: 827/20845'"
      ]
     },
     "metadata": {},
     "output_type": "display_data"
    },
    {
     "name": "stdout",
     "output_type": "stream",
     "text": [
      "f641683dc2d8f140c8d929f7_576902f662c03521d97dd06b_0e12afad54c8b2377836fce7\n"
     ]
    },
    {
     "data": {
      "text/plain": [
       "'num_processed: 828/20845'"
      ]
     },
     "metadata": {},
     "output_type": "display_data"
    },
    {
     "name": "stdout",
     "output_type": "stream",
     "text": [
      "32f165bef8dbc79eddc3fb45_da63f316bda8bf9faaf14eb7_81ab8b1f7ecf28954a568da6\n"
     ]
    },
    {
     "data": {
      "text/plain": [
       "'num_processed: 829/20845'"
      ]
     },
     "metadata": {},
     "output_type": "display_data"
    },
    {
     "name": "stdout",
     "output_type": "stream",
     "text": [
      "3eab1476d545c77e9ac2d324_b4e92948c200853b4de9b6ae_ca08edc971b7a73658570791\n"
     ]
    },
    {
     "data": {
      "text/plain": [
       "'num_processed: 830/20845'"
      ]
     },
     "metadata": {},
     "output_type": "display_data"
    },
    {
     "name": "stdout",
     "output_type": "stream",
     "text": [
      "58f78aaa9ea4b90f86e52590_932517b646316d9960da9e35_be1da2eec5c24967967862c9\n"
     ]
    },
    {
     "data": {
      "text/plain": [
       "'num_processed: 831/20845'"
      ]
     },
     "metadata": {},
     "output_type": "display_data"
    },
    {
     "name": "stdout",
     "output_type": "stream",
     "text": [
      "24506eb3c4cbd83776d5e739_1a287039e3fad2a4d3948565_90db0d3c4edca79d12faebcc\n"
     ]
    },
    {
     "data": {
      "text/plain": [
       "'num_processed: 832/20845'"
      ]
     },
     "metadata": {},
     "output_type": "display_data"
    },
    {
     "name": "stdout",
     "output_type": "stream",
     "text": [
      "7b1dab8ff26eaff7efae7f96_eb4fb1988d81325a013a76a7_79b83c4b599ed8a2914b9c10\n"
     ]
    },
    {
     "data": {
      "text/plain": [
       "'num_processed: 833/20845'"
      ]
     },
     "metadata": {},
     "output_type": "display_data"
    },
    {
     "name": "stdout",
     "output_type": "stream",
     "text": [
      "2c6620b33294a2c365bdb01b_30f04f40fa100fa659f4dfae_1e11706f51b60ee3103b9e0d\n"
     ]
    },
    {
     "data": {
      "text/plain": [
       "'num_processed: 834/20845'"
      ]
     },
     "metadata": {},
     "output_type": "display_data"
    },
    {
     "name": "stdout",
     "output_type": "stream",
     "text": [
      "309d202c38448fdae8aa14d2_a13244006b14cb8b08d7c7af_97cfc06e974c8d311c108021\n"
     ]
    },
    {
     "data": {
      "text/plain": [
       "'num_processed: 835/20845'"
      ]
     },
     "metadata": {},
     "output_type": "display_data"
    },
    {
     "name": "stdout",
     "output_type": "stream",
     "text": [
      "22475de5cc54078bb83fad86_3f695ffefecf1abab2822bad_6ec2b7e68f1826c15c152d2b\n"
     ]
    },
    {
     "data": {
      "text/plain": [
       "'num_processed: 836/20845'"
      ]
     },
     "metadata": {},
     "output_type": "display_data"
    },
    {
     "name": "stdout",
     "output_type": "stream",
     "text": [
      "b8f5cb7cae56394acacb9e52_ea11bdd47978a168ae974072_151b8367c98f198be136c916\n"
     ]
    },
    {
     "data": {
      "text/plain": [
       "'num_processed: 837/20845'"
      ]
     },
     "metadata": {},
     "output_type": "display_data"
    },
    {
     "name": "stdout",
     "output_type": "stream",
     "text": [
      "964a1807d8964131874cdeaf_e34ea45fb17ba5add16d4d29_1e8349a4b6b62a1a1615b7a7\n"
     ]
    },
    {
     "data": {
      "text/plain": [
       "'num_processed: 838/20845'"
      ]
     },
     "metadata": {},
     "output_type": "display_data"
    },
    {
     "name": "stdout",
     "output_type": "stream",
     "text": [
      "1e2d9dd03449703c9e44c6fd_f5e144e3369f3856b543aede_c4ba6e6c5f468a1e75abf014\n"
     ]
    },
    {
     "data": {
      "text/plain": [
       "'num_processed: 839/20845'"
      ]
     },
     "metadata": {},
     "output_type": "display_data"
    },
    {
     "name": "stdout",
     "output_type": "stream",
     "text": [
      "1fdd5e6363f4deef4bc2392f_03f2421aa99b6c45c8918b32_d62bf638303bda4b53630cee\n",
      "EROR IN process_axial - PK_SURF_ask_uvboxERROR TRASFORMING!\n",
      "Error in process_face: PK_ENTITY_ask_classError in process_face: PK_ENTITY_ask_classError in process_face: PK_ENTITY_ask_classError in process_face: PK_ENTITY_ask_classError in process_face: PK_ENTITY_ask_classERROR TRASFORMING!\n",
      "ERROR TRASFORMING!\n"
     ]
    },
    {
     "data": {
      "text/plain": [
       "'num_processed: 840/20845'"
      ]
     },
     "metadata": {},
     "output_type": "display_data"
    },
    {
     "name": "stdout",
     "output_type": "stream",
     "text": [
      "62bb214d01974ae7f5604b30_5b2184ba0b92ffada04bc6ca_3d24a6c4f596371e768598b5\n"
     ]
    },
    {
     "data": {
      "text/plain": [
       "'num_processed: 841/20845'"
      ]
     },
     "metadata": {},
     "output_type": "display_data"
    },
    {
     "name": "stdout",
     "output_type": "stream",
     "text": [
      "5744b581e4b02e83c7192dea_40c07881c9097fa18ee672aa_9f35641e302259ccc0a6c167\n"
     ]
    },
    {
     "data": {
      "text/plain": [
       "'num_processed: 842/20845'"
      ]
     },
     "metadata": {},
     "output_type": "display_data"
    },
    {
     "name": "stdout",
     "output_type": "stream",
     "text": [
      "cafd4372a3ebaf586a3c3ffb_2f1e4b7dec7e936fed182130_b968330cbefc2bc382027302\n"
     ]
    },
    {
     "data": {
      "text/plain": [
       "'num_processed: 843/20845'"
      ]
     },
     "metadata": {},
     "output_type": "display_data"
    },
    {
     "name": "stdout",
     "output_type": "stream",
     "text": [
      "80897fad5987c96728d6c702_063d794b1eda29dd1f4aeb15_5f0c465016ed58b9f33ef851\n"
     ]
    },
    {
     "data": {
      "text/plain": [
       "'num_processed: 844/20845'"
      ]
     },
     "metadata": {},
     "output_type": "display_data"
    },
    {
     "name": "stdout",
     "output_type": "stream",
     "text": [
      "acc81b485bbde73736fd4216_98b5ea31aa536dc98bbdd54c_12fd4534e0b6ac67003ea882\n"
     ]
    },
    {
     "data": {
      "text/plain": [
       "'num_processed: 845/20845'"
      ]
     },
     "metadata": {},
     "output_type": "display_data"
    },
    {
     "name": "stdout",
     "output_type": "stream",
     "text": [
      "23bbc607278e3112b5fc7ace_a2c50526a8556f09cf6883b0_fff9a48d5a74438707ca1b68\n"
     ]
    },
    {
     "data": {
      "text/plain": [
       "'num_processed: 846/20845'"
      ]
     },
     "metadata": {},
     "output_type": "display_data"
    },
    {
     "name": "stdout",
     "output_type": "stream",
     "text": [
      "b447ef87f7867e4ca7dff7bc_d07b7196d74c5fc289ae871d_35dc1656307dfe6e3e56b560\n"
     ]
    },
    {
     "data": {
      "text/plain": [
       "'num_processed: 847/20845'"
      ]
     },
     "metadata": {},
     "output_type": "display_data"
    },
    {
     "name": "stdout",
     "output_type": "stream",
     "text": [
      "2414ac11868de2065d0ebd20_fd21c2b3778bca4545640e6d_4180ce1be51cc6af6412fa57\n"
     ]
    },
    {
     "data": {
      "text/plain": [
       "'num_processed: 848/20845'"
      ]
     },
     "metadata": {},
     "output_type": "display_data"
    },
    {
     "name": "stdout",
     "output_type": "stream",
     "text": [
      "c92ddaf221a3ed50808c9f32_4a16cf08167de1b2de962a17_28ba5522b3d149d25e15e3bc\n"
     ]
    },
    {
     "data": {
      "text/plain": [
       "'num_processed: 849/20845'"
      ]
     },
     "metadata": {},
     "output_type": "display_data"
    },
    {
     "name": "stdout",
     "output_type": "stream",
     "text": [
      "9a1790123ac56692f7935c33_4349930c2c5165677974b2d9_21f9f379a05b282f34aab203\n"
     ]
    },
    {
     "data": {
      "text/plain": [
       "'num_processed: 850/20845'"
      ]
     },
     "metadata": {},
     "output_type": "display_data"
    },
    {
     "name": "stdout",
     "output_type": "stream",
     "text": [
      "dd81616ee028f6c21e1eee70_08c327c87ea76f0227edf55e_51f881c09ae3659eee9daffe\n"
     ]
    },
    {
     "data": {
      "text/plain": [
       "'num_processed: 851/20845'"
      ]
     },
     "metadata": {},
     "output_type": "display_data"
    },
    {
     "name": "stdout",
     "output_type": "stream",
     "text": [
      "4c45e60836e2ec97e87a69cd_5f4160774d012866904a851d_01b32163e0bb30f7d264c26b\n"
     ]
    },
    {
     "data": {
      "text/plain": [
       "'num_processed: 852/20845'"
      ]
     },
     "metadata": {},
     "output_type": "display_data"
    },
    {
     "name": "stdout",
     "output_type": "stream",
     "text": [
      "5f376cdd06536501fd65b5c4_631029471cb6d9b9a5b8b6d4_846f1380ba01386c8075e549\n"
     ]
    },
    {
     "data": {
      "text/plain": [
       "'num_processed: 853/20845'"
      ]
     },
     "metadata": {},
     "output_type": "display_data"
    },
    {
     "name": "stdout",
     "output_type": "stream",
     "text": [
      "c75adee187a8f5a339cc798f_1563ef354f132a7eae4b5b3a_a5ae3d412647b40fc86f3ef7\n"
     ]
    },
    {
     "data": {
      "text/plain": [
       "'num_processed: 854/20845'"
      ]
     },
     "metadata": {},
     "output_type": "display_data"
    },
    {
     "name": "stdout",
     "output_type": "stream",
     "text": [
      "349934fb18ddaa44ca31e281_52bc6acec163fbe3c1acca99_c3059bf988aea52572eaf5f1\n"
     ]
    },
    {
     "data": {
      "text/plain": [
       "'num_processed: 855/20845'"
      ]
     },
     "metadata": {},
     "output_type": "display_data"
    },
    {
     "name": "stdout",
     "output_type": "stream",
     "text": [
      "00d8ba61f3696f0c5311b54b_e70a35cf59990d9975dd4efc_bf4fcf000f1c528f468b46a7\n"
     ]
    },
    {
     "data": {
      "text/plain": [
       "'num_processed: 856/20845'"
      ]
     },
     "metadata": {},
     "output_type": "display_data"
    },
    {
     "name": "stdout",
     "output_type": "stream",
     "text": [
      "60d1aee41aba85290d991880_9434057ab5d7bc4735ff3af5_caadf156b33987254a00805e\n"
     ]
    },
    {
     "data": {
      "text/plain": [
       "'num_processed: 857/20845'"
      ]
     },
     "metadata": {},
     "output_type": "display_data"
    },
    {
     "name": "stdout",
     "output_type": "stream",
     "text": [
      "25b03252d080d568dd5713ec_c65579e23f890dc011c3a4ac_176f91181fb51b697277e8c6\n"
     ]
    },
    {
     "data": {
      "text/plain": [
       "'num_processed: 858/20845'"
      ]
     },
     "metadata": {},
     "output_type": "display_data"
    },
    {
     "name": "stdout",
     "output_type": "stream",
     "text": [
      "5cb14467672ac8bdc32cb0af_faf0efcd3a381b5b9a29bd0f_eb4c8073684924eb6b1c8bac\n"
     ]
    },
    {
     "data": {
      "text/plain": [
       "'num_processed: 859/20845'"
      ]
     },
     "metadata": {},
     "output_type": "display_data"
    },
    {
     "name": "stdout",
     "output_type": "stream",
     "text": [
      "fa462431c9aa61368add6868_89f9448f2d3ee4a8b0960302_f431cd9634b20634e732c0a4\n",
      "ERROR TRASFORMING!\n"
     ]
    },
    {
     "data": {
      "text/plain": [
       "'num_processed: 860/20845'"
      ]
     },
     "metadata": {},
     "output_type": "display_data"
    },
    {
     "name": "stdout",
     "output_type": "stream",
     "text": [
      "baba1fc9d34f1c068f3e5f0e_46a610d2c65d9cff5438e703_755e3ae0bdf09b703fbc7986\n"
     ]
    },
    {
     "data": {
      "text/plain": [
       "'num_processed: 861/20845'"
      ]
     },
     "metadata": {},
     "output_type": "display_data"
    },
    {
     "name": "stdout",
     "output_type": "stream",
     "text": [
      "7d0884abc8cc40b4851411f4_5b8a2d535c19c8325cd7c845_c402a621c9fe0091a4580f07\n"
     ]
    },
    {
     "data": {
      "text/plain": [
       "'num_processed: 862/20845'"
      ]
     },
     "metadata": {},
     "output_type": "display_data"
    },
    {
     "name": "stdout",
     "output_type": "stream",
     "text": [
      "7729701a56a31bab040e0290_fcf6d294a8cf3676fe83e3f0_b62031cab4bc657d8e4cbede\n"
     ]
    },
    {
     "data": {
      "text/plain": [
       "'num_processed: 863/20845'"
      ]
     },
     "metadata": {},
     "output_type": "display_data"
    },
    {
     "name": "stdout",
     "output_type": "stream",
     "text": [
      "167688122d6f801bbfd254b7_cd6e9dc8338b9983a826e35e_884e9df910da8095b6e3e65b\n"
     ]
    },
    {
     "data": {
      "text/plain": [
       "'num_processed: 864/20845'"
      ]
     },
     "metadata": {},
     "output_type": "display_data"
    },
    {
     "name": "stdout",
     "output_type": "stream",
     "text": [
      "2703ffb0285955799cad6702_84100a5b3e0dd9a8058bde14_b44c3a1c7efddd87cfb518fe\n"
     ]
    },
    {
     "data": {
      "text/plain": [
       "'num_processed: 865/20845'"
      ]
     },
     "metadata": {},
     "output_type": "display_data"
    },
    {
     "name": "stdout",
     "output_type": "stream",
     "text": [
      "0a132bb725cc259e11499f6a_d9bd617fbffec56547527e7b_617744576f683242d7042bb1\n"
     ]
    },
    {
     "data": {
      "text/plain": [
       "'num_processed: 866/20845'"
      ]
     },
     "metadata": {},
     "output_type": "display_data"
    },
    {
     "name": "stdout",
     "output_type": "stream",
     "text": [
      "57db5643fa73431158c73410_bd44cb2575dad71305c6a95c_0c19d94b07c1662d94ca777b\n"
     ]
    },
    {
     "data": {
      "text/plain": [
       "'num_processed: 867/20845'"
      ]
     },
     "metadata": {},
     "output_type": "display_data"
    },
    {
     "name": "stdout",
     "output_type": "stream",
     "text": [
      "5897cbffa417220f723350ee_5f66029e45b96b398f1dca5c_6ff044597ace23050d15865b\n"
     ]
    },
    {
     "data": {
      "text/plain": [
       "'num_processed: 868/20845'"
      ]
     },
     "metadata": {},
     "output_type": "display_data"
    },
    {
     "name": "stdout",
     "output_type": "stream",
     "text": [
      "c1192f674d4334a02526953e_6a1ed9094c3dd50778c88f75_a560bfc0a9c3a30674e91bb5\n"
     ]
    },
    {
     "data": {
      "text/plain": [
       "'num_processed: 869/20845'"
      ]
     },
     "metadata": {},
     "output_type": "display_data"
    },
    {
     "name": "stdout",
     "output_type": "stream",
     "text": [
      "1eae57de1102855ca599a4a4_a58690e5d9cebb3f85c67457_76a373e73cd4a17cbae8a6ee\n"
     ]
    },
    {
     "data": {
      "text/plain": [
       "'num_processed: 870/20845'"
      ]
     },
     "metadata": {},
     "output_type": "display_data"
    },
    {
     "name": "stdout",
     "output_type": "stream",
     "text": [
      "3e6657a2e3ada600ea52b267_21b8d56e0c5cc99ff79e19a7_4db255182f8db2fb80ea108b\n"
     ]
    },
    {
     "data": {
      "text/plain": [
       "'num_processed: 871/20845'"
      ]
     },
     "metadata": {},
     "output_type": "display_data"
    },
    {
     "name": "stdout",
     "output_type": "stream",
     "text": [
      "ae74738be877bb688a01d4e5_9d9154d22c13905e8d962fd1_fa9d0328156084688d0fa411\n"
     ]
    },
    {
     "data": {
      "text/plain": [
       "'num_processed: 872/20845'"
      ]
     },
     "metadata": {},
     "output_type": "display_data"
    },
    {
     "name": "stdout",
     "output_type": "stream",
     "text": [
      "e5a325c79347867902e2151a_3dd51f1c6607dce6864cc077_c88720bccad8ed30f0ab3aee\n"
     ]
    },
    {
     "data": {
      "text/plain": [
       "'num_processed: 873/20845'"
      ]
     },
     "metadata": {},
     "output_type": "display_data"
    },
    {
     "name": "stdout",
     "output_type": "stream",
     "text": [
      "00d6a9031181a11aa6e927d7_2cf55737a099d17fec83708b_4ffa573e958c715a7ac75656\n"
     ]
    },
    {
     "data": {
      "text/plain": [
       "'num_processed: 874/20845'"
      ]
     },
     "metadata": {},
     "output_type": "display_data"
    },
    {
     "name": "stdout",
     "output_type": "stream",
     "text": [
      "8ddde3b409881ac0aa7b7fb1_fecb1f3e99767ca75bae0547_aabd5d7856cdf12ebc2ae04a\n"
     ]
    },
    {
     "data": {
      "text/plain": [
       "'num_processed: 875/20845'"
      ]
     },
     "metadata": {},
     "output_type": "display_data"
    },
    {
     "name": "stdout",
     "output_type": "stream",
     "text": [
      "5a638117333c674d2e4c7c6f_124798f97d2a0231cb82f220_dd42c0f968f1a56a3cd65f34\n"
     ]
    },
    {
     "data": {
      "text/plain": [
       "'num_processed: 876/20845'"
      ]
     },
     "metadata": {},
     "output_type": "display_data"
    },
    {
     "name": "stdout",
     "output_type": "stream",
     "text": [
      "2b71cdbf796c91b84eddb346_55c9006f0f20ad1237a342ea_909540fde07f61736a2f28bb\n"
     ]
    },
    {
     "data": {
      "text/plain": [
       "'num_processed: 877/20845'"
      ]
     },
     "metadata": {},
     "output_type": "display_data"
    },
    {
     "name": "stdout",
     "output_type": "stream",
     "text": [
      "5ad5efe2196d554874072d71_724e9fda072c1b7e632d7d72_5e340d8d72eeeddffab27bc0\n"
     ]
    },
    {
     "data": {
      "text/plain": [
       "'num_processed: 878/20845'"
      ]
     },
     "metadata": {},
     "output_type": "display_data"
    },
    {
     "name": "stdout",
     "output_type": "stream",
     "text": [
      "cd5f50df888411f490fc9e70_4851e9cddb58e26546360863_1c0544767e42f1c54999b92b\n"
     ]
    },
    {
     "data": {
      "text/plain": [
       "'num_processed: 879/20845'"
      ]
     },
     "metadata": {},
     "output_type": "display_data"
    },
    {
     "name": "stdout",
     "output_type": "stream",
     "text": [
      "c83eac8116f1c421df8bb676_7af9fc0b34bbd57a3f74e0d1_a4a5d246fc19e8f197a0d290\n"
     ]
    },
    {
     "data": {
      "text/plain": [
       "'num_processed: 880/20845'"
      ]
     },
     "metadata": {},
     "output_type": "display_data"
    },
    {
     "name": "stdout",
     "output_type": "stream",
     "text": [
      "5ca762317ab41a763707a360_5021aecfc39e38cd9dfa60fa_b806537c075db91ae2a933d8\n"
     ]
    },
    {
     "data": {
      "text/plain": [
       "'num_processed: 881/20845'"
      ]
     },
     "metadata": {},
     "output_type": "display_data"
    },
    {
     "name": "stdout",
     "output_type": "stream",
     "text": [
      "5104ef181b568f4bc34d1f34_5d533f11aeecda51cb035753_1f4b864a328dfcf58370af79\n"
     ]
    },
    {
     "data": {
      "text/plain": [
       "'num_processed: 882/20845'"
      ]
     },
     "metadata": {},
     "output_type": "display_data"
    },
    {
     "name": "stdout",
     "output_type": "stream",
     "text": [
      "ad5425977cb346ead0abbec8_804e56eb9f02bf479ec984be_987ac1cabbe0c36ae60fa739\n"
     ]
    },
    {
     "data": {
      "text/plain": [
       "'num_processed: 883/20845'"
      ]
     },
     "metadata": {},
     "output_type": "display_data"
    },
    {
     "name": "stdout",
     "output_type": "stream",
     "text": [
      "755742468dedd634d23214ad_a4949fb7e6fc71bb29de4491_8ed7ad773e209c0c44fead1d\n"
     ]
    },
    {
     "data": {
      "text/plain": [
       "'num_processed: 884/20845'"
      ]
     },
     "metadata": {},
     "output_type": "display_data"
    },
    {
     "name": "stdout",
     "output_type": "stream",
     "text": [
      "7ac649aeebd5a92ebcd34f97_46dd10c58fd4b98456037676_f922416e22e9c2862dbaa79d\n"
     ]
    },
    {
     "data": {
      "text/plain": [
       "'num_processed: 885/20845'"
      ]
     },
     "metadata": {},
     "output_type": "display_data"
    },
    {
     "name": "stdout",
     "output_type": "stream",
     "text": [
      "7359fd763536fbef8124b5c3_c92cb7495d5c037028fcb87a_856f14e74fefbb12a070dd56\n"
     ]
    },
    {
     "data": {
      "text/plain": [
       "'num_processed: 886/20845'"
      ]
     },
     "metadata": {},
     "output_type": "display_data"
    },
    {
     "name": "stdout",
     "output_type": "stream",
     "text": [
      "e22c537aa7adf574ac54390c_d5ccb4e1a02fd36e0e720cdf_d83efadd0c0d363a6fef1837\n"
     ]
    },
    {
     "data": {
      "text/plain": [
       "'num_processed: 887/20845'"
      ]
     },
     "metadata": {},
     "output_type": "display_data"
    },
    {
     "name": "stdout",
     "output_type": "stream",
     "text": [
      "5f8a7f90b76905a81e8ba96a_e218293b8f9892cbf775c99f_f7df558f828b932cadef795d\n"
     ]
    },
    {
     "data": {
      "text/plain": [
       "'num_processed: 888/20845'"
      ]
     },
     "metadata": {},
     "output_type": "display_data"
    },
    {
     "name": "stdout",
     "output_type": "stream",
     "text": [
      "0461fffb7a39424ff772414b_49c6407f670bacebcdc3325c_80435277269e2f8b1cdc5912\n"
     ]
    },
    {
     "data": {
      "text/plain": [
       "'num_processed: 889/20845'"
      ]
     },
     "metadata": {},
     "output_type": "display_data"
    },
    {
     "name": "stdout",
     "output_type": "stream",
     "text": [
      "a703798c2457a05ccb2cdf13_7d1a19dd1702e3e8c5da5b65_615418191b5b8b7cf4fead41\n"
     ]
    },
    {
     "data": {
      "text/plain": [
       "'num_processed: 890/20845'"
      ]
     },
     "metadata": {},
     "output_type": "display_data"
    },
    {
     "name": "stdout",
     "output_type": "stream",
     "text": [
      "a50ce5df2ebb687a9181254e_749c404e2eed2dc6a4a7d1a7_7697a8ade95b1ce899541ef6\n"
     ]
    },
    {
     "data": {
      "text/plain": [
       "'num_processed: 891/20845'"
      ]
     },
     "metadata": {},
     "output_type": "display_data"
    },
    {
     "name": "stdout",
     "output_type": "stream",
     "text": [
      "45aa768ba44652f9d519c96a_12b0ee405cbfbfdf526a5e68_158c15706a7d34be819c1ae9\n"
     ]
    },
    {
     "data": {
      "text/plain": [
       "'num_processed: 892/20845'"
      ]
     },
     "metadata": {},
     "output_type": "display_data"
    },
    {
     "name": "stdout",
     "output_type": "stream",
     "text": [
      "4d0e721b10014ac170f8c8a6_ba972d5de7680e142f35d4cd_c670862755e46cd8d33b9e16\n"
     ]
    },
    {
     "data": {
      "text/plain": [
       "'num_processed: 893/20845'"
      ]
     },
     "metadata": {},
     "output_type": "display_data"
    },
    {
     "name": "stdout",
     "output_type": "stream",
     "text": [
      "28f564e91b86680ae9f6092a_112048685fd15cfb5a09adbd_2635e2d9e91eb94c884a4b86\n"
     ]
    },
    {
     "data": {
      "text/plain": [
       "'num_processed: 894/20845'"
      ]
     },
     "metadata": {},
     "output_type": "display_data"
    },
    {
     "name": "stdout",
     "output_type": "stream",
     "text": [
      "e75e370348227438c4af05db_890dd2892c34f0c46f0a7435_7638a102acc585b42db3075a\n"
     ]
    },
    {
     "data": {
      "text/plain": [
       "'num_processed: 895/20845'"
      ]
     },
     "metadata": {},
     "output_type": "display_data"
    },
    {
     "name": "stdout",
     "output_type": "stream",
     "text": [
      "605933c39e0f963affc79e60_f3a7665fe7988f7929b80f3b_cfc395d2c4028b186bef67c6\n"
     ]
    },
    {
     "data": {
      "text/plain": [
       "'num_processed: 896/20845'"
      ]
     },
     "metadata": {},
     "output_type": "display_data"
    },
    {
     "name": "stdout",
     "output_type": "stream",
     "text": [
      "68718706f6b4bae553469dc4_2228ebfc59a87f7019f64916_e298532eb1da955f5f584418\n"
     ]
    },
    {
     "data": {
      "text/plain": [
       "'num_processed: 897/20845'"
      ]
     },
     "metadata": {},
     "output_type": "display_data"
    },
    {
     "name": "stdout",
     "output_type": "stream",
     "text": [
      "f892fa4eb4edfbe643fa50db_1f9f36e161cc682ac5db9593_3d8bbdf1c7017bc159a72257\n"
     ]
    },
    {
     "data": {
      "text/plain": [
       "'num_processed: 898/20845'"
      ]
     },
     "metadata": {},
     "output_type": "display_data"
    },
    {
     "name": "stdout",
     "output_type": "stream",
     "text": [
      "2e6ec1d8fa2ccf71ede30d83_2583bbedb1a8884ab70ed98a_d03b726316cf7989976c8062\n",
      "ERROR TRASFORMING!\n"
     ]
    },
    {
     "data": {
      "text/plain": [
       "'num_processed: 899/20845'"
      ]
     },
     "metadata": {},
     "output_type": "display_data"
    },
    {
     "name": "stdout",
     "output_type": "stream",
     "text": [
      "96f1d0bf1139c322208ac28a_0d13a4d24e47b7397ec8dc26_ee138287d483cbd07fdc72de\n"
     ]
    },
    {
     "data": {
      "text/plain": [
       "'num_processed: 900/20845'"
      ]
     },
     "metadata": {},
     "output_type": "display_data"
    },
    {
     "name": "stdout",
     "output_type": "stream",
     "text": [
      "df976662cd0d433033b8bdfd_121c3fd1a246cca1e1ce89a5_8e2d2cfc05a2a83eed6282c6\n"
     ]
    },
    {
     "data": {
      "text/plain": [
       "'num_processed: 901/20845'"
      ]
     },
     "metadata": {},
     "output_type": "display_data"
    },
    {
     "name": "stdout",
     "output_type": "stream",
     "text": [
      "a6ad9185a292c3d05854ef71_4b6d526a076597e5801a686f_3c2cc0a22fbdfc02e167a335\n"
     ]
    },
    {
     "data": {
      "text/plain": [
       "'num_processed: 902/20845'"
      ]
     },
     "metadata": {},
     "output_type": "display_data"
    },
    {
     "name": "stdout",
     "output_type": "stream",
     "text": [
      "58a93dc722115e0f6fe52493_8494e60d0832846c76f5d75a_df03a87f2ca6007884cd3e3b\n"
     ]
    },
    {
     "data": {
      "text/plain": [
       "'num_processed: 903/20845'"
      ]
     },
     "metadata": {},
     "output_type": "display_data"
    },
    {
     "name": "stdout",
     "output_type": "stream",
     "text": [
      "6c80c29a84fb19aa3c4073d6_8e3bf47960b7ec2cc9a8e3a6_608673a3db1888b8baa40d1a\n"
     ]
    },
    {
     "data": {
      "text/plain": [
       "'num_processed: 904/20845'"
      ]
     },
     "metadata": {},
     "output_type": "display_data"
    },
    {
     "name": "stdout",
     "output_type": "stream",
     "text": [
      "af89f6a3a84ad38a0b37c01f_04cdad7f7ec018169c22226e_d29d4f753244b8f9a4df8efe\n"
     ]
    },
    {
     "data": {
      "text/plain": [
       "'num_processed: 905/20845'"
      ]
     },
     "metadata": {},
     "output_type": "display_data"
    },
    {
     "name": "stdout",
     "output_type": "stream",
     "text": [
      "97f80fcdb17867d636460d20_6dff1fc736fbb340a2b71bca_78907d45727bb8352ded257e\n"
     ]
    },
    {
     "data": {
      "text/plain": [
       "'num_processed: 906/20845'"
      ]
     },
     "metadata": {},
     "output_type": "display_data"
    },
    {
     "name": "stdout",
     "output_type": "stream",
     "text": [
      "4339570fad472bad4a0c683b_643f0981f6eef7bb23713ad9_17214975afcd9b254e1fe5ec\n"
     ]
    },
    {
     "data": {
      "text/plain": [
       "'num_processed: 907/20845'"
      ]
     },
     "metadata": {},
     "output_type": "display_data"
    },
    {
     "name": "stdout",
     "output_type": "stream",
     "text": [
      "764559f50130d1d08c08cfa9_dd0ad44ce2f0246c5cc2b870_7b5617e45b07ec762e8124eb\n"
     ]
    },
    {
     "data": {
      "text/plain": [
       "'num_processed: 908/20845'"
      ]
     },
     "metadata": {},
     "output_type": "display_data"
    },
    {
     "name": "stdout",
     "output_type": "stream",
     "text": [
      "58e52dc4244b860f66951ef7_9a603be7fd2ea5e82928e816_a5c643abdeeae129197dcb0b\n"
     ]
    },
    {
     "data": {
      "text/plain": [
       "'num_processed: 909/20845'"
      ]
     },
     "metadata": {},
     "output_type": "display_data"
    },
    {
     "name": "stdout",
     "output_type": "stream",
     "text": [
      "8463be19a0ae19e8b76c7027_3d82d2ed7c1ea959ff5228f5_d466d5700c105086a91c8ba3\n"
     ]
    },
    {
     "data": {
      "text/plain": [
       "'num_processed: 910/20845'"
      ]
     },
     "metadata": {},
     "output_type": "display_data"
    },
    {
     "name": "stdout",
     "output_type": "stream",
     "text": [
      "cc32a801f2325f1fb07c9df9_3b288eb8b87c851c4b6687c7_2178a74be279522d1efd17d7\n"
     ]
    },
    {
     "data": {
      "text/plain": [
       "'num_processed: 911/20845'"
      ]
     },
     "metadata": {},
     "output_type": "display_data"
    },
    {
     "name": "stdout",
     "output_type": "stream",
     "text": [
      "a9ebfaf958d90fbe6de6387c_c095f117b082d918b70ec710_4f2245db0c3457ae30bd0725\n"
     ]
    },
    {
     "data": {
      "text/plain": [
       "'num_processed: 912/20845'"
      ]
     },
     "metadata": {},
     "output_type": "display_data"
    },
    {
     "name": "stdout",
     "output_type": "stream",
     "text": [
      "e1ebb9992fb022aca109bfeb_f4757e4c456cff858f732d5b_d239f0bdd4b35e1a7a4f9964\n"
     ]
    },
    {
     "data": {
      "text/plain": [
       "'num_processed: 913/20845'"
      ]
     },
     "metadata": {},
     "output_type": "display_data"
    },
    {
     "name": "stdout",
     "output_type": "stream",
     "text": [
      "29e9d16864d5fb9be26a5a48_e20f3ec513c62c31a545d226_820c56158babc540296a2e48\n"
     ]
    },
    {
     "data": {
      "text/plain": [
       "'num_processed: 914/20845'"
      ]
     },
     "metadata": {},
     "output_type": "display_data"
    },
    {
     "name": "stdout",
     "output_type": "stream",
     "text": [
      "a106c4ed2381c6cf3698d04f_3a3e86f011554838f972a9c1_530797ff83381f69ed0ea751\n"
     ]
    },
    {
     "data": {
      "text/plain": [
       "'num_processed: 915/20845'"
      ]
     },
     "metadata": {},
     "output_type": "display_data"
    },
    {
     "name": "stdout",
     "output_type": "stream",
     "text": [
      "4cb619d44f59a61ab26e3f93_f6fd6d6c4bb7b102aa76b5a2_f706480b7fa6a1f3d81944d1\n"
     ]
    },
    {
     "data": {
      "text/plain": [
       "'num_processed: 916/20845'"
      ]
     },
     "metadata": {},
     "output_type": "display_data"
    },
    {
     "name": "stdout",
     "output_type": "stream",
     "text": [
      "91267dbaa2b9b4a0e64b3e81_958e4adf46057c1b4cddf69c_a6c9d5bf05cc072a387ff6a4\n"
     ]
    },
    {
     "data": {
      "text/plain": [
       "'num_processed: 917/20845'"
      ]
     },
     "metadata": {},
     "output_type": "display_data"
    },
    {
     "name": "stdout",
     "output_type": "stream",
     "text": [
      "37ae2b4fbc8e7f3171e9d7df_0eb7df64c862c60bba1a2553_d04d88a580eb5301950bfcac\n"
     ]
    },
    {
     "data": {
      "text/plain": [
       "'num_processed: 918/20845'"
      ]
     },
     "metadata": {},
     "output_type": "display_data"
    },
    {
     "name": "stdout",
     "output_type": "stream",
     "text": [
      "c57386ace761954f3d679501_e2188a3f7feec15e23300a38_f4b34da930fc477c557edc40\n",
      "Error in process_face: PK_ENTITY_ask_classError in process_face: PK_ENTITY_ask_classEROR IN process_axial - PK_SURF_ask_uvboxEROR IN process_axial - PK_SURF_ask_uvboxEROR IN process_axial - PK_SURF_ask_uvboxEROR IN process_axial - PK_SURF_ask_uvboxEROR IN process_axial - PK_SURF_ask_uvboxEROR IN process_axial - PK_SURF_ask_uvboxEROR IN process_axial - PK_SURF_ask_uvboxEROR IN process_axial - PK_SURF_ask_uvboxERROR TRASFORMING!\n"
     ]
    },
    {
     "data": {
      "text/plain": [
       "'num_processed: 919/20845'"
      ]
     },
     "metadata": {},
     "output_type": "display_data"
    },
    {
     "name": "stdout",
     "output_type": "stream",
     "text": [
      "9f9deb40d68eeb3737576306_d50c95a2d3ae11ca2d9c158f_b9a652a0be7d792c645dad2d\n",
      "EROR IN process_axial - PK_SURF_ask_uvboxERROR TRASFORMING!\n"
     ]
    },
    {
     "data": {
      "text/plain": [
       "'num_processed: 920/20845'"
      ]
     },
     "metadata": {},
     "output_type": "display_data"
    },
    {
     "name": "stdout",
     "output_type": "stream",
     "text": [
      "06f61c7f5755058f85fab200_6d8a30b66e8f10e60582ac41_4133dd8be0ccc6244afc8fe5\n"
     ]
    },
    {
     "data": {
      "text/plain": [
       "'num_processed: 921/20845'"
      ]
     },
     "metadata": {},
     "output_type": "display_data"
    },
    {
     "name": "stdout",
     "output_type": "stream",
     "text": [
      "435f476ed6c43adfb57ff454_3c5d9d521cada84cb422b61c_cf8806c19ffb9740e0a8b68a\n"
     ]
    },
    {
     "data": {
      "text/plain": [
       "'num_processed: 922/20845'"
      ]
     },
     "metadata": {},
     "output_type": "display_data"
    },
    {
     "name": "stdout",
     "output_type": "stream",
     "text": [
      "51087237629ce11d829eb111_149b1ad8a5b845e69abe7136_c3482f3efc74f77c53f583a2\n"
     ]
    },
    {
     "data": {
      "text/plain": [
       "'num_processed: 923/20845'"
      ]
     },
     "metadata": {},
     "output_type": "display_data"
    },
    {
     "name": "stdout",
     "output_type": "stream",
     "text": [
      "37d1566da3bfa21164d2c7af_85b4e4cbdf04e36c3c5066a8_7d2ceb8307279fb8ca7196c6\n"
     ]
    },
    {
     "data": {
      "text/plain": [
       "'num_processed: 924/20845'"
      ]
     },
     "metadata": {},
     "output_type": "display_data"
    },
    {
     "name": "stdout",
     "output_type": "stream",
     "text": [
      "c232310ac1abcbfe75b416fc_72a158df15f97f76f9dd141a_823d1a5a823ccae2aff9179a\n"
     ]
    },
    {
     "data": {
      "text/plain": [
       "'num_processed: 925/20845'"
      ]
     },
     "metadata": {},
     "output_type": "display_data"
    },
    {
     "name": "stdout",
     "output_type": "stream",
     "text": [
      "d8a83859d09a60eb0b1bf48f_6a06d6cd17428661bf718bd5_db676d8c0675101efe78587f\n"
     ]
    },
    {
     "data": {
      "text/plain": [
       "'num_processed: 926/20845'"
      ]
     },
     "metadata": {},
     "output_type": "display_data"
    },
    {
     "name": "stdout",
     "output_type": "stream",
     "text": [
      "57840d5fe4b01a6b0f3e8038_6770ce6197a3fbfba5804fc7_3790c553858d5f3c6c31dbb6\n"
     ]
    },
    {
     "data": {
      "text/plain": [
       "'num_processed: 927/20845'"
      ]
     },
     "metadata": {},
     "output_type": "display_data"
    },
    {
     "name": "stdout",
     "output_type": "stream",
     "text": [
      "2a1b665343b195bb46db2408_c9fe1decc99f6ead5d329f72_8e3c5a15903d68f6743e74d7\n"
     ]
    },
    {
     "data": {
      "text/plain": [
       "'num_processed: 928/20845'"
      ]
     },
     "metadata": {},
     "output_type": "display_data"
    },
    {
     "name": "stdout",
     "output_type": "stream",
     "text": [
      "b3653c2afeb9487c9191bcbe_f4a48a40e9e914ad8ebffeda_14c5c76342644f02ed29d133\n"
     ]
    },
    {
     "data": {
      "text/plain": [
       "'num_processed: 929/20845'"
      ]
     },
     "metadata": {},
     "output_type": "display_data"
    },
    {
     "name": "stdout",
     "output_type": "stream",
     "text": [
      "cc82ad275e73f0f6d6388e1a_6c1d08a40fb2a802abf6ff45_168a68cbb27da60bec8dc2f3\n"
     ]
    },
    {
     "data": {
      "text/plain": [
       "'num_processed: 930/20845'"
      ]
     },
     "metadata": {},
     "output_type": "display_data"
    },
    {
     "name": "stdout",
     "output_type": "stream",
     "text": [
      "e471fd43cb8db46fb38628d7_58c7d3fbd3dabbd39fdd7aac_842c051c9b1639720e4d5d6b\n"
     ]
    },
    {
     "data": {
      "text/plain": [
       "'num_processed: 931/20845'"
      ]
     },
     "metadata": {},
     "output_type": "display_data"
    },
    {
     "name": "stdout",
     "output_type": "stream",
     "text": [
      "034a01fc3521215b181932e9_4805d09c8215122ead76a325_d87fbfdc126a53f9ee9353d4\n"
     ]
    },
    {
     "data": {
      "text/plain": [
       "'num_processed: 932/20845'"
      ]
     },
     "metadata": {},
     "output_type": "display_data"
    },
    {
     "name": "stdout",
     "output_type": "stream",
     "text": [
      "2f5ca53dfd9b2eb7396c097b_0bb2c84fe3ad8fa515516b2b_639223541888853772c53658\n"
     ]
    },
    {
     "data": {
      "text/plain": [
       "'num_processed: 933/20845'"
      ]
     },
     "metadata": {},
     "output_type": "display_data"
    },
    {
     "name": "stdout",
     "output_type": "stream",
     "text": [
      "4b28adeb8b0f7d18c38ec2b0_482ddf788b6667745411b555_65b00d64d537223ec44d8c04\n"
     ]
    },
    {
     "data": {
      "text/plain": [
       "'num_processed: 934/20845'"
      ]
     },
     "metadata": {},
     "output_type": "display_data"
    },
    {
     "name": "stdout",
     "output_type": "stream",
     "text": [
      "c87409d34f4f17e8cbcb7c07_383784eb1de46a8df69af2a2_85780cb2c0adb6f9416dcfb0\n"
     ]
    },
    {
     "data": {
      "text/plain": [
       "'num_processed: 935/20845'"
      ]
     },
     "metadata": {},
     "output_type": "display_data"
    },
    {
     "name": "stdout",
     "output_type": "stream",
     "text": [
      "b5cd0c49d717a5af7a44f727_54ac7e9519595cfc6d8547f2_20f88f2b0386dbdebc8ecdd6\n"
     ]
    },
    {
     "data": {
      "text/plain": [
       "'num_processed: 936/20845'"
      ]
     },
     "metadata": {},
     "output_type": "display_data"
    },
    {
     "name": "stdout",
     "output_type": "stream",
     "text": [
      "79cadaa99d83fe431d9f4367_cb53c38269c77ff0a69afc03_2a64b289084d1e343c3bb8d6\n"
     ]
    },
    {
     "data": {
      "text/plain": [
       "'num_processed: 937/20845'"
      ]
     },
     "metadata": {},
     "output_type": "display_data"
    },
    {
     "name": "stdout",
     "output_type": "stream",
     "text": [
      "7976ef5ff4d02c74db33e317_661036a0a351f2f778a9127a_89f862896a429e6952fda75a\n"
     ]
    },
    {
     "data": {
      "text/plain": [
       "'num_processed: 938/20845'"
      ]
     },
     "metadata": {},
     "output_type": "display_data"
    },
    {
     "name": "stdout",
     "output_type": "stream",
     "text": [
      "d272dc7ef5b466189af1a830_4c7093b7dd314b58f5753091_b5220dcf88fe7e385c1012b9\n",
      "EROR IN process_axial - PK_SURF_ask_uvboxERROR TRASFORMING!\n",
      "ERROR TRASFORMING!\n",
      "ERROR TRASFORMING!\n"
     ]
    },
    {
     "data": {
      "text/plain": [
       "'num_processed: 939/20845'"
      ]
     },
     "metadata": {},
     "output_type": "display_data"
    },
    {
     "name": "stdout",
     "output_type": "stream",
     "text": [
      "c0c3af50b9bdc3cc57716a2f_6eeb28e47adb895a885ef6fe_953814e8e2c2ed37f012be8f\n"
     ]
    },
    {
     "data": {
      "text/plain": [
       "'num_processed: 940/20845'"
      ]
     },
     "metadata": {},
     "output_type": "display_data"
    },
    {
     "name": "stdout",
     "output_type": "stream",
     "text": [
      "588e0d09a6227a0f81d0ce85_040d07cdfefe8f88bbb021d2_16612a2c6ed1b64c46826669\n"
     ]
    },
    {
     "data": {
      "text/plain": [
       "'num_processed: 941/20845'"
      ]
     },
     "metadata": {},
     "output_type": "display_data"
    },
    {
     "name": "stdout",
     "output_type": "stream",
     "text": [
      "8cf92700a4178d586fd7fa59_3ca702588da6df6d56a1a94d_32ceb0cf5f542a4ad33730cd\n"
     ]
    },
    {
     "data": {
      "text/plain": [
       "'num_processed: 942/20845'"
      ]
     },
     "metadata": {},
     "output_type": "display_data"
    },
    {
     "name": "stdout",
     "output_type": "stream",
     "text": [
      "22318d3288a6d5d307fcc427_c480a77c7c15c0541e46e8b6_32b5294bde31f3c051806d22\n",
      "ERROR TRASFORMING!\n"
     ]
    },
    {
     "data": {
      "text/plain": [
       "'num_processed: 943/20845'"
      ]
     },
     "metadata": {},
     "output_type": "display_data"
    },
    {
     "name": "stdout",
     "output_type": "stream",
     "text": [
      "f02608c763479530ad5e71bd_223b0c0acd006606ae279bea_995e92472d2b7674e588e2ef\n"
     ]
    },
    {
     "data": {
      "text/plain": [
       "'num_processed: 944/20845'"
      ]
     },
     "metadata": {},
     "output_type": "display_data"
    },
    {
     "name": "stdout",
     "output_type": "stream",
     "text": [
      "612dbeb8a27745c043df60ae_1073e141fc85484a6d8191b1_72b7bf7dae7e06a0d99ae253\n"
     ]
    },
    {
     "data": {
      "text/plain": [
       "'num_processed: 945/20845'"
      ]
     },
     "metadata": {},
     "output_type": "display_data"
    },
    {
     "name": "stdout",
     "output_type": "stream",
     "text": [
      "4aaf2396dcef34662668f4bf_5b6f1f427860b1eddcda7f59_8103951318d6d89d368977e6\n"
     ]
    },
    {
     "data": {
      "text/plain": [
       "'num_processed: 946/20845'"
      ]
     },
     "metadata": {},
     "output_type": "display_data"
    },
    {
     "name": "stdout",
     "output_type": "stream",
     "text": [
      "c0743bf454f68db1a51eb7e1_ad7c6af445be7f8020ce1313_12ba06e92ec48d83d2fe3e54\n"
     ]
    },
    {
     "data": {
      "text/plain": [
       "'num_processed: 947/20845'"
      ]
     },
     "metadata": {},
     "output_type": "display_data"
    },
    {
     "name": "stdout",
     "output_type": "stream",
     "text": [
      "b6dd8e1d31f1823268b90a29_5da0b14f3bfc44e9153c31a5_3f4a114f186e83ff3962d74a\n"
     ]
    },
    {
     "data": {
      "text/plain": [
       "'num_processed: 948/20845'"
      ]
     },
     "metadata": {},
     "output_type": "display_data"
    },
    {
     "name": "stdout",
     "output_type": "stream",
     "text": [
      "c93ff9e7319002ec39b90367_8870a14fa8e6c3594b4f3d6b_10ed69cc776c042f0cc2bf7e\n"
     ]
    },
    {
     "data": {
      "text/plain": [
       "'num_processed: 949/20845'"
      ]
     },
     "metadata": {},
     "output_type": "display_data"
    },
    {
     "name": "stdout",
     "output_type": "stream",
     "text": [
      "0c380eb99db21d3b43254c09_14b4aea761edef9e28ae534b_2ef420549f768555a996401d\n"
     ]
    },
    {
     "data": {
      "text/plain": [
       "'num_processed: 950/20845'"
      ]
     },
     "metadata": {},
     "output_type": "display_data"
    },
    {
     "name": "stdout",
     "output_type": "stream",
     "text": [
      "42ee4a46fd0c6ddd3b79e240_b887d1444bff5c4deb455012_e58624ece83125f1166e9313\n"
     ]
    },
    {
     "data": {
      "text/plain": [
       "'num_processed: 951/20845'"
      ]
     },
     "metadata": {},
     "output_type": "display_data"
    },
    {
     "name": "stdout",
     "output_type": "stream",
     "text": [
      "c8aeb902400d6be0b5a4c2c2_2ab0e01954a7aa8f517587bd_59d068b305996dcd28b20902\n"
     ]
    },
    {
     "data": {
      "text/plain": [
       "'num_processed: 952/20845'"
      ]
     },
     "metadata": {},
     "output_type": "display_data"
    },
    {
     "name": "stdout",
     "output_type": "stream",
     "text": [
      "f268fe11409a5e0f792b7bb2_1604788dece501a4b440b95e_7051c3197fe67bb2191af210\n"
     ]
    },
    {
     "data": {
      "text/plain": [
       "'num_processed: 953/20845'"
      ]
     },
     "metadata": {},
     "output_type": "display_data"
    },
    {
     "name": "stdout",
     "output_type": "stream",
     "text": [
      "57dc7a1f760fd110cb6cb6ff_a20d00b81baa775c34e99692_4f21cbd86cb16ad0f333201d\n"
     ]
    },
    {
     "data": {
      "text/plain": [
       "'num_processed: 954/20845'"
      ]
     },
     "metadata": {},
     "output_type": "display_data"
    },
    {
     "name": "stdout",
     "output_type": "stream",
     "text": [
      "c1d131d4a687c54d48740fad_2956152da583510aa299836f_3efa5fee0c3da6754d675271\n"
     ]
    },
    {
     "data": {
      "text/plain": [
       "'num_processed: 955/20845'"
      ]
     },
     "metadata": {},
     "output_type": "display_data"
    },
    {
     "name": "stdout",
     "output_type": "stream",
     "text": [
      "c32c4f820cddbbeb0b0f44df_1a999598d7298302037ef0e0_8563abc52cc1d183e87581e6\n"
     ]
    },
    {
     "data": {
      "text/plain": [
       "'num_processed: 956/20845'"
      ]
     },
     "metadata": {},
     "output_type": "display_data"
    },
    {
     "name": "stdout",
     "output_type": "stream",
     "text": [
      "68ee1857e604ed9d3b612065_f43bd75fd1f44eabf33c8964_cd7989d4a75076216acb61e8\n"
     ]
    },
    {
     "data": {
      "text/plain": [
       "'num_processed: 957/20845'"
      ]
     },
     "metadata": {},
     "output_type": "display_data"
    },
    {
     "name": "stdout",
     "output_type": "stream",
     "text": [
      "eaec86356430bfbedc6bf323_32fdcffcd825ed255918e14a_e3aac15dd9460f6e073f3159\n"
     ]
    },
    {
     "data": {
      "text/plain": [
       "'num_processed: 958/20845'"
      ]
     },
     "metadata": {},
     "output_type": "display_data"
    },
    {
     "name": "stdout",
     "output_type": "stream",
     "text": [
      "be3efb605b7cccbe9e0e741d_a4b10123789c46c2bd08011f_36672b8303f33c6bb84cb0bf\n"
     ]
    },
    {
     "data": {
      "text/plain": [
       "'num_processed: 959/20845'"
      ]
     },
     "metadata": {},
     "output_type": "display_data"
    },
    {
     "name": "stdout",
     "output_type": "stream",
     "text": [
      "e433033b55c8e40a4079ff81_951655c8210bd2ab6ea6ae71_2e500e3b880954751fd6b2a7\n",
      "ERROR TRASFORMING!\n",
      "ERROR TRASFORMING!\n"
     ]
    },
    {
     "data": {
      "text/plain": [
       "'num_processed: 960/20845'"
      ]
     },
     "metadata": {},
     "output_type": "display_data"
    },
    {
     "name": "stdout",
     "output_type": "stream",
     "text": [
      "9f3c21d1107069d3183bbee6_587136598d32afdacbbb8f84_5c81931c5bc06080772924d5\n"
     ]
    },
    {
     "data": {
      "text/plain": [
       "'num_processed: 961/20845'"
      ]
     },
     "metadata": {},
     "output_type": "display_data"
    },
    {
     "name": "stdout",
     "output_type": "stream",
     "text": [
      "dbd14c7e5986dc64869d0173_c156001256fe979f7ca9fa24_63b34dc92eecdc3ae19855f3\n"
     ]
    },
    {
     "data": {
      "text/plain": [
       "'num_processed: 962/20845'"
      ]
     },
     "metadata": {},
     "output_type": "display_data"
    },
    {
     "name": "stdout",
     "output_type": "stream",
     "text": [
      "2222d565d1ab27b269076749_85cc73c3c1a5762a00c64b9f_dfc64bd13cc337a855b6c57e\n"
     ]
    },
    {
     "data": {
      "text/plain": [
       "'num_processed: 963/20845'"
      ]
     },
     "metadata": {},
     "output_type": "display_data"
    },
    {
     "name": "stdout",
     "output_type": "stream",
     "text": [
      "0c59cdb5379474a651d8a937_85bef3b27bf825c0ad55241e_5e8aacc3a5cfb236c692cf1c\n"
     ]
    },
    {
     "data": {
      "text/plain": [
       "'num_processed: 964/20845'"
      ]
     },
     "metadata": {},
     "output_type": "display_data"
    },
    {
     "name": "stdout",
     "output_type": "stream",
     "text": [
      "1d47584b81e9058d065dfec7_1d8103f80b3587e8902c1358_a805921cbadbd62b1db4f54d\n"
     ]
    },
    {
     "data": {
      "text/plain": [
       "'num_processed: 965/20845'"
      ]
     },
     "metadata": {},
     "output_type": "display_data"
    },
    {
     "name": "stdout",
     "output_type": "stream",
     "text": [
      "23b8efed544615d94ed63528_1b9ca774194efbe4724ce6ff_af9dcfd0a1844c4b1640fb84\n"
     ]
    },
    {
     "data": {
      "text/plain": [
       "'num_processed: 966/20845'"
      ]
     },
     "metadata": {},
     "output_type": "display_data"
    },
    {
     "name": "stdout",
     "output_type": "stream",
     "text": [
      "dd26e891f2485503e63a152e_34c033940b9630ec6a4a6266_025510f4d8e168b01ffdac55\n"
     ]
    },
    {
     "data": {
      "text/plain": [
       "'num_processed: 967/20845'"
      ]
     },
     "metadata": {},
     "output_type": "display_data"
    },
    {
     "name": "stdout",
     "output_type": "stream",
     "text": [
      "b6ce0fc4945112c0f4605d62_0aca0d962313826ffe732ff2_c6b26f87cfdf8d96496866b7\n"
     ]
    },
    {
     "data": {
      "text/plain": [
       "'num_processed: 968/20845'"
      ]
     },
     "metadata": {},
     "output_type": "display_data"
    },
    {
     "name": "stdout",
     "output_type": "stream",
     "text": [
      "1e8753b9591b4628e84237bc_3c47d0297a708290ad51144d_6c7ee080e10a4dcbec6376a7\n"
     ]
    },
    {
     "data": {
      "text/plain": [
       "'num_processed: 969/20845'"
      ]
     },
     "metadata": {},
     "output_type": "display_data"
    },
    {
     "name": "stdout",
     "output_type": "stream",
     "text": [
      "9972bce1de648da0c2049fdf_d350c4030294379545c4521b_f8ee19b386fd8e319d1ad758\n"
     ]
    },
    {
     "data": {
      "text/plain": [
       "'num_processed: 970/20845'"
      ]
     },
     "metadata": {},
     "output_type": "display_data"
    },
    {
     "name": "stdout",
     "output_type": "stream",
     "text": [
      "5cfb587ec296f42b9a75ca30_83d3722ca967cf01052a35b8_288fbf565a49bd253fadb1ae\n",
      "ERROR TRASFORMING!\n"
     ]
    },
    {
     "data": {
      "text/plain": [
       "'num_processed: 971/20845'"
      ]
     },
     "metadata": {},
     "output_type": "display_data"
    },
    {
     "name": "stdout",
     "output_type": "stream",
     "text": [
      "6699b776bc8ffbb3b7affdae_d649a95e0526d01854367932_c0470d974023661d2299655e\n"
     ]
    },
    {
     "data": {
      "text/plain": [
       "'num_processed: 972/20845'"
      ]
     },
     "metadata": {},
     "output_type": "display_data"
    },
    {
     "name": "stdout",
     "output_type": "stream",
     "text": [
      "e4a9735fef0ce21d768fc416_839b6a9f793a172bc5e62a26_dfcab249a921122d0aeb8bf5\n"
     ]
    },
    {
     "data": {
      "text/plain": [
       "'num_processed: 973/20845'"
      ]
     },
     "metadata": {},
     "output_type": "display_data"
    },
    {
     "name": "stdout",
     "output_type": "stream",
     "text": [
      "6fd784407dfa835f46faba6f_e29780edb44e759faa60f081_2c6ebfc0b87b69af353869fe\n"
     ]
    },
    {
     "data": {
      "text/plain": [
       "'num_processed: 974/20845'"
      ]
     },
     "metadata": {},
     "output_type": "display_data"
    },
    {
     "name": "stdout",
     "output_type": "stream",
     "text": [
      "0e3874dbde2215b5ffee16f2_f3f97eac5bfc32822ca25ba8_f4abd4463eaa1a8b28bd2e16\n"
     ]
    },
    {
     "data": {
      "text/plain": [
       "'num_processed: 975/20845'"
      ]
     },
     "metadata": {},
     "output_type": "display_data"
    },
    {
     "name": "stdout",
     "output_type": "stream",
     "text": [
      "c2f0c3e8ce696691b85e3ee7_f7b37c9c25d8e1f1f8c6ff5a_f009f867cc84873aa995a4a2\n"
     ]
    },
    {
     "data": {
      "text/plain": [
       "'num_processed: 976/20845'"
      ]
     },
     "metadata": {},
     "output_type": "display_data"
    },
    {
     "name": "stdout",
     "output_type": "stream",
     "text": [
      "4000d91c224fff2cb61b8f92_bfca13a017100e1839684155_c0779930d7e2ea58ec53fab7\n",
      "ERROR TRASFORMING!\n"
     ]
    },
    {
     "data": {
      "text/plain": [
       "'num_processed: 977/20845'"
      ]
     },
     "metadata": {},
     "output_type": "display_data"
    },
    {
     "name": "stdout",
     "output_type": "stream",
     "text": [
      "58303dff5e84cc10e0aff182_d9edb00038c671e97dc87338_301664d50429af843fc3ce71\n"
     ]
    },
    {
     "data": {
      "text/plain": [
       "'num_processed: 978/20845'"
      ]
     },
     "metadata": {},
     "output_type": "display_data"
    },
    {
     "name": "stdout",
     "output_type": "stream",
     "text": [
      "8cffa58223e637e11c8a91b3_da87de8a9cd87fd99036fa67_3583da8405019fc335a49cfd\n"
     ]
    },
    {
     "data": {
      "text/plain": [
       "'num_processed: 979/20845'"
      ]
     },
     "metadata": {},
     "output_type": "display_data"
    },
    {
     "name": "stdout",
     "output_type": "stream",
     "text": [
      "581905ba62a223109ac6900e_a48dc40419f3ea0a36335827_846cfe8b98b9e3d5dc0f6db0\n"
     ]
    },
    {
     "data": {
      "text/plain": [
       "'num_processed: 980/20845'"
      ]
     },
     "metadata": {},
     "output_type": "display_data"
    },
    {
     "name": "stdout",
     "output_type": "stream",
     "text": [
      "52014a9507854d9b38c27517_e69903d3d9c117a1f6f298fa_3668e6912b228e79b2391ec8\n",
      "ERROR TRASFORMING!\n"
     ]
    },
    {
     "data": {
      "text/plain": [
       "'num_processed: 981/20845'"
      ]
     },
     "metadata": {},
     "output_type": "display_data"
    },
    {
     "name": "stdout",
     "output_type": "stream",
     "text": [
      "f8faf8e5139ecdbf6d395965_17546c569cebcd72c7ecab2b_2162673a2ef66e6e64c41125\n"
     ]
    },
    {
     "data": {
      "text/plain": [
       "'num_processed: 982/20845'"
      ]
     },
     "metadata": {},
     "output_type": "display_data"
    },
    {
     "name": "stdout",
     "output_type": "stream",
     "text": [
      "817ebbc51d2ff198a8f18118_4fc15611d9e14f89028ed7bf_2e8df234ddec92b21027d637\n"
     ]
    },
    {
     "data": {
      "text/plain": [
       "'num_processed: 983/20845'"
      ]
     },
     "metadata": {},
     "output_type": "display_data"
    },
    {
     "name": "stdout",
     "output_type": "stream",
     "text": [
      "580adad6f6ee2d1157471b4f_709a849ccae65d85977d733a_b347db67adebcb7f142770b4\n"
     ]
    },
    {
     "data": {
      "text/plain": [
       "'num_processed: 984/20845'"
      ]
     },
     "metadata": {},
     "output_type": "display_data"
    },
    {
     "name": "stdout",
     "output_type": "stream",
     "text": [
      "63eb834ea6ec006dcef3c668_43c6fee8eeda35ae965c3b24_18faff2009243802ea6f573f\n"
     ]
    },
    {
     "data": {
      "text/plain": [
       "'num_processed: 985/20845'"
      ]
     },
     "metadata": {},
     "output_type": "display_data"
    },
    {
     "name": "stdout",
     "output_type": "stream",
     "text": [
      "01b825385db44bffe8441a78_f958036a7d8260b53446cd34_9df18a49e7747a35df606ce9\n"
     ]
    },
    {
     "data": {
      "text/plain": [
       "'num_processed: 986/20845'"
      ]
     },
     "metadata": {},
     "output_type": "display_data"
    },
    {
     "name": "stdout",
     "output_type": "stream",
     "text": [
      "2af7eb8261664ab0ebeb8e94_2aa02b9f50289cf3ac9dcb88_a71d9979825565e84eb301ca\n"
     ]
    },
    {
     "data": {
      "text/plain": [
       "'num_processed: 987/20845'"
      ]
     },
     "metadata": {},
     "output_type": "display_data"
    },
    {
     "name": "stdout",
     "output_type": "stream",
     "text": [
      "cbb4286d962987efa2515f3f_9fb2523335f030e23b591b31_7b1291088cdf1432d04cc157\n"
     ]
    },
    {
     "data": {
      "text/plain": [
       "'num_processed: 988/20845'"
      ]
     },
     "metadata": {},
     "output_type": "display_data"
    },
    {
     "name": "stdout",
     "output_type": "stream",
     "text": [
      "912553c921dafece362b57bb_e5a5f7ccc80185e3ee23eea9_015578dd80431b6eb2ad9fba\n"
     ]
    },
    {
     "data": {
      "text/plain": [
       "'num_processed: 989/20845'"
      ]
     },
     "metadata": {},
     "output_type": "display_data"
    },
    {
     "name": "stdout",
     "output_type": "stream",
     "text": [
      "5c0d8079953ea4e425e08f6a_89ee02a0e9f3e3fe8c9e17ba_8fe5fd307ebc3a8dfd4a60a0\n"
     ]
    },
    {
     "data": {
      "text/plain": [
       "'num_processed: 990/20845'"
      ]
     },
     "metadata": {},
     "output_type": "display_data"
    },
    {
     "name": "stdout",
     "output_type": "stream",
     "text": [
      "ee472112617e6c11e5d782e9_c16aeb49aa150e89adb8f588_a6bfc9a1f7c65208f3f0ea25\n",
      "EROR IN process_axial - PK_SURF_ask_uvboxERROR TRASFORMING!\n"
     ]
    },
    {
     "data": {
      "text/plain": [
       "'num_processed: 991/20845'"
      ]
     },
     "metadata": {},
     "output_type": "display_data"
    },
    {
     "name": "stdout",
     "output_type": "stream",
     "text": [
      "8eef0f796bc7728b4715486c_d23730c427e87a1149ea4f0e_a29dc4e965521ec512975c16\n"
     ]
    },
    {
     "data": {
      "text/plain": [
       "'num_processed: 992/20845'"
      ]
     },
     "metadata": {},
     "output_type": "display_data"
    },
    {
     "name": "stdout",
     "output_type": "stream",
     "text": [
      "f5a20e815d86bf928218951f_d86e17d1e4144fd72f36f2a8_6da3a5023b202a2586f81fcb\n"
     ]
    },
    {
     "data": {
      "text/plain": [
       "'num_processed: 993/20845'"
      ]
     },
     "metadata": {},
     "output_type": "display_data"
    },
    {
     "name": "stdout",
     "output_type": "stream",
     "text": [
      "24f1777d4fd4ffbf6473fb94_939f15e6ed293264efce8a9c_b1c34edb64dcdf34bc5ceeb5\n"
     ]
    },
    {
     "data": {
      "text/plain": [
       "'num_processed: 994/20845'"
      ]
     },
     "metadata": {},
     "output_type": "display_data"
    },
    {
     "name": "stdout",
     "output_type": "stream",
     "text": [
      "45881fc8f7f31e87049b7183_b972e3da125e96a9507c0cb4_d11c260ab57df15fc0d70618\n"
     ]
    },
    {
     "data": {
      "text/plain": [
       "'num_processed: 995/20845'"
      ]
     },
     "metadata": {},
     "output_type": "display_data"
    },
    {
     "name": "stdout",
     "output_type": "stream",
     "text": [
      "268e47a68d33a8b015dfd4c9_d8a63ad11f5e4c9c3dc77459_7d253e951276d93442b6d15d\n"
     ]
    },
    {
     "data": {
      "text/plain": [
       "'num_processed: 996/20845'"
      ]
     },
     "metadata": {},
     "output_type": "display_data"
    },
    {
     "name": "stdout",
     "output_type": "stream",
     "text": [
      "66827307c8430d76877d3a0b_f320fe25125b91c12ebbc44f_7953995a6f27a295cf46bb49\n"
     ]
    },
    {
     "data": {
      "text/plain": [
       "'num_processed: 997/20845'"
      ]
     },
     "metadata": {},
     "output_type": "display_data"
    },
    {
     "name": "stdout",
     "output_type": "stream",
     "text": [
      "3e64be9d75282eecaebc4268_d70cfe992392e932bc745dfb_334fd733d22cf4e8e77a3db5\n"
     ]
    },
    {
     "data": {
      "text/plain": [
       "'num_processed: 998/20845'"
      ]
     },
     "metadata": {},
     "output_type": "display_data"
    },
    {
     "name": "stdout",
     "output_type": "stream",
     "text": [
      "15169f81191aab80129f0659_aad9110271a28fb0006af8b0_22ced5be19e5a167b481c7ac\n",
      "EROR IN process_axial - PK_SURF_ask_uvboxERROR TRASFORMING!\n",
      "EROR IN process_axial - PK_SURF_ask_uvboxEROR IN process_axial - PK_SURF_ask_uvboxEROR IN process_axial - PK_SURF_ask_uvboxEROR IN process_axial - PK_SURF_ask_uvboxEROR IN process_axial - PK_SURF_ask_uvboxEROR IN process_axial - PK_SURF_ask_uvboxEROR IN process_axial - PK_SURF_ask_uvboxEROR IN process_axial - PK_SURF_ask_uvboxEROR IN process_axial - PK_SURF_ask_uvboxEROR IN process_axial - PK_SURF_ask_uvboxEROR IN process_axial - PK_SURF_ask_uvboxEROR IN process_axial - PK_SURF_ask_uvboxEROR IN process_axial - PK_SURF_ask_uvboxEROR IN process_axial - PK_SURF_ask_uvboxEROR IN process_axial - PK_SURF_ask_uvboxEROR IN process_axial - PK_SURF_ask_uvboxEROR IN process_axial - PK_SURF_ask_uvboxEROR IN process_axial - PK_SURF_ask_uvboxEROR IN process_axial - PK_SURF_ask_uvboxEROR IN process_axial - PK_SURF_ask_uvboxEROR IN process_axial - PK_SURF_ask_uvboxEROR IN process_axial - PK_SURF_ask_uvboxEROR IN process_axial - PK_SURF_ask_uvboxEROR IN process_axial - PK_SURF_ask_uvboxEROR IN process_axial - PK_SURF_ask_uvboxEROR IN process_axial - PK_SURF_ask_uvboxEROR IN process_axial - PK_SURF_ask_uvboxEROR IN process_axial - PK_SURF_ask_uvboxERROR TRASFORMING!\n",
      "EROR IN process_axial - PK_SURF_ask_uvboxEROR IN process_axial - PK_SURF_ask_uvboxEROR IN process_axial - PK_SURF_ask_uvboxEROR IN process_axial - PK_SURF_ask_uvboxEROR IN process_axial - PK_SURF_ask_uvboxEROR IN process_axial - PK_SURF_ask_uvboxEROR IN process_axial - PK_SURF_ask_uvboxEROR IN process_axial - PK_SURF_ask_uvboxEROR IN process_axial - PK_SURF_ask_uvboxEROR IN process_axial - PK_SURF_ask_uvboxEROR IN process_axial - PK_SURF_ask_uvboxEROR IN process_axial - PK_SURF_ask_uvboxEROR IN process_axial - PK_SURF_ask_uvboxEROR IN process_axial - PK_SURF_ask_uvboxEROR IN process_axial - PK_SURF_ask_uvboxEROR IN process_axial - PK_SURF_ask_uvboxEROR IN process_axial - PK_SURF_ask_uvboxEROR IN process_axial - PK_SURF_ask_uvboxEROR IN process_axial - PK_SURF_ask_uvboxERROR TRASFORMING!\n",
      "EROR IN process_axial - PK_SURF_ask_uvboxEROR IN process_axial - PK_SURF_ask_uvboxEROR IN process_axial - PK_SURF_ask_uvboxEROR IN process_axial - PK_SURF_ask_uvboxEROR IN process_axial - PK_SURF_ask_uvboxEROR IN process_axial - PK_SURF_ask_uvboxEROR IN process_axial - PK_SURF_ask_uvboxEROR IN process_axial - PK_SURF_ask_uvboxEROR IN process_axial - PK_SURF_ask_uvboxEROR IN process_axial - PK_SURF_ask_uvboxEROR IN process_axial - PK_SURF_ask_uvboxEROR IN process_axial - PK_SURF_ask_uvboxEROR IN process_axial - PK_SURF_ask_uvboxEROR IN process_axial - PK_SURF_ask_uvboxEROR IN process_axial - PK_SURF_ask_uvboxEROR IN process_axial - PK_SURF_ask_uvboxEROR IN process_axial - PK_SURF_ask_uvboxEROR IN process_axial - PK_SURF_ask_uvboxEROR IN process_axial - PK_SURF_ask_uvboxERROR TRASFORMING!\n",
      "EROR IN process_axial - PK_SURF_ask_uvboxEROR IN process_axial - PK_SURF_ask_uvboxEROR IN process_axial - PK_SURF_ask_uvboxEROR IN process_axial - PK_SURF_ask_uvboxEROR IN process_axial - PK_SURF_ask_uvboxEROR IN process_axial - PK_SURF_ask_uvboxEROR IN process_axial - PK_SURF_ask_uvboxEROR IN process_axial - PK_SURF_ask_uvboxEROR IN process_axial - PK_SURF_ask_uvboxEROR IN process_axial - PK_SURF_ask_uvboxERROR TRASFORMING!\n",
      "ERROR TRASFORMING!\n",
      "Error in process_face: PK_ENTITY_ask_classError in process_face: PK_ENTITY_ask_classError in process_face: PK_ENTITY_ask_classEROR IN process_axial - PK_SURF_ask_uvboxEROR IN process_axial - PK_SURF_ask_uvboxEROR IN process_axial - PK_SURF_ask_uvboxERROR TRASFORMING!\n"
     ]
    },
    {
     "data": {
      "text/plain": [
       "'num_processed: 999/20845'"
      ]
     },
     "metadata": {},
     "output_type": "display_data"
    },
    {
     "name": "stdout",
     "output_type": "stream",
     "text": [
      "72b4ee5e7a76eaf261d04a9d_16a3cb987cd587cf3af2551d_f46267d45547b78b60db2876\n"
     ]
    },
    {
     "data": {
      "text/plain": [
       "'num_processed: 1000/20845'"
      ]
     },
     "metadata": {},
     "output_type": "display_data"
    },
    {
     "name": "stdout",
     "output_type": "stream",
     "text": [
      "fa5e7ce4e834301b64cffb2a_0fb4f47ccae52a9f0ad2336b_ea0d52b56064b0f7a54d278b\n",
      "Error in process_face: PK_ENTITY_ask_classError in process_face: PK_ENTITY_ask_classError in process_face: PK_ENTITY_ask_classEROR IN process_axial - PK_SURF_ask_uvboxEROR IN process_axial - PK_SURF_ask_uvboxEROR IN process_axial - PK_SURF_ask_uvboxERROR TRASFORMING!\n"
     ]
    },
    {
     "data": {
      "text/plain": [
       "'num_processed: 1001/20845'"
      ]
     },
     "metadata": {},
     "output_type": "display_data"
    },
    {
     "name": "stdout",
     "output_type": "stream",
     "text": [
      "fb84e017e08e8f1d76986354_dac27bbb58ed81692a5f0c7e_e794ea5bcf290431bf438d38\n"
     ]
    },
    {
     "data": {
      "text/plain": [
       "'num_processed: 1002/20845'"
      ]
     },
     "metadata": {},
     "output_type": "display_data"
    },
    {
     "name": "stdout",
     "output_type": "stream",
     "text": [
      "e1bda742335b6b27eb47aafa_1e7f65a19f81cd2bdbdde7b8_0f35c2a5c6cd3b70d92bf998\n"
     ]
    },
    {
     "data": {
      "text/plain": [
       "'num_processed: 1003/20845'"
      ]
     },
     "metadata": {},
     "output_type": "display_data"
    },
    {
     "name": "stdout",
     "output_type": "stream",
     "text": [
      "574d365de4b096f181d046bf_ac3155e24355ee209c074ea8_5bc1e97fa8f9dbba611e78aa\n"
     ]
    },
    {
     "data": {
      "text/plain": [
       "'num_processed: 1004/20845'"
      ]
     },
     "metadata": {},
     "output_type": "display_data"
    },
    {
     "name": "stdout",
     "output_type": "stream",
     "text": [
      "a3ad603535f714f853b5392e_9b3c9c90ebbdf94f06f266db_ec7bcf113ffefb39ec3a44b2\n"
     ]
    },
    {
     "data": {
      "text/plain": [
       "'num_processed: 1005/20845'"
      ]
     },
     "metadata": {},
     "output_type": "display_data"
    },
    {
     "name": "stdout",
     "output_type": "stream",
     "text": [
      "40ef5f641bfd9483d4d20fc7_8988f5bd9fdc573b396f4c99_5fa1f76c59c1eb7fe9e51007\n"
     ]
    },
    {
     "data": {
      "text/plain": [
       "'num_processed: 1006/20845'"
      ]
     },
     "metadata": {},
     "output_type": "display_data"
    },
    {
     "name": "stdout",
     "output_type": "stream",
     "text": [
      "9f5479adca0f67e58ed36a6e_f4d9c9a34fed068a7f927beb_cda27c541f1ad71654afe298\n"
     ]
    },
    {
     "data": {
      "text/plain": [
       "'num_processed: 1007/20845'"
      ]
     },
     "metadata": {},
     "output_type": "display_data"
    },
    {
     "name": "stdout",
     "output_type": "stream",
     "text": [
      "3da0dd1f24de981e8dda4971_584200916bb9d192ecfbc467_5a73fa29e5051985678f4baf\n"
     ]
    },
    {
     "data": {
      "text/plain": [
       "'num_processed: 1008/20845'"
      ]
     },
     "metadata": {},
     "output_type": "display_data"
    },
    {
     "name": "stdout",
     "output_type": "stream",
     "text": [
      "c593a4abc017c6b4c70ab723_f621c8d5cba2ff13ef892426_671bfe2672c8fedac3d09d31\n"
     ]
    },
    {
     "data": {
      "text/plain": [
       "'num_processed: 1009/20845'"
      ]
     },
     "metadata": {},
     "output_type": "display_data"
    },
    {
     "name": "stdout",
     "output_type": "stream",
     "text": [
      "0a65383e60abb003139c949c_ca052b5ec0f3fa69bee9756d_ed96ac6e78c9e5ad3c1968c3\n"
     ]
    },
    {
     "data": {
      "text/plain": [
       "'num_processed: 1010/20845'"
      ]
     },
     "metadata": {},
     "output_type": "display_data"
    },
    {
     "name": "stdout",
     "output_type": "stream",
     "text": [
      "14da55a3e11bc5eec964b8ac_6fdabd67958c8c9ddbed427c_c73ff918d8ff0ea6be7d53e4\n"
     ]
    },
    {
     "data": {
      "text/plain": [
       "'num_processed: 1011/20845'"
      ]
     },
     "metadata": {},
     "output_type": "display_data"
    },
    {
     "name": "stdout",
     "output_type": "stream",
     "text": [
      "392f57b5658c03e0467c6e9f_dfc1b55c6ccd600052ef23bb_14c4ac3d9088456fdbcac60b\n"
     ]
    },
    {
     "data": {
      "text/plain": [
       "'num_processed: 1012/20845'"
      ]
     },
     "metadata": {},
     "output_type": "display_data"
    },
    {
     "name": "stdout",
     "output_type": "stream",
     "text": [
      "549df6dec0fb207fc2cffde9_d8b8fcee4c7a994943c62326_36f0031a0da007abbc639f6b\n"
     ]
    },
    {
     "data": {
      "text/plain": [
       "'num_processed: 1013/20845'"
      ]
     },
     "metadata": {},
     "output_type": "display_data"
    },
    {
     "name": "stdout",
     "output_type": "stream",
     "text": [
      "d383e2538ba96f0b4d60f2ed_d3f2bc56181fcfe97a135651_e621e87fcc56a3db35c1f669\n"
     ]
    },
    {
     "data": {
      "text/plain": [
       "'num_processed: 1014/20845'"
      ]
     },
     "metadata": {},
     "output_type": "display_data"
    },
    {
     "name": "stdout",
     "output_type": "stream",
     "text": [
      "f149874769740769da301a95_f10baa16ca86ed88d38bc4bf_9f7ab23dcca993ca392f68a9\n"
     ]
    },
    {
     "data": {
      "text/plain": [
       "'num_processed: 1015/20845'"
      ]
     },
     "metadata": {},
     "output_type": "display_data"
    },
    {
     "name": "stdout",
     "output_type": "stream",
     "text": [
      "18fee6e92f32247227bb4256_ab73548fab3c775c16fc961b_7f4a34a6618163c7a18aaf41\n"
     ]
    },
    {
     "data": {
      "text/plain": [
       "'num_processed: 1016/20845'"
      ]
     },
     "metadata": {},
     "output_type": "display_data"
    },
    {
     "name": "stdout",
     "output_type": "stream",
     "text": [
      "104980cccd28d883c2514aa6_1821698bdc628d40ebd29534_5661c3beadee2b5b0dfb0d6c\n"
     ]
    },
    {
     "data": {
      "text/plain": [
       "'num_processed: 1017/20845'"
      ]
     },
     "metadata": {},
     "output_type": "display_data"
    },
    {
     "name": "stdout",
     "output_type": "stream",
     "text": [
      "fde17a860e03eb2fbf330016_85a039313204a3f8fca00ca5_8a9c6976e793aaa69729fde1\n"
     ]
    },
    {
     "data": {
      "text/plain": [
       "'num_processed: 1018/20845'"
      ]
     },
     "metadata": {},
     "output_type": "display_data"
    },
    {
     "name": "stdout",
     "output_type": "stream",
     "text": [
      "6da3a4dc54075e539d89b948_da9c050213810d921e73dc8f_9646702269819926217e2764\n"
     ]
    },
    {
     "data": {
      "text/plain": [
       "'num_processed: 1019/20845'"
      ]
     },
     "metadata": {},
     "output_type": "display_data"
    },
    {
     "name": "stdout",
     "output_type": "stream",
     "text": [
      "f520de94a626612de857117e_ecd43388c3c62b8c3a35a7ac_e30881c22d390d01176f392a\n"
     ]
    },
    {
     "data": {
      "text/plain": [
       "'num_processed: 1020/20845'"
      ]
     },
     "metadata": {},
     "output_type": "display_data"
    },
    {
     "name": "stdout",
     "output_type": "stream",
     "text": [
      "fb9e066e81c76342b884e619_90e49fbdd0c14fd9aca50b5a_c71d15ec789b28f11241268a\n"
     ]
    },
    {
     "data": {
      "text/plain": [
       "'num_processed: 1021/20845'"
      ]
     },
     "metadata": {},
     "output_type": "display_data"
    },
    {
     "name": "stdout",
     "output_type": "stream",
     "text": [
      "101670cff2983f4374271b30_47aef471aca0ea967a68dddb_641b776c6018729b05f63372\n"
     ]
    },
    {
     "data": {
      "text/plain": [
       "'num_processed: 1022/20845'"
      ]
     },
     "metadata": {},
     "output_type": "display_data"
    },
    {
     "name": "stdout",
     "output_type": "stream",
     "text": [
      "0b80435a15e9baa0d5730720_f93b52b0971513ef8aae6771_8315a324385e3fc1c46c759c\n"
     ]
    },
    {
     "data": {
      "text/plain": [
       "'num_processed: 1023/20845'"
      ]
     },
     "metadata": {},
     "output_type": "display_data"
    },
    {
     "name": "stdout",
     "output_type": "stream",
     "text": [
      "fdd7d0cac2674111e4e755ef_02f601fe3187833f5ad118fe_5d9068d735f95f686819c3d2\n"
     ]
    },
    {
     "data": {
      "text/plain": [
       "'num_processed: 1024/20845'"
      ]
     },
     "metadata": {},
     "output_type": "display_data"
    },
    {
     "name": "stdout",
     "output_type": "stream",
     "text": [
      "0cbce92a948acc5a30a082df_03ea9a29c594447e2aedc1a4_4d00fea6bfba20d4bdccd3df\n"
     ]
    },
    {
     "data": {
      "text/plain": [
       "'num_processed: 1025/20845'"
      ]
     },
     "metadata": {},
     "output_type": "display_data"
    },
    {
     "name": "stdout",
     "output_type": "stream",
     "text": [
      "2c5eb1e828dd87e05baff621_7bb13f2fa86b9c46c981bbca_65cee93d677a7461c23ca2fd\n"
     ]
    },
    {
     "data": {
      "text/plain": [
       "'num_processed: 1026/20845'"
      ]
     },
     "metadata": {},
     "output_type": "display_data"
    },
    {
     "name": "stdout",
     "output_type": "stream",
     "text": [
      "d19eebd2d21c10a0ced4fcc0_930dfe9a0b86429646732429_46f1af8dc3f235ba6faa0e3f\n"
     ]
    },
    {
     "data": {
      "text/plain": [
       "'num_processed: 1027/20845'"
      ]
     },
     "metadata": {},
     "output_type": "display_data"
    },
    {
     "name": "stdout",
     "output_type": "stream",
     "text": [
      "0213b6a9b271bc4885e3b0bf_d38c36a4040d84890587a6a0_034e7ffeaf601e0c0e419bdc\n"
     ]
    },
    {
     "data": {
      "text/plain": [
       "'num_processed: 1028/20845'"
      ]
     },
     "metadata": {},
     "output_type": "display_data"
    },
    {
     "name": "stdout",
     "output_type": "stream",
     "text": [
      "39d9dfb2d65ea8226e2f1f43_1ba456c95a86a75a84f3e1e1_4b8093ec6d26fdb750491d71\n"
     ]
    },
    {
     "data": {
      "text/plain": [
       "'num_processed: 1029/20845'"
      ]
     },
     "metadata": {},
     "output_type": "display_data"
    },
    {
     "name": "stdout",
     "output_type": "stream",
     "text": [
      "cb3ce8d8eddc2405c476ffb4_1ae5c44aea07f226c1202315_e0225eb6a5090a0255bef3fe\n"
     ]
    },
    {
     "data": {
      "text/plain": [
       "'num_processed: 1030/20845'"
      ]
     },
     "metadata": {},
     "output_type": "display_data"
    },
    {
     "name": "stdout",
     "output_type": "stream",
     "text": [
      "58f0f75a7c5f680f6da8e643_b1a9e41f74523c51bfb323fd_2bcb6cbc021758f3cfe393a5\n"
     ]
    },
    {
     "data": {
      "text/plain": [
       "'num_processed: 1031/20845'"
      ]
     },
     "metadata": {},
     "output_type": "display_data"
    },
    {
     "name": "stdout",
     "output_type": "stream",
     "text": [
      "84285ccc199ed0c3a72bde76_1be3b1cc0170d3e4664d3e96_d15d64265c55e35ff7e293ea\n",
      "EROR IN process_axial - PK_SURF_ask_uvboxEROR IN process_axial - PK_SURF_ask_uvboxEROR IN process_axial - PK_SURF_ask_uvboxEROR IN process_axial - PK_SURF_ask_uvboxEROR IN process_axial - PK_SURF_ask_uvboxEROR IN process_axial - PK_SURF_ask_uvboxEROR IN process_axial - PK_SURF_ask_uvboxEROR IN process_axial - PK_SURF_ask_uvboxEROR IN process_axial - PK_SURF_ask_uvboxEROR IN process_axial - PK_SURF_ask_uvboxEROR IN process_axial - PK_SURF_ask_uvboxEROR IN process_axial - PK_SURF_ask_uvboxEROR IN process_axial - PK_SURF_ask_uvboxEROR IN process_axial - PK_SURF_ask_uvboxEROR IN process_axial - PK_SURF_ask_uvboxEROR IN process_axial - PK_SURF_ask_uvboxEROR IN process_axial - PK_SURF_ask_uvboxEROR IN process_axial - PK_SURF_ask_uvboxEROR IN process_axial - PK_SURF_ask_uvboxEROR IN process_axial - PK_SURF_ask_uvboxEROR IN process_axial - PK_SURF_ask_uvboxEROR IN process_axial - PK_SURF_ask_uvboxEROR IN process_axial - PK_SURF_ask_uvboxEROR IN process_axial - PK_SURF_ask_uvboxEROR IN process_axial - PK_SURF_ask_uvboxEROR IN process_axial - PK_SURF_ask_uvboxEROR IN process_axial - PK_SURF_ask_uvboxEROR IN process_axial - PK_SURF_ask_uvboxEROR IN process_axial - PK_SURF_ask_uvboxEROR IN process_axial - PK_SURF_ask_uvboxEROR IN process_axial - PK_SURF_ask_uvboxEROR IN process_axial - PK_SURF_ask_uvboxEROR IN process_axial - PK_SURF_ask_uvboxEROR IN process_axial - PK_SURF_ask_uvboxEROR IN process_axial - PK_SURF_ask_uvboxEROR IN process_axial - PK_SURF_ask_uvboxEROR IN process_axial - PK_SURF_ask_uvboxEROR IN process_axial - PK_SURF_ask_uvboxEROR IN process_axial - PK_SURF_ask_uvboxEROR IN process_axial - PK_SURF_ask_uvboxEROR IN process_axial - PK_SURF_ask_uvboxEROR IN process_axial - PK_SURF_ask_uvboxEROR IN process_axial - PK_SURF_ask_uvboxEROR IN process_axial - PK_SURF_ask_uvboxEROR IN process_axial - PK_SURF_ask_uvboxEROR IN process_axial - PK_SURF_ask_uvboxEROR IN process_axial - PK_SURF_ask_uvboxEROR IN process_axial - PK_SURF_ask_uvboxEROR IN process_axial - PK_SURF_ask_uvboxEROR IN process_axial - PK_SURF_ask_uvboxEROR IN process_axial - PK_SURF_ask_uvboxEROR IN process_axial - PK_SURF_ask_uvboxEROR IN process_axial - PK_SURF_ask_uvboxEROR IN process_axial - PK_SURF_ask_uvboxEROR IN process_axial - PK_SURF_ask_uvboxEROR IN process_axial - PK_SURF_ask_uvboxEROR IN process_axial - PK_SURF_ask_uvboxEROR IN process_axial - PK_SURF_ask_uvboxEROR IN process_axial - PK_SURF_ask_uvboxEROR IN process_axial - PK_SURF_ask_uvboxEROR IN process_axial - PK_SURF_ask_uvboxEROR IN process_axial - PK_SURF_ask_uvboxEROR IN process_axial - PK_SURF_ask_uvboxEROR IN process_axial - PK_SURF_ask_uvboxEROR IN process_axial - PK_SURF_ask_uvboxEROR IN process_axial - PK_SURF_ask_uvboxEROR IN process_axial - PK_SURF_ask_uvboxEROR IN process_axial - PK_SURF_ask_uvboxEROR IN process_axial - PK_SURF_ask_uvboxEROR IN process_axial - PK_SURF_ask_uvboxEROR IN process_axial - PK_SURF_ask_uvboxEROR IN process_axial - PK_SURF_ask_uvboxEROR IN process_axial - PK_SURF_ask_uvboxEROR IN process_axial - PK_SURF_ask_uvboxEROR IN process_axial - PK_SURF_ask_uvboxEROR IN process_axial - PK_SURF_ask_uvboxEROR IN process_axial - PK_SURF_ask_uvboxEROR IN process_axial - PK_SURF_ask_uvboxEROR IN process_axial - PK_SURF_ask_uvboxEROR IN process_axial - PK_SURF_ask_uvboxEROR IN process_axial - PK_SURF_ask_uvboxEROR IN process_axial - PK_SURF_ask_uvboxEROR IN process_axial - PK_SURF_ask_uvboxEROR IN process_axial - PK_SURF_ask_uvboxEROR IN process_axial - PK_SURF_ask_uvboxEROR IN process_axial - PK_SURF_ask_uvboxEROR IN process_axial - PK_SURF_ask_uvboxEROR IN process_axial - PK_SURF_ask_uvboxEROR IN process_axial - PK_SURF_ask_uvboxEROR IN process_axial - PK_SURF_ask_uvboxEROR IN process_axial - PK_SURF_ask_uvboxEROR IN process_axial - PK_SURF_ask_uvboxEROR IN process_axial - PK_SURF_ask_uvboxEROR IN process_axial - PK_SURF_ask_uvboxEROR IN process_axial - PK_SURF_ask_uvboxEROR IN process_axial - PK_SURF_ask_uvboxEROR IN process_axial - PK_SURF_ask_uvboxEROR IN process_axial - PK_SURF_ask_uvboxERROR TRASFORMING!\n"
     ]
    },
    {
     "data": {
      "text/plain": [
       "'num_processed: 1032/20845'"
      ]
     },
     "metadata": {},
     "output_type": "display_data"
    },
    {
     "name": "stdout",
     "output_type": "stream",
     "text": [
      "4dcbe297a5d1395f1d8d4212_e4fcad6f18bb4056789931dc_0527c1648df8967df10b8801\n"
     ]
    },
    {
     "data": {
      "text/plain": [
       "'num_processed: 1033/20845'"
      ]
     },
     "metadata": {},
     "output_type": "display_data"
    },
    {
     "name": "stdout",
     "output_type": "stream",
     "text": [
      "eb03c69eb8a4b0239185dfac_92333960c0fd1aa7094ddb28_3a7ead88fa4ed45945d35172\n",
      "ERROR TRASFORMING!\n"
     ]
    },
    {
     "data": {
      "text/plain": [
       "'num_processed: 1034/20845'"
      ]
     },
     "metadata": {},
     "output_type": "display_data"
    },
    {
     "name": "stdout",
     "output_type": "stream",
     "text": [
      "585162a820f53610daa8962b_bd41759ed4c98f25bbcfe828_0bd39f8c468b99bf174d39a4\n"
     ]
    },
    {
     "data": {
      "text/plain": [
       "'num_processed: 1035/20845'"
      ]
     },
     "metadata": {},
     "output_type": "display_data"
    },
    {
     "name": "stdout",
     "output_type": "stream",
     "text": [
      "7e274d7d261e9b1b7271c204_ca819c56c0de968d7ab96ec2_11b0a10c51e81f2816a3ab2a\n"
     ]
    },
    {
     "data": {
      "text/plain": [
       "'num_processed: 1036/20845'"
      ]
     },
     "metadata": {},
     "output_type": "display_data"
    },
    {
     "name": "stdout",
     "output_type": "stream",
     "text": [
      "3b9436dd7f331b22f5d3be06_4d17b95161c91463c159c1cc_0eae0f37e03104c031f364cb\n"
     ]
    },
    {
     "data": {
      "text/plain": [
       "'num_processed: 1037/20845'"
      ]
     },
     "metadata": {},
     "output_type": "display_data"
    },
    {
     "name": "stdout",
     "output_type": "stream",
     "text": [
      "56f370f27d068fe81af9eb34_c4e19f93a11028b8391f0419_94c5dc599a770b05a5cd104c\n"
     ]
    },
    {
     "data": {
      "text/plain": [
       "'num_processed: 1038/20845'"
      ]
     },
     "metadata": {},
     "output_type": "display_data"
    },
    {
     "name": "stdout",
     "output_type": "stream",
     "text": [
      "d7b06e34343711c14fba4435_03474c0ebe6a3968169a9151_07a884a8223a306c8cad15f5\n"
     ]
    },
    {
     "data": {
      "text/plain": [
       "'num_processed: 1039/20845'"
      ]
     },
     "metadata": {},
     "output_type": "display_data"
    },
    {
     "name": "stdout",
     "output_type": "stream",
     "text": [
      "322f6f3e06189c67e783d818_1b3bf266f6b0751ee7b99472_b60dcbe13f58f0f89b20d54f\n"
     ]
    },
    {
     "data": {
      "text/plain": [
       "'num_processed: 1040/20845'"
      ]
     },
     "metadata": {},
     "output_type": "display_data"
    },
    {
     "name": "stdout",
     "output_type": "stream",
     "text": [
      "7590acddd4bd9b941b929496_3a849cb7bf39cbcf79a92dbb_f704c219fb322ae64245756d\n"
     ]
    },
    {
     "data": {
      "text/plain": [
       "'num_processed: 1041/20845'"
      ]
     },
     "metadata": {},
     "output_type": "display_data"
    },
    {
     "name": "stdout",
     "output_type": "stream",
     "text": [
      "2b94c6a95c279e8dcdbf561c_fa8d78d820c38dbae1d9927d_eff6c8f63e58703f06b4b75f\n"
     ]
    },
    {
     "data": {
      "text/plain": [
       "'num_processed: 1042/20845'"
      ]
     },
     "metadata": {},
     "output_type": "display_data"
    },
    {
     "name": "stdout",
     "output_type": "stream",
     "text": [
      "280f6cddd154603a8eee0795_ce946dec95c71e0b71c00faa_3e7a965e0f092982264897ca\n"
     ]
    },
    {
     "data": {
      "text/plain": [
       "'num_processed: 1043/20845'"
      ]
     },
     "metadata": {},
     "output_type": "display_data"
    },
    {
     "name": "stdout",
     "output_type": "stream",
     "text": [
      "24119b20de4f9a2b789a72c4_2927d42bd0b893a61677d470_36e40526005760c876696e68\n"
     ]
    },
    {
     "data": {
      "text/plain": [
       "'num_processed: 1044/20845'"
      ]
     },
     "metadata": {},
     "output_type": "display_data"
    },
    {
     "name": "stdout",
     "output_type": "stream",
     "text": [
      "3b36b538549360a6db6acbb8_21b309fbd3a0c3e05c86847f_980d3ca7e1b1546194cb46bb\n"
     ]
    },
    {
     "data": {
      "text/plain": [
       "'num_processed: 1045/20845'"
      ]
     },
     "metadata": {},
     "output_type": "display_data"
    },
    {
     "name": "stdout",
     "output_type": "stream",
     "text": [
      "22d3ab3abb710fc8fbbbff12_59da22e95f271cdef2d4825d_ea98c1329fea209c0b013f15\n"
     ]
    },
    {
     "data": {
      "text/plain": [
       "'num_processed: 1046/20845'"
      ]
     },
     "metadata": {},
     "output_type": "display_data"
    },
    {
     "name": "stdout",
     "output_type": "stream",
     "text": [
      "589d337d97e5700f6ce08e1f_68623015cb05572d46da979b_7738514addfe96fda71a3fd5\n"
     ]
    },
    {
     "data": {
      "text/plain": [
       "'num_processed: 1047/20845'"
      ]
     },
     "metadata": {},
     "output_type": "display_data"
    },
    {
     "name": "stdout",
     "output_type": "stream",
     "text": [
      "9a107fdfc11a89ff77bae561_5ae12b60302ef133bf866b31_9f8ec923ccb546096686008c\n"
     ]
    },
    {
     "data": {
      "text/plain": [
       "'num_processed: 1048/20845'"
      ]
     },
     "metadata": {},
     "output_type": "display_data"
    },
    {
     "name": "stdout",
     "output_type": "stream",
     "text": [
      "1d048155de8cb81d3326ca32_2709bd3f4233d4dd6a83a189_8874f631897b032031d4314d\n"
     ]
    },
    {
     "data": {
      "text/plain": [
       "'num_processed: 1049/20845'"
      ]
     },
     "metadata": {},
     "output_type": "display_data"
    },
    {
     "name": "stdout",
     "output_type": "stream",
     "text": [
      "645ff7195872c742defc57a8_ed228ffd7f3bcede7d94d891_a5dc3a89557f9d3b68667cc3\n",
      "EROR IN process_axial - PK_SURF_ask_uvboxERROR TRASFORMING!\n",
      "ERROR TRASFORMING!\n",
      "ERROR TRASFORMING!\n",
      "ERROR TRASFORMING!\n",
      "ERROR TRASFORMING!\n",
      "ERROR TRASFORMING!\n"
     ]
    },
    {
     "data": {
      "text/plain": [
       "'num_processed: 1050/20845'"
      ]
     },
     "metadata": {},
     "output_type": "display_data"
    },
    {
     "name": "stdout",
     "output_type": "stream",
     "text": [
      "fbdc4e7a695fd578bedcfee0_2efdf6259147906bfe89e48e_5aeb63cffaf69b44fb2cd705\n"
     ]
    },
    {
     "data": {
      "text/plain": [
       "'num_processed: 1051/20845'"
      ]
     },
     "metadata": {},
     "output_type": "display_data"
    },
    {
     "name": "stdout",
     "output_type": "stream",
     "text": [
      "2292897f75afd6ead2c53767_849756445263db13c0eadc43_56bd6b76ac4454c1e734f158\n"
     ]
    },
    {
     "data": {
      "text/plain": [
       "'num_processed: 1052/20845'"
      ]
     },
     "metadata": {},
     "output_type": "display_data"
    },
    {
     "name": "stdout",
     "output_type": "stream",
     "text": [
      "45ce22365b872dea2c60e345_139feb79ab2a08e32de824e8_8c3d37f1ac37327e28adab3b\n"
     ]
    },
    {
     "data": {
      "text/plain": [
       "'num_processed: 1053/20845'"
      ]
     },
     "metadata": {},
     "output_type": "display_data"
    },
    {
     "name": "stdout",
     "output_type": "stream",
     "text": [
      "fcd1bff9f7a11bfa6e708a9b_8ec087b319aa8ae9a5a697be_c591fb99d1c72e2d157e6ff5\n"
     ]
    },
    {
     "data": {
      "text/plain": [
       "'num_processed: 1054/20845'"
      ]
     },
     "metadata": {},
     "output_type": "display_data"
    },
    {
     "name": "stdout",
     "output_type": "stream",
     "text": [
      "eb2e3892c2c161e2102e0c69_df40c1e6b0ab8571d6debde7_7967520c5090e1d331202255\n"
     ]
    },
    {
     "data": {
      "text/plain": [
       "'num_processed: 1055/20845'"
      ]
     },
     "metadata": {},
     "output_type": "display_data"
    },
    {
     "name": "stdout",
     "output_type": "stream",
     "text": [
      "bedaee1ca060546c49fb3945_a9aba96b18ffd3350a805698_828e2b58179e62c99a191adf\n"
     ]
    },
    {
     "data": {
      "text/plain": [
       "'num_processed: 1056/20845'"
      ]
     },
     "metadata": {},
     "output_type": "display_data"
    },
    {
     "name": "stdout",
     "output_type": "stream",
     "text": [
      "20a64b82104ee720b950ebd0_bd4f03e3bfc74fadc070008a_436249190ba899525ddebba2\n"
     ]
    },
    {
     "data": {
      "text/plain": [
       "'num_processed: 1057/20845'"
      ]
     },
     "metadata": {},
     "output_type": "display_data"
    },
    {
     "name": "stdout",
     "output_type": "stream",
     "text": [
      "2aff193b6215dd27951c47a7_05ddbb73afabd9857bec750a_7acc639e871ee0aa8593500b\n"
     ]
    },
    {
     "data": {
      "text/plain": [
       "'num_processed: 1058/20845'"
      ]
     },
     "metadata": {},
     "output_type": "display_data"
    },
    {
     "name": "stdout",
     "output_type": "stream",
     "text": [
      "e91af00333561d0fe6675254_bbb9caf0b106fda1f870e993_8609e560de7451a2e039a54e\n"
     ]
    },
    {
     "data": {
      "text/plain": [
       "'num_processed: 1059/20845'"
      ]
     },
     "metadata": {},
     "output_type": "display_data"
    },
    {
     "name": "stdout",
     "output_type": "stream",
     "text": [
      "e89c099bea8f6a6ce3a74845_38c69298b428a95a45bc94a3_a0b82d74a1a13b160b4ff7d1\n"
     ]
    },
    {
     "data": {
      "text/plain": [
       "'num_processed: 1060/20845'"
      ]
     },
     "metadata": {},
     "output_type": "display_data"
    },
    {
     "name": "stdout",
     "output_type": "stream",
     "text": [
      "4f0657fff85450931c283100_e155db67bc57f1a51bc00754_c3bd702fd3b8dfa0c3039932\n"
     ]
    },
    {
     "data": {
      "text/plain": [
       "'num_processed: 1061/20845'"
      ]
     },
     "metadata": {},
     "output_type": "display_data"
    },
    {
     "name": "stdout",
     "output_type": "stream",
     "text": [
      "088798e012702d8858d58424_7a7e24adb4a7d302c7157a66_2c0774f325286594e16ab160\n"
     ]
    },
    {
     "data": {
      "text/plain": [
       "'num_processed: 1062/20845'"
      ]
     },
     "metadata": {},
     "output_type": "display_data"
    },
    {
     "name": "stdout",
     "output_type": "stream",
     "text": [
      "1ce298cb1edf36dd6a7ff368_32011d7285c69d73858c25ff_940653ab2e8a73c3b00d2f56\n"
     ]
    },
    {
     "data": {
      "text/plain": [
       "'num_processed: 1063/20845'"
      ]
     },
     "metadata": {},
     "output_type": "display_data"
    },
    {
     "name": "stdout",
     "output_type": "stream",
     "text": [
      "578460d8e4b0e7ced0e6841e_59e660a85feba342ef1d1f3c_f1db779d1e109001e04b3a4d\n"
     ]
    },
    {
     "data": {
      "text/plain": [
       "'num_processed: 1064/20845'"
      ]
     },
     "metadata": {},
     "output_type": "display_data"
    },
    {
     "name": "stdout",
     "output_type": "stream",
     "text": [
      "78eacba40aa22446a42f3e03_e28eb00d12ffe278e42b61f9_8e7774786dce1aeff29c56f2\n",
      "ERROR TRASFORMING!\n",
      "ERROR TRASFORMING!\n",
      "ERROR TRASFORMING!\n",
      "ERROR TRASFORMING!\n",
      "ERROR TRASFORMING!\n",
      "Error in process_face: PK_ENTITY_ask_classError in process_face: PK_ENTITY_ask_classERROR TRASFORMING!\n",
      "ERROR TRASFORMING!\n",
      "ERROR TRASFORMING!\n",
      "ERROR TRASFORMING!\n"
     ]
    },
    {
     "data": {
      "text/plain": [
       "'num_processed: 1065/20845'"
      ]
     },
     "metadata": {},
     "output_type": "display_data"
    },
    {
     "name": "stdout",
     "output_type": "stream",
     "text": [
      "58fd7ea92e4c33108488dfb0_9a45dd0c50fa68590d98c0f9_eaec8640b2f8ead596908362\n"
     ]
    },
    {
     "data": {
      "text/plain": [
       "'num_processed: 1066/20845'"
      ]
     },
     "metadata": {},
     "output_type": "display_data"
    },
    {
     "name": "stdout",
     "output_type": "stream",
     "text": [
      "ffc17fc5d59389d9837e14c2_8cd90144b6903a2beb9b4675_e035facfbe4726c72e1f0421\n"
     ]
    },
    {
     "data": {
      "text/plain": [
       "'num_processed: 1067/20845'"
      ]
     },
     "metadata": {},
     "output_type": "display_data"
    },
    {
     "name": "stdout",
     "output_type": "stream",
     "text": [
      "3f3e7d54112955d70a921eb7_76c8c438620d56dc6529a648_540be3b7e5ef8aabd3be9d37\n"
     ]
    },
    {
     "data": {
      "text/plain": [
       "'num_processed: 1068/20845'"
      ]
     },
     "metadata": {},
     "output_type": "display_data"
    },
    {
     "name": "stdout",
     "output_type": "stream",
     "text": [
      "fede393900f38747585748e4_f5e26ec8f8c7cee6421bb3cd_21651aeed012bf0b2e5d310b\n"
     ]
    },
    {
     "data": {
      "text/plain": [
       "'num_processed: 1069/20845'"
      ]
     },
     "metadata": {},
     "output_type": "display_data"
    },
    {
     "name": "stdout",
     "output_type": "stream",
     "text": [
      "9a9a7fc5090938fbd11b3b27_b81d245be732c2da4b99f2f0_7bc6d53b36b5c290c2394df5\n"
     ]
    },
    {
     "data": {
      "text/plain": [
       "'num_processed: 1070/20845'"
      ]
     },
     "metadata": {},
     "output_type": "display_data"
    },
    {
     "name": "stdout",
     "output_type": "stream",
     "text": [
      "b78f84775797dd85545de054_4389dc8b1f0ea479beb7194b_c517de30b1c183f75b70461b\n"
     ]
    },
    {
     "data": {
      "text/plain": [
       "'num_processed: 1071/20845'"
      ]
     },
     "metadata": {},
     "output_type": "display_data"
    },
    {
     "name": "stdout",
     "output_type": "stream",
     "text": [
      "d6b72c7feeb544c780d0c7d0_3ffe1f7ca76d4f08f963245d_e2d7d1d1e6c498783b692a63\n"
     ]
    },
    {
     "data": {
      "text/plain": [
       "'num_processed: 1072/20845'"
      ]
     },
     "metadata": {},
     "output_type": "display_data"
    },
    {
     "name": "stdout",
     "output_type": "stream",
     "text": [
      "95bf090dc6751ee9ec1f3885_77b0d3171f603959e15465d2_ae6ee82c92010443280f5b5c\n"
     ]
    },
    {
     "data": {
      "text/plain": [
       "'num_processed: 1073/20845'"
      ]
     },
     "metadata": {},
     "output_type": "display_data"
    },
    {
     "name": "stdout",
     "output_type": "stream",
     "text": [
      "d2423f851b5ccbbacbcf810e_e84f0dc547c4e6ff3bb963bf_09879a38057ae64dd2af95ff\n"
     ]
    },
    {
     "data": {
      "text/plain": [
       "'num_processed: 1074/20845'"
      ]
     },
     "metadata": {},
     "output_type": "display_data"
    },
    {
     "name": "stdout",
     "output_type": "stream",
     "text": [
      "a469988ffe2d47444484ae75_b39a3f8d20f96639ae8c783e_5bbb6ce790687a740251bdfd\n",
      "ERROR TRASFORMING!\n"
     ]
    },
    {
     "data": {
      "text/plain": [
       "'num_processed: 1075/20845'"
      ]
     },
     "metadata": {},
     "output_type": "display_data"
    },
    {
     "name": "stdout",
     "output_type": "stream",
     "text": [
      "2b6875410597c07504bf5b6a_629baa645f33682a9f95e941_77be5901d3f3a53ac2267a1d\n"
     ]
    },
    {
     "data": {
      "text/plain": [
       "'num_processed: 1076/20845'"
      ]
     },
     "metadata": {},
     "output_type": "display_data"
    },
    {
     "name": "stdout",
     "output_type": "stream",
     "text": [
      "582619a732f84011059d482d_cb42a42cf04343690dd2509a_b584fd3070810be84a67bced\n"
     ]
    },
    {
     "data": {
      "text/plain": [
       "'num_processed: 1077/20845'"
      ]
     },
     "metadata": {},
     "output_type": "display_data"
    },
    {
     "name": "stdout",
     "output_type": "stream",
     "text": [
      "989fb532429e1ee908f3df20_16b8bd7c863096114238842d_54dc98922fe98133c5244bdd\n"
     ]
    },
    {
     "data": {
      "text/plain": [
       "'num_processed: 1078/20845'"
      ]
     },
     "metadata": {},
     "output_type": "display_data"
    },
    {
     "name": "stdout",
     "output_type": "stream",
     "text": [
      "0d782725eb1c035101344c75_38f35c856cb1142f3825345d_079be78cef63e62af8863d3a\n"
     ]
    },
    {
     "data": {
      "text/plain": [
       "'num_processed: 1079/20845'"
      ]
     },
     "metadata": {},
     "output_type": "display_data"
    },
    {
     "name": "stdout",
     "output_type": "stream",
     "text": [
      "5857305f1456bb1064c901a9_1310e1edd85c046d5dc6e0f8_410cba193a61557023fcd3e0\n"
     ]
    },
    {
     "data": {
      "text/plain": [
       "'num_processed: 1080/20845'"
      ]
     },
     "metadata": {},
     "output_type": "display_data"
    },
    {
     "name": "stdout",
     "output_type": "stream",
     "text": [
      "d0ec1b255f36df240109181e_9d275c97b5309c114a94c83b_93990c1a4a1fe61a6326804e\n"
     ]
    },
    {
     "data": {
      "text/plain": [
       "'num_processed: 1081/20845'"
      ]
     },
     "metadata": {},
     "output_type": "display_data"
    },
    {
     "name": "stdout",
     "output_type": "stream",
     "text": [
      "589b82c28006660f7f9134b4_36aa627abfc2b93b621c9608_ad65e627e6043092b1f42c2d\n"
     ]
    },
    {
     "data": {
      "text/plain": [
       "'num_processed: 1082/20845'"
      ]
     },
     "metadata": {},
     "output_type": "display_data"
    },
    {
     "name": "stdout",
     "output_type": "stream",
     "text": [
      "8c4f3616f8f377544011eea9_c56c2ed5e78ac96e99cce57e_3a773fb979e7c3e60bfaf10d\n"
     ]
    },
    {
     "data": {
      "text/plain": [
       "'num_processed: 1083/20845'"
      ]
     },
     "metadata": {},
     "output_type": "display_data"
    },
    {
     "name": "stdout",
     "output_type": "stream",
     "text": [
      "685350adebef9bfbd52b8999_f335fc79d782443d6696ab6a_d466b3ab0039676661789393\n"
     ]
    },
    {
     "data": {
      "text/plain": [
       "'num_processed: 1084/20845'"
      ]
     },
     "metadata": {},
     "output_type": "display_data"
    },
    {
     "name": "stdout",
     "output_type": "stream",
     "text": [
      "12d8b5e61034a619f512eb89_9106eb0455c3ec30b19da99d_fff3cadd3f707af2f83dc47e\n"
     ]
    },
    {
     "data": {
      "text/plain": [
       "'num_processed: 1085/20845'"
      ]
     },
     "metadata": {},
     "output_type": "display_data"
    },
    {
     "name": "stdout",
     "output_type": "stream",
     "text": [
      "128f58932a53ff8d9b0873ed_29276566b6ffc9037f639f08_05adfd2f78cfeccea0c32037\n"
     ]
    },
    {
     "data": {
      "text/plain": [
       "'num_processed: 1086/20845'"
      ]
     },
     "metadata": {},
     "output_type": "display_data"
    },
    {
     "name": "stdout",
     "output_type": "stream",
     "text": [
      "fc0e9fc9f369acca10873e16_3e04bae8d8f90207dc5ebcd0_07a7632026342878b87f31ce\n"
     ]
    },
    {
     "data": {
      "text/plain": [
       "'num_processed: 1087/20845'"
      ]
     },
     "metadata": {},
     "output_type": "display_data"
    },
    {
     "name": "stdout",
     "output_type": "stream",
     "text": [
      "3e75fb3f739b7c6d954a6b95_506cd8b97db22e877dc8e293_ef7114bf386a55a87de2e12f\n"
     ]
    },
    {
     "data": {
      "text/plain": [
       "'num_processed: 1088/20845'"
      ]
     },
     "metadata": {},
     "output_type": "display_data"
    },
    {
     "name": "stdout",
     "output_type": "stream",
     "text": [
      "b9c541d47eb2b609874e35e3_f8ea7c2c2d5d93dfef94a23a_0377bf52ae574cafc3e2b291\n"
     ]
    },
    {
     "data": {
      "text/plain": [
       "'num_processed: 1089/20845'"
      ]
     },
     "metadata": {},
     "output_type": "display_data"
    },
    {
     "name": "stdout",
     "output_type": "stream",
     "text": [
      "f2ec50fbf3b2e66c661e50f5_64907149f01d54963f1ac4af_a3d3bf2b9016fc6bcc2f5cee\n"
     ]
    },
    {
     "data": {
      "text/plain": [
       "'num_processed: 1090/20845'"
      ]
     },
     "metadata": {},
     "output_type": "display_data"
    },
    {
     "name": "stdout",
     "output_type": "stream",
     "text": [
      "5e921d2362f6165f585e7db0_63c25f9e7c121913a48a46db_f29adff2f79dcbb5e38c499f\n"
     ]
    },
    {
     "data": {
      "text/plain": [
       "'num_processed: 1091/20845'"
      ]
     },
     "metadata": {},
     "output_type": "display_data"
    },
    {
     "name": "stdout",
     "output_type": "stream",
     "text": [
      "08f25b96143866c8587e5913_e7d6c0e843851633b34a361e_64e5423a4057277d7ccae513\n",
      "ERROR TRASFORMING!\n"
     ]
    },
    {
     "data": {
      "text/plain": [
       "'num_processed: 1092/20845'"
      ]
     },
     "metadata": {},
     "output_type": "display_data"
    },
    {
     "name": "stdout",
     "output_type": "stream",
     "text": [
      "98dce1dde344af71c80b4601_74a4ac419302367030e94406_fb8ab4e9efdd6763513adffc\n"
     ]
    },
    {
     "data": {
      "text/plain": [
       "'num_processed: 1093/20845'"
      ]
     },
     "metadata": {},
     "output_type": "display_data"
    },
    {
     "name": "stdout",
     "output_type": "stream",
     "text": [
      "7e0d1ff950eaba00606fc6f0_c4a147809f7875494fa85eb1_687c24a6d48951eb1ebdddff\n"
     ]
    },
    {
     "data": {
      "text/plain": [
       "'num_processed: 1094/20845'"
      ]
     },
     "metadata": {},
     "output_type": "display_data"
    },
    {
     "name": "stdout",
     "output_type": "stream",
     "text": [
      "57f4bc7a2c914910f87e4f02_3cf38cbe1c1da56c093ca6ed_5f921adf4444bf63919970a6\n"
     ]
    },
    {
     "data": {
      "text/plain": [
       "'num_processed: 1095/20845'"
      ]
     },
     "metadata": {},
     "output_type": "display_data"
    },
    {
     "name": "stdout",
     "output_type": "stream",
     "text": [
      "0d5e980384cd41cfa05f73c0_290ff4cf3c387415a39ffef7_a07e8ac9c4a91eb93b81d49d\n"
     ]
    },
    {
     "data": {
      "text/plain": [
       "'num_processed: 1096/20845'"
      ]
     },
     "metadata": {},
     "output_type": "display_data"
    },
    {
     "name": "stdout",
     "output_type": "stream",
     "text": [
      "bf74da0597d69d54ce63a7e1_4621b9050278df035a2d363e_1bd60f0afab4157175482529\n"
     ]
    },
    {
     "data": {
      "text/plain": [
       "'num_processed: 1097/20845'"
      ]
     },
     "metadata": {},
     "output_type": "display_data"
    },
    {
     "name": "stdout",
     "output_type": "stream",
     "text": [
      "58aafc1b22115e0f6fe6a071_73c0c50f57f6ab837b20e7a1_85a18140c9111733bc0e9db3\n"
     ]
    },
    {
     "data": {
      "text/plain": [
       "'num_processed: 1098/20845'"
      ]
     },
     "metadata": {},
     "output_type": "display_data"
    },
    {
     "name": "stdout",
     "output_type": "stream",
     "text": [
      "13a69f5eb2c2fc7827685cfa_9f9ba75cd3b7fec838afe2d7_37675cb6046c6c207ca005ed\n"
     ]
    },
    {
     "data": {
      "text/plain": [
       "'num_processed: 1099/20845'"
      ]
     },
     "metadata": {},
     "output_type": "display_data"
    },
    {
     "name": "stdout",
     "output_type": "stream",
     "text": [
      "7f3d5c07cd83a292003cf7f2_5c278a7d9398a7ad2fb10f4c_9b81d07cc96ad52c9ec72002\n"
     ]
    },
    {
     "data": {
      "text/plain": [
       "'num_processed: 1100/20845'"
      ]
     },
     "metadata": {},
     "output_type": "display_data"
    },
    {
     "name": "stdout",
     "output_type": "stream",
     "text": [
      "591a8751141ec62eb7fe5e60_db191783f7dbd665a95aeee3_ff1a733d833169f977681f35\n"
     ]
    },
    {
     "data": {
      "text/plain": [
       "'num_processed: 1101/20845'"
      ]
     },
     "metadata": {},
     "output_type": "display_data"
    },
    {
     "name": "stdout",
     "output_type": "stream",
     "text": [
      "60d73838765c79b59dffc1aa_f8ed22d2317edbfce528d639_1bfa82df355c7ec76b2d7f12\n"
     ]
    },
    {
     "data": {
      "text/plain": [
       "'num_processed: 1102/20845'"
      ]
     },
     "metadata": {},
     "output_type": "display_data"
    },
    {
     "name": "stdout",
     "output_type": "stream",
     "text": [
      "570617eb34e0d12afb1ad02e_db36b29706e9fb94e1aa234f_87aa669ae86b9f47467361c8\n"
     ]
    },
    {
     "data": {
      "text/plain": [
       "'num_processed: 1103/20845'"
      ]
     },
     "metadata": {},
     "output_type": "display_data"
    },
    {
     "name": "stdout",
     "output_type": "stream",
     "text": [
      "25810b6ce462551758ee0299_66b253044fc0ad1377599441_3dffd9253674238364f76e5e\n"
     ]
    },
    {
     "data": {
      "text/plain": [
       "'num_processed: 1104/20845'"
      ]
     },
     "metadata": {},
     "output_type": "display_data"
    },
    {
     "name": "stdout",
     "output_type": "stream",
     "text": [
      "b355480627b696d2345f8c2e_8cd74bde8595487fb05985f0_d22301db66808aa458377173\n"
     ]
    },
    {
     "data": {
      "text/plain": [
       "'num_processed: 1105/20845'"
      ]
     },
     "metadata": {},
     "output_type": "display_data"
    },
    {
     "name": "stdout",
     "output_type": "stream",
     "text": [
      "d5c593d0a7bb3c775eb3723b_40673616fd17343280c15f00_cd392dad5eeb600492fd832a\n"
     ]
    },
    {
     "data": {
      "text/plain": [
       "'num_processed: 1106/20845'"
      ]
     },
     "metadata": {},
     "output_type": "display_data"
    },
    {
     "name": "stdout",
     "output_type": "stream",
     "text": [
      "342e37ada70a4868ac047a59_4e21eaed0bcad87257b31e70_dffdef99628527e1343e7413\n"
     ]
    },
    {
     "data": {
      "text/plain": [
       "'num_processed: 1107/20845'"
      ]
     },
     "metadata": {},
     "output_type": "display_data"
    },
    {
     "name": "stdout",
     "output_type": "stream",
     "text": [
      "c3cd3d6baea6f4b49c4b40e9_61dde27f59ebb7ebbc44e7ec_223345033df395360169b033\n"
     ]
    },
    {
     "data": {
      "text/plain": [
       "'num_processed: 1108/20845'"
      ]
     },
     "metadata": {},
     "output_type": "display_data"
    },
    {
     "name": "stdout",
     "output_type": "stream",
     "text": [
      "584f061d0f617710a610afa8_56fe978b1404b04b80d4fdcf_abe1da93465a54d863826bcc\n"
     ]
    },
    {
     "data": {
      "text/plain": [
       "'num_processed: 1109/20845'"
      ]
     },
     "metadata": {},
     "output_type": "display_data"
    },
    {
     "name": "stdout",
     "output_type": "stream",
     "text": [
      "3c73db9b93f4993824374c9e_a3920be6a9904ada45817e3f_93fabb97ebd07430fe440f80\n"
     ]
    },
    {
     "data": {
      "text/plain": [
       "'num_processed: 1110/20845'"
      ]
     },
     "metadata": {},
     "output_type": "display_data"
    },
    {
     "name": "stdout",
     "output_type": "stream",
     "text": [
      "64e061e0547d0b3bbd9b746c_4e8b977a427fd8733359cdd6_e06c796872ab36a4f2adffc6\n"
     ]
    },
    {
     "data": {
      "text/plain": [
       "'num_processed: 1111/20845'"
      ]
     },
     "metadata": {},
     "output_type": "display_data"
    },
    {
     "name": "stdout",
     "output_type": "stream",
     "text": [
      "773b0cbaa1b5768da5841f5d_b6ebf6b74ba50d38a546752d_061dc5730f845c17b5c56f40\n"
     ]
    },
    {
     "data": {
      "text/plain": [
       "'num_processed: 1112/20845'"
      ]
     },
     "metadata": {},
     "output_type": "display_data"
    },
    {
     "name": "stdout",
     "output_type": "stream",
     "text": [
      "81e60c171e59f94fa6620992_19b3814955f3663e0a9bcabb_af7bd2af1f0969cf000e8534\n"
     ]
    },
    {
     "data": {
      "text/plain": [
       "'num_processed: 1113/20845'"
      ]
     },
     "metadata": {},
     "output_type": "display_data"
    },
    {
     "name": "stdout",
     "output_type": "stream",
     "text": [
      "e1cd3ff2452262d3b44e3884_3815e0948039a96a34ad416c_e3e12a0d246f566ca84137bd\n"
     ]
    },
    {
     "data": {
      "text/plain": [
       "'num_processed: 1114/20845'"
      ]
     },
     "metadata": {},
     "output_type": "display_data"
    },
    {
     "name": "stdout",
     "output_type": "stream",
     "text": [
      "9c61fe36ad5ded737fbd2ac8_9ab00f2feec280bc61d563eb_df2510da2bbb37928044a5ca\n"
     ]
    },
    {
     "data": {
      "text/plain": [
       "'num_processed: 1115/20845'"
      ]
     },
     "metadata": {},
     "output_type": "display_data"
    },
    {
     "name": "stdout",
     "output_type": "stream",
     "text": [
      "9ae1bdd9a652eb5b9671e0d3_d2d3746319865f6c4f58d43e_1850eb9f45455e84c867dbc6\n"
     ]
    },
    {
     "data": {
      "text/plain": [
       "'num_processed: 1116/20845'"
      ]
     },
     "metadata": {},
     "output_type": "display_data"
    },
    {
     "name": "stdout",
     "output_type": "stream",
     "text": [
      "f219a0e7b991576dc991f397_a8ba590750d012f37104f337_62ad29726f0e16424362f5a5\n"
     ]
    },
    {
     "data": {
      "text/plain": [
       "'num_processed: 1117/20845'"
      ]
     },
     "metadata": {},
     "output_type": "display_data"
    },
    {
     "name": "stdout",
     "output_type": "stream",
     "text": [
      "579bd763e4b0ebc07e2252a5_081980227fff26999306a366_4d3c16421ae386fe33606056\n"
     ]
    },
    {
     "data": {
      "text/plain": [
       "'num_processed: 1118/20845'"
      ]
     },
     "metadata": {},
     "output_type": "display_data"
    },
    {
     "name": "stdout",
     "output_type": "stream",
     "text": [
      "86d2b39319d3a493867a7820_997d548544a25f14f443508b_e5bb7090018a9e4da89ea7f7\n"
     ]
    },
    {
     "data": {
      "text/plain": [
       "'num_processed: 1119/20845'"
      ]
     },
     "metadata": {},
     "output_type": "display_data"
    },
    {
     "name": "stdout",
     "output_type": "stream",
     "text": [
      "6728344e0501f7dade1b02ae_b297077dd44328595cbd7e50_9c333996fe645410ac814ccd\n",
      "EROR IN process_axial - PK_SURF_ask_uvboxEROR IN process_axial - PK_SURF_ask_uvboxEROR IN process_axial - PK_SURF_ask_uvboxEROR IN process_axial - PK_SURF_ask_uvboxEROR IN process_axial - PK_SURF_ask_uvboxEROR IN process_axial - PK_SURF_ask_uvboxEROR IN process_axial - PK_SURF_ask_uvboxEROR IN process_axial - PK_SURF_ask_uvboxERROR TRASFORMING!\n"
     ]
    },
    {
     "data": {
      "text/plain": [
       "'num_processed: 1120/20845'"
      ]
     },
     "metadata": {},
     "output_type": "display_data"
    },
    {
     "name": "stdout",
     "output_type": "stream",
     "text": [
      "8112f113b4dc79a2848478de_948f92ebc0771d53009d9f97_2b92a590c30f948ec87ba476\n"
     ]
    },
    {
     "data": {
      "text/plain": [
       "'num_processed: 1121/20845'"
      ]
     },
     "metadata": {},
     "output_type": "display_data"
    },
    {
     "name": "stdout",
     "output_type": "stream",
     "text": [
      "84545e784413718beaec99a1_c49204a72d680c79dc7b5fbc_e688d976c8da9df21a09cc8a\n"
     ]
    },
    {
     "data": {
      "text/plain": [
       "'num_processed: 1122/20845'"
      ]
     },
     "metadata": {},
     "output_type": "display_data"
    },
    {
     "name": "stdout",
     "output_type": "stream",
     "text": [
      "22753dc73ab3815d0718fa92_038d82b886b6fd9451c7c170_f1a412ca543f878330778739\n"
     ]
    },
    {
     "data": {
      "text/plain": [
       "'num_processed: 1123/20845'"
      ]
     },
     "metadata": {},
     "output_type": "display_data"
    },
    {
     "name": "stdout",
     "output_type": "stream",
     "text": [
      "ffda4e0e022f32396b16a214_48b79411d0ba4b81f1730be7_8e2040636d57788d1e85df89\n"
     ]
    },
    {
     "data": {
      "text/plain": [
       "'num_processed: 1124/20845'"
      ]
     },
     "metadata": {},
     "output_type": "display_data"
    },
    {
     "name": "stdout",
     "output_type": "stream",
     "text": [
      "cb25ffb17c45e637b962dd02_4d1e01f7e261175b2d9664ef_0bb00f92f157f125c6bac306\n"
     ]
    },
    {
     "data": {
      "text/plain": [
       "'num_processed: 1125/20845'"
      ]
     },
     "metadata": {},
     "output_type": "display_data"
    },
    {
     "name": "stdout",
     "output_type": "stream",
     "text": [
      "61e93e064c6f263e2d481504_6492c9b304894de79aa7e2f8_acaee39de7b7771d04fc9ee5\n",
      "ERROR TRASFORMING!\n"
     ]
    },
    {
     "data": {
      "text/plain": [
       "'num_processed: 1126/20845'"
      ]
     },
     "metadata": {},
     "output_type": "display_data"
    },
    {
     "name": "stdout",
     "output_type": "stream",
     "text": [
      "5e3d627cb9a080aadf9e1a08_53e52a7225ba106d4f865118_45791b802d69ef55d98157ab\n"
     ]
    },
    {
     "data": {
      "text/plain": [
       "'num_processed: 1127/20845'"
      ]
     },
     "metadata": {},
     "output_type": "display_data"
    },
    {
     "name": "stdout",
     "output_type": "stream",
     "text": [
      "82c68f5eec5fc6f6060abe82_d45fb67a8cab9a437514f168_80f5d379e176ab46315c1f89\n"
     ]
    },
    {
     "data": {
      "text/plain": [
       "'num_processed: 1128/20845'"
      ]
     },
     "metadata": {},
     "output_type": "display_data"
    },
    {
     "name": "stdout",
     "output_type": "stream",
     "text": [
      "9f9904c663eefe933fb7f97b_95859de87d848898afac81e7_2d6ee66b25e47011b2286e03\n"
     ]
    },
    {
     "data": {
      "text/plain": [
       "'num_processed: 1129/20845'"
      ]
     },
     "metadata": {},
     "output_type": "display_data"
    },
    {
     "name": "stdout",
     "output_type": "stream",
     "text": [
      "5c1e3ee274b25a6396db733d_182c3cf2c2509e87e26263fa_f3ee00eb9954faec389054d1\n"
     ]
    },
    {
     "data": {
      "text/plain": [
       "'num_processed: 1130/20845'"
      ]
     },
     "metadata": {},
     "output_type": "display_data"
    },
    {
     "name": "stdout",
     "output_type": "stream",
     "text": [
      "f9bbb8b9183a897af1f495d3_788dd24d51f1012189e3d9b5_a0dc2822f009a4c0add6d7a7\n"
     ]
    },
    {
     "data": {
      "text/plain": [
       "'num_processed: 1131/20845'"
      ]
     },
     "metadata": {},
     "output_type": "display_data"
    },
    {
     "name": "stdout",
     "output_type": "stream",
     "text": [
      "2dbaf7388f7b99201f1c17d5_9c1d3909e1e51ca01d0fd726_6317c6f13d80ed707a71b472\n"
     ]
    },
    {
     "data": {
      "text/plain": [
       "'num_processed: 1132/20845'"
      ]
     },
     "metadata": {},
     "output_type": "display_data"
    },
    {
     "name": "stdout",
     "output_type": "stream",
     "text": [
      "a3feec1b1549d1496be8be44_ba9890bbf1b8e3a7b0c771a3_9b910e4b281a918164ba699b\n"
     ]
    },
    {
     "data": {
      "text/plain": [
       "'num_processed: 1133/20845'"
      ]
     },
     "metadata": {},
     "output_type": "display_data"
    },
    {
     "name": "stdout",
     "output_type": "stream",
     "text": [
      "360cdfb5d2fdf94d725435ef_8955ad4865d5b5a1fc0e5d25_4757e8c8cbd5b15ac0bc3fb7\n"
     ]
    },
    {
     "data": {
      "text/plain": [
       "'num_processed: 1134/20845'"
      ]
     },
     "metadata": {},
     "output_type": "display_data"
    },
    {
     "name": "stdout",
     "output_type": "stream",
     "text": [
      "6d7d33ad945f304ab6da752f_ddcfae8ae424e8f845776f02_118e74ff7d176267e25ac35a\n",
      "EROR IN process_axial - PK_SURF_ask_uvboxERROR TRASFORMING!\n"
     ]
    },
    {
     "data": {
      "text/plain": [
       "'num_processed: 1135/20845'"
      ]
     },
     "metadata": {},
     "output_type": "display_data"
    },
    {
     "name": "stdout",
     "output_type": "stream",
     "text": [
      "524143315a06c9e09538e839_eda230ae620e30a8f7436bb0_d0ec72eaa8de58888dcd32df\n"
     ]
    },
    {
     "data": {
      "text/plain": [
       "'num_processed: 1136/20845'"
      ]
     },
     "metadata": {},
     "output_type": "display_data"
    },
    {
     "name": "stdout",
     "output_type": "stream",
     "text": [
      "1e4ab664da5c5d28678927a5_5304c4000b1547bbd6b9d381_0828259b22882f262e5862a7\n"
     ]
    },
    {
     "data": {
      "text/plain": [
       "'num_processed: 1137/20845'"
      ]
     },
     "metadata": {},
     "output_type": "display_data"
    },
    {
     "name": "stdout",
     "output_type": "stream",
     "text": [
      "16949507576903346d3f4584_f7a5e79bc67d87ddc472e7e0_b1a19b9dea00df8df181e2ee\n"
     ]
    },
    {
     "data": {
      "text/plain": [
       "'num_processed: 1138/20845'"
      ]
     },
     "metadata": {},
     "output_type": "display_data"
    },
    {
     "name": "stdout",
     "output_type": "stream",
     "text": [
      "0bd163c7b07d3bb344e2d448_aea1c02eef92f30195572556_433c12f0e89f899edecb54b6\n"
     ]
    },
    {
     "data": {
      "text/plain": [
       "'num_processed: 1139/20845'"
      ]
     },
     "metadata": {},
     "output_type": "display_data"
    },
    {
     "name": "stdout",
     "output_type": "stream",
     "text": [
      "7b68c83dde22fd7b95b12b9e_d1d9f5f7de703e064aac7631_1dd102a624c15373b377284f\n"
     ]
    },
    {
     "data": {
      "text/plain": [
       "'num_processed: 1140/20845'"
      ]
     },
     "metadata": {},
     "output_type": "display_data"
    },
    {
     "name": "stdout",
     "output_type": "stream",
     "text": [
      "aa71817985e895a7de8b6b26_1c75dd3a247f7d2e93957964_c44ddc2ea4924c2884911008\n"
     ]
    },
    {
     "data": {
      "text/plain": [
       "'num_processed: 1141/20845'"
      ]
     },
     "metadata": {},
     "output_type": "display_data"
    },
    {
     "name": "stdout",
     "output_type": "stream",
     "text": [
      "dafb412fc7b2cad6af58ccff_143f6b32d4ab38cc55e6a7ee_418d2d59fcfe46696b844f91\n"
     ]
    },
    {
     "data": {
      "text/plain": [
       "'num_processed: 1142/20845'"
      ]
     },
     "metadata": {},
     "output_type": "display_data"
    },
    {
     "name": "stdout",
     "output_type": "stream",
     "text": [
      "cd45a97d05a58baf21681339_b749ac59d1af95897c675e53_37eaba4b12d351201f28a42c\n"
     ]
    },
    {
     "data": {
      "text/plain": [
       "'num_processed: 1143/20845'"
      ]
     },
     "metadata": {},
     "output_type": "display_data"
    },
    {
     "name": "stdout",
     "output_type": "stream",
     "text": [
      "4e90ea79d6c0264aa3d84898_afae11bfa5324241568d6312_7a25957ab5e14601d298f99f\n"
     ]
    },
    {
     "data": {
      "text/plain": [
       "'num_processed: 1144/20845'"
      ]
     },
     "metadata": {},
     "output_type": "display_data"
    },
    {
     "name": "stdout",
     "output_type": "stream",
     "text": [
      "586960ede1e238103bbeee52_46983467f5735df3cdaa813f_c85aef10158c77f08b0a0fdd\n"
     ]
    },
    {
     "data": {
      "text/plain": [
       "'num_processed: 1145/20845'"
      ]
     },
     "metadata": {},
     "output_type": "display_data"
    },
    {
     "name": "stdout",
     "output_type": "stream",
     "text": [
      "7296d38ffc33d9333407b4b1_cfe38889198853889eb0e2ab_94a7ba7891ae25eab77e8e3e\n"
     ]
    },
    {
     "data": {
      "text/plain": [
       "'num_processed: 1146/20845'"
      ]
     },
     "metadata": {},
     "output_type": "display_data"
    },
    {
     "name": "stdout",
     "output_type": "stream",
     "text": [
      "b2c7779ee099ab550ecdae43_4b071f7a150ede88213ebbde_25c9d23ca70ecf84d3e8d6b6\n"
     ]
    },
    {
     "data": {
      "text/plain": [
       "'num_processed: 1147/20845'"
      ]
     },
     "metadata": {},
     "output_type": "display_data"
    },
    {
     "name": "stdout",
     "output_type": "stream",
     "text": [
      "c4aa3b7b014cc56b5e25b1f7_5215f5417a19bf03bdfbc293_45ef6581c8f63d8ba9d179d7\n"
     ]
    },
    {
     "data": {
      "text/plain": [
       "'num_processed: 1148/20845'"
      ]
     },
     "metadata": {},
     "output_type": "display_data"
    },
    {
     "name": "stdout",
     "output_type": "stream",
     "text": [
      "cbb9ff909c4d03b9c852df90_3d5b15ef7bdf578977a5f254_6b60811801960f806d18ae33\n"
     ]
    },
    {
     "data": {
      "text/plain": [
       "'num_processed: 1149/20845'"
      ]
     },
     "metadata": {},
     "output_type": "display_data"
    },
    {
     "name": "stdout",
     "output_type": "stream",
     "text": [
      "588a1973a6227a0f81cd036c_92ea2ca3cbbdd6e84a0d3856_8ab02c377a54aac947528422\n"
     ]
    },
    {
     "data": {
      "text/plain": [
       "'num_processed: 1150/20845'"
      ]
     },
     "metadata": {},
     "output_type": "display_data"
    },
    {
     "name": "stdout",
     "output_type": "stream",
     "text": [
      "84be4b86046d3fec444a7447_e0055c0cd14cb22abbe04e59_29e3efa53c86f31b7c69c31d\n"
     ]
    },
    {
     "data": {
      "text/plain": [
       "'num_processed: 1151/20845'"
      ]
     },
     "metadata": {},
     "output_type": "display_data"
    },
    {
     "name": "stdout",
     "output_type": "stream",
     "text": [
      "cf2d67fbb3165284a74dce4b_9b69707d7208a63af993f226_1497dd1cf0ab18572a04fec2\n"
     ]
    },
    {
     "data": {
      "text/plain": [
       "'num_processed: 1152/20845'"
      ]
     },
     "metadata": {},
     "output_type": "display_data"
    },
    {
     "name": "stdout",
     "output_type": "stream",
     "text": [
      "161bb42c758a97700d6f0c34_9e2b9c1987eb11d976e6ef79_cd51c0a417d0ca1012611e98\n"
     ]
    },
    {
     "data": {
      "text/plain": [
       "'num_processed: 1153/20845'"
      ]
     },
     "metadata": {},
     "output_type": "display_data"
    },
    {
     "name": "stdout",
     "output_type": "stream",
     "text": [
      "77792c2948ef930b79d37102_479531e6008edb6f5e083105_da28f23372de1ba0a10b1865\n"
     ]
    },
    {
     "data": {
      "text/plain": [
       "'num_processed: 1154/20845'"
      ]
     },
     "metadata": {},
     "output_type": "display_data"
    },
    {
     "name": "stdout",
     "output_type": "stream",
     "text": [
      "b42f08a221ab2cb755c75ec4_5a8f411baf76bf501ab81c2d_4a7ce91cf88c1760080e7f8d\n"
     ]
    },
    {
     "data": {
      "text/plain": [
       "'num_processed: 1155/20845'"
      ]
     },
     "metadata": {},
     "output_type": "display_data"
    },
    {
     "name": "stdout",
     "output_type": "stream",
     "text": [
      "702e3e8704bfd72a7eaf1deb_fa1af4361934dfdd6d15963f_e07a4e644df80f5a7e63af9b\n"
     ]
    },
    {
     "data": {
      "text/plain": [
       "'num_processed: 1156/20845'"
      ]
     },
     "metadata": {},
     "output_type": "display_data"
    },
    {
     "name": "stdout",
     "output_type": "stream",
     "text": [
      "1a69c0b3357041273c08395b_ae1f4eda3bd2f4780dcd1d9d_9e35230fc394d6d48d4bb2fe\n"
     ]
    },
    {
     "data": {
      "text/plain": [
       "'num_processed: 1157/20845'"
      ]
     },
     "metadata": {},
     "output_type": "display_data"
    },
    {
     "name": "stdout",
     "output_type": "stream",
     "text": [
      "28ab3cc471b11e6386aa3ad2_80c5a9b4ada19481acd5671c_937d606291edb2f454c91985\n"
     ]
    },
    {
     "data": {
      "text/plain": [
       "'num_processed: 1158/20845'"
      ]
     },
     "metadata": {},
     "output_type": "display_data"
    },
    {
     "name": "stdout",
     "output_type": "stream",
     "text": [
      "66f0eb035ba2661a13a172a9_dd78ef4a09ff80f16efd77c3_fc440dcf30264ba21821793c\n"
     ]
    },
    {
     "data": {
      "text/plain": [
       "'num_processed: 1159/20845'"
      ]
     },
     "metadata": {},
     "output_type": "display_data"
    },
    {
     "name": "stdout",
     "output_type": "stream",
     "text": [
      "7bab47cac8b03042f0fee41e_74c2a524ead6b24f1086cb66_a9db07245b716023527d6289\n"
     ]
    },
    {
     "data": {
      "text/plain": [
       "'num_processed: 1160/20845'"
      ]
     },
     "metadata": {},
     "output_type": "display_data"
    },
    {
     "name": "stdout",
     "output_type": "stream",
     "text": [
      "2738b88fee948a1f936212f0_158befa4c9dcf2855671a321_c65c0f26f4a737a603a8d71b\n"
     ]
    },
    {
     "data": {
      "text/plain": [
       "'num_processed: 1161/20845'"
      ]
     },
     "metadata": {},
     "output_type": "display_data"
    },
    {
     "name": "stdout",
     "output_type": "stream",
     "text": [
      "791483072ff668c34e7a10b7_e74704ac6f1ccc3fdbd3c4e3_55a3f05d4aa36f57d72af837\n"
     ]
    },
    {
     "data": {
      "text/plain": [
       "'num_processed: 1162/20845'"
      ]
     },
     "metadata": {},
     "output_type": "display_data"
    },
    {
     "name": "stdout",
     "output_type": "stream",
     "text": [
      "ab0dc25f87761d1afec469f4_b354d2822a06af33dbc97f3e_c2064a0fcb545732dd735209\n"
     ]
    },
    {
     "data": {
      "text/plain": [
       "'num_processed: 1163/20845'"
      ]
     },
     "metadata": {},
     "output_type": "display_data"
    },
    {
     "name": "stdout",
     "output_type": "stream",
     "text": [
      "c83a5906896d18720e36ffab_b64b7f1d1fc7eb1f7a25fc6e_ef8cb813f2440712eea292be\n"
     ]
    },
    {
     "data": {
      "text/plain": [
       "'num_processed: 1164/20845'"
      ]
     },
     "metadata": {},
     "output_type": "display_data"
    },
    {
     "name": "stdout",
     "output_type": "stream",
     "text": [
      "c337f27ca41cd42af9ab811e_1d7dd1ad289f665b07759316_b7b07fddedd5e907b9d0eab6\n"
     ]
    },
    {
     "data": {
      "text/plain": [
       "'num_processed: 1165/20845'"
      ]
     },
     "metadata": {},
     "output_type": "display_data"
    },
    {
     "name": "stdout",
     "output_type": "stream",
     "text": [
      "5937d44826c4bd0c068d0f34_f0d1575fe59e471cd080ef59_5c9cff0e06e1bc272b9b07e0\n"
     ]
    },
    {
     "data": {
      "text/plain": [
       "'num_processed: 1166/20845'"
      ]
     },
     "metadata": {},
     "output_type": "display_data"
    },
    {
     "name": "stdout",
     "output_type": "stream",
     "text": [
      "1b73865fee6c7fec2a766d53_7fa22a84f6f9c7e5dc9c4963_6c7e751a02071c58b5c53bc5\n"
     ]
    },
    {
     "data": {
      "text/plain": [
       "'num_processed: 1167/20845'"
      ]
     },
     "metadata": {},
     "output_type": "display_data"
    },
    {
     "name": "stdout",
     "output_type": "stream",
     "text": [
      "0d6cd55486b16941a6904d93_1e7b220f36f31cc4b57a8a39_f5e13cd5f44c7c0294095eb1\n"
     ]
    },
    {
     "data": {
      "text/plain": [
       "'num_processed: 1168/20845'"
      ]
     },
     "metadata": {},
     "output_type": "display_data"
    },
    {
     "name": "stdout",
     "output_type": "stream",
     "text": [
      "c059fc71bfda44f0dc33521d_0f6809492155cdef24065241_961078c8e0abc467ff5a32ea\n",
      "ERROR TRASFORMING!\n",
      "ERROR TRASFORMING!\n",
      "ERROR TRASFORMING!\n",
      "ERROR TRASFORMING!\n",
      "ERROR TRASFORMING!\n",
      "ERROR TRASFORMING!\n"
     ]
    },
    {
     "data": {
      "text/plain": [
       "'num_processed: 1169/20845'"
      ]
     },
     "metadata": {},
     "output_type": "display_data"
    },
    {
     "name": "stdout",
     "output_type": "stream",
     "text": [
      "7719bd9ababd745c06cca609_bfc22fdb8bf9787d389fa5a2_9a57443e17bc93855f467dba\n"
     ]
    },
    {
     "data": {
      "text/plain": [
       "'num_processed: 1170/20845'"
      ]
     },
     "metadata": {},
     "output_type": "display_data"
    },
    {
     "name": "stdout",
     "output_type": "stream",
     "text": [
      "7af1cbedafd6883ea3e0fc1c_526e7de8d3f987bf9c6330bd_ee981223edd15ca17cf5379c\n"
     ]
    },
    {
     "data": {
      "text/plain": [
       "'num_processed: 1171/20845'"
      ]
     },
     "metadata": {},
     "output_type": "display_data"
    },
    {
     "name": "stdout",
     "output_type": "stream",
     "text": [
      "c6570e9096052fe8f04cf667_ec151a377b972e35cac1e0f6_bfdeb7e44079b8548202dfee\n"
     ]
    },
    {
     "data": {
      "text/plain": [
       "'num_processed: 1172/20845'"
      ]
     },
     "metadata": {},
     "output_type": "display_data"
    },
    {
     "name": "stdout",
     "output_type": "stream",
     "text": [
      "e12d409e416f9518b0a9049c_d4d62d9e33aba4b65c6cd117_e5e92186a92c0526d0af039f\n"
     ]
    },
    {
     "data": {
      "text/plain": [
       "'num_processed: 1173/20845'"
      ]
     },
     "metadata": {},
     "output_type": "display_data"
    },
    {
     "name": "stdout",
     "output_type": "stream",
     "text": [
      "7cc954cdf3f4d1e0b9dc3cbc_97aa92958ec32ccf19f07333_091bd386b1f57e2b3be10404\n"
     ]
    },
    {
     "data": {
      "text/plain": [
       "'num_processed: 1174/20845'"
      ]
     },
     "metadata": {},
     "output_type": "display_data"
    },
    {
     "name": "stdout",
     "output_type": "stream",
     "text": [
      "dfc5ad9e3d75b9e94b9e63fa_5f199412dcc17660a4bd97d6_5d369094b40ae68a9a9a7eb1\n"
     ]
    },
    {
     "data": {
      "text/plain": [
       "'num_processed: 1175/20845'"
      ]
     },
     "metadata": {},
     "output_type": "display_data"
    },
    {
     "name": "stdout",
     "output_type": "stream",
     "text": [
      "312b7ef7d2c4effc7125ebf2_5d677846ae5744c3449b165a_1c90cf0bf86bdf1481ee1336\n"
     ]
    },
    {
     "data": {
      "text/plain": [
       "'num_processed: 1176/20845'"
      ]
     },
     "metadata": {},
     "output_type": "display_data"
    },
    {
     "name": "stdout",
     "output_type": "stream",
     "text": [
      "1ced99a14d486d8228b7dc2e_0ed5099199674f1ecb70590b_d1374a77a15701ba263e3009\n"
     ]
    },
    {
     "data": {
      "text/plain": [
       "'num_processed: 1177/20845'"
      ]
     },
     "metadata": {},
     "output_type": "display_data"
    },
    {
     "name": "stdout",
     "output_type": "stream",
     "text": [
      "3e7a231920cf7d42b61dd60c_355474ea68b9b99b037c6c7c_05e5662b99badfeef1052398\n"
     ]
    },
    {
     "data": {
      "text/plain": [
       "'num_processed: 1178/20845'"
      ]
     },
     "metadata": {},
     "output_type": "display_data"
    },
    {
     "name": "stdout",
     "output_type": "stream",
     "text": [
      "0ff1262ee060d1eddebbaa50_ca10b4f0ff19b5957f964935_6322cf589b9628ffcbb24a7a\n"
     ]
    },
    {
     "data": {
      "text/plain": [
       "'num_processed: 1179/20845'"
      ]
     },
     "metadata": {},
     "output_type": "display_data"
    },
    {
     "name": "stdout",
     "output_type": "stream",
     "text": [
      "4184e7273f5ba2d8f014e61e_df3d347cc6145d577c48cc68_922ebd609ed49059f8566e5d\n"
     ]
    },
    {
     "data": {
      "text/plain": [
       "'num_processed: 1180/20845'"
      ]
     },
     "metadata": {},
     "output_type": "display_data"
    },
    {
     "name": "stdout",
     "output_type": "stream",
     "text": [
      "ef98ebe4ff8bcb612064e41b_7e2166e5259f1f571844ffc8_a4328c37700bd704bc1b7a2b\n"
     ]
    },
    {
     "data": {
      "text/plain": [
       "'num_processed: 1181/20845'"
      ]
     },
     "metadata": {},
     "output_type": "display_data"
    },
    {
     "name": "stdout",
     "output_type": "stream",
     "text": [
      "f181be786a4bc158022028e3_b443b91020d036cd8f0e063d_9c22f578d8169ad98d996355\n"
     ]
    },
    {
     "data": {
      "text/plain": [
       "'num_processed: 1182/20845'"
      ]
     },
     "metadata": {},
     "output_type": "display_data"
    },
    {
     "name": "stdout",
     "output_type": "stream",
     "text": [
      "21b8dea61bafddbc52850ebb_b94c68b5b53467972d378f13_e09aed73ebf2d29d1221e5f7\n"
     ]
    },
    {
     "data": {
      "text/plain": [
       "'num_processed: 1183/20845'"
      ]
     },
     "metadata": {},
     "output_type": "display_data"
    },
    {
     "name": "stdout",
     "output_type": "stream",
     "text": [
      "db7f1b6b93ea78df74a11a02_ac8bc814b623bdf694df6654_268719793020d7f4396073fa\n"
     ]
    },
    {
     "data": {
      "text/plain": [
       "'num_processed: 1184/20845'"
      ]
     },
     "metadata": {},
     "output_type": "display_data"
    },
    {
     "name": "stdout",
     "output_type": "stream",
     "text": [
      "a342af2790e9be99c2f90a60_1fd8ae775e0d51bc1adb6fcf_fd7c6d337043da0a6b4ac1d2\n"
     ]
    },
    {
     "data": {
      "text/plain": [
       "'num_processed: 1185/20845'"
      ]
     },
     "metadata": {},
     "output_type": "display_data"
    },
    {
     "name": "stdout",
     "output_type": "stream",
     "text": [
      "85f8530ddcab9c28735bf25a_c369c30fd7164f6d6a5d903f_35d46479008159df7c7529e8\n"
     ]
    },
    {
     "data": {
      "text/plain": [
       "'num_processed: 1186/20845'"
      ]
     },
     "metadata": {},
     "output_type": "display_data"
    },
    {
     "name": "stdout",
     "output_type": "stream",
     "text": [
      "88398c4c87e8ca00b4486c8d_b09dcb548638745970d8056b_6f7c10ebc8bd4fa64a6c1344\n"
     ]
    },
    {
     "data": {
      "text/plain": [
       "'num_processed: 1187/20845'"
      ]
     },
     "metadata": {},
     "output_type": "display_data"
    },
    {
     "name": "stdout",
     "output_type": "stream",
     "text": [
      "db7b61816df5e0b1a23e1688_5dfb86706aa5eb0ac12c6ca2_30ab0a76f7cd8dcf9033fb0c\n"
     ]
    },
    {
     "data": {
      "text/plain": [
       "'num_processed: 1188/20845'"
      ]
     },
     "metadata": {},
     "output_type": "display_data"
    },
    {
     "name": "stdout",
     "output_type": "stream",
     "text": [
      "7bf04f489cba441a2c418f30_6e2efef10f35d321902ca47b_6c23483292fbbd000ecb8efc\n"
     ]
    },
    {
     "data": {
      "text/plain": [
       "'num_processed: 1189/20845'"
      ]
     },
     "metadata": {},
     "output_type": "display_data"
    },
    {
     "name": "stdout",
     "output_type": "stream",
     "text": [
      "1ab741c06c0930c40bab3972_9d4945ec648f2fdca2b9b578_18b07b595de9dbc8269bfd10\n"
     ]
    },
    {
     "data": {
      "text/plain": [
       "'num_processed: 1190/20845'"
      ]
     },
     "metadata": {},
     "output_type": "display_data"
    },
    {
     "name": "stdout",
     "output_type": "stream",
     "text": [
      "3338d2fe1048444f110e0ea9_99e375fe516686f4a383940c_0b7e6761f4208391d63d3994\n"
     ]
    },
    {
     "data": {
      "text/plain": [
       "'num_processed: 1191/20845'"
      ]
     },
     "metadata": {},
     "output_type": "display_data"
    },
    {
     "name": "stdout",
     "output_type": "stream",
     "text": [
      "647366e90ce3517f586f9e0e_4c15c7eff89c28e8d005627f_a5251a6429127a56bd2e598e\n",
      "ERROR TRASFORMING!\n",
      "ERROR TRASFORMING!\n"
     ]
    },
    {
     "data": {
      "text/plain": [
       "'num_processed: 1192/20845'"
      ]
     },
     "metadata": {},
     "output_type": "display_data"
    },
    {
     "name": "stdout",
     "output_type": "stream",
     "text": [
      "1d3e009619134669d14de5b5_d00f62960d558572eded2625_391593b5016fe247f258c51a\n"
     ]
    },
    {
     "data": {
      "text/plain": [
       "'num_processed: 1193/20845'"
      ]
     },
     "metadata": {},
     "output_type": "display_data"
    },
    {
     "name": "stdout",
     "output_type": "stream",
     "text": [
      "7e4bccbc1ac8fb920c3ad348_d1472018e226d60c7b15e567_a09ddf2e15761b6a34bf8f1c\n"
     ]
    },
    {
     "data": {
      "text/plain": [
       "'num_processed: 1194/20845'"
      ]
     },
     "metadata": {},
     "output_type": "display_data"
    },
    {
     "name": "stdout",
     "output_type": "stream",
     "text": [
      "356c31c0cb635b977901fba2_40fe07c98a6fe8e99850283a_a8111e011bcf683f86fcde30\n"
     ]
    },
    {
     "data": {
      "text/plain": [
       "'num_processed: 1195/20845'"
      ]
     },
     "metadata": {},
     "output_type": "display_data"
    },
    {
     "name": "stdout",
     "output_type": "stream",
     "text": [
      "e9470e35b27accc2845971fd_05620eddced4cd9fc7cfb51e_a949aba0592f22490faca90f\n"
     ]
    },
    {
     "data": {
      "text/plain": [
       "'num_processed: 1196/20845'"
      ]
     },
     "metadata": {},
     "output_type": "display_data"
    },
    {
     "name": "stdout",
     "output_type": "stream",
     "text": [
      "c73bb711c588f4bfd6adc103_c35c6f2493a7495e129e1128_a49ef390ce579542bab4873d\n"
     ]
    },
    {
     "data": {
      "text/plain": [
       "'num_processed: 1197/20845'"
      ]
     },
     "metadata": {},
     "output_type": "display_data"
    },
    {
     "name": "stdout",
     "output_type": "stream",
     "text": [
      "587bb71b7975311728eb2cce_418fac060caa612cfe8afb3b_629f914789401310a46339ce\n",
      "ERROR TRASFORMING!\n"
     ]
    },
    {
     "data": {
      "text/plain": [
       "'num_processed: 1198/20845'"
      ]
     },
     "metadata": {},
     "output_type": "display_data"
    },
    {
     "name": "stdout",
     "output_type": "stream",
     "text": [
      "576eae88e4b0cc2e7f46e0bd_d6ce1c9b99e044640d5c6ecb_5e4a609041654e0440585921\n"
     ]
    },
    {
     "data": {
      "text/plain": [
       "'num_processed: 1199/20845'"
      ]
     },
     "metadata": {},
     "output_type": "display_data"
    },
    {
     "name": "stdout",
     "output_type": "stream",
     "text": [
      "ae391e15d87ad7c61a83fb1d_8e8b662c41918d0f5ec30141_0cb594c8c474892e20c3d05d\n"
     ]
    },
    {
     "data": {
      "text/plain": [
       "'num_processed: 1200/20845'"
      ]
     },
     "metadata": {},
     "output_type": "display_data"
    },
    {
     "name": "stdout",
     "output_type": "stream",
     "text": [
      "400a827db9887ad4ac641a8f_974e64cea1cd8dd348997ead_46f244e9b43db8f9eb0284fa\n"
     ]
    },
    {
     "data": {
      "text/plain": [
       "'num_processed: 1201/20845'"
      ]
     },
     "metadata": {},
     "output_type": "display_data"
    },
    {
     "name": "stdout",
     "output_type": "stream",
     "text": [
      "7980dff6b1c0a0a204418d6c_dbfc747d57a18d17069e9238_6db2b1a4a6dd65b605e9183f\n"
     ]
    },
    {
     "data": {
      "text/plain": [
       "'num_processed: 1202/20845'"
      ]
     },
     "metadata": {},
     "output_type": "display_data"
    },
    {
     "name": "stdout",
     "output_type": "stream",
     "text": [
      "577ac5941deb3465471a919d_3724126e5f147012e07a1a13_93753f05465cd6aa3c80def0\n"
     ]
    },
    {
     "data": {
      "text/plain": [
       "'num_processed: 1203/20845'"
      ]
     },
     "metadata": {},
     "output_type": "display_data"
    },
    {
     "name": "stdout",
     "output_type": "stream",
     "text": [
      "f0b93bada1ca6c86ca1d75e3_f59f6ddabf8212749c92cf44_780d69a51d29a6348c05ce0d\n"
     ]
    },
    {
     "data": {
      "text/plain": [
       "'num_processed: 1204/20845'"
      ]
     },
     "metadata": {},
     "output_type": "display_data"
    },
    {
     "name": "stdout",
     "output_type": "stream",
     "text": [
      "32995ded5193d3de2673d3a3_5ecac468c4b22a3d0fead170_a8f5b1f185353de9aab510cc\n"
     ]
    },
    {
     "data": {
      "text/plain": [
       "'num_processed: 1205/20845'"
      ]
     },
     "metadata": {},
     "output_type": "display_data"
    },
    {
     "name": "stdout",
     "output_type": "stream",
     "text": [
      "5713e079e4b03a132a87ddbf_33a2f79095644f7e9339193d_d807af7317ee8606b6ebc14e\n"
     ]
    },
    {
     "data": {
      "text/plain": [
       "'num_processed: 1206/20845'"
      ]
     },
     "metadata": {},
     "output_type": "display_data"
    },
    {
     "name": "stdout",
     "output_type": "stream",
     "text": [
      "2d5add44a4d8c01e8b92f895_13130dbfd9db114dbec4663f_60b5c87048a19313abb4a5b0\n",
      "ERROR TRASFORMING!\n"
     ]
    },
    {
     "data": {
      "text/plain": [
       "'num_processed: 1207/20845'"
      ]
     },
     "metadata": {},
     "output_type": "display_data"
    },
    {
     "name": "stdout",
     "output_type": "stream",
     "text": [
      "28e0e9d0ef076e20f8a9f6d7_c272a205f63bddfe5745be00_c0ef0f10b28ede5d833e37fa\n"
     ]
    },
    {
     "data": {
      "text/plain": [
       "'num_processed: 1208/20845'"
      ]
     },
     "metadata": {},
     "output_type": "display_data"
    },
    {
     "name": "stdout",
     "output_type": "stream",
     "text": [
      "6f0fa7318e4cc2bee7c2d771_0dd5d3ca386c636dd9d2dc51_a95c4c91da6ef880409ffa7e\n"
     ]
    },
    {
     "data": {
      "text/plain": [
       "'num_processed: 1209/20845'"
      ]
     },
     "metadata": {},
     "output_type": "display_data"
    },
    {
     "name": "stdout",
     "output_type": "stream",
     "text": [
      "8198c3f3055ed7366bb7b684_b53518fa93a321dc812ff7ca_e46903cf35e6a76d08a183ef\n"
     ]
    },
    {
     "data": {
      "text/plain": [
       "'num_processed: 1210/20845'"
      ]
     },
     "metadata": {},
     "output_type": "display_data"
    },
    {
     "name": "stdout",
     "output_type": "stream",
     "text": [
      "c07cde0b4314c6cd4972f0c6_64a147b177cbbf67f9c473f1_4bf9433a913be7d439199e22\n"
     ]
    },
    {
     "data": {
      "text/plain": [
       "'num_processed: 1211/20845'"
      ]
     },
     "metadata": {},
     "output_type": "display_data"
    },
    {
     "name": "stdout",
     "output_type": "stream",
     "text": [
      "edecee85cb1ecf006407d9c8_c334e1579d87b4647522e86e_35bd414f39912a8149d480cc\n"
     ]
    },
    {
     "data": {
      "text/plain": [
       "'num_processed: 1212/20845'"
      ]
     },
     "metadata": {},
     "output_type": "display_data"
    },
    {
     "name": "stdout",
     "output_type": "stream",
     "text": [
      "58c5c1ad786ec50fe9e120f1_d5abc1e37185c830b71acca8_22a6e30be7f4d7af78001d82\n"
     ]
    },
    {
     "data": {
      "text/plain": [
       "'num_processed: 1213/20845'"
      ]
     },
     "metadata": {},
     "output_type": "display_data"
    },
    {
     "name": "stdout",
     "output_type": "stream",
     "text": [
      "356cdebafde0195ef6093f10_12718f41526a40848eb20446_30a192a053a49f25163c7e6e\n"
     ]
    },
    {
     "data": {
      "text/plain": [
       "'num_processed: 1214/20845'"
      ]
     },
     "metadata": {},
     "output_type": "display_data"
    },
    {
     "name": "stdout",
     "output_type": "stream",
     "text": [
      "1711494d0a63783813959edb_b5ad40dc597a5f2db91d5a8c_88d309b2b9579bf31222f712\n"
     ]
    },
    {
     "data": {
      "text/plain": [
       "'num_processed: 1215/20845'"
      ]
     },
     "metadata": {},
     "output_type": "display_data"
    },
    {
     "name": "stdout",
     "output_type": "stream",
     "text": [
      "059514383d4366eb2af8b883_b57273b5338a34d4a97932e4_8b157777df67a8708e81be84\n"
     ]
    },
    {
     "data": {
      "text/plain": [
       "'num_processed: 1216/20845'"
      ]
     },
     "metadata": {},
     "output_type": "display_data"
    },
    {
     "name": "stdout",
     "output_type": "stream",
     "text": [
      "c19f1956bc1e10557bb5f91f_217b992b87bb6a8c0d96b853_268fa5972a71b47c0b9a5434\n"
     ]
    },
    {
     "data": {
      "text/plain": [
       "'num_processed: 1217/20845'"
      ]
     },
     "metadata": {},
     "output_type": "display_data"
    },
    {
     "name": "stdout",
     "output_type": "stream",
     "text": [
      "c7935cb22787f4b863f6a29a_842a85f23b16bb5886b14f22_bc29e0cf9cb01026d8600c36\n"
     ]
    },
    {
     "data": {
      "text/plain": [
       "'num_processed: 1218/20845'"
      ]
     },
     "metadata": {},
     "output_type": "display_data"
    },
    {
     "name": "stdout",
     "output_type": "stream",
     "text": [
      "4ef6adb6915e6fc210d83e74_a25a983fd80ac37bdfc6d555_3aeb8c151a62cd58090ed0c7\n"
     ]
    },
    {
     "data": {
      "text/plain": [
       "'num_processed: 1219/20845'"
      ]
     },
     "metadata": {},
     "output_type": "display_data"
    },
    {
     "name": "stdout",
     "output_type": "stream",
     "text": [
      "88e7fbea31ae11ab2669a46a_f099ea038c053678ee0fa8b0_51ab2875c96b3307dfb8e2c7\n",
      "EROR IN process_axial - PK_SURF_ask_uvboxERROR TRASFORMING!\n",
      "ERROR TRASFORMING!\n",
      "ERROR TRASFORMING!\n",
      "ERROR TRASFORMING!\n",
      "ERROR TRASFORMING!\n",
      "ERROR TRASFORMING!\n",
      "ERROR TRASFORMING!\n",
      "ERROR TRASFORMING!\n"
     ]
    },
    {
     "data": {
      "text/plain": [
       "'num_processed: 1220/20845'"
      ]
     },
     "metadata": {},
     "output_type": "display_data"
    },
    {
     "name": "stdout",
     "output_type": "stream",
     "text": [
      "c35bab6ec05d4d572ee69032_1a4b49390d2ae583a92b8c1d_1bc4656502682acaeb8e5867\n"
     ]
    },
    {
     "data": {
      "text/plain": [
       "'num_processed: 1221/20845'"
      ]
     },
     "metadata": {},
     "output_type": "display_data"
    },
    {
     "name": "stdout",
     "output_type": "stream",
     "text": [
      "6b8fbff01c399549530d4626_f9efbaac698a7c7863a4e728_84fbd222b6d9bab658f945ae\n"
     ]
    },
    {
     "data": {
      "text/plain": [
       "'num_processed: 1222/20845'"
      ]
     },
     "metadata": {},
     "output_type": "display_data"
    },
    {
     "name": "stdout",
     "output_type": "stream",
     "text": [
      "57da03b243da8c1138a7f41b_f7d5cad60363728500afadd9_ba6215f337967f3b8d213d63\n"
     ]
    },
    {
     "data": {
      "text/plain": [
       "'num_processed: 1223/20845'"
      ]
     },
     "metadata": {},
     "output_type": "display_data"
    },
    {
     "name": "stdout",
     "output_type": "stream",
     "text": [
      "7159d1750ea2666961c57ec7_14577f09526f8d8afcfdeee1_9d6401db3a2be7f4fc0ca827\n"
     ]
    },
    {
     "data": {
      "text/plain": [
       "'num_processed: 1224/20845'"
      ]
     },
     "metadata": {},
     "output_type": "display_data"
    },
    {
     "name": "stdout",
     "output_type": "stream",
     "text": [
      "f0b0ee585243fc324262bffa_4aacb06a8bfdb7921f276c4b_59acd45e3fd6ee0bc5e57f0e\n"
     ]
    },
    {
     "data": {
      "text/plain": [
       "'num_processed: 1225/20845'"
      ]
     },
     "metadata": {},
     "output_type": "display_data"
    },
    {
     "name": "stdout",
     "output_type": "stream",
     "text": [
      "319a0a1a42e882fedcb59875_99c81e94b76c46a6783caa57_1723041e890259e9bbd3d1a7\n"
     ]
    },
    {
     "data": {
      "text/plain": [
       "'num_processed: 1226/20845'"
      ]
     },
     "metadata": {},
     "output_type": "display_data"
    },
    {
     "name": "stdout",
     "output_type": "stream",
     "text": [
      "947470adcd1b28614c084cf2_da60a4c69116d34818ee3938_5bb0b058e929dbbb7d8c3046\n"
     ]
    },
    {
     "data": {
      "text/plain": [
       "'num_processed: 1227/20845'"
      ]
     },
     "metadata": {},
     "output_type": "display_data"
    },
    {
     "name": "stdout",
     "output_type": "stream",
     "text": [
      "d83a56ee052b3c24fd26c0ad_f81b4d5df06a11ab86f89dd4_f1223e1df10b618726d8249c\n"
     ]
    },
    {
     "data": {
      "text/plain": [
       "'num_processed: 1228/20845'"
      ]
     },
     "metadata": {},
     "output_type": "display_data"
    },
    {
     "name": "stdout",
     "output_type": "stream",
     "text": [
      "a90ae2f1efa747e160926135_14f66165e314c843d452bbb4_ebed6343180596c71dd3f22a\n"
     ]
    },
    {
     "data": {
      "text/plain": [
       "'num_processed: 1229/20845'"
      ]
     },
     "metadata": {},
     "output_type": "display_data"
    },
    {
     "name": "stdout",
     "output_type": "stream",
     "text": [
      "c1769d55871e4a575e4b7da8_cd068d3e8ce10387ee2ab11d_651bdaf2e4badfd0f21a8232\n"
     ]
    },
    {
     "data": {
      "text/plain": [
       "'num_processed: 1230/20845'"
      ]
     },
     "metadata": {},
     "output_type": "display_data"
    },
    {
     "name": "stdout",
     "output_type": "stream",
     "text": [
      "79b082a1ee86f93df5ce2e64_657656f8ec16ec70827bf99f_1751fa7d288c3759012c70a9\n",
      "ERROR TRASFORMING!\n"
     ]
    },
    {
     "data": {
      "text/plain": [
       "'num_processed: 1231/20845'"
      ]
     },
     "metadata": {},
     "output_type": "display_data"
    },
    {
     "name": "stdout",
     "output_type": "stream",
     "text": [
      "2b89ed1409e1ff9332a95516_438819a9460aa7330cba006d_00e58231a5f37f09c50cb23d\n"
     ]
    },
    {
     "data": {
      "text/plain": [
       "'num_processed: 1232/20845'"
      ]
     },
     "metadata": {},
     "output_type": "display_data"
    },
    {
     "name": "stdout",
     "output_type": "stream",
     "text": [
      "5872da38ab2ab31770269d63_e2bdc1161aeac6f8a6cd12ab_18711417efd7fe2ac85aa05c\n"
     ]
    },
    {
     "data": {
      "text/plain": [
       "'num_processed: 1233/20845'"
      ]
     },
     "metadata": {},
     "output_type": "display_data"
    },
    {
     "name": "stdout",
     "output_type": "stream",
     "text": [
      "c7264ac7744a24ae1076cf2b_165cf948e686854ffe86c262_f8195743a22542156ce0c40d\n"
     ]
    },
    {
     "data": {
      "text/plain": [
       "'num_processed: 1234/20845'"
      ]
     },
     "metadata": {},
     "output_type": "display_data"
    },
    {
     "name": "stdout",
     "output_type": "stream",
     "text": [
      "02c43cb56793e98ccd256cb3_e52340683942bf281b55c4c7_788ef5df8cd26467a74d0f57\n"
     ]
    },
    {
     "data": {
      "text/plain": [
       "'num_processed: 1235/20845'"
      ]
     },
     "metadata": {},
     "output_type": "display_data"
    },
    {
     "name": "stdout",
     "output_type": "stream",
     "text": [
      "75bccb54959269e4f758cbf6_d66a2876939f079c487f3920_031a146800a843adbc468fe2\n"
     ]
    },
    {
     "data": {
      "text/plain": [
       "'num_processed: 1236/20845'"
      ]
     },
     "metadata": {},
     "output_type": "display_data"
    },
    {
     "name": "stdout",
     "output_type": "stream",
     "text": [
      "4aa8d093090ef0cce2ab9b23_b689f35c7babd6ac10cde431_89adfc6bf4ac56192d58a324\n"
     ]
    },
    {
     "data": {
      "text/plain": [
       "'num_processed: 1237/20845'"
      ]
     },
     "metadata": {},
     "output_type": "display_data"
    },
    {
     "name": "stdout",
     "output_type": "stream",
     "text": [
      "e914a53fcf63d02ec8596698_7dc2214cf130955739b12880_deb48afa7d8a4e8d298484f0\n"
     ]
    },
    {
     "data": {
      "text/plain": [
       "'num_processed: 1238/20845'"
      ]
     },
     "metadata": {},
     "output_type": "display_data"
    },
    {
     "name": "stdout",
     "output_type": "stream",
     "text": [
      "3a4f4f134e06e03fc7ef7b4c_9edd14ab9e7c2835cdcddc97_cbe30f0af0f442124e848ac8\n"
     ]
    },
    {
     "data": {
      "text/plain": [
       "'num_processed: 1239/20845'"
      ]
     },
     "metadata": {},
     "output_type": "display_data"
    },
    {
     "name": "stdout",
     "output_type": "stream",
     "text": [
      "45eedc46c559c1ef4d02c160_8e2e0597b27ff95291dfe108_eddaf6125317ecc810d7d840\n"
     ]
    },
    {
     "data": {
      "text/plain": [
       "'num_processed: 1240/20845'"
      ]
     },
     "metadata": {},
     "output_type": "display_data"
    },
    {
     "name": "stdout",
     "output_type": "stream",
     "text": [
      "9df831ee55d49dda0713fc7a_251042d0ed7a3d4d2989d8f2_84e42069da8ff3941c96dc16\n"
     ]
    },
    {
     "data": {
      "text/plain": [
       "'num_processed: 1241/20845'"
      ]
     },
     "metadata": {},
     "output_type": "display_data"
    },
    {
     "name": "stdout",
     "output_type": "stream",
     "text": [
      "43877a2892892535279ae968_73841979a636c44261b6aa1a_95d41bfb6ff9d7206c40b3cd\n"
     ]
    },
    {
     "data": {
      "text/plain": [
       "'num_processed: 1242/20845'"
      ]
     },
     "metadata": {},
     "output_type": "display_data"
    },
    {
     "name": "stdout",
     "output_type": "stream",
     "text": [
      "2b18115fb19161644a4261aa_d64a3fba8eb8dab4d48adccc_539a218cd8d161de1c48c9ae\n"
     ]
    },
    {
     "data": {
      "text/plain": [
       "'num_processed: 1243/20845'"
      ]
     },
     "metadata": {},
     "output_type": "display_data"
    },
    {
     "name": "stdout",
     "output_type": "stream",
     "text": [
      "de0155b7acbdde81620c0779_c23e613e49df9b61c54991d3_11b50d2755721e251405d166\n"
     ]
    },
    {
     "data": {
      "text/plain": [
       "'num_processed: 1244/20845'"
      ]
     },
     "metadata": {},
     "output_type": "display_data"
    },
    {
     "name": "stdout",
     "output_type": "stream",
     "text": [
      "3184f64db5c5050802255eb5_4ccf7a301435db72579f0bc4_017c43cef2a1cbf7aef94e21\n"
     ]
    },
    {
     "data": {
      "text/plain": [
       "'num_processed: 1245/20845'"
      ]
     },
     "metadata": {},
     "output_type": "display_data"
    },
    {
     "name": "stdout",
     "output_type": "stream",
     "text": [
      "57a25450e4b05a9dd4f9c133_dbcfbae9c7678e824d49bed4_672a6f8d14b207bc9c57c50f\n"
     ]
    },
    {
     "data": {
      "text/plain": [
       "'num_processed: 1246/20845'"
      ]
     },
     "metadata": {},
     "output_type": "display_data"
    },
    {
     "name": "stdout",
     "output_type": "stream",
     "text": [
      "7f03fe68753f6cea816587b2_f52518d7be16f4c55a59a467_d0a5f1dec5fddc5d006b8b93\n"
     ]
    },
    {
     "data": {
      "text/plain": [
       "'num_processed: 1247/20845'"
      ]
     },
     "metadata": {},
     "output_type": "display_data"
    },
    {
     "name": "stdout",
     "output_type": "stream",
     "text": [
      "54b17bb94e9e6d761e484a84_b8a347799f7928f215d4b310_8503e0bb1acd4d77687680ff\n"
     ]
    },
    {
     "data": {
      "text/plain": [
       "'num_processed: 1248/20845'"
      ]
     },
     "metadata": {},
     "output_type": "display_data"
    },
    {
     "name": "stdout",
     "output_type": "stream",
     "text": [
      "951a18aab9140d421393d4da_8716ac858aa4eebbfbadc237_4a847af64b9da440d34de6dd\n"
     ]
    },
    {
     "data": {
      "text/plain": [
       "'num_processed: 1249/20845'"
      ]
     },
     "metadata": {},
     "output_type": "display_data"
    },
    {
     "name": "stdout",
     "output_type": "stream",
     "text": [
      "e892af5d0a58935b673a7ce4_fb439525fc3f2d5a18dc673c_2ccf0d608a37a3284ef0797d\n"
     ]
    },
    {
     "data": {
      "text/plain": [
       "'num_processed: 1250/20845'"
      ]
     },
     "metadata": {},
     "output_type": "display_data"
    },
    {
     "name": "stdout",
     "output_type": "stream",
     "text": [
      "1fe0e426c208854fdc118e2b_6999486ea38927c7e556b1cc_59de1d0b1ffd75aacb90b696\n"
     ]
    },
    {
     "data": {
      "text/plain": [
       "'num_processed: 1251/20845'"
      ]
     },
     "metadata": {},
     "output_type": "display_data"
    },
    {
     "name": "stdout",
     "output_type": "stream",
     "text": [
      "afabfc9662e782d1b695a378_909a798b551669e271697ef5_a9fa757c2bb012634ffd038f\n"
     ]
    },
    {
     "data": {
      "text/plain": [
       "'num_processed: 1252/20845'"
      ]
     },
     "metadata": {},
     "output_type": "display_data"
    },
    {
     "name": "stdout",
     "output_type": "stream",
     "text": [
      "697a971aae5ab11ec3bdec1d_2587157ae7cb676efbec2386_a0f7695c666692a966e9fb07\n"
     ]
    },
    {
     "data": {
      "text/plain": [
       "'num_processed: 1253/20845'"
      ]
     },
     "metadata": {},
     "output_type": "display_data"
    },
    {
     "name": "stdout",
     "output_type": "stream",
     "text": [
      "4739cdf139927c59dd100a8d_95bed66bda0b80f725c947fc_103b427b81f18f8bd967ed64\n"
     ]
    },
    {
     "data": {
      "text/plain": [
       "'num_processed: 1254/20845'"
      ]
     },
     "metadata": {},
     "output_type": "display_data"
    },
    {
     "name": "stdout",
     "output_type": "stream",
     "text": [
      "beb9a9fb65a14e9192ab81ec_15018834d625ca80ead0c3eb_0edff30215e1cf0f33452048\n"
     ]
    },
    {
     "data": {
      "text/plain": [
       "'num_processed: 1255/20845'"
      ]
     },
     "metadata": {},
     "output_type": "display_data"
    },
    {
     "name": "stdout",
     "output_type": "stream",
     "text": [
      "19bb58027fcb700239fb3a34_063527237e9bb1b61dbcb82b_69a55c9ec7d6c64f46869815\n"
     ]
    },
    {
     "data": {
      "text/plain": [
       "'num_processed: 1256/20845'"
      ]
     },
     "metadata": {},
     "output_type": "display_data"
    },
    {
     "name": "stdout",
     "output_type": "stream",
     "text": [
      "b2bc3a58f8e06ee594ab17a0_8b2e5238b210115c7a31d79b_3d9c6c3b6eb81edd1d405eb0\n"
     ]
    },
    {
     "data": {
      "text/plain": [
       "'num_processed: 1257/20845'"
      ]
     },
     "metadata": {},
     "output_type": "display_data"
    },
    {
     "name": "stdout",
     "output_type": "stream",
     "text": [
      "b56dfd0203b0518644fab347_751ff4259075dbbd715c77b8_d19d324c57cfb6120740d57c\n"
     ]
    },
    {
     "data": {
      "text/plain": [
       "'num_processed: 1258/20845'"
      ]
     },
     "metadata": {},
     "output_type": "display_data"
    },
    {
     "name": "stdout",
     "output_type": "stream",
     "text": [
      "84624560e2cd1bf27200b389_c3de5b2e94715dace33170e5_532061390926c9e3c1f16d5c\n"
     ]
    },
    {
     "data": {
      "text/plain": [
       "'num_processed: 1259/20845'"
      ]
     },
     "metadata": {},
     "output_type": "display_data"
    },
    {
     "name": "stdout",
     "output_type": "stream",
     "text": [
      "e812f27102706ba1b04044ec_194d3b2d7f09ec01af898f5a_ecd9eee7c6c919479cc234ad\n"
     ]
    },
    {
     "data": {
      "text/plain": [
       "'num_processed: 1260/20845'"
      ]
     },
     "metadata": {},
     "output_type": "display_data"
    },
    {
     "name": "stdout",
     "output_type": "stream",
     "text": [
      "b972a3dd33db894c9ab83266_e7083f3a331a01e0c86c6893_78e6902f816aab5fab25d286\n"
     ]
    },
    {
     "data": {
      "text/plain": [
       "'num_processed: 1261/20845'"
      ]
     },
     "metadata": {},
     "output_type": "display_data"
    },
    {
     "name": "stdout",
     "output_type": "stream",
     "text": [
      "abdc4c26d84a29763e2abc02_6800729749851d01f5e37806_f8c63e3d320075ddfdadb4b4\n"
     ]
    },
    {
     "data": {
      "text/plain": [
       "'num_processed: 1262/20845'"
      ]
     },
     "metadata": {},
     "output_type": "display_data"
    },
    {
     "name": "stdout",
     "output_type": "stream",
     "text": [
      "afaee3adb54b70b2f1428e0d_5f50ee709ebef189a89f55b5_d06ea605c024282721d015a9\n"
     ]
    },
    {
     "data": {
      "text/plain": [
       "'num_processed: 1263/20845'"
      ]
     },
     "metadata": {},
     "output_type": "display_data"
    },
    {
     "name": "stdout",
     "output_type": "stream",
     "text": [
      "6263415520337be85d419996_544583f8847be7c0a79d1e58_9e743891bfe81bc5bdc2fd85\n"
     ]
    },
    {
     "data": {
      "text/plain": [
       "'num_processed: 1264/20845'"
      ]
     },
     "metadata": {},
     "output_type": "display_data"
    },
    {
     "name": "stdout",
     "output_type": "stream",
     "text": [
      "6a2a5f38de06bb8444f6c817_2803850c49771f10346d76b8_f923a699c295a97cd5ff060d\n"
     ]
    },
    {
     "data": {
      "text/plain": [
       "'num_processed: 1265/20845'"
      ]
     },
     "metadata": {},
     "output_type": "display_data"
    },
    {
     "name": "stdout",
     "output_type": "stream",
     "text": [
      "080bda692c7362d9d8f550c0_2bb4d493fe1adaf882bc9c9f_85ef61a19ad56d2412279acb\n"
     ]
    },
    {
     "data": {
      "text/plain": [
       "'num_processed: 1266/20845'"
      ]
     },
     "metadata": {},
     "output_type": "display_data"
    },
    {
     "name": "stdout",
     "output_type": "stream",
     "text": [
      "cb177799d24dc7b395941fde_1be3628df839cbea5158ceec_bb2f8e2a82c32017efa2455d\n"
     ]
    },
    {
     "data": {
      "text/plain": [
       "'num_processed: 1267/20845'"
      ]
     },
     "metadata": {},
     "output_type": "display_data"
    },
    {
     "name": "stdout",
     "output_type": "stream",
     "text": [
      "547cbdef5d3746384025dcdf_15f2da24c7973202e42b6fce_04339b7bdd2bfdd458462ca8\n"
     ]
    },
    {
     "data": {
      "text/plain": [
       "'num_processed: 1268/20845'"
      ]
     },
     "metadata": {},
     "output_type": "display_data"
    },
    {
     "name": "stdout",
     "output_type": "stream",
     "text": [
      "f6c7e6a51b8328700a0334b2_3aab72fe2d384a6711791e34_0fd7dbb522896a3448828cd4\n"
     ]
    },
    {
     "data": {
      "text/plain": [
       "'num_processed: 1269/20845'"
      ]
     },
     "metadata": {},
     "output_type": "display_data"
    },
    {
     "name": "stdout",
     "output_type": "stream",
     "text": [
      "71bdfd7bb30baee4cc2c8242_4f0db8695e800a65ecc0f366_c2935533bc7f5cde6a211803\n"
     ]
    },
    {
     "data": {
      "text/plain": [
       "'num_processed: 1270/20845'"
      ]
     },
     "metadata": {},
     "output_type": "display_data"
    },
    {
     "name": "stdout",
     "output_type": "stream",
     "text": [
      "0da76a7d02424f26b1201b72_de3aaf53e441bbd2a7083873_8385d277c4f5654ab7108c5a\n"
     ]
    },
    {
     "data": {
      "text/plain": [
       "'num_processed: 1271/20845'"
      ]
     },
     "metadata": {},
     "output_type": "display_data"
    },
    {
     "name": "stdout",
     "output_type": "stream",
     "text": [
      "c795352b9eb838ab2882b565_b6e1d765e6a8eae484ada62e_a24970314d9c1c0475dbf9dc\n"
     ]
    },
    {
     "data": {
      "text/plain": [
       "'num_processed: 1272/20845'"
      ]
     },
     "metadata": {},
     "output_type": "display_data"
    },
    {
     "name": "stdout",
     "output_type": "stream",
     "text": [
      "56a4dc61d5b2bf665f41fb1e_ab8f7df809c0b85bd8e96dbb_c0b23126b9645a1052c36a2f\n"
     ]
    },
    {
     "data": {
      "text/plain": [
       "'num_processed: 1273/20845'"
      ]
     },
     "metadata": {},
     "output_type": "display_data"
    },
    {
     "name": "stdout",
     "output_type": "stream",
     "text": [
      "222db19c0529dd450317f2f6_5064e2be1bd6e3758c609578_80f411be98e15a097d93df35\n"
     ]
    },
    {
     "data": {
      "text/plain": [
       "'num_processed: 1274/20845'"
      ]
     },
     "metadata": {},
     "output_type": "display_data"
    },
    {
     "name": "stdout",
     "output_type": "stream",
     "text": [
      "fbc4bed4ff2a5af9b1f1d73c_496213c604424a3f78a69e2c_1b41fd704fe692e33e46c8ff\n"
     ]
    },
    {
     "data": {
      "text/plain": [
       "'num_processed: 1275/20845'"
      ]
     },
     "metadata": {},
     "output_type": "display_data"
    },
    {
     "name": "stdout",
     "output_type": "stream",
     "text": [
      "70e7c660d433f882cb05609c_ca3cda6f805990a03c06d6d4_913f06488b76f974b73fac9b\n"
     ]
    },
    {
     "data": {
      "text/plain": [
       "'num_processed: 1276/20845'"
      ]
     },
     "metadata": {},
     "output_type": "display_data"
    },
    {
     "name": "stdout",
     "output_type": "stream",
     "text": [
      "8cda3998c3aa62efb0375b29_9cb4aa9e6d2cfc9d8373a322_3e216b5626cdce0f1bd06251\n"
     ]
    },
    {
     "data": {
      "text/plain": [
       "'num_processed: 1277/20845'"
      ]
     },
     "metadata": {},
     "output_type": "display_data"
    },
    {
     "name": "stdout",
     "output_type": "stream",
     "text": [
      "d4bde1ab8177f8f655733e2d_9d7c3695b97d82dbcb735e92_9a232627829d65b5538125a9\n"
     ]
    },
    {
     "data": {
      "text/plain": [
       "'num_processed: 1278/20845'"
      ]
     },
     "metadata": {},
     "output_type": "display_data"
    },
    {
     "name": "stdout",
     "output_type": "stream",
     "text": [
      "57cdec439d3c2510cf9f7c9f_b518dfc54ec5bea694ceccbd_2f6a852ec4659b6b4c950c6f\n"
     ]
    },
    {
     "data": {
      "text/plain": [
       "'num_processed: 1279/20845'"
      ]
     },
     "metadata": {},
     "output_type": "display_data"
    },
    {
     "name": "stdout",
     "output_type": "stream",
     "text": [
      "a2dbba094d4bb5f5e57d0d30_cba24bd4399d794a750806e4_9a4e440f039de79210d7943f\n"
     ]
    },
    {
     "data": {
      "text/plain": [
       "'num_processed: 1280/20845'"
      ]
     },
     "metadata": {},
     "output_type": "display_data"
    },
    {
     "name": "stdout",
     "output_type": "stream",
     "text": [
      "b0dee0072963706a82ce8c77_5143b4f891b92de821cc7049_deb5a37078b2fb3ab753add1\n",
      "EROR IN process_axial - PK_SURF_ask_uvboxERROR TRASFORMING!\n"
     ]
    },
    {
     "data": {
      "text/plain": [
       "'num_processed: 1281/20845'"
      ]
     },
     "metadata": {},
     "output_type": "display_data"
    },
    {
     "name": "stdout",
     "output_type": "stream",
     "text": [
      "fed770c31512a931c3a4cda6_2357b0a613e0479cfdb6860f_b2f9d9fcb2684780d76fbbdf\n"
     ]
    },
    {
     "data": {
      "text/plain": [
       "'num_processed: 1282/20845'"
      ]
     },
     "metadata": {},
     "output_type": "display_data"
    },
    {
     "name": "stdout",
     "output_type": "stream",
     "text": [
      "a7de26cffab9e50124df4300_64132e01782fa0972f1da80a_f62a8cd433231a198c0b4cab\n"
     ]
    },
    {
     "data": {
      "text/plain": [
       "'num_processed: 1283/20845'"
      ]
     },
     "metadata": {},
     "output_type": "display_data"
    },
    {
     "name": "stdout",
     "output_type": "stream",
     "text": [
      "aaaeb2e602281b36cb0de7b5_dcaa3c0eada775c60863dce3_5f5005f8c5266b659f63d6bc\n"
     ]
    },
    {
     "data": {
      "text/plain": [
       "'num_processed: 1284/20845'"
      ]
     },
     "metadata": {},
     "output_type": "display_data"
    },
    {
     "name": "stdout",
     "output_type": "stream",
     "text": [
      "81a6e6b44bacea40c63d09c0_e55d8ed1484ae97bed913072_975d8aa76024027303ecd876\n"
     ]
    },
    {
     "data": {
      "text/plain": [
       "'num_processed: 1285/20845'"
      ]
     },
     "metadata": {},
     "output_type": "display_data"
    },
    {
     "name": "stdout",
     "output_type": "stream",
     "text": [
      "fa53ac6f332639f663bbeba4_69f74ca81f5ced92a5248f69_4248b049ca10dee015d66b0a\n",
      "EROR IN process_axial - PK_SURF_ask_uvboxERROR TRASFORMING!\n"
     ]
    },
    {
     "data": {
      "text/plain": [
       "'num_processed: 1286/20845'"
      ]
     },
     "metadata": {},
     "output_type": "display_data"
    },
    {
     "name": "stdout",
     "output_type": "stream",
     "text": [
      "f0068af88506ffaacb394b65_0886f160bc12937fbf299083_314fc60c44736828c1ce15be\n",
      "EROR IN process_axial - PK_SURF_ask_uvboxERROR TRASFORMING!\n"
     ]
    },
    {
     "data": {
      "text/plain": [
       "'num_processed: 1287/20845'"
      ]
     },
     "metadata": {},
     "output_type": "display_data"
    },
    {
     "name": "stdout",
     "output_type": "stream",
     "text": [
      "28761810e7ef9c441e927997_73a85dd9ed7e7506a6180d0a_4f3e3da0cdc9e46c7e54a4dd\n"
     ]
    },
    {
     "data": {
      "text/plain": [
       "'num_processed: 1288/20845'"
      ]
     },
     "metadata": {},
     "output_type": "display_data"
    },
    {
     "name": "stdout",
     "output_type": "stream",
     "text": [
      "b5d337e18b0a18523e4b2f08_c2992655aa2e4022c073cf48_0db2757b835bee7bc173308f\n"
     ]
    },
    {
     "data": {
      "text/plain": [
       "'num_processed: 1289/20845'"
      ]
     },
     "metadata": {},
     "output_type": "display_data"
    },
    {
     "name": "stdout",
     "output_type": "stream",
     "text": [
      "583e680c852b6910510c418e_46120d12dd2181c0e8bae5d5_223aa71518c36d99149d5710\n"
     ]
    },
    {
     "data": {
      "text/plain": [
       "'num_processed: 1290/20845'"
      ]
     },
     "metadata": {},
     "output_type": "display_data"
    },
    {
     "name": "stdout",
     "output_type": "stream",
     "text": [
      "6b7e94503ae23dbc3ca8b8db_2d2f8ab423bf08ce8978d7cd_0dd2373f5b13564b2d04606d\n"
     ]
    },
    {
     "data": {
      "text/plain": [
       "'num_processed: 1291/20845'"
      ]
     },
     "metadata": {},
     "output_type": "display_data"
    },
    {
     "name": "stdout",
     "output_type": "stream",
     "text": [
      "87b22167645888c8ef5ab850_070aafae136fccf9ecaceb18_6b60cf5aa33b74f80c4e5b51\n"
     ]
    },
    {
     "data": {
      "text/plain": [
       "'num_processed: 1292/20845'"
      ]
     },
     "metadata": {},
     "output_type": "display_data"
    },
    {
     "name": "stdout",
     "output_type": "stream",
     "text": [
      "0d7280595cfa23cce5da8768_9d89d6b21391dda6950b101e_659b5e96db553a4941810395\n"
     ]
    },
    {
     "data": {
      "text/plain": [
       "'num_processed: 1293/20845'"
      ]
     },
     "metadata": {},
     "output_type": "display_data"
    },
    {
     "name": "stdout",
     "output_type": "stream",
     "text": [
      "d9db7613974bc11633dd6435_159affd4b6a6bfe788e7d367_acd75809666e5a62e411adb4\n"
     ]
    },
    {
     "data": {
      "text/plain": [
       "'num_processed: 1294/20845'"
      ]
     },
     "metadata": {},
     "output_type": "display_data"
    },
    {
     "name": "stdout",
     "output_type": "stream",
     "text": [
      "16b27c2c1888a770e305243f_56ffb5d152d99740470d58dc_276dac8888ce18d7ce81dad8\n"
     ]
    },
    {
     "data": {
      "text/plain": [
       "'num_processed: 1295/20845'"
      ]
     },
     "metadata": {},
     "output_type": "display_data"
    },
    {
     "name": "stdout",
     "output_type": "stream",
     "text": [
      "5ef7de840bcc4637131b9093_e9204292608136445e93b1a2_ae3f45f8ba7a704422292a6a\n"
     ]
    },
    {
     "data": {
      "text/plain": [
       "'num_processed: 1296/20845'"
      ]
     },
     "metadata": {},
     "output_type": "display_data"
    },
    {
     "name": "stdout",
     "output_type": "stream",
     "text": [
      "f965ca06e199405b5f572c95_db89f92577d33bc256aa0b86_0211665d09e44b584d0a4078\n"
     ]
    },
    {
     "data": {
      "text/plain": [
       "'num_processed: 1297/20845'"
      ]
     },
     "metadata": {},
     "output_type": "display_data"
    },
    {
     "name": "stdout",
     "output_type": "stream",
     "text": [
      "9c617c02431b2048323fc7ef_181d62e16e2f617be4d73c13_15d1dea1683a0e60a4385ebd\n"
     ]
    },
    {
     "data": {
      "text/plain": [
       "'num_processed: 1298/20845'"
      ]
     },
     "metadata": {},
     "output_type": "display_data"
    },
    {
     "name": "stdout",
     "output_type": "stream",
     "text": [
      "58c16b26a4469d0ff0192f58_27092aafeb69de48ec719d0c_dc9412e68967d213dc7eff32\n"
     ]
    },
    {
     "data": {
      "text/plain": [
       "'num_processed: 1299/20845'"
      ]
     },
     "metadata": {},
     "output_type": "display_data"
    },
    {
     "name": "stdout",
     "output_type": "stream",
     "text": [
      "50cb9bfadabadccde6f63bf9_3ebe5e3ded790babb2c87d2e_68ac4c2afdb7a3d81c8aad20\n"
     ]
    },
    {
     "data": {
      "text/plain": [
       "'num_processed: 1300/20845'"
      ]
     },
     "metadata": {},
     "output_type": "display_data"
    },
    {
     "name": "stdout",
     "output_type": "stream",
     "text": [
      "27d3a3c8111926c92af7ba80_327c161881f561bbfb6c7c74_82b868fc69fe3f7a4060a9fb\n"
     ]
    },
    {
     "data": {
      "text/plain": [
       "'num_processed: 1301/20845'"
      ]
     },
     "metadata": {},
     "output_type": "display_data"
    },
    {
     "name": "stdout",
     "output_type": "stream",
     "text": [
      "5af5b1169269964619a4eb8e_79d8e6c8eb4ed8cc6bfdf7c9_005fce59392f7a69c5d04e47\n"
     ]
    },
    {
     "data": {
      "text/plain": [
       "'num_processed: 1302/20845'"
      ]
     },
     "metadata": {},
     "output_type": "display_data"
    },
    {
     "name": "stdout",
     "output_type": "stream",
     "text": [
      "580e51aeebd8f01058fc9513_a546b33043c4e9e52831163e_f7765a1b6336c7eb124a4de3\n"
     ]
    },
    {
     "data": {
      "text/plain": [
       "'num_processed: 1303/20845'"
      ]
     },
     "metadata": {},
     "output_type": "display_data"
    },
    {
     "name": "stdout",
     "output_type": "stream",
     "text": [
      "c81a1d9638bd953069b8af70_d77eb5f8c9d1ae5467cd7f27_d30340735feeb5fa92742916\n"
     ]
    },
    {
     "data": {
      "text/plain": [
       "'num_processed: 1304/20845'"
      ]
     },
     "metadata": {},
     "output_type": "display_data"
    },
    {
     "name": "stdout",
     "output_type": "stream",
     "text": [
      "74cd13c838a148085f76924a_b58929cd002a32e76373164c_382dc187108feaa7e4771eb4\n"
     ]
    },
    {
     "data": {
      "text/plain": [
       "'num_processed: 1305/20845'"
      ]
     },
     "metadata": {},
     "output_type": "display_data"
    },
    {
     "name": "stdout",
     "output_type": "stream",
     "text": [
      "90a5dbf0ab97c7dae37ac54b_91b172533184aab35b188388_0b30bcd3c262d1273785e003\n",
      "EROR IN process_axial - PK_SURF_ask_uvboxERROR TRASFORMING!\n",
      "ERROR TRASFORMING!\n",
      "ERROR TRASFORMING!\n"
     ]
    },
    {
     "data": {
      "text/plain": [
       "'num_processed: 1306/20845'"
      ]
     },
     "metadata": {},
     "output_type": "display_data"
    },
    {
     "name": "stdout",
     "output_type": "stream",
     "text": [
      "58991311aeb0370f737e6550_efdbbb5525013ac9096e08a7_869de4da5241ae2fe372417a\n"
     ]
    },
    {
     "data": {
      "text/plain": [
       "'num_processed: 1307/20845'"
      ]
     },
     "metadata": {},
     "output_type": "display_data"
    },
    {
     "name": "stdout",
     "output_type": "stream",
     "text": [
      "73b5191a1e9dafdf1affb8ca_1082f53011faf75562c92084_97c095c6120cd915dd9d711a\n",
      "ERROR TRASFORMING!\n"
     ]
    },
    {
     "data": {
      "text/plain": [
       "'num_processed: 1308/20845'"
      ]
     },
     "metadata": {},
     "output_type": "display_data"
    },
    {
     "name": "stdout",
     "output_type": "stream",
     "text": [
      "c74d0158ee657475eb208bf3_210800d92b351dfcc6b81bf4_7267286a95aff005788aa70f\n"
     ]
    },
    {
     "data": {
      "text/plain": [
       "'num_processed: 1309/20845'"
      ]
     },
     "metadata": {},
     "output_type": "display_data"
    },
    {
     "name": "stdout",
     "output_type": "stream",
     "text": [
      "22a68250cb2a3c5f184a5c81_7eac3e67a29f330d9c22449c_a68d72be6210335fa766ecdf\n"
     ]
    },
    {
     "data": {
      "text/plain": [
       "'num_processed: 1310/20845'"
      ]
     },
     "metadata": {},
     "output_type": "display_data"
    },
    {
     "name": "stdout",
     "output_type": "stream",
     "text": [
      "e2512b6ba9aeba5a187ae94b_7dbaf647351cdc2eaa2171b7_f05fb292a8e0d084a82eb559\n"
     ]
    },
    {
     "data": {
      "text/plain": [
       "'num_processed: 1311/20845'"
      ]
     },
     "metadata": {},
     "output_type": "display_data"
    },
    {
     "name": "stdout",
     "output_type": "stream",
     "text": [
      "a5b2b992cc3847ee61f112f0_f304df95fd09c7e86bb6e43f_1db811b25de13a59dd731564\n"
     ]
    },
    {
     "data": {
      "text/plain": [
       "'num_processed: 1312/20845'"
      ]
     },
     "metadata": {},
     "output_type": "display_data"
    },
    {
     "name": "stdout",
     "output_type": "stream",
     "text": [
      "c76c0f7f935c476e91961c6d_04ed4b76231e5a6997ddc0d6_17580fbb24d88d3680f9d4ab\n"
     ]
    },
    {
     "data": {
      "text/plain": [
       "'num_processed: 1313/20845'"
      ]
     },
     "metadata": {},
     "output_type": "display_data"
    },
    {
     "name": "stdout",
     "output_type": "stream",
     "text": [
      "38869ac373aacda4f5da52a2_66f186b64503ae3f33c856a5_59fd6e949e7e002b9396fa19\n"
     ]
    },
    {
     "data": {
      "text/plain": [
       "'num_processed: 1314/20845'"
      ]
     },
     "metadata": {},
     "output_type": "display_data"
    },
    {
     "name": "stdout",
     "output_type": "stream",
     "text": [
      "3950a886baaf6086b0fa8d56_8cfb0961957f119ea9853239_4873f911150289bb3927f391\n"
     ]
    },
    {
     "data": {
      "text/plain": [
       "'num_processed: 1315/20845'"
      ]
     },
     "metadata": {},
     "output_type": "display_data"
    },
    {
     "name": "stdout",
     "output_type": "stream",
     "text": [
      "2595eb79665d981e176d2fb3_d364242a0c603817a62d73b4_f7ddd3cadc9a9856bf318e8b\n"
     ]
    },
    {
     "data": {
      "text/plain": [
       "'num_processed: 1316/20845'"
      ]
     },
     "metadata": {},
     "output_type": "display_data"
    },
    {
     "name": "stdout",
     "output_type": "stream",
     "text": [
      "e571cbb0ac5713c406e4f876_7d1c8c58be58b7e5722fb573_ddb4290e128b950ec0ab7a07\n"
     ]
    },
    {
     "data": {
      "text/plain": [
       "'num_processed: 1317/20845'"
      ]
     },
     "metadata": {},
     "output_type": "display_data"
    },
    {
     "name": "stdout",
     "output_type": "stream",
     "text": [
      "091961c76f8b60946821602b_b094051b8fe72c622d35c3b7_befe5138db8b6287dd000bd3\n"
     ]
    },
    {
     "data": {
      "text/plain": [
       "'num_processed: 1318/20845'"
      ]
     },
     "metadata": {},
     "output_type": "display_data"
    },
    {
     "name": "stdout",
     "output_type": "stream",
     "text": [
      "60f0606fdc57c7d647c6c6fa_41a3f23f46e6184d1f6db5f5_84d5d41d357b1dd37978e2e9\n"
     ]
    },
    {
     "data": {
      "text/plain": [
       "'num_processed: 1319/20845'"
      ]
     },
     "metadata": {},
     "output_type": "display_data"
    },
    {
     "name": "stdout",
     "output_type": "stream",
     "text": [
      "cb449aebb0d1bd803dc5514a_75cc4aa1f2d8e1e72686dedf_3dd4e5e06b13a7e594bb42f3\n"
     ]
    },
    {
     "data": {
      "text/plain": [
       "'num_processed: 1320/20845'"
      ]
     },
     "metadata": {},
     "output_type": "display_data"
    },
    {
     "name": "stdout",
     "output_type": "stream",
     "text": [
      "ec606e2f1ba4244474047206_74743aa4e91e34b99f91557d_a823c1353a0c13a49e7d68e5\n"
     ]
    },
    {
     "data": {
      "text/plain": [
       "'num_processed: 1321/20845'"
      ]
     },
     "metadata": {},
     "output_type": "display_data"
    },
    {
     "name": "stdout",
     "output_type": "stream",
     "text": [
      "ed88843649b8341f9ba8444c_653864e380c82b38ddb3f9da_eb449629fdc599a338d26390\n"
     ]
    },
    {
     "data": {
      "text/plain": [
       "'num_processed: 1322/20845'"
      ]
     },
     "metadata": {},
     "output_type": "display_data"
    },
    {
     "name": "stdout",
     "output_type": "stream",
     "text": [
      "41184ee55f512eed6c34837a_0c147b88b6e4f048e0b22673_75cdf2fa6bd3aed0745f9a80\n"
     ]
    },
    {
     "data": {
      "text/plain": [
       "'num_processed: 1323/20845'"
      ]
     },
     "metadata": {},
     "output_type": "display_data"
    },
    {
     "name": "stdout",
     "output_type": "stream",
     "text": [
      "11362ffe4dba4089669df968_92561d977d3e5c5802af7637_a32e66483cd042dba11cbe19\n"
     ]
    },
    {
     "data": {
      "text/plain": [
       "'num_processed: 1324/20845'"
      ]
     },
     "metadata": {},
     "output_type": "display_data"
    },
    {
     "name": "stdout",
     "output_type": "stream",
     "text": [
      "e2e61880794336ae46ffcc16_257e219a5eac5118b9565bfa_3f4fe09d506db64d2522ebf7\n"
     ]
    },
    {
     "data": {
      "text/plain": [
       "'num_processed: 1325/20845'"
      ]
     },
     "metadata": {},
     "output_type": "display_data"
    },
    {
     "name": "stdout",
     "output_type": "stream",
     "text": [
      "aed43e40d97d1c752051d804_9660c27ab2fdca38eae941ae_d44b4bb6b4d67271ef4fd24b\n"
     ]
    },
    {
     "data": {
      "text/plain": [
       "'num_processed: 1326/20845'"
      ]
     },
     "metadata": {},
     "output_type": "display_data"
    },
    {
     "name": "stdout",
     "output_type": "stream",
     "text": [
      "920136a79cce8c58c444fd7d_74271a087c3c63a67e5f1490_3f627800e799dea19fcec2da\n"
     ]
    },
    {
     "data": {
      "text/plain": [
       "'num_processed: 1327/20845'"
      ]
     },
     "metadata": {},
     "output_type": "display_data"
    },
    {
     "name": "stdout",
     "output_type": "stream",
     "text": [
      "64bf1d0f3fd6b8edf126d0b3_5b6b97b30c93d72e5403727d_2f0b404a14ae2fe712416fff\n"
     ]
    },
    {
     "data": {
      "text/plain": [
       "'num_processed: 1328/20845'"
      ]
     },
     "metadata": {},
     "output_type": "display_data"
    },
    {
     "name": "stdout",
     "output_type": "stream",
     "text": [
      "254bf4da79a6c335a2962ab0_23b5593ffd5c203d2294855f_d4654e4a80fb6006ee8cac01\n"
     ]
    },
    {
     "data": {
      "text/plain": [
       "'num_processed: 1329/20845'"
      ]
     },
     "metadata": {},
     "output_type": "display_data"
    },
    {
     "name": "stdout",
     "output_type": "stream",
     "text": [
      "f4fad3dff12a9cb6b1697070_4f09f64c5ad775e6cadd38ee_d3e38a8454c0e2c4d3fa4859\n"
     ]
    },
    {
     "data": {
      "text/plain": [
       "'num_processed: 1330/20845'"
      ]
     },
     "metadata": {},
     "output_type": "display_data"
    },
    {
     "name": "stdout",
     "output_type": "stream",
     "text": [
      "7b3256606a22f6260fee7996_e5112846129eab98876ad07b_7e9f1546f58d808b6fc0488a\n"
     ]
    },
    {
     "data": {
      "text/plain": [
       "'num_processed: 1331/20845'"
      ]
     },
     "metadata": {},
     "output_type": "display_data"
    },
    {
     "name": "stdout",
     "output_type": "stream",
     "text": [
      "9021f28c8bf6fa0473b05e2c_ac980a2d71d081c7541e9df1_e05a3e915ea1bf76d85a7216\n"
     ]
    },
    {
     "data": {
      "text/plain": [
       "'num_processed: 1332/20845'"
      ]
     },
     "metadata": {},
     "output_type": "display_data"
    },
    {
     "name": "stdout",
     "output_type": "stream",
     "text": [
      "58c84b0503a00a0f8604443c_d0c40211a4d2e6a2a360cd15_cd5bdab6c55e293fec973ad9\n"
     ]
    },
    {
     "data": {
      "text/plain": [
       "'num_processed: 1333/20845'"
      ]
     },
     "metadata": {},
     "output_type": "display_data"
    },
    {
     "name": "stdout",
     "output_type": "stream",
     "text": [
      "ed2f1ac2c22cfffe936e238c_a117a85dc88868505b2b1cb7_2f165fefcd6bd60121c6c559\n"
     ]
    },
    {
     "data": {
      "text/plain": [
       "'num_processed: 1334/20845'"
      ]
     },
     "metadata": {},
     "output_type": "display_data"
    },
    {
     "name": "stdout",
     "output_type": "stream",
     "text": [
      "a3cb703e888b80507236d1fa_f13962447e68434e396d70f9_dff0d1aa651f5c42012df19d\n"
     ]
    },
    {
     "data": {
      "text/plain": [
       "'num_processed: 1335/20845'"
      ]
     },
     "metadata": {},
     "output_type": "display_data"
    },
    {
     "name": "stdout",
     "output_type": "stream",
     "text": [
      "48425ddae6c553861d9aee17_111d8f44888eee7bcde99b86_b844ea81c266aa3b3d507a09\n"
     ]
    },
    {
     "data": {
      "text/plain": [
       "'num_processed: 1336/20845'"
      ]
     },
     "metadata": {},
     "output_type": "display_data"
    },
    {
     "name": "stdout",
     "output_type": "stream",
     "text": [
      "9d14db6a93a2246bf169dc00_8abc317db7927fbf0d3cd1a2_8ccab1a512d9035cec6743b8\n"
     ]
    },
    {
     "data": {
      "text/plain": [
       "'num_processed: 1337/20845'"
      ]
     },
     "metadata": {},
     "output_type": "display_data"
    },
    {
     "name": "stdout",
     "output_type": "stream",
     "text": [
      "57b4a7bee4b0d7332a4e2317_fa809bb3557f868c47f8f9d9_b996cf8a3db572e663e12c6e\n"
     ]
    },
    {
     "data": {
      "text/plain": [
       "'num_processed: 1338/20845'"
      ]
     },
     "metadata": {},
     "output_type": "display_data"
    },
    {
     "name": "stdout",
     "output_type": "stream",
     "text": [
      "6a06b6d2290605d7b12b9b17_4af0f8da222da380593f15ba_b8a5571da9356d21cfc3dd29\n",
      "ERROR TRASFORMING!\n"
     ]
    },
    {
     "data": {
      "text/plain": [
       "'num_processed: 1339/20845'"
      ]
     },
     "metadata": {},
     "output_type": "display_data"
    },
    {
     "name": "stdout",
     "output_type": "stream",
     "text": [
      "eb5345e72c41c997eead4f35_904ebd0e7a4eea0a654bb4b8_9b9580f6716d380f9d015e67\n"
     ]
    },
    {
     "data": {
      "text/plain": [
       "'num_processed: 1340/20845'"
      ]
     },
     "metadata": {},
     "output_type": "display_data"
    },
    {
     "name": "stdout",
     "output_type": "stream",
     "text": [
      "43e602988aa5eb020c85fcba_9b0caa59e8d1a8565d4183b4_3f70e2825a482d77e916e077\n"
     ]
    },
    {
     "data": {
      "text/plain": [
       "'num_processed: 1341/20845'"
      ]
     },
     "metadata": {},
     "output_type": "display_data"
    },
    {
     "name": "stdout",
     "output_type": "stream",
     "text": [
      "6349e9e0302ea4a74047908d_f154d6b8076eb8445ac16459_dab3f5776f83f40a22bc0d8c\n"
     ]
    },
    {
     "data": {
      "text/plain": [
       "'num_processed: 1342/20845'"
      ]
     },
     "metadata": {},
     "output_type": "display_data"
    },
    {
     "name": "stdout",
     "output_type": "stream",
     "text": [
      "94938bda149425ac6b3e705e_e535b1e7e425e029cd0eda6a_c122ae1e85934cfb6d7a182b\n"
     ]
    },
    {
     "data": {
      "text/plain": [
       "'num_processed: 1343/20845'"
      ]
     },
     "metadata": {},
     "output_type": "display_data"
    },
    {
     "name": "stdout",
     "output_type": "stream",
     "text": [
      "10da0d79fc37fa6c2e356edf_00efb727fd816440805c1ca0_c7414312f2bf6dcb4734caab\n"
     ]
    },
    {
     "data": {
      "text/plain": [
       "'num_processed: 1344/20845'"
      ]
     },
     "metadata": {},
     "output_type": "display_data"
    },
    {
     "name": "stdout",
     "output_type": "stream",
     "text": [
      "0860501eef8604eaddf112e8_a4f9eacb69e7434abfd3ea85_dbbee6e00749b52f0d83ba76\n"
     ]
    },
    {
     "data": {
      "text/plain": [
       "'num_processed: 1345/20845'"
      ]
     },
     "metadata": {},
     "output_type": "display_data"
    },
    {
     "name": "stdout",
     "output_type": "stream",
     "text": [
      "1a1a46312321470168cf16a5_ee6c07bf012d231011239258_5a0cb081958b73dcc2b641e2\n"
     ]
    },
    {
     "data": {
      "text/plain": [
       "'num_processed: 1346/20845'"
      ]
     },
     "metadata": {},
     "output_type": "display_data"
    },
    {
     "name": "stdout",
     "output_type": "stream",
     "text": [
      "0d8d580547284e42a0a6858c_4786cb1fd6d262abfda35be0_2eccb89a84b6ca4b3df0faa1\n"
     ]
    },
    {
     "data": {
      "text/plain": [
       "'num_processed: 1347/20845'"
      ]
     },
     "metadata": {},
     "output_type": "display_data"
    },
    {
     "name": "stdout",
     "output_type": "stream",
     "text": [
      "57022bebe4b02bd6dc7a4f48_f4783cb18c265e66ec88f8b9_777d17be1abd6739f9048900\n"
     ]
    },
    {
     "data": {
      "text/plain": [
       "'num_processed: 1348/20845'"
      ]
     },
     "metadata": {},
     "output_type": "display_data"
    },
    {
     "name": "stdout",
     "output_type": "stream",
     "text": [
      "a0d5e0d50456adf646565c07_f1b0b4fd04a2c7810e841a34_816345326eab199d345adb28\n"
     ]
    },
    {
     "data": {
      "text/plain": [
       "'num_processed: 1349/20845'"
      ]
     },
     "metadata": {},
     "output_type": "display_data"
    },
    {
     "name": "stdout",
     "output_type": "stream",
     "text": [
      "05b3a9dd659a81239bc133a0_ab5aea2a6ff65093619a82e2_243b71fc62760d4caef029fd\n",
      "ERROR TRASFORMING!\n"
     ]
    },
    {
     "data": {
      "text/plain": [
       "'num_processed: 1350/20845'"
      ]
     },
     "metadata": {},
     "output_type": "display_data"
    },
    {
     "name": "stdout",
     "output_type": "stream",
     "text": [
      "84f82eecddb5be9fe540ecff_138bc0425ee767ef5c97e2d6_1cffcd593e0e4dc0a76e38b2\n"
     ]
    },
    {
     "data": {
      "text/plain": [
       "'num_processed: 1351/20845'"
      ]
     },
     "metadata": {},
     "output_type": "display_data"
    },
    {
     "name": "stdout",
     "output_type": "stream",
     "text": [
      "c8bf3653d3ad82f5a457376e_51b789cd90483076e5c5ca7c_8411ecf8dac993bf729db4b9\n"
     ]
    },
    {
     "data": {
      "text/plain": [
       "'num_processed: 1352/20845'"
      ]
     },
     "metadata": {},
     "output_type": "display_data"
    },
    {
     "name": "stdout",
     "output_type": "stream",
     "text": [
      "d23d9c1de423e8ec9f8d4fba_f88e74cc55dfb3d1f23a9313_9791fe822ea21fa666a456fd\n"
     ]
    },
    {
     "data": {
      "text/plain": [
       "'num_processed: 1353/20845'"
      ]
     },
     "metadata": {},
     "output_type": "display_data"
    },
    {
     "name": "stdout",
     "output_type": "stream",
     "text": [
      "570f44ef1179a7ddfeab46ab_32b7da98ebc1fae89c11ecb8_b9a59b9e2324a4f250e2181c\n"
     ]
    },
    {
     "data": {
      "text/plain": [
       "'num_processed: 1354/20845'"
      ]
     },
     "metadata": {},
     "output_type": "display_data"
    },
    {
     "name": "stdout",
     "output_type": "stream",
     "text": [
      "4a7696fc95711f2ce64d0340_d694d3870836f21530a808a3_29228ab779fedbc9e998b5e4\n"
     ]
    },
    {
     "data": {
      "text/plain": [
       "'num_processed: 1355/20845'"
      ]
     },
     "metadata": {},
     "output_type": "display_data"
    },
    {
     "name": "stdout",
     "output_type": "stream",
     "text": [
      "43c4116b31800c6ee829e0c7_b310f5a773f644280fa5283a_6eca537b92a4ab7bedac4e76\n",
      "EROR IN process_axial - PK_SURF_ask_uvboxERROR TRASFORMING!\n"
     ]
    },
    {
     "data": {
      "text/plain": [
       "'num_processed: 1356/20845'"
      ]
     },
     "metadata": {},
     "output_type": "display_data"
    },
    {
     "name": "stdout",
     "output_type": "stream",
     "text": [
      "c308f207ecd8c8ec88789242_29407a97cc587df205ddbe23_79f89a54683a5fcd06107872\n"
     ]
    },
    {
     "data": {
      "text/plain": [
       "'num_processed: 1357/20845'"
      ]
     },
     "metadata": {},
     "output_type": "display_data"
    },
    {
     "name": "stdout",
     "output_type": "stream",
     "text": [
      "19de74f5ebce3573e17c9ede_2d8ce103cb908e40edbfb4e8_8b2fb6f2df1d51d2f043d5bc\n"
     ]
    },
    {
     "data": {
      "text/plain": [
       "'num_processed: 1358/20845'"
      ]
     },
     "metadata": {},
     "output_type": "display_data"
    },
    {
     "name": "stdout",
     "output_type": "stream",
     "text": [
      "5c3563fd9bd81508ff32d709_ed66171579ca62c292c571d8_29a794b8c44e9f536b9f2992\n"
     ]
    },
    {
     "data": {
      "text/plain": [
       "'num_processed: 1359/20845'"
      ]
     },
     "metadata": {},
     "output_type": "display_data"
    },
    {
     "name": "stdout",
     "output_type": "stream",
     "text": [
      "00ace32a1fbc79b5253b3b99_223081ca805315de03de7e3b_10faabd02603fea143e824b4\n"
     ]
    },
    {
     "data": {
      "text/plain": [
       "'num_processed: 1360/20845'"
      ]
     },
     "metadata": {},
     "output_type": "display_data"
    },
    {
     "name": "stdout",
     "output_type": "stream",
     "text": [
      "5abbacd24907294fcc35ab4f_7365cab66464c86851ff0c88_baf081f38ab8166b80bedb26\n",
      "ERROR TRASFORMING!\n",
      "ERROR TRASFORMING!\n"
     ]
    },
    {
     "data": {
      "text/plain": [
       "'num_processed: 1361/20845'"
      ]
     },
     "metadata": {},
     "output_type": "display_data"
    },
    {
     "name": "stdout",
     "output_type": "stream",
     "text": [
      "4996205ee8d1fccc0ebb9049_e66c35419ee00ee98d1a05ad_8c1614877fe89baa9c756495\n"
     ]
    },
    {
     "data": {
      "text/plain": [
       "'num_processed: 1362/20845'"
      ]
     },
     "metadata": {},
     "output_type": "display_data"
    },
    {
     "name": "stdout",
     "output_type": "stream",
     "text": [
      "fa59f0e789425e0ed8cb8c1d_62cf191dcc2aaa7377f2f1aa_4680edb524bd7ea9747d5511\n"
     ]
    },
    {
     "data": {
      "text/plain": [
       "'num_processed: 1363/20845'"
      ]
     },
     "metadata": {},
     "output_type": "display_data"
    },
    {
     "name": "stdout",
     "output_type": "stream",
     "text": [
      "17e4ae4eee5f2275c3a1187c_c79875c07a4dc69ce2a4a0b5_4ec4e2ee736cd916bb73035f\n"
     ]
    },
    {
     "data": {
      "text/plain": [
       "'num_processed: 1364/20845'"
      ]
     },
     "metadata": {},
     "output_type": "display_data"
    },
    {
     "name": "stdout",
     "output_type": "stream",
     "text": [
      "b62a4d61208b3f666cc6b569_21d27c406132ff2e6d7d904c_275c79e9c15363d0dd125a05\n"
     ]
    },
    {
     "data": {
      "text/plain": [
       "'num_processed: 1365/20845'"
      ]
     },
     "metadata": {},
     "output_type": "display_data"
    },
    {
     "name": "stdout",
     "output_type": "stream",
     "text": [
      "0d6da808863b57652b28d8a7_1ac812504f3b7d5de8c7560d_27087c04d3436953a57234a6\n"
     ]
    },
    {
     "data": {
      "text/plain": [
       "'num_processed: 1366/20845'"
      ]
     },
     "metadata": {},
     "output_type": "display_data"
    },
    {
     "name": "stdout",
     "output_type": "stream",
     "text": [
      "5cf8e0a5d6521ebb102f4132_2bbd472604c4e0f083b77972_010b71da5fc3ac2f3b7704a2\n"
     ]
    },
    {
     "data": {
      "text/plain": [
       "'num_processed: 1367/20845'"
      ]
     },
     "metadata": {},
     "output_type": "display_data"
    },
    {
     "name": "stdout",
     "output_type": "stream",
     "text": [
      "1ce5de24314d2f5832d097e4_963ef896504177dc81586f1a_0b12aaaf2e68b959c527302e\n",
      "ERROR TRASFORMING!\n",
      "ERROR TRASFORMING!\n",
      "ERROR TRASFORMING!\n",
      "ERROR TRASFORMING!\n",
      "ERROR TRASFORMING!\n",
      "ERROR TRASFORMING!\n"
     ]
    },
    {
     "data": {
      "text/plain": [
       "'num_processed: 1368/20845'"
      ]
     },
     "metadata": {},
     "output_type": "display_data"
    },
    {
     "name": "stdout",
     "output_type": "stream",
     "text": [
      "f2bc216b4a6245f52bb3e120_7662bc452145bc4f68cd910f_a5d3d21bf9a4aa8e2515afb4\n"
     ]
    },
    {
     "data": {
      "text/plain": [
       "'num_processed: 1369/20845'"
      ]
     },
     "metadata": {},
     "output_type": "display_data"
    },
    {
     "name": "stdout",
     "output_type": "stream",
     "text": [
      "eedc124aab28948ca7ef06ce_691782497843d8f1220d75b0_05144e5e14ea4442a2b598de\n"
     ]
    },
    {
     "data": {
      "text/plain": [
       "'num_processed: 1370/20845'"
      ]
     },
     "metadata": {},
     "output_type": "display_data"
    },
    {
     "name": "stdout",
     "output_type": "stream",
     "text": [
      "b3f9d3cb2429bbe9eb0e0edf_94e15e91c8dc9e3bc922a6aa_28598b9c763681c6631d30b6\n"
     ]
    },
    {
     "data": {
      "text/plain": [
       "'num_processed: 1371/20845'"
      ]
     },
     "metadata": {},
     "output_type": "display_data"
    },
    {
     "name": "stdout",
     "output_type": "stream",
     "text": [
      "f499331f1e806dfd3e9135cd_04f4173533b111078fd3e82a_be737b7aaceb8da0f064384c\n"
     ]
    },
    {
     "data": {
      "text/plain": [
       "'num_processed: 1372/20845'"
      ]
     },
     "metadata": {},
     "output_type": "display_data"
    },
    {
     "name": "stdout",
     "output_type": "stream",
     "text": [
      "7a580eb8db065a2a3d6eb74c_2c2bce780e345e337c7172fd_735e79ad6fe9d4d5ed0d23fe\n"
     ]
    },
    {
     "data": {
      "text/plain": [
       "'num_processed: 1373/20845'"
      ]
     },
     "metadata": {},
     "output_type": "display_data"
    },
    {
     "name": "stdout",
     "output_type": "stream",
     "text": [
      "2a356ab6f5daf9618949ab1a_506243f1febc46c58d0d1cf2_0da5b113b182b469549b566d\n"
     ]
    },
    {
     "data": {
      "text/plain": [
       "'num_processed: 1374/20845'"
      ]
     },
     "metadata": {},
     "output_type": "display_data"
    },
    {
     "name": "stdout",
     "output_type": "stream",
     "text": [
      "4e89a855b4fb347fcc070876_dff66882a1f59b36ed6abf9f_940ff59cbc1d34dd3f8ba5fb\n"
     ]
    },
    {
     "data": {
      "text/plain": [
       "'num_processed: 1375/20845'"
      ]
     },
     "metadata": {},
     "output_type": "display_data"
    },
    {
     "name": "stdout",
     "output_type": "stream",
     "text": [
      "5abbeae311af88461b9f482b_ecdf8e71bff35d11cc4da9fe_6a3ec5a8a0a46ad67a9eb26c\n"
     ]
    },
    {
     "data": {
      "text/plain": [
       "'num_processed: 1376/20845'"
      ]
     },
     "metadata": {},
     "output_type": "display_data"
    },
    {
     "name": "stdout",
     "output_type": "stream",
     "text": [
      "5ac61d6613c9cbea954b4de2_2c0b744aa579f72aab94e1e9_7b3063379ab53e8270b94a86\n"
     ]
    },
    {
     "data": {
      "text/plain": [
       "'num_processed: 1377/20845'"
      ]
     },
     "metadata": {},
     "output_type": "display_data"
    },
    {
     "name": "stdout",
     "output_type": "stream",
     "text": [
      "40b9181bd7bef6ae04cd5e04_d4d62646415c6ae5c4a2b7ac_dd7dd54b738074c096b708df\n"
     ]
    },
    {
     "data": {
      "text/plain": [
       "'num_processed: 1378/20845'"
      ]
     },
     "metadata": {},
     "output_type": "display_data"
    },
    {
     "name": "stdout",
     "output_type": "stream",
     "text": [
      "57fbae4ab54dff10aa62f1cf_55a91f2bf9a26bb4ed162787_0676593a1ffcea55b4d7b02d\n"
     ]
    },
    {
     "data": {
      "text/plain": [
       "'num_processed: 1379/20845'"
      ]
     },
     "metadata": {},
     "output_type": "display_data"
    },
    {
     "name": "stdout",
     "output_type": "stream",
     "text": [
      "58c936ec5a3c5b4408a87da3_872e06a62764e31035abb98f_00d09297cf6c894693715257\n"
     ]
    },
    {
     "data": {
      "text/plain": [
       "'num_processed: 1380/20845'"
      ]
     },
     "metadata": {},
     "output_type": "display_data"
    },
    {
     "name": "stdout",
     "output_type": "stream",
     "text": [
      "5eebba30a0742152df8953ed_484c4fc93ebf9e4cf070c75f_bc01d68d1a06c5c8a75b5e4a\n"
     ]
    },
    {
     "data": {
      "text/plain": [
       "'num_processed: 1381/20845'"
      ]
     },
     "metadata": {},
     "output_type": "display_data"
    },
    {
     "name": "stdout",
     "output_type": "stream",
     "text": [
      "ebd09f08cb8aa4f8b81190fe_7da7af4708f78544697ae518_fb996a1f107dfc8c046d2af5\n"
     ]
    },
    {
     "data": {
      "text/plain": [
       "'num_processed: 1382/20845'"
      ]
     },
     "metadata": {},
     "output_type": "display_data"
    },
    {
     "name": "stdout",
     "output_type": "stream",
     "text": [
      "667fb0c332cdfccd49a2e5fe_963fb24d4abdb5709ce74540_5082fc4822e77fba7c711267\n"
     ]
    },
    {
     "data": {
      "text/plain": [
       "'num_processed: 1383/20845'"
      ]
     },
     "metadata": {},
     "output_type": "display_data"
    },
    {
     "name": "stdout",
     "output_type": "stream",
     "text": [
      "55366b0ec363f610aa19ba44_eb121e636826e4cec4d39c64_c903d5ab9a881152f63a5bbb\n"
     ]
    },
    {
     "data": {
      "text/plain": [
       "'num_processed: 1384/20845'"
      ]
     },
     "metadata": {},
     "output_type": "display_data"
    },
    {
     "name": "stdout",
     "output_type": "stream",
     "text": [
      "b42e596cd98d6a0cbe1b3694_3cefebe3043f606fc1f39900_129a364480839f6b696754be\n"
     ]
    },
    {
     "data": {
      "text/plain": [
       "'num_processed: 1385/20845'"
      ]
     },
     "metadata": {},
     "output_type": "display_data"
    },
    {
     "name": "stdout",
     "output_type": "stream",
     "text": [
      "854af9cfadce59f7880ab50a_e50bab79a17b96321a7b6d31_8a1494bcc9ef1b968684a954\n"
     ]
    },
    {
     "data": {
      "text/plain": [
       "'num_processed: 1386/20845'"
      ]
     },
     "metadata": {},
     "output_type": "display_data"
    },
    {
     "name": "stdout",
     "output_type": "stream",
     "text": [
      "6de792d18bc6efecf6e1b0b6_1d0ce83d165599db8bfc3551_bc9869c53441ba9eab155e76\n"
     ]
    },
    {
     "data": {
      "text/plain": [
       "'num_processed: 1387/20845'"
      ]
     },
     "metadata": {},
     "output_type": "display_data"
    },
    {
     "name": "stdout",
     "output_type": "stream",
     "text": [
      "aa71817985e895a7de8b6b26_1c75dd3a247f7d2e93957964_48b20fc9f849ae7973b8f4f2\n"
     ]
    },
    {
     "data": {
      "text/plain": [
       "'num_processed: 1388/20845'"
      ]
     },
     "metadata": {},
     "output_type": "display_data"
    },
    {
     "name": "stdout",
     "output_type": "stream",
     "text": [
      "33ad777738019826d7adb960_1ed759657e040a9bc0047542_3e361524156afdfe020e7391\n"
     ]
    },
    {
     "data": {
      "text/plain": [
       "'num_processed: 1389/20845'"
      ]
     },
     "metadata": {},
     "output_type": "display_data"
    },
    {
     "name": "stdout",
     "output_type": "stream",
     "text": [
      "7400292455d4991dd3e0850f_a77422a91ac3f3414ded96b7_47d2acad295df4f020f47ed7\n"
     ]
    },
    {
     "data": {
      "text/plain": [
       "'num_processed: 1390/20845'"
      ]
     },
     "metadata": {},
     "output_type": "display_data"
    },
    {
     "name": "stdout",
     "output_type": "stream",
     "text": [
      "c9ac81168b02b76058b8f5f7_aea736e47406605ee87c3352_bc25219694105685d45b2c94\n"
     ]
    },
    {
     "data": {
      "text/plain": [
       "'num_processed: 1391/20845'"
      ]
     },
     "metadata": {},
     "output_type": "display_data"
    },
    {
     "name": "stdout",
     "output_type": "stream",
     "text": [
      "58bf62a4a0c27b0f87ab64a8_d5a4b8a3e4ca7729407c1f94_29709ffbd73f47b6de6700a8\n"
     ]
    },
    {
     "data": {
      "text/plain": [
       "'num_processed: 1392/20845'"
      ]
     },
     "metadata": {},
     "output_type": "display_data"
    },
    {
     "name": "stdout",
     "output_type": "stream",
     "text": [
      "6e985934cfd0d0324d65315e_cee8d3a390047072b38d1b8a_e667a7ee0372ac65b660c2ff\n"
     ]
    },
    {
     "data": {
      "text/plain": [
       "'num_processed: 1393/20845'"
      ]
     },
     "metadata": {},
     "output_type": "display_data"
    },
    {
     "name": "stdout",
     "output_type": "stream",
     "text": [
      "82c0df862d0413eec9cbaa2f_4981abbb9844ce7a2c67cefc_af8d767e088252869bc4dad7\n"
     ]
    },
    {
     "data": {
      "text/plain": [
       "'num_processed: 1394/20845'"
      ]
     },
     "metadata": {},
     "output_type": "display_data"
    },
    {
     "name": "stdout",
     "output_type": "stream",
     "text": [
      "09912d8d1566ceb5b1a1b83b_28a9dd892538a3169a2f2c49_ad8be56e7b12d2bc70b8fe9e\n"
     ]
    },
    {
     "data": {
      "text/plain": [
       "'num_processed: 1395/20845'"
      ]
     },
     "metadata": {},
     "output_type": "display_data"
    },
    {
     "name": "stdout",
     "output_type": "stream",
     "text": [
      "d8b7c55fcf2bce123a62cbc9_72baaf22ac3d1202f8bb5241_c33712a603a6072f98f40167\n"
     ]
    },
    {
     "data": {
      "text/plain": [
       "'num_processed: 1396/20845'"
      ]
     },
     "metadata": {},
     "output_type": "display_data"
    },
    {
     "name": "stdout",
     "output_type": "stream",
     "text": [
      "7e53fec1f1ec0ab2ef6ec895_eab52d00bd89bdfc867decb6_45404659d8f0840d499105f5\n"
     ]
    },
    {
     "data": {
      "text/plain": [
       "'num_processed: 1397/20845'"
      ]
     },
     "metadata": {},
     "output_type": "display_data"
    },
    {
     "name": "stdout",
     "output_type": "stream",
     "text": [
      "f04d65e6a1f99044fe93081a_38a4e63e42dca81a609a2b04_ed0b4fde4d8f800a69af13e7\n"
     ]
    },
    {
     "data": {
      "text/plain": [
       "'num_processed: 1398/20845'"
      ]
     },
     "metadata": {},
     "output_type": "display_data"
    },
    {
     "name": "stdout",
     "output_type": "stream",
     "text": [
      "78e445f04b57512e8e55b750_f55aa699de77f6746e7320b6_a52100288e8ea04b931a6526\n"
     ]
    },
    {
     "data": {
      "text/plain": [
       "'num_processed: 1399/20845'"
      ]
     },
     "metadata": {},
     "output_type": "display_data"
    },
    {
     "name": "stdout",
     "output_type": "stream",
     "text": [
      "3c5640db3c6ec4b29a79cad7_9c3f8b5c3230de0247960229_d7b7bd2d39021d7ba81b352d\n",
      "ERROR TRASFORMING!\n"
     ]
    },
    {
     "data": {
      "text/plain": [
       "'num_processed: 1400/20845'"
      ]
     },
     "metadata": {},
     "output_type": "display_data"
    },
    {
     "name": "stdout",
     "output_type": "stream",
     "text": [
      "8da1e7204af4957e4afa3a7a_b523b4f080d691eea0614d09_75570cd414dfff26fef171ac\n"
     ]
    },
    {
     "data": {
      "text/plain": [
       "'num_processed: 1401/20845'"
      ]
     },
     "metadata": {},
     "output_type": "display_data"
    },
    {
     "name": "stdout",
     "output_type": "stream",
     "text": [
      "c3634f50be37b02cc4acc0f6_685c211966bcf5eae205c862_b40b5a83a43bcc4ccd93ab05\n"
     ]
    },
    {
     "data": {
      "text/plain": [
       "'num_processed: 1402/20845'"
      ]
     },
     "metadata": {},
     "output_type": "display_data"
    },
    {
     "name": "stdout",
     "output_type": "stream",
     "text": [
      "95ea5afcc571891f18facce1_fce726267ea96ce9ab784689_a752bd14053861097708221f\n"
     ]
    },
    {
     "data": {
      "text/plain": [
       "'num_processed: 1403/20845'"
      ]
     },
     "metadata": {},
     "output_type": "display_data"
    },
    {
     "name": "stdout",
     "output_type": "stream",
     "text": [
      "02a12f176f5e35377938905a_84ad8efa10b54406e7ac478c_64951c8ea4a494942224b3b0\n"
     ]
    },
    {
     "data": {
      "text/plain": [
       "'num_processed: 1404/20845'"
      ]
     },
     "metadata": {},
     "output_type": "display_data"
    },
    {
     "name": "stdout",
     "output_type": "stream",
     "text": [
      "b97eb654275c051ed7080845_f234220a4649dae32820ab93_593a3325c6307398a8f3e202\n"
     ]
    },
    {
     "data": {
      "text/plain": [
       "'num_processed: 1405/20845'"
      ]
     },
     "metadata": {},
     "output_type": "display_data"
    },
    {
     "name": "stdout",
     "output_type": "stream",
     "text": [
      "e97a8a9d7a1f74262ceb5568_b4bffb74533b004503de4d28_a2aacc8c2368d9563bed5074\n"
     ]
    },
    {
     "data": {
      "text/plain": [
       "'num_processed: 1406/20845'"
      ]
     },
     "metadata": {},
     "output_type": "display_data"
    },
    {
     "name": "stdout",
     "output_type": "stream",
     "text": [
      "d76917602b7fe5ef916452d1_ff5d7085811ff55641899a71_3e87a0f681aa3c7634c75b94\n"
     ]
    },
    {
     "data": {
      "text/plain": [
       "'num_processed: 1407/20845'"
      ]
     },
     "metadata": {},
     "output_type": "display_data"
    },
    {
     "name": "stdout",
     "output_type": "stream",
     "text": [
      "69cdec49d5de8e56b2fee887_277949b39740b0d17f74ea9c_16c3514de3148cfe00772f9e\n"
     ]
    },
    {
     "data": {
      "text/plain": [
       "'num_processed: 1408/20845'"
      ]
     },
     "metadata": {},
     "output_type": "display_data"
    },
    {
     "name": "stdout",
     "output_type": "stream",
     "text": [
      "82111968129fda555112cd42_77345e63e2e20618849dbf38_ea7a18e3ca6e2b852b7eb094\n"
     ]
    },
    {
     "data": {
      "text/plain": [
       "'num_processed: 1409/20845'"
      ]
     },
     "metadata": {},
     "output_type": "display_data"
    },
    {
     "name": "stdout",
     "output_type": "stream",
     "text": [
      "81811411189f70a3f1a2315f_8b6152179f05ab9586f7c04b_9d19d30f53801e9511a9715c\n"
     ]
    },
    {
     "data": {
      "text/plain": [
       "'num_processed: 1410/20845'"
      ]
     },
     "metadata": {},
     "output_type": "display_data"
    },
    {
     "name": "stdout",
     "output_type": "stream",
     "text": [
      "f3f68ccf5896943f6efe7571_d5158dee614fd16d5ea04837_97532ddbc4ea04f94f0e328b\n"
     ]
    },
    {
     "data": {
      "text/plain": [
       "'num_processed: 1411/20845'"
      ]
     },
     "metadata": {},
     "output_type": "display_data"
    },
    {
     "name": "stdout",
     "output_type": "stream",
     "text": [
      "8d11d7cbc28378ceea6382e8_06d0dc24b8d040e1992ca527_54fe9f86ceecb3517b71a12f\n"
     ]
    },
    {
     "data": {
      "text/plain": [
       "'num_processed: 1412/20845'"
      ]
     },
     "metadata": {},
     "output_type": "display_data"
    },
    {
     "name": "stdout",
     "output_type": "stream",
     "text": [
      "7abc02bdf52eb1f8c77f8c21_d81674dab047c156c681357d_6d26627794a92838516b0114\n"
     ]
    },
    {
     "data": {
      "text/plain": [
       "'num_processed: 1413/20845'"
      ]
     },
     "metadata": {},
     "output_type": "display_data"
    },
    {
     "name": "stdout",
     "output_type": "stream",
     "text": [
      "ed6e5833ede464539049b579_604c6925c536fb99f5c6349c_5fb5176334ebb2564481f104\n"
     ]
    },
    {
     "data": {
      "text/plain": [
       "'num_processed: 1414/20845'"
      ]
     },
     "metadata": {},
     "output_type": "display_data"
    },
    {
     "name": "stdout",
     "output_type": "stream",
     "text": [
      "43c0c86bea0ffb8ccd9c6454_085da72253c50c512d60f931_5b190a41fdeb8da9abf7a3e9\n"
     ]
    },
    {
     "data": {
      "text/plain": [
       "'num_processed: 1415/20845'"
      ]
     },
     "metadata": {},
     "output_type": "display_data"
    },
    {
     "name": "stdout",
     "output_type": "stream",
     "text": [
      "d92d88c9b9068d2127b1fe66_37c9784ca56c3da0ed327d0e_33dbb026bfd79ae7b47a6766\n"
     ]
    },
    {
     "data": {
      "text/plain": [
       "'num_processed: 1416/20845'"
      ]
     },
     "metadata": {},
     "output_type": "display_data"
    },
    {
     "name": "stdout",
     "output_type": "stream",
     "text": [
      "0e7015c5be77d7b99a7001e6_ce0f361674509611e100effb_7327721cf6d54470c14ca7f9\n"
     ]
    },
    {
     "data": {
      "text/plain": [
       "'num_processed: 1417/20845'"
      ]
     },
     "metadata": {},
     "output_type": "display_data"
    },
    {
     "name": "stdout",
     "output_type": "stream",
     "text": [
      "aedee4431c297896c03aa772_64500a7040014920d46c7346_07e5cbf4941dd62dfa641487\n"
     ]
    },
    {
     "data": {
      "text/plain": [
       "'num_processed: 1418/20845'"
      ]
     },
     "metadata": {},
     "output_type": "display_data"
    },
    {
     "name": "stdout",
     "output_type": "stream",
     "text": [
      "b27e486e7fc8c6695fb8f764_a92109a5b48c8ad343da83b6_598c16a5d9185fdbbb9721fe\n"
     ]
    },
    {
     "data": {
      "text/plain": [
       "'num_processed: 1419/20845'"
      ]
     },
     "metadata": {},
     "output_type": "display_data"
    },
    {
     "name": "stdout",
     "output_type": "stream",
     "text": [
      "bf1d19636f055664f20ebb9c_229e8d8699c97fa4dce793cf_3c4659537e1f8d7003f946c8\n"
     ]
    },
    {
     "data": {
      "text/plain": [
       "'num_processed: 1420/20845'"
      ]
     },
     "metadata": {},
     "output_type": "display_data"
    },
    {
     "name": "stdout",
     "output_type": "stream",
     "text": [
      "284fa3d2ec9ae6ace8c036a5_8cf09ac0f6d2c308dcdefe71_4052a8f3a45ce532fdc933c2\n"
     ]
    },
    {
     "data": {
      "text/plain": [
       "'num_processed: 1421/20845'"
      ]
     },
     "metadata": {},
     "output_type": "display_data"
    },
    {
     "name": "stdout",
     "output_type": "stream",
     "text": [
      "5a5d2fcae586d5cb30a74f83_16e80fc003ce2f2830ff9a77_65da79746ba93baee50fc97e\n"
     ]
    },
    {
     "data": {
      "text/plain": [
       "'num_processed: 1422/20845'"
      ]
     },
     "metadata": {},
     "output_type": "display_data"
    },
    {
     "name": "stdout",
     "output_type": "stream",
     "text": [
      "948c91128f82772b6ebd6275_5083e0e625d3aee597147c79_756afb9be87a993bd2a4f063\n"
     ]
    },
    {
     "data": {
      "text/plain": [
       "'num_processed: 1423/20845'"
      ]
     },
     "metadata": {},
     "output_type": "display_data"
    },
    {
     "name": "stdout",
     "output_type": "stream",
     "text": [
      "f3b0b8a88edc6e18f61faf0e_d9167d30c88e37d322dd4ca0_c775026f97db159ea9109567\n"
     ]
    },
    {
     "data": {
      "text/plain": [
       "'num_processed: 1424/20845'"
      ]
     },
     "metadata": {},
     "output_type": "display_data"
    },
    {
     "name": "stdout",
     "output_type": "stream",
     "text": [
      "83b182189ad979158f68138f_d639d0eabfa26d7be64e99f2_f772c9662a83322c482ec0a2\n"
     ]
    },
    {
     "data": {
      "text/plain": [
       "'num_processed: 1425/20845'"
      ]
     },
     "metadata": {},
     "output_type": "display_data"
    },
    {
     "name": "stdout",
     "output_type": "stream",
     "text": [
      "56ef12afe4b0b95993239792_67d75870f4b887d8e4dd7843_e7ade4b78e37413486267318\n"
     ]
    },
    {
     "data": {
      "text/plain": [
       "'num_processed: 1426/20845'"
      ]
     },
     "metadata": {},
     "output_type": "display_data"
    },
    {
     "name": "stdout",
     "output_type": "stream",
     "text": [
      "fec50b32d601bc7021e29cea_e91792d9bd86abc878a9ea04_15c26c0340e6adfd18896bc3\n"
     ]
    },
    {
     "data": {
      "text/plain": [
       "'num_processed: 1427/20845'"
      ]
     },
     "metadata": {},
     "output_type": "display_data"
    },
    {
     "name": "stdout",
     "output_type": "stream",
     "text": [
      "e87a5e11dac13db01cd2d53d_e82cd444136b79aa592d2e1c_04b9047e7dd646b57890b83a\n"
     ]
    },
    {
     "data": {
      "text/plain": [
       "'num_processed: 1428/20845'"
      ]
     },
     "metadata": {},
     "output_type": "display_data"
    },
    {
     "name": "stdout",
     "output_type": "stream",
     "text": [
      "89e3c29f2c636c4746190e9e_ccda1822bb728e0d088da9ee_3089c81a2be3e494ef23f95f\n",
      "Error in process_face: PK_ENTITY_ask_classERROR TRASFORMING!\n"
     ]
    },
    {
     "data": {
      "text/plain": [
       "'num_processed: 1429/20845'"
      ]
     },
     "metadata": {},
     "output_type": "display_data"
    },
    {
     "name": "stdout",
     "output_type": "stream",
     "text": [
      "7bd89b0e91183e97fdbd08e3_d0553c3b6f6b19f4f0be0fc7_b494c5376b8da59421fa3b41\n",
      "ERROR TRASFORMING!\n",
      "ERROR TRASFORMING!\n"
     ]
    },
    {
     "data": {
      "text/plain": [
       "'num_processed: 1430/20845'"
      ]
     },
     "metadata": {},
     "output_type": "display_data"
    },
    {
     "name": "stdout",
     "output_type": "stream",
     "text": [
      "589105403dcf590fb49bca01_4c5dc9ea60f4bff894261a25_c0b2d85048c64254101be2ba\n"
     ]
    },
    {
     "data": {
      "text/plain": [
       "'num_processed: 1431/20845'"
      ]
     },
     "metadata": {},
     "output_type": "display_data"
    },
    {
     "name": "stdout",
     "output_type": "stream",
     "text": [
      "8d75a6ccd044278e7786c16d_775a52dafc3427d3c5e71efb_442449138700fbc5a92e00f9\n"
     ]
    },
    {
     "data": {
      "text/plain": [
       "'num_processed: 1432/20845'"
      ]
     },
     "metadata": {},
     "output_type": "display_data"
    },
    {
     "name": "stdout",
     "output_type": "stream",
     "text": [
      "f02554aa745aaf0be7cafe79_c3ce5d45473ca399f1bb5250_1c81821c78a1f72df4c8f93e\n"
     ]
    },
    {
     "data": {
      "text/plain": [
       "'num_processed: 1433/20845'"
      ]
     },
     "metadata": {},
     "output_type": "display_data"
    },
    {
     "name": "stdout",
     "output_type": "stream",
     "text": [
      "4cd70ed1d2c73d693fa75819_e496d911b624f71d901fe4bd_8ec8283d4a8393a843ac667a\n"
     ]
    },
    {
     "data": {
      "text/plain": [
       "'num_processed: 1434/20845'"
      ]
     },
     "metadata": {},
     "output_type": "display_data"
    },
    {
     "name": "stdout",
     "output_type": "stream",
     "text": [
      "e36f759d4b04215332383b6d_09a28671a5190fad141e2028_910ea38f915361f68083a363\n"
     ]
    },
    {
     "data": {
      "text/plain": [
       "'num_processed: 1435/20845'"
      ]
     },
     "metadata": {},
     "output_type": "display_data"
    },
    {
     "name": "stdout",
     "output_type": "stream",
     "text": [
      "58de143625c753102f640a60_c4e7d6f38d6b5704f4b157df_fe6f8a1c4c3fc4ba2a252eef\n"
     ]
    },
    {
     "data": {
      "text/plain": [
       "'num_processed: 1436/20845'"
      ]
     },
     "metadata": {},
     "output_type": "display_data"
    },
    {
     "name": "stdout",
     "output_type": "stream",
     "text": [
      "13dec077101c5edcc28c2fa7_023a745ce3868ec650481ed5_1677d3aad527dc4a7233c1b3\n"
     ]
    },
    {
     "data": {
      "text/plain": [
       "'num_processed: 1437/20845'"
      ]
     },
     "metadata": {},
     "output_type": "display_data"
    },
    {
     "name": "stdout",
     "output_type": "stream",
     "text": [
      "c194c2524675da195d9d6fb9_0a8bec5672ef22966192a49e_d6072db8e82f6f4f4b8ee331\n"
     ]
    },
    {
     "data": {
      "text/plain": [
       "'num_processed: 1438/20845'"
      ]
     },
     "metadata": {},
     "output_type": "display_data"
    },
    {
     "name": "stdout",
     "output_type": "stream",
     "text": [
      "077cf44ee7b1435e9d240079_8a6fb1842a1f0fd1a2ac3c56_2d9144bc7d13752bd4c2721d\n"
     ]
    },
    {
     "data": {
      "text/plain": [
       "'num_processed: 1439/20845'"
      ]
     },
     "metadata": {},
     "output_type": "display_data"
    },
    {
     "name": "stdout",
     "output_type": "stream",
     "text": [
      "7d8f0c80b0d1f02cf9bfb1e3_96e16106c772465f140e392b_70a4469548591679e5e03d46\n"
     ]
    },
    {
     "data": {
      "text/plain": [
       "'num_processed: 1440/20845'"
      ]
     },
     "metadata": {},
     "output_type": "display_data"
    },
    {
     "name": "stdout",
     "output_type": "stream",
     "text": [
      "3db769096e7d1a0a8cb95cf7_2bafd82854939a6d5be52594_5abf855d60b0cf3c8ec4f34d\n"
     ]
    },
    {
     "data": {
      "text/plain": [
       "'num_processed: 1441/20845'"
      ]
     },
     "metadata": {},
     "output_type": "display_data"
    },
    {
     "name": "stdout",
     "output_type": "stream",
     "text": [
      "38b429a1e7414ed9a551c55c_704c06cdd0ad6de762b82c59_691ac0db62e5402f654e51cc\n"
     ]
    },
    {
     "data": {
      "text/plain": [
       "'num_processed: 1442/20845'"
      ]
     },
     "metadata": {},
     "output_type": "display_data"
    },
    {
     "name": "stdout",
     "output_type": "stream",
     "text": [
      "89b09d2cafef952e2ef7aa72_4ae0c5c6d1f24f6842339afd_062cf6afb20d07ab69e36cee\n",
      "ERROR TRASFORMING!\n",
      "Error in process_face: PK_ENTITY_ask_classError in process_face: PK_ENTITY_ask_classError in process_face: PK_ENTITY_ask_classEROR IN process_axial - PK_SURF_ask_uvboxEROR IN process_axial - PK_SURF_ask_uvboxERROR TRASFORMING!\n"
     ]
    },
    {
     "data": {
      "text/plain": [
       "'num_processed: 1443/20845'"
      ]
     },
     "metadata": {},
     "output_type": "display_data"
    },
    {
     "name": "stdout",
     "output_type": "stream",
     "text": [
      "a3576ef611fe8e27f52dfa55_b113cdfc8183e3eb28049806_1041167491372401d4e1c119\n"
     ]
    },
    {
     "data": {
      "text/plain": [
       "'num_processed: 1444/20845'"
      ]
     },
     "metadata": {},
     "output_type": "display_data"
    },
    {
     "name": "stdout",
     "output_type": "stream",
     "text": [
      "94c65777cca75e8fb66c669f_701ed964922624b740d2b9aa_addb71a78bef8b3ec12ccbe8\n"
     ]
    },
    {
     "data": {
      "text/plain": [
       "'num_processed: 1445/20845'"
      ]
     },
     "metadata": {},
     "output_type": "display_data"
    },
    {
     "name": "stdout",
     "output_type": "stream",
     "text": [
      "9000505cf5d6d676430aac06_0efab1b8dc499b8f558c9a85_3c8197b1e44493fed885d57b\n"
     ]
    },
    {
     "data": {
      "text/plain": [
       "'num_processed: 1446/20845'"
      ]
     },
     "metadata": {},
     "output_type": "display_data"
    },
    {
     "name": "stdout",
     "output_type": "stream",
     "text": [
      "cb39a8801d6ba0cf3a0e442e_41f4d7221d6f11d22df24b19_7b9949508e8bbc2220d8fb7f\n"
     ]
    },
    {
     "data": {
      "text/plain": [
       "'num_processed: 1447/20845'"
      ]
     },
     "metadata": {},
     "output_type": "display_data"
    },
    {
     "name": "stdout",
     "output_type": "stream",
     "text": [
      "58b329d141e3250fe21f7154_6a959b2a1c872672ab8ae281_04bb7a6fdc039b703edb2bc3\n"
     ]
    },
    {
     "data": {
      "text/plain": [
       "'num_processed: 1448/20845'"
      ]
     },
     "metadata": {},
     "output_type": "display_data"
    },
    {
     "name": "stdout",
     "output_type": "stream",
     "text": [
      "77e7bf20fe70a03c4c5a58de_738fba95cefe17b8f9637923_731ac349d18195974b9a34ad\n"
     ]
    },
    {
     "data": {
      "text/plain": [
       "'num_processed: 1449/20845'"
      ]
     },
     "metadata": {},
     "output_type": "display_data"
    },
    {
     "name": "stdout",
     "output_type": "stream",
     "text": [
      "5455d15c073b776f60e91bd4_deee0ad35bbc0ab080d5655d_b52433d4a2fa202d32762b98\n"
     ]
    },
    {
     "data": {
      "text/plain": [
       "'num_processed: 1450/20845'"
      ]
     },
     "metadata": {},
     "output_type": "display_data"
    },
    {
     "name": "stdout",
     "output_type": "stream",
     "text": [
      "6a5af0042ed231ddfeab10d2_3a575a2e60c359ee39ac6286_b740306c265ef1e704e2df92\n"
     ]
    },
    {
     "data": {
      "text/plain": [
       "'num_processed: 1451/20845'"
      ]
     },
     "metadata": {},
     "output_type": "display_data"
    },
    {
     "name": "stdout",
     "output_type": "stream",
     "text": [
      "589a367b7e864b0f65040785_cf08bc0228d8d4a10855714f_a60d330b14756545c8a8d086\n"
     ]
    },
    {
     "data": {
      "text/plain": [
       "'num_processed: 1452/20845'"
      ]
     },
     "metadata": {},
     "output_type": "display_data"
    },
    {
     "name": "stdout",
     "output_type": "stream",
     "text": [
      "228daeaa668e3f2f68c23d49_18cb20fb3958cd7960b419d6_d041aa1612494aa111a870b0\n"
     ]
    },
    {
     "data": {
      "text/plain": [
       "'num_processed: 1453/20845'"
      ]
     },
     "metadata": {},
     "output_type": "display_data"
    },
    {
     "name": "stdout",
     "output_type": "stream",
     "text": [
      "e026c192a2a5432b0c5ec19c_73d707301283847f39eb0a54_c85e1cd36ee17e2a21f10eeb\n"
     ]
    },
    {
     "data": {
      "text/plain": [
       "'num_processed: 1454/20845'"
      ]
     },
     "metadata": {},
     "output_type": "display_data"
    },
    {
     "name": "stdout",
     "output_type": "stream",
     "text": [
      "4fdfeac88820c8d49c693020_48bc35051003435dcb364dbe_3f8bced8148395b2cf9b1911\n"
     ]
    },
    {
     "data": {
      "text/plain": [
       "'num_processed: 1455/20845'"
      ]
     },
     "metadata": {},
     "output_type": "display_data"
    },
    {
     "name": "stdout",
     "output_type": "stream",
     "text": [
      "677ca2c059f47ea65042dace_07b59c12c6b041be4280f3cf_1167522f15d3145ade2d5479\n"
     ]
    },
    {
     "data": {
      "text/plain": [
       "'num_processed: 1456/20845'"
      ]
     },
     "metadata": {},
     "output_type": "display_data"
    },
    {
     "name": "stdout",
     "output_type": "stream",
     "text": [
      "88114c2c6dba5ad51a3de5bc_d5f01529a398c4cb442f9d09_0d9c8c67755afb8d96b8cbc2\n"
     ]
    },
    {
     "data": {
      "text/plain": [
       "'num_processed: 1457/20845'"
      ]
     },
     "metadata": {},
     "output_type": "display_data"
    },
    {
     "name": "stdout",
     "output_type": "stream",
     "text": [
      "7d60eda3464f31e0a5daa39e_fd637b765f511aec3485f857_e4da34732ee2e5246d04d642\n"
     ]
    },
    {
     "data": {
      "text/plain": [
       "'num_processed: 1458/20845'"
      ]
     },
     "metadata": {},
     "output_type": "display_data"
    },
    {
     "name": "stdout",
     "output_type": "stream",
     "text": [
      "e679a017d07ae06df51851fd_741360608cee4c8fd626b147_0fa7585b3d550fac6eae3600\n"
     ]
    },
    {
     "data": {
      "text/plain": [
       "'num_processed: 1459/20845'"
      ]
     },
     "metadata": {},
     "output_type": "display_data"
    },
    {
     "name": "stdout",
     "output_type": "stream",
     "text": [
      "58babb827d4d2678a245965f_36e37618c99e8b7166aa8768_06f11068b928f482edff230c\n"
     ]
    },
    {
     "data": {
      "text/plain": [
       "'num_processed: 1460/20845'"
      ]
     },
     "metadata": {},
     "output_type": "display_data"
    },
    {
     "name": "stdout",
     "output_type": "stream",
     "text": [
      "fd52da7e36569fa74971ccd2_e968b04bd3ab4e8a7c590984_5a807b78cec290868c77498f\n"
     ]
    },
    {
     "data": {
      "text/plain": [
       "'num_processed: 1461/20845'"
      ]
     },
     "metadata": {},
     "output_type": "display_data"
    },
    {
     "name": "stdout",
     "output_type": "stream",
     "text": [
      "95ab0079fcd2ac9eac6b6e77_7613e09a4581c2010b47f483_be5151f53cdb9f54cb69830c\n"
     ]
    },
    {
     "data": {
      "text/plain": [
       "'num_processed: 1462/20845'"
      ]
     },
     "metadata": {},
     "output_type": "display_data"
    },
    {
     "name": "stdout",
     "output_type": "stream",
     "text": [
      "82a3da24e3bcc5dd5501f140_959b56efa14a898d26a1aba5_1a0f0b1660db88b3317ec22f\n"
     ]
    },
    {
     "data": {
      "text/plain": [
       "'num_processed: 1463/20845'"
      ]
     },
     "metadata": {},
     "output_type": "display_data"
    },
    {
     "name": "stdout",
     "output_type": "stream",
     "text": [
      "9857af58acdd6add23f615f1_037a4b0642c7f1cfff086ebf_03a0390bb6f153dfa51c3dbf\n"
     ]
    },
    {
     "data": {
      "text/plain": [
       "'num_processed: 1464/20845'"
      ]
     },
     "metadata": {},
     "output_type": "display_data"
    },
    {
     "name": "stdout",
     "output_type": "stream",
     "text": [
      "30cf468aec5e4715094668b2_1497038ff629aca631239b65_fc040e3c73fe61268f64cafd\n"
     ]
    },
    {
     "data": {
      "text/plain": [
       "'num_processed: 1465/20845'"
      ]
     },
     "metadata": {},
     "output_type": "display_data"
    },
    {
     "name": "stdout",
     "output_type": "stream",
     "text": [
      "d5c5c179f05913ad97547521_f9c586d3f0456d356e9bb93a_976ff9f55aabaf74f9fc83ed\n"
     ]
    },
    {
     "data": {
      "text/plain": [
       "'num_processed: 1466/20845'"
      ]
     },
     "metadata": {},
     "output_type": "display_data"
    },
    {
     "name": "stdout",
     "output_type": "stream",
     "text": [
      "f82206eb83093f51012f2ea8_4a3cbd49496b3f4be9bd9d2d_4a439f2d45b6b8a7ef40cae9\n"
     ]
    },
    {
     "data": {
      "text/plain": [
       "'num_processed: 1467/20845'"
      ]
     },
     "metadata": {},
     "output_type": "display_data"
    },
    {
     "name": "stdout",
     "output_type": "stream",
     "text": [
      "870a804f308b8c9cdf9a16c8_934c53f2ba4b754fa1f5453e_d1120b84b4d84296469c06f3\n"
     ]
    },
    {
     "data": {
      "text/plain": [
       "'num_processed: 1468/20845'"
      ]
     },
     "metadata": {},
     "output_type": "display_data"
    },
    {
     "name": "stdout",
     "output_type": "stream",
     "text": [
      "66c8e38f161fa72ef49b54a8_450ffcc10d81c53a4ca8aff4_b804163fd7ee72307aa9c6ad\n"
     ]
    },
    {
     "data": {
      "text/plain": [
       "'num_processed: 1469/20845'"
      ]
     },
     "metadata": {},
     "output_type": "display_data"
    },
    {
     "name": "stdout",
     "output_type": "stream",
     "text": [
      "843e6efd6206211851bfa084_44c338b174d1d45ac39ffae7_30c3df44493c72a434ecbb8c\n"
     ]
    },
    {
     "data": {
      "text/plain": [
       "'num_processed: 1470/20845'"
      ]
     },
     "metadata": {},
     "output_type": "display_data"
    },
    {
     "name": "stdout",
     "output_type": "stream",
     "text": [
      "2d2c045873e941b38c311e0e_03a2341d6d20e0d4ed84f6e5_52edd67aeafc89234b39cd3b\n"
     ]
    },
    {
     "data": {
      "text/plain": [
       "'num_processed: 1471/20845'"
      ]
     },
     "metadata": {},
     "output_type": "display_data"
    },
    {
     "name": "stdout",
     "output_type": "stream",
     "text": [
      "232964789f5175b168bd686c_c3fe9a2e041f1172d7c2544c_24068ed9d067eb8b03bf1b60\n"
     ]
    },
    {
     "data": {
      "text/plain": [
       "'num_processed: 1472/20845'"
      ]
     },
     "metadata": {},
     "output_type": "display_data"
    },
    {
     "name": "stdout",
     "output_type": "stream",
     "text": [
      "bbca85a99ceb8b367ebce862_467a5ac98405e04a24cbf351_f9dd93596f4061f68ae808e6\n"
     ]
    },
    {
     "data": {
      "text/plain": [
       "'num_processed: 1473/20845'"
      ]
     },
     "metadata": {},
     "output_type": "display_data"
    },
    {
     "name": "stdout",
     "output_type": "stream",
     "text": [
      "d787dcafaf88956fdf23e932_7949124bf2ec1396c4969350_271548336b45ec3c8dccc9aa\n"
     ]
    },
    {
     "data": {
      "text/plain": [
       "'num_processed: 1474/20845'"
      ]
     },
     "metadata": {},
     "output_type": "display_data"
    },
    {
     "name": "stdout",
     "output_type": "stream",
     "text": [
      "58ed1656f067ed0f72446438_11d61a1ffc8f1b7a48939a7f_ec341dc137090a1c1fc1aeba\n"
     ]
    },
    {
     "data": {
      "text/plain": [
       "'num_processed: 1475/20845'"
      ]
     },
     "metadata": {},
     "output_type": "display_data"
    },
    {
     "name": "stdout",
     "output_type": "stream",
     "text": [
      "c31f84f54c3dbf1cf3995911_a0a942bd13f7f8c22122c9ce_e0390b3b8ab53a54caf73fc8\n"
     ]
    },
    {
     "data": {
      "text/plain": [
       "'num_processed: 1476/20845'"
      ]
     },
     "metadata": {},
     "output_type": "display_data"
    },
    {
     "name": "stdout",
     "output_type": "stream",
     "text": [
      "ff06c055278fdcb373d4c415_6eb300edb9a34e9b21cb42b4_7aafbffd560b0e0cf9884d61\n"
     ]
    },
    {
     "data": {
      "text/plain": [
       "'num_processed: 1477/20845'"
      ]
     },
     "metadata": {},
     "output_type": "display_data"
    },
    {
     "name": "stdout",
     "output_type": "stream",
     "text": [
      "77061ff236a2dd730a1a944a_2929170b006bfad258d8bace_a04226e8cbb51c2f4fe8a6d2\n"
     ]
    },
    {
     "data": {
      "text/plain": [
       "'num_processed: 1478/20845'"
      ]
     },
     "metadata": {},
     "output_type": "display_data"
    },
    {
     "name": "stdout",
     "output_type": "stream",
     "text": [
      "98d8bdd05dc59f039c66592e_fab6b3a6e703b33e857d561f_ea0aa1e800f7cf9345e7edd0\n"
     ]
    },
    {
     "data": {
      "text/plain": [
       "'num_processed: 1479/20845'"
      ]
     },
     "metadata": {},
     "output_type": "display_data"
    },
    {
     "name": "stdout",
     "output_type": "stream",
     "text": [
      "93038bf4d7ca9a8139ef5c9c_d193018d546ce20b1ea275ab_ab08a8e6b14517fdfd8aa8e3\n"
     ]
    },
    {
     "data": {
      "text/plain": [
       "'num_processed: 1480/20845'"
      ]
     },
     "metadata": {},
     "output_type": "display_data"
    },
    {
     "name": "stdout",
     "output_type": "stream",
     "text": [
      "05080a2bb2f8c1644d47bc24_085a0a5b66f2a954c6008567_66c6f58691ff5c8b4bc0c5e5\n"
     ]
    },
    {
     "data": {
      "text/plain": [
       "'num_processed: 1481/20845'"
      ]
     },
     "metadata": {},
     "output_type": "display_data"
    },
    {
     "name": "stdout",
     "output_type": "stream",
     "text": [
      "14f869223456e9bc98eac8b6_8203b4026f6fc462a81c9f5c_995f2569a02a2ef31a674bfe\n",
      "EROR IN process_axial - PK_SURF_ask_uvboxERROR TRASFORMING!\n",
      "ERROR TRASFORMING!\n"
     ]
    },
    {
     "data": {
      "text/plain": [
       "'num_processed: 1482/20845'"
      ]
     },
     "metadata": {},
     "output_type": "display_data"
    },
    {
     "name": "stdout",
     "output_type": "stream",
     "text": [
      "2fc48be0b63cec1b25119977_4744bc2a9d7f3a4589b94776_aa475beb39283e854a17653a\n"
     ]
    },
    {
     "data": {
      "text/plain": [
       "'num_processed: 1483/20845'"
      ]
     },
     "metadata": {},
     "output_type": "display_data"
    },
    {
     "name": "stdout",
     "output_type": "stream",
     "text": [
      "3c73738e5d131f58c288f3f2_882eff9c282fc83a896a5ab9_44cefe4a7f23afc3cc782400\n"
     ]
    },
    {
     "data": {
      "text/plain": [
       "'num_processed: 1484/20845'"
      ]
     },
     "metadata": {},
     "output_type": "display_data"
    },
    {
     "name": "stdout",
     "output_type": "stream",
     "text": [
      "bac87c11bc495da3a1fa6422_3e9486245f4552d189e29004_f3ed1d932e4f4d6d4630adb5\n"
     ]
    },
    {
     "data": {
      "text/plain": [
       "'num_processed: 1485/20845'"
      ]
     },
     "metadata": {},
     "output_type": "display_data"
    },
    {
     "name": "stdout",
     "output_type": "stream",
     "text": [
      "ad9ab6fa73c8cfe4a29e8ccb_fc933c179a689cff213240e4_1a4f441039dd9355428194d3\n"
     ]
    },
    {
     "data": {
      "text/plain": [
       "'num_processed: 1486/20845'"
      ]
     },
     "metadata": {},
     "output_type": "display_data"
    },
    {
     "name": "stdout",
     "output_type": "stream",
     "text": [
      "8a045b6204884c20624f037a_909150de6fd8b96562fb3c5a_0a2736ea734d83956df831c7\n"
     ]
    },
    {
     "data": {
      "text/plain": [
       "'num_processed: 1487/20845'"
      ]
     },
     "metadata": {},
     "output_type": "display_data"
    },
    {
     "name": "stdout",
     "output_type": "stream",
     "text": [
      "587caee0a6d0de16dd35882a_a4c45b44e2096cb906586ce0_c3160a631afbee177ca191bb\n",
      "ERROR TRASFORMING!\n"
     ]
    },
    {
     "data": {
      "text/plain": [
       "'num_processed: 1488/20845'"
      ]
     },
     "metadata": {},
     "output_type": "display_data"
    },
    {
     "name": "stdout",
     "output_type": "stream",
     "text": [
      "5cf9951750645179399d7b7c_3f5090a208988bd72136ce4d_c48b299848dfa2bd8b5965d5\n"
     ]
    },
    {
     "data": {
      "text/plain": [
       "'num_processed: 1489/20845'"
      ]
     },
     "metadata": {},
     "output_type": "display_data"
    },
    {
     "name": "stdout",
     "output_type": "stream",
     "text": [
      "0dafd6f779401b197121d341_f43b84060a29fe1662bd70d2_efb43ff6bbe8a7930e31c74f\n"
     ]
    },
    {
     "data": {
      "text/plain": [
       "'num_processed: 1490/20845'"
      ]
     },
     "metadata": {},
     "output_type": "display_data"
    },
    {
     "name": "stdout",
     "output_type": "stream",
     "text": [
      "765844e635f5f5ecf9b6bd49_aa6b04d73387484a43f75876_7e7968b138f57855d845da4a\n"
     ]
    },
    {
     "data": {
      "text/plain": [
       "'num_processed: 1491/20845'"
      ]
     },
     "metadata": {},
     "output_type": "display_data"
    },
    {
     "name": "stdout",
     "output_type": "stream",
     "text": [
      "301fbef989d1cd13d25e6bc7_fef1e278371d0169f5d12139_b9d510dc1a1c3def6bbc4da1\n"
     ]
    },
    {
     "data": {
      "text/plain": [
       "'num_processed: 1492/20845'"
      ]
     },
     "metadata": {},
     "output_type": "display_data"
    },
    {
     "name": "stdout",
     "output_type": "stream",
     "text": [
      "165f338822d40c1647f53945_1793f88e1cf22fc103cabba4_c262865d5f75cd01eb32d5e6\n"
     ]
    },
    {
     "data": {
      "text/plain": [
       "'num_processed: 1493/20845'"
      ]
     },
     "metadata": {},
     "output_type": "display_data"
    },
    {
     "name": "stdout",
     "output_type": "stream",
     "text": [
      "85b050dd0d063ab069045068_12b390055d48bd53cdf63701_49d4106dd571fe635554d221\n"
     ]
    },
    {
     "data": {
      "text/plain": [
       "'num_processed: 1494/20845'"
      ]
     },
     "metadata": {},
     "output_type": "display_data"
    },
    {
     "name": "stdout",
     "output_type": "stream",
     "text": [
      "80e65024f643f1c7f9d420f0_ac3dbdbb6ddc47c2ffc793ac_7f0a16acd732124ec8b943f8\n"
     ]
    },
    {
     "data": {
      "text/plain": [
       "'num_processed: 1495/20845'"
      ]
     },
     "metadata": {},
     "output_type": "display_data"
    },
    {
     "name": "stdout",
     "output_type": "stream",
     "text": [
      "b384a961228e8bbbadff6efc_28bb8c8e2b26eb452948c290_27de40057752a79dccc61374\n"
     ]
    },
    {
     "data": {
      "text/plain": [
       "'num_processed: 1496/20845'"
      ]
     },
     "metadata": {},
     "output_type": "display_data"
    },
    {
     "name": "stdout",
     "output_type": "stream",
     "text": [
      "0c79b89b3c063923f4f02ec8_fbc1e306c5d21e23c0031524_a4f073b838c6bf63aeefb32d\n"
     ]
    },
    {
     "data": {
      "text/plain": [
       "'num_processed: 1497/20845'"
      ]
     },
     "metadata": {},
     "output_type": "display_data"
    },
    {
     "name": "stdout",
     "output_type": "stream",
     "text": [
      "c49ac7218e19c3fba359136d_c939e96d8da2bde03e8d476d_625ad18955fd6805b57499c7\n"
     ]
    },
    {
     "data": {
      "text/plain": [
       "'num_processed: 1498/20845'"
      ]
     },
     "metadata": {},
     "output_type": "display_data"
    },
    {
     "name": "stdout",
     "output_type": "stream",
     "text": [
      "5374e5df4ff22640bc96aed1_fe8389624015af2b13c93608_e0958430739b4ab5e85dfab3\n"
     ]
    },
    {
     "data": {
      "text/plain": [
       "'num_processed: 1499/20845'"
      ]
     },
     "metadata": {},
     "output_type": "display_data"
    },
    {
     "name": "stdout",
     "output_type": "stream",
     "text": [
      "5b72d5e02690df3e65467448_19ebe6bba16702c893d68987_ae0172a7a48acded941d6980\n"
     ]
    },
    {
     "data": {
      "text/plain": [
       "'num_processed: 1500/20845'"
      ]
     },
     "metadata": {},
     "output_type": "display_data"
    },
    {
     "name": "stdout",
     "output_type": "stream",
     "text": [
      "c0571d067004913c5ffe4983_70ad383a6623eed407e30de6_e1081cb2c62bd0328cae93a1\n"
     ]
    },
    {
     "data": {
      "text/plain": [
       "'num_processed: 1501/20845'"
      ]
     },
     "metadata": {},
     "output_type": "display_data"
    },
    {
     "name": "stdout",
     "output_type": "stream",
     "text": [
      "a2a1cbeb043ae23d993be10c_707d17d7125382fcfc4ee04e_75238aa337a01df98a65479a\n"
     ]
    },
    {
     "data": {
      "text/plain": [
       "'num_processed: 1502/20845'"
      ]
     },
     "metadata": {},
     "output_type": "display_data"
    },
    {
     "name": "stdout",
     "output_type": "stream",
     "text": [
      "3d14a343767518376cdab7e4_336f179508044528cb6e64a6_ed417b4161799a6bd924b54e\n"
     ]
    },
    {
     "data": {
      "text/plain": [
       "'num_processed: 1503/20845'"
      ]
     },
     "metadata": {},
     "output_type": "display_data"
    },
    {
     "name": "stdout",
     "output_type": "stream",
     "text": [
      "183f4ee980fb806015967e80_f0689787ba171764549eb530_803c946b651e98122f0839b7\n"
     ]
    },
    {
     "data": {
      "text/plain": [
       "'num_processed: 1504/20845'"
      ]
     },
     "metadata": {},
     "output_type": "display_data"
    },
    {
     "name": "stdout",
     "output_type": "stream",
     "text": [
      "ce1ff55de0ae636064c1045b_4e3efd6703292fc25aaae85d_a44d31d9a1e5a1869708fa5c\n"
     ]
    },
    {
     "data": {
      "text/plain": [
       "'num_processed: 1505/20845'"
      ]
     },
     "metadata": {},
     "output_type": "display_data"
    },
    {
     "name": "stdout",
     "output_type": "stream",
     "text": [
      "cf5f950a574331ed605e2ac0_9a549ad2fc7ee034371ea8d5_a753098ff100a005625cc332\n"
     ]
    },
    {
     "data": {
      "text/plain": [
       "'num_processed: 1506/20845'"
      ]
     },
     "metadata": {},
     "output_type": "display_data"
    },
    {
     "name": "stdout",
     "output_type": "stream",
     "text": [
      "12ee61334c759a23f822a04e_0eff0b18aeea457c00e2989c_8ba5d62471a85dc0a2323a78\n"
     ]
    },
    {
     "data": {
      "text/plain": [
       "'num_processed: 1507/20845'"
      ]
     },
     "metadata": {},
     "output_type": "display_data"
    },
    {
     "name": "stdout",
     "output_type": "stream",
     "text": [
      "57a25450e4b05a9dd4f9c133_dbcfbae9c7678e824d49bed4_db2b3c0bbd06a5239ae23126\n"
     ]
    },
    {
     "data": {
      "text/plain": [
       "'num_processed: 1508/20845'"
      ]
     },
     "metadata": {},
     "output_type": "display_data"
    },
    {
     "name": "stdout",
     "output_type": "stream",
     "text": [
      "650a53ea87310b0166283c3a_9fbf6a7d9986f2de946d74dc_c274365c28b6f36be0536fa3\n"
     ]
    },
    {
     "data": {
      "text/plain": [
       "'num_processed: 1509/20845'"
      ]
     },
     "metadata": {},
     "output_type": "display_data"
    },
    {
     "name": "stdout",
     "output_type": "stream",
     "text": [
      "15be36d20b5ea2c4b7580fdb_823d791e91a856991d9618bb_e315eae6bbcc4508b82f975a\n"
     ]
    },
    {
     "data": {
      "text/plain": [
       "'num_processed: 1510/20845'"
      ]
     },
     "metadata": {},
     "output_type": "display_data"
    },
    {
     "name": "stdout",
     "output_type": "stream",
     "text": [
      "d4d7a463e5f8872bcaa0ff5d_9fe36e002ef21d43056be842_3913349c8f6c45def0b761a6\n"
     ]
    },
    {
     "data": {
      "text/plain": [
       "'num_processed: 1511/20845'"
      ]
     },
     "metadata": {},
     "output_type": "display_data"
    },
    {
     "name": "stdout",
     "output_type": "stream",
     "text": [
      "23820fe26e64f233c92e60de_11a20df276779202a957b197_8d0ff083f808c1a407e81c72\n"
     ]
    },
    {
     "data": {
      "text/plain": [
       "'num_processed: 1512/20845'"
      ]
     },
     "metadata": {},
     "output_type": "display_data"
    },
    {
     "name": "stdout",
     "output_type": "stream",
     "text": [
      "79ac3a64c173db82924f5069_71bcab357c2d22e3568bba94_feadbd87817437328ff27a82\n"
     ]
    },
    {
     "data": {
      "text/plain": [
       "'num_processed: 1513/20845'"
      ]
     },
     "metadata": {},
     "output_type": "display_data"
    },
    {
     "name": "stdout",
     "output_type": "stream",
     "text": [
      "2e789d16c55ad91784a73699_aa02ca5e761da0bd300fc40e_e90be1524307098de9e64d3b\n"
     ]
    },
    {
     "data": {
      "text/plain": [
       "'num_processed: 1514/20845'"
      ]
     },
     "metadata": {},
     "output_type": "display_data"
    },
    {
     "name": "stdout",
     "output_type": "stream",
     "text": [
      "db3207d9cad263aa15d468f6_c5148aeeeb73973facd1033f_fdb08ff08ffddc610ca2ddcb\n"
     ]
    },
    {
     "data": {
      "text/plain": [
       "'num_processed: 1515/20845'"
      ]
     },
     "metadata": {},
     "output_type": "display_data"
    },
    {
     "name": "stdout",
     "output_type": "stream",
     "text": [
      "ccd34687b4b07954886cd0b1_e728640556577f5ef7c7e3ed_11079f040ead1d2d7c7b23a7\n"
     ]
    },
    {
     "data": {
      "text/plain": [
       "'num_processed: 1516/20845'"
      ]
     },
     "metadata": {},
     "output_type": "display_data"
    },
    {
     "name": "stdout",
     "output_type": "stream",
     "text": [
      "d332fe1e8edf9fbba9d57cda_0b26845dd398020f47d53b70_bc2c9a660d89755989f0658a\n"
     ]
    },
    {
     "data": {
      "text/plain": [
       "'num_processed: 1517/20845'"
      ]
     },
     "metadata": {},
     "output_type": "display_data"
    },
    {
     "name": "stdout",
     "output_type": "stream",
     "text": [
      "a4a6b4c4bc317948efad3b69_8397aaaf2b656636e64a0586_4f26202a95e77c8216fe9161\n"
     ]
    },
    {
     "data": {
      "text/plain": [
       "'num_processed: 1518/20845'"
      ]
     },
     "metadata": {},
     "output_type": "display_data"
    },
    {
     "name": "stdout",
     "output_type": "stream",
     "text": [
      "e69d5570a399d6f664b59c91_262af56e8f98cfc8847e6dcc_1130d2d6a58b27e572b785bc\n"
     ]
    },
    {
     "data": {
      "text/plain": [
       "'num_processed: 1519/20845'"
      ]
     },
     "metadata": {},
     "output_type": "display_data"
    },
    {
     "name": "stdout",
     "output_type": "stream",
     "text": [
      "4ef188cb60982513d9fbf2f8_199704e5819ce23d3e55f988_1ec24aa357ba923c3b1e0552\n"
     ]
    },
    {
     "data": {
      "text/plain": [
       "'num_processed: 1520/20845'"
      ]
     },
     "metadata": {},
     "output_type": "display_data"
    },
    {
     "name": "stdout",
     "output_type": "stream",
     "text": [
      "579da468e4b0ebc07e22864b_d89a8dcd0f22bc08b4e0f629_908d205c58c5ea38530117f8\n"
     ]
    },
    {
     "data": {
      "text/plain": [
       "'num_processed: 1521/20845'"
      ]
     },
     "metadata": {},
     "output_type": "display_data"
    },
    {
     "name": "stdout",
     "output_type": "stream",
     "text": [
      "4b74f78b1df7f380b265bde5_d29d7319e052d2465da5e8a6_d85c36fa9a1f2ac331145486\n"
     ]
    },
    {
     "data": {
      "text/plain": [
       "'num_processed: 1522/20845'"
      ]
     },
     "metadata": {},
     "output_type": "display_data"
    },
    {
     "name": "stdout",
     "output_type": "stream",
     "text": [
      "90ee7f4dc7bbc833d02ed211_87a825fcb7e570e194b954d7_c8092c8289b276235f7a10bd\n"
     ]
    },
    {
     "data": {
      "text/plain": [
       "'num_processed: 1523/20845'"
      ]
     },
     "metadata": {},
     "output_type": "display_data"
    },
    {
     "name": "stdout",
     "output_type": "stream",
     "text": [
      "53824abdbbbd2f1fc46ebec5_b67cdff8631420f4ab31875c_ab3115a4f29e93f45378083c\n"
     ]
    },
    {
     "data": {
      "text/plain": [
       "'num_processed: 1524/20845'"
      ]
     },
     "metadata": {},
     "output_type": "display_data"
    },
    {
     "name": "stdout",
     "output_type": "stream",
     "text": [
      "82e48e5fdeec2ccce6fc1287_02403dc9318da64c18335129_f2dded71a471192bd3165ddb\n"
     ]
    },
    {
     "data": {
      "text/plain": [
       "'num_processed: 1525/20845'"
      ]
     },
     "metadata": {},
     "output_type": "display_data"
    },
    {
     "name": "stdout",
     "output_type": "stream",
     "text": [
      "58063d8a180c9b374fe7d5ec_83b448309a78810ba92e6244_71244d0338c2b50b9ebd7e60\n"
     ]
    },
    {
     "data": {
      "text/plain": [
       "'num_processed: 1526/20845'"
      ]
     },
     "metadata": {},
     "output_type": "display_data"
    },
    {
     "name": "stdout",
     "output_type": "stream",
     "text": [
      "84b46230f8edb78c466e6e14_6599b5aa253aee4ca3949836_025c2aa24aeadea01db8c988\n"
     ]
    },
    {
     "data": {
      "text/plain": [
       "'num_processed: 1527/20845'"
      ]
     },
     "metadata": {},
     "output_type": "display_data"
    },
    {
     "name": "stdout",
     "output_type": "stream",
     "text": [
      "e6a5d4f385b8ad1bf2da4eba_299affefb9f488312e8f81b8_4383f72d8cbe87952073d5d2\n"
     ]
    },
    {
     "data": {
      "text/plain": [
       "'num_processed: 1528/20845'"
      ]
     },
     "metadata": {},
     "output_type": "display_data"
    },
    {
     "name": "stdout",
     "output_type": "stream",
     "text": [
      "f1366eec75fa15304cf573c7_309f855932c6d83abe08fe36_2e0407b10c2d6a16f52a71b4\n"
     ]
    },
    {
     "data": {
      "text/plain": [
       "'num_processed: 1529/20845'"
      ]
     },
     "metadata": {},
     "output_type": "display_data"
    },
    {
     "name": "stdout",
     "output_type": "stream",
     "text": [
      "17dcf178dc0fc594d9379396_55a7bd933cc4c3f3cb4c08c3_11b5478060d7555a1dd2d9c8\n"
     ]
    },
    {
     "data": {
      "text/plain": [
       "'num_processed: 1530/20845'"
      ]
     },
     "metadata": {},
     "output_type": "display_data"
    },
    {
     "name": "stdout",
     "output_type": "stream",
     "text": [
      "19a9c3613c754ed7a15b626b_92aa7a1baa76c1b4f38dad26_625155b249c07e09f4187110\n"
     ]
    },
    {
     "data": {
      "text/plain": [
       "'num_processed: 1531/20845'"
      ]
     },
     "metadata": {},
     "output_type": "display_data"
    },
    {
     "name": "stdout",
     "output_type": "stream",
     "text": [
      "9a8ef43e3ca8de20519e3b4f_4b6a146b5d9fa958042a2b71_5fdafcf5a2ef04e88042f66d\n"
     ]
    },
    {
     "data": {
      "text/plain": [
       "'num_processed: 1532/20845'"
      ]
     },
     "metadata": {},
     "output_type": "display_data"
    },
    {
     "name": "stdout",
     "output_type": "stream",
     "text": [
      "44af8f7999266042c2a07565_5090fa68523a9ac6a02e32e5_1b9988dd4897ecd5b12d6c1d\n"
     ]
    },
    {
     "data": {
      "text/plain": [
       "'num_processed: 1533/20845'"
      ]
     },
     "metadata": {},
     "output_type": "display_data"
    },
    {
     "name": "stdout",
     "output_type": "stream",
     "text": [
      "c91190548fb5e80d764803d7_22c478e519edbbe50a32b0a1_01a3ce9c7aa2281d93437097\n"
     ]
    },
    {
     "data": {
      "text/plain": [
       "'num_processed: 1534/20845'"
      ]
     },
     "metadata": {},
     "output_type": "display_data"
    },
    {
     "name": "stdout",
     "output_type": "stream",
     "text": [
      "b9a1e980d9fcc71df8a38065_85f475ac465194f682dabf34_6afdd49a3acf7f5623b31b8f\n"
     ]
    },
    {
     "data": {
      "text/plain": [
       "'num_processed: 1535/20845'"
      ]
     },
     "metadata": {},
     "output_type": "display_data"
    },
    {
     "name": "stdout",
     "output_type": "stream",
     "text": [
      "c948bec442467a68ae70d365_885ab401fdaf394a21111ba9_155b9bf69adf088c307eb849\n",
      "ERROR TRASFORMING!\n"
     ]
    },
    {
     "data": {
      "text/plain": [
       "'num_processed: 1536/20845'"
      ]
     },
     "metadata": {},
     "output_type": "display_data"
    },
    {
     "name": "stdout",
     "output_type": "stream",
     "text": [
      "48c0c268333dc26a607c025a_77c4934f31973caf61d584ac_ebfef9ff29e9a012adf62443\n"
     ]
    },
    {
     "data": {
      "text/plain": [
       "'num_processed: 1537/20845'"
      ]
     },
     "metadata": {},
     "output_type": "display_data"
    },
    {
     "name": "stdout",
     "output_type": "stream",
     "text": [
      "0d5f8f6ecfa4c7c9c36a1261_927327c612843a59dbfc2a03_39de2917bd31bba2b5730341\n",
      "ERROR TRASFORMING!\n"
     ]
    },
    {
     "data": {
      "text/plain": [
       "'num_processed: 1538/20845'"
      ]
     },
     "metadata": {},
     "output_type": "display_data"
    },
    {
     "name": "stdout",
     "output_type": "stream",
     "text": [
      "ccdb76af2de97f5d2b1ce978_cbba6a359363cc8b89c98059_43cb466b1d3157bdba531cd4\n"
     ]
    },
    {
     "data": {
      "text/plain": [
       "'num_processed: 1539/20845'"
      ]
     },
     "metadata": {},
     "output_type": "display_data"
    },
    {
     "name": "stdout",
     "output_type": "stream",
     "text": [
      "d849e415f187d5adbdb3f001_51592501605313597a741972_404f17a29c5a0d3275182ba7\n"
     ]
    },
    {
     "data": {
      "text/plain": [
       "'num_processed: 1540/20845'"
      ]
     },
     "metadata": {},
     "output_type": "display_data"
    },
    {
     "name": "stdout",
     "output_type": "stream",
     "text": [
      "9817119af9f7fffa1749e1f8_128ffcf2eb72f09e7636ae06_4efb194679d1eb0a12a8b5fc\n"
     ]
    },
    {
     "data": {
      "text/plain": [
       "'num_processed: 1541/20845'"
      ]
     },
     "metadata": {},
     "output_type": "display_data"
    },
    {
     "name": "stdout",
     "output_type": "stream",
     "text": [
      "b5ae6b6db8b0b187399956e0_62417b207c9d450fc81c802e_e226ef3234b4684aacd29e5d\n"
     ]
    },
    {
     "data": {
      "text/plain": [
       "'num_processed: 1542/20845'"
      ]
     },
     "metadata": {},
     "output_type": "display_data"
    },
    {
     "name": "stdout",
     "output_type": "stream",
     "text": [
      "65dbe9d38bf01b73aff262f0_baa88cb7db50fea29bbe89ba_f08085f1d38450894942de4f\n"
     ]
    },
    {
     "data": {
      "text/plain": [
       "'num_processed: 1543/20845'"
      ]
     },
     "metadata": {},
     "output_type": "display_data"
    },
    {
     "name": "stdout",
     "output_type": "stream",
     "text": [
      "d9b2f5024c288cc8b9dafd5c_3fae67b13c4a162171d4e134_597044c0f5b97c5893f20aae\n"
     ]
    },
    {
     "data": {
      "text/plain": [
       "'num_processed: 1544/20845'"
      ]
     },
     "metadata": {},
     "output_type": "display_data"
    },
    {
     "name": "stdout",
     "output_type": "stream",
     "text": [
      "b7e9bf09895eaa53638df1a9_f4c761e8b91f6a863342e248_7874d7093eda04988b48337e\n"
     ]
    },
    {
     "data": {
      "text/plain": [
       "'num_processed: 1545/20845'"
      ]
     },
     "metadata": {},
     "output_type": "display_data"
    },
    {
     "name": "stdout",
     "output_type": "stream",
     "text": [
      "1da0e87894a0404bd5dd7c46_c5da6f06c34c6f52530f3500_aa30418fcbcebac456eb58d8\n"
     ]
    },
    {
     "data": {
      "text/plain": [
       "'num_processed: 1546/20845'"
      ]
     },
     "metadata": {},
     "output_type": "display_data"
    },
    {
     "name": "stdout",
     "output_type": "stream",
     "text": [
      "f6cfcd0c2fec0e89b9b61272_17196085451bb8ce9559dd9b_e29973f5d2015dc7c2ececa7\n"
     ]
    },
    {
     "data": {
      "text/plain": [
       "'num_processed: 1547/20845'"
      ]
     },
     "metadata": {},
     "output_type": "display_data"
    },
    {
     "name": "stdout",
     "output_type": "stream",
     "text": [
      "3e7a337a8855c287db8ceeae_1e4a8e72145d576a24a8c767_c75d95b8b9d415f2bb0090fb\n"
     ]
    },
    {
     "data": {
      "text/plain": [
       "'num_processed: 1548/20845'"
      ]
     },
     "metadata": {},
     "output_type": "display_data"
    },
    {
     "name": "stdout",
     "output_type": "stream",
     "text": [
      "898bd5ab1c03791bb91ac7d0_19414055e68fe6796a02dd6f_95f51bf0f9141c4881b4f83a\n"
     ]
    },
    {
     "data": {
      "text/plain": [
       "'num_processed: 1549/20845'"
      ]
     },
     "metadata": {},
     "output_type": "display_data"
    },
    {
     "name": "stdout",
     "output_type": "stream",
     "text": [
      "d0739235e3ee3d5fc8d93fed_730e1639438b84342bf3705b_241ca21cffbdcc723887c7c3\n"
     ]
    },
    {
     "data": {
      "text/plain": [
       "'num_processed: 1550/20845'"
      ]
     },
     "metadata": {},
     "output_type": "display_data"
    },
    {
     "name": "stdout",
     "output_type": "stream",
     "text": [
      "092ec725a331ddb0efb27aa2_86ece3228cd0cb55a92882b9_a03ce71ce9558d8e4fb5b4c1\n"
     ]
    },
    {
     "data": {
      "text/plain": [
       "'num_processed: 1551/20845'"
      ]
     },
     "metadata": {},
     "output_type": "display_data"
    },
    {
     "name": "stdout",
     "output_type": "stream",
     "text": [
      "117f9ef6bd54b4592c6fb915_e3fcc4e9994bc45d470cb7e1_33f9f87115cc3c1b8286a026\n"
     ]
    },
    {
     "data": {
      "text/plain": [
       "'num_processed: 1552/20845'"
      ]
     },
     "metadata": {},
     "output_type": "display_data"
    },
    {
     "name": "stdout",
     "output_type": "stream",
     "text": [
      "a5c84290702333e60040f961_7685b8b3ed2f13a1afeacc13_70d0136311c8463a5e1b6fe4\n"
     ]
    },
    {
     "data": {
      "text/plain": [
       "'num_processed: 1553/20845'"
      ]
     },
     "metadata": {},
     "output_type": "display_data"
    },
    {
     "name": "stdout",
     "output_type": "stream",
     "text": [
      "58e74adc5b0db1102dd5a865_83431768c0291259166bbc0f_ada124f6fd4c6ffcb1e22234\n"
     ]
    },
    {
     "data": {
      "text/plain": [
       "'num_processed: 1554/20845'"
      ]
     },
     "metadata": {},
     "output_type": "display_data"
    },
    {
     "name": "stdout",
     "output_type": "stream",
     "text": [
      "403dc40bd156158d14a17c51_5666f89b3f80c7e2b38b3038_c62fcec0838faf55d44163d0\n"
     ]
    },
    {
     "data": {
      "text/plain": [
       "'num_processed: 1555/20845'"
      ]
     },
     "metadata": {},
     "output_type": "display_data"
    },
    {
     "name": "stdout",
     "output_type": "stream",
     "text": [
      "e821a77de0c7afd75b34369e_2fc850f60b9f588eeb5eba40_056f45400f873d9195f0c17f\n"
     ]
    },
    {
     "data": {
      "text/plain": [
       "'num_processed: 1556/20845'"
      ]
     },
     "metadata": {},
     "output_type": "display_data"
    },
    {
     "name": "stdout",
     "output_type": "stream",
     "text": [
      "625a14128e7b783d2257b366_c37a15e8173a824e9ce737f5_1bf20194f1ecdcbe59d60a85\n"
     ]
    },
    {
     "data": {
      "text/plain": [
       "'num_processed: 1557/20845'"
      ]
     },
     "metadata": {},
     "output_type": "display_data"
    },
    {
     "name": "stdout",
     "output_type": "stream",
     "text": [
      "1e6e74ed7bf380af15c29839_9abd96b739d3807ae55d456e_da9cd163968c8959b835856f\n"
     ]
    },
    {
     "data": {
      "text/plain": [
       "'num_processed: 1558/20845'"
      ]
     },
     "metadata": {},
     "output_type": "display_data"
    },
    {
     "name": "stdout",
     "output_type": "stream",
     "text": [
      "0e5e5dae276375372b126213_61bef2e3ae79b6148f033f6d_2e629bea9bfa3874df323d42\n"
     ]
    },
    {
     "data": {
      "text/plain": [
       "'num_processed: 1559/20845'"
      ]
     },
     "metadata": {},
     "output_type": "display_data"
    },
    {
     "name": "stdout",
     "output_type": "stream",
     "text": [
      "581a17565bcb7010625140e5_c02aab03d60cc96a89821628_365d5c68494999ae569043e7\n"
     ]
    },
    {
     "data": {
      "text/plain": [
       "'num_processed: 1560/20845'"
      ]
     },
     "metadata": {},
     "output_type": "display_data"
    },
    {
     "name": "stdout",
     "output_type": "stream",
     "text": [
      "b75ede4ccc05cc4c589a775f_08335960da05e7b123321d0e_fef5148ad617c50f442bb410\n"
     ]
    },
    {
     "data": {
      "text/plain": [
       "'num_processed: 1561/20845'"
      ]
     },
     "metadata": {},
     "output_type": "display_data"
    },
    {
     "name": "stdout",
     "output_type": "stream",
     "text": [
      "d5ce5e2831cf544c93f81c94_1634290308d669c5e6bc69b5_dbdc120e00b4d396c3765253\n"
     ]
    },
    {
     "data": {
      "text/plain": [
       "'num_processed: 1562/20845'"
      ]
     },
     "metadata": {},
     "output_type": "display_data"
    },
    {
     "name": "stdout",
     "output_type": "stream",
     "text": [
      "e769234d119dff2a4dfc8d0a_7977775e617bc29f5756e19b_be558e12c5c7d5ac6984b5e5\n"
     ]
    },
    {
     "data": {
      "text/plain": [
       "'num_processed: 1563/20845'"
      ]
     },
     "metadata": {},
     "output_type": "display_data"
    },
    {
     "name": "stdout",
     "output_type": "stream",
     "text": [
      "cf71c8fa0c19d3e39fe9cde1_84e2a8a425e6b09db5d881cf_2c9fccec2230291608a2f56e\n"
     ]
    },
    {
     "data": {
      "text/plain": [
       "'num_processed: 1564/20845'"
      ]
     },
     "metadata": {},
     "output_type": "display_data"
    },
    {
     "name": "stdout",
     "output_type": "stream",
     "text": [
      "747f36f70f25d53ea4b50b0c_16d0c1ab7aaab90d20278d16_78d5ec0668cd026b858b899d\n"
     ]
    },
    {
     "data": {
      "text/plain": [
       "'num_processed: 1565/20845'"
      ]
     },
     "metadata": {},
     "output_type": "display_data"
    },
    {
     "name": "stdout",
     "output_type": "stream",
     "text": [
      "615b625f0d47c76a3cca6d86_275812ffa1ff30a1fbb3b1cd_4a413553330e3566ddc3bcbc\n"
     ]
    },
    {
     "data": {
      "text/plain": [
       "'num_processed: 1566/20845'"
      ]
     },
     "metadata": {},
     "output_type": "display_data"
    },
    {
     "name": "stdout",
     "output_type": "stream",
     "text": [
      "2e18476b8226946dcefaae16_fd900be95d4cfb7b182fbcfb_8543b04e73357ab306ce1b17\n"
     ]
    },
    {
     "data": {
      "text/plain": [
       "'num_processed: 1567/20845'"
      ]
     },
     "metadata": {},
     "output_type": "display_data"
    },
    {
     "name": "stdout",
     "output_type": "stream",
     "text": [
      "5728d97ae4b035276af52438_045f9e937182f1055d6b0b0d_9b78dea8c99e064c4009ed58\n"
     ]
    },
    {
     "data": {
      "text/plain": [
       "'num_processed: 1568/20845'"
      ]
     },
     "metadata": {},
     "output_type": "display_data"
    },
    {
     "name": "stdout",
     "output_type": "stream",
     "text": [
      "1fb87fc716947df4a33b5fdc_d693c1caa296ff6c49fa9998_64f9f0a4b82ae65c4cdda7a8\n"
     ]
    },
    {
     "data": {
      "text/plain": [
       "'num_processed: 1569/20845'"
      ]
     },
     "metadata": {},
     "output_type": "display_data"
    },
    {
     "name": "stdout",
     "output_type": "stream",
     "text": [
      "abc853771b7d6d4f6bffb054_94c24c313fa4fd11349cad24_2d9ce4aee5b388fc89474d6e\n"
     ]
    },
    {
     "data": {
      "text/plain": [
       "'num_processed: 1570/20845'"
      ]
     },
     "metadata": {},
     "output_type": "display_data"
    },
    {
     "name": "stdout",
     "output_type": "stream",
     "text": [
      "28f6af5848a001136de8d076_8c83cf9e6b8ac678b2411176_9260c23e245fac220b73ebab\n",
      "EROR IN process_axial - PK_SURF_ask_uvboxERROR TRASFORMING!\n"
     ]
    },
    {
     "data": {
      "text/plain": [
       "'num_processed: 1571/20845'"
      ]
     },
     "metadata": {},
     "output_type": "display_data"
    },
    {
     "name": "stdout",
     "output_type": "stream",
     "text": [
      "f96c55d975b089d4938621e6_1976fc45e487d417484975e1_5e85f4031c47b540f02e3cbb\n",
      "EROR IN process_axial - PK_SURF_ask_uvboxERROR TRASFORMING!\n",
      "ERROR TRASFORMING!\n"
     ]
    },
    {
     "data": {
      "text/plain": [
       "'num_processed: 1572/20845'"
      ]
     },
     "metadata": {},
     "output_type": "display_data"
    },
    {
     "name": "stdout",
     "output_type": "stream",
     "text": [
      "9fb1451eb557a5c3b3916671_b19e5e3f751a2bbccaa24559_bcc373619205360096dae14e\n"
     ]
    },
    {
     "data": {
      "text/plain": [
       "'num_processed: 1573/20845'"
      ]
     },
     "metadata": {},
     "output_type": "display_data"
    },
    {
     "name": "stdout",
     "output_type": "stream",
     "text": [
      "d4ff61a35af4345092709de6_cc2be8fd71af4907d87ed3a5_8823eba9b000349948e9cb5e\n"
     ]
    },
    {
     "data": {
      "text/plain": [
       "'num_processed: 1574/20845'"
      ]
     },
     "metadata": {},
     "output_type": "display_data"
    },
    {
     "name": "stdout",
     "output_type": "stream",
     "text": [
      "df710c5a22e9d31f170753f6_106159252a921bc339f6c01a_7c33da30d65a45df29bd6d12\n"
     ]
    },
    {
     "data": {
      "text/plain": [
       "'num_processed: 1575/20845'"
      ]
     },
     "metadata": {},
     "output_type": "display_data"
    },
    {
     "name": "stdout",
     "output_type": "stream",
     "text": [
      "c5407663490e05e0cb78b488_105c172c1c9ab1827975adeb_3a06be5594169a08103c7888\n"
     ]
    },
    {
     "data": {
      "text/plain": [
       "'num_processed: 1576/20845'"
      ]
     },
     "metadata": {},
     "output_type": "display_data"
    },
    {
     "name": "stdout",
     "output_type": "stream",
     "text": [
      "af68e9662ad1c4d492ab4af4_2562fde7897b55265684b860_7f5369f65ce224c9be9be639\n"
     ]
    },
    {
     "data": {
      "text/plain": [
       "'num_processed: 1577/20845'"
      ]
     },
     "metadata": {},
     "output_type": "display_data"
    },
    {
     "name": "stdout",
     "output_type": "stream",
     "text": [
      "6e6067e7e453b02d0f60da21_9a81a878492306b3483b3373_fa7ca8001853d1f51c69ac02\n"
     ]
    },
    {
     "data": {
      "text/plain": [
       "'num_processed: 1578/20845'"
      ]
     },
     "metadata": {},
     "output_type": "display_data"
    },
    {
     "name": "stdout",
     "output_type": "stream",
     "text": [
      "ce61ef779e4fe95e067bcd15_85c0a17e073591d9b4273244_e686f44ad2568e5ae06d0d85\n"
     ]
    },
    {
     "data": {
      "text/plain": [
       "'num_processed: 1579/20845'"
      ]
     },
     "metadata": {},
     "output_type": "display_data"
    },
    {
     "name": "stdout",
     "output_type": "stream",
     "text": [
      "45a6569ccf27646de63d454d_60ca2a048a23d78e84575ed1_67c04a43548e15cbbf0e8e0b\n"
     ]
    },
    {
     "data": {
      "text/plain": [
       "'num_processed: 1580/20845'"
      ]
     },
     "metadata": {},
     "output_type": "display_data"
    },
    {
     "name": "stdout",
     "output_type": "stream",
     "text": [
      "2e5ecc9e15d5455345851abc_4d4cbd01ef9ee35294ac02e0_5a65528a37fa0a8f9e175583\n"
     ]
    },
    {
     "data": {
      "text/plain": [
       "'num_processed: 1581/20845'"
      ]
     },
     "metadata": {},
     "output_type": "display_data"
    },
    {
     "name": "stdout",
     "output_type": "stream",
     "text": [
      "cd99f9b7003f462ec7d85078_c5ceedcbbbaee0fb4aac4362_a1ca14b023ec801fd44d9bf0\n"
     ]
    },
    {
     "data": {
      "text/plain": [
       "'num_processed: 1582/20845'"
      ]
     },
     "metadata": {},
     "output_type": "display_data"
    },
    {
     "name": "stdout",
     "output_type": "stream",
     "text": [
      "74d75c64221c157d5cd874aa_5118915c1227c5f84f4c1462_2327ca2b2bd0e4a267eb8dde\n"
     ]
    },
    {
     "data": {
      "text/plain": [
       "'num_processed: 1583/20845'"
      ]
     },
     "metadata": {},
     "output_type": "display_data"
    },
    {
     "name": "stdout",
     "output_type": "stream",
     "text": [
      "57697f14e4b020c4bf8de100_6c99cb719374edafcf089102_2785503784abb497a455a06e\n"
     ]
    },
    {
     "data": {
      "text/plain": [
       "'num_processed: 1584/20845'"
      ]
     },
     "metadata": {},
     "output_type": "display_data"
    },
    {
     "name": "stdout",
     "output_type": "stream",
     "text": [
      "bd03b3bcc141ddfb5d4c9134_658268428813de0672f95d46_19847cc8a4cadc2ae63af38a\n"
     ]
    },
    {
     "data": {
      "text/plain": [
       "'num_processed: 1585/20845'"
      ]
     },
     "metadata": {},
     "output_type": "display_data"
    },
    {
     "name": "stdout",
     "output_type": "stream",
     "text": [
      "57eb97e6c3c68e110b360e7a_2881c0f937cd038326d342d6_90b1f03f04bc0aaa549342dc\n"
     ]
    },
    {
     "data": {
      "text/plain": [
       "'num_processed: 1586/20845'"
      ]
     },
     "metadata": {},
     "output_type": "display_data"
    },
    {
     "name": "stdout",
     "output_type": "stream",
     "text": [
      "46d69cadc3264884143303ef_88a01cfa2d7c93f540ee6093_8bcf356022c01b6d751fbd74\n"
     ]
    },
    {
     "data": {
      "text/plain": [
       "'num_processed: 1587/20845'"
      ]
     },
     "metadata": {},
     "output_type": "display_data"
    },
    {
     "name": "stdout",
     "output_type": "stream",
     "text": [
      "f755ff2a999269dc409140f2_893f81cb014b858b5eedd622_efabe84b6d9a268ecd9290d3\n"
     ]
    },
    {
     "data": {
      "text/plain": [
       "'num_processed: 1588/20845'"
      ]
     },
     "metadata": {},
     "output_type": "display_data"
    },
    {
     "name": "stdout",
     "output_type": "stream",
     "text": [
      "9d946fd7c83aee90a40b7c60_eced9958976da80fce751c30_9f9604458390febfd6bc69e5\n"
     ]
    },
    {
     "data": {
      "text/plain": [
       "'num_processed: 1589/20845'"
      ]
     },
     "metadata": {},
     "output_type": "display_data"
    },
    {
     "name": "stdout",
     "output_type": "stream",
     "text": [
      "1151b5c8b7b2ccce987d75e0_7d73c15967f74caa92cd392e_1de5e7aaa59207c4b4b45119\n"
     ]
    },
    {
     "data": {
      "text/plain": [
       "'num_processed: 1590/20845'"
      ]
     },
     "metadata": {},
     "output_type": "display_data"
    },
    {
     "name": "stdout",
     "output_type": "stream",
     "text": [
      "fbdc923715fd0d3274a974e7_5e62d01d313f01ed58da0db1_03b0741fd5accd47cb5eb0be\n"
     ]
    },
    {
     "data": {
      "text/plain": [
       "'num_processed: 1591/20845'"
      ]
     },
     "metadata": {},
     "output_type": "display_data"
    },
    {
     "name": "stdout",
     "output_type": "stream",
     "text": [
      "c84eb771dbc03e9efd7625b5_af7a1456b4072590c1733d79_b0e1553ac92c7e270bd3c3c2\n"
     ]
    },
    {
     "data": {
      "text/plain": [
       "'num_processed: 1592/20845'"
      ]
     },
     "metadata": {},
     "output_type": "display_data"
    },
    {
     "name": "stdout",
     "output_type": "stream",
     "text": [
      "e653c7b9aa699160a1826f50_8b9230bdb045be53fb5922e7_22d713bdf352989cd8999fbf\n"
     ]
    },
    {
     "data": {
      "text/plain": [
       "'num_processed: 1593/20845'"
      ]
     },
     "metadata": {},
     "output_type": "display_data"
    },
    {
     "name": "stdout",
     "output_type": "stream",
     "text": [
      "4149710125d45155ad7423f3_c146e12a246a16ca9b03e54c_0da72564f76299d372ba38c9\n"
     ]
    },
    {
     "data": {
      "text/plain": [
       "'num_processed: 1594/20845'"
      ]
     },
     "metadata": {},
     "output_type": "display_data"
    },
    {
     "name": "stdout",
     "output_type": "stream",
     "text": [
      "f1c0d520912e7a3d1919b5a1_8f89d5eee2627a86bb3140d5_43f27c2454bb2224c522d370\n"
     ]
    },
    {
     "data": {
      "text/plain": [
       "'num_processed: 1595/20845'"
      ]
     },
     "metadata": {},
     "output_type": "display_data"
    },
    {
     "name": "stdout",
     "output_type": "stream",
     "text": [
      "21f00d0bef4770c2a18c69ce_a35b5425ad5b0af91dd52b09_418c1b63393197378a2a1d14\n"
     ]
    },
    {
     "data": {
      "text/plain": [
       "'num_processed: 1596/20845'"
      ]
     },
     "metadata": {},
     "output_type": "display_data"
    },
    {
     "name": "stdout",
     "output_type": "stream",
     "text": [
      "43f194c281620c23751f1dca_da4e403436e457b7e73bcdec_4af08eed79842e1da1e56941\n",
      "ERROR TRASFORMING!\n"
     ]
    },
    {
     "data": {
      "text/plain": [
       "'num_processed: 1597/20845'"
      ]
     },
     "metadata": {},
     "output_type": "display_data"
    },
    {
     "name": "stdout",
     "output_type": "stream",
     "text": [
      "1ff1d9614b191182f7114ce5_6a5e66430efa024e4d7b40f5_45c48fc474da6ef3a4717a29\n"
     ]
    },
    {
     "data": {
      "text/plain": [
       "'num_processed: 1598/20845'"
      ]
     },
     "metadata": {},
     "output_type": "display_data"
    },
    {
     "name": "stdout",
     "output_type": "stream",
     "text": [
      "80d92129660e2934b45f200a_8556785d580546ae18bb0b9b_800255865a54d2702e1708ed\n"
     ]
    },
    {
     "data": {
      "text/plain": [
       "'num_processed: 1599/20845'"
      ]
     },
     "metadata": {},
     "output_type": "display_data"
    },
    {
     "name": "stdout",
     "output_type": "stream",
     "text": [
      "4e5a7188ffb91b3a744a7e3c_0029e03da079e629c6313b08_ed48e40a3ea95baa869581df\n"
     ]
    },
    {
     "data": {
      "text/plain": [
       "'num_processed: 1600/20845'"
      ]
     },
     "metadata": {},
     "output_type": "display_data"
    },
    {
     "name": "stdout",
     "output_type": "stream",
     "text": [
      "f585312d20a9acc72319916e_c5d12b7c4c5a2ff4a7560524_caa086c9f4b87520552b0845\n"
     ]
    },
    {
     "data": {
      "text/plain": [
       "'num_processed: 1601/20845'"
      ]
     },
     "metadata": {},
     "output_type": "display_data"
    },
    {
     "name": "stdout",
     "output_type": "stream",
     "text": [
      "f7811346c1f4183ed8932172_04940c6909609740781e337c_a64f8af887a73afb431c29f2\n"
     ]
    },
    {
     "data": {
      "text/plain": [
       "'num_processed: 1602/20845'"
      ]
     },
     "metadata": {},
     "output_type": "display_data"
    },
    {
     "name": "stdout",
     "output_type": "stream",
     "text": [
      "e3fcc1ff63e28207c2ad9e59_f8245de765dd47a5f4f0c9db_40e450cb334ad486d0ed9351\n"
     ]
    },
    {
     "data": {
      "text/plain": [
       "'num_processed: 1603/20845'"
      ]
     },
     "metadata": {},
     "output_type": "display_data"
    },
    {
     "name": "stdout",
     "output_type": "stream",
     "text": [
      "f447475b000447b8e72d746b_564baa57e07914e8f9b78387_5f43932d6b13002793e2fa61\n"
     ]
    },
    {
     "data": {
      "text/plain": [
       "'num_processed: 1604/20845'"
      ]
     },
     "metadata": {},
     "output_type": "display_data"
    },
    {
     "name": "stdout",
     "output_type": "stream",
     "text": [
      "a021ef2a8d661b229908ca43_32f06cf358972e619f4451e2_8900d1220975b52bb93aded3\n"
     ]
    },
    {
     "data": {
      "text/plain": [
       "'num_processed: 1605/20845'"
      ]
     },
     "metadata": {},
     "output_type": "display_data"
    },
    {
     "name": "stdout",
     "output_type": "stream",
     "text": [
      "d83375da382c25cc0e1c9f79_bafdd8c2f96afae57343287c_bc2be567b2adc1c897b44b9f\n"
     ]
    },
    {
     "data": {
      "text/plain": [
       "'num_processed: 1606/20845'"
      ]
     },
     "metadata": {},
     "output_type": "display_data"
    },
    {
     "name": "stdout",
     "output_type": "stream",
     "text": [
      "0f17a1077401def30627ec08_5c9acd8b4490f77670923f9c_fe6e69e6283e1727f3e78bdc\n"
     ]
    },
    {
     "data": {
      "text/plain": [
       "'num_processed: 1607/20845'"
      ]
     },
     "metadata": {},
     "output_type": "display_data"
    },
    {
     "name": "stdout",
     "output_type": "stream",
     "text": [
      "d9d626f33bb03ecc0e153b46_c241e0bd1776cc6c090f36e5_bee844c4fb4beaf5b5b999ae\n"
     ]
    },
    {
     "data": {
      "text/plain": [
       "'num_processed: 1608/20845'"
      ]
     },
     "metadata": {},
     "output_type": "display_data"
    },
    {
     "name": "stdout",
     "output_type": "stream",
     "text": [
      "1968d544ccd269fdd185dc60_d9e49c40bcf5fd909258fb80_b2d82635555cf6cdc7636f23\n"
     ]
    },
    {
     "data": {
      "text/plain": [
       "'num_processed: 1609/20845'"
      ]
     },
     "metadata": {},
     "output_type": "display_data"
    },
    {
     "name": "stdout",
     "output_type": "stream",
     "text": [
      "4c4b2114c38aad49a4167fb6_147214ae660c4e86164610b0_1366a90bff1f9e540d3d9d07\n"
     ]
    },
    {
     "data": {
      "text/plain": [
       "'num_processed: 1610/20845'"
      ]
     },
     "metadata": {},
     "output_type": "display_data"
    },
    {
     "name": "stdout",
     "output_type": "stream",
     "text": [
      "4c82d7164733cf8a5a88bf84_b91601b991a8bbcf2758ed1c_5e62fd8a057311b7db2fa61e\n"
     ]
    },
    {
     "data": {
      "text/plain": [
       "'num_processed: 1611/20845'"
      ]
     },
     "metadata": {},
     "output_type": "display_data"
    },
    {
     "name": "stdout",
     "output_type": "stream",
     "text": [
      "c03d0c4fc5fdc904351c7e0a_670c656af0d816b724087061_791051529a5a75d56689fb19\n"
     ]
    },
    {
     "data": {
      "text/plain": [
       "'num_processed: 1612/20845'"
      ]
     },
     "metadata": {},
     "output_type": "display_data"
    },
    {
     "name": "stdout",
     "output_type": "stream",
     "text": [
      "2f2ac18057a69be248ddc6d0_66299db56ff9dbcf5fcb2af0_ba82726da824ffa5f7f97e30\n"
     ]
    },
    {
     "data": {
      "text/plain": [
       "'num_processed: 1613/20845'"
      ]
     },
     "metadata": {},
     "output_type": "display_data"
    },
    {
     "name": "stdout",
     "output_type": "stream",
     "text": [
      "57e93e0fe179b410942e76dd_18d6ae1388415ea20a82a5db_23faca9083ec680b0546999e\n"
     ]
    },
    {
     "data": {
      "text/plain": [
       "'num_processed: 1614/20845'"
      ]
     },
     "metadata": {},
     "output_type": "display_data"
    },
    {
     "name": "stdout",
     "output_type": "stream",
     "text": [
      "02728109b1f09f2b3ba2a118_f5c4f62c7e2767fec65d88de_10ac305460098b012f4f97ef\n"
     ]
    },
    {
     "data": {
      "text/plain": [
       "'num_processed: 1615/20845'"
      ]
     },
     "metadata": {},
     "output_type": "display_data"
    },
    {
     "name": "stdout",
     "output_type": "stream",
     "text": [
      "e9bf30e6666f1c2273fe1f1c_4e5c47979a2373e21d846473_96115042b2925ec4e081650b\n"
     ]
    },
    {
     "data": {
      "text/plain": [
       "'num_processed: 1616/20845'"
      ]
     },
     "metadata": {},
     "output_type": "display_data"
    },
    {
     "name": "stdout",
     "output_type": "stream",
     "text": [
      "c0029fe3db8b6db8d30e2449_25ad19ca57dbbd8ab8b689d6_569aa7b4d308bad028537fb8\n"
     ]
    },
    {
     "data": {
      "text/plain": [
       "'num_processed: 1617/20845'"
      ]
     },
     "metadata": {},
     "output_type": "display_data"
    },
    {
     "name": "stdout",
     "output_type": "stream",
     "text": [
      "9d1b9cea46c908525bbe28e4_82f2446e0867a9eb7b9fc600_bef3124ffddfa2dc7989ce43\n"
     ]
    },
    {
     "data": {
      "text/plain": [
       "'num_processed: 1618/20845'"
      ]
     },
     "metadata": {},
     "output_type": "display_data"
    },
    {
     "name": "stdout",
     "output_type": "stream",
     "text": [
      "14b258943ca9dbda1abc9e09_72d8a9f8c60a97d666f0491e_29bc09a85c94d5a6f27b6c85\n"
     ]
    },
    {
     "data": {
      "text/plain": [
       "'num_processed: 1619/20845'"
      ]
     },
     "metadata": {},
     "output_type": "display_data"
    },
    {
     "name": "stdout",
     "output_type": "stream",
     "text": [
      "b9c2e10ec841af9548965247_8787b4b24180dd9595db899b_04fda55f1ad425604f29e8eb\n"
     ]
    },
    {
     "data": {
      "text/plain": [
       "'num_processed: 1620/20845'"
      ]
     },
     "metadata": {},
     "output_type": "display_data"
    },
    {
     "name": "stdout",
     "output_type": "stream",
     "text": [
      "20c13f2c12d90514d34cbbe5_54385cb6cfda029e21b929d6_947bb10ad16872b95a3bc35c\n"
     ]
    },
    {
     "data": {
      "text/plain": [
       "'num_processed: 1621/20845'"
      ]
     },
     "metadata": {},
     "output_type": "display_data"
    },
    {
     "name": "stdout",
     "output_type": "stream",
     "text": [
      "58ffe7e296c1ac100c5053a6_230f7d3368da0c2774e4f68a_7fa7153712026fa94c163fa0\n"
     ]
    },
    {
     "data": {
      "text/plain": [
       "'num_processed: 1622/20845'"
      ]
     },
     "metadata": {},
     "output_type": "display_data"
    },
    {
     "name": "stdout",
     "output_type": "stream",
     "text": [
      "d0de924bf779bd6f48325085_caf3bf62047cae42683ac874_915907426408b53509f3d0c1\n"
     ]
    },
    {
     "data": {
      "text/plain": [
       "'num_processed: 1623/20845'"
      ]
     },
     "metadata": {},
     "output_type": "display_data"
    },
    {
     "name": "stdout",
     "output_type": "stream",
     "text": [
      "7fef11d064783c3d9b28a2e2_b2677cfbe7acef1679ae66aa_a1dbc7b76805d6c8b696d0c9\n"
     ]
    },
    {
     "data": {
      "text/plain": [
       "'num_processed: 1624/20845'"
      ]
     },
     "metadata": {},
     "output_type": "display_data"
    },
    {
     "name": "stdout",
     "output_type": "stream",
     "text": [
      "8dc3df05f02b8dce8d9f3165_3cb582a7e6f065db7fa47b85_663ee59bf27cd8d893614831\n"
     ]
    },
    {
     "data": {
      "text/plain": [
       "'num_processed: 1625/20845'"
      ]
     },
     "metadata": {},
     "output_type": "display_data"
    },
    {
     "name": "stdout",
     "output_type": "stream",
     "text": [
      "0fb944d7d240dff32574b957_1e1cf4f4717ff2b99be81ea0_f15559b596bae9ec056c6469\n"
     ]
    },
    {
     "data": {
      "text/plain": [
       "'num_processed: 1626/20845'"
      ]
     },
     "metadata": {},
     "output_type": "display_data"
    },
    {
     "name": "stdout",
     "output_type": "stream",
     "text": [
      "11fede109b40ea5fb6392127_261ecfa2e1f1f7c7877d964d_06f19233ce35b58a8e0a597f\n"
     ]
    },
    {
     "data": {
      "text/plain": [
       "'num_processed: 1627/20845'"
      ]
     },
     "metadata": {},
     "output_type": "display_data"
    },
    {
     "name": "stdout",
     "output_type": "stream",
     "text": [
      "8af659432522c8828bfbd5e4_707e9d5810005d3339d7eb5e_00a663d796a0518a9736e507\n"
     ]
    },
    {
     "data": {
      "text/plain": [
       "'num_processed: 1628/20845'"
      ]
     },
     "metadata": {},
     "output_type": "display_data"
    },
    {
     "name": "stdout",
     "output_type": "stream",
     "text": [
      "8773684c38373907413c2c37_16bc18d27a253f1eb3b50fcc_6cfe68164e5b872d0c48a425\n"
     ]
    },
    {
     "data": {
      "text/plain": [
       "'num_processed: 1629/20845'"
      ]
     },
     "metadata": {},
     "output_type": "display_data"
    },
    {
     "name": "stdout",
     "output_type": "stream",
     "text": [
      "cb86bbaea3e67cb3f316e492_f6860e995acf700bfcc56b95_0e3754671694d22ab9817e38\n"
     ]
    },
    {
     "data": {
      "text/plain": [
       "'num_processed: 1630/20845'"
      ]
     },
     "metadata": {},
     "output_type": "display_data"
    },
    {
     "name": "stdout",
     "output_type": "stream",
     "text": [
      "2a768bf93e273e9a12839f72_6bcde378c8e19de0968af59f_37870cc2af7996a43b360fdc\n"
     ]
    },
    {
     "data": {
      "text/plain": [
       "'num_processed: 1631/20845'"
      ]
     },
     "metadata": {},
     "output_type": "display_data"
    },
    {
     "name": "stdout",
     "output_type": "stream",
     "text": [
      "e7408ae489686e539726dfe3_7f36365238c7fcaa04a6feb0_0347fd05822a268e3114e62d\n"
     ]
    },
    {
     "data": {
      "text/plain": [
       "'num_processed: 1632/20845'"
      ]
     },
     "metadata": {},
     "output_type": "display_data"
    },
    {
     "name": "stdout",
     "output_type": "stream",
     "text": [
      "0393e5114695fa77922bdd8d_11ad46c3600b0ea6ababfb23_7d1e85ad2a5a74e3d7a3b398\n",
      "ERROR TRASFORMING!\n"
     ]
    },
    {
     "data": {
      "text/plain": [
       "'num_processed: 1633/20845'"
      ]
     },
     "metadata": {},
     "output_type": "display_data"
    },
    {
     "name": "stdout",
     "output_type": "stream",
     "text": [
      "57a76bf1e4b04099748f6bd7_69aefb5837f2f25ea98bb518_b02d2c1fe5f7cabf902c8e7c\n"
     ]
    },
    {
     "data": {
      "text/plain": [
       "'num_processed: 1634/20845'"
      ]
     },
     "metadata": {},
     "output_type": "display_data"
    },
    {
     "name": "stdout",
     "output_type": "stream",
     "text": [
      "9d29697d40867188a418500c_10a0b3358dc4c80a899433d0_7d48ad03ed5132659ee04602\n"
     ]
    },
    {
     "data": {
      "text/plain": [
       "'num_processed: 1635/20845'"
      ]
     },
     "metadata": {},
     "output_type": "display_data"
    },
    {
     "name": "stdout",
     "output_type": "stream",
     "text": [
      "5849623e53c3f99f24ab30a6_6376384d07db30d3f42d96ca_65f2be6639c3d6a32c43e6d9\n"
     ]
    },
    {
     "data": {
      "text/plain": [
       "'num_processed: 1636/20845'"
      ]
     },
     "metadata": {},
     "output_type": "display_data"
    },
    {
     "name": "stdout",
     "output_type": "stream",
     "text": [
      "fe1c9ff662bac700dd25a060_b85291a0ed15767a45918c6a_4fa6b5673eed8d8333a437c0\n"
     ]
    },
    {
     "data": {
      "text/plain": [
       "'num_processed: 1637/20845'"
      ]
     },
     "metadata": {},
     "output_type": "display_data"
    },
    {
     "name": "stdout",
     "output_type": "stream",
     "text": [
      "ea8897bad6ed961bfc2432ef_56cf163f143a65691a5b4f5e_35bd45dab8bd5e32e1743829\n"
     ]
    },
    {
     "data": {
      "text/plain": [
       "'num_processed: 1638/20845'"
      ]
     },
     "metadata": {},
     "output_type": "display_data"
    },
    {
     "name": "stdout",
     "output_type": "stream",
     "text": [
      "ae709023f951db0f014ef7a8_43f5f1b5d78a56eca4debb0f_ef9e48c175511238493420b3\n"
     ]
    },
    {
     "data": {
      "text/plain": [
       "'num_processed: 1639/20845'"
      ]
     },
     "metadata": {},
     "output_type": "display_data"
    },
    {
     "name": "stdout",
     "output_type": "stream",
     "text": [
      "ac054cb869ba32af670babaf_739d7305e24bb1bd0bcf6a19_768c0b3ce76d781c58598758\n"
     ]
    },
    {
     "data": {
      "text/plain": [
       "'num_processed: 1640/20845'"
      ]
     },
     "metadata": {},
     "output_type": "display_data"
    },
    {
     "name": "stdout",
     "output_type": "stream",
     "text": [
      "ab50656bc36cdae02703d9d5_15dd05cd7954cecd01b886b0_0e42b3647943aea56ed8f93a\n"
     ]
    },
    {
     "data": {
      "text/plain": [
       "'num_processed: 1641/20845'"
      ]
     },
     "metadata": {},
     "output_type": "display_data"
    },
    {
     "name": "stdout",
     "output_type": "stream",
     "text": [
      "87da88dfb75640320153f6f1_9c8dcb05dcbd1e64a2135f24_d5b50fa09797f9b936957ff8\n"
     ]
    },
    {
     "data": {
      "text/plain": [
       "'num_processed: 1642/20845'"
      ]
     },
     "metadata": {},
     "output_type": "display_data"
    },
    {
     "name": "stdout",
     "output_type": "stream",
     "text": [
      "b0c549256c5902adec98cf84_27b9ddbee96e3bfb540a7f8c_9cea27f0c46816c1303b8924\n",
      "ERROR TRASFORMING!\n"
     ]
    },
    {
     "data": {
      "text/plain": [
       "'num_processed: 1643/20845'"
      ]
     },
     "metadata": {},
     "output_type": "display_data"
    },
    {
     "name": "stdout",
     "output_type": "stream",
     "text": [
      "d36e429439ea4741f4d07b32_294ed06dee6573c6721affbe_377eeb92626d2fa17e8ce160\n"
     ]
    },
    {
     "data": {
      "text/plain": [
       "'num_processed: 1644/20845'"
      ]
     },
     "metadata": {},
     "output_type": "display_data"
    },
    {
     "name": "stdout",
     "output_type": "stream",
     "text": [
      "48f4359482fcbc581dc82dca_64e815e85fa499b07ce6380b_35aa05b144cf978a29706bce\n"
     ]
    },
    {
     "data": {
      "text/plain": [
       "'num_processed: 1645/20845'"
      ]
     },
     "metadata": {},
     "output_type": "display_data"
    },
    {
     "name": "stdout",
     "output_type": "stream",
     "text": [
      "cc566019122a665c5a781500_59b6d7412356191a72d03e99_3b4ffb7afc19402074488edb\n"
     ]
    },
    {
     "data": {
      "text/plain": [
       "'num_processed: 1646/20845'"
      ]
     },
     "metadata": {},
     "output_type": "display_data"
    },
    {
     "name": "stdout",
     "output_type": "stream",
     "text": [
      "c95f049846dee5dca48ed1f6_4dfeaafca487afc467892ce0_f45165fcda38f4d97b062215\n"
     ]
    },
    {
     "data": {
      "text/plain": [
       "'num_processed: 1647/20845'"
      ]
     },
     "metadata": {},
     "output_type": "display_data"
    },
    {
     "name": "stdout",
     "output_type": "stream",
     "text": [
      "6dac211da22853c190c86a52_ca3c37cb60f013d7f986340b_21954bd202706026e5ed87c7\n"
     ]
    },
    {
     "data": {
      "text/plain": [
       "'num_processed: 1648/20845'"
      ]
     },
     "metadata": {},
     "output_type": "display_data"
    },
    {
     "name": "stdout",
     "output_type": "stream",
     "text": [
      "3ad5665e3d021d63311732e8_597545bc213b5874e69d98a8_43d6be8d941f6c55ddb5376a\n"
     ]
    },
    {
     "data": {
      "text/plain": [
       "'num_processed: 1649/20845'"
      ]
     },
     "metadata": {},
     "output_type": "display_data"
    },
    {
     "name": "stdout",
     "output_type": "stream",
     "text": [
      "4dd8868ad958f8e20de64d82_1719876194c42f3b0d8b7561_1a8e5ee1b12fe51ad7b160b3\n"
     ]
    },
    {
     "data": {
      "text/plain": [
       "'num_processed: 1650/20845'"
      ]
     },
     "metadata": {},
     "output_type": "display_data"
    },
    {
     "name": "stdout",
     "output_type": "stream",
     "text": [
      "e4e43b6e079d4f794132d180_496584b8e408fb388bd865f3_1f5f589ab53dc8edce0a5799\n"
     ]
    },
    {
     "data": {
      "text/plain": [
       "'num_processed: 1651/20845'"
      ]
     },
     "metadata": {},
     "output_type": "display_data"
    },
    {
     "name": "stdout",
     "output_type": "stream",
     "text": [
      "e27f8984bc04f804a74ccb11_d7fd19f3528c3632cb766455_4b270a139b8c2cf3d889d12b\n"
     ]
    },
    {
     "data": {
      "text/plain": [
       "'num_processed: 1652/20845'"
      ]
     },
     "metadata": {},
     "output_type": "display_data"
    },
    {
     "name": "stdout",
     "output_type": "stream",
     "text": [
      "43770d320f0bbdcf2cbd6555_0197359c9ae6b1a1e6909ec8_6546bfb9e6c47c07253ddd89\n"
     ]
    },
    {
     "data": {
      "text/plain": [
       "'num_processed: 1653/20845'"
      ]
     },
     "metadata": {},
     "output_type": "display_data"
    },
    {
     "name": "stdout",
     "output_type": "stream",
     "text": [
      "d5e13f12cb36dbc7a0a030d9_cffa646757deeacad9c00239_95aec28fadc62a03b594a601\n"
     ]
    },
    {
     "data": {
      "text/plain": [
       "'num_processed: 1654/20845'"
      ]
     },
     "metadata": {},
     "output_type": "display_data"
    },
    {
     "name": "stdout",
     "output_type": "stream",
     "text": [
      "d2d26281028aea7239217f31_9f15234873dcc0bde624e337_cd4b889e2d2faed84b809c16\n"
     ]
    },
    {
     "data": {
      "text/plain": [
       "'num_processed: 1655/20845'"
      ]
     },
     "metadata": {},
     "output_type": "display_data"
    },
    {
     "name": "stdout",
     "output_type": "stream",
     "text": [
      "56ddebdef7f0a2ad36bb4330_133150d6f02fee343aa37ede_9a4847736c843dc3d31dd825\n"
     ]
    },
    {
     "data": {
      "text/plain": [
       "'num_processed: 1656/20845'"
      ]
     },
     "metadata": {},
     "output_type": "display_data"
    },
    {
     "name": "stdout",
     "output_type": "stream",
     "text": [
      "58aee18e552d73b9b6886549_92aa6605199eccc5fdc06f54_53a48c4542aa5e98cede110b\n"
     ]
    },
    {
     "data": {
      "text/plain": [
       "'num_processed: 1657/20845'"
      ]
     },
     "metadata": {},
     "output_type": "display_data"
    },
    {
     "name": "stdout",
     "output_type": "stream",
     "text": [
      "8a0cd256457ec174ba57daa7_e3dd068a9a5ef0a694d2a419_0ab2c3278efa8b18fd091025\n"
     ]
    },
    {
     "data": {
      "text/plain": [
       "'num_processed: 1658/20845'"
      ]
     },
     "metadata": {},
     "output_type": "display_data"
    },
    {
     "name": "stdout",
     "output_type": "stream",
     "text": [
      "638c43a5711df864f950aded_1a51bb55b2749ae9dae62275_b822f7ee7e85303e20c5ef6a\n"
     ]
    },
    {
     "data": {
      "text/plain": [
       "'num_processed: 1659/20845'"
      ]
     },
     "metadata": {},
     "output_type": "display_data"
    },
    {
     "name": "stdout",
     "output_type": "stream",
     "text": [
      "7aab55063928d493d89f9b5d_542d4cbf7da0c8d70d8504eb_d0ccd7f4cc73136c2f9fa509\n"
     ]
    },
    {
     "data": {
      "text/plain": [
       "'num_processed: 1660/20845'"
      ]
     },
     "metadata": {},
     "output_type": "display_data"
    },
    {
     "name": "stdout",
     "output_type": "stream",
     "text": [
      "601159259b5f5286b3d9062e_0c3b73682ba656f819b9beef_a042981035ae9abcbf4c7c6f\n"
     ]
    },
    {
     "data": {
      "text/plain": [
       "'num_processed: 1661/20845'"
      ]
     },
     "metadata": {},
     "output_type": "display_data"
    },
    {
     "name": "stdout",
     "output_type": "stream",
     "text": [
      "29cec957e76071e5b7fcce2d_bc9e3476d5040171e4c0a4aa_c56fe8444e908576353d3bd3\n"
     ]
    },
    {
     "data": {
      "text/plain": [
       "'num_processed: 1662/20845'"
      ]
     },
     "metadata": {},
     "output_type": "display_data"
    },
    {
     "name": "stdout",
     "output_type": "stream",
     "text": [
      "57c3cd1045d56d117eead2a3_3dd674a4ff63763c6f2b5484_7414efda11029023e12ef320\n"
     ]
    },
    {
     "data": {
      "text/plain": [
       "'num_processed: 1663/20845'"
      ]
     },
     "metadata": {},
     "output_type": "display_data"
    },
    {
     "name": "stdout",
     "output_type": "stream",
     "text": [
      "0ad2d05235fa802d8fcba410_da5f3081cc2cc0b9ed9b5b9e_0b52aef8fa0b74541e49f3e6\n"
     ]
    },
    {
     "data": {
      "text/plain": [
       "'num_processed: 1664/20845'"
      ]
     },
     "metadata": {},
     "output_type": "display_data"
    },
    {
     "name": "stdout",
     "output_type": "stream",
     "text": [
      "58e7ab5eb51fa010141b32aa_d1394ce226f9c86b5dd12de7_d0a9ddbf9ea129a6a3d3dd65\n"
     ]
    },
    {
     "data": {
      "text/plain": [
       "'num_processed: 1665/20845'"
      ]
     },
     "metadata": {},
     "output_type": "display_data"
    },
    {
     "name": "stdout",
     "output_type": "stream",
     "text": [
      "a53e70eeb1ea27edc9b59a55_10b35a0b7dae44d367c56e5f_95731534267159f6369c101f\n"
     ]
    },
    {
     "data": {
      "text/plain": [
       "'num_processed: 1666/20845'"
      ]
     },
     "metadata": {},
     "output_type": "display_data"
    },
    {
     "name": "stdout",
     "output_type": "stream",
     "text": [
      "9bc9d75e4b361aaf159bc6e2_8cd954cbdf562ebf8dec49e4_43375074155f214f06bcfe91\n"
     ]
    },
    {
     "data": {
      "text/plain": [
       "'num_processed: 1667/20845'"
      ]
     },
     "metadata": {},
     "output_type": "display_data"
    },
    {
     "name": "stdout",
     "output_type": "stream",
     "text": [
      "d60ad6a8e7f942aff35c9359_7c21ecec014d3e43faaea8f9_f8b629a834537303b5191b8a\n"
     ]
    },
    {
     "data": {
      "text/plain": [
       "'num_processed: 1668/20845'"
      ]
     },
     "metadata": {},
     "output_type": "display_data"
    },
    {
     "name": "stdout",
     "output_type": "stream",
     "text": [
      "8ed5580b625f2a87fdbc6008_1201574d0e9499b643f1fc50_ad69bb24134f89c20338bb2b\n"
     ]
    },
    {
     "data": {
      "text/plain": [
       "'num_processed: 1669/20845'"
      ]
     },
     "metadata": {},
     "output_type": "display_data"
    },
    {
     "name": "stdout",
     "output_type": "stream",
     "text": [
      "623783ad77d0e9e4876bb9d6_42318a8a31933b2e3f946a6f_e7f079def5effaafd71a6a82\n",
      "ERROR TRASFORMING!\n"
     ]
    },
    {
     "data": {
      "text/plain": [
       "'num_processed: 1670/20845'"
      ]
     },
     "metadata": {},
     "output_type": "display_data"
    },
    {
     "name": "stdout",
     "output_type": "stream",
     "text": [
      "bc490afb26e26d755de26cfe_bb810778331c805f2a53e59b_a24f129b1248793100618acf\n"
     ]
    },
    {
     "data": {
      "text/plain": [
       "'num_processed: 1671/20845'"
      ]
     },
     "metadata": {},
     "output_type": "display_data"
    },
    {
     "name": "stdout",
     "output_type": "stream",
     "text": [
      "191b3690ee8164bee62ad7a3_cff1de0e10a51455f283e8b9_cb88ae20c417888725c1564b\n"
     ]
    },
    {
     "data": {
      "text/plain": [
       "'num_processed: 1672/20845'"
      ]
     },
     "metadata": {},
     "output_type": "display_data"
    },
    {
     "name": "stdout",
     "output_type": "stream",
     "text": [
      "bb620e1b12e74067a0d8c946_86edce742ac761c57caaf5ef_64dcb978bdb5e28564a22f17\n"
     ]
    },
    {
     "data": {
      "text/plain": [
       "'num_processed: 1673/20845'"
      ]
     },
     "metadata": {},
     "output_type": "display_data"
    },
    {
     "name": "stdout",
     "output_type": "stream",
     "text": [
      "58da69da9c92500f74d175f6_0928c17f69a5f7ffc1d85477_f813625f3bccbd17a457c8e3\n"
     ]
    },
    {
     "data": {
      "text/plain": [
       "'num_processed: 1674/20845'"
      ]
     },
     "metadata": {},
     "output_type": "display_data"
    },
    {
     "name": "stdout",
     "output_type": "stream",
     "text": [
      "79b6de80f8a99ff7559bdfc5_0635bfffa7d5ed6b7bcd25ee_8141cbd43022a09d15c6e5fa\n"
     ]
    },
    {
     "data": {
      "text/plain": [
       "'num_processed: 1675/20845'"
      ]
     },
     "metadata": {},
     "output_type": "display_data"
    },
    {
     "name": "stdout",
     "output_type": "stream",
     "text": [
      "85244190fd724abefeb4235a_0c96f6108b3e8a2c12736a6e_d6101ff2e81cc799a207a733\n"
     ]
    },
    {
     "data": {
      "text/plain": [
       "'num_processed: 1676/20845'"
      ]
     },
     "metadata": {},
     "output_type": "display_data"
    },
    {
     "name": "stdout",
     "output_type": "stream",
     "text": [
      "588e4f9aa6227a0f81d2b055_4004078eb61e5ad1437195e4_e6aba158f5303c0ab3388711\n",
      "EROR IN process_axial - PK_SURF_ask_uvboxERROR TRASFORMING!\n",
      "ERROR TRASFORMING!\n",
      "ERROR TRASFORMING!\n",
      "ERROR TRASFORMING!\n",
      "ERROR TRASFORMING!\n",
      "ERROR TRASFORMING!\n"
     ]
    },
    {
     "data": {
      "text/plain": [
       "'num_processed: 1677/20845'"
      ]
     },
     "metadata": {},
     "output_type": "display_data"
    },
    {
     "name": "stdout",
     "output_type": "stream",
     "text": [
      "ed3bf58da6711cb579e24def_8876c97ea1db286c62842743_4cfdca9643934ea2c175d4da\n"
     ]
    },
    {
     "data": {
      "text/plain": [
       "'num_processed: 1678/20845'"
      ]
     },
     "metadata": {},
     "output_type": "display_data"
    },
    {
     "name": "stdout",
     "output_type": "stream",
     "text": [
      "ee316ccd05483b1233e8e608_bb88e695c5509fcb33384a83_254244e7e6525ccee518216b\n"
     ]
    },
    {
     "data": {
      "text/plain": [
       "'num_processed: 1679/20845'"
      ]
     },
     "metadata": {},
     "output_type": "display_data"
    },
    {
     "name": "stdout",
     "output_type": "stream",
     "text": [
      "45062a73c410bfda8211841a_04deb5c1b08a6f65edaeac91_d1d3531aa764b84bf6343a83\n"
     ]
    },
    {
     "data": {
      "text/plain": [
       "'num_processed: 1680/20845'"
      ]
     },
     "metadata": {},
     "output_type": "display_data"
    },
    {
     "name": "stdout",
     "output_type": "stream",
     "text": [
      "c153d4115663fa84703ebee2_07454575e90d0c51e458f1a1_05de36c15439402403a78fb7\n"
     ]
    },
    {
     "data": {
      "text/plain": [
       "'num_processed: 1681/20845'"
      ]
     },
     "metadata": {},
     "output_type": "display_data"
    },
    {
     "name": "stdout",
     "output_type": "stream",
     "text": [
      "588cc04c4e52f80fce96eda6_0118d1a5529cc6b7b04bf913_75adec6d882b9803c4eea377\n"
     ]
    },
    {
     "data": {
      "text/plain": [
       "'num_processed: 1682/20845'"
      ]
     },
     "metadata": {},
     "output_type": "display_data"
    },
    {
     "name": "stdout",
     "output_type": "stream",
     "text": [
      "650fae7fddd04b4ca6d77fb5_4b5876de5e3b8e42272b971f_0cf90628c124b7f58a87c9d7\n"
     ]
    },
    {
     "data": {
      "text/plain": [
       "'num_processed: 1683/20845'"
      ]
     },
     "metadata": {},
     "output_type": "display_data"
    },
    {
     "name": "stdout",
     "output_type": "stream",
     "text": [
      "9a9142f00c7decf667f9e2bd_cbdec876606f4a980c7b0e26_8d4b60694a2cc4fc1a191767\n"
     ]
    },
    {
     "data": {
      "text/plain": [
       "'num_processed: 1684/20845'"
      ]
     },
     "metadata": {},
     "output_type": "display_data"
    },
    {
     "name": "stdout",
     "output_type": "stream",
     "text": [
      "58bf7b546fbc170fe0e3feda_6cd17045d338f34b300453a1_1350d92d190059c3235bc308\n"
     ]
    },
    {
     "data": {
      "text/plain": [
       "'num_processed: 1685/20845'"
      ]
     },
     "metadata": {},
     "output_type": "display_data"
    },
    {
     "name": "stdout",
     "output_type": "stream",
     "text": [
      "5faefaee38968b44e076063c_95d70aece093ef11d0a46437_66abf7d56e7b11a6e36b0c4b\n"
     ]
    },
    {
     "data": {
      "text/plain": [
       "'num_processed: 1686/20845'"
      ]
     },
     "metadata": {},
     "output_type": "display_data"
    },
    {
     "name": "stdout",
     "output_type": "stream",
     "text": [
      "82ef3cfd62d86a601e4b2269_673f29d103b35c534213798b_0975b9cf787f844064996799\n"
     ]
    },
    {
     "data": {
      "text/plain": [
       "'num_processed: 1687/20845'"
      ]
     },
     "metadata": {},
     "output_type": "display_data"
    },
    {
     "name": "stdout",
     "output_type": "stream",
     "text": [
      "e4246a3c074de9603cc7dbe6_556be76faf3f620a2b73ed26_5fba58deb3b951ecd3eafe70\n"
     ]
    },
    {
     "data": {
      "text/plain": [
       "'num_processed: 1688/20845'"
      ]
     },
     "metadata": {},
     "output_type": "display_data"
    },
    {
     "name": "stdout",
     "output_type": "stream",
     "text": [
      "2654bb2b3ad33755e38d7548_0c7dfb30a528228717ea39f7_6941cad6d9769431a93b1b91\n"
     ]
    },
    {
     "data": {
      "text/plain": [
       "'num_processed: 1689/20845'"
      ]
     },
     "metadata": {},
     "output_type": "display_data"
    },
    {
     "name": "stdout",
     "output_type": "stream",
     "text": [
      "cc828ec962977cb0e9310436_f17ac98e16e71669abd0404a_e2d614cb9866b29146d6d785\n"
     ]
    },
    {
     "data": {
      "text/plain": [
       "'num_processed: 1690/20845'"
      ]
     },
     "metadata": {},
     "output_type": "display_data"
    },
    {
     "name": "stdout",
     "output_type": "stream",
     "text": [
      "5a47c80bdcb5aada139e3afb_277e79e2d6a237250d5f1d88_e4074c717248167068ff4dcb\n"
     ]
    },
    {
     "data": {
      "text/plain": [
       "'num_processed: 1691/20845'"
      ]
     },
     "metadata": {},
     "output_type": "display_data"
    },
    {
     "name": "stdout",
     "output_type": "stream",
     "text": [
      "de8319595ff89de03fa6cc0b_fdd1d86d3ed47df411025b8f_33b7b1186ae138769895da79\n"
     ]
    },
    {
     "data": {
      "text/plain": [
       "'num_processed: 1692/20845'"
      ]
     },
     "metadata": {},
     "output_type": "display_data"
    },
    {
     "name": "stdout",
     "output_type": "stream",
     "text": [
      "7058f8b2a564800969b0b841_db9542266831ad6a051be9c8_cb4939f098ec8ea4fda5e75f\n"
     ]
    },
    {
     "data": {
      "text/plain": [
       "'num_processed: 1693/20845'"
      ]
     },
     "metadata": {},
     "output_type": "display_data"
    },
    {
     "name": "stdout",
     "output_type": "stream",
     "text": [
      "a246321d18541da805d49a5d_af69adf73657b94b19a0935d_e32a1b305451ce50a7be953a\n"
     ]
    },
    {
     "data": {
      "text/plain": [
       "'num_processed: 1694/20845'"
      ]
     },
     "metadata": {},
     "output_type": "display_data"
    },
    {
     "name": "stdout",
     "output_type": "stream",
     "text": [
      "aa8ece086d6496189e5210b2_b57d6b205931eb07f09673a2_156272703484b1b430e2f28e\n"
     ]
    },
    {
     "data": {
      "text/plain": [
       "'num_processed: 1695/20845'"
      ]
     },
     "metadata": {},
     "output_type": "display_data"
    },
    {
     "name": "stdout",
     "output_type": "stream",
     "text": [
      "099274e17003ecc3c8870218_a32b8f77c0f3863426fe7344_6a020d1b9718e9c491465403\n"
     ]
    },
    {
     "data": {
      "text/plain": [
       "'num_processed: 1696/20845'"
      ]
     },
     "metadata": {},
     "output_type": "display_data"
    },
    {
     "name": "stdout",
     "output_type": "stream",
     "text": [
      "3aef7499b0fd29b21c3928ad_d3f9e9eb47618b032a81b9f8_0402e08c0f72386efaaffee7\n"
     ]
    },
    {
     "data": {
      "text/plain": [
       "'num_processed: 1697/20845'"
      ]
     },
     "metadata": {},
     "output_type": "display_data"
    },
    {
     "name": "stdout",
     "output_type": "stream",
     "text": [
      "e0acd4be3caa2f9272376ea6_49c1ba06498c0838a5989e09_3f779cf11e78ffa22484c0a7\n"
     ]
    },
    {
     "data": {
      "text/plain": [
       "'num_processed: 1698/20845'"
      ]
     },
     "metadata": {},
     "output_type": "display_data"
    },
    {
     "name": "stdout",
     "output_type": "stream",
     "text": [
      "1455ae4a669d05b544ce0a3e_a2656178dbc1f881ff9fab37_4c4df919ac901377eb21af40\n"
     ]
    },
    {
     "data": {
      "text/plain": [
       "'num_processed: 1699/20845'"
      ]
     },
     "metadata": {},
     "output_type": "display_data"
    },
    {
     "name": "stdout",
     "output_type": "stream",
     "text": [
      "edb1f2a4ffb96d046a2970ae_844b3650b0cad1482741b3dc_73bc098171d061d3438ca15b\n"
     ]
    },
    {
     "data": {
      "text/plain": [
       "'num_processed: 1700/20845'"
      ]
     },
     "metadata": {},
     "output_type": "display_data"
    },
    {
     "name": "stdout",
     "output_type": "stream",
     "text": [
      "69a1c454364e17e6aababaff_df74f1cadf7d5f2a8d3c16f7_a7b3085530c4d0db3e98b3c2\n",
      "ERROR TRASFORMING!\n"
     ]
    },
    {
     "data": {
      "text/plain": [
       "'num_processed: 1701/20845'"
      ]
     },
     "metadata": {},
     "output_type": "display_data"
    },
    {
     "name": "stdout",
     "output_type": "stream",
     "text": [
      "d4885a53f1579e4945b09f8d_36e5c8864fc33f6a1415106e_ec20aeb4bca7efd3a38ba9e1\n"
     ]
    },
    {
     "data": {
      "text/plain": [
       "'num_processed: 1702/20845'"
      ]
     },
     "metadata": {},
     "output_type": "display_data"
    },
    {
     "name": "stdout",
     "output_type": "stream",
     "text": [
      "3361ffe63f916cb38b906344_ef84bb0612d47711bafbec27_b67047d7090490b40ac8f7a3\n"
     ]
    },
    {
     "data": {
      "text/plain": [
       "'num_processed: 1703/20845'"
      ]
     },
     "metadata": {},
     "output_type": "display_data"
    },
    {
     "name": "stdout",
     "output_type": "stream",
     "text": [
      "5cff3179f80a41fd244dbe25_552df3ba4b13eefe824be8b3_bae44dd0b8cb0038fdf801b5\n"
     ]
    },
    {
     "data": {
      "text/plain": [
       "'num_processed: 1704/20845'"
      ]
     },
     "metadata": {},
     "output_type": "display_data"
    },
    {
     "name": "stdout",
     "output_type": "stream",
     "text": [
      "668b396108dfe4a9eea3331f_f4b31c7a896a6dfde42653bf_10cc54fe5689a823291aa60c\n"
     ]
    },
    {
     "data": {
      "text/plain": [
       "'num_processed: 1705/20845'"
      ]
     },
     "metadata": {},
     "output_type": "display_data"
    },
    {
     "name": "stdout",
     "output_type": "stream",
     "text": [
      "cb4dec4e83510bc9da49f2fa_501922166704061b7f855335_8bfd7aecfe4fe7da5a0402d4\n"
     ]
    },
    {
     "data": {
      "text/plain": [
       "'num_processed: 1706/20845'"
      ]
     },
     "metadata": {},
     "output_type": "display_data"
    },
    {
     "name": "stdout",
     "output_type": "stream",
     "text": [
      "b6392f893366c9cb43bce430_eda80329af7de08fba45f233_b027698e32fbdbac49fc22a6\n"
     ]
    },
    {
     "data": {
      "text/plain": [
       "'num_processed: 1707/20845'"
      ]
     },
     "metadata": {},
     "output_type": "display_data"
    },
    {
     "name": "stdout",
     "output_type": "stream",
     "text": [
      "57e55f4b52dcd410ace9f5a1_f043c6614ad2c1040ed51a8e_36e0ade94c8e43797b952721\n"
     ]
    },
    {
     "data": {
      "text/plain": [
       "'num_processed: 1708/20845'"
      ]
     },
     "metadata": {},
     "output_type": "display_data"
    },
    {
     "name": "stdout",
     "output_type": "stream",
     "text": [
      "e0326d6c0ea7657042174684_630cff387a8beeb241910745_1b990c0f6c0c89e5851c68a6\n"
     ]
    },
    {
     "data": {
      "text/plain": [
       "'num_processed: 1709/20845'"
      ]
     },
     "metadata": {},
     "output_type": "display_data"
    },
    {
     "name": "stdout",
     "output_type": "stream",
     "text": [
      "e55891d1fb91a75b32cf3abc_eb4f9d92a160aaba494509fc_535575f91aa6ff8d8823cc93\n",
      "ERROR TRASFORMING!\n"
     ]
    },
    {
     "data": {
      "text/plain": [
       "'num_processed: 1710/20845'"
      ]
     },
     "metadata": {},
     "output_type": "display_data"
    },
    {
     "name": "stdout",
     "output_type": "stream",
     "text": [
      "41860f8e031ea459ba01861b_de8d984baaa80ffd6e87e264_41d099a7021e8f3032ab6167\n",
      "EROR IN process_axial - PK_SURF_ask_uvboxERROR TRASFORMING!\n",
      "ERROR TRASFORMING!\n",
      "ERROR TRASFORMING!\n",
      "ERROR TRASFORMING!\n",
      "ERROR TRASFORMING!\n",
      "ERROR TRASFORMING!\n"
     ]
    },
    {
     "data": {
      "text/plain": [
       "'num_processed: 1711/20845'"
      ]
     },
     "metadata": {},
     "output_type": "display_data"
    },
    {
     "name": "stdout",
     "output_type": "stream",
     "text": [
      "60b7a5984eb656c369527d7e_11e2e84963b1c7ddc052554a_bcf0a348cf2fd859575dbe4e\n"
     ]
    },
    {
     "data": {
      "text/plain": [
       "'num_processed: 1712/20845'"
      ]
     },
     "metadata": {},
     "output_type": "display_data"
    },
    {
     "name": "stdout",
     "output_type": "stream",
     "text": [
      "fa264ed79960baae8206ce32_d2302430829d3689ce20bb39_f08c993c7145d942a1c2c321\n"
     ]
    },
    {
     "data": {
      "text/plain": [
       "'num_processed: 1713/20845'"
      ]
     },
     "metadata": {},
     "output_type": "display_data"
    },
    {
     "name": "stdout",
     "output_type": "stream",
     "text": [
      "5f0e6ce99c2367223a2368e6_8614bd6fe0922d1128ad0b53_caa3ad9e41e0dc504b86a5d9\n"
     ]
    },
    {
     "data": {
      "text/plain": [
       "'num_processed: 1714/20845'"
      ]
     },
     "metadata": {},
     "output_type": "display_data"
    },
    {
     "name": "stdout",
     "output_type": "stream",
     "text": [
      "8a9dcc6b92227d418713faa9_4bfade63518445f1437ed1dd_8c7ff9929575a08f73cf7c90\n"
     ]
    },
    {
     "data": {
      "text/plain": [
       "'num_processed: 1715/20845'"
      ]
     },
     "metadata": {},
     "output_type": "display_data"
    },
    {
     "name": "stdout",
     "output_type": "stream",
     "text": [
      "5343e46977294e431e8eae9c_507ffe9679feb916da302388_c74d6b2e67af743702985d3c\n"
     ]
    },
    {
     "data": {
      "text/plain": [
       "'num_processed: 1716/20845'"
      ]
     },
     "metadata": {},
     "output_type": "display_data"
    },
    {
     "name": "stdout",
     "output_type": "stream",
     "text": [
      "590affad5ce0b310d7867172_14276170647a544c9ecd0a70_5c2793113257c8dffbc1aec2\n"
     ]
    },
    {
     "data": {
      "text/plain": [
       "'num_processed: 1717/20845'"
      ]
     },
     "metadata": {},
     "output_type": "display_data"
    },
    {
     "name": "stdout",
     "output_type": "stream",
     "text": [
      "3d45cddbca42d604df9dca57_d22af4546b3f8178e98e2fe0_5d6bca1ed82e86a2ad79d1e8\n"
     ]
    },
    {
     "data": {
      "text/plain": [
       "'num_processed: 1718/20845'"
      ]
     },
     "metadata": {},
     "output_type": "display_data"
    },
    {
     "name": "stdout",
     "output_type": "stream",
     "text": [
      "d523f7da8fbc485cc34fa3f4_136e812b8577007f5d562498_2460a5b0b7eb847f5fee8e5e\n"
     ]
    },
    {
     "data": {
      "text/plain": [
       "'num_processed: 1719/20845'"
      ]
     },
     "metadata": {},
     "output_type": "display_data"
    },
    {
     "name": "stdout",
     "output_type": "stream",
     "text": [
      "48d44beba209c1e096976fba_2d1e3b43eaee9072437327d9_80631be24536180315c10c32\n"
     ]
    },
    {
     "data": {
      "text/plain": [
       "'num_processed: 1720/20845'"
      ]
     },
     "metadata": {},
     "output_type": "display_data"
    },
    {
     "name": "stdout",
     "output_type": "stream",
     "text": [
      "c9a18b41d2f17362d3758241_9956c5a05043d7487005bec5_c7963a33bf72b425dcb4deca\n"
     ]
    },
    {
     "data": {
      "text/plain": [
       "'num_processed: 1721/20845'"
      ]
     },
     "metadata": {},
     "output_type": "display_data"
    },
    {
     "name": "stdout",
     "output_type": "stream",
     "text": [
      "1576fb6fa9078ca3f90943a7_6d504d6099c1d704006dda6d_14ba2d38e25cc9debdbab5fa\n"
     ]
    },
    {
     "data": {
      "text/plain": [
       "'num_processed: 1722/20845'"
      ]
     },
     "metadata": {},
     "output_type": "display_data"
    },
    {
     "name": "stdout",
     "output_type": "stream",
     "text": [
      "f02ecb13b2f2018d3edbd1b3_054ca7b76e05f0f53d37db85_a762f57e0012425be11a451e\n"
     ]
    },
    {
     "data": {
      "text/plain": [
       "'num_processed: 1723/20845'"
      ]
     },
     "metadata": {},
     "output_type": "display_data"
    },
    {
     "name": "stdout",
     "output_type": "stream",
     "text": [
      "e65b08292cf5f6ad96fe823f_38a2fa52fc642526548e13f0_f695ede257fca63172d7481b\n"
     ]
    },
    {
     "data": {
      "text/plain": [
       "'num_processed: 1724/20845'"
      ]
     },
     "metadata": {},
     "output_type": "display_data"
    },
    {
     "name": "stdout",
     "output_type": "stream",
     "text": [
      "08a5dd3ae8b310ba954ebc47_b83d54c8a389de9f36017761_f5ca246310a946fb120b1333\n"
     ]
    },
    {
     "data": {
      "text/plain": [
       "'num_processed: 1725/20845'"
      ]
     },
     "metadata": {},
     "output_type": "display_data"
    },
    {
     "name": "stdout",
     "output_type": "stream",
     "text": [
      "0801c4f4b7dda0ea29b2f6d6_fde9f1a6b449af89dd73038a_70c065787faa31b5693ce987\n"
     ]
    },
    {
     "data": {
      "text/plain": [
       "'num_processed: 1726/20845'"
      ]
     },
     "metadata": {},
     "output_type": "display_data"
    },
    {
     "name": "stdout",
     "output_type": "stream",
     "text": [
      "9e1e21e1c4a80942fed12877_e5ff54ba24546172c888ac7a_0edc1b319019bf37ea0a275c\n"
     ]
    },
    {
     "data": {
      "text/plain": [
       "'num_processed: 1727/20845'"
      ]
     },
     "metadata": {},
     "output_type": "display_data"
    },
    {
     "name": "stdout",
     "output_type": "stream",
     "text": [
      "cd404de1c50a36cd99353587_0c959eac3358e2be88d19567_67e91b6c442920420627ba06\n"
     ]
    },
    {
     "data": {
      "text/plain": [
       "'num_processed: 1728/20845'"
      ]
     },
     "metadata": {},
     "output_type": "display_data"
    },
    {
     "name": "stdout",
     "output_type": "stream",
     "text": [
      "7fc233a7f1f268d794087795_be380cb4cb805516cecaa641_1aadfc5ebca5f99e5c9de427\n"
     ]
    },
    {
     "data": {
      "text/plain": [
       "'num_processed: 1729/20845'"
      ]
     },
     "metadata": {},
     "output_type": "display_data"
    },
    {
     "name": "stdout",
     "output_type": "stream",
     "text": [
      "f5f19c1216411c5cf3ddde60_23f6048a3752bd8c5da306dd_b0a124093b756d3ca6d4a213\n",
      "ERROR TRASFORMING!\n"
     ]
    },
    {
     "data": {
      "text/plain": [
       "'num_processed: 1730/20845'"
      ]
     },
     "metadata": {},
     "output_type": "display_data"
    },
    {
     "name": "stdout",
     "output_type": "stream",
     "text": [
      "975eab68904dc5d0dd13b9bb_739dc6c0a6fba821f960d49c_31693defd3bd721cddc8ea63\n"
     ]
    },
    {
     "data": {
      "text/plain": [
       "'num_processed: 1731/20845'"
      ]
     },
     "metadata": {},
     "output_type": "display_data"
    },
    {
     "name": "stdout",
     "output_type": "stream",
     "text": [
      "7a89b30214ce48ad6b49195c_011af07788804e8e040a732d_110efd56a1579fb2e1930909\n"
     ]
    },
    {
     "data": {
      "text/plain": [
       "'num_processed: 1732/20845'"
      ]
     },
     "metadata": {},
     "output_type": "display_data"
    },
    {
     "name": "stdout",
     "output_type": "stream",
     "text": [
      "a78ae7d4a9263ae68d702fca_3e041b3301da3fe03a18927b_15bc5fbdf1ba5419255bc0f7\n"
     ]
    },
    {
     "data": {
      "text/plain": [
       "'num_processed: 1733/20845'"
      ]
     },
     "metadata": {},
     "output_type": "display_data"
    },
    {
     "name": "stdout",
     "output_type": "stream",
     "text": [
      "57f2480a93832a109099d55a_3c8d0e81fe0b3a05a2bc51f5_1f82c842be5e2f87af7f3173\n"
     ]
    },
    {
     "data": {
      "text/plain": [
       "'num_processed: 1734/20845'"
      ]
     },
     "metadata": {},
     "output_type": "display_data"
    },
    {
     "name": "stdout",
     "output_type": "stream",
     "text": [
      "bc628b47be810355b9da840f_b868c8ced07bf51a033d4671_ec0318ecebe0b08e0ad19edc\n"
     ]
    },
    {
     "data": {
      "text/plain": [
       "'num_processed: 1735/20845'"
      ]
     },
     "metadata": {},
     "output_type": "display_data"
    },
    {
     "name": "stdout",
     "output_type": "stream",
     "text": [
      "33452ea53f804d30ab36f996_0e077bbcc27208cef3a7a767_c5c2823e3b8af53edd43f63b\n"
     ]
    },
    {
     "data": {
      "text/plain": [
       "'num_processed: 1736/20845'"
      ]
     },
     "metadata": {},
     "output_type": "display_data"
    },
    {
     "name": "stdout",
     "output_type": "stream",
     "text": [
      "a005cde4b523fab9b6f4b0eb_8dd030a96f63f3fe853b060d_b3d34fa053a07ce7462fd099\n"
     ]
    },
    {
     "data": {
      "text/plain": [
       "'num_processed: 1737/20845'"
      ]
     },
     "metadata": {},
     "output_type": "display_data"
    },
    {
     "name": "stdout",
     "output_type": "stream",
     "text": [
      "381da281c85e9d590b94881a_160900ce60259776bfd2ac31_d22cab60429755653c60d73d\n"
     ]
    },
    {
     "data": {
      "text/plain": [
       "'num_processed: 1738/20845'"
      ]
     },
     "metadata": {},
     "output_type": "display_data"
    },
    {
     "name": "stdout",
     "output_type": "stream",
     "text": [
      "c703fa1b2d13ee7a6c95f196_ecf913b13566232827526486_3f161fcd4b97d87c78ca5d3a\n"
     ]
    },
    {
     "data": {
      "text/plain": [
       "'num_processed: 1739/20845'"
      ]
     },
     "metadata": {},
     "output_type": "display_data"
    },
    {
     "name": "stdout",
     "output_type": "stream",
     "text": [
      "70a47bac47f4d0c79234fbeb_c63296811fe458656d9a1119_ff2d441d797d87aef1fd7ad0\n"
     ]
    },
    {
     "data": {
      "text/plain": [
       "'num_processed: 1740/20845'"
      ]
     },
     "metadata": {},
     "output_type": "display_data"
    },
    {
     "name": "stdout",
     "output_type": "stream",
     "text": [
      "6f42b4545923c4655d142c9b_3f75b9e3b0eb9c8f5055ca79_a90d861f3bb45c76250df368\n"
     ]
    },
    {
     "data": {
      "text/plain": [
       "'num_processed: 1741/20845'"
      ]
     },
     "metadata": {},
     "output_type": "display_data"
    },
    {
     "name": "stdout",
     "output_type": "stream",
     "text": [
      "d8f7271d16748f3d254d13ee_cbd376064f97ff3c4f9c6a62_de0fbae72c310be8d6c6072d\n"
     ]
    },
    {
     "data": {
      "text/plain": [
       "'num_processed: 1742/20845'"
      ]
     },
     "metadata": {},
     "output_type": "display_data"
    },
    {
     "name": "stdout",
     "output_type": "stream",
     "text": [
      "011f5a36e232217319eca62e_3fc4ae8e8abdd74f3e252c7b_829ca1cf9a853fafac4ee331\n"
     ]
    },
    {
     "data": {
      "text/plain": [
       "'num_processed: 1743/20845'"
      ]
     },
     "metadata": {},
     "output_type": "display_data"
    },
    {
     "name": "stdout",
     "output_type": "stream",
     "text": [
      "342a8b1d57b4a2e65ae533b9_664e7b5c3107d2d33437c303_195e41aa73b2f83e4a258f66\n",
      "ERROR TRASFORMING!\n"
     ]
    },
    {
     "data": {
      "text/plain": [
       "'num_processed: 1744/20845'"
      ]
     },
     "metadata": {},
     "output_type": "display_data"
    },
    {
     "name": "stdout",
     "output_type": "stream",
     "text": [
      "0a7becc755e7b537bd0a31c4_c2f7e0bc2c4acc0804f1f2f7_51ae4bd829e5c9f4962cf73f\n"
     ]
    },
    {
     "data": {
      "text/plain": [
       "'num_processed: 1745/20845'"
      ]
     },
     "metadata": {},
     "output_type": "display_data"
    },
    {
     "name": "stdout",
     "output_type": "stream",
     "text": [
      "331a01be0e72469d00224aa2_dd5494c180af715fe3113b23_53195938e40f37511d5eee10\n"
     ]
    },
    {
     "data": {
      "text/plain": [
       "'num_processed: 1746/20845'"
      ]
     },
     "metadata": {},
     "output_type": "display_data"
    },
    {
     "name": "stdout",
     "output_type": "stream",
     "text": [
      "7cb750d30250ea708d927a0f_10dffbc3ee329e0b89c9c37c_0e82136f2d63cf63f7d59292\n"
     ]
    },
    {
     "data": {
      "text/plain": [
       "'num_processed: 1747/20845'"
      ]
     },
     "metadata": {},
     "output_type": "display_data"
    },
    {
     "name": "stdout",
     "output_type": "stream",
     "text": [
      "99619731366d4e2995140643_ae2b21514ee5ab4d7d290eac_54d4baa0896a55358e29ca35\n"
     ]
    },
    {
     "data": {
      "text/plain": [
       "'num_processed: 1748/20845'"
      ]
     },
     "metadata": {},
     "output_type": "display_data"
    },
    {
     "name": "stdout",
     "output_type": "stream",
     "text": [
      "b0f476b28a48e4ed7a002ffc_df55f0dfa1a52aa8c49e99c5_6a059a6eb100b96b6733b411\n"
     ]
    },
    {
     "data": {
      "text/plain": [
       "'num_processed: 1749/20845'"
      ]
     },
     "metadata": {},
     "output_type": "display_data"
    },
    {
     "name": "stdout",
     "output_type": "stream",
     "text": [
      "57e5637b88246d10b7c4a2d8_ecbd9d3d6b6ec269e1c1a1e4_5bed16d87ca81c17f782721f\n"
     ]
    },
    {
     "data": {
      "text/plain": [
       "'num_processed: 1750/20845'"
      ]
     },
     "metadata": {},
     "output_type": "display_data"
    },
    {
     "name": "stdout",
     "output_type": "stream",
     "text": [
      "d0f964e4c2abdf80b7cb68ac_d33c1252032fe36a590fd62e_a8c66a222fe59a05ba9b0ecd\n"
     ]
    },
    {
     "data": {
      "text/plain": [
       "'num_processed: 1751/20845'"
      ]
     },
     "metadata": {},
     "output_type": "display_data"
    },
    {
     "name": "stdout",
     "output_type": "stream",
     "text": [
      "3dd51b21579b17194c706e6d_265a9479cf7012b9054edb53_1b7b7698be4db21c0c15292c\n"
     ]
    },
    {
     "data": {
      "text/plain": [
       "'num_processed: 1752/20845'"
      ]
     },
     "metadata": {},
     "output_type": "display_data"
    },
    {
     "name": "stdout",
     "output_type": "stream",
     "text": [
      "d9869b9683049aac4b6a3f44_76079da61b6e81ba9b6d99f8_4f804247a50c6e1d47f99eb2\n"
     ]
    },
    {
     "data": {
      "text/plain": [
       "'num_processed: 1753/20845'"
      ]
     },
     "metadata": {},
     "output_type": "display_data"
    },
    {
     "name": "stdout",
     "output_type": "stream",
     "text": [
      "79a3500fc9032578280edd04_eda116b59169ee5394c78d51_8cc9d553dd17eb4add170b53\n"
     ]
    },
    {
     "data": {
      "text/plain": [
       "'num_processed: 1754/20845'"
      ]
     },
     "metadata": {},
     "output_type": "display_data"
    },
    {
     "name": "stdout",
     "output_type": "stream",
     "text": [
      "69bf2a2159d6e5362b0feb9f_b07ae3f0c6cd3c4bc9cd19e9_31acef1f4ff9ceead85964d5\n"
     ]
    },
    {
     "data": {
      "text/plain": [
       "'num_processed: 1755/20845'"
      ]
     },
     "metadata": {},
     "output_type": "display_data"
    },
    {
     "name": "stdout",
     "output_type": "stream",
     "text": [
      "6ff4caa267b5c26730064a6b_b796294e9a05a4f4a6d152d7_2a8e1e233dcf9156298d8bbb\n"
     ]
    },
    {
     "data": {
      "text/plain": [
       "'num_processed: 1756/20845'"
      ]
     },
     "metadata": {},
     "output_type": "display_data"
    },
    {
     "name": "stdout",
     "output_type": "stream",
     "text": [
      "5733dd5ee4b091adec582e64_26636e906adabf82dc264782_8e22a7a7757ed08b47b111fe\n"
     ]
    },
    {
     "data": {
      "text/plain": [
       "'num_processed: 1757/20845'"
      ]
     },
     "metadata": {},
     "output_type": "display_data"
    },
    {
     "name": "stdout",
     "output_type": "stream",
     "text": [
      "a91008562e3b62176b16b0fd_5c3f24890ea3dfa2d11f9f4d_b612dd30dd348cfd2eeda7db\n"
     ]
    },
    {
     "data": {
      "text/plain": [
       "'num_processed: 1758/20845'"
      ]
     },
     "metadata": {},
     "output_type": "display_data"
    },
    {
     "name": "stdout",
     "output_type": "stream",
     "text": [
      "006c00150981301e132f0b44_c1f9d5c16fffe52c0f782426_37538c740ab50c0c98baa281\n"
     ]
    },
    {
     "data": {
      "text/plain": [
       "'num_processed: 1759/20845'"
      ]
     },
     "metadata": {},
     "output_type": "display_data"
    },
    {
     "name": "stdout",
     "output_type": "stream",
     "text": [
      "3aec3f9ab5ed780818557215_2c16bc8929ee199f40952857_7e8c7b269c59ce185fa24ee2\n"
     ]
    },
    {
     "data": {
      "text/plain": [
       "'num_processed: 1760/20845'"
      ]
     },
     "metadata": {},
     "output_type": "display_data"
    },
    {
     "name": "stdout",
     "output_type": "stream",
     "text": [
      "a48d139b9437d03e41e8264b_94d7e0f3ace0a15f550d1c2c_895a4a5873d61230e7479768\n"
     ]
    },
    {
     "data": {
      "text/plain": [
       "'num_processed: 1761/20845'"
      ]
     },
     "metadata": {},
     "output_type": "display_data"
    },
    {
     "name": "stdout",
     "output_type": "stream",
     "text": [
      "7edd9fd4bc91239ba1bb17fc_bbf17bb479eb1990b230041b_9146e01c0edbdd4160119c31\n"
     ]
    },
    {
     "data": {
      "text/plain": [
       "'num_processed: 1762/20845'"
      ]
     },
     "metadata": {},
     "output_type": "display_data"
    },
    {
     "name": "stdout",
     "output_type": "stream",
     "text": [
      "57d9ebfa2184311155e9f77b_68ac896c1f374445995f6c71_4670c12a1aaf853bb62156df\n"
     ]
    },
    {
     "data": {
      "text/plain": [
       "'num_processed: 1763/20845'"
      ]
     },
     "metadata": {},
     "output_type": "display_data"
    },
    {
     "name": "stdout",
     "output_type": "stream",
     "text": [
      "388331fabc6853ba9c180b4f_d1ed84f3b9ac5dd2927eb0ef_252053c8390c194c95c921d6\n"
     ]
    },
    {
     "data": {
      "text/plain": [
       "'num_processed: 1764/20845'"
      ]
     },
     "metadata": {},
     "output_type": "display_data"
    },
    {
     "name": "stdout",
     "output_type": "stream",
     "text": [
      "5182b496f14c19c1735b68bc_9c161df925df45653ad0d635_3057c9cafaf8faf638fae9ff\n"
     ]
    },
    {
     "data": {
      "text/plain": [
       "'num_processed: 1765/20845'"
      ]
     },
     "metadata": {},
     "output_type": "display_data"
    },
    {
     "name": "stdout",
     "output_type": "stream",
     "text": [
      "56164393c7d521c04e6a7a31_531b12761ca8d226508cc70c_384d626426eb8f51fc715bed\n"
     ]
    },
    {
     "data": {
      "text/plain": [
       "'num_processed: 1766/20845'"
      ]
     },
     "metadata": {},
     "output_type": "display_data"
    },
    {
     "name": "stdout",
     "output_type": "stream",
     "text": [
      "e9ff987330d47740f6831086_878574a4512acc6764ebcdfd_a3d5d1ae046b4a75be8bc0fd\n"
     ]
    },
    {
     "data": {
      "text/plain": [
       "'num_processed: 1767/20845'"
      ]
     },
     "metadata": {},
     "output_type": "display_data"
    },
    {
     "name": "stdout",
     "output_type": "stream",
     "text": [
      "4da61a6990fb9bffc3994b35_38fa092ea7fb1d608db0bd15_e1276111dd40f6deb26f5711\n"
     ]
    },
    {
     "data": {
      "text/plain": [
       "'num_processed: 1768/20845'"
      ]
     },
     "metadata": {},
     "output_type": "display_data"
    },
    {
     "name": "stdout",
     "output_type": "stream",
     "text": [
      "e33148ec06588a98c4fa3d27_60209243dfed767f2965252c_cebded849100f2aa93e1be97\n"
     ]
    },
    {
     "data": {
      "text/plain": [
       "'num_processed: 1769/20845'"
      ]
     },
     "metadata": {},
     "output_type": "display_data"
    },
    {
     "name": "stdout",
     "output_type": "stream",
     "text": [
      "5f8cbf2593688d219654d463_035fc6bc6d577912b13e6c72_c2160568dcf60606492ff161\n"
     ]
    },
    {
     "data": {
      "text/plain": [
       "'num_processed: 1770/20845'"
      ]
     },
     "metadata": {},
     "output_type": "display_data"
    },
    {
     "name": "stdout",
     "output_type": "stream",
     "text": [
      "019986de1fb569860357d5a0_abf12c56adc3abd96828cc8b_bea41be94aa010678364287e\n"
     ]
    },
    {
     "data": {
      "text/plain": [
       "'num_processed: 1771/20845'"
      ]
     },
     "metadata": {},
     "output_type": "display_data"
    },
    {
     "name": "stdout",
     "output_type": "stream",
     "text": [
      "6525bdf065166e4223c4c1da_e5309acc4d20ea5712f818c6_2b56b99d7af5dd144d295043\n"
     ]
    },
    {
     "data": {
      "text/plain": [
       "'num_processed: 1772/20845'"
      ]
     },
     "metadata": {},
     "output_type": "display_data"
    },
    {
     "name": "stdout",
     "output_type": "stream",
     "text": [
      "57d742366b0c27107567665d_0e78e9fa6020ac435f3841e3_7f8cc6d2730c5af1df258a5e\n"
     ]
    },
    {
     "data": {
      "text/plain": [
       "'num_processed: 1773/20845'"
      ]
     },
     "metadata": {},
     "output_type": "display_data"
    },
    {
     "name": "stdout",
     "output_type": "stream",
     "text": [
      "ec3e4134a7b24f93cabe241f_1e87671a409478ca6ce54000_a2decdb20ef39d3b13d93e67\n"
     ]
    },
    {
     "data": {
      "text/plain": [
       "'num_processed: 1774/20845'"
      ]
     },
     "metadata": {},
     "output_type": "display_data"
    },
    {
     "name": "stdout",
     "output_type": "stream",
     "text": [
      "24b0b7155f5d81741b0127e1_26d47516f3ebb465d7425f90_91f188e077e8dc026b27ff1f\n"
     ]
    },
    {
     "data": {
      "text/plain": [
       "'num_processed: 1775/20845'"
      ]
     },
     "metadata": {},
     "output_type": "display_data"
    },
    {
     "name": "stdout",
     "output_type": "stream",
     "text": [
      "566d50f2c7fd6188da3bb671_35b02c021423e7dc20bae3ab_f58d3b26e15ea07f6a9eb680\n"
     ]
    },
    {
     "data": {
      "text/plain": [
       "'num_processed: 1776/20845'"
      ]
     },
     "metadata": {},
     "output_type": "display_data"
    },
    {
     "name": "stdout",
     "output_type": "stream",
     "text": [
      "e2cc48b4d83599a2026ed8cf_3e00a129ab0698d246cf6eee_7b116d31222182366a9bafc4\n"
     ]
    },
    {
     "data": {
      "text/plain": [
       "'num_processed: 1777/20845'"
      ]
     },
     "metadata": {},
     "output_type": "display_data"
    },
    {
     "name": "stdout",
     "output_type": "stream",
     "text": [
      "de89124b05aec92a7da6b328_06b55aeaca2436210c326232_67a27c1a0d61c74d1490828e\n"
     ]
    },
    {
     "data": {
      "text/plain": [
       "'num_processed: 1778/20845'"
      ]
     },
     "metadata": {},
     "output_type": "display_data"
    },
    {
     "name": "stdout",
     "output_type": "stream",
     "text": [
      "d9377b26bf783fde18e640b9_56abd479e2a051cea18a8400_826f1e16122b2b48332f9cc0\n"
     ]
    },
    {
     "data": {
      "text/plain": [
       "'num_processed: 1779/20845'"
      ]
     },
     "metadata": {},
     "output_type": "display_data"
    },
    {
     "name": "stdout",
     "output_type": "stream",
     "text": [
      "efbe7902c07bb5e2c2a5cf94_de58803eb63041afbad47c3c_466a38107ba4ea45442c295c\n"
     ]
    },
    {
     "data": {
      "text/plain": [
       "'num_processed: 1780/20845'"
      ]
     },
     "metadata": {},
     "output_type": "display_data"
    },
    {
     "name": "stdout",
     "output_type": "stream",
     "text": [
      "29cec957e76071e5b7fcce2d_bc9e3476d5040171e4c0a4aa_037e2b120f29f5a47a26cec3\n"
     ]
    },
    {
     "data": {
      "text/plain": [
       "'num_processed: 1781/20845'"
      ]
     },
     "metadata": {},
     "output_type": "display_data"
    },
    {
     "name": "stdout",
     "output_type": "stream",
     "text": [
      "96f22ed3331697f477d3db4c_4f49df47d2dff6452a44e046_437168b16fb386cb5729f43b\n"
     ]
    },
    {
     "data": {
      "text/plain": [
       "'num_processed: 1782/20845'"
      ]
     },
     "metadata": {},
     "output_type": "display_data"
    },
    {
     "name": "stdout",
     "output_type": "stream",
     "text": [
      "e509d186fd7de6db1ae5d88f_154ca39e6688971520728433_655f2c060e49ecdfcb3229ac\n"
     ]
    },
    {
     "data": {
      "text/plain": [
       "'num_processed: 1783/20845'"
      ]
     },
     "metadata": {},
     "output_type": "display_data"
    },
    {
     "name": "stdout",
     "output_type": "stream",
     "text": [
      "8f7ee4ab2025b613806aa8f2_4bfce27463fabba753b786c1_da04d64c0e1d97cfcd7e8f91\n"
     ]
    },
    {
     "data": {
      "text/plain": [
       "'num_processed: 1784/20845'"
      ]
     },
     "metadata": {},
     "output_type": "display_data"
    },
    {
     "name": "stdout",
     "output_type": "stream",
     "text": [
      "37cfc0228ffc86b046d9d5b7_f31df48346c9ed3a4034450f_6305cce1fe098244dc40f685\n"
     ]
    },
    {
     "data": {
      "text/plain": [
       "'num_processed: 1785/20845'"
      ]
     },
     "metadata": {},
     "output_type": "display_data"
    },
    {
     "name": "stdout",
     "output_type": "stream",
     "text": [
      "6b8eeb6a424d16bc1c2cd5dc_6d5c26520d0727ef29e54d34_604636e26855fe4ad41dbc2d\n"
     ]
    },
    {
     "data": {
      "text/plain": [
       "'num_processed: 1786/20845'"
      ]
     },
     "metadata": {},
     "output_type": "display_data"
    },
    {
     "name": "stdout",
     "output_type": "stream",
     "text": [
      "1261574b003e30a82bad79f1_21e20c5b553a253f021a5741_1515f1a36584d8e517f98dde\n",
      "ERROR TRASFORMING!\n"
     ]
    },
    {
     "data": {
      "text/plain": [
       "'num_processed: 1787/20845'"
      ]
     },
     "metadata": {},
     "output_type": "display_data"
    },
    {
     "name": "stdout",
     "output_type": "stream",
     "text": [
      "943a1a2a32c2fca48f522407_2abc038321cfa4f22881cc06_72611d71974f102943b31bbe\n"
     ]
    },
    {
     "data": {
      "text/plain": [
       "'num_processed: 1788/20845'"
      ]
     },
     "metadata": {},
     "output_type": "display_data"
    },
    {
     "name": "stdout",
     "output_type": "stream",
     "text": [
      "18a7af652d978facc1669ec4_828656bc56e3a6ed08c53738_826a887130a6b7c5ba875287\n"
     ]
    },
    {
     "data": {
      "text/plain": [
       "'num_processed: 1789/20845'"
      ]
     },
     "metadata": {},
     "output_type": "display_data"
    },
    {
     "name": "stdout",
     "output_type": "stream",
     "text": [
      "56f181c8e4b0a6f77947ed9e_254740e8a7e163b998f95fb8_1c624ed52f94ccf53f53c0d0\n"
     ]
    },
    {
     "data": {
      "text/plain": [
       "'num_processed: 1790/20845'"
      ]
     },
     "metadata": {},
     "output_type": "display_data"
    },
    {
     "name": "stdout",
     "output_type": "stream",
     "text": [
      "ea35f36916a0f4ed7997bdf3_bb5406fb29ea539ca8ce7c3a_03504e26d92b93172a640d13\n"
     ]
    },
    {
     "data": {
      "text/plain": [
       "'num_processed: 1791/20845'"
      ]
     },
     "metadata": {},
     "output_type": "display_data"
    },
    {
     "name": "stdout",
     "output_type": "stream",
     "text": [
      "bd3fc317ab71bbe4d83fc8c6_de89dbcc4d61c1014a292ef2_00f9f496ffa8e4a09665c8e8\n"
     ]
    },
    {
     "data": {
      "text/plain": [
       "'num_processed: 1792/20845'"
      ]
     },
     "metadata": {},
     "output_type": "display_data"
    },
    {
     "name": "stdout",
     "output_type": "stream",
     "text": [
      "9ad1456be76fb793c2beb396_d85a01799451b109828f70c9_f2352e1638c655c835d91040\n"
     ]
    },
    {
     "data": {
      "text/plain": [
       "'num_processed: 1793/20845'"
      ]
     },
     "metadata": {},
     "output_type": "display_data"
    },
    {
     "name": "stdout",
     "output_type": "stream",
     "text": [
      "24b0b7155f5d81741b0127e1_26d47516f3ebb465d7425f90_086a6ae6c721036a170c1f59\n"
     ]
    },
    {
     "data": {
      "text/plain": [
       "'num_processed: 1794/20845'"
      ]
     },
     "metadata": {},
     "output_type": "display_data"
    },
    {
     "name": "stdout",
     "output_type": "stream",
     "text": [
      "98dd8ca98d4ce40fa9829196_0520281b11f7409ad97855b2_4728f41ec8334580684eceb4\n"
     ]
    },
    {
     "data": {
      "text/plain": [
       "'num_processed: 1795/20845'"
      ]
     },
     "metadata": {},
     "output_type": "display_data"
    },
    {
     "name": "stdout",
     "output_type": "stream",
     "text": [
      "81aa2e40727d1c21b3a97509_3ba8b0e3454e4f25311c87c8_6bb59ff1d875c6220488e35c\n"
     ]
    },
    {
     "data": {
      "text/plain": [
       "'num_processed: 1796/20845'"
      ]
     },
     "metadata": {},
     "output_type": "display_data"
    },
    {
     "name": "stdout",
     "output_type": "stream",
     "text": [
      "a8bcbbce531316583061910c_8f78729aee64ae478ce6a1b2_299eca4ce916dc03f344c18b\n"
     ]
    },
    {
     "data": {
      "text/plain": [
       "'num_processed: 1797/20845'"
      ]
     },
     "metadata": {},
     "output_type": "display_data"
    },
    {
     "name": "stdout",
     "output_type": "stream",
     "text": [
      "3ea77e8179fe02ae6cbe8332_1dec7802535f5bd54dce8a2c_a549b2578cb0ea9d7a3c17c9\n",
      "EROR IN process_axial - PK_SURF_ask_uvboxERROR TRASFORMING!\n"
     ]
    },
    {
     "data": {
      "text/plain": [
       "'num_processed: 1798/20845'"
      ]
     },
     "metadata": {},
     "output_type": "display_data"
    },
    {
     "name": "stdout",
     "output_type": "stream",
     "text": [
      "68ee1857e604ed9d3b612065_f43bd75fd1f44eabf33c8964_816ffaf6bf05340c3ea44d51\n"
     ]
    },
    {
     "data": {
      "text/plain": [
       "'num_processed: 1799/20845'"
      ]
     },
     "metadata": {},
     "output_type": "display_data"
    },
    {
     "name": "stdout",
     "output_type": "stream",
     "text": [
      "3a83acd599524ea2170242fd_825d9d8d215d3a68885ebf6d_d2f55a0f7e08020d2e1a11ea\n"
     ]
    },
    {
     "data": {
      "text/plain": [
       "'num_processed: 1800/20845'"
      ]
     },
     "metadata": {},
     "output_type": "display_data"
    },
    {
     "name": "stdout",
     "output_type": "stream",
     "text": [
      "6664ffd0d3ed8ac5b5cb2ceb_cf84005308847ccd71265910_7115b0f716d25b588ae88c1a\n"
     ]
    },
    {
     "data": {
      "text/plain": [
       "'num_processed: 1801/20845'"
      ]
     },
     "metadata": {},
     "output_type": "display_data"
    },
    {
     "name": "stdout",
     "output_type": "stream",
     "text": [
      "b3ccfd19c38fd93fee270595_081e2ba005886ed7d3cf985a_1bb4227484d549603009646f\n"
     ]
    },
    {
     "data": {
      "text/plain": [
       "'num_processed: 1802/20845'"
      ]
     },
     "metadata": {},
     "output_type": "display_data"
    },
    {
     "name": "stdout",
     "output_type": "stream",
     "text": [
      "4205efb87deebc9922f1e8de_59329dc245b37c0e58e3b995_6a3742a9171d95e0c688f7f6\n"
     ]
    },
    {
     "data": {
      "text/plain": [
       "'num_processed: 1803/20845'"
      ]
     },
     "metadata": {},
     "output_type": "display_data"
    },
    {
     "name": "stdout",
     "output_type": "stream",
     "text": [
      "f38e85f22dbbafff2f9d1f85_f061cb7676b780d4d067cdf5_e2e2742aeff5865459d53a3b\n"
     ]
    },
    {
     "data": {
      "text/plain": [
       "'num_processed: 1804/20845'"
      ]
     },
     "metadata": {},
     "output_type": "display_data"
    },
    {
     "name": "stdout",
     "output_type": "stream",
     "text": [
      "59da1ce67aca378d3d9d5521_ba45f0cc55573f937b0f2bb5_9bc947ed09265094bce72592\n"
     ]
    },
    {
     "data": {
      "text/plain": [
       "'num_processed: 1805/20845'"
      ]
     },
     "metadata": {},
     "output_type": "display_data"
    },
    {
     "name": "stdout",
     "output_type": "stream",
     "text": [
      "a95f70081a827d3ee2acf782_142eb13649e7254698ea3a2d_0f5d5f0a0975837ff12b28b7\n"
     ]
    },
    {
     "data": {
      "text/plain": [
       "'num_processed: 1806/20845'"
      ]
     },
     "metadata": {},
     "output_type": "display_data"
    },
    {
     "name": "stdout",
     "output_type": "stream",
     "text": [
      "9b0341861fead97e722c8668_731f3c690977d9206eb1c8b0_e692019302c0acdb7fc808a5\n"
     ]
    },
    {
     "data": {
      "text/plain": [
       "'num_processed: 1807/20845'"
      ]
     },
     "metadata": {},
     "output_type": "display_data"
    },
    {
     "name": "stdout",
     "output_type": "stream",
     "text": [
      "e9efa8807408b555b85be4cf_be5278cd0b29c899487adb9a_5c5ffe18bc5438894f9d6bad\n"
     ]
    },
    {
     "data": {
      "text/plain": [
       "'num_processed: 1808/20845'"
      ]
     },
     "metadata": {},
     "output_type": "display_data"
    },
    {
     "name": "stdout",
     "output_type": "stream",
     "text": [
      "58b7884bd2d73c0f7960385c_7f8eb9d5aed0c9a5af595c69_0e99adb90f283d63e098095d\n"
     ]
    },
    {
     "data": {
      "text/plain": [
       "'num_processed: 1809/20845'"
      ]
     },
     "metadata": {},
     "output_type": "display_data"
    },
    {
     "name": "stdout",
     "output_type": "stream",
     "text": [
      "db1b4efd73a72b32914b4735_f8ef3b447241b3dc0df39d72_1efae6cb255c91f1bfa8f667\n"
     ]
    },
    {
     "data": {
      "text/plain": [
       "'num_processed: 1810/20845'"
      ]
     },
     "metadata": {},
     "output_type": "display_data"
    },
    {
     "name": "stdout",
     "output_type": "stream",
     "text": [
      "252fb6dc009ff99afe369481_11e63ebf8dfa3d85e5e217ba_95566bac6c8fd5bb25663071\n"
     ]
    },
    {
     "data": {
      "text/plain": [
       "'num_processed: 1811/20845'"
      ]
     },
     "metadata": {},
     "output_type": "display_data"
    },
    {
     "name": "stdout",
     "output_type": "stream",
     "text": [
      "d050ce7e3c0cbb7e832792e5_1fed92a3bd107e7aa158a54c_e6f5a478f555793f4e0cbc05\n"
     ]
    },
    {
     "data": {
      "text/plain": [
       "'num_processed: 1812/20845'"
      ]
     },
     "metadata": {},
     "output_type": "display_data"
    },
    {
     "name": "stdout",
     "output_type": "stream",
     "text": [
      "78ecb9ba50327397d1921e9e_d9ea368db35ffb1dd3e94251_b5d4efcdc8f4ba59f4659e32\n"
     ]
    },
    {
     "data": {
      "text/plain": [
       "'num_processed: 1813/20845'"
      ]
     },
     "metadata": {},
     "output_type": "display_data"
    },
    {
     "name": "stdout",
     "output_type": "stream",
     "text": [
      "bc95416eae34434319f4b3fa_642c2fa00bb18b93ecf29342_421242b228916df2d69c5aa7\n"
     ]
    },
    {
     "data": {
      "text/plain": [
       "'num_processed: 1814/20845'"
      ]
     },
     "metadata": {},
     "output_type": "display_data"
    },
    {
     "name": "stdout",
     "output_type": "stream",
     "text": [
      "b42afab883ce2f53f9c90bc8_1390802ae44f671abfc4587e_f2ee43c322bf1a6dadaf7e19\n",
      "ERROR TRASFORMING!\n"
     ]
    },
    {
     "data": {
      "text/plain": [
       "'num_processed: 1815/20845'"
      ]
     },
     "metadata": {},
     "output_type": "display_data"
    },
    {
     "name": "stdout",
     "output_type": "stream",
     "text": [
      "da1444297918de364da73f50_f9dd8fc913c122a9d8a1c766_5f795d0a5675d48231ca7fce\n"
     ]
    },
    {
     "data": {
      "text/plain": [
       "'num_processed: 1816/20845'"
      ]
     },
     "metadata": {},
     "output_type": "display_data"
    },
    {
     "name": "stdout",
     "output_type": "stream",
     "text": [
      "d5cd2b1d4dedefad04aa00fb_63722b6735cccc8636b3ae34_406905378587cd1937e267ac\n"
     ]
    },
    {
     "data": {
      "text/plain": [
       "'num_processed: 1817/20845'"
      ]
     },
     "metadata": {},
     "output_type": "display_data"
    },
    {
     "name": "stdout",
     "output_type": "stream",
     "text": [
      "f4c6a7d945de39540885603d_25c70f7995d02b15232db68e_36282add9da7ddb0f647111b\n"
     ]
    },
    {
     "data": {
      "text/plain": [
       "'num_processed: 1818/20845'"
      ]
     },
     "metadata": {},
     "output_type": "display_data"
    },
    {
     "name": "stdout",
     "output_type": "stream",
     "text": [
      "d24e8ef66d278ce552b0ae79_3df69431520037d23999048f_e33889af317508aac5721814\n"
     ]
    },
    {
     "data": {
      "text/plain": [
       "'num_processed: 1819/20845'"
      ]
     },
     "metadata": {},
     "output_type": "display_data"
    },
    {
     "name": "stdout",
     "output_type": "stream",
     "text": [
      "080200da7c0c2f3befbdc1ce_91d0076905cbd726f3814ba1_a40d11d6bf0693b252ee93db\n"
     ]
    },
    {
     "data": {
      "text/plain": [
       "'num_processed: 1820/20845'"
      ]
     },
     "metadata": {},
     "output_type": "display_data"
    },
    {
     "name": "stdout",
     "output_type": "stream",
     "text": [
      "12fe165e8711babeece0bae8_7942234dff07d5f53eaee151_92aaf154914f9499877f9238\n"
     ]
    },
    {
     "data": {
      "text/plain": [
       "'num_processed: 1821/20845'"
      ]
     },
     "metadata": {},
     "output_type": "display_data"
    },
    {
     "name": "stdout",
     "output_type": "stream",
     "text": [
      "f962a87f6f06385872848e88_107087ffa8184f8e40c0df5e_7d15a7a135159216e746a9c2\n"
     ]
    },
    {
     "data": {
      "text/plain": [
       "'num_processed: 1822/20845'"
      ]
     },
     "metadata": {},
     "output_type": "display_data"
    },
    {
     "name": "stdout",
     "output_type": "stream",
     "text": [
      "57dd1f4ee4187710cc6d8449_215dfdc2c41b15e3b782f4b9_454e135ae770d9b5f038d773\n",
      "EROR IN process_axial - PK_SURF_ask_uvboxERROR TRASFORMING!\n"
     ]
    },
    {
     "data": {
      "text/plain": [
       "'num_processed: 1823/20845'"
      ]
     },
     "metadata": {},
     "output_type": "display_data"
    },
    {
     "name": "stdout",
     "output_type": "stream",
     "text": [
      "9aed20e3782b3b2deb7ad2c6_7506ab212b09cebf7a8d2cf2_cbfcff87c20639eed47980e5\n"
     ]
    },
    {
     "data": {
      "text/plain": [
       "'num_processed: 1824/20845'"
      ]
     },
     "metadata": {},
     "output_type": "display_data"
    },
    {
     "name": "stdout",
     "output_type": "stream",
     "text": [
      "2430e4fe5d994b5888183435_f5465e8dc8ef4e996facdbff_9c3b50cbe91d228ab93e481c\n"
     ]
    },
    {
     "data": {
      "text/plain": [
       "'num_processed: 1825/20845'"
      ]
     },
     "metadata": {},
     "output_type": "display_data"
    },
    {
     "name": "stdout",
     "output_type": "stream",
     "text": [
      "0f2b3d3a8e66bfada869d371_d0e0233fbeedb21643bd2fc8_9940f0943ae71aa942a36ee3\n"
     ]
    },
    {
     "data": {
      "text/plain": [
       "'num_processed: 1826/20845'"
      ]
     },
     "metadata": {},
     "output_type": "display_data"
    },
    {
     "name": "stdout",
     "output_type": "stream",
     "text": [
      "58c331f26e72160f7fe3fe35_7fa2ae96cc682455d1d9fa7e_98efbe7e976085bffdd50137\n"
     ]
    },
    {
     "data": {
      "text/plain": [
       "'num_processed: 1827/20845'"
      ]
     },
     "metadata": {},
     "output_type": "display_data"
    },
    {
     "name": "stdout",
     "output_type": "stream",
     "text": [
      "68a4f4ddfc7a488fed86d80f_54c02339ef07dc1dad5483f3_63cf5248f542c848ed2d9b85\n"
     ]
    },
    {
     "data": {
      "text/plain": [
       "'num_processed: 1828/20845'"
      ]
     },
     "metadata": {},
     "output_type": "display_data"
    },
    {
     "name": "stdout",
     "output_type": "stream",
     "text": [
      "3ad49af0cb981037cca48e9e_4d4a82f7c7cace7948bfaac9_0fa0fd99c874248fab955069\n"
     ]
    },
    {
     "data": {
      "text/plain": [
       "'num_processed: 1829/20845'"
      ]
     },
     "metadata": {},
     "output_type": "display_data"
    },
    {
     "name": "stdout",
     "output_type": "stream",
     "text": [
      "dc217b8fd6f0da58e824437d_de02ee13ab1936c569fea637_46011926387b52c645947c60\n"
     ]
    },
    {
     "data": {
      "text/plain": [
       "'num_processed: 1830/20845'"
      ]
     },
     "metadata": {},
     "output_type": "display_data"
    },
    {
     "name": "stdout",
     "output_type": "stream",
     "text": [
      "5890aaf62dacbe0f7b87c72b_3300a1d24219aa6c9e996a23_15474a00ee95af9603c82684\n"
     ]
    },
    {
     "data": {
      "text/plain": [
       "'num_processed: 1831/20845'"
      ]
     },
     "metadata": {},
     "output_type": "display_data"
    },
    {
     "name": "stdout",
     "output_type": "stream",
     "text": [
      "57b08d8753fbd268f2f3f3c7_48d484d6bec54ceca7728e2d_e5a9a246407e4370279419d6\n"
     ]
    },
    {
     "data": {
      "text/plain": [
       "'num_processed: 1832/20845'"
      ]
     },
     "metadata": {},
     "output_type": "display_data"
    },
    {
     "name": "stdout",
     "output_type": "stream",
     "text": [
      "4e291a626cae3e9b9ff5108b_f74ffc36ef4a73b06dfcfc7f_2305c5507f2c0fd94d3d15ea\n"
     ]
    },
    {
     "data": {
      "text/plain": [
       "'num_processed: 1833/20845'"
      ]
     },
     "metadata": {},
     "output_type": "display_data"
    },
    {
     "name": "stdout",
     "output_type": "stream",
     "text": [
      "b3303bde3a63c54af5493ee3_1a3e240b95366fac7c33250f_4489dd85b56e5ad4170c30f1\n"
     ]
    },
    {
     "data": {
      "text/plain": [
       "'num_processed: 1834/20845'"
      ]
     },
     "metadata": {},
     "output_type": "display_data"
    },
    {
     "name": "stdout",
     "output_type": "stream",
     "text": [
      "ce2bc57b84770e9f8f4e28ea_6f86bb2feb21da3a94438b7d_087d9380f02d63bd3dde059b\n"
     ]
    },
    {
     "data": {
      "text/plain": [
       "'num_processed: 1835/20845'"
      ]
     },
     "metadata": {},
     "output_type": "display_data"
    },
    {
     "name": "stdout",
     "output_type": "stream",
     "text": [
      "884463c43b42c11e8fad1ac9_42282effe4a84ceaccf40a01_3470599a8ff8c286f27b6af5\n"
     ]
    },
    {
     "data": {
      "text/plain": [
       "'num_processed: 1836/20845'"
      ]
     },
     "metadata": {},
     "output_type": "display_data"
    },
    {
     "name": "stdout",
     "output_type": "stream",
     "text": [
      "b7f44f37130ec6a141a9e0ff_78cfb5ad422bf6d7f893400d_a099830c813154302de8dcde\n"
     ]
    },
    {
     "data": {
      "text/plain": [
       "'num_processed: 1837/20845'"
      ]
     },
     "metadata": {},
     "output_type": "display_data"
    },
    {
     "name": "stdout",
     "output_type": "stream",
     "text": [
      "28a2a965fb0f3d393cd61c96_4737d6237a916ee1e611aaf0_0b9bdc92d209f4dfad38e890\n"
     ]
    },
    {
     "data": {
      "text/plain": [
       "'num_processed: 1838/20845'"
      ]
     },
     "metadata": {},
     "output_type": "display_data"
    },
    {
     "name": "stdout",
     "output_type": "stream",
     "text": [
      "77632e763f0bad64ec9599c5_7a8805e42f473e4799c78e41_216ea159967f5cf9c4ff6bef\n"
     ]
    },
    {
     "data": {
      "text/plain": [
       "'num_processed: 1839/20845'"
      ]
     },
     "metadata": {},
     "output_type": "display_data"
    },
    {
     "name": "stdout",
     "output_type": "stream",
     "text": [
      "9cb00ca3e9489526f163559e_3c813833f8313c4f5aee2cf7_2576d226db01a14be08e329c\n"
     ]
    },
    {
     "data": {
      "text/plain": [
       "'num_processed: 1840/20845'"
      ]
     },
     "metadata": {},
     "output_type": "display_data"
    },
    {
     "name": "stdout",
     "output_type": "stream",
     "text": [
      "02ecc31e7a060efdc5b7d596_d6edc778839effa9b7554f53_e2ea574716886fd35fb556fd\n"
     ]
    },
    {
     "data": {
      "text/plain": [
       "'num_processed: 1841/20845'"
      ]
     },
     "metadata": {},
     "output_type": "display_data"
    },
    {
     "name": "stdout",
     "output_type": "stream",
     "text": [
      "baa325e371caafd034d79ee1_784feea4dd3f6f7379e5a372_211c28baf46d37e30de8b64b\n"
     ]
    },
    {
     "data": {
      "text/plain": [
       "'num_processed: 1842/20845'"
      ]
     },
     "metadata": {},
     "output_type": "display_data"
    },
    {
     "name": "stdout",
     "output_type": "stream",
     "text": [
      "010f3408eeaf82af1dc913df_bda0349b8285e2787e1776d4_c35a7f2f7342962548eec1d9\n"
     ]
    },
    {
     "data": {
      "text/plain": [
       "'num_processed: 1843/20845'"
      ]
     },
     "metadata": {},
     "output_type": "display_data"
    },
    {
     "name": "stdout",
     "output_type": "stream",
     "text": [
      "92e5db2d2d50d0dd3636f3a8_1dcf0aadf81e8e034f8d8a42_2152ca99b1662104fcb56a97\n"
     ]
    },
    {
     "data": {
      "text/plain": [
       "'num_processed: 1844/20845'"
      ]
     },
     "metadata": {},
     "output_type": "display_data"
    },
    {
     "name": "stdout",
     "output_type": "stream",
     "text": [
      "64d494a127014328777127c1_31fecc9dfafd927b6688cfaa_99e6a65e0e0d18bca9c51d15\n"
     ]
    },
    {
     "data": {
      "text/plain": [
       "'num_processed: 1845/20845'"
      ]
     },
     "metadata": {},
     "output_type": "display_data"
    },
    {
     "name": "stdout",
     "output_type": "stream",
     "text": [
      "e6d28dfe3024f0045db73eda_406fad8135015af8fffb240c_4c2d25dda9f4b0a5ffb72b2b\n"
     ]
    },
    {
     "data": {
      "text/plain": [
       "'num_processed: 1846/20845'"
      ]
     },
     "metadata": {},
     "output_type": "display_data"
    },
    {
     "name": "stdout",
     "output_type": "stream",
     "text": [
      "eb514ccfe609e68d4a6dd67c_cf17aabf5f9b1b3fa1a52154_366816cdaf3530aa5335b628\n"
     ]
    },
    {
     "data": {
      "text/plain": [
       "'num_processed: 1847/20845'"
      ]
     },
     "metadata": {},
     "output_type": "display_data"
    },
    {
     "name": "stdout",
     "output_type": "stream",
     "text": [
      "4c2c049130563537ec0b0222_d9537dec1759afc5a44242a9_6edaed9472803d06eb51aaf8\n"
     ]
    },
    {
     "data": {
      "text/plain": [
       "'num_processed: 1848/20845'"
      ]
     },
     "metadata": {},
     "output_type": "display_data"
    },
    {
     "name": "stdout",
     "output_type": "stream",
     "text": [
      "c67c854ad626eee5982e61fa_44be495990b852a3c7ab9e03_cdc78185be65d16858cf2d75\n"
     ]
    },
    {
     "data": {
      "text/plain": [
       "'num_processed: 1849/20845'"
      ]
     },
     "metadata": {},
     "output_type": "display_data"
    },
    {
     "name": "stdout",
     "output_type": "stream",
     "text": [
      "9af3aab42a7ae1b74aa28b96_05bf7203ea6aa5aab3693a6b_9c16cb2545e603d3057e34d1\n"
     ]
    },
    {
     "data": {
      "text/plain": [
       "'num_processed: 1850/20845'"
      ]
     },
     "metadata": {},
     "output_type": "display_data"
    },
    {
     "name": "stdout",
     "output_type": "stream",
     "text": [
      "215f713a7e303aac2a41bbc4_b2545e52b11c27cac2db66f1_4e9fca874a18133f7b209393\n"
     ]
    },
    {
     "data": {
      "text/plain": [
       "'num_processed: 1851/20845'"
      ]
     },
     "metadata": {},
     "output_type": "display_data"
    },
    {
     "name": "stdout",
     "output_type": "stream",
     "text": [
      "6044d034f7f5b36c5455ecb2_a0bca920084bf592bd124a3e_9b28b86daf5814807f11d72f\n",
      "ERROR TRASFORMING!\n"
     ]
    },
    {
     "data": {
      "text/plain": [
       "'num_processed: 1852/20845'"
      ]
     },
     "metadata": {},
     "output_type": "display_data"
    },
    {
     "name": "stdout",
     "output_type": "stream",
     "text": [
      "7819261d32d5cc22979fae19_75e3c66f986d4964b9b1e692_a72f231f018b1dc44b3618cb\n"
     ]
    },
    {
     "data": {
      "text/plain": [
       "'num_processed: 1853/20845'"
      ]
     },
     "metadata": {},
     "output_type": "display_data"
    },
    {
     "name": "stdout",
     "output_type": "stream",
     "text": [
      "f27318cc6a39acb44f901df1_52218a04c92edd3425dcc3eb_0e1ec4cef2375faa76f4af4d\n"
     ]
    },
    {
     "data": {
      "text/plain": [
       "'num_processed: 1854/20845'"
      ]
     },
     "metadata": {},
     "output_type": "display_data"
    },
    {
     "name": "stdout",
     "output_type": "stream",
     "text": [
      "5306124e28aa54c59f61d780_e3710b4768166abd726cc5e5_2fe0a98b3d3c723d276ebd2f\n"
     ]
    },
    {
     "data": {
      "text/plain": [
       "'num_processed: 1855/20845'"
      ]
     },
     "metadata": {},
     "output_type": "display_data"
    },
    {
     "name": "stdout",
     "output_type": "stream",
     "text": [
      "c64a06839eac0bd5313a8efc_c2a29646d0d6890d081059ec_5a72c3156b5bbca721686822\n"
     ]
    },
    {
     "data": {
      "text/plain": [
       "'num_processed: 1856/20845'"
      ]
     },
     "metadata": {},
     "output_type": "display_data"
    },
    {
     "name": "stdout",
     "output_type": "stream",
     "text": [
      "6ee1ffb1864efaeac6c6629e_5d8f83fb5b7bd6b017882f6e_183e7b27c0f15f001aaed3d8\n"
     ]
    },
    {
     "data": {
      "text/plain": [
       "'num_processed: 1857/20845'"
      ]
     },
     "metadata": {},
     "output_type": "display_data"
    },
    {
     "name": "stdout",
     "output_type": "stream",
     "text": [
      "df2289c80e46fd45925e08cd_01a53dcdcc31dab9dc73ff15_7bdb765f613309921f6faa2e\n"
     ]
    },
    {
     "data": {
      "text/plain": [
       "'num_processed: 1858/20845'"
      ]
     },
     "metadata": {},
     "output_type": "display_data"
    },
    {
     "name": "stdout",
     "output_type": "stream",
     "text": [
      "73b79cc3afb3dbb9f178242a_dbc60c9395379234c9f0fba4_7d303085d2143ad4ea98bed3\n"
     ]
    },
    {
     "data": {
      "text/plain": [
       "'num_processed: 1859/20845'"
      ]
     },
     "metadata": {},
     "output_type": "display_data"
    },
    {
     "name": "stdout",
     "output_type": "stream",
     "text": [
      "f93bfabd12277e732b2035bb_dcfbc6e7f2921af0d52c2f22_86e8ba8d507afbb1e1dfc54b\n"
     ]
    },
    {
     "data": {
      "text/plain": [
       "'num_processed: 1860/20845'"
      ]
     },
     "metadata": {},
     "output_type": "display_data"
    },
    {
     "name": "stdout",
     "output_type": "stream",
     "text": [
      "cf51859133529826b8cc2cc9_6d576cb9496ccbc67de4d981_2f11b721054dd47164a96121\n"
     ]
    },
    {
     "data": {
      "text/plain": [
       "'num_processed: 1861/20845'"
      ]
     },
     "metadata": {},
     "output_type": "display_data"
    },
    {
     "name": "stdout",
     "output_type": "stream",
     "text": [
      "67f32f399727301a4864f3e0_1d0958c5d78ebb1775ceeecb_4600d6a15b4ffec9857618af\n"
     ]
    },
    {
     "data": {
      "text/plain": [
       "'num_processed: 1862/20845'"
      ]
     },
     "metadata": {},
     "output_type": "display_data"
    },
    {
     "name": "stdout",
     "output_type": "stream",
     "text": [
      "bc364712de096320eed74dff_778a0a79666139623a7182e8_10974dd71f414253e8a5166a\n"
     ]
    },
    {
     "data": {
      "text/plain": [
       "'num_processed: 1863/20845'"
      ]
     },
     "metadata": {},
     "output_type": "display_data"
    },
    {
     "name": "stdout",
     "output_type": "stream",
     "text": [
      "aa42f9baf95786082e835aa7_df70fa36ae375a90e4847f34_cab41b7c93d16cde966485c2\n"
     ]
    },
    {
     "data": {
      "text/plain": [
       "'num_processed: 1864/20845'"
      ]
     },
     "metadata": {},
     "output_type": "display_data"
    },
    {
     "name": "stdout",
     "output_type": "stream",
     "text": [
      "f8a98eef528ac50a1d843919_8390b0b5553be5dc7b68daaa_452723191bba959a1c8f45ec\n"
     ]
    },
    {
     "data": {
      "text/plain": [
       "'num_processed: 1865/20845'"
      ]
     },
     "metadata": {},
     "output_type": "display_data"
    },
    {
     "name": "stdout",
     "output_type": "stream",
     "text": [
      "511f1b8065891f4faf085a63_42a4499832cb87b436054995_8aa36df86bfdcc3a9a337ca9\n"
     ]
    },
    {
     "data": {
      "text/plain": [
       "'num_processed: 1866/20845'"
      ]
     },
     "metadata": {},
     "output_type": "display_data"
    },
    {
     "name": "stdout",
     "output_type": "stream",
     "text": [
      "b6dd23cc03df438dd9c22352_1fcd059284e8773406a8e680_531d10dce64fb0047c841e41\n"
     ]
    },
    {
     "data": {
      "text/plain": [
       "'num_processed: 1867/20845'"
      ]
     },
     "metadata": {},
     "output_type": "display_data"
    },
    {
     "name": "stdout",
     "output_type": "stream",
     "text": [
      "149ca078f4efe8191e577bd1_21ed816fee892469a39d6589_1f69eed91d0ded26064ebe4d\n"
     ]
    },
    {
     "data": {
      "text/plain": [
       "'num_processed: 1868/20845'"
      ]
     },
     "metadata": {},
     "output_type": "display_data"
    },
    {
     "name": "stdout",
     "output_type": "stream",
     "text": [
      "717ae16c2f7bd8bf1fe9b7e4_a8d1767be9a451c50f2bc8af_d814cf464b257693ef27ac9d\n"
     ]
    },
    {
     "data": {
      "text/plain": [
       "'num_processed: 1869/20845'"
      ]
     },
     "metadata": {},
     "output_type": "display_data"
    },
    {
     "name": "stdout",
     "output_type": "stream",
     "text": [
      "0bbbe0986b4377e80d1ad641_1501227ae89bf5bce4b5fa71_213424c80fe44ad1a4ae65a0\n"
     ]
    },
    {
     "data": {
      "text/plain": [
       "'num_processed: 1870/20845'"
      ]
     },
     "metadata": {},
     "output_type": "display_data"
    },
    {
     "name": "stdout",
     "output_type": "stream",
     "text": [
      "3c18e923a541225ae814e07d_6013fd8ab79a8ac58e972f0b_ff3181347605d85d2f0e061a\n"
     ]
    },
    {
     "data": {
      "text/plain": [
       "'num_processed: 1871/20845'"
      ]
     },
     "metadata": {},
     "output_type": "display_data"
    },
    {
     "name": "stdout",
     "output_type": "stream",
     "text": [
      "8e6a47b0d279ff018a3949e0_8ea41aa4f3ec133c2610fc19_9f3efdbc28ca1a530305e273\n"
     ]
    },
    {
     "data": {
      "text/plain": [
       "'num_processed: 1872/20845'"
      ]
     },
     "metadata": {},
     "output_type": "display_data"
    },
    {
     "name": "stdout",
     "output_type": "stream",
     "text": [
      "39b6b3a894d42f907164402a_f58a7ed106a493ce827ce242_11e855cd962a5ce5d8d8091f\n"
     ]
    },
    {
     "data": {
      "text/plain": [
       "'num_processed: 1873/20845'"
      ]
     },
     "metadata": {},
     "output_type": "display_data"
    },
    {
     "name": "stdout",
     "output_type": "stream",
     "text": [
      "587fb5572b79ce10ef9c8d0e_30f2785a72902e1d272ed051_10445f9c7e624633f2cebc61\n"
     ]
    },
    {
     "data": {
      "text/plain": [
       "'num_processed: 1874/20845'"
      ]
     },
     "metadata": {},
     "output_type": "display_data"
    },
    {
     "name": "stdout",
     "output_type": "stream",
     "text": [
      "8ff988248d7314081636777c_e7b41a1dc604e5122d8207f3_d2c00e443514a6d90a595327\n"
     ]
    },
    {
     "data": {
      "text/plain": [
       "'num_processed: 1875/20845'"
      ]
     },
     "metadata": {},
     "output_type": "display_data"
    },
    {
     "name": "stdout",
     "output_type": "stream",
     "text": [
      "d7b4282d44609d7ff67e8996_155adceeae997ead7e2306fd_d031b1d1ff70091850990b8c\n"
     ]
    },
    {
     "data": {
      "text/plain": [
       "'num_processed: 1876/20845'"
      ]
     },
     "metadata": {},
     "output_type": "display_data"
    },
    {
     "name": "stdout",
     "output_type": "stream",
     "text": [
      "5437958a8a2a916f8918fb27_3005a3ccba3339a9d10c4466_b842b06623ed21200eb73f12\n"
     ]
    },
    {
     "data": {
      "text/plain": [
       "'num_processed: 1877/20845'"
      ]
     },
     "metadata": {},
     "output_type": "display_data"
    },
    {
     "name": "stdout",
     "output_type": "stream",
     "text": [
      "5fb92b450795b53d647b42f3_035c3e730256b23f53a41ced_377c9f9a1d397c93508b8d08\n"
     ]
    },
    {
     "data": {
      "text/plain": [
       "'num_processed: 1878/20845'"
      ]
     },
     "metadata": {},
     "output_type": "display_data"
    },
    {
     "name": "stdout",
     "output_type": "stream",
     "text": [
      "267f55ddf16f9fce2aaad331_b157b9602dd18f032ac0fb71_3c7155b438f83aabdb1ed19d\n"
     ]
    },
    {
     "data": {
      "text/plain": [
       "'num_processed: 1879/20845'"
      ]
     },
     "metadata": {},
     "output_type": "display_data"
    },
    {
     "name": "stdout",
     "output_type": "stream",
     "text": [
      "43a2d264255983cda5c6b554_f84d6eb8195a09e8d47b929a_73cd59c7631fd477a1879bac\n"
     ]
    },
    {
     "data": {
      "text/plain": [
       "'num_processed: 1880/20845'"
      ]
     },
     "metadata": {},
     "output_type": "display_data"
    },
    {
     "name": "stdout",
     "output_type": "stream",
     "text": [
      "e87b712c9b1dcb426c9edb19_d26bd8b07c339489b2353704_55ba04e9df8bc631e12a06bb\n"
     ]
    },
    {
     "data": {
      "text/plain": [
       "'num_processed: 1881/20845'"
      ]
     },
     "metadata": {},
     "output_type": "display_data"
    },
    {
     "name": "stdout",
     "output_type": "stream",
     "text": [
      "3f5d41d4ad35a4a8632a13a8_42770fb9f9630b733b44a631_48f4ffc3e750be6b414fc717\n"
     ]
    },
    {
     "data": {
      "text/plain": [
       "'num_processed: 1882/20845'"
      ]
     },
     "metadata": {},
     "output_type": "display_data"
    },
    {
     "name": "stdout",
     "output_type": "stream",
     "text": [
      "6f593aef716db9e6127fff0d_675b20589ab11010e1230cbb_fbe6213821aa0d190922eaea\n"
     ]
    },
    {
     "data": {
      "text/plain": [
       "'num_processed: 1883/20845'"
      ]
     },
     "metadata": {},
     "output_type": "display_data"
    },
    {
     "name": "stdout",
     "output_type": "stream",
     "text": [
      "0f85bbf5b684018eb6d68e8d_2e88df7fd1382a73e000f10c_e4664033c7155fff90aa7c94\n"
     ]
    },
    {
     "data": {
      "text/plain": [
       "'num_processed: 1884/20845'"
      ]
     },
     "metadata": {},
     "output_type": "display_data"
    },
    {
     "name": "stdout",
     "output_type": "stream",
     "text": [
      "58f68317de07980feafe72aa_d19a9228506a4682cfc6f14c_4f028239d20852b348cda3c4\n"
     ]
    },
    {
     "data": {
      "text/plain": [
       "'num_processed: 1885/20845'"
      ]
     },
     "metadata": {},
     "output_type": "display_data"
    },
    {
     "name": "stdout",
     "output_type": "stream",
     "text": [
      "da9512f80d4b644f58ec3f0e_8fac8ed9e12d335af7f8a192_b16fb73ef0ae9b1b8c5e2835\n"
     ]
    },
    {
     "data": {
      "text/plain": [
       "'num_processed: 1886/20845'"
      ]
     },
     "metadata": {},
     "output_type": "display_data"
    },
    {
     "name": "stdout",
     "output_type": "stream",
     "text": [
      "f7a9de992912d93973f0020e_80ec2db2cf256a02492cfdfc_8736c7a490a50808076a0bc7\n"
     ]
    },
    {
     "data": {
      "text/plain": [
       "'num_processed: 1887/20845'"
      ]
     },
     "metadata": {},
     "output_type": "display_data"
    },
    {
     "name": "stdout",
     "output_type": "stream",
     "text": [
      "4c43ed9217eeaa334ed1fca0_7696921a8faf3075f5f9805b_393b6b14e03cb9389c8c8127\n"
     ]
    },
    {
     "data": {
      "text/plain": [
       "'num_processed: 1888/20845'"
      ]
     },
     "metadata": {},
     "output_type": "display_data"
    },
    {
     "name": "stdout",
     "output_type": "stream",
     "text": [
      "d2f7c60ff108a277c7299dcd_31cfe893a0af34bd7d75c9a4_fe42062202177a5e14bad2a1\n"
     ]
    },
    {
     "data": {
      "text/plain": [
       "'num_processed: 1889/20845'"
      ]
     },
     "metadata": {},
     "output_type": "display_data"
    },
    {
     "name": "stdout",
     "output_type": "stream",
     "text": [
      "1bbc1c91a2f2ea769cb94924_a6b6f17239d7a725891838f1_d6e3f6d2bff12a40706224ce\n"
     ]
    },
    {
     "data": {
      "text/plain": [
       "'num_processed: 1890/20845'"
      ]
     },
     "metadata": {},
     "output_type": "display_data"
    },
    {
     "name": "stdout",
     "output_type": "stream",
     "text": [
      "6f264f162183a76b8548a382_0e95ce275539be6f0ffc6e49_b3e346494cf946f6e865fb8e\n"
     ]
    },
    {
     "data": {
      "text/plain": [
       "'num_processed: 1891/20845'"
      ]
     },
     "metadata": {},
     "output_type": "display_data"
    },
    {
     "name": "stdout",
     "output_type": "stream",
     "text": [
      "3e7c0b1f2f68ff8dd3819aae_a89bc4beace9095bf225bff5_f14d9a49bacee76e15091971\n"
     ]
    },
    {
     "data": {
      "text/plain": [
       "'num_processed: 1892/20845'"
      ]
     },
     "metadata": {},
     "output_type": "display_data"
    },
    {
     "name": "stdout",
     "output_type": "stream",
     "text": [
      "487e8af6997666788f4ce21a_ba2e1356e8a42ec5107bbea2_cd0e533d50712c5db92127c1\n"
     ]
    },
    {
     "data": {
      "text/plain": [
       "'num_processed: 1893/20845'"
      ]
     },
     "metadata": {},
     "output_type": "display_data"
    },
    {
     "name": "stdout",
     "output_type": "stream",
     "text": [
      "d91709a434b96d3ee03c1708_89bb82e96b8c51bcfbb545d1_dfe9afdd8ea937b11b48a0d3\n"
     ]
    },
    {
     "data": {
      "text/plain": [
       "'num_processed: 1894/20845'"
      ]
     },
     "metadata": {},
     "output_type": "display_data"
    },
    {
     "name": "stdout",
     "output_type": "stream",
     "text": [
      "584db54e98f16b1033a4c7f3_2ca4b4ad5989097d4886031f_2ebee21992ceb325ec567528\n"
     ]
    },
    {
     "data": {
      "text/plain": [
       "'num_processed: 1895/20845'"
      ]
     },
     "metadata": {},
     "output_type": "display_data"
    },
    {
     "name": "stdout",
     "output_type": "stream",
     "text": [
      "03703c4bc9b714fab51178d9_8924e75b0ed0fb87ffc00c68_25710c6b4e3813b27822550e\n"
     ]
    },
    {
     "data": {
      "text/plain": [
       "'num_processed: 1896/20845'"
      ]
     },
     "metadata": {},
     "output_type": "display_data"
    },
    {
     "name": "stdout",
     "output_type": "stream",
     "text": [
      "231e92894f388e881ff83b5e_895861217f13d4a124642b47_93383c3f8c50a4aa95abaa53\n"
     ]
    },
    {
     "data": {
      "text/plain": [
       "'num_processed: 1897/20845'"
      ]
     },
     "metadata": {},
     "output_type": "display_data"
    },
    {
     "name": "stdout",
     "output_type": "stream",
     "text": [
      "611d0b155b538b8e5b9a39fc_e78021801c8be81a8648b435_9d103c8d167bc614fdb3db2a\n"
     ]
    },
    {
     "data": {
      "text/plain": [
       "'num_processed: 1898/20845'"
      ]
     },
     "metadata": {},
     "output_type": "display_data"
    },
    {
     "name": "stdout",
     "output_type": "stream",
     "text": [
      "57e5636c1610f810afd49242_812db515f22162c293035539_210d5cbbd21c163a1a3bce48\n"
     ]
    },
    {
     "data": {
      "text/plain": [
       "'num_processed: 1899/20845'"
      ]
     },
     "metadata": {},
     "output_type": "display_data"
    },
    {
     "name": "stdout",
     "output_type": "stream",
     "text": [
      "6d2a468d0878eda1f4f77978_004e1e094c6b727f5573ad38_ec22c361e749b33d755c4b58\n"
     ]
    },
    {
     "data": {
      "text/plain": [
       "'num_processed: 1900/20845'"
      ]
     },
     "metadata": {},
     "output_type": "display_data"
    },
    {
     "name": "stdout",
     "output_type": "stream",
     "text": [
      "96d5fecdd4170f4c32db5292_be395a96e14f83b864b5bec6_fa557855208196f59dacc496\n"
     ]
    },
    {
     "data": {
      "text/plain": [
       "'num_processed: 1901/20845'"
      ]
     },
     "metadata": {},
     "output_type": "display_data"
    },
    {
     "name": "stdout",
     "output_type": "stream",
     "text": [
      "59974c08052b8aebdbff6708_5d8530f4a6552e787a83304c_1b0bdb16ec6a6795e6b4c221\n"
     ]
    },
    {
     "data": {
      "text/plain": [
       "'num_processed: 1902/20845'"
      ]
     },
     "metadata": {},
     "output_type": "display_data"
    },
    {
     "name": "stdout",
     "output_type": "stream",
     "text": [
      "ff827935c8aa7cb4c4eef604_4c6cf2df5fcb717109ecf1e1_b749e2765dd5026720fbeb92\n"
     ]
    },
    {
     "data": {
      "text/plain": [
       "'num_processed: 1903/20845'"
      ]
     },
     "metadata": {},
     "output_type": "display_data"
    },
    {
     "name": "stdout",
     "output_type": "stream",
     "text": [
      "5a24c5b3aef9073ca346b6ec_36ba2d7b79ec4ae6d59d663c_ed6ea0dce7d8dcee1996dae3\n"
     ]
    },
    {
     "data": {
      "text/plain": [
       "'num_processed: 1904/20845'"
      ]
     },
     "metadata": {},
     "output_type": "display_data"
    },
    {
     "name": "stdout",
     "output_type": "stream",
     "text": [
      "28c84bda6bada9856f374fd0_963d4629579690a4b2324601_0db223e6c26894baa2e476a4\n"
     ]
    },
    {
     "data": {
      "text/plain": [
       "'num_processed: 1905/20845'"
      ]
     },
     "metadata": {},
     "output_type": "display_data"
    },
    {
     "name": "stdout",
     "output_type": "stream",
     "text": [
      "52d2ec0f14e38767e6e62ff5_367129b3f77f34975258c1c3_6ecccf8f9da8df2e4d0df684\n",
      "EROR IN process_axial - PK_SURF_ask_uvboxERROR TRASFORMING!\n"
     ]
    },
    {
     "data": {
      "text/plain": [
       "'num_processed: 1906/20845'"
      ]
     },
     "metadata": {},
     "output_type": "display_data"
    },
    {
     "name": "stdout",
     "output_type": "stream",
     "text": [
      "d80a2afed410bb0080def4a7_b9d90b256cb29a8e5036bfc9_2186336c20b538130114628d\n"
     ]
    },
    {
     "data": {
      "text/plain": [
       "'num_processed: 1907/20845'"
      ]
     },
     "metadata": {},
     "output_type": "display_data"
    },
    {
     "name": "stdout",
     "output_type": "stream",
     "text": [
      "7e07798b7ce42adc04ce451a_df1cb46e964310076ec71d22_c55f5c61dfb5b200c1f5df4c\n"
     ]
    },
    {
     "data": {
      "text/plain": [
       "'num_processed: 1908/20845'"
      ]
     },
     "metadata": {},
     "output_type": "display_data"
    },
    {
     "name": "stdout",
     "output_type": "stream",
     "text": [
      "5ab6c2fe84770711790cac55_e91901e24052ad016a2b2c3d_8f460d66c3f5c09e57ad8d2b\n"
     ]
    },
    {
     "data": {
      "text/plain": [
       "'num_processed: 1909/20845'"
      ]
     },
     "metadata": {},
     "output_type": "display_data"
    },
    {
     "name": "stdout",
     "output_type": "stream",
     "text": [
      "4582f0631d4806b16300ab5d_21cebfb99f55994230c3e05c_c5b93d2817305b9a1263b165\n"
     ]
    },
    {
     "data": {
      "text/plain": [
       "'num_processed: 1910/20845'"
      ]
     },
     "metadata": {},
     "output_type": "display_data"
    },
    {
     "name": "stdout",
     "output_type": "stream",
     "text": [
      "babb698ea92c694bd51c7ca3_7691cc6e9c3b0df94e6bbef1_96f8ed8d54aaf824a7f77aaa\n"
     ]
    },
    {
     "data": {
      "text/plain": [
       "'num_processed: 1911/20845'"
      ]
     },
     "metadata": {},
     "output_type": "display_data"
    },
    {
     "name": "stdout",
     "output_type": "stream",
     "text": [
      "ded7f05467a9677d03cec8ce_d4ed8ec7825eec75e6193c87_21643925102a0c4b95c1f239\n"
     ]
    },
    {
     "data": {
      "text/plain": [
       "'num_processed: 1912/20845'"
      ]
     },
     "metadata": {},
     "output_type": "display_data"
    },
    {
     "name": "stdout",
     "output_type": "stream",
     "text": [
      "35f2e3c8152e5658feb93345_b9de04208d11929b15b56389_7a174af4ad516412ab0513b7\n"
     ]
    },
    {
     "data": {
      "text/plain": [
       "'num_processed: 1913/20845'"
      ]
     },
     "metadata": {},
     "output_type": "display_data"
    },
    {
     "name": "stdout",
     "output_type": "stream",
     "text": [
      "706d4cd9ea460d63f8b1aac3_7448d04321a37eb7016a546b_0b07114e67b3b44391f42062\n"
     ]
    },
    {
     "data": {
      "text/plain": [
       "'num_processed: 1914/20845'"
      ]
     },
     "metadata": {},
     "output_type": "display_data"
    },
    {
     "name": "stdout",
     "output_type": "stream",
     "text": [
      "bccc7badad7e8a1138919651_de57752767831985c9bfebb7_3c24ca1cff893e73398f69f7\n"
     ]
    },
    {
     "data": {
      "text/plain": [
       "'num_processed: 1915/20845'"
      ]
     },
     "metadata": {},
     "output_type": "display_data"
    },
    {
     "name": "stdout",
     "output_type": "stream",
     "text": [
      "f713aad16694704355fcd955_d28a7b13ff2536236d05a8b8_3f04eb7eef89fa044dd5bd85\n"
     ]
    },
    {
     "data": {
      "text/plain": [
       "'num_processed: 1916/20845'"
      ]
     },
     "metadata": {},
     "output_type": "display_data"
    },
    {
     "name": "stdout",
     "output_type": "stream",
     "text": [
      "f0ee0ae492bab4c584f8e9d7_742267d1727951cbd7577611_c6fd96e7d498f8383fd92127\n"
     ]
    },
    {
     "data": {
      "text/plain": [
       "'num_processed: 1917/20845'"
      ]
     },
     "metadata": {},
     "output_type": "display_data"
    },
    {
     "name": "stdout",
     "output_type": "stream",
     "text": [
      "3c7302c6c92e0b42977e1327_70606a9262c79ec11046daff_4d3864e7788cd3460104ec0e\n"
     ]
    },
    {
     "data": {
      "text/plain": [
       "'num_processed: 1918/20845'"
      ]
     },
     "metadata": {},
     "output_type": "display_data"
    },
    {
     "name": "stdout",
     "output_type": "stream",
     "text": [
      "0e4d1915da6ee1eac7a2bcd9_0b12006c1c3a48825558d730_ca4a5ed3808b087bb2e165d0\n"
     ]
    },
    {
     "data": {
      "text/plain": [
       "'num_processed: 1919/20845'"
      ]
     },
     "metadata": {},
     "output_type": "display_data"
    },
    {
     "name": "stdout",
     "output_type": "stream",
     "text": [
      "6714cd51ec604e4e40236f5f_45a4a3afad252d01194e611c_0f985e746c176b7030d2f59f\n"
     ]
    },
    {
     "data": {
      "text/plain": [
       "'num_processed: 1920/20845'"
      ]
     },
     "metadata": {},
     "output_type": "display_data"
    },
    {
     "name": "stdout",
     "output_type": "stream",
     "text": [
      "35f9a06b5b5bc180e372fc14_0c47666181eacd4eaa1b9569_30d6a04f68d39a32e5852fad\n"
     ]
    },
    {
     "data": {
      "text/plain": [
       "'num_processed: 1921/20845'"
      ]
     },
     "metadata": {},
     "output_type": "display_data"
    },
    {
     "name": "stdout",
     "output_type": "stream",
     "text": [
      "351cf77799e8a61d62fd4338_d07f8858c0dc5de619aac656_d51f0a7f82c75fc70edfda4a\n",
      "ERROR TRASFORMING!\n"
     ]
    },
    {
     "data": {
      "text/plain": [
       "'num_processed: 1922/20845'"
      ]
     },
     "metadata": {},
     "output_type": "display_data"
    },
    {
     "name": "stdout",
     "output_type": "stream",
     "text": [
      "46a8d11733a89f5c3a80a69c_110fc908547f00bdfbc04e87_3a70d1c026c41bb79b98112c\n"
     ]
    },
    {
     "data": {
      "text/plain": [
       "'num_processed: 1923/20845'"
      ]
     },
     "metadata": {},
     "output_type": "display_data"
    },
    {
     "name": "stdout",
     "output_type": "stream",
     "text": [
      "9eb4aee28799b559e016d013_e171d097719ce6af9149e4a9_72bca6ec33ab3750dff3c508\n"
     ]
    },
    {
     "data": {
      "text/plain": [
       "'num_processed: 1924/20845'"
      ]
     },
     "metadata": {},
     "output_type": "display_data"
    },
    {
     "name": "stdout",
     "output_type": "stream",
     "text": [
      "af1824b098f9c6072e565511_a433936f2720c3ec886b2507_0bc49258dfb11928e218d903\n"
     ]
    },
    {
     "data": {
      "text/plain": [
       "'num_processed: 1925/20845'"
      ]
     },
     "metadata": {},
     "output_type": "display_data"
    },
    {
     "name": "stdout",
     "output_type": "stream",
     "text": [
      "a8b180cb9c2b5c50ad7fe00f_a189d3ff52343fde7aa5a5c7_8bb2a0572960f9f1451bb8ec\n"
     ]
    },
    {
     "data": {
      "text/plain": [
       "'num_processed: 1926/20845'"
      ]
     },
     "metadata": {},
     "output_type": "display_data"
    },
    {
     "name": "stdout",
     "output_type": "stream",
     "text": [
      "7dd918856577e48dbe09e152_07b3a255c533919cba70d8d2_68f90f92cf5cbb11df4aa5c6\n"
     ]
    },
    {
     "data": {
      "text/plain": [
       "'num_processed: 1927/20845'"
      ]
     },
     "metadata": {},
     "output_type": "display_data"
    },
    {
     "name": "stdout",
     "output_type": "stream",
     "text": [
      "575f0774e4b0b01315e7daf8_11167a7535b6b33020fe5da4_86d747e0a83faa968c5f65c6\n"
     ]
    },
    {
     "data": {
      "text/plain": [
       "'num_processed: 1928/20845'"
      ]
     },
     "metadata": {},
     "output_type": "display_data"
    },
    {
     "name": "stdout",
     "output_type": "stream",
     "text": [
      "2be238518667867e2445753f_373460338cee145b90a23357_eedd40af302f31e0677f3d3f\n"
     ]
    },
    {
     "data": {
      "text/plain": [
       "'num_processed: 1929/20845'"
      ]
     },
     "metadata": {},
     "output_type": "display_data"
    },
    {
     "name": "stdout",
     "output_type": "stream",
     "text": [
      "7f4d8452602dd59e35dbe2ac_7f0763778bc918f4155bc7ff_897923455bb2408c48ebbcdf\n"
     ]
    },
    {
     "data": {
      "text/plain": [
       "'num_processed: 1930/20845'"
      ]
     },
     "metadata": {},
     "output_type": "display_data"
    },
    {
     "name": "stdout",
     "output_type": "stream",
     "text": [
      "d29ae13870d2eaec6f817500_02d275512690ca897cb9163a_8a21585d48cd76128813f74f\n"
     ]
    },
    {
     "data": {
      "text/plain": [
       "'num_processed: 1931/20845'"
      ]
     },
     "metadata": {},
     "output_type": "display_data"
    },
    {
     "name": "stdout",
     "output_type": "stream",
     "text": [
      "2b8cf19a4ca527cfe9dc70fe_735860a39a30f4b03203134b_350df03bf20e37b19b45a061\n"
     ]
    },
    {
     "data": {
      "text/plain": [
       "'num_processed: 1932/20845'"
      ]
     },
     "metadata": {},
     "output_type": "display_data"
    },
    {
     "name": "stdout",
     "output_type": "stream",
     "text": [
      "58b8705a217ef1105a9fb621_9d8122d77bf09f306090843b_86b2c5151701eed16a990edb\n"
     ]
    },
    {
     "data": {
      "text/plain": [
       "'num_processed: 1933/20845'"
      ]
     },
     "metadata": {},
     "output_type": "display_data"
    },
    {
     "name": "stdout",
     "output_type": "stream",
     "text": [
      "a6167b22f0754d9814a8fbdd_52323538113db8ae45d93369_cbe17bcd61cba730532a01ce\n"
     ]
    },
    {
     "data": {
      "text/plain": [
       "'num_processed: 1934/20845'"
      ]
     },
     "metadata": {},
     "output_type": "display_data"
    },
    {
     "name": "stdout",
     "output_type": "stream",
     "text": [
      "2ba7f159a4f5f732066212fa_3cc66ee33d8d7b39c0b49891_35da5ef096bd12433443eac5\n"
     ]
    },
    {
     "data": {
      "text/plain": [
       "'num_processed: 1935/20845'"
      ]
     },
     "metadata": {},
     "output_type": "display_data"
    },
    {
     "name": "stdout",
     "output_type": "stream",
     "text": [
      "fe8063e08900547148240fce_c5c79ae217b3955b751bd2bb_bfb244b2d1c6aa4f2a544bcf\n"
     ]
    },
    {
     "data": {
      "text/plain": [
       "'num_processed: 1936/20845'"
      ]
     },
     "metadata": {},
     "output_type": "display_data"
    },
    {
     "name": "stdout",
     "output_type": "stream",
     "text": [
      "840e32f89590283732715364_aeac255215bc608960dffe50_694d03529089723d05eba6a8\n"
     ]
    },
    {
     "data": {
      "text/plain": [
       "'num_processed: 1937/20845'"
      ]
     },
     "metadata": {},
     "output_type": "display_data"
    },
    {
     "name": "stdout",
     "output_type": "stream",
     "text": [
      "45a01596666e22455f2ca4f2_6a7a8bf3b22c0dea4e30a744_80b784512fb864b6993b6523\n",
      "EROR IN process_axial - PK_SURF_ask_uvboxERROR TRASFORMING!\n"
     ]
    },
    {
     "data": {
      "text/plain": [
       "'num_processed: 1938/20845'"
      ]
     },
     "metadata": {},
     "output_type": "display_data"
    },
    {
     "name": "stdout",
     "output_type": "stream",
     "text": [
      "8ac1c71261f0a1e4515624b3_9edc9e6d64d7cb38da9449e4_97dc1a660ce2c4223c20ff16\n"
     ]
    },
    {
     "data": {
      "text/plain": [
       "'num_processed: 1939/20845'"
      ]
     },
     "metadata": {},
     "output_type": "display_data"
    },
    {
     "name": "stdout",
     "output_type": "stream",
     "text": [
      "5720e3f6e4b0d859f67c2b17_3d3cb0015a82d0fc885a7972_502161201f60cbc6fc85b00c\n"
     ]
    },
    {
     "data": {
      "text/plain": [
       "'num_processed: 1940/20845'"
      ]
     },
     "metadata": {},
     "output_type": "display_data"
    },
    {
     "name": "stdout",
     "output_type": "stream",
     "text": [
      "012cc31187069b2e650dbc59_d8e77553bd5f5f84749e34bd_5a3a449a5accdc8ca6918af6\n"
     ]
    },
    {
     "data": {
      "text/plain": [
       "'num_processed: 1941/20845'"
      ]
     },
     "metadata": {},
     "output_type": "display_data"
    },
    {
     "name": "stdout",
     "output_type": "stream",
     "text": [
      "1dea72543a9474e0035fa4bb_1d328299581cf64e8bd561b8_e1660f972650b380dbc9d2b4\n"
     ]
    },
    {
     "data": {
      "text/plain": [
       "'num_processed: 1942/20845'"
      ]
     },
     "metadata": {},
     "output_type": "display_data"
    },
    {
     "name": "stdout",
     "output_type": "stream",
     "text": [
      "3d97e0a0dede59d2ec9edf60_7c65217d62fba111f480bea4_48b673000026931fddda898b\n"
     ]
    },
    {
     "data": {
      "text/plain": [
       "'num_processed: 1943/20845'"
      ]
     },
     "metadata": {},
     "output_type": "display_data"
    },
    {
     "name": "stdout",
     "output_type": "stream",
     "text": [
      "2b60e245cf37dee8f250b0e0_3ae7e08e5f14cd82c4b4eb08_2d81ab408174ae0b2212be4d\n"
     ]
    },
    {
     "data": {
      "text/plain": [
       "'num_processed: 1944/20845'"
      ]
     },
     "metadata": {},
     "output_type": "display_data"
    },
    {
     "name": "stdout",
     "output_type": "stream",
     "text": [
      "ee7c7a9a0d290883fdae40f2_3f9b4fc37e7c30a1c914bcd6_bd5bfafa3e48693510920ab7\n"
     ]
    },
    {
     "data": {
      "text/plain": [
       "'num_processed: 1945/20845'"
      ]
     },
     "metadata": {},
     "output_type": "display_data"
    },
    {
     "name": "stdout",
     "output_type": "stream",
     "text": [
      "4a1bb100b0b93637ec342f60_c12185e892cc94f07cfe8117_d2ccec01f67667a1ab02ac12\n"
     ]
    },
    {
     "data": {
      "text/plain": [
       "'num_processed: 1946/20845'"
      ]
     },
     "metadata": {},
     "output_type": "display_data"
    },
    {
     "name": "stdout",
     "output_type": "stream",
     "text": [
      "90e5e2befa46350a0f663469_348c8ffb194744cfe2ba8857_1613b204af87f407d41fa109\n"
     ]
    },
    {
     "data": {
      "text/plain": [
       "'num_processed: 1947/20845'"
      ]
     },
     "metadata": {},
     "output_type": "display_data"
    },
    {
     "name": "stdout",
     "output_type": "stream",
     "text": [
      "4ff016ba031c05e4578c3832_2ec617cd31375f03346f05f2_058cf97785d6053c8cbe64b3\n"
     ]
    },
    {
     "data": {
      "text/plain": [
       "'num_processed: 1948/20845'"
      ]
     },
     "metadata": {},
     "output_type": "display_data"
    },
    {
     "name": "stdout",
     "output_type": "stream",
     "text": [
      "d41b83c5988b3c75a4aa4fd2_5233d4abfa4a3cd73c21eb20_160077cb03f32f14be69ddc6\n"
     ]
    },
    {
     "data": {
      "text/plain": [
       "'num_processed: 1949/20845'"
      ]
     },
     "metadata": {},
     "output_type": "display_data"
    },
    {
     "name": "stdout",
     "output_type": "stream",
     "text": [
      "2dda4e75dab9344d6379bca9_3fbd2d87e0cb0c733a80accd_c761960ba70a97ac786b6356\n"
     ]
    },
    {
     "data": {
      "text/plain": [
       "'num_processed: 1950/20845'"
      ]
     },
     "metadata": {},
     "output_type": "display_data"
    },
    {
     "name": "stdout",
     "output_type": "stream",
     "text": [
      "570439d9e4b0432facb1a957_5d336abf646b878530e85026_9f82ef9f788ed088a70a3a7c\n"
     ]
    },
    {
     "data": {
      "text/plain": [
       "'num_processed: 1951/20845'"
      ]
     },
     "metadata": {},
     "output_type": "display_data"
    },
    {
     "name": "stdout",
     "output_type": "stream",
     "text": [
      "eae460aa547c39273e4a2857_59568934f0284cb255c0b274_53f781a944995d93873fc198\n"
     ]
    },
    {
     "data": {
      "text/plain": [
       "'num_processed: 1952/20845'"
      ]
     },
     "metadata": {},
     "output_type": "display_data"
    },
    {
     "name": "stdout",
     "output_type": "stream",
     "text": [
      "cc3f77eafb323c173d7420db_6a48696efab08ca0c7a360fd_3ad5f88d5362224c62856e2c\n"
     ]
    },
    {
     "data": {
      "text/plain": [
       "'num_processed: 1953/20845'"
      ]
     },
     "metadata": {},
     "output_type": "display_data"
    },
    {
     "name": "stdout",
     "output_type": "stream",
     "text": [
      "5e4c2010e9b85bf7b3ac1aec_ecfbd963cf3aacb2d7b89be6_78a1f8b548bb4272653e3bdc\n"
     ]
    },
    {
     "data": {
      "text/plain": [
       "'num_processed: 1954/20845'"
      ]
     },
     "metadata": {},
     "output_type": "display_data"
    },
    {
     "name": "stdout",
     "output_type": "stream",
     "text": [
      "7fc336377e1ed7604442ba7c_3bc94116594b275160a42602_0e897032780e3755e5b0efdd\n",
      "ERROR TRASFORMING!\n"
     ]
    },
    {
     "data": {
      "text/plain": [
       "'num_processed: 1955/20845'"
      ]
     },
     "metadata": {},
     "output_type": "display_data"
    },
    {
     "name": "stdout",
     "output_type": "stream",
     "text": [
      "724f411ef42a6fe0e92fb331_000026dff605059d59bd1227_5a785eb2f374b9441851eb15\n"
     ]
    },
    {
     "data": {
      "text/plain": [
       "'num_processed: 1956/20845'"
      ]
     },
     "metadata": {},
     "output_type": "display_data"
    },
    {
     "name": "stdout",
     "output_type": "stream",
     "text": [
      "46a46b7e46c2c277d6261ad5_3efbdfae4d2c1454ecac90d4_31e355add744d33af88b9794\n"
     ]
    },
    {
     "data": {
      "text/plain": [
       "'num_processed: 1957/20845'"
      ]
     },
     "metadata": {},
     "output_type": "display_data"
    },
    {
     "name": "stdout",
     "output_type": "stream",
     "text": [
      "1d230f7c055c7ee7b081b46c_d431281e34e2ae427183dcf1_f591457220abb6fbf1c15d1e\n"
     ]
    },
    {
     "data": {
      "text/plain": [
       "'num_processed: 1958/20845'"
      ]
     },
     "metadata": {},
     "output_type": "display_data"
    },
    {
     "name": "stdout",
     "output_type": "stream",
     "text": [
      "ef2287da8a11256b3530a173_9374527f332d30879c837279_410fcb8483172d08fbe5f934\n"
     ]
    },
    {
     "data": {
      "text/plain": [
       "'num_processed: 1959/20845'"
      ]
     },
     "metadata": {},
     "output_type": "display_data"
    },
    {
     "name": "stdout",
     "output_type": "stream",
     "text": [
      "adc4df37982741a2bf2b276b_12cb13f5f3fed02d7096ecd7_fb8b8d3b90dfcabf56aa2140\n",
      "ERROR TRASFORMING!\n",
      "ERROR TRASFORMING!\n"
     ]
    },
    {
     "data": {
      "text/plain": [
       "'num_processed: 1960/20845'"
      ]
     },
     "metadata": {},
     "output_type": "display_data"
    },
    {
     "name": "stdout",
     "output_type": "stream",
     "text": [
      "e3c22543ab3365b202639fe7_a53e40825ce48370a066f052_10a4cc03527ded5b8f2763bb\n"
     ]
    },
    {
     "data": {
      "text/plain": [
       "'num_processed: 1961/20845'"
      ]
     },
     "metadata": {},
     "output_type": "display_data"
    },
    {
     "name": "stdout",
     "output_type": "stream",
     "text": [
      "f93f57fe5c3ae671a60e2708_8fd2f3ce767a9f738c84d8ee_e4eec3b6bcd298795e189c47\n"
     ]
    },
    {
     "data": {
      "text/plain": [
       "'num_processed: 1962/20845'"
      ]
     },
     "metadata": {},
     "output_type": "display_data"
    },
    {
     "name": "stdout",
     "output_type": "stream",
     "text": [
      "0571f4f6ce05b449a1ea3941_a605e65fbd3942f56cd2f4e4_99e5aeec1bcf740009f9802c\n"
     ]
    },
    {
     "data": {
      "text/plain": [
       "'num_processed: 1963/20845'"
      ]
     },
     "metadata": {},
     "output_type": "display_data"
    },
    {
     "name": "stdout",
     "output_type": "stream",
     "text": [
      "00da13ae6c0043ad33732466_79b6f9a527e8e9c40f5da1ab_2ba141c66aaf4b11290b1e3a\n"
     ]
    },
    {
     "data": {
      "text/plain": [
       "'num_processed: 1964/20845'"
      ]
     },
     "metadata": {},
     "output_type": "display_data"
    },
    {
     "name": "stdout",
     "output_type": "stream",
     "text": [
      "3465954a5d732da7d0420170_be1f2ddae2d6722bb3bf38d7_28f125b8f0c1dc5b5727ce64\n"
     ]
    },
    {
     "data": {
      "text/plain": [
       "'num_processed: 1965/20845'"
      ]
     },
     "metadata": {},
     "output_type": "display_data"
    },
    {
     "name": "stdout",
     "output_type": "stream",
     "text": [
      "00d1c75f20d22410a9870717_b17a82750f3e9f2f8bc0cc85_263be058c18f3cdd8d4c9574\n"
     ]
    },
    {
     "data": {
      "text/plain": [
       "'num_processed: 1966/20845'"
      ]
     },
     "metadata": {},
     "output_type": "display_data"
    },
    {
     "name": "stdout",
     "output_type": "stream",
     "text": [
      "56021c536b7c95d4cb94295e_c5ad92165cd91bf3e03b7875_113080b1466011fdba3e7d13\n"
     ]
    },
    {
     "data": {
      "text/plain": [
       "'num_processed: 1967/20845'"
      ]
     },
     "metadata": {},
     "output_type": "display_data"
    },
    {
     "name": "stdout",
     "output_type": "stream",
     "text": [
      "c428d7845d586af9c292da70_9aa1f7ef54ecc864b7a18c54_6448fa0823290fa6afd3bed8\n"
     ]
    },
    {
     "data": {
      "text/plain": [
       "'num_processed: 1968/20845'"
      ]
     },
     "metadata": {},
     "output_type": "display_data"
    },
    {
     "name": "stdout",
     "output_type": "stream",
     "text": [
      "792ea52a52afbdb05805dcbd_b3d40db19ffb9ca88447e23e_2b250f01befb060f5e563ac6\n"
     ]
    },
    {
     "data": {
      "text/plain": [
       "'num_processed: 1969/20845'"
      ]
     },
     "metadata": {},
     "output_type": "display_data"
    },
    {
     "name": "stdout",
     "output_type": "stream",
     "text": [
      "ac0b1df64591bc5ce962bf5e_ed1e452bacdb8f68ab011ad1_0cef8232f23a6d85038d6bbf\n"
     ]
    },
    {
     "data": {
      "text/plain": [
       "'num_processed: 1970/20845'"
      ]
     },
     "metadata": {},
     "output_type": "display_data"
    },
    {
     "name": "stdout",
     "output_type": "stream",
     "text": [
      "e6978910edd5d4f8491673ea_1ae56378b28b65783de38bff_576d174be0c132b65f1bfd9d\n"
     ]
    },
    {
     "data": {
      "text/plain": [
       "'num_processed: 1971/20845'"
      ]
     },
     "metadata": {},
     "output_type": "display_data"
    },
    {
     "name": "stdout",
     "output_type": "stream",
     "text": [
      "2e69f321c8e6647b48419fff_12f26086d5f24dda14d95861_cf99cc20c7c7b38f85456f4a\n"
     ]
    },
    {
     "data": {
      "text/plain": [
       "'num_processed: 1972/20845'"
      ]
     },
     "metadata": {},
     "output_type": "display_data"
    },
    {
     "name": "stdout",
     "output_type": "stream",
     "text": [
      "53ab0ef673d088f408590293_cdeea8a2165216aa7a96e911_6c5c1e32fc6a3e25665aa017\n"
     ]
    },
    {
     "data": {
      "text/plain": [
       "'num_processed: 1973/20845'"
      ]
     },
     "metadata": {},
     "output_type": "display_data"
    },
    {
     "name": "stdout",
     "output_type": "stream",
     "text": [
      "6abca44ab2a036de9ecfec5a_7c96de478d7ba110ddb78dff_879d4ab3f8ea779134542547\n"
     ]
    },
    {
     "data": {
      "text/plain": [
       "'num_processed: 1974/20845'"
      ]
     },
     "metadata": {},
     "output_type": "display_data"
    },
    {
     "name": "stdout",
     "output_type": "stream",
     "text": [
      "be1b09ba6d48e925ac81a880_a00378892921537893c64fac_8e0b217b1e1725e8933ae2b4\n"
     ]
    },
    {
     "data": {
      "text/plain": [
       "'num_processed: 1975/20845'"
      ]
     },
     "metadata": {},
     "output_type": "display_data"
    },
    {
     "name": "stdout",
     "output_type": "stream",
     "text": [
      "1697e7c4b68ad2f61e49e5d9_fa7799d7f39c444295d4dd53_c29609ae4eb9703df183e290\n"
     ]
    },
    {
     "data": {
      "text/plain": [
       "'num_processed: 1976/20845'"
      ]
     },
     "metadata": {},
     "output_type": "display_data"
    },
    {
     "name": "stdout",
     "output_type": "stream",
     "text": [
      "2d5e28b6d093f2e28a4a18ec_d544f8520fd41fc0d72a4fd0_6468bd6dae732ccd7d508c18\n"
     ]
    },
    {
     "data": {
      "text/plain": [
       "'num_processed: 1977/20845'"
      ]
     },
     "metadata": {},
     "output_type": "display_data"
    },
    {
     "name": "stdout",
     "output_type": "stream",
     "text": [
      "58beabbdb2a6ca0f8bdec754_5879e72c0e84618e5e984dfc_256e26062cfbc4e6b5d2334f\n"
     ]
    },
    {
     "data": {
      "text/plain": [
       "'num_processed: 1978/20845'"
      ]
     },
     "metadata": {},
     "output_type": "display_data"
    },
    {
     "name": "stdout",
     "output_type": "stream",
     "text": [
      "4186702e5c734ef24d1869b0_cba1f46dac406c2b0fff6fef_3db9a05fa20ecdf5b4ea6a96\n"
     ]
    },
    {
     "data": {
      "text/plain": [
       "'num_processed: 1979/20845'"
      ]
     },
     "metadata": {},
     "output_type": "display_data"
    },
    {
     "name": "stdout",
     "output_type": "stream",
     "text": [
      "71d4455fac8371161233d61c_d24b3412e518ef35cc0002e5_f6fff8b40771d7bca2229aca\n",
      "ERROR TRASFORMING!\n"
     ]
    },
    {
     "data": {
      "text/plain": [
       "'num_processed: 1980/20845'"
      ]
     },
     "metadata": {},
     "output_type": "display_data"
    },
    {
     "name": "stdout",
     "output_type": "stream",
     "text": [
      "8f01612cf4e4e0152ee4b7bb_dcf017348de534f42654c678_985daaf831cdf40242435c0a\n"
     ]
    },
    {
     "data": {
      "text/plain": [
       "'num_processed: 1981/20845'"
      ]
     },
     "metadata": {},
     "output_type": "display_data"
    },
    {
     "name": "stdout",
     "output_type": "stream",
     "text": [
      "707018a15e0a295b818b9ad9_16ba61d62719a08d71c5efb0_62a8fa1ea1e68c2f18f23195\n"
     ]
    },
    {
     "data": {
      "text/plain": [
       "'num_processed: 1982/20845'"
      ]
     },
     "metadata": {},
     "output_type": "display_data"
    },
    {
     "name": "stdout",
     "output_type": "stream",
     "text": [
      "57e0362929d2af1127669684_e3b288c421a34851d53d8eba_08275e9b4cc444735ac552bd\n"
     ]
    },
    {
     "data": {
      "text/plain": [
       "'num_processed: 1983/20845'"
      ]
     },
     "metadata": {},
     "output_type": "display_data"
    },
    {
     "name": "stdout",
     "output_type": "stream",
     "text": [
      "5d762d77974b7d5b4dae87df_ccb83d773290629dcfcf33c5_f9f8d926bc59ffc0ff9293a7\n"
     ]
    },
    {
     "data": {
      "text/plain": [
       "'num_processed: 1984/20845'"
      ]
     },
     "metadata": {},
     "output_type": "display_data"
    },
    {
     "name": "stdout",
     "output_type": "stream",
     "text": [
      "134d8a5fc01566e92cd10946_1045fecf18fd10eafa0aa69a_e2975c66d33ea9f4cf3f13e2\n"
     ]
    },
    {
     "data": {
      "text/plain": [
       "'num_processed: 1985/20845'"
      ]
     },
     "metadata": {},
     "output_type": "display_data"
    },
    {
     "name": "stdout",
     "output_type": "stream",
     "text": [
      "af586e03bab3b9c8bfe5b628_4383a0cc41588e1d73f18011_42ed52071bad2aebbde0b9a6\n"
     ]
    },
    {
     "data": {
      "text/plain": [
       "'num_processed: 1986/20845'"
      ]
     },
     "metadata": {},
     "output_type": "display_data"
    },
    {
     "name": "stdout",
     "output_type": "stream",
     "text": [
      "da89569131ae3fc0f8bacd9c_1274a7b4d412a4b4a3d5b705_a3602af1e5758585098961f2\n"
     ]
    },
    {
     "data": {
      "text/plain": [
       "'num_processed: 1987/20845'"
      ]
     },
     "metadata": {},
     "output_type": "display_data"
    },
    {
     "name": "stdout",
     "output_type": "stream",
     "text": [
      "a5d787f3572cc504fdb89544_f54035cd8b5d101774d58143_a638ce3533970ec63c940f99\n"
     ]
    },
    {
     "data": {
      "text/plain": [
       "'num_processed: 1988/20845'"
      ]
     },
     "metadata": {},
     "output_type": "display_data"
    },
    {
     "name": "stdout",
     "output_type": "stream",
     "text": [
      "9747d4af2174388de739fa29_583af43a0324d9ce9d184338_c0d495592c078540d5166134\n"
     ]
    },
    {
     "data": {
      "text/plain": [
       "'num_processed: 1989/20845'"
      ]
     },
     "metadata": {},
     "output_type": "display_data"
    },
    {
     "name": "stdout",
     "output_type": "stream",
     "text": [
      "8e3197228f891c1b6dae0f7a_cba32c746d2c4d3a13eafad6_f3bc255eff2f5bd129a6ec72\n"
     ]
    },
    {
     "data": {
      "text/plain": [
       "'num_processed: 1990/20845'"
      ]
     },
     "metadata": {},
     "output_type": "display_data"
    },
    {
     "name": "stdout",
     "output_type": "stream",
     "text": [
      "4d51098d8f026d0af86d1442_5e794937a58ad1fed1398d27_6e5d851222badfca2037f9e1\n"
     ]
    },
    {
     "data": {
      "text/plain": [
       "'num_processed: 1991/20845'"
      ]
     },
     "metadata": {},
     "output_type": "display_data"
    },
    {
     "name": "stdout",
     "output_type": "stream",
     "text": [
      "ac90012fea3c3da164e5dfd2_6b4b8ed8ca8d9134393a7e3d_2756b80c9843bea836dd31be\n"
     ]
    },
    {
     "data": {
      "text/plain": [
       "'num_processed: 1992/20845'"
      ]
     },
     "metadata": {},
     "output_type": "display_data"
    },
    {
     "name": "stdout",
     "output_type": "stream",
     "text": [
      "eaf8c742fe950d3f27224622_3fbeee38f4170db09e367020_a268d05a8a72949d0f55ad12\n"
     ]
    },
    {
     "data": {
      "text/plain": [
       "'num_processed: 1993/20845'"
      ]
     },
     "metadata": {},
     "output_type": "display_data"
    },
    {
     "name": "stdout",
     "output_type": "stream",
     "text": [
      "9e6747a2c45127c273b49838_ef289accbb1c52629c514c83_fe1a4dc92f9aeb37b638032b\n"
     ]
    },
    {
     "data": {
      "text/plain": [
       "'num_processed: 1994/20845'"
      ]
     },
     "metadata": {},
     "output_type": "display_data"
    },
    {
     "name": "stdout",
     "output_type": "stream",
     "text": [
      "45a9db57677f892df98c78db_80458da7c5385bb5b1e5b643_b65409f82219e66b39c0daaf\n"
     ]
    },
    {
     "data": {
      "text/plain": [
       "'num_processed: 1995/20845'"
      ]
     },
     "metadata": {},
     "output_type": "display_data"
    },
    {
     "name": "stdout",
     "output_type": "stream",
     "text": [
      "024c6e226f76dd2101fbb4df_20292bbd9b49173cd44a066d_b90ca89dfec7ee06e5e0690a\n"
     ]
    },
    {
     "data": {
      "text/plain": [
       "'num_processed: 1996/20845'"
      ]
     },
     "metadata": {},
     "output_type": "display_data"
    },
    {
     "name": "stdout",
     "output_type": "stream",
     "text": [
      "4dbef2c9806be4ed5d79cc13_7f68d78a1185ab3eaf4667e5_15d282f3efefd2431c8b7e9e\n"
     ]
    },
    {
     "data": {
      "text/plain": [
       "'num_processed: 1997/20845'"
      ]
     },
     "metadata": {},
     "output_type": "display_data"
    },
    {
     "name": "stdout",
     "output_type": "stream",
     "text": [
      "46f33bc27355daf99ac55dd5_64815a27cf29f4caf95afff7_039279dfef306a181d3f76aa\n"
     ]
    },
    {
     "data": {
      "text/plain": [
       "'num_processed: 1998/20845'"
      ]
     },
     "metadata": {},
     "output_type": "display_data"
    },
    {
     "name": "stdout",
     "output_type": "stream",
     "text": [
      "bb4b197129bfafb933ce418d_ec887d4969026abb8c14c956_3e5bc98bf012e6290224fb16\n"
     ]
    },
    {
     "data": {
      "text/plain": [
       "'num_processed: 1999/20845'"
      ]
     },
     "metadata": {},
     "output_type": "display_data"
    },
    {
     "name": "stdout",
     "output_type": "stream",
     "text": [
      "57ae27cce4b005c413ee4fc0_2e61ee424bda49b449166ae2_60a21c838ca01d0209de2dac\n",
      "ERROR TRASFORMING!\n",
      "ERROR TRASFORMING!\n",
      "ERROR TRASFORMING!\n"
     ]
    },
    {
     "data": {
      "text/plain": [
       "'num_processed: 2000/20845'"
      ]
     },
     "metadata": {},
     "output_type": "display_data"
    },
    {
     "name": "stdout",
     "output_type": "stream",
     "text": [
      "896e2e6ebd1b4ef06fe744dd_01ec5e4c41c238938a48c60d_4cf8b2b6cede81b4203eafb5\n"
     ]
    },
    {
     "data": {
      "text/plain": [
       "'num_processed: 2001/20845'"
      ]
     },
     "metadata": {},
     "output_type": "display_data"
    },
    {
     "name": "stdout",
     "output_type": "stream",
     "text": [
      "9428ad4ba5fd479ab7885312_823fbcd8909606f42108091c_6eda0792cd08242bd062fb14\n"
     ]
    },
    {
     "data": {
      "text/plain": [
       "'num_processed: 2002/20845'"
      ]
     },
     "metadata": {},
     "output_type": "display_data"
    },
    {
     "name": "stdout",
     "output_type": "stream",
     "text": [
      "58e8f1e159a32f0fc2363fd8_64eddf2fe653eb4126d10786_d8d89a3bb1fc0dbce674ed41\n"
     ]
    },
    {
     "data": {
      "text/plain": [
       "'num_processed: 2003/20845'"
      ]
     },
     "metadata": {},
     "output_type": "display_data"
    },
    {
     "name": "stdout",
     "output_type": "stream",
     "text": [
      "a95d715afb450daff7e3b656_55faca8d93ad9d0f77787f72_3d37486ce0b7bedaeaeae315\n"
     ]
    },
    {
     "data": {
      "text/plain": [
       "'num_processed: 2004/20845'"
      ]
     },
     "metadata": {},
     "output_type": "display_data"
    },
    {
     "name": "stdout",
     "output_type": "stream",
     "text": [
      "5e36b6da390160f85af5f046_a4588475d45c787895fb87b4_014a91aaebaa82e70c021007\n"
     ]
    },
    {
     "data": {
      "text/plain": [
       "'num_processed: 2005/20845'"
      ]
     },
     "metadata": {},
     "output_type": "display_data"
    },
    {
     "name": "stdout",
     "output_type": "stream",
     "text": [
      "8bda5b360b2aea9e719dfbbd_14cbe89220e6c344c0780d31_3cecd76e655103f820928c4b\n",
      "ERROR TRASFORMING!\n"
     ]
    },
    {
     "data": {
      "text/plain": [
       "'num_processed: 2006/20845'"
      ]
     },
     "metadata": {},
     "output_type": "display_data"
    },
    {
     "name": "stdout",
     "output_type": "stream",
     "text": [
      "7abc02bdf52eb1f8c77f8c21_d81674dab047c156c681357d_d18e4b49fdf89aec786daca9\n"
     ]
    },
    {
     "data": {
      "text/plain": [
       "'num_processed: 2007/20845'"
      ]
     },
     "metadata": {},
     "output_type": "display_data"
    },
    {
     "name": "stdout",
     "output_type": "stream",
     "text": [
      "f959fccb01adad856294659f_4f1bb72169f340a44e7414da_4356afc86654e042dbd5ef5d\n"
     ]
    },
    {
     "data": {
      "text/plain": [
       "'num_processed: 2008/20845'"
      ]
     },
     "metadata": {},
     "output_type": "display_data"
    },
    {
     "name": "stdout",
     "output_type": "stream",
     "text": [
      "462a80c1a3918fde89cce760_0cb3c17e9d9ad6dedb99b9bf_1d5043eae0bf4cacae62b4b1\n"
     ]
    },
    {
     "data": {
      "text/plain": [
       "'num_processed: 2009/20845'"
      ]
     },
     "metadata": {},
     "output_type": "display_data"
    },
    {
     "name": "stdout",
     "output_type": "stream",
     "text": [
      "a6b174a1a0a102a6a88b8c56_67e906ab7ad5ed0cdc4de5cb_64ce908c7e86fbee1f01f1c2\n"
     ]
    },
    {
     "data": {
      "text/plain": [
       "'num_processed: 2010/20845'"
      ]
     },
     "metadata": {},
     "output_type": "display_data"
    },
    {
     "name": "stdout",
     "output_type": "stream",
     "text": [
      "32c58404aa8571d7ae2e0dae_f0da3596d4b7fb4255c7b64c_268f15c7d34ad11cf7b50abe\n"
     ]
    },
    {
     "data": {
      "text/plain": [
       "'num_processed: 2011/20845'"
      ]
     },
     "metadata": {},
     "output_type": "display_data"
    },
    {
     "name": "stdout",
     "output_type": "stream",
     "text": [
      "e603437b240b79ff8f7c869a_a6a326d2d76e3ae4f346178a_b37c7bab15496962b2fd9eec\n"
     ]
    },
    {
     "data": {
      "text/plain": [
       "'num_processed: 2012/20845'"
      ]
     },
     "metadata": {},
     "output_type": "display_data"
    },
    {
     "name": "stdout",
     "output_type": "stream",
     "text": [
      "07a48b45101c7e6ca48a2193_c425a4930b18f4e355222e76_0390382faaa64561a5ed6913\n"
     ]
    },
    {
     "data": {
      "text/plain": [
       "'num_processed: 2013/20845'"
      ]
     },
     "metadata": {},
     "output_type": "display_data"
    },
    {
     "name": "stdout",
     "output_type": "stream",
     "text": [
      "c683dfe5e1a9e2455d735538_0d402be576b4a6c27f4f84e0_dba2d93bfc352d1dbcd170e0\n"
     ]
    },
    {
     "data": {
      "text/plain": [
       "'num_processed: 2014/20845'"
      ]
     },
     "metadata": {},
     "output_type": "display_data"
    },
    {
     "name": "stdout",
     "output_type": "stream",
     "text": [
      "ef8cb22504f90ad0d04b0de6_963b8dbd04ef6529eb25a905_88e6eb258e941aab21af49ae\n"
     ]
    },
    {
     "data": {
      "text/plain": [
       "'num_processed: 2015/20845'"
      ]
     },
     "metadata": {},
     "output_type": "display_data"
    },
    {
     "name": "stdout",
     "output_type": "stream",
     "text": [
      "574ef33ce4b078b375c2bafe_be6003eb938415464dfa42b4_11f330e4f4ddf2089be42413\n"
     ]
    },
    {
     "data": {
      "text/plain": [
       "'num_processed: 2016/20845'"
      ]
     },
     "metadata": {},
     "output_type": "display_data"
    },
    {
     "name": "stdout",
     "output_type": "stream",
     "text": [
      "d8d50130f7f3c70318a812d6_159fd6e844fd8250f49e89aa_6f31c01b96e515b3a5f03617\n"
     ]
    },
    {
     "data": {
      "text/plain": [
       "'num_processed: 2017/20845'"
      ]
     },
     "metadata": {},
     "output_type": "display_data"
    },
    {
     "name": "stdout",
     "output_type": "stream",
     "text": [
      "6d34e20c1b7c608ca171f3a8_8b628d6d07909fd6730cfe68_5b697fb7436f3fb1b249a2d5\n"
     ]
    },
    {
     "data": {
      "text/plain": [
       "'num_processed: 2018/20845'"
      ]
     },
     "metadata": {},
     "output_type": "display_data"
    },
    {
     "name": "stdout",
     "output_type": "stream",
     "text": [
      "b8fc87f9fe4eafc7b32ec265_0fa1b6d5aaadf56ae54603ce_9e6ba9d65b88fb77526e6275\n"
     ]
    },
    {
     "data": {
      "text/plain": [
       "'num_processed: 2019/20845'"
      ]
     },
     "metadata": {},
     "output_type": "display_data"
    },
    {
     "name": "stdout",
     "output_type": "stream",
     "text": [
      "c1bb76210e10d830cfcfe3f5_6de35514c650194ad9f7a9c4_ad901baee05563745754163c\n"
     ]
    },
    {
     "data": {
      "text/plain": [
       "'num_processed: 2020/20845'"
      ]
     },
     "metadata": {},
     "output_type": "display_data"
    },
    {
     "name": "stdout",
     "output_type": "stream",
     "text": [
      "b51bf9a3303cba56aa3462b1_ede44c887deabe3e3d48084a_913ca28634314216af2cd264\n"
     ]
    },
    {
     "data": {
      "text/plain": [
       "'num_processed: 2021/20845'"
      ]
     },
     "metadata": {},
     "output_type": "display_data"
    },
    {
     "name": "stdout",
     "output_type": "stream",
     "text": [
      "58c74df2349ddb0fd21fa507_3c6c0a727f6c51e1473f85e6_113a4cf263a9423ce6e5eb72\n"
     ]
    },
    {
     "data": {
      "text/plain": [
       "'num_processed: 2022/20845'"
      ]
     },
     "metadata": {},
     "output_type": "display_data"
    },
    {
     "name": "stdout",
     "output_type": "stream",
     "text": [
      "f78b51cf2aea4c0cdc4d53e4_64c200b1b61fde48937df453_ab6bf484c0378a57d7936019\n"
     ]
    },
    {
     "data": {
      "text/plain": [
       "'num_processed: 2023/20845'"
      ]
     },
     "metadata": {},
     "output_type": "display_data"
    },
    {
     "name": "stdout",
     "output_type": "stream",
     "text": [
      "48cc93657c692036bed87b66_415f5e17e3c3889ebec3c444_d5e2f68a39b7ba65dc94b83a\n"
     ]
    },
    {
     "data": {
      "text/plain": [
       "'num_processed: 2024/20845'"
      ]
     },
     "metadata": {},
     "output_type": "display_data"
    },
    {
     "name": "stdout",
     "output_type": "stream",
     "text": [
      "28c1eedae216178b7d4c7374_a77d6995ee5c8b33926b767b_bdcb2530724a919411f7fd3a\n"
     ]
    },
    {
     "data": {
      "text/plain": [
       "'num_processed: 2025/20845'"
      ]
     },
     "metadata": {},
     "output_type": "display_data"
    },
    {
     "name": "stdout",
     "output_type": "stream",
     "text": [
      "dc2881bf275c576ab2b97a28_922e68e71f03c06103e4ae09_ba9a6ce689109f33be5b1e6b\n"
     ]
    },
    {
     "data": {
      "text/plain": [
       "'num_processed: 2026/20845'"
      ]
     },
     "metadata": {},
     "output_type": "display_data"
    },
    {
     "name": "stdout",
     "output_type": "stream",
     "text": [
      "51a0275e0f6b66328c610383_e0515df339bfde31826aff51_6fa731f5f2b0b5d875dd2633\n"
     ]
    },
    {
     "data": {
      "text/plain": [
       "'num_processed: 2027/20845'"
      ]
     },
     "metadata": {},
     "output_type": "display_data"
    },
    {
     "name": "stdout",
     "output_type": "stream",
     "text": [
      "f321dc55d67bdd23c49ff3aa_51d5c33c04d2c13b7da63e36_4b62020a4a4813e15db4d7c1\n"
     ]
    },
    {
     "data": {
      "text/plain": [
       "'num_processed: 2028/20845'"
      ]
     },
     "metadata": {},
     "output_type": "display_data"
    },
    {
     "name": "stdout",
     "output_type": "stream",
     "text": [
      "194cf78a071750f51ee99cb9_dd24002d3b9c459ed6302cc9_b7d81cf0a100bc7f861fb21a\n"
     ]
    },
    {
     "data": {
      "text/plain": [
       "'num_processed: 2029/20845'"
      ]
     },
     "metadata": {},
     "output_type": "display_data"
    },
    {
     "name": "stdout",
     "output_type": "stream",
     "text": [
      "b6157ff053e4973d9e7fdcf0_caa33e769e5cae112890a832_6b8893e8a384c518169b5506\n"
     ]
    },
    {
     "data": {
      "text/plain": [
       "'num_processed: 2030/20845'"
      ]
     },
     "metadata": {},
     "output_type": "display_data"
    },
    {
     "name": "stdout",
     "output_type": "stream",
     "text": [
      "360cdfb5d2fdf94d725435ef_8955ad4865d5b5a1fc0e5d25_5ead06066cd49e0163314501\n"
     ]
    },
    {
     "data": {
      "text/plain": [
       "'num_processed: 2031/20845'"
      ]
     },
     "metadata": {},
     "output_type": "display_data"
    },
    {
     "name": "stdout",
     "output_type": "stream",
     "text": [
      "aaa24eae1f8eb13460be5dae_11d4365d9468ce6e076e6904_771273bc888ede0089e89459\n",
      "EROR IN process_axial - PK_SURF_ask_uvboxERROR TRASFORMING!\n"
     ]
    },
    {
     "data": {
      "text/plain": [
       "'num_processed: 2032/20845'"
      ]
     },
     "metadata": {},
     "output_type": "display_data"
    },
    {
     "name": "stdout",
     "output_type": "stream",
     "text": [
      "c9134b2866a137b328ba9c8d_9051fd030c168a37a77fe9b1_59469c6fced90359835f3748\n"
     ]
    },
    {
     "data": {
      "text/plain": [
       "'num_processed: 2033/20845'"
      ]
     },
     "metadata": {},
     "output_type": "display_data"
    },
    {
     "name": "stdout",
     "output_type": "stream",
     "text": [
      "4eb917391597d3e79d8bc09e_806dfc102a118f9bbc201213_04bc081e7d2ee603d137f37f\n"
     ]
    },
    {
     "data": {
      "text/plain": [
       "'num_processed: 2034/20845'"
      ]
     },
     "metadata": {},
     "output_type": "display_data"
    },
    {
     "name": "stdout",
     "output_type": "stream",
     "text": [
      "6955f7114cf35d8a098c4bb9_fe439fbd9310a706ed04738b_b1d2b2b951a7cb0abf179fa7\n"
     ]
    },
    {
     "data": {
      "text/plain": [
       "'num_processed: 2035/20845'"
      ]
     },
     "metadata": {},
     "output_type": "display_data"
    },
    {
     "name": "stdout",
     "output_type": "stream",
     "text": [
      "64fe3aba0b16fdb926d1612d_9b95830aff06a17cfb758d4e_5d9caf2d586ab1e26779f6e6\n"
     ]
    },
    {
     "data": {
      "text/plain": [
       "'num_processed: 2036/20845'"
      ]
     },
     "metadata": {},
     "output_type": "display_data"
    },
    {
     "name": "stdout",
     "output_type": "stream",
     "text": [
      "cbcb2cef7b0ec781e5e46b17_06617f2eff5b1f60d514eb86_280eea441008dea06d833ef1\n"
     ]
    },
    {
     "data": {
      "text/plain": [
       "'num_processed: 2037/20845'"
      ]
     },
     "metadata": {},
     "output_type": "display_data"
    },
    {
     "name": "stdout",
     "output_type": "stream",
     "text": [
      "8684ade822c82f71e16cf67e_3a60abe6e9f73d204530b08d_b797c1cf17b26882009189f8\n"
     ]
    },
    {
     "data": {
      "text/plain": [
       "'num_processed: 2038/20845'"
      ]
     },
     "metadata": {},
     "output_type": "display_data"
    },
    {
     "name": "stdout",
     "output_type": "stream",
     "text": [
      "d1f62e854f28eb15d0873be4_d03b81863aecc58584071b5e_1870668959aae8a27ce1b356\n"
     ]
    },
    {
     "data": {
      "text/plain": [
       "'num_processed: 2039/20845'"
      ]
     },
     "metadata": {},
     "output_type": "display_data"
    },
    {
     "name": "stdout",
     "output_type": "stream",
     "text": [
      "3b4705299cbd0f6feb3c88cd_42274893fcb227f4534ec5a5_109be85ca4becb59a7e3efc4\n"
     ]
    },
    {
     "data": {
      "text/plain": [
       "'num_processed: 2040/20845'"
      ]
     },
     "metadata": {},
     "output_type": "display_data"
    },
    {
     "name": "stdout",
     "output_type": "stream",
     "text": [
      "1dc9c6f3b08ca179bf1e8f82_41bddc52bfbada6c3cb0a3f3_0c2ac16343160636d116bcc8\n"
     ]
    },
    {
     "data": {
      "text/plain": [
       "'num_processed: 2041/20845'"
      ]
     },
     "metadata": {},
     "output_type": "display_data"
    },
    {
     "name": "stdout",
     "output_type": "stream",
     "text": [
      "90b29063cc8fa89ad24a87ce_3c7882e52f3acf7a721e0254_86acbb2bc2b3330d81b3b4ff\n"
     ]
    },
    {
     "data": {
      "text/plain": [
       "'num_processed: 2042/20845'"
      ]
     },
     "metadata": {},
     "output_type": "display_data"
    },
    {
     "name": "stdout",
     "output_type": "stream",
     "text": [
      "7eb96f2f012032a204fb4f3b_cd27c721541232bbb7601bb0_51393a4efd43eaf0375c43bf\n"
     ]
    },
    {
     "data": {
      "text/plain": [
       "'num_processed: 2043/20845'"
      ]
     },
     "metadata": {},
     "output_type": "display_data"
    },
    {
     "name": "stdout",
     "output_type": "stream",
     "text": [
      "0b9db567a32c955b0ba1b9c6_bbc003f59c7617fb5b615549_e0a230b23dd22643f4e30d3e\n"
     ]
    },
    {
     "data": {
      "text/plain": [
       "'num_processed: 2044/20845'"
      ]
     },
     "metadata": {},
     "output_type": "display_data"
    },
    {
     "name": "stdout",
     "output_type": "stream",
     "text": [
      "1242614e356263197e1648aa_9204981f6f1d43a1ccb2db7c_d1a0972f8bf6d1ef4c54f270\n"
     ]
    },
    {
     "data": {
      "text/plain": [
       "'num_processed: 2045/20845'"
      ]
     },
     "metadata": {},
     "output_type": "display_data"
    },
    {
     "name": "stdout",
     "output_type": "stream",
     "text": [
      "3599d7911d6f34cf262746b6_39e8379f2babfa0c6db0f60f_ac61d06df0ec843a29f2a4d9\n"
     ]
    },
    {
     "data": {
      "text/plain": [
       "'num_processed: 2046/20845'"
      ]
     },
     "metadata": {},
     "output_type": "display_data"
    },
    {
     "name": "stdout",
     "output_type": "stream",
     "text": [
      "27e77cceebda324a38cd8c16_c1a81633ad01f46ffc4e295f_77e60b529b8d393d8add4727\n"
     ]
    },
    {
     "data": {
      "text/plain": [
       "'num_processed: 2047/20845'"
      ]
     },
     "metadata": {},
     "output_type": "display_data"
    },
    {
     "name": "stdout",
     "output_type": "stream",
     "text": [
      "d6b5335430d100a17fca6c8b_5fcdde42e68ab935625f710b_ff2ae8f6f82515f007d57698\n"
     ]
    },
    {
     "data": {
      "text/plain": [
       "'num_processed: 2048/20845'"
      ]
     },
     "metadata": {},
     "output_type": "display_data"
    },
    {
     "name": "stdout",
     "output_type": "stream",
     "text": [
      "97d2cd0594fd3ee1b297c3a4_d93fc16272e21690faef22a3_34f53dfd81284454096aa64f\n",
      "ERROR TRASFORMING!\n",
      "ERROR TRASFORMING!\n"
     ]
    },
    {
     "data": {
      "text/plain": [
       "'num_processed: 2049/20845'"
      ]
     },
     "metadata": {},
     "output_type": "display_data"
    },
    {
     "name": "stdout",
     "output_type": "stream",
     "text": [
      "e2dd1246712621b2627667d0_935cdce6add67a35868d9243_6ec3dc12359f3d791b1dfaff\n"
     ]
    },
    {
     "data": {
      "text/plain": [
       "'num_processed: 2050/20845'"
      ]
     },
     "metadata": {},
     "output_type": "display_data"
    },
    {
     "name": "stdout",
     "output_type": "stream",
     "text": [
      "8121a6faa8bdbc816584a80d_ea19de53d28bd6d73e48f699_f982e2bc95972d6916a15516\n"
     ]
    },
    {
     "data": {
      "text/plain": [
       "'num_processed: 2051/20845'"
      ]
     },
     "metadata": {},
     "output_type": "display_data"
    },
    {
     "name": "stdout",
     "output_type": "stream",
     "text": [
      "476dd1e4b9d044c54c0186c6_38aebb8213c9aa7f54ca5bf3_23f1307abb511de0d1cee8d0\n",
      "ERROR TRASFORMING!\n",
      "ERROR TRASFORMING!\n",
      "ERROR TRASFORMING!\n",
      "ERROR TRASFORMING!\n"
     ]
    },
    {
     "data": {
      "text/plain": [
       "'num_processed: 2052/20845'"
      ]
     },
     "metadata": {},
     "output_type": "display_data"
    },
    {
     "name": "stdout",
     "output_type": "stream",
     "text": [
      "a31b7418b3434f1d93337450_4a6ecf9693ee6e9da010fc51_4e2c2c6c18c14fabc973b45c\n"
     ]
    },
    {
     "data": {
      "text/plain": [
       "'num_processed: 2053/20845'"
      ]
     },
     "metadata": {},
     "output_type": "display_data"
    },
    {
     "name": "stdout",
     "output_type": "stream",
     "text": [
      "0fe13298db6a2d6d4b81bb72_4045703123c4ad6f879dbb0c_622697d98b2c4fdb343720c1\n"
     ]
    },
    {
     "data": {
      "text/plain": [
       "'num_processed: 2054/20845'"
      ]
     },
     "metadata": {},
     "output_type": "display_data"
    },
    {
     "name": "stdout",
     "output_type": "stream",
     "text": [
      "983aa67155700b63ea741491_7da386f534d1d40b3377d1c1_787dcda5a6380d2feaee431b\n"
     ]
    },
    {
     "data": {
      "text/plain": [
       "'num_processed: 2055/20845'"
      ]
     },
     "metadata": {},
     "output_type": "display_data"
    },
    {
     "name": "stdout",
     "output_type": "stream",
     "text": [
      "587544a0c986e117b09fb9bb_ef4893d30f9c39b4e0a75dfc_6f1f06f502cb82a793d81578\n"
     ]
    },
    {
     "data": {
      "text/plain": [
       "'num_processed: 2056/20845'"
      ]
     },
     "metadata": {},
     "output_type": "display_data"
    },
    {
     "name": "stdout",
     "output_type": "stream",
     "text": [
      "5878887fd032a51750e08573_d9baf245da2145f266b65aea_0b6f781294e4afbd71572d19\n"
     ]
    },
    {
     "data": {
      "text/plain": [
       "'num_processed: 2057/20845'"
      ]
     },
     "metadata": {},
     "output_type": "display_data"
    },
    {
     "name": "stdout",
     "output_type": "stream",
     "text": [
      "7ff69a698e125cf118935293_ca35e8a3de0ab24e8a173e75_d19cc07a4581c85147a30924\n"
     ]
    },
    {
     "data": {
      "text/plain": [
       "'num_processed: 2058/20845'"
      ]
     },
     "metadata": {},
     "output_type": "display_data"
    },
    {
     "name": "stdout",
     "output_type": "stream",
     "text": [
      "b7d257c30d8d7d44ded7386c_503034117265bcf5b1e63e8f_51828650ec80b2df30d5df2d\n"
     ]
    },
    {
     "data": {
      "text/plain": [
       "'num_processed: 2059/20845'"
      ]
     },
     "metadata": {},
     "output_type": "display_data"
    },
    {
     "name": "stdout",
     "output_type": "stream",
     "text": [
      "2948bead13e2bc852b28da2f_164cf7e3151a0a74b2872af4_7f27b7bdef7cccc24322c9e1\n"
     ]
    },
    {
     "data": {
      "text/plain": [
       "'num_processed: 2060/20845'"
      ]
     },
     "metadata": {},
     "output_type": "display_data"
    },
    {
     "name": "stdout",
     "output_type": "stream",
     "text": [
      "c8e209b637ee883563804ebc_ff57fe11d23b14a91709964a_446be298253830ca5fa998ed\n"
     ]
    },
    {
     "data": {
      "text/plain": [
       "'num_processed: 2061/20845'"
      ]
     },
     "metadata": {},
     "output_type": "display_data"
    },
    {
     "name": "stdout",
     "output_type": "stream",
     "text": [
      "2f6c10464af998c9fd9c941e_b9144d95988174c1cd04261a_129be1500cf2c553c93ef9f3\n"
     ]
    },
    {
     "data": {
      "text/plain": [
       "'num_processed: 2062/20845'"
      ]
     },
     "metadata": {},
     "output_type": "display_data"
    },
    {
     "name": "stdout",
     "output_type": "stream",
     "text": [
      "b52647b1dc50746b90bf5303_d1867e46b2ba94c01d1f025c_8e2e16d1e75c36b7864003f1\n"
     ]
    },
    {
     "data": {
      "text/plain": [
       "'num_processed: 2063/20845'"
      ]
     },
     "metadata": {},
     "output_type": "display_data"
    },
    {
     "name": "stdout",
     "output_type": "stream",
     "text": [
      "57cfc47795ebd0108f5efad1_4e6605956b2df869b2a7f58e_36b2d3913b95d8d4c7a84c6f\n"
     ]
    },
    {
     "data": {
      "text/plain": [
       "'num_processed: 2064/20845'"
      ]
     },
     "metadata": {},
     "output_type": "display_data"
    },
    {
     "name": "stdout",
     "output_type": "stream",
     "text": [
      "1a9498378ecd207456fe5597_bce2e946f6f21e105d028bb9_72895236e4ec3179e46d3df6\n"
     ]
    },
    {
     "data": {
      "text/plain": [
       "'num_processed: 2065/20845'"
      ]
     },
     "metadata": {},
     "output_type": "display_data"
    },
    {
     "name": "stdout",
     "output_type": "stream",
     "text": [
      "58bb966bc4c040105fe23256_f123a1fe8837038940261070_9994ba3ac2faa4b0469e37ce\n"
     ]
    },
    {
     "data": {
      "text/plain": [
       "'num_processed: 2066/20845'"
      ]
     },
     "metadata": {},
     "output_type": "display_data"
    },
    {
     "name": "stdout",
     "output_type": "stream",
     "text": [
      "0ed393772694e9daeb5d0adc_21854a09f439a91168c2c7c0_38aaa0247df4f59e87e70a3e\n"
     ]
    },
    {
     "data": {
      "text/plain": [
       "'num_processed: 2067/20845'"
      ]
     },
     "metadata": {},
     "output_type": "display_data"
    },
    {
     "name": "stdout",
     "output_type": "stream",
     "text": [
      "1359e71b9884cf6c1eedb327_e5057f33f7b80e36c0a858db_012e45338186e6ffe1de46ab\n"
     ]
    },
    {
     "data": {
      "text/plain": [
       "'num_processed: 2068/20845'"
      ]
     },
     "metadata": {},
     "output_type": "display_data"
    },
    {
     "name": "stdout",
     "output_type": "stream",
     "text": [
      "411c05d1009495c1a7c94a21_921d7a05e56d2520ece40abc_fe18567c3a1e5d87ec6a386f\n"
     ]
    },
    {
     "data": {
      "text/plain": [
       "'num_processed: 2069/20845'"
      ]
     },
     "metadata": {},
     "output_type": "display_data"
    },
    {
     "name": "stdout",
     "output_type": "stream",
     "text": [
      "8418a3667a050be2c08ce26c_96ec35a0f9a7db37d575df39_2614a3f5b68329d7d6f15560\n"
     ]
    },
    {
     "data": {
      "text/plain": [
       "'num_processed: 2070/20845'"
      ]
     },
     "metadata": {},
     "output_type": "display_data"
    },
    {
     "name": "stdout",
     "output_type": "stream",
     "text": [
      "dbf85210e4ad87099cdff575_58dd7f4540495c72b2f15ef1_a9e168573e4dd24ff4ae8e5c\n"
     ]
    },
    {
     "data": {
      "text/plain": [
       "'num_processed: 2071/20845'"
      ]
     },
     "metadata": {},
     "output_type": "display_data"
    },
    {
     "name": "stdout",
     "output_type": "stream",
     "text": [
      "6107f1f6b8ce3866f1e42017_66028e32bd89e5c049a2c4a6_e68c83cd01585f0a0a5fae07\n"
     ]
    },
    {
     "data": {
      "text/plain": [
       "'num_processed: 2072/20845'"
      ]
     },
     "metadata": {},
     "output_type": "display_data"
    },
    {
     "name": "stdout",
     "output_type": "stream",
     "text": [
      "459069a538472c365ea8c3ae_4c8b7c37cbf0c3b7bb59f184_dfeec82a4598f90f1c490b76\n"
     ]
    },
    {
     "data": {
      "text/plain": [
       "'num_processed: 2073/20845'"
      ]
     },
     "metadata": {},
     "output_type": "display_data"
    },
    {
     "name": "stdout",
     "output_type": "stream",
     "text": [
      "58de131dad11a8103700c00b_3b4372006bb6e8c3e056d968_3c8b03a8ebca453c98ed9a32\n"
     ]
    },
    {
     "data": {
      "text/plain": [
       "'num_processed: 2074/20845'"
      ]
     },
     "metadata": {},
     "output_type": "display_data"
    },
    {
     "name": "stdout",
     "output_type": "stream",
     "text": [
      "9bdb080e854c4b2fd68f4ac6_2726148a779a300a104b9dda_142ed63454b32cced7ec4f37\n"
     ]
    },
    {
     "data": {
      "text/plain": [
       "'num_processed: 2075/20845'"
      ]
     },
     "metadata": {},
     "output_type": "display_data"
    },
    {
     "name": "stdout",
     "output_type": "stream",
     "text": [
      "285a5e7f61b5551663813afd_c48e477e372be927b15f4a7f_11dc87393e1eac5fb3eb8c70\n"
     ]
    },
    {
     "data": {
      "text/plain": [
       "'num_processed: 2076/20845'"
      ]
     },
     "metadata": {},
     "output_type": "display_data"
    },
    {
     "name": "stdout",
     "output_type": "stream",
     "text": [
      "48b901400651b3c1003ef9a8_ec698a0f59b4b5718857818c_802528fc520464a6704f8a34\n"
     ]
    },
    {
     "data": {
      "text/plain": [
       "'num_processed: 2077/20845'"
      ]
     },
     "metadata": {},
     "output_type": "display_data"
    },
    {
     "name": "stdout",
     "output_type": "stream",
     "text": [
      "16165b76882655b27b25b58e_4f2bb70ddc24c25d5891b3ce_7fa78de883bd19e2549ff440\n"
     ]
    },
    {
     "data": {
      "text/plain": [
       "'num_processed: 2078/20845'"
      ]
     },
     "metadata": {},
     "output_type": "display_data"
    },
    {
     "name": "stdout",
     "output_type": "stream",
     "text": [
      "e92de50c3157741b9168f45d_787901708202883fac5bad30_4ec067de71530c15a522f31d\n"
     ]
    },
    {
     "data": {
      "text/plain": [
       "'num_processed: 2079/20845'"
      ]
     },
     "metadata": {},
     "output_type": "display_data"
    },
    {
     "name": "stdout",
     "output_type": "stream",
     "text": [
      "596850e5896cdb1a517b4b31_92004a17f114a7314006b0b8_1f0f60ea97814329076026ee\n"
     ]
    },
    {
     "data": {
      "text/plain": [
       "'num_processed: 2080/20845'"
      ]
     },
     "metadata": {},
     "output_type": "display_data"
    },
    {
     "name": "stdout",
     "output_type": "stream",
     "text": [
      "bdaaf5e8f8296cc7696d9463_fec4919447526e2176e20832_26f62bcaf582f13f26c75b0f\n"
     ]
    },
    {
     "data": {
      "text/plain": [
       "'num_processed: 2081/20845'"
      ]
     },
     "metadata": {},
     "output_type": "display_data"
    },
    {
     "name": "stdout",
     "output_type": "stream",
     "text": [
      "574b0b25e4b0e481fb3b653d_7aa25fa471aab8cc135437f6_7fae9c7a7983513a5f85cb3b\n"
     ]
    },
    {
     "data": {
      "text/plain": [
       "'num_processed: 2082/20845'"
      ]
     },
     "metadata": {},
     "output_type": "display_data"
    },
    {
     "name": "stdout",
     "output_type": "stream",
     "text": [
      "040c04d7e9144bfedab9bb82_be5c47658bdf28a635caafb6_1e3f8ae059c2c45cf1516a06\n"
     ]
    },
    {
     "data": {
      "text/plain": [
       "'num_processed: 2083/20845'"
      ]
     },
     "metadata": {},
     "output_type": "display_data"
    },
    {
     "name": "stdout",
     "output_type": "stream",
     "text": [
      "c2a49f5f2898aa6474f5d801_12b1bd8fb12d1f0356098b47_8d3814190e5461c175bed74b\n"
     ]
    },
    {
     "data": {
      "text/plain": [
       "'num_processed: 2084/20845'"
      ]
     },
     "metadata": {},
     "output_type": "display_data"
    },
    {
     "name": "stdout",
     "output_type": "stream",
     "text": [
      "102933dd51b7cef4dbc64cb8_d4507fd98ae0011e7e4b6811_b97ab6dbe61c765a9e425b9b\n"
     ]
    },
    {
     "data": {
      "text/plain": [
       "'num_processed: 2085/20845'"
      ]
     },
     "metadata": {},
     "output_type": "display_data"
    },
    {
     "name": "stdout",
     "output_type": "stream",
     "text": [
      "58a1349a696d0a1055cbe132_f15511d1380f5c64a9e7b1d1_e555527b6009d24753924436\n"
     ]
    },
    {
     "data": {
      "text/plain": [
       "'num_processed: 2086/20845'"
      ]
     },
     "metadata": {},
     "output_type": "display_data"
    },
    {
     "name": "stdout",
     "output_type": "stream",
     "text": [
      "f3933362bc09268ed1713f70_c819bd7f93b976b293bc780d_384c51d8f5a62ca66edd7bda\n"
     ]
    },
    {
     "data": {
      "text/plain": [
       "'num_processed: 2087/20845'"
      ]
     },
     "metadata": {},
     "output_type": "display_data"
    },
    {
     "name": "stdout",
     "output_type": "stream",
     "text": [
      "a4dc873fe93b47bca30fe1a8_28d6fde3ed0716442e8df075_2b4904516dac5f5ef11bf5cc\n"
     ]
    },
    {
     "data": {
      "text/plain": [
       "'num_processed: 2088/20845'"
      ]
     },
     "metadata": {},
     "output_type": "display_data"
    },
    {
     "name": "stdout",
     "output_type": "stream",
     "text": [
      "68dcaaa37a86a81fe92119c9_d626989c14e5cab0b7a5c46e_3aa38446315ac6cf3344c3ce\n"
     ]
    },
    {
     "data": {
      "text/plain": [
       "'num_processed: 2089/20845'"
      ]
     },
     "metadata": {},
     "output_type": "display_data"
    },
    {
     "name": "stdout",
     "output_type": "stream",
     "text": [
      "6793caab14609b93950c49c2_a5fe7f7f1393493c43f48163_0ab4cc1b05f02467165f1ba6\n"
     ]
    },
    {
     "data": {
      "text/plain": [
       "'num_processed: 2090/20845'"
      ]
     },
     "metadata": {},
     "output_type": "display_data"
    },
    {
     "name": "stdout",
     "output_type": "stream",
     "text": [
      "6e8fd894fc2aab4797d6a065_20f866533427c9dda49ab29b_747853c72f4dc68a170e5723\n"
     ]
    },
    {
     "data": {
      "text/plain": [
       "'num_processed: 2091/20845'"
      ]
     },
     "metadata": {},
     "output_type": "display_data"
    },
    {
     "name": "stdout",
     "output_type": "stream",
     "text": [
      "14006f02362a1e5ac790a278_f83e6ee206f2479df4a6c4de_63d7750c464758cedb302d4a\n"
     ]
    },
    {
     "data": {
      "text/plain": [
       "'num_processed: 2092/20845'"
      ]
     },
     "metadata": {},
     "output_type": "display_data"
    },
    {
     "name": "stdout",
     "output_type": "stream",
     "text": [
      "95fb0b1fe8167574f208a794_a6f91bcdedf3baff1a63aef5_875b65ab79bd4240565c956f\n"
     ]
    },
    {
     "data": {
      "text/plain": [
       "'num_processed: 2093/20845'"
      ]
     },
     "metadata": {},
     "output_type": "display_data"
    },
    {
     "name": "stdout",
     "output_type": "stream",
     "text": [
      "3feab68831ce794ac858de77_6cc8a76602e8417f28971e68_294f44a3cff867a06a2aad46\n"
     ]
    },
    {
     "data": {
      "text/plain": [
       "'num_processed: 2094/20845'"
      ]
     },
     "metadata": {},
     "output_type": "display_data"
    },
    {
     "name": "stdout",
     "output_type": "stream",
     "text": [
      "8e4c3fcc68591d59c958b25c_0a44f3d8e37b76138a1e292a_1e945608c9e9d7eba4d8b636\n"
     ]
    },
    {
     "data": {
      "text/plain": [
       "'num_processed: 2095/20845'"
      ]
     },
     "metadata": {},
     "output_type": "display_data"
    },
    {
     "name": "stdout",
     "output_type": "stream",
     "text": [
      "7fef11d064783c3d9b28a2e2_b2677cfbe7acef1679ae66aa_4bd39ae68b4ee90568a61afd\n"
     ]
    },
    {
     "data": {
      "text/plain": [
       "'num_processed: 2096/20845'"
      ]
     },
     "metadata": {},
     "output_type": "display_data"
    },
    {
     "name": "stdout",
     "output_type": "stream",
     "text": [
      "758ab3adb5855f8761e1b22b_1a67972e35c68e970c297d55_c2f991a6e7a5c2a1b5fd0650\n"
     ]
    },
    {
     "data": {
      "text/plain": [
       "'num_processed: 2097/20845'"
      ]
     },
     "metadata": {},
     "output_type": "display_data"
    },
    {
     "name": "stdout",
     "output_type": "stream",
     "text": [
      "ad3999152e9bf3425d103f62_2d934bfcff946af67609eaed_0f6e4e6a8f4ac66f9d717458\n"
     ]
    },
    {
     "data": {
      "text/plain": [
       "'num_processed: 2098/20845'"
      ]
     },
     "metadata": {},
     "output_type": "display_data"
    },
    {
     "name": "stdout",
     "output_type": "stream",
     "text": [
      "9ab516c72babbc6ba4d924be_35a2051e0bc688f29dd7156b_1b6cc58d184085af7100b117\n"
     ]
    },
    {
     "data": {
      "text/plain": [
       "'num_processed: 2099/20845'"
      ]
     },
     "metadata": {},
     "output_type": "display_data"
    },
    {
     "name": "stdout",
     "output_type": "stream",
     "text": [
      "c825787915389cc8603aae47_1b1eb5bb9e3e8a1fd6280d68_f95835b9662516bac47dfd91\n"
     ]
    },
    {
     "data": {
      "text/plain": [
       "'num_processed: 2100/20845'"
      ]
     },
     "metadata": {},
     "output_type": "display_data"
    },
    {
     "name": "stdout",
     "output_type": "stream",
     "text": [
      "ccfb37046f2f31f77ca0be88_4b1a61d5505ed61da3699d0d_25478a825bfb1df0175f789e\n",
      "ERROR TRASFORMING!\n"
     ]
    },
    {
     "data": {
      "text/plain": [
       "'num_processed: 2101/20845'"
      ]
     },
     "metadata": {},
     "output_type": "display_data"
    },
    {
     "name": "stdout",
     "output_type": "stream",
     "text": [
      "d2a1d05537522702b323e4f2_55fa18b03f84ce5cd0585a3f_daee4fad61e71c8f911f73b2\n"
     ]
    },
    {
     "data": {
      "text/plain": [
       "'num_processed: 2102/20845'"
      ]
     },
     "metadata": {},
     "output_type": "display_data"
    },
    {
     "name": "stdout",
     "output_type": "stream",
     "text": [
      "fc7f2131245d992ba28c37a4_13d8f315d6f6518e72d400fe_d3dbf5eff249d6fc14143c18\n"
     ]
    },
    {
     "data": {
      "text/plain": [
       "'num_processed: 2103/20845'"
      ]
     },
     "metadata": {},
     "output_type": "display_data"
    },
    {
     "name": "stdout",
     "output_type": "stream",
     "text": [
      "ac8d6c8d84e303555470886f_2093c6fc00123b9c4cc61472_afa169a641072426202b89a7\n"
     ]
    },
    {
     "data": {
      "text/plain": [
       "'num_processed: 2104/20845'"
      ]
     },
     "metadata": {},
     "output_type": "display_data"
    },
    {
     "name": "stdout",
     "output_type": "stream",
     "text": [
      "d79c9edc4413f52cd3482ec9_265b2a2f0817e3dfe889420f_dac0835d3837fa013ebccffe\n"
     ]
    },
    {
     "data": {
      "text/plain": [
       "'num_processed: 2105/20845'"
      ]
     },
     "metadata": {},
     "output_type": "display_data"
    },
    {
     "name": "stdout",
     "output_type": "stream",
     "text": [
      "b196d053b92c439e8167d3ff_841b1943a355b9eff04800c0_0f8c43c10576bdb7713255ee\n"
     ]
    },
    {
     "data": {
      "text/plain": [
       "'num_processed: 2106/20845'"
      ]
     },
     "metadata": {},
     "output_type": "display_data"
    },
    {
     "name": "stdout",
     "output_type": "stream",
     "text": [
      "3191d4e99a43503c5a4fc0fb_25a64da9f636131ae9849693_4ec160e0692136278972330a\n"
     ]
    },
    {
     "data": {
      "text/plain": [
       "'num_processed: 2107/20845'"
      ]
     },
     "metadata": {},
     "output_type": "display_data"
    },
    {
     "name": "stdout",
     "output_type": "stream",
     "text": [
      "b1f5d6423faf98b74304c3b2_50fd15da034eecfd3d575426_770b557ad9b78b553e95a839\n"
     ]
    },
    {
     "data": {
      "text/plain": [
       "'num_processed: 2108/20845'"
      ]
     },
     "metadata": {},
     "output_type": "display_data"
    },
    {
     "name": "stdout",
     "output_type": "stream",
     "text": [
      "f7374ba6f4f85bea033a7ed3_ea01b6f5378a7cd002d0e573_0af968a487c2c70d38e790c3\n"
     ]
    },
    {
     "data": {
      "text/plain": [
       "'num_processed: 2109/20845'"
      ]
     },
     "metadata": {},
     "output_type": "display_data"
    },
    {
     "name": "stdout",
     "output_type": "stream",
     "text": [
      "c8316dbce3600b8ea69933e8_581841469637ea0ee2dd1c6e_65d8bc10d5d5f930eeb0d315\n"
     ]
    },
    {
     "data": {
      "text/plain": [
       "'num_processed: 2110/20845'"
      ]
     },
     "metadata": {},
     "output_type": "display_data"
    },
    {
     "name": "stdout",
     "output_type": "stream",
     "text": [
      "96c5947c29750735000d4630_5da1cb5228bab3c8e1624ed4_2bc416539ed093fff65ec04d\n"
     ]
    },
    {
     "data": {
      "text/plain": [
       "'num_processed: 2111/20845'"
      ]
     },
     "metadata": {},
     "output_type": "display_data"
    },
    {
     "name": "stdout",
     "output_type": "stream",
     "text": [
      "080bda692c7362d9d8f550c0_2bb4d493fe1adaf882bc9c9f_2daeb79e9ebd61009fc5383d\n"
     ]
    },
    {
     "data": {
      "text/plain": [
       "'num_processed: 2112/20845'"
      ]
     },
     "metadata": {},
     "output_type": "display_data"
    },
    {
     "name": "stdout",
     "output_type": "stream",
     "text": [
      "5c2a85b82a27fd7af6bc5753_1ce4f289fb47b990cb932786_a6d31e0efeeb2ae3099f22fc\n"
     ]
    },
    {
     "data": {
      "text/plain": [
       "'num_processed: 2113/20845'"
      ]
     },
     "metadata": {},
     "output_type": "display_data"
    },
    {
     "name": "stdout",
     "output_type": "stream",
     "text": [
      "6912a8222000b8dc7c707807_8b0ea62f075c1e1c73aaa608_0cec5c143fd3354f78be8db7\n"
     ]
    },
    {
     "data": {
      "text/plain": [
       "'num_processed: 2114/20845'"
      ]
     },
     "metadata": {},
     "output_type": "display_data"
    },
    {
     "name": "stdout",
     "output_type": "stream",
     "text": [
      "076c31464af121b1bb6bec1b_73261654faaa7e2025ffceca_383c47955aa66eb680929515\n"
     ]
    },
    {
     "data": {
      "text/plain": [
       "'num_processed: 2115/20845'"
      ]
     },
     "metadata": {},
     "output_type": "display_data"
    },
    {
     "name": "stdout",
     "output_type": "stream",
     "text": [
      "72af33f8f5879848416dba1a_bb9f7abe4ff4d09cca86500a_60e9fd9e14a7daeaca91c1fa\n"
     ]
    },
    {
     "data": {
      "text/plain": [
       "'num_processed: 2116/20845'"
      ]
     },
     "metadata": {},
     "output_type": "display_data"
    },
    {
     "name": "stdout",
     "output_type": "stream",
     "text": [
      "8814a13c4aedbe6c1a416ecd_3693b059706a0339823c95dc_121467118a484357a83cb83b\n"
     ]
    },
    {
     "data": {
      "text/plain": [
       "'num_processed: 2117/20845'"
      ]
     },
     "metadata": {},
     "output_type": "display_data"
    },
    {
     "name": "stdout",
     "output_type": "stream",
     "text": [
      "b0639d02b3c4f4871caeeb9a_8be4d03eafe526aa6713ae54_44db3074d29eb0ccb8eef8d3\n"
     ]
    },
    {
     "data": {
      "text/plain": [
       "'num_processed: 2118/20845'"
      ]
     },
     "metadata": {},
     "output_type": "display_data"
    },
    {
     "name": "stdout",
     "output_type": "stream",
     "text": [
      "f119ff1233759f0aa3d4af5b_1a6c06e81297479a168bcbb7_b3e0b1b10603a6984657d8f1\n"
     ]
    },
    {
     "data": {
      "text/plain": [
       "'num_processed: 2119/20845'"
      ]
     },
     "metadata": {},
     "output_type": "display_data"
    },
    {
     "name": "stdout",
     "output_type": "stream",
     "text": [
      "984ffddc5102132db5ee1b66_fa6667e5e50eb7343e8396b4_fd00cac4c9457974c3fa453b\n"
     ]
    },
    {
     "data": {
      "text/plain": [
       "'num_processed: 2120/20845'"
      ]
     },
     "metadata": {},
     "output_type": "display_data"
    },
    {
     "name": "stdout",
     "output_type": "stream",
     "text": [
      "1b94f636ae6fb753819df8c8_da498e1603c4b8c1393208a7_3f3a331863996b23b9895cb2\n",
      "ERROR TRASFORMING!\n",
      "ERROR TRASFORMING!\n",
      "ERROR TRASFORMING!\n",
      "ERROR TRASFORMING!\n"
     ]
    },
    {
     "data": {
      "text/plain": [
       "'num_processed: 2121/20845'"
      ]
     },
     "metadata": {},
     "output_type": "display_data"
    },
    {
     "name": "stdout",
     "output_type": "stream",
     "text": [
      "83b45a2b39177c90e514c444_aba9d7cff1a82212997d5689_ce064b2982e52fd6c1cf166c\n"
     ]
    },
    {
     "data": {
      "text/plain": [
       "'num_processed: 2122/20845'"
      ]
     },
     "metadata": {},
     "output_type": "display_data"
    },
    {
     "name": "stdout",
     "output_type": "stream",
     "text": [
      "0f641cb0773f809142bae41b_ae2083072a8af4c3932b3744_cff56b43b10ac209b0671ec4\n"
     ]
    },
    {
     "data": {
      "text/plain": [
       "'num_processed: 2123/20845'"
      ]
     },
     "metadata": {},
     "output_type": "display_data"
    },
    {
     "name": "stdout",
     "output_type": "stream",
     "text": [
      "558258460dffde828e7b9a01_84360a5f359637740256f874_90a2e11925b0ee3e27f41767\n"
     ]
    },
    {
     "data": {
      "text/plain": [
       "'num_processed: 2124/20845'"
      ]
     },
     "metadata": {},
     "output_type": "display_data"
    },
    {
     "name": "stdout",
     "output_type": "stream",
     "text": [
      "be639f939962f613a6513d4b_8c740b02b6c4d21f26848199_40da825dd5ca2fd285325092\n"
     ]
    },
    {
     "data": {
      "text/plain": [
       "'num_processed: 2125/20845'"
      ]
     },
     "metadata": {},
     "output_type": "display_data"
    },
    {
     "name": "stdout",
     "output_type": "stream",
     "text": [
      "05499d5a0fbcd319d38383a5_c5f7917811cc8166203d5d59_193726960443290f46191eb0\n"
     ]
    },
    {
     "data": {
      "text/plain": [
       "'num_processed: 2126/20845'"
      ]
     },
     "metadata": {},
     "output_type": "display_data"
    },
    {
     "name": "stdout",
     "output_type": "stream",
     "text": [
      "6a82294c0baf6ac15771bb85_52e564d5fb5702b0dd424d28_ebbe8c73e0f27358ea67f6d5\n"
     ]
    },
    {
     "data": {
      "text/plain": [
       "'num_processed: 2127/20845'"
      ]
     },
     "metadata": {},
     "output_type": "display_data"
    },
    {
     "name": "stdout",
     "output_type": "stream",
     "text": [
      "2346bcdd8ac85d5b9a7d5a0e_73cf627ca33029f9156b0502_9631d1352f2738b10314294f\n"
     ]
    },
    {
     "data": {
      "text/plain": [
       "'num_processed: 2128/20845'"
      ]
     },
     "metadata": {},
     "output_type": "display_data"
    },
    {
     "name": "stdout",
     "output_type": "stream",
     "text": [
      "1a8cbb3c76017a41b151e4e7_7839b7bdc741333938d55ad2_1f823d75e336e1ae9b0f9e29\n"
     ]
    },
    {
     "data": {
      "text/plain": [
       "'num_processed: 2129/20845'"
      ]
     },
     "metadata": {},
     "output_type": "display_data"
    },
    {
     "name": "stdout",
     "output_type": "stream",
     "text": [
      "7e457b7afe5090e112128535_2278c262698d9efe0134e1ab_e92d49b9d2df5c47aff4e1f6\n"
     ]
    },
    {
     "data": {
      "text/plain": [
       "'num_processed: 2130/20845'"
      ]
     },
     "metadata": {},
     "output_type": "display_data"
    },
    {
     "name": "stdout",
     "output_type": "stream",
     "text": [
      "5623bd2d52e815119d000f14_523aafaf69b3c85802b76658_b8ee5fe6e7fb01592cc861b4\n"
     ]
    },
    {
     "data": {
      "text/plain": [
       "'num_processed: 2131/20845'"
      ]
     },
     "metadata": {},
     "output_type": "display_data"
    },
    {
     "name": "stdout",
     "output_type": "stream",
     "text": [
      "72f6032b831baacd6a16e341_952b5b27cf4ec8a1ffa17879_49c3035435bb5036fbb6a94b\n"
     ]
    },
    {
     "data": {
      "text/plain": [
       "'num_processed: 2132/20845'"
      ]
     },
     "metadata": {},
     "output_type": "display_data"
    },
    {
     "name": "stdout",
     "output_type": "stream",
     "text": [
      "0e532bda3b868d12a4bf0cb5_56f3c217db1ba175b78630e4_1753e9828b8fec0d29833423\n"
     ]
    },
    {
     "data": {
      "text/plain": [
       "'num_processed: 2133/20845'"
      ]
     },
     "metadata": {},
     "output_type": "display_data"
    },
    {
     "name": "stdout",
     "output_type": "stream",
     "text": [
      "4d545a0f2021b2567cf4f6b9_9bdd64d626423668e4295dfb_b02b22ab7cc43ed1c7ccc59f\n"
     ]
    },
    {
     "data": {
      "text/plain": [
       "'num_processed: 2134/20845'"
      ]
     },
     "metadata": {},
     "output_type": "display_data"
    },
    {
     "name": "stdout",
     "output_type": "stream",
     "text": [
      "d684cebfbcff15b3d0428384_532f2280d61825f889af9d92_fccafc54ac0e537ccd49273f\n",
      "ERROR TRASFORMING!\n"
     ]
    },
    {
     "data": {
      "text/plain": [
       "'num_processed: 2135/20845'"
      ]
     },
     "metadata": {},
     "output_type": "display_data"
    },
    {
     "name": "stdout",
     "output_type": "stream",
     "text": [
      "c4cb7f30bd39f3deacab7c50_90a33684210e81ba9874d032_b56f022eb516bee48311db64\n"
     ]
    },
    {
     "data": {
      "text/plain": [
       "'num_processed: 2136/20845'"
      ]
     },
     "metadata": {},
     "output_type": "display_data"
    },
    {
     "name": "stdout",
     "output_type": "stream",
     "text": [
      "d52c504b8f09f3bf12ac0989_3a656bc3363c770a716dc574_c5bd518021f9d3c8aa7fb296\n"
     ]
    },
    {
     "data": {
      "text/plain": [
       "'num_processed: 2137/20845'"
      ]
     },
     "metadata": {},
     "output_type": "display_data"
    },
    {
     "name": "stdout",
     "output_type": "stream",
     "text": [
      "3469e8eac4e5612e0b3183fd_5caed8e4b1ed47ac44438959_d4115267c1558c1318200b00\n"
     ]
    },
    {
     "data": {
      "text/plain": [
       "'num_processed: 2138/20845'"
      ]
     },
     "metadata": {},
     "output_type": "display_data"
    },
    {
     "name": "stdout",
     "output_type": "stream",
     "text": [
      "fa0abf3f179124643c2982b6_4c532470a5dedbbaa32d9a91_e4df469c25f08085746eafc5\n"
     ]
    },
    {
     "data": {
      "text/plain": [
       "'num_processed: 2139/20845'"
      ]
     },
     "metadata": {},
     "output_type": "display_data"
    },
    {
     "name": "stdout",
     "output_type": "stream",
     "text": [
      "70c06deb2df683632890d686_99cacb0def979d8581013db0_69b72115049249186093a389\n"
     ]
    },
    {
     "data": {
      "text/plain": [
       "'num_processed: 2140/20845'"
      ]
     },
     "metadata": {},
     "output_type": "display_data"
    },
    {
     "name": "stdout",
     "output_type": "stream",
     "text": [
      "57b9ee49e4b02e3d7605667f_227c3c5234f712d7cd517329_e2043a753ec8202c0b04bdfa\n"
     ]
    },
    {
     "data": {
      "text/plain": [
       "'num_processed: 2141/20845'"
      ]
     },
     "metadata": {},
     "output_type": "display_data"
    },
    {
     "name": "stdout",
     "output_type": "stream",
     "text": [
      "d696d999c755bbc95bc01ef2_8b35090fb4152d151d06863d_549ec9922b99da1420713963\n"
     ]
    },
    {
     "data": {
      "text/plain": [
       "'num_processed: 2142/20845'"
      ]
     },
     "metadata": {},
     "output_type": "display_data"
    },
    {
     "name": "stdout",
     "output_type": "stream",
     "text": [
      "5906a65aeab87910e6a1549a_c0563caa0d81d83b5cd785da_c123a1c434ff3c482fc6551a\n"
     ]
    },
    {
     "data": {
      "text/plain": [
       "'num_processed: 2143/20845'"
      ]
     },
     "metadata": {},
     "output_type": "display_data"
    },
    {
     "name": "stdout",
     "output_type": "stream",
     "text": [
      "c238fae8d00d9dffdebfac8e_71ade5aea57457d89c544346_4bf247753984eff39e2dc06e\n"
     ]
    },
    {
     "data": {
      "text/plain": [
       "'num_processed: 2144/20845'"
      ]
     },
     "metadata": {},
     "output_type": "display_data"
    },
    {
     "name": "stdout",
     "output_type": "stream",
     "text": [
      "632e786803501e479ba61957_ad84fbabef08c44d8eca4f0b_ad40a5993cb694a008794e1b\n"
     ]
    },
    {
     "data": {
      "text/plain": [
       "'num_processed: 2145/20845'"
      ]
     },
     "metadata": {},
     "output_type": "display_data"
    },
    {
     "name": "stdout",
     "output_type": "stream",
     "text": [
      "69afa735dd55ac917ca96bcd_ba703ef9d63262faa4dfbe94_8efafb3137529ddb211a4b7d\n"
     ]
    },
    {
     "data": {
      "text/plain": [
       "'num_processed: 2146/20845'"
      ]
     },
     "metadata": {},
     "output_type": "display_data"
    },
    {
     "name": "stdout",
     "output_type": "stream",
     "text": [
      "919437c8b59ded4c034bd105_9a839db0a856196f440b33e4_4d1120738803d3805d6157d3\n"
     ]
    },
    {
     "data": {
      "text/plain": [
       "'num_processed: 2147/20845'"
      ]
     },
     "metadata": {},
     "output_type": "display_data"
    },
    {
     "name": "stdout",
     "output_type": "stream",
     "text": [
      "88730ca76ea72f52c9c1c1e7_312221c23bde7e42b5b29758_94c173558911aaf9ca771ffe\n"
     ]
    },
    {
     "data": {
      "text/plain": [
       "'num_processed: 2148/20845'"
      ]
     },
     "metadata": {},
     "output_type": "display_data"
    },
    {
     "name": "stdout",
     "output_type": "stream",
     "text": [
      "8fafc822852d3e1b826391f2_85894ec9aa4dd31dddad198e_8d778698b959a6b3df0c3b43\n"
     ]
    },
    {
     "data": {
      "text/plain": [
       "'num_processed: 2149/20845'"
      ]
     },
     "metadata": {},
     "output_type": "display_data"
    },
    {
     "name": "stdout",
     "output_type": "stream",
     "text": [
      "c79923878ef6e623adce5c4c_c666343dcb68047bfc0fbaf5_79a468c2979ae9fbb6e69f1d\n"
     ]
    },
    {
     "data": {
      "text/plain": [
       "'num_processed: 2150/20845'"
      ]
     },
     "metadata": {},
     "output_type": "display_data"
    },
    {
     "name": "stdout",
     "output_type": "stream",
     "text": [
      "54caf99e66dfcf4ecd9edd31_2ed0062ee5f33637218f1590_a854c1ffea399bcd10072599\n"
     ]
    },
    {
     "data": {
      "text/plain": [
       "'num_processed: 2151/20845'"
      ]
     },
     "metadata": {},
     "output_type": "display_data"
    },
    {
     "name": "stdout",
     "output_type": "stream",
     "text": [
      "c4a346aaf9932487f16d35a0_0ff89fc87a5830db6004f1e9_c8fd5607fdc3fd846e4f245f\n"
     ]
    },
    {
     "data": {
      "text/plain": [
       "'num_processed: 2152/20845'"
      ]
     },
     "metadata": {},
     "output_type": "display_data"
    },
    {
     "name": "stdout",
     "output_type": "stream",
     "text": [
      "f9cacca9cac3119d62198a95_63f06ba566cf0e08f3f7d629_de69fef0986b7548e7dc7599\n"
     ]
    },
    {
     "data": {
      "text/plain": [
       "'num_processed: 2153/20845'"
      ]
     },
     "metadata": {},
     "output_type": "display_data"
    },
    {
     "name": "stdout",
     "output_type": "stream",
     "text": [
      "330c5785b9cdfc3b348c3c22_edfa3c6a8c0886a694a95513_01bf2fd1b48b0b14286f934c\n"
     ]
    },
    {
     "data": {
      "text/plain": [
       "'num_processed: 2154/20845'"
      ]
     },
     "metadata": {},
     "output_type": "display_data"
    },
    {
     "name": "stdout",
     "output_type": "stream",
     "text": [
      "fdde88b08923cbd04f20b921_d9c53be83a6aaee7f8fcf06d_2c0b5c660dded7dea8d0775e\n"
     ]
    },
    {
     "data": {
      "text/plain": [
       "'num_processed: 2155/20845'"
      ]
     },
     "metadata": {},
     "output_type": "display_data"
    },
    {
     "name": "stdout",
     "output_type": "stream",
     "text": [
      "c34e72b173ca8d11008d8bef_2b58eaa02c03a8978734c0f9_5751f39543ded2ca3e0ebcec\n"
     ]
    },
    {
     "data": {
      "text/plain": [
       "'num_processed: 2156/20845'"
      ]
     },
     "metadata": {},
     "output_type": "display_data"
    },
    {
     "name": "stdout",
     "output_type": "stream",
     "text": [
      "5887aed908dba310635533e3_580a9b07ce285c6848ce42ae_081dcda82f628fbda54c6e3b\n"
     ]
    },
    {
     "data": {
      "text/plain": [
       "'num_processed: 2157/20845'"
      ]
     },
     "metadata": {},
     "output_type": "display_data"
    },
    {
     "name": "stdout",
     "output_type": "stream",
     "text": [
      "230136e86799523f5bc7034d_2b0f3038dd5447da89cad9c8_dca886aa188e29a111a5b627\n"
     ]
    },
    {
     "data": {
      "text/plain": [
       "'num_processed: 2158/20845'"
      ]
     },
     "metadata": {},
     "output_type": "display_data"
    },
    {
     "name": "stdout",
     "output_type": "stream",
     "text": [
      "366bf3d81a4fb67f7b187de3_c1fb6b1d6e0b01333f2ae9dd_b9f0ed1008289d9ec0c5cf9a\n"
     ]
    },
    {
     "data": {
      "text/plain": [
       "'num_processed: 2159/20845'"
      ]
     },
     "metadata": {},
     "output_type": "display_data"
    },
    {
     "name": "stdout",
     "output_type": "stream",
     "text": [
      "9fd79e4f9d5b4dc10f786359_c9b1e8ec5bc07c624b7af880_eac50412308ea96f8c744ea8\n"
     ]
    },
    {
     "data": {
      "text/plain": [
       "'num_processed: 2160/20845'"
      ]
     },
     "metadata": {},
     "output_type": "display_data"
    },
    {
     "name": "stdout",
     "output_type": "stream",
     "text": [
      "0be2fe5f3b52a8b4c9abe68c_7bb5250d0bd89aa1f568cb27_ca7613f7abc019cad86fd2ab\n"
     ]
    },
    {
     "data": {
      "text/plain": [
       "'num_processed: 2161/20845'"
      ]
     },
     "metadata": {},
     "output_type": "display_data"
    },
    {
     "name": "stdout",
     "output_type": "stream",
     "text": [
      "4a9e13a64ef165e24f52c931_2f91adb58a19d1b07f78375a_e97a02da079f2306ea354c12\n"
     ]
    },
    {
     "data": {
      "text/plain": [
       "'num_processed: 2162/20845'"
      ]
     },
     "metadata": {},
     "output_type": "display_data"
    },
    {
     "name": "stdout",
     "output_type": "stream",
     "text": [
      "66f0dcca2ec4bb5c81094547_60fc18bb4b211cce3610323c_64fa691ff755c481193344c7\n"
     ]
    },
    {
     "data": {
      "text/plain": [
       "'num_processed: 2163/20845'"
      ]
     },
     "metadata": {},
     "output_type": "display_data"
    },
    {
     "name": "stdout",
     "output_type": "stream",
     "text": [
      "99feccaac36169e27c78ca6d_61cc0ba6e5577c51958d5458_edb7ecb304fbcdf04c81b9bf\n"
     ]
    },
    {
     "data": {
      "text/plain": [
       "'num_processed: 2164/20845'"
      ]
     },
     "metadata": {},
     "output_type": "display_data"
    },
    {
     "name": "stdout",
     "output_type": "stream",
     "text": [
      "c6dd00c483d6dd239d6124ec_8012ab5ed35303589fa1cc10_fd909d45cb4d0db68209684c\n"
     ]
    },
    {
     "data": {
      "text/plain": [
       "'num_processed: 2165/20845'"
      ]
     },
     "metadata": {},
     "output_type": "display_data"
    },
    {
     "name": "stdout",
     "output_type": "stream",
     "text": [
      "c4e264dc9da239c09e0156be_1b549786df0b8bd9ff15beb4_87eec257bd437f3ba6f50b4a\n"
     ]
    },
    {
     "data": {
      "text/plain": [
       "'num_processed: 2166/20845'"
      ]
     },
     "metadata": {},
     "output_type": "display_data"
    },
    {
     "name": "stdout",
     "output_type": "stream",
     "text": [
      "668887a0caabe74e6d794897_3dfd9f2a9cf1fd91034641b8_16f86419c9bc01630d433bb8\n"
     ]
    },
    {
     "data": {
      "text/plain": [
       "'num_processed: 2167/20845'"
      ]
     },
     "metadata": {},
     "output_type": "display_data"
    },
    {
     "name": "stdout",
     "output_type": "stream",
     "text": [
      "58763e5fa6ca5c178c7a3c5a_0b782f72c618a3fe9f0ab275_b3a433d058a6071ee703bc23\n"
     ]
    },
    {
     "data": {
      "text/plain": [
       "'num_processed: 2168/20845'"
      ]
     },
     "metadata": {},
     "output_type": "display_data"
    },
    {
     "name": "stdout",
     "output_type": "stream",
     "text": [
      "f5298c01ca049f4ceb29a72c_edc7d0bcb208b92e86d2b358_2110b66e19574a11d0510227\n"
     ]
    },
    {
     "data": {
      "text/plain": [
       "'num_processed: 2169/20845'"
      ]
     },
     "metadata": {},
     "output_type": "display_data"
    },
    {
     "name": "stdout",
     "output_type": "stream",
     "text": [
      "57db90ccb91e37839dbabbb2_d90a10da075054b010f9b261_3448d809eccbe8cd539dfa27\n"
     ]
    },
    {
     "data": {
      "text/plain": [
       "'num_processed: 2170/20845'"
      ]
     },
     "metadata": {},
     "output_type": "display_data"
    },
    {
     "name": "stdout",
     "output_type": "stream",
     "text": [
      "68ac78e7846ae33990096629_8dc4972446054efd3fbbb17d_70f7bacbf985b7b3fd7470ca\n"
     ]
    },
    {
     "data": {
      "text/plain": [
       "'num_processed: 2171/20845'"
      ]
     },
     "metadata": {},
     "output_type": "display_data"
    },
    {
     "name": "stdout",
     "output_type": "stream",
     "text": [
      "441cabcfd935dc1927ad7fe5_5e484dc16e65fa1da7259e7c_8a249e9ec1c119b84cfe01ed\n"
     ]
    },
    {
     "data": {
      "text/plain": [
       "'num_processed: 2172/20845'"
      ]
     },
     "metadata": {},
     "output_type": "display_data"
    },
    {
     "name": "stdout",
     "output_type": "stream",
     "text": [
      "ec4a1c9a1e22579f790d8b83_f7e788498745c0ff9e06a7b3_d713d0bea350cf5be26f163c\n"
     ]
    },
    {
     "data": {
      "text/plain": [
       "'num_processed: 2173/20845'"
      ]
     },
     "metadata": {},
     "output_type": "display_data"
    },
    {
     "name": "stdout",
     "output_type": "stream",
     "text": [
      "64bf3ee918ecccd63be88758_072a419af3f9e73283a82850_8a57a48c19ad2ca745500939\n"
     ]
    },
    {
     "data": {
      "text/plain": [
       "'num_processed: 2174/20845'"
      ]
     },
     "metadata": {},
     "output_type": "display_data"
    },
    {
     "name": "stdout",
     "output_type": "stream",
     "text": [
      "e86537bb09c5321f17051b4b_5ad48869683eb3c769c874fd_52d8a148e50734c1fa59f446\n"
     ]
    },
    {
     "data": {
      "text/plain": [
       "'num_processed: 2175/20845'"
      ]
     },
     "metadata": {},
     "output_type": "display_data"
    },
    {
     "name": "stdout",
     "output_type": "stream",
     "text": [
      "47dd6159f343707ebab0637d_3af2bc7c64202f454b9e5ff5_96e717eb9c956a6617dadc1b\n"
     ]
    },
    {
     "data": {
      "text/plain": [
       "'num_processed: 2176/20845'"
      ]
     },
     "metadata": {},
     "output_type": "display_data"
    },
    {
     "name": "stdout",
     "output_type": "stream",
     "text": [
      "fcca79251430f57451c293cd_5e16464a66848ee4e22d6493_081517c9aa244eec7fdb9564\n"
     ]
    },
    {
     "data": {
      "text/plain": [
       "'num_processed: 2177/20845'"
      ]
     },
     "metadata": {},
     "output_type": "display_data"
    },
    {
     "name": "stdout",
     "output_type": "stream",
     "text": [
      "5ca45c1a7c2f1682cb5ac7a0_65aec837cebdd82b8c35a521_08781e4ac97c1f60393b3a4c\n"
     ]
    },
    {
     "data": {
      "text/plain": [
       "'num_processed: 2178/20845'"
      ]
     },
     "metadata": {},
     "output_type": "display_data"
    },
    {
     "name": "stdout",
     "output_type": "stream",
     "text": [
      "c38a0a8c67e76e9f812de056_39ca0929b296960637f625b9_90cb05cf79e6487f67a76a22\n"
     ]
    },
    {
     "data": {
      "text/plain": [
       "'num_processed: 2179/20845'"
      ]
     },
     "metadata": {},
     "output_type": "display_data"
    },
    {
     "name": "stdout",
     "output_type": "stream",
     "text": [
      "35137475add8ffd10d5858c7_95ea83d0f2cc8c9b2b301bf6_ace43fd52e6c62e984e016f3\n"
     ]
    },
    {
     "data": {
      "text/plain": [
       "'num_processed: 2180/20845'"
      ]
     },
     "metadata": {},
     "output_type": "display_data"
    },
    {
     "name": "stdout",
     "output_type": "stream",
     "text": [
      "f83f3ef9c8713bc8065e5a37_23fb17a894e9c784a7d06379_ad9c4e49431a85a91dc1ff81\n"
     ]
    },
    {
     "data": {
      "text/plain": [
       "'num_processed: 2181/20845'"
      ]
     },
     "metadata": {},
     "output_type": "display_data"
    },
    {
     "name": "stdout",
     "output_type": "stream",
     "text": [
      "94f00dfa3b31561076e842f8_7355a3439886bd2cb281096e_c16b593eedf9da93b9a1555e\n"
     ]
    },
    {
     "data": {
      "text/plain": [
       "'num_processed: 2182/20845'"
      ]
     },
     "metadata": {},
     "output_type": "display_data"
    },
    {
     "name": "stdout",
     "output_type": "stream",
     "text": [
      "8ede3f3979c3f46f3cc836cb_f6b0386f51284225c256aa22_4e8cf5c80dfcddb123847a97\n"
     ]
    },
    {
     "data": {
      "text/plain": [
       "'num_processed: 2183/20845'"
      ]
     },
     "metadata": {},
     "output_type": "display_data"
    },
    {
     "name": "stdout",
     "output_type": "stream",
     "text": [
      "22e013e2d5415f2f1ea0bdba_777fcab60c8c815caa57c050_64c2313757d6d10066e5f1f4\n"
     ]
    },
    {
     "data": {
      "text/plain": [
       "'num_processed: 2184/20845'"
      ]
     },
     "metadata": {},
     "output_type": "display_data"
    },
    {
     "name": "stdout",
     "output_type": "stream",
     "text": [
      "b3ac78a7762b2aba7cc45929_1cf720a1193437cfe9a8829a_1205488387dad5912c4393f8\n"
     ]
    },
    {
     "data": {
      "text/plain": [
       "'num_processed: 2185/20845'"
      ]
     },
     "metadata": {},
     "output_type": "display_data"
    },
    {
     "name": "stdout",
     "output_type": "stream",
     "text": [
      "98552275d3498799ed31e317_65ce5dcda2c1c4276431a479_9bbafd689e8949594d0ba6ba\n"
     ]
    },
    {
     "data": {
      "text/plain": [
       "'num_processed: 2186/20845'"
      ]
     },
     "metadata": {},
     "output_type": "display_data"
    },
    {
     "name": "stdout",
     "output_type": "stream",
     "text": [
      "751ea8cb2062e45b711fcd29_20a37ae96c41beb185736081_834b0f200de601ae76b09c1b\n",
      "ERROR TRASFORMING!\n"
     ]
    },
    {
     "data": {
      "text/plain": [
       "'num_processed: 2187/20845'"
      ]
     },
     "metadata": {},
     "output_type": "display_data"
    },
    {
     "name": "stdout",
     "output_type": "stream",
     "text": [
      "12bcec632ceafc533a071526_a75235c36c9915a4658def69_55f4b97d7016bb7499915130\n"
     ]
    },
    {
     "data": {
      "text/plain": [
       "'num_processed: 2188/20845'"
      ]
     },
     "metadata": {},
     "output_type": "display_data"
    },
    {
     "name": "stdout",
     "output_type": "stream",
     "text": [
      "71001637823b120c3f547ed8_b97865dd93ad8f005a0987d7_2b4a0acb10bcc29f6596daa9\n"
     ]
    },
    {
     "data": {
      "text/plain": [
       "'num_processed: 2189/20845'"
      ]
     },
     "metadata": {},
     "output_type": "display_data"
    },
    {
     "name": "stdout",
     "output_type": "stream",
     "text": [
      "fbfba1f69666ebc97fca7630_bd47c48b733e611207293790_6f54b2e805f103d488cfddbd\n"
     ]
    },
    {
     "data": {
      "text/plain": [
       "'num_processed: 2190/20845'"
      ]
     },
     "metadata": {},
     "output_type": "display_data"
    },
    {
     "name": "stdout",
     "output_type": "stream",
     "text": [
      "01173a79359ec41fcd4987f2_2bedacb8909e14a43e4e613e_7cd125a047faf737ab9de7c2\n"
     ]
    },
    {
     "data": {
      "text/plain": [
       "'num_processed: 2191/20845'"
      ]
     },
     "metadata": {},
     "output_type": "display_data"
    },
    {
     "name": "stdout",
     "output_type": "stream",
     "text": [
      "aa829c9d778084e915e16ad1_c52c1a49a7ff98f28d9d326d_102f84c7cf531028627f1c40\n"
     ]
    },
    {
     "data": {
      "text/plain": [
       "'num_processed: 2192/20845'"
      ]
     },
     "metadata": {},
     "output_type": "display_data"
    },
    {
     "name": "stdout",
     "output_type": "stream",
     "text": [
      "981dc20683d87fcab7f7d7ae_ff31b07bbc9087b10d2c6a24_dbb5fe20e700546488bc7dbe\n"
     ]
    },
    {
     "data": {
      "text/plain": [
       "'num_processed: 2193/20845'"
      ]
     },
     "metadata": {},
     "output_type": "display_data"
    },
    {
     "name": "stdout",
     "output_type": "stream",
     "text": [
      "bb5bbff1fff47714c196d962_df5614c080411e4e528e3c50_6973d70ef8fb9b2d82fda432\n"
     ]
    },
    {
     "data": {
      "text/plain": [
       "'num_processed: 2194/20845'"
      ]
     },
     "metadata": {},
     "output_type": "display_data"
    },
    {
     "name": "stdout",
     "output_type": "stream",
     "text": [
      "e5387d27700413404e27f37b_0cf57a77fae99c7620a1c795_1f1673604be177ea1ba38f77\n"
     ]
    },
    {
     "data": {
      "text/plain": [
       "'num_processed: 2195/20845'"
      ]
     },
     "metadata": {},
     "output_type": "display_data"
    },
    {
     "name": "stdout",
     "output_type": "stream",
     "text": [
      "3e94ae1ea92064ecd4456e5a_4a3f6a4db4a1b4743445ee96_08bfd9ed92f2173d60891907\n"
     ]
    },
    {
     "data": {
      "text/plain": [
       "'num_processed: 2196/20845'"
      ]
     },
     "metadata": {},
     "output_type": "display_data"
    },
    {
     "name": "stdout",
     "output_type": "stream",
     "text": [
      "776df3b3555b0cd37ffeac66_42533f5bbc38f0d755c47568_40ec68ddd267071e02827fa2\n"
     ]
    },
    {
     "data": {
      "text/plain": [
       "'num_processed: 2197/20845'"
      ]
     },
     "metadata": {},
     "output_type": "display_data"
    },
    {
     "name": "stdout",
     "output_type": "stream",
     "text": [
      "cced93b74a540898b08abcad_bc485100ea6d096096630964_d1667dd217deb69ffbd92675\n"
     ]
    },
    {
     "data": {
      "text/plain": [
       "'num_processed: 2198/20845'"
      ]
     },
     "metadata": {},
     "output_type": "display_data"
    },
    {
     "name": "stdout",
     "output_type": "stream",
     "text": [
      "d373a275140f83ce140c98fd_8089b67a681884a98fa4876a_ba2176c2c2bb3e415c5a1dce\n"
     ]
    },
    {
     "data": {
      "text/plain": [
       "'num_processed: 2199/20845'"
      ]
     },
     "metadata": {},
     "output_type": "display_data"
    },
    {
     "name": "stdout",
     "output_type": "stream",
     "text": [
      "2ed39a9eca3f4c3f031c7c48_8176f2a7fd406938df4b07cd_0e05fd9b032569e0d262e975\n"
     ]
    },
    {
     "data": {
      "text/plain": [
       "'num_processed: 2200/20845'"
      ]
     },
     "metadata": {},
     "output_type": "display_data"
    },
    {
     "name": "stdout",
     "output_type": "stream",
     "text": [
      "58ec221ce8858e0f72bd3942_9d5402142fb5878ff902f210_9dd649ad29a7717b4e779cb1\n"
     ]
    },
    {
     "data": {
      "text/plain": [
       "'num_processed: 2201/20845'"
      ]
     },
     "metadata": {},
     "output_type": "display_data"
    },
    {
     "name": "stdout",
     "output_type": "stream",
     "text": [
      "cf0c24c3a463d8d6af65b18c_4869af72bd54ca807c8b5c9e_3e7c946b57175c90e2c9e413\n"
     ]
    },
    {
     "data": {
      "text/plain": [
       "'num_processed: 2202/20845'"
      ]
     },
     "metadata": {},
     "output_type": "display_data"
    },
    {
     "name": "stdout",
     "output_type": "stream",
     "text": [
      "4f6f4614642245ecbf2d3b4b_645d24a92afc286ef59b6246_090f5ce38308227f42ba2262\n"
     ]
    },
    {
     "data": {
      "text/plain": [
       "'num_processed: 2203/20845'"
      ]
     },
     "metadata": {},
     "output_type": "display_data"
    },
    {
     "name": "stdout",
     "output_type": "stream",
     "text": [
      "571fa808e4b0d859f67b8c54_2d0ced364704f3590bd6fc02_88afdea477e8a2a4625503b5\n"
     ]
    },
    {
     "data": {
      "text/plain": [
       "'num_processed: 2204/20845'"
      ]
     },
     "metadata": {},
     "output_type": "display_data"
    },
    {
     "name": "stdout",
     "output_type": "stream",
     "text": [
      "d6fb063c9018907b2dd7f768_fb89c927177989e178afb36f_a1b8ecf082ae2e1ba52aab55\n"
     ]
    },
    {
     "data": {
      "text/plain": [
       "'num_processed: 2205/20845'"
      ]
     },
     "metadata": {},
     "output_type": "display_data"
    },
    {
     "name": "stdout",
     "output_type": "stream",
     "text": [
      "b9e0b26272a9c30ad279597a_2e792c3402e3cd89ba2152e8_5a7b28b89fb8a3dc9ad67911\n"
     ]
    },
    {
     "data": {
      "text/plain": [
       "'num_processed: 2206/20845'"
      ]
     },
     "metadata": {},
     "output_type": "display_data"
    },
    {
     "name": "stdout",
     "output_type": "stream",
     "text": [
      "1f679cf1f704e81012101f97_c864e0dab20f098149a3bb6a_af96c26ef981c19b7fde6113\n"
     ]
    },
    {
     "data": {
      "text/plain": [
       "'num_processed: 2207/20845'"
      ]
     },
     "metadata": {},
     "output_type": "display_data"
    },
    {
     "name": "stdout",
     "output_type": "stream",
     "text": [
      "e7d3dc78c8d88bef9acc30d8_053d7615be03c4725a8cbab7_5a44116685908185f605a326\n"
     ]
    },
    {
     "data": {
      "text/plain": [
       "'num_processed: 2208/20845'"
      ]
     },
     "metadata": {},
     "output_type": "display_data"
    },
    {
     "name": "stdout",
     "output_type": "stream",
     "text": [
      "fb2c95061055e619e54a4513_980e7239c5d25003b098b8ce_531e7b9d441bc9db2cd745c3\n"
     ]
    },
    {
     "data": {
      "text/plain": [
       "'num_processed: 2209/20845'"
      ]
     },
     "metadata": {},
     "output_type": "display_data"
    },
    {
     "name": "stdout",
     "output_type": "stream",
     "text": [
      "58596ca09adb04dd56c19299_7ef4bfe5359f3462e70de16d_255a1a2f3089c7ef73c73be3\n"
     ]
    },
    {
     "data": {
      "text/plain": [
       "'num_processed: 2210/20845'"
      ]
     },
     "metadata": {},
     "output_type": "display_data"
    },
    {
     "name": "stdout",
     "output_type": "stream",
     "text": [
      "d18767e66cd77d05256905ed_5ec813166a61f6d7f946a94a_800775bed70b8bc350e613a8\n"
     ]
    },
    {
     "data": {
      "text/plain": [
       "'num_processed: 2211/20845'"
      ]
     },
     "metadata": {},
     "output_type": "display_data"
    },
    {
     "name": "stdout",
     "output_type": "stream",
     "text": [
      "991b3ad269ea234b502cc676_6e1e717695c0a20be4ffe93e_7971b6046614a4a6c1c79631\n"
     ]
    },
    {
     "data": {
      "text/plain": [
       "'num_processed: 2212/20845'"
      ]
     },
     "metadata": {},
     "output_type": "display_data"
    },
    {
     "name": "stdout",
     "output_type": "stream",
     "text": [
      "8e9dc00014328fafafda4c14_f7eb85f698771e95525df940_1818429884c105d32ce00dc9\n"
     ]
    },
    {
     "data": {
      "text/plain": [
       "'num_processed: 2213/20845'"
      ]
     },
     "metadata": {},
     "output_type": "display_data"
    },
    {
     "name": "stdout",
     "output_type": "stream",
     "text": [
      "5b899e45ff8965c967c3db75_d4cdd22a78156c878ee97fe2_7bcaa9e42a2784c2085e25ab\n"
     ]
    },
    {
     "data": {
      "text/plain": [
       "'num_processed: 2214/20845'"
      ]
     },
     "metadata": {},
     "output_type": "display_data"
    },
    {
     "name": "stdout",
     "output_type": "stream",
     "text": [
      "57df3f822184311155ee421a_a98232bfac95d8c6bc8ad1bd_1dcd76d22993f697e386d5ba\n"
     ]
    },
    {
     "data": {
      "text/plain": [
       "'num_processed: 2215/20845'"
      ]
     },
     "metadata": {},
     "output_type": "display_data"
    },
    {
     "name": "stdout",
     "output_type": "stream",
     "text": [
      "7b6ca27deb7986d99679dc36_b4608f0806e75aa927afd16c_10ac0ae2e932afae1edda037\n"
     ]
    },
    {
     "data": {
      "text/plain": [
       "'num_processed: 2216/20845'"
      ]
     },
     "metadata": {},
     "output_type": "display_data"
    },
    {
     "name": "stdout",
     "output_type": "stream",
     "text": [
      "cb647c57ccdffc7a442d9186_653cf8f3cbbea417103074c3_0ee84b3c9ccfc061a20c3553\n"
     ]
    },
    {
     "data": {
      "text/plain": [
       "'num_processed: 2217/20845'"
      ]
     },
     "metadata": {},
     "output_type": "display_data"
    },
    {
     "name": "stdout",
     "output_type": "stream",
     "text": [
      "c9cd323edd9c96dd31183abd_af2048de4e3fd6182bd35d91_cef2f90449472acbf1921a09\n"
     ]
    },
    {
     "data": {
      "text/plain": [
       "'num_processed: 2218/20845'"
      ]
     },
     "metadata": {},
     "output_type": "display_data"
    },
    {
     "name": "stdout",
     "output_type": "stream",
     "text": [
      "58bcf089afe56e0fcdd88c42_af8d229183e45f1638b4fe90_94fff854846801847848f14d\n"
     ]
    },
    {
     "data": {
      "text/plain": [
       "'num_processed: 2219/20845'"
      ]
     },
     "metadata": {},
     "output_type": "display_data"
    },
    {
     "name": "stdout",
     "output_type": "stream",
     "text": [
      "b15ea705c3bf5a75f6cdcaf2_c1abb3cde41f309e7c3ae728_1316bae3c1f1a234be99080a\n"
     ]
    },
    {
     "data": {
      "text/plain": [
       "'num_processed: 2220/20845'"
      ]
     },
     "metadata": {},
     "output_type": "display_data"
    },
    {
     "name": "stdout",
     "output_type": "stream",
     "text": [
      "452aa7f2f41fae44ff6612a4_d9da0de0b378427237da5c43_270b119a364074d19dad85e2\n"
     ]
    },
    {
     "data": {
      "text/plain": [
       "'num_processed: 2221/20845'"
      ]
     },
     "metadata": {},
     "output_type": "display_data"
    },
    {
     "name": "stdout",
     "output_type": "stream",
     "text": [
      "e51f1263d80c08045b16be86_b57314b4b8052e007e45535f_3659290e3e308fc1b7391708\n"
     ]
    },
    {
     "data": {
      "text/plain": [
       "'num_processed: 2222/20845'"
      ]
     },
     "metadata": {},
     "output_type": "display_data"
    },
    {
     "name": "stdout",
     "output_type": "stream",
     "text": [
      "a30a63a66a19245f3522f909_ad20f4426495fce5cff0c083_692f9cfc9bd9e96233037a9a\n"
     ]
    },
    {
     "data": {
      "text/plain": [
       "'num_processed: 2223/20845'"
      ]
     },
     "metadata": {},
     "output_type": "display_data"
    },
    {
     "name": "stdout",
     "output_type": "stream",
     "text": [
      "c910efc11996c0e6fd07166c_4108672ec575a44131755bf0_b1843171c652c5e24a3f0199\n"
     ]
    },
    {
     "data": {
      "text/plain": [
       "'num_processed: 2224/20845'"
      ]
     },
     "metadata": {},
     "output_type": "display_data"
    },
    {
     "name": "stdout",
     "output_type": "stream",
     "text": [
      "9fa5722e06e74054bc89123f_4717aafca046688deb24a97f_cc43f028868445764d4bbaca\n",
      "ERROR TRASFORMING!\n"
     ]
    },
    {
     "data": {
      "text/plain": [
       "'num_processed: 2225/20845'"
      ]
     },
     "metadata": {},
     "output_type": "display_data"
    },
    {
     "name": "stdout",
     "output_type": "stream",
     "text": [
      "5457d4291cd495655cb41171_5ffbb60e8c1c241dad6a11c4_80f42c881be45e98ab93ac83\n"
     ]
    },
    {
     "data": {
      "text/plain": [
       "'num_processed: 2226/20845'"
      ]
     },
     "metadata": {},
     "output_type": "display_data"
    },
    {
     "name": "stdout",
     "output_type": "stream",
     "text": [
      "bf93f3d863b5e7e26fe16e9c_413292bbe41701de2e830743_20b2afb5a4e4a8c9ce9a1847\n"
     ]
    },
    {
     "data": {
      "text/plain": [
       "'num_processed: 2227/20845'"
      ]
     },
     "metadata": {},
     "output_type": "display_data"
    },
    {
     "name": "stdout",
     "output_type": "stream",
     "text": [
      "3078be113b8ac2d92cebd88d_ca968355275f0b67fc6de511_6ed84cb3c6e50cd2c9090cab\n"
     ]
    },
    {
     "data": {
      "text/plain": [
       "'num_processed: 2228/20845'"
      ]
     },
     "metadata": {},
     "output_type": "display_data"
    },
    {
     "name": "stdout",
     "output_type": "stream",
     "text": [
      "25451fe1dd6d88ef8e49abe8_203638d301a3b8b168e4a115_950c70b1c976d80093181b7d\n"
     ]
    },
    {
     "data": {
      "text/plain": [
       "'num_processed: 2229/20845'"
      ]
     },
     "metadata": {},
     "output_type": "display_data"
    },
    {
     "name": "stdout",
     "output_type": "stream",
     "text": [
      "7abc02bdf52eb1f8c77f8c21_d81674dab047c156c681357d_1930e4183e3417a7008ab15c\n"
     ]
    },
    {
     "data": {
      "text/plain": [
       "'num_processed: 2230/20845'"
      ]
     },
     "metadata": {},
     "output_type": "display_data"
    },
    {
     "name": "stdout",
     "output_type": "stream",
     "text": [
      "f19705b903b790f80d86f960_2fa9dbfaf10d21d0fe053cab_2791fc5179013fafb35b18ea\n"
     ]
    },
    {
     "data": {
      "text/plain": [
       "'num_processed: 2231/20845'"
      ]
     },
     "metadata": {},
     "output_type": "display_data"
    },
    {
     "name": "stdout",
     "output_type": "stream",
     "text": [
      "58a491dc3522310f74b2b110_14707f958bf657486198e270_b58dc99702d9540d52c893c9\n"
     ]
    },
    {
     "data": {
      "text/plain": [
       "'num_processed: 2232/20845'"
      ]
     },
     "metadata": {},
     "output_type": "display_data"
    },
    {
     "name": "stdout",
     "output_type": "stream",
     "text": [
      "58f63c6f6472a70f90d3c3b4_47118b5d4f941967c7c72c6c_a1674e0b80017501d24596b9\n"
     ]
    },
    {
     "data": {
      "text/plain": [
       "'num_processed: 2233/20845'"
      ]
     },
     "metadata": {},
     "output_type": "display_data"
    },
    {
     "name": "stdout",
     "output_type": "stream",
     "text": [
      "acc223eb6694218a997c59f5_91f3bdc142eb6abb56f6d10b_994d705cc052e7ca9c78f736\n"
     ]
    },
    {
     "data": {
      "text/plain": [
       "'num_processed: 2234/20845'"
      ]
     },
     "metadata": {},
     "output_type": "display_data"
    },
    {
     "name": "stdout",
     "output_type": "stream",
     "text": [
      "36f7048341179c18855492c8_b0f3b41a369d557c0fc7185d_043ac2cdd8164b8539cf1d0e\n"
     ]
    },
    {
     "data": {
      "text/plain": [
       "'num_processed: 2235/20845'"
      ]
     },
     "metadata": {},
     "output_type": "display_data"
    },
    {
     "name": "stdout",
     "output_type": "stream",
     "text": [
      "46d4a4cd60d7520c04f6b2d1_135a4ac45eb5d3824560d38a_be24ba62d77aefa521a1902d\n"
     ]
    },
    {
     "data": {
      "text/plain": [
       "'num_processed: 2236/20845'"
      ]
     },
     "metadata": {},
     "output_type": "display_data"
    },
    {
     "name": "stdout",
     "output_type": "stream",
     "text": [
      "74982abbb3f9c7fa24de0e24_def7ac720a0e7853d634aa8e_b5b908ddc63573dfcdb8dc67\n"
     ]
    },
    {
     "data": {
      "text/plain": [
       "'num_processed: 2237/20845'"
      ]
     },
     "metadata": {},
     "output_type": "display_data"
    },
    {
     "name": "stdout",
     "output_type": "stream",
     "text": [
      "70bcfc288fb46263a08efeb9_6ea871cc2f7e65b88ac5a432_78f559eff17d5c07bd4f4266\n"
     ]
    },
    {
     "data": {
      "text/plain": [
       "'num_processed: 2238/20845'"
      ]
     },
     "metadata": {},
     "output_type": "display_data"
    },
    {
     "name": "stdout",
     "output_type": "stream",
     "text": [
      "a0d13cb9cf19b95682e6e991_df5e2e04964ac501a0fa14fa_f590d811c03e22bf9a675626\n"
     ]
    },
    {
     "data": {
      "text/plain": [
       "'num_processed: 2239/20845'"
      ]
     },
     "metadata": {},
     "output_type": "display_data"
    },
    {
     "name": "stdout",
     "output_type": "stream",
     "text": [
      "52a0c220d876b26ac2f0d71b_cb45508ea042a85518589c79_9d6ce51876cbc1e9be3d32aa\n"
     ]
    },
    {
     "data": {
      "text/plain": [
       "'num_processed: 2240/20845'"
      ]
     },
     "metadata": {},
     "output_type": "display_data"
    },
    {
     "name": "stdout",
     "output_type": "stream",
     "text": [
      "a2823ccd875239c2b809d812_543689afdcf4b07d7ea70836_4b67c3ba93a97de47a21d0ff\n"
     ]
    },
    {
     "data": {
      "text/plain": [
       "'num_processed: 2241/20845'"
      ]
     },
     "metadata": {},
     "output_type": "display_data"
    },
    {
     "name": "stdout",
     "output_type": "stream",
     "text": [
      "6175e37d76ba2c338267f9a8_ca62a2256a24395b79edadb3_b58243a6ae83184c83face08\n"
     ]
    },
    {
     "data": {
      "text/plain": [
       "'num_processed: 2242/20845'"
      ]
     },
     "metadata": {},
     "output_type": "display_data"
    },
    {
     "name": "stdout",
     "output_type": "stream",
     "text": [
      "c2fc8bae55c83d836226b002_949b24381be429bf3a94bc5e_475ec8a6092cb7afbe9edeaa\n"
     ]
    },
    {
     "data": {
      "text/plain": [
       "'num_processed: 2243/20845'"
      ]
     },
     "metadata": {},
     "output_type": "display_data"
    },
    {
     "name": "stdout",
     "output_type": "stream",
     "text": [
      "aba5f21a5b47c9e71b4d4f0f_2b8fe1a025f58260ded9e6e0_284abedae1fe846e5c291128\n"
     ]
    },
    {
     "data": {
      "text/plain": [
       "'num_processed: 2244/20845'"
      ]
     },
     "metadata": {},
     "output_type": "display_data"
    },
    {
     "name": "stdout",
     "output_type": "stream",
     "text": [
      "3df892f9ba922b20ece1bfa0_3624281f13e59d429e439153_447bdb24579af9cc26c2e2df\n"
     ]
    },
    {
     "data": {
      "text/plain": [
       "'num_processed: 2245/20845'"
      ]
     },
     "metadata": {},
     "output_type": "display_data"
    },
    {
     "name": "stdout",
     "output_type": "stream",
     "text": [
      "9aa67c4ac90e1666702f8d13_a3802b4510afcef2d47f37bf_58d1ec93b814777d480aa7b5\n"
     ]
    },
    {
     "data": {
      "text/plain": [
       "'num_processed: 2246/20845'"
      ]
     },
     "metadata": {},
     "output_type": "display_data"
    },
    {
     "name": "stdout",
     "output_type": "stream",
     "text": [
      "b710574db9c5fd6142a2d623_1ec20b795a9f168d66919535_634fd60f79a8a3ae5d5ad450\n"
     ]
    },
    {
     "data": {
      "text/plain": [
       "'num_processed: 2247/20845'"
      ]
     },
     "metadata": {},
     "output_type": "display_data"
    },
    {
     "name": "stdout",
     "output_type": "stream",
     "text": [
      "7e624bf11d8640d41dddbe01_cb099f984c3d62d125410f57_91e45bed296e686abc98d24a\n"
     ]
    },
    {
     "data": {
      "text/plain": [
       "'num_processed: 2248/20845'"
      ]
     },
     "metadata": {},
     "output_type": "display_data"
    },
    {
     "name": "stdout",
     "output_type": "stream",
     "text": [
      "56e26722e4b0724211d9a1d1_04165e789e1404fa7c723717_fc3ad28661f60d1aa7e3a378\n",
      "ERROR TRASFORMING!\n"
     ]
    },
    {
     "data": {
      "text/plain": [
       "'num_processed: 2249/20845'"
      ]
     },
     "metadata": {},
     "output_type": "display_data"
    },
    {
     "name": "stdout",
     "output_type": "stream",
     "text": [
      "9fc900d45743a1cd05f22e9c_50a2661a217ded1755a53b7d_0b4016f3bf00830e66e8fb96\n"
     ]
    },
    {
     "data": {
      "text/plain": [
       "'num_processed: 2250/20845'"
      ]
     },
     "metadata": {},
     "output_type": "display_data"
    },
    {
     "name": "stdout",
     "output_type": "stream",
     "text": [
      "fd57ea1b733a66442d1b904d_3969cd5e2a79dc93f2a46afe_db9cf75f82e99033c6b311a0\n"
     ]
    },
    {
     "data": {
      "text/plain": [
       "'num_processed: 2251/20845'"
      ]
     },
     "metadata": {},
     "output_type": "display_data"
    },
    {
     "name": "stdout",
     "output_type": "stream",
     "text": [
      "dfbcda6cba96c9715ea13380_3638d91834f18c2307b22496_41300542a406bacc7286b248\n"
     ]
    },
    {
     "data": {
      "text/plain": [
       "'num_processed: 2252/20845'"
      ]
     },
     "metadata": {},
     "output_type": "display_data"
    },
    {
     "name": "stdout",
     "output_type": "stream",
     "text": [
      "cecbb3fb054ab7bd66695192_f21bfafcabefc5407b943e9e_bb6407c9eb50beed6b7ce145\n"
     ]
    },
    {
     "data": {
      "text/plain": [
       "'num_processed: 2253/20845'"
      ]
     },
     "metadata": {},
     "output_type": "display_data"
    },
    {
     "name": "stdout",
     "output_type": "stream",
     "text": [
      "50202d9027b61fd1e445f895_6ebbfe1cdc81bf26d86cfeb5_c9fcf2a95de334f5dba88080\n"
     ]
    },
    {
     "data": {
      "text/plain": [
       "'num_processed: 2254/20845'"
      ]
     },
     "metadata": {},
     "output_type": "display_data"
    },
    {
     "name": "stdout",
     "output_type": "stream",
     "text": [
      "5885df288cb6f0408e3eb09f_8fc0bc58b5fbbeafe0e7ec30_8e99cfdc97dbfee43ce4cf59\n"
     ]
    },
    {
     "data": {
      "text/plain": [
       "'num_processed: 2255/20845'"
      ]
     },
     "metadata": {},
     "output_type": "display_data"
    },
    {
     "name": "stdout",
     "output_type": "stream",
     "text": [
      "574b96cae4b0167937a0e22b_7d1b745f486302c2bc170e08_7446d9b2f3f4a2a7dfbfc86f\n"
     ]
    },
    {
     "data": {
      "text/plain": [
       "'num_processed: 2256/20845'"
      ]
     },
     "metadata": {},
     "output_type": "display_data"
    },
    {
     "name": "stdout",
     "output_type": "stream",
     "text": [
      "add892f41299aaec7d94d9ea_c611a4a232a8c9aa7b7c1c8e_3021bbda5b072304153a48b4\n"
     ]
    },
    {
     "data": {
      "text/plain": [
       "'num_processed: 2257/20845'"
      ]
     },
     "metadata": {},
     "output_type": "display_data"
    },
    {
     "name": "stdout",
     "output_type": "stream",
     "text": [
      "326b046d8db52d6298fd54ba_4d6f5c42d2449a31928e095b_f975e9833f9f74e46671b379\n"
     ]
    },
    {
     "data": {
      "text/plain": [
       "'num_processed: 2258/20845'"
      ]
     },
     "metadata": {},
     "output_type": "display_data"
    },
    {
     "name": "stdout",
     "output_type": "stream",
     "text": [
      "5849f3f1650a1f40a9df41c4_9b9f83bd9ccc5ef26c522021_61a03d32d49700d96a2a19ee\n"
     ]
    },
    {
     "data": {
      "text/plain": [
       "'num_processed: 2259/20845'"
      ]
     },
     "metadata": {},
     "output_type": "display_data"
    },
    {
     "name": "stdout",
     "output_type": "stream",
     "text": [
      "191c5858889111ea8ac90be2_e84aab2ae14ff4140d89a45e_fa876f0d52c413a3b4306998\n"
     ]
    },
    {
     "data": {
      "text/plain": [
       "'num_processed: 2260/20845'"
      ]
     },
     "metadata": {},
     "output_type": "display_data"
    },
    {
     "name": "stdout",
     "output_type": "stream",
     "text": [
      "5818d735ca58d81087615e33_09303a1ea03fbd5daa448948_3fa8542a714a08a928b24640\n"
     ]
    },
    {
     "data": {
      "text/plain": [
       "'num_processed: 2261/20845'"
      ]
     },
     "metadata": {},
     "output_type": "display_data"
    },
    {
     "name": "stdout",
     "output_type": "stream",
     "text": [
      "e3cce42667794274f4fb6019_c83dc536ff92738fd0f9fd24_b25d0b762364270ce931c6f6\n"
     ]
    },
    {
     "data": {
      "text/plain": [
       "'num_processed: 2262/20845'"
      ]
     },
     "metadata": {},
     "output_type": "display_data"
    },
    {
     "name": "stdout",
     "output_type": "stream",
     "text": [
      "156fd8010b5aab28d9b34df5_c4f3b78b53cad3791ac9d8d6_98f74b373c23199165f09b73\n"
     ]
    },
    {
     "data": {
      "text/plain": [
       "'num_processed: 2263/20845'"
      ]
     },
     "metadata": {},
     "output_type": "display_data"
    },
    {
     "name": "stdout",
     "output_type": "stream",
     "text": [
      "1daf6824f28f820e3a11399f_72cb0b8ff1094da967b13176_b451eb663e3a76c80bec7d76\n",
      "ERROR TRASFORMING!\n"
     ]
    },
    {
     "data": {
      "text/plain": [
       "'num_processed: 2264/20845'"
      ]
     },
     "metadata": {},
     "output_type": "display_data"
    },
    {
     "name": "stdout",
     "output_type": "stream",
     "text": [
      "c15ad857983ba28f02ab881f_ed65a9a3e3de2b73108bbe0f_ed0988ddac76a62cfa8117b1\n"
     ]
    },
    {
     "data": {
      "text/plain": [
       "'num_processed: 2265/20845'"
      ]
     },
     "metadata": {},
     "output_type": "display_data"
    },
    {
     "name": "stdout",
     "output_type": "stream",
     "text": [
      "f90d9a5beb251dde2a135b19_bb488c4356da0748e89c2f2a_1c3f3d15051e953871fdf8b6\n"
     ]
    },
    {
     "data": {
      "text/plain": [
       "'num_processed: 2266/20845'"
      ]
     },
     "metadata": {},
     "output_type": "display_data"
    },
    {
     "name": "stdout",
     "output_type": "stream",
     "text": [
      "c8f14120fdd806d4c69a764e_dcf12976c1148971bf0ea72d_e3db685da2627e128ed66261\n"
     ]
    },
    {
     "data": {
      "text/plain": [
       "'num_processed: 2267/20845'"
      ]
     },
     "metadata": {},
     "output_type": "display_data"
    },
    {
     "name": "stdout",
     "output_type": "stream",
     "text": [
      "30716dc4ab6484160ed5e2a2_1838f3aaf9d30d20e07228ec_03b7f8915b5fd509f8ca4b29\n"
     ]
    },
    {
     "data": {
      "text/plain": [
       "'num_processed: 2268/20845'"
      ]
     },
     "metadata": {},
     "output_type": "display_data"
    },
    {
     "name": "stdout",
     "output_type": "stream",
     "text": [
      "14c4187c85e8fd8441bbd4e5_57a2a47b8d9876dcdb03ec7a_64d987f82ec19ed59030f414\n"
     ]
    },
    {
     "data": {
      "text/plain": [
       "'num_processed: 2269/20845'"
      ]
     },
     "metadata": {},
     "output_type": "display_data"
    },
    {
     "name": "stdout",
     "output_type": "stream",
     "text": [
      "c8b9ad8e4a4f8ab9f22853d7_cc18d892db2e7e32c4d18968_8d5acb135fcad35cbee948e3\n"
     ]
    },
    {
     "data": {
      "text/plain": [
       "'num_processed: 2270/20845'"
      ]
     },
     "metadata": {},
     "output_type": "display_data"
    },
    {
     "name": "stdout",
     "output_type": "stream",
     "text": [
      "e0db9fd54d9b4516057903f0_c5679815c86cda0347d96401_05f59474d2e0fb632cde2564\n"
     ]
    },
    {
     "data": {
      "text/plain": [
       "'num_processed: 2271/20845'"
      ]
     },
     "metadata": {},
     "output_type": "display_data"
    },
    {
     "name": "stdout",
     "output_type": "stream",
     "text": [
      "8c29f24280269bc133aaa286_d8969b836a785b32701c094d_397766da450cca137c63e01c\n",
      "ERROR TRASFORMING!\n"
     ]
    },
    {
     "data": {
      "text/plain": [
       "'num_processed: 2272/20845'"
      ]
     },
     "metadata": {},
     "output_type": "display_data"
    },
    {
     "name": "stdout",
     "output_type": "stream",
     "text": [
      "7f9871fb42f461a69727ae52_82cf7ad9ef33433e3596bfa3_954967f9d2d7c4029ae6ec6c\n"
     ]
    },
    {
     "data": {
      "text/plain": [
       "'num_processed: 2273/20845'"
      ]
     },
     "metadata": {},
     "output_type": "display_data"
    },
    {
     "name": "stdout",
     "output_type": "stream",
     "text": [
      "fe82a2cdd4e8688e0a52df01_5e6322d71d5ee6c2bec6e5b9_8bb25fc1d50c35ae41811149\n"
     ]
    },
    {
     "data": {
      "text/plain": [
       "'num_processed: 2274/20845'"
      ]
     },
     "metadata": {},
     "output_type": "display_data"
    },
    {
     "name": "stdout",
     "output_type": "stream",
     "text": [
      "abe21b1c784255e9e41eed7b_f3f5e04af327ae90f630e052_2dc12308b8e11b9a4bfc33e6\n"
     ]
    },
    {
     "data": {
      "text/plain": [
       "'num_processed: 2275/20845'"
      ]
     },
     "metadata": {},
     "output_type": "display_data"
    },
    {
     "name": "stdout",
     "output_type": "stream",
     "text": [
      "c7c232f2cd9e1ef2b36152f1_eab51245e7fd5cfefd4a6a07_8d92d14bdbd095d0025c1a8d\n"
     ]
    },
    {
     "data": {
      "text/plain": [
       "'num_processed: 2276/20845'"
      ]
     },
     "metadata": {},
     "output_type": "display_data"
    },
    {
     "name": "stdout",
     "output_type": "stream",
     "text": [
      "ffee3a112eaf9b80bf9849dc_5c7ee6f57e33fbfce9c26576_f7a0a07d9a1c11b6a5612469\n"
     ]
    },
    {
     "data": {
      "text/plain": [
       "'num_processed: 2277/20845'"
      ]
     },
     "metadata": {},
     "output_type": "display_data"
    },
    {
     "name": "stdout",
     "output_type": "stream",
     "text": [
      "06b5ecca1ce258b225e5cf44_71facd789eab42d6d6f603e8_0b6329cac9eb0fbab672180d\n"
     ]
    },
    {
     "data": {
      "text/plain": [
       "'num_processed: 2278/20845'"
      ]
     },
     "metadata": {},
     "output_type": "display_data"
    },
    {
     "name": "stdout",
     "output_type": "stream",
     "text": [
      "d645e407533906cee3e5c30b_3d0ef9d6a44f299e4cc5ff14_fe0dce40ae3c70997573ccc5\n"
     ]
    },
    {
     "data": {
      "text/plain": [
       "'num_processed: 2279/20845'"
      ]
     },
     "metadata": {},
     "output_type": "display_data"
    },
    {
     "name": "stdout",
     "output_type": "stream",
     "text": [
      "e576fe0cd77d6b0ee3e087ac_7011327980f5617927dd322e_373ef830a2b610e18b73d1e4\n"
     ]
    },
    {
     "data": {
      "text/plain": [
       "'num_processed: 2280/20845'"
      ]
     },
     "metadata": {},
     "output_type": "display_data"
    },
    {
     "name": "stdout",
     "output_type": "stream",
     "text": [
      "61f67912b89a2a7209766b4e_e4d05350067d872ad0a3cd21_c8d3f6244ca2c8dde783c0aa\n",
      "ERROR TRASFORMING!\n"
     ]
    },
    {
     "data": {
      "text/plain": [
       "'num_processed: 2281/20845'"
      ]
     },
     "metadata": {},
     "output_type": "display_data"
    },
    {
     "name": "stdout",
     "output_type": "stream",
     "text": [
      "c000b6d8a521b439d5537031_bef4aa548bfd8ccbaff2108b_595f8087e24c960b252668ab\n"
     ]
    },
    {
     "data": {
      "text/plain": [
       "'num_processed: 2282/20845'"
      ]
     },
     "metadata": {},
     "output_type": "display_data"
    },
    {
     "name": "stdout",
     "output_type": "stream",
     "text": [
      "8962e2db9a9c2c4945bf2212_66297d6f566d09bc5b15f9fa_b64ee042a417d9f1006ca425\n"
     ]
    },
    {
     "data": {
      "text/plain": [
       "'num_processed: 2283/20845'"
      ]
     },
     "metadata": {},
     "output_type": "display_data"
    },
    {
     "name": "stdout",
     "output_type": "stream",
     "text": [
      "1d4d87194aaaccc5c8fa1b62_843419e684a9c323445bb125_91df3e69949bd353b1e158ed\n"
     ]
    },
    {
     "data": {
      "text/plain": [
       "'num_processed: 2284/20845'"
      ]
     },
     "metadata": {},
     "output_type": "display_data"
    },
    {
     "name": "stdout",
     "output_type": "stream",
     "text": [
      "afa4502ef47e34d6c140e715_f727bcdbdbbb9542b0c9b42a_9c0e598af51d4334612772e7\n"
     ]
    },
    {
     "data": {
      "text/plain": [
       "'num_processed: 2285/20845'"
      ]
     },
     "metadata": {},
     "output_type": "display_data"
    },
    {
     "name": "stdout",
     "output_type": "stream",
     "text": [
      "80042727e7e76023b75da503_b962dbffb8c6f0edb0dee62f_604d5235ee26a5d0a3184d07\n"
     ]
    },
    {
     "data": {
      "text/plain": [
       "'num_processed: 2286/20845'"
      ]
     },
     "metadata": {},
     "output_type": "display_data"
    },
    {
     "name": "stdout",
     "output_type": "stream",
     "text": [
      "c3c6190969cf01d731050958_b26d49d7d184757a1a6e516a_adbcf2f6cc091e41538f470a\n"
     ]
    },
    {
     "data": {
      "text/plain": [
       "'num_processed: 2287/20845'"
      ]
     },
     "metadata": {},
     "output_type": "display_data"
    },
    {
     "name": "stdout",
     "output_type": "stream",
     "text": [
      "72aac3c3ec285951d238f183_192732522a044805c4e036b2_8b237327db0eb8b6402b9f30\n"
     ]
    },
    {
     "data": {
      "text/plain": [
       "'num_processed: 2288/20845'"
      ]
     },
     "metadata": {},
     "output_type": "display_data"
    },
    {
     "name": "stdout",
     "output_type": "stream",
     "text": [
      "4ac65b3e17f734bd476f95c3_8c0408fccf6201b7e3e8e7c2_7a0d3c4413968f5209e96d49\n"
     ]
    },
    {
     "data": {
      "text/plain": [
       "'num_processed: 2289/20845'"
      ]
     },
     "metadata": {},
     "output_type": "display_data"
    },
    {
     "name": "stdout",
     "output_type": "stream",
     "text": [
      "584b519932252710a221e62d_0ef8e44be948a6db79dc4054_1272104e5cf31e65053777d3\n"
     ]
    },
    {
     "data": {
      "text/plain": [
       "'num_processed: 2290/20845'"
      ]
     },
     "metadata": {},
     "output_type": "display_data"
    },
    {
     "name": "stdout",
     "output_type": "stream",
     "text": [
      "1e103a21db7e3b5ed9ba4cf3_a6957fcd406b352f58f614cf_72b7f56567a5455e19fe3b97\n"
     ]
    },
    {
     "data": {
      "text/plain": [
       "'num_processed: 2291/20845'"
      ]
     },
     "metadata": {},
     "output_type": "display_data"
    },
    {
     "name": "stdout",
     "output_type": "stream",
     "text": [
      "2367c94e53f5b8d460e2b055_2f3f6d4a148e16cb29bd95f1_787b8947ca06e5a06e5d6a54\n"
     ]
    },
    {
     "data": {
      "text/plain": [
       "'num_processed: 2292/20845'"
      ]
     },
     "metadata": {},
     "output_type": "display_data"
    },
    {
     "name": "stdout",
     "output_type": "stream",
     "text": [
      "183bbd5ca89ef81b86ac6981_5eebdf802f8a9d6adef4fa46_ffde3b5e2ff0ea0b741bc125\n"
     ]
    },
    {
     "data": {
      "text/plain": [
       "'num_processed: 2293/20845'"
      ]
     },
     "metadata": {},
     "output_type": "display_data"
    },
    {
     "name": "stdout",
     "output_type": "stream",
     "text": [
      "7c0d39137ae10562bc778370_f56657ebe389204e58faf055_b110380cde29a837978e0b41\n"
     ]
    },
    {
     "data": {
      "text/plain": [
       "'num_processed: 2294/20845'"
      ]
     },
     "metadata": {},
     "output_type": "display_data"
    },
    {
     "name": "stdout",
     "output_type": "stream",
     "text": [
      "6ce9a4ef8f94fd888f27b789_c9f133293e3f679c534048a8_1923e25286540a0bcab16503\n"
     ]
    },
    {
     "data": {
      "text/plain": [
       "'num_processed: 2295/20845'"
      ]
     },
     "metadata": {},
     "output_type": "display_data"
    },
    {
     "name": "stdout",
     "output_type": "stream",
     "text": [
      "9206e8d207ee6b7ad74a807d_0d9c36c99c91ddd7e9c58261_29238651114d67d40962308a\n"
     ]
    },
    {
     "data": {
      "text/plain": [
       "'num_processed: 2296/20845'"
      ]
     },
     "metadata": {},
     "output_type": "display_data"
    },
    {
     "name": "stdout",
     "output_type": "stream",
     "text": [
      "d2ea762ac1eece16d8f3d6f0_54b749415c3384d01dec1f4d_e89353e514eb5abafb8da097\n"
     ]
    },
    {
     "data": {
      "text/plain": [
       "'num_processed: 2297/20845'"
      ]
     },
     "metadata": {},
     "output_type": "display_data"
    },
    {
     "name": "stdout",
     "output_type": "stream",
     "text": [
      "867b93e8b01c56bcf2b96fe6_d007e033cecb88cfb6b865fb_cbb94846cf3fc7573d7a8434\n"
     ]
    },
    {
     "data": {
      "text/plain": [
       "'num_processed: 2298/20845'"
      ]
     },
     "metadata": {},
     "output_type": "display_data"
    },
    {
     "name": "stdout",
     "output_type": "stream",
     "text": [
      "b528ce5bf4be0ed448af8b81_2504c7c29d1411871ca437ed_2608dee2e0908d284dc4eb0e\n"
     ]
    },
    {
     "data": {
      "text/plain": [
       "'num_processed: 2299/20845'"
      ]
     },
     "metadata": {},
     "output_type": "display_data"
    },
    {
     "name": "stdout",
     "output_type": "stream",
     "text": [
      "47cf6e3ca90e4efb83650751_95a73f5854143487c1155ddd_c191119e4ce8b8586d25502c\n"
     ]
    },
    {
     "data": {
      "text/plain": [
       "'num_processed: 2300/20845'"
      ]
     },
     "metadata": {},
     "output_type": "display_data"
    },
    {
     "name": "stdout",
     "output_type": "stream",
     "text": [
      "4b80ae58b04826b45cec468b_a8aa93d97b605947c4d98e8c_19aa819c19da2432d9f1b712\n"
     ]
    },
    {
     "data": {
      "text/plain": [
       "'num_processed: 2301/20845'"
      ]
     },
     "metadata": {},
     "output_type": "display_data"
    },
    {
     "name": "stdout",
     "output_type": "stream",
     "text": [
      "57606345e4b0b36642a6d966_3f80eb1a29763d8d591cba92_7f89c98b01fe81ffcb18d67a\n"
     ]
    },
    {
     "data": {
      "text/plain": [
       "'num_processed: 2302/20845'"
      ]
     },
     "metadata": {},
     "output_type": "display_data"
    },
    {
     "name": "stdout",
     "output_type": "stream",
     "text": [
      "e6821338b22e7d90bff0e74d_473285e8bde2da7d52502e26_9f98cb36c87f8c81fd6d99d3\n"
     ]
    },
    {
     "data": {
      "text/plain": [
       "'num_processed: 2303/20845'"
      ]
     },
     "metadata": {},
     "output_type": "display_data"
    },
    {
     "name": "stdout",
     "output_type": "stream",
     "text": [
      "c543e7075ee533af30f08658_5e8ad0c5dc85507290a682da_1db9a27a82983c8bb0a4d41d\n"
     ]
    },
    {
     "data": {
      "text/plain": [
       "'num_processed: 2304/20845'"
      ]
     },
     "metadata": {},
     "output_type": "display_data"
    },
    {
     "name": "stdout",
     "output_type": "stream",
     "text": [
      "ff967ceaabdc8bbe3745aef4_bc55a36bf34b77617509d97e_3f7242bfa9987621bbf65436\n"
     ]
    },
    {
     "data": {
      "text/plain": [
       "'num_processed: 2305/20845'"
      ]
     },
     "metadata": {},
     "output_type": "display_data"
    },
    {
     "name": "stdout",
     "output_type": "stream",
     "text": [
      "1e8f7b92ed5098bdcffe564a_8d98b397e432e62d8aed5c5a_c4b1b70ab8afd77d2bfc6164\n"
     ]
    },
    {
     "data": {
      "text/plain": [
       "'num_processed: 2306/20845'"
      ]
     },
     "metadata": {},
     "output_type": "display_data"
    },
    {
     "name": "stdout",
     "output_type": "stream",
     "text": [
      "25a1808465e4e71d8ea6b71b_f1a1e6f9a6957c3643629c5a_47963781e0096728c0992165\n"
     ]
    },
    {
     "data": {
      "text/plain": [
       "'num_processed: 2307/20845'"
      ]
     },
     "metadata": {},
     "output_type": "display_data"
    },
    {
     "name": "stdout",
     "output_type": "stream",
     "text": [
      "0e758fb4b3e4f49169a53f28_39beff6522c51e2e768c0633_43ae2d036d6e5dced6a0d82f\n"
     ]
    },
    {
     "data": {
      "text/plain": [
       "'num_processed: 2308/20845'"
      ]
     },
     "metadata": {},
     "output_type": "display_data"
    },
    {
     "name": "stdout",
     "output_type": "stream",
     "text": [
      "0f27d6ebc302db537e44cf30_e964af47c3b24e41b63d6cfc_39f579cf5b22a4c0f144b61e\n"
     ]
    },
    {
     "data": {
      "text/plain": [
       "'num_processed: 2309/20845'"
      ]
     },
     "metadata": {},
     "output_type": "display_data"
    },
    {
     "name": "stdout",
     "output_type": "stream",
     "text": [
      "5a217c99a84fa1b1545fb6b1_6575fdb52c6d76b85b256e75_9ab86fac24ce3c67aa8cef84\n"
     ]
    },
    {
     "data": {
      "text/plain": [
       "'num_processed: 2310/20845'"
      ]
     },
     "metadata": {},
     "output_type": "display_data"
    },
    {
     "name": "stdout",
     "output_type": "stream",
     "text": [
      "c6a76be4128def62b284388a_dd363685dfc21df56a57848a_1fd58bce67382e98a95752e4\n"
     ]
    },
    {
     "data": {
      "text/plain": [
       "'num_processed: 2311/20845'"
      ]
     },
     "metadata": {},
     "output_type": "display_data"
    },
    {
     "name": "stdout",
     "output_type": "stream",
     "text": [
      "6f4e8d74fed207b4d1e64b7a_ee901caaaf698dab9c722a0a_a1706dc4e8c607103d6dc98e\n"
     ]
    },
    {
     "data": {
      "text/plain": [
       "'num_processed: 2312/20845'"
      ]
     },
     "metadata": {},
     "output_type": "display_data"
    },
    {
     "name": "stdout",
     "output_type": "stream",
     "text": [
      "5cbb8c0532729e284d576f91_74fac328014794d29a0d7908_3714a3671113756f208c2366\n"
     ]
    },
    {
     "data": {
      "text/plain": [
       "'num_processed: 2313/20845'"
      ]
     },
     "metadata": {},
     "output_type": "display_data"
    },
    {
     "name": "stdout",
     "output_type": "stream",
     "text": [
      "1cd952b16f9e75bab7b66fbf_637cf7d2d420dbe34865fbb0_53619db082002d376659358c\n"
     ]
    },
    {
     "data": {
      "text/plain": [
       "'num_processed: 2314/20845'"
      ]
     },
     "metadata": {},
     "output_type": "display_data"
    },
    {
     "name": "stdout",
     "output_type": "stream",
     "text": [
      "44892772386c3f564c02522e_714ded9ee90fa4b5409e629f_55e67c0331c4c0cf73ba0d89\n"
     ]
    },
    {
     "data": {
      "text/plain": [
       "'num_processed: 2315/20845'"
      ]
     },
     "metadata": {},
     "output_type": "display_data"
    },
    {
     "name": "stdout",
     "output_type": "stream",
     "text": [
      "8833d4bc5e80e18eb12bec57_b32f857dfa968f84ca9e1bff_9a11a8295868579cb8a1e884\n"
     ]
    },
    {
     "data": {
      "text/plain": [
       "'num_processed: 2316/20845'"
      ]
     },
     "metadata": {},
     "output_type": "display_data"
    },
    {
     "name": "stdout",
     "output_type": "stream",
     "text": [
      "812513406fbc813cf3b6c309_fae0606b8419f48e476ab445_ceebc8854a108c5bffb8c9eb\n"
     ]
    },
    {
     "data": {
      "text/plain": [
       "'num_processed: 2317/20845'"
      ]
     },
     "metadata": {},
     "output_type": "display_data"
    },
    {
     "name": "stdout",
     "output_type": "stream",
     "text": [
      "2034eeceec5eb7a1d03f1427_62fd5a77e295b05efe2466ed_147c471bab67f42140043633\n",
      "ERROR TRASFORMING!\n"
     ]
    },
    {
     "data": {
      "text/plain": [
       "'num_processed: 2318/20845'"
      ]
     },
     "metadata": {},
     "output_type": "display_data"
    },
    {
     "name": "stdout",
     "output_type": "stream",
     "text": [
      "b48c86c2ed1eca69e13d9aac_7f251c65fe3e023586e69c91_2b2bd93a6286450e8bab250d\n"
     ]
    },
    {
     "data": {
      "text/plain": [
       "'num_processed: 2319/20845'"
      ]
     },
     "metadata": {},
     "output_type": "display_data"
    },
    {
     "name": "stdout",
     "output_type": "stream",
     "text": [
      "4540039b730dde15475cccca_baf65fb0c84436316052a9c3_0bfbe6e229a0f1ed281cc7e2\n"
     ]
    },
    {
     "data": {
      "text/plain": [
       "'num_processed: 2320/20845'"
      ]
     },
     "metadata": {},
     "output_type": "display_data"
    },
    {
     "name": "stdout",
     "output_type": "stream",
     "text": [
      "58a6505f176e9a0f88c09439_1b41554913a8b4812fc6fba2_e7d8e9a93eaec13377912239\n",
      "EROR IN process_axial - PK_SURF_ask_uvboxERROR TRASFORMING!\n"
     ]
    },
    {
     "data": {
      "text/plain": [
       "'num_processed: 2321/20845'"
      ]
     },
     "metadata": {},
     "output_type": "display_data"
    },
    {
     "name": "stdout",
     "output_type": "stream",
     "text": [
      "9283eb7b0af3d78e82cf46a9_4c7169401ed4e665c81a1079_a73ff530cbe2c84afb23c39c\n",
      "ERROR TRASFORMING!\n"
     ]
    },
    {
     "data": {
      "text/plain": [
       "'num_processed: 2322/20845'"
      ]
     },
     "metadata": {},
     "output_type": "display_data"
    },
    {
     "name": "stdout",
     "output_type": "stream",
     "text": [
      "3d7bbfc9befe7cc29cdb0a10_02d6142acaa433950846d923_0059698278d703ec887a9c2b\n"
     ]
    },
    {
     "data": {
      "text/plain": [
       "'num_processed: 2323/20845'"
      ]
     },
     "metadata": {},
     "output_type": "display_data"
    },
    {
     "name": "stdout",
     "output_type": "stream",
     "text": [
      "a5e8edcd87cca271f7a7ddcd_8e146b2c97cf08dc03032d86_02fa59d7640f0ffdabdd8160\n"
     ]
    },
    {
     "data": {
      "text/plain": [
       "'num_processed: 2324/20845'"
      ]
     },
     "metadata": {},
     "output_type": "display_data"
    },
    {
     "name": "stdout",
     "output_type": "stream",
     "text": [
      "aec8b2f1d99516f04e23de7a_7db5a2981e45fc2c7dda27e9_5e030f2ddd39c9c6146b5ba3\n"
     ]
    },
    {
     "data": {
      "text/plain": [
       "'num_processed: 2325/20845'"
      ]
     },
     "metadata": {},
     "output_type": "display_data"
    },
    {
     "name": "stdout",
     "output_type": "stream",
     "text": [
      "4e2f6c9f78dd133db7b68e8e_3146c47b5debf58f7731464e_3de9e7e92c49c7bf5947b3d3\n"
     ]
    },
    {
     "data": {
      "text/plain": [
       "'num_processed: 2326/20845'"
      ]
     },
     "metadata": {},
     "output_type": "display_data"
    },
    {
     "name": "stdout",
     "output_type": "stream",
     "text": [
      "f9f7b634a68e1f9fb7c6cdca_d02dd077570202532520b487_55b3e162892309f0f85437db\n"
     ]
    },
    {
     "data": {
      "text/plain": [
       "'num_processed: 2327/20845'"
      ]
     },
     "metadata": {},
     "output_type": "display_data"
    },
    {
     "name": "stdout",
     "output_type": "stream",
     "text": [
      "1b2915d83c9e53cf3b79fd2d_a40da877a8c5d03bf53ebd10_84148bb8130ee71590bbd4cf\n"
     ]
    },
    {
     "data": {
      "text/plain": [
       "'num_processed: 2328/20845'"
      ]
     },
     "metadata": {},
     "output_type": "display_data"
    },
    {
     "name": "stdout",
     "output_type": "stream",
     "text": [
      "0d0b5577dadde8ab622d2d91_11f7b0bb1904b73024246acd_73fd141029bd3f79108925e2\n"
     ]
    },
    {
     "data": {
      "text/plain": [
       "'num_processed: 2329/20845'"
      ]
     },
     "metadata": {},
     "output_type": "display_data"
    },
    {
     "name": "stdout",
     "output_type": "stream",
     "text": [
      "7d087ae81e8ccd5df081416c_d923a3292fdd4342ffc4739a_4be734005f2f15cf9f5099fd\n"
     ]
    },
    {
     "data": {
      "text/plain": [
       "'num_processed: 2330/20845'"
      ]
     },
     "metadata": {},
     "output_type": "display_data"
    },
    {
     "name": "stdout",
     "output_type": "stream",
     "text": [
      "58914407616d2f1011f28cfe_905f10cafb3cc798eb8079c2_cb8e7fc95eba8018b4c1d69b\n",
      "EROR IN process_axial - PK_SURF_ask_uvboxERROR TRASFORMING!\n"
     ]
    },
    {
     "data": {
      "text/plain": [
       "'num_processed: 2331/20845'"
      ]
     },
     "metadata": {},
     "output_type": "display_data"
    },
    {
     "name": "stdout",
     "output_type": "stream",
     "text": [
      "797d46149bb3288af2b60130_e181874adc11b237d48c513b_411b12129ceb9339ad05bf00\n"
     ]
    },
    {
     "data": {
      "text/plain": [
       "'num_processed: 2332/20845'"
      ]
     },
     "metadata": {},
     "output_type": "display_data"
    },
    {
     "name": "stdout",
     "output_type": "stream",
     "text": [
      "5891f049b204b50ff2c9fdd2_f9d867b5c6c69e7023e8ce6c_19bd9d9faeedc612e8daaa65\n"
     ]
    },
    {
     "data": {
      "text/plain": [
       "'num_processed: 2333/20845'"
      ]
     },
     "metadata": {},
     "output_type": "display_data"
    },
    {
     "name": "stdout",
     "output_type": "stream",
     "text": [
      "7dc5bbcdc45b597b8a1140c6_9f487dfe494a674a22ee71fc_01fc4f29b2b84ce39e81d6ea\n",
      "ERROR TRASFORMING!\n"
     ]
    },
    {
     "data": {
      "text/plain": [
       "'num_processed: 2334/20845'"
      ]
     },
     "metadata": {},
     "output_type": "display_data"
    },
    {
     "name": "stdout",
     "output_type": "stream",
     "text": [
      "ce11220160220276bbab0392_c2cb85af6ada542c3e19f7a2_76c6420b709f98e1b60938a8\n",
      "EROR IN process_axial - PK_SURF_ask_uvboxERROR TRASFORMING!\n"
     ]
    },
    {
     "data": {
      "text/plain": [
       "'num_processed: 2335/20845'"
      ]
     },
     "metadata": {},
     "output_type": "display_data"
    },
    {
     "name": "stdout",
     "output_type": "stream",
     "text": [
      "bbeda0fe25b175e81af49427_e5add71d6215ae5fb205f048_cbe240d159d883d3a78de5e3\n"
     ]
    },
    {
     "data": {
      "text/plain": [
       "'num_processed: 2336/20845'"
      ]
     },
     "metadata": {},
     "output_type": "display_data"
    },
    {
     "name": "stdout",
     "output_type": "stream",
     "text": [
      "e6b421bc1cebdcc7ac24610f_128b0a1c2049f84c75f8c1af_8add8e97c6fe24632ab92dae\n"
     ]
    },
    {
     "data": {
      "text/plain": [
       "'num_processed: 2337/20845'"
      ]
     },
     "metadata": {},
     "output_type": "display_data"
    },
    {
     "name": "stdout",
     "output_type": "stream",
     "text": [
      "3b7458598cf333d5523f8d06_013744cd2a56026c6a127b54_ef218582bbe827fc2ab39563\n"
     ]
    },
    {
     "data": {
      "text/plain": [
       "'num_processed: 2338/20845'"
      ]
     },
     "metadata": {},
     "output_type": "display_data"
    },
    {
     "name": "stdout",
     "output_type": "stream",
     "text": [
      "91f37e66e450d4d209044435_ef6a1ea4783fc50776c6075e_46a54dd78a65798407bbd274\n"
     ]
    },
    {
     "data": {
      "text/plain": [
       "'num_processed: 2339/20845'"
      ]
     },
     "metadata": {},
     "output_type": "display_data"
    },
    {
     "name": "stdout",
     "output_type": "stream",
     "text": [
      "17f9a95a8a25f0a7c71a1655_e0d4b8a985b1e9b4fba548b4_731a82d09610722fb52506fa\n"
     ]
    },
    {
     "data": {
      "text/plain": [
       "'num_processed: 2340/20845'"
      ]
     },
     "metadata": {},
     "output_type": "display_data"
    },
    {
     "name": "stdout",
     "output_type": "stream",
     "text": [
      "04abce524cf47feade4248ca_0fa73ece06677c12d7dfd98c_ed51227c4ef6b03018175871\n"
     ]
    },
    {
     "data": {
      "text/plain": [
       "'num_processed: 2341/20845'"
      ]
     },
     "metadata": {},
     "output_type": "display_data"
    },
    {
     "name": "stdout",
     "output_type": "stream",
     "text": [
      "83eddbf43bcbf9ae24ce1cec_ba7b749d43c6843ba5230632_ce3f5b0f771caa2554cf7c30\n"
     ]
    },
    {
     "data": {
      "text/plain": [
       "'num_processed: 2342/20845'"
      ]
     },
     "metadata": {},
     "output_type": "display_data"
    },
    {
     "name": "stdout",
     "output_type": "stream",
     "text": [
      "e88b2fadbe13e186d926881b_194707ead6657ebc953c51bf_c62d9230424fba9674b7bfd4\n"
     ]
    },
    {
     "data": {
      "text/plain": [
       "'num_processed: 2343/20845'"
      ]
     },
     "metadata": {},
     "output_type": "display_data"
    },
    {
     "name": "stdout",
     "output_type": "stream",
     "text": [
      "bf518ba677fea66846a9ed88_f7034482a291b43dffe8dfa1_1be01acc20eb2be53ca34c41\n"
     ]
    },
    {
     "data": {
      "text/plain": [
       "'num_processed: 2344/20845'"
      ]
     },
     "metadata": {},
     "output_type": "display_data"
    },
    {
     "name": "stdout",
     "output_type": "stream",
     "text": [
      "eaca968d56cb232310f50d4d_1d4809f20f34233ccff999be_8b31ed9f03bcc8d665383279\n"
     ]
    },
    {
     "data": {
      "text/plain": [
       "'num_processed: 2345/20845'"
      ]
     },
     "metadata": {},
     "output_type": "display_data"
    },
    {
     "name": "stdout",
     "output_type": "stream",
     "text": [
      "f04ded030f355a0bea2b1015_f15fcd637bc28743f656445c_f055ce62a6426ef6b558ddad\n"
     ]
    },
    {
     "data": {
      "text/plain": [
       "'num_processed: 2346/20845'"
      ]
     },
     "metadata": {},
     "output_type": "display_data"
    },
    {
     "name": "stdout",
     "output_type": "stream",
     "text": [
      "491f262c9106f47a59848f1c_8dd70c2bd154e863647ec182_b276d235b372ad4fc19fadde\n"
     ]
    },
    {
     "data": {
      "text/plain": [
       "'num_processed: 2347/20845'"
      ]
     },
     "metadata": {},
     "output_type": "display_data"
    },
    {
     "name": "stdout",
     "output_type": "stream",
     "text": [
      "40e3e539cc1e6f9678cb31e9_c4f8a8d6f0669fabcf93940b_e4e42cd52ea43f2484a567e2\n"
     ]
    },
    {
     "data": {
      "text/plain": [
       "'num_processed: 2348/20845'"
      ]
     },
     "metadata": {},
     "output_type": "display_data"
    },
    {
     "name": "stdout",
     "output_type": "stream",
     "text": [
      "ce2474e34365c60d11c96f8f_a27b55d152625e7871613ef3_39aa7c9de9ae57b97c67e7cd\n"
     ]
    },
    {
     "data": {
      "text/plain": [
       "'num_processed: 2349/20845'"
      ]
     },
     "metadata": {},
     "output_type": "display_data"
    },
    {
     "name": "stdout",
     "output_type": "stream",
     "text": [
      "705c61edae75a0db9bc742c2_7fcc8477a1f187cc5276f990_feb12d576a8a6b5cf742b556\n"
     ]
    },
    {
     "data": {
      "text/plain": [
       "'num_processed: 2350/20845'"
      ]
     },
     "metadata": {},
     "output_type": "display_data"
    },
    {
     "name": "stdout",
     "output_type": "stream",
     "text": [
      "8495db027eec95acc7d4d22b_0239195fcb0e5842c63b92bf_05417c9c827ecc3923cae2dc\n"
     ]
    },
    {
     "data": {
      "text/plain": [
       "'num_processed: 2351/20845'"
      ]
     },
     "metadata": {},
     "output_type": "display_data"
    },
    {
     "name": "stdout",
     "output_type": "stream",
     "text": [
      "b45daf27c9ac7e8a97e15fcc_a62cec4ce69b782d16c6b1b5_8811721deacaf5f84d6ef15d\n"
     ]
    },
    {
     "data": {
      "text/plain": [
       "'num_processed: 2352/20845'"
      ]
     },
     "metadata": {},
     "output_type": "display_data"
    },
    {
     "name": "stdout",
     "output_type": "stream",
     "text": [
      "534b0cb7e22ac7e6372c0f38_f17c7b90aa69325668de5390_352277028fc11308c769b280\n"
     ]
    },
    {
     "data": {
      "text/plain": [
       "'num_processed: 2353/20845'"
      ]
     },
     "metadata": {},
     "output_type": "display_data"
    },
    {
     "name": "stdout",
     "output_type": "stream",
     "text": [
      "61bcba0edcea90da3fef09cd_6829fa2e3999b8243ccc1381_1f8e4909aafa773422ee4730\n"
     ]
    },
    {
     "data": {
      "text/plain": [
       "'num_processed: 2354/20845'"
      ]
     },
     "metadata": {},
     "output_type": "display_data"
    },
    {
     "name": "stdout",
     "output_type": "stream",
     "text": [
      "83462ec35c7ca64441754760_6bef0df6794b7bd835b01741_036328f673beb97ef96753be\n"
     ]
    },
    {
     "data": {
      "text/plain": [
       "'num_processed: 2355/20845'"
      ]
     },
     "metadata": {},
     "output_type": "display_data"
    },
    {
     "name": "stdout",
     "output_type": "stream",
     "text": [
      "5daaba206218bfdac3c63d43_c47cb3dbf06311f80b9ea44d_560fa1f6ae6db407804ffc2b\n"
     ]
    },
    {
     "data": {
      "text/plain": [
       "'num_processed: 2356/20845'"
      ]
     },
     "metadata": {},
     "output_type": "display_data"
    },
    {
     "name": "stdout",
     "output_type": "stream",
     "text": [
      "c7140857d11bfc068027f3e6_bbc45f7855896e3479f4633e_c84428a4879c4a75e2642413\n"
     ]
    },
    {
     "data": {
      "text/plain": [
       "'num_processed: 2357/20845'"
      ]
     },
     "metadata": {},
     "output_type": "display_data"
    },
    {
     "name": "stdout",
     "output_type": "stream",
     "text": [
      "d443d373353e92446e2de437_0aa23bd4804df6a343106f1a_0073c7c1a710b9be898c1f28\n"
     ]
    },
    {
     "data": {
      "text/plain": [
       "'num_processed: 2358/20845'"
      ]
     },
     "metadata": {},
     "output_type": "display_data"
    },
    {
     "name": "stdout",
     "output_type": "stream",
     "text": [
      "58ea5eb28fcee21050dc1e0b_8b872ea42575f57f6c4f4d98_fa113318bcefa0e28e679280\n"
     ]
    },
    {
     "data": {
      "text/plain": [
       "'num_processed: 2359/20845'"
      ]
     },
     "metadata": {},
     "output_type": "display_data"
    },
    {
     "name": "stdout",
     "output_type": "stream",
     "text": [
      "c794311219904f4bf7b1415a_a2a2d0330a8bb3a49ebb2c15_bbe48af26aafaae81a326aa9\n"
     ]
    },
    {
     "data": {
      "text/plain": [
       "'num_processed: 2360/20845'"
      ]
     },
     "metadata": {},
     "output_type": "display_data"
    },
    {
     "name": "stdout",
     "output_type": "stream",
     "text": [
      "e0205427250e2b06bc4aa9f9_1050f057afc123538e58cb54_cec20854aa7a66fe57df199d\n"
     ]
    },
    {
     "data": {
      "text/plain": [
       "'num_processed: 2361/20845'"
      ]
     },
     "metadata": {},
     "output_type": "display_data"
    },
    {
     "name": "stdout",
     "output_type": "stream",
     "text": [
      "e0f1e1e35b22558e4eb88900_47f061b64f706b385b40201b_e46c9d31c4bfc66488d4adc5\n"
     ]
    },
    {
     "data": {
      "text/plain": [
       "'num_processed: 2362/20845'"
      ]
     },
     "metadata": {},
     "output_type": "display_data"
    },
    {
     "name": "stdout",
     "output_type": "stream",
     "text": [
      "8962e2db9a9c2c4945bf2212_66297d6f566d09bc5b15f9fa_6328e937d54fca4696e60494\n"
     ]
    },
    {
     "data": {
      "text/plain": [
       "'num_processed: 2363/20845'"
      ]
     },
     "metadata": {},
     "output_type": "display_data"
    },
    {
     "name": "stdout",
     "output_type": "stream",
     "text": [
      "e2003dfdf6bc38c4ba3d1fb9_20cb8fd085e47a4ebbdfc637_4cb5d3c4739df6d353c80cd0\n"
     ]
    },
    {
     "data": {
      "text/plain": [
       "'num_processed: 2364/20845'"
      ]
     },
     "metadata": {},
     "output_type": "display_data"
    },
    {
     "name": "stdout",
     "output_type": "stream",
     "text": [
      "0ed092f6bbeb2958b9f2f45d_f523d8b53a724a91f4482eb6_91d1ee5bd0335bf7c8387673\n"
     ]
    },
    {
     "data": {
      "text/plain": [
       "'num_processed: 2365/20845'"
      ]
     },
     "metadata": {},
     "output_type": "display_data"
    },
    {
     "name": "stdout",
     "output_type": "stream",
     "text": [
      "7017f3cf052fce80121f1685_033a44a4d7b15b08fcb7b11b_541d65bdfdb1257f798a8095\n"
     ]
    },
    {
     "data": {
      "text/plain": [
       "'num_processed: 2366/20845'"
      ]
     },
     "metadata": {},
     "output_type": "display_data"
    },
    {
     "name": "stdout",
     "output_type": "stream",
     "text": [
      "40cbb7b51868092d3cc61075_7f5fd11e6d50b2b2b480d06e_1bca74838fce529c99391625\n"
     ]
    },
    {
     "data": {
      "text/plain": [
       "'num_processed: 2367/20845'"
      ]
     },
     "metadata": {},
     "output_type": "display_data"
    },
    {
     "name": "stdout",
     "output_type": "stream",
     "text": [
      "57bdf4fbaf4c0c10708cd586_acc4b3afee8b59065ff18faa_b0abbf5a0ffde628d61e8826\n",
      "EROR IN process_axial - PK_SURF_ask_uvboxEROR IN process_axial - PK_SURF_ask_uvboxEROR IN process_axial - PK_SURF_ask_uvboxEROR IN process_axial - PK_SURF_ask_uvboxEROR IN process_axial - PK_SURF_ask_uvboxEROR IN process_axial - PK_SURF_ask_uvboxEROR IN process_axial - PK_SURF_ask_uvboxEROR IN process_axial - PK_SURF_ask_uvboxEROR IN process_axial - PK_SURF_ask_uvboxERROR TRASFORMING!\n"
     ]
    },
    {
     "data": {
      "text/plain": [
       "'num_processed: 2368/20845'"
      ]
     },
     "metadata": {},
     "output_type": "display_data"
    },
    {
     "name": "stdout",
     "output_type": "stream",
     "text": [
      "3c73738e5d131f58c288f3f2_882eff9c282fc83a896a5ab9_cff37de6de2158644150c50e\n"
     ]
    },
    {
     "data": {
      "text/plain": [
       "'num_processed: 2369/20845'"
      ]
     },
     "metadata": {},
     "output_type": "display_data"
    },
    {
     "name": "stdout",
     "output_type": "stream",
     "text": [
      "177a9f04e8992fb1daf887f7_9399127186dd61bd1a100c58_b27be29a92e398a85083ba5d\n"
     ]
    },
    {
     "data": {
      "text/plain": [
       "'num_processed: 2370/20845'"
      ]
     },
     "metadata": {},
     "output_type": "display_data"
    },
    {
     "name": "stdout",
     "output_type": "stream",
     "text": [
      "7813269f79c1edf444bd8f8a_764bd6243224e3ab2d314b47_b168967531d088ff00efc790\n"
     ]
    },
    {
     "data": {
      "text/plain": [
       "'num_processed: 2371/20845'"
      ]
     },
     "metadata": {},
     "output_type": "display_data"
    },
    {
     "name": "stdout",
     "output_type": "stream",
     "text": [
      "96f3b72f95e31ff962ae22af_7e0bad79dad2f8d35cb252f3_1efe4c109ffba4cc31314521\n"
     ]
    },
    {
     "data": {
      "text/plain": [
       "'num_processed: 2372/20845'"
      ]
     },
     "metadata": {},
     "output_type": "display_data"
    },
    {
     "name": "stdout",
     "output_type": "stream",
     "text": [
      "25d900fab90dd888276c0258_4abdf1a64383b4b7464541f8_dc63c9f36c372a0e2fdbcf2a\n"
     ]
    },
    {
     "data": {
      "text/plain": [
       "'num_processed: 2373/20845'"
      ]
     },
     "metadata": {},
     "output_type": "display_data"
    },
    {
     "name": "stdout",
     "output_type": "stream",
     "text": [
      "58ac007295b047102fd787a7_a768d83d1364186bf5b8c02f_f78bfa24da8d2139e292fe79\n"
     ]
    },
    {
     "data": {
      "text/plain": [
       "'num_processed: 2374/20845'"
      ]
     },
     "metadata": {},
     "output_type": "display_data"
    },
    {
     "name": "stdout",
     "output_type": "stream",
     "text": [
      "49d8de6a69d5243072b8855b_67671fa89e6adc6e648d0f61_85d1971c96827852ec52a84a\n"
     ]
    },
    {
     "data": {
      "text/plain": [
       "'num_processed: 2375/20845'"
      ]
     },
     "metadata": {},
     "output_type": "display_data"
    },
    {
     "name": "stdout",
     "output_type": "stream",
     "text": [
      "35ca662beb42081a58e998f7_5e8e97240e565cbac5bcdb0c_747cbcffa804943526b6113e\n"
     ]
    },
    {
     "data": {
      "text/plain": [
       "'num_processed: 2376/20845'"
      ]
     },
     "metadata": {},
     "output_type": "display_data"
    },
    {
     "name": "stdout",
     "output_type": "stream",
     "text": [
      "6548352ad977cbee6823483d_eece8062b51797beb41d5f2d_8a05132d7996954a3e3c6d64\n"
     ]
    },
    {
     "data": {
      "text/plain": [
       "'num_processed: 2377/20845'"
      ]
     },
     "metadata": {},
     "output_type": "display_data"
    },
    {
     "name": "stdout",
     "output_type": "stream",
     "text": [
      "aed63d54a0bf3b1727ea8beb_c2cccd673cca2f66b5d11883_e773164cdffca8764437c955\n"
     ]
    },
    {
     "data": {
      "text/plain": [
       "'num_processed: 2378/20845'"
      ]
     },
     "metadata": {},
     "output_type": "display_data"
    },
    {
     "name": "stdout",
     "output_type": "stream",
     "text": [
      "ddd0f103cf38007cc5317fc3_a7599882191711d52f0d6fc9_fdb58d4befdcc8832df52da0\n"
     ]
    },
    {
     "data": {
      "text/plain": [
       "'num_processed: 2379/20845'"
      ]
     },
     "metadata": {},
     "output_type": "display_data"
    },
    {
     "name": "stdout",
     "output_type": "stream",
     "text": [
      "b8d32f2dd132cf1be2a80a65_d3e34fc25bff58ccb3845307_5a7ec8f91a35d3272abace5e\n"
     ]
    },
    {
     "data": {
      "text/plain": [
       "'num_processed: 2380/20845'"
      ]
     },
     "metadata": {},
     "output_type": "display_data"
    },
    {
     "name": "stdout",
     "output_type": "stream",
     "text": [
      "ef19a0baddbe33ee5a18bf08_c594192d55129398f0f7168b_3bf7c83e896f035270fff640\n"
     ]
    },
    {
     "data": {
      "text/plain": [
       "'num_processed: 2381/20845'"
      ]
     },
     "metadata": {},
     "output_type": "display_data"
    },
    {
     "name": "stdout",
     "output_type": "stream",
     "text": [
      "ecc70650d9e2fe0dbf41c61e_c4054f734761b2e7a3944f0c_7b533896100cbe7989020245\n"
     ]
    },
    {
     "data": {
      "text/plain": [
       "'num_processed: 2382/20845'"
      ]
     },
     "metadata": {},
     "output_type": "display_data"
    },
    {
     "name": "stdout",
     "output_type": "stream",
     "text": [
      "3b64963552b118fbe6d9295c_4c4801c4d495cf2887df8a3b_b0c5aaabf7898292459db199\n"
     ]
    },
    {
     "data": {
      "text/plain": [
       "'num_processed: 2383/20845'"
      ]
     },
     "metadata": {},
     "output_type": "display_data"
    },
    {
     "name": "stdout",
     "output_type": "stream",
     "text": [
      "492bc6b7b766678c78dd6ddd_723272ec13f57a645ae2f79c_c52854e1ef345cafc83e0f37\n"
     ]
    },
    {
     "data": {
      "text/plain": [
       "'num_processed: 2384/20845'"
      ]
     },
     "metadata": {},
     "output_type": "display_data"
    },
    {
     "name": "stdout",
     "output_type": "stream",
     "text": [
      "e58fd6be31506f1e17ac6b2a_2ad2d828a143e1626a5a25b7_1037cbda2e47da08842113a7\n"
     ]
    },
    {
     "data": {
      "text/plain": [
       "'num_processed: 2385/20845'"
      ]
     },
     "metadata": {},
     "output_type": "display_data"
    },
    {
     "name": "stdout",
     "output_type": "stream",
     "text": [
      "57dfb6e2760fd110cb6e2ba6_16380d0e693a034ae7461d3a_a19b1d7a8c97b0f492c2082a\n"
     ]
    },
    {
     "data": {
      "text/plain": [
       "'num_processed: 2386/20845'"
      ]
     },
     "metadata": {},
     "output_type": "display_data"
    },
    {
     "name": "stdout",
     "output_type": "stream",
     "text": [
      "a6eed3e607289db22ac1a4f2_e45dc55e0e2bd51955cf4594_1c94ee52bb1bf7a29f2d6392\n"
     ]
    },
    {
     "data": {
      "text/plain": [
       "'num_processed: 2387/20845'"
      ]
     },
     "metadata": {},
     "output_type": "display_data"
    },
    {
     "name": "stdout",
     "output_type": "stream",
     "text": [
      "3088ae3420b779aa41f619f1_9c6ee9d7f47755c9c167198c_cbf5c7df486eaae928f4039c\n"
     ]
    },
    {
     "data": {
      "text/plain": [
       "'num_processed: 2388/20845'"
      ]
     },
     "metadata": {},
     "output_type": "display_data"
    },
    {
     "name": "stdout",
     "output_type": "stream",
     "text": [
      "26e9c30878763a318ed7442b_9a4443d4fbfa8ff6428a7f5f_7e330b9532a8174774d650cf\n"
     ]
    },
    {
     "data": {
      "text/plain": [
       "'num_processed: 2389/20845'"
      ]
     },
     "metadata": {},
     "output_type": "display_data"
    },
    {
     "name": "stdout",
     "output_type": "stream",
     "text": [
      "a998974d5c696f427fff3212_52c6c5c7de74e271501bb6b7_e053638f854e5924e6507b5d\n"
     ]
    },
    {
     "data": {
      "text/plain": [
       "'num_processed: 2390/20845'"
      ]
     },
     "metadata": {},
     "output_type": "display_data"
    },
    {
     "name": "stdout",
     "output_type": "stream",
     "text": [
      "8c329840154cf933b9bec46e_5481b0590fa5d1fc41b02199_9776117c43127ca15b3352ab\n"
     ]
    },
    {
     "data": {
      "text/plain": [
       "'num_processed: 2391/20845'"
      ]
     },
     "metadata": {},
     "output_type": "display_data"
    },
    {
     "name": "stdout",
     "output_type": "stream",
     "text": [
      "5839ed3ddf39c110362f2065_b272b6bbc921d84b3483a394_7457e298e6a5add205ecbf72\n"
     ]
    },
    {
     "data": {
      "text/plain": [
       "'num_processed: 2392/20845'"
      ]
     },
     "metadata": {},
     "output_type": "display_data"
    },
    {
     "name": "stdout",
     "output_type": "stream",
     "text": [
      "d30d408c9e38cda69f57596c_8b35bf4bd979f3b93265c67e_f2e8ef90419168f64344e76e\n"
     ]
    },
    {
     "data": {
      "text/plain": [
       "'num_processed: 2393/20845'"
      ]
     },
     "metadata": {},
     "output_type": "display_data"
    },
    {
     "name": "stdout",
     "output_type": "stream",
     "text": [
      "c9f4b447eeb85ec79fff1658_7f9dbb59b133cac6ec68172e_7f7d53b0d380724f28704a2b\n"
     ]
    },
    {
     "data": {
      "text/plain": [
       "'num_processed: 2394/20845'"
      ]
     },
     "metadata": {},
     "output_type": "display_data"
    },
    {
     "name": "stdout",
     "output_type": "stream",
     "text": [
      "42afe4945be6161ba406758f_dd6ebe2deab0619ed951adb3_95dd95c29962d40d304b8ec3\n"
     ]
    },
    {
     "data": {
      "text/plain": [
       "'num_processed: 2395/20845'"
      ]
     },
     "metadata": {},
     "output_type": "display_data"
    },
    {
     "name": "stdout",
     "output_type": "stream",
     "text": [
      "8fbfdeef72bacd62c833554f_007d8069bbff9c28b47c3f90_e34d84fdc1b1a464e4d4887a\n"
     ]
    },
    {
     "data": {
      "text/plain": [
       "'num_processed: 2396/20845'"
      ]
     },
     "metadata": {},
     "output_type": "display_data"
    },
    {
     "name": "stdout",
     "output_type": "stream",
     "text": [
      "9671b54552dd3d29a5384ff0_c5ec0f409ad0bb24c861eee6_04afd76634265a8d76933016\n"
     ]
    },
    {
     "data": {
      "text/plain": [
       "'num_processed: 2397/20845'"
      ]
     },
     "metadata": {},
     "output_type": "display_data"
    },
    {
     "name": "stdout",
     "output_type": "stream",
     "text": [
      "d5c4433cb00f31c2ffd016f3_e30068eb17bf2de0ecb6d411_094915ca0cd3d5eec547a10d\n"
     ]
    },
    {
     "data": {
      "text/plain": [
       "'num_processed: 2398/20845'"
      ]
     },
     "metadata": {},
     "output_type": "display_data"
    },
    {
     "name": "stdout",
     "output_type": "stream",
     "text": [
      "cecbcf633e0fbcc5ab28f3d5_9675c21d0a4621673d41ea21_69709979b52dfbcc10d32956\n"
     ]
    },
    {
     "data": {
      "text/plain": [
       "'num_processed: 2399/20845'"
      ]
     },
     "metadata": {},
     "output_type": "display_data"
    },
    {
     "name": "stdout",
     "output_type": "stream",
     "text": [
      "d13c993ec3b2bb5480cafa0a_8fd76331a28fb3c8cac8d880_d65b58956ed8e19a6389d712\n"
     ]
    },
    {
     "data": {
      "text/plain": [
       "'num_processed: 2400/20845'"
      ]
     },
     "metadata": {},
     "output_type": "display_data"
    },
    {
     "name": "stdout",
     "output_type": "stream",
     "text": [
      "8c839edd9185991d38200d46_415296b0ba8f915e37b46d97_d29a0aec022dfe47c26e7c46\n"
     ]
    },
    {
     "data": {
      "text/plain": [
       "'num_processed: 2401/20845'"
      ]
     },
     "metadata": {},
     "output_type": "display_data"
    },
    {
     "name": "stdout",
     "output_type": "stream",
     "text": [
      "c492cc9d43ba3b6e481f79a2_6cd3728e1ce3d49b5800ed93_25e09323dab1ad9ed5cbbd82\n"
     ]
    },
    {
     "data": {
      "text/plain": [
       "'num_processed: 2402/20845'"
      ]
     },
     "metadata": {},
     "output_type": "display_data"
    },
    {
     "name": "stdout",
     "output_type": "stream",
     "text": [
      "0ebfe7d73fc9e71ee0892e40_eda7374e5a342c36aadbd007_f6e285f9d9d9729fdfe1cc8c\n"
     ]
    },
    {
     "data": {
      "text/plain": [
       "'num_processed: 2403/20845'"
      ]
     },
     "metadata": {},
     "output_type": "display_data"
    },
    {
     "name": "stdout",
     "output_type": "stream",
     "text": [
      "e9f9b7bca26ae58f12a7ef84_3e498a47f00c25a56e13f67f_4a65629655696fb17314bc68\n"
     ]
    },
    {
     "data": {
      "text/plain": [
       "'num_processed: 2404/20845'"
      ]
     },
     "metadata": {},
     "output_type": "display_data"
    },
    {
     "name": "stdout",
     "output_type": "stream",
     "text": [
      "22882ee8eafb8624865e7394_c0a819c4868378fa1c27b903_8eb4ae35624ca0a8ea5a505d\n"
     ]
    },
    {
     "data": {
      "text/plain": [
       "'num_processed: 2405/20845'"
      ]
     },
     "metadata": {},
     "output_type": "display_data"
    },
    {
     "name": "stdout",
     "output_type": "stream",
     "text": [
      "8067551e395423ee56f9f2a0_6affb0b65c8c8388239d771b_c6160388ff1d37317da38f27\n"
     ]
    },
    {
     "data": {
      "text/plain": [
       "'num_processed: 2406/20845'"
      ]
     },
     "metadata": {},
     "output_type": "display_data"
    },
    {
     "name": "stdout",
     "output_type": "stream",
     "text": [
      "d77c0bd71fb493e5d8398464_ffff5dd83f90a12fe9cf8336_1f93a66efa08b4c531f15be4\n"
     ]
    },
    {
     "data": {
      "text/plain": [
       "'num_processed: 2407/20845'"
      ]
     },
     "metadata": {},
     "output_type": "display_data"
    },
    {
     "name": "stdout",
     "output_type": "stream",
     "text": [
      "5be9cc38a6357b9efed243ed_214e92108ccd33bfd6cfbfd1_d044a095d0316284b89aacd2\n"
     ]
    },
    {
     "data": {
      "text/plain": [
       "'num_processed: 2408/20845'"
      ]
     },
     "metadata": {},
     "output_type": "display_data"
    },
    {
     "name": "stdout",
     "output_type": "stream",
     "text": [
      "86fd243dea506bb6266c835e_fc1aafa109cce556b9f40be2_6724dc98358fb6d95f5f4845\n"
     ]
    },
    {
     "data": {
      "text/plain": [
       "'num_processed: 2409/20845'"
      ]
     },
     "metadata": {},
     "output_type": "display_data"
    },
    {
     "name": "stdout",
     "output_type": "stream",
     "text": [
      "5060e1ed95ca3f3facf77649_a8327d357330bd5dd634e99a_3b42f0f51146679e999798ec\n"
     ]
    },
    {
     "data": {
      "text/plain": [
       "'num_processed: 2410/20845'"
      ]
     },
     "metadata": {},
     "output_type": "display_data"
    },
    {
     "name": "stdout",
     "output_type": "stream",
     "text": [
      "50dfc8ffdcf498869442fc03_b894b7123ff9d26de8a2727f_16de887b52ba279ea443d6b8\n"
     ]
    },
    {
     "data": {
      "text/plain": [
       "'num_processed: 2411/20845'"
      ]
     },
     "metadata": {},
     "output_type": "display_data"
    },
    {
     "name": "stdout",
     "output_type": "stream",
     "text": [
      "aba5fe6fb2f1dc6228557225_b469c78a5be67ef884d0ddab_687da5feb5f0c32f8a150ee4\n"
     ]
    },
    {
     "data": {
      "text/plain": [
       "'num_processed: 2412/20845'"
      ]
     },
     "metadata": {},
     "output_type": "display_data"
    },
    {
     "name": "stdout",
     "output_type": "stream",
     "text": [
      "e751b92994300e7e4593d17a_1eb3d16641af82963f7ba89a_1bf35bbea26d08ee320028fc\n"
     ]
    },
    {
     "data": {
      "text/plain": [
       "'num_processed: 2413/20845'"
      ]
     },
     "metadata": {},
     "output_type": "display_data"
    },
    {
     "name": "stdout",
     "output_type": "stream",
     "text": [
      "5da49d2b93934eff6b9c9f76_f19b87868d0681766f595ae7_223b45061fbad59c3e07b847\n"
     ]
    },
    {
     "data": {
      "text/plain": [
       "'num_processed: 2414/20845'"
      ]
     },
     "metadata": {},
     "output_type": "display_data"
    },
    {
     "name": "stdout",
     "output_type": "stream",
     "text": [
      "57911f42e4b02dc672bd41d6_5e2898db2851c68750c0713d_996afc1c18cf017fff7d57e5\n"
     ]
    },
    {
     "data": {
      "text/plain": [
       "'num_processed: 2415/20845'"
      ]
     },
     "metadata": {},
     "output_type": "display_data"
    },
    {
     "name": "stdout",
     "output_type": "stream",
     "text": [
      "082d7e00b67a17f54482c3bb_c2a1697f16fc1dfa9efec791_eabb1de14d3801e49adbbefe\n"
     ]
    },
    {
     "data": {
      "text/plain": [
       "'num_processed: 2416/20845'"
      ]
     },
     "metadata": {},
     "output_type": "display_data"
    },
    {
     "name": "stdout",
     "output_type": "stream",
     "text": [
      "58ddf38059c74c0feef5e278_6a10f708421103e891a4252f_9a43228f6f4aa4382902ec77\n"
     ]
    },
    {
     "data": {
      "text/plain": [
       "'num_processed: 2417/20845'"
      ]
     },
     "metadata": {},
     "output_type": "display_data"
    },
    {
     "name": "stdout",
     "output_type": "stream",
     "text": [
      "3e85b9bae956ce1c07d892d2_5aa9790c42b95ee50fe45fc2_9f3fdb5e72ebdf603c9eaf5d\n",
      "EROR IN process_axial - PK_SURF_ask_uvboxEROR IN process_axial - PK_SURF_ask_uvboxEROR IN process_axial - PK_SURF_ask_uvboxERROR TRASFORMING!\n"
     ]
    },
    {
     "data": {
      "text/plain": [
       "'num_processed: 2418/20845'"
      ]
     },
     "metadata": {},
     "output_type": "display_data"
    },
    {
     "name": "stdout",
     "output_type": "stream",
     "text": [
      "1092089a6a0390faef9e22fa_9f7c0256ab671b658d8666c9_d8e1eb710eacc8e2c923ed67\n"
     ]
    },
    {
     "data": {
      "text/plain": [
       "'num_processed: 2419/20845'"
      ]
     },
     "metadata": {},
     "output_type": "display_data"
    },
    {
     "name": "stdout",
     "output_type": "stream",
     "text": [
      "46877a9bc28c9a443f188508_73d7675e0f18d3471942084c_229a0622927cc182ac7561d6\n"
     ]
    },
    {
     "data": {
      "text/plain": [
       "'num_processed: 2420/20845'"
      ]
     },
     "metadata": {},
     "output_type": "display_data"
    },
    {
     "name": "stdout",
     "output_type": "stream",
     "text": [
      "345d8393d95bca7da2f86f0c_919951e34ee11557ba0e0cbf_e09a41219ea13f3abd4d9703\n"
     ]
    },
    {
     "data": {
      "text/plain": [
       "'num_processed: 2421/20845'"
      ]
     },
     "metadata": {},
     "output_type": "display_data"
    },
    {
     "name": "stdout",
     "output_type": "stream",
     "text": [
      "58d3140e9922250f8666655c_d808bce5710fd38369bff5ae_dafe5bfadb079d7c538593e2\n"
     ]
    },
    {
     "data": {
      "text/plain": [
       "'num_processed: 2422/20845'"
      ]
     },
     "metadata": {},
     "output_type": "display_data"
    },
    {
     "name": "stdout",
     "output_type": "stream",
     "text": [
      "58558a77f2c38c1059fc26ad_797f7310804954f00235a563_222025e563c8982e50a4d22e\n"
     ]
    },
    {
     "data": {
      "text/plain": [
       "'num_processed: 2423/20845'"
      ]
     },
     "metadata": {},
     "output_type": "display_data"
    },
    {
     "name": "stdout",
     "output_type": "stream",
     "text": [
      "d8a0a50b9652b83ef0dbd6fe_7d551472044769f95d6b63a3_53e55d7d3e89cbc44ade61ad\n"
     ]
    },
    {
     "data": {
      "text/plain": [
       "'num_processed: 2424/20845'"
      ]
     },
     "metadata": {},
     "output_type": "display_data"
    },
    {
     "name": "stdout",
     "output_type": "stream",
     "text": [
      "58121b3f66ec9a10683c1b2e_1967b306ab26aaa9d6c64d5e_bff9a9bdef12587252446b33\n",
      "EROR IN process_axial - PK_SURF_ask_uvboxERROR TRASFORMING!\n"
     ]
    },
    {
     "data": {
      "text/plain": [
       "'num_processed: 2425/20845'"
      ]
     },
     "metadata": {},
     "output_type": "display_data"
    },
    {
     "name": "stdout",
     "output_type": "stream",
     "text": [
      "37d701cd5a4c44df3ced48a6_6f7eb1cc548cb2aa81324412_3422776a0aa86a0605817b4e\n",
      "ERROR TRASFORMING!\n"
     ]
    },
    {
     "data": {
      "text/plain": [
       "'num_processed: 2426/20845'"
      ]
     },
     "metadata": {},
     "output_type": "display_data"
    },
    {
     "name": "stdout",
     "output_type": "stream",
     "text": [
      "ee12d3fc28c182e578f99206_cf57aac25b8456416c1e81c2_4a4a3cec5b4adec941598c80\n"
     ]
    },
    {
     "data": {
      "text/plain": [
       "'num_processed: 2427/20845'"
      ]
     },
     "metadata": {},
     "output_type": "display_data"
    },
    {
     "name": "stdout",
     "output_type": "stream",
     "text": [
      "72f85b67c9125233803258a9_9849738553a927a237279cea_a1c9a57b8ce120b8a02885a5\n"
     ]
    },
    {
     "data": {
      "text/plain": [
       "'num_processed: 2428/20845'"
      ]
     },
     "metadata": {},
     "output_type": "display_data"
    },
    {
     "name": "stdout",
     "output_type": "stream",
     "text": [
      "daf07d0c40195430404b6113_560d6afbd034276235057d5c_4fda3b5c027f0903471eb061\n"
     ]
    },
    {
     "data": {
      "text/plain": [
       "'num_processed: 2429/20845'"
      ]
     },
     "metadata": {},
     "output_type": "display_data"
    },
    {
     "name": "stdout",
     "output_type": "stream",
     "text": [
      "d1584ead639928160d5df44e_061c6343b9f393d59ffa619b_57c934450a009ad3ba5476be\n"
     ]
    },
    {
     "data": {
      "text/plain": [
       "'num_processed: 2430/20845'"
      ]
     },
     "metadata": {},
     "output_type": "display_data"
    },
    {
     "name": "stdout",
     "output_type": "stream",
     "text": [
      "548eedea43d890625ca733e0_d0c67e74d5a1a0e71a7ba46f_658b9e7021ca2294efbbfbe5\n",
      "EROR IN process_axial - PK_SURF_ask_uvboxERROR TRASFORMING!\n"
     ]
    },
    {
     "data": {
      "text/plain": [
       "'num_processed: 2431/20845'"
      ]
     },
     "metadata": {},
     "output_type": "display_data"
    },
    {
     "name": "stdout",
     "output_type": "stream",
     "text": [
      "7cbe62b87bb45e66f5301a6c_262387206986f8f5e0501593_5c7a78efe6670200b3287521\n"
     ]
    },
    {
     "data": {
      "text/plain": [
       "'num_processed: 2432/20845'"
      ]
     },
     "metadata": {},
     "output_type": "display_data"
    },
    {
     "name": "stdout",
     "output_type": "stream",
     "text": [
      "5853468b61623f104edf483b_55a3f22b2aaa9c925f67b5ac_ffcbe5584d02608c76b98ce4\n"
     ]
    },
    {
     "data": {
      "text/plain": [
       "'num_processed: 2433/20845'"
      ]
     },
     "metadata": {},
     "output_type": "display_data"
    },
    {
     "name": "stdout",
     "output_type": "stream",
     "text": [
      "ff4bc53724068326fc1b4b27_7c2e91810f26aca6d5b7488b_26a3eb14cf02857a35633217\n"
     ]
    },
    {
     "data": {
      "text/plain": [
       "'num_processed: 2434/20845'"
      ]
     },
     "metadata": {},
     "output_type": "display_data"
    },
    {
     "name": "stdout",
     "output_type": "stream",
     "text": [
      "3c077c1567efa610b5e0eea7_2da3061dba773617d3f3de26_e32e98264fa1734898c3b0a9\n",
      "EROR IN process_axial - PK_SURF_ask_uvboxERROR TRASFORMING!\n",
      "ERROR TRASFORMING!\n",
      "ERROR TRASFORMING!\n",
      "ERROR TRASFORMING!\n",
      "ERROR TRASFORMING!\n",
      "ERROR TRASFORMING!\n"
     ]
    },
    {
     "data": {
      "text/plain": [
       "'num_processed: 2435/20845'"
      ]
     },
     "metadata": {},
     "output_type": "display_data"
    },
    {
     "name": "stdout",
     "output_type": "stream",
     "text": [
      "126d0f007cc0ace0f30b5849_54da3e23e77e352120d72709_06aa7cbf3899ccb5e24be364\n"
     ]
    },
    {
     "data": {
      "text/plain": [
       "'num_processed: 2436/20845'"
      ]
     },
     "metadata": {},
     "output_type": "display_data"
    },
    {
     "name": "stdout",
     "output_type": "stream",
     "text": [
      "58cc52223db3a90f77df4e59_e0c8372b0e86a728799a96a5_98e4197c16497561b8267791\n"
     ]
    },
    {
     "data": {
      "text/plain": [
       "'num_processed: 2437/20845'"
      ]
     },
     "metadata": {},
     "output_type": "display_data"
    },
    {
     "name": "stdout",
     "output_type": "stream",
     "text": [
      "51301a81d720ef48ab242ad5_33ae15e1b1f3b10dda04b7a0_c42a859881875da48fe4b237\n"
     ]
    },
    {
     "data": {
      "text/plain": [
       "'num_processed: 2438/20845'"
      ]
     },
     "metadata": {},
     "output_type": "display_data"
    },
    {
     "name": "stdout",
     "output_type": "stream",
     "text": [
      "7f5f8d99c3a2d9465f7fce0a_94100da6d7ed84713b77893f_2e3e60c8362e1bc28ec7ef35\n"
     ]
    },
    {
     "data": {
      "text/plain": [
       "'num_processed: 2439/20845'"
      ]
     },
     "metadata": {},
     "output_type": "display_data"
    },
    {
     "name": "stdout",
     "output_type": "stream",
     "text": [
      "128810ba4973ae10e26683ab_a934397a0cce037bbfb5d053_bc32967d4378482ccade5e71\n"
     ]
    },
    {
     "data": {
      "text/plain": [
       "'num_processed: 2440/20845'"
      ]
     },
     "metadata": {},
     "output_type": "display_data"
    },
    {
     "name": "stdout",
     "output_type": "stream",
     "text": [
      "5387ccf8bcdcd37b0de4465a_01b875089f98d7178013a924_62e4dbab94873e78a52cc5a8\n"
     ]
    },
    {
     "data": {
      "text/plain": [
       "'num_processed: 2441/20845'"
      ]
     },
     "metadata": {},
     "output_type": "display_data"
    },
    {
     "name": "stdout",
     "output_type": "stream",
     "text": [
      "a7823467a8744b6a00800df1_eb9600d2939b4d97191c101d_e98063c3db7d708aed3138df\n",
      "ERROR TRASFORMING!\n",
      "ERROR TRASFORMING!\n"
     ]
    },
    {
     "data": {
      "text/plain": [
       "'num_processed: 2442/20845'"
      ]
     },
     "metadata": {},
     "output_type": "display_data"
    },
    {
     "name": "stdout",
     "output_type": "stream",
     "text": [
      "58630cc6050eb710d5c2c798_d1ccda970fc11902fa29087b_c0b1dff018b7cb40d0aa1e77\n"
     ]
    },
    {
     "data": {
      "text/plain": [
       "'num_processed: 2443/20845'"
      ]
     },
     "metadata": {},
     "output_type": "display_data"
    },
    {
     "name": "stdout",
     "output_type": "stream",
     "text": [
      "d1435f290e111066f63318fe_77ef6e0d9610bbb1495d9e47_e0416faa81db74325f469d5b\n"
     ]
    },
    {
     "data": {
      "text/plain": [
       "'num_processed: 2444/20845'"
      ]
     },
     "metadata": {},
     "output_type": "display_data"
    },
    {
     "name": "stdout",
     "output_type": "stream",
     "text": [
      "004da3c0fd28874b158e1632_723d20eb3fde54fc98f2c9e0_f369647feb7b3f7c1a477e21\n"
     ]
    },
    {
     "data": {
      "text/plain": [
       "'num_processed: 2445/20845'"
      ]
     },
     "metadata": {},
     "output_type": "display_data"
    },
    {
     "name": "stdout",
     "output_type": "stream",
     "text": [
      "58bf7c06acb579101e76c754_d1e0986b8a127af8dddb5035_90730d9e27a1925aa0494610\n"
     ]
    },
    {
     "data": {
      "text/plain": [
       "'num_processed: 2446/20845'"
      ]
     },
     "metadata": {},
     "output_type": "display_data"
    },
    {
     "name": "stdout",
     "output_type": "stream",
     "text": [
      "127fa24a9a0574b8d321af37_6b173ce79bbac15b7213cec5_bc5f8a4c988fee70ebb3a7dd\n"
     ]
    },
    {
     "data": {
      "text/plain": [
       "'num_processed: 2447/20845'"
      ]
     },
     "metadata": {},
     "output_type": "display_data"
    },
    {
     "name": "stdout",
     "output_type": "stream",
     "text": [
      "17230c8dc727ff5a9be64895_feed2537673f7f146aad0fb0_a4360a706b33a91c8f8598f3\n"
     ]
    },
    {
     "data": {
      "text/plain": [
       "'num_processed: 2448/20845'"
      ]
     },
     "metadata": {},
     "output_type": "display_data"
    },
    {
     "name": "stdout",
     "output_type": "stream",
     "text": [
      "7bff5a7183729e838186245e_dcca1d9e3af07c23d654a91d_267fbbfc48ab3a02b855f133\n"
     ]
    },
    {
     "data": {
      "text/plain": [
       "'num_processed: 2449/20845'"
      ]
     },
     "metadata": {},
     "output_type": "display_data"
    },
    {
     "name": "stdout",
     "output_type": "stream",
     "text": [
      "06a86080b866ce501744db82_d4410a1aba31e32f70062c44_147a06c8cad3bd7cc857b1b4\n"
     ]
    },
    {
     "data": {
      "text/plain": [
       "'num_processed: 2450/20845'"
      ]
     },
     "metadata": {},
     "output_type": "display_data"
    },
    {
     "name": "stdout",
     "output_type": "stream",
     "text": [
      "5e4adde6fdcac746ef98c24f_73b66191660e4c6a566d7350_97ea2defa017f86d6fd47f8f\n"
     ]
    },
    {
     "data": {
      "text/plain": [
       "'num_processed: 2451/20845'"
      ]
     },
     "metadata": {},
     "output_type": "display_data"
    },
    {
     "name": "stdout",
     "output_type": "stream",
     "text": [
      "253b9db9a889c0697372c5a3_596d9bb6a46cc571acdde39d_5c764e8e807d5c656ced59d0\n"
     ]
    },
    {
     "data": {
      "text/plain": [
       "'num_processed: 2452/20845'"
      ]
     },
     "metadata": {},
     "output_type": "display_data"
    },
    {
     "name": "stdout",
     "output_type": "stream",
     "text": [
      "b89613663c9c807506651936_6d1c0c604a3fcc2dc1fbac1a_7c56f32b9d39a2766581dabe\n"
     ]
    },
    {
     "data": {
      "text/plain": [
       "'num_processed: 2453/20845'"
      ]
     },
     "metadata": {},
     "output_type": "display_data"
    },
    {
     "name": "stdout",
     "output_type": "stream",
     "text": [
      "9ee74be84dce4b9a53a56be8_8e233130fbb407c0a48b1e4b_b495d23d3d06190977a5ca53\n"
     ]
    },
    {
     "data": {
      "text/plain": [
       "'num_processed: 2454/20845'"
      ]
     },
     "metadata": {},
     "output_type": "display_data"
    },
    {
     "name": "stdout",
     "output_type": "stream",
     "text": [
      "199aa004f1c99484671e0e3d_78deaeac546b4143aeb5da79_1793423eaafef1ba99bf606d\n"
     ]
    },
    {
     "data": {
      "text/plain": [
       "'num_processed: 2455/20845'"
      ]
     },
     "metadata": {},
     "output_type": "display_data"
    },
    {
     "name": "stdout",
     "output_type": "stream",
     "text": [
      "77d9750e85a2a816764288b2_b9b2c17c02bd87df3b5f8a8d_c444d888d3f45543c287459b\n",
      "ERROR TRASFORMING!\n",
      "ERROR TRASFORMING!\n"
     ]
    },
    {
     "data": {
      "text/plain": [
       "'num_processed: 2456/20845'"
      ]
     },
     "metadata": {},
     "output_type": "display_data"
    },
    {
     "name": "stdout",
     "output_type": "stream",
     "text": [
      "96d22c6687ae66670d42e707_5eaddb5cd2ed67bc4b16439a_a139fd182a082d818da58ea3\n"
     ]
    },
    {
     "data": {
      "text/plain": [
       "'num_processed: 2457/20845'"
      ]
     },
     "metadata": {},
     "output_type": "display_data"
    },
    {
     "name": "stdout",
     "output_type": "stream",
     "text": [
      "7a516579d3d7cfecb91c5dc0_58fa6a12178426d7a2889f80_241e5524d06e2fa9455be632\n"
     ]
    },
    {
     "data": {
      "text/plain": [
       "'num_processed: 2458/20845'"
      ]
     },
     "metadata": {},
     "output_type": "display_data"
    },
    {
     "name": "stdout",
     "output_type": "stream",
     "text": [
      "7d09c2a6713475a7a237ac4e_86fa3a728ba7e5e2c07bede5_db46e066a51521b9ba1903a9\n"
     ]
    },
    {
     "data": {
      "text/plain": [
       "'num_processed: 2459/20845'"
      ]
     },
     "metadata": {},
     "output_type": "display_data"
    },
    {
     "name": "stdout",
     "output_type": "stream",
     "text": [
      "879410461cdcf5170eb7edc1_0d61aff7faa3d7a371d56198_c89ed7796b048888fc2c6090\n"
     ]
    },
    {
     "data": {
      "text/plain": [
       "'num_processed: 2460/20845'"
      ]
     },
     "metadata": {},
     "output_type": "display_data"
    },
    {
     "name": "stdout",
     "output_type": "stream",
     "text": [
      "58d8a5365e8f8f14ffef492b_63d7aa4685a4bbd35f071ce7_80df7946d620f06bf03e3d7f\n"
     ]
    },
    {
     "data": {
      "text/plain": [
       "'num_processed: 2461/20845'"
      ]
     },
     "metadata": {},
     "output_type": "display_data"
    },
    {
     "name": "stdout",
     "output_type": "stream",
     "text": [
      "1cb641a27f352fe58866db0b_135177ed559f6068d8c46cea_231da2373fc9aa5df33f4f2f\n"
     ]
    },
    {
     "data": {
      "text/plain": [
       "'num_processed: 2462/20845'"
      ]
     },
     "metadata": {},
     "output_type": "display_data"
    },
    {
     "name": "stdout",
     "output_type": "stream",
     "text": [
      "a724da3fcb1646e92266b3b8_30ff9143018fb77dae5899ea_a77e84f3c32a708ba29bef41\n"
     ]
    },
    {
     "data": {
      "text/plain": [
       "'num_processed: 2463/20845'"
      ]
     },
     "metadata": {},
     "output_type": "display_data"
    },
    {
     "name": "stdout",
     "output_type": "stream",
     "text": [
      "d20159f42a97c0844e4fa306_63223fabbea8b1cc73ce1610_215f1ffbe71589150440ce6a\n"
     ]
    },
    {
     "data": {
      "text/plain": [
       "'num_processed: 2464/20845'"
      ]
     },
     "metadata": {},
     "output_type": "display_data"
    },
    {
     "name": "stdout",
     "output_type": "stream",
     "text": [
      "e8e384677a7cf6b68befe6eb_065fd2104227ab2d710698f9_25e85c350e17c14f8991d62f\n"
     ]
    },
    {
     "data": {
      "text/plain": [
       "'num_processed: 2465/20845'"
      ]
     },
     "metadata": {},
     "output_type": "display_data"
    },
    {
     "name": "stdout",
     "output_type": "stream",
     "text": [
      "7c2e2249ce60ee9d4f9afaa8_a02be9a024b29bf6c28a866f_2c3a621e4cefc99700626dd8\n",
      "ERROR TRASFORMING!\n",
      "ERROR TRASFORMING!\n",
      "ERROR TRASFORMING!\n"
     ]
    },
    {
     "data": {
      "text/plain": [
       "'num_processed: 2466/20845'"
      ]
     },
     "metadata": {},
     "output_type": "display_data"
    },
    {
     "name": "stdout",
     "output_type": "stream",
     "text": [
      "242f3b6b92e8cd80e5f295f5_b06a59fd7d7bd57538f51870_fc35d9a68ad970afc92e444c\n"
     ]
    },
    {
     "data": {
      "text/plain": [
       "'num_processed: 2467/20845'"
      ]
     },
     "metadata": {},
     "output_type": "display_data"
    },
    {
     "name": "stdout",
     "output_type": "stream",
     "text": [
      "5774c9e2e4b0199757aebff8_927d8f8215b882e46c53c789_e26252071be17e3f4b37acef\n"
     ]
    },
    {
     "data": {
      "text/plain": [
       "'num_processed: 2468/20845'"
      ]
     },
     "metadata": {},
     "output_type": "display_data"
    },
    {
     "name": "stdout",
     "output_type": "stream",
     "text": [
      "c04fd2c493661431cc55b374_bc9b0222dadd8f30d706dcdd_282b2ca377f93712474f3175\n"
     ]
    },
    {
     "data": {
      "text/plain": [
       "'num_processed: 2469/20845'"
      ]
     },
     "metadata": {},
     "output_type": "display_data"
    },
    {
     "name": "stdout",
     "output_type": "stream",
     "text": [
      "655a7dc2c939cf361c5859a1_63bbcfed73af91369e21ed45_148d95c79550c8c0631a648b\n"
     ]
    },
    {
     "data": {
      "text/plain": [
       "'num_processed: 2470/20845'"
      ]
     },
     "metadata": {},
     "output_type": "display_data"
    },
    {
     "name": "stdout",
     "output_type": "stream",
     "text": [
      "58e72c51de45df0feaba36e2_18724d81b44a1259282c2620_646131c872b2a53031f9dbdb\n"
     ]
    },
    {
     "data": {
      "text/plain": [
       "'num_processed: 2471/20845'"
      ]
     },
     "metadata": {},
     "output_type": "display_data"
    },
    {
     "name": "stdout",
     "output_type": "stream",
     "text": [
      "a8ab8ea6a7c7f7ea261b931e_dc305f0dba0f85fe4c1a1258_f24879e54b328973615af8a3\n"
     ]
    },
    {
     "data": {
      "text/plain": [
       "'num_processed: 2472/20845'"
      ]
     },
     "metadata": {},
     "output_type": "display_data"
    },
    {
     "name": "stdout",
     "output_type": "stream",
     "text": [
      "dafcdfecda4278865b74b04d_9d29fd94d036c680b805e265_4c1fd3e0ee9d5aca8c690264\n"
     ]
    },
    {
     "data": {
      "text/plain": [
       "'num_processed: 2473/20845'"
      ]
     },
     "metadata": {},
     "output_type": "display_data"
    },
    {
     "name": "stdout",
     "output_type": "stream",
     "text": [
      "74f6a0c86382adbc347288ae_b5844eb22a88c379fc5be08f_f881c518544e093a3263f979\n"
     ]
    },
    {
     "data": {
      "text/plain": [
       "'num_processed: 2474/20845'"
      ]
     },
     "metadata": {},
     "output_type": "display_data"
    },
    {
     "name": "stdout",
     "output_type": "stream",
     "text": [
      "07f49edd9d44e576095bfa9b_164c639ba039766bb91c6a27_306d63bed8078b7e7bb25363\n"
     ]
    },
    {
     "data": {
      "text/plain": [
       "'num_processed: 2475/20845'"
      ]
     },
     "metadata": {},
     "output_type": "display_data"
    },
    {
     "name": "stdout",
     "output_type": "stream",
     "text": [
      "5f9df7c543e822ab8c1fb15f_43d00fadcdb5808c37d1dd52_35cf12ae6ef5ae1365384481\n"
     ]
    },
    {
     "data": {
      "text/plain": [
       "'num_processed: 2476/20845'"
      ]
     },
     "metadata": {},
     "output_type": "display_data"
    },
    {
     "name": "stdout",
     "output_type": "stream",
     "text": [
      "d2afd2823f9503f4e94d4ca4_7bcfe5bd780dec4ed42a8290_cc2a7c1029772804c28769e0\n"
     ]
    },
    {
     "data": {
      "text/plain": [
       "'num_processed: 2477/20845'"
      ]
     },
     "metadata": {},
     "output_type": "display_data"
    },
    {
     "name": "stdout",
     "output_type": "stream",
     "text": [
      "588e1109a9a327a9a754e369_a2c4197fe751a3bd9e4632d7_f4643dbf145496fe2828990e\n"
     ]
    },
    {
     "data": {
      "text/plain": [
       "'num_processed: 2478/20845'"
      ]
     },
     "metadata": {},
     "output_type": "display_data"
    },
    {
     "name": "stdout",
     "output_type": "stream",
     "text": [
      "e2ea75a0ecb21c1d55623a4b_0acf9acc73afab7fccb5846c_a3650ccab87f82e1eeca8ea4\n"
     ]
    },
    {
     "data": {
      "text/plain": [
       "'num_processed: 2479/20845'"
      ]
     },
     "metadata": {},
     "output_type": "display_data"
    },
    {
     "name": "stdout",
     "output_type": "stream",
     "text": [
      "127cd80a8ba634ef84300d87_1b4574b77316b088a3c1ee22_099084cc9e793bb545e88b2d\n"
     ]
    },
    {
     "data": {
      "text/plain": [
       "'num_processed: 2480/20845'"
      ]
     },
     "metadata": {},
     "output_type": "display_data"
    },
    {
     "name": "stdout",
     "output_type": "stream",
     "text": [
      "b9c58ea6d97d7c09749b4d0e_6aba57e7e625e466355e0c9b_4affb480a8869f63369a73aa\n"
     ]
    },
    {
     "data": {
      "text/plain": [
       "'num_processed: 2481/20845'"
      ]
     },
     "metadata": {},
     "output_type": "display_data"
    },
    {
     "name": "stdout",
     "output_type": "stream",
     "text": [
      "42300a0a804874cbc1ae4827_9dbbdbd809b86bc1d701b8ca_8a3a9f7f16a5b2904c711866\n"
     ]
    },
    {
     "data": {
      "text/plain": [
       "'num_processed: 2482/20845'"
      ]
     },
     "metadata": {},
     "output_type": "display_data"
    },
    {
     "name": "stdout",
     "output_type": "stream",
     "text": [
      "03cf7581e25735e3d8f44a03_76a101ba9c99b284b7c89bb3_faf249f6f0ada24d880247db\n"
     ]
    },
    {
     "data": {
      "text/plain": [
       "'num_processed: 2483/20845'"
      ]
     },
     "metadata": {},
     "output_type": "display_data"
    },
    {
     "name": "stdout",
     "output_type": "stream",
     "text": [
      "605d76249195ab471101641e_47b384bb0179f60cda7595c0_e3da4772bc93b98836dbc8d8\n",
      "ERROR TRASFORMING!\n",
      "ERROR TRASFORMING!\n"
     ]
    },
    {
     "data": {
      "text/plain": [
       "'num_processed: 2484/20845'"
      ]
     },
     "metadata": {},
     "output_type": "display_data"
    },
    {
     "name": "stdout",
     "output_type": "stream",
     "text": [
      "0d6562f12d7d340bde878e97_3c5c4a3e340bc93af485f268_eb5a89c971d8e4181a77f465\n"
     ]
    },
    {
     "data": {
      "text/plain": [
       "'num_processed: 2485/20845'"
      ]
     },
     "metadata": {},
     "output_type": "display_data"
    },
    {
     "name": "stdout",
     "output_type": "stream",
     "text": [
      "799aa46e6e34c291b67c59f7_5b5046a130101c992a26d8e8_6526842dc03338009c2f1f88\n"
     ]
    },
    {
     "data": {
      "text/plain": [
       "'num_processed: 2486/20845'"
      ]
     },
     "metadata": {},
     "output_type": "display_data"
    },
    {
     "name": "stdout",
     "output_type": "stream",
     "text": [
      "9e79ecd6365fb11f89fced83_441d93632f514dbc3d66701d_18fa4836fb38f2e89cb05a7e\n",
      "ERROR TRASFORMING!\n",
      "ERROR TRASFORMING!\n",
      "ERROR TRASFORMING!\n"
     ]
    },
    {
     "data": {
      "text/plain": [
       "'num_processed: 2487/20845'"
      ]
     },
     "metadata": {},
     "output_type": "display_data"
    },
    {
     "name": "stdout",
     "output_type": "stream",
     "text": [
      "51ff27219597f0b14012abca_26905e37667874bf456c114d_f937efe084d8ce244b43c846\n"
     ]
    },
    {
     "data": {
      "text/plain": [
       "'num_processed: 2488/20845'"
      ]
     },
     "metadata": {},
     "output_type": "display_data"
    },
    {
     "name": "stdout",
     "output_type": "stream",
     "text": [
      "ba59ed019452f818b7724a8d_25b544ae71c123fb1afee11c_eee9c8757237a7e03de87fa4\n"
     ]
    },
    {
     "data": {
      "text/plain": [
       "'num_processed: 2489/20845'"
      ]
     },
     "metadata": {},
     "output_type": "display_data"
    },
    {
     "name": "stdout",
     "output_type": "stream",
     "text": [
      "231aab3d6afeb87830e38728_232f1c81243012c8e313d97e_32e18dfe686da8b81fda274c\n"
     ]
    },
    {
     "data": {
      "text/plain": [
       "'num_processed: 2490/20845'"
      ]
     },
     "metadata": {},
     "output_type": "display_data"
    },
    {
     "name": "stdout",
     "output_type": "stream",
     "text": [
      "cc8b71df89ca841f186588e4_a478fd2db5f19301f8a1f4e8_417a7f8927d5cf5f23a5a950\n"
     ]
    },
    {
     "data": {
      "text/plain": [
       "'num_processed: 2491/20845'"
      ]
     },
     "metadata": {},
     "output_type": "display_data"
    },
    {
     "name": "stdout",
     "output_type": "stream",
     "text": [
      "3178c09c2ae711be059d75e3_c002068adb0762ec5d47bb00_ea0bea9c212fcf319b7cd6c0\n"
     ]
    },
    {
     "data": {
      "text/plain": [
       "'num_processed: 2492/20845'"
      ]
     },
     "metadata": {},
     "output_type": "display_data"
    },
    {
     "name": "stdout",
     "output_type": "stream",
     "text": [
      "c1dc0a165793110cc19da6cf_9c0c053c6318ec5326c78a6f_6e6db15f98f5fcffc2d941cb\n"
     ]
    },
    {
     "data": {
      "text/plain": [
       "'num_processed: 2493/20845'"
      ]
     },
     "metadata": {},
     "output_type": "display_data"
    },
    {
     "name": "stdout",
     "output_type": "stream",
     "text": [
      "cb5e1c5c269d7d9a29440d73_7e7755c9e54f4db6eb3b9035_94c20349e2a4781f3eaace8b\n"
     ]
    },
    {
     "data": {
      "text/plain": [
       "'num_processed: 2494/20845'"
      ]
     },
     "metadata": {},
     "output_type": "display_data"
    },
    {
     "name": "stdout",
     "output_type": "stream",
     "text": [
      "2ede0bb2a6e3b189e1a4a54c_9f93b266bde8948491e5db49_458a92eb1d6cb21ffae12361\n"
     ]
    },
    {
     "data": {
      "text/plain": [
       "'num_processed: 2495/20845'"
      ]
     },
     "metadata": {},
     "output_type": "display_data"
    },
    {
     "name": "stdout",
     "output_type": "stream",
     "text": [
      "c5acc16cd6616882862f979c_699a2ec95e63978e43043b1e_9ed8131fbd2a3cfaebd69a4e\n"
     ]
    },
    {
     "data": {
      "text/plain": [
       "'num_processed: 2496/20845'"
      ]
     },
     "metadata": {},
     "output_type": "display_data"
    },
    {
     "name": "stdout",
     "output_type": "stream",
     "text": [
      "40af9a1206866c4dcebff040_44183878fb85519e4fdd2c71_0c1262d46d154ed239144d61\n"
     ]
    },
    {
     "data": {
      "text/plain": [
       "'num_processed: 2497/20845'"
      ]
     },
     "metadata": {},
     "output_type": "display_data"
    },
    {
     "name": "stdout",
     "output_type": "stream",
     "text": [
      "179fe4838bb1938b99f00431_8f9c0e17340ee9a0af288008_09d47929b3d5dc6fe799ae0c\n"
     ]
    },
    {
     "data": {
      "text/plain": [
       "'num_processed: 2498/20845'"
      ]
     },
     "metadata": {},
     "output_type": "display_data"
    },
    {
     "name": "stdout",
     "output_type": "stream",
     "text": [
      "57da03aefa73431158c5676e_7f925e4421c04b1fef5e3824_b75cbd39d57195e8eadacfd4\n"
     ]
    },
    {
     "data": {
      "text/plain": [
       "'num_processed: 2499/20845'"
      ]
     },
     "metadata": {},
     "output_type": "display_data"
    },
    {
     "name": "stdout",
     "output_type": "stream",
     "text": [
      "392cf1d58f30ed342f7e7a09_513b854e8c460b57f9f95c0a_8ff28e5e52aefa2b9326ee2f\n"
     ]
    },
    {
     "data": {
      "text/plain": [
       "'num_processed: 2500/20845'"
      ]
     },
     "metadata": {},
     "output_type": "display_data"
    },
    {
     "name": "stdout",
     "output_type": "stream",
     "text": [
      "270ad6680c92e68a015e5c63_7e258b19d9bac6a0356ee7b4_129462c4a026a6ba84e973c9\n"
     ]
    },
    {
     "data": {
      "text/plain": [
       "'num_processed: 2501/20845'"
      ]
     },
     "metadata": {},
     "output_type": "display_data"
    },
    {
     "name": "stdout",
     "output_type": "stream",
     "text": [
      "d78c361c5f1ccbecf0f8224d_53fa8aa20e4f8f73b9cc065f_4f9dbb2a6bbdf49b0a44e560\n"
     ]
    },
    {
     "data": {
      "text/plain": [
       "'num_processed: 2502/20845'"
      ]
     },
     "metadata": {},
     "output_type": "display_data"
    },
    {
     "name": "stdout",
     "output_type": "stream",
     "text": [
      "73d22f693256864733fdf934_6273b35c30051fc462519802_0fa503e3137e7ca0f95e023a\n"
     ]
    },
    {
     "data": {
      "text/plain": [
       "'num_processed: 2503/20845'"
      ]
     },
     "metadata": {},
     "output_type": "display_data"
    },
    {
     "name": "stdout",
     "output_type": "stream",
     "text": [
      "f153ac3de7a12b6e22334b20_6a39fd38c0c7f8138226cfbe_fba3baf72cae947f8327ee91\n"
     ]
    },
    {
     "data": {
      "text/plain": [
       "'num_processed: 2504/20845'"
      ]
     },
     "metadata": {},
     "output_type": "display_data"
    },
    {
     "name": "stdout",
     "output_type": "stream",
     "text": [
      "dc32a77718d58e3de9a5b5e4_8b5db861c360c424d4a5b76b_6d35ac4f2b8f9dd8d35e1490\n"
     ]
    },
    {
     "data": {
      "text/plain": [
       "'num_processed: 2505/20845'"
      ]
     },
     "metadata": {},
     "output_type": "display_data"
    },
    {
     "name": "stdout",
     "output_type": "stream",
     "text": [
      "19b11731468206a8033d4418_41e881509354899fc17dee02_679d673a7325d829cda625c7\n"
     ]
    },
    {
     "data": {
      "text/plain": [
       "'num_processed: 2506/20845'"
      ]
     },
     "metadata": {},
     "output_type": "display_data"
    },
    {
     "name": "stdout",
     "output_type": "stream",
     "text": [
      "58af2526f1160b0f8d7ba880_0bdedf050828f7fa9b0e82d8_11cbdbc100128e9c0022de8b\n"
     ]
    },
    {
     "data": {
      "text/plain": [
       "'num_processed: 2507/20845'"
      ]
     },
     "metadata": {},
     "output_type": "display_data"
    },
    {
     "name": "stdout",
     "output_type": "stream",
     "text": [
      "d98ee498e2d7c3ea0360e01f_6aa05a0385ad67fcba0cf5bf_8d9a89a0a4c388c2136cea87\n"
     ]
    },
    {
     "data": {
      "text/plain": [
       "'num_processed: 2508/20845'"
      ]
     },
     "metadata": {},
     "output_type": "display_data"
    },
    {
     "name": "stdout",
     "output_type": "stream",
     "text": [
      "81420609d4052b6385b86152_cd0ace3949391e9aaa4c16da_8275bf4a07828fa6eaaf4090\n"
     ]
    },
    {
     "data": {
      "text/plain": [
       "'num_processed: 2509/20845'"
      ]
     },
     "metadata": {},
     "output_type": "display_data"
    },
    {
     "name": "stdout",
     "output_type": "stream",
     "text": [
      "488c9c623311be0b3b785591_b6bb0aedbf48d16337aa4a11_a87e7db95074eb659646c995\n"
     ]
    },
    {
     "data": {
      "text/plain": [
       "'num_processed: 2510/20845'"
      ]
     },
     "metadata": {},
     "output_type": "display_data"
    },
    {
     "name": "stdout",
     "output_type": "stream",
     "text": [
      "30b09eefc75ed96075509bc4_8f8f00164ce9eced761ba832_c83001a2e32568e906d420dd\n"
     ]
    },
    {
     "data": {
      "text/plain": [
       "'num_processed: 2511/20845'"
      ]
     },
     "metadata": {},
     "output_type": "display_data"
    },
    {
     "name": "stdout",
     "output_type": "stream",
     "text": [
      "96a7918cb0bf25913d6295aa_0c91acdd231b02fa46ef253d_0631dfb6a6e4368a9169c4f4\n"
     ]
    },
    {
     "data": {
      "text/plain": [
       "'num_processed: 2512/20845'"
      ]
     },
     "metadata": {},
     "output_type": "display_data"
    },
    {
     "name": "stdout",
     "output_type": "stream",
     "text": [
      "a5cbc60344838f765117b9b1_b4bd1dfee523e19ba04d206f_99ebec65c181f040f8d5af48\n"
     ]
    },
    {
     "data": {
      "text/plain": [
       "'num_processed: 2513/20845'"
      ]
     },
     "metadata": {},
     "output_type": "display_data"
    },
    {
     "name": "stdout",
     "output_type": "stream",
     "text": [
      "1c65f055fa5049977d5a4dfb_c723bbc466ced723ae1332c3_b7ec15b8b2fdaebec9d843c7\n",
      "ERROR TRASFORMING!\n"
     ]
    },
    {
     "data": {
      "text/plain": [
       "'num_processed: 2514/20845'"
      ]
     },
     "metadata": {},
     "output_type": "display_data"
    },
    {
     "name": "stdout",
     "output_type": "stream",
     "text": [
      "953ea20e83ba51ae5546d95e_707640e901079de67d068319_9e57ce08c00b08f6c41471bc\n"
     ]
    },
    {
     "data": {
      "text/plain": [
       "'num_processed: 2515/20845'"
      ]
     },
     "metadata": {},
     "output_type": "display_data"
    },
    {
     "name": "stdout",
     "output_type": "stream",
     "text": [
      "7dc5122f46990b793eb2fac8_e9d24793fcf786179db5f296_b982a3355c82f3d1116bc689\n"
     ]
    },
    {
     "data": {
      "text/plain": [
       "'num_processed: 2516/20845'"
      ]
     },
     "metadata": {},
     "output_type": "display_data"
    },
    {
     "name": "stdout",
     "output_type": "stream",
     "text": [
      "7cd1f3f89287a72e20804de5_5da70e777b713dc91b39ec67_0dd22289cf43d8456bb1822c\n"
     ]
    },
    {
     "data": {
      "text/plain": [
       "'num_processed: 2517/20845'"
      ]
     },
     "metadata": {},
     "output_type": "display_data"
    },
    {
     "name": "stdout",
     "output_type": "stream",
     "text": [
      "7296132038b6ff1daed9334a_26882b7da88a8ec3ad5a035c_4dad56f65de806c742ff0ea1\n"
     ]
    },
    {
     "data": {
      "text/plain": [
       "'num_processed: 2518/20845'"
      ]
     },
     "metadata": {},
     "output_type": "display_data"
    },
    {
     "name": "stdout",
     "output_type": "stream",
     "text": [
      "2b3c4981c3aaf7a8a5522f07_1056cf9a5cc9e3a7480891aa_e647d87708de841f10d34ff1\n"
     ]
    },
    {
     "data": {
      "text/plain": [
       "'num_processed: 2519/20845'"
      ]
     },
     "metadata": {},
     "output_type": "display_data"
    },
    {
     "name": "stdout",
     "output_type": "stream",
     "text": [
      "ea46c78107934587251678f7_da6c39c1bdd25f8965617f39_27d60bc43f95fd2297d81c53\n"
     ]
    },
    {
     "data": {
      "text/plain": [
       "'num_processed: 2520/20845'"
      ]
     },
     "metadata": {},
     "output_type": "display_data"
    },
    {
     "name": "stdout",
     "output_type": "stream",
     "text": [
      "58c20dd3aad5b80f7b00d810_73bae7e9bcfa33e1d34c6d4c_95a184d021fb0c60ff366abc\n"
     ]
    },
    {
     "data": {
      "text/plain": [
       "'num_processed: 2521/20845'"
      ]
     },
     "metadata": {},
     "output_type": "display_data"
    },
    {
     "name": "stdout",
     "output_type": "stream",
     "text": [
      "3a12542a7538e080c1218e47_f4807739fbf00288845aff82_f064daffebd6bb4d9e9793e5\n"
     ]
    },
    {
     "data": {
      "text/plain": [
       "'num_processed: 2522/20845'"
      ]
     },
     "metadata": {},
     "output_type": "display_data"
    },
    {
     "name": "stdout",
     "output_type": "stream",
     "text": [
      "52a007cbc03a8e56139fcced_8dfdbdb37f3d93e5b1dadce6_0987ddbd8b814c1c78147898\n",
      "EROR IN process_axial - PK_SURF_ask_uvboxERROR TRASFORMING!\n"
     ]
    },
    {
     "data": {
      "text/plain": [
       "'num_processed: 2523/20845'"
      ]
     },
     "metadata": {},
     "output_type": "display_data"
    },
    {
     "name": "stdout",
     "output_type": "stream",
     "text": [
      "e4e62bbc0b87b80ff62eb8d3_366c1cb6649efbfd7e3346e3_6310f84e459596f374df04da\n"
     ]
    },
    {
     "data": {
      "text/plain": [
       "'num_processed: 2524/20845'"
      ]
     },
     "metadata": {},
     "output_type": "display_data"
    },
    {
     "name": "stdout",
     "output_type": "stream",
     "text": [
      "4d1eec05efee6f9ab257c4df_8b4065dffe9bf49a2d66406f_6026b970b863bc8f8ff2eb52\n"
     ]
    },
    {
     "data": {
      "text/plain": [
       "'num_processed: 2525/20845'"
      ]
     },
     "metadata": {},
     "output_type": "display_data"
    },
    {
     "name": "stdout",
     "output_type": "stream",
     "text": [
      "fb229dfe7f3961620402c4ac_2ef39c21b20570473ed0cc20_0881a66b5997d7ebe874922d\n"
     ]
    },
    {
     "data": {
      "text/plain": [
       "'num_processed: 2526/20845'"
      ]
     },
     "metadata": {},
     "output_type": "display_data"
    },
    {
     "name": "stdout",
     "output_type": "stream",
     "text": [
      "69c270c74ef3d88d2922e295_3c160df064c87243472c22f9_d6de1e6d6474812c9a069b2b\n"
     ]
    },
    {
     "data": {
      "text/plain": [
       "'num_processed: 2527/20845'"
      ]
     },
     "metadata": {},
     "output_type": "display_data"
    },
    {
     "name": "stdout",
     "output_type": "stream",
     "text": [
      "8486ef2f6f9a93c21c38eaf1_eff6dbf046383743d3df2f52_2911ffe013faabbde06b621a\n"
     ]
    },
    {
     "data": {
      "text/plain": [
       "'num_processed: 2528/20845'"
      ]
     },
     "metadata": {},
     "output_type": "display_data"
    },
    {
     "name": "stdout",
     "output_type": "stream",
     "text": [
      "e6ad548aabb6b5cba4b101ec_31b5561a369c1a26aea76cec_ebb1ca0d883d9b6bd1983072\n"
     ]
    },
    {
     "data": {
      "text/plain": [
       "'num_processed: 2529/20845'"
      ]
     },
     "metadata": {},
     "output_type": "display_data"
    },
    {
     "name": "stdout",
     "output_type": "stream",
     "text": [
      "aeda2a39302ea07d8dba7254_c31bb24d516bd9bf2f1522fd_273086fba8f4bd1844edd922\n"
     ]
    },
    {
     "data": {
      "text/plain": [
       "'num_processed: 2530/20845'"
      ]
     },
     "metadata": {},
     "output_type": "display_data"
    },
    {
     "name": "stdout",
     "output_type": "stream",
     "text": [
      "b9c568d3e9736f25af6f9cfc_f507b01adbcef28e1e15c5f0_12828fbf2bb0589ec6f8ec33\n"
     ]
    },
    {
     "data": {
      "text/plain": [
       "'num_processed: 2531/20845'"
      ]
     },
     "metadata": {},
     "output_type": "display_data"
    },
    {
     "name": "stdout",
     "output_type": "stream",
     "text": [
      "9bcfd43ccb8a10fd13475945_d4d88e75f58a398ebd83ebbb_f4437641798ae3406307ffa8\n"
     ]
    },
    {
     "data": {
      "text/plain": [
       "'num_processed: 2532/20845'"
      ]
     },
     "metadata": {},
     "output_type": "display_data"
    },
    {
     "name": "stdout",
     "output_type": "stream",
     "text": [
      "e5a83de9b32abf7c6a6bec28_f43aba2f8a52261fd555399a_0a991b82f1bbdab75848a6f8\n"
     ]
    },
    {
     "data": {
      "text/plain": [
       "'num_processed: 2533/20845'"
      ]
     },
     "metadata": {},
     "output_type": "display_data"
    },
    {
     "name": "stdout",
     "output_type": "stream",
     "text": [
      "f6704937f1d9542483e60f88_0b0fb4f608a83d4493347df6_3bdcf35d33172b84e73ede1a\n",
      "ERROR TRASFORMING!\n"
     ]
    },
    {
     "data": {
      "text/plain": [
       "'num_processed: 2534/20845'"
      ]
     },
     "metadata": {},
     "output_type": "display_data"
    },
    {
     "name": "stdout",
     "output_type": "stream",
     "text": [
      "b07173c86349de4f6e99a200_333fa3dd1644a9c5c4130eab_1255930c6d944d6486b6275d\n"
     ]
    },
    {
     "data": {
      "text/plain": [
       "'num_processed: 2535/20845'"
      ]
     },
     "metadata": {},
     "output_type": "display_data"
    },
    {
     "name": "stdout",
     "output_type": "stream",
     "text": [
      "c13a0c917969d1199cb711c6_01deebd9b4f4c6ddb3e04ae0_7f119fe283e09f0efbe690e8\n"
     ]
    },
    {
     "data": {
      "text/plain": [
       "'num_processed: 2536/20845'"
      ]
     },
     "metadata": {},
     "output_type": "display_data"
    },
    {
     "name": "stdout",
     "output_type": "stream",
     "text": [
      "b92e7ae35550f9671d1c7f67_aba532284c4f01a23cd0b71d_8f64c72c99b7fdd56260df69\n"
     ]
    },
    {
     "data": {
      "text/plain": [
       "'num_processed: 2537/20845'"
      ]
     },
     "metadata": {},
     "output_type": "display_data"
    },
    {
     "name": "stdout",
     "output_type": "stream",
     "text": [
      "a19465385d434ceae64ca200_fe4e26b129db58ea8f2a2afd_055450a9cac34448ebc96a06\n"
     ]
    },
    {
     "data": {
      "text/plain": [
       "'num_processed: 2538/20845'"
      ]
     },
     "metadata": {},
     "output_type": "display_data"
    },
    {
     "name": "stdout",
     "output_type": "stream",
     "text": [
      "58dbca2ebc98f1104ec1df2b_a343e2494b40e9117e6acc74_553d903d4b6720298439e556\n"
     ]
    },
    {
     "data": {
      "text/plain": [
       "'num_processed: 2539/20845'"
      ]
     },
     "metadata": {},
     "output_type": "display_data"
    },
    {
     "name": "stdout",
     "output_type": "stream",
     "text": [
      "576380d9e4b0a0decb21f6b3_9d2c38b965b84d0261af29e2_8e8c0ab26b3aa0fa7a309bda\n"
     ]
    },
    {
     "data": {
      "text/plain": [
       "'num_processed: 2540/20845'"
      ]
     },
     "metadata": {},
     "output_type": "display_data"
    },
    {
     "name": "stdout",
     "output_type": "stream",
     "text": [
      "752606afc92f7d553f347f93_2d80cb520b94561981b36b2f_c2505b18b4d383503749a1cb\n"
     ]
    },
    {
     "data": {
      "text/plain": [
       "'num_processed: 2541/20845'"
      ]
     },
     "metadata": {},
     "output_type": "display_data"
    },
    {
     "name": "stdout",
     "output_type": "stream",
     "text": [
      "987d3cfd0ce9107a3582f68f_22c484d6068d595193c8a9fa_6c4d685ada59a52857c52d27\n"
     ]
    },
    {
     "data": {
      "text/plain": [
       "'num_processed: 2542/20845'"
      ]
     },
     "metadata": {},
     "output_type": "display_data"
    },
    {
     "name": "stdout",
     "output_type": "stream",
     "text": [
      "2ab1496d855ff9884058ccff_e628b2715d8f1d9a21614bac_83aa841a4e7ea791c66b6836\n"
     ]
    },
    {
     "data": {
      "text/plain": [
       "'num_processed: 2543/20845'"
      ]
     },
     "metadata": {},
     "output_type": "display_data"
    },
    {
     "name": "stdout",
     "output_type": "stream",
     "text": [
      "53786ceccb748ded73902b1c_247487157ec7a5401f3871f9_1c4d1ccd0dacca56585260db\n"
     ]
    },
    {
     "data": {
      "text/plain": [
       "'num_processed: 2544/20845'"
      ]
     },
     "metadata": {},
     "output_type": "display_data"
    },
    {
     "name": "stdout",
     "output_type": "stream",
     "text": [
      "58f668739ea4b90f86e3e903_6468ec276a51ce85df5a1b73_7f3e7ca99e2f5325f0891716\n"
     ]
    },
    {
     "data": {
      "text/plain": [
       "'num_processed: 2545/20845'"
      ]
     },
     "metadata": {},
     "output_type": "display_data"
    },
    {
     "name": "stdout",
     "output_type": "stream",
     "text": [
      "5c2c41909c35273b636091cb_127cd9b5cdf484c4b7d75104_1b5f754873515812b8d853d2\n"
     ]
    },
    {
     "data": {
      "text/plain": [
       "'num_processed: 2546/20845'"
      ]
     },
     "metadata": {},
     "output_type": "display_data"
    },
    {
     "name": "stdout",
     "output_type": "stream",
     "text": [
      "ab606e8385e12628d0450cb0_e36eb1d80068b50638157ab5_66296efaa7fc555562700a65\n",
      "ERROR TRASFORMING!\n",
      "ERROR TRASFORMING!\n"
     ]
    },
    {
     "data": {
      "text/plain": [
       "'num_processed: 2547/20845'"
      ]
     },
     "metadata": {},
     "output_type": "display_data"
    },
    {
     "name": "stdout",
     "output_type": "stream",
     "text": [
      "399b6fcb94056d35062d06d4_6957388c589b80a10a0e9155_85cad958120a3876119ca7db\n"
     ]
    },
    {
     "data": {
      "text/plain": [
       "'num_processed: 2548/20845'"
      ]
     },
     "metadata": {},
     "output_type": "display_data"
    },
    {
     "name": "stdout",
     "output_type": "stream",
     "text": [
      "f66c9c62067db48ca3a54043_344b501cd5a6f6768985a618_6bf5f50c51c65c0bef23f142\n"
     ]
    },
    {
     "data": {
      "text/plain": [
       "'num_processed: 2549/20845'"
      ]
     },
     "metadata": {},
     "output_type": "display_data"
    },
    {
     "name": "stdout",
     "output_type": "stream",
     "text": [
      "272d1ea045f5387e9aaa42e6_be3c1d3593273c3049f7fee5_1a7ff9d37489277c580c2262\n"
     ]
    },
    {
     "data": {
      "text/plain": [
       "'num_processed: 2550/20845'"
      ]
     },
     "metadata": {},
     "output_type": "display_data"
    },
    {
     "name": "stdout",
     "output_type": "stream",
     "text": [
      "73fd2a2ed0c55437ba41de7f_e356f597bf4cb3fbb6346486_1aa39cabb0ccd3a3fe18030a\n"
     ]
    },
    {
     "data": {
      "text/plain": [
       "'num_processed: 2551/20845'"
      ]
     },
     "metadata": {},
     "output_type": "display_data"
    },
    {
     "name": "stdout",
     "output_type": "stream",
     "text": [
      "e722c2d2f56f10b3ec6a74bd_c019243e3d4e3f69f63ffec2_78d437a704923529481c9a6e\n"
     ]
    },
    {
     "data": {
      "text/plain": [
       "'num_processed: 2552/20845'"
      ]
     },
     "metadata": {},
     "output_type": "display_data"
    },
    {
     "name": "stdout",
     "output_type": "stream",
     "text": [
      "75005fd17b8fa8849eaec80c_685dc75f2947da3962b0b00d_f9ce865db9c5aeafd7322bc3\n"
     ]
    },
    {
     "data": {
      "text/plain": [
       "'num_processed: 2553/20845'"
      ]
     },
     "metadata": {},
     "output_type": "display_data"
    },
    {
     "name": "stdout",
     "output_type": "stream",
     "text": [
      "87bde097623a795374a621c2_8371c76a04f63348f3af02ac_14a7ab040e1f88bec93d5c1d\n"
     ]
    },
    {
     "data": {
      "text/plain": [
       "'num_processed: 2554/20845'"
      ]
     },
     "metadata": {},
     "output_type": "display_data"
    },
    {
     "name": "stdout",
     "output_type": "stream",
     "text": [
      "30c034a2f46e5e263755947a_c18df6ae5a9191d4faf73e19_956a460939abb4333b575d23\n"
     ]
    },
    {
     "data": {
      "text/plain": [
       "'num_processed: 2555/20845'"
      ]
     },
     "metadata": {},
     "output_type": "display_data"
    },
    {
     "name": "stdout",
     "output_type": "stream",
     "text": [
      "b2939881fafd46fd57b82f94_837da3322fdc43fa10093c76_e42c4579f60d3c2be92639e3\n"
     ]
    },
    {
     "data": {
      "text/plain": [
       "'num_processed: 2556/20845'"
      ]
     },
     "metadata": {},
     "output_type": "display_data"
    },
    {
     "name": "stdout",
     "output_type": "stream",
     "text": [
      "911f8bf63d9c258e690796be_49a54c579a59e640365e391c_f0cb7fe3b232ee8b6c7413ba\n"
     ]
    },
    {
     "data": {
      "text/plain": [
       "'num_processed: 2557/20845'"
      ]
     },
     "metadata": {},
     "output_type": "display_data"
    },
    {
     "name": "stdout",
     "output_type": "stream",
     "text": [
      "8d52cc91eccf4d0ab93f6bb7_b8d8684af923290f6133470a_97316a5658044a78596e0c81\n"
     ]
    },
    {
     "data": {
      "text/plain": [
       "'num_processed: 2558/20845'"
      ]
     },
     "metadata": {},
     "output_type": "display_data"
    },
    {
     "name": "stdout",
     "output_type": "stream",
     "text": [
      "cdf96351cd50a894ee7f5215_6be53f3e06e7b7fe931b571e_208b04a5db5e8a16f07ab032\n"
     ]
    },
    {
     "data": {
      "text/plain": [
       "'num_processed: 2559/20845'"
      ]
     },
     "metadata": {},
     "output_type": "display_data"
    },
    {
     "name": "stdout",
     "output_type": "stream",
     "text": [
      "bd7031e501fe974123dfaf77_b19c0ec8c7aaa20c7b72bf87_3c4cd9749aef764f7d2395ef\n"
     ]
    },
    {
     "data": {
      "text/plain": [
       "'num_processed: 2560/20845'"
      ]
     },
     "metadata": {},
     "output_type": "display_data"
    },
    {
     "name": "stdout",
     "output_type": "stream",
     "text": [
      "0d01ad21a9bcaab1394ceef1_48d966316da282f47b07f037_46ec0ad00e808569a20efb16\n"
     ]
    },
    {
     "data": {
      "text/plain": [
       "'num_processed: 2561/20845'"
      ]
     },
     "metadata": {},
     "output_type": "display_data"
    },
    {
     "name": "stdout",
     "output_type": "stream",
     "text": [
      "5ca943f7dbe2b45de2e592c2_52b2e3cca65d3ede02709e09_ca88757c65d729c7c043e264\n"
     ]
    },
    {
     "data": {
      "text/plain": [
       "'num_processed: 2562/20845'"
      ]
     },
     "metadata": {},
     "output_type": "display_data"
    },
    {
     "name": "stdout",
     "output_type": "stream",
     "text": [
      "5d7ae3c9dfe13af41aa9f869_ff2e658b34fb7fcb0c99c905_0ed141b55c4a034ac1da1176\n",
      "ERROR TRASFORMING!\n"
     ]
    },
    {
     "data": {
      "text/plain": [
       "'num_processed: 2563/20845'"
      ]
     },
     "metadata": {},
     "output_type": "display_data"
    },
    {
     "name": "stdout",
     "output_type": "stream",
     "text": [
      "a36e596e897da1db17c29a5d_7035317c4a17e048f2218ba6_194fce6df770cd78dfd9ee56\n"
     ]
    },
    {
     "data": {
      "text/plain": [
       "'num_processed: 2564/20845'"
      ]
     },
     "metadata": {},
     "output_type": "display_data"
    },
    {
     "name": "stdout",
     "output_type": "stream",
     "text": [
      "58ec219f7053360f6da403fd_90d30a68a05c3bae7138fc90_4ec4306eb10f4b63859c2d42\n"
     ]
    },
    {
     "data": {
      "text/plain": [
       "'num_processed: 2565/20845'"
      ]
     },
     "metadata": {},
     "output_type": "display_data"
    },
    {
     "name": "stdout",
     "output_type": "stream",
     "text": [
      "e0722664b0b392763e689687_0931c867f9ec4f41d11dcecd_7c68dd6cd67540f94e2afee9\n"
     ]
    },
    {
     "data": {
      "text/plain": [
       "'num_processed: 2566/20845'"
      ]
     },
     "metadata": {},
     "output_type": "display_data"
    },
    {
     "name": "stdout",
     "output_type": "stream",
     "text": [
      "a538352dddaca8152be9ba20_7c8f5d07264d4e53079b861f_8c0e2641233874669860ed18\n"
     ]
    },
    {
     "data": {
      "text/plain": [
       "'num_processed: 2567/20845'"
      ]
     },
     "metadata": {},
     "output_type": "display_data"
    },
    {
     "name": "stdout",
     "output_type": "stream",
     "text": [
      "435f476ed6c43adfb57ff454_3c5d9d521cada84cb422b61c_2bb2d1f3281b4a2bf7b8ce7c\n"
     ]
    },
    {
     "data": {
      "text/plain": [
       "'num_processed: 2568/20845'"
      ]
     },
     "metadata": {},
     "output_type": "display_data"
    },
    {
     "name": "stdout",
     "output_type": "stream",
     "text": [
      "1a82297943c36ca70b730348_3c3e2e936144057a67039209_6c2c31a7074e177549c24241\n"
     ]
    },
    {
     "data": {
      "text/plain": [
       "'num_processed: 2569/20845'"
      ]
     },
     "metadata": {},
     "output_type": "display_data"
    },
    {
     "name": "stdout",
     "output_type": "stream",
     "text": [
      "9591db5921c019fb35338808_22cb276a0494f9f1ce906838_18e5d6b54690d3f35fe041c9\n"
     ]
    },
    {
     "data": {
      "text/plain": [
       "'num_processed: 2570/20845'"
      ]
     },
     "metadata": {},
     "output_type": "display_data"
    },
    {
     "name": "stdout",
     "output_type": "stream",
     "text": [
      "2bfc0e37ac51e29203861439_9944b0180a4c8bf2dcdbf71f_d5b7348021b955c18e5048d0\n",
      "EROR IN process_axial - PK_SURF_ask_uvboxERROR TRASFORMING!\n"
     ]
    },
    {
     "data": {
      "text/plain": [
       "'num_processed: 2571/20845'"
      ]
     },
     "metadata": {},
     "output_type": "display_data"
    },
    {
     "name": "stdout",
     "output_type": "stream",
     "text": [
      "6d627211dbc409467bb1c8e5_350bd60d206f129b2131cd04_13ee4ab315be288d5201f4cc\n"
     ]
    },
    {
     "data": {
      "text/plain": [
       "'num_processed: 2572/20845'"
      ]
     },
     "metadata": {},
     "output_type": "display_data"
    },
    {
     "name": "stdout",
     "output_type": "stream",
     "text": [
      "e3d80bfce01c88bd46ccdd2d_1f01821f4ab8f682d75d00c8_6eaad49a18c31ef55d15feb9\n"
     ]
    },
    {
     "data": {
      "text/plain": [
       "'num_processed: 2573/20845'"
      ]
     },
     "metadata": {},
     "output_type": "display_data"
    },
    {
     "name": "stdout",
     "output_type": "stream",
     "text": [
      "fe2d9d2c1cb16ef142202805_04f76f6472c84a7e479873ae_db87991e54b3a07bc4e46a55\n"
     ]
    },
    {
     "data": {
      "text/plain": [
       "'num_processed: 2574/20845'"
      ]
     },
     "metadata": {},
     "output_type": "display_data"
    },
    {
     "name": "stdout",
     "output_type": "stream",
     "text": [
      "b39142c5dcb9582caa7bcd04_3bc7745428cb0b17a1f572bc_86a0ecdc8bc2ad0f48878b8a\n"
     ]
    },
    {
     "data": {
      "text/plain": [
       "'num_processed: 2575/20845'"
      ]
     },
     "metadata": {},
     "output_type": "display_data"
    },
    {
     "name": "stdout",
     "output_type": "stream",
     "text": [
      "ef8f003b2319fd034520bed3_8b019c76223312bb13ce904b_685650394ce1d924d821db20\n"
     ]
    },
    {
     "data": {
      "text/plain": [
       "'num_processed: 2576/20845'"
      ]
     },
     "metadata": {},
     "output_type": "display_data"
    },
    {
     "name": "stdout",
     "output_type": "stream",
     "text": [
      "58b5eadc1705270ffb9264a8_e4ae7d1881dc50433a65b27d_915cf0e831e56ef1d6d7f8a8\n"
     ]
    },
    {
     "data": {
      "text/plain": [
       "'num_processed: 2577/20845'"
      ]
     },
     "metadata": {},
     "output_type": "display_data"
    },
    {
     "name": "stdout",
     "output_type": "stream",
     "text": [
      "f4e1be75c9dd053ab38223f4_9babfc3bc18bd733adf09557_17c81ca322d10a4733487022\n"
     ]
    },
    {
     "data": {
      "text/plain": [
       "'num_processed: 2578/20845'"
      ]
     },
     "metadata": {},
     "output_type": "display_data"
    },
    {
     "name": "stdout",
     "output_type": "stream",
     "text": [
      "b26ea8956686cab46279de86_d856579430de56be193d21d1_2fba71b96d6b7a5f396f0dd9\n"
     ]
    },
    {
     "data": {
      "text/plain": [
       "'num_processed: 2579/20845'"
      ]
     },
     "metadata": {},
     "output_type": "display_data"
    },
    {
     "name": "stdout",
     "output_type": "stream",
     "text": [
      "1323b0927cf23b29a8268f39_60539da13dcad2089ebc7222_29debb46473c320f0cf39e02\n"
     ]
    },
    {
     "data": {
      "text/plain": [
       "'num_processed: 2580/20845'"
      ]
     },
     "metadata": {},
     "output_type": "display_data"
    },
    {
     "name": "stdout",
     "output_type": "stream",
     "text": [
      "f22128880e625bc9d2cc83cd_1fd4a1d6b83f307081bfdff0_f535be8f4119c4a39f1ddd1f\n"
     ]
    },
    {
     "data": {
      "text/plain": [
       "'num_processed: 2581/20845'"
      ]
     },
     "metadata": {},
     "output_type": "display_data"
    },
    {
     "name": "stdout",
     "output_type": "stream",
     "text": [
      "b5a1d43e7abe52ff9caab5d5_014bd66b4082e864d232b45c_6730fc4698d52b963c56b795\n"
     ]
    },
    {
     "data": {
      "text/plain": [
       "'num_processed: 2582/20845'"
      ]
     },
     "metadata": {},
     "output_type": "display_data"
    },
    {
     "name": "stdout",
     "output_type": "stream",
     "text": [
      "ffa1f7a27e74f2eaf2378270_62947b7d157e1a50afa21d2a_1f55f6ba04f5cc6e346f4fc4\n"
     ]
    },
    {
     "data": {
      "text/plain": [
       "'num_processed: 2583/20845'"
      ]
     },
     "metadata": {},
     "output_type": "display_data"
    },
    {
     "name": "stdout",
     "output_type": "stream",
     "text": [
      "22065d7e7176bd4c18f5bcb2_c6f83c3076374acf3805bf3c_7357b98d325d2b8620509b17\n"
     ]
    },
    {
     "data": {
      "text/plain": [
       "'num_processed: 2584/20845'"
      ]
     },
     "metadata": {},
     "output_type": "display_data"
    },
    {
     "name": "stdout",
     "output_type": "stream",
     "text": [
      "ca2b31cb1a4ba588dc0ec2dc_6b26cbbe415c3a6b875524f9_878393674282ba54d16ea14d\n"
     ]
    },
    {
     "data": {
      "text/plain": [
       "'num_processed: 2585/20845'"
      ]
     },
     "metadata": {},
     "output_type": "display_data"
    },
    {
     "name": "stdout",
     "output_type": "stream",
     "text": [
      "87522f95b8d8cec9736aa683_f8f3235e4cb38d7b74ea04f0_66708e5583372c6d41931d1b\n"
     ]
    },
    {
     "data": {
      "text/plain": [
       "'num_processed: 2586/20845'"
      ]
     },
     "metadata": {},
     "output_type": "display_data"
    },
    {
     "name": "stdout",
     "output_type": "stream",
     "text": [
      "f3b0fdc9e378ca2797deaa78_48c06f2806df9c5caa6c8a56_9a9af62c1908be0620ad58cd\n"
     ]
    },
    {
     "data": {
      "text/plain": [
       "'num_processed: 2587/20845'"
      ]
     },
     "metadata": {},
     "output_type": "display_data"
    },
    {
     "name": "stdout",
     "output_type": "stream",
     "text": [
      "191df71bcb9cced97c495035_2a77c0f2095eaacdf86cc8c8_68559183ab76d23276b49ed7\n"
     ]
    },
    {
     "data": {
      "text/plain": [
       "'num_processed: 2588/20845'"
      ]
     },
     "metadata": {},
     "output_type": "display_data"
    },
    {
     "name": "stdout",
     "output_type": "stream",
     "text": [
      "9a59f1da22f2e214db27aa7c_250fe2cf22d38d73487e80c9_382bc01f8479f0e7436ab360\n"
     ]
    },
    {
     "data": {
      "text/plain": [
       "'num_processed: 2589/20845'"
      ]
     },
     "metadata": {},
     "output_type": "display_data"
    },
    {
     "name": "stdout",
     "output_type": "stream",
     "text": [
      "cb4ea5a5f21280d481a4aad0_1c7174292389a7dffa87da12_8e2871cd45a22a32c0e6f1c6\n"
     ]
    },
    {
     "data": {
      "text/plain": [
       "'num_processed: 2590/20845'"
      ]
     },
     "metadata": {},
     "output_type": "display_data"
    },
    {
     "name": "stdout",
     "output_type": "stream",
     "text": [
      "050dd894641e9a30787926fa_74f53ddf34c3a2f0975d6be6_d6fc6db0ebc9767f0fe6ec12\n"
     ]
    },
    {
     "data": {
      "text/plain": [
       "'num_processed: 2591/20845'"
      ]
     },
     "metadata": {},
     "output_type": "display_data"
    },
    {
     "name": "stdout",
     "output_type": "stream",
     "text": [
      "dc873ad528f7053bbbfeb4f4_57652e3b336d07018551c2ea_46bc070358141da25b1e8bbc\n"
     ]
    },
    {
     "data": {
      "text/plain": [
       "'num_processed: 2592/20845'"
      ]
     },
     "metadata": {},
     "output_type": "display_data"
    },
    {
     "name": "stdout",
     "output_type": "stream",
     "text": [
      "944a766c45093feb55fcce01_d253acce45c49ca5f24612ef_06b06eb290ac78eda165e32a\n"
     ]
    },
    {
     "data": {
      "text/plain": [
       "'num_processed: 2593/20845'"
      ]
     },
     "metadata": {},
     "output_type": "display_data"
    },
    {
     "name": "stdout",
     "output_type": "stream",
     "text": [
      "295870f36ce582cd4aba9b20_69ebc448347d13208c644666_38304e66848e3694b1a90c8c\n"
     ]
    },
    {
     "data": {
      "text/plain": [
       "'num_processed: 2594/20845'"
      ]
     },
     "metadata": {},
     "output_type": "display_data"
    },
    {
     "name": "stdout",
     "output_type": "stream",
     "text": [
      "4e57ebda8d28a65c79f97261_a95ae4a4788a54d7978f7b9c_b45bbaab5269432f1fb76a7b\n"
     ]
    },
    {
     "data": {
      "text/plain": [
       "'num_processed: 2595/20845'"
      ]
     },
     "metadata": {},
     "output_type": "display_data"
    },
    {
     "name": "stdout",
     "output_type": "stream",
     "text": [
      "b1ae46abf62d6918afb2f343_bf7a54d708f3736953eab95b_c2086375cd647e9cf69058e7\n"
     ]
    },
    {
     "data": {
      "text/plain": [
       "'num_processed: 2596/20845'"
      ]
     },
     "metadata": {},
     "output_type": "display_data"
    },
    {
     "name": "stdout",
     "output_type": "stream",
     "text": [
      "58cb309872d10c0f7b261960_c98a4eaec8ce56102af3cdc6_2188dd4ea81da55cb7404a83\n"
     ]
    },
    {
     "data": {
      "text/plain": [
       "'num_processed: 2597/20845'"
      ]
     },
     "metadata": {},
     "output_type": "display_data"
    },
    {
     "name": "stdout",
     "output_type": "stream",
     "text": [
      "e78b401a3d079b07ed1d077e_9537ddeca0712dd2da1fb6cb_0639b8d973fc8f82abac314f\n"
     ]
    },
    {
     "data": {
      "text/plain": [
       "'num_processed: 2598/20845'"
      ]
     },
     "metadata": {},
     "output_type": "display_data"
    },
    {
     "name": "stdout",
     "output_type": "stream",
     "text": [
      "f0799854a70847ded0aa840b_f8b06ad52b54dc0573bcc0ed_b931a8c4f402c6f5da561d96\n"
     ]
    },
    {
     "data": {
      "text/plain": [
       "'num_processed: 2599/20845'"
      ]
     },
     "metadata": {},
     "output_type": "display_data"
    },
    {
     "name": "stdout",
     "output_type": "stream",
     "text": [
      "c8b41191b1a5646ddb056994_a34667ffc901a437df6c2b79_60caad009547a53d8124203d\n"
     ]
    },
    {
     "data": {
      "text/plain": [
       "'num_processed: 2600/20845'"
      ]
     },
     "metadata": {},
     "output_type": "display_data"
    },
    {
     "name": "stdout",
     "output_type": "stream",
     "text": [
      "4ecd98292e77bb0c9a938761_9ed442c51aecc3d30fd890f5_f2a011f5a76fd1db683a2bbd\n"
     ]
    },
    {
     "data": {
      "text/plain": [
       "'num_processed: 2601/20845'"
      ]
     },
     "metadata": {},
     "output_type": "display_data"
    },
    {
     "name": "stdout",
     "output_type": "stream",
     "text": [
      "fef449fb90d5020b91c5dd47_79d2d0f3c43d19d62777757d_4fd6ffc39739d387e970c681\n"
     ]
    },
    {
     "data": {
      "text/plain": [
       "'num_processed: 2602/20845'"
      ]
     },
     "metadata": {},
     "output_type": "display_data"
    },
    {
     "name": "stdout",
     "output_type": "stream",
     "text": [
      "6c1fd49cf01408da4e4e8f4e_6f6b71a52d98c72fcab4bffa_3f9c8bc46726dee3245bae2e\n"
     ]
    },
    {
     "data": {
      "text/plain": [
       "'num_processed: 2603/20845'"
      ]
     },
     "metadata": {},
     "output_type": "display_data"
    },
    {
     "name": "stdout",
     "output_type": "stream",
     "text": [
      "d165fec9f7951f073a33e06a_1d67567a976735b0f8ea3522_26dd1d4dd1ae47e91823b50a\n"
     ]
    },
    {
     "data": {
      "text/plain": [
       "'num_processed: 2604/20845'"
      ]
     },
     "metadata": {},
     "output_type": "display_data"
    },
    {
     "name": "stdout",
     "output_type": "stream",
     "text": [
      "e455c3c6007e200ed5967082_323c0810995522437dae3846_5ea0054cffb5bb0156ce3c36\n"
     ]
    },
    {
     "data": {
      "text/plain": [
       "'num_processed: 2605/20845'"
      ]
     },
     "metadata": {},
     "output_type": "display_data"
    },
    {
     "name": "stdout",
     "output_type": "stream",
     "text": [
      "bb4315c3f73917b36268779d_37939c0e5c3247dd0fc683c7_3c6ef4e2dc6bf5bb20761d85\n"
     ]
    },
    {
     "data": {
      "text/plain": [
       "'num_processed: 2606/20845'"
      ]
     },
     "metadata": {},
     "output_type": "display_data"
    },
    {
     "name": "stdout",
     "output_type": "stream",
     "text": [
      "1e28f5b78a9777d6467d39d0_b2eb89abcb2c72e867583c2c_28edab3792218bc4eada0b07\n"
     ]
    },
    {
     "data": {
      "text/plain": [
       "'num_processed: 2607/20845'"
      ]
     },
     "metadata": {},
     "output_type": "display_data"
    },
    {
     "name": "stdout",
     "output_type": "stream",
     "text": [
      "c68516b864b74c481f7891d2_3c47c37475de6cfb1e14c634_986eee43d960903bf4da0802\n"
     ]
    },
    {
     "data": {
      "text/plain": [
       "'num_processed: 2608/20845'"
      ]
     },
     "metadata": {},
     "output_type": "display_data"
    },
    {
     "name": "stdout",
     "output_type": "stream",
     "text": [
      "c6404743835dee0e45b99662_a5af31d2bd0ee8e42a622eda_18f738efa129d0c707f8a790\n",
      "ERROR TRASFORMING!\n"
     ]
    },
    {
     "data": {
      "text/plain": [
       "'num_processed: 2609/20845'"
      ]
     },
     "metadata": {},
     "output_type": "display_data"
    },
    {
     "name": "stdout",
     "output_type": "stream",
     "text": [
      "e8c465358e7db35acf363a57_f0ae02453b04c40421c3480f_e739309150e38baca9547303\n"
     ]
    },
    {
     "data": {
      "text/plain": [
       "'num_processed: 2610/20845'"
      ]
     },
     "metadata": {},
     "output_type": "display_data"
    },
    {
     "name": "stdout",
     "output_type": "stream",
     "text": [
      "faa2df1f372703fb14c7785b_c9126035e921e71f0c5bd38f_5334caa3c56b2465347c8ddf\n"
     ]
    },
    {
     "data": {
      "text/plain": [
       "'num_processed: 2611/20845'"
      ]
     },
     "metadata": {},
     "output_type": "display_data"
    },
    {
     "name": "stdout",
     "output_type": "stream",
     "text": [
      "46877a9bc28c9a443f188508_73d7675e0f18d3471942084c_4a10cfe9b3bd88b94f0a0ea2\n"
     ]
    },
    {
     "data": {
      "text/plain": [
       "'num_processed: 2612/20845'"
      ]
     },
     "metadata": {},
     "output_type": "display_data"
    },
    {
     "name": "stdout",
     "output_type": "stream",
     "text": [
      "89f2ea124340bb0d48d28244_4d278bd161df78b858342174_48c0d82280c443972733680f\n"
     ]
    },
    {
     "data": {
      "text/plain": [
       "'num_processed: 2613/20845'"
      ]
     },
     "metadata": {},
     "output_type": "display_data"
    },
    {
     "name": "stdout",
     "output_type": "stream",
     "text": [
      "672aae3d06aa4744156d88fd_ea034ceae880d2230e5fbe93_b0f48e8ec382786be0b1c742\n"
     ]
    },
    {
     "data": {
      "text/plain": [
       "'num_processed: 2614/20845'"
      ]
     },
     "metadata": {},
     "output_type": "display_data"
    },
    {
     "name": "stdout",
     "output_type": "stream",
     "text": [
      "3ba86fae70e450a49cd30f65_6b584b6f48d76a29ff4e05f1_041b15c3983b67cc812e6c6f\n"
     ]
    },
    {
     "data": {
      "text/plain": [
       "'num_processed: 2615/20845'"
      ]
     },
     "metadata": {},
     "output_type": "display_data"
    },
    {
     "name": "stdout",
     "output_type": "stream",
     "text": [
      "00f27bb166b60daad1db3ddc_e5ffb23457a7c6cac9e963e7_dbddaf8a6980abf355531223\n"
     ]
    },
    {
     "data": {
      "text/plain": [
       "'num_processed: 2616/20845'"
      ]
     },
     "metadata": {},
     "output_type": "display_data"
    },
    {
     "name": "stdout",
     "output_type": "stream",
     "text": [
      "56e3e72525832b5786705214_b69493a463def858405d4539_fc77e6bbf14558f23cf432f9\n"
     ]
    },
    {
     "data": {
      "text/plain": [
       "'num_processed: 2617/20845'"
      ]
     },
     "metadata": {},
     "output_type": "display_data"
    },
    {
     "name": "stdout",
     "output_type": "stream",
     "text": [
      "0fdeac6219d0c268c4ac06ce_728988afd357ba24dd653df1_9181a54c36cc304d37128693\n"
     ]
    },
    {
     "data": {
      "text/plain": [
       "'num_processed: 2618/20845'"
      ]
     },
     "metadata": {},
     "output_type": "display_data"
    },
    {
     "name": "stdout",
     "output_type": "stream",
     "text": [
      "c8f4c49ef593ac5e287bc5ce_9f12596c6e6f4d824bd4aba3_e81a48f040f44ab3afacfd85\n"
     ]
    },
    {
     "data": {
      "text/plain": [
       "'num_processed: 2619/20845'"
      ]
     },
     "metadata": {},
     "output_type": "display_data"
    },
    {
     "name": "stdout",
     "output_type": "stream",
     "text": [
      "7df58f02d59bd2a83d3a6e2b_7d6947b986ddddd66358f704_4a9f9423554b549fce1edd52\n",
      "EROR IN process_axial - PK_SURF_ask_uvboxERROR TRASFORMING!\n"
     ]
    },
    {
     "data": {
      "text/plain": [
       "'num_processed: 2620/20845'"
      ]
     },
     "metadata": {},
     "output_type": "display_data"
    },
    {
     "name": "stdout",
     "output_type": "stream",
     "text": [
      "589e157ec517b70fc554161a_e046362cce5b292b0d69035e_28fa4ec5696727eeaac21b4c\n"
     ]
    },
    {
     "data": {
      "text/plain": [
       "'num_processed: 2621/20845'"
      ]
     },
     "metadata": {},
     "output_type": "display_data"
    },
    {
     "name": "stdout",
     "output_type": "stream",
     "text": [
      "e43f6eb868edc50d038a261f_aa89ec9dbe55a2609621c7a3_9c9977b2048013032944905e\n"
     ]
    },
    {
     "data": {
      "text/plain": [
       "'num_processed: 2622/20845'"
      ]
     },
     "metadata": {},
     "output_type": "display_data"
    },
    {
     "name": "stdout",
     "output_type": "stream",
     "text": [
      "ca56a130cd4c5b5f4ba219c4_236c1ad2d5e5c708cd3da44d_b44a463273428ce99fdf1098\n"
     ]
    },
    {
     "data": {
      "text/plain": [
       "'num_processed: 2623/20845'"
      ]
     },
     "metadata": {},
     "output_type": "display_data"
    },
    {
     "name": "stdout",
     "output_type": "stream",
     "text": [
      "02bd2f1003571a5974aee08d_3deeba491f95a57537cc5d29_992da7535bccc0fd28fd240b\n"
     ]
    },
    {
     "data": {
      "text/plain": [
       "'num_processed: 2624/20845'"
      ]
     },
     "metadata": {},
     "output_type": "display_data"
    },
    {
     "name": "stdout",
     "output_type": "stream",
     "text": [
      "1c474f958bd5961d141a8fa7_62f8e373a981adbd80be1967_6f935fd7f03524b1f9f61757\n"
     ]
    },
    {
     "data": {
      "text/plain": [
       "'num_processed: 2625/20845'"
      ]
     },
     "metadata": {},
     "output_type": "display_data"
    },
    {
     "name": "stdout",
     "output_type": "stream",
     "text": [
      "2a7d71eae9f2362cb978bd27_275498c1219145efd3575a69_baa6dc4b8c62ab8629f4f98e\n"
     ]
    },
    {
     "data": {
      "text/plain": [
       "'num_processed: 2626/20845'"
      ]
     },
     "metadata": {},
     "output_type": "display_data"
    },
    {
     "name": "stdout",
     "output_type": "stream",
     "text": [
      "38869ac373aacda4f5da52a2_66f186b64503ae3f33c856a5_9ea5356246a9e59084df4c0d\n"
     ]
    },
    {
     "data": {
      "text/plain": [
       "'num_processed: 2627/20845'"
      ]
     },
     "metadata": {},
     "output_type": "display_data"
    },
    {
     "name": "stdout",
     "output_type": "stream",
     "text": [
      "7ea3b036c3a81695de6b9140_3add7753ee179bc610239a4a_1720c6c4f2c8e3e9b8f0476a\n"
     ]
    },
    {
     "data": {
      "text/plain": [
       "'num_processed: 2628/20845'"
      ]
     },
     "metadata": {},
     "output_type": "display_data"
    },
    {
     "name": "stdout",
     "output_type": "stream",
     "text": [
      "ff297f774df936efd2c88358_e9f51d620950a8b14f6f5247_c2affebcf9169752b2c4c38a\n"
     ]
    },
    {
     "data": {
      "text/plain": [
       "'num_processed: 2629/20845'"
      ]
     },
     "metadata": {},
     "output_type": "display_data"
    },
    {
     "name": "stdout",
     "output_type": "stream",
     "text": [
      "d7752c55cf1bd72e0ca9bafd_bab6aadc113d16bfcc799870_27afbf58f12a81f5662b65e2\n"
     ]
    },
    {
     "data": {
      "text/plain": [
       "'num_processed: 2630/20845'"
      ]
     },
     "metadata": {},
     "output_type": "display_data"
    },
    {
     "name": "stdout",
     "output_type": "stream",
     "text": [
      "d7b6aacceca2e0b7cb6f0cb0_2f8e898a759f317610bc7e67_147ee1d589a92c20eb210856\n"
     ]
    },
    {
     "data": {
      "text/plain": [
       "'num_processed: 2631/20845'"
      ]
     },
     "metadata": {},
     "output_type": "display_data"
    },
    {
     "name": "stdout",
     "output_type": "stream",
     "text": [
      "f597d82678ee22ddc6211117_56e4e9fb04f8a4212f7a52f8_a41240d32d305ddc12ed590d\n"
     ]
    },
    {
     "data": {
      "text/plain": [
       "'num_processed: 2632/20845'"
      ]
     },
     "metadata": {},
     "output_type": "display_data"
    },
    {
     "name": "stdout",
     "output_type": "stream",
     "text": [
      "431a712978de9464c7f9d220_85e2e4f0b4166a9e7885ac5b_c03dc8c67de81484d517e5ff\n"
     ]
    },
    {
     "data": {
      "text/plain": [
       "'num_processed: 2633/20845'"
      ]
     },
     "metadata": {},
     "output_type": "display_data"
    },
    {
     "name": "stdout",
     "output_type": "stream",
     "text": [
      "57a386c9e4b03de4c9fbc180_81955f31f3101d0017d982ea_912b4c185c569f65d4160755\n"
     ]
    },
    {
     "data": {
      "text/plain": [
       "'num_processed: 2634/20845'"
      ]
     },
     "metadata": {},
     "output_type": "display_data"
    },
    {
     "name": "stdout",
     "output_type": "stream",
     "text": [
      "58251cc1961f70108c55fb87_b1b9d1115d1c74aedee7fef6_a5f202626104250e5a034785\n"
     ]
    },
    {
     "data": {
      "text/plain": [
       "'num_processed: 2635/20845'"
      ]
     },
     "metadata": {},
     "output_type": "display_data"
    },
    {
     "name": "stdout",
     "output_type": "stream",
     "text": [
      "30cd57431b92f227ed4d294f_5d0e8acca4fce6256eee49e6_469419db4812d20dc98f5ddc\n"
     ]
    },
    {
     "data": {
      "text/plain": [
       "'num_processed: 2636/20845'"
      ]
     },
     "metadata": {},
     "output_type": "display_data"
    },
    {
     "name": "stdout",
     "output_type": "stream",
     "text": [
      "c9344a00441892890fe7bce7_f4758afdb7e629326384b573_552bd9b615c60b79f3aaaa40\n"
     ]
    },
    {
     "data": {
      "text/plain": [
       "'num_processed: 2637/20845'"
      ]
     },
     "metadata": {},
     "output_type": "display_data"
    },
    {
     "name": "stdout",
     "output_type": "stream",
     "text": [
      "99326a31db3b7a17c89c4d77_93af3cc38f8bb0bed973e20b_e58c08adee24731733227e87\n"
     ]
    },
    {
     "data": {
      "text/plain": [
       "'num_processed: 2638/20845'"
      ]
     },
     "metadata": {},
     "output_type": "display_data"
    },
    {
     "name": "stdout",
     "output_type": "stream",
     "text": [
      "a28604086489b456e02325b3_f793893bc86a54b070e4204f_74fc1d4c486938dac752627a\n"
     ]
    },
    {
     "data": {
      "text/plain": [
       "'num_processed: 2639/20845'"
      ]
     },
     "metadata": {},
     "output_type": "display_data"
    },
    {
     "name": "stdout",
     "output_type": "stream",
     "text": [
      "4f38f7165720d1b37b122d98_975b366b2998829ec976b8ae_35a22bbe2ec40f82e57c0e5d\n"
     ]
    },
    {
     "data": {
      "text/plain": [
       "'num_processed: 2640/20845'"
      ]
     },
     "metadata": {},
     "output_type": "display_data"
    },
    {
     "name": "stdout",
     "output_type": "stream",
     "text": [
      "b52640223cbbebd8eaed9552_ea1c4d99b9de826582c45697_bc77cdc9a3d17f052720c5c1\n"
     ]
    },
    {
     "data": {
      "text/plain": [
       "'num_processed: 2641/20845'"
      ]
     },
     "metadata": {},
     "output_type": "display_data"
    },
    {
     "name": "stdout",
     "output_type": "stream",
     "text": [
      "510d32d08472664e03983830_1f1bac4d8786baeb84738dfb_6e0d03ef2b0f7489c3120871\n"
     ]
    },
    {
     "data": {
      "text/plain": [
       "'num_processed: 2642/20845'"
      ]
     },
     "metadata": {},
     "output_type": "display_data"
    },
    {
     "name": "stdout",
     "output_type": "stream",
     "text": [
      "1a4b0497e09c630bf7f468ce_cfcb4a3bc2899e18833eff49_d9e69424f9203cd288f677e7\n"
     ]
    },
    {
     "data": {
      "text/plain": [
       "'num_processed: 2643/20845'"
      ]
     },
     "metadata": {},
     "output_type": "display_data"
    },
    {
     "name": "stdout",
     "output_type": "stream",
     "text": [
      "00883bd23722f1622e7dbb7b_8aa2b9f65a6a6cab2d9f9ba4_bd1d02a6865156fda0ef9f22\n"
     ]
    },
    {
     "data": {
      "text/plain": [
       "'num_processed: 2644/20845'"
      ]
     },
     "metadata": {},
     "output_type": "display_data"
    },
    {
     "name": "stdout",
     "output_type": "stream",
     "text": [
      "7ea1e8d694123eab5e3f6d2d_9b76bcc2bb8bad692b03d299_e573cd68233f271f68cb7117\n"
     ]
    },
    {
     "data": {
      "text/plain": [
       "'num_processed: 2645/20845'"
      ]
     },
     "metadata": {},
     "output_type": "display_data"
    },
    {
     "name": "stdout",
     "output_type": "stream",
     "text": [
      "41a5ec33d4dea60705489385_54304d20ae4f61542b6bd1e3_35dfd8573314f2ce6604f7d5\n"
     ]
    },
    {
     "data": {
      "text/plain": [
       "'num_processed: 2646/20845'"
      ]
     },
     "metadata": {},
     "output_type": "display_data"
    },
    {
     "name": "stdout",
     "output_type": "stream",
     "text": [
      "b76e486de5098c3633dd7998_3e7eb042fd8f1c466afc19e1_c58676d86a09deef80ea1034\n"
     ]
    },
    {
     "data": {
      "text/plain": [
       "'num_processed: 2647/20845'"
      ]
     },
     "metadata": {},
     "output_type": "display_data"
    },
    {
     "name": "stdout",
     "output_type": "stream",
     "text": [
      "1ddecc1ecb72b070c1a25b42_67f4aa11d9790085e1270c3a_9e5525995c341755bdab831c\n"
     ]
    },
    {
     "data": {
      "text/plain": [
       "'num_processed: 2648/20845'"
      ]
     },
     "metadata": {},
     "output_type": "display_data"
    },
    {
     "name": "stdout",
     "output_type": "stream",
     "text": [
      "a246e0abca252040c62d0bad_8d7b67d6f23903b55a97383d_f5285cac1fa698c047e81881\n"
     ]
    },
    {
     "data": {
      "text/plain": [
       "'num_processed: 2649/20845'"
      ]
     },
     "metadata": {},
     "output_type": "display_data"
    },
    {
     "name": "stdout",
     "output_type": "stream",
     "text": [
      "151213182cab96b5c76a5fbf_f6588efc4aefea783f7be766_91036b9b38e1c30239298a96\n"
     ]
    },
    {
     "data": {
      "text/plain": [
       "'num_processed: 2650/20845'"
      ]
     },
     "metadata": {},
     "output_type": "display_data"
    },
    {
     "name": "stdout",
     "output_type": "stream",
     "text": [
      "158dbc7821ec3538fda67710_d071f44c20aaff6d8608302a_f092594b0551414417a8e02a\n",
      "EROR IN process_axial - PK_SURF_ask_uvboxEROR IN process_axial - PK_SURF_ask_uvboxEROR IN process_axial - PK_SURF_ask_uvboxEROR IN process_axial - PK_SURF_ask_uvboxERROR TRASFORMING!\n"
     ]
    },
    {
     "data": {
      "text/plain": [
       "'num_processed: 2651/20845'"
      ]
     },
     "metadata": {},
     "output_type": "display_data"
    },
    {
     "name": "stdout",
     "output_type": "stream",
     "text": [
      "73778fa396cab250c8752d48_ff4e70870bbd65667d1d1c60_1a28aa5270b1d5a805476fef\n"
     ]
    },
    {
     "data": {
      "text/plain": [
       "'num_processed: 2652/20845'"
      ]
     },
     "metadata": {},
     "output_type": "display_data"
    },
    {
     "name": "stdout",
     "output_type": "stream",
     "text": [
      "29040df35581b473d279d4c5_1494033055a5d25174f12e19_17ab686143ae506cace94887\n"
     ]
    },
    {
     "data": {
      "text/plain": [
       "'num_processed: 2653/20845'"
      ]
     },
     "metadata": {},
     "output_type": "display_data"
    },
    {
     "name": "stdout",
     "output_type": "stream",
     "text": [
      "c9e0c690705128c322211ab6_04129a82adeb5ff358bad65b_6667cbaa8d7a584f5409b9bb\n"
     ]
    },
    {
     "data": {
      "text/plain": [
       "'num_processed: 2654/20845'"
      ]
     },
     "metadata": {},
     "output_type": "display_data"
    },
    {
     "name": "stdout",
     "output_type": "stream",
     "text": [
      "a0d24b07ddcff0314afd11da_526e449474ac41c0f91505e4_dbbf4633ffa00a75fca5d590\n"
     ]
    },
    {
     "data": {
      "text/plain": [
       "'num_processed: 2655/20845'"
      ]
     },
     "metadata": {},
     "output_type": "display_data"
    },
    {
     "name": "stdout",
     "output_type": "stream",
     "text": [
      "769c78c7ba8e425c1253e322_72ea29024c19702c01c06c8b_5d5b386c2b064406a2bd5f27\n"
     ]
    },
    {
     "data": {
      "text/plain": [
       "'num_processed: 2656/20845'"
      ]
     },
     "metadata": {},
     "output_type": "display_data"
    },
    {
     "name": "stdout",
     "output_type": "stream",
     "text": [
      "2caa949274fb5e397ad1fde5_36c0826311dc62d690d5b58d_ac8f994a493b9d30f8f24155\n"
     ]
    },
    {
     "data": {
      "text/plain": [
       "'num_processed: 2657/20845'"
      ]
     },
     "metadata": {},
     "output_type": "display_data"
    },
    {
     "name": "stdout",
     "output_type": "stream",
     "text": [
      "b1a4fc785f4a6117ff5d0fe4_38719ad3a57164937f79fe5f_53c013aa6159b7bc6c290df0\n"
     ]
    },
    {
     "data": {
      "text/plain": [
       "'num_processed: 2658/20845'"
      ]
     },
     "metadata": {},
     "output_type": "display_data"
    },
    {
     "name": "stdout",
     "output_type": "stream",
     "text": [
      "b54f0a0b0b3cd89866da5812_3b1e9353fde6ecf21bb7a480_0e3cb61c1f8ede075a7fdb09\n"
     ]
    },
    {
     "data": {
      "text/plain": [
       "'num_processed: 2659/20845'"
      ]
     },
     "metadata": {},
     "output_type": "display_data"
    },
    {
     "name": "stdout",
     "output_type": "stream",
     "text": [
      "c14e953c3a8c789dc72ca49f_b7f4e130694d03f40a622de0_332d871fceedeb65b50a1809\n"
     ]
    },
    {
     "data": {
      "text/plain": [
       "'num_processed: 2660/20845'"
      ]
     },
     "metadata": {},
     "output_type": "display_data"
    },
    {
     "name": "stdout",
     "output_type": "stream",
     "text": [
      "3db07006cb28c3f4c319e754_c207ddc51ec81ea054fd4f84_c743961a12699165658521d9\n",
      "EROR IN process_axial - PK_SURF_ask_uvboxERROR TRASFORMING!\n"
     ]
    },
    {
     "data": {
      "text/plain": [
       "'num_processed: 2661/20845'"
      ]
     },
     "metadata": {},
     "output_type": "display_data"
    },
    {
     "name": "stdout",
     "output_type": "stream",
     "text": [
      "d7e4242fe82eb590ea4c0ac2_c661cc5663de3b22af49124d_cd18cd43d0df582ad6cd5c00\n"
     ]
    },
    {
     "data": {
      "text/plain": [
       "'num_processed: 2662/20845'"
      ]
     },
     "metadata": {},
     "output_type": "display_data"
    },
    {
     "name": "stdout",
     "output_type": "stream",
     "text": [
      "190c3de1489478a19ec79efa_897c7389ba9fbb7715d5c90e_cdb6da88e77c6afcf94e34ad\n"
     ]
    },
    {
     "data": {
      "text/plain": [
       "'num_processed: 2663/20845'"
      ]
     },
     "metadata": {},
     "output_type": "display_data"
    },
    {
     "name": "stdout",
     "output_type": "stream",
     "text": [
      "fb9f77837cbad2c7aa0ea37a_274828027908c61f020348b1_49ecd0eb20fde2f11be70ab5\n"
     ]
    },
    {
     "data": {
      "text/plain": [
       "'num_processed: 2664/20845'"
      ]
     },
     "metadata": {},
     "output_type": "display_data"
    },
    {
     "name": "stdout",
     "output_type": "stream",
     "text": [
      "0be327a42f1e1301fc9beaaf_edb4c728eb03b7afd09facf6_b141e6147ed5227acc6befd4\n"
     ]
    },
    {
     "data": {
      "text/plain": [
       "'num_processed: 2665/20845'"
      ]
     },
     "metadata": {},
     "output_type": "display_data"
    },
    {
     "name": "stdout",
     "output_type": "stream",
     "text": [
      "6fba43ae9812ec5f975a52a4_0aae85d5eb755d2b6ed97596_2c10c663bb6a68d27b814903\n",
      "EROR IN process_axial - PK_SURF_ask_uvboxEROR IN process_axial - PK_SURF_ask_uvboxEROR IN process_axial - PK_SURF_ask_uvboxEROR IN process_axial - PK_SURF_ask_uvboxEROR IN process_axial - PK_SURF_ask_uvboxEROR IN process_axial - PK_SURF_ask_uvboxEROR IN process_axial - PK_SURF_ask_uvboxEROR IN process_axial - PK_SURF_ask_uvboxEROR IN process_axial - PK_SURF_ask_uvboxEROR IN process_axial - PK_SURF_ask_uvboxEROR IN process_axial - PK_SURF_ask_uvboxEROR IN process_axial - PK_SURF_ask_uvboxEROR IN process_axial - PK_SURF_ask_uvboxEROR IN process_axial - PK_SURF_ask_uvboxEROR IN process_axial - PK_SURF_ask_uvboxEROR IN process_axial - PK_SURF_ask_uvboxEROR IN process_axial - PK_SURF_ask_uvboxEROR IN process_axial - PK_SURF_ask_uvboxEROR IN process_axial - PK_SURF_ask_uvboxEROR IN process_axial - PK_SURF_ask_uvboxEROR IN process_axial - PK_SURF_ask_uvboxEROR IN process_axial - PK_SURF_ask_uvboxEROR IN process_axial - PK_SURF_ask_uvboxEROR IN process_axial - PK_SURF_ask_uvboxEROR IN process_axial - PK_SURF_ask_uvboxEROR IN process_axial - PK_SURF_ask_uvboxEROR IN process_axial - PK_SURF_ask_uvboxEROR IN process_axial - PK_SURF_ask_uvboxEROR IN process_axial - PK_SURF_ask_uvboxEROR IN process_axial - PK_SURF_ask_uvboxERROR TRASFORMING!\n"
     ]
    },
    {
     "data": {
      "text/plain": [
       "'num_processed: 2666/20845'"
      ]
     },
     "metadata": {},
     "output_type": "display_data"
    },
    {
     "name": "stdout",
     "output_type": "stream",
     "text": [
      "d1e855da51caa045fd552e56_f6e860ac03b704b9965a034d_252d2935ca6a8823826a5305\n"
     ]
    },
    {
     "data": {
      "text/plain": [
       "'num_processed: 2667/20845'"
      ]
     },
     "metadata": {},
     "output_type": "display_data"
    },
    {
     "name": "stdout",
     "output_type": "stream",
     "text": [
      "d05c2d09e3ea7bf76fd81a22_6b35f3a5d4216d79bec7e2a2_708ba12fd582eaf70f13acdd\n"
     ]
    },
    {
     "data": {
      "text/plain": [
       "'num_processed: 2668/20845'"
      ]
     },
     "metadata": {},
     "output_type": "display_data"
    },
    {
     "name": "stdout",
     "output_type": "stream",
     "text": [
      "c97053b5551e5e8831fa00c8_ef11fc161cea5ac3e278d7df_27d085240ad454e8c0e80316\n"
     ]
    },
    {
     "data": {
      "text/plain": [
       "'num_processed: 2669/20845'"
      ]
     },
     "metadata": {},
     "output_type": "display_data"
    },
    {
     "name": "stdout",
     "output_type": "stream",
     "text": [
      "a47ce845937e11d94f1a4d52_ee844af6f505cbd41b57ceff_e5ca4eb9a93a96a87df11ed1\n"
     ]
    },
    {
     "data": {
      "text/plain": [
       "'num_processed: 2670/20845'"
      ]
     },
     "metadata": {},
     "output_type": "display_data"
    },
    {
     "name": "stdout",
     "output_type": "stream",
     "text": [
      "cd72204375c9b15eb4475fda_0ab93adf4f39e03b4a5407de_ec3591f198b62ac69a6aae97\n"
     ]
    },
    {
     "data": {
      "text/plain": [
       "'num_processed: 2671/20845'"
      ]
     },
     "metadata": {},
     "output_type": "display_data"
    },
    {
     "name": "stdout",
     "output_type": "stream",
     "text": [
      "f99895905b1ad442ed24a3ca_d60a4fdb58d449781462038f_113cbadef3554b859b91622a\n"
     ]
    },
    {
     "data": {
      "text/plain": [
       "'num_processed: 2672/20845'"
      ]
     },
     "metadata": {},
     "output_type": "display_data"
    },
    {
     "name": "stdout",
     "output_type": "stream",
     "text": [
      "589cae607da3d80f704b32a5_73c10300910c97652b1408ef_c14087c66efb0c30c8f1b3b2\n"
     ]
    },
    {
     "data": {
      "text/plain": [
       "'num_processed: 2673/20845'"
      ]
     },
     "metadata": {},
     "output_type": "display_data"
    },
    {
     "name": "stdout",
     "output_type": "stream",
     "text": [
      "5f8a7f90b76905a81e8ba96a_e218293b8f9892cbf775c99f_4f42df63777c625839304997\n"
     ]
    },
    {
     "data": {
      "text/plain": [
       "'num_processed: 2674/20845'"
      ]
     },
     "metadata": {},
     "output_type": "display_data"
    },
    {
     "name": "stdout",
     "output_type": "stream",
     "text": [
      "8bd56e632044ba3842b52cb7_e1e38cb4700f971d1beaed83_dff6d4adba6943cfb7e0c66a\n"
     ]
    },
    {
     "ename": "KeyboardInterrupt",
     "evalue": "",
     "output_type": "error",
     "traceback": [
      "\u001b[0;31m---------------------------------------------------------------------------\u001b[0m",
      "\u001b[0;31mKeyboardInterrupt\u001b[0m                         Traceback (most recent call last)",
      "\u001b[0;32m/tmp/ipykernel_2534198/3006897765.py\u001b[0m in \u001b[0;36m<module>\u001b[0;34m\u001b[0m\n\u001b[1;32m    343\u001b[0m                     col = torch.tensor([mcs[0].orientation_inference.topology_ref, mcs[0].location_inference.topology_ref, mcs[0].location_inference.inference_type.value,\n\u001b[1;32m    344\u001b[0m                           mcs[1].orientation_inference.topology_ref, mcs[1].location_inference.topology_ref, mcs[1].location_inference.inference_type.value], dtype=torch.int)\n\u001b[0;32m--> 345\u001b[0;31m                     \u001b[0mdata\u001b[0m\u001b[0;34m.\u001b[0m\u001b[0mmc_pairs\u001b[0m\u001b[0;34m[\u001b[0m\u001b[0;34m:\u001b[0m\u001b[0;34m,\u001b[0m\u001b[0mk\u001b[0m\u001b[0;34m]\u001b[0m \u001b[0;34m=\u001b[0m \u001b[0mcol\u001b[0m\u001b[0;34m\u001b[0m\u001b[0;34m\u001b[0m\u001b[0m\n\u001b[0m\u001b[1;32m    346\u001b[0m                 \u001b[0;31m#dataname = f'{assembly_df.loc[ind,\"AssemblyPath\"]}-{part_subset.iloc[part_pair[0]][\"PartOccurrenceID\"].replace(\"/\",\"_\")}-{part_subset.iloc[part_pair[1]][\"PartOccurrenceID\"].replace(\"/\",\"_\")}.dat'\u001b[0m\u001b[0;34m\u001b[0m\u001b[0;34m\u001b[0m\u001b[0;34m\u001b[0m\u001b[0m\n\u001b[1;32m    347\u001b[0m                 \u001b[0;32massert\u001b[0m\u001b[0;34m(\u001b[0m\u001b[0mdata\u001b[0m\u001b[0;34m.\u001b[0m\u001b[0mnode_types_g1\u001b[0m\u001b[0;34m.\u001b[0m\u001b[0mshape\u001b[0m\u001b[0;34m[\u001b[0m\u001b[0;36m0\u001b[0m\u001b[0;34m]\u001b[0m \u001b[0;34m==\u001b[0m \u001b[0mpart1\u001b[0m\u001b[0;34m.\u001b[0m\u001b[0mnum_topologies\u001b[0m\u001b[0;34m)\u001b[0m\u001b[0;34m\u001b[0m\u001b[0;34m\u001b[0m\u001b[0m\n",
      "\u001b[0;31mKeyboardInterrupt\u001b[0m: "
     ]
    }
   ],
   "source": [
    "#start_index = 1243\n",
    "start_index = 0\n",
    "\n",
    "outpath = '/fast/jamesn8/assembly_data/mate_torch/data'\n",
    "statspath = '/fast/jamesn8/assembly_data/mate_torch/stats'\n",
    "logfile = os.path.join(statspath, 'log.txt')\n",
    "def LOG(st):\n",
    "    with open(logfile,'a') as logf:\n",
    "        logf.write(st + '\\n')\n",
    "epsilon_rel = 0.001\n",
    "max_groups = 10\n",
    "max_mcs = 10000\n",
    "max_mc_pairs = 100000\n",
    "stride = 1000\n",
    "debug_run=False\n",
    "save_stats=True\n",
    "last_mate_ckpt = 0\n",
    "last_ckpt = 0\n",
    "\n",
    "all_stats = []\n",
    "mate_stats = []\n",
    "processed_indices = []\n",
    "mate_indices = []\n",
    "invalid_part_paths_and_transforms = []\n",
    "\n",
    "run_start_time = time.time()\n",
    "for num_processed,ind in enumerate(set_E_indices[start_index:]):\n",
    "    stats = dict()\n",
    "    curr_mate_stats = []\n",
    "    #clear_output(wait=True)\n",
    "    display(f'num_processed: {num_processed+start_index}/{len(set_E_indices[start_index:])}')\n",
    "\n",
    "    #1. spatially hash all MCFs (cache hash maps for each part for re-use with individual mates)\n",
    "    #2. for all mates, ensure that each MCF is represented (keep track of closest/equivalent MCFs, log percentage of assemblies for which this holds)\n",
    "    #3. get proposals, edit appropriate ones to true based on equivalence class computed per mated pair of parts (taking outer product of equivalent MCs on left and right)\n",
    "\n",
    "    print(assembly_df.loc[ind,\"AssemblyPath\"])\n",
    "    LOG(f'{num_processed+start_index}/{len(set_E_indices[start_index:])}: processing {assembly_df.loc[ind,\"AssemblyPath\"]} at {time.time()-run_start_time}')\n",
    "    \n",
    "    part_subset = part_df.loc[ind]\n",
    "    mate_subset = mate_df.loc[ind]\n",
    "    if mate_subset.ndim == 1:\n",
    "        mate_subset = ps.DataFrame([mate_subset], columns=mate_subset.keys())\n",
    "    \n",
    "    parts = []\n",
    "    part_caches = []\n",
    "    part_paths = []\n",
    "    transforms = []\n",
    "    mcf_hashes = [] #hashes of normalized mcfs ([origin/maxdim, quat])\n",
    "    mco_hashes = [] #hashes of origins only\n",
    "    mc_frames_all = [] #[[origin, homogenized rotmatrix]] for each mc for each part\n",
    "    occ_to_index = dict()\n",
    "    \n",
    "    for j in range(part_subset.shape[0]):\n",
    "        path = os.path.join(datapath, 'data/models', *[part_subset.iloc[j][k] for k in ['did','mv','eid','config']], f'{part_subset.iloc[j][\"PartId\"]}.xt')\n",
    "        assert(os.path.isfile(path))\n",
    "        with open(path) as partf:\n",
    "            part_str = partf.read()\n",
    "            part = Part(part_str)\n",
    "            part_paths.append(path)\n",
    "            part_caches.append(part_str)\n",
    "            parts.append(part)\n",
    "            tf = part_subset.iloc[j]['Transform']\n",
    "            transforms.append(tf)\n",
    "            occ_to_index[part_subset.iloc[j]['PartOccurrenceID']] = j\n",
    "    \n",
    "    \n",
    "    bbox = global_bounding_box(parts, transforms)\n",
    "    if bbox is None:\n",
    "        LOG('skipping due to no geometry')\n",
    "        continue\n",
    "    minPt, maxPt = bbox\n",
    "    \n",
    "    median = bbox.mean(axis=0)\n",
    "    dims = maxPt - minPt\n",
    "    maxdim = max(dims)\n",
    "    #maxdim = max([(part.bounding_box()[1]-part.bounding_box()[0]).max() for part in parts])\n",
    "    threshold = maxdim * epsilon_rel\n",
    "    \n",
    "    p_normalized = np.identity(4, dtype=float)\n",
    "    p_normalized[:3,3] = -median\n",
    "    p_normalized[3,3] = maxdim #todo: figure out if this is double the factor\n",
    "\n",
    "    norm_matrices = [p_normalized @ tf for tf in transforms]\n",
    "    normalized_parts = [Part(cached_part, mat) for cached_part, mat in zip(part_caches, norm_matrices)]\n",
    "    num_invalid_parts = 0\n",
    "    for npart, path, mat in zip(normalized_parts, part_paths, norm_matrices):\n",
    "        if not npart.valid:\n",
    "            LOG(f'invalid part {path}')\n",
    "            LOG(f'transform:\\n{mat}')\n",
    "            num_invalid_parts += 1\n",
    "    stats['num_invalid_transformed_parts'] = num_invalid_parts\n",
    "    stats['num_normalized_parts_with_different_graph_size'] = 0\n",
    "    for npart, part in zip(normalized_parts, parts):\n",
    "        if npart.num_topologies != part.num_topologies:\n",
    "            stats['num_normalized_parts_with_different_graph_size'] += 1\n",
    "    \n",
    "    total_mcs = sum([len(part.all_mate_connectors) for part in parts])\n",
    "    stats['total_mates'] = mate_subset.shape[0]\n",
    "    stats['total_parts'] = len(parts)\n",
    "    stats['maxdim'] = maxdim\n",
    "    stats['total_mcs'] = total_mcs\n",
    "\n",
    "    for j in range(len(parts)):\n",
    "        part = parts[j]\n",
    "        tf = transforms[j]\n",
    "        mc_frames = []\n",
    "        mc_frames_normalized = []\n",
    "        mc_origins = []\n",
    "        for mc in part.all_mate_connectors:\n",
    "            cs = mc.get_coordinate_system()\n",
    "            origin, frame = cs_to_origin_frame(tf @ cs)\n",
    "            frame_homogenized = homogenize_frame(frame, z_flip_only=True)\n",
    "            #all_points.append(origin)\n",
    "            rot = R.from_matrix(frame_homogenized).as_quat()\n",
    "            mc_origins.append(origin)\n",
    "            mc_frames.append((origin, frame_homogenized))\n",
    "            mc_frames_normalized.append(np.concatenate([origin/maxdim, rot]))\n",
    "        mc_frames_all.append(mc_frames)\n",
    "        frame_hash = NNHash(mc_frames_normalized, 7, epsilon_rel)\n",
    "        origin_hash = NNHash(mc_origins, 3, threshold)\n",
    "        #frame_hash = NNHash([mc_frame[:3] for mc_frame in mc_frames], 3, threshold)\n",
    "        mcf_hashes.append(frame_hash)\n",
    "        mco_hashes.append(origin_hash)\n",
    "\n",
    "    stats['invalid_frames'] = 0\n",
    "    stats['invalid_mates'] = 0\n",
    "    stats['invalid_coincident_origins'] = 0\n",
    "    stats['invalid_permuted_z'] = 0\n",
    "    \n",
    "    mate_matches = [] #list of (left MC IDs, right MC Ids) based on the type of mate\n",
    "    part_pair_to_mate = dict()\n",
    "\n",
    "    #all_points = np.array(all_points)\n",
    "    #p = mp.plot(all_points)\n",
    "    mate_invalids = []\n",
    "    for j in range(mate_subset.shape[0]):\n",
    "        matches = [set(), set()]\n",
    "        m_stats = dict()\n",
    "        part_indices = []\n",
    "        mate_invalid = False\n",
    "        for i in range(2):\n",
    "            occId = mate_subset.iloc[j][f'Part{i+1}']\n",
    "            partIndex = occ_to_index[occId]\n",
    "            part_indices.append(partIndex)\n",
    "            assert(part_subset.iloc[partIndex]['PartOccurrenceID'] == occId)\n",
    "            origin_local = mate_subset.iloc[j][f'Origin{i+1}']\n",
    "            frame_local = mate_subset.iloc[j][f'Axes{i+1}']\n",
    "            cs = cs_from_origin_frame(origin_local, frame_local)\n",
    "            origin, frame = cs_to_origin_frame(transforms[partIndex] @ cs)\n",
    "            frame_homogenized = homogenize_frame(frame, z_flip_only=True)\n",
    "            rot = R.from_matrix(frame_homogenized).as_quat()\n",
    "            mc_frame_normalized = np.concatenate([origin/maxdim, rot])\n",
    "            neighbors = mcf_hashes[partIndex].get_nearest_points(mc_frame_normalized)\n",
    "\n",
    "            for n in neighbors:\n",
    "                matches[i].add(n)\n",
    "            \n",
    "            b_invalid = False\n",
    "            b_num_matches = len(neighbors)\n",
    "            b_invalid_coincident_origins = False\n",
    "            b_invalid_permuted_z = False\n",
    "            \n",
    "            #compute statistics for the case where there are no matching mcs\n",
    "            if len(neighbors) == 0:\n",
    "                b_invalid = True\n",
    "                stats['invalid_frames'] += 1\n",
    "                if not mate_invalid:\n",
    "                    stats['invalid_mates'] += 1\n",
    "                    mate_invalid = True\n",
    "                \n",
    "                origin_neighbors = mco_hashes[partIndex].get_nearest_points(origin)\n",
    "                if len(origin_neighbors) > 0:\n",
    "                    b_invalid_coincident_origins = True\n",
    "                    stats['invalid_coincident_origins'] += 1\n",
    "                    n = next(iter(origin_neighbors))\n",
    "                    \n",
    "                    #detect whether allowing Z permutations would make this frame match\n",
    "                    c_frame = mc_frames_all[partIndex][n][1]\n",
    "                    c_frame_homogenized = homogenize_frame(c_frame, z_flip_only=False)\n",
    "                    mate_frame_homogenized = homogenize_frame(frame, z_flip_only=False)\n",
    "                    dist = LA.norm(c_frame_homogenized - mate_frame_homogenized)\n",
    "\n",
    "                    if dist < threshold:\n",
    "                        b_invalid_permuted_z = True\n",
    "                        stats['invalid_permuted_z'] += 1\n",
    "            else:\n",
    "                mateType = mate_subset.iloc[j]['Type']\n",
    "                mc_frames = mc_frames_all[partIndex]\n",
    "                for k,c_origin_frame in enumerate(mc_frames):\n",
    "                    c_origin, c_frame = c_origin_frame\n",
    "                    axisdist = LA.norm(c_frame[:,2] - frame_homogenized[:,2])\n",
    "                    if axisdist < epsilon_rel:\n",
    "                        projdist = np.inf\n",
    "                        if mateType == 'CYLINDRICAL' or mateType == 'SLIDER':\n",
    "                            c_origin_proj = c_origin @ frame_homogenized[:,:2]\n",
    "                            origin_proj = origin @ frame_homogenized[:,:2]\n",
    "                            projdist = LA.norm(c_origin_proj - origin_proj)\n",
    "                        elif mateType == 'PLANAR' or mateType == 'PARALLEL':\n",
    "                            c_origin_proj = c_origin.dot(frame_homogenized[:,2])\n",
    "                            origin_proj = origin.dot(frame_homogenized[:,2])\n",
    "                            projdist = abs(c_origin_proj - origin_proj)\n",
    "                        if projdist < epsilon_rel:\n",
    "                            matches[i].add(k)\n",
    "                    \n",
    "            \n",
    "            m_stats[f'invalid_frame_{i}'] = b_invalid\n",
    "            m_stats[f'invalid_frame_{i}_coincident_origins'] = b_invalid_coincident_origins\n",
    "            m_stats[f'invalid_frame_{i}_permuted_z'] = b_invalid_permuted_z\n",
    "            m_stats[f'matches_frame_{i}'] = b_num_matches\n",
    "            m_stats[f'extra_matches_frame_{i}'] = len(matches[i]) - b_num_matches\n",
    "        m_stats['type'] = mate_subset.iloc[j]['Type']\n",
    "        m_stats['truncated_mc_pairs'] = False\n",
    "        curr_mate_stats.append(m_stats)\n",
    "        mate_indices.append(mate_subset.iloc[j]['MateIndex'])\n",
    "        mate_invalids.append(mate_invalid)\n",
    "        mate_matches.append(matches)\n",
    "        part_indices = tuple(sorted(part_indices))\n",
    "        part_pair_to_mate[part_indices] = j#mate_subset.iloc[j]['Type']\n",
    "    \n",
    "    if total_mcs <= max_mcs and stats['num_normalized_parts_with_different_graph_size'] == 0:\n",
    "        stats['false_part_pairs'] = 0\n",
    "        stats['missed_part_pairs'] = 0\n",
    "        stats['missed_mc_pairs'] = 0\n",
    "        #find assembly-level normalization matrix\n",
    "        \n",
    "        #DEBUG\n",
    "#         bbox = global_bounding_box(normalized_parts)\n",
    "#         print(f'maxdim: {maxdim}')\n",
    "#         print(f'bbox median: {bbox.mean(axis=0)}, dims: {bbox[1,:]-bbox[0,:]}')\n",
    "#         p = mp.plot(normalized_parts[0].V, normalized_parts[0].F)\n",
    "#         for part in normalized_parts[1:]:\n",
    "#             p.add_mesh(part.V, part.F)\n",
    "        \n",
    "        \n",
    "        #find match proposals\n",
    "        start = time.time()\n",
    "        proposals = mate_proposals(list(zip(transforms, parts)), epsilon_rel=epsilon_rel, max_groups=max_groups)\n",
    "        end = time.time()\n",
    "        stats['num_proposals'] = len(proposals)\n",
    "        stats['proposal_time'] = end-start\n",
    "        \n",
    "        #initialize pairs based on proposals\n",
    "        part_proposals = dict()\n",
    "        for proposal in proposals:\n",
    "            part_pair = proposal[:2]\n",
    "            if part_pair not in part_proposals:\n",
    "                mc_pair_dict = dict()\n",
    "                part_proposals[part_pair] = mc_pair_dict\n",
    "            else:\n",
    "                mc_pair_dict = part_proposals[part_pair]\n",
    "            mc_pair_dict[proposal[2:]] = -1 #mate type\n",
    "\n",
    "        #populate pairs with labels\n",
    "        #print('populating pairs with labels')\n",
    "        part_pair_found=False\n",
    "        mc_pair_found=False\n",
    "        for j in range(mate_subset.shape[0]):\n",
    "            if not mate_invalids[j]:\n",
    "                mate_type = mate_subset.iloc[j]['Type']\n",
    "                partIds = [occ_to_index[mate_subset.iloc[j][f'Part{i+1}']] for i in range(2)]\n",
    "                matches = mate_matches[j]\n",
    "\n",
    "                if partIds[0] > partIds[1]:\n",
    "                    partIds.reverse()\n",
    "                    matches = matches.copy()\n",
    "                    matches.reverse()\n",
    "                partIds = tuple(partIds)\n",
    "\n",
    "                if partIds in part_proposals:\n",
    "                    part_pair_found=True\n",
    "                    mc_pair_dict = part_proposals[partIds]\n",
    "                    for index1 in matches[0]:\n",
    "                        for index2 in matches[1]:\n",
    "                            mc_pair = index1, index2\n",
    "                            if mc_pair in mc_pair_dict:\n",
    "                                mc_pair_found=True\n",
    "                                mc_pair_dict[mc_pair] = mate_types.index(mate_type)\n",
    "            if not part_pair_found:\n",
    "                stats['missed_part_pairs'] += 1\n",
    "            if not mc_pair_found:\n",
    "                stats['missed_mc_pairs'] += 1\n",
    "            curr_mate_stats[j]['part_pair_found'] =  part_pair_found           \n",
    "            curr_mate_stats[j]['mc_pair_found'] =  mc_pair_found     \n",
    "        \n",
    "        #create data object for each part pair\n",
    "        #print('creating data object')\n",
    "        for part_pair in part_proposals:\n",
    "            if normalized_parts[part_pair[0]].valid and normalized_parts[part_pair[1]].valid:\n",
    "                mateIndex = -1\n",
    "                if part_pair in part_pair_to_mate:\n",
    "                    mateIndex = part_pair_to_mate[part_pair]\n",
    "                    mateType = mate_subset.iloc[mateIndex]['Type']\n",
    "                else:\n",
    "                    mateType='FASTENED'\n",
    "                    stats['false_part_pairs'] += 1\n",
    "                mc_pairs = part_proposals[part_pair]\n",
    "\n",
    "                if len(mc_pairs) > max_mc_pairs:\n",
    "                    curr_mate_stats[mateIndex]['truncated_mc_pairs'] = True\n",
    "                    mc_pairs_final=[]\n",
    "                    mc_pairs_false=[]\n",
    "                    for pair in mc_pairs:\n",
    "                        if mc_pairs[pair] >= 0:\n",
    "                            mc_pairs_final.append(pair)\n",
    "                        else:\n",
    "                            mc_pairs_false.append(pair)\n",
    "                    N_true = len(mc_pairs_final)\n",
    "                    N_remainder = max_mc_pairs - N_true\n",
    "                    random.shuffle(mc_pairs_false)\n",
    "                    for pair in mc_pairs_false[:N_remainder]:\n",
    "                        mc_pairs_final.append(pair)\n",
    "                else:\n",
    "                    mc_pairs_final = mc_pairs\n",
    "\n",
    "                part1 = parts[part_pair[0]]\n",
    "                part2 = parts[part_pair[1]]\n",
    "                or1, loc1, inf1 = part1.get_onshape_def_from_mc(part1.all_mate_connectors[0])\n",
    "                or2, loc2, inf2 = part2.get_onshape_def_from_mc(part2.all_mate_connectors[0])\n",
    "\n",
    "                data = UniformMateData(\n",
    "                    normalized_parts[part_pair[0]],\n",
    "                    or1,\n",
    "                    loc1,\n",
    "                    inf1,\n",
    "                    norm_matrices[part_pair[0]],\n",
    "                    normalized_parts[part_pair[1]],\n",
    "                    or2,\n",
    "                    loc2,\n",
    "                    inf2,\n",
    "                    norm_matrices[part_pair[1]],\n",
    "                    mateType\n",
    "                )\n",
    "                data = transform(data)\n",
    "                data.mc_pairs = torch.empty((6, len(mc_pairs_final)), dtype=torch.int64)\n",
    "                data.mc_pair_labels = torch.zeros(len(mc_pairs_final), dtype=torch.float32)\n",
    "                all_mcs = [parts[partIndex].all_mate_connectors for partIndex in part_pair]\n",
    "                for k,pair in enumerate(mc_pairs_final):\n",
    "                    type_index = mc_pairs[pair]\n",
    "                    if type_index >= 0:\n",
    "                        data.mc_pair_labels[k] = 1\n",
    "                    mcs = [mc_list[mcIndex] for mc_list, mcIndex in zip(all_mcs, pair)]\n",
    "                    col = torch.tensor([mcs[0].orientation_inference.topology_ref, mcs[0].location_inference.topology_ref, mcs[0].location_inference.inference_type.value,\n",
    "                          mcs[1].orientation_inference.topology_ref, mcs[1].location_inference.topology_ref, mcs[1].location_inference.inference_type.value], dtype=torch.int)\n",
    "                    data.mc_pairs[:,k] = col\n",
    "                #dataname = f'{assembly_df.loc[ind,\"AssemblyPath\"]}-{part_subset.iloc[part_pair[0]][\"PartOccurrenceID\"].replace(\"/\",\"_\")}-{part_subset.iloc[part_pair[1]][\"PartOccurrenceID\"].replace(\"/\",\"_\")}.dat'\n",
    "                assert(data.node_types_g1.shape[0] == part1.num_topologies)\n",
    "                assert(data.node_types_g2.shape[0] == part2.num_topologies)\n",
    "                assert(data.mc_pairs[0].max().item() < part1.num_topologies)\n",
    "                assert(data.mc_pairs[1].max().item() < part1.num_topologies)\n",
    "                assert(data.mc_pairs[3].max().item() < part2.num_topologies)\n",
    "                assert(data.mc_pairs[4].max().item() < part2.num_topologies)\n",
    "                if not debug_run:\n",
    "                    dataname = f'{ind}-{part_subset.iloc[part_pair[0]][\"PartIndex\"]}-{part_subset.iloc[part_pair[1]][\"PartIndex\"]}.dat'\n",
    "                    torch_datapath = os.path.join(outpath, dataname)\n",
    "                    torch.save(data, torch_datapath)\n",
    "                    del data\n",
    "            \n",
    "    for stat in curr_mate_stats:\n",
    "        mate_stats.append(stat)\n",
    "    all_stats.append(stats)\n",
    "    processed_indices.append(ind)\n",
    "    \n",
    "    if save_stats and (num_processed+1) % stride == 0:\n",
    "        \n",
    "        stat_df_mini = ps.DataFrame(all_stats[last_ckpt:], index=processed_indices[last_ckpt:])\n",
    "        mate_stat_df_mini = ps.DataFrame(mate_stats[last_mate_ckpt:], index=mate_indices[last_mate_ckpt:])\n",
    "        stat_df_mini.to_parquet(os.path.join(statspath, f'stats_{num_processed + start_index}.parquet'))\n",
    "        mate_stat_df_mini.to_parquet(os.path.join(statspath, f'mate_stats_{ind}.parquet'))\n",
    "        last_mate_ckpt = len(mate_indices)\n",
    "        last_ckpt = len(processed_indices)"
   ]
  },
  {
   "cell_type": "raw",
   "id": "e004b48d-4396-4ac0-9844-13a90c719c5d",
   "metadata": {},
   "source": [
    "stats_df = ps.DataFrame(all_stats, index=processed_indices)\n",
    "mate_stats_df = ps.DataFrame(mate_stats, index=mate_indices)"
   ]
  },
  {
   "cell_type": "code",
   "execution_count": null,
   "id": "33c94b07-15f6-4283-9670-f184b5e5e2d6",
   "metadata": {},
   "outputs": [],
   "source": [
    "num_processed"
   ]
  },
  {
   "cell_type": "code",
   "execution_count": 24,
   "id": "90f6ff97-7007-4574-8c20-826c2acad0d5",
   "metadata": {},
   "outputs": [
    {
     "data": {
      "text/plain": [
       "UniformMateData(amounts_data_g1=[167, 1], amounts_data_g2=[252, 1], brep_directed_edge_index_g1=[2, 284], brep_directed_edge_index_g2=[2, 450], brep_edge_types_g1=[284], brep_edge_types_g2=[450], brep_edges_g1=[2, 284], brep_edges_g2=[2, 450], face_edge_edge_index_g1=[2, 128], face_edge_edge_index_g2=[2, 200], face_edge_edge_map_g1=[64, 1], face_edge_edge_map_g2=[100, 1], face_edge_edge_types_g1=[64], face_edge_edge_types_g2=[100], face_edge_edges_g1=[2, 64], face_edge_edges_g2=[2, 100], face_edge_topology_map_g1=[2, 284], face_edge_topology_map_g2=[2, 450], left_mc_individual_labels=[18], left_mc_individual_refs=[4, 18], mate_type=[1], mc_pair_labels=[8179], mc_pair_type=[162], mc_pairs=[6, 8179], mc_pairs_left_cs=[162, 16], mc_pairs_right_cs=[162, 16], node_types_g1=[167], node_types_g2=[252], num_G_edges_g1=64, num_G_edges_g2=100, num_G_faces_g1=31, num_G_faces_g2=46, num_G_loops_g1=36, num_G_loops_g2=50, num_G_verts_g1=36, num_G_verts_g2=56, p_normalized_g1=[4, 4], p_normalized_g2=[4, 4], parametric_args_g1=[167, 8], parametric_args_g2=[252, 8], parametric_fns_g1=[167], parametric_fns_g2=[252], right_mc_individual_labels=[18], right_mc_individual_refs=[4, 18], summary_data_g1=[167, 15], summary_data_g2=[252, 15])"
      ]
     },
     "execution_count": 24,
     "metadata": {},
     "output_type": "execute_result"
    }
   ],
   "source": [
    "data"
   ]
  },
  {
   "cell_type": "code",
   "execution_count": 26,
   "id": "40ef0ebe-0122-40f1-b521-28415d849351",
   "metadata": {},
   "outputs": [
    {
     "data": {
      "text/plain": [
       "torch.Size([252])"
      ]
     },
     "execution_count": 26,
     "metadata": {},
     "output_type": "execute_result"
    }
   ],
   "source": [
    "data.node_types_g2.shape"
   ]
  },
  {
   "cell_type": "code",
   "execution_count": 27,
   "id": "21c79dd2-b791-4489-a358-ed9d8b40e71f",
   "metadata": {},
   "outputs": [
    {
     "data": {
      "text/plain": [
       "<Part with 280 nodes and 502 links>"
      ]
     },
     "execution_count": 27,
     "metadata": {},
     "output_type": "execute_result"
    }
   ],
   "source": [
    "part2"
   ]
  },
  {
   "cell_type": "code",
   "execution_count": 28,
   "id": "2f91d855-5d8e-42f3-94e8-3b771bd29c73",
   "metadata": {},
   "outputs": [
    {
     "data": {
      "text/plain": [
       "<Part with 252 nodes and 450 links>"
      ]
     },
     "execution_count": 28,
     "metadata": {},
     "output_type": "execute_result"
    }
   ],
   "source": [
    "normalized_parts[part_pair[1]]"
   ]
  },
  {
   "cell_type": "markdown",
   "id": "a08c9a54-651b-4f8c-b6cb-7c2928072748",
   "metadata": {},
   "source": [
    "# Tmp space"
   ]
  },
  {
   "cell_type": "code",
   "execution_count": 31,
   "id": "d759e28d-2036-4e68-a035-0e143bdca3be",
   "metadata": {},
   "outputs": [],
   "source": [
    "from automate.data.saved_dataset import SavedDataset\n",
    "from torch_geometric.data import Batch\n",
    "from automate.data.transforms import select_full_relations\n",
    "import torch\n",
    "from torch_geometric.data.dataloader import DataLoader"
   ]
  },
  {
   "cell_type": "code",
   "execution_count": 32,
   "id": "113c9357-c2f7-4184-a772-de886ec2f7d4",
   "metadata": {},
   "outputs": [],
   "source": [
    "indexfile = '/fast/jamesn8/assembly_data/mate_torch_norm_match/index_partial2_filtered_train.txt'\n",
    "dataset = SavedDataset(indexfile, '/fast/jamesn8/assembly_data/mate_torch_norm_match/data')"
   ]
  },
  {
   "cell_type": "code",
   "execution_count": 35,
   "id": "0730141a-01d2-4323-8b28-3ce5ed18c636",
   "metadata": {},
   "outputs": [],
   "source": [
    "follow_batch=[\n",
    "            'node_types_g1', 'node_types_g2',\n",
    "            'mc_index_g1', 'mc_index_g2',\n",
    "            'mc_pair_labels',\n",
    "            'left_mc_individual_labels', 'right_mc_individual_labels'\n",
    "        ]\n",
    "dataloader = DataLoader(dataset, batch_size=4, follow_batch=follow_batch)"
   ]
  },
  {
   "cell_type": "code",
   "execution_count": 40,
   "id": "303756f3-a65d-40b6-9ce5-a06f644ef445",
   "metadata": {},
   "outputs": [],
   "source": [
    "pos_counts=0\n",
    "neg_counts=0\n",
    "for i,data in enumerate(dataloader):\n",
    "    pos_counts += data.mc_pair_labels.nonzero().size(0)\n",
    "    neg_counts += (data.mc_pair_labels == 0).nonzero().size(0)\n",
    "    if i > 10000:\n",
    "        break"
   ]
  },
  {
   "cell_type": "code",
   "execution_count": 41,
   "id": "97557d67-77f7-4996-a855-666bc893d97c",
   "metadata": {},
   "outputs": [
    {
     "data": {
      "text/plain": [
       "2784086"
      ]
     },
     "execution_count": 41,
     "metadata": {},
     "output_type": "execute_result"
    }
   ],
   "source": [
    "pos_counts"
   ]
  },
  {
   "cell_type": "code",
   "execution_count": 42,
   "id": "0329fe32-5a3b-4aa2-8edc-c0d916809649",
   "metadata": {},
   "outputs": [
    {
     "data": {
      "text/plain": [
       "69725667"
      ]
     },
     "execution_count": 42,
     "metadata": {},
     "output_type": "execute_result"
    }
   ],
   "source": [
    "neg_counts"
   ]
  },
  {
   "cell_type": "code",
   "execution_count": 43,
   "id": "aa27cb73-03b4-425a-934a-c568d7b1ce89",
   "metadata": {},
   "outputs": [
    {
     "data": {
      "text/plain": [
       "25.044365368023833"
      ]
     },
     "execution_count": 43,
     "metadata": {},
     "output_type": "execute_result"
    }
   ],
   "source": [
    "neg_counts/pos_counts"
   ]
  },
  {
   "cell_type": "code",
   "execution_count": null,
   "id": "e27ca73b-747e-4b3d-a950-c36054e6f8e1",
   "metadata": {},
   "outputs": [],
   "source": []
  }
 ],
 "metadata": {
  "kernelspec": {
   "display_name": "Python 3 (ipykernel)",
   "language": "python",
   "name": "python3"
  },
  "language_info": {
   "codemirror_mode": {
    "name": "ipython",
    "version": 3
   },
   "file_extension": ".py",
   "mimetype": "text/x-python",
   "name": "python",
   "nbconvert_exporter": "python",
   "pygments_lexer": "ipython3",
   "version": "3.9.6"
  }
 },
 "nbformat": 4,
 "nbformat_minor": 5
}
