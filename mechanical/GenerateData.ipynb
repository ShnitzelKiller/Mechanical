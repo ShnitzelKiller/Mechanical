{
 "cells": [
  {
   "cell_type": "code",
   "execution_count": 1,
   "id": "5975519a-e887-4995-8b69-1e144588aa80",
   "metadata": {},
   "outputs": [],
   "source": [
    "import numpy as np\n",
    "import numpy.linalg as LA\n",
    "import meshplot as mp\n",
    "from IPython.display import JSON as DJSON\n",
    "from IPython.display import clear_output\n",
    "from pspart import Part\n",
    "from pspart import NNHash\n",
    "import os\n",
    "import pandas as ps\n",
    "from mate_proposals import mate_proposals, homogenize_frame\n",
    "from scipy.spatial.transform import Rotation as R\n",
    "import meshplot as mp\n",
    "import onshape.brepio as brepio"
   ]
  },
  {
   "cell_type": "code",
   "execution_count": 2,
   "id": "7bea5b3a-898c-4b9a-a8b1-75d8398c61fe",
   "metadata": {},
   "outputs": [],
   "source": [
    "datapath = '/projects/grail/benjones/cadlab'"
   ]
  },
  {
   "cell_type": "code",
   "execution_count": 3,
   "id": "f887aec9-4b5b-498b-b5c1-9ca0911d0fdd",
   "metadata": {},
   "outputs": [],
   "source": [
    "name = '/fast/jamesn8/assembly_data/assembly_data_with_transforms_all.h5'\n",
    "assembly_df = ps.read_hdf(name,'assembly')\n",
    "mate_df = ps.read_hdf(name,'mate')\n",
    "part_df = ps.read_hdf(name,'part')\n",
    "mate_df['MateIndex'] = mate_df.index"
   ]
  },
  {
   "cell_type": "code",
   "execution_count": 4,
   "id": "ac22affa-4a11-4b76-9558-54f430f9416d",
   "metadata": {},
   "outputs": [],
   "source": [
    "mate_df.set_index('Assembly', inplace=True)\n",
    "part_df.set_index('Assembly', inplace=True)    "
   ]
  },
  {
   "cell_type": "code",
   "execution_count": 5,
   "id": "7225ebf6-20b8-42aa-bca2-fb5133bbeddb",
   "metadata": {},
   "outputs": [],
   "source": [
    "with open('fully_connected_moving_no_multimates.txt','r') as f:\n",
    "    set_E_indices = [int(l.rstrip()) for l in f.readlines()]"
   ]
  },
  {
   "cell_type": "code",
   "execution_count": 39,
   "id": "b9bc8516-aa0e-4846-8b2b-99327bf2d261",
   "metadata": {},
   "outputs": [
    {
     "name": "stdout",
     "output_type": "stream",
     "text": [
      "assembly 0e2de88aa724d660e4093564_52ea6bfdd317472a99efcffa_316901caae65ff373c71ef88\n",
      "assembly 20acdbfb860686db5801f7db_5676ec505c49f9284cf6f810_69f3bde151e038c3d9a8d55c\n",
      "assembly 7886c69b1f149069e7a43bdb_b809b448b6da81db4b2388a0_1dc646f33c96254f526ea650\n",
      "assembly e04c8a49d30adb3a5c0f1deb_3d9b45359a15b248f75e41a2_070617843f30f132ab9e6661\n",
      "assembly 2a9129b6c469ef81930627d8_51e1cbb836847c0b96790da2_e1f1943b65033b76f7434e20\n",
      "assembly 571ffca7e4b0e6559901315e_bfd7d4f20f860739096330d1_98ad8c8c79c4beba764ec80e\n",
      "assembly d8a12ba89bdafc500aff51b8_a249df9d9e0cc2c14fe98430_2f63c6ac02f4bb95b19ad6b4\n",
      "assembly 5e59e0a31e2d063179d0ef27_1266e2d5d425f14833ba440e_b18634310f6afcbec59c3f10\n",
      "assembly e4803faed1b9357f8db3722c_ce43730c0f1758f756fc271f_c00b5256d7e874e534c083e8\n",
      "assembly 080bda692c7362d9d8f550c0_2bb4d493fe1adaf882bc9c9f_2b9ddd420bbfde38934d34ef\n"
     ]
    }
   ],
   "source": [
    "epsilon_rel = 0.001\n",
    "\n",
    "all_stats = []\n",
    "processed_indices = []\n",
    "for ind in set_E_indices[:10]:\n",
    "    stats = dict()\n",
    "    #clear_output(wait=True)\n",
    "    #display(f'num_processed: {ind}/{assembly_df.shape[0]}')\n",
    "\n",
    "    #1. spatially hash all MCFs (cache hash maps for each part for re-use with individual mates)\n",
    "    #2. for all mates, ensure that each MCF is represented (keep track of closest/equivalent MCFs, log percentage of assemblies for which this holds)\n",
    "    #3. get proposals, edit appropriate ones to true based on equivalence class computed per mated pair of parts (taking outer product of equivalent MCs on left and right)\n",
    "\n",
    "    print(f'assembly {assembly_df.loc[ind,\"AssemblyPath\"]}')\n",
    "    \n",
    "    part_subset = part_df.loc[ind]\n",
    "    mate_subset = mate_df.loc[ind]\n",
    "    if mate_subset.ndim == 1:\n",
    "        mate_subset = ps.DataFrame([mate_subset], columns=mate_subset.keys())\n",
    "    \n",
    "    parts = []\n",
    "    transforms = []\n",
    "    mcf_hashes = []\n",
    "    mco_hashes = []\n",
    "    mc_frames_all = []\n",
    "    occ_to_index = dict()\n",
    "    \n",
    "    #debug\n",
    "    #all_points = []\n",
    "    \n",
    "    for j in range(part_subset.shape[0]):\n",
    "        path = os.path.join(datapath, 'data/models', *[part_subset.iloc[j][k] for k in ['did','mv','eid','config']], f'{part_subset.iloc[j][\"PartId\"]}.xt')\n",
    "        assert(os.path.isfile(path))\n",
    "        part = Part(path)\n",
    "        parts.append(part)\n",
    "        tf = part_subset.iloc[j]['Transform']\n",
    "        transforms.append(tf)\n",
    "        occ_to_index[part_subset.iloc[j]['PartOccurrenceID']] = j\n",
    "        \n",
    "    maxdim = max([(part.bounding_box()[1]-part.bounding_box()[0]).max() for part in parts])\n",
    "    threshold = maxdim * epsilon_rel\n",
    "    \n",
    "    for j in range(len(parts)):\n",
    "        part = parts[j]\n",
    "        tf = transforms[j]\n",
    "        mc_frames = []\n",
    "        mc_origins = []\n",
    "        for mc in part.all_mate_connectors:\n",
    "            cs = mc.get_coordinate_system()\n",
    "            frame = tf[:3,:3] @ cs[:3,:3]\n",
    "            frame_homogenized = homogenize_frame(frame, z_flip_only=True)\n",
    "            origin = tf[:3,:3] @ cs[:3,3] + tf[:3,3]\n",
    "            #all_points.append(origin)\n",
    "            rot = R.from_matrix(frame_homogenized).as_quat()\n",
    "            mc_origins.append(origin)\n",
    "            mc_frames.append(np.concatenate([origin/maxdim, rot]))\n",
    "        mc_frames_all.append(mc_frames)\n",
    "        frame_hash = NNHash(mc_frames, 7, epsilon_rel)\n",
    "        origin_hash = NNHash(mc_origins, 3, threshold)\n",
    "        #frame_hash = NNHash([mc_frame[:3] for mc_frame in mc_frames], 3, threshold)\n",
    "        mcf_hashes.append(frame_hash)\n",
    "        mco_hashes.append(origin_hash)\n",
    "    \n",
    "    stats['invalid_frames'] = 0\n",
    "    stats['invalid_mates'] = 0\n",
    "    stats['invalid_coincident_origins'] = 0\n",
    "    stats['invalid_permuted_z'] = 0\n",
    "    stats['total_mates'] = mate_subset.shape[0]\n",
    "    stats['maxdim'] = maxdim\n",
    "    \n",
    "    #all_points = np.array(all_points)\n",
    "    #p = mp.plot(all_points)\n",
    "    for j in range(mate_subset.shape[0]):\n",
    "        mate_invalid = False\n",
    "        for i in range(2):\n",
    "            occId = mate_subset.iloc[j][f'Part{i+1}']\n",
    "            partIndex = occ_to_index[occId]\n",
    "            assert(part_subset.iloc[partIndex]['PartOccurrenceID'] == occId)\n",
    "            origin_local = mate_subset.iloc[j][f'Origin{i+1}']\n",
    "            frame_local = mate_subset.iloc[j][f'Axes{i+1}']\n",
    "            tf = transforms[partIndex]\n",
    "            origin = tf[:3,:3] @ origin_local + tf[:3,3]            \n",
    "            frame = tf[:3,:3] @ frame_local\n",
    "            frame_homogenized = homogenize_frame(frame, z_flip_only=True)\n",
    "            rot = R.from_matrix(frame_homogenized).as_quat()\n",
    "            mc_frame = np.concatenate([origin/maxdim, rot])\n",
    "            neighbors = mcf_hashes[partIndex].get_nearest_points(mc_frame)\n",
    "            \n",
    "            if len(neighbors) == 0:\n",
    "                stats['invalid_frames'] += 1\n",
    "                if not mate_invalid:\n",
    "                    stats['invalid_mates'] += 1\n",
    "                mate_invalid = True\n",
    "                origin_neighbors = mco_hashes[partIndex].get_nearest_points(origin)\n",
    "                if len(origin_neighbors) > 0:\n",
    "                    stats['invalid_coincident_origins'] += 1\n",
    "                    n = next(iter(origin_neighbors))\n",
    "                    c_frame = R.from_quat(mc_frames_all[partIndex][n][3:]).as_matrix()\n",
    "                    c_frame_homogenized = homogenize_frame(c_frame, z_flip_only=False)\n",
    "                    mate_frame_homogenized = homogenize_frame(frame, z_flip_only=False)\n",
    "                    dist = LA.norm(c_frame_homogenized - mate_frame_homogenized)\n",
    "                    if dist < threshold:\n",
    "                        stats['invalid_permuted_z'] += 1\n",
    "                    \n",
    "#             #neighbors = mcf_hashes[occ_to_index[occId]].get_nearest_points(origin)\n",
    "#             print(f'{i} closest dist (fraction of maxdim): {minDist/maxdim}')\n",
    "#             invalid = dict()\n",
    "#             invalid['mc_origin'] = mc_frames_all[partIndex][k][:3]\n",
    "#             invalid['mc_frame'] = R.from_quat(mc_frames_all[partIndex][k][3:]).as_matrix() \n",
    "#             invalid['mate_origin'] = origin\n",
    "#             invalid['mate_frame'] = frame_homogenized\n",
    "#             invalid['maxdim'] = maxdim\n",
    "#             if not found:\n",
    "#                 num_invalid_mates += 1\n",
    "#                 invalids.append(invalid)\n",
    "#                 #p.add_points(origin[np.newaxis],shading={'point_color':'blue','point_size':0.02})\n",
    "#                 print(f'invalid mate {mate_subset.iloc[j][\"MateIndex\"]}') \n",
    "#                 break\n",
    "#             else:\n",
    "#                 valids.append(invalid)\n",
    "    all_stats.append(stats)\n",
    "    processed_indices.append(ind)\n",
    "stats_df = ps.DataFrame(all_stats, index=processed_indices)"
   ]
  },
  {
   "cell_type": "code",
   "execution_count": 40,
   "id": "873af442-f230-4cf5-8875-a2dc370793d4",
   "metadata": {},
   "outputs": [
    {
     "data": {
      "text/html": [
       "<div>\n",
       "<style scoped>\n",
       "    .dataframe tbody tr th:only-of-type {\n",
       "        vertical-align: middle;\n",
       "    }\n",
       "\n",
       "    .dataframe tbody tr th {\n",
       "        vertical-align: top;\n",
       "    }\n",
       "\n",
       "    .dataframe thead th {\n",
       "        text-align: right;\n",
       "    }\n",
       "</style>\n",
       "<table border=\"1\" class=\"dataframe\">\n",
       "  <thead>\n",
       "    <tr style=\"text-align: right;\">\n",
       "      <th></th>\n",
       "      <th>invalid_frames</th>\n",
       "      <th>invalid_mates</th>\n",
       "      <th>invalid_coincident_origins</th>\n",
       "      <th>invalid_permuted_z</th>\n",
       "      <th>total_mates</th>\n",
       "      <th>maxdim</th>\n",
       "    </tr>\n",
       "  </thead>\n",
       "  <tbody>\n",
       "    <tr>\n",
       "      <th>18</th>\n",
       "      <td>11</td>\n",
       "      <td>9</td>\n",
       "      <td>1</td>\n",
       "      <td>0</td>\n",
       "      <td>17</td>\n",
       "      <td>0.274000</td>\n",
       "    </tr>\n",
       "    <tr>\n",
       "      <th>19</th>\n",
       "      <td>0</td>\n",
       "      <td>0</td>\n",
       "      <td>0</td>\n",
       "      <td>0</td>\n",
       "      <td>2</td>\n",
       "      <td>2.159000</td>\n",
       "    </tr>\n",
       "    <tr>\n",
       "      <th>22</th>\n",
       "      <td>1</td>\n",
       "      <td>1</td>\n",
       "      <td>0</td>\n",
       "      <td>0</td>\n",
       "      <td>21</td>\n",
       "      <td>0.200000</td>\n",
       "    </tr>\n",
       "    <tr>\n",
       "      <th>23</th>\n",
       "      <td>0</td>\n",
       "      <td>0</td>\n",
       "      <td>0</td>\n",
       "      <td>0</td>\n",
       "      <td>2</td>\n",
       "      <td>0.414338</td>\n",
       "    </tr>\n",
       "    <tr>\n",
       "      <th>26</th>\n",
       "      <td>7</td>\n",
       "      <td>7</td>\n",
       "      <td>0</td>\n",
       "      <td>0</td>\n",
       "      <td>15</td>\n",
       "      <td>0.015000</td>\n",
       "    </tr>\n",
       "    <tr>\n",
       "      <th>38</th>\n",
       "      <td>0</td>\n",
       "      <td>0</td>\n",
       "      <td>0</td>\n",
       "      <td>0</td>\n",
       "      <td>6</td>\n",
       "      <td>0.228600</td>\n",
       "    </tr>\n",
       "    <tr>\n",
       "      <th>40</th>\n",
       "      <td>0</td>\n",
       "      <td>0</td>\n",
       "      <td>0</td>\n",
       "      <td>0</td>\n",
       "      <td>1</td>\n",
       "      <td>0.023094</td>\n",
       "    </tr>\n",
       "    <tr>\n",
       "      <th>45</th>\n",
       "      <td>0</td>\n",
       "      <td>0</td>\n",
       "      <td>0</td>\n",
       "      <td>0</td>\n",
       "      <td>3</td>\n",
       "      <td>0.114300</td>\n",
       "    </tr>\n",
       "    <tr>\n",
       "      <th>53</th>\n",
       "      <td>2</td>\n",
       "      <td>2</td>\n",
       "      <td>0</td>\n",
       "      <td>0</td>\n",
       "      <td>4</td>\n",
       "      <td>0.189050</td>\n",
       "    </tr>\n",
       "    <tr>\n",
       "      <th>64</th>\n",
       "      <td>0</td>\n",
       "      <td>0</td>\n",
       "      <td>0</td>\n",
       "      <td>0</td>\n",
       "      <td>42</td>\n",
       "      <td>0.127000</td>\n",
       "    </tr>\n",
       "  </tbody>\n",
       "</table>\n",
       "</div>"
      ],
      "text/plain": [
       "    invalid_frames  invalid_mates  invalid_coincident_origins  \\\n",
       "18              11              9                           1   \n",
       "19               0              0                           0   \n",
       "22               1              1                           0   \n",
       "23               0              0                           0   \n",
       "26               7              7                           0   \n",
       "38               0              0                           0   \n",
       "40               0              0                           0   \n",
       "45               0              0                           0   \n",
       "53               2              2                           0   \n",
       "64               0              0                           0   \n",
       "\n",
       "    invalid_permuted_z  total_mates    maxdim  \n",
       "18                   0           17  0.274000  \n",
       "19                   0            2  2.159000  \n",
       "22                   0           21  0.200000  \n",
       "23                   0            2  0.414338  \n",
       "26                   0           15  0.015000  \n",
       "38                   0            6  0.228600  \n",
       "40                   0            1  0.023094  \n",
       "45                   0            3  0.114300  \n",
       "53                   0            4  0.189050  \n",
       "64                   0           42  0.127000  "
      ]
     },
     "execution_count": 40,
     "metadata": {},
     "output_type": "execute_result"
    }
   ],
   "source": [
    "stats_df"
   ]
  },
  {
   "cell_type": "code",
   "execution_count": 38,
   "id": "b2942599-0880-4f39-9757-da2a5f2d3929",
   "metadata": {},
   "outputs": [
    {
     "data": {
      "text/plain": [
       "[(9, 17),\n",
       " (0, 2),\n",
       " (1, 21),\n",
       " (0, 2),\n",
       " (7, 15),\n",
       " (0, 6),\n",
       " (0, 1),\n",
       " (0, 3),\n",
       " (2, 4),\n",
       " (0, 42)]"
      ]
     },
     "execution_count": 38,
     "metadata": {},
     "output_type": "execute_result"
    }
   ],
   "source": [
    "invalid_counts_old"
   ]
  },
  {
   "cell_type": "code",
   "execution_count": 33,
   "id": "6c51d412-3952-48da-bda1-417022a4f87e",
   "metadata": {},
   "outputs": [],
   "source": [
    "invalid_counts_old = invalid_counts"
   ]
  },
  {
   "cell_type": "code",
   "execution_count": 13,
   "id": "1acb48d1-d02d-4502-9359-1dda81986bba",
   "metadata": {},
   "outputs": [],
   "source": [
    "from visualize import add_axis"
   ]
  },
  {
   "cell_type": "code",
   "execution_count": 26,
   "id": "3530f5b4-149a-4cc1-86ef-ede6afaf5214",
   "metadata": {},
   "outputs": [
    {
     "data": {
      "application/vnd.jupyter.widget-view+json": {
       "model_id": "0fb0183440064f19a3d3c9bd9c1a49ca",
       "version_major": 2,
       "version_minor": 0
      },
      "text/plain": [
       "Renderer(camera=PerspectiveCamera(children=(DirectionalLight(color='white', intensity=0.6, position=(-0.057504…"
      ]
     },
     "metadata": {},
     "output_type": "display_data"
    }
   ],
   "source": [
    "invalid = invalids[6]\n",
    "p = mp.plot(np.vstack([invalid['mc_origin'], invalid['mate_origin']]))\n",
    "add_axis(p, invalid['mc_origin'], invalid['mc_frame'][:,0], invalid['mc_frame'][:,1], invalid['mc_frame'][:,2], scale=invalid['maxdim']/10)\n",
    "add_axis(p, invalid['mate_origin'], invalid['mate_frame'][:,0], invalid['mate_frame'][:,1], invalid['mate_frame'][:,2], scale=invalid['maxdim']/10)"
   ]
  },
  {
   "cell_type": "code",
   "execution_count": null,
   "id": "c07e751d-2f85-4594-a87a-4eebf7f47b6e",
   "metadata": {},
   "outputs": [
    {
     "data": {
      "text/plain": [
       "[376,\n",
       " 377,\n",
       " 378,\n",
       " 379,\n",
       " 380,\n",
       " 381,\n",
       " 382,\n",
       " 383,\n",
       " 384,\n",
       " 385,\n",
       " 386,\n",
       " 387,\n",
       " 388,\n",
       " 389,\n",
       " 390,\n",
       " 391,\n",
       " 392]"
      ]
     },
     "execution_count": 83,
     "metadata": {},
     "output_type": "execute_result"
    }
   ],
   "source": [
    "list(mate_subset['MateIndex'])"
   ]
  },
  {
   "cell_type": "code",
   "execution_count": 96,
   "id": "ab565332-6975-42d1-9407-26f9ba2415d0",
   "metadata": {},
   "outputs": [
    {
     "data": {
      "text/html": [
       "<div>\n",
       "<style scoped>\n",
       "    .dataframe tbody tr th:only-of-type {\n",
       "        vertical-align: middle;\n",
       "    }\n",
       "\n",
       "    .dataframe tbody tr th {\n",
       "        vertical-align: top;\n",
       "    }\n",
       "\n",
       "    .dataframe thead th {\n",
       "        text-align: right;\n",
       "    }\n",
       "</style>\n",
       "<table border=\"1\" class=\"dataframe\">\n",
       "  <thead>\n",
       "    <tr style=\"text-align: right;\">\n",
       "      <th></th>\n",
       "      <th>AssemblyPath</th>\n",
       "      <th>ConnectedComponents</th>\n",
       "      <th>RigidPieces</th>\n",
       "      <th>LonePieces</th>\n",
       "      <th>NumParts</th>\n",
       "      <th>NumBinaryPartMates</th>\n",
       "      <th>TotalMates</th>\n",
       "    </tr>\n",
       "  </thead>\n",
       "  <tbody>\n",
       "    <tr>\n",
       "      <th>18</th>\n",
       "      <td>0e2de88aa724d660e4093564_52ea6bfdd317472a99efc...</td>\n",
       "      <td>1</td>\n",
       "      <td>10</td>\n",
       "      <td>0</td>\n",
       "      <td>18</td>\n",
       "      <td>17</td>\n",
       "      <td>17</td>\n",
       "    </tr>\n",
       "  </tbody>\n",
       "</table>\n",
       "</div>"
      ],
      "text/plain": [
       "                                         AssemblyPath  ConnectedComponents  \\\n",
       "18  0e2de88aa724d660e4093564_52ea6bfdd317472a99efc...                    1   \n",
       "\n",
       "    RigidPieces  LonePieces  NumParts  NumBinaryPartMates  TotalMates  \n",
       "18           10           0        18                  17          17  "
      ]
     },
     "execution_count": 96,
     "metadata": {},
     "output_type": "execute_result"
    }
   ],
   "source": [
    "assembly_df[assembly_df['AssemblyPath'] == '0e2de88aa724d660e4093564_52ea6bfdd317472a99efcffa_316901caae65ff373c71ef88']"
   ]
  },
  {
   "cell_type": "code",
   "execution_count": 99,
   "id": "996e4afe-c6f9-404c-8dc9-db7dcc978117",
   "metadata": {},
   "outputs": [
    {
     "data": {
      "text/plain": [
       "[376,\n",
       " 377,\n",
       " 378,\n",
       " 379,\n",
       " 380,\n",
       " 381,\n",
       " 382,\n",
       " 383,\n",
       " 384,\n",
       " 385,\n",
       " 386,\n",
       " 387,\n",
       " 388,\n",
       " 389,\n",
       " 390,\n",
       " 391,\n",
       " 392]"
      ]
     },
     "execution_count": 99,
     "metadata": {},
     "output_type": "execute_result"
    }
   ],
   "source": [
    "list(mate_df.loc[18,'MateIndex'])"
   ]
  },
  {
   "cell_type": "code",
   "execution_count": null,
   "id": "af15fc9b-16da-4927-8869-329d5282ea05",
   "metadata": {},
   "outputs": [],
   "source": []
  }
 ],
 "metadata": {
  "kernelspec": {
   "display_name": "Python 3 (ipykernel)",
   "language": "python",
   "name": "python3"
  },
  "language_info": {
   "codemirror_mode": {
    "name": "ipython",
    "version": 3
   },
   "file_extension": ".py",
   "mimetype": "text/x-python",
   "name": "python",
   "nbconvert_exporter": "python",
   "pygments_lexer": "ipython3",
   "version": "3.9.6"
  }
 },
 "nbformat": 4,
 "nbformat_minor": 5
}
