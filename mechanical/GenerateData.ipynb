{
 "cells": [
  {
   "cell_type": "code",
   "execution_count": 1,
   "id": "5975519a-e887-4995-8b69-1e144588aa80",
   "metadata": {},
   "outputs": [],
   "source": [
    "import numpy as np\n",
    "import numpy.linalg as LA\n",
    "import meshplot as mp\n",
    "from IPython.display import JSON as DJSON\n",
    "from IPython.display import clear_output\n",
    "from pspart import Part\n",
    "from pspart import NNHash\n",
    "import os\n",
    "import pandas as ps\n",
    "from mate_proposals import mate_proposals, homogenize_frame\n",
    "from scipy.spatial.transform import Rotation as R\n",
    "#import meshplot as mp\n",
    "import onshape.brepio as brepio\n",
    "import time\n",
    "from automate.data.data import UniformMateData\n",
    "import torch\n",
    "import random\n",
    "from automate.lightning_models.simplified import SimplifiedJointModel\n",
    "from automate.data.transforms import compose"
   ]
  },
  {
   "cell_type": "code",
   "execution_count": 5,
   "id": "7bea5b3a-898c-4b9a-a8b1-75d8398c61fe",
   "metadata": {},
   "outputs": [],
   "source": [
    "datapath = '/projects/grail/benjones/cadlab'"
   ]
  },
  {
   "cell_type": "code",
   "execution_count": 6,
   "id": "8a56315f-2467-48e1-9164-0134d67b7758",
   "metadata": {},
   "outputs": [
    {
     "name": "stderr",
     "output_type": "stream",
     "text": [
      "/fast/jamesn8/anaconda3/envs/torch3/lib/python3.9/site-packages/deprecate/deprecation.py:115: LightningDeprecationWarning: The `Metric` was deprecated since v1.3.0 in favor of `torchmetrics.metric.Metric`. It will be removed in v1.5.0.\n",
      "  stream(template_mgs % msg_args)\n"
     ]
    }
   ],
   "source": [
    "weights_path='/projects/grail/benjones/cadlab/dalton_lightning_logs/real_all_fn_args_amounts_sum_directedhybridgcn12/version_0/checkpoints/epoch=46-val_auc=0.666113.ckpt'\n",
    "model = SimplifiedJointModel.load_from_checkpoint(weights_path, map_location=torch.device('cpu'))\n",
    "transforms = model.transforms\n",
    "del model"
   ]
  },
  {
   "cell_type": "code",
   "execution_count": 7,
   "id": "c6e23a2c-6026-44a6-bffe-ff54c45e9814",
   "metadata": {},
   "outputs": [],
   "source": [
    "transform = compose(*(transforms[::-1]))"
   ]
  },
  {
   "cell_type": "code",
   "execution_count": 8,
   "id": "f887aec9-4b5b-498b-b5c1-9ca0911d0fdd",
   "metadata": {},
   "outputs": [],
   "source": [
    "name = '/fast/jamesn8/assembly_data/assembly_data_with_transforms_all.h5'\n",
    "assembly_df = ps.read_hdf(name,'assembly')\n",
    "mate_df = ps.read_hdf(name,'mate')\n",
    "part_df = ps.read_hdf(name,'part')\n",
    "mate_df['MateIndex'] = mate_df.index\n",
    "part_df['PartIndex'] = part_df.index"
   ]
  },
  {
   "cell_type": "code",
   "execution_count": 9,
   "id": "ac22affa-4a11-4b76-9558-54f430f9416d",
   "metadata": {},
   "outputs": [],
   "source": [
    "mate_df.set_index('Assembly', inplace=True)\n",
    "part_df.set_index('Assembly', inplace=True)    "
   ]
  },
  {
   "cell_type": "code",
   "execution_count": 10,
   "id": "7225ebf6-20b8-42aa-bca2-fb5133bbeddb",
   "metadata": {},
   "outputs": [],
   "source": [
    "with open('fully_connected_moving_no_multimates.txt','r') as f:\n",
    "    set_E_indices = [int(l.rstrip()) for l in f.readlines()]"
   ]
  },
  {
   "cell_type": "code",
   "execution_count": 11,
   "id": "4a0e9e8a-82f3-49f2-b3a5-184a53c0d60a",
   "metadata": {},
   "outputs": [],
   "source": [
    "mate_types = [\n",
    "            'PIN_SLOT',\n",
    "            'BALL',\n",
    "            'PARALLEL',\n",
    "            'SLIDER',\n",
    "            'REVOLUTE',\n",
    "            'CYLINDRICAL',\n",
    "            'PLANAR',\n",
    "            'FASTENED'\n",
    "        ]"
   ]
  },
  {
   "cell_type": "code",
   "execution_count": 12,
   "id": "d9c3344f-c07f-4050-9ba7-af7c9e17a0bb",
   "metadata": {},
   "outputs": [],
   "source": [
    "def global_bounding_box(parts, transforms=None):\n",
    "    if transforms is None:\n",
    "        allpoints = [part.V for part in parts if part.V.shape[0] > 0]\n",
    "    else:\n",
    "        allpoints = [(tf[:3,:3] @ part.V.T + tf[:3,3,np.newaxis]).T for tf, part in zip(transforms, parts) if part.V.shape[0] > 0]\n",
    "    if len(allpoints) == 0:\n",
    "        return None\n",
    "    minPt = np.array([points.min(axis=0) for points in allpoints]).min(axis=0)\n",
    "    maxPt = np.array([points.max(axis=0) for points in allpoints]).max(axis=0)\n",
    "    return np.vstack([minPt, maxPt])"
   ]
  },
  {
   "cell_type": "code",
   "execution_count": 13,
   "id": "e578e8eb-4850-4a37-a85b-7fcd0369e108",
   "metadata": {},
   "outputs": [],
   "source": [
    "def apply_transform(tf, v, is_points=True):\n",
    "    \"Apply the 4-matrix `tf` to a vector or column-wise matrix of vectors. If is_points, also add the translation.\"\n",
    "    v_trans = tf[:3,:3] @ v\n",
    "    if is_points:\n",
    "        if v.ndim==1:\n",
    "            v_trans += tf[:3,3]\n",
    "        elif v.ndim==2:\n",
    "            v_trans += tf[:3,3,np.newaxis]\n",
    "    return v_trans"
   ]
  },
  {
   "cell_type": "code",
   "execution_count": 14,
   "id": "ad1bb023-ac74-4a1c-b80a-abb6977bf23a",
   "metadata": {},
   "outputs": [],
   "source": [
    "def cs_to_origin_frame(cs):\n",
    "    return cs[:3,3], cs[:3,:3]"
   ]
  },
  {
   "cell_type": "code",
   "execution_count": 15,
   "id": "6c0c7f85-19db-46ca-9329-f9b602679c17",
   "metadata": {},
   "outputs": [],
   "source": [
    "def cs_from_origin_frame(origin, frame):\n",
    "    cs = np.identity(4, np.float64)\n",
    "    cs[:3,:3] = frame\n",
    "    cs[:3,3] = origin\n",
    "    return cs"
   ]
  },
  {
   "cell_type": "code",
   "execution_count": null,
   "id": "b9bc8516-aa0e-4846-8b2b-99327bf2d261",
   "metadata": {},
   "outputs": [
    {
     "data": {
      "text/plain": [
       "'num_processed: 0/20845'"
      ]
     },
     "metadata": {},
     "output_type": "display_data"
    },
    {
     "name": "stdout",
     "output_type": "stream",
     "text": [
      "0e2de88aa724d660e4093564_52ea6bfdd317472a99efcffa_316901caae65ff373c71ef88\n"
     ]
    },
    {
     "data": {
      "text/plain": [
       "'num_processed: 1/20845'"
      ]
     },
     "metadata": {},
     "output_type": "display_data"
    },
    {
     "name": "stdout",
     "output_type": "stream",
     "text": [
      "20acdbfb860686db5801f7db_5676ec505c49f9284cf6f810_69f3bde151e038c3d9a8d55c\n"
     ]
    },
    {
     "data": {
      "text/plain": [
       "'num_processed: 2/20845'"
      ]
     },
     "metadata": {},
     "output_type": "display_data"
    },
    {
     "name": "stdout",
     "output_type": "stream",
     "text": [
      "7886c69b1f149069e7a43bdb_b809b448b6da81db4b2388a0_1dc646f33c96254f526ea650\n",
      "ERROR TRASFORMING!\n",
      "ERROR TRASFORMING!\n"
     ]
    },
    {
     "data": {
      "text/plain": [
       "'num_processed: 3/20845'"
      ]
     },
     "metadata": {},
     "output_type": "display_data"
    },
    {
     "name": "stdout",
     "output_type": "stream",
     "text": [
      "e04c8a49d30adb3a5c0f1deb_3d9b45359a15b248f75e41a2_070617843f30f132ab9e6661\n"
     ]
    },
    {
     "data": {
      "text/plain": [
       "'num_processed: 4/20845'"
      ]
     },
     "metadata": {},
     "output_type": "display_data"
    },
    {
     "name": "stdout",
     "output_type": "stream",
     "text": [
      "2a9129b6c469ef81930627d8_51e1cbb836847c0b96790da2_e1f1943b65033b76f7434e20\n"
     ]
    },
    {
     "data": {
      "text/plain": [
       "'num_processed: 5/20845'"
      ]
     },
     "metadata": {},
     "output_type": "display_data"
    },
    {
     "name": "stdout",
     "output_type": "stream",
     "text": [
      "571ffca7e4b0e6559901315e_bfd7d4f20f860739096330d1_98ad8c8c79c4beba764ec80e\n"
     ]
    },
    {
     "data": {
      "text/plain": [
       "'num_processed: 6/20845'"
      ]
     },
     "metadata": {},
     "output_type": "display_data"
    },
    {
     "name": "stdout",
     "output_type": "stream",
     "text": [
      "d8a12ba89bdafc500aff51b8_a249df9d9e0cc2c14fe98430_2f63c6ac02f4bb95b19ad6b4\n"
     ]
    },
    {
     "data": {
      "text/plain": [
       "'num_processed: 7/20845'"
      ]
     },
     "metadata": {},
     "output_type": "display_data"
    },
    {
     "name": "stdout",
     "output_type": "stream",
     "text": [
      "5e59e0a31e2d063179d0ef27_1266e2d5d425f14833ba440e_b18634310f6afcbec59c3f10\n"
     ]
    },
    {
     "data": {
      "text/plain": [
       "'num_processed: 8/20845'"
      ]
     },
     "metadata": {},
     "output_type": "display_data"
    },
    {
     "name": "stdout",
     "output_type": "stream",
     "text": [
      "e4803faed1b9357f8db3722c_ce43730c0f1758f756fc271f_c00b5256d7e874e534c083e8\n"
     ]
    },
    {
     "data": {
      "text/plain": [
       "'num_processed: 9/20845'"
      ]
     },
     "metadata": {},
     "output_type": "display_data"
    },
    {
     "name": "stdout",
     "output_type": "stream",
     "text": [
      "080bda692c7362d9d8f550c0_2bb4d493fe1adaf882bc9c9f_2b9ddd420bbfde38934d34ef\n"
     ]
    },
    {
     "data": {
      "text/plain": [
       "'num_processed: 10/20845'"
      ]
     },
     "metadata": {},
     "output_type": "display_data"
    },
    {
     "name": "stdout",
     "output_type": "stream",
     "text": [
      "246159c67b30d39afcb4889f_b75b18e33378537ef082a042_b8c6cd3c4e879ef9339f511e\n"
     ]
    },
    {
     "data": {
      "text/plain": [
       "'num_processed: 11/20845'"
      ]
     },
     "metadata": {},
     "output_type": "display_data"
    },
    {
     "name": "stdout",
     "output_type": "stream",
     "text": [
      "e7b595db7b93f1f90291de84_124fda3e378b34f2e2e60b49_cc0405742debd6a4a1164780\n"
     ]
    },
    {
     "data": {
      "text/plain": [
       "'num_processed: 12/20845'"
      ]
     },
     "metadata": {},
     "output_type": "display_data"
    },
    {
     "name": "stdout",
     "output_type": "stream",
     "text": [
      "eb63ce9024b877855fe8e83f_e728787690b24b767e54fc9f_f547804e2ef05d3f8083db74\n"
     ]
    },
    {
     "data": {
      "text/plain": [
       "'num_processed: 13/20845'"
      ]
     },
     "metadata": {},
     "output_type": "display_data"
    },
    {
     "name": "stdout",
     "output_type": "stream",
     "text": [
      "cb58e8a6d472030abb6d8722_ac3f9de14afdbf18b86357d7_8064839d006c2f186bb4056e\n"
     ]
    },
    {
     "data": {
      "text/plain": [
       "'num_processed: 14/20845'"
      ]
     },
     "metadata": {},
     "output_type": "display_data"
    },
    {
     "name": "stdout",
     "output_type": "stream",
     "text": [
      "3f3f7faf715be1d586faf45e_812c2b97e8d8bfe155b33f88_19044803534d4b795e11e3ce\n"
     ]
    },
    {
     "data": {
      "text/plain": [
       "'num_processed: 15/20845'"
      ]
     },
     "metadata": {},
     "output_type": "display_data"
    },
    {
     "name": "stdout",
     "output_type": "stream",
     "text": [
      "530fbe15b4cb9b2c3c80aaec_970eaba15b0fdd65af940836_00954da9cc35048e740fd60f\n"
     ]
    },
    {
     "data": {
      "text/plain": [
       "'num_processed: 16/20845'"
      ]
     },
     "metadata": {},
     "output_type": "display_data"
    },
    {
     "name": "stdout",
     "output_type": "stream",
     "text": [
      "644670c3deba87510f6b7c81_51e9123a51cde534eb94fa60_e30fd66148f098738c54493f\n"
     ]
    },
    {
     "data": {
      "text/plain": [
       "'num_processed: 17/20845'"
      ]
     },
     "metadata": {},
     "output_type": "display_data"
    },
    {
     "name": "stdout",
     "output_type": "stream",
     "text": [
      "21b67f2e1baf19cdac0ebb8e_d09f17b642f7ffc9c574fcd9_49bccceb6cbc7a706576960b\n"
     ]
    },
    {
     "data": {
      "text/plain": [
       "'num_processed: 18/20845'"
      ]
     },
     "metadata": {},
     "output_type": "display_data"
    },
    {
     "name": "stdout",
     "output_type": "stream",
     "text": [
      "66e8f5e21b5f58c61d39a00f_fc6276aa0175aafc2ac8301f_40c7750382d4d92bba46e462\n"
     ]
    },
    {
     "data": {
      "text/plain": [
       "'num_processed: 19/20845'"
      ]
     },
     "metadata": {},
     "output_type": "display_data"
    },
    {
     "name": "stdout",
     "output_type": "stream",
     "text": [
      "8ad9dad9ab5938e3e48cfa4a_a5d12b612eac47adab28b123_98f3e4cfdc0c0a7446d358f9\n"
     ]
    },
    {
     "data": {
      "text/plain": [
       "'num_processed: 20/20845'"
      ]
     },
     "metadata": {},
     "output_type": "display_data"
    },
    {
     "name": "stdout",
     "output_type": "stream",
     "text": [
      "969ecc2998d12a6dc8502eee_870711ccfd34b90dc6d394cc_a0f723e80b84164ccf760b8f\n"
     ]
    },
    {
     "data": {
      "text/plain": [
       "'num_processed: 21/20845'"
      ]
     },
     "metadata": {},
     "output_type": "display_data"
    },
    {
     "name": "stdout",
     "output_type": "stream",
     "text": [
      "5735b45be4b0a1694d9ee790_625bdecd9a3c7a7aa168436d_e2afa76dd4a3c65ee460f9cf\n"
     ]
    },
    {
     "data": {
      "text/plain": [
       "'num_processed: 22/20845'"
      ]
     },
     "metadata": {},
     "output_type": "display_data"
    },
    {
     "name": "stdout",
     "output_type": "stream",
     "text": [
      "484295b68f39dd78aa410ccc_ce67bc4330bb0627db167e6c_d6eb59ff45dea863f5326013\n"
     ]
    },
    {
     "data": {
      "text/plain": [
       "'num_processed: 23/20845'"
      ]
     },
     "metadata": {},
     "output_type": "display_data"
    },
    {
     "name": "stdout",
     "output_type": "stream",
     "text": [
      "cbfc9227ea7a68dccba6eb41_06a4df5ea5ef77770e085397_3395af7080c64fe08577fbfb\n"
     ]
    },
    {
     "data": {
      "text/plain": [
       "'num_processed: 24/20845'"
      ]
     },
     "metadata": {},
     "output_type": "display_data"
    },
    {
     "name": "stdout",
     "output_type": "stream",
     "text": [
      "6793caab14609b93950c49c2_a5fe7f7f1393493c43f48163_c9a0584b0d4f6cccd7d9c0f0\n"
     ]
    },
    {
     "data": {
      "text/plain": [
       "'num_processed: 25/20845'"
      ]
     },
     "metadata": {},
     "output_type": "display_data"
    },
    {
     "name": "stdout",
     "output_type": "stream",
     "text": [
      "5800a912c3e99010b9057eab_d46cb293e0b93ac9dc8fda86_a8c8291c56c63d1ac22be45b\n"
     ]
    },
    {
     "data": {
      "text/plain": [
       "'num_processed: 26/20845'"
      ]
     },
     "metadata": {},
     "output_type": "display_data"
    },
    {
     "name": "stdout",
     "output_type": "stream",
     "text": [
      "5f03aaca9e69282ad3aea920_49f700d59b72830fd6bc51a1_0558d55363b534b056cfceb4\n"
     ]
    },
    {
     "data": {
      "text/plain": [
       "'num_processed: 27/20845'"
      ]
     },
     "metadata": {},
     "output_type": "display_data"
    },
    {
     "name": "stdout",
     "output_type": "stream",
     "text": [
      "d8a598174bcbceaf7e2194e5_a54ba742eaa71cdd4dcefbaa_f7d8ddb4a32a4bfde5a45d20\n"
     ]
    },
    {
     "data": {
      "text/plain": [
       "'num_processed: 28/20845'"
      ]
     },
     "metadata": {},
     "output_type": "display_data"
    },
    {
     "name": "stdout",
     "output_type": "stream",
     "text": [
      "54db27412278d0198ceb53d7_5b1df5d2e664fcdecbf1c3cc_4680675fb5aecda935df14a8\n"
     ]
    },
    {
     "data": {
      "text/plain": [
       "'num_processed: 29/20845'"
      ]
     },
     "metadata": {},
     "output_type": "display_data"
    },
    {
     "name": "stdout",
     "output_type": "stream",
     "text": [
      "ceb012d7b0d406f146c92576_11ee66894728e2929c851619_7a1fa975e45d53cd94792b87\n"
     ]
    },
    {
     "data": {
      "text/plain": [
       "'num_processed: 30/20845'"
      ]
     },
     "metadata": {},
     "output_type": "display_data"
    },
    {
     "name": "stdout",
     "output_type": "stream",
     "text": [
      "d13d31f7745c7bc353f36d1c_d8f2d299c2b09e8104fed005_950b44d31538a809a31d39d2\n"
     ]
    },
    {
     "data": {
      "text/plain": [
       "'num_processed: 31/20845'"
      ]
     },
     "metadata": {},
     "output_type": "display_data"
    },
    {
     "name": "stdout",
     "output_type": "stream",
     "text": [
      "5f87c417087743c327461cf6_7ed847fcbc2f93d11109971e_f3637b03e83610462fbaea42\n"
     ]
    },
    {
     "data": {
      "text/plain": [
       "'num_processed: 32/20845'"
      ]
     },
     "metadata": {},
     "output_type": "display_data"
    },
    {
     "name": "stdout",
     "output_type": "stream",
     "text": [
      "bc8cd01cb4012aaa64fbed56_87a0cc08ef8bc35879526842_eaed1d1022ac85ccb357e7e8\n"
     ]
    },
    {
     "data": {
      "text/plain": [
       "'num_processed: 33/20845'"
      ]
     },
     "metadata": {},
     "output_type": "display_data"
    },
    {
     "name": "stdout",
     "output_type": "stream",
     "text": [
      "513d3e7e26f3e8c143f770cd_13a6a755c629b27122b9a202_7e0be97fd92f302eff3f1e2a\n"
     ]
    },
    {
     "data": {
      "text/plain": [
       "'num_processed: 34/20845'"
      ]
     },
     "metadata": {},
     "output_type": "display_data"
    },
    {
     "name": "stdout",
     "output_type": "stream",
     "text": [
      "b307e69d29c2ad0ba76a52cc_d616db4dd579e14bacda7d42_10677e90eecee94bf2338c65\n"
     ]
    },
    {
     "data": {
      "text/plain": [
       "'num_processed: 35/20845'"
      ]
     },
     "metadata": {},
     "output_type": "display_data"
    },
    {
     "name": "stdout",
     "output_type": "stream",
     "text": [
      "277e2b23659f9cfddfc38063_74401d87e5d337858d1abf7b_b3ebe4fb886661d3e2bae646\n"
     ]
    },
    {
     "data": {
      "text/plain": [
       "'num_processed: 36/20845'"
      ]
     },
     "metadata": {},
     "output_type": "display_data"
    },
    {
     "name": "stdout",
     "output_type": "stream",
     "text": [
      "a5f5816f5492810d0fd66173_336c4e87babaedda4577cba7_00fabcfa74f68d4f4035837b\n"
     ]
    },
    {
     "data": {
      "text/plain": [
       "'num_processed: 37/20845'"
      ]
     },
     "metadata": {},
     "output_type": "display_data"
    },
    {
     "name": "stdout",
     "output_type": "stream",
     "text": [
      "093ef43ec07cbb44205ffbe4_99d4dac533ad20007ecd9add_7e7dd50b84203f9df33b3761\n"
     ]
    },
    {
     "data": {
      "text/plain": [
       "'num_processed: 38/20845'"
      ]
     },
     "metadata": {},
     "output_type": "display_data"
    },
    {
     "name": "stdout",
     "output_type": "stream",
     "text": [
      "89106fd22a20ae3a1cb751ae_2f39a00973fd6208f6a53604_f36187add610e4ce44d3e291\n"
     ]
    },
    {
     "data": {
      "text/plain": [
       "'num_processed: 39/20845'"
      ]
     },
     "metadata": {},
     "output_type": "display_data"
    },
    {
     "name": "stdout",
     "output_type": "stream",
     "text": [
      "cc264ca2031ec9ae00d245be_7af40711efd36c41200eac42_b188465fb4ec4091fbb063a0\n"
     ]
    },
    {
     "data": {
      "text/plain": [
       "'num_processed: 40/20845'"
      ]
     },
     "metadata": {},
     "output_type": "display_data"
    },
    {
     "name": "stdout",
     "output_type": "stream",
     "text": [
      "f57c7e2dd6696232777a4e8b_66d0e5c94cd241c7408acbac_4ddb596b28e04b2df6ff15ab\n",
      "ERROR TRASFORMING!\n"
     ]
    },
    {
     "data": {
      "text/plain": [
       "'num_processed: 41/20845'"
      ]
     },
     "metadata": {},
     "output_type": "display_data"
    },
    {
     "name": "stdout",
     "output_type": "stream",
     "text": [
      "e61d0dfa4596032d9d5d1312_ab7f9003ca51be27226d7d8e_6358a581489f2d996dfefb90\n"
     ]
    },
    {
     "data": {
      "text/plain": [
       "'num_processed: 42/20845'"
      ]
     },
     "metadata": {},
     "output_type": "display_data"
    },
    {
     "name": "stdout",
     "output_type": "stream",
     "text": [
      "72034f7285809af79c6f26dc_c7aa359ad29eaa230a7181c2_08ce9140f63f103dc84edc91\n"
     ]
    },
    {
     "data": {
      "text/plain": [
       "'num_processed: 43/20845'"
      ]
     },
     "metadata": {},
     "output_type": "display_data"
    },
    {
     "name": "stdout",
     "output_type": "stream",
     "text": [
      "4e5e42eb44812b1be4047b06_a1d88eb0b6de9e84fea44565_327de3f0c61ae4f4c394c9f0\n"
     ]
    },
    {
     "data": {
      "text/plain": [
       "'num_processed: 44/20845'"
      ]
     },
     "metadata": {},
     "output_type": "display_data"
    },
    {
     "name": "stdout",
     "output_type": "stream",
     "text": [
      "7a4fe3cbef546ac6ff12f862_898f28e328c8da32930fce0f_ae8aab819410e641c2d8e1a9\n"
     ]
    },
    {
     "data": {
      "text/plain": [
       "'num_processed: 45/20845'"
      ]
     },
     "metadata": {},
     "output_type": "display_data"
    },
    {
     "name": "stdout",
     "output_type": "stream",
     "text": [
      "bf9df8aa94c73c065dc0649f_1e218264f96810b906c5f1f3_9f8319209b79b9e70510cc78\n"
     ]
    },
    {
     "data": {
      "text/plain": [
       "'num_processed: 46/20845'"
      ]
     },
     "metadata": {},
     "output_type": "display_data"
    },
    {
     "name": "stdout",
     "output_type": "stream",
     "text": [
      "87688bb8ccd911995ddc048c_6313170efcc25a6f36e56906_8ee5e722ed4853b12db03877\n"
     ]
    },
    {
     "data": {
      "text/plain": [
       "'num_processed: 47/20845'"
      ]
     },
     "metadata": {},
     "output_type": "display_data"
    },
    {
     "name": "stdout",
     "output_type": "stream",
     "text": [
      "af5f1120f8602d0e3192a415_fb2da79675218dfedf0eea41_33c7909308f64e4ccbcc5339\n"
     ]
    },
    {
     "data": {
      "text/plain": [
       "'num_processed: 48/20845'"
      ]
     },
     "metadata": {},
     "output_type": "display_data"
    },
    {
     "name": "stdout",
     "output_type": "stream",
     "text": [
      "6271d04f5fb86aaab47b1b15_a426e982eb8acc6e751ea4b7_7f41e849b7cbb4416517e08f\n"
     ]
    },
    {
     "data": {
      "text/plain": [
       "'num_processed: 49/20845'"
      ]
     },
     "metadata": {},
     "output_type": "display_data"
    },
    {
     "name": "stdout",
     "output_type": "stream",
     "text": [
      "0ea9011fb728c876e9f3c05d_5f20433c947455ee0c941eac_36d6f9451c8c37ecfd3cbd8b\n"
     ]
    },
    {
     "data": {
      "text/plain": [
       "'num_processed: 50/20845'"
      ]
     },
     "metadata": {},
     "output_type": "display_data"
    },
    {
     "name": "stdout",
     "output_type": "stream",
     "text": [
      "3c4c9962edcdc808af67cdc9_a2728f11e1e984164cd1ef99_992d146b3c2b3f496fc9a52d\n"
     ]
    },
    {
     "data": {
      "text/plain": [
       "'num_processed: 51/20845'"
      ]
     },
     "metadata": {},
     "output_type": "display_data"
    },
    {
     "name": "stdout",
     "output_type": "stream",
     "text": [
      "57e182be2bf94991edc1847c_5edb9f3a34169106d40cb2e0_c97af185b0b26aebe05a205c\n"
     ]
    },
    {
     "data": {
      "text/plain": [
       "'num_processed: 52/20845'"
      ]
     },
     "metadata": {},
     "output_type": "display_data"
    },
    {
     "name": "stdout",
     "output_type": "stream",
     "text": [
      "0d87dc8a9e8ede82153ebc45_311d4984aebad70b3582621c_13d894985878bdf08a9d23a7\n"
     ]
    },
    {
     "data": {
      "text/plain": [
       "'num_processed: 53/20845'"
      ]
     },
     "metadata": {},
     "output_type": "display_data"
    },
    {
     "name": "stdout",
     "output_type": "stream",
     "text": [
      "66da17b4a4fd2581ebbacc30_06178cae0f4a97250509a832_e4e7be3531199c02b95074da\n"
     ]
    },
    {
     "data": {
      "text/plain": [
       "'num_processed: 54/20845'"
      ]
     },
     "metadata": {},
     "output_type": "display_data"
    },
    {
     "name": "stdout",
     "output_type": "stream",
     "text": [
      "3685d28463694d89902a515a_221dab500376900b2330b7eb_4d98be42c2df3e944c1779f3\n"
     ]
    },
    {
     "data": {
      "text/plain": [
       "'num_processed: 55/20845'"
      ]
     },
     "metadata": {},
     "output_type": "display_data"
    },
    {
     "name": "stdout",
     "output_type": "stream",
     "text": [
      "5774720be4b0601fa6dd31ba_30ced064f1be9ff19c03ab8f_99e1a5759fe1d8fe06f4179a\n"
     ]
    },
    {
     "data": {
      "text/plain": [
       "'num_processed: 56/20845'"
      ]
     },
     "metadata": {},
     "output_type": "display_data"
    },
    {
     "name": "stdout",
     "output_type": "stream",
     "text": [
      "b35be73f5df0cab0fb8c5ab9_f98b313ac08239605ace0177_468b1f0b19f50c13ae49289c\n"
     ]
    },
    {
     "data": {
      "text/plain": [
       "'num_processed: 57/20845'"
      ]
     },
     "metadata": {},
     "output_type": "display_data"
    },
    {
     "name": "stdout",
     "output_type": "stream",
     "text": [
      "82c0c94cc6c292a98283a926_6ec472ae4a33249f9cbde727_1351862e7969792ba72709c3\n"
     ]
    },
    {
     "data": {
      "text/plain": [
       "'num_processed: 58/20845'"
      ]
     },
     "metadata": {},
     "output_type": "display_data"
    },
    {
     "name": "stdout",
     "output_type": "stream",
     "text": [
      "58de11f0ad11a8103700bdb4_5695406c26e8924ed02e80d8_409a6f1b75894a56aa124e28\n"
     ]
    },
    {
     "data": {
      "text/plain": [
       "'num_processed: 59/20845'"
      ]
     },
     "metadata": {},
     "output_type": "display_data"
    },
    {
     "name": "stdout",
     "output_type": "stream",
     "text": [
      "58cd850472d10c0f7b29a2f0_48a6a9537d4bdd5f3cc08ba7_51d83565427b0ab2141fbefd\n"
     ]
    },
    {
     "data": {
      "text/plain": [
       "'num_processed: 60/20845'"
      ]
     },
     "metadata": {},
     "output_type": "display_data"
    },
    {
     "name": "stdout",
     "output_type": "stream",
     "text": [
      "df090edbec75da6dc476ad66_072bcb505bdd02bff2f75cb4_e637c33ead178d9efef8e7db\n"
     ]
    },
    {
     "data": {
      "text/plain": [
       "'num_processed: 61/20845'"
      ]
     },
     "metadata": {},
     "output_type": "display_data"
    },
    {
     "name": "stdout",
     "output_type": "stream",
     "text": [
      "cc412b853b307f2f54b72f63_21c9cd09fb0cb72fece90340_7a311a38ff676d0b6a34ccef\n"
     ]
    },
    {
     "data": {
      "text/plain": [
       "'num_processed: 62/20845'"
      ]
     },
     "metadata": {},
     "output_type": "display_data"
    },
    {
     "name": "stdout",
     "output_type": "stream",
     "text": [
      "ceaf9ef4b7dbe99aa4fb120f_ad598435d70f801cb90d00b8_53c8caa9086f1f4bf595ffcf\n"
     ]
    },
    {
     "data": {
      "text/plain": [
       "'num_processed: 63/20845'"
      ]
     },
     "metadata": {},
     "output_type": "display_data"
    },
    {
     "name": "stdout",
     "output_type": "stream",
     "text": [
      "b20289e7390a1f8671396929_8d80361342c7a0675f24e893_5c72e70a5d0f5abfe4b465fb\n",
      "ERROR TRASFORMING!\n"
     ]
    },
    {
     "data": {
      "text/plain": [
       "'num_processed: 64/20845'"
      ]
     },
     "metadata": {},
     "output_type": "display_data"
    },
    {
     "name": "stdout",
     "output_type": "stream",
     "text": [
      "df7e147941307d623b7ce625_d3f70d2f2a5bb6abee706f18_e35f7b6144946fe68d368323\n"
     ]
    },
    {
     "data": {
      "text/plain": [
       "'num_processed: 65/20845'"
      ]
     },
     "metadata": {},
     "output_type": "display_data"
    },
    {
     "name": "stdout",
     "output_type": "stream",
     "text": [
      "db5d68d6e979c9bbdda81d15_7ceba0e269fcc4da0c522cdd_bd0791be492b03c7e52a793b\n"
     ]
    },
    {
     "data": {
      "text/plain": [
       "'num_processed: 66/20845'"
      ]
     },
     "metadata": {},
     "output_type": "display_data"
    },
    {
     "name": "stdout",
     "output_type": "stream",
     "text": [
      "f7dd6e2d5a7050326a4fbb5d_ab50e772541611bdb2355038_daef902062b57db24a2c5dca\n"
     ]
    },
    {
     "data": {
      "text/plain": [
       "'num_processed: 67/20845'"
      ]
     },
     "metadata": {},
     "output_type": "display_data"
    },
    {
     "name": "stdout",
     "output_type": "stream",
     "text": [
      "fa269571f35721c6abf81fc3_ba861a86b54f4281e8203119_425a01fbcb0901565d6578a9\n"
     ]
    },
    {
     "data": {
      "text/plain": [
       "'num_processed: 68/20845'"
      ]
     },
     "metadata": {},
     "output_type": "display_data"
    },
    {
     "name": "stdout",
     "output_type": "stream",
     "text": [
      "5782b217e4b01a6b0f3e6d6c_82af21a310dccb794c6f232e_d33640d6e8292c3f558e3241\n"
     ]
    },
    {
     "data": {
      "text/plain": [
       "'num_processed: 69/20845'"
      ]
     },
     "metadata": {},
     "output_type": "display_data"
    },
    {
     "name": "stdout",
     "output_type": "stream",
     "text": [
      "553e5a33688d076d9b52752a_a6ca4902764c22ce78f22101_c55af3aba833a0dfe3284e96\n"
     ]
    },
    {
     "data": {
      "text/plain": [
       "'num_processed: 70/20845'"
      ]
     },
     "metadata": {},
     "output_type": "display_data"
    },
    {
     "name": "stdout",
     "output_type": "stream",
     "text": [
      "bddc9be0759c5d24d41a0009_d95ca3a4150020072778a35f_9f3a251fcb0ec3000e8602fe\n"
     ]
    },
    {
     "data": {
      "text/plain": [
       "'num_processed: 71/20845'"
      ]
     },
     "metadata": {},
     "output_type": "display_data"
    },
    {
     "name": "stdout",
     "output_type": "stream",
     "text": [
      "d8a303e6739db91d4aab5bc5_150b669cde452a8c0eceeda0_6a06a9a7db2c8b85d3601940\n"
     ]
    },
    {
     "data": {
      "text/plain": [
       "'num_processed: 72/20845'"
      ]
     },
     "metadata": {},
     "output_type": "display_data"
    },
    {
     "name": "stdout",
     "output_type": "stream",
     "text": [
      "7995a9ad02b54a2d4458f5e6_95da4132cac7d5cadea0b7db_83fd332781f5cac9fad38491\n"
     ]
    },
    {
     "data": {
      "text/plain": [
       "'num_processed: 73/20845'"
      ]
     },
     "metadata": {},
     "output_type": "display_data"
    },
    {
     "name": "stdout",
     "output_type": "stream",
     "text": [
      "3e09c731675379fc2ae55353_e246b3e710299092d72e632b_9d501ee871f077d44858c31d\n"
     ]
    },
    {
     "data": {
      "text/plain": [
       "'num_processed: 74/20845'"
      ]
     },
     "metadata": {},
     "output_type": "display_data"
    },
    {
     "name": "stdout",
     "output_type": "stream",
     "text": [
      "078c3dfcb3cbe7837119de0c_67a4ba2951216bf2cd1e9d9f_819cd71512b0ade082e2ced9\n"
     ]
    },
    {
     "data": {
      "text/plain": [
       "'num_processed: 75/20845'"
      ]
     },
     "metadata": {},
     "output_type": "display_data"
    },
    {
     "name": "stdout",
     "output_type": "stream",
     "text": [
      "e99f67c6ac5a9df4cdf11e3d_335daede558dbb5e510cb726_55e9a43d034f17fcf45ae4c3\n"
     ]
    },
    {
     "data": {
      "text/plain": [
       "'num_processed: 76/20845'"
      ]
     },
     "metadata": {},
     "output_type": "display_data"
    },
    {
     "name": "stdout",
     "output_type": "stream",
     "text": [
      "586577170dd573109767f5c7_2c2f28df65fce97c27103ecb_e147afe452f2f48f7bb671bd\n"
     ]
    },
    {
     "data": {
      "text/plain": [
       "'num_processed: 77/20845'"
      ]
     },
     "metadata": {},
     "output_type": "display_data"
    },
    {
     "name": "stdout",
     "output_type": "stream",
     "text": [
      "ff69ef0dcf2a84740b8af7a4_9569ce72611b16743caa6c58_72c486c7b439e66271697e37\n"
     ]
    },
    {
     "data": {
      "text/plain": [
       "'num_processed: 78/20845'"
      ]
     },
     "metadata": {},
     "output_type": "display_data"
    },
    {
     "name": "stdout",
     "output_type": "stream",
     "text": [
      "706dd273425e5477c3285a4c_453e7e9149a1c8f1a44f57b1_7a349d764798bfad820fc11b\n"
     ]
    },
    {
     "data": {
      "text/plain": [
       "'num_processed: 79/20845'"
      ]
     },
     "metadata": {},
     "output_type": "display_data"
    },
    {
     "name": "stdout",
     "output_type": "stream",
     "text": [
      "9f9d9aeff8ad0fd07cf0e085_b066268857ba2de39483a0c7_7ea386f9bac11be4c5d8e19a\n"
     ]
    },
    {
     "data": {
      "text/plain": [
       "'num_processed: 80/20845'"
      ]
     },
     "metadata": {},
     "output_type": "display_data"
    },
    {
     "name": "stdout",
     "output_type": "stream",
     "text": [
      "daa6621a5d25477fa5f9754e_972b37fd9e11f93d33773dca_3fe8775b44b3ebc4cdb7b33a\n"
     ]
    },
    {
     "data": {
      "text/plain": [
       "'num_processed: 81/20845'"
      ]
     },
     "metadata": {},
     "output_type": "display_data"
    },
    {
     "name": "stdout",
     "output_type": "stream",
     "text": [
      "c7bff7935edb99c8f476466a_4b56b178200bbac4e434fe87_14766ab54dae87699455698d\n"
     ]
    },
    {
     "data": {
      "text/plain": [
       "'num_processed: 82/20845'"
      ]
     },
     "metadata": {},
     "output_type": "display_data"
    },
    {
     "name": "stdout",
     "output_type": "stream",
     "text": [
      "ed9de4591e992b6fd6046b82_78cc091119604e0640ec4a4f_f14c4024a8ce687d89976543\n"
     ]
    },
    {
     "data": {
      "text/plain": [
       "'num_processed: 83/20845'"
      ]
     },
     "metadata": {},
     "output_type": "display_data"
    },
    {
     "name": "stdout",
     "output_type": "stream",
     "text": [
      "0db04df9d9f729d6b3c5ea0f_c073332499200ea15afe4794_8c3db2db85493c423ef4ab3b\n"
     ]
    },
    {
     "data": {
      "text/plain": [
       "'num_processed: 84/20845'"
      ]
     },
     "metadata": {},
     "output_type": "display_data"
    },
    {
     "name": "stdout",
     "output_type": "stream",
     "text": [
      "aebd86baf8544757e0afdd99_4f9b26b7ac22217ced863902_9b9fec3d4f5def6573182275\n"
     ]
    },
    {
     "data": {
      "text/plain": [
       "'num_processed: 85/20845'"
      ]
     },
     "metadata": {},
     "output_type": "display_data"
    },
    {
     "name": "stdout",
     "output_type": "stream",
     "text": [
      "2ef8afa0d1cd2a830904cd5f_ce74322f9c01af7792219f85_411aba127db2cdef3e6c3097\n"
     ]
    },
    {
     "data": {
      "text/plain": [
       "'num_processed: 86/20845'"
      ]
     },
     "metadata": {},
     "output_type": "display_data"
    },
    {
     "name": "stdout",
     "output_type": "stream",
     "text": [
      "1d9dfce5a484f9ec21c73689_4b2a0f90f413362e4497d2b7_0359583252bbab02279e8ebd\n"
     ]
    },
    {
     "data": {
      "text/plain": [
       "'num_processed: 87/20845'"
      ]
     },
     "metadata": {},
     "output_type": "display_data"
    },
    {
     "name": "stdout",
     "output_type": "stream",
     "text": [
      "618c164fb91e92d8ef5a3070_b7f6093cf02811066c399063_6036b954be8177a257167913\n"
     ]
    },
    {
     "data": {
      "text/plain": [
       "'num_processed: 88/20845'"
      ]
     },
     "metadata": {},
     "output_type": "display_data"
    },
    {
     "name": "stdout",
     "output_type": "stream",
     "text": [
      "58f930a8474f6f1cbd3946f2_ca1034ee7f19ae105e7a6f0f_2715552bde6c83944cdfc5fd\n"
     ]
    },
    {
     "data": {
      "text/plain": [
       "'num_processed: 89/20845'"
      ]
     },
     "metadata": {},
     "output_type": "display_data"
    },
    {
     "name": "stdout",
     "output_type": "stream",
     "text": [
      "f2d12b0c220a4db9c009e8b9_0a5ecf5ad049f95425f89506_190af97ba5c60ab36f0c4396\n"
     ]
    },
    {
     "data": {
      "text/plain": [
       "'num_processed: 90/20845'"
      ]
     },
     "metadata": {},
     "output_type": "display_data"
    },
    {
     "name": "stdout",
     "output_type": "stream",
     "text": [
      "20a0bea31f872cd8454d728e_dc4022d6ba10b4418cf58766_7792a800c14be221876634a3\n"
     ]
    },
    {
     "data": {
      "text/plain": [
       "'num_processed: 91/20845'"
      ]
     },
     "metadata": {},
     "output_type": "display_data"
    },
    {
     "name": "stdout",
     "output_type": "stream",
     "text": [
      "a61a1ad2fa8023b05add24d7_841a4dcf2c4a11b55d097a98_ee09ff58081e1cb9c5a71122\n"
     ]
    },
    {
     "data": {
      "text/plain": [
       "'num_processed: 92/20845'"
      ]
     },
     "metadata": {},
     "output_type": "display_data"
    },
    {
     "name": "stdout",
     "output_type": "stream",
     "text": [
      "b1a88a5b6583f5b1fc392939_5e5a2a3939d226b38b25094e_aeb9d756b6ceda76e8e077b0\n"
     ]
    },
    {
     "data": {
      "text/plain": [
       "'num_processed: 93/20845'"
      ]
     },
     "metadata": {},
     "output_type": "display_data"
    },
    {
     "name": "stdout",
     "output_type": "stream",
     "text": [
      "692984fe5a8eef6693e95f08_f19673c2f6d6378c6c2d8724_79ec5dc7e8992df671fcbf7d\n"
     ]
    },
    {
     "data": {
      "text/plain": [
       "'num_processed: 94/20845'"
      ]
     },
     "metadata": {},
     "output_type": "display_data"
    },
    {
     "name": "stdout",
     "output_type": "stream",
     "text": [
      "b3d9b1aed5cff8ff948cf427_55fbfc9ef340c184feecc807_103b028d790600653344e911\n"
     ]
    },
    {
     "data": {
      "text/plain": [
       "'num_processed: 95/20845'"
      ]
     },
     "metadata": {},
     "output_type": "display_data"
    },
    {
     "name": "stdout",
     "output_type": "stream",
     "text": [
      "f000f634649fb5524a95414f_85a7fed5dc09d9fdda3d5c56_85d2cc648932189baf2db350\n"
     ]
    },
    {
     "data": {
      "text/plain": [
       "'num_processed: 96/20845'"
      ]
     },
     "metadata": {},
     "output_type": "display_data"
    },
    {
     "name": "stdout",
     "output_type": "stream",
     "text": [
      "2fa56bec336404c325878259_a3f84599d80ab9119665dd85_1d53e2354096372a2b18cb95\n"
     ]
    },
    {
     "data": {
      "text/plain": [
       "'num_processed: 97/20845'"
      ]
     },
     "metadata": {},
     "output_type": "display_data"
    },
    {
     "name": "stdout",
     "output_type": "stream",
     "text": [
      "5c237da2dedc24eb5b90f2a7_0525536e1de3cdbf3e3f4dfa_bd27188a601c13ca47fb3539\n"
     ]
    },
    {
     "data": {
      "text/plain": [
       "'num_processed: 98/20845'"
      ]
     },
     "metadata": {},
     "output_type": "display_data"
    },
    {
     "name": "stdout",
     "output_type": "stream",
     "text": [
      "d7730411b868ca44053e009c_69e32f4dda598042ae8c5042_0a946b85f842b1419c033b3b\n"
     ]
    },
    {
     "data": {
      "text/plain": [
       "'num_processed: 99/20845'"
      ]
     },
     "metadata": {},
     "output_type": "display_data"
    },
    {
     "name": "stdout",
     "output_type": "stream",
     "text": [
      "f26fa8a0ad530aa79b4d178d_13582ac1e12bb97670e82767_60fa6aa9e76cec8fb82b9286\n"
     ]
    },
    {
     "data": {
      "text/plain": [
       "'num_processed: 100/20845'"
      ]
     },
     "metadata": {},
     "output_type": "display_data"
    },
    {
     "name": "stdout",
     "output_type": "stream",
     "text": [
      "4a6425e414eac5bfb60c666b_7b79fa9711d3c7e04a4e73b4_1474f34c51b93e9d12776a28\n"
     ]
    },
    {
     "data": {
      "text/plain": [
       "'num_processed: 101/20845'"
      ]
     },
     "metadata": {},
     "output_type": "display_data"
    },
    {
     "name": "stdout",
     "output_type": "stream",
     "text": [
      "ca577462ab0f9ba6fb713102_e9b039af8f720b11d74037b5_e8f8d795c4941f6cf63a2a68\n"
     ]
    },
    {
     "data": {
      "text/plain": [
       "'num_processed: 102/20845'"
      ]
     },
     "metadata": {},
     "output_type": "display_data"
    },
    {
     "name": "stdout",
     "output_type": "stream",
     "text": [
      "58a198fcf9c56c0fcc305b81_bbdc6bd06863df20683a15cb_8d136f4c848b18dc66120c1c\n"
     ]
    },
    {
     "data": {
      "text/plain": [
       "'num_processed: 103/20845'"
      ]
     },
     "metadata": {},
     "output_type": "display_data"
    },
    {
     "name": "stdout",
     "output_type": "stream",
     "text": [
      "2d37327f6f657425bb3e919e_ee9213698d50aa1d3dbf59e8_41248fcc384cca8c4d1ff66a\n"
     ]
    },
    {
     "data": {
      "text/plain": [
       "'num_processed: 104/20845'"
      ]
     },
     "metadata": {},
     "output_type": "display_data"
    },
    {
     "name": "stdout",
     "output_type": "stream",
     "text": [
      "9cea64199752cca062f74eb6_b5924358062c58f538871d7c_7269a41a7238a3b609a3cc80\n"
     ]
    },
    {
     "data": {
      "text/plain": [
       "'num_processed: 105/20845'"
      ]
     },
     "metadata": {},
     "output_type": "display_data"
    },
    {
     "name": "stdout",
     "output_type": "stream",
     "text": [
      "3b4c86d677a14fc357fb94b1_e6b446c87e02a1356587adc6_d1afaaa8f3bc8dff2c40fe1c\n"
     ]
    },
    {
     "data": {
      "text/plain": [
       "'num_processed: 106/20845'"
      ]
     },
     "metadata": {},
     "output_type": "display_data"
    },
    {
     "name": "stdout",
     "output_type": "stream",
     "text": [
      "a74ad3482aa0080265228640_8e9368aa648289830f96ab95_6e2bed64e178f3857cc2e134\n"
     ]
    },
    {
     "data": {
      "text/plain": [
       "'num_processed: 107/20845'"
      ]
     },
     "metadata": {},
     "output_type": "display_data"
    },
    {
     "name": "stdout",
     "output_type": "stream",
     "text": [
      "b7ea7dc7944699ff3f98d8d2_c8f695f406eea688a244f853_c8ab09758ed984d376b786e6\n"
     ]
    },
    {
     "data": {
      "text/plain": [
       "'num_processed: 108/20845'"
      ]
     },
     "metadata": {},
     "output_type": "display_data"
    },
    {
     "name": "stdout",
     "output_type": "stream",
     "text": [
      "165f338822d40c1647f53945_1793f88e1cf22fc103cabba4_4267e85bd4f7066fdc0ca016\n"
     ]
    },
    {
     "data": {
      "text/plain": [
       "'num_processed: 109/20845'"
      ]
     },
     "metadata": {},
     "output_type": "display_data"
    },
    {
     "name": "stdout",
     "output_type": "stream",
     "text": [
      "a13b00063dcf9c44fd3ff842_46fcbf81035dd1d71d5c7f5f_fee915423e143fe6430a7ba9\n"
     ]
    },
    {
     "data": {
      "text/plain": [
       "'num_processed: 110/20845'"
      ]
     },
     "metadata": {},
     "output_type": "display_data"
    },
    {
     "name": "stdout",
     "output_type": "stream",
     "text": [
      "d272dc7ef5b466189af1a830_4c7093b7dd314b58f5753091_fa60fec6c031ca9623f41ba4\n"
     ]
    }
   ],
   "source": [
    "#start_index = 1243\n",
    "start_index = 0\n",
    "\n",
    "outpath = '/fast/jamesn8/assembly_data/mate_torch_data'\n",
    "def LOG(st):\n",
    "    with open(logfile,'a') as logf:\n",
    "        logf.write(st + '\\n')\n",
    "statspath = '/fast/jamesn8/assembly_data/mate_torch_stats'\n",
    "logfile = os.path.join(statspath, 'log.txt')\n",
    "\n",
    "epsilon_rel = 0.001\n",
    "max_groups = 10\n",
    "max_mcs = 10000\n",
    "max_mc_pairs = 100000\n",
    "stride = 200\n",
    "last_mate_ckpt = 0\n",
    "last_ckpt = 0\n",
    "\n",
    "all_stats = []\n",
    "mate_stats = []\n",
    "processed_indices = []\n",
    "mate_indices = []\n",
    "invalid_part_paths_and_transforms = []\n",
    "\n",
    "run_start_time = time.time()\n",
    "for num_processed,ind in enumerate(set_E_indices[start_index:]):\n",
    "    stats = dict()\n",
    "    curr_mate_stats = []\n",
    "    #clear_output(wait=True)\n",
    "    display(f'num_processed: {num_processed}/{len(set_E_indices)}')\n",
    "\n",
    "    #1. spatially hash all MCFs (cache hash maps for each part for re-use with individual mates)\n",
    "    #2. for all mates, ensure that each MCF is represented (keep track of closest/equivalent MCFs, log percentage of assemblies for which this holds)\n",
    "    #3. get proposals, edit appropriate ones to true based on equivalence class computed per mated pair of parts (taking outer product of equivalent MCs on left and right)\n",
    "\n",
    "    print(assembly_df.loc[ind,\"AssemblyPath\"])\n",
    "    LOG(f'{num_processed}/{len(set_E_indices)}: processing {assembly_df.loc[ind,\"AssemblyPath\"]} at {time.time()-run_start_time}')\n",
    "    \n",
    "    part_subset = part_df.loc[ind]\n",
    "    mate_subset = mate_df.loc[ind]\n",
    "    if mate_subset.ndim == 1:\n",
    "        mate_subset = ps.DataFrame([mate_subset], columns=mate_subset.keys())\n",
    "    \n",
    "    parts = []\n",
    "    part_caches = []\n",
    "    part_paths = []\n",
    "    transforms = []\n",
    "    mcf_hashes = [] #hashes of normalized mcfs ([origin/maxdim, quat])\n",
    "    mco_hashes = [] #hashes of origins only\n",
    "    mc_frames_all = [] #[[origin, homogenized rotmatrix]] for each mc for each part\n",
    "    occ_to_index = dict()\n",
    "    \n",
    "    for j in range(part_subset.shape[0]):\n",
    "        path = os.path.join(datapath, 'data/models', *[part_subset.iloc[j][k] for k in ['did','mv','eid','config']], f'{part_subset.iloc[j][\"PartId\"]}.xt')\n",
    "        assert(os.path.isfile(path))\n",
    "        with open(path) as partf:\n",
    "            part_str = partf.read()\n",
    "            part = Part(part_str)\n",
    "            part_paths.append(path)\n",
    "            part_caches.append(part_str)\n",
    "            parts.append(part)\n",
    "            tf = part_subset.iloc[j]['Transform']\n",
    "            transforms.append(tf)\n",
    "            occ_to_index[part_subset.iloc[j]['PartOccurrenceID']] = j\n",
    "    \n",
    "    \n",
    "    bbox = global_bounding_box(parts, transforms)\n",
    "    if bbox is None:\n",
    "        LOG('skipping due to no geometry')\n",
    "        continue\n",
    "    minPt, maxPt = bbox\n",
    "    \n",
    "    median = bbox.mean(axis=0)\n",
    "    dims = maxPt - minPt\n",
    "    maxdim = max(dims)\n",
    "    #maxdim = max([(part.bounding_box()[1]-part.bounding_box()[0]).max() for part in parts])\n",
    "    threshold = maxdim * epsilon_rel\n",
    "    \n",
    "    total_mcs = sum([len(part.all_mate_connectors) for part in parts])\n",
    "    stats['total_mates'] = mate_subset.shape[0]\n",
    "    stats['total_parts'] = len(parts)\n",
    "    stats['maxdim'] = maxdim\n",
    "    stats['total_mcs'] = total_mcs\n",
    "\n",
    "    for j in range(len(parts)):\n",
    "        part = parts[j]\n",
    "        tf = transforms[j]\n",
    "        mc_frames = []\n",
    "        mc_frames_normalized = []\n",
    "        mc_origins = []\n",
    "        for mc in part.all_mate_connectors:\n",
    "            cs = mc.get_coordinate_system()\n",
    "            origin, frame = cs_to_origin_frame(tf @ cs)\n",
    "            frame_homogenized = homogenize_frame(frame, z_flip_only=True)\n",
    "            #all_points.append(origin)\n",
    "            rot = R.from_matrix(frame_homogenized).as_quat()\n",
    "            mc_origins.append(origin)\n",
    "            mc_frames.append((origin, frame_homogenized))\n",
    "            mc_frames_normalized.append(np.concatenate([origin/maxdim, rot]))\n",
    "        mc_frames_all.append(mc_frames)\n",
    "        frame_hash = NNHash(mc_frames_normalized, 7, epsilon_rel)\n",
    "        origin_hash = NNHash(mc_origins, 3, threshold)\n",
    "        #frame_hash = NNHash([mc_frame[:3] for mc_frame in mc_frames], 3, threshold)\n",
    "        mcf_hashes.append(frame_hash)\n",
    "        mco_hashes.append(origin_hash)\n",
    "\n",
    "    stats['invalid_frames'] = 0\n",
    "    stats['invalid_mates'] = 0\n",
    "    stats['invalid_coincident_origins'] = 0\n",
    "    stats['invalid_permuted_z'] = 0\n",
    "    \n",
    "    mate_matches = [] #list of (left MC IDs, right MC Ids) based on the type of mate\n",
    "    part_pair_to_mate = dict()\n",
    "\n",
    "    #all_points = np.array(all_points)\n",
    "    #p = mp.plot(all_points)\n",
    "    mate_invalids = []\n",
    "    for j in range(mate_subset.shape[0]):\n",
    "        matches = [set(), set()]\n",
    "        m_stats = dict()\n",
    "        part_indices = []\n",
    "        mate_invalid = False\n",
    "        for i in range(2):\n",
    "            occId = mate_subset.iloc[j][f'Part{i+1}']\n",
    "            partIndex = occ_to_index[occId]\n",
    "            part_indices.append(partIndex)\n",
    "            assert(part_subset.iloc[partIndex]['PartOccurrenceID'] == occId)\n",
    "            origin_local = mate_subset.iloc[j][f'Origin{i+1}']\n",
    "            frame_local = mate_subset.iloc[j][f'Axes{i+1}']\n",
    "            cs = cs_from_origin_frame(origin_local, frame_local)\n",
    "            origin, frame = cs_to_origin_frame(transforms[partIndex] @ cs)\n",
    "            frame_homogenized = homogenize_frame(frame, z_flip_only=True)\n",
    "            rot = R.from_matrix(frame_homogenized).as_quat()\n",
    "            mc_frame_normalized = np.concatenate([origin/maxdim, rot])\n",
    "            neighbors = mcf_hashes[partIndex].get_nearest_points(mc_frame_normalized)\n",
    "\n",
    "            for n in neighbors:\n",
    "                matches[i].add(n)\n",
    "            \n",
    "            b_invalid = False\n",
    "            b_num_matches = len(neighbors)\n",
    "            b_invalid_coincident_origins = False\n",
    "            b_invalid_permuted_z = False\n",
    "            \n",
    "            #compute statistics for the case where there are no matching mcs\n",
    "            if len(neighbors) == 0:\n",
    "                b_invalid = True\n",
    "                stats['invalid_frames'] += 1\n",
    "                if not mate_invalid:\n",
    "                    stats['invalid_mates'] += 1\n",
    "                    mate_invalid = True\n",
    "                \n",
    "                origin_neighbors = mco_hashes[partIndex].get_nearest_points(origin)\n",
    "                if len(origin_neighbors) > 0:\n",
    "                    b_invalid_coincident_origins = True\n",
    "                    stats['invalid_coincident_origins'] += 1\n",
    "                    n = next(iter(origin_neighbors))\n",
    "                    \n",
    "                    #detect whether allowing Z permutations would make this frame match\n",
    "                    c_frame = mc_frames_all[partIndex][n][1]\n",
    "                    c_frame_homogenized = homogenize_frame(c_frame, z_flip_only=False)\n",
    "                    mate_frame_homogenized = homogenize_frame(frame, z_flip_only=False)\n",
    "                    dist = LA.norm(c_frame_homogenized - mate_frame_homogenized)\n",
    "\n",
    "                    if dist < threshold:\n",
    "                        b_invalid_permuted_z = True\n",
    "                        stats['invalid_permuted_z'] += 1\n",
    "            else:\n",
    "                mateType = mate_subset.iloc[j]['Type']\n",
    "                mc_frames = mc_frames_all[partIndex]\n",
    "                for k,c_origin_frame in enumerate(mc_frames):\n",
    "                    c_origin, c_frame = c_origin_frame\n",
    "                    axisdist = LA.norm(c_frame[:,2] - frame_homogenized[:,2])\n",
    "                    if axisdist < epsilon_rel:\n",
    "                        projdist = np.inf\n",
    "                        if mateType == 'CYLINDRICAL' or mateType == 'SLIDER':\n",
    "                            c_origin_proj = c_origin @ frame_homogenized[:,:2]\n",
    "                            origin_proj = origin @ frame_homogenized[:,:2]\n",
    "                            projdist = LA.norm(c_origin_proj - origin_proj)\n",
    "                        elif mateType == 'PLANAR' or mateType == 'PARALLEL':\n",
    "                            c_origin_proj = c_origin.dot(frame_homogenized[:,2])\n",
    "                            origin_proj = origin.dot(frame_homogenized[:,2])\n",
    "                            projdist = abs(c_origin_proj - origin_proj)\n",
    "                        if projdist < epsilon_rel:\n",
    "                            matches[i].add(k)\n",
    "                    \n",
    "            \n",
    "            m_stats[f'invalid_frame_{i}'] = b_invalid\n",
    "            m_stats[f'invalid_frame_{i}_coincident_origins'] = b_invalid_coincident_origins\n",
    "            m_stats[f'invalid_frame_{i}_permuted_z'] = b_invalid_permuted_z\n",
    "            m_stats[f'matches_frame_{i}'] = b_num_matches\n",
    "            m_stats[f'extra_matches_frame_{i}'] = len(matches[i]) - b_num_matches\n",
    "        m_stats['type'] = mate_subset.iloc[j]['Type']\n",
    "        m_stats['truncated_mc_pairs'] = False\n",
    "        curr_mate_stats.append(m_stats)\n",
    "        mate_indices.append(mate_subset.iloc[j]['MateIndex'])\n",
    "        mate_invalids.append(mate_invalid)\n",
    "        mate_matches.append(matches)\n",
    "        part_indices = tuple(sorted(part_indices))\n",
    "        part_pair_to_mate[part_indices] = j#mate_subset.iloc[j]['Type']\n",
    "    \n",
    "    if total_mcs <= max_mcs:\n",
    "        stats['false_part_pairs'] = 0\n",
    "        stats['missed_part_pairs'] = 0\n",
    "        stats['missed_mc_pairs'] = 0\n",
    "        #find assembly-level normalization matrix\n",
    "        p_normalized = np.identity(4, dtype=float)\n",
    "        p_normalized[:3,3] = -median\n",
    "        p_normalized[3,3] = maxdim #todo: figure out if this is double the factor\n",
    "        \n",
    "        norm_matrices = [p_normalized @ tf for tf in transforms]\n",
    "        normalized_parts = [Part(cached_part, mat) for cached_part, mat in zip(part_caches, norm_matrices)]\n",
    "        num_invalid_parts = 0\n",
    "        for npart, path, mat in zip(normalized_parts, part_paths, norm_matrices):\n",
    "            if not npart.valid:\n",
    "                LOG(f'invalid part {path}')\n",
    "                LOG(f'transform:\\n{mat}')\n",
    "                num_invalid_parts += 1\n",
    "        stats['num_invalid_transformed_parts'] = num_invalid_parts\n",
    "        \n",
    "        #DEBUG\n",
    "#         bbox = global_bounding_box(normalized_parts)\n",
    "#         print(f'maxdim: {maxdim}')\n",
    "#         print(f'bbox median: {bbox.mean(axis=0)}, dims: {bbox[1,:]-bbox[0,:]}')\n",
    "#         p = mp.plot(normalized_parts[0].V, normalized_parts[0].F)\n",
    "#         for part in normalized_parts[1:]:\n",
    "#             p.add_mesh(part.V, part.F)\n",
    "        \n",
    "        \n",
    "        #find match proposals\n",
    "        start = time.time()\n",
    "        proposals = mate_proposals(list(zip(transforms, parts)), epsilon_rel=epsilon_rel, max_groups=max_groups)\n",
    "        end = time.time()\n",
    "        stats['num_proposals'] = len(proposals)\n",
    "        stats['proposal_time'] = end-start\n",
    "        \n",
    "        #initialize pairs based on proposals\n",
    "        part_proposals = dict()\n",
    "        for proposal in proposals:\n",
    "            part_pair = proposal[:2]\n",
    "            if part_pair not in part_proposals:\n",
    "                mc_pair_dict = dict()\n",
    "                part_proposals[part_pair] = mc_pair_dict\n",
    "            else:\n",
    "                mc_pair_dict = part_proposals[part_pair]\n",
    "            mc_pair_dict[proposal[2:]] = -1 #mate type\n",
    "\n",
    "        #populate pairs with labels\n",
    "        #print('populating pairs with labels')\n",
    "        part_pair_found=False\n",
    "        mc_pair_found=False\n",
    "        for j in range(mate_subset.shape[0]):\n",
    "            if not mate_invalids[j]:\n",
    "                mate_type = mate_subset.iloc[j]['Type']\n",
    "                partIds = [occ_to_index[mate_subset.iloc[j][f'Part{i+1}']] for i in range(2)]\n",
    "                matches = mate_matches[j]\n",
    "\n",
    "                if partIds[0] > partIds[1]:\n",
    "                    partIds.reverse()\n",
    "                    matches = matches.copy()\n",
    "                    matches.reverse()\n",
    "                partIds = tuple(partIds)\n",
    "\n",
    "                if partIds in part_proposals:\n",
    "                    part_pair_found=True\n",
    "                    mc_pair_dict = part_proposals[partIds]\n",
    "                    for index1 in matches[0]:\n",
    "                        for index2 in matches[1]:\n",
    "                            mc_pair = index1, index2\n",
    "                            if mc_pair in mc_pair_dict:\n",
    "                                mc_pair_found=True\n",
    "                                mc_pair_dict[mc_pair] = mate_types.index(mate_type)\n",
    "            if not part_pair_found:\n",
    "                stats['missed_part_pairs'] += 1\n",
    "            if not mc_pair_found:\n",
    "                stats['missed_mc_pairs'] += 1\n",
    "            curr_mate_stats[j]['part_pair_found'] =  part_pair_found           \n",
    "            curr_mate_stats[j]['mc_pair_found'] =  mc_pair_found     \n",
    "        \n",
    "        #create data object for each part pair\n",
    "        #print('creating data object')\n",
    "        for part_pair in part_proposals:\n",
    "            if normalized_parts[part_pair[0]].valid and normalized_parts[part_pair[1]].valid:\n",
    "                mateIndex = -1\n",
    "                if part_pair in part_pair_to_mate:\n",
    "                    mateIndex = part_pair_to_mate[part_pair]\n",
    "                    mateType = mate_subset.iloc[mateIndex]['Type']\n",
    "                else:\n",
    "                    mateType='FASTENED'\n",
    "                    stats['false_part_pairs'] += 1\n",
    "                mc_pairs = part_proposals[part_pair]\n",
    "\n",
    "                if len(mc_pairs) > max_mc_pairs:\n",
    "                    curr_mate_stats[mateIndex]['truncated_mc_pairs'] = True\n",
    "                    mc_pairs_final=[]\n",
    "                    mc_pairs_false=[]\n",
    "                    for pair in mc_pairs:\n",
    "                        if mc_pairs[pair] >= 0:\n",
    "                            mc_pairs_final.append(pair)\n",
    "                        else:\n",
    "                            mc_pairs_false.append(pair)\n",
    "                    N_true = len(mc_pairs_final)\n",
    "                    N_remainder = max_mc_pairs - N_true\n",
    "                    random.shuffle(mc_pairs_false)\n",
    "                    for pair in mc_pairs_false[:N_remainder]:\n",
    "                        mc_pairs_final.append(pair)\n",
    "                else:\n",
    "                    mc_pairs_final = mc_pairs\n",
    "\n",
    "                part1 = parts[part_pair[0]]\n",
    "                part2 = parts[part_pair[1]]\n",
    "                or1, loc1, inf1 = part1.get_onshape_def_from_mc(part1.all_mate_connectors[0])\n",
    "                or2, loc2, inf2 = part2.get_onshape_def_from_mc(part2.all_mate_connectors[0])\n",
    "\n",
    "                data = UniformMateData(\n",
    "                    normalized_parts[part_pair[0]],\n",
    "                    or1,\n",
    "                    loc1,\n",
    "                    inf1,\n",
    "                    norm_matrices[part_pair[0]],\n",
    "                    normalized_parts[part_pair[1]],\n",
    "                    or2,\n",
    "                    loc2,\n",
    "                    inf2,\n",
    "                    norm_matrices[part_pair[1]],\n",
    "                    mateType\n",
    "                )\n",
    "                data = transform(data)\n",
    "                data.mc_pairs = torch.empty((6, len(mc_pairs_final)), dtype=torch.int64)\n",
    "                data.mc_pair_labels = torch.zeros(len(mc_pairs_final), dtype=torch.float32)\n",
    "                all_mcs = [parts[partIndex].all_mate_connectors for partIndex in part_pair]\n",
    "                for k,pair in enumerate(mc_pairs_final):\n",
    "                    type_index = mc_pairs[pair]\n",
    "                    if type_index >= 0:\n",
    "                        data.mc_pair_labels[k] = 1\n",
    "                    mcs = [mc_list[mcIndex] for mc_list, mcIndex in zip(all_mcs, pair)]\n",
    "                    col = torch.tensor([mcs[0].orientation_inference.topology_ref, mcs[0].location_inference.topology_ref, mcs[0].location_inference.inference_type.value,\n",
    "                          mcs[1].orientation_inference.topology_ref, mcs[1].location_inference.topology_ref, mcs[1].location_inference.inference_type.value], dtype=torch.int)\n",
    "                    data.mc_pairs[:,k] = col\n",
    "                #dataname = f'{assembly_df.loc[ind,\"AssemblyPath\"]}-{part_subset.iloc[part_pair[0]][\"PartOccurrenceID\"].replace(\"/\",\"_\")}-{part_subset.iloc[part_pair[1]][\"PartOccurrenceID\"].replace(\"/\",\"_\")}.dat'\n",
    "                dataname = f'{ind}-{part_subset.iloc[part_pair[0]][\"PartIndex\"]}-{part_subset.iloc[part_pair[1]][\"PartIndex\"]}.dat'\n",
    "                torch.save(data, os.path.join(outpath, dataname))\n",
    "                del data\n",
    "            \n",
    "    for stat in curr_mate_stats:\n",
    "        mate_stats.append(stat)\n",
    "    all_stats.append(stats)\n",
    "    processed_indices.append(ind)\n",
    "    \n",
    "    if (num_processed+1) % stride == 0:\n",
    "        \n",
    "        stat_df_mini = ps.DataFrame(all_stats[last_ckpt:], index=processed_indices[last_ckpt:])\n",
    "        mate_stat_df_mini = ps.DataFrame(mate_stats[last_mate_ckpt:], index=mate_indices[last_mate_ckpt:])\n",
    "        stat_df_mini.to_parquet(os.path.join(statspath, f'stats_{num_processed}.parquet'))\n",
    "        mate_stat_df_mini.to_parquet(os.path.join(statspath, f'mate_stats_{num_processed}.parquet'))\n",
    "        last_mate_ckpt = len(mate_indices)\n",
    "        last_ckpt = len(processed_indices)"
   ]
  },
  {
   "cell_type": "raw",
   "id": "e004b48d-4396-4ac0-9844-13a90c719c5d",
   "metadata": {},
   "source": [
    "stats_df = ps.DataFrame(all_stats, index=processed_indices)\n",
    "mate_stats_df = ps.DataFrame(mate_stats, index=mate_indices)"
   ]
  },
  {
   "cell_type": "code",
   "execution_count": null,
   "id": "33c94b07-15f6-4283-9670-f184b5e5e2d6",
   "metadata": {},
   "outputs": [],
   "source": []
  }
 ],
 "metadata": {
  "kernelspec": {
   "display_name": "Python 3 (ipykernel)",
   "language": "python",
   "name": "python3"
  },
  "language_info": {
   "codemirror_mode": {
    "name": "ipython",
    "version": 3
   },
   "file_extension": ".py",
   "mimetype": "text/x-python",
   "name": "python",
   "nbconvert_exporter": "python",
   "pygments_lexer": "ipython3",
   "version": "3.9.6"
  }
 },
 "nbformat": 4,
 "nbformat_minor": 5
}
