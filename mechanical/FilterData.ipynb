{
 "cells": [
  {
   "cell_type": "markdown",
   "id": "daddf04f-c2ae-4fbc-bbef-13130a18f41b",
   "metadata": {},
   "source": [
    "# Filtering the datalist to valid entries using the stats dataframes"
   ]
  },
  {
   "cell_type": "code",
   "execution_count": 307,
   "id": "efdf57b6-9d2a-416c-ae0c-5a04f9134f35",
   "metadata": {},
   "outputs": [],
   "source": [
    "import numpy as np\n",
    "import pandas as ps\n",
    "import os\n",
    "from IPython.display import JSON as DJSON\n",
    "import random"
   ]
  },
  {
   "cell_type": "code",
   "execution_count": 176,
   "id": "e744750e-7ccc-438f-bdab-165ba2117df5",
   "metadata": {},
   "outputs": [],
   "source": [
    "name = '/fast/jamesn8/assembly_data/assembly_data_with_transforms_all.h5'\n",
    "assembly_df = ps.read_hdf(name,'assembly')\n",
    "mate_df = ps.read_hdf(name,'mate')\n",
    "part_df = ps.read_hdf(name,'part')"
   ]
  },
  {
   "cell_type": "code",
   "execution_count": 214,
   "id": "a10ab555-5e92-4e8b-989e-52662add1655",
   "metadata": {},
   "outputs": [],
   "source": [
    "part_df_indexed = part_df.copy()\n",
    "part_df_indexed['PartIndex'] = part_df_indexed.index\n",
    "part_df_indexed['AssemblyOccurrenceID'] = [f'{ass}-{occ}' for ass,occ in zip(part_df_indexed['Assembly'], part_df_indexed['PartOccurrenceID'])]\n",
    "part_df_indexed.set_index('AssemblyOccurrenceID', inplace=True)"
   ]
  },
  {
   "cell_type": "code",
   "execution_count": 168,
   "id": "874abc46-0952-4f3e-8668-9bfe50ebd53a",
   "metadata": {},
   "outputs": [],
   "source": [
    "stats_path = '/fast/jamesn8/assembly_data/mate_torch_norm_match/stats'"
   ]
  },
  {
   "cell_type": "code",
   "execution_count": 326,
   "id": "09627275-6b0a-4d04-a7c9-5fc9f43f101e",
   "metadata": {},
   "outputs": [],
   "source": [
    "stats_df = ps.read_parquet(os.path.join(stats_path, 'stats_all.parquet'))\n",
    "mate_stats_df = ps.read_parquet(os.path.join(stats_path, 'mate_stats_all.parquet'))"
   ]
  },
  {
   "cell_type": "raw",
   "id": "16fcc7b0-a914-4a1c-98f7-bf51e9c87875",
   "metadata": {},
   "source": [
    "stats_dfs = [ps.read_parquet(os.path.join(stats_path, fname)) for fname in os.listdir(stats_path) if fname.startswith('stats') and fname.endswith('.parquet')]"
   ]
  },
  {
   "cell_type": "raw",
   "id": "57c014ca-86bc-4044-8d6d-cc501290a14c",
   "metadata": {},
   "source": [
    "mate_dfs = [ps.read_parquet(os.path.join(stats_path, fname)) for fname in os.listdir(stats_path) if fname.startswith('mate') and fname.endswith('.parquet')]"
   ]
  },
  {
   "cell_type": "raw",
   "id": "c7fcbe16-26c1-43c4-b456-1faa654eecdf",
   "metadata": {},
   "source": [
    "stats_df = ps.concat(stats_dfs, axis=0)\n",
    "del stats_dfs"
   ]
  },
  {
   "cell_type": "raw",
   "id": "1539a0d3-7b92-42d3-909b-7f4b840f7b18",
   "metadata": {},
   "source": [
    "mate_stats_df = ps.concat(mate_dfs, axis=0)\n",
    "del mate_dfs"
   ]
  },
  {
   "cell_type": "code",
   "execution_count": 327,
   "id": "46ce7330-0090-4fc8-8b0b-0dc51ed87d23",
   "metadata": {},
   "outputs": [],
   "source": [
    "only_valid = stats_df[lambda df: (df['invalid_mates'] == 0) & (df['num_invalid_transformed_parts'] == 0)]"
   ]
  },
  {
   "cell_type": "code",
   "execution_count": 328,
   "id": "41d80770-c65a-48c2-9eb0-f6b2d52e58c8",
   "metadata": {},
   "outputs": [
    {
     "data": {
      "text/plain": [
       "0.6864439324116743"
      ]
     },
     "execution_count": 328,
     "metadata": {},
     "output_type": "execute_result"
    }
   ],
   "source": [
    "only_valid.shape[0]/stats_df.shape[0]"
   ]
  },
  {
   "cell_type": "code",
   "execution_count": 331,
   "id": "f39c26e8-fbdf-40c6-92b5-33169c7887a7",
   "metadata": {},
   "outputs": [],
   "source": [
    "mate_stats_invalid_df = mate_stats_df[lambda df: df['invalid_frame_0'] | df['invalid_frame_1']]"
   ]
  },
  {
   "cell_type": "code",
   "execution_count": 335,
   "id": "70a58ecd-22c1-4423-afec-5259d46dda1c",
   "metadata": {},
   "outputs": [],
   "source": [
    "indexfile = '/fast/jamesn8/assembly_data/mate_torch_norm_match/index.txt'\n",
    "with open(indexfile,'r') as f:\n",
    "    datalist = [[int(val) for val in os.path.splitext(l.rstrip())[0].split('-')] for l in f.readlines()]"
   ]
  },
  {
   "cell_type": "code",
   "execution_count": 333,
   "id": "d4bdd203-1d51-4101-afb9-38896c8412cc",
   "metadata": {},
   "outputs": [],
   "source": [
    "mate_df_indexed = mate_df.copy()\n",
    "mate_df_indexed['MateIndex'] = mate_df_indexed.index\n",
    "mate_df_indexed['MateID'] = [str(tup[0]) + '-' + '-'.join(sorted(tup[1:])) for tup in zip(mate_df_indexed['Assembly'], mate_df_indexed['Part1'], mate_df_indexed['Part2'])]\n",
    "mate_df_indexed.set_index('MateID', inplace=True)"
   ]
  },
  {
   "cell_type": "code",
   "execution_count": null,
   "id": "eb31780c-f241-4b5c-828e-f5ba25e3b89f",
   "metadata": {},
   "outputs": [],
   "source": [
    "datalist_df = ps.DataFrame(datalist, columns=['assembly','part1','part2'])\n",
    "datalist_df.join(part_df[['Assembly','PartOccurrenceID']].set_index('Assembly', append=True), on=['part1','assembly'])"
   ]
  },
  {
   "cell_type": "code",
   "execution_count": 337,
   "id": "513e3cb8-a91a-49f3-95ec-b41ce08ea11f",
   "metadata": {
    "tags": []
   },
   "outputs": [
    {
     "name": "stdout",
     "output_type": "stream",
     "text": [
      "processed0/429600\n",
      "processed1000/429600\n",
      "processed2000/429600\n",
      "processed3000/429600\n",
      "processed4000/429600\n",
      "processed5000/429600\n",
      "processed6000/429600\n",
      "processed7000/429600\n",
      "processed8000/429600\n",
      "processed9000/429600\n",
      "processed10000/429600\n",
      "processed11000/429600\n",
      "processed12000/429600\n",
      "processed13000/429600\n",
      "processed14000/429600\n",
      "processed15000/429600\n",
      "processed16000/429600\n",
      "processed17000/429600\n",
      "processed18000/429600\n",
      "processed19000/429600\n",
      "processed20000/429600\n",
      "processed21000/429600\n",
      "processed22000/429600\n",
      "processed23000/429600\n",
      "processed24000/429600\n",
      "processed25000/429600\n",
      "processed26000/429600\n",
      "processed27000/429600\n",
      "processed28000/429600\n",
      "processed29000/429600\n",
      "processed30000/429600\n",
      "processed31000/429600\n",
      "processed32000/429600\n",
      "processed33000/429600\n",
      "processed34000/429600\n",
      "processed35000/429600\n",
      "processed36000/429600\n",
      "processed37000/429600\n",
      "processed38000/429600\n",
      "processed39000/429600\n",
      "processed40000/429600\n",
      "processed41000/429600\n",
      "processed42000/429600\n",
      "processed43000/429600\n",
      "processed44000/429600\n",
      "processed45000/429600\n",
      "processed46000/429600\n",
      "processed47000/429600\n",
      "processed48000/429600\n",
      "processed49000/429600\n",
      "processed50000/429600\n",
      "processed51000/429600\n",
      "processed52000/429600\n",
      "processed53000/429600\n",
      "processed54000/429600\n",
      "processed55000/429600\n",
      "processed56000/429600\n",
      "processed57000/429600\n",
      "processed58000/429600\n",
      "processed59000/429600\n",
      "processed60000/429600\n",
      "processed61000/429600\n",
      "processed62000/429600\n",
      "processed63000/429600\n",
      "processed64000/429600\n",
      "processed65000/429600\n",
      "processed66000/429600\n",
      "processed67000/429600\n",
      "processed68000/429600\n",
      "processed69000/429600\n",
      "processed70000/429600\n",
      "processed71000/429600\n",
      "processed72000/429600\n",
      "processed73000/429600\n",
      "processed74000/429600\n",
      "processed75000/429600\n",
      "processed76000/429600\n",
      "processed77000/429600\n",
      "processed78000/429600\n",
      "processed79000/429600\n",
      "processed80000/429600\n",
      "processed81000/429600\n",
      "processed82000/429600\n",
      "processed83000/429600\n",
      "processed84000/429600\n",
      "processed85000/429600\n",
      "processed86000/429600\n",
      "processed87000/429600\n",
      "processed88000/429600\n",
      "processed89000/429600\n",
      "processed90000/429600\n",
      "processed91000/429600\n",
      "processed92000/429600\n",
      "processed93000/429600\n",
      "processed94000/429600\n",
      "processed95000/429600\n",
      "processed96000/429600\n",
      "processed97000/429600\n",
      "processed98000/429600\n",
      "processed99000/429600\n",
      "processed100000/429600\n",
      "processed101000/429600\n",
      "processed102000/429600\n",
      "processed103000/429600\n",
      "processed104000/429600\n",
      "processed105000/429600\n",
      "processed106000/429600\n",
      "processed107000/429600\n",
      "processed108000/429600\n",
      "processed109000/429600\n",
      "processed110000/429600\n",
      "processed111000/429600\n",
      "processed112000/429600\n",
      "processed113000/429600\n",
      "processed114000/429600\n",
      "processed115000/429600\n",
      "processed116000/429600\n",
      "processed117000/429600\n",
      "processed118000/429600\n",
      "processed119000/429600\n",
      "processed120000/429600\n",
      "processed121000/429600\n",
      "processed122000/429600\n",
      "processed123000/429600\n",
      "processed124000/429600\n",
      "processed125000/429600\n",
      "processed126000/429600\n",
      "processed127000/429600\n",
      "processed128000/429600\n",
      "processed129000/429600\n",
      "processed130000/429600\n",
      "processed131000/429600\n",
      "processed132000/429600\n",
      "processed133000/429600\n",
      "processed134000/429600\n",
      "processed135000/429600\n",
      "processed136000/429600\n",
      "processed137000/429600\n",
      "processed138000/429600\n",
      "processed139000/429600\n",
      "processed140000/429600\n",
      "processed141000/429600\n",
      "processed142000/429600\n",
      "processed143000/429600\n",
      "processed144000/429600\n",
      "processed145000/429600\n",
      "processed146000/429600\n",
      "processed147000/429600\n",
      "processed148000/429600\n",
      "processed149000/429600\n",
      "processed150000/429600\n",
      "processed151000/429600\n",
      "processed152000/429600\n",
      "processed153000/429600\n",
      "processed154000/429600\n",
      "processed155000/429600\n",
      "processed156000/429600\n",
      "processed157000/429600\n",
      "processed158000/429600\n",
      "processed159000/429600\n",
      "processed160000/429600\n",
      "processed161000/429600\n",
      "processed162000/429600\n",
      "processed163000/429600\n",
      "processed164000/429600\n",
      "processed165000/429600\n",
      "processed166000/429600\n",
      "processed167000/429600\n",
      "processed168000/429600\n",
      "processed169000/429600\n",
      "processed170000/429600\n",
      "processed171000/429600\n",
      "processed172000/429600\n",
      "processed173000/429600\n",
      "processed174000/429600\n",
      "processed175000/429600\n",
      "processed176000/429600\n",
      "processed177000/429600\n",
      "processed178000/429600\n",
      "processed179000/429600\n",
      "processed180000/429600\n",
      "processed181000/429600\n",
      "processed182000/429600\n",
      "processed183000/429600\n",
      "processed184000/429600\n",
      "processed185000/429600\n",
      "processed186000/429600\n",
      "processed187000/429600\n",
      "processed188000/429600\n",
      "processed189000/429600\n",
      "processed190000/429600\n",
      "processed191000/429600\n",
      "processed192000/429600\n",
      "processed193000/429600\n",
      "processed194000/429600\n",
      "processed195000/429600\n",
      "processed196000/429600\n",
      "processed197000/429600\n",
      "processed198000/429600\n",
      "processed199000/429600\n",
      "processed200000/429600\n",
      "processed201000/429600\n",
      "processed202000/429600\n",
      "processed203000/429600\n",
      "processed204000/429600\n",
      "processed205000/429600\n",
      "processed206000/429600\n",
      "processed207000/429600\n",
      "processed208000/429600\n",
      "processed209000/429600\n",
      "processed210000/429600\n",
      "processed211000/429600\n",
      "processed212000/429600\n",
      "processed213000/429600\n",
      "processed214000/429600\n",
      "processed215000/429600\n",
      "processed216000/429600\n",
      "processed217000/429600\n",
      "processed218000/429600\n",
      "processed219000/429600\n",
      "processed220000/429600\n",
      "processed221000/429600\n",
      "processed222000/429600\n",
      "processed223000/429600\n",
      "processed224000/429600\n",
      "processed225000/429600\n",
      "processed226000/429600\n",
      "processed227000/429600\n",
      "processed228000/429600\n",
      "processed229000/429600\n",
      "processed230000/429600\n",
      "processed231000/429600\n",
      "processed232000/429600\n",
      "processed233000/429600\n",
      "processed234000/429600\n",
      "processed235000/429600\n",
      "processed236000/429600\n",
      "processed237000/429600\n",
      "processed238000/429600\n",
      "processed239000/429600\n",
      "processed240000/429600\n",
      "processed241000/429600\n",
      "processed242000/429600\n",
      "processed243000/429600\n",
      "processed244000/429600\n",
      "processed245000/429600\n",
      "processed246000/429600\n",
      "processed247000/429600\n",
      "processed248000/429600\n",
      "processed249000/429600\n",
      "processed250000/429600\n",
      "processed251000/429600\n",
      "processed252000/429600\n",
      "processed253000/429600\n",
      "processed254000/429600\n",
      "processed255000/429600\n",
      "processed256000/429600\n",
      "processed257000/429600\n",
      "processed258000/429600\n",
      "processed259000/429600\n",
      "processed260000/429600\n",
      "processed261000/429600\n",
      "processed262000/429600\n",
      "processed263000/429600\n",
      "processed264000/429600\n",
      "processed265000/429600\n",
      "processed266000/429600\n",
      "processed267000/429600\n",
      "processed268000/429600\n",
      "processed269000/429600\n",
      "processed270000/429600\n",
      "processed271000/429600\n",
      "processed272000/429600\n",
      "processed273000/429600\n",
      "processed274000/429600\n",
      "processed275000/429600\n",
      "processed276000/429600\n",
      "processed277000/429600\n",
      "processed278000/429600\n",
      "processed279000/429600\n",
      "processed280000/429600\n",
      "processed281000/429600\n",
      "processed282000/429600\n",
      "processed283000/429600\n",
      "processed284000/429600\n",
      "processed285000/429600\n",
      "processed286000/429600\n",
      "processed287000/429600\n",
      "processed288000/429600\n",
      "processed289000/429600\n",
      "processed290000/429600\n",
      "processed291000/429600\n",
      "processed292000/429600\n",
      "processed293000/429600\n",
      "processed294000/429600\n",
      "processed295000/429600\n",
      "processed296000/429600\n",
      "processed297000/429600\n",
      "processed298000/429600\n",
      "processed299000/429600\n",
      "processed300000/429600\n",
      "processed301000/429600\n",
      "processed302000/429600\n",
      "processed303000/429600\n",
      "processed304000/429600\n",
      "processed305000/429600\n",
      "processed306000/429600\n",
      "processed307000/429600\n",
      "processed308000/429600\n",
      "processed309000/429600\n",
      "processed310000/429600\n",
      "processed311000/429600\n",
      "processed312000/429600\n",
      "processed313000/429600\n",
      "processed314000/429600\n",
      "processed315000/429600\n",
      "processed316000/429600\n",
      "processed317000/429600\n",
      "processed318000/429600\n",
      "processed319000/429600\n",
      "processed320000/429600\n",
      "processed321000/429600\n",
      "processed322000/429600\n",
      "processed323000/429600\n",
      "processed324000/429600\n",
      "processed325000/429600\n",
      "processed326000/429600\n",
      "processed327000/429600\n",
      "processed328000/429600\n",
      "processed329000/429600\n",
      "processed330000/429600\n",
      "processed331000/429600\n",
      "processed332000/429600\n",
      "processed333000/429600\n",
      "processed334000/429600\n",
      "processed335000/429600\n",
      "processed336000/429600\n",
      "processed337000/429600\n",
      "processed338000/429600\n",
      "processed339000/429600\n",
      "processed340000/429600\n",
      "processed341000/429600\n",
      "processed342000/429600\n",
      "processed343000/429600\n",
      "processed344000/429600\n",
      "processed345000/429600\n",
      "processed346000/429600\n",
      "processed347000/429600\n",
      "processed348000/429600\n",
      "processed349000/429600\n",
      "processed350000/429600\n",
      "processed351000/429600\n",
      "processed352000/429600\n",
      "processed353000/429600\n",
      "processed354000/429600\n",
      "processed355000/429600\n",
      "processed356000/429600\n",
      "processed357000/429600\n",
      "processed358000/429600\n",
      "processed359000/429600\n",
      "processed360000/429600\n",
      "processed361000/429600\n",
      "processed362000/429600\n",
      "processed363000/429600\n",
      "processed364000/429600\n",
      "processed365000/429600\n",
      "processed366000/429600\n",
      "processed367000/429600\n",
      "processed368000/429600\n",
      "processed369000/429600\n",
      "processed370000/429600\n",
      "processed371000/429600\n",
      "processed372000/429600\n",
      "processed373000/429600\n",
      "processed374000/429600\n",
      "processed375000/429600\n",
      "processed376000/429600\n",
      "processed377000/429600\n",
      "processed378000/429600\n",
      "processed379000/429600\n",
      "processed380000/429600\n",
      "processed381000/429600\n",
      "processed382000/429600\n",
      "processed383000/429600\n",
      "processed384000/429600\n",
      "processed385000/429600\n",
      "processed386000/429600\n",
      "processed387000/429600\n",
      "processed388000/429600\n",
      "processed389000/429600\n",
      "processed390000/429600\n",
      "processed391000/429600\n",
      "processed392000/429600\n",
      "processed393000/429600\n",
      "processed394000/429600\n",
      "processed395000/429600\n",
      "processed396000/429600\n",
      "processed397000/429600\n",
      "processed398000/429600\n",
      "processed399000/429600\n",
      "processed400000/429600\n",
      "processed401000/429600\n",
      "processed402000/429600\n",
      "processed403000/429600\n",
      "processed404000/429600\n",
      "processed405000/429600\n",
      "processed406000/429600\n",
      "processed407000/429600\n",
      "processed408000/429600\n",
      "processed409000/429600\n",
      "processed410000/429600\n",
      "processed411000/429600\n",
      "processed412000/429600\n",
      "processed413000/429600\n",
      "processed414000/429600\n",
      "processed415000/429600\n",
      "processed416000/429600\n",
      "processed417000/429600\n",
      "processed418000/429600\n",
      "processed419000/429600\n",
      "processed420000/429600\n",
      "processed421000/429600\n",
      "processed422000/429600\n",
      "processed423000/429600\n",
      "processed424000/429600\n",
      "processed425000/429600\n",
      "processed426000/429600\n",
      "processed427000/429600\n",
      "processed428000/429600\n",
      "processed429000/429600\n"
     ]
    }
   ],
   "source": [
    "filtered_indexfile = [] #only the mate data that actually has a mate (and is a valid assembly)\n",
    "excluded_based_on_mates = []\n",
    "excluded_based_on_assembly = [] #those data whose assembly is not a valid one\n",
    "for i,l in enumerate(datalist):\n",
    "    if i % 1000 == 0:\n",
    "        print(f'processed{i}/{len(datalist)}')\n",
    "    if l[0] in stats_df.index:\n",
    "        occ1 = part_df.loc[l[1], 'PartOccurrenceID']\n",
    "        occ2 = part_df.loc[l[2], 'PartOccurrenceID']\n",
    "        key = str(l[0]) + '-' + '-'.join(sorted([occ1, occ2]))\n",
    "        if key in mate_df_indexed.index:\n",
    "            mates = mate_df_indexed.loc[key,'MateIndex']\n",
    "            if isinstance(mates, np.int64):\n",
    "                if mates in mate_stats_invalid_df.index:\n",
    "                    excluded_based_on_mates.append(i)\n",
    "                else:\n",
    "                    filtered_indexfile.append(i)\n",
    "            else:\n",
    "                hasInvalid = False\n",
    "                for mate in mates:\n",
    "                    if mate in mate_stats_invalid_df.index:\n",
    "                        excluded_based_on_mates.append(i)\n",
    "                        hasInvalid = True\n",
    "                        break\n",
    "                if not hasInvalid:\n",
    "                    filtered_indexfile.append(i)\n",
    "    else:\n",
    "        excluded_based_on_assembly.append(i)"
   ]
  },
  {
   "cell_type": "code",
   "execution_count": 338,
   "id": "26f05c7b-39c8-41ad-a901-7c3f874bc7ec",
   "metadata": {},
   "outputs": [
    {
     "name": "stdout",
     "output_type": "stream",
     "text": [
      "82122\n",
      "0\n",
      "9420\n"
     ]
    }
   ],
   "source": [
    "print(len(filtered_indexfile))\n",
    "print(len(excluded_based_on_assembly))\n",
    "print(len(excluded_based_on_mates))"
   ]
  },
  {
   "cell_type": "code",
   "execution_count": 339,
   "id": "81b56a94-8d61-4a5c-860e-f47b86279dd9",
   "metadata": {},
   "outputs": [],
   "source": [
    "excluded_set = set(excluded_based_on_assembly + excluded_based_on_mates)"
   ]
  },
  {
   "cell_type": "code",
   "execution_count": 340,
   "id": "fc76c66f-afbe-4e67-9460-e595d3947db3",
   "metadata": {},
   "outputs": [],
   "source": [
    "datalist_filtered = ['-'.join([str(d) for d in data]) + '.dat\\n' for i,data in enumerate(datalist) if i not in excluded_set]"
   ]
  },
  {
   "cell_type": "code",
   "execution_count": 341,
   "id": "b64d9a3d-e105-4794-bfc0-2394c2321a77",
   "metadata": {},
   "outputs": [],
   "source": [
    "random.shuffle(datalist_filtered)"
   ]
  },
  {
   "cell_type": "code",
   "execution_count": 342,
   "id": "7a751bee-71c7-487d-8312-1ced5a9b2337",
   "metadata": {},
   "outputs": [
    {
     "name": "stdout",
     "output_type": "stream",
     "text": [
      "retained 0.978072625698324\n"
     ]
    }
   ],
   "source": [
    "print('retained',len(datalist_filtered)/len(datalist))"
   ]
  },
  {
   "cell_type": "code",
   "execution_count": 343,
   "id": "47281722-329c-4635-9aee-52559cf4e438",
   "metadata": {},
   "outputs": [],
   "source": [
    "indexfile_filtered = '/fast/jamesn8/assembly_data/mate_torch_norm_match/index_filtered.txt'\n",
    "with open(indexfile_filtered,'w') as f:\n",
    "    f.writelines(datalist_filtered)"
   ]
  },
  {
   "cell_type": "code",
   "execution_count": null,
   "id": "44654363-8321-47f4-8a84-afcb2a7b519a",
   "metadata": {},
   "outputs": [],
   "source": []
  },
  {
   "cell_type": "markdown",
   "id": "d5c70ed8-ad4d-4400-8582-e5d5b413c457",
   "metadata": {},
   "source": [
    "## End datalist filtering"
   ]
  },
  {
   "cell_type": "code",
   "execution_count": 215,
   "id": "deafbdde-218d-4c0b-aadc-8cc29e428751",
   "metadata": {},
   "outputs": [],
   "source": [
    "mate_df_filtered['Part1Path'] = [f'{ass}-{occ}' for ass,occ in zip(mate_df_filtered['Assembly'],mate_df_filtered['Part1'])]\n",
    "mate_df_filtered['Part2Path'] = [f'{ass}-{occ}' for ass,occ in zip(mate_df_filtered['Assembly'],mate_df_filtered['Part2'])]"
   ]
  },
  {
   "cell_type": "code",
   "execution_count": 216,
   "id": "ac208c10-ff9f-4b1f-9c14-3c461f148eb5",
   "metadata": {},
   "outputs": [],
   "source": [
    "part1_ids = part_df_indexed.loc[mate_df_filtered['Part1Path'],'PartIndex']\n",
    "part2_ids = part_df_indexed.loc[mate_df_filtered['Part2Path'],'PartIndex']"
   ]
  },
  {
   "cell_type": "code",
   "execution_count": 219,
   "id": "7dd05fb6-b6a1-4cf3-9943-105fdf02f086",
   "metadata": {},
   "outputs": [
    {
     "ename": "ValueError",
     "evalue": "cannot reindex from a duplicate axis",
     "output_type": "error",
     "traceback": [
      "\u001b[0;31m---------------------------------------------------------------------------\u001b[0m",
      "\u001b[0;31mValueError\u001b[0m                                Traceback (most recent call last)",
      "\u001b[0;32m/tmp/ipykernel_2729622/2140204710.py\u001b[0m in \u001b[0;36m<module>\u001b[0;34m\u001b[0m\n\u001b[0;32m----> 1\u001b[0;31m \u001b[0mmate_df_filtered\u001b[0m\u001b[0;34m[\u001b[0m\u001b[0;34m'Part1Id'\u001b[0m\u001b[0;34m]\u001b[0m \u001b[0;34m=\u001b[0m \u001b[0mpart1_ids\u001b[0m\u001b[0;34m\u001b[0m\u001b[0;34m\u001b[0m\u001b[0m\n\u001b[0m\u001b[1;32m      2\u001b[0m \u001b[0mmate_df_filtered\u001b[0m\u001b[0;34m[\u001b[0m\u001b[0;34m'Part2Id'\u001b[0m\u001b[0;34m]\u001b[0m \u001b[0;34m=\u001b[0m \u001b[0mpart2_ids\u001b[0m\u001b[0;34m\u001b[0m\u001b[0;34m\u001b[0m\u001b[0m\n",
      "\u001b[0;32m/fast/jamesn8/anaconda3/envs/torch3/lib/python3.9/site-packages/pandas/core/frame.py\u001b[0m in \u001b[0;36m__setitem__\u001b[0;34m(self, key, value)\u001b[0m\n\u001b[1;32m   3605\u001b[0m         \u001b[0;32melse\u001b[0m\u001b[0;34m:\u001b[0m\u001b[0;34m\u001b[0m\u001b[0;34m\u001b[0m\u001b[0m\n\u001b[1;32m   3606\u001b[0m             \u001b[0;31m# set column\u001b[0m\u001b[0;34m\u001b[0m\u001b[0;34m\u001b[0m\u001b[0;34m\u001b[0m\u001b[0m\n\u001b[0;32m-> 3607\u001b[0;31m             \u001b[0mself\u001b[0m\u001b[0;34m.\u001b[0m\u001b[0m_set_item\u001b[0m\u001b[0;34m(\u001b[0m\u001b[0mkey\u001b[0m\u001b[0;34m,\u001b[0m \u001b[0mvalue\u001b[0m\u001b[0;34m)\u001b[0m\u001b[0;34m\u001b[0m\u001b[0;34m\u001b[0m\u001b[0m\n\u001b[0m\u001b[1;32m   3608\u001b[0m \u001b[0;34m\u001b[0m\u001b[0m\n\u001b[1;32m   3609\u001b[0m     \u001b[0;32mdef\u001b[0m \u001b[0m_setitem_slice\u001b[0m\u001b[0;34m(\u001b[0m\u001b[0mself\u001b[0m\u001b[0;34m,\u001b[0m \u001b[0mkey\u001b[0m\u001b[0;34m:\u001b[0m \u001b[0mslice\u001b[0m\u001b[0;34m,\u001b[0m \u001b[0mvalue\u001b[0m\u001b[0;34m)\u001b[0m\u001b[0;34m:\u001b[0m\u001b[0;34m\u001b[0m\u001b[0;34m\u001b[0m\u001b[0m\n",
      "\u001b[0;32m/fast/jamesn8/anaconda3/envs/torch3/lib/python3.9/site-packages/pandas/core/frame.py\u001b[0m in \u001b[0;36m_set_item\u001b[0;34m(self, key, value)\u001b[0m\n\u001b[1;32m   3777\u001b[0m         \u001b[0mensure\u001b[0m \u001b[0mhomogeneity\u001b[0m\u001b[0;34m.\u001b[0m\u001b[0;34m\u001b[0m\u001b[0;34m\u001b[0m\u001b[0m\n\u001b[1;32m   3778\u001b[0m         \"\"\"\n\u001b[0;32m-> 3779\u001b[0;31m         \u001b[0mvalue\u001b[0m \u001b[0;34m=\u001b[0m \u001b[0mself\u001b[0m\u001b[0;34m.\u001b[0m\u001b[0m_sanitize_column\u001b[0m\u001b[0;34m(\u001b[0m\u001b[0mvalue\u001b[0m\u001b[0;34m)\u001b[0m\u001b[0;34m\u001b[0m\u001b[0;34m\u001b[0m\u001b[0m\n\u001b[0m\u001b[1;32m   3780\u001b[0m \u001b[0;34m\u001b[0m\u001b[0m\n\u001b[1;32m   3781\u001b[0m         if (\n",
      "\u001b[0;32m/fast/jamesn8/anaconda3/envs/torch3/lib/python3.9/site-packages/pandas/core/frame.py\u001b[0m in \u001b[0;36m_sanitize_column\u001b[0;34m(self, value)\u001b[0m\n\u001b[1;32m   4499\u001b[0m         \u001b[0;31m# We should never get here with DataFrame value\u001b[0m\u001b[0;34m\u001b[0m\u001b[0;34m\u001b[0m\u001b[0;34m\u001b[0m\u001b[0m\n\u001b[1;32m   4500\u001b[0m         \u001b[0;32mif\u001b[0m \u001b[0misinstance\u001b[0m\u001b[0;34m(\u001b[0m\u001b[0mvalue\u001b[0m\u001b[0;34m,\u001b[0m \u001b[0mSeries\u001b[0m\u001b[0;34m)\u001b[0m\u001b[0;34m:\u001b[0m\u001b[0;34m\u001b[0m\u001b[0;34m\u001b[0m\u001b[0m\n\u001b[0;32m-> 4501\u001b[0;31m             \u001b[0;32mreturn\u001b[0m \u001b[0m_reindex_for_setitem\u001b[0m\u001b[0;34m(\u001b[0m\u001b[0mvalue\u001b[0m\u001b[0;34m,\u001b[0m \u001b[0mself\u001b[0m\u001b[0;34m.\u001b[0m\u001b[0mindex\u001b[0m\u001b[0;34m)\u001b[0m\u001b[0;34m\u001b[0m\u001b[0;34m\u001b[0m\u001b[0m\n\u001b[0m\u001b[1;32m   4502\u001b[0m \u001b[0;34m\u001b[0m\u001b[0m\n\u001b[1;32m   4503\u001b[0m         \u001b[0;32mif\u001b[0m \u001b[0mis_list_like\u001b[0m\u001b[0;34m(\u001b[0m\u001b[0mvalue\u001b[0m\u001b[0;34m)\u001b[0m\u001b[0;34m:\u001b[0m\u001b[0;34m\u001b[0m\u001b[0;34m\u001b[0m\u001b[0m\n",
      "\u001b[0;32m/fast/jamesn8/anaconda3/envs/torch3/lib/python3.9/site-packages/pandas/core/frame.py\u001b[0m in \u001b[0;36m_reindex_for_setitem\u001b[0;34m(value, index)\u001b[0m\n\u001b[1;32m  10775\u001b[0m         \u001b[0;32mif\u001b[0m \u001b[0;32mnot\u001b[0m \u001b[0mvalue\u001b[0m\u001b[0;34m.\u001b[0m\u001b[0mindex\u001b[0m\u001b[0;34m.\u001b[0m\u001b[0mis_unique\u001b[0m\u001b[0;34m:\u001b[0m\u001b[0;34m\u001b[0m\u001b[0;34m\u001b[0m\u001b[0m\n\u001b[1;32m  10776\u001b[0m             \u001b[0;31m# duplicate axis\u001b[0m\u001b[0;34m\u001b[0m\u001b[0;34m\u001b[0m\u001b[0;34m\u001b[0m\u001b[0m\n\u001b[0;32m> 10777\u001b[0;31m             \u001b[0;32mraise\u001b[0m \u001b[0merr\u001b[0m\u001b[0;34m\u001b[0m\u001b[0;34m\u001b[0m\u001b[0m\n\u001b[0m\u001b[1;32m  10778\u001b[0m \u001b[0;34m\u001b[0m\u001b[0m\n\u001b[1;32m  10779\u001b[0m         raise TypeError(\n",
      "\u001b[0;32m/fast/jamesn8/anaconda3/envs/torch3/lib/python3.9/site-packages/pandas/core/frame.py\u001b[0m in \u001b[0;36m_reindex_for_setitem\u001b[0;34m(value, index)\u001b[0m\n\u001b[1;32m  10770\u001b[0m     \u001b[0;31m# GH#4107\u001b[0m\u001b[0;34m\u001b[0m\u001b[0;34m\u001b[0m\u001b[0;34m\u001b[0m\u001b[0m\n\u001b[1;32m  10771\u001b[0m     \u001b[0;32mtry\u001b[0m\u001b[0;34m:\u001b[0m\u001b[0;34m\u001b[0m\u001b[0;34m\u001b[0m\u001b[0m\n\u001b[0;32m> 10772\u001b[0;31m         \u001b[0mreindexed_value\u001b[0m \u001b[0;34m=\u001b[0m \u001b[0mvalue\u001b[0m\u001b[0;34m.\u001b[0m\u001b[0mreindex\u001b[0m\u001b[0;34m(\u001b[0m\u001b[0mindex\u001b[0m\u001b[0;34m)\u001b[0m\u001b[0;34m.\u001b[0m\u001b[0m_values\u001b[0m\u001b[0;34m\u001b[0m\u001b[0;34m\u001b[0m\u001b[0m\n\u001b[0m\u001b[1;32m  10773\u001b[0m     \u001b[0;32mexcept\u001b[0m \u001b[0mValueError\u001b[0m \u001b[0;32mas\u001b[0m \u001b[0merr\u001b[0m\u001b[0;34m:\u001b[0m\u001b[0;34m\u001b[0m\u001b[0;34m\u001b[0m\u001b[0m\n\u001b[1;32m  10774\u001b[0m         \u001b[0;31m# raised in MultiIndex.from_tuples, see test_insert_error_msmgs\u001b[0m\u001b[0;34m\u001b[0m\u001b[0;34m\u001b[0m\u001b[0;34m\u001b[0m\u001b[0m\n",
      "\u001b[0;32m/fast/jamesn8/anaconda3/envs/torch3/lib/python3.9/site-packages/pandas/core/series.py\u001b[0m in \u001b[0;36mreindex\u001b[0;34m(self, index, **kwargs)\u001b[0m\n\u001b[1;32m   4578\u001b[0m     )\n\u001b[1;32m   4579\u001b[0m     \u001b[0;32mdef\u001b[0m \u001b[0mreindex\u001b[0m\u001b[0;34m(\u001b[0m\u001b[0mself\u001b[0m\u001b[0;34m,\u001b[0m \u001b[0mindex\u001b[0m\u001b[0;34m=\u001b[0m\u001b[0;32mNone\u001b[0m\u001b[0;34m,\u001b[0m \u001b[0;34m**\u001b[0m\u001b[0mkwargs\u001b[0m\u001b[0;34m)\u001b[0m\u001b[0;34m:\u001b[0m\u001b[0;34m\u001b[0m\u001b[0;34m\u001b[0m\u001b[0m\n\u001b[0;32m-> 4580\u001b[0;31m         \u001b[0;32mreturn\u001b[0m \u001b[0msuper\u001b[0m\u001b[0;34m(\u001b[0m\u001b[0;34m)\u001b[0m\u001b[0;34m.\u001b[0m\u001b[0mreindex\u001b[0m\u001b[0;34m(\u001b[0m\u001b[0mindex\u001b[0m\u001b[0;34m=\u001b[0m\u001b[0mindex\u001b[0m\u001b[0;34m,\u001b[0m \u001b[0;34m**\u001b[0m\u001b[0mkwargs\u001b[0m\u001b[0;34m)\u001b[0m\u001b[0;34m\u001b[0m\u001b[0;34m\u001b[0m\u001b[0m\n\u001b[0m\u001b[1;32m   4581\u001b[0m \u001b[0;34m\u001b[0m\u001b[0m\n\u001b[1;32m   4582\u001b[0m     \u001b[0;34m@\u001b[0m\u001b[0mdeprecate_nonkeyword_arguments\u001b[0m\u001b[0;34m(\u001b[0m\u001b[0mversion\u001b[0m\u001b[0;34m=\u001b[0m\u001b[0;32mNone\u001b[0m\u001b[0;34m,\u001b[0m \u001b[0mallowed_args\u001b[0m\u001b[0;34m=\u001b[0m\u001b[0;34m[\u001b[0m\u001b[0;34m\"self\"\u001b[0m\u001b[0;34m,\u001b[0m \u001b[0;34m\"labels\"\u001b[0m\u001b[0;34m]\u001b[0m\u001b[0;34m)\u001b[0m\u001b[0;34m\u001b[0m\u001b[0;34m\u001b[0m\u001b[0m\n",
      "\u001b[0;32m/fast/jamesn8/anaconda3/envs/torch3/lib/python3.9/site-packages/pandas/core/generic.py\u001b[0m in \u001b[0;36mreindex\u001b[0;34m(self, *args, **kwargs)\u001b[0m\n\u001b[1;32m   4816\u001b[0m \u001b[0;34m\u001b[0m\u001b[0m\n\u001b[1;32m   4817\u001b[0m         \u001b[0;31m# perform the reindex on the axes\u001b[0m\u001b[0;34m\u001b[0m\u001b[0;34m\u001b[0m\u001b[0;34m\u001b[0m\u001b[0m\n\u001b[0;32m-> 4818\u001b[0;31m         return self._reindex_axes(\n\u001b[0m\u001b[1;32m   4819\u001b[0m             \u001b[0maxes\u001b[0m\u001b[0;34m,\u001b[0m \u001b[0mlevel\u001b[0m\u001b[0;34m,\u001b[0m \u001b[0mlimit\u001b[0m\u001b[0;34m,\u001b[0m \u001b[0mtolerance\u001b[0m\u001b[0;34m,\u001b[0m \u001b[0mmethod\u001b[0m\u001b[0;34m,\u001b[0m \u001b[0mfill_value\u001b[0m\u001b[0;34m,\u001b[0m \u001b[0mcopy\u001b[0m\u001b[0;34m\u001b[0m\u001b[0;34m\u001b[0m\u001b[0m\n\u001b[1;32m   4820\u001b[0m         ).__finalize__(self, method=\"reindex\")\n",
      "\u001b[0;32m/fast/jamesn8/anaconda3/envs/torch3/lib/python3.9/site-packages/pandas/core/generic.py\u001b[0m in \u001b[0;36m_reindex_axes\u001b[0;34m(self, axes, level, limit, tolerance, method, fill_value, copy)\u001b[0m\n\u001b[1;32m   4837\u001b[0m \u001b[0;34m\u001b[0m\u001b[0m\n\u001b[1;32m   4838\u001b[0m             \u001b[0maxis\u001b[0m \u001b[0;34m=\u001b[0m \u001b[0mself\u001b[0m\u001b[0;34m.\u001b[0m\u001b[0m_get_axis_number\u001b[0m\u001b[0;34m(\u001b[0m\u001b[0ma\u001b[0m\u001b[0;34m)\u001b[0m\u001b[0;34m\u001b[0m\u001b[0;34m\u001b[0m\u001b[0m\n\u001b[0;32m-> 4839\u001b[0;31m             obj = obj._reindex_with_indexers(\n\u001b[0m\u001b[1;32m   4840\u001b[0m                 \u001b[0;34m{\u001b[0m\u001b[0maxis\u001b[0m\u001b[0;34m:\u001b[0m \u001b[0;34m[\u001b[0m\u001b[0mnew_index\u001b[0m\u001b[0;34m,\u001b[0m \u001b[0mindexer\u001b[0m\u001b[0;34m]\u001b[0m\u001b[0;34m}\u001b[0m\u001b[0;34m,\u001b[0m\u001b[0;34m\u001b[0m\u001b[0;34m\u001b[0m\u001b[0m\n\u001b[1;32m   4841\u001b[0m                 \u001b[0mfill_value\u001b[0m\u001b[0;34m=\u001b[0m\u001b[0mfill_value\u001b[0m\u001b[0;34m,\u001b[0m\u001b[0;34m\u001b[0m\u001b[0;34m\u001b[0m\u001b[0m\n",
      "\u001b[0;32m/fast/jamesn8/anaconda3/envs/torch3/lib/python3.9/site-packages/pandas/core/generic.py\u001b[0m in \u001b[0;36m_reindex_with_indexers\u001b[0;34m(self, reindexers, fill_value, copy, allow_dups)\u001b[0m\n\u001b[1;32m   4881\u001b[0m \u001b[0;34m\u001b[0m\u001b[0m\n\u001b[1;32m   4882\u001b[0m             \u001b[0;31m# TODO: speed up on homogeneous DataFrame objects\u001b[0m\u001b[0;34m\u001b[0m\u001b[0;34m\u001b[0m\u001b[0;34m\u001b[0m\u001b[0m\n\u001b[0;32m-> 4883\u001b[0;31m             new_data = new_data.reindex_indexer(\n\u001b[0m\u001b[1;32m   4884\u001b[0m                 \u001b[0mindex\u001b[0m\u001b[0;34m,\u001b[0m\u001b[0;34m\u001b[0m\u001b[0;34m\u001b[0m\u001b[0m\n\u001b[1;32m   4885\u001b[0m                 \u001b[0mindexer\u001b[0m\u001b[0;34m,\u001b[0m\u001b[0;34m\u001b[0m\u001b[0;34m\u001b[0m\u001b[0m\n",
      "\u001b[0;32m/fast/jamesn8/anaconda3/envs/torch3/lib/python3.9/site-packages/pandas/core/internals/managers.py\u001b[0m in \u001b[0;36mreindex_indexer\u001b[0;34m(self, new_axis, indexer, axis, fill_value, allow_dups, copy, consolidate, only_slice)\u001b[0m\n\u001b[1;32m    668\u001b[0m         \u001b[0;31m# some axes don't allow reindexing with dups\u001b[0m\u001b[0;34m\u001b[0m\u001b[0;34m\u001b[0m\u001b[0;34m\u001b[0m\u001b[0m\n\u001b[1;32m    669\u001b[0m         \u001b[0;32mif\u001b[0m \u001b[0;32mnot\u001b[0m \u001b[0mallow_dups\u001b[0m\u001b[0;34m:\u001b[0m\u001b[0;34m\u001b[0m\u001b[0;34m\u001b[0m\u001b[0m\n\u001b[0;32m--> 670\u001b[0;31m             \u001b[0mself\u001b[0m\u001b[0;34m.\u001b[0m\u001b[0maxes\u001b[0m\u001b[0;34m[\u001b[0m\u001b[0maxis\u001b[0m\u001b[0;34m]\u001b[0m\u001b[0;34m.\u001b[0m\u001b[0m_validate_can_reindex\u001b[0m\u001b[0;34m(\u001b[0m\u001b[0mindexer\u001b[0m\u001b[0;34m)\u001b[0m\u001b[0;34m\u001b[0m\u001b[0;34m\u001b[0m\u001b[0m\n\u001b[0m\u001b[1;32m    671\u001b[0m \u001b[0;34m\u001b[0m\u001b[0m\n\u001b[1;32m    672\u001b[0m         \u001b[0;32mif\u001b[0m \u001b[0maxis\u001b[0m \u001b[0;34m>=\u001b[0m \u001b[0mself\u001b[0m\u001b[0;34m.\u001b[0m\u001b[0mndim\u001b[0m\u001b[0;34m:\u001b[0m\u001b[0;34m\u001b[0m\u001b[0;34m\u001b[0m\u001b[0m\n",
      "\u001b[0;32m/fast/jamesn8/anaconda3/envs/torch3/lib/python3.9/site-packages/pandas/core/indexes/base.py\u001b[0m in \u001b[0;36m_validate_can_reindex\u001b[0;34m(self, indexer)\u001b[0m\n\u001b[1;32m   3783\u001b[0m         \u001b[0;31m# trying to reindex on an axis with duplicates\u001b[0m\u001b[0;34m\u001b[0m\u001b[0;34m\u001b[0m\u001b[0;34m\u001b[0m\u001b[0m\n\u001b[1;32m   3784\u001b[0m         \u001b[0;32mif\u001b[0m \u001b[0;32mnot\u001b[0m \u001b[0mself\u001b[0m\u001b[0;34m.\u001b[0m\u001b[0m_index_as_unique\u001b[0m \u001b[0;32mand\u001b[0m \u001b[0mlen\u001b[0m\u001b[0;34m(\u001b[0m\u001b[0mindexer\u001b[0m\u001b[0;34m)\u001b[0m\u001b[0;34m:\u001b[0m\u001b[0;34m\u001b[0m\u001b[0;34m\u001b[0m\u001b[0m\n\u001b[0;32m-> 3785\u001b[0;31m             \u001b[0;32mraise\u001b[0m \u001b[0mValueError\u001b[0m\u001b[0;34m(\u001b[0m\u001b[0;34m\"cannot reindex from a duplicate axis\"\u001b[0m\u001b[0;34m)\u001b[0m\u001b[0;34m\u001b[0m\u001b[0;34m\u001b[0m\u001b[0m\n\u001b[0m\u001b[1;32m   3786\u001b[0m \u001b[0;34m\u001b[0m\u001b[0m\n\u001b[1;32m   3787\u001b[0m     def reindex(\n",
      "\u001b[0;31mValueError\u001b[0m: cannot reindex from a duplicate axis"
     ]
    }
   ],
   "source": [
    "mate_df_filtered['Part1Id'] = part1_ids\n",
    "mate_df_filtered['Part2Id'] = part2_ids"
   ]
  },
  {
   "cell_type": "code",
   "execution_count": 217,
   "id": "a6a6ead9-ab76-40b5-bf23-c91432012422",
   "metadata": {},
   "outputs": [
    {
     "data": {
      "text/plain": [
       "(81582,)"
      ]
     },
     "execution_count": 217,
     "metadata": {},
     "output_type": "execute_result"
    }
   ],
   "source": [
    "part1_ids.shape"
   ]
  },
  {
   "cell_type": "code",
   "execution_count": 193,
   "id": "80334366-fa59-4a34-a613-5777320af686",
   "metadata": {},
   "outputs": [
    {
     "data": {
      "text/plain": [
       "34413    648\n",
       "38699    510\n",
       "62935    421\n",
       "33650    365\n",
       "29318    365\n",
       "        ... \n",
       "15324      1\n",
       "15390      1\n",
       "16607      1\n",
       "16645      1\n",
       "17417      1\n",
       "Name: Assembly, Length: 1933, dtype: int64"
      ]
     },
     "execution_count": 193,
     "metadata": {},
     "output_type": "execute_result"
    }
   ],
   "source": [
    "mate_df.loc[mate_stats_valid_df[lambda df: df['mc_pair_found'].isnull()].index,'Assembly'].value_counts()"
   ]
  },
  {
   "cell_type": "code",
   "execution_count": 194,
   "id": "4734f4b1-73b7-4a39-b599-8d3333a5aa93",
   "metadata": {},
   "outputs": [
    {
     "data": {
      "text/plain": [
       "2079"
      ]
     },
     "execution_count": 194,
     "metadata": {},
     "output_type": "execute_result"
    }
   ],
   "source": [
    "stats_df[lambda df: df['proposal_time'].isnull()].shape[0]"
   ]
  },
  {
   "cell_type": "markdown",
   "id": "a5bbdaeb-c424-4a05-ac62-80b2a6ed6b7e",
   "metadata": {},
   "source": [
    "# Debugging the network"
   ]
  },
  {
   "cell_type": "code",
   "execution_count": 35,
   "id": "19670f26-b67f-40e4-8b0f-a1ccff684c11",
   "metadata": {},
   "outputs": [
    {
     "data": {
      "application/json": {
       "data": {
        "batch_size": 16,
        "cache_root": "/fast/dhildr/cache",
        "data_root": "/fast/dhildr/data",
        "index_path": "/fast/dhildr/data/indices/mates_survey_in_test.parquet",
        "num_workers": 8,
        "shuffle_train": true,
        "subset_train": [],
        "subset_val": [],
        "use_cache": true
       },
       "exp": {
        "exp_comment": "",
        "exp_dir": "/projects/grail/benjones/cadlab/dalton_lightning_logs",
        "exp_load": "/projects/grail/benjones/cadlab/dalton_lightning_logs/real_all_fn_args_amounts_sum_directedhybridgcn12.json",
        "exp_name": "real_all_fn_args_amounts_sum_directedhybridgcn12_rerun",
        "exp_save": true,
        "exp_system": "cortado.cs.washington.edu"
       },
       "model": {
        "amounts": true,
        "batch_norm": true,
        "fn_het_layers": [],
        "gcn_conv": "MRConv",
        "gcn_dropout": 0,
        "gcn_graph": "full",
        "gcn_hidden_layers": [
         128
        ],
        "geometric": [],
        "global_pool": "mean",
        "hybridgcn_layer_size": 64,
        "hybridgcn_n_inner_layers": 6,
        "nodal_dropout": 0,
        "nodal_hidden_layers": [
         64
        ],
        "noise": 0,
        "parametric_args_to_use": [
         3,
         4,
         5,
         6,
         7
        ],
        "parametric_fns": true,
        "predict_location": true,
        "predict_type": false,
        "summary_args_to_use": [
         3,
         4,
         5,
         6,
         7,
         8,
         9,
         10,
         11,
         12,
         13,
         14
        ],
        "top_dropout": 0,
        "top_global_feature": true,
        "top_hidden_size": 64,
        "top_inf_type_feature": true,
        "top_k_cutoff": 10,
        "top_location_ref": true,
        "top_orientation_ref": true,
        "use_directedhybridgcn": true,
        "use_hybridgcn": false,
        "use_nodal_network": true
       },
       "trainer": {
        "accelerator": null,
        "accumulate_grad_batches": 1,
        "amp_backend": "native",
        "amp_level": "O2",
        "auto_lr_find": false,
        "auto_scale_batch_size": false,
        "auto_select_gpus": false,
        "automatic_optimization": null,
        "benchmark": false,
        "check_val_every_n_epoch": 1,
        "checkpoint_callback": true,
        "default_root_dir": null,
        "deterministic": false,
        "distributed_backend": null,
        "enable_pl_optimizer": null,
        "fast_dev_run": false,
        "flush_logs_every_n_steps": 100,
        "gpus": 1,
        "gradient_clip_val": 0,
        "limit_test_batches": 1,
        "limit_train_batches": 1,
        "limit_val_batches": 1,
        "log_every_n_steps": 50,
        "log_gpu_memory": null,
        "logger": true,
        "max_epochs": 100,
        "max_steps": null,
        "min_epochs": 1,
        "min_steps": null,
        "move_metrics_to_cpu": false,
        "num_nodes": 1,
        "num_processes": 1,
        "num_sanity_val_steps": 0,
        "overfit_batches": 0,
        "plugins": null,
        "precision": 32,
        "prepare_data_per_node": true,
        "process_position": 0,
        "profiler": null,
        "progress_bar_refresh_rate": 1,
        "reload_dataloaders_every_epoch": false,
        "replace_sampler_ddp": true,
        "resume_from_checkpoint": null,
        "sync_batchnorm": false,
        "terminate_on_nan": false,
        "tpu_cores": null,
        "track_grad_norm": -1,
        "truncated_bptt_steps": null,
        "val_check_interval": 1,
        "weights_save_path": null,
        "weights_summary": "top"
       }
      },
      "text/plain": [
       "<IPython.core.display.JSON object>"
      ]
     },
     "execution_count": 35,
     "metadata": {
      "application/json": {
       "expanded": false,
       "root": "root"
      }
     },
     "output_type": "execute_result"
    }
   ],
   "source": [
    "DJSON('/projects/grail/benjones/cadlab/dalton_lightning_logs/real_all_fn_args_amounts_sum_directedhybridgcn12_rerun.json')"
   ]
  },
  {
   "cell_type": "code",
   "execution_count": 36,
   "id": "7c300318-bed5-435c-9128-94847b9e3540",
   "metadata": {},
   "outputs": [],
   "source": [
    "import json"
   ]
  },
  {
   "cell_type": "code",
   "execution_count": 38,
   "id": "2f5e6451-fb51-4ac9-ad4f-9b721d1018bc",
   "metadata": {},
   "outputs": [],
   "source": [
    "path = '/projects/grail/benjones/cadlab/dalton_lightning_logs/'\n",
    "for f in os.scandir(path):\n",
    "    if f.name.endswith('.json'):\n",
    "        with open(os.path.join(path, f.name), 'r') as j:\n",
    "            s = json.load(j)\n",
    "            if 'model_class' in s:\n",
    "                print(f'found model class in {f.name}')"
   ]
  },
  {
   "cell_type": "code",
   "execution_count": 1,
   "id": "2cdb010b-49d5-4d5c-b6d8-3e7dd39c7c05",
   "metadata": {},
   "outputs": [],
   "source": [
    "with open('/fast/jamesn8/assembly_data/indexfile.txt','r') as f:\n",
    "    datalist = [l.rstrip() for l in f.readlines()]"
   ]
  },
  {
   "cell_type": "code",
   "execution_count": 4,
   "id": "9fce3a89-c25b-481a-b0b9-70414d9e5015",
   "metadata": {},
   "outputs": [],
   "source": [
    "import random"
   ]
  },
  {
   "cell_type": "code",
   "execution_count": 5,
   "id": "14c5b115-90e6-4ddf-af7e-1927bef3aa01",
   "metadata": {},
   "outputs": [],
   "source": [
    "random.shuffle(datalist)"
   ]
  },
  {
   "cell_type": "code",
   "execution_count": 7,
   "id": "8a2dff68-2157-4c65-8b2a-4fd801d4a60a",
   "metadata": {},
   "outputs": [],
   "source": [
    "val_size = int(len(datalist)/5)"
   ]
  },
  {
   "cell_type": "code",
   "execution_count": 9,
   "id": "7d20468d-81b4-4d1a-8665-b9c8013d5e77",
   "metadata": {},
   "outputs": [],
   "source": [
    "datalist_val = datalist[:val_size]\n",
    "datalist_train = datalist[val_size:]"
   ]
  },
  {
   "cell_type": "code",
   "execution_count": null,
   "id": "4caaa2ea-099e-478a-81b8-58bbb10d269b",
   "metadata": {},
   "outputs": [],
   "source": [
    "with open('/fast/jamesn8/assembly_data/indexfile_train.txt','w') as f:\n",
    "    f.writelines([l + '\\n' for l in datalist_train])"
   ]
  },
  {
   "cell_type": "code",
   "execution_count": 13,
   "id": "1eb41e7b-115d-4b36-a6c7-bcb4ff508ad8",
   "metadata": {},
   "outputs": [],
   "source": [
    "with open('/fast/jamesn8/assembly_data/indexfile_val.txt','w') as f:\n",
    "    f.writelines([l + '\\n' for l in datalist_val])"
   ]
  },
  {
   "cell_type": "code",
   "execution_count": 144,
   "id": "3a7b055e-eaf1-4a07-b65a-c42ae06ae5a7",
   "metadata": {},
   "outputs": [],
   "source": [
    "from automate.data.saved_dataset import SavedDataset\n",
    "from torch_geometric.data import Batch\n",
    "from automate.data.transforms import select_full_relations\n",
    "from automate.lightning_models.simplified import SimplifiedJointModel\n",
    "from pytorch_lightning.utilities.argparse import get_init_arguments_and_types\n",
    "import torch\n",
    "from torch_geometric.data.dataloader import DataLoader\n",
    "from pytorch_lightning import Trainer"
   ]
  },
  {
   "cell_type": "code",
   "execution_count": 99,
   "id": "4758d2a1-6e25-4df9-9144-783030b381da",
   "metadata": {
    "collapsed": true,
    "jupyter": {
     "outputs_hidden": true
    },
    "tags": []
   },
   "outputs": [
    {
     "ename": "RuntimeError",
     "evalue": "Error(s) in loading state_dict for SimplifiedJointModel:\n\tUnexpected key(s) in state_dict: \"nodal.nn.f.1.weight\", \"nodal.nn.f.1.bias\", \"nodal.nn.f.1.running_mean\", \"nodal.nn.f.1.running_var\", \"nodal.nn.f.1.num_batches_tracked\", \"gcn.vert_edge_conv.nn.nn.f.1.weight\", \"gcn.vert_edge_conv.nn.nn.f.1.bias\", \"gcn.vert_edge_conv.nn.nn.f.1.running_mean\", \"gcn.vert_edge_conv.nn.nn.f.1.running_var\", \"gcn.vert_edge_conv.nn.nn.f.1.num_batches_tracked\", \"gcn.edge_loop_conv.nn.nn.f.1.weight\", \"gcn.edge_loop_conv.nn.nn.f.1.bias\", \"gcn.edge_loop_conv.nn.nn.f.1.running_mean\", \"gcn.edge_loop_conv.nn.nn.f.1.running_var\", \"gcn.edge_loop_conv.nn.nn.f.1.num_batches_tracked\", \"gcn.loop_face_conv.nn.nn.f.1.weight\", \"gcn.loop_face_conv.nn.nn.f.1.bias\", \"gcn.loop_face_conv.nn.nn.f.1.running_mean\", \"gcn.loop_face_conv.nn.nn.f.1.running_var\", \"gcn.loop_face_conv.nn.nn.f.1.num_batches_tracked\", \"gcn.face_face_convs.0.nn.nn.f.1.weight\", \"gcn.face_face_convs.0.nn.nn.f.1.bias\", \"gcn.face_face_convs.0.nn.nn.f.1.running_mean\", \"gcn.face_face_convs.0.nn.nn.f.1.running_var\", \"gcn.face_face_convs.0.nn.nn.f.1.num_batches_tracked\", \"gcn.face_face_convs.1.nn.nn.f.1.weight\", \"gcn.face_face_convs.1.nn.nn.f.1.bias\", \"gcn.face_face_convs.1.nn.nn.f.1.running_mean\", \"gcn.face_face_convs.1.nn.nn.f.1.running_var\", \"gcn.face_face_convs.1.nn.nn.f.1.num_batches_tracked\", \"gcn.face_face_convs.2.nn.nn.f.1.weight\", \"gcn.face_face_convs.2.nn.nn.f.1.bias\", \"gcn.face_face_convs.2.nn.nn.f.1.running_mean\", \"gcn.face_face_convs.2.nn.nn.f.1.running_var\", \"gcn.face_face_convs.2.nn.nn.f.1.num_batches_tracked\", \"gcn.face_face_convs.3.nn.nn.f.1.weight\", \"gcn.face_face_convs.3.nn.nn.f.1.bias\", \"gcn.face_face_convs.3.nn.nn.f.1.running_mean\", \"gcn.face_face_convs.3.nn.nn.f.1.running_var\", \"gcn.face_face_convs.3.nn.nn.f.1.num_batches_tracked\", \"gcn.face_face_convs.4.nn.nn.f.1.weight\", \"gcn.face_face_convs.4.nn.nn.f.1.bias\", \"gcn.face_face_convs.4.nn.nn.f.1.running_mean\", \"gcn.face_face_convs.4.nn.nn.f.1.running_var\", \"gcn.face_face_convs.4.nn.nn.f.1.num_batches_tracked\", \"gcn.face_face_convs.5.nn.nn.f.1.weight\", \"gcn.face_face_convs.5.nn.nn.f.1.bias\", \"gcn.face_face_convs.5.nn.nn.f.1.running_mean\", \"gcn.face_face_convs.5.nn.nn.f.1.running_var\", \"gcn.face_face_convs.5.nn.nn.f.1.num_batches_tracked\", \"gcn.face_loop_conv.nn.nn.f.1.weight\", \"gcn.face_loop_conv.nn.nn.f.1.bias\", \"gcn.face_loop_conv.nn.nn.f.1.running_mean\", \"gcn.face_loop_conv.nn.nn.f.1.running_var\", \"gcn.face_loop_conv.nn.nn.f.1.num_batches_tracked\", \"gcn.loop_edge_conv.nn.nn.f.1.weight\", \"gcn.loop_edge_conv.nn.nn.f.1.bias\", \"gcn.loop_edge_conv.nn.nn.f.1.running_mean\", \"gcn.loop_edge_conv.nn.nn.f.1.running_var\", \"gcn.loop_edge_conv.nn.nn.f.1.num_batches_tracked\", \"gcn.edge_vert_conv.nn.nn.f.1.weight\", \"gcn.edge_vert_conv.nn.nn.f.1.bias\", \"gcn.edge_vert_conv.nn.nn.f.1.running_mean\", \"gcn.edge_vert_conv.nn.nn.f.1.running_var\", \"gcn.edge_vert_conv.nn.nn.f.1.num_batches_tracked\", \"classifier.nn.0.f.1.weight\", \"classifier.nn.0.f.1.bias\", \"classifier.nn.0.f.1.running_mean\", \"classifier.nn.0.f.1.running_var\", \"classifier.nn.0.f.1.num_batches_tracked\". ",
     "output_type": "error",
     "traceback": [
      "\u001b[0;31m---------------------------------------------------------------------------\u001b[0m",
      "\u001b[0;31mRuntimeError\u001b[0m                              Traceback (most recent call last)",
      "\u001b[0;32m/tmp/ipykernel_2729622/1413140714.py\u001b[0m in \u001b[0;36m<module>\u001b[0;34m\u001b[0m\n\u001b[1;32m      1\u001b[0m \u001b[0mweights_path\u001b[0m\u001b[0;34m=\u001b[0m\u001b[0;34m'/projects/grail/benjones/cadlab/dalton_lightning_logs/real_all_fn_args_amounts_sum_directedhybridgcn12/version_0/checkpoints/epoch=46-val_auc=0.666113.ckpt'\u001b[0m\u001b[0;34m\u001b[0m\u001b[0;34m\u001b[0m\u001b[0m\n\u001b[0;32m----> 2\u001b[0;31m \u001b[0mmodel\u001b[0m \u001b[0;34m=\u001b[0m \u001b[0mSimplifiedJointModel\u001b[0m\u001b[0;34m.\u001b[0m\u001b[0mload_from_checkpoint\u001b[0m\u001b[0;34m(\u001b[0m\u001b[0mweights_path\u001b[0m\u001b[0;34m,\u001b[0m \u001b[0mmap_location\u001b[0m\u001b[0;34m=\u001b[0m\u001b[0mtorch\u001b[0m\u001b[0;34m.\u001b[0m\u001b[0mdevice\u001b[0m\u001b[0;34m(\u001b[0m\u001b[0;34m'cpu'\u001b[0m\u001b[0;34m)\u001b[0m\u001b[0;34m,\u001b[0m \u001b[0mbatch_norm\u001b[0m\u001b[0;34m=\u001b[0m\u001b[0;32mFalse\u001b[0m\u001b[0;34m)\u001b[0m\u001b[0;34m\u001b[0m\u001b[0;34m\u001b[0m\u001b[0m\n\u001b[0m",
      "\u001b[0;32m/fast/jamesn8/anaconda3/envs/torch3/lib/python3.9/site-packages/pytorch_lightning/core/saving.py\u001b[0m in \u001b[0;36mload_from_checkpoint\u001b[0;34m(cls, checkpoint_path, map_location, hparams_file, strict, **kwargs)\u001b[0m\n\u001b[1;32m    151\u001b[0m         \u001b[0mcheckpoint\u001b[0m\u001b[0;34m[\u001b[0m\u001b[0mcls\u001b[0m\u001b[0;34m.\u001b[0m\u001b[0mCHECKPOINT_HYPER_PARAMS_KEY\u001b[0m\u001b[0;34m]\u001b[0m\u001b[0;34m.\u001b[0m\u001b[0mupdate\u001b[0m\u001b[0;34m(\u001b[0m\u001b[0mkwargs\u001b[0m\u001b[0;34m)\u001b[0m\u001b[0;34m\u001b[0m\u001b[0;34m\u001b[0m\u001b[0m\n\u001b[1;32m    152\u001b[0m \u001b[0;34m\u001b[0m\u001b[0m\n\u001b[0;32m--> 153\u001b[0;31m         \u001b[0mmodel\u001b[0m \u001b[0;34m=\u001b[0m \u001b[0mcls\u001b[0m\u001b[0;34m.\u001b[0m\u001b[0m_load_model_state\u001b[0m\u001b[0;34m(\u001b[0m\u001b[0mcheckpoint\u001b[0m\u001b[0;34m,\u001b[0m \u001b[0mstrict\u001b[0m\u001b[0;34m=\u001b[0m\u001b[0mstrict\u001b[0m\u001b[0;34m,\u001b[0m \u001b[0;34m**\u001b[0m\u001b[0mkwargs\u001b[0m\u001b[0;34m)\u001b[0m\u001b[0;34m\u001b[0m\u001b[0;34m\u001b[0m\u001b[0m\n\u001b[0m\u001b[1;32m    154\u001b[0m         \u001b[0;32mreturn\u001b[0m \u001b[0mmodel\u001b[0m\u001b[0;34m\u001b[0m\u001b[0;34m\u001b[0m\u001b[0m\n\u001b[1;32m    155\u001b[0m \u001b[0;34m\u001b[0m\u001b[0m\n",
      "\u001b[0;32m/fast/jamesn8/anaconda3/envs/torch3/lib/python3.9/site-packages/pytorch_lightning/core/saving.py\u001b[0m in \u001b[0;36m_load_model_state\u001b[0;34m(cls, checkpoint, strict, **cls_kwargs_new)\u001b[0m\n\u001b[1;32m    199\u001b[0m \u001b[0;34m\u001b[0m\u001b[0m\n\u001b[1;32m    200\u001b[0m         \u001b[0;31m# load the state_dict on the model automatically\u001b[0m\u001b[0;34m\u001b[0m\u001b[0;34m\u001b[0m\u001b[0;34m\u001b[0m\u001b[0m\n\u001b[0;32m--> 201\u001b[0;31m         \u001b[0mkeys\u001b[0m \u001b[0;34m=\u001b[0m \u001b[0mmodel\u001b[0m\u001b[0;34m.\u001b[0m\u001b[0mload_state_dict\u001b[0m\u001b[0;34m(\u001b[0m\u001b[0mcheckpoint\u001b[0m\u001b[0;34m[\u001b[0m\u001b[0;34m\"state_dict\"\u001b[0m\u001b[0;34m]\u001b[0m\u001b[0;34m,\u001b[0m \u001b[0mstrict\u001b[0m\u001b[0;34m=\u001b[0m\u001b[0mstrict\u001b[0m\u001b[0;34m)\u001b[0m\u001b[0;34m\u001b[0m\u001b[0;34m\u001b[0m\u001b[0m\n\u001b[0m\u001b[1;32m    202\u001b[0m \u001b[0;34m\u001b[0m\u001b[0m\n\u001b[1;32m    203\u001b[0m         \u001b[0;32mif\u001b[0m \u001b[0;32mnot\u001b[0m \u001b[0mstrict\u001b[0m\u001b[0;34m:\u001b[0m\u001b[0;34m\u001b[0m\u001b[0;34m\u001b[0m\u001b[0m\n",
      "\u001b[0;32m/fast/jamesn8/anaconda3/envs/torch3/lib/python3.9/site-packages/torch/nn/modules/module.py\u001b[0m in \u001b[0;36mload_state_dict\u001b[0;34m(self, state_dict, strict)\u001b[0m\n\u001b[1;32m   1404\u001b[0m \u001b[0;34m\u001b[0m\u001b[0m\n\u001b[1;32m   1405\u001b[0m         \u001b[0;32mif\u001b[0m \u001b[0mlen\u001b[0m\u001b[0;34m(\u001b[0m\u001b[0merror_msgs\u001b[0m\u001b[0;34m)\u001b[0m \u001b[0;34m>\u001b[0m \u001b[0;36m0\u001b[0m\u001b[0;34m:\u001b[0m\u001b[0;34m\u001b[0m\u001b[0;34m\u001b[0m\u001b[0m\n\u001b[0;32m-> 1406\u001b[0;31m             raise RuntimeError('Error(s) in loading state_dict for {}:\\n\\t{}'.format(\n\u001b[0m\u001b[1;32m   1407\u001b[0m                                self.__class__.__name__, \"\\n\\t\".join(error_msgs)))\n\u001b[1;32m   1408\u001b[0m         \u001b[0;32mreturn\u001b[0m \u001b[0m_IncompatibleKeys\u001b[0m\u001b[0;34m(\u001b[0m\u001b[0mmissing_keys\u001b[0m\u001b[0;34m,\u001b[0m \u001b[0munexpected_keys\u001b[0m\u001b[0;34m)\u001b[0m\u001b[0;34m\u001b[0m\u001b[0;34m\u001b[0m\u001b[0m\n",
      "\u001b[0;31mRuntimeError\u001b[0m: Error(s) in loading state_dict for SimplifiedJointModel:\n\tUnexpected key(s) in state_dict: \"nodal.nn.f.1.weight\", \"nodal.nn.f.1.bias\", \"nodal.nn.f.1.running_mean\", \"nodal.nn.f.1.running_var\", \"nodal.nn.f.1.num_batches_tracked\", \"gcn.vert_edge_conv.nn.nn.f.1.weight\", \"gcn.vert_edge_conv.nn.nn.f.1.bias\", \"gcn.vert_edge_conv.nn.nn.f.1.running_mean\", \"gcn.vert_edge_conv.nn.nn.f.1.running_var\", \"gcn.vert_edge_conv.nn.nn.f.1.num_batches_tracked\", \"gcn.edge_loop_conv.nn.nn.f.1.weight\", \"gcn.edge_loop_conv.nn.nn.f.1.bias\", \"gcn.edge_loop_conv.nn.nn.f.1.running_mean\", \"gcn.edge_loop_conv.nn.nn.f.1.running_var\", \"gcn.edge_loop_conv.nn.nn.f.1.num_batches_tracked\", \"gcn.loop_face_conv.nn.nn.f.1.weight\", \"gcn.loop_face_conv.nn.nn.f.1.bias\", \"gcn.loop_face_conv.nn.nn.f.1.running_mean\", \"gcn.loop_face_conv.nn.nn.f.1.running_var\", \"gcn.loop_face_conv.nn.nn.f.1.num_batches_tracked\", \"gcn.face_face_convs.0.nn.nn.f.1.weight\", \"gcn.face_face_convs.0.nn.nn.f.1.bias\", \"gcn.face_face_convs.0.nn.nn.f.1.running_mean\", \"gcn.face_face_convs.0.nn.nn.f.1.running_var\", \"gcn.face_face_convs.0.nn.nn.f.1.num_batches_tracked\", \"gcn.face_face_convs.1.nn.nn.f.1.weight\", \"gcn.face_face_convs.1.nn.nn.f.1.bias\", \"gcn.face_face_convs.1.nn.nn.f.1.running_mean\", \"gcn.face_face_convs.1.nn.nn.f.1.running_var\", \"gcn.face_face_convs.1.nn.nn.f.1.num_batches_tracked\", \"gcn.face_face_convs.2.nn.nn.f.1.weight\", \"gcn.face_face_convs.2.nn.nn.f.1.bias\", \"gcn.face_face_convs.2.nn.nn.f.1.running_mean\", \"gcn.face_face_convs.2.nn.nn.f.1.running_var\", \"gcn.face_face_convs.2.nn.nn.f.1.num_batches_tracked\", \"gcn.face_face_convs.3.nn.nn.f.1.weight\", \"gcn.face_face_convs.3.nn.nn.f.1.bias\", \"gcn.face_face_convs.3.nn.nn.f.1.running_mean\", \"gcn.face_face_convs.3.nn.nn.f.1.running_var\", \"gcn.face_face_convs.3.nn.nn.f.1.num_batches_tracked\", \"gcn.face_face_convs.4.nn.nn.f.1.weight\", \"gcn.face_face_convs.4.nn.nn.f.1.bias\", \"gcn.face_face_convs.4.nn.nn.f.1.running_mean\", \"gcn.face_face_convs.4.nn.nn.f.1.running_var\", \"gcn.face_face_convs.4.nn.nn.f.1.num_batches_tracked\", \"gcn.face_face_convs.5.nn.nn.f.1.weight\", \"gcn.face_face_convs.5.nn.nn.f.1.bias\", \"gcn.face_face_convs.5.nn.nn.f.1.running_mean\", \"gcn.face_face_convs.5.nn.nn.f.1.running_var\", \"gcn.face_face_convs.5.nn.nn.f.1.num_batches_tracked\", \"gcn.face_loop_conv.nn.nn.f.1.weight\", \"gcn.face_loop_conv.nn.nn.f.1.bias\", \"gcn.face_loop_conv.nn.nn.f.1.running_mean\", \"gcn.face_loop_conv.nn.nn.f.1.running_var\", \"gcn.face_loop_conv.nn.nn.f.1.num_batches_tracked\", \"gcn.loop_edge_conv.nn.nn.f.1.weight\", \"gcn.loop_edge_conv.nn.nn.f.1.bias\", \"gcn.loop_edge_conv.nn.nn.f.1.running_mean\", \"gcn.loop_edge_conv.nn.nn.f.1.running_var\", \"gcn.loop_edge_conv.nn.nn.f.1.num_batches_tracked\", \"gcn.edge_vert_conv.nn.nn.f.1.weight\", \"gcn.edge_vert_conv.nn.nn.f.1.bias\", \"gcn.edge_vert_conv.nn.nn.f.1.running_mean\", \"gcn.edge_vert_conv.nn.nn.f.1.running_var\", \"gcn.edge_vert_conv.nn.nn.f.1.num_batches_tracked\", \"classifier.nn.0.f.1.weight\", \"classifier.nn.0.f.1.bias\", \"classifier.nn.0.f.1.running_mean\", \"classifier.nn.0.f.1.running_var\", \"classifier.nn.0.f.1.num_batches_tracked\". "
     ]
    }
   ],
   "source": [
    "weights_path='/projects/grail/benjones/cadlab/dalton_lightning_logs/real_all_fn_args_amounts_sum_directedhybridgcn12/version_0/checkpoints/epoch=46-val_auc=0.666113.ckpt'\n",
    "model = SimplifiedJointModel.load_from_checkpoint(weights_path, map_location=torch.device('cpu'))"
   ]
  },
  {
   "cell_type": "code",
   "execution_count": 313,
   "id": "fa9d4a7e-95c0-491b-8efd-c54ca5a65377",
   "metadata": {},
   "outputs": [],
   "source": [
    "indexfile = '/fast/jamesn8/assembly_data/mate_torch_norm_match/index_partial2_filtered_train.txt'"
   ]
  },
  {
   "cell_type": "code",
   "execution_count": 314,
   "id": "528347f5-b015-4c93-8cb9-17446bd9f8ef",
   "metadata": {},
   "outputs": [],
   "source": [
    "dataset = SavedDataset(indexfile, '/fast/jamesn8/assembly_data/mate_torch_norm_match/data')"
   ]
  },
  {
   "cell_type": "code",
   "execution_count": 325,
   "id": "947559f5-a226-47a2-9679-50b31199bb93",
   "metadata": {},
   "outputs": [
    {
     "data": {
      "text/plain": [
       "torch.Size([31612])"
      ]
     },
     "execution_count": 325,
     "metadata": {},
     "output_type": "execute_result"
    }
   ],
   "source": [
    "dataset[57].mc_pair_labels.shape"
   ]
  },
  {
   "cell_type": "code",
   "execution_count": 324,
   "id": "ca396ce4-1213-4e5c-bde8-19338f73e831",
   "metadata": {},
   "outputs": [
    {
     "data": {
      "text/plain": [
       "63"
      ]
     },
     "execution_count": 324,
     "metadata": {},
     "output_type": "execute_result"
    }
   ],
   "source": [
    "len(dataset[57].mc_pair_labels.nonzero())"
   ]
  },
  {
   "cell_type": "code",
   "execution_count": 103,
   "id": "5e175501-f36f-4a87-b39f-842a635943af",
   "metadata": {},
   "outputs": [],
   "source": [
    "follow_batch=[\n",
    "            'node_types_g1', 'node_types_g2',\n",
    "            'mc_index_g1', 'mc_index_g2',\n",
    "            'mc_pair_labels',\n",
    "            'left_mc_individual_labels', 'right_mc_individual_labels'\n",
    "        ]\n",
    "dataloader = DataLoader(dataset, batch_size=4, follow_batch=follow_batch)"
   ]
  },
  {
   "cell_type": "code",
   "execution_count": 15,
   "id": "9421bb20-d43d-4d4f-a028-d88d8fe81749",
   "metadata": {},
   "outputs": [],
   "source": [
    "from IPython.display import clear_output"
   ]
  },
  {
   "cell_type": "code",
   "execution_count": 105,
   "id": "b36b9db8-4bdd-455a-80ea-c4a9d9c80d27",
   "metadata": {
    "collapsed": true,
    "jupyter": {
     "outputs_hidden": true
    },
    "tags": []
   },
   "outputs": [
    {
     "data": {
      "text/plain": [
       "'num_processed: 450/83084; invalid1: 0; invalid2: 0'"
      ]
     },
     "metadata": {},
     "output_type": "display_data"
    },
    {
     "ename": "KeyboardInterrupt",
     "evalue": "",
     "output_type": "error",
     "traceback": [
      "\u001b[0;31m---------------------------------------------------------------------------\u001b[0m",
      "\u001b[0;31mKeyboardInterrupt\u001b[0m                         Traceback (most recent call last)",
      "\u001b[0;32m/tmp/ipykernel_2729622/3425291321.py\u001b[0m in \u001b[0;36m<module>\u001b[0;34m\u001b[0m\n\u001b[1;32m      2\u001b[0m \u001b[0minvalid_inds2\u001b[0m \u001b[0;34m=\u001b[0m \u001b[0;34m[\u001b[0m\u001b[0;34m]\u001b[0m\u001b[0;34m\u001b[0m\u001b[0;34m\u001b[0m\u001b[0m\n\u001b[1;32m      3\u001b[0m \u001b[0mN\u001b[0m \u001b[0;34m=\u001b[0m \u001b[0mlen\u001b[0m\u001b[0;34m(\u001b[0m\u001b[0mdataset\u001b[0m\u001b[0;34m)\u001b[0m\u001b[0;34m\u001b[0m\u001b[0;34m\u001b[0m\u001b[0m\n\u001b[0;32m----> 4\u001b[0;31m \u001b[0;32mfor\u001b[0m \u001b[0mi\u001b[0m\u001b[0;34m,\u001b[0m\u001b[0mbatch\u001b[0m \u001b[0;32min\u001b[0m \u001b[0menumerate\u001b[0m\u001b[0;34m(\u001b[0m\u001b[0mdataloader\u001b[0m\u001b[0;34m)\u001b[0m\u001b[0;34m:\u001b[0m\u001b[0;34m\u001b[0m\u001b[0;34m\u001b[0m\u001b[0m\n\u001b[0m\u001b[1;32m      5\u001b[0m     \u001b[0;32mif\u001b[0m \u001b[0mi\u001b[0m \u001b[0;34m%\u001b[0m \u001b[0;36m25\u001b[0m \u001b[0;34m==\u001b[0m \u001b[0;36m0\u001b[0m\u001b[0;34m:\u001b[0m\u001b[0;34m\u001b[0m\u001b[0;34m\u001b[0m\u001b[0m\n\u001b[1;32m      6\u001b[0m         \u001b[0mclear_output\u001b[0m\u001b[0;34m(\u001b[0m\u001b[0mwait\u001b[0m\u001b[0;34m=\u001b[0m\u001b[0;32mTrue\u001b[0m\u001b[0;34m)\u001b[0m\u001b[0;34m\u001b[0m\u001b[0;34m\u001b[0m\u001b[0m\n",
      "\u001b[0;32m/fast/jamesn8/anaconda3/envs/torch3/lib/python3.9/site-packages/torch/utils/data/dataloader.py\u001b[0m in \u001b[0;36m__next__\u001b[0;34m(self)\u001b[0m\n\u001b[1;32m    519\u001b[0m             \u001b[0;32mif\u001b[0m \u001b[0mself\u001b[0m\u001b[0;34m.\u001b[0m\u001b[0m_sampler_iter\u001b[0m \u001b[0;32mis\u001b[0m \u001b[0;32mNone\u001b[0m\u001b[0;34m:\u001b[0m\u001b[0;34m\u001b[0m\u001b[0;34m\u001b[0m\u001b[0m\n\u001b[1;32m    520\u001b[0m                 \u001b[0mself\u001b[0m\u001b[0;34m.\u001b[0m\u001b[0m_reset\u001b[0m\u001b[0;34m(\u001b[0m\u001b[0;34m)\u001b[0m\u001b[0;34m\u001b[0m\u001b[0;34m\u001b[0m\u001b[0m\n\u001b[0;32m--> 521\u001b[0;31m             \u001b[0mdata\u001b[0m \u001b[0;34m=\u001b[0m \u001b[0mself\u001b[0m\u001b[0;34m.\u001b[0m\u001b[0m_next_data\u001b[0m\u001b[0;34m(\u001b[0m\u001b[0;34m)\u001b[0m\u001b[0;34m\u001b[0m\u001b[0;34m\u001b[0m\u001b[0m\n\u001b[0m\u001b[1;32m    522\u001b[0m             \u001b[0mself\u001b[0m\u001b[0;34m.\u001b[0m\u001b[0m_num_yielded\u001b[0m \u001b[0;34m+=\u001b[0m \u001b[0;36m1\u001b[0m\u001b[0;34m\u001b[0m\u001b[0;34m\u001b[0m\u001b[0m\n\u001b[1;32m    523\u001b[0m             \u001b[0;32mif\u001b[0m \u001b[0mself\u001b[0m\u001b[0;34m.\u001b[0m\u001b[0m_dataset_kind\u001b[0m \u001b[0;34m==\u001b[0m \u001b[0m_DatasetKind\u001b[0m\u001b[0;34m.\u001b[0m\u001b[0mIterable\u001b[0m \u001b[0;32mand\u001b[0m\u001b[0;31m \u001b[0m\u001b[0;31m\\\u001b[0m\u001b[0;34m\u001b[0m\u001b[0;34m\u001b[0m\u001b[0m\n",
      "\u001b[0;32m/fast/jamesn8/anaconda3/envs/torch3/lib/python3.9/site-packages/torch/utils/data/dataloader.py\u001b[0m in \u001b[0;36m_next_data\u001b[0;34m(self)\u001b[0m\n\u001b[1;32m    559\u001b[0m     \u001b[0;32mdef\u001b[0m \u001b[0m_next_data\u001b[0m\u001b[0;34m(\u001b[0m\u001b[0mself\u001b[0m\u001b[0;34m)\u001b[0m\u001b[0;34m:\u001b[0m\u001b[0;34m\u001b[0m\u001b[0;34m\u001b[0m\u001b[0m\n\u001b[1;32m    560\u001b[0m         \u001b[0mindex\u001b[0m \u001b[0;34m=\u001b[0m \u001b[0mself\u001b[0m\u001b[0;34m.\u001b[0m\u001b[0m_next_index\u001b[0m\u001b[0;34m(\u001b[0m\u001b[0;34m)\u001b[0m  \u001b[0;31m# may raise StopIteration\u001b[0m\u001b[0;34m\u001b[0m\u001b[0;34m\u001b[0m\u001b[0m\n\u001b[0;32m--> 561\u001b[0;31m         \u001b[0mdata\u001b[0m \u001b[0;34m=\u001b[0m \u001b[0mself\u001b[0m\u001b[0;34m.\u001b[0m\u001b[0m_dataset_fetcher\u001b[0m\u001b[0;34m.\u001b[0m\u001b[0mfetch\u001b[0m\u001b[0;34m(\u001b[0m\u001b[0mindex\u001b[0m\u001b[0;34m)\u001b[0m  \u001b[0;31m# may raise StopIteration\u001b[0m\u001b[0;34m\u001b[0m\u001b[0;34m\u001b[0m\u001b[0m\n\u001b[0m\u001b[1;32m    562\u001b[0m         \u001b[0;32mif\u001b[0m \u001b[0mself\u001b[0m\u001b[0;34m.\u001b[0m\u001b[0m_pin_memory\u001b[0m\u001b[0;34m:\u001b[0m\u001b[0;34m\u001b[0m\u001b[0;34m\u001b[0m\u001b[0m\n\u001b[1;32m    563\u001b[0m             \u001b[0mdata\u001b[0m \u001b[0;34m=\u001b[0m \u001b[0m_utils\u001b[0m\u001b[0;34m.\u001b[0m\u001b[0mpin_memory\u001b[0m\u001b[0;34m.\u001b[0m\u001b[0mpin_memory\u001b[0m\u001b[0;34m(\u001b[0m\u001b[0mdata\u001b[0m\u001b[0;34m)\u001b[0m\u001b[0;34m\u001b[0m\u001b[0;34m\u001b[0m\u001b[0m\n",
      "\u001b[0;32m/fast/jamesn8/anaconda3/envs/torch3/lib/python3.9/site-packages/torch/utils/data/_utils/fetch.py\u001b[0m in \u001b[0;36mfetch\u001b[0;34m(self, possibly_batched_index)\u001b[0m\n\u001b[1;32m     42\u001b[0m     \u001b[0;32mdef\u001b[0m \u001b[0mfetch\u001b[0m\u001b[0;34m(\u001b[0m\u001b[0mself\u001b[0m\u001b[0;34m,\u001b[0m \u001b[0mpossibly_batched_index\u001b[0m\u001b[0;34m)\u001b[0m\u001b[0;34m:\u001b[0m\u001b[0;34m\u001b[0m\u001b[0;34m\u001b[0m\u001b[0m\n\u001b[1;32m     43\u001b[0m         \u001b[0;32mif\u001b[0m \u001b[0mself\u001b[0m\u001b[0;34m.\u001b[0m\u001b[0mauto_collation\u001b[0m\u001b[0;34m:\u001b[0m\u001b[0;34m\u001b[0m\u001b[0;34m\u001b[0m\u001b[0m\n\u001b[0;32m---> 44\u001b[0;31m             \u001b[0mdata\u001b[0m \u001b[0;34m=\u001b[0m \u001b[0;34m[\u001b[0m\u001b[0mself\u001b[0m\u001b[0;34m.\u001b[0m\u001b[0mdataset\u001b[0m\u001b[0;34m[\u001b[0m\u001b[0midx\u001b[0m\u001b[0;34m]\u001b[0m \u001b[0;32mfor\u001b[0m \u001b[0midx\u001b[0m \u001b[0;32min\u001b[0m \u001b[0mpossibly_batched_index\u001b[0m\u001b[0;34m]\u001b[0m\u001b[0;34m\u001b[0m\u001b[0;34m\u001b[0m\u001b[0m\n\u001b[0m\u001b[1;32m     45\u001b[0m         \u001b[0;32melse\u001b[0m\u001b[0;34m:\u001b[0m\u001b[0;34m\u001b[0m\u001b[0;34m\u001b[0m\u001b[0m\n\u001b[1;32m     46\u001b[0m             \u001b[0mdata\u001b[0m \u001b[0;34m=\u001b[0m \u001b[0mself\u001b[0m\u001b[0;34m.\u001b[0m\u001b[0mdataset\u001b[0m\u001b[0;34m[\u001b[0m\u001b[0mpossibly_batched_index\u001b[0m\u001b[0;34m]\u001b[0m\u001b[0;34m\u001b[0m\u001b[0;34m\u001b[0m\u001b[0m\n",
      "\u001b[0;32m/fast/jamesn8/anaconda3/envs/torch3/lib/python3.9/site-packages/torch/utils/data/_utils/fetch.py\u001b[0m in \u001b[0;36m<listcomp>\u001b[0;34m(.0)\u001b[0m\n\u001b[1;32m     42\u001b[0m     \u001b[0;32mdef\u001b[0m \u001b[0mfetch\u001b[0m\u001b[0;34m(\u001b[0m\u001b[0mself\u001b[0m\u001b[0;34m,\u001b[0m \u001b[0mpossibly_batched_index\u001b[0m\u001b[0;34m)\u001b[0m\u001b[0;34m:\u001b[0m\u001b[0;34m\u001b[0m\u001b[0;34m\u001b[0m\u001b[0m\n\u001b[1;32m     43\u001b[0m         \u001b[0;32mif\u001b[0m \u001b[0mself\u001b[0m\u001b[0;34m.\u001b[0m\u001b[0mauto_collation\u001b[0m\u001b[0;34m:\u001b[0m\u001b[0;34m\u001b[0m\u001b[0;34m\u001b[0m\u001b[0m\n\u001b[0;32m---> 44\u001b[0;31m             \u001b[0mdata\u001b[0m \u001b[0;34m=\u001b[0m \u001b[0;34m[\u001b[0m\u001b[0mself\u001b[0m\u001b[0;34m.\u001b[0m\u001b[0mdataset\u001b[0m\u001b[0;34m[\u001b[0m\u001b[0midx\u001b[0m\u001b[0;34m]\u001b[0m \u001b[0;32mfor\u001b[0m \u001b[0midx\u001b[0m \u001b[0;32min\u001b[0m \u001b[0mpossibly_batched_index\u001b[0m\u001b[0;34m]\u001b[0m\u001b[0;34m\u001b[0m\u001b[0;34m\u001b[0m\u001b[0m\n\u001b[0m\u001b[1;32m     45\u001b[0m         \u001b[0;32melse\u001b[0m\u001b[0;34m:\u001b[0m\u001b[0;34m\u001b[0m\u001b[0;34m\u001b[0m\u001b[0m\n\u001b[1;32m     46\u001b[0m             \u001b[0mdata\u001b[0m \u001b[0;34m=\u001b[0m \u001b[0mself\u001b[0m\u001b[0;34m.\u001b[0m\u001b[0mdataset\u001b[0m\u001b[0;34m[\u001b[0m\u001b[0mpossibly_batched_index\u001b[0m\u001b[0;34m]\u001b[0m\u001b[0;34m\u001b[0m\u001b[0;34m\u001b[0m\u001b[0m\n",
      "\u001b[0;32m/projects/grail/jamesn8/projects/mechanical/automate/automate/data/saved_dataset.py\u001b[0m in \u001b[0;36m__getitem__\u001b[0;34m(self, i)\u001b[0m\n\u001b[1;32m     14\u001b[0m \u001b[0;34m\u001b[0m\u001b[0m\n\u001b[1;32m     15\u001b[0m     \u001b[0;32mdef\u001b[0m \u001b[0m__getitem__\u001b[0m\u001b[0;34m(\u001b[0m\u001b[0mself\u001b[0m\u001b[0;34m,\u001b[0m \u001b[0mi\u001b[0m\u001b[0;34m)\u001b[0m\u001b[0;34m:\u001b[0m\u001b[0;34m\u001b[0m\u001b[0;34m\u001b[0m\u001b[0m\n\u001b[0;32m---> 16\u001b[0;31m         \u001b[0mdata\u001b[0m \u001b[0;34m=\u001b[0m \u001b[0mtorch\u001b[0m\u001b[0;34m.\u001b[0m\u001b[0mload\u001b[0m\u001b[0;34m(\u001b[0m\u001b[0mself\u001b[0m\u001b[0;34m.\u001b[0m\u001b[0mindex\u001b[0m\u001b[0;34m[\u001b[0m\u001b[0mi\u001b[0m\u001b[0;34m]\u001b[0m\u001b[0;34m)\u001b[0m\u001b[0;34m\u001b[0m\u001b[0;34m\u001b[0m\u001b[0m\n\u001b[0m\u001b[1;32m     17\u001b[0m         \u001b[0mdata\u001b[0m\u001b[0;34m.\u001b[0m\u001b[0midx\u001b[0m \u001b[0;34m=\u001b[0m \u001b[0mi\u001b[0m\u001b[0;34m\u001b[0m\u001b[0;34m\u001b[0m\u001b[0m\n\u001b[1;32m     18\u001b[0m         \u001b[0;32mreturn\u001b[0m \u001b[0mselect_full_relations\u001b[0m\u001b[0;34m(\u001b[0m\u001b[0mdata\u001b[0m\u001b[0;34m)\u001b[0m\u001b[0;34m\u001b[0m\u001b[0;34m\u001b[0m\u001b[0m\n",
      "\u001b[0;32m/fast/jamesn8/anaconda3/envs/torch3/lib/python3.9/site-packages/torch/serialization.py\u001b[0m in \u001b[0;36mload\u001b[0;34m(f, map_location, pickle_module, **pickle_load_args)\u001b[0m\n\u001b[1;32m    605\u001b[0m                     \u001b[0mopened_file\u001b[0m\u001b[0;34m.\u001b[0m\u001b[0mseek\u001b[0m\u001b[0;34m(\u001b[0m\u001b[0morig_position\u001b[0m\u001b[0;34m)\u001b[0m\u001b[0;34m\u001b[0m\u001b[0;34m\u001b[0m\u001b[0m\n\u001b[1;32m    606\u001b[0m                     \u001b[0;32mreturn\u001b[0m \u001b[0mtorch\u001b[0m\u001b[0;34m.\u001b[0m\u001b[0mjit\u001b[0m\u001b[0;34m.\u001b[0m\u001b[0mload\u001b[0m\u001b[0;34m(\u001b[0m\u001b[0mopened_file\u001b[0m\u001b[0;34m)\u001b[0m\u001b[0;34m\u001b[0m\u001b[0;34m\u001b[0m\u001b[0m\n\u001b[0;32m--> 607\u001b[0;31m                 \u001b[0;32mreturn\u001b[0m \u001b[0m_load\u001b[0m\u001b[0;34m(\u001b[0m\u001b[0mopened_zipfile\u001b[0m\u001b[0;34m,\u001b[0m \u001b[0mmap_location\u001b[0m\u001b[0;34m,\u001b[0m \u001b[0mpickle_module\u001b[0m\u001b[0;34m,\u001b[0m \u001b[0;34m**\u001b[0m\u001b[0mpickle_load_args\u001b[0m\u001b[0;34m)\u001b[0m\u001b[0;34m\u001b[0m\u001b[0;34m\u001b[0m\u001b[0m\n\u001b[0m\u001b[1;32m    608\u001b[0m         \u001b[0;32mreturn\u001b[0m \u001b[0m_legacy_load\u001b[0m\u001b[0;34m(\u001b[0m\u001b[0mopened_file\u001b[0m\u001b[0;34m,\u001b[0m \u001b[0mmap_location\u001b[0m\u001b[0;34m,\u001b[0m \u001b[0mpickle_module\u001b[0m\u001b[0;34m,\u001b[0m \u001b[0;34m**\u001b[0m\u001b[0mpickle_load_args\u001b[0m\u001b[0;34m)\u001b[0m\u001b[0;34m\u001b[0m\u001b[0;34m\u001b[0m\u001b[0m\n\u001b[1;32m    609\u001b[0m \u001b[0;34m\u001b[0m\u001b[0m\n",
      "\u001b[0;32m/fast/jamesn8/anaconda3/envs/torch3/lib/python3.9/site-packages/torch/serialization.py\u001b[0m in \u001b[0;36m_load\u001b[0;34m(zip_file, map_location, pickle_module, pickle_file, **pickle_load_args)\u001b[0m\n\u001b[1;32m    880\u001b[0m     \u001b[0munpickler\u001b[0m \u001b[0;34m=\u001b[0m \u001b[0mUnpicklerWrapper\u001b[0m\u001b[0;34m(\u001b[0m\u001b[0mdata_file\u001b[0m\u001b[0;34m,\u001b[0m \u001b[0;34m**\u001b[0m\u001b[0mpickle_load_args\u001b[0m\u001b[0;34m)\u001b[0m\u001b[0;34m\u001b[0m\u001b[0;34m\u001b[0m\u001b[0m\n\u001b[1;32m    881\u001b[0m     \u001b[0munpickler\u001b[0m\u001b[0;34m.\u001b[0m\u001b[0mpersistent_load\u001b[0m \u001b[0;34m=\u001b[0m \u001b[0mpersistent_load\u001b[0m\u001b[0;34m\u001b[0m\u001b[0;34m\u001b[0m\u001b[0m\n\u001b[0;32m--> 882\u001b[0;31m     \u001b[0mresult\u001b[0m \u001b[0;34m=\u001b[0m \u001b[0munpickler\u001b[0m\u001b[0;34m.\u001b[0m\u001b[0mload\u001b[0m\u001b[0;34m(\u001b[0m\u001b[0;34m)\u001b[0m\u001b[0;34m\u001b[0m\u001b[0;34m\u001b[0m\u001b[0m\n\u001b[0m\u001b[1;32m    883\u001b[0m \u001b[0;34m\u001b[0m\u001b[0m\n\u001b[1;32m    884\u001b[0m     \u001b[0mtorch\u001b[0m\u001b[0;34m.\u001b[0m\u001b[0m_utils\u001b[0m\u001b[0;34m.\u001b[0m\u001b[0m_validate_loaded_sparse_tensors\u001b[0m\u001b[0;34m(\u001b[0m\u001b[0;34m)\u001b[0m\u001b[0;34m\u001b[0m\u001b[0;34m\u001b[0m\u001b[0m\n",
      "\u001b[0;32m/fast/jamesn8/anaconda3/envs/torch3/lib/python3.9/site-packages/torch/serialization.py\u001b[0m in \u001b[0;36mfind_class\u001b[0;34m(self, mod_name, name)\u001b[0m\n\u001b[1;32m    873\u001b[0m         \u001b[0;32mdef\u001b[0m \u001b[0mfind_class\u001b[0m\u001b[0;34m(\u001b[0m\u001b[0mself\u001b[0m\u001b[0;34m,\u001b[0m \u001b[0mmod_name\u001b[0m\u001b[0;34m,\u001b[0m \u001b[0mname\u001b[0m\u001b[0;34m)\u001b[0m\u001b[0;34m:\u001b[0m\u001b[0;34m\u001b[0m\u001b[0;34m\u001b[0m\u001b[0m\n\u001b[1;32m    874\u001b[0m             \u001b[0mmod_name\u001b[0m \u001b[0;34m=\u001b[0m \u001b[0mload_module_mapping\u001b[0m\u001b[0;34m.\u001b[0m\u001b[0mget\u001b[0m\u001b[0;34m(\u001b[0m\u001b[0mmod_name\u001b[0m\u001b[0;34m,\u001b[0m \u001b[0mmod_name\u001b[0m\u001b[0;34m)\u001b[0m\u001b[0;34m\u001b[0m\u001b[0;34m\u001b[0m\u001b[0m\n\u001b[0;32m--> 875\u001b[0;31m             \u001b[0;32mreturn\u001b[0m \u001b[0msuper\u001b[0m\u001b[0;34m(\u001b[0m\u001b[0;34m)\u001b[0m\u001b[0;34m.\u001b[0m\u001b[0mfind_class\u001b[0m\u001b[0;34m(\u001b[0m\u001b[0mmod_name\u001b[0m\u001b[0;34m,\u001b[0m \u001b[0mname\u001b[0m\u001b[0;34m)\u001b[0m\u001b[0;34m\u001b[0m\u001b[0;34m\u001b[0m\u001b[0m\n\u001b[0m\u001b[1;32m    876\u001b[0m \u001b[0;34m\u001b[0m\u001b[0m\n\u001b[1;32m    877\u001b[0m     \u001b[0;31m# Load the data (which may in turn use `persistent_load` to load tensors)\u001b[0m\u001b[0;34m\u001b[0m\u001b[0;34m\u001b[0m\u001b[0;34m\u001b[0m\u001b[0m\n",
      "\u001b[0;31mKeyboardInterrupt\u001b[0m: "
     ]
    }
   ],
   "source": [
    "invalid_inds = []\n",
    "invalid_inds2 = []\n",
    "N = len(dataset)\n",
    "for i,batch in enumerate(dataloader):\n",
    "    if i % 25 == 0:\n",
    "        clear_output(wait=True)\n",
    "        display(f'num_processed: {i}/{N}; invalid1: {len(invalid_inds)}; invalid2: {len(invalid_inds2)}')\n",
    "    try:\n",
    "        preds = model(batch)\n",
    "    except ValueError as e:\n",
    "        invalid_inds.append(i)\n",
    "    except IndexError as e:\n",
    "        invalid_inds2.append(i)"
   ]
  },
  {
   "cell_type": "code",
   "execution_count": 128,
   "id": "df1def5c-03e8-426f-96d3-21ee1cf246c5",
   "metadata": {},
   "outputs": [],
   "source": [
    "model_train = model.train()"
   ]
  },
  {
   "cell_type": "code",
   "execution_count": 146,
   "id": "8baf86d0-2f2c-43ab-974a-5322e1a814ba",
   "metadata": {},
   "outputs": [
    {
     "ename": "AttributeError",
     "evalue": "'NoneType' object has no attribute 'lightning_optimizers'",
     "output_type": "error",
     "traceback": [
      "\u001b[0;31m---------------------------------------------------------------------------\u001b[0m",
      "\u001b[0;31mAttributeError\u001b[0m                            Traceback (most recent call last)",
      "\u001b[0;32m/tmp/ipykernel_2729622/1665788668.py\u001b[0m in \u001b[0;36m<module>\u001b[0;34m\u001b[0m\n\u001b[1;32m      1\u001b[0m \u001b[0mmodel_train\u001b[0m\u001b[0;34m.\u001b[0m\u001b[0mautomatic_optimization\u001b[0m \u001b[0;34m=\u001b[0m \u001b[0;32mFalse\u001b[0m\u001b[0;34m\u001b[0m\u001b[0;34m\u001b[0m\u001b[0m\n\u001b[0;32m----> 2\u001b[0;31m \u001b[0mmodel_train\u001b[0m\u001b[0;34m.\u001b[0m\u001b[0moptimizers\u001b[0m\u001b[0;34m(\u001b[0m\u001b[0;34m)\u001b[0m\u001b[0;34m\u001b[0m\u001b[0;34m\u001b[0m\u001b[0m\n\u001b[0m",
      "\u001b[0;32m/fast/jamesn8/anaconda3/envs/torch3/lib/python3.9/site-packages/pytorch_lightning/core/lightning.py\u001b[0m in \u001b[0;36moptimizers\u001b[0;34m(self, use_pl_optimizer)\u001b[0m\n\u001b[1;32m    134\u001b[0m         \"\"\"\n\u001b[1;32m    135\u001b[0m         \u001b[0;32mif\u001b[0m \u001b[0muse_pl_optimizer\u001b[0m\u001b[0;34m:\u001b[0m\u001b[0;34m\u001b[0m\u001b[0;34m\u001b[0m\u001b[0m\n\u001b[0;32m--> 136\u001b[0;31m             \u001b[0mopts\u001b[0m \u001b[0;34m=\u001b[0m \u001b[0mlist\u001b[0m\u001b[0;34m(\u001b[0m\u001b[0mself\u001b[0m\u001b[0;34m.\u001b[0m\u001b[0mtrainer\u001b[0m\u001b[0;34m.\u001b[0m\u001b[0mlightning_optimizers\u001b[0m\u001b[0;34m.\u001b[0m\u001b[0mvalues\u001b[0m\u001b[0;34m(\u001b[0m\u001b[0;34m)\u001b[0m\u001b[0;34m)\u001b[0m\u001b[0;34m\u001b[0m\u001b[0;34m\u001b[0m\u001b[0m\n\u001b[0m\u001b[1;32m    137\u001b[0m         \u001b[0;32melse\u001b[0m\u001b[0;34m:\u001b[0m\u001b[0;34m\u001b[0m\u001b[0;34m\u001b[0m\u001b[0m\n\u001b[1;32m    138\u001b[0m             \u001b[0mopts\u001b[0m \u001b[0;34m=\u001b[0m \u001b[0mself\u001b[0m\u001b[0;34m.\u001b[0m\u001b[0mtrainer\u001b[0m\u001b[0;34m.\u001b[0m\u001b[0moptimizers\u001b[0m\u001b[0;34m\u001b[0m\u001b[0;34m\u001b[0m\u001b[0m\n",
      "\u001b[0;31mAttributeError\u001b[0m: 'NoneType' object has no attribute 'lightning_optimizers'"
     ]
    }
   ],
   "source": [
    "model_train.automatic_optimization = False\n",
    "model_train.optimizers()"
   ]
  },
  {
   "cell_type": "code",
   "execution_count": 147,
   "id": "2181d2e0-b7d5-4a2a-9fc9-662353e9087f",
   "metadata": {},
   "outputs": [],
   "source": [
    "for i,test_batch in enumerate(dataloader):\n",
    "    if i  == 1:\n",
    "        break\n",
    "preds = model_train(test_batch)\n",
    "target = test_batch.mc_pair_labels\n",
    "loss = model_train.loss(preds, target)"
   ]
  },
  {
   "cell_type": "code",
   "execution_count": 148,
   "id": "23bc17f4-7c26-4375-97b0-d866f2289010",
   "metadata": {},
   "outputs": [
    {
     "data": {
      "text/plain": [
       "tensor(nan, grad_fn=<BinaryCrossEntropyWithLogitsBackward>)"
      ]
     },
     "execution_count": 148,
     "metadata": {},
     "output_type": "execute_result"
    }
   ],
   "source": [
    "loss"
   ]
  },
  {
   "cell_type": "code",
   "execution_count": null,
   "id": "e6a3d18d-fe3f-4a34-90bd-425031960436",
   "metadata": {},
   "outputs": [],
   "source": [
    "pos = target.sum()\n",
    "neg = target.size(0) - pos\n",
    "dev = target.device\n",
    "loss = torch.nn.functional.binary_cross_entropy_with_logits(\n",
    "    preds, target, pos_weight=torch.full((1,), neg / pos, device=dev)\n",
    ")"
   ]
  },
  {
   "cell_type": "code",
   "execution_count": 133,
   "id": "078d2fd4-4747-49e6-a665-aac12e57cd15",
   "metadata": {},
   "outputs": [],
   "source": [
    "loss.backward()"
   ]
  },
  {
   "cell_type": "code",
   "execution_count": 19,
   "id": "9a495ff1-a118-4886-aed8-cc2caadf405f",
   "metadata": {},
   "outputs": [],
   "source": [
    "invalid_set = set(invalid_inds + invalid_inds2)\n",
    "with open(indexfile) as f:\n",
    "    datalist = f.readlines()\n",
    "with open('/fast/jamesn8/assembly_data/indexfile_filtered.txt','w') as f:\n",
    "    for i,l in enumerate(datalist[:10125]):\n",
    "        if i not in invalid_set:\n",
    "            f.write(l)"
   ]
  },
  {
   "cell_type": "code",
   "execution_count": 153,
   "id": "5f9a2f35-b219-46ef-a947-6b5f7a0b9585",
   "metadata": {},
   "outputs": [],
   "source": [
    "t = torch.full((2,), 3)"
   ]
  },
  {
   "cell_type": "code",
   "execution_count": 161,
   "id": "915bd7b7-8f1e-4f3b-9d0c-6d6893f084fa",
   "metadata": {},
   "outputs": [
    {
     "data": {
      "text/plain": [
       "tensor(False)"
      ]
     },
     "execution_count": 161,
     "metadata": {},
     "output_type": "execute_result"
    }
   ],
   "source": [
    "t.sum() < 3"
   ]
  },
  {
   "cell_type": "code",
   "execution_count": null,
   "id": "9cc09e94-b441-43eb-9a63-3ec4d5fa970f",
   "metadata": {},
   "outputs": [],
   "source": []
  }
 ],
 "metadata": {
  "kernelspec": {
   "display_name": "Python 3 (ipykernel)",
   "language": "python",
   "name": "python3"
  },
  "language_info": {
   "codemirror_mode": {
    "name": "ipython",
    "version": 3
   },
   "file_extension": ".py",
   "mimetype": "text/x-python",
   "name": "python",
   "nbconvert_exporter": "python",
   "pygments_lexer": "ipython3",
   "version": "3.9.6"
  }
 },
 "nbformat": 4,
 "nbformat_minor": 5
}
