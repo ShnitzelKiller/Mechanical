{
 "cells": [
  {
   "cell_type": "code",
   "execution_count": 48,
   "id": "74165aad",
   "metadata": {},
   "outputs": [],
   "source": [
    "import os\n",
    "import pandas as ps\n",
    "from pandas import DataFrame\n",
    "import onshape.brepio as brepio\n",
    "import json\n",
    "from IPython.display import JSON as DJSON\n",
    "from IPython.display import clear_output\n",
    "import numpy as np\n",
    "from utils import adjacency_list, adjacency_list_from_brepdata, connected_components, homogenize, adjacency_matrix\n",
    "import sys\n",
    "import time"
   ]
  },
  {
   "cell_type": "markdown",
   "id": "31751d37",
   "metadata": {},
   "source": [
    "### things to count:\n",
    "- no mates\n",
    "- disconnected components\n",
    "- hisogram of number of moving parts"
   ]
  },
  {
   "cell_type": "markdown",
   "id": "d3dcdcf8",
   "metadata": {},
   "source": [
    "datalistpath = os.path.join('data', 'dof_assemblies.txt')\n",
    "with open(datalistpath) as f:\n",
    "    datalist = [[el[1] for el in enumerate(l.strip().split('/')[-7:]) if el[0] == 0 or el[0] == 4 or el[0] == 6] for l in f.readlines()]"
   ]
  },
  {
   "cell_type": "markdown",
   "id": "2db086d2",
   "metadata": {},
   "source": [
    "## Make dataframes"
   ]
  },
  {
   "cell_type": "code",
   "execution_count": 2,
   "id": "2aa4ddce-e72c-47b9-8cb9-a90524530105",
   "metadata": {},
   "outputs": [],
   "source": [
    "datapath = '/projects/grail/benjones/cadlab'\n",
    "loader = brepio.Loader(datapath)"
   ]
  },
  {
   "cell_type": "code",
   "execution_count": 3,
   "id": "d841311c",
   "metadata": {},
   "outputs": [],
   "source": [
    "generate_dataframes=False\n",
    "name = '/fast/jamesn8/assembly_data/assembly_data_with_transforms_all.h5'\n",
    "#start = 0\n",
    "start = 125133"
   ]
  },
  {
   "cell_type": "code",
   "execution_count": 4,
   "id": "bb08274a",
   "metadata": {
    "scrolled": true
   },
   "outputs": [],
   "source": [
    "if generate_dataframes:\n",
    "    \n",
    "    if start == 0:\n",
    "        with open('filter_list.txt') as f:\n",
    "            filter_list = f.readlines()\n",
    "        print('making filter set')\n",
    "        filter_set = set()\n",
    "        for l in filter_list:\n",
    "            filter_set.add(l.strip())\n",
    "        del filter_list\n",
    "\n",
    "        valid_dict = dict()\n",
    "\n",
    "        assembly_rows = []\n",
    "        assembly_indices = []\n",
    "\n",
    "        part_rows = []\n",
    "        mate_rows = []\n",
    "\n",
    "    j=0 #assembly id\n",
    "    for entry in os.scandir(os.path.join(datapath,'data','flattened_assemblies')):\n",
    "        #if j > 3:\n",
    "        #    break\n",
    "        if j < start:\n",
    "            continue\n",
    "        if not entry.name.endswith('.json') or entry.name in filter_set:\n",
    "            continue\n",
    "\n",
    "        occs, mates = loader.load_flattened(entry.name,geometry=False, skipInvalid=True)\n",
    "\n",
    "        if j % 500 == 0:\n",
    "            clear_output(wait=True)\n",
    "            display(f'num_processed: {j}')\n",
    "\n",
    "        adj_list = adjacency_list_from_brepdata(occs, mates)\n",
    "        if len(adj_list) > 0:\n",
    "            adj = homogenize(adj_list)\n",
    "        else:\n",
    "            adj = np.zeros([0,0],np.int32)\n",
    "        num_lone = adj.shape[0] if adj.shape[1] == 0 else (adj[:,0] < 0).sum()\n",
    "        #num_connections = np.sum(adj, 0)\n",
    "        #num_lone = len([c for c in num_connections if c == 0])\n",
    "\n",
    "        num_components = connected_components(adj)\n",
    "        num_rigid = connected_components(adj, connectionType='fasten')\n",
    "\n",
    "        num_part_mates = 0\n",
    "        for mate in mates:\n",
    "            if len(mate.matedEntities) == 2:\n",
    "                num_part_mates += 1\n",
    "                axes = []\n",
    "                origins = []\n",
    "                for me in mate.matedEntities:\n",
    "                    #tf = occs[me[0]][0]\n",
    "                    #newaxes = tf[:3, :3] @ me[1][1]\n",
    "                    #neworigin = tf[:3,:3] @ me[1][0] + tf[:3,3]\n",
    "                    axes.append(me[1][1])\n",
    "                    origins.append(me[1][0])\n",
    "                mate_rows.append([np.int32(j), mate.matedEntities[0][0], mate.matedEntities[1][0], mate.type, origins[0].astype(np.float32), axes[0].astype(np.float32), origins[1].astype(np.float32), axes[1].astype(np.float32), mate.name])\n",
    "\n",
    "        assembly_rows.append([os.path.splitext(entry.name)[0], np.int32(num_components), np.int32(num_rigid), np.int32(num_lone), np.int32(len(occs)), np.int32(num_part_mates), np.int32(len(mates))])\n",
    "        assembly_indices.append(np.int32(j)) \n",
    "        \n",
    "        for occ in occs:\n",
    "            part = occs[occ][1]\n",
    "            did = part['documentId']\n",
    "            mv = part['documentMicroversion']\n",
    "            eid = part['elementId']\n",
    "            config = part['fullConfiguration']\n",
    "            if 'partId' in part:\n",
    "                pid = part['partId']\n",
    "            else:\n",
    "                pid = ''\n",
    "            filepath = os.path.join(did, mv, eid, config, f'{pid}.xt')\n",
    "            \n",
    "            if filepath in valid_dict:\n",
    "                isValid = valid_dict[filepath]\n",
    "            else:\n",
    "                filepath = os.path.join(datapath, 'data/models', filepath)\n",
    "                isValid = os.path.isfile(filepath)\n",
    "                valid_dict[filepath] = isValid\n",
    "            \n",
    "            part_rows.append([np.int32(j), occ, did, mv, eid, config, pid, occs[occ][0].astype(np.float32), isValid])\n",
    "\n",
    "        j += 1\n",
    "\n",
    "    print('building dataframes...')\n",
    "    assembly_df = DataFrame(assembly_rows, index=assembly_indices, columns=['AssemblyPath','ConnectedComponents','RigidPieces','LonePieces', 'NumParts', 'NumBinaryPartMates', 'TotalMates'])\n",
    "    mate_df = DataFrame(mate_rows, columns=['Assembly','Part1','Part2','Type','Origin1','Axes1','Origin2','Axes2','Name'])\n",
    "    part_df = DataFrame(part_rows, columns=['Assembly','PartOccurrenceID','did','mv','eid','config','PartId', 'Transform', 'HasGeometry'])\n",
    "\n",
    "    print('saving dataframes...')\n",
    "    assembly_df.to_hdf(name,'assembly')\n",
    "    mate_df.to_hdf(name,'mate')\n",
    "    part_df.to_hdf(name,'part')\n",
    "    del assembly_rows\n",
    "    del part_rows\n",
    "    del mate_rows\n",
    "    del assembly_indices\n",
    "    del valid_dict\n",
    "else:\n",
    "    assembly_df = ps.read_hdf(name,'assembly')\n",
    "    mate_df = ps.read_hdf(name,'mate')\n",
    "    part_df = ps.read_hdf(name,'part')"
   ]
  },
  {
   "cell_type": "markdown",
   "id": "83333645",
   "metadata": {
    "tags": []
   },
   "source": [
    "### Generate statistics (if not already present)"
   ]
  },
  {
   "cell_type": "code",
   "execution_count": 7,
   "id": "1c015dad",
   "metadata": {},
   "outputs": [],
   "source": [
    "def generate_statistics(assembly_df, part_df, mate_df):\n",
    "    part_df_indexed = part_df.set_index('Assembly')\n",
    "    mate_df_indexed = mate_df.set_index('Assembly')\n",
    "    statistics = []\n",
    "\n",
    "    for index in assembly_df.index:\n",
    "        if index % 500 == 0:\n",
    "            clear_output(wait=True)\n",
    "            display(f'num_processed: {index}')\n",
    "\n",
    "        try:\n",
    "            parts = part_df_indexed.loc[index]\n",
    "        except KeyError:\n",
    "            occs = []\n",
    "        else:\n",
    "            if parts.ndim == 2:\n",
    "                occs = list(parts['PartOccurrenceID'])\n",
    "            else:\n",
    "                occs = [parts['PartOccurrenceID']]\n",
    "\n",
    "        try:\n",
    "            mates = mate_df_indexed.loc[index]\n",
    "        except KeyError:\n",
    "            mates_tuples = []\n",
    "        else:\n",
    "            if mates.ndim == 2:\n",
    "                mates_tuples = [(row[0], row[1], row[2]) for row in mates.itertuples(index=False)]\n",
    "            else:\n",
    "                mates_tuples = [(mates[0], mates[1], mates[2])]\n",
    "        if len(occs) == 0:\n",
    "            statistics.append([0, 0, 0])\n",
    "        else:\n",
    "            adj_list = adjacency_list(occs, mates_tuples)\n",
    "            adj = homogenize(adj_list)\n",
    "            num_lone = adj.shape[0] if adj.shape[1] == 0 else len([el for el in adj[:,0] if el < 0])\n",
    "            num_components = connected_components(adj)\n",
    "            num_rigid = connected_components(adj, connectionType='fasten')\n",
    "            #print('num_rigid',num_rigid)\n",
    "            #print('num_components',num_components)\n",
    "            #print('num_lone',num_lone)\n",
    "            statistics.append([num_components,num_rigid,num_lone])\n",
    "    statistics_np = np.array(statistics)\n",
    "    assembly_df['ConnectedComponents'] = statistics_np[:,0]\n",
    "    assembly_df['RigidComponents'] = statistics_np[:,1]\n",
    "    assembly_df['LoneParts'] = statistics_np[:,2]"
   ]
  },
  {
   "cell_type": "markdown",
   "id": "97764a20",
   "metadata": {},
   "source": [
    "fixedname = '/fast/jamesn8/assembly_data/assembly_data2.h5'"
   ]
  },
  {
   "cell_type": "markdown",
   "id": "912b87d7",
   "metadata": {},
   "source": [
    "assembly_df.to_hdf(fixedname,'assembly','w')"
   ]
  },
  {
   "cell_type": "markdown",
   "id": "22d6c99d",
   "metadata": {},
   "source": [
    "mate_df.to_hdf(fixedname,'mate','r+')\n",
    "part_df_fixed.to_hdf(fixedname,'part','r+')"
   ]
  },
  {
   "cell_type": "markdown",
   "id": "7e29f54d-fb3c-4bba-9408-01f3fa51545f",
   "metadata": {},
   "source": [
    "### Incorporate Deduplication"
   ]
  },
  {
   "cell_type": "code",
   "execution_count": 7,
   "id": "146a7965-97ab-4ab4-b750-201ced76c91e",
   "metadata": {},
   "outputs": [],
   "source": [
    "deduped_df = ps.read_parquet(os.path.join(datapath, 'data/deduped_assembly_list.parquet'))\n",
    "deduped_df.drop('is_unique', axis=1, inplace=True)\n",
    "deduped_df['AssemblyPath'] = ['_'.join(me) for me in zip(deduped_df['assembly_documentId'], deduped_df['assembly_documentMicroversion'], deduped_df['assembly_elementId'])]\n",
    "deduped_df.set_index('AssemblyPath', inplace=True)\n",
    "deduped_df_joined = assembly_df.join(deduped_df, on='AssemblyPath', how='inner')\n",
    "deduped_df_joined['HasAllGeometry'] = part_df.groupby('Assembly')['HasGeometry'].agg(all).loc[deduped_df_joined.index]"
   ]
  },
  {
   "cell_type": "code",
   "execution_count": 8,
   "id": "11e419b7-6e3a-466b-9943-02a77d21a933",
   "metadata": {},
   "outputs": [],
   "source": [
    "deduped_df_filtered = deduped_df_joined[lambda df: df['HasAllGeometry']]\n",
    "deduped_df_movingparts = deduped_df_filtered[lambda df: df['RigidPieces'] > 1]\n",
    "deduped_df_movingparts_connected = deduped_df_movingparts[lambda df: df['ConnectedComponents'] == 1]"
   ]
  },
  {
   "cell_type": "code",
   "execution_count": 9,
   "id": "d33228ed-0711-41d7-8d19-ab2617b8ea9d",
   "metadata": {},
   "outputs": [
    {
     "name": "stdout",
     "output_type": "stream",
     "text": [
      "Total non-subassemblies: 125133\n",
      "Total deduplicated non-sub-assemblies: 82333 (65.80%)\n",
      "Total deduplicated with all geometry: 48877 (39.06%)\n",
      "Assemblies with more than 1 rigid piece: 35806 (73.26 % of deduplicated assemblies)\n",
      "Assemblies with more than 1 rigid piece that are fully connected: 26953 (75.28 % of assemblies with more than 1 rigid piece)\n"
     ]
    }
   ],
   "source": [
    "print(f'Total non-subassemblies: %d' % assembly_df.shape[0])\n",
    "print(f'Total deduplicated non-sub-assemblies: %d (%.2f%%)' % (deduped_df_joined.shape[0], deduped_df_joined.shape[0]/assembly_df.shape[0]*100))\n",
    "print(f'Total deduplicated with all geometry: %d (%.2f%%)' % (deduped_df_filtered.shape[0], deduped_df_filtered.shape[0]/assembly_df.shape[0]*100))\n",
    "num_with_multiple_rigid = deduped_df_movingparts.shape[0]\n",
    "num_fully_connected = sum(deduped_df_filtered['ConnectedComponents'] == 1)\n",
    "num_fully_connected_multiple_rigid = deduped_df_movingparts_connected.shape[0]\n",
    "\n",
    "print(f'Assemblies with more than 1 rigid piece: %d (%.2f %% of deduplicated assemblies)' % (num_with_multiple_rigid, num_with_multiple_rigid/deduped_df_filtered.shape[0]*100))\n",
    "#print(f'Assemblies fully connected: %d (%.2f %% of deduplicated assemblies)' % (num_with_multiple_rigid, num_with_multiple_rigid/deduped_df_filtered.shape[0]*100))\n",
    "print(f'Assemblies with more than 1 rigid piece that are fully connected: %d (%.2f %% of assemblies with more than 1 rigid piece)' % (num_fully_connected_multiple_rigid, num_fully_connected_multiple_rigid/num_with_multiple_rigid*100))"
   ]
  },
  {
   "cell_type": "markdown",
   "id": "fa8af1e0",
   "metadata": {
    "tags": []
   },
   "source": [
    "# Multi-mate analysis\n",
    "**Notes**:\n",
    "- Multi-mates containing a fasten are considered a fasten (but still counted)\n",
    "- exact duplicate mates have been removed for this analysis\n",
    "### Filter out mates with the same part"
   ]
  },
  {
   "cell_type": "code",
   "execution_count": 10,
   "id": "5f706156",
   "metadata": {},
   "outputs": [],
   "source": [
    "mate_df_filtered = mate_df[mate_df['Part1'] != mate_df['Part2']]"
   ]
  },
  {
   "cell_type": "markdown",
   "id": "f6327b6e",
   "metadata": {},
   "source": [
    "### Filter out duplicates"
   ]
  },
  {
   "cell_type": "code",
   "execution_count": 11,
   "id": "15b3556e",
   "metadata": {},
   "outputs": [],
   "source": [
    "flattened_mateinfo = mate_df_filtered[['Origin1','Origin2','Axes1','Axes2']].apply(lambda x: [tuple(l.flatten()) for l in x])"
   ]
  },
  {
   "cell_type": "code",
   "execution_count": 12,
   "id": "8fbe7fa7",
   "metadata": {},
   "outputs": [],
   "source": [
    "flattened_mateinfo['Assembly'] = mate_df_filtered['Assembly']\n",
    "flattened_mateinfo['Part1'] = mate_df_filtered['Part1']\n",
    "flattened_mateinfo['Part2'] = mate_df_filtered['Part2']\n",
    "flattened_mateinfo['Type'] = mate_df_filtered['Type']"
   ]
  },
  {
   "cell_type": "code",
   "execution_count": 13,
   "id": "e59e7801",
   "metadata": {},
   "outputs": [],
   "source": [
    "mate_exact_duplicates = flattened_mateinfo.duplicated(keep='first')"
   ]
  },
  {
   "cell_type": "code",
   "execution_count": 14,
   "id": "f8b8a75c",
   "metadata": {},
   "outputs": [
    {
     "data": {
      "text/plain": [
       "2403"
      ]
     },
     "execution_count": 14,
     "metadata": {},
     "output_type": "execute_result"
    }
   ],
   "source": [
    "mate_exact_duplicates.sum()"
   ]
  },
  {
   "cell_type": "code",
   "execution_count": 15,
   "id": "75989d05",
   "metadata": {},
   "outputs": [],
   "source": [
    "mate_df_filtered = mate_df_filtered[~mate_exact_duplicates]"
   ]
  },
  {
   "cell_type": "markdown",
   "id": "a606ec0f",
   "metadata": {},
   "source": [
    "### Analyze mates between the same parts"
   ]
  },
  {
   "cell_type": "code",
   "execution_count": 16,
   "id": "c2eac51a",
   "metadata": {},
   "outputs": [],
   "source": [
    "mate_dofs = DataFrame(np.array([\n",
    "    [0,0,0,0,0,0],\n",
    "    [0,0,0,0,0,1],\n",
    "    [0,0,1,0,0,0],\n",
    "    [1,1,0,0,0,1],\n",
    "    [0,0,1,0,0,1],\n",
    "    [0,0,0,1,1,1],\n",
    "    [1,1,1,0,0,1],\n",
    "    [1,0,0,0,0,1]\n",
    "]),index=['FASTENED','REVOLUTE','SLIDER','PLANAR','CYLINDRICAL','BALL','PARALLEL','PIN_SLOT'],columns=['pos1','pos2','pos3','rot1','rot2','rot3'])"
   ]
  },
  {
   "cell_type": "code",
   "execution_count": 17,
   "id": "fa244173",
   "metadata": {},
   "outputs": [],
   "source": [
    "mate_dofs_reverse = mate_dofs.copy()\n",
    "mate_dofs_reverse['Type'] = mate_dofs.index\n",
    "mate_dofs_reverse = mate_dofs_reverse.set_index(['pos1','pos2','pos3','rot1','rot2','rot3'])"
   ]
  },
  {
   "cell_type": "code",
   "execution_count": 18,
   "id": "56abe4c6",
   "metadata": {},
   "outputs": [],
   "source": [
    "mate_df_indexed = mate_df_filtered.copy()"
   ]
  },
  {
   "cell_type": "code",
   "execution_count": 19,
   "id": "3f0358e3",
   "metadata": {},
   "outputs": [],
   "source": [
    "mate_df_indexed['MateID'] = [str(tup[0]) + '-' + '-'.join(sorted(tup[1:])) for tup in zip(mate_df_indexed['Assembly'], mate_df_indexed['Part1'], mate_df_indexed['Part2'])]"
   ]
  },
  {
   "cell_type": "code",
   "execution_count": 20,
   "id": "01a9d5ae",
   "metadata": {},
   "outputs": [],
   "source": [
    "mate_df_indexed.set_index('MateID', inplace=True)\n",
    "duplicate_indices = mate_df_indexed.index.duplicated(False)"
   ]
  },
  {
   "cell_type": "code",
   "execution_count": 21,
   "id": "b9d9dd29",
   "metadata": {},
   "outputs": [],
   "source": [
    "mate_duplicates = mate_df_indexed[duplicate_indices]"
   ]
  },
  {
   "cell_type": "code",
   "execution_count": 22,
   "id": "71f462d6",
   "metadata": {},
   "outputs": [],
   "source": [
    "multimate_groups = mate_duplicates.groupby(by='MateID')"
   ]
  },
  {
   "cell_type": "code",
   "execution_count": 23,
   "id": "a051fa5b",
   "metadata": {},
   "outputs": [],
   "source": [
    "def prod(lst):\n",
    "    accum = lst[0].copy()\n",
    "    for l in lst[1:]:\n",
    "        accum *= l\n",
    "    return accum"
   ]
  },
  {
   "cell_type": "code",
   "execution_count": 24,
   "id": "c1aeb683",
   "metadata": {},
   "outputs": [],
   "source": [
    "def join_subtractive(x):\n",
    "    pos = 3\n",
    "    rot = 3\n",
    "    for dof in x:\n",
    "        dofi = mate_dofs.loc[dof]\n",
    "        pos_c = 3-dofi[:3].sum()\n",
    "        rot_c = 3-dofi[3:].sum()\n",
    "        pos -= pos_c\n",
    "        rot -= rot_c\n",
    "    return (max(0,pos), max(0,rot))"
   ]
  },
  {
   "cell_type": "code",
   "execution_count": 25,
   "id": "29e673e4",
   "metadata": {},
   "outputs": [],
   "source": [
    "aggregated = multimate_groups.agg({'Type':lambda x: 'FASTENED' if 'FASTENED' in list(x) else '-'.join(sorted(list(x))),'Assembly':lambda x:x[0]})"
   ]
  },
  {
   "cell_type": "code",
   "execution_count": 26,
   "id": "be4d2f61",
   "metadata": {},
   "outputs": [],
   "source": [
    "all_groups = mate_df_indexed.groupby(by='MateID')\n",
    "all_aggregated = all_groups.agg({'Type':lambda x:'-'.join(sorted(list(x))),'Assembly':lambda x:x[0]})"
   ]
  },
  {
   "cell_type": "code",
   "execution_count": 27,
   "id": "48ee9ced-af3c-4b90-896b-545b52a63246",
   "metadata": {},
   "outputs": [],
   "source": [
    "def mate_counts(aggregated_df, keys):\n",
    "    newkeys = aggregated_df.index.intersection(keys)\n",
    "    type_values = all_aggregated_by_assembly.loc[newkeys, 'Type']\n",
    "    flattened = []\n",
    "    for t in type_values:\n",
    "        for k in t.split('-'):\n",
    "            flattened.append(k)\n",
    "    return type_values.value_counts(), ps.Series(flattened).value_counts()"
   ]
  },
  {
   "cell_type": "code",
   "execution_count": 28,
   "id": "a28223b8-01b1-4993-b593-7c5ad58bc6ac",
   "metadata": {
    "tags": []
   },
   "outputs": [],
   "source": [
    "all_aggregated_by_assembly = all_aggregated.set_index('Assembly')"
   ]
  },
  {
   "cell_type": "code",
   "execution_count": 29,
   "id": "e000040f-ddeb-4de9-85b7-503012d1392c",
   "metadata": {},
   "outputs": [],
   "source": [
    "assemblies_with_multimates = aggregated.set_index('Assembly').index.unique()"
   ]
  },
  {
   "cell_type": "code",
   "execution_count": 30,
   "id": "4126f2d3-a1f0-49e1-8147-8ebafa50f315",
   "metadata": {},
   "outputs": [
    {
     "name": "stdout",
     "output_type": "stream",
     "text": [
      "Moving assemblies with no multimates: 27963 (78.10% of moving assemblies)\n",
      "Moving connected assemblies with no multimates: 20845 (58.22% of moving assemblies)\n"
     ]
    }
   ],
   "source": [
    "index_with_moving_parts_no_multimates = deduped_df_movingparts.index.difference(assemblies_with_multimates)\n",
    "num_with_moving_parts_no_multimates = len(index_with_moving_parts_no_multimates)\n",
    "index_fully_connected_moving_no_multimates = deduped_df_movingparts_connected.index.difference(assemblies_with_multimates)\n",
    "num_fully_connected_moving_no_multimates = len(index_fully_connected_moving_no_multimates)\n",
    "print(f'Moving assemblies with no multimates: %d (%.2f%% of moving assemblies)' % (num_with_moving_parts_no_multimates, num_with_moving_parts_no_multimates/deduped_df_movingparts.shape[0]*100))\n",
    "print(f'Moving connected assemblies with no multimates: %d (%.2f%% of moving assemblies)' % (num_fully_connected_moving_no_multimates, num_fully_connected_moving_no_multimates/deduped_df_movingparts.shape[0]*100))"
   ]
  },
  {
   "cell_type": "code",
   "execution_count": 36,
   "id": "7761df8a-f069-49e1-bd06-66e88f7558cf",
   "metadata": {},
   "outputs": [],
   "source": [
    "with open('fully_connected_moving_no_multimates.txt','w') as f:\n",
    "    for ind in index_fully_connected_moving_no_multimates:\n",
    "        f.write(f'{ind}\\n')"
   ]
  },
  {
   "cell_type": "code",
   "execution_count": 31,
   "id": "367bb0c4-4cc5-40ad-8ce6-99ad0e130bc4",
   "metadata": {},
   "outputs": [],
   "source": [
    "counts_A, counts_A_flattened = mate_counts(all_aggregated_by_assembly, deduped_df_filtered.index)"
   ]
  },
  {
   "cell_type": "code",
   "execution_count": 32,
   "id": "671b31c4-a6e9-4b6e-898e-1f6eca2b9f0f",
   "metadata": {},
   "outputs": [],
   "source": [
    "counts_B, counts_B_flattened = mate_counts(all_aggregated_by_assembly, deduped_df_movingparts.index)"
   ]
  },
  {
   "cell_type": "code",
   "execution_count": 33,
   "id": "8450aa03-8f73-4310-ac64-4bd63e4cf86a",
   "metadata": {},
   "outputs": [],
   "source": [
    "counts_C, counts_C_flattened = mate_counts(all_aggregated_by_assembly, deduped_df_movingparts_connected.index)"
   ]
  },
  {
   "cell_type": "code",
   "execution_count": 34,
   "id": "50f2189b-b307-487e-b80b-5e00b9d091a0",
   "metadata": {},
   "outputs": [],
   "source": [
    "counts_D, counts_D_flattened = mate_counts(all_aggregated_by_assembly, index_with_moving_parts_no_multimates)"
   ]
  },
  {
   "cell_type": "code",
   "execution_count": 35,
   "id": "f15fa785-c4c1-4ed0-802c-9479266e83ed",
   "metadata": {},
   "outputs": [],
   "source": [
    "counts_E, counts_E_flattened = mate_counts(all_aggregated_by_assembly, index_fully_connected_moving_no_multimates)"
   ]
  },
  {
   "cell_type": "code",
   "execution_count": 253,
   "id": "2da8b3fa-6fc8-473b-97f0-246840be1c2e",
   "metadata": {},
   "outputs": [
    {
     "data": {
      "text/plain": [
       "<AxesSubplot:title={'center':'A'}>"
      ]
     },
     "execution_count": 253,
     "metadata": {},
     "output_type": "execute_result"
    },
    {
     "data": {
      "image/png": "[encoded data removed]",
      "text/plain": [
       "<Figure size 432x288 with 1 Axes>"
      ]
     },
     "metadata": {
      "needs_background": "light"
     },
     "output_type": "display_data"
    }
   ],
   "source": [
    "counts_A_flattened.plot.bar(title='A')"
   ]
  },
  {
   "cell_type": "code",
   "execution_count": 254,
   "id": "7a0a86d2-2590-48ac-bfae-6f4c9f45f74e",
   "metadata": {},
   "outputs": [
    {
     "data": {
      "text/plain": [
       "<AxesSubplot:title={'center':'B'}>"
      ]
     },
     "execution_count": 254,
     "metadata": {},
     "output_type": "execute_result"
    },
    {
     "data": {
      "image/png": "[encoded data removed]",
      "text/plain": [
       "<Figure size 432x288 with 1 Axes>"
      ]
     },
     "metadata": {
      "needs_background": "light"
     },
     "output_type": "display_data"
    }
   ],
   "source": [
    "counts_B_flattened.plot.bar(title='B')"
   ]
  },
  {
   "cell_type": "code",
   "execution_count": 255,
   "id": "a311f22c-349c-4eb0-8fd8-82157c5e93eb",
   "metadata": {},
   "outputs": [
    {
     "data": {
      "text/plain": [
       "<AxesSubplot:title={'center':'C'}>"
      ]
     },
     "execution_count": 255,
     "metadata": {},
     "output_type": "execute_result"
    },
    {
     "data": {
      "image/png": "[encoded data removed]",
      "text/plain": [
       "<Figure size 432x288 with 1 Axes>"
      ]
     },
     "metadata": {
      "needs_background": "light"
     },
     "output_type": "display_data"
    }
   ],
   "source": [
    "counts_C_flattened.plot.bar(title='C')"
   ]
  },
  {
   "cell_type": "code",
   "execution_count": 256,
   "id": "fca66953-b69c-4488-895e-0d74f4229f24",
   "metadata": {},
   "outputs": [
    {
     "data": {
      "text/plain": [
       "<AxesSubplot:title={'center':'D'}>"
      ]
     },
     "execution_count": 256,
     "metadata": {},
     "output_type": "execute_result"
    },
    {
     "data": {
      "image/png": "[encoded data removed]",
      "text/plain": [
       "<Figure size 432x288 with 1 Axes>"
      ]
     },
     "metadata": {
      "needs_background": "light"
     },
     "output_type": "display_data"
    }
   ],
   "source": [
    "counts_D_flattened.plot.bar(title='D')"
   ]
  },
  {
   "cell_type": "code",
   "execution_count": 257,
   "id": "b1301352-f448-49da-bb84-ea1e977bf2e3",
   "metadata": {},
   "outputs": [
    {
     "data": {
      "text/plain": [
       "<AxesSubplot:title={'center':'E'}>"
      ]
     },
     "execution_count": 257,
     "metadata": {},
     "output_type": "execute_result"
    },
    {
     "data": {
      "image/png": "[encoded data removed]",
      "text/plain": [
       "<Figure size 432x288 with 1 Axes>"
      ]
     },
     "metadata": {
      "needs_background": "light"
     },
     "output_type": "display_data"
    }
   ],
   "source": [
    "counts_E_flattened.plot.bar(title='E')"
   ]
  },
  {
   "cell_type": "code",
   "execution_count": 28,
   "id": "2007ecde",
   "metadata": {},
   "outputs": [],
   "source": [
    "def numUnique(lst):\n",
    "    s = set()\n",
    "    for l in lst:\n",
    "        s.add(l)\n",
    "    return len(s)"
   ]
  },
  {
   "cell_type": "code",
   "execution_count": 29,
   "id": "623c6ee5",
   "metadata": {},
   "outputs": [],
   "source": [
    "all_mate_counts = all_aggregated.groupby('Type').agg({'Assembly':['count',numUnique]})['Assembly'].rename(columns={'numUnique':'numAssemblies'}).sort_values('count', ascending=False)"
   ]
  },
  {
   "cell_type": "code",
   "execution_count": null,
   "id": "0e5e17b3",
   "metadata": {},
   "outputs": [],
   "source": [
    "all_mate_counts[[len(t.split('-')) == 1 for t in all_mate_counts.index]]"
   ]
  },
  {
   "cell_type": "code",
   "execution_count": null,
   "id": "e5d45487",
   "metadata": {},
   "outputs": [],
   "source": [
    "all_mate_counts[['PARALLEL' in t.split('-') for t in all_mate_counts.index]].to_csv('parallels.csv')"
   ]
  },
  {
   "cell_type": "code",
   "execution_count": 83,
   "id": "64e1cf60",
   "metadata": {},
   "outputs": [],
   "source": [
    "aggregated_dofs = multimate_groups.agg({'Type':lambda x: tuple(prod([mate_dofs.loc[t].to_numpy() for t in x])),'Assembly':lambda x:x[0]})"
   ]
  },
  {
   "cell_type": "code",
   "execution_count": 98,
   "id": "8a540529",
   "metadata": {},
   "outputs": [],
   "source": [
    "aggregated_dofs2 = multimate_groups.agg({'Type':join_subtractive,'Assembly':lambda x:x[0]})"
   ]
  },
  {
   "cell_type": "code",
   "execution_count": 99,
   "id": "d2732165",
   "metadata": {},
   "outputs": [
    {
     "data": {
      "text/html": [
       "<div>\n",
       "<style scoped>\n",
       "    .dataframe tbody tr th:only-of-type {\n",
       "        vertical-align: middle;\n",
       "    }\n",
       "\n",
       "    .dataframe tbody tr th {\n",
       "        vertical-align: top;\n",
       "    }\n",
       "\n",
       "    .dataframe thead th {\n",
       "        text-align: right;\n",
       "    }\n",
       "</style>\n",
       "<table border=\"1\" class=\"dataframe\">\n",
       "  <thead>\n",
       "    <tr style=\"text-align: right;\">\n",
       "      <th></th>\n",
       "      <th>Type</th>\n",
       "      <th>Assembly</th>\n",
       "    </tr>\n",
       "    <tr>\n",
       "      <th>MateID</th>\n",
       "      <th></th>\n",
       "      <th></th>\n",
       "    </tr>\n",
       "  </thead>\n",
       "  <tbody>\n",
       "    <tr>\n",
       "      <th>10-MMb6JZl4ks61uaBwr-MS8WYyXlytoCXG1pZ</th>\n",
       "      <td>(0, 0)</td>\n",
       "      <td>10</td>\n",
       "    </tr>\n",
       "    <tr>\n",
       "      <th>100000-Mq3qURmAJRvJ7SkpJ-Mv2mXrkaVwkPdzJ6s</th>\n",
       "      <td>(1, 0)</td>\n",
       "      <td>100000</td>\n",
       "    </tr>\n",
       "    <tr>\n",
       "      <th>100009-M1Qk600l46srC1L9e-MCKAHW47mIKm/jCuX</th>\n",
       "      <td>(1, 0)</td>\n",
       "      <td>100009</td>\n",
       "    </tr>\n",
       "    <tr>\n",
       "      <th>100016-M8SI7IaWgOJefLadF-MAgQILhjNgXd0pkaS</th>\n",
       "      <td>(0, 0)</td>\n",
       "      <td>100016</td>\n",
       "    </tr>\n",
       "    <tr>\n",
       "      <th>10002-M6+nLPUTeSkfTS+cD-MjYZemYeVhYjQHg3D</th>\n",
       "      <td>(0, 0)</td>\n",
       "      <td>10002</td>\n",
       "    </tr>\n",
       "    <tr>\n",
       "      <th>...</th>\n",
       "      <td>...</td>\n",
       "      <td>...</td>\n",
       "    </tr>\n",
       "    <tr>\n",
       "      <th>99999-MEwYaMSyoEtu00KHO-MLebwGRtTggG9fr7L</th>\n",
       "      <td>(0, 0)</td>\n",
       "      <td>99999</td>\n",
       "    </tr>\n",
       "    <tr>\n",
       "      <th>99999-MMUKcXHqa3zNhRRa0-MbsnSbKBpxq/hQfTr</th>\n",
       "      <td>(0, 0)</td>\n",
       "      <td>99999</td>\n",
       "    </tr>\n",
       "    <tr>\n",
       "      <th>99999-MRwbE7U4t/0IFUKdz-MdvGdYpK+TZjjQ6iF</th>\n",
       "      <td>(0, 0)</td>\n",
       "      <td>99999</td>\n",
       "    </tr>\n",
       "    <tr>\n",
       "      <th>99999-Mb9KFE8vCFfw4ZKYW-MpnEnprEOvb2ct8lu</th>\n",
       "      <td>(0, 0)</td>\n",
       "      <td>99999</td>\n",
       "    </tr>\n",
       "    <tr>\n",
       "      <th>99999-MnoCnmZWsTKa6KVDV-Mwd19HtE7R2AL7vnO</th>\n",
       "      <td>(0, 0)</td>\n",
       "      <td>99999</td>\n",
       "    </tr>\n",
       "  </tbody>\n",
       "</table>\n",
       "<p>120054 rows × 2 columns</p>\n",
       "</div>"
      ],
      "text/plain": [
       "                                              Type  Assembly\n",
       "MateID                                                      \n",
       "10-MMb6JZl4ks61uaBwr-MS8WYyXlytoCXG1pZ      (0, 0)        10\n",
       "100000-Mq3qURmAJRvJ7SkpJ-Mv2mXrkaVwkPdzJ6s  (1, 0)    100000\n",
       "100009-M1Qk600l46srC1L9e-MCKAHW47mIKm/jCuX  (1, 0)    100009\n",
       "100016-M8SI7IaWgOJefLadF-MAgQILhjNgXd0pkaS  (0, 0)    100016\n",
       "10002-M6+nLPUTeSkfTS+cD-MjYZemYeVhYjQHg3D   (0, 0)     10002\n",
       "...                                            ...       ...\n",
       "99999-MEwYaMSyoEtu00KHO-MLebwGRtTggG9fr7L   (0, 0)     99999\n",
       "99999-MMUKcXHqa3zNhRRa0-MbsnSbKBpxq/hQfTr   (0, 0)     99999\n",
       "99999-MRwbE7U4t/0IFUKdz-MdvGdYpK+TZjjQ6iF   (0, 0)     99999\n",
       "99999-Mb9KFE8vCFfw4ZKYW-MpnEnprEOvb2ct8lu   (0, 0)     99999\n",
       "99999-MnoCnmZWsTKa6KVDV-Mwd19HtE7R2AL7vnO   (0, 0)     99999\n",
       "\n",
       "[120054 rows x 2 columns]"
      ]
     },
     "execution_count": 99,
     "metadata": {},
     "output_type": "execute_result"
    }
   ],
   "source": [
    "aggregated_dofs2"
   ]
  },
  {
   "cell_type": "code",
   "execution_count": null,
   "id": "ab7c7869",
   "metadata": {},
   "outputs": [],
   "source": []
  },
  {
   "cell_type": "code",
   "execution_count": 36,
   "id": "8e56545e",
   "metadata": {},
   "outputs": [],
   "source": [
    "multimate_counts = aggregated.groupby('Type').agg({'Assembly':['count',numUnique]})['Assembly'].rename(columns={'numUnique':'numAssemblies'}).sort_values('count', ascending=False)"
   ]
  },
  {
   "cell_type": "code",
   "execution_count": 86,
   "id": "fb62ed5c",
   "metadata": {},
   "outputs": [],
   "source": [
    "dof_counts = aggregated_dofs.groupby('Type').agg({'Assembly':['count',numUnique]})['Assembly'].rename(columns={'numUnique':'numAssemblies'}).sort_values('count', ascending=False)"
   ]
  },
  {
   "cell_type": "code",
   "execution_count": 93,
   "id": "5eee693e",
   "metadata": {},
   "outputs": [
    {
     "data": {
      "text/html": [
       "<div>\n",
       "<style scoped>\n",
       "    .dataframe tbody tr th:only-of-type {\n",
       "        vertical-align: middle;\n",
       "    }\n",
       "\n",
       "    .dataframe tbody tr th {\n",
       "        vertical-align: top;\n",
       "    }\n",
       "\n",
       "    .dataframe thead th {\n",
       "        text-align: right;\n",
       "    }\n",
       "</style>\n",
       "<table border=\"1\" class=\"dataframe\">\n",
       "  <thead>\n",
       "    <tr style=\"text-align: right;\">\n",
       "      <th></th>\n",
       "      <th>count</th>\n",
       "      <th>numAssemblies</th>\n",
       "    </tr>\n",
       "    <tr>\n",
       "      <th>Type</th>\n",
       "      <th></th>\n",
       "      <th></th>\n",
       "    </tr>\n",
       "  </thead>\n",
       "  <tbody>\n",
       "    <tr>\n",
       "      <th>[PLANAR]</th>\n",
       "      <td>59002</td>\n",
       "      <td>10803</td>\n",
       "    </tr>\n",
       "    <tr>\n",
       "      <th>[REVOLUTE]</th>\n",
       "      <td>42518</td>\n",
       "      <td>8370</td>\n",
       "    </tr>\n",
       "    <tr>\n",
       "      <th>[FASTENED]</th>\n",
       "      <td>12856</td>\n",
       "      <td>5281</td>\n",
       "    </tr>\n",
       "    <tr>\n",
       "      <th>[CYLINDRICAL]</th>\n",
       "      <td>2646</td>\n",
       "      <td>1468</td>\n",
       "    </tr>\n",
       "    <tr>\n",
       "      <th>[SLIDER]</th>\n",
       "      <td>1109</td>\n",
       "      <td>778</td>\n",
       "    </tr>\n",
       "    <tr>\n",
       "      <th>[PARALLEL]</th>\n",
       "      <td>1012</td>\n",
       "      <td>663</td>\n",
       "    </tr>\n",
       "    <tr>\n",
       "      <th>[BALL]</th>\n",
       "      <td>489</td>\n",
       "      <td>131</td>\n",
       "    </tr>\n",
       "    <tr>\n",
       "      <th>[PIN_SLOT]</th>\n",
       "      <td>422</td>\n",
       "      <td>249</td>\n",
       "    </tr>\n",
       "  </tbody>\n",
       "</table>\n",
       "</div>"
      ],
      "text/plain": [
       "               count  numAssemblies\n",
       "Type                               \n",
       "[PLANAR]       59002          10803\n",
       "[REVOLUTE]     42518           8370\n",
       "[FASTENED]     12856           5281\n",
       "[CYLINDRICAL]   2646           1468\n",
       "[SLIDER]        1109            778\n",
       "[PARALLEL]      1012            663\n",
       "[BALL]           489            131\n",
       "[PIN_SLOT]       422            249"
      ]
     },
     "execution_count": 93,
     "metadata": {},
     "output_type": "execute_result"
    }
   ],
   "source": [
    "dof_counts['Type'] = [mate_dofs_reverse.loc[t] for t in dof_counts.index]\n",
    "dof_counts = dof_counts.set_index('Type')\n",
    "dof_counts"
   ]
  },
  {
   "cell_type": "code",
   "execution_count": 101,
   "id": "660d1369",
   "metadata": {},
   "outputs": [
    {
     "data": {
      "text/html": [
       "<div>\n",
       "<style scoped>\n",
       "    .dataframe tbody tr th:only-of-type {\n",
       "        vertical-align: middle;\n",
       "    }\n",
       "\n",
       "    .dataframe tbody tr th {\n",
       "        vertical-align: top;\n",
       "    }\n",
       "\n",
       "    .dataframe thead th {\n",
       "        text-align: right;\n",
       "    }\n",
       "</style>\n",
       "<table border=\"1\" class=\"dataframe\">\n",
       "  <thead>\n",
       "    <tr style=\"text-align: right;\">\n",
       "      <th></th>\n",
       "      <th>count</th>\n",
       "      <th>numAssemblies</th>\n",
       "    </tr>\n",
       "    <tr>\n",
       "      <th>Type</th>\n",
       "      <th></th>\n",
       "      <th></th>\n",
       "    </tr>\n",
       "  </thead>\n",
       "  <tbody>\n",
       "    <tr>\n",
       "      <th>(0, 0)</th>\n",
       "      <td>83550</td>\n",
       "      <td>17720</td>\n",
       "    </tr>\n",
       "    <tr>\n",
       "      <th>(1, 0)</th>\n",
       "      <td>30947</td>\n",
       "      <td>7927</td>\n",
       "    </tr>\n",
       "    <tr>\n",
       "      <th>(2, 0)</th>\n",
       "      <td>3541</td>\n",
       "      <td>1198</td>\n",
       "    </tr>\n",
       "    <tr>\n",
       "      <th>(3, 0)</th>\n",
       "      <td>1012</td>\n",
       "      <td>663</td>\n",
       "    </tr>\n",
       "    <tr>\n",
       "      <th>(0, 1)</th>\n",
       "      <td>515</td>\n",
       "      <td>269</td>\n",
       "    </tr>\n",
       "    <tr>\n",
       "      <th>(0, 3)</th>\n",
       "      <td>489</td>\n",
       "      <td>131</td>\n",
       "    </tr>\n",
       "  </tbody>\n",
       "</table>\n",
       "</div>"
      ],
      "text/plain": [
       "        count  numAssemblies\n",
       "Type                        \n",
       "(0, 0)  83550          17720\n",
       "(1, 0)  30947           7927\n",
       "(2, 0)   3541           1198\n",
       "(3, 0)   1012            663\n",
       "(0, 1)    515            269\n",
       "(0, 3)    489            131"
      ]
     },
     "execution_count": 101,
     "metadata": {},
     "output_type": "execute_result"
    }
   ],
   "source": [
    "dof_counts2 = aggregated_dofs2.groupby('Type').agg({'Assembly':['count',numUnique]})['Assembly'].rename(columns={'numUnique':'numAssemblies'}).sort_values('count', ascending=False)\n",
    "#dof_counts2['Type'] = [mate_dofs_reverse.loc[t] for t in dof_counts.index]\n",
    "#dof_counts2 = dof_counts.set_index('Type')\n",
    "dof_counts2"
   ]
  },
  {
   "cell_type": "code",
   "execution_count": 45,
   "id": "4ef52d5b",
   "metadata": {},
   "outputs": [],
   "source": [
    "multimate_counts = multimate_counts[multimate_counts.index != 'FASTENED']"
   ]
  },
  {
   "cell_type": "code",
   "execution_count": 47,
   "id": "8fbba1b1",
   "metadata": {},
   "outputs": [],
   "source": [
    "multimate_counts.to_csv('multimates-nodups.csv')"
   ]
  },
  {
   "cell_type": "code",
   "execution_count": 46,
   "id": "0699fd07",
   "metadata": {},
   "outputs": [
    {
     "name": "stdout",
     "output_type": "stream",
     "text": [
      "PLANAR-PLANAR [28839, 7060]\n",
      "CYLINDRICAL-PLANAR [27654, 5485]\n",
      "PLANAR-PLANAR-PLANAR [25096, 6521]\n",
      "CYLINDRICAL-CYLINDRICAL-PLANAR [4707, 1378]\n",
      "PLANAR-SLIDER [3897, 1488]\n",
      "PARALLEL-PLANAR [3298, 1107]\n",
      "REVOLUTE-REVOLUTE [2684, 927]\n",
      "PLANAR-REVOLUTE [2166, 591]\n",
      "CYLINDRICAL-CYLINDRICAL [1649, 903]\n",
      "CYLINDRICAL-PARALLEL-PLANAR [1522, 565]\n",
      "CYLINDRICAL-PLANAR-PLANAR [1199, 494]\n",
      "CYLINDRICAL-PARALLEL [885, 552]\n",
      "PARALLEL-PARALLEL [823, 574]\n",
      "PARALLEL-PLANAR-PLANAR [760, 368]\n",
      "PARALLEL-REVOLUTE [707, 413]\n",
      "CYLINDRICAL-REVOLUTE [667, 381]\n",
      "BALL-BALL [486, 129]\n",
      "SLIDER-SLIDER [485, 339]\n",
      "BALL-CYLINDRICAL [334, 138]\n",
      "PLANAR-PLANAR-PLANAR-PLANAR [315, 216]\n",
      "PARALLEL-SLIDER [272, 226]\n",
      "CYLINDRICAL-SLIDER [264, 179]\n",
      "PARALLEL-PARALLEL-PLANAR [210, 131]\n",
      "PLANAR-SLIDER-SLIDER [177, 115]\n",
      "PLANAR-PLANAR-SLIDER [172, 99]\n",
      "PARALLEL-PARALLEL-PARALLEL-PLANAR-PLANAR-PLANAR [163, 14]\n",
      "PARALLEL-PARALLEL-PARALLEL [158, 116]\n",
      "REVOLUTE-SLIDER [143, 106]\n",
      "PIN_SLOT-PLANAR [139, 62]\n",
      "PARALLEL-PLANAR-PLANAR-PLANAR [136, 121]\n",
      "PIN_SLOT-PIN_SLOT [131, 109]\n",
      "CYLINDRICAL-PIN_SLOT [114, 65]\n",
      "PLANAR-PLANAR-REVOLUTE [100, 40]\n",
      "BALL-PARALLEL [96, 71]\n",
      "PLANAR-REVOLUTE-REVOLUTE [78, 63]\n",
      "PARALLEL-PLANAR-SLIDER [73, 59]\n",
      "CYLINDRICAL-CYLINDRICAL-CYLINDRICAL-PLANAR [68, 53]\n",
      "BALL-PLANAR [65, 48]\n",
      "PARALLEL-PIN_SLOT [61, 48]\n",
      "PARALLEL-PARALLEL-PLANAR-PLANAR [54, 43]\n",
      "BALL-PLANAR-PLANAR [49, 38]\n",
      "CYLINDRICAL-CYLINDRICAL-PARALLEL [41, 33]\n",
      "PARALLEL-PARALLEL-PLANAR-PLANAR-PLANAR [40, 29]\n",
      "PLANAR-PLANAR-PLANAR-PLANAR-PLANAR [39, 32]\n",
      "CYLINDRICAL-PLANAR-SLIDER [38, 31]\n",
      "CYLINDRICAL-PARALLEL-PARALLEL [38, 33]\n",
      "PIN_SLOT-REVOLUTE [32, 28]\n",
      "PIN_SLOT-PLANAR-PLANAR [32, 17]\n",
      "PARALLEL-PLANAR-REVOLUTE [30, 17]\n",
      "PARALLEL-SLIDER-SLIDER [29, 13]\n",
      "PARALLEL-PIN_SLOT-PLANAR [26, 19]\n",
      "CYLINDRICAL-CYLINDRICAL-PLANAR-PLANAR [25, 23]\n",
      "PARALLEL-PARALLEL-PARALLEL-PARALLEL [24, 21]\n",
      "PARALLEL-PARALLEL-PARALLEL-PLANAR [23, 13]\n",
      "CYLINDRICAL-PARALLEL-PARALLEL-PLANAR [22, 22]\n",
      "PARALLEL-PARALLEL-REVOLUTE [21, 17]\n",
      "PIN_SLOT-SLIDER [19, 15]\n",
      "PARALLEL-PARALLEL-SLIDER [17, 17]\n",
      "CYLINDRICAL-CYLINDRICAL-CYLINDRICAL [17, 16]\n",
      "CYLINDRICAL-CYLINDRICAL-PARALLEL-PLANAR [17, 10]\n",
      "BALL-SLIDER [15, 11]\n",
      "CYLINDRICAL-PARALLEL-PARALLEL-PARALLEL-PLANAR [11, 3]\n",
      "REVOLUTE-REVOLUTE-REVOLUTE [11, 7]\n",
      "PIN_SLOT-PIN_SLOT-PLANAR [11, 8]\n",
      "CYLINDRICAL-PLANAR-REVOLUTE [11, 11]\n",
      "PARALLEL-PARALLEL-PARALLEL-PARALLEL-PLANAR [10, 4]\n",
      "CYLINDRICAL-PLANAR-PLANAR-PLANAR [10, 10]\n",
      "BALL-REVOLUTE [10, 10]\n",
      "CYLINDRICAL-PARALLEL-SLIDER [10, 5]\n",
      "CYLINDRICAL-PARALLEL-PLANAR-PLANAR [10, 10]\n",
      "PARALLEL-PARALLEL-PIN_SLOT-PLANAR [9, 5]\n",
      "SLIDER-SLIDER-SLIDER [9, 8]\n",
      "CYLINDRICAL-PIN_SLOT-PLANAR [9, 9]\n",
      "PLANAR-PLANAR-PLANAR-SLIDER [9, 7]\n",
      "CYLINDRICAL-CYLINDRICAL-REVOLUTE [9, 9]\n",
      "PARALLEL-PARALLEL-PLANAR-SLIDER [7, 7]\n",
      "BALL-PARALLEL-PLANAR [7, 5]\n",
      "PLANAR-PLANAR-PLANAR-PLANAR-PLANAR-PLANAR [7, 5]\n",
      "PARALLEL-PARALLEL-PIN_SLOT [6, 5]\n",
      "CYLINDRICAL-REVOLUTE-SLIDER [6, 4]\n",
      "BALL-PARALLEL-PARALLEL [6, 5]\n",
      "BALL-BALL-PLANAR [5, 3]\n",
      "PARALLEL-REVOLUTE-REVOLUTE [5, 4]\n",
      "CYLINDRICAL-CYLINDRICAL-CYLINDRICAL-CYLINDRICAL [5, 5]\n",
      "CYLINDRICAL-CYLINDRICAL-SLIDER [5, 5]\n",
      "PARALLEL-PARALLEL-PARALLEL-PARALLEL-PARALLEL [4, 4]\n",
      "PARALLEL-PLANAR-SLIDER-SLIDER [4, 4]\n",
      "BALL-CYLINDRICAL-PLANAR [4, 3]\n",
      "PARALLEL-PARALLEL-PARALLEL-PLANAR-PLANAR [4, 4]\n",
      "CYLINDRICAL-CYLINDRICAL-PARALLEL-PARALLEL [4, 4]\n",
      "CYLINDRICAL-REVOLUTE-REVOLUTE [4, 4]\n",
      "PARALLEL-PARALLEL-PARALLEL-SLIDER [4, 4]\n",
      "PIN_SLOT-PLANAR-REVOLUTE [4, 4]\n",
      "CYLINDRICAL-CYLINDRICAL-PIN_SLOT [4, 3]\n",
      "BALL-PIN_SLOT [4, 3]\n",
      "PARALLEL-PLANAR-PLANAR-PLANAR-PLANAR [3, 3]\n",
      "PLANAR-REVOLUTE-SLIDER [3, 3]\n",
      "PIN_SLOT-PIN_SLOT-PIN_SLOT [3, 3]\n",
      "SLIDER-SLIDER-SLIDER-SLIDER [3, 2]\n",
      "CYLINDRICAL-CYLINDRICAL-PLANAR-PLANAR-PLANAR [3, 3]\n",
      "CYLINDRICAL-SLIDER-SLIDER [3, 3]\n",
      "CYLINDRICAL-PARALLEL-PARALLEL-PARALLEL-PARALLEL-PARALLEL [3, 3]\n",
      "BALL-BALL-BALL [3, 3]\n",
      "CYLINDRICAL-PARALLEL-REVOLUTE [3, 3]\n",
      "PARALLEL-PARALLEL-PARALLEL-PARALLEL-PARALLEL-PARALLEL-PARALLEL-PARALLEL [2, 1]\n",
      "CYLINDRICAL-CYLINDRICAL-CYLINDRICAL-CYLINDRICAL-PLANAR [2, 2]\n",
      "CYLINDRICAL-PARALLEL-PARALLEL-PARALLEL [2, 2]\n",
      "CYLINDRICAL-PIN_SLOT-PLANAR-PLANAR [2, 2]\n",
      "PLANAR-PLANAR-PLANAR-PLANAR-PLANAR-PLANAR-PLANAR-PLANAR [2, 1]\n",
      "CYLINDRICAL-CYLINDRICAL-PARALLEL-SLIDER [2, 2]\n",
      "BALL-PLANAR-REVOLUTE [2, 1]\n",
      "PLANAR-PLANAR-SLIDER-SLIDER [2, 2]\n",
      "CYLINDRICAL-CYLINDRICAL-PLANAR-SLIDER [2, 2]\n",
      "PARALLEL-PLANAR-REVOLUTE-REVOLUTE [2, 2]\n",
      "BALL-PARALLEL-SLIDER [2, 1]\n",
      "PARALLEL-PLANAR-PLANAR-REVOLUTE [2, 1]\n",
      "PARALLEL-PARALLEL-PARALLEL-REVOLUTE [2, 2]\n",
      "PLANAR-SLIDER-SLIDER-SLIDER-SLIDER [2, 2]\n",
      "PARALLEL-PARALLEL-SLIDER-SLIDER [2, 2]\n",
      "CYLINDRICAL-PARALLEL-PIN_SLOT [2, 1]\n",
      "PARALLEL-PIN_SLOT-PIN_SLOT [2, 2]\n",
      "REVOLUTE-SLIDER-SLIDER [2, 2]\n",
      "BALL-PARALLEL-PIN_SLOT-SLIDER [1, 1]\n",
      "CYLINDRICAL-PIN_SLOT-SLIDER [1, 1]\n",
      "CYLINDRICAL-PARALLEL-PARALLEL-REVOLUTE [1, 1]\n",
      "PLANAR-PLANAR-PLANAR-PLANAR-SLIDER-SLIDER [1, 1]\n",
      "PLANAR-PLANAR-PLANAR-REVOLUTE-REVOLUTE [1, 1]\n",
      "CYLINDRICAL-PIN_SLOT-PIN_SLOT [1, 1]\n",
      "BALL-PARALLEL-PARALLEL-PARALLEL-PLANAR [1, 1]\n",
      "BALL-BALL-PARALLEL [1, 1]\n",
      "BALL-CYLINDRICAL-PIN_SLOT [1, 1]\n",
      "CYLINDRICAL-PARALLEL-PARALLEL-SLIDER [1, 1]\n",
      "REVOLUTE-REVOLUTE-SLIDER [1, 1]\n",
      "BALL-CYLINDRICAL-REVOLUTE [1, 1]\n",
      "BALL-CYLINDRICAL-PARALLEL [1, 1]\n",
      "BALL-PARALLEL-REVOLUTE [1, 1]\n",
      "PLANAR-REVOLUTE-SLIDER-SLIDER [1, 1]\n",
      "CYLINDRICAL-PARALLEL-PARALLEL-PARALLEL-PARALLEL-PARALLEL-PARALLEL [1, 1]\n",
      "PARALLEL-PARALLEL-PLANAR-PLANAR-PLANAR-PLANAR [1, 1]\n",
      "CYLINDRICAL-CYLINDRICAL-REVOLUTE-SLIDER [1, 1]\n",
      "PIN_SLOT-SLIDER-SLIDER [1, 1]\n",
      "CYLINDRICAL-CYLINDRICAL-SLIDER-SLIDER [1, 1]\n",
      "PARALLEL-PARALLEL-PARALLEL-PLANAR-REVOLUTE [1, 1]\n",
      "PARALLEL-PIN_SLOT-PIN_SLOT-PIN_SLOT-PLANAR-SLIDER [1, 1]\n",
      "CYLINDRICAL-CYLINDRICAL-CYLINDRICAL-SLIDER [1, 1]\n",
      "PARALLEL-PARALLEL-PARALLEL-PARALLEL-PLANAR-PLANAR [1, 1]\n",
      "CYLINDRICAL-CYLINDRICAL-CYLINDRICAL-PLANAR-PLANAR-PLANAR-PLANAR [1, 1]\n",
      "CYLINDRICAL-CYLINDRICAL-CYLINDRICAL-PLANAR-PLANAR-PLANAR [1, 1]\n",
      "CYLINDRICAL-CYLINDRICAL-CYLINDRICAL-CYLINDRICAL-REVOLUTE [1, 1]\n",
      "PARALLEL-PARALLEL-PARALLEL-PARALLEL-PARALLEL-PARALLEL-PLANAR-PLANAR-PLANAR [1, 1]\n",
      "CYLINDRICAL-CYLINDRICAL-CYLINDRICAL-CYLINDRICAL-PARALLEL-PLANAR-PLANAR [1, 1]\n",
      "PARALLEL-PARALLEL-PARALLEL-PARALLEL-PARALLEL-PARALLEL-PARALLEL-PARALLEL-PARALLEL [1, 1]\n",
      "CYLINDRICAL-CYLINDRICAL-CYLINDRICAL-CYLINDRICAL-CYLINDRICAL-PARALLEL [1, 1]\n",
      "PARALLEL-REVOLUTE-SLIDER [1, 1]\n",
      "CYLINDRICAL-CYLINDRICAL-PLANAR-SLIDER-SLIDER [1, 1]\n",
      "CYLINDRICAL-SLIDER-SLIDER-SLIDER [1, 1]\n",
      "PIN_SLOT-PIN_SLOT-PIN_SLOT-PIN_SLOT-PIN_SLOT-PIN_SLOT [1, 1]\n",
      "CYLINDRICAL-CYLINDRICAL-REVOLUTE-REVOLUTE [1, 1]\n",
      "PIN_SLOT-PLANAR-PLANAR-PLANAR [1, 1]\n",
      "PIN_SLOT-PLANAR-PLANAR-REVOLUTE [1, 1]\n",
      "PIN_SLOT-PLANAR-SLIDER [1, 1]\n",
      "BALL-PLANAR-PLANAR-PLANAR [1, 1]\n",
      "PIN_SLOT-REVOLUTE-SLIDER [1, 1]\n",
      "PARALLEL-PIN_SLOT-SLIDER [1, 1]\n"
     ]
    }
   ],
   "source": [
    "for index in multimate_counts.index:\n",
    "    print(index,list(multimate_counts.loc[index]))"
   ]
  },
  {
   "cell_type": "code",
   "execution_count": 57,
   "id": "71e824ea",
   "metadata": {},
   "outputs": [],
   "source": [
    "assemblies_with_multimates = set(aggregated['Assembly'])"
   ]
  },
  {
   "cell_type": "code",
   "execution_count": 61,
   "id": "0bc68b1f",
   "metadata": {},
   "outputs": [
    {
     "data": {
      "text/plain": [
       "0.18878114536678697"
      ]
     },
     "execution_count": 61,
     "metadata": {},
     "output_type": "execute_result"
    }
   ],
   "source": [
    "len(assemblies_with_multimates)/assembly_df.shape[0]"
   ]
  },
  {
   "cell_type": "code",
   "execution_count": 51,
   "id": "de224165",
   "metadata": {},
   "outputs": [
    {
     "data": {
      "text/plain": [
       "0.9152181983867157"
      ]
     },
     "execution_count": 51,
     "metadata": {},
     "output_type": "execute_result"
    }
   ],
   "source": [
    "1-multimate_counts['numAssemblies'][20:].sum() / multimate_counts['numAssemblies'][:20].sum()"
   ]
  },
  {
   "cell_type": "code",
   "execution_count": 32,
   "id": "cf664859",
   "metadata": {},
   "outputs": [
    {
     "ename": "NameError",
     "evalue": "name 'multimate_counts' is not defined",
     "output_type": "error",
     "traceback": [
      "\u001b[0;31m---------------------------------------------------------------------------\u001b[0m",
      "\u001b[0;31mNameError\u001b[0m                                 Traceback (most recent call last)",
      "\u001b[0;32m/tmp/ipykernel_63181/700794390.py\u001b[0m in \u001b[0;36m<module>\u001b[0;34m\u001b[0m\n\u001b[0;32m----> 1\u001b[0;31m \u001b[0;36m1\u001b[0m\u001b[0;34m-\u001b[0m\u001b[0mmultimate_counts\u001b[0m\u001b[0;34m[\u001b[0m\u001b[0;34m'count'\u001b[0m\u001b[0;34m]\u001b[0m\u001b[0;34m[\u001b[0m\u001b[0;36m20\u001b[0m\u001b[0;34m:\u001b[0m\u001b[0;34m]\u001b[0m\u001b[0;34m.\u001b[0m\u001b[0msum\u001b[0m\u001b[0;34m(\u001b[0m\u001b[0;34m)\u001b[0m \u001b[0;34m/\u001b[0m \u001b[0mmultimate_counts\u001b[0m\u001b[0;34m[\u001b[0m\u001b[0;34m'count'\u001b[0m\u001b[0;34m]\u001b[0m\u001b[0;34m[\u001b[0m\u001b[0;34m:\u001b[0m\u001b[0;36m20\u001b[0m\u001b[0;34m]\u001b[0m\u001b[0;34m.\u001b[0m\u001b[0msum\u001b[0m\u001b[0;34m(\u001b[0m\u001b[0;34m)\u001b[0m\u001b[0;34m\u001b[0m\u001b[0;34m\u001b[0m\u001b[0m\n\u001b[0m",
      "\u001b[0;31mNameError\u001b[0m: name 'multimate_counts' is not defined"
     ]
    }
   ],
   "source": [
    "1-multimate_counts['count'][20:].sum() / multimate_counts['count'][:20].sum()"
   ]
  },
  {
   "cell_type": "markdown",
   "id": "9354566e-4945-40d8-bcaa-b759df168f6a",
   "metadata": {},
   "source": [
    "# Heuristics"
   ]
  },
  {
   "cell_type": "code",
   "execution_count": 101,
   "id": "5074ca2e-c8cc-476c-bdf5-4b227ebda5ea",
   "metadata": {},
   "outputs": [],
   "source": [
    "stats_path = '/fast/jamesn8/assembly_data/mate_torch_stats/'\n",
    "stats_df = ps.concat([ps.read_parquet(os.path.join(stats_path, fname)) for fname in os.listdir(stats_path) if fname.startswith('stats') and fname.endswith('.parquet')], axis=0)\n",
    "mate_stats_df = ps.concat([ps.read_parquet(os.path.join(stats_path, fname)) for fname in os.listdir(stats_path) if fname.startswith('mate') and fname.endswith('.parquet')], axis=0)"
   ]
  },
  {
   "cell_type": "code",
   "execution_count": 102,
   "id": "d9c38666-5dc4-4b8c-922d-c1341fd3d885",
   "metadata": {},
   "outputs": [
    {
     "name": "stderr",
     "output_type": "stream",
     "text": [
      "/tmp/ipykernel_1761636/3224859321.py:2: SettingWithCopyWarning: \n",
      "A value is trying to be set on a copy of a slice from a DataFrame.\n",
      "Try using .loc[row_indexer,col_indexer] = value instead\n",
      "\n",
      "See the caveats in the documentation: https://pandas.pydata.org/pandas-docs/stable/user_guide/indexing.html#returning-a-view-versus-a-copy\n",
      "  recorded_mates['total_extra_matches'] = recorded_mates['extra_matches_frame_0'] + recorded_mates['extra_matches_frame_1']\n"
     ]
    }
   ],
   "source": [
    "recorded_mates = mate_stats_df[lambda df: ~df['mc_pair_found'].isnull()]\n",
    "recorded_mates['total_extra_matches'] = recorded_mates['extra_matches_frame_0'] + recorded_mates['extra_matches_frame_1']"
   ]
  },
  {
   "cell_type": "code",
   "execution_count": 111,
   "id": "1a260244-9f23-4d5c-acd4-5c58bd519fb7",
   "metadata": {},
   "outputs": [],
   "source": [
    "recorded_assemblies = stats_df[lambda df: ~df['missed_mc_pairs'].isnull()]"
   ]
  },
  {
   "cell_type": "code",
   "execution_count": 103,
   "id": "f8a3102f-b575-4bd0-a15a-508208fa1c0f",
   "metadata": {},
   "outputs": [
    {
     "data": {
      "text/plain": [
       "Index(['invalid_frame_0', 'invalid_frame_0_coincident_origins',\n",
       "       'invalid_frame_0_permuted_z', 'matches_frame_0',\n",
       "       'extra_matches_frame_0', 'invalid_frame_1',\n",
       "       'invalid_frame_1_coincident_origins', 'invalid_frame_1_permuted_z',\n",
       "       'matches_frame_1', 'extra_matches_frame_1', 'type',\n",
       "       'truncated_mc_pairs', 'part_pair_found', 'mc_pair_found'],\n",
       "      dtype='object')"
      ]
     },
     "execution_count": 103,
     "metadata": {},
     "output_type": "execute_result"
    }
   ],
   "source": [
    "mate_stats_df.keys()"
   ]
  },
  {
   "cell_type": "code",
   "execution_count": 104,
   "id": "8691b6d7-5c1b-4a27-8006-84baaf8d7250",
   "metadata": {},
   "outputs": [
    {
     "data": {
      "text/plain": [
       "Index(['total_mates', 'total_parts', 'maxdim', 'total_mcs', 'invalid_frames',\n",
       "       'invalid_mates', 'invalid_coincident_origins', 'invalid_permuted_z',\n",
       "       'false_part_pairs', 'missed_part_pairs', 'missed_mc_pairs',\n",
       "       'num_invalid_transformed_parts', 'num_proposals', 'proposal_time'],\n",
       "      dtype='object')"
      ]
     },
     "execution_count": 104,
     "metadata": {},
     "output_type": "execute_result"
    }
   ],
   "source": [
    "stats_df.keys()"
   ]
  },
  {
   "cell_type": "code",
   "execution_count": 105,
   "id": "dc1182a4-6bed-4bb6-b8f6-18e2eea8ae95",
   "metadata": {},
   "outputs": [
    {
     "name": "stdout",
     "output_type": "stream",
     "text": [
      "types of mates with invalid frames:\n"
     ]
    },
    {
     "data": {
      "text/plain": [
       "<AxesSubplot:>"
      ]
     },
     "execution_count": 105,
     "metadata": {},
     "output_type": "execute_result"
    },
    {
     "data": {
      "image/png": "[encoded data removed]",
      "text/plain": [
       "<Figure size 432x288 with 1 Axes>"
      ]
     },
     "metadata": {
      "needs_background": "light"
     },
     "output_type": "display_data"
    }
   ],
   "source": [
    "print('types of mates with invalid frames:')\n",
    "invalid_frames['type'].hist()"
   ]
  },
  {
   "cell_type": "code",
   "execution_count": 128,
   "id": "01f77804-0e4e-4eff-9343-acaf10025213",
   "metadata": {},
   "outputs": [
    {
     "name": "stdout",
     "output_type": "stream",
     "text": [
      "fraction of mates with an unmatched mate frame:0.1454008183058039\n",
      "fraction of assemblies with unmatched mate frames:0.25062531265632815\n",
      "fraction of mated connector pairs missed by heuristics: 0.05213831735430357\n",
      "fraction of mated part pairs completely missed by heuristics: 0.05063018420769148\n",
      "average fraction of mates that are missed by heuristics per assembly: 0.09275763664751584\n",
      "rate of assemblies with at least one mate missed by heuristics: 0.1307519640852974\n",
      "fraction of mates with more than 100000 mated pairs found by heuristics: 0.003106531292620094\n",
      "average number of connector pair proposals per assembly: 54196.80808080808\n"
     ]
    }
   ],
   "source": [
    "invalid_frames = mate_stats_df[lambda df: df['invalid_frame_0'] | df['invalid_frame_1']]\n",
    "assemblies_with_invalid_frames = stats_df[lambda df: df['invalid_mates'] > 0]\n",
    "print(f'fraction of mates with an unmatched mate frame:{invalid_frames.shape[0]/mate_stats_df.shape[0]}')\n",
    "print(f'fraction of assemblies with unmatched mate frames:{assemblies_with_invalid_frames.shape[0]/stats_df.shape[0]}')\n",
    "#invalid_frames_with_coincident_origins = invalid_frames[lambda df: df['invalid_frame_0_coincident_origins'] | df['invalid_frame_1_coincident_origins']]\n",
    "#invalid_frames_with_coincident_origins[lambda df: df['invalid_frame_0_permuted_z'] | df['invalid_frame_1_permuted_z']].shape[0]/invalid_frames_with_coincident_origins.shape[0]\n",
    "#invalid_frames_with_coincident_origins.shape[0]/invalid_frames.shape[0]\n",
    "missed_mates = recorded_mates[lambda df: ~df['mc_pair_found'].astype(bool)]\n",
    "missed_part_pairs = recorded_mates[lambda df: ~df['part_pair_found'].astype(bool)]\n",
    "print(f'fraction of mated connector pairs missed by heuristics: {missed_mates.shape[0]/recorded_mates.shape[0]}')\n",
    "print(f'fraction of mated part pairs completely missed by heuristics: {missed_part_pairs.shape[0]/recorded_mates.shape[0]}')\n",
    "print(f'average fraction of mates that are missed by heuristics per assembly: {(recorded_assemblies[\"missed_mc_pairs\"]/recorded_assemblies[\"total_mates\"]).mean()}')\n",
    "print(f'rate of assemblies with at least one mate missed by heuristics: {recorded_assemblies[lambda df: df[\"missed_mc_pairs\"] > 0].shape[0]/recorded_assemblies.shape[0]}')\n",
    "print(f'fraction of mates with more than 100000 mated pairs found by heuristics: {mate_stats_df[\"truncated_mc_pairs\"].sum()/mate_stats_df.shape[0]}')\n",
    "print(f'average number of connector pair proposals per assembly: {recorded_assemblies[\"num_proposals\"].mean()}')"
   ]
  },
  {
   "cell_type": "code",
   "execution_count": 135,
   "id": "d9abcbf1-8eae-47ba-b914-7796393c95ca",
   "metadata": {},
   "outputs": [
    {
     "data": {
      "text/plain": [
       "<AxesSubplot:title={'center':'Heuristic precision per mate type'}, xlabel='type'>"
      ]
     },
     "execution_count": 135,
     "metadata": {},
     "output_type": "execute_result"
    },
    {
     "data": {
      "image/png": "[encoded data removed]",
      "text/plain": [
       "<Figure size 432x288 with 1 Axes>"
      ]
     },
     "metadata": {
      "needs_background": "light"
     },
     "output_type": "display_data"
    }
   ],
   "source": [
    "per_type_stats = recorded_mates.groupby('type').agg({'mc_pair_found': sum, 'type': 'count'})\n",
    "(per_type_stats['mc_pair_found']/per_type_stats['type']).plot.bar(title='Heuristic precision per mate type')"
   ]
  },
  {
   "cell_type": "code",
   "execution_count": 136,
   "id": "faa6e015-a72c-4de0-9a50-644e39ae98b1",
   "metadata": {},
   "outputs": [
    {
     "name": "stderr",
     "output_type": "stream",
     "text": [
      "/tmp/ipykernel_1761636/1597843885.py:1: SettingWithCopyWarning: \n",
      "A value is trying to be set on a copy of a slice from a DataFrame.\n",
      "Try using .loc[row_indexer,col_indexer] = value instead\n",
      "\n",
      "See the caveats in the documentation: https://pandas.pydata.org/pandas-docs/stable/user_guide/indexing.html#returning-a-view-versus-a-copy\n",
      "  recorded_mates['valid'] = ~(recorded_mates['invalid_frame_0'] | recorded_mates['invalid_frame_1'])\n"
     ]
    },
    {
     "data": {
      "text/plain": [
       "<AxesSubplot:title={'center':'Percent of mates correspond to any connectors per mate type'}, xlabel='type'>"
      ]
     },
     "execution_count": 136,
     "metadata": {},
     "output_type": "execute_result"
    },
    {
     "data": {
      "image/png": "[encoded data removed]",
      "text/plain": [
       "<Figure size 432x288 with 1 Axes>"
      ]
     },
     "metadata": {
      "needs_background": "light"
     },
     "output_type": "display_data"
    }
   ],
   "source": [
    "recorded_mates['valid'] = ~(recorded_mates['invalid_frame_0'] | recorded_mates['invalid_frame_1'])\n",
    "per_type_stats = recorded_mates.groupby('type').agg({'valid': sum, 'type': 'count'})\n",
    "(per_type_stats['valid']/per_type_stats['type']).plot.bar(title='Percent of mates correspond to any connectors per mate type')"
   ]
  },
  {
   "cell_type": "code",
   "execution_count": 107,
   "id": "56767f42-0972-4353-a09b-df06c50431ab",
   "metadata": {},
   "outputs": [
    {
     "data": {
      "text/plain": [
       "<AxesSubplot:title={'center':'Number of extra MC pair matches per mate type'}, xlabel='type'>"
      ]
     },
     "execution_count": 107,
     "metadata": {},
     "output_type": "execute_result"
    },
    {
     "data": {
      "image/png": "[encoded data removed]",
      "text/plain": [
       "<Figure size 432x288 with 1 Axes>"
      ]
     },
     "metadata": {
      "needs_background": "light"
     },
     "output_type": "display_data"
    }
   ],
   "source": [
    "recorded_mates.groupby('type')['total_extra_matches'].agg(np.mean).plot.bar(title='Number of extra MC pair matches per mate type')"
   ]
  },
  {
   "cell_type": "code",
   "execution_count": 90,
   "id": "72369d84-6066-4724-9b9a-95abc85549a4",
   "metadata": {},
   "outputs": [
    {
     "name": "stdout",
     "output_type": "stream",
     "text": [
      "number of mates missed by heuristics, by type\n"
     ]
    },
    {
     "data": {
      "text/plain": [
       "<AxesSubplot:>"
      ]
     },
     "execution_count": 90,
     "metadata": {},
     "output_type": "execute_result"
    },
    {
     "data": {
      "image/png": "[encoded data removed]",
      "text/plain": [
       "<Figure size 432x288 with 1 Axes>"
      ]
     },
     "metadata": {
      "needs_background": "light"
     },
     "output_type": "display_data"
    }
   ],
   "source": [
    "print('number of mates missed by heuristics, by type')\n",
    "missed_mates['type'].hist()"
   ]
  },
  {
   "cell_type": "markdown",
   "id": "3167e2cf",
   "metadata": {},
   "source": [
    "# Legacy statistics"
   ]
  },
  {
   "cell_type": "code",
   "execution_count": null,
   "id": "db3ff6fa",
   "metadata": {},
   "outputs": [],
   "source": [
    "skipped = 0\n",
    "\n",
    "#number of assemblies with lone pieces\n",
    "\n",
    "c_num_lone_pieces = []\n",
    "\n",
    "#number of assemblies with disconnected components\n",
    "\n",
    "c_num_components = []\n",
    "\n",
    "#number of parts in fully connected assemblies\n",
    "\n",
    "c_num_parts_connected = []\n",
    "\n",
    "#number of rigid components in fully connected assemblies\n",
    "\n",
    "c_num_rigid_connected = []\n",
    "\n",
    "#same, but without the condition?\n",
    "\n",
    "c_num_parts = []\n",
    "\n",
    "c_num_rigid = []\n",
    "\n",
    "#for data in datalist:\n",
    "for j,entry in enumerate(os.scandir(os.path.join(datapath,'data','flattened_assemblies'))):\n",
    "    if j % 1000 == 0:\n",
    "        print(j)\n",
    "    if not entry.name.endswith('.json') or entry.name in filter_set:\n",
    "        continue\n",
    "    try:\n",
    "        #occs, mates = loader.load(data[0], data[1], data[2], geometry=False)\n",
    "        occs, mates = loader.load_flattened(entry.path, geometry=False)\n",
    "    except KeyError as e:\n",
    "        #print(e)\n",
    "        skipped += 1\n",
    "        continue\n",
    "    except FileNotFoundError as e:\n",
    "        #print(e)\n",
    "        skipped += 1\n",
    "        continue\n",
    "    #print(occs, mates)\n",
    "    adj = adjacency_matrix(occs, mates)\n",
    "    num_connections = np.sum(adj, 0)\n",
    "    num_lone = len([c for c in num_connections if c == 0])\n",
    "    c_num_lone_pieces.append(num_lone)\n",
    "    \n",
    "    num_components = connected_components(adj)\n",
    "    num_rigid = connected_components(adj, connectionType='fasten')\n",
    "    c_num_components.append(num_components)\n",
    "    \n",
    "    c_num_rigid.append(num_rigid)\n",
    "    c_num_parts.append(adj.shape[0])\n",
    "    if num_components == 1:\n",
    "        c_num_parts_connected.append(adj.shape[0])\n",
    "        c_num_rigid_connected.append(num_rigid)\n",
    "\n",
    "    \n",
    "    \n",
    "print('skipped',skipped)"
   ]
  },
  {
   "cell_type": "code",
   "execution_count": null,
   "id": "a7b174b8",
   "metadata": {},
   "outputs": [],
   "source": [
    "num_with_lone_pieces = len([c for c in c_num_lone_pieces if c > 0])\n",
    "num_fully_connected = len([c for c in c_num_components if c == 1])\n",
    "num_processed = len(c_num_parts)\n",
    "print('number of assemblies processed: %d'%num_processed)\n",
    "print('assemblies with lone pieces: %d (%.2f%%)'%(num_with_lone_pieces, num_with_lone_pieces/num_processed*100))\n",
    "print('assemblies fully connected: %d (%.2f%%)'%(num_fully_connected, num_fully_connected/num_processed*100))\n",
    "nbins = 40\n",
    "plt.hist(c_num_parts, nbins, range=(0, nbins+1))\n",
    "plt.title('num parts')\n",
    "plt.show()\n",
    "plt.hist(c_num_rigid, nbins, range=(0,nbins+1))\n",
    "plt.title('num rigid components')\n",
    "plt.show()\n",
    "plt.hist(c_num_parts_connected, nbins, range=(0, nbins+1))\n",
    "plt.title('num parts in connected models')\n",
    "plt.show()\n",
    "plt.hist(c_num_rigid_connected, nbins, range=(0, nbins+1))\n",
    "plt.title('num rigid components in connected models')\n",
    "plt.show()\n",
    "plt.hist(c_num_lone_pieces, nbins, range=(0, nbins+1))\n",
    "plt.title('num lone pieces')\n",
    "plt.show()\n",
    "plt.hist(c_num_components, nbins, range=(0, nbins+1))\n",
    "plt.title('num connected components')\n",
    "plt.show()\n"
   ]
  },
  {
   "cell_type": "code",
   "execution_count": null,
   "id": "73abe22c",
   "metadata": {},
   "outputs": [],
   "source": [
    "len([c for c in c_num_rigid_connected if c >= 2])"
   ]
  },
  {
   "cell_type": "code",
   "execution_count": null,
   "id": "38611e58",
   "metadata": {},
   "outputs": [],
   "source": [
    "len([c for c in c_num_parts_connected if c == 2])"
   ]
  },
  {
   "cell_type": "code",
   "execution_count": null,
   "id": "e05a1b37",
   "metadata": {},
   "outputs": [],
   "source": [
    "num_with_more_than_2_rigid = len([c for c in c_num_rigid_connected if c > 2])\n",
    "print(num_with_more_than_2_rigid)\n",
    "print(num_with_more_than_2_rigid/num_processed*100)"
   ]
  },
  {
   "cell_type": "code",
   "execution_count": null,
   "id": "dfd99eea",
   "metadata": {},
   "outputs": [],
   "source": [
    "num_with_more_than_2_parts = len([c for c in c_num_parts_connected if c > 2])\n",
    "print(num_with_more_than_2_parts)\n",
    "print(num_with_more_than_2_parts/num_processed*100)"
   ]
  },
  {
   "cell_type": "code",
   "execution_count": null,
   "id": "1518d75e",
   "metadata": {},
   "outputs": [],
   "source": [
    "num_with_lone_parts = len([c for c in c_num_lone_pieces if c > 0])\n",
    "print(num_with_lone_parts)\n",
    "print(num_with_lone_parts/num_processed*100)"
   ]
  }
 ],
 "metadata": {
  "kernelspec": {
   "display_name": "Python 3 (ipykernel)",
   "language": "python",
   "name": "python3"
  },
  "language_info": {
   "codemirror_mode": {
    "name": "ipython",
    "version": 3
   },
   "file_extension": ".py",
   "mimetype": "text/x-python",
   "name": "python",
   "nbconvert_exporter": "python",
   "pygments_lexer": "ipython3",
   "version": "3.9.6"
  }
 },
 "nbformat": 4,
 "nbformat_minor": 5
}
