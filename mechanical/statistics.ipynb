{
 "cells": [
  {
   "cell_type": "code",
   "execution_count": 3,
   "id": "74165aad",
   "metadata": {},
   "outputs": [],
   "source": [
    "import os\n",
    "import pandas as ps\n",
    "from pandas import DataFrame\n",
    "import onshape.brepio as brepio\n",
    "import json\n",
    "from IPython.display import JSON as DJSON\n",
    "from IPython.display import clear_output\n",
    "import numpy as np\n",
    "from utils import adjacency_list, adjacency_list_from_brepdata, connected_components, homogenize, adjacency_matrix\n",
    "import sys\n",
    "import time"
   ]
  },
  {
   "cell_type": "markdown",
   "id": "31751d37",
   "metadata": {},
   "source": [
    "### things to count:\n",
    "- no mates\n",
    "- disconnected components\n",
    "- hisogram of number of moving parts"
   ]
  },
  {
   "cell_type": "markdown",
   "id": "d3dcdcf8",
   "metadata": {},
   "source": [
    "datalistpath = os.path.join('data', 'dof_assemblies.txt')\n",
    "with open(datalistpath) as f:\n",
    "    datalist = [[el[1] for el in enumerate(l.strip().split('/')[-7:]) if el[0] == 0 or el[0] == 4 or el[0] == 6] for l in f.readlines()]"
   ]
  },
  {
   "cell_type": "markdown",
   "id": "2db086d2",
   "metadata": {},
   "source": [
    "## Make dataframes"
   ]
  },
  {
   "cell_type": "code",
   "execution_count": 4,
   "id": "2aa4ddce-e72c-47b9-8cb9-a90524530105",
   "metadata": {},
   "outputs": [],
   "source": [
    "datapath = '/projects/grail/benjones/cadlab'\n",
    "loader = brepio.Loader(datapath)"
   ]
  },
  {
   "cell_type": "code",
   "execution_count": 5,
   "id": "d841311c",
   "metadata": {},
   "outputs": [],
   "source": [
    "generate_dataframes=False\n",
    "name = '/fast/jamesn8/assembly_data/assembly_data_with_transforms_all.h5'\n",
    "#start = 0\n",
    "start = 125133"
   ]
  },
  {
   "cell_type": "code",
   "execution_count": 61,
   "id": "bb08274a",
   "metadata": {
    "scrolled": true
   },
   "outputs": [],
   "source": [
    "if generate_dataframes:\n",
    "    \n",
    "    if start == 0:\n",
    "        with open('filter_list.txt') as f:\n",
    "            filter_list = f.readlines()\n",
    "        print('making filter set')\n",
    "        filter_set = set()\n",
    "        for l in filter_list:\n",
    "            filter_set.add(l.strip())\n",
    "        del filter_list\n",
    "\n",
    "        valid_dict = dict()\n",
    "\n",
    "        assembly_rows = []\n",
    "        assembly_indices = []\n",
    "\n",
    "        part_rows = []\n",
    "        mate_rows = []\n",
    "\n",
    "    j=0 #assembly id\n",
    "    for entry in os.scandir(os.path.join(datapath,'data','flattened_assemblies')):\n",
    "        #if j > 3:\n",
    "        #    break\n",
    "        if j < start:\n",
    "            continue\n",
    "        if not entry.name.endswith('.json') or entry.name in filter_set:\n",
    "            continue\n",
    "\n",
    "        occs, mates = loader.load_flattened(entry.name,geometry=False, skipInvalid=True)\n",
    "\n",
    "        if j % 500 == 0:\n",
    "            clear_output(wait=True)\n",
    "            display(f'num_processed: {j}')\n",
    "\n",
    "        adj_list = adjacency_list_from_brepdata(occs, mates)\n",
    "        if len(adj_list) > 0:\n",
    "            adj = homogenize(adj_list)\n",
    "        else:\n",
    "            adj = np.zeros([0,0],np.int32)\n",
    "        num_lone = adj.shape[0] if adj.shape[1] == 0 else (adj[:,0] < 0).sum()\n",
    "        #num_connections = np.sum(adj, 0)\n",
    "        #num_lone = len([c for c in num_connections if c == 0])\n",
    "\n",
    "        num_components = connected_components(adj)\n",
    "        num_rigid = connected_components(adj, connectionType='fasten')\n",
    "\n",
    "        num_part_mates = 0\n",
    "        for mate in mates:\n",
    "            if len(mate.matedEntities) == 2:\n",
    "                num_part_mates += 1\n",
    "                axes = []\n",
    "                origins = []\n",
    "                for me in mate.matedEntities:\n",
    "                    #tf = occs[me[0]][0]\n",
    "                    #newaxes = tf[:3, :3] @ me[1][1]\n",
    "                    #neworigin = tf[:3,:3] @ me[1][0] + tf[:3,3]\n",
    "                    axes.append(me[1][1])\n",
    "                    origins.append(me[1][0])\n",
    "                mate_rows.append([np.int32(j), mate.matedEntities[0][0], mate.matedEntities[1][0], mate.type, origins[0].astype(np.float32), axes[0].astype(np.float32), origins[1].astype(np.float32), axes[1].astype(np.float32), mate.name])\n",
    "\n",
    "        assembly_rows.append([os.path.splitext(entry.name)[0], np.int32(num_components), np.int32(num_rigid), np.int32(num_lone), np.int32(len(occs)), np.int32(num_part_mates), np.int32(len(mates))])\n",
    "        assembly_indices.append(np.int32(j)) \n",
    "        \n",
    "        for occ in occs:\n",
    "            part = occs[occ][1]\n",
    "            did = part['documentId']\n",
    "            mv = part['documentMicroversion']\n",
    "            eid = part['elementId']\n",
    "            config = part['fullConfiguration']\n",
    "            if 'partId' in part:\n",
    "                pid = part['partId']\n",
    "            else:\n",
    "                pid = ''\n",
    "            filepath = os.path.join(did, mv, eid, config, f'{pid}.xt')\n",
    "            \n",
    "            if filepath in valid_dict:\n",
    "                isValid = valid_dict[filepath]\n",
    "            else:\n",
    "                filepath = os.path.join(datapath, 'data/models', filepath)\n",
    "                isValid = os.path.isfile(filepath)\n",
    "                valid_dict[filepath] = isValid\n",
    "            \n",
    "            part_rows.append([np.int32(j), occ, did, mv, eid, config, pid, occs[occ][0].astype(np.float32), isValid])\n",
    "\n",
    "        j += 1\n",
    "\n",
    "    print('building dataframes...')\n",
    "    assembly_df = DataFrame(assembly_rows, index=assembly_indices, columns=['AssemblyPath','ConnectedComponents','RigidPieces','LonePieces', 'NumParts', 'NumBinaryPartMates', 'TotalMates'])\n",
    "    mate_df = DataFrame(mate_rows, columns=['Assembly','Part1','Part2','Type','Origin1','Axes1','Origin2','Axes2','Name'])\n",
    "    part_df = DataFrame(part_rows, columns=['Assembly','PartOccurrenceID','did','mv','eid','config','PartId', 'Transform', 'HasGeometry'])\n",
    "\n",
    "    print('saving dataframes...')\n",
    "    assembly_df.to_hdf(name,'assembly')\n",
    "    mate_df.to_hdf(name,'mate')\n",
    "    part_df.to_hdf(name,'part')\n",
    "    del assembly_rows\n",
    "    del part_rows\n",
    "    del mate_rows\n",
    "    del assembly_indices\n",
    "    del valid_dict\n",
    "else:\n",
    "    assembly_df = ps.read_hdf(name,'assembly')\n",
    "    mate_df = ps.read_hdf(name,'mate')\n",
    "    part_df = ps.read_hdf(name,'part')"
   ]
  },
  {
   "cell_type": "code",
   "execution_count": 7,
   "id": "aa4f36ab-ff47-432f-80fd-d635f4639831",
   "metadata": {},
   "outputs": [],
   "source": [
    "assembly_df['HasAllGeometry'] = part_df.groupby('Assembly')['HasGeometry'].agg(all)"
   ]
  },
  {
   "cell_type": "code",
   "execution_count": 8,
   "id": "1f6ee03d-726e-4d52-ac52-37d88ef42b54",
   "metadata": {},
   "outputs": [],
   "source": [
    "mate_df_indexed = mate_df.set_index('Assembly')"
   ]
  },
  {
   "cell_type": "code",
   "execution_count": 9,
   "id": "321fba94-b6e1-4ba3-8f09-c8e5f2282e8f",
   "metadata": {},
   "outputs": [],
   "source": [
    "part_df_updated = ps.read_hdf(name+'_segmentation.h5','part')"
   ]
  },
  {
   "cell_type": "code",
   "execution_count": 10,
   "id": "9dc4e4a9-e827-431e-9122-6fffa85a110e",
   "metadata": {},
   "outputs": [],
   "source": [
    "part_df_updated.set_index('Assembly', inplace=True)"
   ]
  },
  {
   "cell_type": "markdown",
   "id": "303e752f-cbf1-4e6a-a8fe-34b2eabc48fa",
   "metadata": {},
   "source": [
    "### Create part-specific data"
   ]
  },
  {
   "cell_type": "code",
   "execution_count": 279,
   "id": "47d9e006-3307-4e31-85c1-5d122ddca482",
   "metadata": {},
   "outputs": [],
   "source": [
    "def path_from_row(part_row):\n",
    "    return os.path.join(datapath, 'data/models', *[part_row[k] for k in ['did','mv','eid','config']], f'{part_row[\"PartId\"]}.xt')"
   ]
  },
  {
   "cell_type": "code",
   "execution_count": 282,
   "id": "2392a430-7f80-42ee-a61d-a43891696d4d",
   "metadata": {},
   "outputs": [],
   "source": [
    "allpaths = set(path_from_row(part_df_updated.iloc[inde]) for inde in part_df_updated.index)"
   ]
  },
  {
   "cell_type": "markdown",
   "id": "7e29f54d-fb3c-4bba-9408-01f3fa51545f",
   "metadata": {},
   "source": [
    "### Incorporate Deduplication"
   ]
  },
  {
   "cell_type": "code",
   "execution_count": 17,
   "id": "146a7965-97ab-4ab4-b750-201ced76c91e",
   "metadata": {},
   "outputs": [],
   "source": [
    "deduped_df = ps.read_parquet(os.path.join(datapath, 'data/deduped_assembly_list.parquet'))\n",
    "deduped_df.drop('is_unique', axis=1, inplace=True)\n",
    "deduped_df['AssemblyPath'] = ['_'.join(me) for me in zip(deduped_df['assembly_documentId'], deduped_df['assembly_documentMicroversion'], deduped_df['assembly_elementId'])]\n",
    "deduped_df.set_index('AssemblyPath', inplace=True)\n",
    "deduped_df_joined = assembly_df.join(deduped_df, on='AssemblyPath', how='inner')\n",
    "deduped_df_joined['HasAllGeometry'] = part_df.groupby('Assembly')['HasGeometry'].agg(all).loc[deduped_df_joined.index]"
   ]
  },
  {
   "cell_type": "code",
   "execution_count": 18,
   "id": "11e419b7-6e3a-466b-9943-02a77d21a933",
   "metadata": {},
   "outputs": [],
   "source": [
    "deduped_df_filtered = deduped_df_joined[lambda df: df['HasAllGeometry']]\n",
    "deduped_df_movingparts = deduped_df_filtered[lambda df: df['RigidPieces'] > 1]\n",
    "deduped_df_movingparts_connected = deduped_df_movingparts[lambda df: df['ConnectedComponents'] == 1]"
   ]
  },
  {
   "cell_type": "code",
   "execution_count": 19,
   "id": "d33228ed-0711-41d7-8d19-ab2617b8ea9d",
   "metadata": {},
   "outputs": [
    {
     "name": "stdout",
     "output_type": "stream",
     "text": [
      "Total non-subassemblies: 125133\n",
      "Total deduplicated non-sub-assemblies: 82333 (65.80%)\n",
      "Total deduplicated with all geometry: 48877 (39.06%)\n",
      "Assemblies with more than 1 rigid piece: 35806 (73.26 % of deduplicated assemblies)\n",
      "Assemblies with more than 1 rigid piece that are fully connected: 26953 (75.28 % of assemblies with more than 1 rigid piece)\n"
     ]
    }
   ],
   "source": [
    "print(f'Total non-subassemblies: %d' % assembly_df.shape[0])\n",
    "print(f'Total deduplicated non-sub-assemblies: %d (%.2f%%)' % (deduped_df_joined.shape[0], deduped_df_joined.shape[0]/assembly_df.shape[0]*100))\n",
    "print(f'Total deduplicated with all geometry: %d (%.2f%%)' % (deduped_df_filtered.shape[0], deduped_df_filtered.shape[0]/assembly_df.shape[0]*100))\n",
    "num_with_multiple_rigid = deduped_df_movingparts.shape[0]\n",
    "num_fully_connected = sum(deduped_df_filtered['ConnectedComponents'] == 1)\n",
    "num_fully_connected_multiple_rigid = deduped_df_movingparts_connected.shape[0]\n",
    "\n",
    "print(f'Assemblies with more than 1 rigid piece: %d (%.2f %% of deduplicated assemblies)' % (num_with_multiple_rigid, num_with_multiple_rigid/deduped_df_filtered.shape[0]*100))\n",
    "#print(f'Assemblies fully connected: %d (%.2f %% of deduplicated assemblies)' % (num_with_multiple_rigid, num_with_multiple_rigid/deduped_df_filtered.shape[0]*100))\n",
    "print(f'Assemblies with more than 1 rigid piece that are fully connected: %d (%.2f %% of assemblies with more than 1 rigid piece)' % (num_fully_connected_multiple_rigid, num_fully_connected_multiple_rigid/num_with_multiple_rigid*100))"
   ]
  },
  {
   "cell_type": "markdown",
   "id": "fa8af1e0",
   "metadata": {
    "tags": []
   },
   "source": [
    "# Multi-mate analysis\n",
    "**Notes**:\n",
    "- Multi-mates containing a fasten are considered a fasten (but still counted)\n",
    "- exact duplicate mates have been removed for this analysis\n",
    "### Filter out mates with the same part"
   ]
  },
  {
   "cell_type": "code",
   "execution_count": 145,
   "id": "5f706156",
   "metadata": {},
   "outputs": [],
   "source": [
    "mate_df_filtered = mate_df[mate_df['Part1'] != mate_df['Part2']]"
   ]
  },
  {
   "cell_type": "markdown",
   "id": "f6327b6e",
   "metadata": {},
   "source": [
    "### Filter out duplicates"
   ]
  },
  {
   "cell_type": "code",
   "execution_count": 135,
   "id": "15b3556e",
   "metadata": {},
   "outputs": [],
   "source": [
    "flattened_mateinfo = mate_df_filtered[['Origin1','Origin2','Axes1','Axes2']].apply(lambda x: [tuple(l.flatten()) for l in x])"
   ]
  },
  {
   "cell_type": "code",
   "execution_count": 136,
   "id": "8fbe7fa7",
   "metadata": {},
   "outputs": [],
   "source": [
    "flattened_mateinfo['Assembly'] = mate_df_filtered['Assembly']\n",
    "flattened_mateinfo['Part1'] = mate_df_filtered['Part1']\n",
    "flattened_mateinfo['Part2'] = mate_df_filtered['Part2']\n",
    "flattened_mateinfo['Type'] = mate_df_filtered['Type']"
   ]
  },
  {
   "cell_type": "code",
   "execution_count": 137,
   "id": "e59e7801",
   "metadata": {},
   "outputs": [],
   "source": [
    "mate_exact_duplicates = flattened_mateinfo.duplicated(keep='first')"
   ]
  },
  {
   "cell_type": "code",
   "execution_count": 138,
   "id": "f8b8a75c",
   "metadata": {},
   "outputs": [
    {
     "data": {
      "text/plain": [
       "2403"
      ]
     },
     "execution_count": 138,
     "metadata": {},
     "output_type": "execute_result"
    }
   ],
   "source": [
    "mate_exact_duplicates.sum()"
   ]
  },
  {
   "cell_type": "code",
   "execution_count": 139,
   "id": "75989d05",
   "metadata": {},
   "outputs": [],
   "source": [
    "mate_df_filtered = mate_df_filtered[~mate_exact_duplicates]"
   ]
  },
  {
   "cell_type": "code",
   "execution_count": 154,
   "id": "e452b9cd-f476-43b4-87dd-b54f1ccb6971",
   "metadata": {},
   "outputs": [
    {
     "data": {
      "text/plain": [
       "(1336,)"
      ]
     },
     "execution_count": 154,
     "metadata": {},
     "output_type": "execute_result"
    }
   ],
   "source": [
    "mate_df_filtered.loc[mate_exact_duplicates,'Assembly'].unique().shape"
   ]
  },
  {
   "cell_type": "markdown",
   "id": "a606ec0f",
   "metadata": {},
   "source": [
    "### Analyze mates between the same parts"
   ]
  },
  {
   "cell_type": "code",
   "execution_count": 29,
   "id": "c2eac51a",
   "metadata": {},
   "outputs": [],
   "source": [
    "mate_dofs = DataFrame(np.array([\n",
    "    [0,0,0,0,0,0],\n",
    "    [0,0,0,0,0,1],\n",
    "    [0,0,1,0,0,0],\n",
    "    [1,1,0,0,0,1],\n",
    "    [0,0,1,0,0,1],\n",
    "    [0,0,0,1,1,1],\n",
    "    [1,1,1,0,0,1],\n",
    "    [1,0,0,0,0,1]\n",
    "]),index=['FASTENED','REVOLUTE','SLIDER','PLANAR','CYLINDRICAL','BALL','PARALLEL','PIN_SLOT'],columns=['pos1','pos2','pos3','rot1','rot2','rot3'])"
   ]
  },
  {
   "cell_type": "code",
   "execution_count": 30,
   "id": "fa244173",
   "metadata": {},
   "outputs": [],
   "source": [
    "mate_dofs_reverse = mate_dofs.copy()\n",
    "mate_dofs_reverse['Type'] = mate_dofs.index\n",
    "mate_dofs_reverse = mate_dofs_reverse.set_index(['pos1','pos2','pos3','rot1','rot2','rot3'])"
   ]
  },
  {
   "cell_type": "code",
   "execution_count": 160,
   "id": "56abe4c6",
   "metadata": {},
   "outputs": [],
   "source": [
    "mate_df_indexed = mate_df_filtered.copy()"
   ]
  },
  {
   "cell_type": "code",
   "execution_count": 161,
   "id": "3f0358e3",
   "metadata": {},
   "outputs": [],
   "source": [
    "mate_df_indexed['MateID'] = [str(tup[0]) + '-' + '-'.join(sorted(tup[1:])) for tup in zip(mate_df_indexed['Assembly'], mate_df_indexed['Part1'], mate_df_indexed['Part2'])]\n",
    "mate_df_indexed.set_index('MateID', inplace=True)\n"
   ]
  },
  {
   "cell_type": "code",
   "execution_count": 162,
   "id": "01a9d5ae",
   "metadata": {},
   "outputs": [],
   "source": [
    "duplicate_indices = mate_df_indexed.index.duplicated(False)"
   ]
  },
  {
   "cell_type": "code",
   "execution_count": 163,
   "id": "288116c0-19e4-4595-86b9-045af22e86e1",
   "metadata": {},
   "outputs": [
    {
     "data": {
      "text/plain": [
       "313029"
      ]
     },
     "execution_count": 163,
     "metadata": {},
     "output_type": "execute_result"
    }
   ],
   "source": [
    "duplicate_indices.sum()"
   ]
  },
  {
   "cell_type": "code",
   "execution_count": 34,
   "id": "b9d9dd29",
   "metadata": {},
   "outputs": [],
   "source": [
    "mate_duplicates = mate_df_indexed[duplicate_indices]"
   ]
  },
  {
   "cell_type": "code",
   "execution_count": 35,
   "id": "71f462d6",
   "metadata": {},
   "outputs": [],
   "source": [
    "multimate_groups = mate_duplicates.groupby(by='MateID')"
   ]
  },
  {
   "cell_type": "code",
   "execution_count": 36,
   "id": "a051fa5b",
   "metadata": {},
   "outputs": [],
   "source": [
    "def prod(lst):\n",
    "    accum = lst[0].copy()\n",
    "    for l in lst[1:]:\n",
    "        accum *= l\n",
    "    return accum"
   ]
  },
  {
   "cell_type": "code",
   "execution_count": 37,
   "id": "c1aeb683",
   "metadata": {},
   "outputs": [],
   "source": [
    "def join_subtractive(x):\n",
    "    pos = 3\n",
    "    rot = 3\n",
    "    for dof in x:\n",
    "        dofi = mate_dofs.loc[dof]\n",
    "        pos_c = 3-dofi[:3].sum()\n",
    "        rot_c = 3-dofi[3:].sum()\n",
    "        pos -= pos_c\n",
    "        rot -= rot_c\n",
    "    return (max(0,pos), max(0,rot))"
   ]
  },
  {
   "cell_type": "code",
   "execution_count": 38,
   "id": "29e673e4",
   "metadata": {},
   "outputs": [],
   "source": [
    "aggregated = multimate_groups.agg({'Type':lambda x: 'FASTENED' if 'FASTENED' in list(x) else '-'.join(sorted(list(x))),'Assembly':lambda x:x[0]})"
   ]
  },
  {
   "cell_type": "code",
   "execution_count": 39,
   "id": "be4d2f61",
   "metadata": {},
   "outputs": [],
   "source": [
    "all_groups = mate_df_indexed.groupby(by='MateID')\n",
    "all_aggregated = all_groups.agg({'Type':lambda x:'-'.join(sorted(list(x))),'Assembly':lambda x:x[0]})"
   ]
  },
  {
   "cell_type": "code",
   "execution_count": 40,
   "id": "48ee9ced-af3c-4b90-896b-545b52a63246",
   "metadata": {},
   "outputs": [],
   "source": [
    "def mate_counts(aggregated_df, keys):\n",
    "    newkeys = aggregated_df.index.intersection(keys)\n",
    "    type_values = aggregated_df.loc[newkeys, 'Type']\n",
    "    flattened = []\n",
    "    for t in type_values:\n",
    "        for k in t.split('-'):\n",
    "            flattened.append(k)\n",
    "    return type_values.value_counts(), ps.Series(flattened).value_counts()"
   ]
  },
  {
   "cell_type": "code",
   "execution_count": 41,
   "id": "a28223b8-01b1-4993-b593-7c5ad58bc6ac",
   "metadata": {
    "tags": []
   },
   "outputs": [],
   "source": [
    "all_aggregated_by_assembly = all_aggregated.set_index('Assembly')"
   ]
  },
  {
   "cell_type": "code",
   "execution_count": 42,
   "id": "e000040f-ddeb-4de9-85b7-503012d1392c",
   "metadata": {},
   "outputs": [],
   "source": [
    "assemblies_with_multimates = aggregated.set_index('Assembly').index.unique()"
   ]
  },
  {
   "cell_type": "code",
   "execution_count": 43,
   "id": "4126f2d3-a1f0-49e1-8147-8ebafa50f315",
   "metadata": {},
   "outputs": [
    {
     "name": "stdout",
     "output_type": "stream",
     "text": [
      "Moving assemblies with no multimates: 27963 (78.10% of moving assemblies)\n",
      "Moving connected assemblies with no multimates: 20845 (58.22% of moving assemblies)\n"
     ]
    }
   ],
   "source": [
    "index_with_moving_parts_no_multimates = deduped_df_movingparts.index.difference(assemblies_with_multimates)\n",
    "num_with_moving_parts_no_multimates = len(index_with_moving_parts_no_multimates)\n",
    "index_fully_connected_moving_no_multimates = deduped_df_movingparts_connected.index.difference(assemblies_with_multimates)\n",
    "num_fully_connected_moving_no_multimates = len(index_fully_connected_moving_no_multimates)\n",
    "print(f'Moving assemblies with no multimates: %d (%.2f%% of moving assemblies)' % (num_with_moving_parts_no_multimates, num_with_moving_parts_no_multimates/deduped_df_movingparts.shape[0]*100))\n",
    "print(f'Moving connected assemblies with no multimates: %d (%.2f%% of moving assemblies)' % (num_fully_connected_moving_no_multimates, num_fully_connected_moving_no_multimates/deduped_df_movingparts.shape[0]*100))"
   ]
  },
  {
   "cell_type": "code",
   "execution_count": 36,
   "id": "7761df8a-f069-49e1-bd06-66e88f7558cf",
   "metadata": {},
   "outputs": [],
   "source": [
    "with open('fully_connected_moving_no_multimates.txt','w') as f:\n",
    "    for ind in index_fully_connected_moving_no_multimates:\n",
    "        f.write(f'{ind}\\n')"
   ]
  },
  {
   "cell_type": "code",
   "execution_count": 31,
   "id": "367bb0c4-4cc5-40ad-8ce6-99ad0e130bc4",
   "metadata": {},
   "outputs": [],
   "source": [
    "counts_A, counts_A_flattened = mate_counts(all_aggregated_by_assembly, deduped_df_filtered.index)"
   ]
  },
  {
   "cell_type": "code",
   "execution_count": 32,
   "id": "671b31c4-a6e9-4b6e-898e-1f6eca2b9f0f",
   "metadata": {},
   "outputs": [],
   "source": [
    "counts_B, counts_B_flattened = mate_counts(all_aggregated_by_assembly, deduped_df_movingparts.index)"
   ]
  },
  {
   "cell_type": "code",
   "execution_count": 33,
   "id": "8450aa03-8f73-4310-ac64-4bd63e4cf86a",
   "metadata": {},
   "outputs": [],
   "source": [
    "counts_C, counts_C_flattened = mate_counts(all_aggregated_by_assembly, deduped_df_movingparts_connected.index)"
   ]
  },
  {
   "cell_type": "code",
   "execution_count": 34,
   "id": "50f2189b-b307-487e-b80b-5e00b9d091a0",
   "metadata": {},
   "outputs": [],
   "source": [
    "counts_D, counts_D_flattened = mate_counts(all_aggregated_by_assembly, index_with_moving_parts_no_multimates)"
   ]
  },
  {
   "cell_type": "code",
   "execution_count": 35,
   "id": "f15fa785-c4c1-4ed0-802c-9479266e83ed",
   "metadata": {},
   "outputs": [],
   "source": [
    "counts_E, counts_E_flattened = mate_counts(all_aggregated_by_assembly, index_fully_connected_moving_no_multimates)"
   ]
  },
  {
   "cell_type": "code",
   "execution_count": 253,
   "id": "2da8b3fa-6fc8-473b-97f0-246840be1c2e",
   "metadata": {},
   "outputs": [
    {
     "data": {
      "text/plain": [
       "<AxesSubplot:title={'center':'A'}>"
      ]
     },
     "execution_count": 253,
     "metadata": {},
     "output_type": "execute_result"
    },
    {
     "data": {
      "image/png": "[encoded data removed]",
      "text/plain": [
       "<Figure size 432x288 with 1 Axes>"
      ]
     },
     "metadata": {
      "needs_background": "light"
     },
     "output_type": "display_data"
    }
   ],
   "source": [
    "counts_A_flattened.plot.bar(title='A')"
   ]
  },
  {
   "cell_type": "code",
   "execution_count": 254,
   "id": "7a0a86d2-2590-48ac-bfae-6f4c9f45f74e",
   "metadata": {},
   "outputs": [
    {
     "data": {
      "text/plain": [
       "<AxesSubplot:title={'center':'B'}>"
      ]
     },
     "execution_count": 254,
     "metadata": {},
     "output_type": "execute_result"
    },
    {
     "data": {
      "image/png": "[encoded data removed]",
      "text/plain": [
       "<Figure size 432x288 with 1 Axes>"
      ]
     },
     "metadata": {
      "needs_background": "light"
     },
     "output_type": "display_data"
    }
   ],
   "source": [
    "counts_B_flattened.plot.bar(title='B')"
   ]
  },
  {
   "cell_type": "code",
   "execution_count": 255,
   "id": "a311f22c-349c-4eb0-8fd8-82157c5e93eb",
   "metadata": {},
   "outputs": [
    {
     "data": {
      "text/plain": [
       "<AxesSubplot:title={'center':'C'}>"
      ]
     },
     "execution_count": 255,
     "metadata": {},
     "output_type": "execute_result"
    },
    {
     "data": {
      "image/png": "[encoded data removed]",
      "text/plain": [
       "<Figure size 432x288 with 1 Axes>"
      ]
     },
     "metadata": {
      "needs_background": "light"
     },
     "output_type": "display_data"
    }
   ],
   "source": [
    "counts_C_flattened.plot.bar(title='C')"
   ]
  },
  {
   "cell_type": "code",
   "execution_count": 256,
   "id": "fca66953-b69c-4488-895e-0d74f4229f24",
   "metadata": {},
   "outputs": [
    {
     "data": {
      "text/plain": [
       "<AxesSubplot:title={'center':'D'}>"
      ]
     },
     "execution_count": 256,
     "metadata": {},
     "output_type": "execute_result"
    },
    {
     "data": {
      "image/png": "[encoded data removed]",
      "text/plain": [
       "<Figure size 432x288 with 1 Axes>"
      ]
     },
     "metadata": {
      "needs_background": "light"
     },
     "output_type": "display_data"
    }
   ],
   "source": [
    "counts_D_flattened.plot.bar(title='D')"
   ]
  },
  {
   "cell_type": "code",
   "execution_count": 257,
   "id": "b1301352-f448-49da-bb84-ea1e977bf2e3",
   "metadata": {},
   "outputs": [
    {
     "data": {
      "text/plain": [
       "<AxesSubplot:title={'center':'E'}>"
      ]
     },
     "execution_count": 257,
     "metadata": {},
     "output_type": "execute_result"
    },
    {
     "data": {
      "image/png": "[encoded data removed]",
      "text/plain": [
       "<Figure size 432x288 with 1 Axes>"
      ]
     },
     "metadata": {
      "needs_background": "light"
     },
     "output_type": "display_data"
    }
   ],
   "source": [
    "counts_E_flattened.plot.bar(title='E')"
   ]
  },
  {
   "cell_type": "code",
   "execution_count": 28,
   "id": "2007ecde",
   "metadata": {},
   "outputs": [],
   "source": [
    "def numUnique(lst):\n",
    "    s = set()\n",
    "    for l in lst:\n",
    "        s.add(l)\n",
    "    return len(s)"
   ]
  },
  {
   "cell_type": "code",
   "execution_count": 29,
   "id": "623c6ee5",
   "metadata": {},
   "outputs": [],
   "source": [
    "all_mate_counts = all_aggregated.groupby('Type').agg({'Assembly':['count',numUnique]})['Assembly'].rename(columns={'numUnique':'numAssemblies'}).sort_values('count', ascending=False)"
   ]
  },
  {
   "cell_type": "code",
   "execution_count": null,
   "id": "0e5e17b3",
   "metadata": {},
   "outputs": [],
   "source": [
    "all_mate_counts[[len(t.split('-')) == 1 for t in all_mate_counts.index]]"
   ]
  },
  {
   "cell_type": "code",
   "execution_count": null,
   "id": "e5d45487",
   "metadata": {},
   "outputs": [],
   "source": [
    "all_mate_counts[['PARALLEL' in t.split('-') for t in all_mate_counts.index]].to_csv('parallels.csv')"
   ]
  },
  {
   "cell_type": "code",
   "execution_count": 83,
   "id": "64e1cf60",
   "metadata": {},
   "outputs": [],
   "source": [
    "aggregated_dofs = multimate_groups.agg({'Type':lambda x: tuple(prod([mate_dofs.loc[t].to_numpy() for t in x])),'Assembly':lambda x:x[0]})"
   ]
  },
  {
   "cell_type": "code",
   "execution_count": 98,
   "id": "8a540529",
   "metadata": {},
   "outputs": [],
   "source": [
    "aggregated_dofs2 = multimate_groups.agg({'Type':join_subtractive,'Assembly':lambda x:x[0]})"
   ]
  },
  {
   "cell_type": "code",
   "execution_count": 99,
   "id": "d2732165",
   "metadata": {},
   "outputs": [
    {
     "data": {
      "text/html": [
       "<div>\n",
       "<style scoped>\n",
       "    .dataframe tbody tr th:only-of-type {\n",
       "        vertical-align: middle;\n",
       "    }\n",
       "\n",
       "    .dataframe tbody tr th {\n",
       "        vertical-align: top;\n",
       "    }\n",
       "\n",
       "    .dataframe thead th {\n",
       "        text-align: right;\n",
       "    }\n",
       "</style>\n",
       "<table border=\"1\" class=\"dataframe\">\n",
       "  <thead>\n",
       "    <tr style=\"text-align: right;\">\n",
       "      <th></th>\n",
       "      <th>Type</th>\n",
       "      <th>Assembly</th>\n",
       "    </tr>\n",
       "    <tr>\n",
       "      <th>MateID</th>\n",
       "      <th></th>\n",
       "      <th></th>\n",
       "    </tr>\n",
       "  </thead>\n",
       "  <tbody>\n",
       "    <tr>\n",
       "      <th>10-MMb6JZl4ks61uaBwr-MS8WYyXlytoCXG1pZ</th>\n",
       "      <td>(0, 0)</td>\n",
       "      <td>10</td>\n",
       "    </tr>\n",
       "    <tr>\n",
       "      <th>100000-Mq3qURmAJRvJ7SkpJ-Mv2mXrkaVwkPdzJ6s</th>\n",
       "      <td>(1, 0)</td>\n",
       "      <td>100000</td>\n",
       "    </tr>\n",
       "    <tr>\n",
       "      <th>100009-M1Qk600l46srC1L9e-MCKAHW47mIKm/jCuX</th>\n",
       "      <td>(1, 0)</td>\n",
       "      <td>100009</td>\n",
       "    </tr>\n",
       "    <tr>\n",
       "      <th>100016-M8SI7IaWgOJefLadF-MAgQILhjNgXd0pkaS</th>\n",
       "      <td>(0, 0)</td>\n",
       "      <td>100016</td>\n",
       "    </tr>\n",
       "    <tr>\n",
       "      <th>10002-M6+nLPUTeSkfTS+cD-MjYZemYeVhYjQHg3D</th>\n",
       "      <td>(0, 0)</td>\n",
       "      <td>10002</td>\n",
       "    </tr>\n",
       "    <tr>\n",
       "      <th>...</th>\n",
       "      <td>...</td>\n",
       "      <td>...</td>\n",
       "    </tr>\n",
       "    <tr>\n",
       "      <th>99999-MEwYaMSyoEtu00KHO-MLebwGRtTggG9fr7L</th>\n",
       "      <td>(0, 0)</td>\n",
       "      <td>99999</td>\n",
       "    </tr>\n",
       "    <tr>\n",
       "      <th>99999-MMUKcXHqa3zNhRRa0-MbsnSbKBpxq/hQfTr</th>\n",
       "      <td>(0, 0)</td>\n",
       "      <td>99999</td>\n",
       "    </tr>\n",
       "    <tr>\n",
       "      <th>99999-MRwbE7U4t/0IFUKdz-MdvGdYpK+TZjjQ6iF</th>\n",
       "      <td>(0, 0)</td>\n",
       "      <td>99999</td>\n",
       "    </tr>\n",
       "    <tr>\n",
       "      <th>99999-Mb9KFE8vCFfw4ZKYW-MpnEnprEOvb2ct8lu</th>\n",
       "      <td>(0, 0)</td>\n",
       "      <td>99999</td>\n",
       "    </tr>\n",
       "    <tr>\n",
       "      <th>99999-MnoCnmZWsTKa6KVDV-Mwd19HtE7R2AL7vnO</th>\n",
       "      <td>(0, 0)</td>\n",
       "      <td>99999</td>\n",
       "    </tr>\n",
       "  </tbody>\n",
       "</table>\n",
       "<p>120054 rows × 2 columns</p>\n",
       "</div>"
      ],
      "text/plain": [
       "                                              Type  Assembly\n",
       "MateID                                                      \n",
       "10-MMb6JZl4ks61uaBwr-MS8WYyXlytoCXG1pZ      (0, 0)        10\n",
       "100000-Mq3qURmAJRvJ7SkpJ-Mv2mXrkaVwkPdzJ6s  (1, 0)    100000\n",
       "100009-M1Qk600l46srC1L9e-MCKAHW47mIKm/jCuX  (1, 0)    100009\n",
       "100016-M8SI7IaWgOJefLadF-MAgQILhjNgXd0pkaS  (0, 0)    100016\n",
       "10002-M6+nLPUTeSkfTS+cD-MjYZemYeVhYjQHg3D   (0, 0)     10002\n",
       "...                                            ...       ...\n",
       "99999-MEwYaMSyoEtu00KHO-MLebwGRtTggG9fr7L   (0, 0)     99999\n",
       "99999-MMUKcXHqa3zNhRRa0-MbsnSbKBpxq/hQfTr   (0, 0)     99999\n",
       "99999-MRwbE7U4t/0IFUKdz-MdvGdYpK+TZjjQ6iF   (0, 0)     99999\n",
       "99999-Mb9KFE8vCFfw4ZKYW-MpnEnprEOvb2ct8lu   (0, 0)     99999\n",
       "99999-MnoCnmZWsTKa6KVDV-Mwd19HtE7R2AL7vnO   (0, 0)     99999\n",
       "\n",
       "[120054 rows x 2 columns]"
      ]
     },
     "execution_count": 99,
     "metadata": {},
     "output_type": "execute_result"
    }
   ],
   "source": [
    "aggregated_dofs2"
   ]
  },
  {
   "cell_type": "code",
   "execution_count": null,
   "id": "ab7c7869",
   "metadata": {},
   "outputs": [],
   "source": []
  },
  {
   "cell_type": "code",
   "execution_count": 36,
   "id": "8e56545e",
   "metadata": {},
   "outputs": [],
   "source": [
    "multimate_counts = aggregated.groupby('Type').agg({'Assembly':['count',numUnique]})['Assembly'].rename(columns={'numUnique':'numAssemblies'}).sort_values('count', ascending=False)"
   ]
  },
  {
   "cell_type": "code",
   "execution_count": 86,
   "id": "fb62ed5c",
   "metadata": {},
   "outputs": [],
   "source": [
    "dof_counts = aggregated_dofs.groupby('Type').agg({'Assembly':['count',numUnique]})['Assembly'].rename(columns={'numUnique':'numAssemblies'}).sort_values('count', ascending=False)"
   ]
  },
  {
   "cell_type": "code",
   "execution_count": 93,
   "id": "5eee693e",
   "metadata": {},
   "outputs": [
    {
     "data": {
      "text/html": [
       "<div>\n",
       "<style scoped>\n",
       "    .dataframe tbody tr th:only-of-type {\n",
       "        vertical-align: middle;\n",
       "    }\n",
       "\n",
       "    .dataframe tbody tr th {\n",
       "        vertical-align: top;\n",
       "    }\n",
       "\n",
       "    .dataframe thead th {\n",
       "        text-align: right;\n",
       "    }\n",
       "</style>\n",
       "<table border=\"1\" class=\"dataframe\">\n",
       "  <thead>\n",
       "    <tr style=\"text-align: right;\">\n",
       "      <th></th>\n",
       "      <th>count</th>\n",
       "      <th>numAssemblies</th>\n",
       "    </tr>\n",
       "    <tr>\n",
       "      <th>Type</th>\n",
       "      <th></th>\n",
       "      <th></th>\n",
       "    </tr>\n",
       "  </thead>\n",
       "  <tbody>\n",
       "    <tr>\n",
       "      <th>[PLANAR]</th>\n",
       "      <td>59002</td>\n",
       "      <td>10803</td>\n",
       "    </tr>\n",
       "    <tr>\n",
       "      <th>[REVOLUTE]</th>\n",
       "      <td>42518</td>\n",
       "      <td>8370</td>\n",
       "    </tr>\n",
       "    <tr>\n",
       "      <th>[FASTENED]</th>\n",
       "      <td>12856</td>\n",
       "      <td>5281</td>\n",
       "    </tr>\n",
       "    <tr>\n",
       "      <th>[CYLINDRICAL]</th>\n",
       "      <td>2646</td>\n",
       "      <td>1468</td>\n",
       "    </tr>\n",
       "    <tr>\n",
       "      <th>[SLIDER]</th>\n",
       "      <td>1109</td>\n",
       "      <td>778</td>\n",
       "    </tr>\n",
       "    <tr>\n",
       "      <th>[PARALLEL]</th>\n",
       "      <td>1012</td>\n",
       "      <td>663</td>\n",
       "    </tr>\n",
       "    <tr>\n",
       "      <th>[BALL]</th>\n",
       "      <td>489</td>\n",
       "      <td>131</td>\n",
       "    </tr>\n",
       "    <tr>\n",
       "      <th>[PIN_SLOT]</th>\n",
       "      <td>422</td>\n",
       "      <td>249</td>\n",
       "    </tr>\n",
       "  </tbody>\n",
       "</table>\n",
       "</div>"
      ],
      "text/plain": [
       "               count  numAssemblies\n",
       "Type                               \n",
       "[PLANAR]       59002          10803\n",
       "[REVOLUTE]     42518           8370\n",
       "[FASTENED]     12856           5281\n",
       "[CYLINDRICAL]   2646           1468\n",
       "[SLIDER]        1109            778\n",
       "[PARALLEL]      1012            663\n",
       "[BALL]           489            131\n",
       "[PIN_SLOT]       422            249"
      ]
     },
     "execution_count": 93,
     "metadata": {},
     "output_type": "execute_result"
    }
   ],
   "source": [
    "dof_counts['Type'] = [mate_dofs_reverse.loc[t] for t in dof_counts.index]\n",
    "dof_counts = dof_counts.set_index('Type')\n",
    "dof_counts"
   ]
  },
  {
   "cell_type": "code",
   "execution_count": 101,
   "id": "660d1369",
   "metadata": {},
   "outputs": [
    {
     "data": {
      "text/html": [
       "<div>\n",
       "<style scoped>\n",
       "    .dataframe tbody tr th:only-of-type {\n",
       "        vertical-align: middle;\n",
       "    }\n",
       "\n",
       "    .dataframe tbody tr th {\n",
       "        vertical-align: top;\n",
       "    }\n",
       "\n",
       "    .dataframe thead th {\n",
       "        text-align: right;\n",
       "    }\n",
       "</style>\n",
       "<table border=\"1\" class=\"dataframe\">\n",
       "  <thead>\n",
       "    <tr style=\"text-align: right;\">\n",
       "      <th></th>\n",
       "      <th>count</th>\n",
       "      <th>numAssemblies</th>\n",
       "    </tr>\n",
       "    <tr>\n",
       "      <th>Type</th>\n",
       "      <th></th>\n",
       "      <th></th>\n",
       "    </tr>\n",
       "  </thead>\n",
       "  <tbody>\n",
       "    <tr>\n",
       "      <th>(0, 0)</th>\n",
       "      <td>83550</td>\n",
       "      <td>17720</td>\n",
       "    </tr>\n",
       "    <tr>\n",
       "      <th>(1, 0)</th>\n",
       "      <td>30947</td>\n",
       "      <td>7927</td>\n",
       "    </tr>\n",
       "    <tr>\n",
       "      <th>(2, 0)</th>\n",
       "      <td>3541</td>\n",
       "      <td>1198</td>\n",
       "    </tr>\n",
       "    <tr>\n",
       "      <th>(3, 0)</th>\n",
       "      <td>1012</td>\n",
       "      <td>663</td>\n",
       "    </tr>\n",
       "    <tr>\n",
       "      <th>(0, 1)</th>\n",
       "      <td>515</td>\n",
       "      <td>269</td>\n",
       "    </tr>\n",
       "    <tr>\n",
       "      <th>(0, 3)</th>\n",
       "      <td>489</td>\n",
       "      <td>131</td>\n",
       "    </tr>\n",
       "  </tbody>\n",
       "</table>\n",
       "</div>"
      ],
      "text/plain": [
       "        count  numAssemblies\n",
       "Type                        \n",
       "(0, 0)  83550          17720\n",
       "(1, 0)  30947           7927\n",
       "(2, 0)   3541           1198\n",
       "(3, 0)   1012            663\n",
       "(0, 1)    515            269\n",
       "(0, 3)    489            131"
      ]
     },
     "execution_count": 101,
     "metadata": {},
     "output_type": "execute_result"
    }
   ],
   "source": [
    "dof_counts2 = aggregated_dofs2.groupby('Type').agg({'Assembly':['count',numUnique]})['Assembly'].rename(columns={'numUnique':'numAssemblies'}).sort_values('count', ascending=False)\n",
    "#dof_counts2['Type'] = [mate_dofs_reverse.loc[t] for t in dof_counts.index]\n",
    "#dof_counts2 = dof_counts.set_index('Type')\n",
    "dof_counts2"
   ]
  },
  {
   "cell_type": "code",
   "execution_count": 45,
   "id": "4ef52d5b",
   "metadata": {},
   "outputs": [],
   "source": [
    "multimate_counts = multimate_counts[multimate_counts.index != 'FASTENED']"
   ]
  },
  {
   "cell_type": "code",
   "execution_count": 47,
   "id": "8fbba1b1",
   "metadata": {},
   "outputs": [],
   "source": [
    "multimate_counts.to_csv('multimates-nodups.csv')"
   ]
  },
  {
   "cell_type": "code",
   "execution_count": 46,
   "id": "0699fd07",
   "metadata": {},
   "outputs": [
    {
     "name": "stdout",
     "output_type": "stream",
     "text": [
      "PLANAR-PLANAR [28839, 7060]\n",
      "CYLINDRICAL-PLANAR [27654, 5485]\n",
      "PLANAR-PLANAR-PLANAR [25096, 6521]\n",
      "CYLINDRICAL-CYLINDRICAL-PLANAR [4707, 1378]\n",
      "PLANAR-SLIDER [3897, 1488]\n",
      "PARALLEL-PLANAR [3298, 1107]\n",
      "REVOLUTE-REVOLUTE [2684, 927]\n",
      "PLANAR-REVOLUTE [2166, 591]\n",
      "CYLINDRICAL-CYLINDRICAL [1649, 903]\n",
      "CYLINDRICAL-PARALLEL-PLANAR [1522, 565]\n",
      "CYLINDRICAL-PLANAR-PLANAR [1199, 494]\n",
      "CYLINDRICAL-PARALLEL [885, 552]\n",
      "PARALLEL-PARALLEL [823, 574]\n",
      "PARALLEL-PLANAR-PLANAR [760, 368]\n",
      "PARALLEL-REVOLUTE [707, 413]\n",
      "CYLINDRICAL-REVOLUTE [667, 381]\n",
      "BALL-BALL [486, 129]\n",
      "SLIDER-SLIDER [485, 339]\n",
      "BALL-CYLINDRICAL [334, 138]\n",
      "PLANAR-PLANAR-PLANAR-PLANAR [315, 216]\n",
      "PARALLEL-SLIDER [272, 226]\n",
      "CYLINDRICAL-SLIDER [264, 179]\n",
      "PARALLEL-PARALLEL-PLANAR [210, 131]\n",
      "PLANAR-SLIDER-SLIDER [177, 115]\n",
      "PLANAR-PLANAR-SLIDER [172, 99]\n",
      "PARALLEL-PARALLEL-PARALLEL-PLANAR-PLANAR-PLANAR [163, 14]\n",
      "PARALLEL-PARALLEL-PARALLEL [158, 116]\n",
      "REVOLUTE-SLIDER [143, 106]\n",
      "PIN_SLOT-PLANAR [139, 62]\n",
      "PARALLEL-PLANAR-PLANAR-PLANAR [136, 121]\n",
      "PIN_SLOT-PIN_SLOT [131, 109]\n",
      "CYLINDRICAL-PIN_SLOT [114, 65]\n",
      "PLANAR-PLANAR-REVOLUTE [100, 40]\n",
      "BALL-PARALLEL [96, 71]\n",
      "PLANAR-REVOLUTE-REVOLUTE [78, 63]\n",
      "PARALLEL-PLANAR-SLIDER [73, 59]\n",
      "CYLINDRICAL-CYLINDRICAL-CYLINDRICAL-PLANAR [68, 53]\n",
      "BALL-PLANAR [65, 48]\n",
      "PARALLEL-PIN_SLOT [61, 48]\n",
      "PARALLEL-PARALLEL-PLANAR-PLANAR [54, 43]\n",
      "BALL-PLANAR-PLANAR [49, 38]\n",
      "CYLINDRICAL-CYLINDRICAL-PARALLEL [41, 33]\n",
      "PARALLEL-PARALLEL-PLANAR-PLANAR-PLANAR [40, 29]\n",
      "PLANAR-PLANAR-PLANAR-PLANAR-PLANAR [39, 32]\n",
      "CYLINDRICAL-PLANAR-SLIDER [38, 31]\n",
      "CYLINDRICAL-PARALLEL-PARALLEL [38, 33]\n",
      "PIN_SLOT-REVOLUTE [32, 28]\n",
      "PIN_SLOT-PLANAR-PLANAR [32, 17]\n",
      "PARALLEL-PLANAR-REVOLUTE [30, 17]\n",
      "PARALLEL-SLIDER-SLIDER [29, 13]\n",
      "PARALLEL-PIN_SLOT-PLANAR [26, 19]\n",
      "CYLINDRICAL-CYLINDRICAL-PLANAR-PLANAR [25, 23]\n",
      "PARALLEL-PARALLEL-PARALLEL-PARALLEL [24, 21]\n",
      "PARALLEL-PARALLEL-PARALLEL-PLANAR [23, 13]\n",
      "CYLINDRICAL-PARALLEL-PARALLEL-PLANAR [22, 22]\n",
      "PARALLEL-PARALLEL-REVOLUTE [21, 17]\n",
      "PIN_SLOT-SLIDER [19, 15]\n",
      "PARALLEL-PARALLEL-SLIDER [17, 17]\n",
      "CYLINDRICAL-CYLINDRICAL-CYLINDRICAL [17, 16]\n",
      "CYLINDRICAL-CYLINDRICAL-PARALLEL-PLANAR [17, 10]\n",
      "BALL-SLIDER [15, 11]\n",
      "CYLINDRICAL-PARALLEL-PARALLEL-PARALLEL-PLANAR [11, 3]\n",
      "REVOLUTE-REVOLUTE-REVOLUTE [11, 7]\n",
      "PIN_SLOT-PIN_SLOT-PLANAR [11, 8]\n",
      "CYLINDRICAL-PLANAR-REVOLUTE [11, 11]\n",
      "PARALLEL-PARALLEL-PARALLEL-PARALLEL-PLANAR [10, 4]\n",
      "CYLINDRICAL-PLANAR-PLANAR-PLANAR [10, 10]\n",
      "BALL-REVOLUTE [10, 10]\n",
      "CYLINDRICAL-PARALLEL-SLIDER [10, 5]\n",
      "CYLINDRICAL-PARALLEL-PLANAR-PLANAR [10, 10]\n",
      "PARALLEL-PARALLEL-PIN_SLOT-PLANAR [9, 5]\n",
      "SLIDER-SLIDER-SLIDER [9, 8]\n",
      "CYLINDRICAL-PIN_SLOT-PLANAR [9, 9]\n",
      "PLANAR-PLANAR-PLANAR-SLIDER [9, 7]\n",
      "CYLINDRICAL-CYLINDRICAL-REVOLUTE [9, 9]\n",
      "PARALLEL-PARALLEL-PLANAR-SLIDER [7, 7]\n",
      "BALL-PARALLEL-PLANAR [7, 5]\n",
      "PLANAR-PLANAR-PLANAR-PLANAR-PLANAR-PLANAR [7, 5]\n",
      "PARALLEL-PARALLEL-PIN_SLOT [6, 5]\n",
      "CYLINDRICAL-REVOLUTE-SLIDER [6, 4]\n",
      "BALL-PARALLEL-PARALLEL [6, 5]\n",
      "BALL-BALL-PLANAR [5, 3]\n",
      "PARALLEL-REVOLUTE-REVOLUTE [5, 4]\n",
      "CYLINDRICAL-CYLINDRICAL-CYLINDRICAL-CYLINDRICAL [5, 5]\n",
      "CYLINDRICAL-CYLINDRICAL-SLIDER [5, 5]\n",
      "PARALLEL-PARALLEL-PARALLEL-PARALLEL-PARALLEL [4, 4]\n",
      "PARALLEL-PLANAR-SLIDER-SLIDER [4, 4]\n",
      "BALL-CYLINDRICAL-PLANAR [4, 3]\n",
      "PARALLEL-PARALLEL-PARALLEL-PLANAR-PLANAR [4, 4]\n",
      "CYLINDRICAL-CYLINDRICAL-PARALLEL-PARALLEL [4, 4]\n",
      "CYLINDRICAL-REVOLUTE-REVOLUTE [4, 4]\n",
      "PARALLEL-PARALLEL-PARALLEL-SLIDER [4, 4]\n",
      "PIN_SLOT-PLANAR-REVOLUTE [4, 4]\n",
      "CYLINDRICAL-CYLINDRICAL-PIN_SLOT [4, 3]\n",
      "BALL-PIN_SLOT [4, 3]\n",
      "PARALLEL-PLANAR-PLANAR-PLANAR-PLANAR [3, 3]\n",
      "PLANAR-REVOLUTE-SLIDER [3, 3]\n",
      "PIN_SLOT-PIN_SLOT-PIN_SLOT [3, 3]\n",
      "SLIDER-SLIDER-SLIDER-SLIDER [3, 2]\n",
      "CYLINDRICAL-CYLINDRICAL-PLANAR-PLANAR-PLANAR [3, 3]\n",
      "CYLINDRICAL-SLIDER-SLIDER [3, 3]\n",
      "CYLINDRICAL-PARALLEL-PARALLEL-PARALLEL-PARALLEL-PARALLEL [3, 3]\n",
      "BALL-BALL-BALL [3, 3]\n",
      "CYLINDRICAL-PARALLEL-REVOLUTE [3, 3]\n",
      "PARALLEL-PARALLEL-PARALLEL-PARALLEL-PARALLEL-PARALLEL-PARALLEL-PARALLEL [2, 1]\n",
      "CYLINDRICAL-CYLINDRICAL-CYLINDRICAL-CYLINDRICAL-PLANAR [2, 2]\n",
      "CYLINDRICAL-PARALLEL-PARALLEL-PARALLEL [2, 2]\n",
      "CYLINDRICAL-PIN_SLOT-PLANAR-PLANAR [2, 2]\n",
      "PLANAR-PLANAR-PLANAR-PLANAR-PLANAR-PLANAR-PLANAR-PLANAR [2, 1]\n",
      "CYLINDRICAL-CYLINDRICAL-PARALLEL-SLIDER [2, 2]\n",
      "BALL-PLANAR-REVOLUTE [2, 1]\n",
      "PLANAR-PLANAR-SLIDER-SLIDER [2, 2]\n",
      "CYLINDRICAL-CYLINDRICAL-PLANAR-SLIDER [2, 2]\n",
      "PARALLEL-PLANAR-REVOLUTE-REVOLUTE [2, 2]\n",
      "BALL-PARALLEL-SLIDER [2, 1]\n",
      "PARALLEL-PLANAR-PLANAR-REVOLUTE [2, 1]\n",
      "PARALLEL-PARALLEL-PARALLEL-REVOLUTE [2, 2]\n",
      "PLANAR-SLIDER-SLIDER-SLIDER-SLIDER [2, 2]\n",
      "PARALLEL-PARALLEL-SLIDER-SLIDER [2, 2]\n",
      "CYLINDRICAL-PARALLEL-PIN_SLOT [2, 1]\n",
      "PARALLEL-PIN_SLOT-PIN_SLOT [2, 2]\n",
      "REVOLUTE-SLIDER-SLIDER [2, 2]\n",
      "BALL-PARALLEL-PIN_SLOT-SLIDER [1, 1]\n",
      "CYLINDRICAL-PIN_SLOT-SLIDER [1, 1]\n",
      "CYLINDRICAL-PARALLEL-PARALLEL-REVOLUTE [1, 1]\n",
      "PLANAR-PLANAR-PLANAR-PLANAR-SLIDER-SLIDER [1, 1]\n",
      "PLANAR-PLANAR-PLANAR-REVOLUTE-REVOLUTE [1, 1]\n",
      "CYLINDRICAL-PIN_SLOT-PIN_SLOT [1, 1]\n",
      "BALL-PARALLEL-PARALLEL-PARALLEL-PLANAR [1, 1]\n",
      "BALL-BALL-PARALLEL [1, 1]\n",
      "BALL-CYLINDRICAL-PIN_SLOT [1, 1]\n",
      "CYLINDRICAL-PARALLEL-PARALLEL-SLIDER [1, 1]\n",
      "REVOLUTE-REVOLUTE-SLIDER [1, 1]\n",
      "BALL-CYLINDRICAL-REVOLUTE [1, 1]\n",
      "BALL-CYLINDRICAL-PARALLEL [1, 1]\n",
      "BALL-PARALLEL-REVOLUTE [1, 1]\n",
      "PLANAR-REVOLUTE-SLIDER-SLIDER [1, 1]\n",
      "CYLINDRICAL-PARALLEL-PARALLEL-PARALLEL-PARALLEL-PARALLEL-PARALLEL [1, 1]\n",
      "PARALLEL-PARALLEL-PLANAR-PLANAR-PLANAR-PLANAR [1, 1]\n",
      "CYLINDRICAL-CYLINDRICAL-REVOLUTE-SLIDER [1, 1]\n",
      "PIN_SLOT-SLIDER-SLIDER [1, 1]\n",
      "CYLINDRICAL-CYLINDRICAL-SLIDER-SLIDER [1, 1]\n",
      "PARALLEL-PARALLEL-PARALLEL-PLANAR-REVOLUTE [1, 1]\n",
      "PARALLEL-PIN_SLOT-PIN_SLOT-PIN_SLOT-PLANAR-SLIDER [1, 1]\n",
      "CYLINDRICAL-CYLINDRICAL-CYLINDRICAL-SLIDER [1, 1]\n",
      "PARALLEL-PARALLEL-PARALLEL-PARALLEL-PLANAR-PLANAR [1, 1]\n",
      "CYLINDRICAL-CYLINDRICAL-CYLINDRICAL-PLANAR-PLANAR-PLANAR-PLANAR [1, 1]\n",
      "CYLINDRICAL-CYLINDRICAL-CYLINDRICAL-PLANAR-PLANAR-PLANAR [1, 1]\n",
      "CYLINDRICAL-CYLINDRICAL-CYLINDRICAL-CYLINDRICAL-REVOLUTE [1, 1]\n",
      "PARALLEL-PARALLEL-PARALLEL-PARALLEL-PARALLEL-PARALLEL-PLANAR-PLANAR-PLANAR [1, 1]\n",
      "CYLINDRICAL-CYLINDRICAL-CYLINDRICAL-CYLINDRICAL-PARALLEL-PLANAR-PLANAR [1, 1]\n",
      "PARALLEL-PARALLEL-PARALLEL-PARALLEL-PARALLEL-PARALLEL-PARALLEL-PARALLEL-PARALLEL [1, 1]\n",
      "CYLINDRICAL-CYLINDRICAL-CYLINDRICAL-CYLINDRICAL-CYLINDRICAL-PARALLEL [1, 1]\n",
      "PARALLEL-REVOLUTE-SLIDER [1, 1]\n",
      "CYLINDRICAL-CYLINDRICAL-PLANAR-SLIDER-SLIDER [1, 1]\n",
      "CYLINDRICAL-SLIDER-SLIDER-SLIDER [1, 1]\n",
      "PIN_SLOT-PIN_SLOT-PIN_SLOT-PIN_SLOT-PIN_SLOT-PIN_SLOT [1, 1]\n",
      "CYLINDRICAL-CYLINDRICAL-REVOLUTE-REVOLUTE [1, 1]\n",
      "PIN_SLOT-PLANAR-PLANAR-PLANAR [1, 1]\n",
      "PIN_SLOT-PLANAR-PLANAR-REVOLUTE [1, 1]\n",
      "PIN_SLOT-PLANAR-SLIDER [1, 1]\n",
      "BALL-PLANAR-PLANAR-PLANAR [1, 1]\n",
      "PIN_SLOT-REVOLUTE-SLIDER [1, 1]\n",
      "PARALLEL-PIN_SLOT-SLIDER [1, 1]\n"
     ]
    }
   ],
   "source": [
    "for index in multimate_counts.index:\n",
    "    print(index,list(multimate_counts.loc[index]))"
   ]
  },
  {
   "cell_type": "code",
   "execution_count": 57,
   "id": "71e824ea",
   "metadata": {},
   "outputs": [],
   "source": [
    "assemblies_with_multimates = set(aggregated['Assembly'])"
   ]
  },
  {
   "cell_type": "code",
   "execution_count": 61,
   "id": "0bc68b1f",
   "metadata": {},
   "outputs": [
    {
     "data": {
      "text/plain": [
       "0.18878114536678697"
      ]
     },
     "execution_count": 61,
     "metadata": {},
     "output_type": "execute_result"
    }
   ],
   "source": [
    "len(assemblies_with_multimates)/assembly_df.shape[0]"
   ]
  },
  {
   "cell_type": "code",
   "execution_count": 51,
   "id": "de224165",
   "metadata": {},
   "outputs": [
    {
     "data": {
      "text/plain": [
       "0.9152181983867157"
      ]
     },
     "execution_count": 51,
     "metadata": {},
     "output_type": "execute_result"
    }
   ],
   "source": [
    "1-multimate_counts['numAssemblies'][20:].sum() / multimate_counts['numAssemblies'][:20].sum()"
   ]
  },
  {
   "cell_type": "code",
   "execution_count": 32,
   "id": "cf664859",
   "metadata": {},
   "outputs": [
    {
     "ename": "NameError",
     "evalue": "name 'multimate_counts' is not defined",
     "output_type": "error",
     "traceback": [
      "\u001b[0;31m---------------------------------------------------------------------------\u001b[0m",
      "\u001b[0;31mNameError\u001b[0m                                 Traceback (most recent call last)",
      "\u001b[0;32m/tmp/ipykernel_63181/700794390.py\u001b[0m in \u001b[0;36m<module>\u001b[0;34m\u001b[0m\n\u001b[0;32m----> 1\u001b[0;31m \u001b[0;36m1\u001b[0m\u001b[0;34m-\u001b[0m\u001b[0mmultimate_counts\u001b[0m\u001b[0;34m[\u001b[0m\u001b[0;34m'count'\u001b[0m\u001b[0;34m]\u001b[0m\u001b[0;34m[\u001b[0m\u001b[0;36m20\u001b[0m\u001b[0;34m:\u001b[0m\u001b[0;34m]\u001b[0m\u001b[0;34m.\u001b[0m\u001b[0msum\u001b[0m\u001b[0;34m(\u001b[0m\u001b[0;34m)\u001b[0m \u001b[0;34m/\u001b[0m \u001b[0mmultimate_counts\u001b[0m\u001b[0;34m[\u001b[0m\u001b[0;34m'count'\u001b[0m\u001b[0;34m]\u001b[0m\u001b[0;34m[\u001b[0m\u001b[0;34m:\u001b[0m\u001b[0;36m20\u001b[0m\u001b[0;34m]\u001b[0m\u001b[0;34m.\u001b[0m\u001b[0msum\u001b[0m\u001b[0;34m(\u001b[0m\u001b[0;34m)\u001b[0m\u001b[0;34m\u001b[0m\u001b[0;34m\u001b[0m\u001b[0m\n\u001b[0m",
      "\u001b[0;31mNameError\u001b[0m: name 'multimate_counts' is not defined"
     ]
    }
   ],
   "source": [
    "1-multimate_counts['count'][20:].sum() / multimate_counts['count'][:20].sum()"
   ]
  },
  {
   "cell_type": "markdown",
   "id": "9354566e-4945-40d8-bcaa-b759df168f6a",
   "metadata": {},
   "source": [
    "# Heuristics"
   ]
  },
  {
   "cell_type": "code",
   "execution_count": 45,
   "id": "5074ca2e-c8cc-476c-bdf5-4b227ebda5ea",
   "metadata": {},
   "outputs": [
    {
     "ename": "FileNotFoundError",
     "evalue": "[Errno 2] No such file or directory: '/fast/jamesn8/assembly_data/mate_torch_stats/mate_stats_all.parquet'",
     "output_type": "error",
     "traceback": [
      "\u001b[0;31m---------------------------------------------------------------------------\u001b[0m",
      "\u001b[0;31mFileNotFoundError\u001b[0m                         Traceback (most recent call last)",
      "\u001b[0;32m/tmp/ipykernel_358948/3150763353.py\u001b[0m in \u001b[0;36m<module>\u001b[0;34m\u001b[0m\n\u001b[1;32m      2\u001b[0m \u001b[0mstats_df\u001b[0m \u001b[0;34m=\u001b[0m \u001b[0mps\u001b[0m\u001b[0;34m.\u001b[0m\u001b[0mconcat\u001b[0m\u001b[0;34m(\u001b[0m\u001b[0;34m[\u001b[0m\u001b[0mps\u001b[0m\u001b[0;34m.\u001b[0m\u001b[0mread_parquet\u001b[0m\u001b[0;34m(\u001b[0m\u001b[0mos\u001b[0m\u001b[0;34m.\u001b[0m\u001b[0mpath\u001b[0m\u001b[0;34m.\u001b[0m\u001b[0mjoin\u001b[0m\u001b[0;34m(\u001b[0m\u001b[0mstats_path\u001b[0m\u001b[0;34m,\u001b[0m \u001b[0mfname\u001b[0m\u001b[0;34m)\u001b[0m\u001b[0;34m)\u001b[0m \u001b[0;32mfor\u001b[0m \u001b[0mfname\u001b[0m \u001b[0;32min\u001b[0m \u001b[0mos\u001b[0m\u001b[0;34m.\u001b[0m\u001b[0mlistdir\u001b[0m\u001b[0;34m(\u001b[0m\u001b[0mstats_path\u001b[0m\u001b[0;34m)\u001b[0m \u001b[0;32mif\u001b[0m \u001b[0mfname\u001b[0m\u001b[0;34m.\u001b[0m\u001b[0mstartswith\u001b[0m\u001b[0;34m(\u001b[0m\u001b[0;34m'stats'\u001b[0m\u001b[0;34m)\u001b[0m \u001b[0;32mand\u001b[0m \u001b[0mfname\u001b[0m\u001b[0;34m.\u001b[0m\u001b[0mendswith\u001b[0m\u001b[0;34m(\u001b[0m\u001b[0;34m'.parquet'\u001b[0m\u001b[0;34m)\u001b[0m\u001b[0;34m]\u001b[0m\u001b[0;34m,\u001b[0m \u001b[0maxis\u001b[0m\u001b[0;34m=\u001b[0m\u001b[0;36m0\u001b[0m\u001b[0;34m)\u001b[0m\u001b[0;34m\u001b[0m\u001b[0;34m\u001b[0m\u001b[0m\n\u001b[1;32m      3\u001b[0m \u001b[0;31m#mate_stats_df = ps.concat([ps.read_parquet(os.path.join(stats_path, fname)) for fname in os.listdir(stats_path) if fname.startswith('mate') and fname.endswith('.parquet')], axis=0)\u001b[0m\u001b[0;34m\u001b[0m\u001b[0;34m\u001b[0m\u001b[0;34m\u001b[0m\u001b[0m\n\u001b[0;32m----> 4\u001b[0;31m \u001b[0mmate_stats_df\u001b[0m \u001b[0;34m=\u001b[0m \u001b[0mps\u001b[0m\u001b[0;34m.\u001b[0m\u001b[0mread_parquet\u001b[0m\u001b[0;34m(\u001b[0m\u001b[0mos\u001b[0m\u001b[0;34m.\u001b[0m\u001b[0mpath\u001b[0m\u001b[0;34m.\u001b[0m\u001b[0mjoin\u001b[0m\u001b[0;34m(\u001b[0m\u001b[0mstats_path\u001b[0m\u001b[0;34m,\u001b[0m\u001b[0;34m'mate_stats_all.parquet'\u001b[0m\u001b[0;34m)\u001b[0m\u001b[0;34m)\u001b[0m\u001b[0;34m\u001b[0m\u001b[0;34m\u001b[0m\u001b[0m\n\u001b[0m",
      "\u001b[0;32m/fast/jamesn8/anaconda3/envs/torch3/lib/python3.9/site-packages/pandas/io/parquet.py\u001b[0m in \u001b[0;36mread_parquet\u001b[0;34m(path, engine, columns, storage_options, use_nullable_dtypes, **kwargs)\u001b[0m\n\u001b[1;32m    493\u001b[0m     \u001b[0mimpl\u001b[0m \u001b[0;34m=\u001b[0m \u001b[0mget_engine\u001b[0m\u001b[0;34m(\u001b[0m\u001b[0mengine\u001b[0m\u001b[0;34m)\u001b[0m\u001b[0;34m\u001b[0m\u001b[0;34m\u001b[0m\u001b[0m\n\u001b[1;32m    494\u001b[0m \u001b[0;34m\u001b[0m\u001b[0m\n\u001b[0;32m--> 495\u001b[0;31m     return impl.read(\n\u001b[0m\u001b[1;32m    496\u001b[0m         \u001b[0mpath\u001b[0m\u001b[0;34m,\u001b[0m\u001b[0;34m\u001b[0m\u001b[0;34m\u001b[0m\u001b[0m\n\u001b[1;32m    497\u001b[0m         \u001b[0mcolumns\u001b[0m\u001b[0;34m=\u001b[0m\u001b[0mcolumns\u001b[0m\u001b[0;34m,\u001b[0m\u001b[0;34m\u001b[0m\u001b[0;34m\u001b[0m\u001b[0m\n",
      "\u001b[0;32m/fast/jamesn8/anaconda3/envs/torch3/lib/python3.9/site-packages/pandas/io/parquet.py\u001b[0m in \u001b[0;36mread\u001b[0;34m(self, path, columns, storage_options, **kwargs)\u001b[0m\n\u001b[1;32m    337\u001b[0m             \u001b[0;31m# fsspec resources can also point to directories\u001b[0m\u001b[0;34m\u001b[0m\u001b[0;34m\u001b[0m\u001b[0;34m\u001b[0m\u001b[0m\n\u001b[1;32m    338\u001b[0m             \u001b[0;31m# this branch is used for example when reading from non-fsspec URLs\u001b[0m\u001b[0;34m\u001b[0m\u001b[0;34m\u001b[0m\u001b[0;34m\u001b[0m\u001b[0m\n\u001b[0;32m--> 339\u001b[0;31m             handles = get_handle(\n\u001b[0m\u001b[1;32m    340\u001b[0m                 \u001b[0mpath\u001b[0m\u001b[0;34m,\u001b[0m \u001b[0;34m\"rb\"\u001b[0m\u001b[0;34m,\u001b[0m \u001b[0mis_text\u001b[0m\u001b[0;34m=\u001b[0m\u001b[0;32mFalse\u001b[0m\u001b[0;34m,\u001b[0m \u001b[0mstorage_options\u001b[0m\u001b[0;34m=\u001b[0m\u001b[0mstorage_options\u001b[0m\u001b[0;34m\u001b[0m\u001b[0;34m\u001b[0m\u001b[0m\n\u001b[1;32m    341\u001b[0m             )\n",
      "\u001b[0;32m/fast/jamesn8/anaconda3/envs/torch3/lib/python3.9/site-packages/pandas/io/common.py\u001b[0m in \u001b[0;36mget_handle\u001b[0;34m(path_or_buf, mode, encoding, compression, memory_map, is_text, errors, storage_options)\u001b[0m\n\u001b[1;32m    708\u001b[0m         \u001b[0;32melse\u001b[0m\u001b[0;34m:\u001b[0m\u001b[0;34m\u001b[0m\u001b[0;34m\u001b[0m\u001b[0m\n\u001b[1;32m    709\u001b[0m             \u001b[0;31m# Binary mode\u001b[0m\u001b[0;34m\u001b[0m\u001b[0;34m\u001b[0m\u001b[0;34m\u001b[0m\u001b[0m\n\u001b[0;32m--> 710\u001b[0;31m             \u001b[0mhandle\u001b[0m \u001b[0;34m=\u001b[0m \u001b[0mopen\u001b[0m\u001b[0;34m(\u001b[0m\u001b[0mhandle\u001b[0m\u001b[0;34m,\u001b[0m \u001b[0mioargs\u001b[0m\u001b[0;34m.\u001b[0m\u001b[0mmode\u001b[0m\u001b[0;34m)\u001b[0m\u001b[0;34m\u001b[0m\u001b[0;34m\u001b[0m\u001b[0m\n\u001b[0m\u001b[1;32m    711\u001b[0m         \u001b[0mhandles\u001b[0m\u001b[0;34m.\u001b[0m\u001b[0mappend\u001b[0m\u001b[0;34m(\u001b[0m\u001b[0mhandle\u001b[0m\u001b[0;34m)\u001b[0m\u001b[0;34m\u001b[0m\u001b[0;34m\u001b[0m\u001b[0m\n\u001b[1;32m    712\u001b[0m \u001b[0;34m\u001b[0m\u001b[0m\n",
      "\u001b[0;31mFileNotFoundError\u001b[0m: [Errno 2] No such file or directory: '/fast/jamesn8/assembly_data/mate_torch_stats/mate_stats_all.parquet'"
     ]
    }
   ],
   "source": [
    "stats_path = '/fast/jamesn8/assembly_data/mate_torch_stats/'\n",
    "stats_df = ps.concat([ps.read_parquet(os.path.join(stats_path, fname)) for fname in os.listdir(stats_path) if fname.startswith('stats') and fname.endswith('.parquet')], axis=0)\n",
    "#mate_stats_df = ps.concat([ps.read_parquet(os.path.join(stats_path, fname)) for fname in os.listdir(stats_path) if fname.startswith('mate') and fname.endswith('.parquet')], axis=0)\n",
    "mate_stats_df = ps.read_parquet(os.path.join(stats_path,'mate_stats_all.parquet'))"
   ]
  },
  {
   "cell_type": "code",
   "execution_count": 142,
   "id": "d9c38666-5dc4-4b8c-922d-c1341fd3d885",
   "metadata": {},
   "outputs": [
    {
     "name": "stderr",
     "output_type": "stream",
     "text": [
      "/tmp/ipykernel_1761636/3224859321.py:2: SettingWithCopyWarning: \n",
      "A value is trying to be set on a copy of a slice from a DataFrame.\n",
      "Try using .loc[row_indexer,col_indexer] = value instead\n",
      "\n",
      "See the caveats in the documentation: https://pandas.pydata.org/pandas-docs/stable/user_guide/indexing.html#returning-a-view-versus-a-copy\n",
      "  recorded_mates['total_extra_matches'] = recorded_mates['extra_matches_frame_0'] + recorded_mates['extra_matches_frame_1']\n"
     ]
    }
   ],
   "source": [
    "recorded_mates = mate_stats_df[lambda df: ~df['mc_pair_found'].isnull()]\n",
    "recorded_mates['total_extra_matches'] = recorded_mates['extra_matches_frame_0'] + recorded_mates['extra_matches_frame_1']"
   ]
  },
  {
   "cell_type": "code",
   "execution_count": 143,
   "id": "1a260244-9f23-4d5c-acd4-5c58bd519fb7",
   "metadata": {},
   "outputs": [],
   "source": [
    "recorded_assemblies = stats_df[lambda df: ~df['missed_mc_pairs'].isnull()]"
   ]
  },
  {
   "cell_type": "code",
   "execution_count": 144,
   "id": "f8a3102f-b575-4bd0-a15a-508208fa1c0f",
   "metadata": {},
   "outputs": [
    {
     "data": {
      "text/plain": [
       "Index(['invalid_frame_0', 'invalid_frame_0_coincident_origins',\n",
       "       'invalid_frame_0_permuted_z', 'matches_frame_0',\n",
       "       'extra_matches_frame_0', 'invalid_frame_1',\n",
       "       'invalid_frame_1_coincident_origins', 'invalid_frame_1_permuted_z',\n",
       "       'matches_frame_1', 'extra_matches_frame_1', 'type',\n",
       "       'truncated_mc_pairs', 'part_pair_found', 'mc_pair_found'],\n",
       "      dtype='object')"
      ]
     },
     "execution_count": 144,
     "metadata": {},
     "output_type": "execute_result"
    }
   ],
   "source": [
    "mate_stats_df.keys()"
   ]
  },
  {
   "cell_type": "code",
   "execution_count": 145,
   "id": "8691b6d7-5c1b-4a27-8006-84baaf8d7250",
   "metadata": {},
   "outputs": [
    {
     "data": {
      "text/plain": [
       "Index(['total_mates', 'total_parts', 'maxdim', 'total_mcs', 'invalid_frames',\n",
       "       'invalid_mates', 'invalid_coincident_origins', 'invalid_permuted_z',\n",
       "       'false_part_pairs', 'missed_part_pairs', 'missed_mc_pairs',\n",
       "       'num_invalid_transformed_parts', 'num_proposals', 'proposal_time'],\n",
       "      dtype='object')"
      ]
     },
     "execution_count": 145,
     "metadata": {},
     "output_type": "execute_result"
    }
   ],
   "source": [
    "stats_df.keys()"
   ]
  },
  {
   "cell_type": "code",
   "execution_count": 146,
   "id": "dc1182a4-6bed-4bb6-b8f6-18e2eea8ae95",
   "metadata": {},
   "outputs": [
    {
     "name": "stdout",
     "output_type": "stream",
     "text": [
      "types of mates with invalid frames:\n"
     ]
    },
    {
     "data": {
      "text/plain": [
       "<AxesSubplot:>"
      ]
     },
     "execution_count": 146,
     "metadata": {},
     "output_type": "execute_result"
    },
    {
     "data": {
      "image/png": "[encoded data removed]",
      "text/plain": [
       "<Figure size 432x288 with 1 Axes>"
      ]
     },
     "metadata": {
      "needs_background": "light"
     },
     "output_type": "display_data"
    }
   ],
   "source": [
    "print('types of mates with invalid frames:')\n",
    "invalid_frames['type'].hist()"
   ]
  },
  {
   "cell_type": "code",
   "execution_count": 147,
   "id": "01f77804-0e4e-4eff-9343-acaf10025213",
   "metadata": {},
   "outputs": [
    {
     "name": "stdout",
     "output_type": "stream",
     "text": [
      "fraction of mates with an unmatched mate frame:0.12755409015426825\n",
      "fraction of assemblies with unmatched mate frames:0.2663916439919249\n",
      "fraction of mated connector pairs missed by heuristics: 0.052235470780671804\n",
      "fraction of mated part pairs completely missed by heuristics: 0.04987575752158601\n",
      "average fraction of mates that are missed by heuristics per assembly: 0.09229530385152565\n",
      "rate of assemblies with at least one mate missed by heuristics: 0.13454545454545455\n",
      "fraction of mates with more than 100000 mated pairs found by heuristics: 0.003056484801809824\n",
      "average number of connector pair proposals per assembly: 57735.98447174447\n",
      "fraction of assemblies with an error transforming a part: 0.0457002457002457\n",
      "average number of parts with transform errors among these assemblies: 1.4172043010752688\n",
      "fraction of assemblies with less than 10000 mate connectors: 0.8930922496269639\n",
      "fraction of assemblies with matching mate frames and no part transform errors: 0.8522777143860265\n"
     ]
    }
   ],
   "source": [
    "invalid_frames = mate_stats_df[lambda df: df['invalid_frame_0'] | df['invalid_frame_1']]\n",
    "assemblies_with_invalid_frames = stats_df[lambda df: df['invalid_mates'] > 0]\n",
    "print(f'fraction of mates with an unmatched mate frame:{invalid_frames.shape[0]/mate_stats_df.shape[0]}')\n",
    "print(f'fraction of assemblies with unmatched mate frames:{assemblies_with_invalid_frames.shape[0]/stats_df.shape[0]}')\n",
    "#invalid_frames_with_coincident_origins = invalid_frames[lambda df: df['invalid_frame_0_coincident_origins'] | df['invalid_frame_1_coincident_origins']]\n",
    "#invalid_frames_with_coincident_origins[lambda df: df['invalid_frame_0_permuted_z'] | df['invalid_frame_1_permuted_z']].shape[0]/invalid_frames_with_coincident_origins.shape[0]\n",
    "#invalid_frames_with_coincident_origins.shape[0]/invalid_frames.shape[0]\n",
    "missed_mates = recorded_mates[lambda df: ~df['mc_pair_found'].astype(bool)]\n",
    "missed_part_pairs = recorded_mates[lambda df: ~df['part_pair_found'].astype(bool)]\n",
    "print(f'fraction of mated connector pairs missed by heuristics: {missed_mates.shape[0]/recorded_mates.shape[0]}')\n",
    "print(f'fraction of mated part pairs completely missed by heuristics: {missed_part_pairs.shape[0]/recorded_mates.shape[0]}')\n",
    "print(f'average fraction of mates that are missed by heuristics per assembly: {(recorded_assemblies[\"missed_mc_pairs\"]/recorded_assemblies[\"total_mates\"]).mean()}')\n",
    "print(f'rate of assemblies with at least one mate missed by heuristics: {recorded_assemblies[lambda df: df[\"missed_mc_pairs\"] > 0].shape[0]/recorded_assemblies.shape[0]}')\n",
    "print(f'fraction of mates with more than 100000 mated pairs found by heuristics: {mate_stats_df[\"truncated_mc_pairs\"].sum()/mate_stats_df.shape[0]}')\n",
    "print(f'average number of connector pair proposals per assembly: {recorded_assemblies[\"num_proposals\"].mean()}')\n",
    "print(f'fraction of assemblies with an error transforming a part: {recorded_assemblies[lambda df: df[\"num_invalid_transformed_parts\"] > 0].shape[0]/recorded_assemblies.shape[0]}')\n",
    "print(f'average number of parts with transform errors among these assemblies: {recorded_assemblies[lambda df: df[\"num_invalid_transformed_parts\"] > 0][\"num_invalid_transformed_parts\"].mean()}')\n",
    "print(f'fraction of assemblies with less than 10000 mate connectors: {recorded_assemblies.shape[0]/stats_df.shape[0]}')\n",
    "print(f'fraction of assemblies with matching mate frames and no part transform errors: {recorded_assemblies[lambda df: (df[\"num_invalid_transformed_parts\"] == 0 & (df[\"invalid_mates\"] == 0))].shape[0]/stats_df.shape[0]}')"
   ]
  },
  {
   "cell_type": "code",
   "execution_count": 160,
   "id": "d9abcbf1-8eae-47ba-b914-7796393c95ca",
   "metadata": {},
   "outputs": [
    {
     "data": {
      "text/plain": [
       "<AxesSubplot:title={'center':'Heuristic recall per mate type'}, xlabel='type'>"
      ]
     },
     "execution_count": 160,
     "metadata": {},
     "output_type": "execute_result"
    },
    {
     "data": {
      "image/png": "[encoded data removed]",
      "text/plain": [
       "<Figure size 432x288 with 1 Axes>"
      ]
     },
     "metadata": {
      "needs_background": "light"
     },
     "output_type": "display_data"
    }
   ],
   "source": [
    "per_type_stats = recorded_mates.groupby('type').agg({'mc_pair_found': sum, 'type': 'count'})\n",
    "(per_type_stats['mc_pair_found']/per_type_stats['type']).plot.bar(title='Heuristic recall per mate type')"
   ]
  },
  {
   "cell_type": "code",
   "execution_count": 153,
   "id": "faa6e015-a72c-4de0-9a50-644e39ae98b1",
   "metadata": {},
   "outputs": [
    {
     "name": "stderr",
     "output_type": "stream",
     "text": [
      "/tmp/ipykernel_1761636/1051429608.py:1: SettingWithCopyWarning: \n",
      "A value is trying to be set on a copy of a slice from a DataFrame.\n",
      "Try using .loc[row_indexer,col_indexer] = value instead\n",
      "\n",
      "See the caveats in the documentation: https://pandas.pydata.org/pandas-docs/stable/user_guide/indexing.html#returning-a-view-versus-a-copy\n",
      "  recorded_mates['valid'] = ~(recorded_mates['invalid_frame_0'] | recorded_mates['invalid_frame_1'])\n"
     ]
    },
    {
     "data": {
      "text/plain": [
       "<AxesSubplot:title={'center':'Percent of mates that correspond to any connectors per mate type'}, xlabel='type'>"
      ]
     },
     "execution_count": 153,
     "metadata": {},
     "output_type": "execute_result"
    },
    {
     "data": {
      "image/png": "[encoded data removed]",
      "text/plain": [
       "<Figure size 432x288 with 1 Axes>"
      ]
     },
     "metadata": {
      "needs_background": "light"
     },
     "output_type": "display_data"
    }
   ],
   "source": [
    "recorded_mates['valid'] = ~(recorded_mates['invalid_frame_0'] | recorded_mates['invalid_frame_1'])\n",
    "per_type_stats = recorded_mates.groupby('type').agg({'valid': sum, 'type': 'count'})\n",
    "(per_type_stats['valid']/per_type_stats['type']).plot.bar(title='Percent of mates that correspond to any connectors per mate type')"
   ]
  },
  {
   "cell_type": "code",
   "execution_count": 157,
   "id": "56767f42-0972-4353-a09b-df06c50431ab",
   "metadata": {},
   "outputs": [
    {
     "data": {
      "text/plain": [
       "<AxesSubplot:title={'center':'Average number of extra MC pair matches per mate type'}, xlabel='type'>"
      ]
     },
     "execution_count": 157,
     "metadata": {},
     "output_type": "execute_result"
    },
    {
     "data": {
      "image/png": "[encoded data removed]",
      "text/plain": [
       "<Figure size 432x288 with 1 Axes>"
      ]
     },
     "metadata": {
      "needs_background": "light"
     },
     "output_type": "display_data"
    }
   ],
   "source": [
    "recorded_mates.groupby('type')['total_extra_matches'].agg(np.mean).plot.bar(title='Average number of extra MC pair matches per mate type')"
   ]
  },
  {
   "cell_type": "code",
   "execution_count": 154,
   "id": "ffe5139f-6032-4396-8a9d-b7041d5ff1a0",
   "metadata": {},
   "outputs": [
    {
     "name": "stderr",
     "output_type": "stream",
     "text": [
      "/tmp/ipykernel_1761636/2094720822.py:1: SettingWithCopyWarning: \n",
      "A value is trying to be set on a copy of a slice from a DataFrame.\n",
      "Try using .loc[row_indexer,col_indexer] = value instead\n",
      "\n",
      "See the caveats in the documentation: https://pandas.pydata.org/pandas-docs/stable/user_guide/indexing.html#returning-a-view-versus-a-copy\n",
      "  recorded_mates['total_matches'] = recorded_mates['matches_frame_0'] + recorded_mates['matches_frame_1']\n"
     ]
    }
   ],
   "source": [
    "recorded_mates['total_matches'] = recorded_mates['matches_frame_0'] + recorded_mates['matches_frame_1']"
   ]
  },
  {
   "cell_type": "code",
   "execution_count": 156,
   "id": "b37c2a2d-1b47-42b8-8aac-6234d8ae9029",
   "metadata": {},
   "outputs": [
    {
     "data": {
      "text/plain": [
       "<AxesSubplot:title={'center':'Average number of MC pair matches per mate type'}, xlabel='type'>"
      ]
     },
     "execution_count": 156,
     "metadata": {},
     "output_type": "execute_result"
    },
    {
     "data": {
      "image/png": "[encoded data removed]",
      "text/plain": [
       "<Figure size 432x288 with 1 Axes>"
      ]
     },
     "metadata": {
      "needs_background": "light"
     },
     "output_type": "display_data"
    }
   ],
   "source": [
    "recorded_mates.groupby('type')['total_matches'].agg(np.mean).plot.bar(title='Average number of MC pair matches per mate type')"
   ]
  },
  {
   "cell_type": "code",
   "execution_count": 47,
   "id": "63c9cc5b-ae28-491b-a9d3-940387febd32",
   "metadata": {},
   "outputs": [],
   "source": [
    "hasball = mate_df.groupby('Assembly').agg({'Type':lambda x: any([t == 'BALL' for t in x])}).loc[index_fully_connected_moving_no_multimates]"
   ]
  },
  {
   "cell_type": "code",
   "execution_count": 53,
   "id": "c3323629-157f-4754-a4dd-425608995607",
   "metadata": {},
   "outputs": [
    {
     "data": {
      "text/html": [
       "<div>\n",
       "<style scoped>\n",
       "    .dataframe tbody tr th:only-of-type {\n",
       "        vertical-align: middle;\n",
       "    }\n",
       "\n",
       "    .dataframe tbody tr th {\n",
       "        vertical-align: top;\n",
       "    }\n",
       "\n",
       "    .dataframe thead th {\n",
       "        text-align: right;\n",
       "    }\n",
       "</style>\n",
       "<table border=\"1\" class=\"dataframe\">\n",
       "  <thead>\n",
       "    <tr style=\"text-align: right;\">\n",
       "      <th></th>\n",
       "      <th>AssemblyPath</th>\n",
       "      <th>ConnectedComponents</th>\n",
       "      <th>RigidPieces</th>\n",
       "      <th>LonePieces</th>\n",
       "      <th>NumParts</th>\n",
       "      <th>NumBinaryPartMates</th>\n",
       "      <th>TotalMates</th>\n",
       "      <th>HasAllGeometry</th>\n",
       "    </tr>\n",
       "  </thead>\n",
       "  <tbody>\n",
       "    <tr>\n",
       "      <th>214</th>\n",
       "      <td>a5f5816f5492810d0fd66173_336c4e87babaedda4577c...</td>\n",
       "      <td>1</td>\n",
       "      <td>2</td>\n",
       "      <td>0</td>\n",
       "      <td>2</td>\n",
       "      <td>1</td>\n",
       "      <td>1</td>\n",
       "      <td>True</td>\n",
       "    </tr>\n",
       "    <tr>\n",
       "      <th>279</th>\n",
       "      <td>87688bb8ccd911995ddc048c_6313170efcc25a6f36e56...</td>\n",
       "      <td>1</td>\n",
       "      <td>24</td>\n",
       "      <td>0</td>\n",
       "      <td>26</td>\n",
       "      <td>25</td>\n",
       "      <td>25</td>\n",
       "      <td>True</td>\n",
       "    </tr>\n",
       "    <tr>\n",
       "      <th>717</th>\n",
       "      <td>bc9eecda96f6f5de32e17e2d_9e7cae761db7b91c36ad8...</td>\n",
       "      <td>1</td>\n",
       "      <td>4</td>\n",
       "      <td>0</td>\n",
       "      <td>6</td>\n",
       "      <td>5</td>\n",
       "      <td>5</td>\n",
       "      <td>True</td>\n",
       "    </tr>\n",
       "    <tr>\n",
       "      <th>718</th>\n",
       "      <td>25810b6ce462551758ee0299_66b253044fc0ad1377599...</td>\n",
       "      <td>1</td>\n",
       "      <td>2</td>\n",
       "      <td>0</td>\n",
       "      <td>3</td>\n",
       "      <td>2</td>\n",
       "      <td>2</td>\n",
       "      <td>True</td>\n",
       "    </tr>\n",
       "    <tr>\n",
       "      <th>722</th>\n",
       "      <td>424fe553afa789d91041a448_66d6b65cc3bb4bb30aee0...</td>\n",
       "      <td>1</td>\n",
       "      <td>2</td>\n",
       "      <td>0</td>\n",
       "      <td>3</td>\n",
       "      <td>2</td>\n",
       "      <td>2</td>\n",
       "      <td>True</td>\n",
       "    </tr>\n",
       "    <tr>\n",
       "      <th>...</th>\n",
       "      <td>...</td>\n",
       "      <td>...</td>\n",
       "      <td>...</td>\n",
       "      <td>...</td>\n",
       "      <td>...</td>\n",
       "      <td>...</td>\n",
       "      <td>...</td>\n",
       "      <td>...</td>\n",
       "    </tr>\n",
       "    <tr>\n",
       "      <th>124234</th>\n",
       "      <td>79decbd0cf48a95b4a7a9243_0bd38558519d8a08662ed...</td>\n",
       "      <td>1</td>\n",
       "      <td>4</td>\n",
       "      <td>0</td>\n",
       "      <td>4</td>\n",
       "      <td>3</td>\n",
       "      <td>5</td>\n",
       "      <td>True</td>\n",
       "    </tr>\n",
       "    <tr>\n",
       "      <th>124361</th>\n",
       "      <td>5953eeb34765f33b4052739d_979a01b235c9c9d8a3a77...</td>\n",
       "      <td>1</td>\n",
       "      <td>4</td>\n",
       "      <td>0</td>\n",
       "      <td>4</td>\n",
       "      <td>3</td>\n",
       "      <td>3</td>\n",
       "      <td>True</td>\n",
       "    </tr>\n",
       "    <tr>\n",
       "      <th>124555</th>\n",
       "      <td>3d8a4b9ed2378a582bbead7f_134b296f2139df1f65962...</td>\n",
       "      <td>1</td>\n",
       "      <td>2</td>\n",
       "      <td>0</td>\n",
       "      <td>3</td>\n",
       "      <td>2</td>\n",
       "      <td>2</td>\n",
       "      <td>True</td>\n",
       "    </tr>\n",
       "    <tr>\n",
       "      <th>124650</th>\n",
       "      <td>772cc1bdb0e13d11f07d616e_9c0ebdeed806f079e895b...</td>\n",
       "      <td>1</td>\n",
       "      <td>5</td>\n",
       "      <td>0</td>\n",
       "      <td>6</td>\n",
       "      <td>6</td>\n",
       "      <td>6</td>\n",
       "      <td>True</td>\n",
       "    </tr>\n",
       "    <tr>\n",
       "      <th>125028</th>\n",
       "      <td>d1a6459af9ac9f4fd2eba978_32959bf0b61b0a3f2fb14...</td>\n",
       "      <td>1</td>\n",
       "      <td>2</td>\n",
       "      <td>0</td>\n",
       "      <td>2</td>\n",
       "      <td>1</td>\n",
       "      <td>1</td>\n",
       "      <td>True</td>\n",
       "    </tr>\n",
       "  </tbody>\n",
       "</table>\n",
       "<p>510 rows × 8 columns</p>\n",
       "</div>"
      ],
      "text/plain": [
       "                                             AssemblyPath  \\\n",
       "214     a5f5816f5492810d0fd66173_336c4e87babaedda4577c...   \n",
       "279     87688bb8ccd911995ddc048c_6313170efcc25a6f36e56...   \n",
       "717     bc9eecda96f6f5de32e17e2d_9e7cae761db7b91c36ad8...   \n",
       "718     25810b6ce462551758ee0299_66b253044fc0ad1377599...   \n",
       "722     424fe553afa789d91041a448_66d6b65cc3bb4bb30aee0...   \n",
       "...                                                   ...   \n",
       "124234  79decbd0cf48a95b4a7a9243_0bd38558519d8a08662ed...   \n",
       "124361  5953eeb34765f33b4052739d_979a01b235c9c9d8a3a77...   \n",
       "124555  3d8a4b9ed2378a582bbead7f_134b296f2139df1f65962...   \n",
       "124650  772cc1bdb0e13d11f07d616e_9c0ebdeed806f079e895b...   \n",
       "125028  d1a6459af9ac9f4fd2eba978_32959bf0b61b0a3f2fb14...   \n",
       "\n",
       "        ConnectedComponents  RigidPieces  LonePieces  NumParts  \\\n",
       "214                       1            2           0         2   \n",
       "279                       1           24           0        26   \n",
       "717                       1            4           0         6   \n",
       "718                       1            2           0         3   \n",
       "722                       1            2           0         3   \n",
       "...                     ...          ...         ...       ...   \n",
       "124234                    1            4           0         4   \n",
       "124361                    1            4           0         4   \n",
       "124555                    1            2           0         3   \n",
       "124650                    1            5           0         6   \n",
       "125028                    1            2           0         2   \n",
       "\n",
       "        NumBinaryPartMates  TotalMates HasAllGeometry  \n",
       "214                      1           1           True  \n",
       "279                     25          25           True  \n",
       "717                      5           5           True  \n",
       "718                      2           2           True  \n",
       "722                      2           2           True  \n",
       "...                    ...         ...            ...  \n",
       "124234                   3           5           True  \n",
       "124361                   3           3           True  \n",
       "124555                   2           2           True  \n",
       "124650                   6           6           True  \n",
       "125028                   1           1           True  \n",
       "\n",
       "[510 rows x 8 columns]"
      ]
     },
     "execution_count": 53,
     "metadata": {},
     "output_type": "execute_result"
    }
   ],
   "source": [
    "assembly_df.loc[hasball[hasball['Type']].index]"
   ]
  },
  {
   "cell_type": "code",
   "execution_count": 159,
   "id": "72369d84-6066-4724-9b9a-95abc85549a4",
   "metadata": {},
   "outputs": [
    {
     "name": "stdout",
     "output_type": "stream",
     "text": [
      "number of mates missed by heuristics, by type, out of 55939\n"
     ]
    },
    {
     "data": {
      "text/plain": [
       "<AxesSubplot:>"
      ]
     },
     "execution_count": 159,
     "metadata": {},
     "output_type": "execute_result"
    },
    {
     "data": {
      "image/png": "[encoded data removed]",
      "text/plain": [
       "<Figure size 432x288 with 1 Axes>"
      ]
     },
     "metadata": {
      "needs_background": "light"
     },
     "output_type": "display_data"
    }
   ],
   "source": [
    "print('number of mates missed by heuristics, by type, out of',recorded_mates.shape[0])\n",
    "missed_mates['type'].hist()"
   ]
  },
  {
   "cell_type": "markdown",
   "id": "3167e2cf",
   "metadata": {},
   "source": [
    "# Legacy statistics"
   ]
  },
  {
   "cell_type": "code",
   "execution_count": null,
   "id": "db3ff6fa",
   "metadata": {},
   "outputs": [],
   "source": [
    "skipped = 0\n",
    "\n",
    "#number of assemblies with lone pieces\n",
    "\n",
    "c_num_lone_pieces = []\n",
    "\n",
    "#number of assemblies with disconnected components\n",
    "\n",
    "c_num_components = []\n",
    "\n",
    "#number of parts in fully connected assemblies\n",
    "\n",
    "c_num_parts_connected = []\n",
    "\n",
    "#number of rigid components in fully connected assemblies\n",
    "\n",
    "c_num_rigid_connected = []\n",
    "\n",
    "#same, but without the condition?\n",
    "\n",
    "c_num_parts = []\n",
    "\n",
    "c_num_rigid = []\n",
    "\n",
    "#for data in datalist:\n",
    "for j,entry in enumerate(os.scandir(os.path.join(datapath,'data','flattened_assemblies'))):\n",
    "    if j % 1000 == 0:\n",
    "        print(j)\n",
    "    if not entry.name.endswith('.json') or entry.name in filter_set:\n",
    "        continue\n",
    "    try:\n",
    "        #occs, mates = loader.load(data[0], data[1], data[2], geometry=False)\n",
    "        occs, mates = loader.load_flattened(entry.path, geometry=False)\n",
    "    except KeyError as e:\n",
    "        #print(e)\n",
    "        skipped += 1\n",
    "        continue\n",
    "    except FileNotFoundError as e:\n",
    "        #print(e)\n",
    "        skipped += 1\n",
    "        continue\n",
    "    #print(occs, mates)\n",
    "    adj = adjacency_matrix(occs, mates)\n",
    "    num_connections = np.sum(adj, 0)\n",
    "    num_lone = len([c for c in num_connections if c == 0])\n",
    "    c_num_lone_pieces.append(num_lone)\n",
    "    \n",
    "    num_components = connected_components(adj)\n",
    "    num_rigid = connected_components(adj, connectionType='fasten')\n",
    "    c_num_components.append(num_components)\n",
    "    \n",
    "    c_num_rigid.append(num_rigid)\n",
    "    c_num_parts.append(adj.shape[0])\n",
    "    if num_components == 1:\n",
    "        c_num_parts_connected.append(adj.shape[0])\n",
    "        c_num_rigid_connected.append(num_rigid)\n",
    "\n",
    "    \n",
    "    \n",
    "print('skipped',skipped)"
   ]
  },
  {
   "cell_type": "code",
   "execution_count": null,
   "id": "a7b174b8",
   "metadata": {},
   "outputs": [],
   "source": [
    "num_with_lone_pieces = len([c for c in c_num_lone_pieces if c > 0])\n",
    "num_fully_connected = len([c for c in c_num_components if c == 1])\n",
    "num_processed = len(c_num_parts)\n",
    "print('number of assemblies processed: %d'%num_processed)\n",
    "print('assemblies with lone pieces: %d (%.2f%%)'%(num_with_lone_pieces, num_with_lone_pieces/num_processed*100))\n",
    "print('assemblies fully connected: %d (%.2f%%)'%(num_fully_connected, num_fully_connected/num_processed*100))\n",
    "nbins = 40\n",
    "plt.hist(c_num_parts, nbins, range=(0, nbins+1))\n",
    "plt.title('num parts')\n",
    "plt.show()\n",
    "plt.hist(c_num_rigid, nbins, range=(0,nbins+1))\n",
    "plt.title('num rigid components')\n",
    "plt.show()\n",
    "plt.hist(c_num_parts_connected, nbins, range=(0, nbins+1))\n",
    "plt.title('num parts in connected models')\n",
    "plt.show()\n",
    "plt.hist(c_num_rigid_connected, nbins, range=(0, nbins+1))\n",
    "plt.title('num rigid components in connected models')\n",
    "plt.show()\n",
    "plt.hist(c_num_lone_pieces, nbins, range=(0, nbins+1))\n",
    "plt.title('num lone pieces')\n",
    "plt.show()\n",
    "plt.hist(c_num_components, nbins, range=(0, nbins+1))\n",
    "plt.title('num connected components')\n",
    "plt.show()\n"
   ]
  },
  {
   "cell_type": "code",
   "execution_count": null,
   "id": "73abe22c",
   "metadata": {},
   "outputs": [],
   "source": [
    "len([c for c in c_num_rigid_connected if c >= 2])"
   ]
  },
  {
   "cell_type": "code",
   "execution_count": null,
   "id": "38611e58",
   "metadata": {},
   "outputs": [],
   "source": [
    "len([c for c in c_num_parts_connected if c == 2])"
   ]
  },
  {
   "cell_type": "code",
   "execution_count": null,
   "id": "e05a1b37",
   "metadata": {},
   "outputs": [],
   "source": [
    "num_with_more_than_2_rigid = len([c for c in c_num_rigid_connected if c > 2])\n",
    "print(num_with_more_than_2_rigid)\n",
    "print(num_with_more_than_2_rigid/num_processed*100)"
   ]
  },
  {
   "cell_type": "code",
   "execution_count": null,
   "id": "dfd99eea",
   "metadata": {},
   "outputs": [],
   "source": [
    "num_with_more_than_2_parts = len([c for c in c_num_parts_connected if c > 2])\n",
    "print(num_with_more_than_2_parts)\n",
    "print(num_with_more_than_2_parts/num_processed*100)"
   ]
  },
  {
   "cell_type": "code",
   "execution_count": null,
   "id": "1518d75e",
   "metadata": {},
   "outputs": [],
   "source": [
    "num_with_lone_parts = len([c for c in c_num_lone_pieces if c > 0])\n",
    "print(num_with_lone_parts)\n",
    "print(num_with_lone_parts/num_processed*100)"
   ]
  },
  {
   "cell_type": "markdown",
   "id": "9f499b85-3e69-4fea-aa25-9ad429e4ded8",
   "metadata": {},
   "source": [
    "# Torch + heuristics data generation statistics"
   ]
  },
  {
   "cell_type": "code",
   "execution_count": 47,
   "id": "6098c13a-c9e9-4a15-915c-d51ef3a4b970",
   "metadata": {},
   "outputs": [],
   "source": [
    "statspath = '/fast/jamesn8/assembly_data/assembly_torch2_fixsize/stats'"
   ]
  },
  {
   "cell_type": "raw",
   "id": "a65bb580-798f-44bf-95bf-c0f2bd61dd5e",
   "metadata": {},
   "source": [
    "mate_stat_names = []\n",
    "stat_names = []\n",
    "for entry in os.scandir(statspath):\n",
    "    if entry.name.endswith('.parquet'):\n",
    "        if entry.name.startswith('mate_'):\n",
    "            mate_stat_names.append(entry.name)\n",
    "        elif entry.name.startswith('stats_'):\n",
    "            stat_names.append(entry.name)\n",
    "stat_dfs = [ps.read_parquet(os.path.join(statspath, name)) for name in stat_names]\n",
    "mate_stat_dfs = [ps.read_parquet(os.path.join(statspath, name)) for name in mate_stat_names]\n",
    "\n",
    "stats_df = ps.concat(stat_dfs, axis=0)\n",
    "mate_stats_df = ps.concat(mate_stat_dfs, axis=0)\n",
    "\n",
    "stats_df.drop_duplicates(inplace=True)\n",
    "mate_stats_df.drop_duplicates(inplace=True)"
   ]
  },
  {
   "cell_type": "code",
   "execution_count": 80,
   "id": "ed137326-1def-4349-97d5-09cbbc89c310",
   "metadata": {},
   "outputs": [],
   "source": [
    "stats_df = ps.read_parquet(os.path.join(statspath, 'stats_all.parquet'))\n",
    "mate_stats_df = ps.read_parquet(os.path.join(statspath, 'mate_stats_all.parquet'))"
   ]
  },
  {
   "cell_type": "code",
   "execution_count": 81,
   "id": "df5090da-942a-4f3d-bf99-2d0f2582b3d1",
   "metadata": {},
   "outputs": [],
   "source": [
    "#stats_df_filtered = stats_df[lambda df: ~df['skipped']]"
   ]
  },
  {
   "cell_type": "code",
   "execution_count": 118,
   "id": "acbf3235-5a93-4fa7-9979-7382b96a082d",
   "metadata": {},
   "outputs": [],
   "source": [
    "# Filter to our simple dataset as well\n",
    "with open('/projects/grail/jamesn8/projects/mechanical/Mechanical/data/dataset/simple_valid_dataset.txt','r') as f:\n",
    "    simple_valid_indices = {int(l) for l in f.readlines()}\n",
    "newindex = simple_valid_indices.intersection(stats_df.index)\n",
    "stats_df_filtered = stats_df.loc[newindex]"
   ]
  },
  {
   "cell_type": "code",
   "execution_count": 130,
   "id": "c0ac5756-a362-43ea-ab1e-182152824405",
   "metadata": {},
   "outputs": [],
   "source": [
    "mate_df_by_ass = mate_df.set_index(\"Assembly\")"
   ]
  },
  {
   "cell_type": "code",
   "execution_count": 131,
   "id": "fdc198ec-6f7d-4271-8723-fa56a8227f96",
   "metadata": {},
   "outputs": [],
   "source": [
    "mate_df_by_ass['mateId'] = mate_df.index"
   ]
  },
  {
   "cell_type": "code",
   "execution_count": 132,
   "id": "261c6372-814a-4161-bc07-dc25f3b259d7",
   "metadata": {},
   "outputs": [],
   "source": [
    "mate_df_by_ass = mate_df_by_ass.loc[stats_df_filtered.index]"
   ]
  },
  {
   "cell_type": "code",
   "execution_count": 121,
   "id": "109651d3-8a81-4b31-b66a-61819207be9a",
   "metadata": {},
   "outputs": [],
   "source": [
    "mate_types = [\n",
    "            'PIN_SLOT',\n",
    "            'BALL',\n",
    "            'PARALLEL',\n",
    "            'SLIDER',\n",
    "            'REVOLUTE',\n",
    "            'CYLINDRICAL',\n",
    "            'PLANAR',\n",
    "            'FASTENED'\n",
    "        ]"
   ]
  },
  {
   "cell_type": "code",
   "execution_count": 141,
   "id": "afca1c5f-f7b2-443f-9292-fdfe1c4412f2",
   "metadata": {},
   "outputs": [
    {
     "data": {
      "text/plain": [
       "<AxesSubplot:title={'center':'mate types frequency'}>"
      ]
     },
     "execution_count": 141,
     "metadata": {},
     "output_type": "execute_result"
    },
    {
     "data": {
      "image/png": "[encoded data removed]",
      "text/plain": [
       "<Figure size 432x288 with 1 Axes>"
      ]
     },
     "metadata": {
      "needs_background": "light"
     },
     "output_type": "display_data"
    }
   ],
   "source": [
    "mate_df_by_ass.loc[stats_df_filtered.index]['Type'].value_counts().plot.bar(title='mate types frequency')"
   ]
  },
  {
   "cell_type": "markdown",
   "id": "0432807d-1003-4f61-b39d-b798589e2b93",
   "metadata": {},
   "source": [
    "### mate data generation statistics"
   ]
  },
  {
   "cell_type": "code",
   "execution_count": 125,
   "id": "3ae93e28-50b6-400d-b652-68fc48a52d92",
   "metadata": {},
   "outputs": [],
   "source": [
    "mate_stats_df['type'] = mate_df.loc[mate_stats_df.index, 'Type']"
   ]
  },
  {
   "cell_type": "code",
   "execution_count": 126,
   "id": "08881efb-e249-4d2f-b637-7572938c9f32",
   "metadata": {},
   "outputs": [],
   "source": [
    "mate_stats_df['assembly'] = mate_df.loc[mate_stats_df.index, 'Assembly']"
   ]
  },
  {
   "cell_type": "code",
   "execution_count": 147,
   "id": "87174ae7-554f-46be-9c94-6f637304e086",
   "metadata": {},
   "outputs": [],
   "source": [
    "#filter out to the simple subset\n",
    "mate_stats_df = mate_stats_df[lambda df: [d in simple_valid_indices for d in df['assembly']]]"
   ]
  },
  {
   "cell_type": "code",
   "execution_count": 155,
   "id": "7c476f11-854a-42d3-a43f-d7c6152b94f0",
   "metadata": {},
   "outputs": [
    {
     "data": {
      "text/plain": [
       "0.06260081137885527"
      ]
     },
     "execution_count": 155,
     "metadata": {},
     "output_type": "execute_result"
    }
   ],
   "source": [
    "(mate_stats_df['num_possible_mc_pairs']==0).sum()/mate_stats_df.shape[0]"
   ]
  },
  {
   "cell_type": "code",
   "execution_count": 151,
   "id": "e7ec1425-bd14-4b7d-a10f-f5c7df202d17",
   "metadata": {},
   "outputs": [],
   "source": [
    "invalid_mates_per_assembly = mate_stats_df.groupby('assembly')['num_possible_mc_pairs'].agg(lambda xs: len([x for x in xs if x == 0]))"
   ]
  },
  {
   "cell_type": "code",
   "execution_count": 152,
   "id": "959db4da-74ec-4f3b-94d7-f2a87bc22529",
   "metadata": {},
   "outputs": [
    {
     "data": {
      "text/plain": [
       "(1983,)"
      ]
     },
     "execution_count": 152,
     "metadata": {},
     "output_type": "execute_result"
    }
   ],
   "source": [
    "invalid_mates_per_assembly[lambda df: df > 0].shape"
   ]
  },
  {
   "cell_type": "code",
   "execution_count": 153,
   "id": "6b5f5134-e30d-4f67-8873-f7d112d878bb",
   "metadata": {},
   "outputs": [],
   "source": [
    "invalid_mate_counts = (mate_stats_df.groupby('type')['num_possible_mc_pairs']).agg(lambda xs: len([x for x in xs if x == 0]))"
   ]
  },
  {
   "cell_type": "code",
   "execution_count": 154,
   "id": "25ab53f6-179e-46bd-92ad-11fc947c95e4",
   "metadata": {},
   "outputs": [
    {
     "data": {
      "text/plain": [
       "<AxesSubplot:title={'center':'mates with no proposals'}, xlabel='type'>"
      ]
     },
     "execution_count": 154,
     "metadata": {},
     "output_type": "execute_result"
    },
    {
     "data": {
      "image/png": "[encoded data removed]",
      "text/plain": [
       "<Figure size 432x288 with 1 Axes>"
      ]
     },
     "metadata": {
      "needs_background": "light"
     },
     "output_type": "display_data"
    }
   ],
   "source": [
    "invalid_mate_counts.plot.bar(title='mates with no proposals')"
   ]
  },
  {
   "cell_type": "code",
   "execution_count": 156,
   "id": "bc271eea-5fe0-4e36-ab36-caaa8cafee8c",
   "metadata": {},
   "outputs": [
    {
     "data": {
      "text/plain": [
       "type\n",
       "CYLINDRICAL      18\n",
       "FASTENED       3011\n",
       "REVOLUTE       1828\n",
       "SLIDER          266\n",
       "Name: num_possible_mc_pairs, dtype: int64"
      ]
     },
     "execution_count": 156,
     "metadata": {},
     "output_type": "execute_result"
    }
   ],
   "source": [
    "invalid_mate_counts"
   ]
  },
  {
   "cell_type": "code",
   "execution_count": 92,
   "id": "ed4c062d-34af-44b5-b474-fac76d2c3405",
   "metadata": {},
   "outputs": [],
   "source": [
    "mate_counts = mate_stats_df.groupby('type')['num_possible_mc_pairs'].sum()"
   ]
  },
  {
   "cell_type": "code",
   "execution_count": 93,
   "id": "918734c9-6280-40da-9c6c-ce311d9a033d",
   "metadata": {},
   "outputs": [
    {
     "data": {
      "text/plain": [
       "<AxesSubplot:xlabel='type'>"
      ]
     },
     "execution_count": 93,
     "metadata": {},
     "output_type": "execute_result"
    },
    {
     "data": {
      "image/png": "[encoded data removed]",
      "text/plain": [
       "<Figure size 432x288 with 1 Axes>"
      ]
     },
     "metadata": {
      "needs_background": "light"
     },
     "output_type": "display_data"
    }
   ],
   "source": [
    "mate_counts.drop(['PARALLEL', 'PLANAR']).plot.bar()"
   ]
  },
  {
   "cell_type": "code",
   "execution_count": null,
   "id": "1ca97aa6-6fd7-4891-96dc-81f827ada4bb",
   "metadata": {},
   "outputs": [],
   "source": []
  },
  {
   "cell_type": "code",
   "execution_count": 50,
   "id": "fa8b0451-4b59-4fd9-8204-8ff13219135d",
   "metadata": {},
   "outputs": [],
   "source": [
    "mate_mcs = mate_stats_df.groupby('type')['num_possible_mc_pairs'].sum()"
   ]
  },
  {
   "cell_type": "code",
   "execution_count": 51,
   "id": "4ac7d7fb-1212-40fb-9ab3-a9d21ea66c8f",
   "metadata": {},
   "outputs": [
    {
     "data": {
      "text/plain": [
       "type\n",
       "BALL                3275\n",
       "CYLINDRICAL      5559681\n",
       "FASTENED          890808\n",
       "PARALLEL       141039798\n",
       "PLANAR          71305475\n",
       "REVOLUTE          571816\n",
       "SLIDER           5164891\n",
       "Name: num_possible_mc_pairs, dtype: int64"
      ]
     },
     "execution_count": 51,
     "metadata": {},
     "output_type": "execute_result"
    }
   ],
   "source": [
    "mate_mcs"
   ]
  },
  {
   "cell_type": "code",
   "execution_count": 53,
   "id": "54f3cb9b-dcdb-459f-a2d0-b2064db7e1c1",
   "metadata": {},
   "outputs": [],
   "source": [
    "weights = np.array([1/weight for weight in mate_mcs])"
   ]
  },
  {
   "cell_type": "code",
   "execution_count": 54,
   "id": "3b3ff355-ff72-4e33-a639-82b9ea364df1",
   "metadata": {},
   "outputs": [],
   "source": [
    "weights /= weights.max()"
   ]
  },
  {
   "cell_type": "code",
   "execution_count": 55,
   "id": "15ad8448-4622-4254-b95d-de06a8d78777",
   "metadata": {},
   "outputs": [
    {
     "data": {
      "text/plain": [
       "array([1.00000000e+00, 5.89062574e-04, 3.67643757e-03, 2.32203963e-05,\n",
       "       4.59291520e-05, 5.72736685e-03, 6.34088890e-04])"
      ]
     },
     "execution_count": 55,
     "metadata": {},
     "output_type": "execute_result"
    }
   ],
   "source": [
    "weights"
   ]
  },
  {
   "cell_type": "code",
   "execution_count": 68,
   "id": "7ef5dd60-bc5b-4762-b97a-f08a1d642654",
   "metadata": {},
   "outputs": [],
   "source": [
    "weights_df = ps.DataFrame({'weights': weights/weights[3]}, index=mate_mcs.index)"
   ]
  },
  {
   "cell_type": "code",
   "execution_count": 72,
   "id": "42cdb96a-ca7d-4b71-8fcb-33aa927e7888",
   "metadata": {},
   "outputs": [
    {
     "data": {
      "text/plain": [
       "[43065.587175572524,\n",
       " 25.3683256287546,\n",
       " 158.32794272166393,\n",
       " 1.0,\n",
       " 1.9779658995329603,\n",
       " 246.6524161618423,\n",
       " 27.307410359676517]"
      ]
     },
     "execution_count": 72,
     "metadata": {},
     "output_type": "execute_result"
    }
   ],
   "source": [
    "list(weights_df['weights'])"
   ]
  },
  {
   "cell_type": "code",
   "execution_count": 73,
   "id": "8404ebdf-975f-4e64-ad1a-e564b7f664ce",
   "metadata": {},
   "outputs": [
    {
     "name": "stdout",
     "output_type": "stream",
     "text": [
      "[4.30655872e+04 2.53683256e+01 1.58327943e+02 1.00000000e+00\n",
      " 1.97796590e+00 2.46652416e+02 2.73074104e+01]\n"
     ]
    }
   ],
   "source": [
    "print(np.array(weights_df['weights']))"
   ]
  },
  {
   "cell_type": "code",
   "execution_count": 83,
   "id": "35ef59f7-4f17-456e-936f-4b57e817ae86",
   "metadata": {},
   "outputs": [
    {
     "name": "stdout",
     "output_type": "stream",
     "text": [
      "BALL 43065.587175572524\n",
      "PARALLEL 1.0\n",
      "SLIDER 27.307410359676517\n",
      "REVOLUTE 246.6524161618423\n",
      "CYLINDRICAL 25.3683256287546\n",
      "PLANAR 1.9779658995329603\n",
      "FASTENED 158.32794272166393\n"
     ]
    }
   ],
   "source": [
    "sorted_weights = [1.0]\n",
    "for t in mate_types:\n",
    "    if t != 'PIN_SLOT':\n",
    "        print(t, weights_df.loc[t,'weights'])\n",
    "        sorted_weights.append(weights_df.loc[t,'weights'])\n",
    "        "
   ]
  },
  {
   "cell_type": "code",
   "execution_count": 82,
   "id": "13e009df-78cc-47c3-b8ae-533084a6ab13",
   "metadata": {},
   "outputs": [
    {
     "data": {
      "text/plain": [
       "[1.0,\n",
       " 43065.587175572524,\n",
       " 1.0,\n",
       " 27.307410359676517,\n",
       " 246.6524161618423,\n",
       " 25.3683256287546,\n",
       " 1.9779658995329603,\n",
       " 158.32794272166393]"
      ]
     },
     "execution_count": 82,
     "metadata": {},
     "output_type": "execute_result"
    }
   ],
   "source": [
    "sorted_weights"
   ]
  },
  {
   "cell_type": "code",
   "execution_count": 97,
   "id": "47d45f36-4962-4c01-ab3d-2137c516d39c",
   "metadata": {},
   "outputs": [
    {
     "data": {
      "text/html": [
       "<div>\n",
       "<style scoped>\n",
       "    .dataframe tbody tr th:only-of-type {\n",
       "        vertical-align: middle;\n",
       "    }\n",
       "\n",
       "    .dataframe tbody tr th {\n",
       "        vertical-align: top;\n",
       "    }\n",
       "\n",
       "    .dataframe thead th {\n",
       "        text-align: right;\n",
       "    }\n",
       "</style>\n",
       "<table border=\"1\" class=\"dataframe\">\n",
       "  <thead>\n",
       "    <tr style=\"text-align: right;\">\n",
       "      <th></th>\n",
       "      <th>num_total_parts</th>\n",
       "      <th>num_invalid_loaded_parts</th>\n",
       "      <th>num_topologies</th>\n",
       "      <th>too_big</th>\n",
       "      <th>invalid_bbox</th>\n",
       "      <th>maxdim</th>\n",
       "      <th>num_normalized_parts_with_discrepancies</th>\n",
       "      <th>num_invalid_transformed_parts</th>\n",
       "      <th>initialized</th>\n",
       "      <th>num_mates</th>\n",
       "      <th>...</th>\n",
       "      <th>match_time</th>\n",
       "      <th>truncated_mc_pairs</th>\n",
       "      <th>truncation_time</th>\n",
       "      <th>reordering_time</th>\n",
       "      <th>conversion_time</th>\n",
       "      <th>invalid_topo_bboxes:</th>\n",
       "      <th>parts_with_invalid_topo_bboxes</th>\n",
       "      <th>num_mcs</th>\n",
       "      <th>skipped</th>\n",
       "      <th>has_mc_pairs</th>\n",
       "    </tr>\n",
       "    <tr>\n",
       "      <th>index</th>\n",
       "      <th></th>\n",
       "      <th></th>\n",
       "      <th></th>\n",
       "      <th></th>\n",
       "      <th></th>\n",
       "      <th></th>\n",
       "      <th></th>\n",
       "      <th></th>\n",
       "      <th></th>\n",
       "      <th></th>\n",
       "      <th></th>\n",
       "      <th></th>\n",
       "      <th></th>\n",
       "      <th></th>\n",
       "      <th></th>\n",
       "      <th></th>\n",
       "      <th></th>\n",
       "      <th></th>\n",
       "      <th></th>\n",
       "      <th></th>\n",
       "      <th></th>\n",
       "    </tr>\n",
       "  </thead>\n",
       "  <tbody>\n",
       "    <tr>\n",
       "      <th>122936</th>\n",
       "      <td>5</td>\n",
       "      <td>1</td>\n",
       "      <td>2117</td>\n",
       "      <td>False</td>\n",
       "      <td>False</td>\n",
       "      <td>0.064609</td>\n",
       "      <td>1.0</td>\n",
       "      <td>0.0</td>\n",
       "      <td>True</td>\n",
       "      <td>4.0</td>\n",
       "      <td>...</td>\n",
       "      <td>0.031878</td>\n",
       "      <td>False</td>\n",
       "      <td>0.063220</td>\n",
       "      <td>0.127627</td>\n",
       "      <td>2.311207</td>\n",
       "      <td>0.0</td>\n",
       "      <td>0.0</td>\n",
       "      <td>3464</td>\n",
       "      <td>False</td>\n",
       "      <td>True</td>\n",
       "    </tr>\n",
       "    <tr>\n",
       "      <th>107641</th>\n",
       "      <td>9</td>\n",
       "      <td>2</td>\n",
       "      <td>165</td>\n",
       "      <td>False</td>\n",
       "      <td>False</td>\n",
       "      <td>0.702500</td>\n",
       "      <td>0.0</td>\n",
       "      <td>0.0</td>\n",
       "      <td>True</td>\n",
       "      <td>8.0</td>\n",
       "      <td>...</td>\n",
       "      <td>0.002901</td>\n",
       "      <td>False</td>\n",
       "      <td>0.000612</td>\n",
       "      <td>0.001083</td>\n",
       "      <td>0.041090</td>\n",
       "      <td>0.0</td>\n",
       "      <td>0.0</td>\n",
       "      <td>311</td>\n",
       "      <td>False</td>\n",
       "      <td>True</td>\n",
       "    </tr>\n",
       "    <tr>\n",
       "      <th>107654</th>\n",
       "      <td>9</td>\n",
       "      <td>2</td>\n",
       "      <td>392</td>\n",
       "      <td>False</td>\n",
       "      <td>False</td>\n",
       "      <td>2.000000</td>\n",
       "      <td>0.0</td>\n",
       "      <td>0.0</td>\n",
       "      <td>True</td>\n",
       "      <td>8.0</td>\n",
       "      <td>...</td>\n",
       "      <td>0.002646</td>\n",
       "      <td>False</td>\n",
       "      <td>0.030492</td>\n",
       "      <td>0.068052</td>\n",
       "      <td>1.409005</td>\n",
       "      <td>0.0</td>\n",
       "      <td>0.0</td>\n",
       "      <td>1574</td>\n",
       "      <td>False</td>\n",
       "      <td>True</td>\n",
       "    </tr>\n",
       "    <tr>\n",
       "      <th>107667</th>\n",
       "      <td>4</td>\n",
       "      <td>1</td>\n",
       "      <td>2262</td>\n",
       "      <td>False</td>\n",
       "      <td>False</td>\n",
       "      <td>0.082598</td>\n",
       "      <td>0.0</td>\n",
       "      <td>0.0</td>\n",
       "      <td>True</td>\n",
       "      <td>3.0</td>\n",
       "      <td>...</td>\n",
       "      <td>0.000028</td>\n",
       "      <td>False</td>\n",
       "      <td>0.012554</td>\n",
       "      <td>0.020409</td>\n",
       "      <td>0.479623</td>\n",
       "      <td>0.0</td>\n",
       "      <td>0.0</td>\n",
       "      <td>4311</td>\n",
       "      <td>False</td>\n",
       "      <td>True</td>\n",
       "    </tr>\n",
       "    <tr>\n",
       "      <th>107723</th>\n",
       "      <td>4</td>\n",
       "      <td>1</td>\n",
       "      <td>2130</td>\n",
       "      <td>False</td>\n",
       "      <td>False</td>\n",
       "      <td>0.080000</td>\n",
       "      <td>0.0</td>\n",
       "      <td>0.0</td>\n",
       "      <td>True</td>\n",
       "      <td>3.0</td>\n",
       "      <td>...</td>\n",
       "      <td>0.020659</td>\n",
       "      <td>True</td>\n",
       "      <td>2.721498</td>\n",
       "      <td>2.827904</td>\n",
       "      <td>2.786508</td>\n",
       "      <td>0.0</td>\n",
       "      <td>0.0</td>\n",
       "      <td>4996</td>\n",
       "      <td>False</td>\n",
       "      <td>True</td>\n",
       "    </tr>\n",
       "    <tr>\n",
       "      <th>...</th>\n",
       "      <td>...</td>\n",
       "      <td>...</td>\n",
       "      <td>...</td>\n",
       "      <td>...</td>\n",
       "      <td>...</td>\n",
       "      <td>...</td>\n",
       "      <td>...</td>\n",
       "      <td>...</td>\n",
       "      <td>...</td>\n",
       "      <td>...</td>\n",
       "      <td>...</td>\n",
       "      <td>...</td>\n",
       "      <td>...</td>\n",
       "      <td>...</td>\n",
       "      <td>...</td>\n",
       "      <td>...</td>\n",
       "      <td>...</td>\n",
       "      <td>...</td>\n",
       "      <td>...</td>\n",
       "      <td>...</td>\n",
       "      <td>...</td>\n",
       "    </tr>\n",
       "    <tr>\n",
       "      <th>119539</th>\n",
       "      <td>5</td>\n",
       "      <td>1</td>\n",
       "      <td>312</td>\n",
       "      <td>False</td>\n",
       "      <td>False</td>\n",
       "      <td>2.400000</td>\n",
       "      <td>0.0</td>\n",
       "      <td>0.0</td>\n",
       "      <td>True</td>\n",
       "      <td>4.0</td>\n",
       "      <td>...</td>\n",
       "      <td>0.004854</td>\n",
       "      <td>False</td>\n",
       "      <td>0.001521</td>\n",
       "      <td>0.002567</td>\n",
       "      <td>0.083961</td>\n",
       "      <td>0.0</td>\n",
       "      <td>0.0</td>\n",
       "      <td>916</td>\n",
       "      <td>False</td>\n",
       "      <td>True</td>\n",
       "    </tr>\n",
       "    <tr>\n",
       "      <th>120778</th>\n",
       "      <td>9</td>\n",
       "      <td>1</td>\n",
       "      <td>2612</td>\n",
       "      <td>False</td>\n",
       "      <td>False</td>\n",
       "      <td>2.044000</td>\n",
       "      <td>0.0</td>\n",
       "      <td>0.0</td>\n",
       "      <td>True</td>\n",
       "      <td>8.0</td>\n",
       "      <td>...</td>\n",
       "      <td>0.074214</td>\n",
       "      <td>True</td>\n",
       "      <td>2.405158</td>\n",
       "      <td>2.547153</td>\n",
       "      <td>2.861394</td>\n",
       "      <td>0.0</td>\n",
       "      <td>0.0</td>\n",
       "      <td>11408</td>\n",
       "      <td>False</td>\n",
       "      <td>True</td>\n",
       "    </tr>\n",
       "    <tr>\n",
       "      <th>121102</th>\n",
       "      <td>7</td>\n",
       "      <td>2</td>\n",
       "      <td>640</td>\n",
       "      <td>False</td>\n",
       "      <td>False</td>\n",
       "      <td>0.785000</td>\n",
       "      <td>0.0</td>\n",
       "      <td>0.0</td>\n",
       "      <td>True</td>\n",
       "      <td>7.0</td>\n",
       "      <td>...</td>\n",
       "      <td>0.012658</td>\n",
       "      <td>False</td>\n",
       "      <td>0.004640</td>\n",
       "      <td>0.007700</td>\n",
       "      <td>0.229555</td>\n",
       "      <td>0.0</td>\n",
       "      <td>0.0</td>\n",
       "      <td>2472</td>\n",
       "      <td>False</td>\n",
       "      <td>True</td>\n",
       "    </tr>\n",
       "    <tr>\n",
       "      <th>123602</th>\n",
       "      <td>8</td>\n",
       "      <td>3</td>\n",
       "      <td>769</td>\n",
       "      <td>False</td>\n",
       "      <td>False</td>\n",
       "      <td>0.197907</td>\n",
       "      <td>0.0</td>\n",
       "      <td>0.0</td>\n",
       "      <td>True</td>\n",
       "      <td>8.0</td>\n",
       "      <td>...</td>\n",
       "      <td>0.008953</td>\n",
       "      <td>False</td>\n",
       "      <td>0.004633</td>\n",
       "      <td>0.007526</td>\n",
       "      <td>0.198731</td>\n",
       "      <td>0.0</td>\n",
       "      <td>0.0</td>\n",
       "      <td>1655</td>\n",
       "      <td>False</td>\n",
       "      <td>True</td>\n",
       "    </tr>\n",
       "    <tr>\n",
       "      <th>124665</th>\n",
       "      <td>24</td>\n",
       "      <td>2</td>\n",
       "      <td>3215</td>\n",
       "      <td>False</td>\n",
       "      <td>False</td>\n",
       "      <td>0.514000</td>\n",
       "      <td>0.0</td>\n",
       "      <td>0.0</td>\n",
       "      <td>True</td>\n",
       "      <td>23.0</td>\n",
       "      <td>...</td>\n",
       "      <td>0.063651</td>\n",
       "      <td>True</td>\n",
       "      <td>0.441868</td>\n",
       "      <td>0.579890</td>\n",
       "      <td>2.824575</td>\n",
       "      <td>0.0</td>\n",
       "      <td>0.0</td>\n",
       "      <td>9571</td>\n",
       "      <td>False</td>\n",
       "      <td>True</td>\n",
       "    </tr>\n",
       "  </tbody>\n",
       "</table>\n",
       "<p>150 rows × 26 columns</p>\n",
       "</div>"
      ],
      "text/plain": [
       "        num_total_parts  num_invalid_loaded_parts  num_topologies  too_big  \\\n",
       "index                                                                        \n",
       "122936                5                         1            2117    False   \n",
       "107641                9                         2             165    False   \n",
       "107654                9                         2             392    False   \n",
       "107667                4                         1            2262    False   \n",
       "107723                4                         1            2130    False   \n",
       "...                 ...                       ...             ...      ...   \n",
       "119539                5                         1             312    False   \n",
       "120778                9                         1            2612    False   \n",
       "121102                7                         2             640    False   \n",
       "123602                8                         3             769    False   \n",
       "124665               24                         2            3215    False   \n",
       "\n",
       "        invalid_bbox    maxdim  num_normalized_parts_with_discrepancies  \\\n",
       "index                                                                     \n",
       "122936         False  0.064609                                      1.0   \n",
       "107641         False  0.702500                                      0.0   \n",
       "107654         False  2.000000                                      0.0   \n",
       "107667         False  0.082598                                      0.0   \n",
       "107723         False  0.080000                                      0.0   \n",
       "...              ...       ...                                      ...   \n",
       "119539         False  2.400000                                      0.0   \n",
       "120778         False  2.044000                                      0.0   \n",
       "121102         False  0.785000                                      0.0   \n",
       "123602         False  0.197907                                      0.0   \n",
       "124665         False  0.514000                                      0.0   \n",
       "\n",
       "        num_invalid_transformed_parts  initialized  num_mates  ...  \\\n",
       "index                                                          ...   \n",
       "122936                            0.0         True        4.0  ...   \n",
       "107641                            0.0         True        8.0  ...   \n",
       "107654                            0.0         True        8.0  ...   \n",
       "107667                            0.0         True        3.0  ...   \n",
       "107723                            0.0         True        3.0  ...   \n",
       "...                               ...          ...        ...  ...   \n",
       "119539                            0.0         True        4.0  ...   \n",
       "120778                            0.0         True        8.0  ...   \n",
       "121102                            0.0         True        7.0  ...   \n",
       "123602                            0.0         True        8.0  ...   \n",
       "124665                            0.0         True       23.0  ...   \n",
       "\n",
       "        match_time  truncated_mc_pairs  truncation_time  reordering_time  \\\n",
       "index                                                                      \n",
       "122936    0.031878               False         0.063220         0.127627   \n",
       "107641    0.002901               False         0.000612         0.001083   \n",
       "107654    0.002646               False         0.030492         0.068052   \n",
       "107667    0.000028               False         0.012554         0.020409   \n",
       "107723    0.020659                True         2.721498         2.827904   \n",
       "...            ...                 ...              ...              ...   \n",
       "119539    0.004854               False         0.001521         0.002567   \n",
       "120778    0.074214                True         2.405158         2.547153   \n",
       "121102    0.012658               False         0.004640         0.007700   \n",
       "123602    0.008953               False         0.004633         0.007526   \n",
       "124665    0.063651                True         0.441868         0.579890   \n",
       "\n",
       "        conversion_time  invalid_topo_bboxes:  parts_with_invalid_topo_bboxes  \\\n",
       "index                                                                           \n",
       "122936         2.311207                   0.0                             0.0   \n",
       "107641         0.041090                   0.0                             0.0   \n",
       "107654         1.409005                   0.0                             0.0   \n",
       "107667         0.479623                   0.0                             0.0   \n",
       "107723         2.786508                   0.0                             0.0   \n",
       "...                 ...                   ...                             ...   \n",
       "119539         0.083961                   0.0                             0.0   \n",
       "120778         2.861394                   0.0                             0.0   \n",
       "121102         0.229555                   0.0                             0.0   \n",
       "123602         0.198731                   0.0                             0.0   \n",
       "124665         2.824575                   0.0                             0.0   \n",
       "\n",
       "        num_mcs  skipped  has_mc_pairs  \n",
       "index                                   \n",
       "122936     3464    False          True  \n",
       "107641      311    False          True  \n",
       "107654     1574    False          True  \n",
       "107667     4311    False          True  \n",
       "107723     4996    False          True  \n",
       "...         ...      ...           ...  \n",
       "119539      916    False          True  \n",
       "120778    11408    False          True  \n",
       "121102     2472    False          True  \n",
       "123602     1655    False          True  \n",
       "124665     9571    False          True  \n",
       "\n",
       "[150 rows x 26 columns]"
      ]
     },
     "execution_count": 97,
     "metadata": {},
     "output_type": "execute_result"
    }
   ],
   "source": [
    "stats_df_filtered[lambda df: df['num_invalid_loaded_parts'] > 0]"
   ]
  },
  {
   "cell_type": "code",
   "execution_count": 98,
   "id": "d02df6e2-23a3-43d7-89bc-c4df0687eb96",
   "metadata": {},
   "outputs": [
    {
     "data": {
      "text/plain": [
       "(19211, 26)"
      ]
     },
     "execution_count": 98,
     "metadata": {},
     "output_type": "execute_result"
    }
   ],
   "source": [
    "stats_df_filtered.shape"
   ]
  },
  {
   "cell_type": "markdown",
   "id": "c74abbb9-60d5-4ca7-9d43-1be366761987",
   "metadata": {},
   "source": [
    "# Analyze negative examples in batches"
   ]
  },
  {
   "cell_type": "code",
   "execution_count": 186,
   "id": "30f46739-43f4-46c8-a03d-064c689dff9b",
   "metadata": {},
   "outputs": [],
   "source": [
    "import torch"
   ]
  },
  {
   "cell_type": "code",
   "execution_count": 256,
   "id": "fb367545-889a-44d6-b25a-944331b38b6e",
   "metadata": {
    "tags": []
   },
   "outputs": [
    {
     "name": "stdout",
     "output_type": "stream",
     "text": [
      "processed 0\n",
      "processed 100\n",
      "processed 200\n",
      "processed 300\n",
      "processed 400\n",
      "processed 500\n",
      "processed 600\n",
      "processed 700\n",
      "processed 800\n",
      "processed 900\n",
      "processed 1000\n",
      "processed 1100\n",
      "processed 1200\n",
      "processed 1300\n",
      "processed 1400\n",
      "processed 1500\n",
      "processed 1600\n",
      "processed 1700\n",
      "processed 1800\n",
      "processed 1900\n",
      "processed 2000\n",
      "processed 2100\n",
      "processed 2200\n",
      "processed 2300\n",
      "processed 2400\n",
      "processed 2500\n",
      "processed 2600\n",
      "processed 2700\n",
      "processed 2800\n",
      "processed 2900\n",
      "processed 3000\n",
      "processed 3100\n",
      "processed 3200\n",
      "processed 3300\n",
      "processed 3400\n",
      "processed 3500\n",
      "processed 3600\n",
      "processed 3700\n",
      "processed 3800\n",
      "processed 3900\n",
      "processed 4000\n",
      "processed 4100\n",
      "processed 4200\n",
      "processed 4300\n",
      "processed 4400\n",
      "processed 4500\n",
      "processed 4600\n",
      "processed 4700\n",
      "processed 4800\n",
      "processed 4900\n",
      "processed 5000\n",
      "processed 5100\n",
      "processed 5200\n",
      "processed 5300\n",
      "processed 5400\n",
      "processed 5500\n",
      "processed 5600\n",
      "processed 5700\n",
      "processed 5800\n",
      "processed 5900\n",
      "processed 6000\n",
      "processed 6100\n",
      "processed 6200\n",
      "processed 6300\n",
      "processed 6400\n",
      "processed 6500\n",
      "processed 6600\n",
      "processed 6700\n",
      "processed 6800\n",
      "processed 6900\n",
      "processed 7000\n",
      "processed 7100\n",
      "processed 7200\n",
      "processed 7300\n",
      "processed 7400\n",
      "processed 7500\n",
      "processed 7600\n",
      "processed 7700\n",
      "processed 7800\n",
      "processed 7900\n",
      "processed 8000\n",
      "processed 8100\n",
      "processed 8200\n",
      "processed 8300\n",
      "processed 8400\n",
      "processed 8500\n",
      "processed 8600\n",
      "processed 8700\n",
      "processed 8800\n",
      "processed 8900\n",
      "processed 9000\n",
      "processed 9100\n",
      "processed 9200\n",
      "processed 9300\n",
      "processed 9400\n",
      "processed 9500\n",
      "processed 9600\n",
      "processed 9700\n",
      "processed 9800\n",
      "processed 9900\n",
      "processed 10000\n",
      "processed 10100\n",
      "processed 10200\n",
      "processed 10300\n",
      "processed 10400\n",
      "processed 10500\n",
      "processed 10600\n",
      "processed 10700\n",
      "processed 10800\n",
      "processed 10900\n",
      "processed 11000\n",
      "processed 11100\n",
      "processed 11200\n",
      "processed 11300\n",
      "processed 11400\n",
      "processed 11500\n",
      "processed 11600\n",
      "processed 11700\n",
      "processed 11800\n",
      "processed 11900\n",
      "processed 12000\n",
      "processed 12100\n",
      "processed 12200\n",
      "processed 12300\n",
      "processed 12400\n",
      "processed 12500\n",
      "processed 12600\n",
      "processed 12700\n",
      "processed 12800\n",
      "processed 12900\n",
      "processed 13000\n",
      "processed 13100\n",
      "processed 13200\n",
      "processed 13300\n",
      "processed 13400\n",
      "processed 13500\n",
      "processed 13600\n",
      "processed 13700\n",
      "processed 13800\n",
      "processed 13900\n",
      "processed 14000\n",
      "processed 14100\n",
      "processed 14200\n",
      "processed 14300\n",
      "processed 14400\n",
      "processed 14500\n",
      "processed 14600\n",
      "processed 14700\n",
      "processed 14800\n",
      "processed 14900\n",
      "processed 15000\n",
      "processed 15100\n",
      "processed 15200\n",
      "processed 15300\n",
      "processed 15400\n",
      "processed 15500\n",
      "processed 15600\n",
      "processed 15700\n",
      "processed 15800\n",
      "processed 15900\n",
      "processed 16000\n",
      "processed 16100\n",
      "processed 16200\n",
      "processed 16300\n",
      "processed 16400\n",
      "processed 16500\n",
      "processed 16600\n",
      "processed 16700\n",
      "processed 16800\n",
      "processed 16900\n",
      "processed 17000\n",
      "processed 17100\n",
      "processed 17200\n",
      "processed 17300\n",
      "processed 17400\n",
      "processed 17500\n",
      "processed 17600\n",
      "processed 17700\n",
      "processed 17800\n",
      "processed 17900\n",
      "processed 18000\n",
      "processed 18100\n",
      "processed 18200\n",
      "processed 18300\n",
      "processed 18400\n",
      "processed 18500\n",
      "processed 18600\n",
      "processed 18700\n",
      "processed 18800\n",
      "processed 18900\n",
      "processed 19000\n",
      "processed 19100\n"
     ]
    }
   ],
   "source": [
    "negativestat_rows = []\n",
    "negativestat_indices = []\n",
    "ind = 0\n",
    "torchpath = '/fast/jamesn8/assembly_data/assembly_torch2_fixsize/data'\n",
    "for i,entry in enumerate(os.scandir(torchpath)):\n",
    "    if i % 100 == 0:\n",
    "        print('processed',i)\n",
    "    batch = torch.load(entry.path)\n",
    "    if not hasattr(batch, 'pair_indices'):\n",
    "        continue\n",
    "    pos_pairs = set()\n",
    "    pos_comp_pairs = dict()\n",
    "    for k in range(batch.part_edges.shape[1]):\n",
    "        part_pair = batch.part_edges[:,k]\n",
    "        if batch.pair_indices[k] >= 0:\n",
    "            pos_pairs.add((part_pair[0].item(), part_pair[1].item()))\n",
    "            comp_pair = batch.rigid_labels[part_pair]\n",
    "            comp_pair = tuple(sorted([t.item() for t in comp_pair]))\n",
    "            dist = batch.part_pair_feats[1,k].item()\n",
    "            if comp_pair not in pos_comp_pairs:\n",
    "                pos_comp_pairs[comp_pair] = dist\n",
    "            else:\n",
    "                pos_comp_pairs[comp_pair] = min(pos_comp_pairs[comp_pair], dist)\n",
    "    for k in range(batch.part_edges.shape[1]):\n",
    "        part_pair = batch.part_edges[:,k]\n",
    "        if batch.pair_indices[k] < 0:\n",
    "            stat = dict()\n",
    "            stat['assembly'] = batch.assembly.item()\n",
    "            \n",
    "            comp_pair = batch.rigid_labels[part_pair]\n",
    "            comp_pair = tuple(sorted([t.item() for t in comp_pair]))\n",
    "            stat['has_alternate_mate_with_same_components'] = comp_pair in pos_comp_pairs\n",
    "            if comp_pair in pos_comp_pairs:\n",
    "                stat['alternate_mate_dist'] = pos_comp_pairs[comp_pair]\n",
    "                \n",
    "            \n",
    "#             for j in range(2):\n",
    "#                 new_pair = [part_pair[0].item(), part_pair[1].item()]\n",
    "#                 comp = batch.rigid_labels[part_pair[j]].item()\n",
    "#                 same_comp_inds = (batch.rigid_labels == comp).nonzero()\n",
    "#                 for p in same_comp_inds:\n",
    "#                     new_pair[j] = p.item()\n",
    "#                     new_pair_sorted = tuple(sorted(new_pair))\n",
    "#                     if new_pair_sorted in pos_pairs:\n",
    "#                         stat['has_mate_with_component'] = True\n",
    "#                         break\n",
    "            \n",
    "            \n",
    "            stat['rigid_component0'] = batch.rigid_labels[part_pair[0]].item()\n",
    "            stat['rigid_component1'] = batch.rigid_labels[part_pair[1]].item()\n",
    "            stat['same_rigid_component'] = batch.rigid_labels[part_pair[0]].item() == batch.rigid_labels[part_pair[1]].item()\n",
    "            stat['min_distance'] = batch.part_pair_feats[1,k].item()\n",
    "            \n",
    "            negativestat_indices.append(ind)\n",
    "            negativestat_rows.append(stat)\n",
    "            ind += 1\n",
    "#     if i > 10:  \n",
    "#         break\n",
    "\n",
    "negativestat_df2 = ps.DataFrame(negativestat_rows, index = negativestat_indices)"
   ]
  },
  {
   "cell_type": "code",
   "execution_count": 257,
   "id": "ec2c23a2-b9ed-4fb0-8099-59a03806df2c",
   "metadata": {},
   "outputs": [
    {
     "data": {
      "text/html": [
       "<div>\n",
       "<style scoped>\n",
       "    .dataframe tbody tr th:only-of-type {\n",
       "        vertical-align: middle;\n",
       "    }\n",
       "\n",
       "    .dataframe tbody tr th {\n",
       "        vertical-align: top;\n",
       "    }\n",
       "\n",
       "    .dataframe thead th {\n",
       "        text-align: right;\n",
       "    }\n",
       "</style>\n",
       "<table border=\"1\" class=\"dataframe\">\n",
       "  <thead>\n",
       "    <tr style=\"text-align: right;\">\n",
       "      <th></th>\n",
       "      <th>assembly</th>\n",
       "      <th>has_alternate_mate_with_same_components</th>\n",
       "      <th>rigid_component0</th>\n",
       "      <th>rigid_component1</th>\n",
       "      <th>same_rigid_component</th>\n",
       "      <th>min_distance</th>\n",
       "      <th>alternate_mate_dist</th>\n",
       "    </tr>\n",
       "  </thead>\n",
       "  <tbody>\n",
       "    <tr>\n",
       "      <th>39</th>\n",
       "      <td>79625</td>\n",
       "      <td>True</td>\n",
       "      <td>0</td>\n",
       "      <td>2</td>\n",
       "      <td>False</td>\n",
       "      <td>0.200634</td>\n",
       "      <td>1.998702e-01</td>\n",
       "    </tr>\n",
       "    <tr>\n",
       "      <th>103</th>\n",
       "      <td>79625</td>\n",
       "      <td>True</td>\n",
       "      <td>0</td>\n",
       "      <td>12</td>\n",
       "      <td>False</td>\n",
       "      <td>0.101753</td>\n",
       "      <td>1.009103e-01</td>\n",
       "    </tr>\n",
       "    <tr>\n",
       "      <th>148</th>\n",
       "      <td>79625</td>\n",
       "      <td>True</td>\n",
       "      <td>0</td>\n",
       "      <td>5</td>\n",
       "      <td>False</td>\n",
       "      <td>0.104072</td>\n",
       "      <td>1.032322e-01</td>\n",
       "    </tr>\n",
       "    <tr>\n",
       "      <th>190</th>\n",
       "      <td>79625</td>\n",
       "      <td>True</td>\n",
       "      <td>0</td>\n",
       "      <td>8</td>\n",
       "      <td>False</td>\n",
       "      <td>0.184754</td>\n",
       "      <td>1.839748e-01</td>\n",
       "    </tr>\n",
       "    <tr>\n",
       "      <th>200</th>\n",
       "      <td>79625</td>\n",
       "      <td>True</td>\n",
       "      <td>0</td>\n",
       "      <td>7</td>\n",
       "      <td>False</td>\n",
       "      <td>0.184472</td>\n",
       "      <td>1.836934e-01</td>\n",
       "    </tr>\n",
       "    <tr>\n",
       "      <th>...</th>\n",
       "      <td>...</td>\n",
       "      <td>...</td>\n",
       "      <td>...</td>\n",
       "      <td>...</td>\n",
       "      <td>...</td>\n",
       "      <td>...</td>\n",
       "      <td>...</td>\n",
       "    </tr>\n",
       "    <tr>\n",
       "      <th>452149</th>\n",
       "      <td>6884</td>\n",
       "      <td>True</td>\n",
       "      <td>0</td>\n",
       "      <td>0</td>\n",
       "      <td>True</td>\n",
       "      <td>0.047244</td>\n",
       "      <td>3.469447e-18</td>\n",
       "    </tr>\n",
       "    <tr>\n",
       "      <th>452150</th>\n",
       "      <td>6884</td>\n",
       "      <td>True</td>\n",
       "      <td>0</td>\n",
       "      <td>0</td>\n",
       "      <td>True</td>\n",
       "      <td>0.047244</td>\n",
       "      <td>3.469447e-18</td>\n",
       "    </tr>\n",
       "    <tr>\n",
       "      <th>452151</th>\n",
       "      <td>6884</td>\n",
       "      <td>True</td>\n",
       "      <td>0</td>\n",
       "      <td>11</td>\n",
       "      <td>False</td>\n",
       "      <td>0.047244</td>\n",
       "      <td>4.163336e-17</td>\n",
       "    </tr>\n",
       "    <tr>\n",
       "      <th>452152</th>\n",
       "      <td>6884</td>\n",
       "      <td>True</td>\n",
       "      <td>4</td>\n",
       "      <td>4</td>\n",
       "      <td>True</td>\n",
       "      <td>0.047244</td>\n",
       "      <td>0.000000e+00</td>\n",
       "    </tr>\n",
       "    <tr>\n",
       "      <th>452153</th>\n",
       "      <td>6884</td>\n",
       "      <td>True</td>\n",
       "      <td>4</td>\n",
       "      <td>4</td>\n",
       "      <td>True</td>\n",
       "      <td>0.407087</td>\n",
       "      <td>0.000000e+00</td>\n",
       "    </tr>\n",
       "  </tbody>\n",
       "</table>\n",
       "<p>207525 rows × 7 columns</p>\n",
       "</div>"
      ],
      "text/plain": [
       "        assembly  has_alternate_mate_with_same_components  rigid_component0  \\\n",
       "39         79625                                     True                 0   \n",
       "103        79625                                     True                 0   \n",
       "148        79625                                     True                 0   \n",
       "190        79625                                     True                 0   \n",
       "200        79625                                     True                 0   \n",
       "...          ...                                      ...               ...   \n",
       "452149      6884                                     True                 0   \n",
       "452150      6884                                     True                 0   \n",
       "452151      6884                                     True                 0   \n",
       "452152      6884                                     True                 4   \n",
       "452153      6884                                     True                 4   \n",
       "\n",
       "        rigid_component1  same_rigid_component  min_distance  \\\n",
       "39                     2                 False      0.200634   \n",
       "103                   12                 False      0.101753   \n",
       "148                    5                 False      0.104072   \n",
       "190                    8                 False      0.184754   \n",
       "200                    7                 False      0.184472   \n",
       "...                  ...                   ...           ...   \n",
       "452149                 0                  True      0.047244   \n",
       "452150                 0                  True      0.047244   \n",
       "452151                11                 False      0.047244   \n",
       "452152                 4                  True      0.047244   \n",
       "452153                 4                  True      0.407087   \n",
       "\n",
       "        alternate_mate_dist  \n",
       "39             1.998702e-01  \n",
       "103            1.009103e-01  \n",
       "148            1.032322e-01  \n",
       "190            1.839748e-01  \n",
       "200            1.836934e-01  \n",
       "...                     ...  \n",
       "452149         3.469447e-18  \n",
       "452150         3.469447e-18  \n",
       "452151         4.163336e-17  \n",
       "452152         0.000000e+00  \n",
       "452153         0.000000e+00  \n",
       "\n",
       "[207525 rows x 7 columns]"
      ]
     },
     "execution_count": 257,
     "metadata": {},
     "output_type": "execute_result"
    }
   ],
   "source": [
    "negativestat_df2[lambda df: df['has_alternate_mate_with_same_components']]"
   ]
  },
  {
   "cell_type": "code",
   "execution_count": 223,
   "id": "3536fe00-4907-474e-abaa-7c4bbd7b7ddf",
   "metadata": {},
   "outputs": [
    {
     "ename": "NameError",
     "evalue": "name 'same_comp_inds' is not defined",
     "output_type": "error",
     "traceback": [
      "\u001b[0;31m---------------------------------------------------------------------------\u001b[0m",
      "\u001b[0;31mNameError\u001b[0m                                 Traceback (most recent call last)",
      "\u001b[0;32m/tmp/ipykernel_1603930/851209811.py\u001b[0m in \u001b[0;36m<module>\u001b[0;34m\u001b[0m\n\u001b[0;32m----> 1\u001b[0;31m \u001b[0msame_comp_inds\u001b[0m\u001b[0;34m\u001b[0m\u001b[0;34m\u001b[0m\u001b[0m\n\u001b[0m",
      "\u001b[0;31mNameError\u001b[0m: name 'same_comp_inds' is not defined"
     ]
    }
   ],
   "source": [
    "same_comp_inds"
   ]
  },
  {
   "cell_type": "code",
   "execution_count": 258,
   "id": "33798277-4790-472b-a4ae-20c4c5b38dd8",
   "metadata": {},
   "outputs": [],
   "source": [
    "alternate_rigid_negatives = negativestat_df2[lambda df: df['has_alternate_mate_with_same_components']].index"
   ]
  },
  {
   "cell_type": "code",
   "execution_count": 260,
   "id": "5ffe33a1-b4d5-4bbb-865e-5d59b662b406",
   "metadata": {},
   "outputs": [],
   "source": [
    "alternate_rigid_coincident_negatives = negativestat_df2[lambda df: (df['has_alternate_mate_with_same_components'] & (df['min_distance'] < 0.01))].index"
   ]
  },
  {
   "cell_type": "code",
   "execution_count": 215,
   "id": "e0c54546-c623-4c37-8569-78215f4f732f",
   "metadata": {},
   "outputs": [],
   "source": [
    "same_rigid_negatives = negativestat_df[lambda df: df['same_rigid_component']].index"
   ]
  },
  {
   "cell_type": "code",
   "execution_count": 213,
   "id": "4c0da2f4-b870-4fbe-a7a9-9d857332e70c",
   "metadata": {},
   "outputs": [],
   "source": [
    "false_negatives = negativestat_df[lambda df: (df['same_rigid_component'] & (df['min_distance'] < 0.01))].index"
   ]
  },
  {
   "cell_type": "code",
   "execution_count": 259,
   "id": "64549fe7-43cd-4c86-bb6c-f6128b560e54",
   "metadata": {},
   "outputs": [
    {
     "data": {
      "text/plain": [
       "0.4589271024069209"
      ]
     },
     "execution_count": 259,
     "metadata": {},
     "output_type": "execute_result"
    }
   ],
   "source": [
    "len(alternate_rigid_negatives) / negativestat_df.shape[0]"
   ]
  },
  {
   "cell_type": "code",
   "execution_count": 261,
   "id": "52ea4da6-de52-4823-a4af-b041eafcd056",
   "metadata": {},
   "outputs": [
    {
     "data": {
      "text/plain": [
       "0.07180514644092385"
      ]
     },
     "execution_count": 261,
     "metadata": {},
     "output_type": "execute_result"
    }
   ],
   "source": [
    "len(alternate_rigid_coincident_negatives) / negativestat_df.shape[0]"
   ]
  },
  {
   "cell_type": "code",
   "execution_count": 216,
   "id": "fef25199-2fc5-44d2-8f2e-ca67aa8e7327",
   "metadata": {},
   "outputs": [
    {
     "data": {
      "text/plain": [
       "0.2607785119726844"
      ]
     },
     "execution_count": 216,
     "metadata": {},
     "output_type": "execute_result"
    }
   ],
   "source": [
    "len(same_rigid_negatives) / negativestat_df.shape[0]"
   ]
  },
  {
   "cell_type": "code",
   "execution_count": 214,
   "id": "ef2ad497-ee21-4423-96ba-4bd0d9673fea",
   "metadata": {},
   "outputs": [
    {
     "data": {
      "text/plain": [
       "0.035758830241753574"
      ]
     },
     "execution_count": 214,
     "metadata": {},
     "output_type": "execute_result"
    }
   ],
   "source": [
    "len(false_negatives) / negativestat_df.shape[0]"
   ]
  },
  {
   "cell_type": "code",
   "execution_count": 217,
   "id": "9159871d-02f1-458a-a8e7-7ca9aa1630ed",
   "metadata": {},
   "outputs": [
    {
     "data": {
      "text/plain": [
       "0.19531795946890287"
      ]
     },
     "execution_count": 217,
     "metadata": {},
     "output_type": "execute_result"
    }
   ],
   "source": [
    "len(negativestat_df[lambda df: df['min_distance'] < 0.01].index)/ negativestat_df.shape[0]"
   ]
  },
  {
   "cell_type": "markdown",
   "id": "26b743a8-6314-4826-994c-83d52fd2fd14",
   "metadata": {},
   "source": [
    "# New statistics"
   ]
  },
  {
   "cell_type": "code",
   "execution_count": 25,
   "id": "19e8c3fd-eb0a-498d-9087-608f90ba317f",
   "metadata": {},
   "outputs": [],
   "source": [
    "part_df = part_df.set_index('Assembly')"
   ]
  },
  {
   "cell_type": "code",
   "execution_count": 26,
   "id": "35ca33e5-74ff-4cda-9589-c55728e2f823",
   "metadata": {},
   "outputs": [],
   "source": [
    "mate_df_indexed = mate_df.set_index('Assembly')"
   ]
  },
  {
   "cell_type": "markdown",
   "id": "af5eb40c-c4fc-4713-a43b-5b228d38d4a3",
   "metadata": {},
   "source": [
    "## Comparing mate statistics before and after handselection"
   ]
  },
  {
   "cell_type": "code",
   "execution_count": 27,
   "id": "6492a88a-3d82-4143-8526-00d71756d4a6",
   "metadata": {},
   "outputs": [],
   "source": [
    "#with open('/fast/jamesn8/assembly_data/assembly_torch2_fixsize/full_trueonly_validonly_train.flist','r') as f:\n",
    "with open('/projects/grail/jamesn8/projects/mechanical/Mechanical/data/dataset/valid_dataset.txt','r') as f:\n",
    "    valid_data = [int(l.split('.')[0]) for l in f.readlines()]"
   ]
  },
  {
   "cell_type": "code",
   "execution_count": 28,
   "id": "7a06f54c-fafc-4afc-bf09-b60a466d4ccf",
   "metadata": {},
   "outputs": [],
   "source": [
    "valid_mates = mate_df_indexed.loc[valid_data]"
   ]
  },
  {
   "cell_type": "code",
   "execution_count": 29,
   "id": "82850c8b-bc88-463e-ac1b-7951f177d756",
   "metadata": {},
   "outputs": [
    {
     "data": {
      "text/plain": [
       "<AxesSubplot:>"
      ]
     },
     "execution_count": 29,
     "metadata": {},
     "output_type": "execute_result"
    },
    {
     "data": {
      "image/png": "[encoded data removed]",
      "text/plain": [
       "<Figure size 432x288 with 1 Axes>"
      ]
     },
     "metadata": {
      "needs_background": "light"
     },
     "output_type": "display_data"
    }
   ],
   "source": [
    "valid_mates['Type'].value_counts().plot.bar()"
   ]
  },
  {
   "cell_type": "code",
   "execution_count": 30,
   "id": "b748ece5-4e7a-412a-97f8-29a491e435d7",
   "metadata": {},
   "outputs": [],
   "source": [
    "handselected_df = ps.read_csv('/projects/grail/jamesn8/projects/mechanical/Mechanical/data/dataset/handselected.csv', header=None)"
   ]
  },
  {
   "cell_type": "code",
   "execution_count": 31,
   "id": "af99b825-5243-49b6-8bba-0b1768b3de38",
   "metadata": {},
   "outputs": [],
   "source": [
    "handselected_mates = mate_df_indexed.loc[handselected_df[0]]"
   ]
  },
  {
   "cell_type": "code",
   "execution_count": 32,
   "id": "7c338239-3e84-4258-9e84-7ea2a5c32844",
   "metadata": {},
   "outputs": [
    {
     "data": {
      "text/plain": [
       "<AxesSubplot:>"
      ]
     },
     "execution_count": 32,
     "metadata": {},
     "output_type": "execute_result"
    },
    {
     "data": {
      "image/png": "[encoded data removed]",
      "text/plain": [
       "<Figure size 432x288 with 1 Axes>"
      ]
     },
     "metadata": {
      "needs_background": "light"
     },
     "output_type": "display_data"
    }
   ],
   "source": [
    "handselected_mates['Type'].value_counts().plot.bar()"
   ]
  },
  {
   "cell_type": "markdown",
   "id": "b1fce4ae-d8d2-4fef-9f43-6cb658e90f27",
   "metadata": {},
   "source": [
    "## Assemblies with only simple mate types"
   ]
  },
  {
   "cell_type": "code",
   "execution_count": 33,
   "id": "ecb9a0f6-b00e-4dd7-80cf-166fc860e16c",
   "metadata": {},
   "outputs": [],
   "source": [
    "def has_only_simple_mates(lst):\n",
    "    for l in lst:\n",
    "        if l not in {'FASTENED','REVOLUTE','CYLINDRICAL','SLIDER'}:\n",
    "            return False\n",
    "    return True"
   ]
  },
  {
   "cell_type": "code",
   "execution_count": 35,
   "id": "f879cea4-1a09-428e-93d9-032021508c21",
   "metadata": {},
   "outputs": [],
   "source": [
    "simple_only = valid_mates.groupby('Assembly')['Type'].agg(has_only_simple_mates)[lambda df: df]"
   ]
  },
  {
   "cell_type": "code",
   "execution_count": 40,
   "id": "a2c4b6e3-168a-4f08-a950-61d23bd13313",
   "metadata": {},
   "outputs": [],
   "source": [
    "with open('/projects/grail/jamesn8/projects/mechanical/Mechanical/data/dataset/simple_valid_dataset.txt','w') as f:\n",
    "    for ind in simple_only[lambda df: df].index:\n",
    "        f.write(str(ind) + '\\n')"
   ]
  },
  {
   "cell_type": "code",
   "execution_count": 41,
   "id": "6c6ae3a0-e4c0-44f3-97a3-f6d737693227",
   "metadata": {},
   "outputs": [],
   "source": [
    "filter_file='/fast/jamesn8/assembly_data/assembly_torch2_fixsize/stats_distance/'\n",
    "stats_df = ps.concat([ps.read_parquet(os.path.join(filter_file, fname)) for fname in os.listdir(filter_file) if fname.startswith('stats') and fname.endswith('.parquet')], axis=0).drop_duplicates()\n",
    "stats_df_filtered = stats_df[lambda df: (df['num_unconnected_close'] == 0) & (df['num_connected_far'] == 0)]\n",
    "filter_set = set(stats_df_filtered.index)"
   ]
  },
  {
   "cell_type": "code",
   "execution_count": 46,
   "id": "a271c06a-3d03-413a-93a9-17f6feaa6cbf",
   "metadata": {},
   "outputs": [],
   "source": [
    "simple_only_filtered = simple_only.loc[[ind for ind in simple_only.index if ind in filter_set]]"
   ]
  },
  {
   "cell_type": "code",
   "execution_count": 47,
   "id": "076c600d-501d-4ec1-9033-754f39b0d27c",
   "metadata": {},
   "outputs": [
    {
     "data": {
      "text/plain": [
       "Assembly\n",
       "40        True\n",
       "90        True\n",
       "121       True\n",
       "175       True\n",
       "200       True\n",
       "          ... \n",
       "124997    True\n",
       "125004    True\n",
       "125016    True\n",
       "125093    True\n",
       "125102    True\n",
       "Name: Type, Length: 4480, dtype: bool"
      ]
     },
     "execution_count": 47,
     "metadata": {},
     "output_type": "execute_result"
    }
   ],
   "source": [
    "simple_only_filtered"
   ]
  },
  {
   "cell_type": "code",
   "execution_count": null,
   "id": "b642c025-8c5f-4336-b968-cb39e53f4f13",
   "metadata": {},
   "outputs": [],
   "source": []
  }
 ],
 "metadata": {
  "kernelspec": {
   "display_name": "Python 3 (ipykernel)",
   "language": "python",
   "name": "python3"
  },
  "language_info": {
   "codemirror_mode": {
    "name": "ipython",
    "version": 3
   },
   "file_extension": ".py",
   "mimetype": "text/x-python",
   "name": "python",
   "nbconvert_exporter": "python",
   "pygments_lexer": "ipython3",
   "version": "3.9.6"
  }
 },
 "nbformat": 4,
 "nbformat_minor": 5
}
