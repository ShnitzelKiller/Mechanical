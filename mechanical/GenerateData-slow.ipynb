{
 "cells": [
  {
   "cell_type": "code",
   "execution_count": 2,
   "id": "5975519a-e887-4995-8b69-1e144588aa80",
   "metadata": {},
   "outputs": [],
   "source": [
    "import numpy as np\n",
    "import numpy.linalg as LA\n",
    "import meshplot as mp\n",
    "from IPython.display import JSON as DJSON\n",
    "from IPython.display import clear_output\n",
    "from pspart import Part\n",
    "from pspart import NNHash\n",
    "import os\n",
    "import pandas as ps\n",
    "from mate_proposals import mate_proposals\n",
    "from scipy.spatial.transform import Rotation as R\n",
    "import meshplot as mp\n",
    "import onshape.brepio as brepio"
   ]
  },
  {
   "cell_type": "code",
   "execution_count": 3,
   "id": "7bea5b3a-898c-4b9a-a8b1-75d8398c61fe",
   "metadata": {},
   "outputs": [],
   "source": [
    "datapath = '/projects/grail/benjones/cadlab'"
   ]
  },
  {
   "cell_type": "code",
   "execution_count": 4,
   "id": "f9c5faff-0fbe-475d-9503-3eb0db370aa0",
   "metadata": {},
   "outputs": [],
   "source": [
    "loader = brepio.Loader(datapath)"
   ]
  },
  {
   "cell_type": "code",
   "execution_count": 5,
   "id": "f1bce6f0-3478-4e66-9241-176788853713",
   "metadata": {},
   "outputs": [],
   "source": [
    "geo, mates = loader.load_flattened('0e2de88aa724d660e4093564_52ea6bfdd317472a99efcffa_316901caae65ff373c71ef88.json')"
   ]
  },
  {
   "cell_type": "code",
   "execution_count": 6,
   "id": "f887aec9-4b5b-498b-b5c1-9ca0911d0fdd",
   "metadata": {},
   "outputs": [],
   "source": [
    "name = '/fast/jamesn8/assembly_data/assembly_data_with_transforms_all.h5'\n",
    "assembly_df = ps.read_hdf(name,'assembly')"
   ]
  },
  {
   "cell_type": "code",
   "execution_count": 7,
   "id": "7225ebf6-20b8-42aa-bca2-fb5133bbeddb",
   "metadata": {},
   "outputs": [],
   "source": [
    "with open('fully_connected_moving_no_multimates.txt','r') as f:\n",
    "    set_E_indices = [int(l.rstrip()) for l in f.readlines()]"
   ]
  },
  {
   "cell_type": "code",
   "execution_count": 11,
   "id": "b9bc8516-aa0e-4846-8b2b-99327bf2d261",
   "metadata": {},
   "outputs": [
    {
     "name": "stdout",
     "output_type": "stream",
     "text": [
      "assembly_path: 0e2de88aa724d660e4093564_52ea6bfdd317472a99efcffa_316901caae65ff373c71ef88\n",
      "threshold: 0.00027400000000000005\n",
      "0 closest dist: 0.0\n",
      "1 closest dist: 0.0\n",
      "0 closest dist: 2.5713883747773856e-17\n",
      "1 closest dist: 1.0408340855860843e-17\n",
      "0 closest dist: 1.3877787807814457e-17\n",
      "1 closest dist: 0.002700000000000001\n",
      "invalid mate Revolute Servo-Servo axle\n",
      "0 closest dist: 3.2526065174565133e-19\n",
      "1 closest dist: 0.0067178457518662\n",
      "invalid mate Fastened Servo-Base\n",
      "0 closest dist: 0.0\n",
      "1 closest dist: 0.009552486587271397\n",
      "invalid mate Fastened Antenna-Base\n",
      "0 closest dist: 6.938893903907228e-18\n",
      "1 closest dist: 0.3978302860652944\n",
      "invalid mate Revolute Bearing F\n",
      "0 closest dist: 1.3877787807814457e-17\n",
      "1 closest dist: 0.1720758226916534\n",
      "invalid mate Revolute Bearing B\n",
      "0 closest dist: 1.3877787807814457e-17\n",
      "1 closest dist: 0.1057428846254173\n",
      "invalid mate Revolute Bearing R\n",
      "0 closest dist: 6.938893903907228e-18\n",
      "1 closest dist: 1.1136500420051743\n",
      "invalid mate Revolute Bearing L\n",
      "0 closest dist: 3.1031676915590914e-17\n",
      "1 closest dist: 1.414213562373095\n",
      "invalid mate Revolute Servo axle-rotor\n",
      "0 closest dist: 1.962615573354719e-17\n",
      "1 closest dist: 1.111140916027226\n",
      "invalid mate Slider Dome-Servo rotor\n",
      "0 closest dist: 0.0\n",
      "1 closest dist: 0.7692946228317495\n",
      "invalid mate Fastened Itsy Bitsy-Base\n",
      "0 closest dist: 2.787728152484798e-17\n",
      "1 closest dist: 0.7653694778516493\n",
      "invalid mate Fastened RFID-Base\n",
      "0 closest dist: 0.0009999999999999974\n",
      "invalid mate Fastened Base-Shell\n",
      "0 closest dist: 2.0978961840171517e-17\n",
      "1 closest dist: 0.0010000000000000009\n",
      "invalid mate Center pulley Revolute\n",
      "0 closest dist: 0.0010000000000000009\n",
      "invalid mate Servo pulley Revolute\n",
      "0 closest dist: 0.007249999999999972\n",
      "invalid mate Fastened Coil\n",
      "num invalid mates: 15/17\n"
     ]
    }
   ],
   "source": [
    "epsilon_rel = 0.001\n",
    "\n",
    "for ind in set_E_indices:\n",
    "    #clear_output(wait=True)\n",
    "    #display(f'num_processed: {ind}/{assembly_df.shape[0]}')\n",
    "\n",
    "    #1. spatially hash all MCFs (cache hash maps for each part for re-use with individual mates)\n",
    "    #2. for all mates, ensure that each MCF is represented (keep track of closest/equivalent MCFs, log percentage of assemblies for which this holds)\n",
    "    #3. get proposals, edit appropriate ones to true based on equivalence class computed per mated pair of parts (taking outer product of equivalent MCs on left and right)\n",
    "\n",
    "    assembly_path = assembly_df.loc[ind,'AssemblyPath']\n",
    "    print('assembly_path:',assembly_path)\n",
    "    geo, mates = loader.load_flattened(assembly_path + '.json')\n",
    "    \n",
    "    parts = [geo[k][1] for k in geo]\n",
    "    transforms = [geo[k][0] for k in geo]\n",
    "    mcf_hashes = []\n",
    "    mc_frames_all = []\n",
    "    occ_to_index = dict()\n",
    "    \n",
    "    #debug\n",
    "    all_points = []\n",
    "    \n",
    "    for j,occ in enumerate(geo):\n",
    "        occ_to_index[occ] = j\n",
    "        \n",
    "    maxdim = max([(part.bounding_box()[1]-part.bounding_box()[0]).max() for part in parts])\n",
    "    \n",
    "    for j in range(len(parts)):\n",
    "        part = parts[j]\n",
    "        tf = transforms[j]\n",
    "        mc_frames = []\n",
    "        for mc in part.all_mate_connectors:\n",
    "            cs = mc.get_coordinate_system()\n",
    "            frame = tf[:3,:3] @ cs[:3,:3]\n",
    "            origin = tf[:3,:3] @ cs[:3,3] + tf[:3,3]\n",
    "            all_points.append(origin)\n",
    "            rot = R.from_matrix(frame).as_quat()\n",
    "            mc_frames.append(np.concatenate([origin, rot]))\n",
    "        mc_frames_all.append(mc_frames)\n",
    "        frame_hash = NNHash(mc_frames, 7, maxdim * epsilon_rel)\n",
    "        #frame_hash = NNHash([mc_frame[:3] for mc_frame in mc_frames], 3, maxdim * epsilon_rel)\n",
    "        mcf_hashes.append(frame_hash)\n",
    "    \n",
    "    all_points = np.array(all_points)\n",
    "    #p = mp.plot(all_points)\n",
    "    print(f'threshold: {maxdim * epsilon_rel}')\n",
    "    num_invalid_mates = 0\n",
    "    for mate in mates:\n",
    "        for i in range(2):\n",
    "            occId = mate.matedEntities[i][0]\n",
    "            partIndex = occ_to_index[occId]\n",
    "            assert(list(geo.keys())[partIndex] == occId)\n",
    "            origin_local = mate.matedEntities[i][1][0]\n",
    "            frame_local = mate.matedEntities[i][1][1]\n",
    "            tf = transforms[partIndex]\n",
    "            origin = tf[:3,:3] @ origin_local + tf[:3,3]            \n",
    "            frame = tf[:3,:3] @ frame_local\n",
    "            #p.add_points(origin[np.newaxis],shading={'point_color':'blue','point_size':0.01})\n",
    "            rot = R.from_matrix(frame).as_quat()\n",
    "            mc_frame = np.concatenate([origin, rot])\n",
    "            found=False\n",
    "            minDist = np.inf\n",
    "            for k in range(len(mc_frames_all[partIndex])):\n",
    "                dist = LA.norm(mc_frames_all[partIndex][k] - mc_frame)\n",
    "                if dist < minDist:\n",
    "                    minDist = dist\n",
    "                if dist < maxdim * epsilon_rel:\n",
    "                    found=True\n",
    "                    break\n",
    "            \n",
    "            #neighbors = mcf_hashes[occ_to_index[occId]].get_nearest_points(np.concatenate([origin, rot]))\n",
    "            #neighbors = mcf_hashes[occ_to_index[occId]].get_nearest_points(origin)\n",
    "            print(f'{i} closest dist: {minDist}')\n",
    "            if not found:\n",
    "                num_invalid_mates += 1\n",
    "                print(f'invalid mate {mate.name}') \n",
    "                break\n",
    "    print(f'num invalid mates: {num_invalid_mates}/{len(mates)}')\n",
    "    break"
   ]
  },
  {
   "cell_type": "code",
   "execution_count": null,
   "id": "c07e751d-2f85-4594-a87a-4eebf7f47b6e",
   "metadata": {},
   "outputs": [
    {
     "data": {
      "text/plain": [
       "[376,\n",
       " 377,\n",
       " 378,\n",
       " 379,\n",
       " 380,\n",
       " 381,\n",
       " 382,\n",
       " 383,\n",
       " 384,\n",
       " 385,\n",
       " 386,\n",
       " 387,\n",
       " 388,\n",
       " 389,\n",
       " 390,\n",
       " 391,\n",
       " 392]"
      ]
     },
     "execution_count": 83,
     "metadata": {},
     "output_type": "execute_result"
    }
   ],
   "source": [
    "list(mate_subset['MateIndex'])"
   ]
  },
  {
   "cell_type": "code",
   "execution_count": null,
   "id": "95ded8a6-cdee-44fb-bd95-135c0f43e557",
   "metadata": {},
   "outputs": [],
   "source": []
  }
 ],
 "metadata": {
  "kernelspec": {
   "display_name": "Python 3 (ipykernel)",
   "language": "python",
   "name": "python3"
  },
  "language_info": {
   "codemirror_mode": {
    "name": "ipython",
    "version": 3
   },
   "file_extension": ".py",
   "mimetype": "text/x-python",
   "name": "python",
   "nbconvert_exporter": "python",
   "pygments_lexer": "ipython3",
   "version": "3.9.6"
  }
 },
 "nbformat": 4,
 "nbformat_minor": 5
}
