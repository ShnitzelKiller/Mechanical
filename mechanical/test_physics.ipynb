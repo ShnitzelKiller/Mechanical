{
 "cells": [
  {
   "cell_type": "code",
   "execution_count": 1,
   "id": "c64d45be",
   "metadata": {},
   "outputs": [],
   "source": [
    "import meshplot as mp\n",
    "import ipywidgets\n",
    "import numpy as np\n",
    "import physics.kernels.vectormath as vm\n",
    "import igl\n",
    "import physics.physics as phys\n",
    "import math\n",
    "import time"
   ]
  },
  {
   "cell_type": "code",
   "execution_count": 2,
   "id": "6bd1bb49",
   "metadata": {},
   "outputs": [],
   "source": [
    "import onshape.brepio as brepio"
   ]
  },
  {
   "cell_type": "code",
   "execution_count": 3,
   "id": "14a6bc54",
   "metadata": {},
   "outputs": [],
   "source": [
    "def add_axis(plot, center, x_dir, y_dir, z_dir, scale=1):\n",
    "    V = np.array([center, center+x_dir * scale, center+y_dir * scale, center+z_dir * scale])\n",
    "    Ex = np.array([[0,1]])\n",
    "    Ey = np.array([[0,2]])\n",
    "    Ez = np.array([[0,3]])\n",
    "    plot.add_edges(V, Ex, shading={'line_color':'red'})\n",
    "    plot.add_edges(V, Ey, shading={'line_color':'green'})\n",
    "    plot.add_edges(V, Ez, shading={'line_color':'blue'})"
   ]
  },
  {
   "cell_type": "code",
   "execution_count": 4,
   "id": "4ada3432",
   "metadata": {},
   "outputs": [],
   "source": [
    "loader = brepio.Loader('/projects/grail/benjones/cadlab')\n",
    "did = '03180acbded3ea455c3e63ba'\n",
    "mv = 'a5cc038a1c26099430d7314c'\n",
    "eid = 'ee7cd5d7207130248b7845a2'\n",
    "\n",
    "parts, mates = loader.load(did, mv, eid)\n",
    "bounding_boxes = [parts[i][1].bounding_box() for i in parts]\n",
    "maxdim = np.max([np.max(bbox[1,:]-bbox[0,:]) for bbox in bounding_boxes])"
   ]
  },
  {
   "cell_type": "markdown",
   "id": "0630ed8c",
   "metadata": {},
   "source": [
    "try:\n",
    "    plot\n",
    "except NameError:\n",
    "    pass\n",
    "else:\n",
    "    del plot\n",
    "\n",
    "for i in parts:\n",
    "    g = parts[i]\n",
    "    V = g[1].V.copy()\n",
    "    F = g[1].F\n",
    "    \n",
    "    V = (g[0][:3,:3] @ V.T).T + g[0][:3,3]\n",
    "    \n",
    "    \n",
    "    colors = None\n",
    "    try:\n",
    "        plot\n",
    "    except NameError:\n",
    "        plot = mp.plot(V, F, c=colors, return_plot=True)\n",
    "    else:\n",
    "        plot.add_mesh(V, F, c=colors)\n",
    "        \n",
    "for mate in mates:\n",
    "    for mated in mate.matedEntities:\n",
    "        tf = parts[mated[0]][0]\n",
    "        newaxes = tf[:3, :3] @ mated[1][1]\n",
    "        neworigin = tf[:3,:3] @ mated[1][0] + tf[:3,3]\n",
    "        add_axis(plot, neworigin, newaxes[:,0], newaxes[:,1], newaxes[:,2], scale=maxdim/10)\n",
    "plot"
   ]
  },
  {
   "cell_type": "code",
   "execution_count": 5,
   "id": "771d83a4",
   "metadata": {},
   "outputs": [],
   "source": [
    "def mate_meshes(mate):\n",
    "    meshes = []\n",
    "    for mated in mate.matedEntities:\n",
    "        tf = parts[mated[0]][0]\n",
    "        V = parts[mated[0]][1].V.copy()\n",
    "        F = parts[mated[0]][1].F\n",
    "        V = np.ascontiguousarray((tf[:3,:3] @ V.T).T + tf[:3,3])\n",
    "        #mp.plot(V, F)\n",
    "        meshes.append((V, F))\n",
    "    return meshes\n",
    "\n",
    "def mate_phys_objs(mate, griddim, radius=-1):\n",
    "    print('reinitializing physics objects')\n",
    "    meshes = mate_meshes(mate)\n",
    "    mated = mate.matedEntities[0]\n",
    "    tf = parts[mated[0]][0]\n",
    "    origin = tf[:3,:3] @ mated[1][0] + tf[:3,3]\n",
    "    bounds = None\n",
    "    if radius > 0:\n",
    "        bounds = (origin - radius, origin + radius)\n",
    "        print('bounds:',bounds,bounds[0].dtype)\n",
    "    physObjs = [phys.PhysObject(V, F, griddim, bounds=bounds) for V, F in meshes]\n",
    "    print('physobj rotation',physObjs[0].rotation)\n",
    "    return (physObjs, bounds)"
   ]
  },
  {
   "cell_type": "code",
   "execution_count": 6,
   "id": "b9ed2c13",
   "metadata": {},
   "outputs": [],
   "source": [
    "def joinmeshes(v1, f1, v2, f2):\n",
    "    return np.vstack((v1, v2)), np.vstack((f1, f2 + v1.shape[0]))\n",
    "\n",
    "\n",
    "\n",
    "def display_animation(v1, f1, v2, f2, states):\n",
    "    fullv, fullf = joinmeshes(v1, f1, v2, f2)\n",
    "    p = mp.plot(fullv, fullf) #TODO: render initial state\n",
    "    n = len(states)\n",
    "    play = ipywidgets.Play(min=0, max=n-1, step=1, interval=10, disabled=False)\n",
    "    def ff(t):\n",
    "        vs = []\n",
    "        for j in range(2):\n",
    "            v = (v1, v2)[j]\n",
    "            R = vm.quaternion_to_matrix(states[t][1][j][0])\n",
    "            x = states[t][1][j][1]\n",
    "            newv = (R @ v.T).T + x\n",
    "            vs.append(newv)\n",
    "        fullv = np.vstack(vs)\n",
    "        p.update_object(vertices=fullv)\n",
    "    ipywidgets.interactive(ff, t=play)\n",
    "    slider = ipywidgets.IntSlider(min=0, max=n-1, step=1)\n",
    "    ipywidgets.jslink((play,'value'),(slider,'value'))\n",
    "    return ipywidgets.HBox([play, slider])"
   ]
  },
  {
   "cell_type": "code",
   "execution_count": 9,
   "id": "4c49697f",
   "metadata": {
    "scrolled": true
   },
   "outputs": [
    {
     "name": "stdout",
     "output_type": "stream",
     "text": [
      "mate 0\n",
      "reinitializing physics objects\n",
      "bounds: (array([-0.02125, -0.005  , -0.0055 ]), array([-0.01125,  0.005  ,  0.0045 ])) float64\n",
      "rotation [1. 0. 0. 0.]\n",
      "rotationEND [1. 0. 0. 0.]\n",
      "rotation [1. 0. 0. 0.]\n",
      "rotationEND [1. 0. 0. 0.]\n",
      "physobj rotation [1. 0. 0. 0.]\n",
      "state: [1. 0. 0. 0.] [0.00831881 0.00012332 0.00352896]\n",
      "state: [1. 0. 0. 0.] [-1.6176173e-02  8.9838715e-05  7.3518585e-03]\n",
      "physObjects created in 0.7077815532684326 s\n",
      "copied data to GPU in 0.05276322364807129\n",
      "(0.0, [(array([1., 0., 0., 0.], dtype=float32), array([0.00831881, 0.00012332, 0.00352896], dtype=float32)), (array([1., 0., 0., 0.], dtype=float32), array([-1.6176173e-02,  8.9838715e-05,  7.3518585e-03], dtype=float32))])\n",
      "(0.001, [(array([ 0.11753564,  0.96533686, -0.01144272, -0.23276408], dtype=float32), array([0.1409571 , 0.12659265, 0.00352896], dtype=float32)), (array([ 8.0136734e-04, -3.4490782e-01,  3.4933624e-01,  8.7120730e-01],\n",
      "      dtype=float32), array([-3.2552266 , -3.088313  ,  0.00735186], dtype=float32))])\n",
      "(0.002, [(array([-0.9591152 ,  0.12255006, -0.25498596,  0.00785521], dtype=float32), array([0.40623367, 0.37953132, 0.00352896], dtype=float32)), (array([-8.5273832e-01,  3.7119529e-01,  3.6749282e-01,  5.8368058e-04],\n",
      "      dtype=float32), array([-9.7333279e+00, -9.2651196e+00,  7.3518585e-03], dtype=float32))])\n",
      "(0.003, [(array([-0.12513247, -0.9532903 ,  0.00483746,  0.2748747 ], dtype=float32), array([0.80414855, 0.75893927, 0.00352896], dtype=float32)), (array([-3.8278950e-04,  3.7954062e-01, -3.8259900e-01, -8.4235793e-01],\n",
      "      dtype=float32), array([-1.9450478e+01, -1.8530329e+01,  7.3518585e-03], dtype=float32))])\n",
      "(0.004, [(array([ 0.9477199 , -0.1265796 ,  0.29291633, -0.0021542 ], dtype=float32), array([1.3347017 , 1.2648165 , 0.00352896], dtype=float32)), (array([ 8.3667254e-01, -3.8868549e-01, -3.8587880e-01, -3.4687173e-04],\n",
      "      dtype=float32), array([-3.2406677e+01, -3.0883942e+01,  7.3518585e-03], dtype=float32))])\n",
      "(0.005, [(array([ 1.2739623e-01,  9.4233096e-01,  2.7439455e-04, -3.0948746e-01],\n",
      "      dtype=float32), array([1.9978931 , 1.8971632 , 0.00352896], dtype=float32)), (array([ 2.6472239e-04, -3.8943294e-01,  3.9191037e-01,  8.3351558e-01],\n",
      "      dtype=float32), array([-4.8601929e+01, -4.6325958e+01,  7.3518585e-03], dtype=float32))])\n",
      "(0.006, [(array([-0.9371029 ,  0.12781958, -0.32479846, -0.00251997], dtype=float32), array([2.7937226 , 2.6559792 , 0.00352896], dtype=float32)), (array([-8.3184248e-01,  3.9366356e-01,  3.9123750e-01,  3.0420971e-04],\n",
      "      dtype=float32), array([-6.8036232e+01, -6.4856377e+01,  7.3518585e-03], dtype=float32))])\n",
      "(0.007, [(array([-0.12798645, -0.9320055 , -0.00460037,  0.33906347], dtype=float32), array([3.7221906e+00, 3.5412645e+00, 3.5289587e-03], dtype=float32)), (array([-2.6530516e-04,  3.9234847e-01, -3.9457276e-01, -8.3088797e-01],\n",
      "      dtype=float32), array([-9.0709587e+01, -8.6475204e+01,  7.3518585e-03], dtype=float32))])\n",
      "(0.008, [(array([ 0.92703944, -0.12797202,  0.35238907,  0.00655703], dtype=float32), array([4.7832966e+00, 4.5530190e+00, 3.5289587e-03], dtype=float32)), (array([ 8.3041692e-01, -3.9508364e-01, -3.9283144e-01, -3.2926156e-04],\n",
      "      dtype=float32), array([-1.16621986e+02, -1.11182434e+02,  7.35185854e-03], dtype=float32))])\n",
      "(0.009000000000000001, [(array([ 0.12783219,  0.9221838 ,  0.00839095, -0.3649185 ], dtype=float32), array([5.9770412e+00, 5.6912432e+00, 3.5289587e-03], dtype=float32)), (array([ 3.0269756e-04, -3.9322543e-01,  3.9532578e-01,  8.3011520e-01],\n",
      "      dtype=float32), array([-1.4577344e+02, -1.3897806e+02,  7.3518585e-03], dtype=float32))])\n",
      "(0.010000000000000002, [(array([-0.91744596,  0.12759644, -0.3767088 , -0.01013289], dtype=float32), array([7.3034239e+00, 6.9559364e+00, 3.5289587e-03], dtype=float32)), (array([-8.2999831e-01,  3.9547831e-01,  3.9331865e-01,  3.7228773e-04],\n",
      "      dtype=float32), array([-1.7816394e+02, -1.6986209e+02,  7.3518585e-03], dtype=float32))])\n"
     ]
    },
    {
     "data": {
      "application/vnd.jupyter.widget-view+json": {
       "model_id": "3c3184c8ec394e45b46c8b51fc9d60ab",
       "version_major": 2,
       "version_minor": 0
      },
      "text/plain": [
       "Renderer(camera=PerspectiveCamera(children=(DirectionalLight(color='white', intensity=0.6, position=(-0.000193…"
      ]
     },
     "metadata": {},
     "output_type": "display_data"
    },
    {
     "data": {
      "application/vnd.jupyter.widget-view+json": {
       "model_id": "284491d07d424be09f382428bb36428d",
       "version_major": 2,
       "version_minor": 0
      },
      "text/plain": [
       "HBox(children=(Play(value=0, description='t', interval=10, max=10), IntSlider(value=0, max=10)))"
      ]
     },
     "metadata": {},
     "output_type": "display_data"
    },
    {
     "name": "stdout",
     "output_type": "stream",
     "text": [
      "mate 1\n",
      "reinitializing physics objects\n",
      "bounds: (array([-0.02125, -0.005  ,  0.00275]), array([-0.01125,  0.005  ,  0.01275])) float64\n",
      "rotation [1. 0. 0. 0.]\n",
      "rotationEND [1. 0. 0. 0.]\n",
      "rotation [1. 0. 0. 0.]\n",
      "rotationEND [1. 0. 0. 0.]\n",
      "physobj rotation [1. 0. 0. 0.]\n",
      "state: [1. 0. 0. 0.] [-0.0324375   0.0002355   0.01176436]\n",
      "state: [1. 0. 0. 0.] [-1.6176173e-02  8.9838715e-05  7.3518585e-03]\n",
      "physObjects created in 0.41173481941223145 s\n",
      "copied data to GPU in 0.02602863311767578\n",
      "(0.0, [(array([1., 0., 0., 0.], dtype=float32), array([-0.0324375 ,  0.0002355 ,  0.01176436], dtype=float32)), (array([1., 0., 0., 0.], dtype=float32), array([-1.6176173e-02,  8.9838715e-05,  7.3518585e-03], dtype=float32))])\n",
      "(0.001, [(array([0.05645216, 0.948504  , 0.17976952, 0.25462958], dtype=float32), array([-0.18405928,  0.23490568, -0.13490349], dtype=float32)), (array([ 0.00294308,  0.83549565,  0.40993968, -0.36590692], dtype=float32), array([ 2.3858433, -3.730966 ,  2.3438232], dtype=float32))])\n",
      "(0.002, [(array([-0.93864125,  0.05851507,  0.2795928 , -0.19327803], dtype=float32), array([-0.48730284,  0.70424604, -0.42823917], dtype=float32)), (array([-0.61454684, -0.3455206 ,  0.70918745, -0.00090162], dtype=float32), array([  7.1898828, -11.193078 ,   7.0167656], dtype=float32))])\n",
      "(0.003, [(array([-0.05936574, -0.9292585 , -0.20521618, -0.3013978 ], dtype=float32), array([-0.9421681 ,  1.4082565 , -0.86824274], dtype=float32)), (array([-0.0007101 , -0.6630395 , -0.32243544,  0.6755838 ], dtype=float32), array([ 14.395941, -22.386246,  14.026178], dtype=float32))])\n",
      "(0.004, [(array([ 0.92027795, -0.05965868, -0.3208302 ,  0.21586409], dtype=float32), array([-1.5486553,  2.3469372, -1.4549141], dtype=float32)), (array([ 0.70523876,  0.30985028, -0.6376758 ,  0.00076595], dtype=float32), array([ 24.004019, -37.31047 ,  23.372063], dtype=float32))])\n",
      "(0.005, [(array([0.05967139, 0.91169393, 0.22544524, 0.33827198], dtype=float32), array([-2.3067641,  3.520288 , -2.1882534], dtype=float32)), (array([ 0.00084617,  0.6238017 ,  0.302952  , -0.72047955], dtype=float32), array([ 36.014114, -55.96575 ,  35.05442 ], dtype=float32))])\n",
      "(0.006, [(array([-0.9034606 ,  0.05950535,  0.35412395, -0.2341243 ], dtype=float32), array([-3.2164948,  4.928309 , -3.0682604], dtype=float32)), (array([-0.72866684, -0.29913905,  0.6160841 , -0.00096667], dtype=float32), array([ 50.42623, -78.35209,  49.07325], dtype=float32))])\n",
      "(0.007, [(array([-0.0592488 , -0.8955885 , -0.24203318, -0.36855212], dtype=float32), array([-4.2778473,  6.571    , -4.0949354], dtype=float32)), (array([-0.00104582, -0.61198664, -0.29706913,  0.7329537 ], dtype=float32), array([  67.24037, -104.46948,   65.42855], dtype=float32))])\n",
      "(0.008, [(array([ 0.88803566, -0.05891819, -0.3818182 ,  0.24927108], dtype=float32), array([-5.490822,  8.448361, -5.268278], dtype=float32)), (array([ 0.73536694,  0.2959027 , -0.6096521 ,  0.00114455], dtype=float32), array([  86.45653, -134.31793,   84.12032], dtype=float32))])\n",
      "(0.009000000000000001, [(array([0.05856157, 0.88081825, 0.25592285, 0.3939966 ], dtype=float32), array([-6.8554177, 10.560393 , -6.588289 ], dtype=float32)), (array([ 0.00119953,  0.6085029 ,  0.29527754, -0.736569  ], dtype=float32), array([ 108.07471, -167.89743,  105.14857], dtype=float32))])\n",
      "(0.010000000000000002, [(array([-0.87389404,  0.05817083,  0.40528196, -0.26205325], dtype=float32), array([-8.371635, 12.907095, -8.054967], dtype=float32)), (array([-0.7373216 , -0.2948978 ,  0.60777503, -0.00127675], dtype=float32), array([ 132.09491, -205.208  ,  128.51328], dtype=float32))])\n"
     ]
    },
    {
     "data": {
      "application/vnd.jupyter.widget-view+json": {
       "model_id": "991779f4c11f497d8ec86faa57624af4",
       "version_major": 2,
       "version_minor": 0
      },
      "text/plain": [
       "Renderer(camera=PerspectiveCamera(children=(DirectionalLight(color='white', intensity=0.6, position=(-6.247311…"
      ]
     },
     "metadata": {},
     "output_type": "display_data"
    },
    {
     "data": {
      "application/vnd.jupyter.widget-view+json": {
       "model_id": "884d4f2e913149eb973544a8790c927f",
       "version_major": 2,
       "version_minor": 0
      },
      "text/plain": [
       "HBox(children=(Play(value=0, description='t', interval=10, max=10), IntSlider(value=0, max=10)))"
      ]
     },
     "metadata": {},
     "output_type": "display_data"
    },
    {
     "name": "stdout",
     "output_type": "stream",
     "text": [
      "mate 2\n",
      "reinitializing physics objects\n",
      "bounds: (array([ 0.019375, -0.005   , -0.0355  ]), array([ 0.029375,  0.005   , -0.0255  ])) float64\n",
      "rotation [1. 0. 0. 0.]\n",
      "rotationEND [1. 0. 0. 0.]\n",
      "rotation [1. 0. 0. 0.]\n",
      "rotationEND [1. 0. 0. 0.]\n",
      "physobj rotation [1. 0. 0. 0.]\n",
      "state: [1. 0. 0. 0.] [2.4388213e-02 5.2141175e-05 9.3903486e-03]\n",
      "state: [1. 0. 0. 0.] [0.00831881 0.00012332 0.00352896]\n",
      "physObjects created in 0.6404280662536621 s\n",
      "no points!\n",
      "mate 3\n",
      "reinitializing physics objects\n",
      "bounds: (array([ 0.019375, -0.005   ,  0.00663 ]), array([0.029375, 0.005   , 0.01663 ])) float64\n",
      "rotation [1. 0. 0. 0.]\n",
      "rotationEND [1. 0. 0. 0.]\n",
      "rotation [1. 0. 0. 0.]\n",
      "rotationEND [1. 0. 0. 0.]\n",
      "physobj rotation [1. 0. 0. 0.]\n",
      "state: [1. 0. 0. 0.] [ 2.4367658e-02 -5.6298457e-05  9.6064210e-03]\n",
      "state: [1. 0. 0. 0.] [2.4388213e-02 5.2141175e-05 9.3903486e-03]\n",
      "physObjects created in 0.2624807357788086 s\n",
      "copied data to GPU in 0.0064258575439453125\n",
      "(0.0, [(array([1., 0., 0., 0.], dtype=float32), array([ 2.4367658e-02, -5.6298457e-05,  9.6064210e-03], dtype=float32)), (array([1., 0., 0., 0.], dtype=float32), array([2.4388213e-02, 5.2141175e-05, 9.3903486e-03], dtype=float32))])\n",
      "(0.001, [(array([ 0.00184294,  0.4433809 , -0.8951085 ,  0.04680513], dtype=float32), array([-3.3674548, -2.7929754, -2.5095544], dtype=float32)), (array([ 1.1192582e-03, -4.7051400e-04,  6.9313748e-05,  9.9999923e-01],\n",
      "      dtype=float32), array([ 0.24067107, -0.06622595,  0.19024242], dtype=float32))])\n",
      "(0.002, [(array([-0.9967635 ,  0.06997133,  0.02978766, -0.0260608 ], dtype=float32), array([-9.089667 , -7.8398733, -7.897015 ], dtype=float32)), (array([-9.9999821e-01,  1.6184410e-04,  9.0135058e-04,  1.6788531e-03],\n",
      "      dtype=float32), array([ 0.6732367 , -0.19878212,  0.5519466 ], dtype=float32))])\n",
      "(0.003, [(array([-0.00337152, -0.4460288 ,  0.8905408 , -0.08935356], dtype=float32), array([-17.14227 , -15.140749, -16.152777], dtype=float32)), (array([-2.0518603e-03,  1.3630664e-03, -2.2847213e-04, -9.9999690e-01],\n",
      "      dtype=float32), array([ 1.3220851, -0.3976164,  1.0945028], dtype=float32))])\n",
      "(0.004, [(array([ 0.9941212 , -0.09352486, -0.03825535,  0.0388945 ], dtype=float32), array([-27.525263, -24.695604, -27.276836], dtype=float32)), (array([ 9.9999571e-01, -3.1885409e-04, -1.7850655e-03, -2.3316301e-03],\n",
      "      dtype=float32), array([ 2.1872165, -0.6627287,  1.8179111], dtype=float32))])\n",
      "(0.005, [(array([ 0.00403064,  0.44377565, -0.88975316,  0.10670607], dtype=float32), array([-40.238647, -36.504436, -41.269196], dtype=float32)), (array([ 2.5553764e-03, -2.2380163e-03,  3.8356477e-04,  9.9999422e-01],\n",
      "      dtype=float32), array([ 3.2686305 , -0.99411917,  2.7221715 ], dtype=float32))])\n",
      "(0.006, [(array([-0.992384  ,  0.10542537,  0.04163128, -0.04823206], dtype=float32), array([-55.28242 , -50.567245, -58.129852], dtype=float32)), (array([-9.9999261e-01,  4.7212347e-04,  2.6513103e-03,  2.7418800e-03],\n",
      "      dtype=float32), array([ 4.5663276, -1.3917878,  3.8072839], dtype=float32))])\n",
      "(0.007, [(array([-0.00428305, -0.44005993,  0.8904226 , -0.11608838], dtype=float32), array([-72.656586, -66.88403 , -77.85881 ], dtype=float32)), (array([-2.9016503e-03,  3.0956434e-03, -5.3509919e-04, -9.9999088e-01],\n",
      "      dtype=float32), array([ 6.0803075, -1.8557343,  5.0732484], dtype=float32))])\n",
      "(0.008, [(array([ 0.9911096 , -0.11267841, -0.04307605,  0.05612167], dtype=float32), array([ -92.36114,  -85.4548 , -100.45607], dtype=float32)), (array([ 9.999891e-01, -6.219647e-04, -3.500392e-03, -3.041527e-03],\n",
      "      dtype=float32), array([ 7.8105702, -2.3859591,  6.520065 ], dtype=float32))])\n",
      "(0.009000000000000001, [(array([ 0.00430358,  0.4357552 , -0.89175093,  0.12197992], dtype=float32), array([-114.39608, -106.27955, -125.92163], dtype=float32)), (array([ 3.1657489e-03, -3.9362693e-03,  6.8330142e-04,  9.9998701e-01],\n",
      "      dtype=float32), array([ 9.757116, -2.982462,  8.147734], dtype=float32))])\n",
      "(0.010000000000000002, [(array([-0.9900834 ,  0.11761524,  0.04361033, -0.0632436 ], dtype=float32), array([-138.76141, -129.35828, -154.2555 ], dtype=float32)), (array([-9.9998492e-01,  7.6855440e-04,  4.3326365e-03,  3.2776555e-03],\n",
      "      dtype=float32), array([11.919945, -3.645243,  9.956254], dtype=float32))])\n"
     ]
    },
    {
     "data": {
      "application/vnd.jupyter.widget-view+json": {
       "model_id": "963901e438454f89b39b96049ea10488",
       "version_major": 2,
       "version_minor": 0
      },
      "text/plain": [
       "Renderer(camera=PerspectiveCamera(children=(DirectionalLight(color='white', intensity=0.6, position=(7.3416158…"
      ]
     },
     "metadata": {},
     "output_type": "display_data"
    },
    {
     "data": {
      "application/vnd.jupyter.widget-view+json": {
       "model_id": "d10a59dc40d54d33a58156c6d714f8e1",
       "version_major": 2,
       "version_minor": 0
      },
      "text/plain": [
       "HBox(children=(Play(value=0, description='t', interval=10, max=10), IntSlider(value=0, max=10)))"
      ]
     },
     "metadata": {},
     "output_type": "display_data"
    },
    {
     "name": "stdout",
     "output_type": "stream",
     "text": [
      "mate 4\n",
      "reinitializing physics objects\n",
      "bounds: (array([ 0.019375, -0.005   , -0.0097  ]), array([0.029375, 0.005   , 0.0003  ])) float64\n",
      "rotation [1. 0. 0. 0.]\n",
      "rotationEND [1. 0. 0. 0.]\n",
      "rotation [1. 0. 0. 0.]\n",
      "rotationEND [1. 0. 0. 0.]\n",
      "physobj rotation [1. 0. 0. 0.]\n",
      "state: [1. 0. 0. 0.] [ 2.4377003e-02 -3.5794761e-05 -2.7197287e-03]\n",
      "state: [1. 0. 0. 0.] [2.4388213e-02 5.2141175e-05 9.3903486e-03]\n",
      "physObjects created in 0.19522762298583984 s\n",
      "copied data to GPU in 0.01797771453857422\n",
      "(0.0, [(array([1., 0., 0., 0.], dtype=float32), array([ 2.4377003e-02, -3.5794761e-05, -2.7197287e-03], dtype=float32)), (array([1., 0., 0., 0.], dtype=float32), array([2.4388213e-02, 5.2141175e-05, 9.3903486e-03], dtype=float32))])\n",
      "(0.001, [(array([ 0.00661147, -0.2400118 ,  0.80569524,  0.5414849 ], dtype=float32), array([-4.2466116, -4.1309404,  2.0201132], dtype=float32)), (array([ 0.0010989 ,  0.00327127, -0.00370438,  0.9999872 ], dtype=float32), array([ 0.36250576,  0.05161132, -0.11790521], dtype=float32))])\n",
      "(0.002, [(array([-0.95877767, -0.27465305, -0.07277707,  0.00380243], dtype=float32), array([-12.788589 , -12.392751 ,   6.0657787], dtype=float32)), (array([-0.99995077, -0.00734121, -0.00647042,  0.00164316], dtype=float32), array([ 1.0387409 ,  0.15472966, -0.3724963 ], dtype=float32))])\n",
      "(0.003, [(array([-0.01046351,  0.25744727, -0.8810866 , -0.3966079 ], dtype=float32), array([-25.601555, -24.785465,  12.134277], dtype=float32)), (array([-0.00200247, -0.00962341,  0.01089718, -0.9998923 ], dtype=float32), array([ 2.0530934 ,  0.30940717, -0.75438297], dtype=float32))])\n",
      "(0.004, [(array([ 0.9359058 ,  0.3411354 ,  0.08776931, -0.00187966], dtype=float32), array([-42.68551 , -41.30909 ,  20.225609], dtype=float32)), (array([ 0.99981314,  0.01439452,  0.01270398, -0.0022697 ], dtype=float32), array([ 3.4055636,  0.5156439, -1.2635652], dtype=float32))])\n",
      "(0.005, [(array([ 0.01179888, -0.256633  ,  0.89273036,  0.37017936], dtype=float32), array([-64.04045 , -61.963615,  30.339773], dtype=float32)), (array([ 0.00253121,  0.01658783, -0.01865853,  0.9996851 ], dtype=float32), array([ 5.0268044,  0.9818357, -1.900043 ], dtype=float32))])\n",
      "(0.006, [(array([-9.3186790e-01, -3.5204327e-01, -8.7679520e-02, -3.1014357e-04],\n",
      "      dtype=float32), array([-89.66638, -86.74905,  42.47677], dtype=float32)), (array([-0.99949217, -0.02364043, -0.02118324,  0.00278561], dtype=float32), array([ 6.9168158,  1.7079827, -2.6638162], dtype=float32))])\n",
      "(0.007, [(array([-0.01235295,  0.25364727, -0.8952427 , -0.36612967], dtype=float32), array([-119.5633 , -115.66538,   56.6366 ], dtype=float32)), (array([-0.00302985, -0.02643533,  0.02923615, -0.99921834], dtype=float32), array([ 9.075598 ,  2.6940846, -3.554885 ], dtype=float32))])\n",
      "(0.008, [(array([0.9312186 , 0.3542459 , 0.0856443 , 0.00261199], dtype=float32), array([-153.7312 , -148.71262,   72.81926], dtype=float32)), (array([ 0.9988495 ,  0.03536596,  0.03222071, -0.0032632 ], dtype=float32), array([11.50315  ,  3.9401417, -4.5732493], dtype=float32))])\n",
      "(0.009000000000000001, [(array([ 0.01251482, -0.25049368,  0.8963681 ,  0.36554164], dtype=float32), array([-192.1701 , -185.89076,   91.02476], dtype=float32)), (array([ 0.00348268,  0.03846298, -0.04190554,  0.9983749 ], dtype=float32), array([14.199472 ,  5.446154 , -5.7189093], dtype=float32))])\n",
      "(0.010000000000000002, [(array([-0.93109405, -0.3550488 , -0.08354234, -0.00498759], dtype=float32), array([-234.87999, -227.19981,  111.25308], dtype=float32)), (array([-0.99778765, -0.04876846, -0.04503047,  0.00368894], dtype=float32), array([17.164566 ,  7.2121215, -6.991865 ], dtype=float32))])\n"
     ]
    },
    {
     "data": {
      "application/vnd.jupyter.widget-view+json": {
       "model_id": "4c00de5d2555473388922275c22d1510",
       "version_major": 2,
       "version_minor": 0
      },
      "text/plain": [
       "Renderer(camera=PerspectiveCamera(children=(DirectionalLight(color='white', intensity=0.6, position=(-2.003274…"
      ]
     },
     "metadata": {},
     "output_type": "display_data"
    },
    {
     "data": {
      "application/vnd.jupyter.widget-view+json": {
       "model_id": "099593bfce8a4545914a47b325ccc83a",
       "version_major": 2,
       "version_minor": 0
      },
      "text/plain": [
       "HBox(children=(Play(value=0, description='t', interval=10, max=10), IntSlider(value=0, max=10)))"
      ]
     },
     "metadata": {},
     "output_type": "display_data"
    }
   ],
   "source": [
    "griddim = maxdim/200\n",
    "radius = 0.005\n",
    "\n",
    "#simulators = []\n",
    "for i,mate in enumerate(mates):\n",
    "    print('mate',i)\n",
    "    meshes = mate_meshes(mate)\n",
    "        \n",
    "    if len(meshes) == 2:\n",
    "        start = time.time()\n",
    "        physObjects = mate_phys_objs(mate, griddim, radius=radius)\n",
    "        for obj in physObjects[0]:\n",
    "            print('state:',obj.rotation, obj.translation)\n",
    "        #physObjects = mate_phys_objs(mate, griddim)\n",
    "        end = time.time()\n",
    "        print('physObjects created in',end-start,'s')\n",
    "        if physObjects[0][0].points.shape[0] == 0 or physObjects[0][1].points.shape[0] == 0:\n",
    "            print('no points!')\n",
    "            continue\n",
    "        #p = mp.plot(physObjects[0][0].points + physObjects[0][0].translation[np.newaxis], shading={'point_size': 0.002})\n",
    "        #p.add_points(physObjects[0][1].points + physObjects[0][1].translation[np.newaxis])\n",
    "        \n",
    "        #simulation bounds\n",
    "        bounds = physObjects[1][0] - radius*.5, physObjects[1][1] + radius*.5\n",
    "        \n",
    "        sim = phys.Simulator(physObjects[0][0], physObjects[0][1], bounds[0], bounds[1], griddim, 100, 0)\n",
    "        sim.integrate(0.001, 10)\n",
    "        for state in sim.allstates:\n",
    "            print(state)\n",
    "        wid = display_animation(physObjects[0][0].V, physObjects[0][0].F, physObjects[0][1].V, physObjects[0][1].F, sim.allstates)\n",
    "        display(wid)\n",
    "        #simulators.append(sim)"
   ]
  },
  {
   "cell_type": "markdown",
   "id": "3034a1bd",
   "metadata": {},
   "source": [
    "# ### off-center collision\n",
    "v, f = igl.read_triangle_mesh('data/cylinder3.obj')\n",
    "grid_len = 0.02\n",
    "density = 1\n",
    "obj1 = phys.PhysObject(v, f, grid_len, translation=np.array([0, 0, 0], np.float32), density=density)\n",
    "obj2 = phys.PhysObject(v, f, grid_len, translation=np.array([0.5, 2.1, 0], np.float32),\n",
    "                    rotation=np.array([math.sqrt(2)/2, 0, math.sqrt(2)/2, 0], np.float32), density=density,\n",
    "                    velocity=np.array([0, -5, 0], np.float32), angular_velocity=np.array([10, 0, 0], np.float32))\n",
    "\n",
    "sim = phys.Simulator(obj1, obj2, np.array([-1.1, -1.1, -1.1]), np.array([1.1, 3.1, 1.1]), 0.02, 100, 0)\n",
    "sim.integrate(0.001, 1000)\n",
    "#print(sim.allstates)"
   ]
  },
  {
   "cell_type": "markdown",
   "id": "5dfc60cc",
   "metadata": {
    "scrolled": true
   },
   "source": [
    "display_animation(v, f, v, f, sim.allstates)"
   ]
  },
  {
   "cell_type": "code",
   "execution_count": null,
   "id": "28fdfc67",
   "metadata": {},
   "outputs": [],
   "source": []
  }
 ],
 "metadata": {
  "kernelspec": {
   "display_name": "Python 3",
   "language": "python",
   "name": "python3"
  },
  "language_info": {
   "codemirror_mode": {
    "name": "ipython",
    "version": 3
   },
   "file_extension": ".py",
   "mimetype": "text/x-python",
   "name": "python",
   "nbconvert_exporter": "python",
   "pygments_lexer": "ipython3",
   "version": "3.9.5"
  }
 },
 "nbformat": 4,
 "nbformat_minor": 5
}
