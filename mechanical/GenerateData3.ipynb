{
 "cells": [
  {
   "cell_type": "code",
   "execution_count": 1,
   "id": "5975519a-e887-4995-8b69-1e144588aa80",
   "metadata": {},
   "outputs": [],
   "source": [
    "import numpy as np\n",
    "import numpy.linalg as LA\n",
    "import meshplot as mp\n",
    "from IPython.display import JSON as DJSON\n",
    "from IPython.display import clear_output\n",
    "from pspart import Part\n",
    "from pspart import NNHash\n",
    "import os\n",
    "import pandas as ps\n",
    "from mate_proposals import mate_proposals, homogenize_frame\n",
    "from scipy.spatial.transform import Rotation as R\n",
    "import onshape.brepio as brepio\n",
    "import time\n",
    "from automate.data.data import UniformMateData\n",
    "import torch\n",
    "import random\n",
    "from automate.lightning_models.simplified import SimplifiedJointModel\n",
    "from automate.data.transforms import compose\n",
    "import meshplot as mp\n",
    "from visualize import add_axis\n",
    "from automate.data.transforms import select_full_relations\n",
    "from torch_geometric.data import Batch"
   ]
  },
  {
   "cell_type": "code",
   "execution_count": 2,
   "id": "7bea5b3a-898c-4b9a-a8b1-75d8398c61fe",
   "metadata": {},
   "outputs": [],
   "source": [
    "datapath = '/projects/grail/benjones/cadlab'"
   ]
  },
  {
   "cell_type": "code",
   "execution_count": 3,
   "id": "8a56315f-2467-48e1-9164-0134d67b7758",
   "metadata": {},
   "outputs": [
    {
     "name": "stderr",
     "output_type": "stream",
     "text": [
      "/fast/jamesn8/anaconda3/envs/torch3/lib/python3.9/site-packages/deprecate/deprecation.py:115: LightningDeprecationWarning: The `Metric` was deprecated since v1.3.0 in favor of `torchmetrics.metric.Metric`. It will be removed in v1.5.0.\n",
      "  stream(template_mgs % msg_args)\n"
     ]
    }
   ],
   "source": [
    "weights_path='/projects/grail/benjones/cadlab/dalton_lightning_logs/real_all_fn_args_amounts_sum_directedhybridgcn12/version_0/checkpoints/epoch=46-val_auc=0.666113.ckpt'\n",
    "model = SimplifiedJointModel.load_from_checkpoint(weights_path, map_location=torch.device('cpu'))\n",
    "transforms = model.transforms\n",
    "del model"
   ]
  },
  {
   "cell_type": "code",
   "execution_count": 4,
   "id": "c6e23a2c-6026-44a6-bffe-ff54c45e9814",
   "metadata": {},
   "outputs": [],
   "source": [
    "transform = compose(*(transforms[::-1]))"
   ]
  },
  {
   "cell_type": "code",
   "execution_count": 5,
   "id": "f887aec9-4b5b-498b-b5c1-9ca0911d0fdd",
   "metadata": {},
   "outputs": [],
   "source": [
    "name = '/fast/jamesn8/assembly_data/assembly_data_with_transforms_all.h5'\n",
    "assembly_df = ps.read_hdf(name,'assembly')\n",
    "mate_df = ps.read_hdf(name,'mate')\n",
    "part_df = ps.read_hdf(name,'part')\n",
    "mate_df['MateIndex'] = mate_df.index\n",
    "part_df['PartIndex'] = part_df.index"
   ]
  },
  {
   "cell_type": "code",
   "execution_count": 6,
   "id": "ac22affa-4a11-4b76-9558-54f430f9416d",
   "metadata": {},
   "outputs": [],
   "source": [
    "mate_df.set_index('Assembly', inplace=True)\n",
    "part_df.set_index('Assembly', inplace=True)    "
   ]
  },
  {
   "cell_type": "code",
   "execution_count": null,
   "id": "7225ebf6-20b8-42aa-bca2-fb5133bbeddb",
   "metadata": {},
   "outputs": [],
   "source": []
  },
  {
   "cell_type": "code",
   "execution_count": 7,
   "id": "4a0e9e8a-82f3-49f2-b3a5-184a53c0d60a",
   "metadata": {},
   "outputs": [],
   "source": [
    "mate_types = [\n",
    "            'PIN_SLOT',\n",
    "            'BALL',\n",
    "            'PARALLEL',\n",
    "            'SLIDER',\n",
    "            'REVOLUTE',\n",
    "            'CYLINDRICAL',\n",
    "            'PLANAR',\n",
    "            'FASTENED'\n",
    "        ]"
   ]
  },
  {
   "cell_type": "code",
   "execution_count": 8,
   "id": "d9c3344f-c07f-4050-9ba7-af7c9e17a0bb",
   "metadata": {},
   "outputs": [],
   "source": [
    "def global_bounding_box(parts, transforms=None):\n",
    "    if transforms is None:\n",
    "        allpoints = [part.V for part in parts if part.V.shape[0] > 0]\n",
    "    else:\n",
    "        allpoints = [(tf[:3,:3] @ part.V.T + tf[:3,3,np.newaxis]).T for tf, part in zip(transforms, parts) if part.V.shape[0] > 0]\n",
    "    if len(allpoints) == 0:\n",
    "        return None\n",
    "    minPt = np.array([points.min(axis=0) for points in allpoints]).min(axis=0)\n",
    "    maxPt = np.array([points.max(axis=0) for points in allpoints]).max(axis=0)\n",
    "    return np.vstack([minPt, maxPt])"
   ]
  },
  {
   "cell_type": "code",
   "execution_count": 9,
   "id": "e578e8eb-4850-4a37-a85b-7fcd0369e108",
   "metadata": {},
   "outputs": [],
   "source": [
    "def apply_transform(tf, v, is_points=True):\n",
    "    \"Apply the 4-matrix `tf` to a vector or column-wise matrix of vectors. If is_points, also add the translation.\"\n",
    "    v_trans = tf[:3,:3] @ v\n",
    "    if is_points:\n",
    "        if v.ndim==1:\n",
    "            v_trans += tf[:3,3]\n",
    "        elif v.ndim==2:\n",
    "            v_trans += tf[:3,3,np.newaxis]\n",
    "    return v_trans"
   ]
  },
  {
   "cell_type": "code",
   "execution_count": 10,
   "id": "ad1bb023-ac74-4a1c-b80a-abb6977bf23a",
   "metadata": {},
   "outputs": [],
   "source": [
    "def cs_to_origin_frame(cs):\n",
    "    origin = cs[:,3]\n",
    "    if origin[3] != 1:\n",
    "        origin /= origin[3]\n",
    "    return origin[:3], cs[:3,:3]"
   ]
  },
  {
   "cell_type": "code",
   "execution_count": 11,
   "id": "6c0c7f85-19db-46ca-9329-f9b602679c17",
   "metadata": {},
   "outputs": [],
   "source": [
    "def cs_from_origin_frame(origin, frame):\n",
    "    cs = np.identity(4, np.float64)\n",
    "    cs[:3,:3] = frame\n",
    "    cs[:3,3] = origin\n",
    "    return cs"
   ]
  },
  {
   "cell_type": "code",
   "execution_count": 12,
   "id": "6c3e3007-e853-4283-ab62-3c8d91868d52",
   "metadata": {},
   "outputs": [],
   "source": [
    "out_base_path = '/fast/jamesn8/assembly_data/mate_torch_norm_match'"
   ]
  },
  {
   "cell_type": "code",
   "execution_count": 13,
   "id": "05fbefd6-680c-4c15-9ae0-2daab5bbd49a",
   "metadata": {},
   "outputs": [],
   "source": [
    "validate=True\n",
    "prob_threshold = 0.7\n",
    "\n",
    "if validate:\n",
    "    weights_path_type = '/projects/grail/jamesn8/projects/mechanical/checkpoints/test-normonly-filtered-constant-centropy-weight-fulldata-type/geo_baseline/version_0/checkpoints/epoch=21-val_loss=1.444239.ckpt'\n",
    "    weights_path_loc = '/projects/grail/jamesn8/projects/mechanical/checkpoints/test-normonly-filtered-constant-centropy-weight-fulldata/geo_baseline/version_0/checkpoints/epoch=14-val_loss=1.027152.ckpt'\n",
    "    model_loc = SimplifiedJointModel.load_from_checkpoint(weights_path_loc, map_location=torch.device('cpu')).eval()\n",
    "    model_type = SimplifiedJointModel.load_from_checkpoint(weights_path_type, map_location=torch.device('cpu')).eval()\n",
    "    validation_indexfile = os.path.join(out_base_path, 'index_filtered2_val.txt')\n",
    "    with open(validation_indexfile) as f:\n",
    "        assembly_indices = list(set([int(l.split('-')[0]) for l in f.readlines()]))\n",
    "else:\n",
    "    with open('fully_connected_moving_no_multimates.txt','r') as f:\n",
    "        assembly_indices = [int(l.rstrip()) for l in f.readlines()]"
   ]
  },
  {
   "cell_type": "code",
   "execution_count": 14,
   "id": "b9bc8516-aa0e-4846-8b2b-99327bf2d261",
   "metadata": {},
   "outputs": [
    {
     "data": {
      "text/plain": [
       "'num_processed: 0/3400'"
      ]
     },
     "metadata": {},
     "output_type": "display_data"
    },
    {
     "name": "stdout",
     "output_type": "stream",
     "text": [
      "6954857d4afa7a3408fbeb4b_6a322e29959228eeca4b8566_08905514649024ff45049db8\n"
     ]
    },
    {
     "data": {
      "text/plain": [
       "'num_processed: 1/3400'"
      ]
     },
     "metadata": {},
     "output_type": "display_data"
    },
    {
     "name": "stdout",
     "output_type": "stream",
     "text": [
      "29c920c9c8649566d09b8a29_8ca560b6f13616852f03ff64_dba93c3d4064b2ca5e86f367\n"
     ]
    },
    {
     "data": {
      "text/plain": [
       "'num_processed: 2/3400'"
      ]
     },
     "metadata": {},
     "output_type": "display_data"
    },
    {
     "name": "stdout",
     "output_type": "stream",
     "text": [
      "57fbae4ab54dff10aa62f1cf_55a91f2bf9a26bb4ed162787_0676593a1ffcea55b4d7b02d\n"
     ]
    },
    {
     "data": {
      "text/plain": [
       "'num_processed: 3/3400'"
      ]
     },
     "metadata": {},
     "output_type": "display_data"
    },
    {
     "name": "stdout",
     "output_type": "stream",
     "text": [
      "5818d6c4ca58d81087615c2b_ecf901413c23095f0a4f4685_97f0c51b9a6e61844067b7f7\n"
     ]
    },
    {
     "data": {
      "text/plain": [
       "'num_processed: 4/3400'"
      ]
     },
     "metadata": {},
     "output_type": "display_data"
    },
    {
     "name": "stdout",
     "output_type": "stream",
     "text": [
      "4c2e30e03b6debea0a7d8a0d_82140d6690a9bfc6fe85c030_749e40740918ae4b47fee457\n"
     ]
    },
    {
     "data": {
      "text/plain": [
       "'num_processed: 5/3400'"
      ]
     },
     "metadata": {},
     "output_type": "display_data"
    },
    {
     "name": "stdout",
     "output_type": "stream",
     "text": [
      "58db32813d69580f7f18db7c_b71ab89867a6a28fbbd796af_60af0f9cc91dfe4a8e0c5db8\n"
     ]
    },
    {
     "data": {
      "text/plain": [
       "'num_processed: 6/3400'"
      ]
     },
     "metadata": {},
     "output_type": "display_data"
    },
    {
     "name": "stdout",
     "output_type": "stream",
     "text": [
      "1b13d4fb53b5d579823aeb3a_3bffbabdfe2467398a4ab1d6_cb5ddb4015c022ab66828449\n"
     ]
    },
    {
     "data": {
      "text/plain": [
       "'num_processed: 7/3400'"
      ]
     },
     "metadata": {},
     "output_type": "display_data"
    },
    {
     "name": "stdout",
     "output_type": "stream",
     "text": [
      "a94c5c14d76379669e3bf987_583e591e4642827923e32cfc_2ee4a7fc3d149d655771360e\n"
     ]
    },
    {
     "data": {
      "text/plain": [
       "'num_processed: 8/3400'"
      ]
     },
     "metadata": {},
     "output_type": "display_data"
    },
    {
     "name": "stdout",
     "output_type": "stream",
     "text": [
      "58de0d9e25c753102f640805_0499be6c85a9479172a459ed_4e46ea3fbe4c8eb57a59e513\n"
     ]
    },
    {
     "data": {
      "text/plain": [
       "'num_processed: 9/3400'"
      ]
     },
     "metadata": {},
     "output_type": "display_data"
    },
    {
     "name": "stdout",
     "output_type": "stream",
     "text": [
      "a9d3f0a224f923e28595f5f1_9c753fec71ccc566a6e9faa4_6eb02270dd694ac8e4028120\n"
     ]
    },
    {
     "data": {
      "text/plain": [
       "'num_processed: 10/3400'"
      ]
     },
     "metadata": {},
     "output_type": "display_data"
    },
    {
     "name": "stdout",
     "output_type": "stream",
     "text": [
      "25810b6ce462551758ee0299_66b253044fc0ad1377599441_fc7a6c0208e0edc1aa0283b8\n"
     ]
    },
    {
     "data": {
      "text/plain": [
       "'num_processed: 11/3400'"
      ]
     },
     "metadata": {},
     "output_type": "display_data"
    },
    {
     "name": "stdout",
     "output_type": "stream",
     "text": [
      "f1a6dab4e06dc624780f12e7_05da82603d03e5a26540a0f4_3436323e6eb0d138e7a7f9f9\n"
     ]
    },
    {
     "data": {
      "text/plain": [
       "'num_processed: 12/3400'"
      ]
     },
     "metadata": {},
     "output_type": "display_data"
    },
    {
     "name": "stdout",
     "output_type": "stream",
     "text": [
      "749e9f9eb3aaf936168a6fc9_c9b9a5cb6ff927d944d858bf_7633d5dabe52b413e419a3ce\n"
     ]
    },
    {
     "data": {
      "text/plain": [
       "'num_processed: 13/3400'"
      ]
     },
     "metadata": {},
     "output_type": "display_data"
    },
    {
     "name": "stdout",
     "output_type": "stream",
     "text": [
      "afc8aa9a274eee2c299c884c_02b51422206e52a5d55cc9ca_333870f133abbe7772620b6d\n"
     ]
    },
    {
     "data": {
      "text/plain": [
       "'num_processed: 14/3400'"
      ]
     },
     "metadata": {},
     "output_type": "display_data"
    },
    {
     "name": "stdout",
     "output_type": "stream",
     "text": [
      "6ddbdbb30590a035d056446e_805d1b874b42451fcc5ab72a_932983ad23711dd12244ab65\n"
     ]
    },
    {
     "data": {
      "text/plain": [
       "'num_processed: 15/3400'"
      ]
     },
     "metadata": {},
     "output_type": "display_data"
    },
    {
     "name": "stdout",
     "output_type": "stream",
     "text": [
      "53f702e50af776ed39f82ef2_6cecbae7b717001ba8eaf73c_abac228e1690d25dbc4e612f\n"
     ]
    },
    {
     "data": {
      "text/plain": [
       "'num_processed: 16/3400'"
      ]
     },
     "metadata": {},
     "output_type": "display_data"
    },
    {
     "name": "stdout",
     "output_type": "stream",
     "text": [
      "28c8b7988af3726dcda7c0e9_9f81fd395ec45538cfd2795c_ce6bb2d702214089ead65ec6\n"
     ]
    },
    {
     "data": {
      "text/plain": [
       "'num_processed: 17/3400'"
      ]
     },
     "metadata": {},
     "output_type": "display_data"
    },
    {
     "name": "stdout",
     "output_type": "stream",
     "text": [
      "a20ab0a24e8cf5d0bc297067_6ba8e14bc911cb9d7d4a658c_3499a73050a4e4d52cedfd15\n"
     ]
    },
    {
     "data": {
      "text/plain": [
       "'num_processed: 18/3400'"
      ]
     },
     "metadata": {},
     "output_type": "display_data"
    },
    {
     "name": "stdout",
     "output_type": "stream",
     "text": [
      "bd0439e45e5313707b9781d0_a3eca6e657a3c335de636a42_848574c8c8628536bc3dce21\n"
     ]
    },
    {
     "data": {
      "text/plain": [
       "'num_processed: 19/3400'"
      ]
     },
     "metadata": {},
     "output_type": "display_data"
    },
    {
     "name": "stdout",
     "output_type": "stream",
     "text": [
      "9dd23dcea4691090d6a8d8cf_651044e4f3814c88867c134d_972a8e9ec7566ca5196d5138\n"
     ]
    },
    {
     "data": {
      "text/plain": [
       "'num_processed: 20/3400'"
      ]
     },
     "metadata": {},
     "output_type": "display_data"
    },
    {
     "name": "stdout",
     "output_type": "stream",
     "text": [
      "709a85d928053ff819b6a1ff_3b2a5b70b044580e4ff407e1_4c818d1401959afc46278697\n"
     ]
    },
    {
     "data": {
      "text/plain": [
       "'num_processed: 21/3400'"
      ]
     },
     "metadata": {},
     "output_type": "display_data"
    },
    {
     "name": "stdout",
     "output_type": "stream",
     "text": [
      "67095a0eeb30f6925b4d4f27_4cbb9891cde8ace5ae0ef772_791939ad437098a4fa734037\n"
     ]
    },
    {
     "data": {
      "text/plain": [
       "'num_processed: 22/3400'"
      ]
     },
     "metadata": {},
     "output_type": "display_data"
    },
    {
     "name": "stdout",
     "output_type": "stream",
     "text": [
      "f6a47d27b2e343ca0732cc4f_9356269c2542ae0b62850806_71f8c76df2faf44f1be6af1a\n"
     ]
    },
    {
     "data": {
      "text/plain": [
       "'num_processed: 23/3400'"
      ]
     },
     "metadata": {},
     "output_type": "display_data"
    },
    {
     "name": "stdout",
     "output_type": "stream",
     "text": [
      "1b480902d552df9d59285bbe_8e123cffc24a35dfb0cfcece_9f00424a0b3684d091556080\n"
     ]
    },
    {
     "data": {
      "text/plain": [
       "'num_processed: 24/3400'"
      ]
     },
     "metadata": {},
     "output_type": "display_data"
    },
    {
     "name": "stdout",
     "output_type": "stream",
     "text": [
      "a875ecc7b04316eac6ff74b6_877d6b967d7ab32be90f1272_9d1d26521c327195952a089d\n"
     ]
    },
    {
     "data": {
      "text/plain": [
       "'num_processed: 25/3400'"
      ]
     },
     "metadata": {},
     "output_type": "display_data"
    },
    {
     "name": "stdout",
     "output_type": "stream",
     "text": [
      "04d63eb9d9311dcd8623142b_ca03af72e368ded83848f64e_0a684af8f9f09eef94b0f5c2\n"
     ]
    },
    {
     "data": {
      "text/plain": [
       "'num_processed: 26/3400'"
      ]
     },
     "metadata": {},
     "output_type": "display_data"
    },
    {
     "name": "stdout",
     "output_type": "stream",
     "text": [
      "402fe03c06916760da785068_9feb7538f0cc8162e3c88485_c8165edf79d8ae7e6d7ce319\n"
     ]
    },
    {
     "ename": "KeyboardInterrupt",
     "evalue": "",
     "output_type": "error",
     "traceback": [
      "\u001b[0;31m---------------------------------------------------------------------------\u001b[0m",
      "\u001b[0;31mAttributeError\u001b[0m                            Traceback (most recent call last)",
      "\u001b[0;32m/fast/jamesn8/anaconda3/envs/torch3/lib/python3.9/site-packages/intervaltree/intervaltree.py\u001b[0m in \u001b[0;36m__getitem__\u001b[0;34m(self, index)\u001b[0m\n\u001b[1;32m   1038\u001b[0m         \u001b[0;32mtry\u001b[0m\u001b[0;34m:\u001b[0m\u001b[0;34m\u001b[0m\u001b[0;34m\u001b[0m\u001b[0m\n\u001b[0;32m-> 1039\u001b[0;31m             \u001b[0mstart\u001b[0m\u001b[0;34m,\u001b[0m \u001b[0mstop\u001b[0m \u001b[0;34m=\u001b[0m \u001b[0mindex\u001b[0m\u001b[0;34m.\u001b[0m\u001b[0mstart\u001b[0m\u001b[0;34m,\u001b[0m \u001b[0mindex\u001b[0m\u001b[0;34m.\u001b[0m\u001b[0mstop\u001b[0m\u001b[0;34m\u001b[0m\u001b[0;34m\u001b[0m\u001b[0m\n\u001b[0m\u001b[1;32m   1040\u001b[0m             \u001b[0;32mif\u001b[0m \u001b[0mstart\u001b[0m \u001b[0;32mis\u001b[0m \u001b[0;32mNone\u001b[0m\u001b[0;34m:\u001b[0m\u001b[0;34m\u001b[0m\u001b[0;34m\u001b[0m\u001b[0m\n",
      "\u001b[0;31mAttributeError\u001b[0m: 'int' object has no attribute 'start'",
      "\nDuring handling of the above exception, another exception occurred:\n",
      "\u001b[0;31mKeyboardInterrupt\u001b[0m                         Traceback (most recent call last)",
      "\u001b[0;32m/tmp/ipykernel_1701687/2176425529.py\u001b[0m in \u001b[0;36m<module>\u001b[0;34m\u001b[0m\n\u001b[1;32m    279\u001b[0m         \u001b[0mstart\u001b[0m \u001b[0;34m=\u001b[0m \u001b[0mtime\u001b[0m\u001b[0;34m.\u001b[0m\u001b[0mtime\u001b[0m\u001b[0;34m(\u001b[0m\u001b[0;34m)\u001b[0m\u001b[0;34m\u001b[0m\u001b[0;34m\u001b[0m\u001b[0m\n\u001b[1;32m    280\u001b[0m         \u001b[0mdummytransforms\u001b[0m \u001b[0;34m=\u001b[0m \u001b[0;34m[\u001b[0m\u001b[0mnp\u001b[0m\u001b[0;34m.\u001b[0m\u001b[0midentity\u001b[0m\u001b[0;34m(\u001b[0m\u001b[0;36m4\u001b[0m\u001b[0;34m)\u001b[0m \u001b[0;32mfor\u001b[0m \u001b[0ml\u001b[0m \u001b[0;32min\u001b[0m \u001b[0mrange\u001b[0m\u001b[0;34m(\u001b[0m\u001b[0mlen\u001b[0m\u001b[0;34m(\u001b[0m\u001b[0mnormalized_parts\u001b[0m\u001b[0;34m)\u001b[0m\u001b[0;34m)\u001b[0m\u001b[0;34m]\u001b[0m\u001b[0;34m\u001b[0m\u001b[0;34m\u001b[0m\u001b[0m\n\u001b[0;32m--> 281\u001b[0;31m         \u001b[0mproposals\u001b[0m \u001b[0;34m=\u001b[0m \u001b[0mmate_proposals\u001b[0m\u001b[0;34m(\u001b[0m\u001b[0mlist\u001b[0m\u001b[0;34m(\u001b[0m\u001b[0mzip\u001b[0m\u001b[0;34m(\u001b[0m\u001b[0mdummytransforms\u001b[0m\u001b[0;34m,\u001b[0m \u001b[0mnormalized_parts\u001b[0m\u001b[0;34m)\u001b[0m\u001b[0;34m)\u001b[0m\u001b[0;34m,\u001b[0m \u001b[0mepsilon_rel\u001b[0m\u001b[0;34m=\u001b[0m\u001b[0mepsilon_rel\u001b[0m\u001b[0;34m,\u001b[0m \u001b[0mmax_groups\u001b[0m\u001b[0;34m=\u001b[0m\u001b[0mmax_groups\u001b[0m\u001b[0;34m)\u001b[0m\u001b[0;34m\u001b[0m\u001b[0;34m\u001b[0m\u001b[0m\n\u001b[0m\u001b[1;32m    282\u001b[0m         \u001b[0mend\u001b[0m \u001b[0;34m=\u001b[0m \u001b[0mtime\u001b[0m\u001b[0;34m.\u001b[0m\u001b[0mtime\u001b[0m\u001b[0;34m(\u001b[0m\u001b[0;34m)\u001b[0m\u001b[0;34m\u001b[0m\u001b[0;34m\u001b[0m\u001b[0m\n\u001b[1;32m    283\u001b[0m         \u001b[0mstats\u001b[0m\u001b[0;34m[\u001b[0m\u001b[0;34m'num_proposals'\u001b[0m\u001b[0;34m]\u001b[0m \u001b[0;34m=\u001b[0m \u001b[0mlen\u001b[0m\u001b[0;34m(\u001b[0m\u001b[0mproposals\u001b[0m\u001b[0;34m)\u001b[0m\u001b[0;34m\u001b[0m\u001b[0;34m\u001b[0m\u001b[0m\n",
      "\u001b[0;32m/projects/grail/jamesn8/projects/mechanical/Mechanical/mechanical/mate_proposals.py\u001b[0m in \u001b[0;36mmate_proposals\u001b[0;34m(parts, epsilon_rel, max_groups)\u001b[0m\n\u001b[1;32m    147\u001b[0m             \u001b[0;32mfor\u001b[0m \u001b[0mjgroup\u001b[0m \u001b[0;32min\u001b[0m \u001b[0mnearest\u001b[0m\u001b[0;34m:\u001b[0m\u001b[0;34m\u001b[0m\u001b[0;34m\u001b[0m\u001b[0m\n\u001b[1;32m    148\u001b[0m                 \u001b[0mj\u001b[0m \u001b[0;34m=\u001b[0m \u001b[0msame_dir_inds\u001b[0m\u001b[0;34m[\u001b[0m\u001b[0mjgroup\u001b[0m\u001b[0;34m]\u001b[0m\u001b[0;34m\u001b[0m\u001b[0;34m\u001b[0m\u001b[0m\n\u001b[0;32m--> 149\u001b[0;31m                 \u001b[0mother_part_index\u001b[0m \u001b[0;34m=\u001b[0m \u001b[0mnext\u001b[0m\u001b[0;34m(\u001b[0m\u001b[0miter\u001b[0m\u001b[0;34m(\u001b[0m\u001b[0mtree\u001b[0m\u001b[0;34m[\u001b[0m\u001b[0mj\u001b[0m\u001b[0;34m]\u001b[0m\u001b[0;34m)\u001b[0m\u001b[0;34m)\u001b[0m\u001b[0;34m.\u001b[0m\u001b[0mdata\u001b[0m\u001b[0;34m\u001b[0m\u001b[0;34m\u001b[0m\u001b[0m\n\u001b[0m\u001b[1;32m    150\u001b[0m                 \u001b[0;32mif\u001b[0m \u001b[0mother_part_index\u001b[0m \u001b[0;34m!=\u001b[0m \u001b[0mpart_index\u001b[0m\u001b[0;34m:\u001b[0m\u001b[0;34m\u001b[0m\u001b[0;34m\u001b[0m\u001b[0m\n\u001b[1;32m    151\u001b[0m                     \u001b[0mpi1\u001b[0m\u001b[0;34m,\u001b[0m \u001b[0mpi2\u001b[0m \u001b[0;34m=\u001b[0m \u001b[0mpart_index\u001b[0m\u001b[0;34m,\u001b[0m \u001b[0mother_part_index\u001b[0m\u001b[0;34m\u001b[0m\u001b[0;34m\u001b[0m\u001b[0m\n",
      "\u001b[0;32m/fast/jamesn8/anaconda3/envs/torch3/lib/python3.9/site-packages/intervaltree/intervaltree.py\u001b[0m in \u001b[0;36m__getitem__\u001b[0;34m(self, index)\u001b[0m\n\u001b[1;32m   1045\u001b[0m                 \u001b[0mstop\u001b[0m \u001b[0;34m=\u001b[0m \u001b[0mself\u001b[0m\u001b[0;34m.\u001b[0m\u001b[0mend\u001b[0m\u001b[0;34m(\u001b[0m\u001b[0;34m)\u001b[0m\u001b[0;34m\u001b[0m\u001b[0;34m\u001b[0m\u001b[0m\n\u001b[1;32m   1046\u001b[0m             \u001b[0;32mreturn\u001b[0m \u001b[0mself\u001b[0m\u001b[0;34m.\u001b[0m\u001b[0moverlap\u001b[0m\u001b[0;34m(\u001b[0m\u001b[0mstart\u001b[0m\u001b[0;34m,\u001b[0m \u001b[0mstop\u001b[0m\u001b[0;34m)\u001b[0m\u001b[0;34m\u001b[0m\u001b[0;34m\u001b[0m\u001b[0m\n\u001b[0;32m-> 1047\u001b[0;31m         \u001b[0;32mexcept\u001b[0m \u001b[0mAttributeError\u001b[0m\u001b[0;34m:\u001b[0m\u001b[0;34m\u001b[0m\u001b[0;34m\u001b[0m\u001b[0m\n\u001b[0m\u001b[1;32m   1048\u001b[0m             \u001b[0;32mreturn\u001b[0m \u001b[0mself\u001b[0m\u001b[0;34m.\u001b[0m\u001b[0mat\u001b[0m\u001b[0;34m(\u001b[0m\u001b[0mindex\u001b[0m\u001b[0;34m)\u001b[0m\u001b[0;34m\u001b[0m\u001b[0;34m\u001b[0m\u001b[0m\n\u001b[1;32m   1049\u001b[0m \u001b[0;34m\u001b[0m\u001b[0m\n",
      "\u001b[0;31mKeyboardInterrupt\u001b[0m: "
     ]
    }
   ],
   "source": [
    "#start_index = 1243\n",
    "start_index = 0\n",
    "\n",
    "outpath = os.path.join(out_base_path, 'data')\n",
    "statspath = os.path.join(out_base_path, 'stats')\n",
    "logfile = os.path.join(statspath, 'log.txt')\n",
    "def LOG(st):\n",
    "    with open(logfile,'a') as logf:\n",
    "        logf.write(st + '\\n')\n",
    "epsilon_rel = 0.001\n",
    "max_groups = 10\n",
    "max_mcs = 10000\n",
    "max_mc_pairs = 100000\n",
    "stride = 500\n",
    "debug_run=False\n",
    "save_stats=True\n",
    "last_mate_ckpt = 0\n",
    "last_ckpt = 0\n",
    "\n",
    "all_stats = []\n",
    "mate_stats = []\n",
    "pair_stats = []\n",
    "processed_indices = []\n",
    "mate_indices = []\n",
    "pair_indices = []\n",
    "invalid_part_paths_and_transforms = []\n",
    "\n",
    "run_start_time = time.time()\n",
    "for num_processed,ind in enumerate(assembly_indices[start_index:]):\n",
    "    stats = dict()\n",
    "    curr_mate_stats = []\n",
    "    #clear_output(wait=True)\n",
    "    display(f'num_processed: {num_processed+start_index}/{len(assembly_indices[start_index:])}')\n",
    "\n",
    "    #1. spatially hash all MCFs (cache hash maps for each part for re-use with individual mates)\n",
    "    #2. for all mates, ensure that each MCF is represented (keep track of closest/equivalent MCFs, log percentage of assemblies for which this holds)\n",
    "    #3. get proposals, edit appropriate ones to true based on equivalence class computed per mated pair of parts (taking outer product of equivalent MCs on left and right)\n",
    "\n",
    "    print(assembly_df.loc[ind,\"AssemblyPath\"])\n",
    "    LOG(f'{num_processed+start_index}/{len(assembly_indices[start_index:])}: processing {assembly_df.loc[ind,\"AssemblyPath\"]} at {time.time()-run_start_time}')\n",
    "    \n",
    "    part_subset = part_df.loc[ind]\n",
    "    mate_subset = mate_df.loc[ind]\n",
    "    if mate_subset.ndim == 1:\n",
    "        mate_subset = ps.DataFrame([mate_subset], columns=mate_subset.keys())\n",
    "    \n",
    "    parts = []\n",
    "    part_caches = []\n",
    "    part_paths = []\n",
    "    transforms = []\n",
    "    #mcf_hashes = [] #hashes of normalized mcfs ([origin/maxdim, quat])\n",
    "    mco_hashes = [] #hashes of origins only\n",
    "    mcr_hashes = [] #hashes of origin+z direction (homogenized)\n",
    "    mc_frames_all = [] #[[origin, homogenized rotmatrix]] for each mc for each part\n",
    "    occ_to_index = dict()\n",
    "    \n",
    "    for j in range(part_subset.shape[0]):\n",
    "        path = os.path.join(datapath, 'data/models', *[part_subset.iloc[j][k] for k in ['did','mv','eid','config']], f'{part_subset.iloc[j][\"PartId\"]}.xt')\n",
    "        assert(os.path.isfile(path))\n",
    "        with open(path) as partf:\n",
    "            part_str = partf.read()\n",
    "            part = Part(part_str)\n",
    "            part_paths.append(path)\n",
    "            part_caches.append(part_str)\n",
    "            parts.append(part)\n",
    "            tf = part_subset.iloc[j]['Transform']\n",
    "            transforms.append(tf)\n",
    "            occ_to_index[part_subset.iloc[j]['PartOccurrenceID']] = j\n",
    "    \n",
    "    \n",
    "    bbox = global_bounding_box(parts, transforms)\n",
    "    if bbox is None:\n",
    "        LOG('skipping due to no geometry')\n",
    "        continue\n",
    "    minPt, maxPt = bbox\n",
    "    \n",
    "    median = bbox.mean(axis=0)\n",
    "    dims = maxPt - minPt\n",
    "    maxdim = max(dims)\n",
    "    #maxdim = max([(part.bounding_box()[1]-part.bounding_box()[0]).max() for part in parts])\n",
    "    \n",
    "    p_normalized = np.identity(4, dtype=float)\n",
    "    p_normalized[:3,3] = -median\n",
    "    p_normalized[3,3] = maxdim #todo: figure out if this is double the factor\n",
    "\n",
    "    norm_matrices = [p_normalized @ tf for tf in transforms]\n",
    "    normalized_parts = [Part(cached_part, mat) for cached_part, mat in zip(part_caches, norm_matrices)]\n",
    "    num_invalid_parts = 0\n",
    "    for npart, path, mat in zip(normalized_parts, part_paths, norm_matrices):\n",
    "        if not npart.valid:\n",
    "            LOG(f'invalid part {path}')\n",
    "            LOG(f'transform:\\n{mat}')\n",
    "            num_invalid_parts += 1\n",
    "    stats['num_invalid_transformed_parts'] = num_invalid_parts\n",
    "    stats['num_normalized_parts_with_different_graph_size'] = 0\n",
    "    stats['num_normalized_parts_with_different_mcs'] = 0\n",
    "    stats['num_normalized_parts_with_different_num_mcs'] = 0\n",
    "    for npart, part in zip(normalized_parts, parts):\n",
    "        if npart.num_topologies != part.num_topologies:\n",
    "            stats['num_normalized_parts_with_different_graph_size'] += 1\n",
    "        if len(npart.all_mate_connectors) != len(part.all_mate_connectors):\n",
    "            stats['num_normalized_parts_with_different_num_mcs'] += 1\n",
    "            stats['num_normalized_parts_with_different_mcs'] += 1\n",
    "        else:\n",
    "            mc_data = set()\n",
    "            for mc in part.all_mate_connectors:\n",
    "                mc_dat = (mc.orientation_inference.topology_ref, mc.location_inference.topology_ref, mc.location_inference.inference_type.value)\n",
    "                mc_data.add(mc_dat)\n",
    "            mc_data_normalized = set()\n",
    "            for mc in npart.all_mate_connectors:\n",
    "                mc_dat = (mc.orientation_inference.topology_ref, mc.location_inference.topology_ref, mc.location_inference.inference_type.value)\n",
    "                mc_data_normalized.add(mc_dat)\n",
    "            if mc_data != mc_data_normalized:\n",
    "                stats['num_normalized_parts_with_different_mcs'] += 1\n",
    "    \n",
    "    del parts\n",
    "    del transforms\n",
    "    \n",
    "    total_mcs = sum([len(part.all_mate_connectors) for part in normalized_parts])\n",
    "    stats['total_mates'] = mate_subset.shape[0]\n",
    "    stats['total_parts'] = len(normalized_parts)\n",
    "    stats['maxdim'] = maxdim\n",
    "    stats['total_mcs'] = total_mcs\n",
    "\n",
    "    for j in range(len(normalized_parts)):\n",
    "        part = normalized_parts[j]\n",
    "        mc_frames = []\n",
    "        #mc_frames_as_quat = []\n",
    "        mc_origins = []\n",
    "        for mc in part.all_mate_connectors:\n",
    "            cs = mc.get_coordinate_system()\n",
    "            origin, frame = cs_to_origin_frame(cs)\n",
    "            frame_homogenized = homogenize_frame(frame, z_flip_only=True)\n",
    "            #all_points.append(origin)\n",
    "            #rot = R.from_matrix(frame_homogenized).as_quat()\n",
    "            mc_origins.append(origin)\n",
    "            mc_frames.append((origin, frame_homogenized))\n",
    "            #mc_frames_as_quat.append(np.concatenate([origin, rot]))\n",
    "        mc_ray = [np.concatenate([frame[0],frame[1][:,2]]) for frame in mc_frames]\n",
    "        mc_frames_all.append(mc_frames)\n",
    "        #frame_hash = NNHash(mc_frames_as_quat, 7, epsilon_rel)\n",
    "        origin_hash = NNHash(mc_origins, 3, epsilon_rel)\n",
    "        ray_hash = NNHash(mc_ray, 6, epsilon_rel)\n",
    "        #mcf_hashes.append(frame_hash)\n",
    "        mco_hashes.append(origin_hash)\n",
    "        mcr_hashes.append(ray_hash)\n",
    "        \n",
    "    #debug\n",
    "    #debug_origins = np.array(sum([[cs[0] for cs in mc_frames] for mc_frames in mc_frames_all], start=[]))\n",
    "    #p = mp.plot(debug_origins, shading={'point_size': 0.05})\n",
    "    #for part in normalized_parts:\n",
    "    #    p.add_mesh(part.V, part.F)\n",
    "    \n",
    "    stats['invalid_frames'] = 0\n",
    "    stats['invalid_mates'] = 0\n",
    "    stats['invalid_coincident_origins'] = 0\n",
    "    stats['invalid_permuted_z'] = 0\n",
    "    \n",
    "    mate_matches = [] #list of (left MC IDs, right MC Ids) based on the type of mate\n",
    "    part_pair_to_mate = dict()\n",
    "\n",
    "    #closest_invalid_dists = []\n",
    "    #closest_invalid_dists_6dof = []\n",
    "\n",
    "    mate_invalids = []\n",
    "    for j in range(mate_subset.shape[0]):\n",
    "        matches = [set(), set()]\n",
    "        m_stats = dict()\n",
    "        part_indices = []\n",
    "        mate_invalid = False\n",
    "        for i in range(2):\n",
    "            occId = mate_subset.iloc[j][f'Part{i+1}']\n",
    "            partIndex = occ_to_index[occId]\n",
    "            part_indices.append(partIndex)\n",
    "            assert(part_subset.iloc[partIndex]['PartOccurrenceID'] == occId)\n",
    "            origin_local = mate_subset.iloc[j][f'Origin{i+1}']\n",
    "            frame_local = mate_subset.iloc[j][f'Axes{i+1}']\n",
    "            cs = cs_from_origin_frame(origin_local, frame_local)\n",
    "            cs_transformed = norm_matrices[partIndex] @ cs\n",
    "            origin, frame = cs_to_origin_frame(cs_transformed)\n",
    "            frame_homogenized = homogenize_frame(frame, z_flip_only=True)\n",
    "            #rot = R.from_matrix(frame_homogenized).as_quat()\n",
    "            #mc_frame_normalized = np.concatenate([origin, rot])\n",
    "            mate_ray = np.concatenate([origin, frame_homogenized[:,2]])\n",
    "            neighbors = mcr_hashes[partIndex].get_nearest_points(mate_ray)\n",
    "\n",
    "            for n in neighbors:\n",
    "                matches[i].add(n)\n",
    "            \n",
    "            b_invalid = False\n",
    "            b_num_matches = len(neighbors)\n",
    "            b_invalid_coincident_origins = False\n",
    "            b_invalid_permuted_z = False\n",
    "            \n",
    "            \n",
    "            #compute statistics for the case where there are no matching mcs\n",
    "            if len(neighbors) == 0:\n",
    "                \n",
    "                #debug: visualize mate frame\n",
    "                #add_axis(p, origin, frame[:,0], frame[:,1], frame[:,2], scale=0.2)\n",
    "                #mindist = np.inf\n",
    "                #mindist_6dof = np.inf\n",
    "                #closestId = -1\n",
    "                #for l,origin2_frame2 in enumerate(mc_frames_all[partIndex]):\n",
    "                #    origin2, frame2 = origin2_frame2\n",
    "                #    dist = LA.norm(origin2 - origin)\n",
    "                #    dist_6dof = LA.norm(np.concatenate([origin2, R.from_matrix(frame2).as_quat()]) - np.concatenate([origin, R.from_matrix(frame_homogenized).as_quat()]))\n",
    "                #    if dist < mindist:\n",
    "                #        mindist = dist\n",
    "                #        mindist_6dof = dist_6dof\n",
    "                #        closestId = l\n",
    "                #closest_invalid_dists.append(mindist)\n",
    "                #closest_invalid_dists_6dof.append(mindist_6dof)\n",
    "                #closestorigin = mc_frames_all[partIndex][closestId][0]\n",
    "                #closestframe = mc_frames_all[partIndex][closestId][1]\n",
    "                #add_axis(p,closestorigin, closestframe[:,0],closestframe[:,1],closestframe[:,2], scale=0.2)\n",
    "                \n",
    "                b_invalid = True\n",
    "                stats['invalid_frames'] += 1\n",
    "                if not mate_invalid:\n",
    "                    stats['invalid_mates'] += 1\n",
    "                    mate_invalid = True\n",
    "                \n",
    "                origin_neighbors = mco_hashes[partIndex].get_nearest_points(origin)\n",
    "                if len(origin_neighbors) > 0:\n",
    "                    b_invalid_coincident_origins = True\n",
    "                    stats['invalid_coincident_origins'] += 1\n",
    "                    n = next(iter(origin_neighbors))\n",
    "                    \n",
    "                    #detect whether allowing Z permutations would make this frame match\n",
    "                    c_frame = mc_frames_all[partIndex][n][1]\n",
    "                    c_frame_homogenized = homogenize_frame(c_frame, z_flip_only=False)\n",
    "                    mate_frame_homogenized = homogenize_frame(frame, z_flip_only=False)\n",
    "                    dist = LA.norm(c_frame_homogenized - mate_frame_homogenized)\n",
    "\n",
    "                    if dist < epsilon_rel:\n",
    "                        b_invalid_permuted_z = True\n",
    "                        stats['invalid_permuted_z'] += 1\n",
    "            else:\n",
    "                mateType = mate_subset.iloc[j]['Type']\n",
    "                mc_frames = mc_frames_all[partIndex]\n",
    "                for k,c_origin_frame in enumerate(mc_frames):\n",
    "                    c_origin, c_frame = c_origin_frame\n",
    "                    axisdist = LA.norm(c_frame[:,2] - frame_homogenized[:,2])\n",
    "                    if axisdist < epsilon_rel:\n",
    "                        projdist = np.inf\n",
    "                        if mateType == 'CYLINDRICAL' or mateType == 'SLIDER':\n",
    "                            c_origin_proj = c_origin @ frame_homogenized[:,:2]\n",
    "                            origin_proj = origin @ frame_homogenized[:,:2]\n",
    "                            projdist = LA.norm(c_origin_proj - origin_proj)\n",
    "                        elif mateType == 'PLANAR' or mateType == 'PARALLEL':\n",
    "                            c_origin_proj = c_origin.dot(frame_homogenized[:,2])\n",
    "                            origin_proj = origin.dot(frame_homogenized[:,2])\n",
    "                            projdist = abs(c_origin_proj - origin_proj)\n",
    "                        if projdist < epsilon_rel:\n",
    "                            matches[i].add(k)\n",
    "                    \n",
    "            \n",
    "            m_stats[f'invalid_frame_{i}'] = b_invalid\n",
    "            m_stats[f'invalid_frame_{i}_coincident_origins'] = b_invalid_coincident_origins\n",
    "            m_stats[f'invalid_frame_{i}_permuted_z'] = b_invalid_permuted_z\n",
    "            m_stats[f'matches_frame_{i}'] = b_num_matches\n",
    "            m_stats[f'extra_matches_frame_{i}'] = len(matches[i]) - b_num_matches\n",
    "        m_stats['type'] = mate_subset.iloc[j]['Type']\n",
    "        m_stats['truncated_mc_pairs'] = False\n",
    "        curr_mate_stats.append(m_stats)\n",
    "        mate_indices.append(mate_subset.iloc[j]['MateIndex'])\n",
    "        mate_invalids.append(mate_invalid)\n",
    "        mate_matches.append(matches)\n",
    "        part_indices = tuple(sorted(part_indices))\n",
    "        part_pair_to_mate[part_indices] = j#mate_subset.iloc[j]['Type']\n",
    "    \n",
    "    if total_mcs <= max_mcs and stats['num_normalized_parts_with_different_graph_size'] == 0:\n",
    "        stats['false_part_pairs'] = 0\n",
    "        stats['missed_part_pairs'] = 0\n",
    "        stats['missed_mc_pairs'] = 0\n",
    "        \n",
    "        #find match proposals\n",
    "        start = time.time()\n",
    "        dummytransforms = [np.identity(4) for l in range(len(normalized_parts))]\n",
    "        proposals = mate_proposals(list(zip(dummytransforms, normalized_parts)), epsilon_rel=epsilon_rel, max_groups=max_groups)\n",
    "        end = time.time()\n",
    "        stats['num_proposals'] = len(proposals)\n",
    "        stats['proposal_time'] = end-start\n",
    "        \n",
    "        #initialize pairs based on proposals\n",
    "        part_proposals = dict()\n",
    "        for proposal in proposals:\n",
    "            part_pair = proposal[:2]\n",
    "            if part_pair not in part_proposals:\n",
    "                mc_pair_dict = dict()\n",
    "                part_proposals[part_pair] = mc_pair_dict\n",
    "            else:\n",
    "                mc_pair_dict = part_proposals[part_pair]\n",
    "            mc_pair_dict[proposal[2:]] = -1 #mate type\n",
    "\n",
    "        #populate pairs with labels\n",
    "        #print('populating pairs with labels')\n",
    "        part_pair_found=False\n",
    "        mc_pair_found=False\n",
    "        for j in range(mate_subset.shape[0]):\n",
    "            if not mate_invalids[j]:\n",
    "                mate_type = mate_subset.iloc[j]['Type']\n",
    "                partIds = [occ_to_index[mate_subset.iloc[j][f'Part{i+1}']] for i in range(2)]\n",
    "                matches = mate_matches[j]\n",
    "\n",
    "                if partIds[0] > partIds[1]:\n",
    "                    partIds.reverse()\n",
    "                    matches = matches.copy()\n",
    "                    matches.reverse()\n",
    "                partIds = tuple(partIds)\n",
    "\n",
    "                if partIds in part_proposals:\n",
    "                    part_pair_found=True\n",
    "                    mc_pair_dict = part_proposals[partIds]\n",
    "                    for index1 in matches[0]:\n",
    "                        for index2 in matches[1]:\n",
    "                            mc_pair = index1, index2\n",
    "                            if mc_pair in mc_pair_dict:\n",
    "                                mc_pair_found=True\n",
    "                                mc_pair_dict[mc_pair] = mate_types.index(mate_type)\n",
    "            if not part_pair_found:\n",
    "                stats['missed_part_pairs'] += 1\n",
    "            if not mc_pair_found:\n",
    "                stats['missed_mc_pairs'] += 1\n",
    "            curr_mate_stats[j]['part_pair_found'] =  part_pair_found           \n",
    "            curr_mate_stats[j]['mc_pair_found'] =  mc_pair_found     \n",
    "        \n",
    "        #create data object for each part pair\n",
    "        #print('creating data object')\n",
    "        part_pair_predictions = dict()\n",
    "        for part_pair in part_proposals:\n",
    "            pair_stat = dict()\n",
    "            pair_stat['Assembly'] = ind\n",
    "            pair_stat['MateIndex'] = -1\n",
    "            pair_stat['MateType'] = ''\n",
    "            if normalized_parts[part_pair[0]].valid and normalized_parts[part_pair[1]].valid:\n",
    "                mateIndex = -1\n",
    "                if part_pair in part_pair_to_mate:\n",
    "                    mateIndex = part_pair_to_mate[part_pair]\n",
    "                    mateType = mate_subset.iloc[mateIndex]['Type']\n",
    "                    pair_stat['MateIndex'] = mateIndex\n",
    "                    pair_stat['MateType'] = mateType\n",
    "                else:\n",
    "                    mateType='FASTENED'\n",
    "                    stats['false_part_pairs'] += 1\n",
    "                mc_pairs = part_proposals[part_pair]\n",
    "                \n",
    "                if len(mc_pairs) > max_mc_pairs:\n",
    "                    curr_mate_stats[mateIndex]['truncated_mc_pairs'] = True\n",
    "                    mc_pairs_final=[]\n",
    "                    mc_pairs_false=[]\n",
    "                    for pair in mc_pairs:\n",
    "                        if mc_pairs[pair] >= 0:\n",
    "                            mc_pairs_final.append(pair)\n",
    "                        else:\n",
    "                            mc_pairs_false.append(pair)\n",
    "                    N_true = len(mc_pairs_final)\n",
    "                    N_remainder = max_mc_pairs - N_true\n",
    "                    random.shuffle(mc_pairs_false)\n",
    "                    for pair in mc_pairs_false[:N_remainder]:\n",
    "                        mc_pairs_final.append(pair)\n",
    "                else:\n",
    "                    mc_pairs_final = list(mc_pairs.keys())\n",
    "\n",
    "                part1 = normalized_parts[part_pair[0]]\n",
    "                part2 = normalized_parts[part_pair[1]]\n",
    "                or1, loc1, inf1 = part1.get_onshape_def_from_mc(part1.all_mate_connectors[0])\n",
    "                or2, loc2, inf2 = part2.get_onshape_def_from_mc(part2.all_mate_connectors[0])\n",
    "\n",
    "                data = UniformMateData(\n",
    "                    normalized_parts[part_pair[0]],\n",
    "                    or1,\n",
    "                    loc1,\n",
    "                    inf1,\n",
    "                    norm_matrices[part_pair[0]],\n",
    "                    normalized_parts[part_pair[1]],\n",
    "                    or2,\n",
    "                    loc2,\n",
    "                    inf2,\n",
    "                    norm_matrices[part_pair[1]],\n",
    "                    mateType\n",
    "                )\n",
    "                data = transform(data)\n",
    "                data.mc_pairs = torch.empty((6, len(mc_pairs_final)), dtype=torch.int64)\n",
    "                data.mc_pair_labels = torch.zeros(len(mc_pairs_final), dtype=torch.float32)\n",
    "                all_mcs = [normalized_parts[partIndex].all_mate_connectors for partIndex in part_pair]\n",
    "                for k,pair in enumerate(mc_pairs_final):\n",
    "                    type_index = mc_pairs[pair]\n",
    "                    if type_index >= 0:\n",
    "                        data.mc_pair_labels[k] = 1\n",
    "                    mcs = [mc_list[mcIndex] for mc_list, mcIndex in zip(all_mcs, pair)]\n",
    "                    col = torch.tensor([mcs[0].orientation_inference.topology_ref, mcs[0].location_inference.topology_ref, mcs[0].location_inference.inference_type.value,\n",
    "                          mcs[1].orientation_inference.topology_ref, mcs[1].location_inference.topology_ref, mcs[1].location_inference.inference_type.value], dtype=torch.int)\n",
    "                    data.mc_pairs[:,k] = col\n",
    "                #dataname = f'{assembly_df.loc[ind,\"AssemblyPath\"]}-{part_subset.iloc[part_pair[0]][\"PartOccurrenceID\"].replace(\"/\",\"_\")}-{part_subset.iloc[part_pair[1]][\"PartOccurrenceID\"].replace(\"/\",\"_\")}.dat'\n",
    "                assert(data.node_types_g1.shape[0] == part1.num_topologies)\n",
    "                assert(data.node_types_g2.shape[0] == part2.num_topologies)\n",
    "                assert(data.mc_pairs[0].max().item() < part1.num_topologies)\n",
    "                assert(data.mc_pairs[1].max().item() < part1.num_topologies)\n",
    "                assert(data.mc_pairs[3].max().item() < part2.num_topologies)\n",
    "                assert(data.mc_pairs[4].max().item() < part2.num_topologies)\n",
    "                if not debug_run and not validate:\n",
    "                    dataname = f'{ind}-{part_subset.iloc[part_pair[0]][\"PartIndex\"]}-{part_subset.iloc[part_pair[1]][\"PartIndex\"]}.dat'\n",
    "                    torch_datapath = os.path.join(outpath, dataname)\n",
    "                    count = 0\n",
    "                    while os.path.isfile(torch_datapath):\n",
    "                        count += 1\n",
    "                        torch_datapath_new = os.path.splitext(torch_datapath)[0] + f'-{count}.dat'\n",
    "                        torch_datapath = torch_datapath_new\n",
    "                    torch.save(data, torch_datapath)\n",
    "                    del data\n",
    "                if validate:\n",
    "                    mateDetected = ''\n",
    "                    locationCorrect = False\n",
    "                    #axisCorrect = False\n",
    "                    data = select_full_relations(data)\n",
    "                    follow_batch=[\n",
    "                        'node_types_g1', 'node_types_g2',\n",
    "                        'mc_index_g1', 'mc_index_g2',\n",
    "                        'mc_pair_labels',\n",
    "                        'left_mc_individual_labels', 'right_mc_individual_labels'\n",
    "                    ]\n",
    "                    batch = Batch.from_data_list([data], follow_batch=follow_batch)\n",
    "                    preds_location = torch.sigmoid(model_loc(batch))\n",
    "                    \n",
    "                    if part_pair in part_pair_to_mate:\n",
    "                        maxCorrectProb = 0\n",
    "                        for k,pair in enumerate(mc_pairs_final):\n",
    "                            if mc_pairs[pair] >= 0:\n",
    "                                maxCorrectProb = max(maxCorrectProb, preds_location[k].item())\n",
    "                        pair_stat['MaxInferredProbOfRealMate'] = maxCorrectProb\n",
    "                    \n",
    "                    best_ind = torch.argmax(preds_location).item()\n",
    "                    if preds_location[best_ind].item() > prob_threshold:\n",
    "                        best_pair = mc_pairs_final[best_ind]\n",
    "                        locationCorrect = mc_pairs[best_pair] >= 0\n",
    "                        batch.mc_pair_labels = torch.zeros_like(batch.mc_pair_labels)\n",
    "                        batch.mc_pair_labels[best_ind] = 1\n",
    "                        preds_type = torch.sigmoid(model_type(batch))\n",
    "                        best_type = preds_type[0,:].argmax()\n",
    "                        mateDetected = mate_types[best_type]\n",
    "                    pair_stat['InferredMateType'] = mateDetected\n",
    "                    pair_stat['LocationCorrect'] = locationCorrect\n",
    "            pair_stats.append(pair_stat)\n",
    "            pair_indices.append((part_subset.iloc[part_pair[0]]['PartIndex'],part_subset.iloc[part_pair[1]]['PartIndex']))\n",
    "            \n",
    "    for stat in curr_mate_stats:\n",
    "        mate_stats.append(stat)\n",
    "    all_stats.append(stats)\n",
    "    processed_indices.append(ind)\n",
    "    \n",
    "    if not validate and save_stats and (num_processed+1) % stride == 0:\n",
    "        \n",
    "        stat_df_mini = ps.DataFrame(all_stats[last_ckpt:], index=processed_indices[last_ckpt:])\n",
    "        mate_stat_df_mini = ps.DataFrame(mate_stats[last_mate_ckpt:], index=mate_indices[last_mate_ckpt:])\n",
    "        stat_df_mini.to_parquet(os.path.join(statspath, f'stats_{num_processed + start_index}.parquet'))\n",
    "        mate_stat_df_mini.to_parquet(os.path.join(statspath, f'mate_stats_{ind}.parquet'))\n",
    "        last_mate_ckpt = len(mate_indices)\n",
    "        last_ckpt = len(processed_indices)"
   ]
  },
  {
   "cell_type": "code",
   "execution_count": 36,
   "id": "3a9daeb6-67ff-4260-abca-e084b424d022",
   "metadata": {},
   "outputs": [],
   "source": [
    "#pair_stats_df = ps.DataFrame(pair_stats, index=pair_indices)\n",
    "pair_stats_df = ps.read_parquet(os.path.join(statspath, 'pair_stats_validate.parquet'))"
   ]
  },
  {
   "cell_type": "code",
   "execution_count": 26,
   "id": "0d4ad65a-c4db-432a-bea3-cdc6b01ce459",
   "metadata": {},
   "outputs": [
    {
     "data": {
      "text/plain": [
       "Index(['Assembly', 'MateIndex', 'MateType', 'MaxInferredProbOfRealMate',\n",
       "       'InferredMateType', 'LocationCorrect'],\n",
       "      dtype='object')"
      ]
     },
     "execution_count": 26,
     "metadata": {},
     "output_type": "execute_result"
    }
   ],
   "source": [
    "pair_stats_df.keys()"
   ]
  },
  {
   "cell_type": "code",
   "execution_count": 32,
   "id": "c8f0ebfb-1f3e-49a0-878d-2e96429aa0b4",
   "metadata": {},
   "outputs": [],
   "source": [
    "realmatepairs = pair_stats_df[lambda df: df['MateType'] != '']\n",
    "matched_pairs_anymate = realmatepairs[lambda df: df['InferredMateType'] != '']\n",
    "precision_anymate = matched_pairs_anymate.shape[0] / realmatepairs.shape[0]\n",
    "precision_correct_type = (realmatepairs['InferredMateType'] == realmatepairs['MateType']).sum()/realmatepairs.shape[0]\n",
    "inferredmatepairs = pair_stats_df[lambda df: df['InferredMateType'] != '']\n",
    "recall_anymate = (inferredmatepairs['MateType'] != '').sum()/inferredmatepairs.shape[0]\n",
    "recall_correct_type = (inferredmatepairs['MateType'] == inferredmatepairs['InferredMateType']).sum()/inferredmatepairs.shape[0]\n",
    "correct_location = matched_pairs_anymate['LocationCorrect'].sum()/matched_pairs_anymate.shape[0]\n",
    "missed_mates = realmatepairs[lambda df: df['InferredMateType'] == '']\n"
   ]
  },
  {
   "cell_type": "code",
   "execution_count": 31,
   "id": "d32082d3-a96c-4c3d-a7e9-3c2c2e5d9706",
   "metadata": {},
   "outputs": [
    {
     "data": {
      "text/plain": [
       "<AxesSubplot:>"
      ]
     },
     "execution_count": 31,
     "metadata": {},
     "output_type": "execute_result"
    },
    {
     "data": {
      "image/png": "[encoded data removed]",
      "text/plain": [
       "<Figure size 432x288 with 1 Axes>"
      ]
     },
     "metadata": {
      "needs_background": "light"
     },
     "output_type": "display_data"
    }
   ],
   "source": [
    "missed_mates['MaxInferredProbOfRealMate'].hist()"
   ]
  },
  {
   "cell_type": "code",
   "execution_count": 21,
   "id": "94522b17-c64f-43dd-acac-fbc3bcda7a36",
   "metadata": {},
   "outputs": [
    {
     "data": {
      "text/plain": [
       "0.7064220183486238"
      ]
     },
     "execution_count": 21,
     "metadata": {},
     "output_type": "execute_result"
    }
   ],
   "source": [
    "precision_anymate"
   ]
  },
  {
   "cell_type": "code",
   "execution_count": 23,
   "id": "3ad7de0f-6892-4020-be60-3d2beffb89ce",
   "metadata": {},
   "outputs": [
    {
     "data": {
      "text/plain": [
       "0.28440366972477066"
      ]
     },
     "execution_count": 23,
     "metadata": {},
     "output_type": "execute_result"
    }
   ],
   "source": [
    "precision_correct_type"
   ]
  },
  {
   "cell_type": "code",
   "execution_count": 25,
   "id": "16e9f2b4-0ca4-4a25-9647-06b4ba8b7a4c",
   "metadata": {},
   "outputs": [
    {
     "data": {
      "text/plain": [
       "0.3737864077669903"
      ]
     },
     "execution_count": 25,
     "metadata": {},
     "output_type": "execute_result"
    }
   ],
   "source": [
    "recall_anymate"
   ]
  },
  {
   "cell_type": "code",
   "execution_count": 33,
   "id": "66756f77-c1df-4586-9616-5979ce399a8a",
   "metadata": {},
   "outputs": [
    {
     "data": {
      "text/plain": [
       "0.15048543689320387"
      ]
     },
     "execution_count": 33,
     "metadata": {},
     "output_type": "execute_result"
    }
   ],
   "source": [
    "recall_correct_type"
   ]
  },
  {
   "cell_type": "code",
   "execution_count": 28,
   "id": "9caf6d66-6d90-4b0c-916d-8ac37ca7fbb1",
   "metadata": {},
   "outputs": [
    {
     "data": {
      "text/plain": [
       "0.18181818181818182"
      ]
     },
     "execution_count": 28,
     "metadata": {},
     "output_type": "execute_result"
    }
   ],
   "source": [
    "correct_location"
   ]
  },
  {
   "cell_type": "code",
   "execution_count": 20,
   "id": "84f136d4-be4b-43b2-ade5-d90f598c6632",
   "metadata": {},
   "outputs": [],
   "source": [
    "stats_df = ps.DataFrame(all_stats, index=processed_indices)\n",
    "mate_stats_df = ps.DataFrame(mate_stats, index=mate_indices)"
   ]
  },
  {
   "cell_type": "code",
   "execution_count": 22,
   "id": "6d242398-fbca-4fab-828f-625456046505",
   "metadata": {},
   "outputs": [],
   "source": [
    "stats_df.to_parquet(os.path.join(statspath, 'stats_all.parquet'))\n",
    "mate_stats_df.to_parquet(os.path.join(statspath, 'mate_stats_all.parquet'))"
   ]
  },
  {
   "cell_type": "code",
   "execution_count": 37,
   "id": "4951bb3d-d2c6-42fe-82b6-354cf1d2fbfe",
   "metadata": {},
   "outputs": [
    {
     "data": {
      "text/html": [
       "<div>\n",
       "<style scoped>\n",
       "    .dataframe tbody tr th:only-of-type {\n",
       "        vertical-align: middle;\n",
       "    }\n",
       "\n",
       "    .dataframe tbody tr th {\n",
       "        vertical-align: top;\n",
       "    }\n",
       "\n",
       "    .dataframe thead th {\n",
       "        text-align: right;\n",
       "    }\n",
       "</style>\n",
       "<table border=\"1\" class=\"dataframe\">\n",
       "  <thead>\n",
       "    <tr style=\"text-align: right;\">\n",
       "      <th></th>\n",
       "      <th>num_invalid_transformed_parts</th>\n",
       "      <th>num_normalized_parts_with_different_graph_size</th>\n",
       "      <th>num_normalized_parts_with_different_mcs</th>\n",
       "      <th>num_normalized_parts_with_different_num_mcs</th>\n",
       "      <th>total_mates</th>\n",
       "      <th>total_parts</th>\n",
       "      <th>maxdim</th>\n",
       "      <th>total_mcs</th>\n",
       "      <th>invalid_frames</th>\n",
       "      <th>invalid_mates</th>\n",
       "      <th>invalid_coincident_origins</th>\n",
       "      <th>invalid_permuted_z</th>\n",
       "      <th>false_part_pairs</th>\n",
       "      <th>missed_part_pairs</th>\n",
       "      <th>missed_mc_pairs</th>\n",
       "      <th>num_proposals</th>\n",
       "      <th>proposal_time</th>\n",
       "    </tr>\n",
       "  </thead>\n",
       "  <tbody>\n",
       "    <tr>\n",
       "      <th>18</th>\n",
       "      <td>0</td>\n",
       "      <td>0</td>\n",
       "      <td>1</td>\n",
       "      <td>1</td>\n",
       "      <td>17</td>\n",
       "      <td>18</td>\n",
       "      <td>0.274000</td>\n",
       "      <td>22844</td>\n",
       "      <td>12</td>\n",
       "      <td>9</td>\n",
       "      <td>2</td>\n",
       "      <td>0</td>\n",
       "      <td>NaN</td>\n",
       "      <td>NaN</td>\n",
       "      <td>NaN</td>\n",
       "      <td>NaN</td>\n",
       "      <td>NaN</td>\n",
       "    </tr>\n",
       "    <tr>\n",
       "      <th>19</th>\n",
       "      <td>0</td>\n",
       "      <td>0</td>\n",
       "      <td>0</td>\n",
       "      <td>0</td>\n",
       "      <td>2</td>\n",
       "      <td>3</td>\n",
       "      <td>2.159000</td>\n",
       "      <td>686</td>\n",
       "      <td>4</td>\n",
       "      <td>2</td>\n",
       "      <td>4</td>\n",
       "      <td>1</td>\n",
       "      <td>1.0</td>\n",
       "      <td>2.0</td>\n",
       "      <td>2.0</td>\n",
       "      <td>9977.0</td>\n",
       "      <td>0.182131</td>\n",
       "    </tr>\n",
       "    <tr>\n",
       "      <th>22</th>\n",
       "      <td>2</td>\n",
       "      <td>0</td>\n",
       "      <td>0</td>\n",
       "      <td>0</td>\n",
       "      <td>21</td>\n",
       "      <td>22</td>\n",
       "      <td>0.200000</td>\n",
       "      <td>4972</td>\n",
       "      <td>10</td>\n",
       "      <td>8</td>\n",
       "      <td>9</td>\n",
       "      <td>2</td>\n",
       "      <td>65.0</td>\n",
       "      <td>0.0</td>\n",
       "      <td>0.0</td>\n",
       "      <td>53100.0</td>\n",
       "      <td>1.426332</td>\n",
       "    </tr>\n",
       "    <tr>\n",
       "      <th>23</th>\n",
       "      <td>0</td>\n",
       "      <td>0</td>\n",
       "      <td>0</td>\n",
       "      <td>0</td>\n",
       "      <td>2</td>\n",
       "      <td>3</td>\n",
       "      <td>0.414338</td>\n",
       "      <td>2536</td>\n",
       "      <td>1</td>\n",
       "      <td>1</td>\n",
       "      <td>1</td>\n",
       "      <td>0</td>\n",
       "      <td>1.0</td>\n",
       "      <td>1.0</td>\n",
       "      <td>1.0</td>\n",
       "      <td>28411.0</td>\n",
       "      <td>1.572925</td>\n",
       "    </tr>\n",
       "    <tr>\n",
       "      <th>26</th>\n",
       "      <td>0</td>\n",
       "      <td>0</td>\n",
       "      <td>0</td>\n",
       "      <td>0</td>\n",
       "      <td>15</td>\n",
       "      <td>16</td>\n",
       "      <td>0.061500</td>\n",
       "      <td>4960</td>\n",
       "      <td>16</td>\n",
       "      <td>10</td>\n",
       "      <td>9</td>\n",
       "      <td>0</td>\n",
       "      <td>97.0</td>\n",
       "      <td>0.0</td>\n",
       "      <td>0.0</td>\n",
       "      <td>291488.0</td>\n",
       "      <td>3.869053</td>\n",
       "    </tr>\n",
       "    <tr>\n",
       "      <th>38</th>\n",
       "      <td>0</td>\n",
       "      <td>0</td>\n",
       "      <td>1</td>\n",
       "      <td>1</td>\n",
       "      <td>6</td>\n",
       "      <td>7</td>\n",
       "      <td>0.295275</td>\n",
       "      <td>9357</td>\n",
       "      <td>1</td>\n",
       "      <td>1</td>\n",
       "      <td>1</td>\n",
       "      <td>0</td>\n",
       "      <td>6.0</td>\n",
       "      <td>0.0</td>\n",
       "      <td>0.0</td>\n",
       "      <td>156450.0</td>\n",
       "      <td>6.770895</td>\n",
       "    </tr>\n",
       "    <tr>\n",
       "      <th>40</th>\n",
       "      <td>0</td>\n",
       "      <td>0</td>\n",
       "      <td>0</td>\n",
       "      <td>0</td>\n",
       "      <td>1</td>\n",
       "      <td>2</td>\n",
       "      <td>0.022928</td>\n",
       "      <td>255</td>\n",
       "      <td>2</td>\n",
       "      <td>1</td>\n",
       "      <td>2</td>\n",
       "      <td>0</td>\n",
       "      <td>0.0</td>\n",
       "      <td>1.0</td>\n",
       "      <td>1.0</td>\n",
       "      <td>12.0</td>\n",
       "      <td>0.114647</td>\n",
       "    </tr>\n",
       "    <tr>\n",
       "      <th>45</th>\n",
       "      <td>0</td>\n",
       "      <td>0</td>\n",
       "      <td>0</td>\n",
       "      <td>0</td>\n",
       "      <td>3</td>\n",
       "      <td>4</td>\n",
       "      <td>0.182701</td>\n",
       "      <td>129</td>\n",
       "      <td>0</td>\n",
       "      <td>0</td>\n",
       "      <td>0</td>\n",
       "      <td>0</td>\n",
       "      <td>3.0</td>\n",
       "      <td>0.0</td>\n",
       "      <td>0.0</td>\n",
       "      <td>2284.0</td>\n",
       "      <td>0.046940</td>\n",
       "    </tr>\n",
       "    <tr>\n",
       "      <th>53</th>\n",
       "      <td>0</td>\n",
       "      <td>0</td>\n",
       "      <td>0</td>\n",
       "      <td>0</td>\n",
       "      <td>4</td>\n",
       "      <td>5</td>\n",
       "      <td>0.191500</td>\n",
       "      <td>4395</td>\n",
       "      <td>2</td>\n",
       "      <td>2</td>\n",
       "      <td>0</td>\n",
       "      <td>0</td>\n",
       "      <td>6.0</td>\n",
       "      <td>1.0</td>\n",
       "      <td>1.0</td>\n",
       "      <td>14836.0</td>\n",
       "      <td>1.519457</td>\n",
       "    </tr>\n",
       "    <tr>\n",
       "      <th>64</th>\n",
       "      <td>0</td>\n",
       "      <td>0</td>\n",
       "      <td>0</td>\n",
       "      <td>0</td>\n",
       "      <td>42</td>\n",
       "      <td>43</td>\n",
       "      <td>0.127000</td>\n",
       "      <td>7987</td>\n",
       "      <td>11</td>\n",
       "      <td>11</td>\n",
       "      <td>11</td>\n",
       "      <td>0</td>\n",
       "      <td>324.0</td>\n",
       "      <td>0.0</td>\n",
       "      <td>0.0</td>\n",
       "      <td>529541.0</td>\n",
       "      <td>11.483893</td>\n",
       "    </tr>\n",
       "  </tbody>\n",
       "</table>\n",
       "</div>"
      ],
      "text/plain": [
       "    num_invalid_transformed_parts  \\\n",
       "18                              0   \n",
       "19                              0   \n",
       "22                              2   \n",
       "23                              0   \n",
       "26                              0   \n",
       "38                              0   \n",
       "40                              0   \n",
       "45                              0   \n",
       "53                              0   \n",
       "64                              0   \n",
       "\n",
       "    num_normalized_parts_with_different_graph_size  \\\n",
       "18                                               0   \n",
       "19                                               0   \n",
       "22                                               0   \n",
       "23                                               0   \n",
       "26                                               0   \n",
       "38                                               0   \n",
       "40                                               0   \n",
       "45                                               0   \n",
       "53                                               0   \n",
       "64                                               0   \n",
       "\n",
       "    num_normalized_parts_with_different_mcs  \\\n",
       "18                                        1   \n",
       "19                                        0   \n",
       "22                                        0   \n",
       "23                                        0   \n",
       "26                                        0   \n",
       "38                                        1   \n",
       "40                                        0   \n",
       "45                                        0   \n",
       "53                                        0   \n",
       "64                                        0   \n",
       "\n",
       "    num_normalized_parts_with_different_num_mcs  total_mates  total_parts  \\\n",
       "18                                            1           17           18   \n",
       "19                                            0            2            3   \n",
       "22                                            0           21           22   \n",
       "23                                            0            2            3   \n",
       "26                                            0           15           16   \n",
       "38                                            1            6            7   \n",
       "40                                            0            1            2   \n",
       "45                                            0            3            4   \n",
       "53                                            0            4            5   \n",
       "64                                            0           42           43   \n",
       "\n",
       "      maxdim  total_mcs  invalid_frames  invalid_mates  \\\n",
       "18  0.274000      22844              12              9   \n",
       "19  2.159000        686               4              2   \n",
       "22  0.200000       4972              10              8   \n",
       "23  0.414338       2536               1              1   \n",
       "26  0.061500       4960              16             10   \n",
       "38  0.295275       9357               1              1   \n",
       "40  0.022928        255               2              1   \n",
       "45  0.182701        129               0              0   \n",
       "53  0.191500       4395               2              2   \n",
       "64  0.127000       7987              11             11   \n",
       "\n",
       "    invalid_coincident_origins  invalid_permuted_z  false_part_pairs  \\\n",
       "18                           2                   0               NaN   \n",
       "19                           4                   1               1.0   \n",
       "22                           9                   2              65.0   \n",
       "23                           1                   0               1.0   \n",
       "26                           9                   0              97.0   \n",
       "38                           1                   0               6.0   \n",
       "40                           2                   0               0.0   \n",
       "45                           0                   0               3.0   \n",
       "53                           0                   0               6.0   \n",
       "64                          11                   0             324.0   \n",
       "\n",
       "    missed_part_pairs  missed_mc_pairs  num_proposals  proposal_time  \n",
       "18                NaN              NaN            NaN            NaN  \n",
       "19                2.0              2.0         9977.0       0.182131  \n",
       "22                0.0              0.0        53100.0       1.426332  \n",
       "23                1.0              1.0        28411.0       1.572925  \n",
       "26                0.0              0.0       291488.0       3.869053  \n",
       "38                0.0              0.0       156450.0       6.770895  \n",
       "40                1.0              1.0           12.0       0.114647  \n",
       "45                0.0              0.0         2284.0       0.046940  \n",
       "53                1.0              1.0        14836.0       1.519457  \n",
       "64                0.0              0.0       529541.0      11.483893  "
      ]
     },
     "execution_count": 37,
     "metadata": {},
     "output_type": "execute_result"
    }
   ],
   "source": [
    "stats_df"
   ]
  },
  {
   "cell_type": "code",
   "execution_count": null,
   "id": "33c94b07-15f6-4283-9670-f184b5e5e2d6",
   "metadata": {},
   "outputs": [],
   "source": [
    "num_processed"
   ]
  },
  {
   "cell_type": "code",
   "execution_count": 24,
   "id": "90f6ff97-7007-4574-8c20-826c2acad0d5",
   "metadata": {},
   "outputs": [
    {
     "data": {
      "text/plain": [
       "UniformMateData(amounts_data_g1=[167, 1], amounts_data_g2=[252, 1], brep_directed_edge_index_g1=[2, 284], brep_directed_edge_index_g2=[2, 450], brep_edge_types_g1=[284], brep_edge_types_g2=[450], brep_edges_g1=[2, 284], brep_edges_g2=[2, 450], face_edge_edge_index_g1=[2, 128], face_edge_edge_index_g2=[2, 200], face_edge_edge_map_g1=[64, 1], face_edge_edge_map_g2=[100, 1], face_edge_edge_types_g1=[64], face_edge_edge_types_g2=[100], face_edge_edges_g1=[2, 64], face_edge_edges_g2=[2, 100], face_edge_topology_map_g1=[2, 284], face_edge_topology_map_g2=[2, 450], left_mc_individual_labels=[18], left_mc_individual_refs=[4, 18], mate_type=[1], mc_pair_labels=[8179], mc_pair_type=[162], mc_pairs=[6, 8179], mc_pairs_left_cs=[162, 16], mc_pairs_right_cs=[162, 16], node_types_g1=[167], node_types_g2=[252], num_G_edges_g1=64, num_G_edges_g2=100, num_G_faces_g1=31, num_G_faces_g2=46, num_G_loops_g1=36, num_G_loops_g2=50, num_G_verts_g1=36, num_G_verts_g2=56, p_normalized_g1=[4, 4], p_normalized_g2=[4, 4], parametric_args_g1=[167, 8], parametric_args_g2=[252, 8], parametric_fns_g1=[167], parametric_fns_g2=[252], right_mc_individual_labels=[18], right_mc_individual_refs=[4, 18], summary_data_g1=[167, 15], summary_data_g2=[252, 15])"
      ]
     },
     "execution_count": 24,
     "metadata": {},
     "output_type": "execute_result"
    }
   ],
   "source": [
    "data"
   ]
  },
  {
   "cell_type": "code",
   "execution_count": 26,
   "id": "40ef0ebe-0122-40f1-b521-28415d849351",
   "metadata": {},
   "outputs": [
    {
     "data": {
      "text/plain": [
       "torch.Size([252])"
      ]
     },
     "execution_count": 26,
     "metadata": {},
     "output_type": "execute_result"
    }
   ],
   "source": [
    "data.node_types_g2.shape"
   ]
  },
  {
   "cell_type": "code",
   "execution_count": 27,
   "id": "21c79dd2-b791-4489-a358-ed9d8b40e71f",
   "metadata": {},
   "outputs": [
    {
     "data": {
      "text/plain": [
       "<Part with 280 nodes and 502 links>"
      ]
     },
     "execution_count": 27,
     "metadata": {},
     "output_type": "execute_result"
    }
   ],
   "source": [
    "part2"
   ]
  },
  {
   "cell_type": "code",
   "execution_count": 28,
   "id": "2f91d855-5d8e-42f3-94e8-3b771bd29c73",
   "metadata": {},
   "outputs": [
    {
     "data": {
      "text/plain": [
       "<Part with 252 nodes and 450 links>"
      ]
     },
     "execution_count": 28,
     "metadata": {},
     "output_type": "execute_result"
    }
   ],
   "source": [
    "normalized_parts[part_pair[1]]"
   ]
  },
  {
   "cell_type": "code",
   "execution_count": null,
   "id": "525ad37f-824f-4a8b-aa10-9f7e65d86c4e",
   "metadata": {},
   "outputs": [],
   "source": []
  }
 ],
 "metadata": {
  "kernelspec": {
   "display_name": "Python 3 (ipykernel)",
   "language": "python",
   "name": "python3"
  },
  "language_info": {
   "codemirror_mode": {
    "name": "ipython",
    "version": 3
   },
   "file_extension": ".py",
   "mimetype": "text/x-python",
   "name": "python",
   "nbconvert_exporter": "python",
   "pygments_lexer": "ipython3",
   "version": "3.9.6"
  }
 },
 "nbformat": 4,
 "nbformat_minor": 5
}
