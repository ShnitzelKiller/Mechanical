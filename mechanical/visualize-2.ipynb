{
 "cells": [
  {
   "cell_type": "code",
   "execution_count": 1,
   "id": "5f1232d0",
   "metadata": {},
   "outputs": [],
   "source": [
    "import onshape as brepio\n",
    "from visualize import plot_assembly, plot_mate, emptyplot\n",
    "import os\n",
    "import pandas as ps\n",
    "import ipywidgets as widgets\n",
    "from IPython.display import clear_output"
   ]
  },
  {
   "cell_type": "code",
   "execution_count": 2,
   "id": "bcb6e317-4b46-4c86-a3d2-2c50ba914e24",
   "metadata": {},
   "outputs": [],
   "source": [
    "df_name = '/fast/jamesn8/assembly_data/assembly_data_with_transforms_all.h5'\n",
    "df_name_part = '/fast/jamesn8/assembly_data/assembly_data_with_transforms_all.h5_segmentation.h5'\n",
    "assembly_df = ps.read_hdf(df_name,'assembly')\n",
    "part_df = ps.read_hdf(df_name_part,'part')\n",
    "mate_df = ps.read_hdf(df_name,'mate')"
   ]
  },
  {
   "cell_type": "code",
   "execution_count": 3,
   "id": "3d99e4ae-fba7-4686-ab43-ca702fa2ce61",
   "metadata": {},
   "outputs": [],
   "source": [
    "path_to_index = ps.Series(dict((v,k) for k,v in assembly_df['AssemblyPath'].iteritems()))"
   ]
  },
  {
   "cell_type": "code",
   "execution_count": 4,
   "id": "f06d8fd7-486c-4e0c-bba3-8ab7472ccd60",
   "metadata": {},
   "outputs": [],
   "source": [
    "has_geometry = part_df.groupby('Assembly')['HasGeometry'].agg(all)\n",
    "assembly_df['HasAllGeometry'] = has_geometry"
   ]
  },
  {
   "cell_type": "code",
   "execution_count": 5,
   "id": "ba9c047f-b577-424c-a15f-8a3095dc0676",
   "metadata": {},
   "outputs": [],
   "source": [
    "part_df.set_index('Assembly', inplace=True)"
   ]
  },
  {
   "cell_type": "code",
   "execution_count": 6,
   "id": "c1be4e00-6f69-498e-ab6d-215631b758c4",
   "metadata": {},
   "outputs": [],
   "source": [
    "datapath = '/projects/grail/benjones/cadlab'"
   ]
  },
  {
   "cell_type": "code",
   "execution_count": 7,
   "id": "f596a582",
   "metadata": {},
   "outputs": [],
   "source": [
    "loader = brepio.Loader(datapath)"
   ]
  },
  {
   "cell_type": "code",
   "execution_count": 16,
   "id": "8d954d72",
   "metadata": {},
   "outputs": [
    {
     "data": {
      "application/vnd.jupyter.widget-view+json": {
       "model_id": "30900b7ca2e3469694b5070fc183482c",
       "version_major": 2,
       "version_minor": 0
      },
      "text/plain": [
       "interactive(children=(Text(value='7492', description='sample'), Output()), _dom_classes=('widget-interact',))"
      ]
     },
     "metadata": {},
     "output_type": "display_data"
    }
   ],
   "source": [
    "mate_types = ['PIN_SLOT', 'BALL', 'PARALLEL', 'SLIDER', 'REVOLUTE', 'CYLINDRICAL', 'PLANAR', 'FASTENED']\n",
    "@mp.interact(sample=\"7492\")\n",
    "def display_sample(sample):\n",
    "    try:\n",
    "        sample = int(sample)\n",
    "    except ValueError:\n",
    "        sample = path_to_index[sample]\n",
    "    assemblypath = assembly_df.loc[sample, \"AssemblyPath\"]\n",
    "    did, mv, eid = assemblypath.split('_')\n",
    "    print(f'https://cad.onshape.com/documents/{did}/w/8a6b7ec29c9e253f04b1a1fb/m/{mv}/e/{eid}')\n",
    "    print(assemblypath, f' ({sample})')\n",
    "    try:\n",
    "        geo, mates = loader.load_flattened(assemblypath + '.json', skipInvalid=True)\n",
    "    except FileNotFoundError as e:\n",
    "        print(f'File not found: {e}')\n",
    "        return\n",
    "    assert(list(geo) == list(part_df.loc[sample,'PartOccurrenceID']))\n",
    "    mate_counts = dict()\n",
    "    for mate in mates:\n",
    "        if len(mate.matedEntities) == 2:\n",
    "            if mate.type not in mate_counts:\n",
    "                mate_counts[mate.type] = 0\n",
    "            mate_counts[mate.type] += 1\n",
    "    num_connected = assembly_df.loc[sample, \"ConnectedComponents\"]\n",
    "    num_rigid = assembly_df.loc[sample, \"RigidPieces\"]\n",
    "    if num_connected > 1:\n",
    "        print('warning:',num_connected,'connected components')\n",
    "    print('rigid pieces:',num_rigid)\n",
    "    print('total parts:',len(geo))\n",
    "    print(f'mates: {len(mates)}: ',mate_counts)\n",
    "\n",
    "    #choices = [(f'mate {i} ({mates[i].type}) ({mates[i].matedEntities[0][0]}, {mates[i].matedEntities[1][0]})',i) for i in range(len(mates)) if len(mates[i].matedEntities) == 2]\n",
    "    choices = [(f'mate {i} ({mates[i].type}) ({mates[i].name})',i) for i in range(len(mates)) if len(mates[i].matedEntities) == 2]\n",
    "    choices = [('fullAssembly', -1)] + choices\n",
    "    p = emptyplot()\n",
    "    badOccs = [k for k in geo if geo[k][1] is None or geo[k][1].V.shape[0] == 0]\n",
    "    if len(badOccs) > 0:\n",
    "        print(f'warning: {len(badOccs)} invalid parts!')\n",
    "    #for o in badOccs:\n",
    "    #    geo.pop(o)\n",
    "    @mp.interact(mate=choices, wireframe=False, show_parts=True, use_rigid_labels=True)\n",
    "    def ff(mate, wireframe, show_parts, use_rigid_labels):\n",
    "        if mate == -1:\n",
    "            print('displaying full assembly')\n",
    "            if use_rigid_labels:\n",
    "                rigid_labels = list(part_df.loc[sample, 'RigidComponentID'])\n",
    "            else:\n",
    "                rigid_labels = None\n",
    "            plot_assembly(geo, mates, p=p, wireframe=wireframe, show_parts=show_parts, rigid_labels = rigid_labels)\n",
    "            #print('num mates:',len(mates))\n",
    "        elif len(mates[mate].matedEntities) == 2:\n",
    "            me = mates[mate].matedEntities\n",
    "            print('mated parts:',me[0][0],me[1][0])\n",
    "            if me[0][0] in badOccs or me[1][0] in badOccs:\n",
    "                print('invalid parts in mate')\n",
    "                return\n",
    "            plot_mate(geo, mates[mate], p=p, wireframe=wireframe)\n",
    "                \n",
    "        else:\n",
    "            print(f'nonstandard mate with {len(me)} entities')\n",
    "    p"
   ]
  },
  {
   "cell_type": "code",
   "execution_count": 19,
   "id": "6064208b-ca29-4add-b1a7-0b40463962f1",
   "metadata": {},
   "outputs": [
    {
     "data": {
      "text/plain": [
       "125132"
      ]
     },
     "execution_count": 19,
     "metadata": {},
     "output_type": "execute_result"
    }
   ],
   "source": [
    "assembly_df.index[-1]"
   ]
  },
  {
   "cell_type": "code",
   "execution_count": null,
   "id": "407badfc-2105-4768-bb2d-3b9080886797",
   "metadata": {},
   "outputs": [],
   "source": []
  }
 ],
 "metadata": {
  "kernelspec": {
   "display_name": "Python 3 (ipykernel)",
   "language": "python",
   "name": "python3"
  },
  "language_info": {
   "codemirror_mode": {
    "name": "ipython",
    "version": 3
   },
   "file_extension": ".py",
   "mimetype": "text/x-python",
   "name": "python",
   "nbconvert_exporter": "python",
   "pygments_lexer": "ipython3",
   "version": "3.9.6"
  }
 },
 "nbformat": 4,
 "nbformat_minor": 5
}
