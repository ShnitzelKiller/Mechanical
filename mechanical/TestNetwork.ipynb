{
 "cells": [
  {
   "cell_type": "code",
   "execution_count": 2,
   "id": "f72b34d3",
   "metadata": {},
   "outputs": [],
   "source": [
    "import onshape.brepio as brepio\n",
    "import meshplot as mp\n",
    "import numpy as np\n",
    "from visualize import inspect\n",
    "import os\n",
    "from utils import adjacency_matrix, connected_components\n",
    "import pandas\n",
    "from sklearn.neighbors import NearestNeighbors\n",
    "import pandas as pd\n",
    "from pspart import Part\n",
    "import pspart\n",
    "import numpy.linalg as LA\n",
    "from IPython.display import clear_output\n",
    "import pandas as ps\n",
    "from intervaltree import IntervalTree, Interval"
   ]
  },
  {
   "cell_type": "markdown",
   "id": "49a5ab88-a86a-4235-8ced-5784f0f18780",
   "metadata": {},
   "source": [
    "## Initialization"
   ]
  },
  {
   "cell_type": "code",
   "execution_count": 3,
   "id": "e0347d18-e1c2-4072-92fd-9f24bb77e426",
   "metadata": {},
   "outputs": [],
   "source": [
    "datadir = '/projects/grail/benjones/cadlab'"
   ]
  },
  {
   "cell_type": "code",
   "execution_count": 4,
   "id": "6eb08010",
   "metadata": {},
   "outputs": [],
   "source": [
    "loader = brepio.Loader(datadir)"
   ]
  },
  {
   "cell_type": "code",
   "execution_count": 5,
   "id": "4583ee3f",
   "metadata": {},
   "outputs": [
    {
     "name": "stdout",
     "output_type": "stream",
     "text": [
      "making set\n"
     ]
    }
   ],
   "source": [
    "with open('filter_list.txt') as f:\n",
    "    filter_list = f.readlines()\n",
    "print('making set')\n",
    "filter_set = set()\n",
    "for l in filter_list:\n",
    "    filter_set.add(l.strip())\n",
    "del filter_list"
   ]
  },
  {
   "cell_type": "code",
   "execution_count": 6,
   "id": "019f0f7e",
   "metadata": {},
   "outputs": [],
   "source": [
    "datalist = [entry.name for entry in os.scandir('/projects/grail/benjones/cadlab/data/flattened_assemblies') if entry.name not in filter_set]"
   ]
  },
  {
   "cell_type": "code",
   "execution_count": 7,
   "id": "f10acd42",
   "metadata": {},
   "outputs": [],
   "source": [
    "index = [f for f in enumerate(datalist) if f[1].startswith('7e9d103329425a0159111b74_0adf8a89c08f3d158c92fe1d_000e8d5b205966be9b869cc7')][0][0]"
   ]
  },
  {
   "cell_type": "code",
   "execution_count": 8,
   "id": "d6048fb1",
   "metadata": {},
   "outputs": [
    {
     "name": "stdout",
     "output_type": "stream",
     "text": [
      "7e9d103329425a0159111b74_0adf8a89c08f3d158c92fe1d_000e8d5b205966be9b869cc7.json\n"
     ]
    }
   ],
   "source": [
    "name = datalist[index]\n",
    "print(name)\n",
    "geo, mates = loader.load_flattened(name)"
   ]
  },
  {
   "cell_type": "code",
   "execution_count": 8,
   "id": "b30b06b6",
   "metadata": {},
   "outputs": [],
   "source": [
    "mateIndex = 0\n",
    "currMate = mates[mateIndex]\n",
    "occs = [me[0] for me in currMate.matedEntities]"
   ]
  },
  {
   "cell_type": "code",
   "execution_count": 9,
   "id": "4790a219",
   "metadata": {},
   "outputs": [],
   "source": [
    "parts = [geo[occ] for occ in occs]"
   ]
  },
  {
   "cell_type": "markdown",
   "id": "9fd03127-1a99-497f-9d90-a2072b9005db",
   "metadata": {},
   "source": [
    "## Testing stuff"
   ]
  },
  {
   "cell_type": "code",
   "execution_count": 249,
   "id": "b35ccdfb",
   "metadata": {},
   "outputs": [
    {
     "ename": "IndexError",
     "evalue": "list index out of range",
     "output_type": "error",
     "traceback": [
      "\u001b[0;31m---------------------------------------------------------------------------\u001b[0m",
      "\u001b[0;31mIndexError\u001b[0m                                Traceback (most recent call last)",
      "\u001b[0;32m/tmp/ipykernel_2969532/1236536959.py\u001b[0m in \u001b[0;36m<module>\u001b[0;34m\u001b[0m\n\u001b[0;32m----> 1\u001b[0;31m \u001b[0mparts\u001b[0m\u001b[0;34m[\u001b[0m\u001b[0;36m0\u001b[0m\u001b[0;34m]\u001b[0m\u001b[0;34m[\u001b[0m\u001b[0;36m1\u001b[0m\u001b[0;34m]\u001b[0m\u001b[0;34m.\u001b[0m\u001b[0mget_example_mc\u001b[0m\u001b[0;34m(\u001b[0m\u001b[0mparts\u001b[0m\u001b[0;34m[\u001b[0m\u001b[0;36m0\u001b[0m\u001b[0;34m]\u001b[0m\u001b[0;34m[\u001b[0m\u001b[0;36m1\u001b[0m\u001b[0;34m]\u001b[0m\u001b[0;34m.\u001b[0m\u001b[0monshape_ids\u001b[0m\u001b[0;34m[\u001b[0m\u001b[0;36m0\u001b[0m\u001b[0;34m]\u001b[0m\u001b[0;34m)\u001b[0m\u001b[0;34m\u001b[0m\u001b[0;34m\u001b[0m\u001b[0m\n\u001b[0m",
      "\u001b[0;31mIndexError\u001b[0m: list index out of range"
     ]
    }
   ],
   "source": [
    "parts[0][1].get_example_mc(parts[0][1].onshape_ids[0])"
   ]
  },
  {
   "cell_type": "code",
   "execution_count": 254,
   "id": "bca78f7c",
   "metadata": {},
   "outputs": [
    {
     "data": {
      "text/plain": [
       "<Part with 0 nodes and 0 links>"
      ]
     },
     "execution_count": 254,
     "metadata": {},
     "output_type": "execute_result"
    }
   ],
   "source": [
    "parts[0][1]"
   ]
  },
  {
   "cell_type": "code",
   "execution_count": null,
   "id": "c8eaf5ed",
   "metadata": {},
   "outputs": [],
   "source": [
    "parts[0][1].get_onshape_def_from_mc(parts[0][1].all_mate_connectors[0])"
   ]
  },
  {
   "cell_type": "code",
   "execution_count": null,
   "id": "6610bfd0",
   "metadata": {},
   "outputs": [],
   "source": [
    "parts[0][1].get_example_mc(parts[0][1].onshape_ids[0])"
   ]
  },
  {
   "cell_type": "code",
   "execution_count": null,
   "id": "2cc765dd",
   "metadata": {
    "scrolled": true
   },
   "outputs": [],
   "source": [
    "dir(parts[0][1].all_mate_connectors[0])"
   ]
  },
  {
   "cell_type": "code",
   "execution_count": null,
   "id": "1b7afccb-3836-423a-9426-3f0d44aa4f0e",
   "metadata": {},
   "outputs": [],
   "source": [
    "dir(parts[0][1].all_mate_connectors[0].location_inference.inference_type)"
   ]
  },
  {
   "cell_type": "markdown",
   "id": "96f3e660-3cb5-44fe-99b8-a2bb6a8c9f38",
   "metadata": {},
   "source": [
    "## Construct example for network"
   ]
  },
  {
   "cell_type": "code",
   "execution_count": 9,
   "id": "4c095212",
   "metadata": {},
   "outputs": [
    {
     "ename": "NameError",
     "evalue": "name 'parts' is not defined",
     "output_type": "error",
     "traceback": [
      "\u001b[0;31m---------------------------------------------------------------------------\u001b[0m",
      "\u001b[0;31mNameError\u001b[0m                                 Traceback (most recent call last)",
      "\u001b[0;32m/tmp/ipykernel_950653/3997712437.py\u001b[0m in \u001b[0;36m<module>\u001b[0;34m\u001b[0m\n\u001b[0;32m----> 1\u001b[0;31m \u001b[0mmaxdim\u001b[0m \u001b[0;34m=\u001b[0m \u001b[0mmax\u001b[0m\u001b[0;34m(\u001b[0m\u001b[0;34m[\u001b[0m\u001b[0;34m(\u001b[0m\u001b[0mpart\u001b[0m\u001b[0;34m[\u001b[0m\u001b[0;36m1\u001b[0m\u001b[0;34m]\u001b[0m\u001b[0;34m.\u001b[0m\u001b[0mbounding_box\u001b[0m\u001b[0;34m(\u001b[0m\u001b[0;34m)\u001b[0m\u001b[0;34m[\u001b[0m\u001b[0;36m1\u001b[0m\u001b[0;34m]\u001b[0m\u001b[0;34m-\u001b[0m\u001b[0mpart\u001b[0m\u001b[0;34m[\u001b[0m\u001b[0;36m1\u001b[0m\u001b[0;34m]\u001b[0m\u001b[0;34m.\u001b[0m\u001b[0mbounding_box\u001b[0m\u001b[0;34m(\u001b[0m\u001b[0;34m)\u001b[0m\u001b[0;34m[\u001b[0m\u001b[0;36m0\u001b[0m\u001b[0;34m]\u001b[0m\u001b[0;34m)\u001b[0m\u001b[0;34m.\u001b[0m\u001b[0mmax\u001b[0m\u001b[0;34m(\u001b[0m\u001b[0;34m)\u001b[0m \u001b[0;32mfor\u001b[0m \u001b[0mpart\u001b[0m \u001b[0;32min\u001b[0m \u001b[0mparts\u001b[0m\u001b[0;34m]\u001b[0m\u001b[0;34m)\u001b[0m\u001b[0;34m\u001b[0m\u001b[0;34m\u001b[0m\u001b[0m\n\u001b[0m",
      "\u001b[0;31mNameError\u001b[0m: name 'parts' is not defined"
     ]
    }
   ],
   "source": [
    "maxdim = max([(part[1].bounding_box()[1]-part[1].bounding_box()[0]).max() for part in parts])"
   ]
  },
  {
   "cell_type": "code",
   "execution_count": 260,
   "id": "cd0fdb3e",
   "metadata": {},
   "outputs": [],
   "source": [
    "locations = [np.array([part[0][:3,:3] @ mc.get_coordinate_system()[:3,3] + part[0][:3,3] for mc in part[1].all_mate_connectors]) for part in parts]"
   ]
  },
  {
   "cell_type": "code",
   "execution_count": 261,
   "id": "07464b79",
   "metadata": {},
   "outputs": [],
   "source": [
    "import meshplot as mp"
   ]
  },
  {
   "cell_type": "code",
   "execution_count": 262,
   "id": "7b14355c",
   "metadata": {
    "tags": []
   },
   "outputs": [
    {
     "data": {
      "application/vnd.jupyter.widget-view+json": {
       "model_id": "5ce8a861c6524352988b90bd9110b735",
       "version_major": 2,
       "version_minor": 0
      },
      "text/plain": [
       "Renderer(camera=PerspectiveCamera(children=(DirectionalLight(color='white', intensity=0.6, position=(-0.081188…"
      ]
     },
     "metadata": {},
     "output_type": "display_data"
    },
    {
     "data": {
      "text/plain": [
       "1"
      ]
     },
     "execution_count": 262,
     "metadata": {},
     "output_type": "execute_result"
    }
   ],
   "source": [
    "p = mp.plot(locations[0])\n",
    "p.add_points(locations[1], shading={'point_color':'blue'})"
   ]
  },
  {
   "cell_type": "code",
   "execution_count": 14,
   "id": "bcf41912",
   "metadata": {},
   "outputs": [
    {
     "data": {
      "text/plain": [
       "[150, 433]"
      ]
     },
     "execution_count": 14,
     "metadata": {},
     "output_type": "execute_result"
    }
   ],
   "source": [
    "[loc.shape[0] for loc in locations]"
   ]
  },
  {
   "cell_type": "code",
   "execution_count": 15,
   "id": "fe367d8c",
   "metadata": {},
   "outputs": [],
   "source": [
    "startIndex = np.argmax([loc.shape[0] for loc in locations])"
   ]
  },
  {
   "cell_type": "code",
   "execution_count": 16,
   "id": "686efecf",
   "metadata": {},
   "outputs": [],
   "source": [
    "nn = NearestNeighbors(n_neighbors=1, algorithm='ball_tree').fit(locations[startIndex])"
   ]
  },
  {
   "cell_type": "code",
   "execution_count": 17,
   "id": "a260b2e4",
   "metadata": {},
   "outputs": [],
   "source": [
    "distances, indices = nn.kneighbors(locations[1-startIndex])"
   ]
  },
  {
   "cell_type": "code",
   "execution_count": 18,
   "id": "518278e1",
   "metadata": {},
   "outputs": [],
   "source": [
    "threshold = maxdim/10000\n",
    "matches = [(i,pair[1][0],pair[0][0]) for i,pair in enumerate(zip(distances, indices)) if pair[0] < threshold]"
   ]
  },
  {
   "cell_type": "code",
   "execution_count": 19,
   "id": "1bbfc9f9",
   "metadata": {},
   "outputs": [],
   "source": [
    "uniqueIndices = set()\n",
    "for match in matches:\n",
    "    uniqueIndices.add(match[1])\n",
    "\n",
    "bestmatches = [min([match for match in matches if match[1] == index], key=lambda a: a[2]) for index in uniqueIndices]"
   ]
  },
  {
   "cell_type": "code",
   "execution_count": 20,
   "id": "c60b3515",
   "metadata": {},
   "outputs": [
    {
     "data": {
      "text/plain": [
       "[(1, 354, 1.734723475976807e-17),\n",
       " (3, 354, 2.5018537765542006e-17),\n",
       " (6, 354, 2.6020852139652106e-17),\n",
       " (28, 354, 2.5018537765542006e-17),\n",
       " (30, 354, 2.5018537765542006e-17),\n",
       " (81, 354, 2.5018537765542006e-17),\n",
       " (82, 354, 2.5018537765542006e-17)]"
      ]
     },
     "execution_count": 20,
     "metadata": {},
     "output_type": "execute_result"
    }
   ],
   "source": [
    "matches"
   ]
  },
  {
   "cell_type": "code",
   "execution_count": 21,
   "id": "cbc10a10",
   "metadata": {},
   "outputs": [
    {
     "data": {
      "text/plain": [
       "[(1, 354, 1.734723475976807e-17)]"
      ]
     },
     "execution_count": 21,
     "metadata": {},
     "output_type": "execute_result"
    }
   ],
   "source": [
    "bestmatches"
   ]
  },
  {
   "cell_type": "code",
   "execution_count": 9,
   "id": "105392b3",
   "metadata": {},
   "outputs": [],
   "source": [
    "from automate.lightning_models.simplified import SimplifiedJointModel\n",
    "from extension.ml import Predictor"
   ]
  },
  {
   "cell_type": "code",
   "execution_count": 10,
   "id": "25e49136-6fc7-4a41-960f-61d712662892",
   "metadata": {},
   "outputs": [],
   "source": [
    "from automate.data.data import UniformMateData\n",
    "from torch_geometric.data import Batch"
   ]
  },
  {
   "cell_type": "code",
   "execution_count": 11,
   "id": "b14d9c7e-303d-40a6-adfd-afa957c0168e",
   "metadata": {},
   "outputs": [],
   "source": [
    "import torch"
   ]
  },
  {
   "cell_type": "code",
   "execution_count": 12,
   "id": "9f53cd3a",
   "metadata": {},
   "outputs": [
    {
     "name": "stderr",
     "output_type": "stream",
     "text": [
      "/fast/jamesn8/anaconda3/envs/torch3/lib/python3.9/site-packages/deprecate/deprecation.py:115: LightningDeprecationWarning: The `Metric` was deprecated since v1.3.0 in favor of `torchmetrics.metric.Metric`. It will be removed in v1.5.0.\n",
      "  stream(template_mgs % msg_args)\n"
     ]
    }
   ],
   "source": [
    "predictor_types = Predictor('/projects/grail/benjones/cadlab/dalton_lightning_logs/real_all_fn_args_amounts_sum_directedhybridgcn12_type/version_0/checkpoints/epoch=5-val_auc=0.948979.ckpt')\n",
    "predictor_location = Predictor('/projects/grail/benjones/cadlab/dalton_lightning_logs/real_all_fn_args_amounts_sum_directedhybridgcn12/version_0/checkpoints/epoch=46-val_auc=0.666113.ckpt')"
   ]
  },
  {
   "cell_type": "markdown",
   "id": "85aa2ad1-2844-4691-a670-9681073f1c3c",
   "metadata": {},
   "source": [
    "### Find likely mates"
   ]
  },
  {
   "cell_type": "code",
   "execution_count": 13,
   "id": "cf811089-695b-4df2-8d94-0d519abe4edb",
   "metadata": {},
   "outputs": [],
   "source": [
    "#parts = list(reversed([geo[occ] for occ in geo]))\n",
    "parts = [geo[occ] for occ in geo]"
   ]
  },
  {
   "cell_type": "code",
   "execution_count": 14,
   "id": "777bc8cc-5af7-449e-bf58-bb03517fe845",
   "metadata": {},
   "outputs": [
    {
     "name": "stdout",
     "output_type": "stream",
     "text": [
      "maxdim:0.10435554761121174, epsilon:0.00010435554761121175\n"
     ]
    }
   ],
   "source": [
    "epsilon_fac = 1000\n",
    "maxdim = max([(part.bounding_box()[1]-part.bounding_box()[0]).max() for _, part in parts])\n",
    "epsilon = maxdim/epsilon_fac\n",
    "print(f'maxdim:{maxdim}, epsilon:{epsilon}')\n",
    "mc_locations = []\n",
    "interval2part = []\n",
    "part2offset = dict()\n",
    "total_mcs = 0\n",
    "for i,tf_part in enumerate(parts):\n",
    "    tf, part = tf_part\n",
    "    for mc in part.all_mate_connectors:\n",
    "        cs = mc.get_coordinate_system()\n",
    "        origin = tf[:3, :3] @ cs[:3,3] + tf[:3,3]\n",
    "        mc_locations.append(origin)\n",
    "    new_total = total_mcs + len(part.all_mate_connectors)\n",
    "    interval2part.append((total_mcs, new_total, i))\n",
    "    part2offset[i] = total_mcs\n",
    "    total_mcs = new_total\n",
    "nnhash = pspart.NNHash(mc_locations, 3, epsilon)\n",
    "tree = IntervalTree([Interval(l, u, d) for l, u, d in interval2part])"
   ]
  },
  {
   "cell_type": "code",
   "execution_count": 15,
   "id": "5fb99bf5-3f7c-4607-81db-e5196510b05c",
   "metadata": {},
   "outputs": [],
   "source": [
    "proposals = set()\n",
    "num_matches = 0\n",
    "for i,loc in enumerate(mc_locations):\n",
    "    nearest = list(nnhash.get_nearest_points(loc))\n",
    "    num_matches += len(nearest)\n",
    "    part_index = next(iter(tree[i])).data\n",
    "    for j in nearest:\n",
    "        other_part_index = next(iter(tree[j])).data\n",
    "        if other_part_index != part_index:\n",
    "            pi1, pi2 = part_index, other_part_index\n",
    "            mci1, mci2 = i - part2offset[part_index], j - part2offset[other_part_index]\n",
    "            if pi1 > pi2:\n",
    "                pi1, pi2 = pi2, pi1\n",
    "                mci1, mci2 = mci2, mci1\n",
    "            proposals.add((pi1, pi2, mci1, mci2))"
   ]
  },
  {
   "cell_type": "code",
   "execution_count": 16,
   "id": "c56757c1-571e-4c8a-bbc3-26ac2741c189",
   "metadata": {},
   "outputs": [
    {
     "data": {
      "text/plain": [
       "28"
      ]
     },
     "execution_count": 16,
     "metadata": {},
     "output_type": "execute_result"
    }
   ],
   "source": [
    "len(proposals)"
   ]
  },
  {
   "cell_type": "code",
   "execution_count": 17,
   "id": "bb9f3f97-4c3d-4176-82ea-b4d5e6263359",
   "metadata": {},
   "outputs": [],
   "source": [
    "results = predictor_location.predict_assembly([part[1] for part in parts], proposals)"
   ]
  },
  {
   "cell_type": "code",
   "execution_count": 19,
   "id": "2c46f315-f19e-44cd-b781-6db4530e5725",
   "metadata": {
    "tags": []
   },
   "outputs": [
    {
     "data": {
      "text/plain": [
       "0.9689185619354248"
      ]
     },
     "execution_count": 19,
     "metadata": {},
     "output_type": "execute_result"
    }
   ],
   "source": [
    "results[0][0].item()"
   ]
  },
  {
   "cell_type": "markdown",
   "id": "91862df3-a0ec-4a3d-b3bc-32dc8ae1ec3d",
   "metadata": {},
   "source": [
    "### Create batch"
   ]
  },
  {
   "cell_type": "code",
   "execution_count": 18,
   "id": "ab7fa5eb-12ad-432d-92ef-203556dbca41",
   "metadata": {},
   "outputs": [],
   "source": [
    "parts = [geo[occ][1] for occ in geo]\n",
    "part_topology_offsets = dict()\n",
    "topo_offset = 0\n",
    "for i,part in enumerate(parts):\n",
    "    part_topology_offsets[i] = topo_offset\n",
    "    topo_offset += part.num_topologies\n",
    "transforms = predictor_location.transform\n",
    "follow_batch = [\n",
    "            'node_types_g1', 'node_types_g2',\n",
    "            'mc_index_g1', 'mc_index_g2',\n",
    "            'mc_pair_labels',\n",
    "            'left_mc_individual_labels', 'right_mc_individual_labels'\n",
    "        ]\n",
    "\n",
    "max_size = 0\n",
    "for part in parts:\n",
    "    p_size = (part.V.max(axis=0) - part.V.min(axis=0)).max()\n",
    "    max_size = max(max_size, p_size)\n",
    "\n",
    "uniform_data = []\n",
    "for part in parts:\n",
    "    or1, loc1, inf1 = part.get_example_mc(part.onshape_ids[0])\n",
    "    p_center = (part.V.max(axis=0) + part.V.min(axis=0))/2\n",
    "    p_normalized = np.identity(4, dtype=float)\n",
    "    p_normalized[:3,3] = -p_center\n",
    "    p_normalized[3,3] = max_size\n",
    "    data = UniformMateData(\n",
    "        part,\n",
    "        or1,\n",
    "        loc1,\n",
    "        inf1,\n",
    "        p_normalized,\n",
    "        part,\n",
    "        or1,\n",
    "        loc1,\n",
    "        inf1,\n",
    "        p_normalized,\n",
    "        'FASTENED'\n",
    "    )\n",
    "    data = transforms(data)\n",
    "    uniform_data.append(data)\n",
    "\n",
    "batch = Batch.from_data_list(uniform_data, follow_batch=follow_batch)\n",
    "mc_pairs = []\n",
    "for p in proposals:\n",
    "    mc1 = parts[p[0]].all_mate_connectors[p[2]]\n",
    "    mc2 = parts[p[1]].all_mate_connectors[p[3]]\n",
    "    offset1 = part_topology_offsets[p[0]]\n",
    "    offset2 = part_topology_offsets[p[1]]\n",
    "    mc = torch.tensor([mc1.orientation_inference.topology_ref + offset1, mc1.location_inference.topology_ref + offset1, mc1.location_inference.inference_type.value,\n",
    "                       mc2.orientation_inference.topology_ref + offset2, mc2.location_inference.topology_ref + offset2, mc2.location_inference.inference_type.value], dtype=torch.int64)\n",
    "    mc_pairs.append(mc.unsqueeze(-1))\n",
    "mc_pairs = torch.hstack(mc_pairs)"
   ]
  },
  {
   "cell_type": "code",
   "execution_count": 19,
   "id": "343dd825-0901-4f55-befb-8e0ac9cd6f47",
   "metadata": {},
   "outputs": [],
   "source": [
    "batch.mc_pairs = mc_pairs"
   ]
  },
  {
   "cell_type": "code",
   "execution_count": 48,
   "id": "c1d9cdef-314c-45bc-b5df-e01b0d877976",
   "metadata": {},
   "outputs": [
    {
     "name": "stdout",
     "output_type": "stream",
     "text": [
      "mc_index_g1\n",
      "mc_index_g2\n"
     ]
    }
   ],
   "source": [
    "for k in follow_batch:\n",
    "    if k not in data.__dict__:\n",
    "        print(k)"
   ]
  },
  {
   "cell_type": "code",
   "execution_count": null,
   "id": "b9ec51ae-b474-47c0-9358-bf763740fa88",
   "metadata": {},
   "outputs": [],
   "source": [
    "results = []\n",
    "for match in bestmatches:\n",
    "    parts_reordered = (parts[1-startIndex], parts[startIndex]) #query index, NN tree index\n",
    "    \n",
    "    selections = [{'part':part[1],'mc':part[1].all_mate_connectors[match[i]]} for i,part in enumerate(parts_reordered)]    \n",
    "    result = predictor.predict_mc(selections)\n",
    "    results.append(result)"
   ]
  },
  {
   "cell_type": "code",
   "execution_count": 35,
   "id": "83fea391-9b89-44bb-ad64-7bd5597a2452",
   "metadata": {},
   "outputs": [
    {
     "data": {
      "text/plain": [
       "[(tensor([[0.7990, 0.3978, 0.2965, 0.2671, 0.0985, 0.0746, 0.0728, 0.0220]],\n",
       "         grad_fn=<SigmoidBackward>),\n",
       "  tensor([[[  0,   0,   0,   0,   0,   0,   0,   0]],\n",
       "  \n",
       "          [[  0,   0,   0,   0,   0,   0,   0,   0]],\n",
       "  \n",
       "          [[  4,   4,   4,   4,   4,   4,   4,   4]],\n",
       "  \n",
       "          [[ 18,  18,  18,  18,  18,  18,  18,  18]],\n",
       "  \n",
       "          [[110, 159, 160, 109, 107, 108, 161,  18]],\n",
       "  \n",
       "          [[  2,   3,   3,   2,   0,   2,   3,   1]]]))]"
      ]
     },
     "execution_count": 35,
     "metadata": {},
     "output_type": "execute_result"
    }
   ],
   "source": [
    "results"
   ]
  },
  {
   "cell_type": "code",
   "execution_count": 239,
   "id": "df388f43-95f2-4b1e-8d60-fc6de6ad2735",
   "metadata": {},
   "outputs": [],
   "source": [
    "def predict_mc(predictor, selections):\n",
    "        assert(len(selections) == 2)\n",
    "        for sel in selections:\n",
    "            assert('part' in sel)\n",
    "            assert('mc' in sel)\n",
    "            #assert('occurrence' in sel)\n",
    "        \n",
    "        part1 = selections[0]['part']\n",
    "        or1, loc1, inf1 = part1.get_onshape_def_from_mc(selections[0]['mc'])\n",
    "        part2 = selections[1]['part']\n",
    "        or2, loc2, inf2 = part2.get_onshape_def_from_mc(selections[1]['mc'])\n",
    "\n",
    "        data = UniformMateData(\n",
    "            selections[0]['part'],\n",
    "            or1,\n",
    "            loc1,\n",
    "            inf1,\n",
    "            None,\n",
    "            selections[1]['part'],\n",
    "            or2,\n",
    "            loc2,\n",
    "            inf2,\n",
    "            None,\n",
    "            'FASTENED'\n",
    "        )\n",
    "        data = predictor.transform(data)\n",
    "\n",
    "\n",
    "        matepair = []\n",
    "        for sel in selections:\n",
    "            matepair.append(sel['mc'].orientation_inference.topology_ref)\n",
    "            matepair.append(sel['mc'].location_inference.topology_ref)\n",
    "            matepair.append(sel['mc'].location_inference.inference_type.value)\n",
    "\n",
    "        found = False\n",
    "        pairIndex = -1\n",
    "        for i in range(data.mc_pairs.shape[1]):\n",
    "            col = data.mc_pairs[:,i].numpy()\n",
    "            if all(col == np.array(matepair)):\n",
    "                found = True\n",
    "                pairIndex = i\n",
    "                break\n",
    "        assert(found)\n",
    "        data.mc_pair_labels[:] = 0\n",
    "        data.mc_pair_labels[pairIndex] = 1\n",
    "\n",
    "        batch = Batch.from_data_list([data], follow_batch=predictor.follow_batch)\n",
    "        predictor.model.eval()\n",
    "        preds = predictor.model(batch)\n",
    "        #sorted_mates = batch.mc_pairs[:,indices]\n",
    "        #sorted_left_cs = batch.mc_pairs_left_cs[indices,:]\n",
    "        #sorted_right_cs = batch.mc_pairs_right_cs[indices,:]\n",
    "        return torch.sigmoid(preds)#, torch.transpose(sorted_left_cs.reshape((-1,4,4)), 1, 2), torch.transpose(sorted_right_cs.reshape((-1,4,4)),1,2)"
   ]
  },
  {
   "cell_type": "code",
   "execution_count": 240,
   "id": "c5719983-5f3e-4982-90dc-52035ad93b19",
   "metadata": {},
   "outputs": [
    {
     "ename": "NameError",
     "evalue": "name 'predictor' is not defined",
     "output_type": "error",
     "traceback": [
      "\u001b[0;31m---------------------------------------------------------------------------\u001b[0m",
      "\u001b[0;31mNameError\u001b[0m                                 Traceback (most recent call last)",
      "\u001b[0;32m/tmp/ipykernel_2969532/1467815782.py\u001b[0m in \u001b[0;36m<module>\u001b[0;34m\u001b[0m\n\u001b[0;32m----> 1\u001b[0;31m \u001b[0mresult\u001b[0m \u001b[0;34m=\u001b[0m \u001b[0mpredict_mc\u001b[0m\u001b[0;34m(\u001b[0m\u001b[0mpredictor\u001b[0m\u001b[0;34m,\u001b[0m \u001b[0mselections\u001b[0m\u001b[0;34m)\u001b[0m\u001b[0;34m\u001b[0m\u001b[0;34m\u001b[0m\u001b[0m\n\u001b[0m",
      "\u001b[0;31mNameError\u001b[0m: name 'predictor' is not defined"
     ]
    }
   ],
   "source": [
    "result = predict_mc(predictor, selections)"
   ]
  }
 ],
 "metadata": {
  "kernelspec": {
   "display_name": "Python 3 (ipykernel)",
   "language": "python",
   "name": "python3"
  },
  "language_info": {
   "codemirror_mode": {
    "name": "ipython",
    "version": 3
   },
   "file_extension": ".py",
   "mimetype": "text/x-python",
   "name": "python",
   "nbconvert_exporter": "python",
   "pygments_lexer": "ipython3",
   "version": "3.9.6"
  }
 },
 "nbformat": 4,
 "nbformat_minor": 5
}
