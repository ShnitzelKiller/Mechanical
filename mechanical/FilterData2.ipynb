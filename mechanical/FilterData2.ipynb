{
 "cells": [
  {
   "cell_type": "markdown",
   "id": "daddf04f-c2ae-4fbc-bbef-13130a18f41b",
   "metadata": {},
   "source": [
    "# Filtering the datalist to valid entries using the stats dataframes"
   ]
  },
  {
   "cell_type": "code",
   "execution_count": 1,
   "id": "efdf57b6-9d2a-416c-ae0c-5a04f9134f35",
   "metadata": {},
   "outputs": [],
   "source": [
    "import numpy as np\n",
    "import pandas as ps\n",
    "import os\n",
    "from IPython.display import JSON as DJSON\n",
    "import random"
   ]
  },
  {
   "cell_type": "code",
   "execution_count": 2,
   "id": "e744750e-7ccc-438f-bdab-165ba2117df5",
   "metadata": {},
   "outputs": [],
   "source": [
    "name = '/fast/jamesn8/assembly_data/assembly_data_with_transforms_all.h5'\n",
    "assembly_df = ps.read_hdf(name,'assembly')\n",
    "mate_df = ps.read_hdf(name,'mate')\n",
    "part_df = ps.read_hdf(name,'part')"
   ]
  },
  {
   "cell_type": "code",
   "execution_count": 3,
   "id": "a10ab555-5e92-4e8b-989e-52662add1655",
   "metadata": {},
   "outputs": [],
   "source": [
    "part_df_indexed = part_df.copy()\n",
    "part_df_indexed['PartIndex'] = part_df_indexed.index\n",
    "part_df_indexed['AssemblyOccurrenceID'] = [f'{ass}-{occ}' for ass,occ in zip(part_df_indexed['Assembly'], part_df_indexed['PartOccurrenceID'])]\n",
    "part_df_indexed.set_index('AssemblyOccurrenceID', inplace=True)"
   ]
  },
  {
   "cell_type": "code",
   "execution_count": 23,
   "id": "8889204f-4845-41b7-a7b2-a08844034280",
   "metadata": {},
   "outputs": [],
   "source": [
    "base_path = '/fast/jamesn8/assembly_data/mate_torch_norm_match'"
   ]
  },
  {
   "cell_type": "code",
   "execution_count": 5,
   "id": "874abc46-0952-4f3e-8668-9bfe50ebd53a",
   "metadata": {},
   "outputs": [],
   "source": [
    "stats_path = os.path.join(base_path,'stats')"
   ]
  },
  {
   "cell_type": "code",
   "execution_count": 6,
   "id": "09627275-6b0a-4d04-a7c9-5fc9f43f101e",
   "metadata": {},
   "outputs": [],
   "source": [
    "stats_df = ps.read_parquet(os.path.join(stats_path, 'stats_all.parquet'))\n",
    "mate_stats_df = ps.read_parquet(os.path.join(stats_path, 'mate_stats_all.parquet'))"
   ]
  },
  {
   "cell_type": "raw",
   "id": "16fcc7b0-a914-4a1c-98f7-bf51e9c87875",
   "metadata": {},
   "source": [
    "stats_dfs = [ps.read_parquet(os.path.join(stats_path, fname)) for fname in os.listdir(stats_path) if fname.startswith('stats') and fname.endswith('.parquet')]"
   ]
  },
  {
   "cell_type": "raw",
   "id": "57c014ca-86bc-4044-8d6d-cc501290a14c",
   "metadata": {},
   "source": [
    "mate_dfs = [ps.read_parquet(os.path.join(stats_path, fname)) for fname in os.listdir(stats_path) if fname.startswith('mate') and fname.endswith('.parquet')]"
   ]
  },
  {
   "cell_type": "raw",
   "id": "c7fcbe16-26c1-43c4-b456-1faa654eecdf",
   "metadata": {},
   "source": [
    "stats_df = ps.concat(stats_dfs, axis=0)\n",
    "del stats_dfs"
   ]
  },
  {
   "cell_type": "raw",
   "id": "1539a0d3-7b92-42d3-909b-7f4b840f7b18",
   "metadata": {},
   "source": [
    "mate_stats_df = ps.concat(mate_dfs, axis=0)\n",
    "del mate_dfs"
   ]
  },
  {
   "cell_type": "code",
   "execution_count": 7,
   "id": "46ce7330-0090-4fc8-8b0b-0dc51ed87d23",
   "metadata": {},
   "outputs": [],
   "source": [
    "only_valid = stats_df[lambda df: (df['invalid_mates'] == 0) & (df['num_invalid_transformed_parts'] == 0)]"
   ]
  },
  {
   "cell_type": "code",
   "execution_count": 8,
   "id": "41d80770-c65a-48c2-9eb0-f6b2d52e58c8",
   "metadata": {},
   "outputs": [
    {
     "data": {
      "text/plain": [
       "0.6864439324116743"
      ]
     },
     "execution_count": 8,
     "metadata": {},
     "output_type": "execute_result"
    }
   ],
   "source": [
    "only_valid.shape[0]/stats_df.shape[0]"
   ]
  },
  {
   "cell_type": "code",
   "execution_count": 9,
   "id": "f39c26e8-fbdf-40c6-92b5-33169c7887a7",
   "metadata": {},
   "outputs": [],
   "source": [
    "mate_stats_invalid_df = mate_stats_df[lambda df: df['invalid_frame_0'] | df['invalid_frame_1']]"
   ]
  },
  {
   "cell_type": "code",
   "execution_count": 10,
   "id": "70a58ecd-22c1-4423-afec-5259d46dda1c",
   "metadata": {},
   "outputs": [],
   "source": [
    "indexfile = os.path.join(base_path,'index.txt')\n",
    "with open(indexfile,'r') as f:\n",
    "    datalist = [[int(val) for val in os.path.splitext(l.rstrip())[0].split('-')] for l in f.readlines()]"
   ]
  },
  {
   "cell_type": "code",
   "execution_count": 11,
   "id": "15cb9f2e-e8cd-46e1-a79c-c27be0298888",
   "metadata": {},
   "outputs": [],
   "source": [
    "def sort_columns(df,names):\n",
    "    cols = tuple(zip(*[sorted(me) for me in zip(*[df[name] for name in names])]))\n",
    "    df.drop(names,inplace=True, axis=1)\n",
    "    for name,col in zip(names,cols):\n",
    "        df[name] = col"
   ]
  },
  {
   "cell_type": "code",
   "execution_count": 12,
   "id": "d4bdd203-1d51-4101-afb9-38896c8412cc",
   "metadata": {
    "tags": []
   },
   "outputs": [],
   "source": [
    "mate_df_indexed = mate_df.copy()\n",
    "mate_df_indexed['MateIndex'] = mate_df_indexed.index\n",
    "sort_columns(mate_df_indexed, ['Part1','Part2'])\n",
    "mate_df_indexed.set_index(['Assembly','Part1','Part2'],inplace=True)\n",
    "#mate_df_indexed['MateID'] = [str(tup[0]) + '-' + '-'.join(sorted(tup[1:])) for tup in zip(mate_df_indexed['Assembly'], mate_df_indexed['Part1'], mate_df_indexed['Part2'])]\n",
    "#mate_df_indexed.set_index('MateID', inplace=True)"
   ]
  },
  {
   "cell_type": "code",
   "execution_count": 13,
   "id": "eb31780c-f241-4b5c-828e-f5ba25e3b89f",
   "metadata": {},
   "outputs": [],
   "source": [
    "datalist_df = ps.DataFrame(datalist, columns=['assembly','part1','part2'])"
   ]
  },
  {
   "cell_type": "code",
   "execution_count": 14,
   "id": "14f75922-19da-4951-91da-5ab7565d1e8e",
   "metadata": {},
   "outputs": [],
   "source": [
    "minipartdf = part_df['PartOccurrenceID']\n",
    "datalist_with_occ = datalist_df.join(minipartdf, on='part1').rename({'PartOccurrenceID':'Part1OccurrenceID'},axis=1)\n",
    "datalist_with_occ = datalist_with_occ.join(minipartdf, on='part2').rename({'PartOccurrenceID':'Part2OccurrenceID'},axis=1)"
   ]
  },
  {
   "cell_type": "code",
   "execution_count": 15,
   "id": "cb022e62-b20d-4dea-8d44-86c56932195a",
   "metadata": {},
   "outputs": [],
   "source": [
    "sort_columns(datalist_with_occ,['Part1OccurrenceID','Part2OccurrenceID'])"
   ]
  },
  {
   "cell_type": "code",
   "execution_count": 16,
   "id": "012c6b91-2635-4dc7-939d-44d6e99b083f",
   "metadata": {},
   "outputs": [],
   "source": [
    "datalist_with_mates = datalist_with_occ.join(mate_df_indexed['MateIndex'], on=['assembly','Part1OccurrenceID','Part2OccurrenceID'])"
   ]
  },
  {
   "cell_type": "code",
   "execution_count": 17,
   "id": "d8e37d6f-a357-4b08-973d-b9dc14a28bef",
   "metadata": {},
   "outputs": [],
   "source": [
    "excluded_based_on_mates = datalist_with_mates.loc[lambda df: [mi in mate_stats_invalid_df.index for mi in df['MateIndex']]].index"
   ]
  },
  {
   "cell_type": "code",
   "execution_count": 18,
   "id": "2fa4dc1b-1f58-4cb4-9058-ce0770129054",
   "metadata": {},
   "outputs": [
    {
     "data": {
      "text/plain": [
       "Int64Index([    10,     36,    129,    221,    244,    375,    382,    426,\n",
       "               565,    599,\n",
       "            ...\n",
       "            429036, 429059, 429093, 429121, 429125, 429206, 429342, 429456,\n",
       "            429468, 429506],\n",
       "           dtype='int64', length=9423)"
      ]
     },
     "execution_count": 18,
     "metadata": {},
     "output_type": "execute_result"
    }
   ],
   "source": [
    "excluded_based_on_mates"
   ]
  },
  {
   "cell_type": "markdown",
   "id": "09971efd-47e0-4390-9872-aa5ce6337eef",
   "metadata": {},
   "source": [
    "### Todo: exclude assemblies with any invalid mates? (just filter to only_valid)"
   ]
  },
  {
   "cell_type": "code",
   "execution_count": 76,
   "id": "879acf97-8694-473f-b9e2-e8188f541727",
   "metadata": {},
   "outputs": [],
   "source": [
    "excluded_set = excluded_based_on_mates"
   ]
  },
  {
   "cell_type": "code",
   "execution_count": 77,
   "id": "239e8606-6b45-4afb-9bc8-dc2437b72d06",
   "metadata": {},
   "outputs": [],
   "source": [
    "datalist_filtered = ['-'.join([str(d) for d in data]) + '.dat\\n' for i,data in enumerate(datalist) if i not in excluded_set]"
   ]
  },
  {
   "cell_type": "code",
   "execution_count": 75,
   "id": "26f05c7b-39c8-41ad-a901-7c3f874bc7ec",
   "metadata": {},
   "outputs": [
    {
     "name": "stdout",
     "output_type": "stream",
     "text": [
      "num elements excluded based on invalid mates 9423\n"
     ]
    }
   ],
   "source": [
    "print('num elements excluded based on invalid mates',len(excluded_based_on_mates))"
   ]
  },
  {
   "cell_type": "code",
   "execution_count": null,
   "id": "81b56a94-8d61-4a5c-860e-f47b86279dd9",
   "metadata": {},
   "outputs": [],
   "source": [
    "excluded_set = set(excluded_based_on_assembly + excluded_based_on_mates)"
   ]
  },
  {
   "cell_type": "code",
   "execution_count": null,
   "id": "fc76c66f-afbe-4e67-9460-e595d3947db3",
   "metadata": {},
   "outputs": [],
   "source": [
    "datalist_filtered = ['-'.join([str(d) for d in data]) + '.dat\\n' for i,data in enumerate(datalist) if i not in excluded_set]"
   ]
  },
  {
   "cell_type": "code",
   "execution_count": 78,
   "id": "b64d9a3d-e105-4794-bfc0-2394c2321a77",
   "metadata": {},
   "outputs": [],
   "source": [
    "random.shuffle(datalist_filtered)"
   ]
  },
  {
   "cell_type": "code",
   "execution_count": 79,
   "id": "7a751bee-71c7-487d-8312-1ced5a9b2337",
   "metadata": {},
   "outputs": [
    {
     "name": "stdout",
     "output_type": "stream",
     "text": [
      "retained 0.978072625698324\n"
     ]
    }
   ],
   "source": [
    "print('retained',len(datalist_filtered)/len(datalist))"
   ]
  },
  {
   "cell_type": "code",
   "execution_count": 80,
   "id": "47281722-329c-4635-9aee-52559cf4e438",
   "metadata": {},
   "outputs": [],
   "source": [
    "indexfile_filtered = os.path.join(base_path, 'index_filtered2.txt')\n",
    "with open(indexfile_filtered,'w') as f:\n",
    "    f.writelines(datalist_filtered)"
   ]
  },
  {
   "cell_type": "code",
   "execution_count": 86,
   "id": "44654363-8321-47f4-8a84-afcb2a7b519a",
   "metadata": {},
   "outputs": [],
   "source": [
    "assemblies = list(stats_df.index)"
   ]
  },
  {
   "cell_type": "code",
   "execution_count": 87,
   "id": "2ee4d9a0-c2a4-4383-91fc-d3bbd8d2b632",
   "metadata": {},
   "outputs": [],
   "source": [
    "random.shuffle(assemblies)"
   ]
  },
  {
   "cell_type": "code",
   "execution_count": 93,
   "id": "029a258a-348f-47df-b279-7a1c4b3427f3",
   "metadata": {},
   "outputs": [],
   "source": [
    "split = len(assemblies)//5\n",
    "assemblies_val = set(assemblies[:split])\n",
    "assemblies_train = set(assemblies[split:])"
   ]
  },
  {
   "cell_type": "code",
   "execution_count": 94,
   "id": "6a23dd5e-76db-40c5-8141-22b7026e6b9e",
   "metadata": {},
   "outputs": [],
   "source": [
    "datalist_train = [l for l in datalist_filtered if int(l.split('-')[0]) in assemblies_train]\n",
    "datalist_val = [l for l in datalist_filtered if int(l.split('-')[0]) in assemblies_val]"
   ]
  },
  {
   "cell_type": "code",
   "execution_count": 98,
   "id": "b797a0f2-55eb-4cc5-9e52-7bc4bef42985",
   "metadata": {},
   "outputs": [
    {
     "name": "stdout",
     "output_type": "stream",
     "text": [
      "final split ratio of mate data: 0.20652577466799943\n"
     ]
    }
   ],
   "source": [
    "print('final split ratio of mate data:',len(datalist_val)/(len(datalist_val)+len(datalist_train)))"
   ]
  },
  {
   "cell_type": "code",
   "execution_count": 105,
   "id": "eb217272-5ad3-4da1-9827-00b032e80402",
   "metadata": {},
   "outputs": [],
   "source": [
    "with open(os.path.join(base_path,'assemblies_train.txt'),'w') as f:\n",
    "    f.writelines([str(l) +'\\n' for l in assemblies_train])"
   ]
  },
  {
   "cell_type": "code",
   "execution_count": 106,
   "id": "9cfadbdb-9785-4bd3-8087-24649d4d5d8d",
   "metadata": {},
   "outputs": [],
   "source": [
    "with open(os.path.join(base_path,'assemblies_val.txt'),'w') as f:\n",
    "    f.writelines([str(l) +'\\n' for l in assemblies_val])"
   ]
  },
  {
   "cell_type": "code",
   "execution_count": 24,
   "id": "60dc7e9e-2880-469a-a363-445cca1fff74",
   "metadata": {},
   "outputs": [],
   "source": [
    "indexfile_train = os.path.join(base_path, 'index_filtered2_train.txt')\n",
    "indexfile_val = os.path.join(base_path, 'index_filtered2_val.txt')"
   ]
  },
  {
   "cell_type": "code",
   "execution_count": 102,
   "id": "f8cead3e-f4d3-46df-b76b-b9b66c026b8e",
   "metadata": {},
   "outputs": [],
   "source": [
    "with open(indexfile_train,'w') as f:\n",
    "    f.writelines(datalist_train)\n",
    "with open(indexfile_val,'w') as f:\n",
    "    f.writelines(datalist_val)"
   ]
  },
  {
   "cell_type": "markdown",
   "id": "a5bbdaeb-c424-4a05-ac62-80b2a6ed6b7e",
   "metadata": {},
   "source": [
    "# Debugging the network"
   ]
  },
  {
   "cell_type": "code",
   "execution_count": 55,
   "id": "aaeefdde-6076-48c4-89db-a6b60481ba3c",
   "metadata": {},
   "outputs": [
    {
     "data": {
      "text/plain": [
       "151182"
      ]
     },
     "execution_count": 55,
     "metadata": {},
     "output_type": "execute_result"
    }
   ],
   "source": [
    "stats_df['total_mates'].sum()"
   ]
  },
  {
   "cell_type": "code",
   "execution_count": 67,
   "id": "fa9946b9-be86-4166-bb20-84b354bae926",
   "metadata": {},
   "outputs": [
    {
     "data": {
      "text/html": [
       "<div>\n",
       "<style scoped>\n",
       "    .dataframe tbody tr th:only-of-type {\n",
       "        vertical-align: middle;\n",
       "    }\n",
       "\n",
       "    .dataframe tbody tr th {\n",
       "        vertical-align: top;\n",
       "    }\n",
       "\n",
       "    .dataframe thead th {\n",
       "        text-align: right;\n",
       "    }\n",
       "</style>\n",
       "<table border=\"1\" class=\"dataframe\">\n",
       "  <thead>\n",
       "    <tr style=\"text-align: right;\">\n",
       "      <th></th>\n",
       "      <th>invalid_frame_0</th>\n",
       "      <th>invalid_frame_0_coincident_origins</th>\n",
       "      <th>invalid_frame_0_permuted_z</th>\n",
       "      <th>matches_frame_0</th>\n",
       "      <th>extra_matches_frame_0</th>\n",
       "      <th>invalid_frame_1</th>\n",
       "      <th>invalid_frame_1_coincident_origins</th>\n",
       "      <th>invalid_frame_1_permuted_z</th>\n",
       "      <th>matches_frame_1</th>\n",
       "      <th>extra_matches_frame_1</th>\n",
       "      <th>type</th>\n",
       "      <th>truncated_mc_pairs</th>\n",
       "      <th>part_pair_found</th>\n",
       "      <th>mc_pair_found</th>\n",
       "    </tr>\n",
       "    <tr>\n",
       "      <th>index</th>\n",
       "      <th></th>\n",
       "      <th></th>\n",
       "      <th></th>\n",
       "      <th></th>\n",
       "      <th></th>\n",
       "      <th></th>\n",
       "      <th></th>\n",
       "      <th></th>\n",
       "      <th></th>\n",
       "      <th></th>\n",
       "      <th></th>\n",
       "      <th></th>\n",
       "      <th></th>\n",
       "      <th></th>\n",
       "    </tr>\n",
       "  </thead>\n",
       "  <tbody>\n",
       "    <tr>\n",
       "      <th>376</th>\n",
       "      <td>False</td>\n",
       "      <td>False</td>\n",
       "      <td>False</td>\n",
       "      <td>7</td>\n",
       "      <td>0</td>\n",
       "      <td>False</td>\n",
       "      <td>False</td>\n",
       "      <td>False</td>\n",
       "      <td>7</td>\n",
       "      <td>0</td>\n",
       "      <td>FASTENED</td>\n",
       "      <td>False</td>\n",
       "      <td>NaN</td>\n",
       "      <td>NaN</td>\n",
       "    </tr>\n",
       "    <tr>\n",
       "      <th>377</th>\n",
       "      <td>False</td>\n",
       "      <td>False</td>\n",
       "      <td>False</td>\n",
       "      <td>6</td>\n",
       "      <td>0</td>\n",
       "      <td>False</td>\n",
       "      <td>False</td>\n",
       "      <td>False</td>\n",
       "      <td>6</td>\n",
       "      <td>0</td>\n",
       "      <td>FASTENED</td>\n",
       "      <td>False</td>\n",
       "      <td>NaN</td>\n",
       "      <td>NaN</td>\n",
       "    </tr>\n",
       "    <tr>\n",
       "      <th>378</th>\n",
       "      <td>False</td>\n",
       "      <td>False</td>\n",
       "      <td>False</td>\n",
       "      <td>3</td>\n",
       "      <td>0</td>\n",
       "      <td>False</td>\n",
       "      <td>False</td>\n",
       "      <td>False</td>\n",
       "      <td>4</td>\n",
       "      <td>0</td>\n",
       "      <td>REVOLUTE</td>\n",
       "      <td>False</td>\n",
       "      <td>NaN</td>\n",
       "      <td>NaN</td>\n",
       "    </tr>\n",
       "    <tr>\n",
       "      <th>379</th>\n",
       "      <td>False</td>\n",
       "      <td>False</td>\n",
       "      <td>False</td>\n",
       "      <td>6</td>\n",
       "      <td>0</td>\n",
       "      <td>False</td>\n",
       "      <td>False</td>\n",
       "      <td>False</td>\n",
       "      <td>1</td>\n",
       "      <td>0</td>\n",
       "      <td>FASTENED</td>\n",
       "      <td>False</td>\n",
       "      <td>NaN</td>\n",
       "      <td>NaN</td>\n",
       "    </tr>\n",
       "    <tr>\n",
       "      <th>380</th>\n",
       "      <td>False</td>\n",
       "      <td>False</td>\n",
       "      <td>False</td>\n",
       "      <td>1</td>\n",
       "      <td>0</td>\n",
       "      <td>False</td>\n",
       "      <td>False</td>\n",
       "      <td>False</td>\n",
       "      <td>1</td>\n",
       "      <td>0</td>\n",
       "      <td>FASTENED</td>\n",
       "      <td>False</td>\n",
       "      <td>NaN</td>\n",
       "      <td>NaN</td>\n",
       "    </tr>\n",
       "    <tr>\n",
       "      <th>...</th>\n",
       "      <td>...</td>\n",
       "      <td>...</td>\n",
       "      <td>...</td>\n",
       "      <td>...</td>\n",
       "      <td>...</td>\n",
       "      <td>...</td>\n",
       "      <td>...</td>\n",
       "      <td>...</td>\n",
       "      <td>...</td>\n",
       "      <td>...</td>\n",
       "      <td>...</td>\n",
       "      <td>...</td>\n",
       "      <td>...</td>\n",
       "      <td>...</td>\n",
       "    </tr>\n",
       "    <tr>\n",
       "      <th>1882555</th>\n",
       "      <td>False</td>\n",
       "      <td>False</td>\n",
       "      <td>False</td>\n",
       "      <td>3</td>\n",
       "      <td>0</td>\n",
       "      <td>False</td>\n",
       "      <td>False</td>\n",
       "      <td>False</td>\n",
       "      <td>3</td>\n",
       "      <td>0</td>\n",
       "      <td>FASTENED</td>\n",
       "      <td>False</td>\n",
       "      <td>1.0</td>\n",
       "      <td>1.0</td>\n",
       "    </tr>\n",
       "    <tr>\n",
       "      <th>1882556</th>\n",
       "      <td>False</td>\n",
       "      <td>False</td>\n",
       "      <td>False</td>\n",
       "      <td>3</td>\n",
       "      <td>0</td>\n",
       "      <td>False</td>\n",
       "      <td>False</td>\n",
       "      <td>False</td>\n",
       "      <td>3</td>\n",
       "      <td>0</td>\n",
       "      <td>FASTENED</td>\n",
       "      <td>False</td>\n",
       "      <td>1.0</td>\n",
       "      <td>1.0</td>\n",
       "    </tr>\n",
       "    <tr>\n",
       "      <th>1882557</th>\n",
       "      <td>False</td>\n",
       "      <td>False</td>\n",
       "      <td>False</td>\n",
       "      <td>3</td>\n",
       "      <td>0</td>\n",
       "      <td>False</td>\n",
       "      <td>False</td>\n",
       "      <td>False</td>\n",
       "      <td>3</td>\n",
       "      <td>0</td>\n",
       "      <td>FASTENED</td>\n",
       "      <td>False</td>\n",
       "      <td>1.0</td>\n",
       "      <td>1.0</td>\n",
       "    </tr>\n",
       "    <tr>\n",
       "      <th>1882558</th>\n",
       "      <td>False</td>\n",
       "      <td>False</td>\n",
       "      <td>False</td>\n",
       "      <td>3</td>\n",
       "      <td>0</td>\n",
       "      <td>False</td>\n",
       "      <td>False</td>\n",
       "      <td>False</td>\n",
       "      <td>3</td>\n",
       "      <td>0</td>\n",
       "      <td>FASTENED</td>\n",
       "      <td>False</td>\n",
       "      <td>1.0</td>\n",
       "      <td>1.0</td>\n",
       "    </tr>\n",
       "    <tr>\n",
       "      <th>1882559</th>\n",
       "      <td>False</td>\n",
       "      <td>False</td>\n",
       "      <td>False</td>\n",
       "      <td>3</td>\n",
       "      <td>0</td>\n",
       "      <td>False</td>\n",
       "      <td>False</td>\n",
       "      <td>False</td>\n",
       "      <td>3</td>\n",
       "      <td>0</td>\n",
       "      <td>FASTENED</td>\n",
       "      <td>False</td>\n",
       "      <td>1.0</td>\n",
       "      <td>1.0</td>\n",
       "    </tr>\n",
       "  </tbody>\n",
       "</table>\n",
       "<p>129402 rows × 14 columns</p>\n",
       "</div>"
      ],
      "text/plain": [
       "         invalid_frame_0  invalid_frame_0_coincident_origins  \\\n",
       "index                                                          \n",
       "376                False                               False   \n",
       "377                False                               False   \n",
       "378                False                               False   \n",
       "379                False                               False   \n",
       "380                False                               False   \n",
       "...                  ...                                 ...   \n",
       "1882555            False                               False   \n",
       "1882556            False                               False   \n",
       "1882557            False                               False   \n",
       "1882558            False                               False   \n",
       "1882559            False                               False   \n",
       "\n",
       "         invalid_frame_0_permuted_z  matches_frame_0  extra_matches_frame_0  \\\n",
       "index                                                                         \n",
       "376                           False                7                      0   \n",
       "377                           False                6                      0   \n",
       "378                           False                3                      0   \n",
       "379                           False                6                      0   \n",
       "380                           False                1                      0   \n",
       "...                             ...              ...                    ...   \n",
       "1882555                       False                3                      0   \n",
       "1882556                       False                3                      0   \n",
       "1882557                       False                3                      0   \n",
       "1882558                       False                3                      0   \n",
       "1882559                       False                3                      0   \n",
       "\n",
       "         invalid_frame_1  invalid_frame_1_coincident_origins  \\\n",
       "index                                                          \n",
       "376                False                               False   \n",
       "377                False                               False   \n",
       "378                False                               False   \n",
       "379                False                               False   \n",
       "380                False                               False   \n",
       "...                  ...                                 ...   \n",
       "1882555            False                               False   \n",
       "1882556            False                               False   \n",
       "1882557            False                               False   \n",
       "1882558            False                               False   \n",
       "1882559            False                               False   \n",
       "\n",
       "         invalid_frame_1_permuted_z  matches_frame_1  extra_matches_frame_1  \\\n",
       "index                                                                         \n",
       "376                           False                7                      0   \n",
       "377                           False                6                      0   \n",
       "378                           False                4                      0   \n",
       "379                           False                1                      0   \n",
       "380                           False                1                      0   \n",
       "...                             ...              ...                    ...   \n",
       "1882555                       False                3                      0   \n",
       "1882556                       False                3                      0   \n",
       "1882557                       False                3                      0   \n",
       "1882558                       False                3                      0   \n",
       "1882559                       False                3                      0   \n",
       "\n",
       "             type  truncated_mc_pairs  part_pair_found  mc_pair_found  \n",
       "index                                                                  \n",
       "376      FASTENED               False              NaN            NaN  \n",
       "377      FASTENED               False              NaN            NaN  \n",
       "378      REVOLUTE               False              NaN            NaN  \n",
       "379      FASTENED               False              NaN            NaN  \n",
       "380      FASTENED               False              NaN            NaN  \n",
       "...           ...                 ...              ...            ...  \n",
       "1882555  FASTENED               False              1.0            1.0  \n",
       "1882556  FASTENED               False              1.0            1.0  \n",
       "1882557  FASTENED               False              1.0            1.0  \n",
       "1882558  FASTENED               False              1.0            1.0  \n",
       "1882559  FASTENED               False              1.0            1.0  \n",
       "\n",
       "[129402 rows x 14 columns]"
      ]
     },
     "execution_count": 67,
     "metadata": {},
     "output_type": "execute_result"
    }
   ],
   "source": [
    "mate_stats_df[~mate_stats_df['invalid_frame_0'] & ~mate_stats_df['invalid_frame_1']]"
   ]
  },
  {
   "cell_type": "code",
   "execution_count": 58,
   "id": "0aa0f7c0-1edf-41c2-b331-70ebba7be780",
   "metadata": {},
   "outputs": [
    {
     "data": {
      "text/plain": [
       "Index(['invalid_frame_0', 'invalid_frame_0_coincident_origins',\n",
       "       'invalid_frame_0_permuted_z', 'matches_frame_0',\n",
       "       'extra_matches_frame_0', 'invalid_frame_1',\n",
       "       'invalid_frame_1_coincident_origins', 'invalid_frame_1_permuted_z',\n",
       "       'matches_frame_1', 'extra_matches_frame_1', 'type',\n",
       "       'truncated_mc_pairs', 'part_pair_found', 'mc_pair_found'],\n",
       "      dtype='object')"
      ]
     },
     "execution_count": 58,
     "metadata": {},
     "output_type": "execute_result"
    }
   ],
   "source": [
    "mate_stats_df.keys()"
   ]
  },
  {
   "cell_type": "code",
   "execution_count": 35,
   "id": "19670f26-b67f-40e4-8b0f-a1ccff684c11",
   "metadata": {},
   "outputs": [
    {
     "data": {
      "application/json": {
       "data": {
        "batch_size": 16,
        "cache_root": "/fast/dhildr/cache",
        "data_root": "/fast/dhildr/data",
        "index_path": "/fast/dhildr/data/indices/mates_survey_in_test.parquet",
        "num_workers": 8,
        "shuffle_train": true,
        "subset_train": [],
        "subset_val": [],
        "use_cache": true
       },
       "exp": {
        "exp_comment": "",
        "exp_dir": "/projects/grail/benjones/cadlab/dalton_lightning_logs",
        "exp_load": "/projects/grail/benjones/cadlab/dalton_lightning_logs/real_all_fn_args_amounts_sum_directedhybridgcn12.json",
        "exp_name": "real_all_fn_args_amounts_sum_directedhybridgcn12_rerun",
        "exp_save": true,
        "exp_system": "cortado.cs.washington.edu"
       },
       "model": {
        "amounts": true,
        "batch_norm": true,
        "fn_het_layers": [],
        "gcn_conv": "MRConv",
        "gcn_dropout": 0,
        "gcn_graph": "full",
        "gcn_hidden_layers": [
         128
        ],
        "geometric": [],
        "global_pool": "mean",
        "hybridgcn_layer_size": 64,
        "hybridgcn_n_inner_layers": 6,
        "nodal_dropout": 0,
        "nodal_hidden_layers": [
         64
        ],
        "noise": 0,
        "parametric_args_to_use": [
         3,
         4,
         5,
         6,
         7
        ],
        "parametric_fns": true,
        "predict_location": true,
        "predict_type": false,
        "summary_args_to_use": [
         3,
         4,
         5,
         6,
         7,
         8,
         9,
         10,
         11,
         12,
         13,
         14
        ],
        "top_dropout": 0,
        "top_global_feature": true,
        "top_hidden_size": 64,
        "top_inf_type_feature": true,
        "top_k_cutoff": 10,
        "top_location_ref": true,
        "top_orientation_ref": true,
        "use_directedhybridgcn": true,
        "use_hybridgcn": false,
        "use_nodal_network": true
       },
       "trainer": {
        "accelerator": null,
        "accumulate_grad_batches": 1,
        "amp_backend": "native",
        "amp_level": "O2",
        "auto_lr_find": false,
        "auto_scale_batch_size": false,
        "auto_select_gpus": false,
        "automatic_optimization": null,
        "benchmark": false,
        "check_val_every_n_epoch": 1,
        "checkpoint_callback": true,
        "default_root_dir": null,
        "deterministic": false,
        "distributed_backend": null,
        "enable_pl_optimizer": null,
        "fast_dev_run": false,
        "flush_logs_every_n_steps": 100,
        "gpus": 1,
        "gradient_clip_val": 0,
        "limit_test_batches": 1,
        "limit_train_batches": 1,
        "limit_val_batches": 1,
        "log_every_n_steps": 50,
        "log_gpu_memory": null,
        "logger": true,
        "max_epochs": 100,
        "max_steps": null,
        "min_epochs": 1,
        "min_steps": null,
        "move_metrics_to_cpu": false,
        "num_nodes": 1,
        "num_processes": 1,
        "num_sanity_val_steps": 0,
        "overfit_batches": 0,
        "plugins": null,
        "precision": 32,
        "prepare_data_per_node": true,
        "process_position": 0,
        "profiler": null,
        "progress_bar_refresh_rate": 1,
        "reload_dataloaders_every_epoch": false,
        "replace_sampler_ddp": true,
        "resume_from_checkpoint": null,
        "sync_batchnorm": false,
        "terminate_on_nan": false,
        "tpu_cores": null,
        "track_grad_norm": -1,
        "truncated_bptt_steps": null,
        "val_check_interval": 1,
        "weights_save_path": null,
        "weights_summary": "top"
       }
      },
      "text/plain": [
       "<IPython.core.display.JSON object>"
      ]
     },
     "execution_count": 35,
     "metadata": {
      "application/json": {
       "expanded": false,
       "root": "root"
      }
     },
     "output_type": "execute_result"
    }
   ],
   "source": [
    "DJSON('/projects/grail/benjones/cadlab/dalton_lightning_logs/real_all_fn_args_amounts_sum_directedhybridgcn12_rerun.json')"
   ]
  },
  {
   "cell_type": "code",
   "execution_count": 36,
   "id": "7c300318-bed5-435c-9128-94847b9e3540",
   "metadata": {},
   "outputs": [],
   "source": [
    "import json"
   ]
  },
  {
   "cell_type": "code",
   "execution_count": 38,
   "id": "2f5e6451-fb51-4ac9-ad4f-9b721d1018bc",
   "metadata": {},
   "outputs": [],
   "source": [
    "path = '/projects/grail/benjones/cadlab/dalton_lightning_logs/'\n",
    "for f in os.scandir(path):\n",
    "    if f.name.endswith('.json'):\n",
    "        with open(os.path.join(path, f.name), 'r') as j:\n",
    "            s = json.load(j)\n",
    "            if 'model_class' in s:\n",
    "                print(f'found model class in {f.name}')"
   ]
  },
  {
   "cell_type": "code",
   "execution_count": 1,
   "id": "2cdb010b-49d5-4d5c-b6d8-3e7dd39c7c05",
   "metadata": {},
   "outputs": [],
   "source": [
    "with open('/fast/jamesn8/assembly_data/indexfile.txt','r') as f:\n",
    "    datalist = [l.rstrip() for l in f.readlines()]"
   ]
  },
  {
   "cell_type": "code",
   "execution_count": 4,
   "id": "9fce3a89-c25b-481a-b0b9-70414d9e5015",
   "metadata": {},
   "outputs": [],
   "source": [
    "import random"
   ]
  },
  {
   "cell_type": "code",
   "execution_count": 5,
   "id": "14c5b115-90e6-4ddf-af7e-1927bef3aa01",
   "metadata": {},
   "outputs": [],
   "source": [
    "random.shuffle(datalist)"
   ]
  },
  {
   "cell_type": "code",
   "execution_count": 7,
   "id": "8a2dff68-2157-4c65-8b2a-4fd801d4a60a",
   "metadata": {},
   "outputs": [],
   "source": [
    "val_size = int(len(datalist)/5)"
   ]
  },
  {
   "cell_type": "code",
   "execution_count": 9,
   "id": "7d20468d-81b4-4d1a-8665-b9c8013d5e77",
   "metadata": {},
   "outputs": [],
   "source": [
    "datalist_val = datalist[:val_size]\n",
    "datalist_train = datalist[val_size:]"
   ]
  },
  {
   "cell_type": "code",
   "execution_count": null,
   "id": "4caaa2ea-099e-478a-81b8-58bbb10d269b",
   "metadata": {},
   "outputs": [],
   "source": [
    "with open('/fast/jamesn8/assembly_data/indexfile_train.txt','w') as f:\n",
    "    f.writelines([l + '\\n' for l in datalist_train])"
   ]
  },
  {
   "cell_type": "code",
   "execution_count": 13,
   "id": "1eb41e7b-115d-4b36-a6c7-bcb4ff508ad8",
   "metadata": {},
   "outputs": [],
   "source": [
    "with open('/fast/jamesn8/assembly_data/indexfile_val.txt','w') as f:\n",
    "    f.writelines([l + '\\n' for l in datalist_val])"
   ]
  },
  {
   "cell_type": "code",
   "execution_count": 21,
   "id": "3a7b055e-eaf1-4a07-b65a-c42ae06ae5a7",
   "metadata": {},
   "outputs": [],
   "source": [
    "from automate.data.saved_dataset import SavedDataset\n",
    "from torch_geometric.data import Batch\n",
    "from automate.data.transforms import select_full_relations\n",
    "from automate.lightning_models.simplified import SimplifiedJointModel\n",
    "from pytorch_lightning.utilities.argparse import get_init_arguments_and_types\n",
    "import torch\n",
    "from torch_geometric.data.dataloader import DataLoader\n",
    "from pytorch_lightning import Trainer"
   ]
  },
  {
   "cell_type": "code",
   "execution_count": 99,
   "id": "4758d2a1-6e25-4df9-9144-783030b381da",
   "metadata": {
    "collapsed": true,
    "jupyter": {
     "outputs_hidden": true
    },
    "tags": []
   },
   "outputs": [
    {
     "ename": "RuntimeError",
     "evalue": "Error(s) in loading state_dict for SimplifiedJointModel:\n\tUnexpected key(s) in state_dict: \"nodal.nn.f.1.weight\", \"nodal.nn.f.1.bias\", \"nodal.nn.f.1.running_mean\", \"nodal.nn.f.1.running_var\", \"nodal.nn.f.1.num_batches_tracked\", \"gcn.vert_edge_conv.nn.nn.f.1.weight\", \"gcn.vert_edge_conv.nn.nn.f.1.bias\", \"gcn.vert_edge_conv.nn.nn.f.1.running_mean\", \"gcn.vert_edge_conv.nn.nn.f.1.running_var\", \"gcn.vert_edge_conv.nn.nn.f.1.num_batches_tracked\", \"gcn.edge_loop_conv.nn.nn.f.1.weight\", \"gcn.edge_loop_conv.nn.nn.f.1.bias\", \"gcn.edge_loop_conv.nn.nn.f.1.running_mean\", \"gcn.edge_loop_conv.nn.nn.f.1.running_var\", \"gcn.edge_loop_conv.nn.nn.f.1.num_batches_tracked\", \"gcn.loop_face_conv.nn.nn.f.1.weight\", \"gcn.loop_face_conv.nn.nn.f.1.bias\", \"gcn.loop_face_conv.nn.nn.f.1.running_mean\", \"gcn.loop_face_conv.nn.nn.f.1.running_var\", \"gcn.loop_face_conv.nn.nn.f.1.num_batches_tracked\", \"gcn.face_face_convs.0.nn.nn.f.1.weight\", \"gcn.face_face_convs.0.nn.nn.f.1.bias\", \"gcn.face_face_convs.0.nn.nn.f.1.running_mean\", \"gcn.face_face_convs.0.nn.nn.f.1.running_var\", \"gcn.face_face_convs.0.nn.nn.f.1.num_batches_tracked\", \"gcn.face_face_convs.1.nn.nn.f.1.weight\", \"gcn.face_face_convs.1.nn.nn.f.1.bias\", \"gcn.face_face_convs.1.nn.nn.f.1.running_mean\", \"gcn.face_face_convs.1.nn.nn.f.1.running_var\", \"gcn.face_face_convs.1.nn.nn.f.1.num_batches_tracked\", \"gcn.face_face_convs.2.nn.nn.f.1.weight\", \"gcn.face_face_convs.2.nn.nn.f.1.bias\", \"gcn.face_face_convs.2.nn.nn.f.1.running_mean\", \"gcn.face_face_convs.2.nn.nn.f.1.running_var\", \"gcn.face_face_convs.2.nn.nn.f.1.num_batches_tracked\", \"gcn.face_face_convs.3.nn.nn.f.1.weight\", \"gcn.face_face_convs.3.nn.nn.f.1.bias\", \"gcn.face_face_convs.3.nn.nn.f.1.running_mean\", \"gcn.face_face_convs.3.nn.nn.f.1.running_var\", \"gcn.face_face_convs.3.nn.nn.f.1.num_batches_tracked\", \"gcn.face_face_convs.4.nn.nn.f.1.weight\", \"gcn.face_face_convs.4.nn.nn.f.1.bias\", \"gcn.face_face_convs.4.nn.nn.f.1.running_mean\", \"gcn.face_face_convs.4.nn.nn.f.1.running_var\", \"gcn.face_face_convs.4.nn.nn.f.1.num_batches_tracked\", \"gcn.face_face_convs.5.nn.nn.f.1.weight\", \"gcn.face_face_convs.5.nn.nn.f.1.bias\", \"gcn.face_face_convs.5.nn.nn.f.1.running_mean\", \"gcn.face_face_convs.5.nn.nn.f.1.running_var\", \"gcn.face_face_convs.5.nn.nn.f.1.num_batches_tracked\", \"gcn.face_loop_conv.nn.nn.f.1.weight\", \"gcn.face_loop_conv.nn.nn.f.1.bias\", \"gcn.face_loop_conv.nn.nn.f.1.running_mean\", \"gcn.face_loop_conv.nn.nn.f.1.running_var\", \"gcn.face_loop_conv.nn.nn.f.1.num_batches_tracked\", \"gcn.loop_edge_conv.nn.nn.f.1.weight\", \"gcn.loop_edge_conv.nn.nn.f.1.bias\", \"gcn.loop_edge_conv.nn.nn.f.1.running_mean\", \"gcn.loop_edge_conv.nn.nn.f.1.running_var\", \"gcn.loop_edge_conv.nn.nn.f.1.num_batches_tracked\", \"gcn.edge_vert_conv.nn.nn.f.1.weight\", \"gcn.edge_vert_conv.nn.nn.f.1.bias\", \"gcn.edge_vert_conv.nn.nn.f.1.running_mean\", \"gcn.edge_vert_conv.nn.nn.f.1.running_var\", \"gcn.edge_vert_conv.nn.nn.f.1.num_batches_tracked\", \"classifier.nn.0.f.1.weight\", \"classifier.nn.0.f.1.bias\", \"classifier.nn.0.f.1.running_mean\", \"classifier.nn.0.f.1.running_var\", \"classifier.nn.0.f.1.num_batches_tracked\". ",
     "output_type": "error",
     "traceback": [
      "\u001b[0;31m---------------------------------------------------------------------------\u001b[0m",
      "\u001b[0;31mRuntimeError\u001b[0m                              Traceback (most recent call last)",
      "\u001b[0;32m/tmp/ipykernel_2729622/1413140714.py\u001b[0m in \u001b[0;36m<module>\u001b[0;34m\u001b[0m\n\u001b[1;32m      1\u001b[0m \u001b[0mweights_path\u001b[0m\u001b[0;34m=\u001b[0m\u001b[0;34m'/projects/grail/benjones/cadlab/dalton_lightning_logs/real_all_fn_args_amounts_sum_directedhybridgcn12/version_0/checkpoints/epoch=46-val_auc=0.666113.ckpt'\u001b[0m\u001b[0;34m\u001b[0m\u001b[0;34m\u001b[0m\u001b[0m\n\u001b[0;32m----> 2\u001b[0;31m \u001b[0mmodel\u001b[0m \u001b[0;34m=\u001b[0m \u001b[0mSimplifiedJointModel\u001b[0m\u001b[0;34m.\u001b[0m\u001b[0mload_from_checkpoint\u001b[0m\u001b[0;34m(\u001b[0m\u001b[0mweights_path\u001b[0m\u001b[0;34m,\u001b[0m \u001b[0mmap_location\u001b[0m\u001b[0;34m=\u001b[0m\u001b[0mtorch\u001b[0m\u001b[0;34m.\u001b[0m\u001b[0mdevice\u001b[0m\u001b[0;34m(\u001b[0m\u001b[0;34m'cpu'\u001b[0m\u001b[0;34m)\u001b[0m\u001b[0;34m,\u001b[0m \u001b[0mbatch_norm\u001b[0m\u001b[0;34m=\u001b[0m\u001b[0;32mFalse\u001b[0m\u001b[0;34m)\u001b[0m\u001b[0;34m\u001b[0m\u001b[0;34m\u001b[0m\u001b[0m\n\u001b[0m",
      "\u001b[0;32m/fast/jamesn8/anaconda3/envs/torch3/lib/python3.9/site-packages/pytorch_lightning/core/saving.py\u001b[0m in \u001b[0;36mload_from_checkpoint\u001b[0;34m(cls, checkpoint_path, map_location, hparams_file, strict, **kwargs)\u001b[0m\n\u001b[1;32m    151\u001b[0m         \u001b[0mcheckpoint\u001b[0m\u001b[0;34m[\u001b[0m\u001b[0mcls\u001b[0m\u001b[0;34m.\u001b[0m\u001b[0mCHECKPOINT_HYPER_PARAMS_KEY\u001b[0m\u001b[0;34m]\u001b[0m\u001b[0;34m.\u001b[0m\u001b[0mupdate\u001b[0m\u001b[0;34m(\u001b[0m\u001b[0mkwargs\u001b[0m\u001b[0;34m)\u001b[0m\u001b[0;34m\u001b[0m\u001b[0;34m\u001b[0m\u001b[0m\n\u001b[1;32m    152\u001b[0m \u001b[0;34m\u001b[0m\u001b[0m\n\u001b[0;32m--> 153\u001b[0;31m         \u001b[0mmodel\u001b[0m \u001b[0;34m=\u001b[0m \u001b[0mcls\u001b[0m\u001b[0;34m.\u001b[0m\u001b[0m_load_model_state\u001b[0m\u001b[0;34m(\u001b[0m\u001b[0mcheckpoint\u001b[0m\u001b[0;34m,\u001b[0m \u001b[0mstrict\u001b[0m\u001b[0;34m=\u001b[0m\u001b[0mstrict\u001b[0m\u001b[0;34m,\u001b[0m \u001b[0;34m**\u001b[0m\u001b[0mkwargs\u001b[0m\u001b[0;34m)\u001b[0m\u001b[0;34m\u001b[0m\u001b[0;34m\u001b[0m\u001b[0m\n\u001b[0m\u001b[1;32m    154\u001b[0m         \u001b[0;32mreturn\u001b[0m \u001b[0mmodel\u001b[0m\u001b[0;34m\u001b[0m\u001b[0;34m\u001b[0m\u001b[0m\n\u001b[1;32m    155\u001b[0m \u001b[0;34m\u001b[0m\u001b[0m\n",
      "\u001b[0;32m/fast/jamesn8/anaconda3/envs/torch3/lib/python3.9/site-packages/pytorch_lightning/core/saving.py\u001b[0m in \u001b[0;36m_load_model_state\u001b[0;34m(cls, checkpoint, strict, **cls_kwargs_new)\u001b[0m\n\u001b[1;32m    199\u001b[0m \u001b[0;34m\u001b[0m\u001b[0m\n\u001b[1;32m    200\u001b[0m         \u001b[0;31m# load the state_dict on the model automatically\u001b[0m\u001b[0;34m\u001b[0m\u001b[0;34m\u001b[0m\u001b[0;34m\u001b[0m\u001b[0m\n\u001b[0;32m--> 201\u001b[0;31m         \u001b[0mkeys\u001b[0m \u001b[0;34m=\u001b[0m \u001b[0mmodel\u001b[0m\u001b[0;34m.\u001b[0m\u001b[0mload_state_dict\u001b[0m\u001b[0;34m(\u001b[0m\u001b[0mcheckpoint\u001b[0m\u001b[0;34m[\u001b[0m\u001b[0;34m\"state_dict\"\u001b[0m\u001b[0;34m]\u001b[0m\u001b[0;34m,\u001b[0m \u001b[0mstrict\u001b[0m\u001b[0;34m=\u001b[0m\u001b[0mstrict\u001b[0m\u001b[0;34m)\u001b[0m\u001b[0;34m\u001b[0m\u001b[0;34m\u001b[0m\u001b[0m\n\u001b[0m\u001b[1;32m    202\u001b[0m \u001b[0;34m\u001b[0m\u001b[0m\n\u001b[1;32m    203\u001b[0m         \u001b[0;32mif\u001b[0m \u001b[0;32mnot\u001b[0m \u001b[0mstrict\u001b[0m\u001b[0;34m:\u001b[0m\u001b[0;34m\u001b[0m\u001b[0;34m\u001b[0m\u001b[0m\n",
      "\u001b[0;32m/fast/jamesn8/anaconda3/envs/torch3/lib/python3.9/site-packages/torch/nn/modules/module.py\u001b[0m in \u001b[0;36mload_state_dict\u001b[0;34m(self, state_dict, strict)\u001b[0m\n\u001b[1;32m   1404\u001b[0m \u001b[0;34m\u001b[0m\u001b[0m\n\u001b[1;32m   1405\u001b[0m         \u001b[0;32mif\u001b[0m \u001b[0mlen\u001b[0m\u001b[0;34m(\u001b[0m\u001b[0merror_msgs\u001b[0m\u001b[0;34m)\u001b[0m \u001b[0;34m>\u001b[0m \u001b[0;36m0\u001b[0m\u001b[0;34m:\u001b[0m\u001b[0;34m\u001b[0m\u001b[0;34m\u001b[0m\u001b[0m\n\u001b[0;32m-> 1406\u001b[0;31m             raise RuntimeError('Error(s) in loading state_dict for {}:\\n\\t{}'.format(\n\u001b[0m\u001b[1;32m   1407\u001b[0m                                self.__class__.__name__, \"\\n\\t\".join(error_msgs)))\n\u001b[1;32m   1408\u001b[0m         \u001b[0;32mreturn\u001b[0m \u001b[0m_IncompatibleKeys\u001b[0m\u001b[0;34m(\u001b[0m\u001b[0mmissing_keys\u001b[0m\u001b[0;34m,\u001b[0m \u001b[0munexpected_keys\u001b[0m\u001b[0;34m)\u001b[0m\u001b[0;34m\u001b[0m\u001b[0;34m\u001b[0m\u001b[0m\n",
      "\u001b[0;31mRuntimeError\u001b[0m: Error(s) in loading state_dict for SimplifiedJointModel:\n\tUnexpected key(s) in state_dict: \"nodal.nn.f.1.weight\", \"nodal.nn.f.1.bias\", \"nodal.nn.f.1.running_mean\", \"nodal.nn.f.1.running_var\", \"nodal.nn.f.1.num_batches_tracked\", \"gcn.vert_edge_conv.nn.nn.f.1.weight\", \"gcn.vert_edge_conv.nn.nn.f.1.bias\", \"gcn.vert_edge_conv.nn.nn.f.1.running_mean\", \"gcn.vert_edge_conv.nn.nn.f.1.running_var\", \"gcn.vert_edge_conv.nn.nn.f.1.num_batches_tracked\", \"gcn.edge_loop_conv.nn.nn.f.1.weight\", \"gcn.edge_loop_conv.nn.nn.f.1.bias\", \"gcn.edge_loop_conv.nn.nn.f.1.running_mean\", \"gcn.edge_loop_conv.nn.nn.f.1.running_var\", \"gcn.edge_loop_conv.nn.nn.f.1.num_batches_tracked\", \"gcn.loop_face_conv.nn.nn.f.1.weight\", \"gcn.loop_face_conv.nn.nn.f.1.bias\", \"gcn.loop_face_conv.nn.nn.f.1.running_mean\", \"gcn.loop_face_conv.nn.nn.f.1.running_var\", \"gcn.loop_face_conv.nn.nn.f.1.num_batches_tracked\", \"gcn.face_face_convs.0.nn.nn.f.1.weight\", \"gcn.face_face_convs.0.nn.nn.f.1.bias\", \"gcn.face_face_convs.0.nn.nn.f.1.running_mean\", \"gcn.face_face_convs.0.nn.nn.f.1.running_var\", \"gcn.face_face_convs.0.nn.nn.f.1.num_batches_tracked\", \"gcn.face_face_convs.1.nn.nn.f.1.weight\", \"gcn.face_face_convs.1.nn.nn.f.1.bias\", \"gcn.face_face_convs.1.nn.nn.f.1.running_mean\", \"gcn.face_face_convs.1.nn.nn.f.1.running_var\", \"gcn.face_face_convs.1.nn.nn.f.1.num_batches_tracked\", \"gcn.face_face_convs.2.nn.nn.f.1.weight\", \"gcn.face_face_convs.2.nn.nn.f.1.bias\", \"gcn.face_face_convs.2.nn.nn.f.1.running_mean\", \"gcn.face_face_convs.2.nn.nn.f.1.running_var\", \"gcn.face_face_convs.2.nn.nn.f.1.num_batches_tracked\", \"gcn.face_face_convs.3.nn.nn.f.1.weight\", \"gcn.face_face_convs.3.nn.nn.f.1.bias\", \"gcn.face_face_convs.3.nn.nn.f.1.running_mean\", \"gcn.face_face_convs.3.nn.nn.f.1.running_var\", \"gcn.face_face_convs.3.nn.nn.f.1.num_batches_tracked\", \"gcn.face_face_convs.4.nn.nn.f.1.weight\", \"gcn.face_face_convs.4.nn.nn.f.1.bias\", \"gcn.face_face_convs.4.nn.nn.f.1.running_mean\", \"gcn.face_face_convs.4.nn.nn.f.1.running_var\", \"gcn.face_face_convs.4.nn.nn.f.1.num_batches_tracked\", \"gcn.face_face_convs.5.nn.nn.f.1.weight\", \"gcn.face_face_convs.5.nn.nn.f.1.bias\", \"gcn.face_face_convs.5.nn.nn.f.1.running_mean\", \"gcn.face_face_convs.5.nn.nn.f.1.running_var\", \"gcn.face_face_convs.5.nn.nn.f.1.num_batches_tracked\", \"gcn.face_loop_conv.nn.nn.f.1.weight\", \"gcn.face_loop_conv.nn.nn.f.1.bias\", \"gcn.face_loop_conv.nn.nn.f.1.running_mean\", \"gcn.face_loop_conv.nn.nn.f.1.running_var\", \"gcn.face_loop_conv.nn.nn.f.1.num_batches_tracked\", \"gcn.loop_edge_conv.nn.nn.f.1.weight\", \"gcn.loop_edge_conv.nn.nn.f.1.bias\", \"gcn.loop_edge_conv.nn.nn.f.1.running_mean\", \"gcn.loop_edge_conv.nn.nn.f.1.running_var\", \"gcn.loop_edge_conv.nn.nn.f.1.num_batches_tracked\", \"gcn.edge_vert_conv.nn.nn.f.1.weight\", \"gcn.edge_vert_conv.nn.nn.f.1.bias\", \"gcn.edge_vert_conv.nn.nn.f.1.running_mean\", \"gcn.edge_vert_conv.nn.nn.f.1.running_var\", \"gcn.edge_vert_conv.nn.nn.f.1.num_batches_tracked\", \"classifier.nn.0.f.1.weight\", \"classifier.nn.0.f.1.bias\", \"classifier.nn.0.f.1.running_mean\", \"classifier.nn.0.f.1.running_var\", \"classifier.nn.0.f.1.num_batches_tracked\". "
     ]
    }
   ],
   "source": [
    "weights_path='/projects/grail/benjones/cadlab/dalton_lightning_logs/real_all_fn_args_amounts_sum_directedhybridgcn12/version_0/checkpoints/epoch=46-val_auc=0.666113.ckpt'\n",
    "model = SimplifiedJointModel.load_from_checkpoint(weights_path, map_location=torch.device('cpu'))"
   ]
  },
  {
   "cell_type": "code",
   "execution_count": 313,
   "id": "fa9d4a7e-95c0-491b-8efd-c54ca5a65377",
   "metadata": {},
   "outputs": [],
   "source": [
    "#indexfile = '/fast/jamesn8/assembly_data/mate_torch_norm_match/index_partial2_filtered_train.txt'"
   ]
  },
  {
   "cell_type": "code",
   "execution_count": 25,
   "id": "528347f5-b015-4c93-8cb9-17446bd9f8ef",
   "metadata": {},
   "outputs": [],
   "source": [
    "dataset = SavedDataset(indexfile_train, os.path.join(base_path, 'data'))"
   ]
  },
  {
   "cell_type": "code",
   "execution_count": 45,
   "id": "ee5fe204-f3c4-4c2a-9a40-78d42950b900",
   "metadata": {},
   "outputs": [],
   "source": [
    "mask_train = [len(torch.load(f).mc_pair_labels.nonzero()) > 0 for f in dataset.index]"
   ]
  },
  {
   "cell_type": "code",
   "execution_count": 46,
   "id": "f011d92e-b364-4ff1-80a1-4f5b982fc4db",
   "metadata": {},
   "outputs": [],
   "source": [
    "dataset_val = SavedDataset(indexfile_val, os.path.join(base_path, 'data'))"
   ]
  },
  {
   "cell_type": "code",
   "execution_count": 47,
   "id": "a8b1065b-83c5-4267-8627-58c2c28058b2",
   "metadata": {},
   "outputs": [],
   "source": [
    "mask_val = [len(torch.load(f).mc_pair_labels.nonzero()) > 0 for f in dataset_val.index]"
   ]
  },
  {
   "cell_type": "code",
   "execution_count": 60,
   "id": "b05b9bbd-e396-47f0-bab1-8402462d96aa",
   "metadata": {},
   "outputs": [
    {
     "data": {
      "text/plain": [
       "64780"
      ]
     },
     "execution_count": 60,
     "metadata": {},
     "output_type": "execute_result"
    }
   ],
   "source": [
    "sum(mask_train)"
   ]
  },
  {
   "cell_type": "code",
   "execution_count": 51,
   "id": "fa645ea7-558d-49cf-9bcd-91e0f82af3f1",
   "metadata": {},
   "outputs": [
    {
     "data": {
      "text/plain": [
       "0.1942999742053137"
      ]
     },
     "execution_count": 51,
     "metadata": {},
     "output_type": "execute_result"
    }
   ],
   "source": [
    "sum(mask_train)/len(dataset.index)"
   ]
  },
  {
   "cell_type": "code",
   "execution_count": 34,
   "id": "5e175501-f36f-4a87-b39f-842a635943af",
   "metadata": {},
   "outputs": [],
   "source": [
    "follow_batch=[\n",
    "            'node_types_g1', 'node_types_g2',\n",
    "            'mc_index_g1', 'mc_index_g2',\n",
    "            'mc_pair_labels',\n",
    "            'left_mc_individual_labels', 'right_mc_individual_labels'\n",
    "        ]\n",
    "dataloader = DataLoader(dataset, batch_size=1, follow_batch=follow_batch)"
   ]
  },
  {
   "cell_type": "code",
   "execution_count": 15,
   "id": "9421bb20-d43d-4d4f-a028-d88d8fe81749",
   "metadata": {},
   "outputs": [],
   "source": [
    "from IPython.display import clear_output"
   ]
  },
  {
   "cell_type": "code",
   "execution_count": 105,
   "id": "b36b9db8-4bdd-455a-80ea-c4a9d9c80d27",
   "metadata": {
    "collapsed": true,
    "jupyter": {
     "outputs_hidden": true
    },
    "tags": []
   },
   "outputs": [
    {
     "data": {
      "text/plain": [
       "'num_processed: 450/83084; invalid1: 0; invalid2: 0'"
      ]
     },
     "metadata": {},
     "output_type": "display_data"
    },
    {
     "ename": "KeyboardInterrupt",
     "evalue": "",
     "output_type": "error",
     "traceback": [
      "\u001b[0;31m---------------------------------------------------------------------------\u001b[0m",
      "\u001b[0;31mKeyboardInterrupt\u001b[0m                         Traceback (most recent call last)",
      "\u001b[0;32m/tmp/ipykernel_2729622/3425291321.py\u001b[0m in \u001b[0;36m<module>\u001b[0;34m\u001b[0m\n\u001b[1;32m      2\u001b[0m \u001b[0minvalid_inds2\u001b[0m \u001b[0;34m=\u001b[0m \u001b[0;34m[\u001b[0m\u001b[0;34m]\u001b[0m\u001b[0;34m\u001b[0m\u001b[0;34m\u001b[0m\u001b[0m\n\u001b[1;32m      3\u001b[0m \u001b[0mN\u001b[0m \u001b[0;34m=\u001b[0m \u001b[0mlen\u001b[0m\u001b[0;34m(\u001b[0m\u001b[0mdataset\u001b[0m\u001b[0;34m)\u001b[0m\u001b[0;34m\u001b[0m\u001b[0;34m\u001b[0m\u001b[0m\n\u001b[0;32m----> 4\u001b[0;31m \u001b[0;32mfor\u001b[0m \u001b[0mi\u001b[0m\u001b[0;34m,\u001b[0m\u001b[0mbatch\u001b[0m \u001b[0;32min\u001b[0m \u001b[0menumerate\u001b[0m\u001b[0;34m(\u001b[0m\u001b[0mdataloader\u001b[0m\u001b[0;34m)\u001b[0m\u001b[0;34m:\u001b[0m\u001b[0;34m\u001b[0m\u001b[0;34m\u001b[0m\u001b[0m\n\u001b[0m\u001b[1;32m      5\u001b[0m     \u001b[0;32mif\u001b[0m \u001b[0mi\u001b[0m \u001b[0;34m%\u001b[0m \u001b[0;36m25\u001b[0m \u001b[0;34m==\u001b[0m \u001b[0;36m0\u001b[0m\u001b[0;34m:\u001b[0m\u001b[0;34m\u001b[0m\u001b[0;34m\u001b[0m\u001b[0m\n\u001b[1;32m      6\u001b[0m         \u001b[0mclear_output\u001b[0m\u001b[0;34m(\u001b[0m\u001b[0mwait\u001b[0m\u001b[0;34m=\u001b[0m\u001b[0;32mTrue\u001b[0m\u001b[0;34m)\u001b[0m\u001b[0;34m\u001b[0m\u001b[0;34m\u001b[0m\u001b[0m\n",
      "\u001b[0;32m/fast/jamesn8/anaconda3/envs/torch3/lib/python3.9/site-packages/torch/utils/data/dataloader.py\u001b[0m in \u001b[0;36m__next__\u001b[0;34m(self)\u001b[0m\n\u001b[1;32m    519\u001b[0m             \u001b[0;32mif\u001b[0m \u001b[0mself\u001b[0m\u001b[0;34m.\u001b[0m\u001b[0m_sampler_iter\u001b[0m \u001b[0;32mis\u001b[0m \u001b[0;32mNone\u001b[0m\u001b[0;34m:\u001b[0m\u001b[0;34m\u001b[0m\u001b[0;34m\u001b[0m\u001b[0m\n\u001b[1;32m    520\u001b[0m                 \u001b[0mself\u001b[0m\u001b[0;34m.\u001b[0m\u001b[0m_reset\u001b[0m\u001b[0;34m(\u001b[0m\u001b[0;34m)\u001b[0m\u001b[0;34m\u001b[0m\u001b[0;34m\u001b[0m\u001b[0m\n\u001b[0;32m--> 521\u001b[0;31m             \u001b[0mdata\u001b[0m \u001b[0;34m=\u001b[0m \u001b[0mself\u001b[0m\u001b[0;34m.\u001b[0m\u001b[0m_next_data\u001b[0m\u001b[0;34m(\u001b[0m\u001b[0;34m)\u001b[0m\u001b[0;34m\u001b[0m\u001b[0;34m\u001b[0m\u001b[0m\n\u001b[0m\u001b[1;32m    522\u001b[0m             \u001b[0mself\u001b[0m\u001b[0;34m.\u001b[0m\u001b[0m_num_yielded\u001b[0m \u001b[0;34m+=\u001b[0m \u001b[0;36m1\u001b[0m\u001b[0;34m\u001b[0m\u001b[0;34m\u001b[0m\u001b[0m\n\u001b[1;32m    523\u001b[0m             \u001b[0;32mif\u001b[0m \u001b[0mself\u001b[0m\u001b[0;34m.\u001b[0m\u001b[0m_dataset_kind\u001b[0m \u001b[0;34m==\u001b[0m \u001b[0m_DatasetKind\u001b[0m\u001b[0;34m.\u001b[0m\u001b[0mIterable\u001b[0m \u001b[0;32mand\u001b[0m\u001b[0;31m \u001b[0m\u001b[0;31m\\\u001b[0m\u001b[0;34m\u001b[0m\u001b[0;34m\u001b[0m\u001b[0m\n",
      "\u001b[0;32m/fast/jamesn8/anaconda3/envs/torch3/lib/python3.9/site-packages/torch/utils/data/dataloader.py\u001b[0m in \u001b[0;36m_next_data\u001b[0;34m(self)\u001b[0m\n\u001b[1;32m    559\u001b[0m     \u001b[0;32mdef\u001b[0m \u001b[0m_next_data\u001b[0m\u001b[0;34m(\u001b[0m\u001b[0mself\u001b[0m\u001b[0;34m)\u001b[0m\u001b[0;34m:\u001b[0m\u001b[0;34m\u001b[0m\u001b[0;34m\u001b[0m\u001b[0m\n\u001b[1;32m    560\u001b[0m         \u001b[0mindex\u001b[0m \u001b[0;34m=\u001b[0m \u001b[0mself\u001b[0m\u001b[0;34m.\u001b[0m\u001b[0m_next_index\u001b[0m\u001b[0;34m(\u001b[0m\u001b[0;34m)\u001b[0m  \u001b[0;31m# may raise StopIteration\u001b[0m\u001b[0;34m\u001b[0m\u001b[0;34m\u001b[0m\u001b[0m\n\u001b[0;32m--> 561\u001b[0;31m         \u001b[0mdata\u001b[0m \u001b[0;34m=\u001b[0m \u001b[0mself\u001b[0m\u001b[0;34m.\u001b[0m\u001b[0m_dataset_fetcher\u001b[0m\u001b[0;34m.\u001b[0m\u001b[0mfetch\u001b[0m\u001b[0;34m(\u001b[0m\u001b[0mindex\u001b[0m\u001b[0;34m)\u001b[0m  \u001b[0;31m# may raise StopIteration\u001b[0m\u001b[0;34m\u001b[0m\u001b[0;34m\u001b[0m\u001b[0m\n\u001b[0m\u001b[1;32m    562\u001b[0m         \u001b[0;32mif\u001b[0m \u001b[0mself\u001b[0m\u001b[0;34m.\u001b[0m\u001b[0m_pin_memory\u001b[0m\u001b[0;34m:\u001b[0m\u001b[0;34m\u001b[0m\u001b[0;34m\u001b[0m\u001b[0m\n\u001b[1;32m    563\u001b[0m             \u001b[0mdata\u001b[0m \u001b[0;34m=\u001b[0m \u001b[0m_utils\u001b[0m\u001b[0;34m.\u001b[0m\u001b[0mpin_memory\u001b[0m\u001b[0;34m.\u001b[0m\u001b[0mpin_memory\u001b[0m\u001b[0;34m(\u001b[0m\u001b[0mdata\u001b[0m\u001b[0;34m)\u001b[0m\u001b[0;34m\u001b[0m\u001b[0;34m\u001b[0m\u001b[0m\n",
      "\u001b[0;32m/fast/jamesn8/anaconda3/envs/torch3/lib/python3.9/site-packages/torch/utils/data/_utils/fetch.py\u001b[0m in \u001b[0;36mfetch\u001b[0;34m(self, possibly_batched_index)\u001b[0m\n\u001b[1;32m     42\u001b[0m     \u001b[0;32mdef\u001b[0m \u001b[0mfetch\u001b[0m\u001b[0;34m(\u001b[0m\u001b[0mself\u001b[0m\u001b[0;34m,\u001b[0m \u001b[0mpossibly_batched_index\u001b[0m\u001b[0;34m)\u001b[0m\u001b[0;34m:\u001b[0m\u001b[0;34m\u001b[0m\u001b[0;34m\u001b[0m\u001b[0m\n\u001b[1;32m     43\u001b[0m         \u001b[0;32mif\u001b[0m \u001b[0mself\u001b[0m\u001b[0;34m.\u001b[0m\u001b[0mauto_collation\u001b[0m\u001b[0;34m:\u001b[0m\u001b[0;34m\u001b[0m\u001b[0;34m\u001b[0m\u001b[0m\n\u001b[0;32m---> 44\u001b[0;31m             \u001b[0mdata\u001b[0m \u001b[0;34m=\u001b[0m \u001b[0;34m[\u001b[0m\u001b[0mself\u001b[0m\u001b[0;34m.\u001b[0m\u001b[0mdataset\u001b[0m\u001b[0;34m[\u001b[0m\u001b[0midx\u001b[0m\u001b[0;34m]\u001b[0m \u001b[0;32mfor\u001b[0m \u001b[0midx\u001b[0m \u001b[0;32min\u001b[0m \u001b[0mpossibly_batched_index\u001b[0m\u001b[0;34m]\u001b[0m\u001b[0;34m\u001b[0m\u001b[0;34m\u001b[0m\u001b[0m\n\u001b[0m\u001b[1;32m     45\u001b[0m         \u001b[0;32melse\u001b[0m\u001b[0;34m:\u001b[0m\u001b[0;34m\u001b[0m\u001b[0;34m\u001b[0m\u001b[0m\n\u001b[1;32m     46\u001b[0m             \u001b[0mdata\u001b[0m \u001b[0;34m=\u001b[0m \u001b[0mself\u001b[0m\u001b[0;34m.\u001b[0m\u001b[0mdataset\u001b[0m\u001b[0;34m[\u001b[0m\u001b[0mpossibly_batched_index\u001b[0m\u001b[0;34m]\u001b[0m\u001b[0;34m\u001b[0m\u001b[0;34m\u001b[0m\u001b[0m\n",
      "\u001b[0;32m/fast/jamesn8/anaconda3/envs/torch3/lib/python3.9/site-packages/torch/utils/data/_utils/fetch.py\u001b[0m in \u001b[0;36m<listcomp>\u001b[0;34m(.0)\u001b[0m\n\u001b[1;32m     42\u001b[0m     \u001b[0;32mdef\u001b[0m \u001b[0mfetch\u001b[0m\u001b[0;34m(\u001b[0m\u001b[0mself\u001b[0m\u001b[0;34m,\u001b[0m \u001b[0mpossibly_batched_index\u001b[0m\u001b[0;34m)\u001b[0m\u001b[0;34m:\u001b[0m\u001b[0;34m\u001b[0m\u001b[0;34m\u001b[0m\u001b[0m\n\u001b[1;32m     43\u001b[0m         \u001b[0;32mif\u001b[0m \u001b[0mself\u001b[0m\u001b[0;34m.\u001b[0m\u001b[0mauto_collation\u001b[0m\u001b[0;34m:\u001b[0m\u001b[0;34m\u001b[0m\u001b[0;34m\u001b[0m\u001b[0m\n\u001b[0;32m---> 44\u001b[0;31m             \u001b[0mdata\u001b[0m \u001b[0;34m=\u001b[0m \u001b[0;34m[\u001b[0m\u001b[0mself\u001b[0m\u001b[0;34m.\u001b[0m\u001b[0mdataset\u001b[0m\u001b[0;34m[\u001b[0m\u001b[0midx\u001b[0m\u001b[0;34m]\u001b[0m \u001b[0;32mfor\u001b[0m \u001b[0midx\u001b[0m \u001b[0;32min\u001b[0m \u001b[0mpossibly_batched_index\u001b[0m\u001b[0;34m]\u001b[0m\u001b[0;34m\u001b[0m\u001b[0;34m\u001b[0m\u001b[0m\n\u001b[0m\u001b[1;32m     45\u001b[0m         \u001b[0;32melse\u001b[0m\u001b[0;34m:\u001b[0m\u001b[0;34m\u001b[0m\u001b[0;34m\u001b[0m\u001b[0m\n\u001b[1;32m     46\u001b[0m             \u001b[0mdata\u001b[0m \u001b[0;34m=\u001b[0m \u001b[0mself\u001b[0m\u001b[0;34m.\u001b[0m\u001b[0mdataset\u001b[0m\u001b[0;34m[\u001b[0m\u001b[0mpossibly_batched_index\u001b[0m\u001b[0;34m]\u001b[0m\u001b[0;34m\u001b[0m\u001b[0;34m\u001b[0m\u001b[0m\n",
      "\u001b[0;32m/projects/grail/jamesn8/projects/mechanical/automate/automate/data/saved_dataset.py\u001b[0m in \u001b[0;36m__getitem__\u001b[0;34m(self, i)\u001b[0m\n\u001b[1;32m     14\u001b[0m \u001b[0;34m\u001b[0m\u001b[0m\n\u001b[1;32m     15\u001b[0m     \u001b[0;32mdef\u001b[0m \u001b[0m__getitem__\u001b[0m\u001b[0;34m(\u001b[0m\u001b[0mself\u001b[0m\u001b[0;34m,\u001b[0m \u001b[0mi\u001b[0m\u001b[0;34m)\u001b[0m\u001b[0;34m:\u001b[0m\u001b[0;34m\u001b[0m\u001b[0;34m\u001b[0m\u001b[0m\n\u001b[0;32m---> 16\u001b[0;31m         \u001b[0mdata\u001b[0m \u001b[0;34m=\u001b[0m \u001b[0mtorch\u001b[0m\u001b[0;34m.\u001b[0m\u001b[0mload\u001b[0m\u001b[0;34m(\u001b[0m\u001b[0mself\u001b[0m\u001b[0;34m.\u001b[0m\u001b[0mindex\u001b[0m\u001b[0;34m[\u001b[0m\u001b[0mi\u001b[0m\u001b[0;34m]\u001b[0m\u001b[0;34m)\u001b[0m\u001b[0;34m\u001b[0m\u001b[0;34m\u001b[0m\u001b[0m\n\u001b[0m\u001b[1;32m     17\u001b[0m         \u001b[0mdata\u001b[0m\u001b[0;34m.\u001b[0m\u001b[0midx\u001b[0m \u001b[0;34m=\u001b[0m \u001b[0mi\u001b[0m\u001b[0;34m\u001b[0m\u001b[0;34m\u001b[0m\u001b[0m\n\u001b[1;32m     18\u001b[0m         \u001b[0;32mreturn\u001b[0m \u001b[0mselect_full_relations\u001b[0m\u001b[0;34m(\u001b[0m\u001b[0mdata\u001b[0m\u001b[0;34m)\u001b[0m\u001b[0;34m\u001b[0m\u001b[0;34m\u001b[0m\u001b[0m\n",
      "\u001b[0;32m/fast/jamesn8/anaconda3/envs/torch3/lib/python3.9/site-packages/torch/serialization.py\u001b[0m in \u001b[0;36mload\u001b[0;34m(f, map_location, pickle_module, **pickle_load_args)\u001b[0m\n\u001b[1;32m    605\u001b[0m                     \u001b[0mopened_file\u001b[0m\u001b[0;34m.\u001b[0m\u001b[0mseek\u001b[0m\u001b[0;34m(\u001b[0m\u001b[0morig_position\u001b[0m\u001b[0;34m)\u001b[0m\u001b[0;34m\u001b[0m\u001b[0;34m\u001b[0m\u001b[0m\n\u001b[1;32m    606\u001b[0m                     \u001b[0;32mreturn\u001b[0m \u001b[0mtorch\u001b[0m\u001b[0;34m.\u001b[0m\u001b[0mjit\u001b[0m\u001b[0;34m.\u001b[0m\u001b[0mload\u001b[0m\u001b[0;34m(\u001b[0m\u001b[0mopened_file\u001b[0m\u001b[0;34m)\u001b[0m\u001b[0;34m\u001b[0m\u001b[0;34m\u001b[0m\u001b[0m\n\u001b[0;32m--> 607\u001b[0;31m                 \u001b[0;32mreturn\u001b[0m \u001b[0m_load\u001b[0m\u001b[0;34m(\u001b[0m\u001b[0mopened_zipfile\u001b[0m\u001b[0;34m,\u001b[0m \u001b[0mmap_location\u001b[0m\u001b[0;34m,\u001b[0m \u001b[0mpickle_module\u001b[0m\u001b[0;34m,\u001b[0m \u001b[0;34m**\u001b[0m\u001b[0mpickle_load_args\u001b[0m\u001b[0;34m)\u001b[0m\u001b[0;34m\u001b[0m\u001b[0;34m\u001b[0m\u001b[0m\n\u001b[0m\u001b[1;32m    608\u001b[0m         \u001b[0;32mreturn\u001b[0m \u001b[0m_legacy_load\u001b[0m\u001b[0;34m(\u001b[0m\u001b[0mopened_file\u001b[0m\u001b[0;34m,\u001b[0m \u001b[0mmap_location\u001b[0m\u001b[0;34m,\u001b[0m \u001b[0mpickle_module\u001b[0m\u001b[0;34m,\u001b[0m \u001b[0;34m**\u001b[0m\u001b[0mpickle_load_args\u001b[0m\u001b[0;34m)\u001b[0m\u001b[0;34m\u001b[0m\u001b[0;34m\u001b[0m\u001b[0m\n\u001b[1;32m    609\u001b[0m \u001b[0;34m\u001b[0m\u001b[0m\n",
      "\u001b[0;32m/fast/jamesn8/anaconda3/envs/torch3/lib/python3.9/site-packages/torch/serialization.py\u001b[0m in \u001b[0;36m_load\u001b[0;34m(zip_file, map_location, pickle_module, pickle_file, **pickle_load_args)\u001b[0m\n\u001b[1;32m    880\u001b[0m     \u001b[0munpickler\u001b[0m \u001b[0;34m=\u001b[0m \u001b[0mUnpicklerWrapper\u001b[0m\u001b[0;34m(\u001b[0m\u001b[0mdata_file\u001b[0m\u001b[0;34m,\u001b[0m \u001b[0;34m**\u001b[0m\u001b[0mpickle_load_args\u001b[0m\u001b[0;34m)\u001b[0m\u001b[0;34m\u001b[0m\u001b[0;34m\u001b[0m\u001b[0m\n\u001b[1;32m    881\u001b[0m     \u001b[0munpickler\u001b[0m\u001b[0;34m.\u001b[0m\u001b[0mpersistent_load\u001b[0m \u001b[0;34m=\u001b[0m \u001b[0mpersistent_load\u001b[0m\u001b[0;34m\u001b[0m\u001b[0;34m\u001b[0m\u001b[0m\n\u001b[0;32m--> 882\u001b[0;31m     \u001b[0mresult\u001b[0m \u001b[0;34m=\u001b[0m \u001b[0munpickler\u001b[0m\u001b[0;34m.\u001b[0m\u001b[0mload\u001b[0m\u001b[0;34m(\u001b[0m\u001b[0;34m)\u001b[0m\u001b[0;34m\u001b[0m\u001b[0;34m\u001b[0m\u001b[0m\n\u001b[0m\u001b[1;32m    883\u001b[0m \u001b[0;34m\u001b[0m\u001b[0m\n\u001b[1;32m    884\u001b[0m     \u001b[0mtorch\u001b[0m\u001b[0;34m.\u001b[0m\u001b[0m_utils\u001b[0m\u001b[0;34m.\u001b[0m\u001b[0m_validate_loaded_sparse_tensors\u001b[0m\u001b[0;34m(\u001b[0m\u001b[0;34m)\u001b[0m\u001b[0;34m\u001b[0m\u001b[0;34m\u001b[0m\u001b[0m\n",
      "\u001b[0;32m/fast/jamesn8/anaconda3/envs/torch3/lib/python3.9/site-packages/torch/serialization.py\u001b[0m in \u001b[0;36mfind_class\u001b[0;34m(self, mod_name, name)\u001b[0m\n\u001b[1;32m    873\u001b[0m         \u001b[0;32mdef\u001b[0m \u001b[0mfind_class\u001b[0m\u001b[0;34m(\u001b[0m\u001b[0mself\u001b[0m\u001b[0;34m,\u001b[0m \u001b[0mmod_name\u001b[0m\u001b[0;34m,\u001b[0m \u001b[0mname\u001b[0m\u001b[0;34m)\u001b[0m\u001b[0;34m:\u001b[0m\u001b[0;34m\u001b[0m\u001b[0;34m\u001b[0m\u001b[0m\n\u001b[1;32m    874\u001b[0m             \u001b[0mmod_name\u001b[0m \u001b[0;34m=\u001b[0m \u001b[0mload_module_mapping\u001b[0m\u001b[0;34m.\u001b[0m\u001b[0mget\u001b[0m\u001b[0;34m(\u001b[0m\u001b[0mmod_name\u001b[0m\u001b[0;34m,\u001b[0m \u001b[0mmod_name\u001b[0m\u001b[0;34m)\u001b[0m\u001b[0;34m\u001b[0m\u001b[0;34m\u001b[0m\u001b[0m\n\u001b[0;32m--> 875\u001b[0;31m             \u001b[0;32mreturn\u001b[0m \u001b[0msuper\u001b[0m\u001b[0;34m(\u001b[0m\u001b[0;34m)\u001b[0m\u001b[0;34m.\u001b[0m\u001b[0mfind_class\u001b[0m\u001b[0;34m(\u001b[0m\u001b[0mmod_name\u001b[0m\u001b[0;34m,\u001b[0m \u001b[0mname\u001b[0m\u001b[0;34m)\u001b[0m\u001b[0;34m\u001b[0m\u001b[0;34m\u001b[0m\u001b[0m\n\u001b[0m\u001b[1;32m    876\u001b[0m \u001b[0;34m\u001b[0m\u001b[0m\n\u001b[1;32m    877\u001b[0m     \u001b[0;31m# Load the data (which may in turn use `persistent_load` to load tensors)\u001b[0m\u001b[0;34m\u001b[0m\u001b[0;34m\u001b[0m\u001b[0;34m\u001b[0m\u001b[0m\n",
      "\u001b[0;31mKeyboardInterrupt\u001b[0m: "
     ]
    }
   ],
   "source": [
    "invalid_inds = []\n",
    "invalid_inds2 = []\n",
    "N = len(dataset)\n",
    "for i,batch in enumerate(dataloader):\n",
    "    if i % 25 == 0:\n",
    "        clear_output(wait=True)\n",
    "        display(f'num_processed: {i}/{N}; invalid1: {len(invalid_inds)}; invalid2: {len(invalid_inds2)}')\n",
    "    try:\n",
    "        preds = model(batch)\n",
    "    except ValueError as e:\n",
    "        invalid_inds.append(i)\n",
    "    except IndexError as e:\n",
    "        invalid_inds2.append(i)"
   ]
  },
  {
   "cell_type": "code",
   "execution_count": null,
   "id": "9cc09e94-b441-43eb-9a63-3ec4d5fa970f",
   "metadata": {},
   "outputs": [],
   "source": []
  }
 ],
 "metadata": {
  "kernelspec": {
   "display_name": "Python 3 (ipykernel)",
   "language": "python",
   "name": "python3"
  },
  "language_info": {
   "codemirror_mode": {
    "name": "ipython",
    "version": 3
   },
   "file_extension": ".py",
   "mimetype": "text/x-python",
   "name": "python",
   "nbconvert_exporter": "python",
   "pygments_lexer": "ipython3",
   "version": "3.9.6"
  }
 },
 "nbformat": 4,
 "nbformat_minor": 5
}
