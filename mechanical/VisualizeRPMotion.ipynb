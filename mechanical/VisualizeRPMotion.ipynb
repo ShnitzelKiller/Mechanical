{
 "cells": [
  {
   "cell_type": "code",
   "execution_count": 3,
   "id": "c1a27ee1",
   "metadata": {},
   "outputs": [],
   "source": [
    "import numpy as np\n",
    "import os\n",
    "import meshplot as mp\n",
    "import ipywidgets as wg"
   ]
  },
  {
   "cell_type": "code",
   "execution_count": 15,
   "id": "34e3dcd8",
   "metadata": {},
   "outputs": [],
   "source": [
    "datadir = 'data/pointclouds/eval'"
   ]
  },
  {
   "cell_type": "code",
   "execution_count": 33,
   "id": "574a9b77",
   "metadata": {},
   "outputs": [
    {
     "data": {
      "text/plain": [
       "['03ad47c489625dc66e2b5955-9722dbbf23c780b08642c013-f3c83b576bf71f72db43f32e.seg',\n",
       " '0393e5114695fa77922bdd8d-11ad46c3600b0ea6ababfb23-7d1e85ad2a5a74e3d7a3b398.seg',\n",
       " '03d59f1d3c50e9d5b96b01d7-a4009c0bb9c9a4cf6f5e9af0-a0d0c3da0233542a17cd7708.seg',\n",
       " 'df799114edd5d25fcd253cbf-6ccd611aa676e3cac4c5cef1-575e073e1a14a20db4055aef.seg',\n",
       " '014b3b0aab7782406758a2be-7dfd5fb83b0b58741e749d60-1b41bc7b7c3e68d70f61ce2c.seg',\n",
       " '003025c67e1a4fad0035f900-1502008794f4400477cd804d-24b226292a6a00eb1d0efb67.seg',\n",
       " '03b349eb6be9a007f1dd56e1-aa2cafd62fedbd267575da9e-600f72f1eec506fff72d786b.seg',\n",
       " '0290c80aca5305190d279d80-89448372fd86407581110be8-50d279a27bd608b7d2a7e152.seg']"
      ]
     },
     "execution_count": 33,
     "metadata": {},
     "output_type": "execute_result"
    }
   ],
   "source": [
    "os.listdir(datadir + '/seg/')"
   ]
  },
  {
   "cell_type": "code",
   "execution_count": 30,
   "id": "2fb19fac",
   "metadata": {},
   "outputs": [],
   "source": [
    "def gradient(val, col0, col1):\n",
    "    return np.outer(val, col0) + np.outer(1-val, col1)"
   ]
  },
  {
   "cell_type": "code",
   "execution_count": 31,
   "id": "3f687fa9",
   "metadata": {},
   "outputs": [],
   "source": [
    "def display_example(datadir, name):\n",
    "    pts = [np.loadtxt(os.path.join(datadir, 'pointcloud', name + '_'+str(frame+1)+'.pts')) for frame in range(5)]\n",
    "    minPt = pts[0].min(0)\n",
    "    maxPt = pts[0].max(0)\n",
    "    print(minPt)\n",
    "    print(maxPt)\n",
    "    col = None\n",
    "    with open(os.path.join(datadir, 'seg', name+'.seg')) as f:\n",
    "        labels = np.array([float(l.strip()) for l in f.readlines()])\n",
    "        maxlabel = max(labels)\n",
    "        if maxlabel > 0:\n",
    "            labels /= maxlabel\n",
    "        col = gradient(labels, np.array([1, 0, 0]), np.array([0, 0, 1]))\n",
    "        \n",
    "    plt = mp.plot(pts[0], c=col, shading={\"point_size\": 0.03})\n",
    "    @wg.interact(index = wg.IntSlider(0, 0, 4))\n",
    "    def f(index):\n",
    "        print('updating to frame '+str(index))\n",
    "        plt.update_object(vertices=pts[index])\n"
   ]
  },
  {
   "cell_type": "code",
   "execution_count": 39,
   "id": "27208493",
   "metadata": {},
   "outputs": [
    {
     "name": "stdout",
     "output_type": "stream",
     "text": [
      "[-7.870e-06 -1.820e-06 -7.187e-05]\n",
      "[1.00004864 0.53520674 0.04584927]\n"
     ]
    },
    {
     "data": {
      "application/vnd.jupyter.widget-view+json": {
       "model_id": "997ce52d3e0a4ae7b80607671ed550d5",
       "version_major": 2,
       "version_minor": 0
      },
      "text/plain": [
       "Renderer(camera=PerspectiveCamera(children=(DirectionalLight(color='white', intensity=0.6, position=(0.5000203…"
      ]
     },
     "metadata": {},
     "output_type": "display_data"
    },
    {
     "data": {
      "application/vnd.jupyter.widget-view+json": {
       "model_id": "398ca2d30947443fb91d3d601d0d7db9",
       "version_major": 2,
       "version_minor": 0
      },
      "text/plain": [
       "interactive(children=(IntSlider(value=0, description='index', max=4), Output()), _dom_classes=('widget-interac…"
      ]
     },
     "metadata": {},
     "output_type": "display_data"
    }
   ],
   "source": [
    "#display_example(datadir, '003025c67e1a4fad0035f900-1502008794f4400477cd804d-24b226292a6a00eb1d0efb67') #smartphone holder\n",
    "#display_example(datadir, '0393e5114695fa77922bdd8d-11ad46c3600b0ea6ababfb23-7d1e85ad2a5a74e3d7a3b398') #closed scissors\n",
    "#display_example(datadir, '03d59f1d3c50e9d5b96b01d7-a4009c0bb9c9a4cf6f5e9af0-a0d0c3da0233542a17cd7708') #cart thing\n",
    "#display_example(datadir, 'df799114edd5d25fcd253cbf-6ccd611aa676e3cac4c5cef1-575e073e1a14a20db4055aef') #turbine\n",
    "#display_example(datadir, '03b349eb6be9a007f1dd56e1-aa2cafd62fedbd267575da9e-600f72f1eec506fff72d786b') #piston\n",
    "display_example(datadir, '0290c80aca5305190d279d80-89448372fd86407581110be8-50d279a27bd608b7d2a7e152') #piston"
   ]
  },
  {
   "cell_type": "code",
   "execution_count": null,
   "id": "4aaf78f6",
   "metadata": {},
   "outputs": [],
   "source": []
  }
 ],
 "metadata": {
  "kernelspec": {
   "display_name": "Python 3 (ipykernel)",
   "language": "python",
   "name": "python3"
  },
  "language_info": {
   "codemirror_mode": {
    "name": "ipython",
    "version": 3
   },
   "file_extension": ".py",
   "mimetype": "text/x-python",
   "name": "python",
   "nbconvert_exporter": "python",
   "pygments_lexer": "ipython3",
   "version": "3.9.6"
  }
 },
 "nbformat": 4,
 "nbformat_minor": 5
}
