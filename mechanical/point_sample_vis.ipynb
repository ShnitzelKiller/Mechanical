{
 "cells": [
  {
   "cell_type": "code",
   "execution_count": 3,
   "id": "94c833be",
   "metadata": {},
   "outputs": [],
   "source": [
    "import meshplot as mp\n",
    "import numpy as np"
   ]
  },
  {
   "cell_type": "code",
   "execution_count": 15,
   "id": "70407035",
   "metadata": {},
   "outputs": [],
   "source": [
    "fname = 'data/pointclouds/003025c67e1a4fad0035f900-1502008794f4400477cd804d-24b226292a6a00eb1d0efb67.txt'"
   ]
  },
  {
   "cell_type": "code",
   "execution_count": 16,
   "id": "a2389ad6",
   "metadata": {},
   "outputs": [],
   "source": [
    "points = np.loadtxt(fname)"
   ]
  },
  {
   "cell_type": "code",
   "execution_count": 17,
   "id": "472b6a79",
   "metadata": {},
   "outputs": [
    {
     "name": "stdout",
     "output_type": "stream",
     "text": [
      "[0. 0. 0.] [1.         0.47555909 0.76164002]\n"
     ]
    }
   ],
   "source": [
    "print(points.min(0), points.max(0))"
   ]
  },
  {
   "cell_type": "code",
   "execution_count": 18,
   "id": "62722b79",
   "metadata": {},
   "outputs": [
    {
     "data": {
      "application/vnd.jupyter.widget-view+json": {
       "model_id": "fd23d40ef2134e2b804aa1abb3bd9eaf",
       "version_major": 2,
       "version_minor": 0
      },
      "text/plain": [
       "Renderer(camera=PerspectiveCamera(children=(DirectionalLight(color='white', intensity=0.6, position=(0.5, 0.23…"
      ]
     },
     "metadata": {},
     "output_type": "display_data"
    },
    {
     "data": {
      "text/plain": [
       "<meshplot.Viewer.Viewer at 0x7fc24d516b80>"
      ]
     },
     "execution_count": 18,
     "metadata": {},
     "output_type": "execute_result"
    }
   ],
   "source": [
    "mp.plot(points, shading={'point_size': 0.03})"
   ]
  },
  {
   "cell_type": "code",
   "execution_count": null,
   "id": "21f17bd3",
   "metadata": {},
   "outputs": [],
   "source": []
  }
 ],
 "metadata": {
  "kernelspec": {
   "display_name": "Python 3 (ipykernel)",
   "language": "python",
   "name": "python3"
  },
  "language_info": {
   "codemirror_mode": {
    "name": "ipython",
    "version": 3
   },
   "file_extension": ".py",
   "mimetype": "text/x-python",
   "name": "python",
   "nbconvert_exporter": "python",
   "pygments_lexer": "ipython3",
   "version": "3.9.6"
  }
 },
 "nbformat": 4,
 "nbformat_minor": 5
}
