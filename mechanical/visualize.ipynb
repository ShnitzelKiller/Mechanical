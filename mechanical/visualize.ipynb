{
 "cells": [
  {
   "cell_type": "code",
   "execution_count": 1,
   "id": "5f1232d0",
   "metadata": {},
   "outputs": [],
   "source": [
    "import onshape.brepio as brepio\n",
    "import meshplot as mp\n",
    "import numpy as np\n",
    "from visualize import plot_assembly, plot_mate, emptyplot\n",
    "import os\n",
    "from utils import adjacency_list_from_brepdata, homogenize, connected_components\n",
    "from pspart import Part\n",
    "import pandas as ps\n",
    "import intervaltree\n",
    "import pspart\n",
    "from intervaltree import IntervalTree, Interval\n",
    "import numpy.linalg as LA\n",
    "import ipywidgets as widgets\n",
    "from IPython.display import clear_output"
   ]
  },
  {
   "cell_type": "code",
   "execution_count": 2,
   "id": "bcb6e317-4b46-4c86-a3d2-2c50ba914e24",
   "metadata": {},
   "outputs": [],
   "source": [
    "df_name = '/fast/jamesn8/assembly_data/assembly_data_with_transforms_all.h5'\n",
    "assembly_df = ps.read_hdf(df_name,'assembly')\n",
    "part_df = ps.read_hdf(df_name,'part')\n",
    "mate_df = ps.read_hdf(df_name,'mate')"
   ]
  },
  {
   "cell_type": "code",
   "execution_count": 3,
   "id": "f06d8fd7-486c-4e0c-bba3-8ab7472ccd60",
   "metadata": {},
   "outputs": [],
   "source": [
    "has_geometry = part_df.groupby('Assembly')['HasGeometry'].agg(all)\n",
    "assembly_df['HasAllGeometry'] = has_geometry"
   ]
  },
  {
   "cell_type": "code",
   "execution_count": 4,
   "id": "de728a40-368f-46f3-95f8-a629f1d6c0c7",
   "metadata": {},
   "outputs": [
    {
     "ename": "ValueError",
     "evalue": "No objects to concatenate",
     "output_type": "error",
     "traceback": [
      "\u001b[0;31m---------------------------------------------------------------------------\u001b[0m",
      "\u001b[0;31mValueError\u001b[0m                                Traceback (most recent call last)",
      "\u001b[0;32m/tmp/ipykernel_1041257/2098892692.py\u001b[0m in \u001b[0;36m<module>\u001b[0;34m\u001b[0m\n\u001b[1;32m      9\u001b[0m         \u001b[0;32mbreak\u001b[0m\u001b[0;34m\u001b[0m\u001b[0;34m\u001b[0m\u001b[0m\n\u001b[1;32m     10\u001b[0m     \u001b[0mdfs\u001b[0m\u001b[0;34m.\u001b[0m\u001b[0mappend\u001b[0m\u001b[0;34m(\u001b[0m\u001b[0mps\u001b[0m\u001b[0;34m.\u001b[0m\u001b[0mread_parquet\u001b[0m\u001b[0;34m(\u001b[0m\u001b[0mfname\u001b[0m\u001b[0;34m)\u001b[0m\u001b[0;34m)\u001b[0m\u001b[0;34m\u001b[0m\u001b[0;34m\u001b[0m\u001b[0m\n\u001b[0;32m---> 11\u001b[0;31m \u001b[0mmate_statistics_df\u001b[0m \u001b[0;34m=\u001b[0m \u001b[0mps\u001b[0m\u001b[0;34m.\u001b[0m\u001b[0mconcat\u001b[0m\u001b[0;34m(\u001b[0m\u001b[0mdfs\u001b[0m\u001b[0;34m,\u001b[0m \u001b[0maxis\u001b[0m\u001b[0;34m=\u001b[0m\u001b[0;36m0\u001b[0m\u001b[0;34m)\u001b[0m\u001b[0;34m\u001b[0m\u001b[0;34m\u001b[0m\u001b[0m\n\u001b[0m\u001b[1;32m     12\u001b[0m \u001b[0;32mdel\u001b[0m \u001b[0mdfs\u001b[0m\u001b[0;34m\u001b[0m\u001b[0;34m\u001b[0m\u001b[0m\n",
      "\u001b[0;32m/fast/jamesn8/anaconda3/envs/torch3/lib/python3.9/site-packages/pandas/util/_decorators.py\u001b[0m in \u001b[0;36mwrapper\u001b[0;34m(*args, **kwargs)\u001b[0m\n\u001b[1;32m    309\u001b[0m                     \u001b[0mstacklevel\u001b[0m\u001b[0;34m=\u001b[0m\u001b[0mstacklevel\u001b[0m\u001b[0;34m,\u001b[0m\u001b[0;34m\u001b[0m\u001b[0;34m\u001b[0m\u001b[0m\n\u001b[1;32m    310\u001b[0m                 )\n\u001b[0;32m--> 311\u001b[0;31m             \u001b[0;32mreturn\u001b[0m \u001b[0mfunc\u001b[0m\u001b[0;34m(\u001b[0m\u001b[0;34m*\u001b[0m\u001b[0margs\u001b[0m\u001b[0;34m,\u001b[0m \u001b[0;34m**\u001b[0m\u001b[0mkwargs\u001b[0m\u001b[0;34m)\u001b[0m\u001b[0;34m\u001b[0m\u001b[0;34m\u001b[0m\u001b[0m\n\u001b[0m\u001b[1;32m    312\u001b[0m \u001b[0;34m\u001b[0m\u001b[0m\n\u001b[1;32m    313\u001b[0m         \u001b[0;32mreturn\u001b[0m \u001b[0mwrapper\u001b[0m\u001b[0;34m\u001b[0m\u001b[0;34m\u001b[0m\u001b[0m\n",
      "\u001b[0;32m/fast/jamesn8/anaconda3/envs/torch3/lib/python3.9/site-packages/pandas/core/reshape/concat.py\u001b[0m in \u001b[0;36mconcat\u001b[0;34m(objs, axis, join, ignore_index, keys, levels, names, verify_integrity, sort, copy)\u001b[0m\n\u001b[1;32m    292\u001b[0m     \u001b[0mValueError\u001b[0m\u001b[0;34m:\u001b[0m \u001b[0mIndexes\u001b[0m \u001b[0mhave\u001b[0m \u001b[0moverlapping\u001b[0m \u001b[0mvalues\u001b[0m\u001b[0;34m:\u001b[0m \u001b[0;34m[\u001b[0m\u001b[0;34m'a'\u001b[0m\u001b[0;34m]\u001b[0m\u001b[0;34m\u001b[0m\u001b[0;34m\u001b[0m\u001b[0m\n\u001b[1;32m    293\u001b[0m     \"\"\"\n\u001b[0;32m--> 294\u001b[0;31m     op = _Concatenator(\n\u001b[0m\u001b[1;32m    295\u001b[0m         \u001b[0mobjs\u001b[0m\u001b[0;34m,\u001b[0m\u001b[0;34m\u001b[0m\u001b[0;34m\u001b[0m\u001b[0m\n\u001b[1;32m    296\u001b[0m         \u001b[0maxis\u001b[0m\u001b[0;34m=\u001b[0m\u001b[0maxis\u001b[0m\u001b[0;34m,\u001b[0m\u001b[0;34m\u001b[0m\u001b[0;34m\u001b[0m\u001b[0m\n",
      "\u001b[0;32m/fast/jamesn8/anaconda3/envs/torch3/lib/python3.9/site-packages/pandas/core/reshape/concat.py\u001b[0m in \u001b[0;36m__init__\u001b[0;34m(self, objs, axis, join, keys, levels, names, ignore_index, verify_integrity, copy, sort)\u001b[0m\n\u001b[1;32m    349\u001b[0m \u001b[0;34m\u001b[0m\u001b[0m\n\u001b[1;32m    350\u001b[0m         \u001b[0;32mif\u001b[0m \u001b[0mlen\u001b[0m\u001b[0;34m(\u001b[0m\u001b[0mobjs\u001b[0m\u001b[0;34m)\u001b[0m \u001b[0;34m==\u001b[0m \u001b[0;36m0\u001b[0m\u001b[0;34m:\u001b[0m\u001b[0;34m\u001b[0m\u001b[0;34m\u001b[0m\u001b[0m\n\u001b[0;32m--> 351\u001b[0;31m             \u001b[0;32mraise\u001b[0m \u001b[0mValueError\u001b[0m\u001b[0;34m(\u001b[0m\u001b[0;34m\"No objects to concatenate\"\u001b[0m\u001b[0;34m)\u001b[0m\u001b[0;34m\u001b[0m\u001b[0;34m\u001b[0m\u001b[0m\n\u001b[0m\u001b[1;32m    352\u001b[0m \u001b[0;34m\u001b[0m\u001b[0m\n\u001b[1;32m    353\u001b[0m         \u001b[0;32mif\u001b[0m \u001b[0mkeys\u001b[0m \u001b[0;32mis\u001b[0m \u001b[0;32mNone\u001b[0m\u001b[0;34m:\u001b[0m\u001b[0;34m\u001b[0m\u001b[0;34m\u001b[0m\u001b[0m\n",
      "\u001b[0;31mValueError\u001b[0m: No objects to concatenate"
     ]
    }
   ],
   "source": [
    "basename = 'mate_statistics_heuristics'\n",
    "stride=1000\n",
    "dfs = []\n",
    "for i in range(17):\n",
    "    loc=i*stride\n",
    "    lastloc = (i+1)*stride-1\n",
    "    fname = f'{basename}_chunk_{loc}-{lastloc}.parquet'\n",
    "    if not os.path.isfile(fname):\n",
    "        break\n",
    "    dfs.append(ps.read_parquet(fname))\n",
    "mate_statistics_df = ps.concat(dfs, axis=0)\n",
    "del dfs"
   ]
  },
  {
   "cell_type": "code",
   "execution_count": 5,
   "id": "cda25e17-5d3c-438e-b1f9-a7970691873c",
   "metadata": {},
   "outputs": [
    {
     "ename": "NameError",
     "evalue": "name 'mate_statistics_df' is not defined",
     "output_type": "error",
     "traceback": [
      "\u001b[0;31m---------------------------------------------------------------------------\u001b[0m",
      "\u001b[0;31mNameError\u001b[0m                                 Traceback (most recent call last)",
      "\u001b[0;32m/tmp/ipykernel_1041257/157772279.py\u001b[0m in \u001b[0;36m<module>\u001b[0;34m\u001b[0m\n\u001b[0;32m----> 1\u001b[0;31m \u001b[0mmate_statistics_df\u001b[0m\u001b[0;34m[\u001b[0m\u001b[0;34m'Assembly'\u001b[0m\u001b[0;34m]\u001b[0m \u001b[0;34m=\u001b[0m \u001b[0mmate_df\u001b[0m\u001b[0;34m[\u001b[0m\u001b[0;34m'Assembly'\u001b[0m\u001b[0;34m]\u001b[0m\u001b[0;34m\u001b[0m\u001b[0;34m\u001b[0m\u001b[0m\n\u001b[0m",
      "\u001b[0;31mNameError\u001b[0m: name 'mate_statistics_df' is not defined"
     ]
    }
   ],
   "source": [
    "mate_statistics_df['Assembly'] = mate_df['Assembly']"
   ]
  },
  {
   "cell_type": "code",
   "execution_count": 8,
   "id": "27f087f9-1089-4bb6-8214-b8e4131b7997",
   "metadata": {},
   "outputs": [],
   "source": [
    "mcs_coincide = mate_statistics_df.groupby('Assembly').agg({'originsCoincide':all, 'mc1Exists':all, 'mc0Exists':all})"
   ]
  },
  {
   "cell_type": "code",
   "execution_count": 9,
   "id": "1d635126-e026-4020-8b79-f7533e77c752",
   "metadata": {},
   "outputs": [],
   "source": [
    "#assembly_df_filtered = assembly_df.loc[mcs_coincide[mcs_coincide['originsCoincide'] & mcs_coincide['mc0Exists'] & mcs_coincide['mc1Exists']].index]\n",
    "assembly_df_filtered = assembly_df[lambda df: df['HasAllGeometry'] & (df['ConnectedComponents']==1) & (df['RigidPieces'] > 1)]"
   ]
  },
  {
   "cell_type": "code",
   "execution_count": 4,
   "id": "c1be4e00-6f69-498e-ab6d-215631b758c4",
   "metadata": {},
   "outputs": [],
   "source": [
    "datapath = '/projects/grail/benjones/cadlab'"
   ]
  },
  {
   "cell_type": "code",
   "execution_count": 5,
   "id": "f596a582",
   "metadata": {},
   "outputs": [],
   "source": [
    "loader = brepio.Loader(datapath)"
   ]
  },
  {
   "cell_type": "code",
   "execution_count": 12,
   "id": "8aec35ea-fdc4-44ba-9989-0aa38feb8df6",
   "metadata": {},
   "outputs": [],
   "source": [
    "def mate_proposals(parts, epsilon_rel=0.001):\n",
    "    \"\"\"\n",
    "    Find list of (part1, part2, mc1, mc2) of probable mate locations given a list of (transform, pspart.Part)\n",
    "    `epsilon_fac`: fraction of maximum part dimension to use as epsilon for finding neighboring mate connectors\n",
    "    \"\"\"\n",
    "    maxdim = max([(part.bounding_box()[1]-part.bounding_box()[0]).max() for _, part in parts])\n",
    "    mc_locations = []\n",
    "    interval2part = []\n",
    "    part2offset = dict()\n",
    "    total_mcs = 0\n",
    "    for i,tf_part in enumerate(parts):\n",
    "        tf, part = tf_part\n",
    "        for mc in part.all_mate_connectors:\n",
    "            cs = mc.get_coordinate_system()\n",
    "            origin = tf[:3,:3] @ cs[:3,3] + tf[:3,3]\n",
    "            z_axis = tf[:3,:3] @ cs[:3,2]\n",
    "            mc_locations.append(np.concatenate([origin/maxdim, z_axis], axis=0))\n",
    "        new_total = total_mcs + len(part.all_mate_connectors)\n",
    "        interval2part.append((total_mcs, new_total, i))\n",
    "        part2offset[i] = total_mcs\n",
    "        total_mcs = new_total\n",
    "    nnhash = pspart.NNHash(mc_locations, 6, epsilon_rel)\n",
    "    tree = IntervalTree([Interval(l, u, d) for l, u, d in interval2part])\n",
    "    \n",
    "    proposals = set()\n",
    "    for i,loc in enumerate(mc_locations):\n",
    "        nearest = list(nnhash.get_nearest_points(loc))\n",
    "        part_index = next(iter(tree[i])).data\n",
    "        for j in nearest:\n",
    "            other_part_index = next(iter(tree[j])).data\n",
    "            if other_part_index != part_index:\n",
    "                pi1, pi2 = part_index, other_part_index\n",
    "                mci1, mci2 = i - part2offset[part_index], j - part2offset[other_part_index]\n",
    "                if pi1 > pi2:\n",
    "                    pi1, pi2 = pi2, pi1\n",
    "                    mci1, mci2 = mci2, mci1\n",
    "                proposals.add((pi1, pi2, parts[pi1][1].all_mate_connectors[mci1], parts[pi2][1].all_mate_connectors[mci2]))\n",
    "    return proposals"
   ]
  },
  {
   "cell_type": "code",
   "execution_count": 13,
   "id": "ec14180f-cef4-41d8-9010-0f0626bec80f",
   "metadata": {},
   "outputs": [],
   "source": [
    "from extension.ml import Predictor"
   ]
  },
  {
   "cell_type": "code",
   "execution_count": 14,
   "id": "2915b686-0629-47f7-b121-ba13b084d8a1",
   "metadata": {},
   "outputs": [
    {
     "name": "stderr",
     "output_type": "stream",
     "text": [
      "/fast/jamesn8/anaconda3/envs/torch3/lib/python3.9/site-packages/deprecate/deprecation.py:115: LightningDeprecationWarning: The `Metric` was deprecated since v1.3.0 in favor of `torchmetrics.metric.Metric`. It will be removed in v1.5.0.\n",
      "  stream(template_mgs % msg_args)\n"
     ]
    }
   ],
   "source": [
    "predictor_location = Predictor('/projects/grail/benjones/cadlab/dalton_lightning_logs/real_all_fn_args_amounts_sum_directedhybridgcn12/version_0/checkpoints/epoch=46-val_auc=0.666113.ckpt')\n",
    "predictor_type = Predictor('/projects/grail/benjones/cadlab/dalton_lightning_logs/real_all_fn_args_amounts_sum_directedhybridgcn12_type/version_0/checkpoints/epoch=5-val_auc=0.948979.ckpt')"
   ]
  },
  {
   "cell_type": "code",
   "execution_count": 15,
   "id": "e196b8a5-dd91-4311-9289-6ff9777fa5bc",
   "metadata": {},
   "outputs": [],
   "source": [
    "cached_results_loc = dict()\n",
    "cached_results_type = dict()"
   ]
  },
  {
   "cell_type": "code",
   "execution_count": 16,
   "id": "e01f2d55-62fd-4331-a248-d0e0eb846f78",
   "metadata": {},
   "outputs": [],
   "source": [
    "def infer_assembly(geo, mates, results_loc):\n",
    "\n",
    "    find_mc = dict() #mate descriptors in global embedding -> (partOcc, mateconnector)\n",
    "    topo_offset = 0\n",
    "    for k in geo:\n",
    "        tf, part = geo[k]\n",
    "        N = part.num_topologies\n",
    "        for mc in part.all_mate_connectors:\n",
    "            key = (mc.orientation_inference.topology_ref + topo_offset, mc.location_inference.topology_ref + topo_offset, mc.location_inference.inference_type.value)\n",
    "            find_mc[key] = (k, mc)\n",
    "        topo_offset += N\n",
    "\n",
    "    best_mates = dict() #part pair -> mc pair\n",
    "    for i in range(results_loc[1].shape[1]):\n",
    "        occ1, mc1 = find_mc[tuple(results_loc[1][:3,i].numpy())]\n",
    "        occ2, mc2 = find_mc[tuple(results_loc[1][3:,i].numpy())]\n",
    "        if occ1 > occ2:\n",
    "            occ1, occ2 = occ2, occ1\n",
    "            mc1, mc2 = mc2, mc1\n",
    "        key = (occ1, occ2)\n",
    "        if key in best_mates:\n",
    "            continue\n",
    "        else:\n",
    "            best_mates[key] = (mc1, mc2, results_loc[0][i].item())\n",
    "            \n",
    "    return best_mates\n",
    "    \n",
    "def inference_statistics(geo, mates, best_mates, best_types, prob_threshold, verbose=True):\n",
    "    maxdim = max([(geo[k][1].bounding_box()[1]-geo[k][1].bounding_box()[0]).max() for k in geo])\n",
    "    gt_mates = dict()\n",
    "    num_gt_mates = 0\n",
    "    for mate in mates:\n",
    "        if len(mate.matedEntities) == 2:\n",
    "            key = tuple(sorted((mate.matedEntities[0][0], mate.matedEntities[1][0])))\n",
    "            if key not in gt_mates:\n",
    "                gt_mates[key] = []\n",
    "            gt_mates[key].append(mate)\n",
    "            num_gt_mates += 1\n",
    "    \n",
    "    gt_types = []\n",
    "    extra_mates = 0\n",
    "    missing_mates = 0\n",
    "    matched_mates = 0\n",
    "    missing_duplicates = 0\n",
    "    mate_distances = dict()\n",
    "    misclassified = 0\n",
    "    num_inferred = 0\n",
    "    for j,pair in enumerate(best_mates):\n",
    "        mate = best_mates[pair]\n",
    "        gt_type = ['NONE']\n",
    "        if mate[2] >= prob_threshold:\n",
    "            num_inferred += 1\n",
    "            if pair in gt_mates:\n",
    "                gt_type = [mate.type for mate in gt_mates[pair]]\n",
    "                tf = geo[pair[0]][0]\n",
    "                origin = tf[:3,:3] @ mate[0].get_coordinate_system()[:3,3] + tf[:3,3]\n",
    "                missing_duplicates += len(gt_mates[pair]) - 1\n",
    "                mate_types_i = [mate_types.index(gt_mate.type) for gt_mate in gt_mates[pair]]\n",
    "                matches = [mate_type_i == best_types[j] for mate_type_i in mate_types_i]\n",
    "                matched = any(matches)\n",
    "                if matched:\n",
    "                    matched_mates += 1\n",
    "                else:\n",
    "                    misclassified += 1\n",
    "                if matched:\n",
    "                    mate_index = matches.index(True)\n",
    "                    gt_origin = tf[:3,:3] @ gt_mates[pair][mate_index].matedEntities[0][1][0] + tf[:3,3]\n",
    "                    mate_distances[pair] = LA.norm(origin-gt_origin)\n",
    "                else:\n",
    "                    min_dist = np.inf\n",
    "                    for i in range(len(gt_mates[pair])):\n",
    "                        gt_origin = tf[:3,:3] @ gt_mates[pair][i].matedEntities[0][1][0] + tf[:3,3]\n",
    "                        dist = LA.norm(origin - gt_origin)\n",
    "                        if dist < min_dist:\n",
    "                            min_dist = dist\n",
    "                            mate_index = i\n",
    "                    mate_distances[pair] = min_dist\n",
    "            else:\n",
    "                extra_mates += 1\n",
    "        gt_types.append(gt_type)\n",
    "    for pair in gt_mates:\n",
    "        if pair not in best_mates or best_mates[pair][2] < prob_threshold:\n",
    "            missing_mates += 1\n",
    "    assert(len(gt_types) == len(best_types))\n",
    "    best_mates_keys = list(best_mates.keys())\n",
    "    if verbose:\n",
    "        print('max part dim:',maxdim)\n",
    "        print('inferred types:',[(mate_types[i[0]],i[1]) for j,i in enumerate(zip(best_types, gt_types)) if best_mates[best_mates_keys[j]][2] >= prob_threshold])\n",
    "        print(f'unmated parts: {missing_mates}\\nextra mated parts: {extra_mates}\\nmisclassified: {misclassified}\\nmissing duplicate mates: {missing_duplicates}\\ncorrectly classified mates: {matched_mates}\\nmate distances: {[mate_distances[k] for k in mate_distances]}')\n",
    "    return {'num_gt_mates':num_gt_mates,'num_inferred_mates':num_inferred,'missing_mates':missing_mates,'extra_parts':extra_mates,'misclassified':misclassified,'missing_duplicates':missing_duplicates,'correctly_classified':matched_mates,'mate_distances':mate_distances}"
   ]
  },
  {
   "cell_type": "code",
   "execution_count": 6,
   "id": "8d954d72",
   "metadata": {},
   "outputs": [
    {
     "data": {
      "application/vnd.jupyter.widget-view+json": {
       "model_id": "6e8266366c1e44c8ad71d929c74d2503",
       "version_major": 2,
       "version_minor": 0
      },
      "text/plain": [
       "interactive(children=(Dropdown(description='sample', options=(('58aace5054; 40 moving parts', 0), ('22da7798ae…"
      ]
     },
     "metadata": {},
     "output_type": "display_data"
    }
   ],
   "source": [
    "mate_epsilon_rel = 0.001\n",
    "choice_indices = list(assembly_df.index[:100])\n",
    "choice_indices.append(7492)\n",
    "choice_indices.append(665)\n",
    "choice_indices.append(122520)\n",
    "choice_indices.append(13988)\n",
    "choice_indices.append(12473)\n",
    "choice_indices.append(78289)\n",
    "choice_indices.append(123884)\n",
    "mate_types = ['PIN_SLOT', 'BALL', 'PARALLEL', 'SLIDER', 'REVOLUTE', 'CYLINDRICAL', 'PLANAR', 'FASTENED']\n",
    "@mp.interact(sample=[(f'{assembly_df.loc[ind, \"AssemblyPath\"][:10]}; {assembly_df.loc[ind, \"RigidPieces\"]} moving parts', ind) for ind in choice_indices])\n",
    "def display_sample(sample):\n",
    "    assemblypath = assembly_df.loc[sample, \"AssemblyPath\"]\n",
    "    print(assemblypath)\n",
    "    try:\n",
    "        geo, mates = loader.load_flattened(assemblypath + '.json', skipInvalid=True)\n",
    "    except FileNotFoundError as e:\n",
    "        print(f'File not found: {e}')\n",
    "        return\n",
    "    mate_counts = dict()\n",
    "    for mate in mates:\n",
    "        if len(mate.matedEntities) == 2:\n",
    "            if mate.type not in mate_counts:\n",
    "                mate_counts[mate.type] = 0\n",
    "            mate_counts[mate.type] += 1\n",
    "    num_connected = assembly_df.loc[sample, \"ConnectedComponents\"]\n",
    "    num_rigid = assembly_df.loc[sample, \"RigidPieces\"]\n",
    "    if num_connected > 1:\n",
    "        print('warning:',num_connected,'connected components')\n",
    "    print('rigid pieces:',num_rigid)\n",
    "    print('total parts:',len(geo))\n",
    "    print(f'mates: {len(mates)}: ',mate_counts)\n",
    "\n",
    "    #choices = [(f'mate {i} ({mates[i].type}) ({mates[i].matedEntities[0][0]}, {mates[i].matedEntities[1][0]})',i) for i in range(len(mates)) if len(mates[i].matedEntities) == 2]\n",
    "    choices = [(f'mate {i} ({mates[i].type}) ({mates[i].name})',i) for i in range(len(mates)) if len(mates[i].matedEntities) == 2]\n",
    "    choices.append(('fullAssembly', -1))\n",
    "    choices.append(('inferAssembly', -2))\n",
    "    p = emptyplot()\n",
    "    badOccs = [k for k in geo if geo[k][1] is None or geo[k][1].V.shape[0] == 0]\n",
    "    if len(badOccs) > 0:\n",
    "        print(f'warning: {len(badOccs)} invalid parts!')\n",
    "    #for o in badOccs:\n",
    "    #    geo.pop(o)\n",
    "    @mp.interact(mate=choices, wireframe=False, show_parts=True)\n",
    "    def ff(mate, wireframe, show_parts):\n",
    "        if mate == -2:\n",
    "            if any([len(geo[occ][1].all_mate_connectors) == 0 for occ in geo]):\n",
    "                print('a part has no default mate connectors!')\n",
    "                return\n",
    "            if assemblypath in cached_results_loc:\n",
    "                results_loc = cached_results_loc[assemblypath]\n",
    "            else:\n",
    "                proposals = mate_proposals([geo[k] for k in geo], epsilon_rel = mate_epsilon_rel)\n",
    "                if len(proposals) > 0:\n",
    "                    results_loc = predictor_location.predict_assembly([geo[k][1] for k in geo], proposals)\n",
    "                    cached_results_loc[assemblypath] = results_loc\n",
    "                else:\n",
    "                    print('no proposal MCs')\n",
    "                    return\n",
    "            \n",
    "            best_mates = infer_assembly(geo, mates, results_loc)\n",
    "            \n",
    "            if assemblypath in cached_results_type:\n",
    "                results_type = cached_results_type[assemblypath]\n",
    "            else:\n",
    "                occ2index = dict()\n",
    "                for i,occ in enumerate(geo):\n",
    "                    occ2index[occ] = i\n",
    "                results_type = predictor_type.predict_assembly_types([geo[k][1] for k in geo], [(occ2index[pair[0]], occ2index[pair[1]], best_mates[pair][0], best_mates[pair][1]) for pair in best_mates])\n",
    "                cached_results_type[assemblypath] = results_type\n",
    "            \n",
    "            best_types = results_type.argmax(axis=1).numpy() #corresponds to best_mates\n",
    "            \n",
    "            @mp.interact(prob_threshold=widgets.BoundedFloatText(\n",
    "                value=.5,\n",
    "                min=0,\n",
    "                max=1.0,\n",
    "                step=0.1,\n",
    "                description='Probability threshold:',\n",
    "                disabled=False\n",
    "            ))\n",
    "            def show_result(prob_threshold):\n",
    "                inference_statistics(geo, mates, best_mates, best_types,prob_threshold)\n",
    "                inferred_mates = [brepio.Mate(mcs=best_mates[pair][:2], occIds=[pair[0], pair[1]], mateType=mate_types[best_types[i]], name=f'Mate {i}') for i,pair in enumerate(best_mates)]\n",
    "                plot_assembly(geo, inferred_mates, p=p, wireframe=wireframe, show_parts=show_parts)\n",
    "        elif mate == -1:\n",
    "            print('displaying full assembly')\n",
    "            plot_assembly(geo, mates, p=p, wireframe=wireframe, show_parts=show_parts)\n",
    "            #print('num mates:',len(mates))\n",
    "        elif len(mates[mate].matedEntities) == 2:\n",
    "            me = mates[mate].matedEntities\n",
    "            print('mated parts:',me[0][0],me[1][0])\n",
    "            if me[0][0] in badOccs or me[1][0] in badOccs:\n",
    "                print('invalid parts in mate')\n",
    "                return\n",
    "            plot_mate(geo, mates[mate], p=p, wireframe=wireframe)\n",
    "                \n",
    "        else:\n",
    "            print(f'nonstandard mate with {len(me)} entities')\n",
    "    p"
   ]
  },
  {
   "cell_type": "code",
   "execution_count": null,
   "id": "53d51d15-16ba-4319-8eb6-a96c77198762",
   "metadata": {},
   "outputs": [
    {
     "name": "stdout",
     "output_type": "stream",
     "text": [
      "103/152\n"
     ]
    }
   ],
   "source": [
    "statistics = []\n",
    "prob_threshold = 0.5\n",
    "for h,index in enumerate(assembly_df_filtered.index):\n",
    "    clear_output(wait=True)\n",
    "    print(f'{h}/{assembly_df_filtered.shape[0]}')\n",
    "    sample = assembly_df_filtered.loc[index]['AssemblyPath']\n",
    "    geo, mates = loader.load_flattened(sample + '.json', skipInvalid=True)\n",
    "    if sample in cached_results_loc:\n",
    "        results_loc = cached_results_loc[sample]\n",
    "    else:\n",
    "        proposals = mate_proposals([geo[k] for k in geo], epsilon_rel = mate_epsilon_rel)\n",
    "        if len(proposals) > 0:\n",
    "            results_loc = predictor_location.predict_assembly([geo[k][1] for k in geo], proposals)\n",
    "            cached_results_loc[sample] = results_loc\n",
    "        else:\n",
    "            print('no proposal MCs')\n",
    "            continue\n",
    "\n",
    "    best_mates = infer_assembly(geo, mates, results_loc)\n",
    "\n",
    "    if sample in cached_results_type:\n",
    "        results_type = cached_results_type[sample]\n",
    "    else:\n",
    "        occ2index = dict()\n",
    "        for i,occ in enumerate(geo):\n",
    "            occ2index[occ] = i\n",
    "        results_type = predictor_type.predict_assembly_types([geo[k][1] for k in geo], [(occ2index[pair[0]], occ2index[pair[1]], best_mates[pair][0], best_mates[pair][1]) for pair in best_mates])\n",
    "        cached_results_type[sample] = results_type\n",
    "\n",
    "    best_types = results_type.argmax(axis=1).numpy() #corresponds to best_mates\n",
    "\n",
    "    stats = inference_statistics(geo, mates, best_mates, best_types,prob_threshold, verbose=False)\n",
    "    statistics.append((sample, stats))"
   ]
  },
  {
   "cell_type": "code",
   "execution_count": 32,
   "id": "63beac12-fc7b-49c2-a720-ff6d30402e8f",
   "metadata": {},
   "outputs": [
    {
     "data": {
      "text/plain": [
       "140"
      ]
     },
     "execution_count": 32,
     "metadata": {},
     "output_type": "execute_result"
    }
   ],
   "source": [
    "len(statistics)"
   ]
  },
  {
   "cell_type": "code",
   "execution_count": 36,
   "id": "eca57dac-7735-4cd9-a8a5-b581d10c5555",
   "metadata": {},
   "outputs": [
    {
     "data": {
      "text/plain": [
       "dict_keys(['num_gt_mates', 'num_inferred_mates', 'missing_mates', 'extra_parts', 'misclassified', 'missing_duplicates', 'correctly_classified', 'mate_distances'])"
      ]
     },
     "execution_count": 36,
     "metadata": {},
     "output_type": "execute_result"
    }
   ],
   "source": [
    "statistics[0][1].keys()"
   ]
  },
  {
   "cell_type": "code",
   "execution_count": 37,
   "id": "540f7868-b557-4136-b7bf-cc0bb88fa9fd",
   "metadata": {},
   "outputs": [],
   "source": [
    "newstats = [(val, {k:stat[k] for k in stat if k != 'mate_distances'}) for val, stat in statistics]"
   ]
  },
  {
   "cell_type": "code",
   "execution_count": 40,
   "id": "11185f48-973f-4e66-8d59-f55506c2487e",
   "metadata": {},
   "outputs": [],
   "source": [
    "newstats_df = ps.DataFrame([stat[1] for stat in newstats], index = [stat[0] for stat in newstats])"
   ]
  },
  {
   "cell_type": "code",
   "execution_count": 42,
   "id": "e1295525-83b7-48a7-81be-c771ad759188",
   "metadata": {},
   "outputs": [],
   "source": [
    "precision = newstats_df['correctly_classified']/newstats_df['num_inferred_mates']\n",
    "recall = newstats_df['correctly_classified']/newstats_df['num_gt_mates']"
   ]
  },
  {
   "cell_type": "code",
   "execution_count": 43,
   "id": "dcae82a9-628b-461b-b7fa-627a9ab19441",
   "metadata": {},
   "outputs": [],
   "source": [
    "newstats_df['precision'] = precision\n",
    "newstats_df['recall'] = recall"
   ]
  },
  {
   "cell_type": "code",
   "execution_count": 49,
   "id": "e4e35ee8-57ee-413c-aee5-45b65bfe6be3",
   "metadata": {},
   "outputs": [
    {
     "data": {
      "text/plain": [
       "<AxesSubplot:>"
      ]
     },
     "execution_count": 49,
     "metadata": {},
     "output_type": "execute_result"
    },
    {
     "data": {
      "image/png": "[encoded data removed]",
      "text/plain": [
       "<Figure size 432x288 with 1 Axes>"
      ]
     },
     "metadata": {
      "needs_background": "light"
     },
     "output_type": "display_data"
    }
   ],
   "source": [
    "newstats_df['precision'].hist()"
   ]
  },
  {
   "cell_type": "code",
   "execution_count": 46,
   "id": "a1d1a654-1d2a-49f6-a3b4-a786c8ecf17e",
   "metadata": {},
   "outputs": [
    {
     "data": {
      "text/plain": [
       "<AxesSubplot:>"
      ]
     },
     "execution_count": 46,
     "metadata": {},
     "output_type": "execute_result"
    },
    {
     "data": {
      "image/png": "[encoded data removed]",
      "text/plain": [
       "<Figure size 432x288 with 1 Axes>"
      ]
     },
     "metadata": {
      "needs_background": "light"
     },
     "output_type": "display_data"
    }
   ],
   "source": [
    "newstats_df['recall'].hist()"
   ]
  },
  {
   "cell_type": "code",
   "execution_count": 51,
   "id": "40c37d2a-89a3-4db3-8782-9c9c8d91e4f3",
   "metadata": {},
   "outputs": [
    {
     "data": {
      "text/plain": [
       "<AxesSubplot:xlabel='num_gt_mates', ylabel='precision'>"
      ]
     },
     "execution_count": 51,
     "metadata": {},
     "output_type": "execute_result"
    },
    {
     "data": {
      "image/png": "[encoded data removed]",
      "text/plain": [
       "<Figure size 432x288 with 1 Axes>"
      ]
     },
     "metadata": {
      "needs_background": "light"
     },
     "output_type": "display_data"
    }
   ],
   "source": [
    "newstats_df.plot.scatter('num_gt_mates', 'precision')"
   ]
  },
  {
   "cell_type": "code",
   "execution_count": 52,
   "id": "5cb81fc3-ebe9-40c4-9152-8ed7d1815c76",
   "metadata": {},
   "outputs": [
    {
     "data": {
      "text/plain": [
       "<AxesSubplot:xlabel='num_gt_mates', ylabel='recall'>"
      ]
     },
     "execution_count": 52,
     "metadata": {},
     "output_type": "execute_result"
    },
    {
     "data": {
      "image/png": "[encoded data removed]",
      "text/plain": [
       "<Figure size 432x288 with 1 Axes>"
      ]
     },
     "metadata": {
      "needs_background": "light"
     },
     "output_type": "display_data"
    }
   ],
   "source": [
    "newstats_df.plot.scatter('num_gt_mates', 'recall')"
   ]
  },
  {
   "cell_type": "code",
   "execution_count": 54,
   "id": "313616ac-1749-4609-91af-f99f94a828e1",
   "metadata": {},
   "outputs": [
    {
     "data": {
      "text/plain": [
       "<AxesSubplot:xlabel='precision', ylabel='recall'>"
      ]
     },
     "execution_count": 54,
     "metadata": {},
     "output_type": "execute_result"
    },
    {
     "data": {
      "image/png": "[encoded data removed]",
      "text/plain": [
       "<Figure size 432x288 with 1 Axes>"
      ]
     },
     "metadata": {
      "needs_background": "light"
     },
     "output_type": "display_data"
    }
   ],
   "source": [
    "newstats_df.plot.scatter('precision', 'recall')"
   ]
  },
  {
   "cell_type": "code",
   "execution_count": 58,
   "id": "e36840d9-9134-4df5-9792-109d94785e3a",
   "metadata": {},
   "outputs": [],
   "source": [
    "newstats_df.to_parquet('preliminary_network_stats.parquet')"
   ]
  },
  {
   "cell_type": "code",
   "execution_count": null,
   "id": "6064208b-ca29-4add-b1a7-0b40463962f1",
   "metadata": {},
   "outputs": [],
   "source": []
  }
 ],
 "metadata": {
  "kernelspec": {
   "display_name": "Python 3 (ipykernel)",
   "language": "python",
   "name": "python3"
  },
  "language_info": {
   "codemirror_mode": {
    "name": "ipython",
    "version": 3
   },
   "file_extension": ".py",
   "mimetype": "text/x-python",
   "name": "python",
   "nbconvert_exporter": "python",
   "pygments_lexer": "ipython3",
   "version": "3.9.6"
  }
 },
 "nbformat": 4,
 "nbformat_minor": 5
}
